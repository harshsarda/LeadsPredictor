{
 "cells": [
  {
   "cell_type": "code",
   "execution_count": 1,
   "id": "01275724",
   "metadata": {},
   "outputs": [],
   "source": [
    "%load_ext autoreload\n",
    "%autoreload 2"
   ]
  },
  {
   "cell_type": "code",
   "execution_count": 2,
   "id": "3e472834",
   "metadata": {},
   "outputs": [],
   "source": [
    "import pandas as pd\n",
    "import numpy as np\n",
    "import os\n",
    "import warnings\n",
    "import sys\n",
    "import matplotlib.pyplot as plt"
   ]
  },
  {
   "cell_type": "code",
   "execution_count": 3,
   "id": "4cfbe560",
   "metadata": {},
   "outputs": [],
   "source": [
    "sys.path.append('/home/mondzi259/Apna_Assignment/src/ml_auto/')"
   ]
  },
  {
   "cell_type": "code",
   "execution_count": 4,
   "id": "59a39e95",
   "metadata": {},
   "outputs": [],
   "source": [
    "from custom_estimator import Estimator, scoring_metric\n",
    "from encoding import FreqeuncyEncoding,TargetEncoding\n",
    "from hyperopt_model_selection import HyperOptModelSelection,hp\n",
    "from custom_fold_generator import KFold,GroupKFold,CustomFolds\n",
    "from lightgbm import LGBMRegressor"
   ]
  },
  {
   "cell_type": "code",
   "execution_count": 5,
   "id": "f5ca01ff",
   "metadata": {},
   "outputs": [],
   "source": [
    "warnings.filterwarnings('ignore')"
   ]
  },
  {
   "cell_type": "code",
   "execution_count": 6,
   "id": "08888383",
   "metadata": {},
   "outputs": [],
   "source": [
    "pd.set_option('display.max_rows', 500)\n",
    "pd.set_option('display.max_columns', 500)\n",
    "pd.set_option('display.width', 1000)"
   ]
  },
  {
   "cell_type": "code",
   "execution_count": 7,
   "id": "8b0a8df1",
   "metadata": {},
   "outputs": [],
   "source": [
    "DATA_DIR = '/home/mondzi259/Apna_Assignment/data/'"
   ]
  },
  {
   "cell_type": "code",
   "execution_count": 8,
   "id": "143fd148",
   "metadata": {},
   "outputs": [
    {
     "data": {
      "text/plain": [
       "(30000, 19)"
      ]
     },
     "execution_count": 8,
     "metadata": {},
     "output_type": "execute_result"
    }
   ],
   "source": [
    "df = pd.read_excel(os.path.join(DATA_DIR,'data.xlsx'),sheet_name=0)\n",
    "df.shape"
   ]
  },
  {
   "cell_type": "code",
   "execution_count": 9,
   "id": "7a0873a6",
   "metadata": {},
   "outputs": [],
   "source": [
    "df.drop('feebackgiven',axis=1,inplace=True)"
   ]
  },
  {
   "cell_type": "code",
   "execution_count": 10,
   "id": "15325889",
   "metadata": {},
   "outputs": [],
   "source": [
    "data_dic = pd.read_excel(os.path.join(DATA_DIR,'data.xlsx'),sheet_name=1,header=None)"
   ]
  },
  {
   "cell_type": "code",
   "execution_count": 11,
   "id": "47c008f6",
   "metadata": {},
   "outputs": [
    {
     "data": {
      "text/html": [
       "<div>\n",
       "<style scoped>\n",
       "    .dataframe tbody tr th:only-of-type {\n",
       "        vertical-align: middle;\n",
       "    }\n",
       "\n",
       "    .dataframe tbody tr th {\n",
       "        vertical-align: top;\n",
       "    }\n",
       "\n",
       "    .dataframe thead th {\n",
       "        text-align: right;\n",
       "    }\n",
       "</style>\n",
       "<table border=\"1\" class=\"dataframe\">\n",
       "  <thead>\n",
       "    <tr style=\"text-align: right;\">\n",
       "      <th></th>\n",
       "      <th>0</th>\n",
       "      <th>1</th>\n",
       "      <th>2</th>\n",
       "      <th>3</th>\n",
       "    </tr>\n",
       "  </thead>\n",
       "  <tbody>\n",
       "    <tr>\n",
       "      <th>0</th>\n",
       "      <td>lead</td>\n",
       "      <td>A candidate who has interacted with HR on the ...</td>\n",
       "      <td>NaN</td>\n",
       "      <td>NaN</td>\n",
       "    </tr>\n",
       "    <tr>\n",
       "      <th>1</th>\n",
       "      <td>shift</td>\n",
       "      <td>night/ day</td>\n",
       "      <td>0 - day, 1 - night</td>\n",
       "      <td>NaN</td>\n",
       "    </tr>\n",
       "    <tr>\n",
       "      <th>2</th>\n",
       "      <td>gender</td>\n",
       "      <td>f/m/all</td>\n",
       "      <td>0 -  male jobs, 1 - female , 2 - all</td>\n",
       "      <td>NaN</td>\n",
       "    </tr>\n",
       "    <tr>\n",
       "      <th>3</th>\n",
       "      <td>education</td>\n",
       "      <td>10th to PG</td>\n",
       "      <td>ordinally placed, 10th being lowest and PG the...</td>\n",
       "      <td>NaN</td>\n",
       "    </tr>\n",
       "    <tr>\n",
       "      <th>4</th>\n",
       "      <td>created_on</td>\n",
       "      <td>job created date</td>\n",
       "      <td>Days since a fixed reference data</td>\n",
       "      <td>For ex: if reference data was 1 Jan 2020,\\njob...</td>\n",
       "    </tr>\n",
       "    <tr>\n",
       "      <th>5</th>\n",
       "      <td>employer_type</td>\n",
       "      <td>key-account/ smb/ enterprise/ consultant/ NA</td>\n",
       "      <td>most jobs are smb, followed by Key accounts, e...</td>\n",
       "      <td>NaN</td>\n",
       "    </tr>\n",
       "    <tr>\n",
       "      <th>6</th>\n",
       "      <td>applicant_location</td>\n",
       "      <td>candidate distance from job</td>\n",
       "      <td>lower the value, lower the distance requirement</td>\n",
       "      <td>NaN</td>\n",
       "    </tr>\n",
       "    <tr>\n",
       "      <th>7</th>\n",
       "      <td>city</td>\n",
       "      <td>city</td>\n",
       "      <td>is masked</td>\n",
       "      <td>NaN</td>\n",
       "    </tr>\n",
       "    <tr>\n",
       "      <th>8</th>\n",
       "      <td>area</td>\n",
       "      <td>area</td>\n",
       "      <td>is masked</td>\n",
       "      <td>NaN</td>\n",
       "    </tr>\n",
       "    <tr>\n",
       "      <th>9</th>\n",
       "      <td>organization</td>\n",
       "      <td>company name</td>\n",
       "      <td>is masked</td>\n",
       "      <td>NaN</td>\n",
       "    </tr>\n",
       "    <tr>\n",
       "      <th>10</th>\n",
       "      <td>deposit</td>\n",
       "      <td>requires a deposit</td>\n",
       "      <td>majority don't require a deposit</td>\n",
       "      <td>actual amounts are masked</td>\n",
       "    </tr>\n",
       "    <tr>\n",
       "      <th>11</th>\n",
       "      <td>category</td>\n",
       "      <td>delivery/driver/...</td>\n",
       "      <td>is masked</td>\n",
       "      <td>NaN</td>\n",
       "    </tr>\n",
       "    <tr>\n",
       "      <th>12</th>\n",
       "      <td>english</td>\n",
       "      <td>no/broken-english/good-english/fluent</td>\n",
       "      <td>higher the value, higher the quality of englis...</td>\n",
       "      <td>NaN</td>\n",
       "    </tr>\n",
       "    <tr>\n",
       "      <th>13</th>\n",
       "      <td>num_openings</td>\n",
       "      <td>no of people to recruit</td>\n",
       "      <td>NaN</td>\n",
       "      <td>NaN</td>\n",
       "    </tr>\n",
       "    <tr>\n",
       "      <th>14</th>\n",
       "      <td>max_salary</td>\n",
       "      <td>salary</td>\n",
       "      <td>as is</td>\n",
       "      <td>NaN</td>\n",
       "    </tr>\n",
       "    <tr>\n",
       "      <th>15</th>\n",
       "      <td>is_part_time</td>\n",
       "      <td>yes/no</td>\n",
       "      <td>majority are full time jobs</td>\n",
       "      <td>NaN</td>\n",
       "    </tr>\n",
       "    <tr>\n",
       "      <th>16</th>\n",
       "      <td>feedbackgiven</td>\n",
       "      <td>yes/no</td>\n",
       "      <td>majority don't have feedbackgiven</td>\n",
       "      <td>NaN</td>\n",
       "    </tr>\n",
       "    <tr>\n",
       "      <th>17</th>\n",
       "      <td>leads_per_opening</td>\n",
       "      <td>NaN</td>\n",
       "      <td>leads/ num_openings for the job</td>\n",
       "      <td>NaN</td>\n",
       "    </tr>\n",
       "    <tr>\n",
       "      <th>18</th>\n",
       "      <td>dow</td>\n",
       "      <td>day of the week</td>\n",
       "      <td>NaN</td>\n",
       "      <td>NaN</td>\n",
       "    </tr>\n",
       "  </tbody>\n",
       "</table>\n",
       "</div>"
      ],
      "text/plain": [
       "                     0                                                  1                                                  2                                                  3\n",
       "0                 lead  A candidate who has interacted with HR on the ...                                                NaN                                                NaN\n",
       "1                shift                                         night/ day                                0 - day, 1 - night                                                 NaN\n",
       "2               gender                                            f/m/all               0 -  male jobs, 1 - female , 2 - all                                                NaN\n",
       "3            education                                        10th to PG   ordinally placed, 10th being lowest and PG the...                                                NaN\n",
       "4           created_on                                   job created date                  Days since a fixed reference data  For ex: if reference data was 1 Jan 2020,\\njob...\n",
       "5        employer_type       key-account/ smb/ enterprise/ consultant/ NA  most jobs are smb, followed by Key accounts, e...                                                NaN\n",
       "6   applicant_location                        candidate distance from job    lower the value, lower the distance requirement                                                NaN\n",
       "7                 city                                               city                                          is masked                                                NaN\n",
       "8                 area                                               area                                          is masked                                                NaN\n",
       "9         organization                                       company name                                          is masked                                                NaN\n",
       "10             deposit                                 requires a deposit                   majority don't require a deposit                          actual amounts are masked\n",
       "11            category                                delivery/driver/...                                          is masked                                                NaN\n",
       "12             english              no/broken-english/good-english/fluent  higher the value, higher the quality of englis...                                                NaN\n",
       "13        num_openings                            no of people to recruit                                                NaN                                                NaN\n",
       "14          max_salary                                             salary                                              as is                                                NaN\n",
       "15        is_part_time                                             yes/no                        majority are full time jobs                                                NaN\n",
       "16       feedbackgiven                                             yes/no                  majority don't have feedbackgiven                                                NaN\n",
       "17   leads_per_opening                                                NaN                    leads/ num_openings for the job                                                NaN\n",
       "18                 dow                                    day of the week                                                NaN                                                NaN"
      ]
     },
     "execution_count": 11,
     "metadata": {},
     "output_type": "execute_result"
    }
   ],
   "source": [
    "data_dic"
   ]
  },
  {
   "cell_type": "code",
   "execution_count": 12,
   "id": "97977313",
   "metadata": {},
   "outputs": [
    {
     "data": {
      "text/html": [
       "<div>\n",
       "<style scoped>\n",
       "    .dataframe tbody tr th:only-of-type {\n",
       "        vertical-align: middle;\n",
       "    }\n",
       "\n",
       "    .dataframe tbody tr th {\n",
       "        vertical-align: top;\n",
       "    }\n",
       "\n",
       "    .dataframe thead th {\n",
       "        text-align: right;\n",
       "    }\n",
       "</style>\n",
       "<table border=\"1\" class=\"dataframe\">\n",
       "  <thead>\n",
       "    <tr style=\"text-align: right;\">\n",
       "      <th></th>\n",
       "      <th>shift</th>\n",
       "      <th>gender</th>\n",
       "      <th>education</th>\n",
       "      <th>created_on</th>\n",
       "      <th>dow</th>\n",
       "      <th>employer_type</th>\n",
       "      <th>applicant_location</th>\n",
       "      <th>city</th>\n",
       "      <th>area</th>\n",
       "      <th>organization</th>\n",
       "      <th>deposit</th>\n",
       "      <th>category</th>\n",
       "      <th>english</th>\n",
       "      <th>num_openings</th>\n",
       "      <th>max_salary</th>\n",
       "      <th>min_salary</th>\n",
       "      <th>is_part_time</th>\n",
       "      <th>leads_per_opening</th>\n",
       "    </tr>\n",
       "  </thead>\n",
       "  <tbody>\n",
       "    <tr>\n",
       "      <th>0</th>\n",
       "      <td>0.0</td>\n",
       "      <td>0.0</td>\n",
       "      <td>3.0</td>\n",
       "      <td>413.0</td>\n",
       "      <td>3.0</td>\n",
       "      <td>0.0</td>\n",
       "      <td>0.0</td>\n",
       "      <td>1.0</td>\n",
       "      <td>4119.0</td>\n",
       "      <td>31278.0</td>\n",
       "      <td>0.0</td>\n",
       "      <td>55.0</td>\n",
       "      <td>2.0</td>\n",
       "      <td>22.0</td>\n",
       "      <td>21000.0</td>\n",
       "      <td>NaN</td>\n",
       "      <td>0.0</td>\n",
       "      <td>0.090909</td>\n",
       "    </tr>\n",
       "    <tr>\n",
       "      <th>1</th>\n",
       "      <td>0.0</td>\n",
       "      <td>0.0</td>\n",
       "      <td>3.0</td>\n",
       "      <td>529.0</td>\n",
       "      <td>0.0</td>\n",
       "      <td>4.0</td>\n",
       "      <td>0.0</td>\n",
       "      <td>2.0</td>\n",
       "      <td>2017.0</td>\n",
       "      <td>32006.0</td>\n",
       "      <td>0.0</td>\n",
       "      <td>54.0</td>\n",
       "      <td>2.0</td>\n",
       "      <td>2.0</td>\n",
       "      <td>80000.0</td>\n",
       "      <td>NaN</td>\n",
       "      <td>0.0</td>\n",
       "      <td>31.500000</td>\n",
       "    </tr>\n",
       "    <tr>\n",
       "      <th>2</th>\n",
       "      <td>0.0</td>\n",
       "      <td>0.0</td>\n",
       "      <td>0.0</td>\n",
       "      <td>457.0</td>\n",
       "      <td>0.0</td>\n",
       "      <td>4.0</td>\n",
       "      <td>0.0</td>\n",
       "      <td>3.0</td>\n",
       "      <td>1500.0</td>\n",
       "      <td>32029.0</td>\n",
       "      <td>0.0</td>\n",
       "      <td>42.0</td>\n",
       "      <td>3.0</td>\n",
       "      <td>1.0</td>\n",
       "      <td>3500.0</td>\n",
       "      <td>NaN</td>\n",
       "      <td>1.0</td>\n",
       "      <td>9.000000</td>\n",
       "    </tr>\n",
       "    <tr>\n",
       "      <th>3</th>\n",
       "      <td>0.0</td>\n",
       "      <td>0.0</td>\n",
       "      <td>4.0</td>\n",
       "      <td>450.0</td>\n",
       "      <td>3.0</td>\n",
       "      <td>4.0</td>\n",
       "      <td>0.0</td>\n",
       "      <td>5.0</td>\n",
       "      <td>638.0</td>\n",
       "      <td>9925.0</td>\n",
       "      <td>0.0</td>\n",
       "      <td>60.0</td>\n",
       "      <td>4.0</td>\n",
       "      <td>4.0</td>\n",
       "      <td>11500.0</td>\n",
       "      <td>NaN</td>\n",
       "      <td>0.0</td>\n",
       "      <td>0.000000</td>\n",
       "    </tr>\n",
       "    <tr>\n",
       "      <th>4</th>\n",
       "      <td>0.0</td>\n",
       "      <td>0.0</td>\n",
       "      <td>0.0</td>\n",
       "      <td>480.0</td>\n",
       "      <td>0.0</td>\n",
       "      <td>1.0</td>\n",
       "      <td>0.0</td>\n",
       "      <td>2.0</td>\n",
       "      <td>4115.0</td>\n",
       "      <td>8400.0</td>\n",
       "      <td>0.0</td>\n",
       "      <td>16.0</td>\n",
       "      <td>3.0</td>\n",
       "      <td>25.0</td>\n",
       "      <td>25000.0</td>\n",
       "      <td>NaN</td>\n",
       "      <td>0.0</td>\n",
       "      <td>1.400000</td>\n",
       "    </tr>\n",
       "  </tbody>\n",
       "</table>\n",
       "</div>"
      ],
      "text/plain": [
       "   shift  gender  education  created_on  dow  employer_type  applicant_location  city    area  organization  deposit  category  english  num_openings  max_salary  min_salary  is_part_time  leads_per_opening\n",
       "0    0.0     0.0        3.0       413.0  3.0            0.0                 0.0   1.0  4119.0       31278.0      0.0      55.0      2.0          22.0     21000.0         NaN           0.0           0.090909\n",
       "1    0.0     0.0        3.0       529.0  0.0            4.0                 0.0   2.0  2017.0       32006.0      0.0      54.0      2.0           2.0     80000.0         NaN           0.0          31.500000\n",
       "2    0.0     0.0        0.0       457.0  0.0            4.0                 0.0   3.0  1500.0       32029.0      0.0      42.0      3.0           1.0      3500.0         NaN           1.0           9.000000\n",
       "3    0.0     0.0        4.0       450.0  3.0            4.0                 0.0   5.0   638.0        9925.0      0.0      60.0      4.0           4.0     11500.0         NaN           0.0           0.000000\n",
       "4    0.0     0.0        0.0       480.0  0.0            1.0                 0.0   2.0  4115.0        8400.0      0.0      16.0      3.0          25.0     25000.0         NaN           0.0           1.400000"
      ]
     },
     "execution_count": 12,
     "metadata": {},
     "output_type": "execute_result"
    }
   ],
   "source": [
    "df.head()"
   ]
  },
  {
   "cell_type": "markdown",
   "id": "6da48d90",
   "metadata": {},
   "source": [
    "### Target vs created_on"
   ]
  },
  {
   "cell_type": "code",
   "execution_count": 13,
   "id": "88b62a3d",
   "metadata": {},
   "outputs": [
    {
     "data": {
      "image/png": "[encoded data removed]",
      "text/plain": [
       "<Figure size 432x288 with 1 Axes>"
      ]
     },
     "metadata": {
      "needs_background": "light"
     },
     "output_type": "display_data"
    }
   ],
   "source": [
    "df.groupby(pd.qcut(df['created_on'],10,\n",
    "                   duplicates='drop',labels=False))['leads_per_opening'].mean().plot()\n",
    "plt.ylabel('leads_per_opening')\n",
    "plt.title('Decile Plot of leads_per_opening vs created_on');"
   ]
  },
  {
   "cell_type": "markdown",
   "id": "c08dd55a",
   "metadata": {},
   "source": [
    "### "
   ]
  },
  {
   "cell_type": "code",
   "execution_count": 14,
   "id": "5bcf96af",
   "metadata": {},
   "outputs": [],
   "source": [
    "num_cols = ['leads_per_opening','max_salary','min_salary','deposit','num_openings','created_on']\n",
    "cat_cols = [i for i in df.columns.tolist() if i not in num_cols]\n",
    "cat_ordinal_cols = ['applicant_location','english','education']\n",
    "cat_non_ord_cols = [i for i in cat_cols if i not in cat_ordinal_cols]"
   ]
  },
  {
   "cell_type": "code",
   "execution_count": 15,
   "id": "8d24ebff",
   "metadata": {},
   "outputs": [
    {
     "data": {
      "text/plain": [
       "(['shift',\n",
       "  'gender',\n",
       "  'dow',\n",
       "  'employer_type',\n",
       "  'city',\n",
       "  'area',\n",
       "  'organization',\n",
       "  'category',\n",
       "  'is_part_time'],\n",
       " ['applicant_location', 'english', 'education'])"
      ]
     },
     "execution_count": 15,
     "metadata": {},
     "output_type": "execute_result"
    }
   ],
   "source": [
    "cat_non_ord_cols,cat_ordinal_cols"
   ]
  },
  {
   "cell_type": "code",
   "execution_count": 16,
   "id": "64db555a",
   "metadata": {},
   "outputs": [
    {
     "data": {
      "text/plain": [
       "shift                     2\n",
       "gender                    3\n",
       "education                 6\n",
       "dow                       7\n",
       "employer_type             5\n",
       "applicant_location        4\n",
       "city                      7\n",
       "area                   2740\n",
       "organization          14886\n",
       "category                 67\n",
       "english                   4\n",
       "is_part_time              2\n",
       "dtype: int64"
      ]
     },
     "execution_count": 16,
     "metadata": {},
     "output_type": "execute_result"
    }
   ],
   "source": [
    "df[cat_cols].nunique()"
   ]
  },
  {
   "cell_type": "code",
   "execution_count": 17,
   "id": "3189b565",
   "metadata": {},
   "outputs": [],
   "source": [
    "class FreqEnc:\n",
    "    def __init__(self,cat_freq_cols):\n",
    "        self.cat_freq_cols = cat_freq_cols\n",
    "    def fit(self,df):\n",
    "        self.freq_encoding_dict = {\n",
    "                x: df[x].value_counts(1).to_dict() for x in self.cat_freq_cols\n",
    "            }\n",
    "    def transform(self,df):\n",
    "        for col in self.cat_freq_cols:\n",
    "            df[col+\"_fe\"] = df[col].map(self.freq_encoding_dict[col]).fillna(0)\n",
    "        return df\n",
    "    def fit_transform(self,df):\n",
    "        self.fit(df)\n",
    "        return self.transform(df)"
   ]
  },
  {
   "cell_type": "code",
   "execution_count": 18,
   "id": "f7b4f08f",
   "metadata": {},
   "outputs": [],
   "source": [
    "df=df.sort_values('created_on').reset_index(drop=True)"
   ]
  },
  {
   "cell_type": "code",
   "execution_count": 19,
   "id": "fced750d",
   "metadata": {},
   "outputs": [
    {
     "data": {
      "text/plain": [
       "(30000, 18)"
      ]
     },
     "execution_count": 19,
     "metadata": {},
     "output_type": "execute_result"
    }
   ],
   "source": [
    "df.shape"
   ]
  },
  {
   "cell_type": "code",
   "execution_count": 20,
   "id": "8772bc1a",
   "metadata": {},
   "outputs": [],
   "source": [
    "df['target'] = np.log1p(df.leads_per_opening)"
   ]
  },
  {
   "cell_type": "code",
   "execution_count": 21,
   "id": "61aff30f",
   "metadata": {},
   "outputs": [
    {
     "data": {
      "image/png": "[encoded data removed]",
      "text/plain": [
       "<Figure size 432x288 with 2 Axes>"
      ]
     },
     "metadata": {
      "needs_background": "light"
     },
     "output_type": "display_data"
    }
   ],
   "source": [
    "fig, axes = plt.subplots(1, 2, figsize=(6, 4))\n",
    "df.leads_per_opening.hist(ax=axes[0])\n",
    "axes[0].set_title('leads_per_opening')\n",
    "df.target.hist(ax=axes[1])\n",
    "axes[1].set_title('log1p leads_per_opening')\n",
    "plt.tight_layout()"
   ]
  },
  {
   "cell_type": "code",
   "execution_count": 22,
   "id": "d5893f91",
   "metadata": {},
   "outputs": [
    {
     "data": {
      "text/plain": [
       "count    30000.000000\n",
       "mean         1.507317\n",
       "std          1.264234\n",
       "min          0.000000\n",
       "25%          0.385158\n",
       "50%          1.299283\n",
       "75%          2.397895\n",
       "max          6.559615\n",
       "Name: target, dtype: float64"
      ]
     },
     "execution_count": 22,
     "metadata": {},
     "output_type": "execute_result"
    }
   ],
   "source": [
    "df.target.describe()"
   ]
  },
  {
   "cell_type": "code",
   "execution_count": 23,
   "id": "41ebbbbb",
   "metadata": {},
   "outputs": [],
   "source": [
    "folds =[\n",
    "    (df[(df.created_on<=df.created_on.quantile(0.7))].index.tolist(),\\\n",
    "df[(df.created_on>df.created_on.quantile(0.7))&\\\n",
    "      (df.created_on<=df.created_on.quantile(0.8))].index.tolist()),\n",
    "    \n",
    "    (df[(df.created_on>=df.created_on.quantile(0.1))&\\\n",
    "      (df.created_on<=df.created_on.quantile(0.8))].index.tolist(),\\\n",
    "df[(df.created_on>df.created_on.quantile(0.8))&\\\n",
    "      (df.created_on<=df.created_on.quantile(0.9))].index.tolist()),\n",
    "    \n",
    "    (df[(df.created_on>=df.created_on.quantile(0.2))&\\\n",
    "      (df.created_on<=df.created_on.quantile(0.9))].index.tolist(),\\\n",
    "df[(df.created_on>df.created_on.quantile(0.9))&\\\n",
    "      (df.created_on<=df.created_on.quantile(1))].index.tolist())\n",
    "]"
   ]
  },
  {
   "cell_type": "code",
   "execution_count": 24,
   "id": "94e38b04",
   "metadata": {},
   "outputs": [
    {
     "data": {
      "text/plain": [
       "[((21137, 19), (3031, 19)),\n",
       " ((21191, 19), (2865, 19)),\n",
       " ((21073, 19), (2967, 19))]"
      ]
     },
     "execution_count": 24,
     "metadata": {},
     "output_type": "execute_result"
    }
   ],
   "source": [
    "[(df.iloc[i].shape,df.iloc[j].shape) for i,j in folds]"
   ]
  },
  {
   "cell_type": "code",
   "execution_count": 25,
   "id": "6fb8ab4f",
   "metadata": {},
   "outputs": [],
   "source": [
    "target = df.target.values"
   ]
  },
  {
   "cell_type": "code",
   "execution_count": 26,
   "id": "7d1549f4",
   "metadata": {},
   "outputs": [],
   "source": [
    "fe = FreqEnc(cat_freq_cols=cat_non_ord_cols)\n",
    "\n",
    "df = fe.fit_transform(df)"
   ]
  },
  {
   "cell_type": "code",
   "execution_count": 27,
   "id": "9fa79ac1",
   "metadata": {},
   "outputs": [
    {
     "data": {
      "text/plain": [
       "count     4117.000000\n",
       "mean      6104.805441\n",
       "std       6419.603169\n",
       "min      -2000.000000\n",
       "25%       2000.000000\n",
       "50%       5000.000000\n",
       "75%       7500.000000\n",
       "max      96399.000000\n",
       "dtype: float64"
      ]
     },
     "execution_count": 27,
     "metadata": {},
     "output_type": "execute_result"
    }
   ],
   "source": [
    "(df['max_salary']-df.min_salary).describe()"
   ]
  },
  {
   "cell_type": "code",
   "execution_count": 28,
   "id": "37084b4b",
   "metadata": {
    "scrolled": true
   },
   "outputs": [
    {
     "data": {
      "text/plain": [
       "(30000, 28)"
      ]
     },
     "execution_count": 28,
     "metadata": {},
     "output_type": "execute_result"
    }
   ],
   "source": [
    "df.shape"
   ]
  },
  {
   "cell_type": "code",
   "execution_count": 29,
   "id": "c9bdd1b0",
   "metadata": {},
   "outputs": [
    {
     "data": {
      "text/plain": [
       "shift                2\n",
       "gender               3\n",
       "dow                  7\n",
       "employer_type        5\n",
       "city                 7\n",
       "area              2740\n",
       "organization     14886\n",
       "category            67\n",
       "is_part_time         2\n",
       "dtype: int64"
      ]
     },
     "execution_count": 29,
     "metadata": {},
     "output_type": "execute_result"
    }
   ],
   "source": [
    "df[cat_non_ord_cols].nunique()"
   ]
  },
  {
   "cell_type": "code",
   "execution_count": 30,
   "id": "3afc4803",
   "metadata": {},
   "outputs": [
    {
     "data": {
      "text/plain": [
       "applicant_location    4\n",
       "english               4\n",
       "education             6\n",
       "dtype: int64"
      ]
     },
     "execution_count": 30,
     "metadata": {},
     "output_type": "execute_result"
    }
   ],
   "source": [
    "df[cat_ordinal_cols].nunique()"
   ]
  },
  {
   "cell_type": "markdown",
   "id": "9c7cdde7",
   "metadata": {},
   "source": [
    "### One Hot Encoding => decreases the performance"
   ]
  },
  {
   "cell_type": "code",
   "execution_count": 31,
   "id": "e887d6d3",
   "metadata": {},
   "outputs": [],
   "source": [
    "ohe_cols = ['city','dow','employer_type']"
   ]
  },
  {
   "cell_type": "code",
   "execution_count": 32,
   "id": "4b0eb7f0",
   "metadata": {},
   "outputs": [
    {
     "data": {
      "text/plain": [
       "city             7\n",
       "dow              7\n",
       "employer_type    5\n",
       "dtype: int64"
      ]
     },
     "execution_count": 32,
     "metadata": {},
     "output_type": "execute_result"
    }
   ],
   "source": [
    "df[ohe_cols].nunique()"
   ]
  },
  {
   "cell_type": "code",
   "execution_count": 33,
   "id": "985c0505",
   "metadata": {},
   "outputs": [
    {
     "data": {
      "text/plain": [
       "((30000, 47), (30000, 19))"
      ]
     },
     "execution_count": 33,
     "metadata": {},
     "output_type": "execute_result"
    }
   ],
   "source": [
    "from sklearn.preprocessing import OneHotEncoder\n",
    "\n",
    "ohe = OneHotEncoder(sparse=False, handle_unknown=\"ignore\")\n",
    "\n",
    "temp = ohe.fit_transform(df[ohe_cols])\n",
    "temp = pd.DataFrame(\n",
    "    temp,\n",
    "    columns=[ohe_cols[i] + '_' + str(j) +'_ohe' for i in range(len(ohe_cols)) for j in ohe.categories_[i]],\n",
    ")\n",
    "df=pd.concat([df, temp], axis=1)\n",
    "df.shape,temp.shape"
   ]
  },
  {
   "cell_type": "markdown",
   "id": "da42cfe3",
   "metadata": {},
   "source": [
    "### Adding freq encoding for cat_ordinal_cols => decreases the performance"
   ]
  },
  {
   "cell_type": "code",
   "execution_count": 57,
   "id": "57ef6d63",
   "metadata": {},
   "outputs": [
    {
     "data": {
      "text/plain": [
       "['applicant_location', 'english', 'education']"
      ]
     },
     "execution_count": 57,
     "metadata": {},
     "output_type": "execute_result"
    }
   ],
   "source": [
    "cat_ordinal_cols"
   ]
  },
  {
   "cell_type": "code",
   "execution_count": 34,
   "id": "c5c741e0",
   "metadata": {},
   "outputs": [],
   "source": [
    "fe1 = FreqEnc(cat_freq_cols=cat_ordinal_cols)\n",
    "\n",
    "df = fe1.fit_transform(df)"
   ]
  },
  {
   "cell_type": "code",
   "execution_count": 58,
   "id": "8c3a4461",
   "metadata": {},
   "outputs": [
    {
     "data": {
      "text/plain": [
       "['shift',\n",
       " 'gender',\n",
       " 'dow',\n",
       " 'employer_type',\n",
       " 'city',\n",
       " 'area',\n",
       " 'organization',\n",
       " 'category',\n",
       " 'is_part_time']"
      ]
     },
     "execution_count": 58,
     "metadata": {},
     "output_type": "execute_result"
    }
   ],
   "source": [
    "cat_non_ord_cols"
   ]
  },
  {
   "cell_type": "code",
   "execution_count": 217,
   "id": "82921c93",
   "metadata": {},
   "outputs": [],
   "source": [
    "remove_cols = [i for i in cat_non_ord_cols if i not in ['city','dow','employer_type']] + ['target','leads_per_opening'] + ['applicant_location_fe',\n",
    " 'english_fe',\n",
    " 'education_fe'] + [\n",
    "#     'city_0.0_ohe',\n",
    "#  'city_1.0_ohe',\n",
    "#  'city_2.0_ohe',\n",
    "#  'city_3.0_ohe',\n",
    "#  'city_4.0_ohe',\n",
    "#  'city_5.0_ohe',\n",
    "#  'city_6.0_ohe',\n",
    " 'dow_0.0_ohe',\n",
    " 'dow_1.0_ohe',\n",
    " 'dow_2.0_ohe',\n",
    " 'dow_3.0_ohe',\n",
    " 'dow_4.0_ohe',\n",
    " 'dow_5.0_ohe',\n",
    " 'dow_6.0_ohe',\n",
    " 'employer_type_0.0_ohe', 'employer_type_1.0_ohe', 'employer_type_2.0_ohe', 'employer_type_3.0_ohe', 'employer_type_4.0_ohe',\n",
    " \n",
    "]"
   ]
  },
  {
   "cell_type": "code",
   "execution_count": 218,
   "id": "b1bbe39c",
   "metadata": {},
   "outputs": [],
   "source": [
    "use_cols = [i for i in df.columns if i not in remove_cols]"
   ]
  },
  {
   "cell_type": "code",
   "execution_count": 219,
   "id": "2e3dd16a",
   "metadata": {},
   "outputs": [
    {
     "data": {
      "text/plain": [
       "['education',\n",
       " 'created_on',\n",
       " 'dow',\n",
       " 'employer_type',\n",
       " 'applicant_location',\n",
       " 'city',\n",
       " 'deposit',\n",
       " 'english',\n",
       " 'num_openings',\n",
       " 'max_salary',\n",
       " 'min_salary',\n",
       " 'shift_fe',\n",
       " 'gender_fe',\n",
       " 'dow_fe',\n",
       " 'employer_type_fe',\n",
       " 'city_fe',\n",
       " 'area_fe',\n",
       " 'organization_fe',\n",
       " 'category_fe',\n",
       " 'is_part_time_fe',\n",
       " 'city_0.0_ohe',\n",
       " 'city_1.0_ohe',\n",
       " 'city_2.0_ohe',\n",
       " 'city_3.0_ohe',\n",
       " 'city_4.0_ohe',\n",
       " 'city_5.0_ohe',\n",
       " 'city_6.0_ohe']"
      ]
     },
     "execution_count": 219,
     "metadata": {},
     "output_type": "execute_result"
    }
   ],
   "source": [
    "use_cols"
   ]
  },
  {
   "cell_type": "code",
   "execution_count": 220,
   "id": "b830d44c",
   "metadata": {
    "scrolled": true
   },
   "outputs": [
    {
     "data": {
      "text/plain": [
       "(30000, 50)"
      ]
     },
     "execution_count": 220,
     "metadata": {},
     "output_type": "execute_result"
    }
   ],
   "source": [
    "df.shape"
   ]
  },
  {
   "cell_type": "code",
   "execution_count": 221,
   "id": "4ec3b0b6",
   "metadata": {},
   "outputs": [],
   "source": [
    "params = {'boosting_type': 'gbdt',\n",
    " 'colsample_bytree': 0.8,\n",
    " 'learning_rate': 0.1,\n",
    " 'min_child_samples': 120,\n",
    " 'n_estimators': 10000,\n",
    " 'n_jobs': -1,\n",
    " 'num_leaves': 16,\n",
    " 'objective': 'regression',\n",
    " 'subsample': 0.8,\n",
    " 'subsample_freq': 10}"
   ]
  },
  {
   "cell_type": "code",
   "execution_count": 222,
   "id": "992fcdf0",
   "metadata": {},
   "outputs": [],
   "source": [
    "est = Estimator(model=LGBMRegressor(**params),\n",
    "               early_stopping_rounds=100,\n",
    "               validation_scheme=folds,\n",
    "               shuffle=True)"
   ]
  },
  {
   "cell_type": "code",
   "execution_count": 223,
   "id": "ddc95c56",
   "metadata": {},
   "outputs": [
    {
     "name": "stdout",
     "output_type": "stream",
     "text": [
      "[100]\tvalid_0's rmse: 0.91897\tvalid_0's l2: 0.844505\tvalid_1's rmse: 0.842911\tvalid_1's l2: 0.710499\n",
      "[200]\tvalid_0's rmse: 0.91436\tvalid_0's l2: 0.836054\tvalid_1's rmse: 0.809456\tvalid_1's l2: 0.655219\n",
      "[100]\tvalid_0's rmse: 0.854272\tvalid_0's l2: 0.729781\tvalid_1's rmse: 0.846873\tvalid_1's l2: 0.717194\n",
      "[200]\tvalid_0's rmse: 0.84384\tvalid_0's l2: 0.712065\tvalid_1's rmse: 0.812408\tvalid_1's l2: 0.660007\n",
      "[300]\tvalid_0's rmse: 0.841444\tvalid_0's l2: 0.708028\tvalid_1's rmse: 0.790227\tvalid_1's l2: 0.624458\n",
      "[100]\tvalid_0's rmse: 0.87797\tvalid_0's l2: 0.770831\tvalid_1's rmse: 0.840997\tvalid_1's l2: 0.707277\n",
      "[200]\tvalid_0's rmse: 0.870194\tvalid_0's l2: 0.757238\tvalid_1's rmse: 0.808963\tvalid_1's l2: 0.654422\n"
     ]
    },
    {
     "data": {
      "text/plain": [
       "{'cv_scores': [0.9136057627838333, 0.841245773722626, 0.8681819701763268],\n",
       " 'avg_cv_score': 0.8743445022275953,\n",
       " 'std_scores': 0.02986050463066217,\n",
       " 'overall_cv_score': 1.7158068524961358,\n",
       " 'eval_score': 0.8743445022275953}"
      ]
     },
     "execution_count": 223,
     "metadata": {},
     "output_type": "execute_result"
    }
   ],
   "source": [
    "est.get_repeated_out_of_folds(df[use_cols].values,target)"
   ]
  },
  {
   "cell_type": "code",
   "execution_count": 224,
   "id": "2730605e",
   "metadata": {
    "scrolled": false
   },
   "outputs": [
    {
     "data": {
      "text/html": [
       "<div>\n",
       "<style scoped>\n",
       "    .dataframe tbody tr th:only-of-type {\n",
       "        vertical-align: middle;\n",
       "    }\n",
       "\n",
       "    .dataframe tbody tr th {\n",
       "        vertical-align: top;\n",
       "    }\n",
       "\n",
       "    .dataframe thead th {\n",
       "        text-align: right;\n",
       "    }\n",
       "</style>\n",
       "<table border=\"1\" class=\"dataframe\">\n",
       "  <thead>\n",
       "    <tr style=\"text-align: right;\">\n",
       "      <th></th>\n",
       "      <th>column</th>\n",
       "      <th>feature_importance</th>\n",
       "      <th>rank</th>\n",
       "      <th>cum_imp</th>\n",
       "    </tr>\n",
       "  </thead>\n",
       "  <tbody>\n",
       "    <tr>\n",
       "      <th>18</th>\n",
       "      <td>category_fe</td>\n",
       "      <td>0.262419</td>\n",
       "      <td>1</td>\n",
       "      <td>0.262419</td>\n",
       "    </tr>\n",
       "    <tr>\n",
       "      <th>1</th>\n",
       "      <td>created_on</td>\n",
       "      <td>0.105471</td>\n",
       "      <td>2</td>\n",
       "      <td>0.367890</td>\n",
       "    </tr>\n",
       "    <tr>\n",
       "      <th>9</th>\n",
       "      <td>max_salary</td>\n",
       "      <td>0.096479</td>\n",
       "      <td>3</td>\n",
       "      <td>0.464369</td>\n",
       "    </tr>\n",
       "    <tr>\n",
       "      <th>16</th>\n",
       "      <td>area_fe</td>\n",
       "      <td>0.088833</td>\n",
       "      <td>4</td>\n",
       "      <td>0.553202</td>\n",
       "    </tr>\n",
       "    <tr>\n",
       "      <th>8</th>\n",
       "      <td>num_openings</td>\n",
       "      <td>0.075704</td>\n",
       "      <td>5</td>\n",
       "      <td>0.628906</td>\n",
       "    </tr>\n",
       "    <tr>\n",
       "      <th>0</th>\n",
       "      <td>education</td>\n",
       "      <td>0.059932</td>\n",
       "      <td>6</td>\n",
       "      <td>0.688837</td>\n",
       "    </tr>\n",
       "    <tr>\n",
       "      <th>17</th>\n",
       "      <td>organization_fe</td>\n",
       "      <td>0.059687</td>\n",
       "      <td>7</td>\n",
       "      <td>0.748525</td>\n",
       "    </tr>\n",
       "    <tr>\n",
       "      <th>7</th>\n",
       "      <td>english</td>\n",
       "      <td>0.041129</td>\n",
       "      <td>8</td>\n",
       "      <td>0.789653</td>\n",
       "    </tr>\n",
       "    <tr>\n",
       "      <th>15</th>\n",
       "      <td>city_fe</td>\n",
       "      <td>0.037599</td>\n",
       "      <td>9</td>\n",
       "      <td>0.827252</td>\n",
       "    </tr>\n",
       "    <tr>\n",
       "      <th>5</th>\n",
       "      <td>city</td>\n",
       "      <td>0.036644</td>\n",
       "      <td>10</td>\n",
       "      <td>0.863896</td>\n",
       "    </tr>\n",
       "    <tr>\n",
       "      <th>2</th>\n",
       "      <td>dow</td>\n",
       "      <td>0.023109</td>\n",
       "      <td>11</td>\n",
       "      <td>0.887005</td>\n",
       "    </tr>\n",
       "    <tr>\n",
       "      <th>3</th>\n",
       "      <td>employer_type</td>\n",
       "      <td>0.020743</td>\n",
       "      <td>12</td>\n",
       "      <td>0.907748</td>\n",
       "    </tr>\n",
       "    <tr>\n",
       "      <th>10</th>\n",
       "      <td>min_salary</td>\n",
       "      <td>0.018333</td>\n",
       "      <td>13</td>\n",
       "      <td>0.926081</td>\n",
       "    </tr>\n",
       "    <tr>\n",
       "      <th>13</th>\n",
       "      <td>dow_fe</td>\n",
       "      <td>0.014023</td>\n",
       "      <td>14</td>\n",
       "      <td>0.940104</td>\n",
       "    </tr>\n",
       "    <tr>\n",
       "      <th>4</th>\n",
       "      <td>applicant_location</td>\n",
       "      <td>0.013552</td>\n",
       "      <td>15</td>\n",
       "      <td>0.953656</td>\n",
       "    </tr>\n",
       "    <tr>\n",
       "      <th>14</th>\n",
       "      <td>employer_type_fe</td>\n",
       "      <td>0.010575</td>\n",
       "      <td>16</td>\n",
       "      <td>0.964230</td>\n",
       "    </tr>\n",
       "    <tr>\n",
       "      <th>12</th>\n",
       "      <td>gender_fe</td>\n",
       "      <td>0.009618</td>\n",
       "      <td>17</td>\n",
       "      <td>0.973849</td>\n",
       "    </tr>\n",
       "    <tr>\n",
       "      <th>24</th>\n",
       "      <td>city_4.0_ohe</td>\n",
       "      <td>0.007174</td>\n",
       "      <td>18</td>\n",
       "      <td>0.981023</td>\n",
       "    </tr>\n",
       "    <tr>\n",
       "      <th>21</th>\n",
       "      <td>city_1.0_ohe</td>\n",
       "      <td>0.006275</td>\n",
       "      <td>19</td>\n",
       "      <td>0.987298</td>\n",
       "    </tr>\n",
       "    <tr>\n",
       "      <th>19</th>\n",
       "      <td>is_part_time_fe</td>\n",
       "      <td>0.003978</td>\n",
       "      <td>20</td>\n",
       "      <td>0.991275</td>\n",
       "    </tr>\n",
       "    <tr>\n",
       "      <th>25</th>\n",
       "      <td>city_5.0_ohe</td>\n",
       "      <td>0.002806</td>\n",
       "      <td>21</td>\n",
       "      <td>0.994081</td>\n",
       "    </tr>\n",
       "    <tr>\n",
       "      <th>23</th>\n",
       "      <td>city_3.0_ohe</td>\n",
       "      <td>0.002640</td>\n",
       "      <td>22</td>\n",
       "      <td>0.996721</td>\n",
       "    </tr>\n",
       "    <tr>\n",
       "      <th>22</th>\n",
       "      <td>city_2.0_ohe</td>\n",
       "      <td>0.001413</td>\n",
       "      <td>23</td>\n",
       "      <td>0.998134</td>\n",
       "    </tr>\n",
       "    <tr>\n",
       "      <th>11</th>\n",
       "      <td>shift_fe</td>\n",
       "      <td>0.001107</td>\n",
       "      <td>24</td>\n",
       "      <td>0.999241</td>\n",
       "    </tr>\n",
       "    <tr>\n",
       "      <th>20</th>\n",
       "      <td>city_0.0_ohe</td>\n",
       "      <td>0.000637</td>\n",
       "      <td>25</td>\n",
       "      <td>0.999877</td>\n",
       "    </tr>\n",
       "    <tr>\n",
       "      <th>26</th>\n",
       "      <td>city_6.0_ohe</td>\n",
       "      <td>0.000123</td>\n",
       "      <td>26</td>\n",
       "      <td>1.000000</td>\n",
       "    </tr>\n",
       "    <tr>\n",
       "      <th>6</th>\n",
       "      <td>deposit</td>\n",
       "      <td>0.000000</td>\n",
       "      <td>27</td>\n",
       "      <td>1.000000</td>\n",
       "    </tr>\n",
       "  </tbody>\n",
       "</table>\n",
       "</div>"
      ],
      "text/plain": [
       "                column  feature_importance  rank   cum_imp\n",
       "18         category_fe            0.262419     1  0.262419\n",
       "1           created_on            0.105471     2  0.367890\n",
       "9           max_salary            0.096479     3  0.464369\n",
       "16             area_fe            0.088833     4  0.553202\n",
       "8         num_openings            0.075704     5  0.628906\n",
       "0            education            0.059932     6  0.688837\n",
       "17     organization_fe            0.059687     7  0.748525\n",
       "7              english            0.041129     8  0.789653\n",
       "15             city_fe            0.037599     9  0.827252\n",
       "5                 city            0.036644    10  0.863896\n",
       "2                  dow            0.023109    11  0.887005\n",
       "3        employer_type            0.020743    12  0.907748\n",
       "10          min_salary            0.018333    13  0.926081\n",
       "13              dow_fe            0.014023    14  0.940104\n",
       "4   applicant_location            0.013552    15  0.953656\n",
       "14    employer_type_fe            0.010575    16  0.964230\n",
       "12           gender_fe            0.009618    17  0.973849\n",
       "24        city_4.0_ohe            0.007174    18  0.981023\n",
       "21        city_1.0_ohe            0.006275    19  0.987298\n",
       "19     is_part_time_fe            0.003978    20  0.991275\n",
       "25        city_5.0_ohe            0.002806    21  0.994081\n",
       "23        city_3.0_ohe            0.002640    22  0.996721\n",
       "22        city_2.0_ohe            0.001413    23  0.998134\n",
       "11            shift_fe            0.001107    24  0.999241\n",
       "20        city_0.0_ohe            0.000637    25  0.999877\n",
       "26        city_6.0_ohe            0.000123    26  1.000000\n",
       "6              deposit            0.000000    27  1.000000"
      ]
     },
     "execution_count": 224,
     "metadata": {},
     "output_type": "execute_result"
    }
   ],
   "source": [
    "feat_imps = est.feature_importances(columns = use_cols) \n",
    "feat_imps['cum_imp']=feat_imps.feature_importance.cumsum()\n",
    "feat_imps"
   ]
  },
  {
   "cell_type": "markdown",
   "id": "2c0aa80a",
   "metadata": {},
   "source": [
    "### Important variables that could be used for further feature engineering in order of importance"
   ]
  },
  {
   "cell_type": "markdown",
   "id": "ad8ae4fb",
   "metadata": {},
   "source": [
    "1. category, area, organization, city, dow\n",
    "2. created_on, max_salary, num_openings, min_salary\n",
    "3. education,english,applicant_location\n",
    "4. employer type"
   ]
  }
 ],
 "metadata": {
  "kernelspec": {
   "display_name": "Python 3 (ipykernel)",
   "language": "python",
   "name": "python3"
  },
  "language_info": {
   "codemirror_mode": {
    "name": "ipython",
    "version": 3
   },
   "file_extension": ".py",
   "mimetype": "text/x-python",
   "name": "python",
   "nbconvert_exporter": "python",
   "pygments_lexer": "ipython3",
   "version": "3.9.7"
  }
 },
 "nbformat": 4,
 "nbformat_minor": 5
}
