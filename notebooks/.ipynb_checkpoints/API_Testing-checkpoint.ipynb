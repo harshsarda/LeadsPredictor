{
 "cells": [
  {
   "cell_type": "code",
   "execution_count": 1,
   "id": "detected-prisoner",
   "metadata": {},
   "outputs": [],
   "source": [
    "import requests\n",
    "import time\n",
    "import pandas as pd"
   ]
  },
  {
   "cell_type": "code",
   "execution_count": 2,
   "id": "surrounded-moore",
   "metadata": {},
   "outputs": [],
   "source": [
    "NUM_DATA_POINTS = 100"
   ]
  },
  {
   "cell_type": "code",
   "execution_count": 3,
   "id": "moral-terminal",
   "metadata": {},
   "outputs": [],
   "source": [
    "keys = ['shift', 'gender', 'education', 'created_on', 'dow', 'employer_type', 'applicant_location', 'city', 'area', 'organization', 'deposit', 'category', 'english', 'num_openings', 'max_salary', 'min_salary', 'is_part_time']"
   ]
  },
  {
   "cell_type": "code",
   "execution_count": 4,
   "id": "previous-watts",
   "metadata": {},
   "outputs": [],
   "source": [
    "req = dict(zip(keys,[[1]*NUM_DATA_POINTS for i in range(len(keys))]))"
   ]
  },
  {
   "cell_type": "code",
   "execution_count": 5,
   "id": "negative-livestock",
   "metadata": {},
   "outputs": [],
   "source": [
    "times=[]\n",
    "for i in range(100):\n",
    "    start_time = time.time()\n",
    "    reponse = requests.post('http://localhost:8087/items/',json = req)\n",
    "    times.append(time.time()-start_time)"
   ]
  },
  {
   "cell_type": "code",
   "execution_count": 6,
   "id": "lesser-runner",
   "metadata": {},
   "outputs": [
    {
     "data": {
      "text/plain": [
       "count    100.000000\n",
       "mean       0.074533\n",
       "std        0.016606\n",
       "min        0.061149\n",
       "25%        0.066810\n",
       "50%        0.068918\n",
       "75%        0.075547\n",
       "max        0.160577\n",
       "dtype: float64"
      ]
     },
     "execution_count": 6,
     "metadata": {},
     "output_type": "execute_result"
    }
   ],
   "source": [
    "pd.Series(times).describe()"
   ]
  },
  {
   "cell_type": "code",
   "execution_count": 12,
   "id": "discrete-appraisal",
   "metadata": {},
   "outputs": [
    {
     "data": {
      "text/plain": [
       "b'{\"Payload\":[6.678575964746552,6.678575964746552,6.678575964746552,6.678575964746552,6.678575964746552,6.678575964746552,6.678575964746552,6.678575964746552,6.678575964746552,6.678575964746552,6.678575964746552,6.678575964746552,6.678575964746552,6.678575964746552,6.678575964746552,6.678575964746552,6.678575964746552,6.678575964746552,6.678575964746552,6.678575964746552,6.678575964746552,6.678575964746552,6.678575964746552,6.678575964746552,6.678575964746552,6.678575964746552,6.678575964746552,6.678575964746552,6.678575964746552,6.678575964746552,6.678575964746552,6.678575964746552,6.678575964746552,6.678575964746552,6.678575964746552,6.678575964746552,6.678575964746552,6.678575964746552,6.678575964746552,6.678575964746552,6.678575964746552,6.678575964746552,6.678575964746552,6.678575964746552,6.678575964746552,6.678575964746552,6.678575964746552,6.678575964746552,6.678575964746552,6.678575964746552,6.678575964746552,6.678575964746552,6.678575964746552,6.678575964746552,6.678575964746552,6.678575964746552,6.678575964746552,6.678575964746552,6.678575964746552,6.678575964746552,6.678575964746552,6.678575964746552,6.678575964746552,6.678575964746552,6.678575964746552,6.678575964746552,6.678575964746552,6.678575964746552,6.678575964746552,6.678575964746552,6.678575964746552,6.678575964746552,6.678575964746552,6.678575964746552,6.678575964746552,6.678575964746552,6.678575964746552,6.678575964746552,6.678575964746552,6.678575964746552,6.678575964746552,6.678575964746552,6.678575964746552,6.678575964746552,6.678575964746552,6.678575964746552,6.678575964746552,6.678575964746552,6.678575964746552,6.678575964746552,6.678575964746552,6.678575964746552,6.678575964746552,6.678575964746552,6.678575964746552,6.678575964746552,6.678575964746552,6.678575964746552,6.678575964746552,6.678575964746552],\"Total\":100}'"
      ]
     },
     "execution_count": 12,
     "metadata": {},
     "output_type": "execute_result"
    }
   ],
   "source": [
    "reponse.content"
   ]
  }
 ],
 "metadata": {
  "kernelspec": {
   "display_name": "Python 3",
   "language": "python",
   "name": "python3"
  },
  "language_info": {
   "codemirror_mode": {
    "name": "ipython",
    "version": 3
   },
   "file_extension": ".py",
   "mimetype": "text/x-python",
   "name": "python",
   "nbconvert_exporter": "python",
   "pygments_lexer": "ipython3",
   "version": "3.8.5"
  }
 },
 "nbformat": 4,
 "nbformat_minor": 5
}
