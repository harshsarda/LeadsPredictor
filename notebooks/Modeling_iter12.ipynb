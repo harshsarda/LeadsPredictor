{
 "cells": [
  {
   "cell_type": "code",
   "execution_count": 1,
   "id": "01275724",
   "metadata": {},
   "outputs": [],
   "source": [
    "%load_ext autoreload\n",
    "%autoreload 2"
   ]
  },
  {
   "cell_type": "code",
   "execution_count": 2,
   "id": "3e472834",
   "metadata": {},
   "outputs": [],
   "source": [
    "import pandas as pd\n",
    "import numpy as np\n",
    "import os\n",
    "import warnings\n",
    "import sys\n",
    "import matplotlib.pyplot as plt"
   ]
  },
  {
   "cell_type": "code",
   "execution_count": 3,
   "id": "4cfbe560",
   "metadata": {},
   "outputs": [],
   "source": [
    "sys.path.append('/home/mondzi259/Apna_Assignment/src/ml_auto/')"
   ]
  },
  {
   "cell_type": "code",
   "execution_count": 4,
   "id": "59a39e95",
   "metadata": {},
   "outputs": [],
   "source": [
    "from custom_estimator import Estimator\n",
    "from bayesian_fs import bayesian_feature_selection\n",
    "from encoding import FreqeuncyEncoding,TargetEncoding\n",
    "from hyperopt_model_selection import HyperOptModelSelection,hp\n",
    "from custom_fold_generator import KFold,GroupKFold,CustomFolds\n",
    "from lightgbm import LGBMRegressor"
   ]
  },
  {
   "cell_type": "code",
   "execution_count": 5,
   "id": "f5ca01ff",
   "metadata": {},
   "outputs": [],
   "source": [
    "warnings.filterwarnings('ignore')"
   ]
  },
  {
   "cell_type": "code",
   "execution_count": 6,
   "id": "08888383",
   "metadata": {},
   "outputs": [],
   "source": [
    "pd.set_option('display.max_rows', 500)\n",
    "pd.set_option('display.max_columns', 500)\n",
    "pd.set_option('display.width', 1000)"
   ]
  },
  {
   "cell_type": "code",
   "execution_count": 7,
   "id": "8b0a8df1",
   "metadata": {},
   "outputs": [],
   "source": [
    "DATA_DIR = '/home/mondzi259/Apna_Assignment/data/'"
   ]
  },
  {
   "cell_type": "code",
   "execution_count": 8,
   "id": "143fd148",
   "metadata": {},
   "outputs": [
    {
     "data": {
      "text/plain": [
       "(30000, 19)"
      ]
     },
     "execution_count": 8,
     "metadata": {},
     "output_type": "execute_result"
    }
   ],
   "source": [
    "df = pd.read_excel(os.path.join(DATA_DIR,'data.xlsx'),sheet_name=0)\n",
    "df.shape"
   ]
  },
  {
   "cell_type": "code",
   "execution_count": 9,
   "id": "7a0873a6",
   "metadata": {},
   "outputs": [],
   "source": [
    "df.drop('feebackgiven',axis=1,inplace=True)"
   ]
  },
  {
   "cell_type": "code",
   "execution_count": 10,
   "id": "15325889",
   "metadata": {},
   "outputs": [],
   "source": [
    "data_dic = pd.read_excel(os.path.join(DATA_DIR,'data.xlsx'),sheet_name=1,header=None)"
   ]
  },
  {
   "cell_type": "code",
   "execution_count": 11,
   "id": "47c008f6",
   "metadata": {},
   "outputs": [
    {
     "data": {
      "text/html": [
       "<div>\n",
       "<style scoped>\n",
       "    .dataframe tbody tr th:only-of-type {\n",
       "        vertical-align: middle;\n",
       "    }\n",
       "\n",
       "    .dataframe tbody tr th {\n",
       "        vertical-align: top;\n",
       "    }\n",
       "\n",
       "    .dataframe thead th {\n",
       "        text-align: right;\n",
       "    }\n",
       "</style>\n",
       "<table border=\"1\" class=\"dataframe\">\n",
       "  <thead>\n",
       "    <tr style=\"text-align: right;\">\n",
       "      <th></th>\n",
       "      <th>0</th>\n",
       "      <th>1</th>\n",
       "      <th>2</th>\n",
       "      <th>3</th>\n",
       "    </tr>\n",
       "  </thead>\n",
       "  <tbody>\n",
       "    <tr>\n",
       "      <th>0</th>\n",
       "      <td>lead</td>\n",
       "      <td>A candidate who has interacted with HR on the ...</td>\n",
       "      <td>NaN</td>\n",
       "      <td>NaN</td>\n",
       "    </tr>\n",
       "    <tr>\n",
       "      <th>1</th>\n",
       "      <td>shift</td>\n",
       "      <td>night/ day</td>\n",
       "      <td>0 - day, 1 - night</td>\n",
       "      <td>NaN</td>\n",
       "    </tr>\n",
       "    <tr>\n",
       "      <th>2</th>\n",
       "      <td>gender</td>\n",
       "      <td>f/m/all</td>\n",
       "      <td>0 -  male jobs, 1 - female , 2 - all</td>\n",
       "      <td>NaN</td>\n",
       "    </tr>\n",
       "    <tr>\n",
       "      <th>3</th>\n",
       "      <td>education</td>\n",
       "      <td>10th to PG</td>\n",
       "      <td>ordinally placed, 10th being lowest and PG the...</td>\n",
       "      <td>NaN</td>\n",
       "    </tr>\n",
       "    <tr>\n",
       "      <th>4</th>\n",
       "      <td>created_on</td>\n",
       "      <td>job created date</td>\n",
       "      <td>Days since a fixed reference data</td>\n",
       "      <td>For ex: if reference data was 1 Jan 2020,\\njob...</td>\n",
       "    </tr>\n",
       "    <tr>\n",
       "      <th>5</th>\n",
       "      <td>employer_type</td>\n",
       "      <td>key-account/ smb/ enterprise/ consultant/ NA</td>\n",
       "      <td>most jobs are smb, followed by Key accounts, e...</td>\n",
       "      <td>NaN</td>\n",
       "    </tr>\n",
       "    <tr>\n",
       "      <th>6</th>\n",
       "      <td>applicant_location</td>\n",
       "      <td>candidate distance from job</td>\n",
       "      <td>lower the value, lower the distance requirement</td>\n",
       "      <td>NaN</td>\n",
       "    </tr>\n",
       "    <tr>\n",
       "      <th>7</th>\n",
       "      <td>city</td>\n",
       "      <td>city</td>\n",
       "      <td>is masked</td>\n",
       "      <td>NaN</td>\n",
       "    </tr>\n",
       "    <tr>\n",
       "      <th>8</th>\n",
       "      <td>area</td>\n",
       "      <td>area</td>\n",
       "      <td>is masked</td>\n",
       "      <td>NaN</td>\n",
       "    </tr>\n",
       "    <tr>\n",
       "      <th>9</th>\n",
       "      <td>organization</td>\n",
       "      <td>company name</td>\n",
       "      <td>is masked</td>\n",
       "      <td>NaN</td>\n",
       "    </tr>\n",
       "    <tr>\n",
       "      <th>10</th>\n",
       "      <td>deposit</td>\n",
       "      <td>requires a deposit</td>\n",
       "      <td>majority don't require a deposit</td>\n",
       "      <td>actual amounts are masked</td>\n",
       "    </tr>\n",
       "    <tr>\n",
       "      <th>11</th>\n",
       "      <td>category</td>\n",
       "      <td>delivery/driver/...</td>\n",
       "      <td>is masked</td>\n",
       "      <td>NaN</td>\n",
       "    </tr>\n",
       "    <tr>\n",
       "      <th>12</th>\n",
       "      <td>english</td>\n",
       "      <td>no/broken-english/good-english/fluent</td>\n",
       "      <td>higher the value, higher the quality of englis...</td>\n",
       "      <td>NaN</td>\n",
       "    </tr>\n",
       "    <tr>\n",
       "      <th>13</th>\n",
       "      <td>num_openings</td>\n",
       "      <td>no of people to recruit</td>\n",
       "      <td>NaN</td>\n",
       "      <td>NaN</td>\n",
       "    </tr>\n",
       "    <tr>\n",
       "      <th>14</th>\n",
       "      <td>max_salary</td>\n",
       "      <td>salary</td>\n",
       "      <td>as is</td>\n",
       "      <td>NaN</td>\n",
       "    </tr>\n",
       "    <tr>\n",
       "      <th>15</th>\n",
       "      <td>is_part_time</td>\n",
       "      <td>yes/no</td>\n",
       "      <td>majority are full time jobs</td>\n",
       "      <td>NaN</td>\n",
       "    </tr>\n",
       "    <tr>\n",
       "      <th>16</th>\n",
       "      <td>feedbackgiven</td>\n",
       "      <td>yes/no</td>\n",
       "      <td>majority don't have feedbackgiven</td>\n",
       "      <td>NaN</td>\n",
       "    </tr>\n",
       "    <tr>\n",
       "      <th>17</th>\n",
       "      <td>leads_per_opening</td>\n",
       "      <td>NaN</td>\n",
       "      <td>leads/ num_openings for the job</td>\n",
       "      <td>NaN</td>\n",
       "    </tr>\n",
       "    <tr>\n",
       "      <th>18</th>\n",
       "      <td>dow</td>\n",
       "      <td>day of the week</td>\n",
       "      <td>NaN</td>\n",
       "      <td>NaN</td>\n",
       "    </tr>\n",
       "  </tbody>\n",
       "</table>\n",
       "</div>"
      ],
      "text/plain": [
       "                     0                                                  1                                                  2                                                  3\n",
       "0                 lead  A candidate who has interacted with HR on the ...                                                NaN                                                NaN\n",
       "1                shift                                         night/ day                                0 - day, 1 - night                                                 NaN\n",
       "2               gender                                            f/m/all               0 -  male jobs, 1 - female , 2 - all                                                NaN\n",
       "3            education                                        10th to PG   ordinally placed, 10th being lowest and PG the...                                                NaN\n",
       "4           created_on                                   job created date                  Days since a fixed reference data  For ex: if reference data was 1 Jan 2020,\\njob...\n",
       "5        employer_type       key-account/ smb/ enterprise/ consultant/ NA  most jobs are smb, followed by Key accounts, e...                                                NaN\n",
       "6   applicant_location                        candidate distance from job    lower the value, lower the distance requirement                                                NaN\n",
       "7                 city                                               city                                          is masked                                                NaN\n",
       "8                 area                                               area                                          is masked                                                NaN\n",
       "9         organization                                       company name                                          is masked                                                NaN\n",
       "10             deposit                                 requires a deposit                   majority don't require a deposit                          actual amounts are masked\n",
       "11            category                                delivery/driver/...                                          is masked                                                NaN\n",
       "12             english              no/broken-english/good-english/fluent  higher the value, higher the quality of englis...                                                NaN\n",
       "13        num_openings                            no of people to recruit                                                NaN                                                NaN\n",
       "14          max_salary                                             salary                                              as is                                                NaN\n",
       "15        is_part_time                                             yes/no                        majority are full time jobs                                                NaN\n",
       "16       feedbackgiven                                             yes/no                  majority don't have feedbackgiven                                                NaN\n",
       "17   leads_per_opening                                                NaN                    leads/ num_openings for the job                                                NaN\n",
       "18                 dow                                    day of the week                                                NaN                                                NaN"
      ]
     },
     "execution_count": 11,
     "metadata": {},
     "output_type": "execute_result"
    }
   ],
   "source": [
    "data_dic"
   ]
  },
  {
   "cell_type": "code",
   "execution_count": 12,
   "id": "97977313",
   "metadata": {},
   "outputs": [
    {
     "data": {
      "text/html": [
       "<div>\n",
       "<style scoped>\n",
       "    .dataframe tbody tr th:only-of-type {\n",
       "        vertical-align: middle;\n",
       "    }\n",
       "\n",
       "    .dataframe tbody tr th {\n",
       "        vertical-align: top;\n",
       "    }\n",
       "\n",
       "    .dataframe thead th {\n",
       "        text-align: right;\n",
       "    }\n",
       "</style>\n",
       "<table border=\"1\" class=\"dataframe\">\n",
       "  <thead>\n",
       "    <tr style=\"text-align: right;\">\n",
       "      <th></th>\n",
       "      <th>shift</th>\n",
       "      <th>gender</th>\n",
       "      <th>education</th>\n",
       "      <th>created_on</th>\n",
       "      <th>dow</th>\n",
       "      <th>employer_type</th>\n",
       "      <th>applicant_location</th>\n",
       "      <th>city</th>\n",
       "      <th>area</th>\n",
       "      <th>organization</th>\n",
       "      <th>deposit</th>\n",
       "      <th>category</th>\n",
       "      <th>english</th>\n",
       "      <th>num_openings</th>\n",
       "      <th>max_salary</th>\n",
       "      <th>min_salary</th>\n",
       "      <th>is_part_time</th>\n",
       "      <th>leads_per_opening</th>\n",
       "    </tr>\n",
       "  </thead>\n",
       "  <tbody>\n",
       "    <tr>\n",
       "      <th>0</th>\n",
       "      <td>0.0</td>\n",
       "      <td>0.0</td>\n",
       "      <td>3.0</td>\n",
       "      <td>413.0</td>\n",
       "      <td>3.0</td>\n",
       "      <td>0.0</td>\n",
       "      <td>0.0</td>\n",
       "      <td>1.0</td>\n",
       "      <td>4119.0</td>\n",
       "      <td>31278.0</td>\n",
       "      <td>0.0</td>\n",
       "      <td>55.0</td>\n",
       "      <td>2.0</td>\n",
       "      <td>22.0</td>\n",
       "      <td>21000.0</td>\n",
       "      <td>NaN</td>\n",
       "      <td>0.0</td>\n",
       "      <td>0.090909</td>\n",
       "    </tr>\n",
       "    <tr>\n",
       "      <th>1</th>\n",
       "      <td>0.0</td>\n",
       "      <td>0.0</td>\n",
       "      <td>3.0</td>\n",
       "      <td>529.0</td>\n",
       "      <td>0.0</td>\n",
       "      <td>4.0</td>\n",
       "      <td>0.0</td>\n",
       "      <td>2.0</td>\n",
       "      <td>2017.0</td>\n",
       "      <td>32006.0</td>\n",
       "      <td>0.0</td>\n",
       "      <td>54.0</td>\n",
       "      <td>2.0</td>\n",
       "      <td>2.0</td>\n",
       "      <td>80000.0</td>\n",
       "      <td>NaN</td>\n",
       "      <td>0.0</td>\n",
       "      <td>31.500000</td>\n",
       "    </tr>\n",
       "    <tr>\n",
       "      <th>2</th>\n",
       "      <td>0.0</td>\n",
       "      <td>0.0</td>\n",
       "      <td>0.0</td>\n",
       "      <td>457.0</td>\n",
       "      <td>0.0</td>\n",
       "      <td>4.0</td>\n",
       "      <td>0.0</td>\n",
       "      <td>3.0</td>\n",
       "      <td>1500.0</td>\n",
       "      <td>32029.0</td>\n",
       "      <td>0.0</td>\n",
       "      <td>42.0</td>\n",
       "      <td>3.0</td>\n",
       "      <td>1.0</td>\n",
       "      <td>3500.0</td>\n",
       "      <td>NaN</td>\n",
       "      <td>1.0</td>\n",
       "      <td>9.000000</td>\n",
       "    </tr>\n",
       "    <tr>\n",
       "      <th>3</th>\n",
       "      <td>0.0</td>\n",
       "      <td>0.0</td>\n",
       "      <td>4.0</td>\n",
       "      <td>450.0</td>\n",
       "      <td>3.0</td>\n",
       "      <td>4.0</td>\n",
       "      <td>0.0</td>\n",
       "      <td>5.0</td>\n",
       "      <td>638.0</td>\n",
       "      <td>9925.0</td>\n",
       "      <td>0.0</td>\n",
       "      <td>60.0</td>\n",
       "      <td>4.0</td>\n",
       "      <td>4.0</td>\n",
       "      <td>11500.0</td>\n",
       "      <td>NaN</td>\n",
       "      <td>0.0</td>\n",
       "      <td>0.000000</td>\n",
       "    </tr>\n",
       "    <tr>\n",
       "      <th>4</th>\n",
       "      <td>0.0</td>\n",
       "      <td>0.0</td>\n",
       "      <td>0.0</td>\n",
       "      <td>480.0</td>\n",
       "      <td>0.0</td>\n",
       "      <td>1.0</td>\n",
       "      <td>0.0</td>\n",
       "      <td>2.0</td>\n",
       "      <td>4115.0</td>\n",
       "      <td>8400.0</td>\n",
       "      <td>0.0</td>\n",
       "      <td>16.0</td>\n",
       "      <td>3.0</td>\n",
       "      <td>25.0</td>\n",
       "      <td>25000.0</td>\n",
       "      <td>NaN</td>\n",
       "      <td>0.0</td>\n",
       "      <td>1.400000</td>\n",
       "    </tr>\n",
       "  </tbody>\n",
       "</table>\n",
       "</div>"
      ],
      "text/plain": [
       "   shift  gender  education  created_on  dow  employer_type  applicant_location  city    area  organization  deposit  category  english  num_openings  max_salary  min_salary  is_part_time  leads_per_opening\n",
       "0    0.0     0.0        3.0       413.0  3.0            0.0                 0.0   1.0  4119.0       31278.0      0.0      55.0      2.0          22.0     21000.0         NaN           0.0           0.090909\n",
       "1    0.0     0.0        3.0       529.0  0.0            4.0                 0.0   2.0  2017.0       32006.0      0.0      54.0      2.0           2.0     80000.0         NaN           0.0          31.500000\n",
       "2    0.0     0.0        0.0       457.0  0.0            4.0                 0.0   3.0  1500.0       32029.0      0.0      42.0      3.0           1.0      3500.0         NaN           1.0           9.000000\n",
       "3    0.0     0.0        4.0       450.0  3.0            4.0                 0.0   5.0   638.0        9925.0      0.0      60.0      4.0           4.0     11500.0         NaN           0.0           0.000000\n",
       "4    0.0     0.0        0.0       480.0  0.0            1.0                 0.0   2.0  4115.0        8400.0      0.0      16.0      3.0          25.0     25000.0         NaN           0.0           1.400000"
      ]
     },
     "execution_count": 12,
     "metadata": {},
     "output_type": "execute_result"
    }
   ],
   "source": [
    "df.head()"
   ]
  },
  {
   "cell_type": "markdown",
   "id": "6da48d90",
   "metadata": {},
   "source": [
    "### Target vs created_on"
   ]
  },
  {
   "cell_type": "code",
   "execution_count": 13,
   "id": "88b62a3d",
   "metadata": {},
   "outputs": [
    {
     "data": {
      "image/png": "[encoded data removed]",
      "text/plain": [
       "<Figure size 432x288 with 1 Axes>"
      ]
     },
     "metadata": {
      "needs_background": "light"
     },
     "output_type": "display_data"
    }
   ],
   "source": [
    "df.groupby(pd.qcut(df['created_on'],10,\n",
    "                   duplicates='drop',labels=False))['leads_per_opening'].mean().plot()\n",
    "plt.ylabel('leads_per_opening')\n",
    "plt.title('Decile Plot of leads_per_opening vs created_on');"
   ]
  },
  {
   "cell_type": "markdown",
   "id": "776c2228",
   "metadata": {},
   "source": [
    "### Ideas:\n",
    "\n",
    "1. CV: Time series, KFold, GKFold\n",
    "2. log transform targets: business sense and outliers\n",
    "3. cat OHE, LE, FE, TE\n",
    "4. cat num agg\n",
    "5. num num agg\n",
    "6. missing min salary; app location=0; imputation w/wo\n",
    "7. bayesian fs\n",
    "8. API\n",
    "9. Explainability\n",
    "10. Local/Global feature importance\n",
    "11. Outliers/score\n",
    "12. clustering, svd, cluster distance\n",
    "13. time based (created on) aggs"
   ]
  },
  {
   "cell_type": "markdown",
   "id": "c08dd55a",
   "metadata": {},
   "source": [
    "### "
   ]
  },
  {
   "cell_type": "code",
   "execution_count": 14,
   "id": "5bcf96af",
   "metadata": {},
   "outputs": [],
   "source": [
    "num_cols = ['leads_per_opening','max_salary','min_salary','deposit','num_openings','created_on']\n",
    "cat_cols = [i for i in df.columns.tolist() if i not in num_cols]\n",
    "cat_ordinal_cols = ['applicant_location','english','education']\n",
    "cat_non_ord_cols = [i for i in cat_cols if i not in cat_ordinal_cols]"
   ]
  },
  {
   "cell_type": "code",
   "execution_count": 15,
   "id": "8d24ebff",
   "metadata": {},
   "outputs": [
    {
     "data": {
      "text/plain": [
       "(['shift',\n",
       "  'gender',\n",
       "  'dow',\n",
       "  'employer_type',\n",
       "  'city',\n",
       "  'area',\n",
       "  'organization',\n",
       "  'category',\n",
       "  'is_part_time'],\n",
       " ['applicant_location', 'english', 'education'])"
      ]
     },
     "execution_count": 15,
     "metadata": {},
     "output_type": "execute_result"
    }
   ],
   "source": [
    "cat_non_ord_cols,cat_ordinal_cols"
   ]
  },
  {
   "cell_type": "code",
   "execution_count": 16,
   "id": "64db555a",
   "metadata": {},
   "outputs": [
    {
     "data": {
      "text/plain": [
       "shift                     2\n",
       "gender                    3\n",
       "education                 6\n",
       "dow                       7\n",
       "employer_type             5\n",
       "applicant_location        4\n",
       "city                      7\n",
       "area                   2740\n",
       "organization          14886\n",
       "category                 67\n",
       "english                   4\n",
       "is_part_time              2\n",
       "dtype: int64"
      ]
     },
     "execution_count": 16,
     "metadata": {},
     "output_type": "execute_result"
    }
   ],
   "source": [
    "df[cat_cols].nunique()"
   ]
  },
  {
   "cell_type": "code",
   "execution_count": 17,
   "id": "3189b565",
   "metadata": {},
   "outputs": [],
   "source": [
    "class FreqEnc:\n",
    "    def __init__(self,cat_freq_cols):\n",
    "        self.cat_freq_cols = cat_freq_cols\n",
    "    def fit(self,df):\n",
    "        self.freq_encoding_dict = {\n",
    "                x: df[x].value_counts(1).to_dict() for x in self.cat_freq_cols\n",
    "            }\n",
    "    def transform(self,df):\n",
    "        for col in self.cat_freq_cols:\n",
    "            df[col+\"_fe\"] = df[col].map(self.freq_encoding_dict[col]).fillna(0)\n",
    "        return df\n",
    "    def fit_transform(self,df):\n",
    "        self.fit(df)\n",
    "        return self.transform(df)"
   ]
  },
  {
   "cell_type": "code",
   "execution_count": 18,
   "id": "f7b4f08f",
   "metadata": {},
   "outputs": [],
   "source": [
    "df=df.sort_values('created_on').reset_index(drop=True)"
   ]
  },
  {
   "cell_type": "code",
   "execution_count": 19,
   "id": "fced750d",
   "metadata": {},
   "outputs": [
    {
     "data": {
      "text/plain": [
       "(30000, 18)"
      ]
     },
     "execution_count": 19,
     "metadata": {},
     "output_type": "execute_result"
    }
   ],
   "source": [
    "df.shape"
   ]
  },
  {
   "cell_type": "code",
   "execution_count": 20,
   "id": "8772bc1a",
   "metadata": {},
   "outputs": [],
   "source": [
    "df['target'] = np.log1p(df.leads_per_opening)"
   ]
  },
  {
   "cell_type": "code",
   "execution_count": 21,
   "id": "61aff30f",
   "metadata": {},
   "outputs": [
    {
     "data": {
      "image/png": "[encoded data removed]",
      "text/plain": [
       "<Figure size 432x288 with 2 Axes>"
      ]
     },
     "metadata": {
      "needs_background": "light"
     },
     "output_type": "display_data"
    }
   ],
   "source": [
    "fig, axes = plt.subplots(1, 2, figsize=(6, 4))\n",
    "df.leads_per_opening.hist(ax=axes[0])\n",
    "axes[0].set_title('leads_per_opening')\n",
    "df.target.hist(ax=axes[1])\n",
    "axes[1].set_title('log1p leads_per_opening')\n",
    "plt.tight_layout()"
   ]
  },
  {
   "cell_type": "code",
   "execution_count": 22,
   "id": "d5893f91",
   "metadata": {},
   "outputs": [
    {
     "data": {
      "text/plain": [
       "count    30000.000000\n",
       "mean         1.507317\n",
       "std          1.264234\n",
       "min          0.000000\n",
       "25%          0.385158\n",
       "50%          1.299283\n",
       "75%          2.397895\n",
       "max          6.559615\n",
       "Name: target, dtype: float64"
      ]
     },
     "execution_count": 22,
     "metadata": {},
     "output_type": "execute_result"
    }
   ],
   "source": [
    "df.target.describe()"
   ]
  },
  {
   "cell_type": "code",
   "execution_count": 23,
   "id": "41ebbbbb",
   "metadata": {},
   "outputs": [],
   "source": [
    "folds =[\n",
    "    (df[(df.created_on<=df.created_on.quantile(0.7))].index.tolist(),\\\n",
    "df[(df.created_on>df.created_on.quantile(0.7))&\\\n",
    "      (df.created_on<=df.created_on.quantile(0.8))].index.tolist()),\n",
    "    \n",
    "    (df[(df.created_on>=df.created_on.quantile(0.1))&\\\n",
    "      (df.created_on<=df.created_on.quantile(0.8))].index.tolist(),\\\n",
    "df[(df.created_on>df.created_on.quantile(0.8))&\\\n",
    "      (df.created_on<=df.created_on.quantile(0.9))].index.tolist()),\n",
    "    \n",
    "    (df[(df.created_on>=df.created_on.quantile(0.2))&\\\n",
    "      (df.created_on<=df.created_on.quantile(0.9))].index.tolist(),\\\n",
    "df[(df.created_on>df.created_on.quantile(0.9))&\\\n",
    "      (df.created_on<=df.created_on.quantile(1))].index.tolist())\n",
    "]"
   ]
  },
  {
   "cell_type": "code",
   "execution_count": 24,
   "id": "94e38b04",
   "metadata": {},
   "outputs": [
    {
     "data": {
      "text/plain": [
       "[((21137, 19), (3031, 19)),\n",
       " ((21191, 19), (2865, 19)),\n",
       " ((21073, 19), (2967, 19))]"
      ]
     },
     "execution_count": 24,
     "metadata": {},
     "output_type": "execute_result"
    }
   ],
   "source": [
    "[(df.iloc[i].shape,df.iloc[j].shape) for i,j in folds]"
   ]
  },
  {
   "cell_type": "code",
   "execution_count": 25,
   "id": "6fb8ab4f",
   "metadata": {},
   "outputs": [],
   "source": [
    "target = df.target.values"
   ]
  },
  {
   "cell_type": "code",
   "execution_count": 26,
   "id": "7d1549f4",
   "metadata": {},
   "outputs": [],
   "source": [
    "fe = FreqEnc(cat_freq_cols=cat_non_ord_cols)\n",
    "\n",
    "df = fe.fit_transform(df)"
   ]
  },
  {
   "cell_type": "code",
   "execution_count": 27,
   "id": "9fa79ac1",
   "metadata": {},
   "outputs": [
    {
     "data": {
      "text/plain": [
       "count     4117.000000\n",
       "mean      6104.805441\n",
       "std       6419.603169\n",
       "min      -2000.000000\n",
       "25%       2000.000000\n",
       "50%       5000.000000\n",
       "75%       7500.000000\n",
       "max      96399.000000\n",
       "dtype: float64"
      ]
     },
     "execution_count": 27,
     "metadata": {},
     "output_type": "execute_result"
    }
   ],
   "source": [
    "(df['max_salary']-df.min_salary).describe()"
   ]
  },
  {
   "cell_type": "code",
   "execution_count": 28,
   "id": "37084b4b",
   "metadata": {
    "scrolled": true
   },
   "outputs": [
    {
     "data": {
      "text/plain": [
       "(30000, 28)"
      ]
     },
     "execution_count": 28,
     "metadata": {},
     "output_type": "execute_result"
    }
   ],
   "source": [
    "df.shape"
   ]
  },
  {
   "cell_type": "code",
   "execution_count": 29,
   "id": "b7f09ee0",
   "metadata": {},
   "outputs": [
    {
     "data": {
      "text/plain": [
       "shift                2\n",
       "gender               3\n",
       "dow                  7\n",
       "employer_type        5\n",
       "city                 7\n",
       "area              2740\n",
       "organization     14886\n",
       "category            67\n",
       "is_part_time         2\n",
       "dtype: int64"
      ]
     },
     "execution_count": 29,
     "metadata": {},
     "output_type": "execute_result"
    }
   ],
   "source": [
    "df[cat_non_ord_cols].nunique()"
   ]
  },
  {
   "cell_type": "code",
   "execution_count": 30,
   "id": "f1d94987",
   "metadata": {},
   "outputs": [
    {
     "data": {
      "text/plain": [
       "applicant_location    4\n",
       "english               4\n",
       "education             6\n",
       "dtype: int64"
      ]
     },
     "execution_count": 30,
     "metadata": {},
     "output_type": "execute_result"
    }
   ],
   "source": [
    "df[cat_ordinal_cols].nunique()"
   ]
  },
  {
   "cell_type": "markdown",
   "id": "6be45b55",
   "metadata": {},
   "source": [
    "### Adding cat-cat interactions"
   ]
  },
  {
   "cell_type": "code",
   "execution_count": 31,
   "id": "176f1a33",
   "metadata": {},
   "outputs": [],
   "source": [
    "def get_derived_cat(df,a,b):\n",
    "    df[a+'_'+b]= df[a].astype('str') + '_' + df[b].astype('str')\n",
    "    return df "
   ]
  },
  {
   "cell_type": "code",
   "execution_count": 32,
   "id": "7cad4205",
   "metadata": {},
   "outputs": [],
   "source": [
    "def gen_cat_cat(df):\n",
    "    df = get_derived_cat(df,'category','organization')\n",
    "    df = get_derived_cat(df,'category','area')\n",
    "    df = get_derived_cat(df,'category','city')\n",
    "    df = get_derived_cat(df,'category','dow')\n",
    "    df = get_derived_cat(df,'category','employer_type')\n",
    "    \n",
    "    df = get_derived_cat(df,'organization','area')\n",
    "    df = get_derived_cat(df,'organization','city')\n",
    "    df = get_derived_cat(df,'organization','dow')\n",
    "    df = get_derived_cat(df,'organization','employer_type')\n",
    "    \n",
    "    df = get_derived_cat(df,'area','city')\n",
    "    df = get_derived_cat(df,'area','dow')\n",
    "    df = get_derived_cat(df,'area','employer_type')\n",
    "    \n",
    "    df = get_derived_cat(df,'city','dow')\n",
    "    df = get_derived_cat(df,'city','employer_type')\n",
    "    \n",
    "    df = get_derived_cat(df,'dow','employer_type')\n",
    "    \n",
    "    df['cat_city_dow'] = df['category'].astype('str') + '_' + df['city'].astype('str') + '_' + df['dow'].astype('str')\n",
    "    \n",
    "    return df"
   ]
  },
  {
   "cell_type": "code",
   "execution_count": 33,
   "id": "9ad48582",
   "metadata": {},
   "outputs": [],
   "source": [
    "df = gen_cat_cat(df)"
   ]
  },
  {
   "cell_type": "code",
   "execution_count": 34,
   "id": "961caf6b",
   "metadata": {},
   "outputs": [],
   "source": [
    "cat_cat_cols = ['category_organization', 'category_area', 'category_city', 'category_dow',\n",
    "                'category_employer_type', 'organization_area', 'organization_city', 'organization_dow', \n",
    "                'organization_employer_type', 'area_city', 'area_dow', 'area_employer_type', 'city_dow',\n",
    "               'city_employer_type', 'dow_employer_type','cat_city_dow']"
   ]
  },
  {
   "cell_type": "code",
   "execution_count": 35,
   "id": "a2f18eb7",
   "metadata": {},
   "outputs": [],
   "source": [
    "fe2 = FreqEnc(cat_freq_cols=['category_city'])\n",
    "\n",
    "df = fe2.fit_transform(df)"
   ]
  },
  {
   "cell_type": "code",
   "execution_count": 36,
   "id": "d85d8cbc",
   "metadata": {},
   "outputs": [],
   "source": [
    "class CatNumAgg:\n",
    "    def __init__(self,agg_cols, agg_funcs, grpby_cols):\n",
    "        self.agg_cols=agg_cols\n",
    "        self.agg_funcs=agg_funcs\n",
    "        self.grpby_cols=grpby_cols\n",
    "    def fit(self,df):\n",
    "        self.encoding_dict={}\n",
    "        for grp_col in self.grpby_cols:\n",
    "            agg_df = df.groupby(grp_col)[self.agg_cols].agg(self.agg_funcs).reset_index()\n",
    "            agg_df.columns = [grp_col] + [\n",
    "                i + \"_\" + j + \"_grpby\" + \"_and_\" + grp_col\n",
    "                for i in self.agg_cols\n",
    "                for j in self.agg_funcs\n",
    "            ]\n",
    "            self.encoding_dict[grp_col]=agg_df.to_dict()\n",
    "    def transform(self,df):\n",
    "        for k in self.encoding_dict:\n",
    "            agg_df = pd.DataFrame(self.encoding_dict[k])\n",
    "            df = df.merge(agg_df, on=k, how=\"left\")\n",
    "        return df\n",
    "    def fit_transform(self,df):\n",
    "        self.fit(df)\n",
    "        return self.transform(df)"
   ]
  },
  {
   "cell_type": "code",
   "execution_count": 37,
   "id": "7a3ba02f",
   "metadata": {},
   "outputs": [],
   "source": [
    "imp_num_cols = ['num_openings','max_salary','min_salary','education','applicant_location']\n",
    "agg_funcs = ['mean','std','min','max','median']\n",
    "cat_agg_cols = ['category','organization','area','category_city',\n",
    "                'category_dow','city',\n",
    "                'employer_type',]"
   ]
  },
  {
   "cell_type": "code",
   "execution_count": 38,
   "id": "f4d3ba6c",
   "metadata": {},
   "outputs": [],
   "source": [
    "catnumagg = CatNumAgg(agg_cols= imp_num_cols,agg_funcs=agg_funcs, grpby_cols=cat_agg_cols)"
   ]
  },
  {
   "cell_type": "code",
   "execution_count": 39,
   "id": "1a250dd9",
   "metadata": {},
   "outputs": [],
   "source": [
    "df = catnumagg.fit_transform(df)"
   ]
  },
  {
   "cell_type": "code",
   "execution_count": 40,
   "id": "d5aac44d",
   "metadata": {},
   "outputs": [
    {
     "data": {
      "text/plain": [
       "(30000, 220)"
      ]
     },
     "execution_count": 40,
     "metadata": {},
     "output_type": "execute_result"
    }
   ],
   "source": [
    "df.shape"
   ]
  },
  {
   "cell_type": "code",
   "execution_count": 41,
   "id": "b8e7b8f7",
   "metadata": {},
   "outputs": [
    {
     "data": {
      "text/plain": [
       "17"
      ]
     },
     "execution_count": 41,
     "metadata": {},
     "output_type": "execute_result"
    }
   ],
   "source": [
    "uniq_cols = df.columns[df.nunique(dropna=False)==1]\n",
    "len(uniq_cols)"
   ]
  },
  {
   "cell_type": "code",
   "execution_count": 42,
   "id": "2d933125",
   "metadata": {},
   "outputs": [],
   "source": [
    "df.drop(uniq_cols,axis=1,inplace=True)"
   ]
  },
  {
   "cell_type": "code",
   "execution_count": 43,
   "id": "c74355c3",
   "metadata": {},
   "outputs": [],
   "source": [
    "remove_cols = cat_non_ord_cols + ['target','leads_per_opening'] + cat_cat_cols\n",
    "use_cols = [i for i in df.columns if i not in remove_cols] "
   ]
  },
  {
   "cell_type": "code",
   "execution_count": 48,
   "id": "4ec3b0b6",
   "metadata": {},
   "outputs": [],
   "source": [
    "params = {'boosting_type': 'gbdt', 'colsample_bytree': 0.8, 'learning_rate': 0.1,\n",
    "          'min_child_samples': 90, 'n_estimators': 10000, 'n_jobs': -1, 'num_leaves': 16,\n",
    "          'objective': 'regression', 'subsample': 1.0, 'subsample_freq': 10}"
   ]
  },
  {
   "cell_type": "code",
   "execution_count": 49,
   "id": "992fcdf0",
   "metadata": {},
   "outputs": [],
   "source": [
    "est = Estimator(model=LGBMRegressor(**params),\n",
    "               early_stopping_rounds=100,\n",
    "               validation_scheme=folds,\n",
    "               shuffle=True)"
   ]
  },
  {
   "cell_type": "code",
   "execution_count": 50,
   "id": "ddc95c56",
   "metadata": {},
   "outputs": [
    {
     "name": "stdout",
     "output_type": "stream",
     "text": [
      "[100]\tvalid_0's rmse: 0.896201\tvalid_0's l2: 0.803176\tvalid_1's rmse: 0.802049\tvalid_1's l2: 0.643282\n",
      "[200]\tvalid_0's rmse: 0.891947\tvalid_0's l2: 0.79557\tvalid_1's rmse: 0.751353\tvalid_1's l2: 0.564532\n",
      "[100]\tvalid_0's rmse: 0.832942\tvalid_0's l2: 0.693792\tvalid_1's rmse: 0.803713\tvalid_1's l2: 0.645955\n",
      "[200]\tvalid_0's rmse: 0.828739\tvalid_0's l2: 0.686809\tvalid_1's rmse: 0.75204\tvalid_1's l2: 0.565565\n",
      "[300]\tvalid_0's rmse: 0.827675\tvalid_0's l2: 0.685047\tvalid_1's rmse: 0.714469\tvalid_1's l2: 0.510466\n",
      "[100]\tvalid_0's rmse: 0.868688\tvalid_0's l2: 0.754618\tvalid_1's rmse: 0.798485\tvalid_1's l2: 0.637578\n",
      "[200]\tvalid_0's rmse: 0.866917\tvalid_0's l2: 0.751545\tvalid_1's rmse: 0.746432\tvalid_1's l2: 0.557161\n",
      "[300]\tvalid_0's rmse: 0.866916\tvalid_0's l2: 0.751543\tvalid_1's rmse: 0.707903\tvalid_1's l2: 0.501127\n"
     ]
    },
    {
     "data": {
      "text/plain": [
       "{'cv_scores': [0.8919421973540256, 0.8267237387416502, 0.864585967796185],\n",
       " 'avg_cv_score': 0.8610839679639536,\n",
       " 'std_scores': 0.026740229842720033,\n",
       " 'overall_cv_score': 1.7138003955038021,\n",
       " 'eval_score': 0.8610839679639536}"
      ]
     },
     "execution_count": 50,
     "metadata": {},
     "output_type": "execute_result"
    }
   ],
   "source": [
    "est.get_repeated_out_of_folds(df[use_cols].values,target)"
   ]
  },
  {
   "cell_type": "code",
   "execution_count": 51,
   "id": "7cfe84ea",
   "metadata": {},
   "outputs": [
    {
     "data": {
      "text/plain": [
       "176"
      ]
     },
     "execution_count": 51,
     "metadata": {},
     "output_type": "execute_result"
    }
   ],
   "source": [
    "len(use_cols)"
   ]
  },
  {
   "cell_type": "markdown",
   "id": "e6b3b61a",
   "metadata": {},
   "source": [
    "### bayesian fs"
   ]
  },
  {
   "cell_type": "code",
   "execution_count": 54,
   "id": "cbc2516e",
   "metadata": {},
   "outputs": [],
   "source": [
    "bayes_fs = bayesian_feature_selection(space=None,estimator= Estimator(model=LGBMRegressor(**params),\n",
    "               early_stopping_rounds=100,\n",
    "               validation_scheme=folds,\n",
    "               shuffle=True),is_fitted=True,is_maximize=False,early_st_rnds=15,pop_size=17,\n",
    "                                      bayesian_type='adaptive',scale_adaptive=0.5,\n",
    "                                      num_iter_hyperopt=1,sample_weight=None)"
   ]
  },
  {
   "cell_type": "code",
   "execution_count": 55,
   "id": "e445e3e8",
   "metadata": {},
   "outputs": [
    {
     "name": "stdout",
     "output_type": "stream",
     "text": [
      "Recursion 1 :\n",
      "cv score on base dataset: 0.8610839679639536\n",
      "Running iteration 1 :\n",
      "100%|██████████████████████████████████████████| 17/17 [00:44<00:00,  2.63s/trial, best loss: 0.863371794879945]\n",
      "new best score: 0.863371794879945 \n",
      " new best cols: ['applicant_location_max_grpby_and_category_dow', 'applicant_location_mean_grpby_and_category', 'applicant_location_mean_grpby_and_category_city', 'applicant_location_mean_grpby_and_employer_type', 'applicant_location_mean_grpby_and_organization', 'applicant_location_std_grpby_and_category', 'applicant_location_std_grpby_and_category_city', 'applicant_location_std_grpby_and_city', 'applicant_location_std_grpby_and_organization', 'area_fe', 'category_fe', 'city_fe', 'created_on', 'deposit', 'education', 'education_max_grpby_and_category', 'education_max_grpby_and_category_city', 'education_mean_grpby_and_area', 'education_mean_grpby_and_organization', 'education_median_grpby_and_city', 'education_min_grpby_and_area', 'education_std_grpby_and_area', 'english', 'gender_fe', 'max_salary', 'max_salary_max_grpby_and_category', 'max_salary_max_grpby_and_city', 'max_salary_mean_grpby_and_area', 'max_salary_mean_grpby_and_category_city', 'max_salary_mean_grpby_and_employer_type', 'max_salary_median_grpby_and_category', 'max_salary_median_grpby_and_organization', 'max_salary_min_grpby_and_category', 'max_salary_min_grpby_and_organization', 'max_salary_std_grpby_and_area', 'max_salary_std_grpby_and_category', 'max_salary_std_grpby_and_employer_type', 'max_salary_std_grpby_and_organization', 'min_salary_max_grpby_and_category_dow', 'min_salary_max_grpby_and_organization', 'min_salary_mean_grpby_and_area', 'min_salary_mean_grpby_and_category', 'min_salary_mean_grpby_and_category_dow', 'min_salary_mean_grpby_and_organization', 'min_salary_median_grpby_and_category_dow', 'min_salary_median_grpby_and_organization', 'min_salary_min_grpby_and_city', 'min_salary_std_grpby_and_category_dow', 'min_salary_std_grpby_and_city', 'min_salary_std_grpby_and_organization', 'num_openings', 'num_openings_max_grpby_and_category_dow', 'num_openings_mean_grpby_and_area', 'num_openings_mean_grpby_and_category_city', 'num_openings_mean_grpby_and_organization', 'num_openings_median_grpby_and_category_dow', 'num_openings_std_grpby_and_area', 'num_openings_std_grpby_and_category', 'num_openings_std_grpby_and_category_dow', 'num_openings_std_grpby_and_employer_type', 'num_openings_std_grpby_and_organization']\n",
      "Running iteration 2 :\n",
      "100%|█████████████████████████████████████████| 34/34 [00:59<00:00,  3.48s/trial, best loss: 0.8596082568180435]\n",
      "new best score: 0.8596082568180435 \n",
      " new best cols: ['applicant_location_max_grpby_and_area', 'applicant_location_max_grpby_and_category_dow', 'applicant_location_max_grpby_and_organization', 'applicant_location_mean_grpby_and_category', 'applicant_location_mean_grpby_and_category_city', 'applicant_location_mean_grpby_and_category_dow', 'applicant_location_mean_grpby_and_organization', 'applicant_location_median_grpby_and_category_city', 'applicant_location_min_grpby_and_area', 'applicant_location_min_grpby_and_category_city', 'applicant_location_min_grpby_and_category_dow', 'applicant_location_std_grpby_and_area', 'applicant_location_std_grpby_and_category', 'applicant_location_std_grpby_and_city', 'applicant_location_std_grpby_and_organization', 'area_fe', 'category_city_fe', 'category_fe', 'city_fe', 'created_on', 'deposit', 'education', 'education_max_grpby_and_category', 'education_max_grpby_and_category_city', 'education_max_grpby_and_category_dow', 'education_max_grpby_and_organization', 'education_mean_grpby_and_category_city', 'education_mean_grpby_and_employer_type', 'education_mean_grpby_and_organization', 'education_median_grpby_and_category', 'education_median_grpby_and_category_city', 'education_min_grpby_and_category', 'education_min_grpby_and_organization', 'education_std_grpby_and_area', 'education_std_grpby_and_category_dow', 'education_std_grpby_and_city', 'education_std_grpby_and_employer_type', 'employer_type_fe', 'english', 'gender_fe', 'is_part_time_fe', 'max_salary', 'max_salary_max_grpby_and_area', 'max_salary_max_grpby_and_category', 'max_salary_max_grpby_and_category_city', 'max_salary_max_grpby_and_category_dow', 'max_salary_max_grpby_and_city', 'max_salary_max_grpby_and_employer_type', 'max_salary_mean_grpby_and_area', 'max_salary_mean_grpby_and_employer_type', 'max_salary_median_grpby_and_area', 'max_salary_median_grpby_and_category', 'max_salary_median_grpby_and_category_city', 'max_salary_median_grpby_and_organization', 'max_salary_min_grpby_and_organization', 'max_salary_std_grpby_and_area', 'max_salary_std_grpby_and_category', 'max_salary_std_grpby_and_city', 'max_salary_std_grpby_and_employer_type', 'max_salary_std_grpby_and_organization', 'min_salary', 'min_salary_max_grpby_and_category', 'min_salary_max_grpby_and_category_dow', 'min_salary_max_grpby_and_city', 'min_salary_max_grpby_and_employer_type', 'min_salary_mean_grpby_and_area', 'min_salary_mean_grpby_and_category_dow', 'min_salary_mean_grpby_and_city', 'min_salary_mean_grpby_and_organization', 'min_salary_median_grpby_and_city', 'min_salary_median_grpby_and_organization', 'min_salary_min_grpby_and_category_city', 'min_salary_min_grpby_and_category_dow', 'min_salary_std_grpby_and_area', 'min_salary_std_grpby_and_category_dow', 'min_salary_std_grpby_and_organization', 'num_openings', 'num_openings_max_grpby_and_category_city', 'num_openings_max_grpby_and_category_dow', 'num_openings_mean_grpby_and_area', 'num_openings_mean_grpby_and_category_city', 'num_openings_mean_grpby_and_employer_type', 'num_openings_median_grpby_and_category_city', 'num_openings_median_grpby_and_category_dow', 'num_openings_median_grpby_and_city', 'num_openings_median_grpby_and_employer_type', 'num_openings_median_grpby_and_organization', 'num_openings_std_grpby_and_area', 'num_openings_std_grpby_and_category', 'num_openings_std_grpby_and_category_city', 'num_openings_std_grpby_and_category_dow', 'num_openings_std_grpby_and_employer_type', 'organization_fe', 'shift_fe']\n",
      "Running iteration 3 :\n",
      "100%|█████████████████████████████████████████| 51/51 [00:59<00:00,  3.52s/trial, best loss: 0.8596082568180435]\n",
      "Running iteration 4 :\n",
      "100%|█████████████████████████████████████████| 68/68 [00:54<00:00,  3.23s/trial, best loss: 0.8596082568180435]\n",
      "Running iteration 5 :\n",
      "100%|█████████████████████████████████████████| 85/85 [00:55<00:00,  3.26s/trial, best loss: 0.8596082568180435]\n",
      "Running iteration 6 :\n",
      "100%|███████████████████████████████████████| 102/102 [00:58<00:00,  3.46s/trial, best loss: 0.8596082568180435]\n",
      "Running iteration 7 :\n",
      "100%|███████████████████████████████████████| 119/119 [00:54<00:00,  3.20s/trial, best loss: 0.8596082568180435]\n",
      "Running iteration 8 :\n",
      "100%|███████████████████████████████████████| 136/136 [00:57<00:00,  3.37s/trial, best loss: 0.8596082568180435]\n",
      "Running iteration 9 :\n",
      "100%|███████████████████████████████████████| 153/153 [00:59<00:00,  3.49s/trial, best loss: 0.8596082568180435]\n",
      "Running iteration 10 :\n",
      "100%|███████████████████████████████████████| 170/170 [00:56<00:00,  3.30s/trial, best loss: 0.8596082568180435]\n",
      "Running iteration 11 :\n",
      "100%|███████████████████████████████████████| 187/187 [00:56<00:00,  3.30s/trial, best loss: 0.8596082568180435]\n",
      "Running iteration 12 :\n",
      "100%|███████████████████████████████████████| 204/204 [00:57<00:00,  3.36s/trial, best loss: 0.8596082568180435]\n",
      "Running iteration 13 :\n",
      "100%|███████████████████████████████████████| 221/221 [00:57<00:00,  3.39s/trial, best loss: 0.8596082568180435]\n",
      "Running iteration 14 :\n",
      "100%|███████████████████████████████████████| 238/238 [00:56<00:00,  3.33s/trial, best loss: 0.8596082568180435]\n",
      "Running iteration 15 :\n",
      "100%|███████████████████████████████████████| 255/255 [00:57<00:00,  3.40s/trial, best loss: 0.8596082568180435]\n",
      "Running iteration 16 :\n",
      "100%|███████████████████████████████████████| 272/272 [01:01<00:00,  3.61s/trial, best loss: 0.8593949466483908]\n",
      "new best score: 0.8593949466483908 \n",
      " new best cols: ['applicant_location', 'applicant_location_max_grpby_and_organization', 'applicant_location_mean_grpby_and_category', 'applicant_location_mean_grpby_and_category_city', 'applicant_location_min_grpby_and_area', 'applicant_location_std_grpby_and_area', 'applicant_location_std_grpby_and_category', 'applicant_location_std_grpby_and_category_dow', 'applicant_location_std_grpby_and_city', 'applicant_location_std_grpby_and_organization', 'category_fe', 'city_fe', 'created_on', 'deposit', 'education', 'education_max_grpby_and_category_dow', 'education_max_grpby_and_organization', 'education_mean_grpby_and_category_city', 'education_mean_grpby_and_employer_type', 'education_mean_grpby_and_organization', 'education_median_grpby_and_category', 'education_std_grpby_and_area', 'education_std_grpby_and_category_dow', 'education_std_grpby_and_employer_type', 'employer_type_fe', 'english', 'gender_fe', 'max_salary', 'max_salary_max_grpby_and_area', 'max_salary_max_grpby_and_category', 'max_salary_max_grpby_and_category_city', 'max_salary_max_grpby_and_category_dow', 'max_salary_max_grpby_and_city', 'max_salary_max_grpby_and_employer_type', 'max_salary_mean_grpby_and_area', 'max_salary_mean_grpby_and_city', 'max_salary_mean_grpby_and_employer_type', 'max_salary_median_grpby_and_area', 'max_salary_median_grpby_and_category', 'max_salary_median_grpby_and_category_city', 'max_salary_median_grpby_and_employer_type', 'max_salary_median_grpby_and_organization', 'max_salary_min_grpby_and_organization', 'max_salary_std_grpby_and_category_dow', 'max_salary_std_grpby_and_organization', 'min_salary', 'min_salary_max_grpby_and_category', 'min_salary_max_grpby_and_employer_type', 'min_salary_mean_grpby_and_area', 'min_salary_mean_grpby_and_category', 'min_salary_mean_grpby_and_category_city', 'min_salary_mean_grpby_and_city', 'min_salary_median_grpby_and_category', 'min_salary_median_grpby_and_city', 'min_salary_median_grpby_and_organization', 'min_salary_min_grpby_and_category', 'min_salary_min_grpby_and_employer_type', 'min_salary_std_grpby_and_area', 'min_salary_std_grpby_and_category_city', 'min_salary_std_grpby_and_category_dow', 'min_salary_std_grpby_and_organization', 'num_openings', 'num_openings_max_grpby_and_area', 'num_openings_max_grpby_and_category_dow', 'num_openings_mean_grpby_and_area', 'num_openings_mean_grpby_and_category', 'num_openings_mean_grpby_and_category_city', 'num_openings_mean_grpby_and_city', 'num_openings_mean_grpby_and_employer_type', 'num_openings_mean_grpby_and_organization', 'num_openings_median_grpby_and_category_dow', 'num_openings_min_grpby_and_category_city', 'num_openings_std_grpby_and_area', 'num_openings_std_grpby_and_category', 'num_openings_std_grpby_and_category_city', 'num_openings_std_grpby_and_category_dow', 'num_openings_std_grpby_and_employer_type', 'organization_fe']\n",
      "Running iteration 17 :\n"
     ]
    },
    {
     "name": "stdout",
     "output_type": "stream",
     "text": [
      "100%|███████████████████████████████████████| 289/289 [00:58<00:00,  3.46s/trial, best loss: 0.8593949466483908]\n",
      "Running iteration 18 :\n",
      "100%|███████████████████████████████████████| 306/306 [01:01<00:00,  3.62s/trial, best loss: 0.8593768755517935]\n",
      "new best score: 0.8593768755517935 \n",
      " new best cols: ['applicant_location', 'applicant_location_max_grpby_and_category_city', 'applicant_location_max_grpby_and_organization', 'applicant_location_mean_grpby_and_category', 'applicant_location_mean_grpby_and_category_city', 'applicant_location_mean_grpby_and_city', 'applicant_location_median_grpby_and_organization', 'applicant_location_min_grpby_and_area', 'applicant_location_std_grpby_and_area', 'applicant_location_std_grpby_and_category', 'applicant_location_std_grpby_and_category_dow', 'applicant_location_std_grpby_and_city', 'applicant_location_std_grpby_and_employer_type', 'applicant_location_std_grpby_and_organization', 'category_fe', 'created_on', 'deposit', 'dow_fe', 'education', 'education_max_grpby_and_category_dow', 'education_mean_grpby_and_category_city', 'education_mean_grpby_and_employer_type', 'education_mean_grpby_and_organization', 'education_median_grpby_and_area', 'education_median_grpby_and_category', 'education_std_grpby_and_area', 'education_std_grpby_and_category_dow', 'employer_type_fe', 'english', 'gender_fe', 'max_salary', 'max_salary_max_grpby_and_area', 'max_salary_max_grpby_and_category', 'max_salary_max_grpby_and_category_city', 'max_salary_max_grpby_and_category_dow', 'max_salary_max_grpby_and_city', 'max_salary_max_grpby_and_employer_type', 'max_salary_mean_grpby_and_area', 'max_salary_mean_grpby_and_category_dow', 'max_salary_mean_grpby_and_city', 'max_salary_mean_grpby_and_employer_type', 'max_salary_median_grpby_and_area', 'max_salary_median_grpby_and_category', 'max_salary_median_grpby_and_category_city', 'max_salary_median_grpby_and_employer_type', 'max_salary_median_grpby_and_organization', 'max_salary_min_grpby_and_organization', 'max_salary_std_grpby_and_area', 'max_salary_std_grpby_and_category_dow', 'max_salary_std_grpby_and_employer_type', 'max_salary_std_grpby_and_organization', 'min_salary', 'min_salary_max_grpby_and_category', 'min_salary_max_grpby_and_category_city', 'min_salary_max_grpby_and_category_dow', 'min_salary_max_grpby_and_employer_type', 'min_salary_mean_grpby_and_area', 'min_salary_mean_grpby_and_category', 'min_salary_mean_grpby_and_category_city', 'min_salary_mean_grpby_and_city', 'min_salary_median_grpby_and_area', 'min_salary_median_grpby_and_category', 'min_salary_median_grpby_and_city', 'min_salary_median_grpby_and_organization', 'min_salary_min_grpby_and_category', 'min_salary_min_grpby_and_employer_type', 'min_salary_std_grpby_and_area', 'min_salary_std_grpby_and_category_city', 'min_salary_std_grpby_and_category_dow', 'min_salary_std_grpby_and_organization', 'num_openings', 'num_openings_max_grpby_and_area', 'num_openings_max_grpby_and_category_dow', 'num_openings_mean_grpby_and_area', 'num_openings_mean_grpby_and_category', 'num_openings_mean_grpby_and_category_city', 'num_openings_mean_grpby_and_employer_type', 'num_openings_mean_grpby_and_organization', 'num_openings_median_grpby_and_category_dow', 'num_openings_min_grpby_and_category_city', 'num_openings_min_grpby_and_organization', 'num_openings_std_grpby_and_area', 'num_openings_std_grpby_and_category', 'num_openings_std_grpby_and_category_city', 'num_openings_std_grpby_and_category_dow', 'num_openings_std_grpby_and_employer_type', 'organization_fe']\n",
      "Running iteration 19 :\n",
      "100%|███████████████████████████████████████| 323/323 [01:01<00:00,  3.60s/trial, best loss: 0.8590724110535248]\n",
      "new best score: 0.8590724110535248 \n",
      " new best cols: ['applicant_location', 'applicant_location_mean_grpby_and_category', 'applicant_location_mean_grpby_and_category_city', 'applicant_location_mean_grpby_and_city', 'applicant_location_median_grpby_and_organization', 'applicant_location_min_grpby_and_area', 'applicant_location_std_grpby_and_area', 'applicant_location_std_grpby_and_category', 'applicant_location_std_grpby_and_city', 'applicant_location_std_grpby_and_organization', 'category_fe', 'city_fe', 'created_on', 'deposit', 'education', 'education_max_grpby_and_category_dow', 'education_mean_grpby_and_category_city', 'education_mean_grpby_and_employer_type', 'education_mean_grpby_and_organization', 'education_median_grpby_and_area', 'education_median_grpby_and_category', 'education_median_grpby_and_category_dow', 'education_min_grpby_and_category', 'education_std_grpby_and_area', 'education_std_grpby_and_category_dow', 'employer_type_fe', 'english', 'gender_fe', 'max_salary', 'max_salary_max_grpby_and_area', 'max_salary_max_grpby_and_category', 'max_salary_max_grpby_and_category_city', 'max_salary_max_grpby_and_category_dow', 'max_salary_max_grpby_and_city', 'max_salary_max_grpby_and_employer_type', 'max_salary_mean_grpby_and_area', 'max_salary_mean_grpby_and_category_dow', 'max_salary_mean_grpby_and_city', 'max_salary_mean_grpby_and_employer_type', 'max_salary_median_grpby_and_area', 'max_salary_median_grpby_and_category', 'max_salary_median_grpby_and_category_city', 'max_salary_median_grpby_and_employer_type', 'max_salary_median_grpby_and_organization', 'max_salary_min_grpby_and_organization', 'max_salary_std_grpby_and_area', 'max_salary_std_grpby_and_category_dow', 'max_salary_std_grpby_and_employer_type', 'max_salary_std_grpby_and_organization', 'min_salary', 'min_salary_max_grpby_and_category', 'min_salary_max_grpby_and_category_city', 'min_salary_max_grpby_and_employer_type', 'min_salary_mean_grpby_and_category', 'min_salary_mean_grpby_and_category_city', 'min_salary_mean_grpby_and_city', 'min_salary_median_grpby_and_area', 'min_salary_median_grpby_and_category', 'min_salary_median_grpby_and_city', 'min_salary_median_grpby_and_organization', 'min_salary_min_grpby_and_category', 'min_salary_min_grpby_and_city', 'min_salary_min_grpby_and_employer_type', 'min_salary_std_grpby_and_area', 'min_salary_std_grpby_and_organization', 'num_openings', 'num_openings_max_grpby_and_area', 'num_openings_max_grpby_and_category_dow', 'num_openings_mean_grpby_and_area', 'num_openings_mean_grpby_and_category', 'num_openings_mean_grpby_and_category_city', 'num_openings_mean_grpby_and_employer_type', 'num_openings_min_grpby_and_organization', 'num_openings_std_grpby_and_area', 'num_openings_std_grpby_and_category', 'num_openings_std_grpby_and_category_city', 'num_openings_std_grpby_and_category_dow', 'num_openings_std_grpby_and_employer_type', 'organization_fe']\n",
      "Running iteration 20 :\n",
      "100%|███████████████████████████████████████| 340/340 [01:00<00:00,  3.54s/trial, best loss: 0.8588039063790079]\n",
      "new best score: 0.8588039063790079 \n",
      " new best cols: ['applicant_location', 'applicant_location_max_grpby_and_category_city', 'applicant_location_mean_grpby_and_category', 'applicant_location_mean_grpby_and_category_city', 'applicant_location_mean_grpby_and_city', 'applicant_location_median_grpby_and_organization', 'applicant_location_min_grpby_and_area', 'applicant_location_min_grpby_and_category_city', 'applicant_location_std_grpby_and_area', 'applicant_location_std_grpby_and_category', 'applicant_location_std_grpby_and_city', 'applicant_location_std_grpby_and_employer_type', 'applicant_location_std_grpby_and_organization', 'category_fe', 'created_on', 'deposit', 'education', 'education_max_grpby_and_category_dow', 'education_max_grpby_and_organization', 'education_mean_grpby_and_category_city', 'education_mean_grpby_and_employer_type', 'education_mean_grpby_and_organization', 'education_median_grpby_and_area', 'education_median_grpby_and_category', 'education_median_grpby_and_category_dow', 'education_min_grpby_and_category', 'education_std_grpby_and_area', 'education_std_grpby_and_category_dow', 'education_std_grpby_and_city', 'employer_type_fe', 'english', 'gender_fe', 'max_salary', 'max_salary_max_grpby_and_area', 'max_salary_max_grpby_and_category', 'max_salary_max_grpby_and_category_city', 'max_salary_max_grpby_and_category_dow', 'max_salary_max_grpby_and_city', 'max_salary_max_grpby_and_employer_type', 'max_salary_mean_grpby_and_area', 'max_salary_mean_grpby_and_category_dow', 'max_salary_mean_grpby_and_city', 'max_salary_mean_grpby_and_employer_type', 'max_salary_median_grpby_and_area', 'max_salary_median_grpby_and_category', 'max_salary_median_grpby_and_category_city', 'max_salary_median_grpby_and_employer_type', 'max_salary_median_grpby_and_organization', 'max_salary_min_grpby_and_organization', 'max_salary_std_grpby_and_category_dow', 'max_salary_std_grpby_and_employer_type', 'max_salary_std_grpby_and_organization', 'min_salary', 'min_salary_max_grpby_and_category', 'min_salary_max_grpby_and_category_city', 'min_salary_max_grpby_and_employer_type', 'min_salary_mean_grpby_and_category', 'min_salary_mean_grpby_and_category_city', 'min_salary_mean_grpby_and_city', 'min_salary_median_grpby_and_area', 'min_salary_median_grpby_and_category', 'min_salary_median_grpby_and_city', 'min_salary_median_grpby_and_organization', 'min_salary_min_grpby_and_category', 'min_salary_min_grpby_and_city', 'min_salary_min_grpby_and_employer_type', 'min_salary_std_grpby_and_organization', 'num_openings', 'num_openings_max_grpby_and_area', 'num_openings_max_grpby_and_category_dow', 'num_openings_mean_grpby_and_area', 'num_openings_mean_grpby_and_category', 'num_openings_mean_grpby_and_category_city', 'num_openings_mean_grpby_and_employer_type', 'num_openings_min_grpby_and_category', 'num_openings_min_grpby_and_category_city', 'num_openings_min_grpby_and_organization', 'num_openings_std_grpby_and_area', 'num_openings_std_grpby_and_category', 'num_openings_std_grpby_and_category_city', 'num_openings_std_grpby_and_category_dow', 'organization_fe']\n",
      "Running iteration 21 :\n"
     ]
    },
    {
     "name": "stdout",
     "output_type": "stream",
     "text": [
      "100%|███████████████████████████████████████| 357/357 [01:00<00:00,  3.56s/trial, best loss: 0.8587552009664644]\n",
      "new best score: 0.8587552009664644 \n",
      " new best cols: ['applicant_location', 'applicant_location_max_grpby_and_category_city', 'applicant_location_mean_grpby_and_category', 'applicant_location_mean_grpby_and_category_city', 'applicant_location_mean_grpby_and_city', 'applicant_location_mean_grpby_and_employer_type', 'applicant_location_median_grpby_and_organization', 'applicant_location_min_grpby_and_area', 'applicant_location_min_grpby_and_category_city', 'applicant_location_std_grpby_and_area', 'applicant_location_std_grpby_and_category', 'applicant_location_std_grpby_and_city', 'applicant_location_std_grpby_and_employer_type', 'applicant_location_std_grpby_and_organization', 'category_fe', 'created_on', 'deposit', 'education', 'education_max_grpby_and_category_dow', 'education_max_grpby_and_organization', 'education_mean_grpby_and_category_city', 'education_mean_grpby_and_city', 'education_mean_grpby_and_employer_type', 'education_mean_grpby_and_organization', 'education_median_grpby_and_area', 'education_median_grpby_and_category', 'education_median_grpby_and_category_dow', 'education_min_grpby_and_category', 'education_min_grpby_and_category_dow', 'education_std_grpby_and_area', 'education_std_grpby_and_category_dow', 'education_std_grpby_and_city', 'employer_type_fe', 'english', 'gender_fe', 'max_salary', 'max_salary_max_grpby_and_area', 'max_salary_max_grpby_and_category', 'max_salary_max_grpby_and_category_city', 'max_salary_max_grpby_and_category_dow', 'max_salary_max_grpby_and_city', 'max_salary_max_grpby_and_employer_type', 'max_salary_mean_grpby_and_area', 'max_salary_mean_grpby_and_category_dow', 'max_salary_mean_grpby_and_city', 'max_salary_mean_grpby_and_employer_type', 'max_salary_median_grpby_and_area', 'max_salary_median_grpby_and_category', 'max_salary_median_grpby_and_category_city', 'max_salary_median_grpby_and_city', 'max_salary_median_grpby_and_employer_type', 'max_salary_median_grpby_and_organization', 'max_salary_min_grpby_and_organization', 'max_salary_std_grpby_and_area', 'max_salary_std_grpby_and_category_dow', 'max_salary_std_grpby_and_employer_type', 'max_salary_std_grpby_and_organization', 'min_salary', 'min_salary_max_grpby_and_category', 'min_salary_max_grpby_and_category_city', 'min_salary_max_grpby_and_employer_type', 'min_salary_mean_grpby_and_category', 'min_salary_mean_grpby_and_category_city', 'min_salary_mean_grpby_and_city', 'min_salary_median_grpby_and_area', 'min_salary_median_grpby_and_category', 'min_salary_median_grpby_and_city', 'min_salary_median_grpby_and_organization', 'min_salary_min_grpby_and_city', 'min_salary_std_grpby_and_organization', 'num_openings', 'num_openings_max_grpby_and_area', 'num_openings_max_grpby_and_category_dow', 'num_openings_mean_grpby_and_area', 'num_openings_mean_grpby_and_category', 'num_openings_mean_grpby_and_category_city', 'num_openings_mean_grpby_and_employer_type', 'num_openings_min_grpby_and_category', 'num_openings_min_grpby_and_organization', 'num_openings_std_grpby_and_area', 'num_openings_std_grpby_and_category', 'num_openings_std_grpby_and_category_city', 'num_openings_std_grpby_and_category_dow', 'organization_fe']\n",
      "Running iteration 22 :\n",
      "100%|███████████████████████████████████████| 374/374 [01:03<00:00,  3.72s/trial, best loss: 0.8582924424485957]\n",
      "new best score: 0.8582924424485957 \n",
      " new best cols: ['applicant_location', 'applicant_location_max_grpby_and_category_city', 'applicant_location_mean_grpby_and_category', 'applicant_location_mean_grpby_and_category_city', 'applicant_location_mean_grpby_and_city', 'applicant_location_mean_grpby_and_employer_type', 'applicant_location_median_grpby_and_category_city', 'applicant_location_median_grpby_and_organization', 'applicant_location_min_grpby_and_area', 'applicant_location_min_grpby_and_category_city', 'applicant_location_std_grpby_and_area', 'applicant_location_std_grpby_and_category', 'applicant_location_std_grpby_and_city', 'applicant_location_std_grpby_and_employer_type', 'applicant_location_std_grpby_and_organization', 'category_fe', 'created_on', 'deposit', 'education', 'education_max_grpby_and_category_dow', 'education_max_grpby_and_organization', 'education_mean_grpby_and_category_city', 'education_mean_grpby_and_city', 'education_mean_grpby_and_employer_type', 'education_mean_grpby_and_organization', 'education_median_grpby_and_area', 'education_median_grpby_and_category', 'education_median_grpby_and_category_dow', 'education_min_grpby_and_category', 'education_min_grpby_and_category_dow', 'education_std_grpby_and_area', 'education_std_grpby_and_category_dow', 'education_std_grpby_and_city', 'employer_type_fe', 'english', 'gender_fe', 'max_salary', 'max_salary_max_grpby_and_area', 'max_salary_max_grpby_and_category', 'max_salary_max_grpby_and_category_city', 'max_salary_max_grpby_and_category_dow', 'max_salary_max_grpby_and_city', 'max_salary_max_grpby_and_employer_type', 'max_salary_mean_grpby_and_area', 'max_salary_mean_grpby_and_category_dow', 'max_salary_mean_grpby_and_city', 'max_salary_mean_grpby_and_employer_type', 'max_salary_median_grpby_and_area', 'max_salary_median_grpby_and_category', 'max_salary_median_grpby_and_category_city', 'max_salary_median_grpby_and_city', 'max_salary_median_grpby_and_employer_type', 'max_salary_median_grpby_and_organization', 'max_salary_min_grpby_and_organization', 'max_salary_std_grpby_and_area', 'max_salary_std_grpby_and_category_dow', 'max_salary_std_grpby_and_employer_type', 'max_salary_std_grpby_and_organization', 'min_salary', 'min_salary_max_grpby_and_category', 'min_salary_max_grpby_and_category_city', 'min_salary_max_grpby_and_employer_type', 'min_salary_mean_grpby_and_category', 'min_salary_mean_grpby_and_category_city', 'min_salary_mean_grpby_and_category_dow', 'min_salary_mean_grpby_and_city', 'min_salary_median_grpby_and_area', 'min_salary_median_grpby_and_category', 'min_salary_median_grpby_and_city', 'min_salary_median_grpby_and_organization', 'min_salary_min_grpby_and_city', 'min_salary_std_grpby_and_organization', 'num_openings', 'num_openings_max_grpby_and_area', 'num_openings_max_grpby_and_category_dow', 'num_openings_mean_grpby_and_area', 'num_openings_mean_grpby_and_category', 'num_openings_mean_grpby_and_category_city', 'num_openings_mean_grpby_and_employer_type', 'num_openings_min_grpby_and_organization', 'num_openings_std_grpby_and_area', 'num_openings_std_grpby_and_category', 'num_openings_std_grpby_and_category_city', 'num_openings_std_grpby_and_category_dow', 'num_openings_std_grpby_and_organization', 'organization_fe']\n",
      "Running iteration 23 :\n",
      "100%|███████████████████████████████████████| 391/391 [01:00<00:00,  3.54s/trial, best loss: 0.8582924424485957]\n",
      "Running iteration 24 :\n",
      "100%|███████████████████████████████████████| 408/408 [01:01<00:00,  3.59s/trial, best loss: 0.8582924424485957]\n",
      "Running iteration 25 :\n",
      "100%|███████████████████████████████████████| 425/425 [00:59<00:00,  3.52s/trial, best loss: 0.8581713359683186]\n",
      "new best score: 0.8581713359683186 \n",
      " new best cols: ['applicant_location', 'applicant_location_max_grpby_and_category_city', 'applicant_location_mean_grpby_and_category', 'applicant_location_mean_grpby_and_category_city', 'applicant_location_mean_grpby_and_category_dow', 'applicant_location_mean_grpby_and_city', 'applicant_location_mean_grpby_and_employer_type', 'applicant_location_median_grpby_and_category_city', 'applicant_location_median_grpby_and_organization', 'applicant_location_min_grpby_and_area', 'applicant_location_min_grpby_and_category_city', 'applicant_location_std_grpby_and_area', 'applicant_location_std_grpby_and_category', 'applicant_location_std_grpby_and_employer_type', 'applicant_location_std_grpby_and_organization', 'category_fe', 'created_on', 'deposit', 'education', 'education_max_grpby_and_category_dow', 'education_max_grpby_and_organization', 'education_mean_grpby_and_category_city', 'education_mean_grpby_and_city', 'education_mean_grpby_and_employer_type', 'education_mean_grpby_and_organization', 'education_median_grpby_and_area', 'education_median_grpby_and_category', 'education_median_grpby_and_category_dow', 'education_min_grpby_and_category', 'education_min_grpby_and_category_dow', 'education_std_grpby_and_area', 'education_std_grpby_and_category_dow', 'education_std_grpby_and_city', 'employer_type_fe', 'english', 'gender_fe', 'max_salary', 'max_salary_max_grpby_and_area', 'max_salary_max_grpby_and_category', 'max_salary_max_grpby_and_category_city', 'max_salary_max_grpby_and_category_dow', 'max_salary_max_grpby_and_city', 'max_salary_max_grpby_and_employer_type', 'max_salary_mean_grpby_and_area', 'max_salary_mean_grpby_and_category_dow', 'max_salary_mean_grpby_and_city', 'max_salary_mean_grpby_and_employer_type', 'max_salary_median_grpby_and_area', 'max_salary_median_grpby_and_category_city', 'max_salary_median_grpby_and_city', 'max_salary_median_grpby_and_employer_type', 'max_salary_median_grpby_and_organization', 'max_salary_min_grpby_and_organization', 'max_salary_std_grpby_and_category_dow', 'max_salary_std_grpby_and_employer_type', 'max_salary_std_grpby_and_organization', 'min_salary', 'min_salary_max_grpby_and_category', 'min_salary_max_grpby_and_category_city', 'min_salary_max_grpby_and_employer_type', 'min_salary_mean_grpby_and_category', 'min_salary_mean_grpby_and_category_city', 'min_salary_mean_grpby_and_city', 'min_salary_median_grpby_and_area', 'min_salary_median_grpby_and_category', 'min_salary_median_grpby_and_city', 'min_salary_median_grpby_and_organization', 'min_salary_min_grpby_and_city', 'min_salary_std_grpby_and_organization', 'num_openings', 'num_openings_max_grpby_and_area', 'num_openings_max_grpby_and_category_dow', 'num_openings_mean_grpby_and_area', 'num_openings_mean_grpby_and_category', 'num_openings_mean_grpby_and_category_city', 'num_openings_median_grpby_and_category', 'num_openings_min_grpby_and_category', 'num_openings_min_grpby_and_category_city', 'num_openings_min_grpby_and_organization', 'num_openings_std_grpby_and_area', 'num_openings_std_grpby_and_category', 'num_openings_std_grpby_and_category_city', 'num_openings_std_grpby_and_category_dow', 'num_openings_std_grpby_and_organization', 'organization_fe']\n",
      "Running iteration 26 :\n"
     ]
    },
    {
     "name": "stdout",
     "output_type": "stream",
     "text": [
      "100%|███████████████████████████████████████| 442/442 [01:02<00:00,  3.66s/trial, best loss: 0.8580732704225426]\n",
      "new best score: 0.8580732704225426 \n",
      " new best cols: ['applicant_location', 'applicant_location_max_grpby_and_category_city', 'applicant_location_mean_grpby_and_category', 'applicant_location_mean_grpby_and_category_city', 'applicant_location_mean_grpby_and_city', 'applicant_location_mean_grpby_and_employer_type', 'applicant_location_median_grpby_and_organization', 'applicant_location_min_grpby_and_area', 'applicant_location_min_grpby_and_category_city', 'applicant_location_std_grpby_and_area', 'applicant_location_std_grpby_and_category', 'applicant_location_std_grpby_and_city', 'applicant_location_std_grpby_and_employer_type', 'applicant_location_std_grpby_and_organization', 'category_fe', 'created_on', 'deposit', 'education', 'education_max_grpby_and_category_dow', 'education_max_grpby_and_organization', 'education_mean_grpby_and_category_city', 'education_mean_grpby_and_city', 'education_mean_grpby_and_employer_type', 'education_mean_grpby_and_organization', 'education_median_grpby_and_area', 'education_median_grpby_and_category', 'education_median_grpby_and_category_dow', 'education_median_grpby_and_organization', 'education_min_grpby_and_category', 'education_min_grpby_and_category_dow', 'education_std_grpby_and_area', 'education_std_grpby_and_category_city', 'education_std_grpby_and_category_dow', 'education_std_grpby_and_city', 'employer_type_fe', 'english', 'gender_fe', 'max_salary', 'max_salary_max_grpby_and_area', 'max_salary_max_grpby_and_category', 'max_salary_max_grpby_and_category_city', 'max_salary_max_grpby_and_category_dow', 'max_salary_max_grpby_and_city', 'max_salary_max_grpby_and_employer_type', 'max_salary_mean_grpby_and_area', 'max_salary_mean_grpby_and_category_dow', 'max_salary_mean_grpby_and_city', 'max_salary_mean_grpby_and_employer_type', 'max_salary_median_grpby_and_area', 'max_salary_median_grpby_and_category_city', 'max_salary_median_grpby_and_city', 'max_salary_median_grpby_and_employer_type', 'max_salary_median_grpby_and_organization', 'max_salary_min_grpby_and_category_city', 'max_salary_min_grpby_and_organization', 'max_salary_std_grpby_and_category_dow', 'max_salary_std_grpby_and_employer_type', 'max_salary_std_grpby_and_organization', 'min_salary', 'min_salary_max_grpby_and_category', 'min_salary_max_grpby_and_category_city', 'min_salary_max_grpby_and_employer_type', 'min_salary_mean_grpby_and_category', 'min_salary_mean_grpby_and_category_city', 'min_salary_mean_grpby_and_city', 'min_salary_median_grpby_and_area', 'min_salary_median_grpby_and_category', 'min_salary_median_grpby_and_city', 'min_salary_median_grpby_and_organization', 'min_salary_min_grpby_and_area', 'min_salary_min_grpby_and_city', 'min_salary_std_grpby_and_organization', 'num_openings', 'num_openings_max_grpby_and_area', 'num_openings_max_grpby_and_category_dow', 'num_openings_mean_grpby_and_area', 'num_openings_mean_grpby_and_category', 'num_openings_mean_grpby_and_employer_type', 'num_openings_median_grpby_and_category', 'num_openings_min_grpby_and_organization', 'num_openings_std_grpby_and_area', 'num_openings_std_grpby_and_category', 'num_openings_std_grpby_and_category_city', 'num_openings_std_grpby_and_category_dow', 'num_openings_std_grpby_and_organization', 'organization_fe']\n",
      "Running iteration 27 :\n",
      "100%|███████████████████████████████████████| 459/459 [01:02<00:00,  3.68s/trial, best loss: 0.8580732704225426]\n",
      "Running iteration 28 :\n",
      "100%|███████████████████████████████████████| 476/476 [01:00<00:00,  3.56s/trial, best loss: 0.8580732704225426]\n",
      "Running iteration 29 :\n",
      "100%|███████████████████████████████████████| 493/493 [01:01<00:00,  3.60s/trial, best loss: 0.8580732704225426]\n",
      "Running iteration 30 :\n",
      "100%|███████████████████████████████████████| 510/510 [01:01<00:00,  3.60s/trial, best loss: 0.8580732704225426]\n",
      "Running iteration 31 :\n",
      "100%|███████████████████████████████████████| 527/527 [01:05<00:00,  3.84s/trial, best loss: 0.8580732704225426]\n",
      "Running iteration 32 :\n",
      "100%|███████████████████████████████████████| 544/544 [01:05<00:00,  3.85s/trial, best loss: 0.8577159919724879]\n",
      "new best score: 0.8577159919724879 \n",
      " new best cols: ['applicant_location', 'applicant_location_max_grpby_and_category_city', 'applicant_location_mean_grpby_and_category_city', 'applicant_location_mean_grpby_and_city', 'applicant_location_mean_grpby_and_employer_type', 'applicant_location_median_grpby_and_area', 'applicant_location_median_grpby_and_category_city', 'applicant_location_median_grpby_and_organization', 'applicant_location_min_grpby_and_area', 'applicant_location_min_grpby_and_category_city', 'applicant_location_std_grpby_and_area', 'applicant_location_std_grpby_and_category', 'applicant_location_std_grpby_and_city', 'applicant_location_std_grpby_and_employer_type', 'applicant_location_std_grpby_and_organization', 'category_fe', 'created_on', 'deposit', 'education', 'education_max_grpby_and_category_dow', 'education_max_grpby_and_organization', 'education_mean_grpby_and_category', 'education_mean_grpby_and_city', 'education_mean_grpby_and_employer_type', 'education_mean_grpby_and_organization', 'education_median_grpby_and_area', 'education_median_grpby_and_category', 'education_median_grpby_and_category_dow', 'education_min_grpby_and_category', 'education_min_grpby_and_category_dow', 'education_std_grpby_and_area', 'education_std_grpby_and_category_city', 'education_std_grpby_and_city', 'education_std_grpby_and_organization', 'employer_type_fe', 'english', 'gender_fe', 'max_salary', 'max_salary_max_grpby_and_area', 'max_salary_max_grpby_and_category', 'max_salary_max_grpby_and_category_city', 'max_salary_max_grpby_and_category_dow', 'max_salary_max_grpby_and_city', 'max_salary_max_grpby_and_employer_type', 'max_salary_mean_grpby_and_category_dow', 'max_salary_mean_grpby_and_city', 'max_salary_mean_grpby_and_employer_type', 'max_salary_median_grpby_and_area', 'max_salary_median_grpby_and_category', 'max_salary_median_grpby_and_category_city', 'max_salary_median_grpby_and_city', 'max_salary_median_grpby_and_employer_type', 'max_salary_median_grpby_and_organization', 'max_salary_min_grpby_and_organization', 'max_salary_std_grpby_and_category_city', 'max_salary_std_grpby_and_category_dow', 'max_salary_std_grpby_and_organization', 'min_salary_mean_grpby_and_category', 'min_salary_mean_grpby_and_category_dow', 'min_salary_mean_grpby_and_city', 'min_salary_median_grpby_and_area', 'min_salary_median_grpby_and_category', 'min_salary_median_grpby_and_city', 'min_salary_median_grpby_and_organization', 'min_salary_min_grpby_and_city', 'min_salary_min_grpby_and_employer_type', 'min_salary_std_grpby_and_organization', 'num_openings', 'num_openings_max_grpby_and_category_dow', 'num_openings_mean_grpby_and_area', 'num_openings_mean_grpby_and_category', 'num_openings_median_grpby_and_area', 'num_openings_min_grpby_and_area', 'num_openings_min_grpby_and_category', 'num_openings_min_grpby_and_organization', 'num_openings_std_grpby_and_area', 'num_openings_std_grpby_and_category', 'num_openings_std_grpby_and_category_city', 'num_openings_std_grpby_and_category_dow', 'num_openings_std_grpby_and_organization', 'organization_fe']\n",
      "Running iteration 33 :\n",
      "100%|███████████████████████████████████████| 561/561 [01:01<00:00,  3.62s/trial, best loss: 0.8577159919724879]\n",
      "Running iteration 34 :\n",
      "100%|███████████████████████████████████████| 578/578 [01:00<00:00,  3.54s/trial, best loss: 0.8577159919724879]\n",
      "Running iteration 35 :\n",
      "100%|███████████████████████████████████████| 595/595 [01:03<00:00,  3.73s/trial, best loss: 0.8577159919724879]\n",
      "Running iteration 36 :\n",
      "100%|███████████████████████████████████████| 612/612 [01:01<00:00,  3.64s/trial, best loss: 0.8577159919724879]\n",
      "Running iteration 37 :\n",
      "100%|███████████████████████████████████████| 629/629 [01:00<00:00,  3.56s/trial, best loss: 0.8577159919724879]\n",
      "Running iteration 38 :\n",
      "100%|███████████████████████████████████████| 646/646 [01:00<00:00,  3.56s/trial, best loss: 0.8577159919724879]\n",
      "Running iteration 39 :\n",
      "100%|███████████████████████████████████████| 663/663 [01:00<00:00,  3.58s/trial, best loss: 0.8577159919724879]\n",
      "Running iteration 40 :\n",
      "100%|███████████████████████████████████████| 680/680 [01:02<00:00,  3.70s/trial, best loss: 0.8577159919724879]\n",
      "Running iteration 41 :\n",
      "100%|███████████████████████████████████████| 697/697 [01:02<00:00,  3.69s/trial, best loss: 0.8577159919724879]\n",
      "Running iteration 42 :\n",
      "100%|███████████████████████████████████████| 714/714 [01:04<00:00,  3.80s/trial, best loss: 0.8577159919724879]\n",
      "Running iteration 43 :\n",
      "100%|███████████████████████████████████████| 731/731 [01:02<00:00,  3.67s/trial, best loss: 0.8577159919724879]\n",
      "Running iteration 44 :\n",
      "100%|███████████████████████████████████████| 748/748 [01:02<00:00,  3.70s/trial, best loss: 0.8577159919724879]\n",
      "Running iteration 45 :\n",
      "100%|███████████████████████████████████████| 765/765 [01:02<00:00,  3.70s/trial, best loss: 0.8577159919724879]\n",
      "Running iteration 46 :\n",
      "100%|███████████████████████████████████████| 782/782 [01:03<00:00,  3.74s/trial, best loss: 0.8577159919724879]\n",
      "Running iteration 47 :\n",
      "100%|███████████████████████████████████████| 799/799 [01:02<00:00,  3.67s/trial, best loss: 0.8577159919724879]\n",
      "Best Cols at Recursion 1: \n",
      " ['applicant_location', 'applicant_location_max_grpby_and_category_city', 'applicant_location_mean_grpby_and_category_city', 'applicant_location_mean_grpby_and_city', 'applicant_location_mean_grpby_and_employer_type', 'applicant_location_median_grpby_and_area', 'applicant_location_median_grpby_and_category_city', 'applicant_location_median_grpby_and_organization', 'applicant_location_min_grpby_and_area', 'applicant_location_min_grpby_and_category_city', 'applicant_location_std_grpby_and_area', 'applicant_location_std_grpby_and_category', 'applicant_location_std_grpby_and_city', 'applicant_location_std_grpby_and_employer_type', 'applicant_location_std_grpby_and_organization', 'category_fe', 'created_on', 'deposit', 'education', 'education_max_grpby_and_category_dow', 'education_max_grpby_and_organization', 'education_mean_grpby_and_category', 'education_mean_grpby_and_city', 'education_mean_grpby_and_employer_type', 'education_mean_grpby_and_organization', 'education_median_grpby_and_area', 'education_median_grpby_and_category', 'education_median_grpby_and_category_dow', 'education_min_grpby_and_category', 'education_min_grpby_and_category_dow', 'education_std_grpby_and_area', 'education_std_grpby_and_category_city', 'education_std_grpby_and_city', 'education_std_grpby_and_organization', 'employer_type_fe', 'english', 'gender_fe', 'max_salary', 'max_salary_max_grpby_and_area', 'max_salary_max_grpby_and_category', 'max_salary_max_grpby_and_category_city', 'max_salary_max_grpby_and_category_dow', 'max_salary_max_grpby_and_city', 'max_salary_max_grpby_and_employer_type', 'max_salary_mean_grpby_and_category_dow', 'max_salary_mean_grpby_and_city', 'max_salary_mean_grpby_and_employer_type', 'max_salary_median_grpby_and_area', 'max_salary_median_grpby_and_category', 'max_salary_median_grpby_and_category_city', 'max_salary_median_grpby_and_city', 'max_salary_median_grpby_and_employer_type', 'max_salary_median_grpby_and_organization', 'max_salary_min_grpby_and_organization', 'max_salary_std_grpby_and_category_city', 'max_salary_std_grpby_and_category_dow', 'max_salary_std_grpby_and_organization', 'min_salary_mean_grpby_and_category', 'min_salary_mean_grpby_and_category_dow', 'min_salary_mean_grpby_and_city', 'min_salary_median_grpby_and_area', 'min_salary_median_grpby_and_category', 'min_salary_median_grpby_and_city', 'min_salary_median_grpby_and_organization', 'min_salary_min_grpby_and_city', 'min_salary_min_grpby_and_employer_type', 'min_salary_std_grpby_and_organization', 'num_openings', 'num_openings_max_grpby_and_category_dow', 'num_openings_mean_grpby_and_area', 'num_openings_mean_grpby_and_category', 'num_openings_median_grpby_and_area', 'num_openings_min_grpby_and_area', 'num_openings_min_grpby_and_category', 'num_openings_min_grpby_and_organization', 'num_openings_std_grpby_and_area', 'num_openings_std_grpby_and_category', 'num_openings_std_grpby_and_category_city', 'num_openings_std_grpby_and_category_dow', 'num_openings_std_grpby_and_organization', 'organization_fe'] \n",
      "\n",
      "Recursion 2 :\n",
      "cv score on base dataset: 0.8611768793629718\n",
      "Running iteration 1 :\n",
      "100%|█████████████████████████████████████████| 17/17 [00:37<00:00,  2.18s/trial, best loss: 0.8639857426089534]\n",
      "new best score: 0.8639857426089534 \n",
      " new best cols: ['applicant_location', 'applicant_location_mean_grpby_and_category_city', 'applicant_location_mean_grpby_and_employer_type', 'applicant_location_std_grpby_and_area', 'applicant_location_std_grpby_and_category', 'applicant_location_std_grpby_and_organization', 'category_fe', 'created_on', 'education', 'education_max_grpby_and_organization', 'education_mean_grpby_and_category', 'education_mean_grpby_and_organization', 'education_std_grpby_and_area', 'education_std_grpby_and_category_city', 'employer_type_fe', 'english', 'gender_fe', 'max_salary', 'max_salary_max_grpby_and_category', 'max_salary_mean_grpby_and_city', 'max_salary_mean_grpby_and_employer_type', 'max_salary_median_grpby_and_organization', 'max_salary_min_grpby_and_organization', 'max_salary_std_grpby_and_category_city', 'max_salary_std_grpby_and_category_dow', 'max_salary_std_grpby_and_organization', 'min_salary_mean_grpby_and_category', 'min_salary_mean_grpby_and_category_dow', 'min_salary_mean_grpby_and_city', 'min_salary_median_grpby_and_area', 'min_salary_median_grpby_and_city', 'min_salary_median_grpby_and_organization', 'min_salary_std_grpby_and_organization', 'num_openings', 'num_openings_max_grpby_and_category_dow', 'num_openings_mean_grpby_and_area', 'num_openings_min_grpby_and_category', 'num_openings_min_grpby_and_organization', 'num_openings_std_grpby_and_area', 'num_openings_std_grpby_and_category_city', 'num_openings_std_grpby_and_category_dow', 'num_openings_std_grpby_and_organization']\n",
      "Running iteration 2 :\n",
      "100%|█████████████████████████████████████████| 34/34 [00:37<00:00,  2.23s/trial, best loss: 0.8601631627876593]\n",
      "new best score: 0.8601631627876593 \n",
      " new best cols: ['applicant_location', 'applicant_location_mean_grpby_and_category_city', 'applicant_location_mean_grpby_and_employer_type', 'applicant_location_std_grpby_and_category', 'applicant_location_std_grpby_and_organization', 'category_fe', 'created_on', 'deposit', 'education', 'education_max_grpby_and_organization', 'education_mean_grpby_and_category', 'education_mean_grpby_and_city', 'education_std_grpby_and_area', 'education_std_grpby_and_category_city', 'education_std_grpby_and_city', 'english', 'gender_fe', 'max_salary', 'max_salary_max_grpby_and_category', 'max_salary_mean_grpby_and_category_dow', 'max_salary_mean_grpby_and_city', 'max_salary_mean_grpby_and_employer_type', 'max_salary_median_grpby_and_city', 'max_salary_median_grpby_and_organization', 'max_salary_min_grpby_and_organization', 'max_salary_std_grpby_and_category_city', 'max_salary_std_grpby_and_category_dow', 'max_salary_std_grpby_and_organization', 'min_salary_mean_grpby_and_category', 'min_salary_mean_grpby_and_category_dow', 'min_salary_mean_grpby_and_city', 'min_salary_median_grpby_and_category', 'min_salary_median_grpby_and_city', 'min_salary_median_grpby_and_organization', 'min_salary_std_grpby_and_organization', 'num_openings', 'num_openings_max_grpby_and_category_dow', 'num_openings_mean_grpby_and_category', 'num_openings_min_grpby_and_category', 'num_openings_min_grpby_and_organization', 'num_openings_std_grpby_and_area', 'num_openings_std_grpby_and_category_city', 'num_openings_std_grpby_and_organization', 'organization_fe']\n",
      "Running iteration 3 :\n",
      "100%|█████████████████████████████████████████| 51/51 [00:40<00:00,  2.39s/trial, best loss: 0.8585650262603647]\n",
      "new best score: 0.8585650262603647 \n",
      " new best cols: ['applicant_location', 'applicant_location_mean_grpby_and_category_city', 'applicant_location_mean_grpby_and_employer_type', 'applicant_location_std_grpby_and_category', 'applicant_location_std_grpby_and_organization', 'created_on', 'education', 'education_mean_grpby_and_category', 'education_mean_grpby_and_city', 'education_std_grpby_and_area', 'education_std_grpby_and_category_city', 'education_std_grpby_and_city', 'english', 'gender_fe', 'max_salary', 'max_salary_max_grpby_and_category', 'max_salary_max_grpby_and_city', 'max_salary_mean_grpby_and_category_dow', 'max_salary_mean_grpby_and_city', 'max_salary_mean_grpby_and_employer_type', 'max_salary_median_grpby_and_area', 'max_salary_median_grpby_and_city', 'max_salary_median_grpby_and_organization', 'max_salary_min_grpby_and_organization', 'max_salary_std_grpby_and_organization', 'min_salary_mean_grpby_and_category', 'min_salary_mean_grpby_and_category_dow', 'min_salary_mean_grpby_and_city', 'min_salary_median_grpby_and_category', 'min_salary_median_grpby_and_city', 'min_salary_median_grpby_and_organization', 'min_salary_std_grpby_and_organization', 'num_openings', 'num_openings_max_grpby_and_category_dow', 'num_openings_mean_grpby_and_category', 'num_openings_min_grpby_and_organization', 'num_openings_std_grpby_and_area', 'num_openings_std_grpby_and_category_city', 'num_openings_std_grpby_and_organization', 'organization_fe']\n",
      "Running iteration 4 :\n"
     ]
    },
    {
     "name": "stdout",
     "output_type": "stream",
     "text": [
      "100%|█████████████████████████████████████████| 68/68 [00:43<00:00,  2.56s/trial, best loss: 0.8584989586437809]\n",
      "new best score: 0.8584989586437809 \n",
      " new best cols: ['applicant_location', 'applicant_location_mean_grpby_and_category_city', 'applicant_location_mean_grpby_and_employer_type', 'applicant_location_std_grpby_and_category', 'applicant_location_std_grpby_and_employer_type', 'applicant_location_std_grpby_and_organization', 'category_fe', 'created_on', 'education', 'education_mean_grpby_and_category', 'education_mean_grpby_and_city', 'education_mean_grpby_and_organization', 'education_std_grpby_and_area', 'education_std_grpby_and_category_city', 'education_std_grpby_and_city', 'employer_type_fe', 'english', 'gender_fe', 'max_salary', 'max_salary_max_grpby_and_area', 'max_salary_max_grpby_and_category', 'max_salary_max_grpby_and_city', 'max_salary_mean_grpby_and_category_dow', 'max_salary_mean_grpby_and_city', 'max_salary_mean_grpby_and_employer_type', 'max_salary_median_grpby_and_area', 'max_salary_median_grpby_and_city', 'max_salary_median_grpby_and_organization', 'max_salary_min_grpby_and_organization', 'max_salary_std_grpby_and_category_city', 'max_salary_std_grpby_and_organization', 'min_salary_mean_grpby_and_category', 'min_salary_mean_grpby_and_category_dow', 'min_salary_mean_grpby_and_city', 'min_salary_median_grpby_and_category', 'min_salary_median_grpby_and_city', 'min_salary_median_grpby_and_organization', 'min_salary_min_grpby_and_employer_type', 'min_salary_std_grpby_and_organization', 'num_openings', 'num_openings_mean_grpby_and_area', 'num_openings_std_grpby_and_area', 'num_openings_std_grpby_and_category_city', 'num_openings_std_grpby_and_organization', 'organization_fe']\n",
      "Running iteration 5 :\n",
      "100%|█████████████████████████████████████████| 85/85 [00:41<00:00,  2.47s/trial, best loss: 0.8584989586437809]\n",
      "Running iteration 6 :\n",
      "100%|███████████████████████████████████████| 102/102 [00:42<00:00,  2.52s/trial, best loss: 0.8584989586437809]\n",
      "Running iteration 7 :\n",
      "100%|███████████████████████████████████████| 119/119 [00:40<00:00,  2.39s/trial, best loss: 0.8582301253561497]\n",
      "new best score: 0.8582301253561497 \n",
      " new best cols: ['applicant_location', 'applicant_location_mean_grpby_and_category_city', 'applicant_location_mean_grpby_and_employer_type', 'applicant_location_median_grpby_and_organization', 'applicant_location_std_grpby_and_area', 'applicant_location_std_grpby_and_category', 'applicant_location_std_grpby_and_organization', 'category_fe', 'created_on', 'education', 'education_mean_grpby_and_category', 'education_mean_grpby_and_city', 'education_std_grpby_and_area', 'education_std_grpby_and_category_city', 'english', 'gender_fe', 'max_salary', 'max_salary_max_grpby_and_category', 'max_salary_mean_grpby_and_category_dow', 'max_salary_mean_grpby_and_city', 'max_salary_mean_grpby_and_employer_type', 'max_salary_median_grpby_and_area', 'max_salary_median_grpby_and_city', 'max_salary_median_grpby_and_organization', 'max_salary_min_grpby_and_organization', 'max_salary_std_grpby_and_organization', 'min_salary_mean_grpby_and_category', 'min_salary_mean_grpby_and_category_dow', 'min_salary_mean_grpby_and_city', 'min_salary_median_grpby_and_category', 'min_salary_median_grpby_and_city', 'min_salary_median_grpby_and_organization', 'min_salary_min_grpby_and_employer_type', 'min_salary_std_grpby_and_organization', 'num_openings', 'num_openings_min_grpby_and_organization', 'num_openings_std_grpby_and_area', 'num_openings_std_grpby_and_category_city', 'num_openings_std_grpby_and_category_dow', 'num_openings_std_grpby_and_organization', 'organization_fe']\n",
      "Running iteration 8 :\n",
      "100%|███████████████████████████████████████| 136/136 [00:39<00:00,  2.30s/trial, best loss: 0.8582301253561497]\n",
      "Running iteration 9 :\n",
      "100%|███████████████████████████████████████| 153/153 [00:41<00:00,  2.45s/trial, best loss: 0.8582301253561497]\n",
      "Running iteration 10 :\n",
      "100%|███████████████████████████████████████| 170/170 [00:43<00:00,  2.57s/trial, best loss: 0.8581325757489945]\n",
      "new best score: 0.8581325757489945 \n",
      " new best cols: ['applicant_location', 'applicant_location_mean_grpby_and_category_city', 'applicant_location_mean_grpby_and_employer_type', 'applicant_location_min_grpby_and_category_city', 'applicant_location_std_grpby_and_area', 'applicant_location_std_grpby_and_category', 'applicant_location_std_grpby_and_city', 'applicant_location_std_grpby_and_organization', 'category_fe', 'created_on', 'education', 'education_mean_grpby_and_category', 'education_mean_grpby_and_organization', 'education_median_grpby_and_category_dow', 'education_std_grpby_and_area', 'education_std_grpby_and_category_city', 'education_std_grpby_and_city', 'employer_type_fe', 'english', 'gender_fe', 'max_salary', 'max_salary_max_grpby_and_category', 'max_salary_mean_grpby_and_city', 'max_salary_mean_grpby_and_employer_type', 'max_salary_median_grpby_and_area', 'max_salary_median_grpby_and_category_city', 'max_salary_median_grpby_and_organization', 'max_salary_min_grpby_and_organization', 'max_salary_std_grpby_and_organization', 'min_salary_mean_grpby_and_category', 'min_salary_mean_grpby_and_category_dow', 'min_salary_mean_grpby_and_city', 'min_salary_median_grpby_and_category', 'min_salary_median_grpby_and_city', 'min_salary_median_grpby_and_organization', 'min_salary_min_grpby_and_employer_type', 'min_salary_std_grpby_and_organization', 'num_openings', 'num_openings_max_grpby_and_category_dow', 'num_openings_mean_grpby_and_area', 'num_openings_min_grpby_and_organization', 'num_openings_std_grpby_and_area', 'num_openings_std_grpby_and_category', 'num_openings_std_grpby_and_category_city', 'num_openings_std_grpby_and_organization', 'organization_fe']\n",
      "Running iteration 11 :\n",
      "100%|███████████████████████████████████████| 187/187 [00:43<00:00,  2.53s/trial, best loss: 0.8578538974392863]\n",
      "new best score: 0.8578538974392863 \n",
      " new best cols: ['applicant_location', 'applicant_location_mean_grpby_and_category_city', 'applicant_location_mean_grpby_and_employer_type', 'applicant_location_std_grpby_and_area', 'applicant_location_std_grpby_and_category', 'applicant_location_std_grpby_and_city', 'applicant_location_std_grpby_and_organization', 'category_fe', 'created_on', 'deposit', 'education', 'education_mean_grpby_and_category', 'education_median_grpby_and_category_dow', 'education_std_grpby_and_area', 'education_std_grpby_and_category_city', 'education_std_grpby_and_city', 'education_std_grpby_and_organization', 'employer_type_fe', 'english', 'gender_fe', 'max_salary', 'max_salary_max_grpby_and_category', 'max_salary_mean_grpby_and_category_dow', 'max_salary_mean_grpby_and_city', 'max_salary_mean_grpby_and_employer_type', 'max_salary_median_grpby_and_area', 'max_salary_median_grpby_and_category_city', 'max_salary_median_grpby_and_organization', 'max_salary_min_grpby_and_organization', 'max_salary_std_grpby_and_organization', 'min_salary_mean_grpby_and_category', 'min_salary_mean_grpby_and_category_dow', 'min_salary_mean_grpby_and_city', 'min_salary_median_grpby_and_category', 'min_salary_median_grpby_and_city', 'min_salary_median_grpby_and_organization', 'min_salary_min_grpby_and_employer_type', 'min_salary_std_grpby_and_organization', 'num_openings', 'num_openings_max_grpby_and_category_dow', 'num_openings_min_grpby_and_organization', 'num_openings_std_grpby_and_area', 'num_openings_std_grpby_and_category', 'num_openings_std_grpby_and_category_city', 'num_openings_std_grpby_and_organization', 'organization_fe']\n",
      "Running iteration 12 :\n",
      "100%|███████████████████████████████████████| 204/204 [00:42<00:00,  2.49s/trial, best loss: 0.8578538974392863]\n",
      "Running iteration 13 :\n",
      "100%|███████████████████████████████████████| 221/221 [00:41<00:00,  2.42s/trial, best loss: 0.8578538974392863]\n",
      "Running iteration 14 :\n",
      "100%|███████████████████████████████████████| 238/238 [00:42<00:00,  2.51s/trial, best loss: 0.8578538974392863]\n",
      "Running iteration 15 :\n",
      "100%|███████████████████████████████████████| 255/255 [00:42<00:00,  2.53s/trial, best loss: 0.8578538974392863]\n",
      "Running iteration 16 :\n",
      "100%|███████████████████████████████████████| 272/272 [00:47<00:00,  2.79s/trial, best loss: 0.8578538974392863]\n",
      "Running iteration 17 :\n"
     ]
    },
    {
     "name": "stdout",
     "output_type": "stream",
     "text": [
      "100%|███████████████████████████████████████| 289/289 [00:43<00:00,  2.54s/trial, best loss: 0.8578538974392863]\n",
      "Running iteration 18 :\n",
      "100%|███████████████████████████████████████| 306/306 [00:44<00:00,  2.62s/trial, best loss: 0.8578538974392863]\n",
      "Running iteration 19 :\n",
      "100%|███████████████████████████████████████| 323/323 [00:43<00:00,  2.55s/trial, best loss: 0.8578538974392863]\n",
      "Running iteration 20 :\n",
      "100%|███████████████████████████████████████| 340/340 [00:46<00:00,  2.74s/trial, best loss: 0.8578538974392863]\n",
      "Running iteration 21 :\n",
      "100%|███████████████████████████████████████| 357/357 [00:43<00:00,  2.56s/trial, best loss: 0.8578538974392863]\n",
      "Running iteration 22 :\n",
      "100%|███████████████████████████████████████| 374/374 [00:42<00:00,  2.52s/trial, best loss: 0.8578538974392863]\n",
      "Running iteration 23 :\n",
      "100%|███████████████████████████████████████| 391/391 [00:45<00:00,  2.65s/trial, best loss: 0.8578538974392863]\n",
      "Running iteration 24 :\n",
      "100%|███████████████████████████████████████| 408/408 [00:44<00:00,  2.62s/trial, best loss: 0.8578538974392863]\n",
      "Running iteration 25 :\n",
      "100%|███████████████████████████████████████| 425/425 [00:46<00:00,  2.72s/trial, best loss: 0.8578538974392863]\n",
      "Running iteration 26 :\n",
      "100%|███████████████████████████████████████| 442/442 [00:45<00:00,  2.70s/trial, best loss: 0.8578538974392863]\n",
      "Best Cols at Recursion 2: \n",
      " ['applicant_location', 'applicant_location_mean_grpby_and_category_city', 'applicant_location_mean_grpby_and_employer_type', 'applicant_location_std_grpby_and_area', 'applicant_location_std_grpby_and_category', 'applicant_location_std_grpby_and_city', 'applicant_location_std_grpby_and_organization', 'category_fe', 'created_on', 'deposit', 'education', 'education_mean_grpby_and_category', 'education_median_grpby_and_category_dow', 'education_std_grpby_and_area', 'education_std_grpby_and_category_city', 'education_std_grpby_and_city', 'education_std_grpby_and_organization', 'employer_type_fe', 'english', 'gender_fe', 'max_salary', 'max_salary_max_grpby_and_category', 'max_salary_mean_grpby_and_category_dow', 'max_salary_mean_grpby_and_city', 'max_salary_mean_grpby_and_employer_type', 'max_salary_median_grpby_and_area', 'max_salary_median_grpby_and_category_city', 'max_salary_median_grpby_and_organization', 'max_salary_min_grpby_and_organization', 'max_salary_std_grpby_and_organization', 'min_salary_mean_grpby_and_category', 'min_salary_mean_grpby_and_category_dow', 'min_salary_mean_grpby_and_city', 'min_salary_median_grpby_and_category', 'min_salary_median_grpby_and_city', 'min_salary_median_grpby_and_organization', 'min_salary_min_grpby_and_employer_type', 'min_salary_std_grpby_and_organization', 'num_openings', 'num_openings_max_grpby_and_category_dow', 'num_openings_min_grpby_and_organization', 'num_openings_std_grpby_and_area', 'num_openings_std_grpby_and_category', 'num_openings_std_grpby_and_category_city', 'num_openings_std_grpby_and_organization', 'organization_fe'] \n",
      "\n",
      "Recursion 3 :\n",
      "cv score on base dataset: 0.8578538974392863\n",
      "Running iteration 1 :\n",
      "100%|█████████████████████████████████████████| 17/17 [00:32<00:00,  1.90s/trial, best loss: 0.8615831818731846]\n",
      "new best score: 0.8615831818731846 \n",
      " new best cols: ['applicant_location', 'applicant_location_mean_grpby_and_category_city', 'applicant_location_mean_grpby_and_employer_type', 'applicant_location_std_grpby_and_area', 'applicant_location_std_grpby_and_category', 'applicant_location_std_grpby_and_city', 'applicant_location_std_grpby_and_organization', 'category_fe', 'created_on', 'education', 'education_std_grpby_and_area', 'education_std_grpby_and_category_city', 'education_std_grpby_and_city', 'education_std_grpby_and_organization', 'english', 'max_salary', 'max_salary_max_grpby_and_category', 'max_salary_mean_grpby_and_category_dow', 'max_salary_mean_grpby_and_city', 'max_salary_mean_grpby_and_employer_type', 'max_salary_median_grpby_and_area', 'max_salary_min_grpby_and_organization', 'max_salary_std_grpby_and_organization', 'min_salary_mean_grpby_and_category', 'min_salary_mean_grpby_and_category_dow', 'min_salary_median_grpby_and_organization', 'num_openings', 'num_openings_min_grpby_and_organization', 'num_openings_std_grpby_and_area', 'num_openings_std_grpby_and_category', 'num_openings_std_grpby_and_category_city', 'num_openings_std_grpby_and_organization', 'organization_fe']\n",
      "Running iteration 2 :\n",
      "100%|█████████████████████████████████████████| 34/34 [00:34<00:00,  2.05s/trial, best loss: 0.8615831818731846]\n",
      "Running iteration 3 :\n",
      "100%|█████████████████████████████████████████| 51/51 [00:36<00:00,  2.15s/trial, best loss: 0.8583748424556159]\n",
      "new best score: 0.8583748424556159 \n",
      " new best cols: ['applicant_location', 'applicant_location_mean_grpby_and_category_city', 'applicant_location_std_grpby_and_area', 'applicant_location_std_grpby_and_category', 'applicant_location_std_grpby_and_city', 'applicant_location_std_grpby_and_organization', 'category_fe', 'created_on', 'education', 'education_mean_grpby_and_category', 'education_std_grpby_and_area', 'education_std_grpby_and_category_city', 'education_std_grpby_and_organization', 'english', 'gender_fe', 'max_salary', 'max_salary_max_grpby_and_category', 'max_salary_mean_grpby_and_category_dow', 'max_salary_mean_grpby_and_city', 'max_salary_median_grpby_and_category_city', 'max_salary_median_grpby_and_organization', 'max_salary_min_grpby_and_organization', 'max_salary_std_grpby_and_organization', 'min_salary_mean_grpby_and_city', 'min_salary_min_grpby_and_employer_type', 'min_salary_std_grpby_and_organization', 'num_openings', 'num_openings_min_grpby_and_organization', 'num_openings_std_grpby_and_area', 'num_openings_std_grpby_and_category_city', 'num_openings_std_grpby_and_organization', 'organization_fe']\n",
      "Running iteration 4 :\n",
      "100%|█████████████████████████████████████████| 68/68 [00:35<00:00,  2.11s/trial, best loss: 0.8573958320503866]\n",
      "new best score: 0.8573958320503866 \n",
      " new best cols: ['applicant_location', 'applicant_location_mean_grpby_and_category_city', 'applicant_location_std_grpby_and_area', 'applicant_location_std_grpby_and_category', 'applicant_location_std_grpby_and_city', 'applicant_location_std_grpby_and_organization', 'category_fe', 'created_on', 'education', 'education_mean_grpby_and_category', 'education_std_grpby_and_area', 'education_std_grpby_and_category_city', 'education_std_grpby_and_organization', 'english', 'gender_fe', 'max_salary', 'max_salary_max_grpby_and_category', 'max_salary_mean_grpby_and_category_dow', 'max_salary_median_grpby_and_area', 'max_salary_median_grpby_and_category_city', 'max_salary_min_grpby_and_organization', 'max_salary_std_grpby_and_organization', 'min_salary_mean_grpby_and_category_dow', 'min_salary_mean_grpby_and_city', 'min_salary_median_grpby_and_category', 'min_salary_median_grpby_and_organization', 'min_salary_min_grpby_and_employer_type', 'min_salary_std_grpby_and_organization', 'num_openings', 'num_openings_min_grpby_and_organization', 'num_openings_std_grpby_and_area', 'num_openings_std_grpby_and_category_city', 'num_openings_std_grpby_and_organization', 'organization_fe']\n",
      "Running iteration 5 :\n",
      "100%|█████████████████████████████████████████| 85/85 [00:34<00:00,  2.05s/trial, best loss: 0.8573958320503866]\n",
      "Running iteration 6 :\n",
      "100%|███████████████████████████████████████| 102/102 [00:37<00:00,  2.18s/trial, best loss: 0.8573958320503866]\n",
      "Running iteration 7 :\n",
      "100%|███████████████████████████████████████| 119/119 [00:36<00:00,  2.17s/trial, best loss: 0.8573958320503866]\n",
      "Running iteration 8 :\n",
      "100%|███████████████████████████████████████| 136/136 [00:37<00:00,  2.18s/trial, best loss: 0.8573958320503866]\n",
      "Running iteration 9 :\n",
      "100%|███████████████████████████████████████| 153/153 [00:35<00:00,  2.11s/trial, best loss: 0.8573958320503866]\n",
      "Running iteration 10 :\n",
      "100%|███████████████████████████████████████| 170/170 [00:37<00:00,  2.20s/trial, best loss: 0.8573958320503866]\n",
      "Running iteration 11 :\n",
      "100%|███████████████████████████████████████| 187/187 [00:37<00:00,  2.23s/trial, best loss: 0.8573958320503866]\n",
      "Running iteration 12 :\n",
      "100%|███████████████████████████████████████| 204/204 [00:36<00:00,  2.13s/trial, best loss: 0.8573958320503866]\n",
      "Running iteration 13 :\n",
      "100%|███████████████████████████████████████| 221/221 [00:36<00:00,  2.14s/trial, best loss: 0.8573958320503866]\n",
      "Running iteration 14 :\n",
      "100%|███████████████████████████████████████| 238/238 [00:36<00:00,  2.16s/trial, best loss: 0.8573958320503866]\n",
      "Running iteration 15 :\n",
      "100%|███████████████████████████████████████| 255/255 [00:35<00:00,  2.07s/trial, best loss: 0.8573958320503866]\n",
      "Running iteration 16 :\n",
      "100%|███████████████████████████████████████| 272/272 [00:37<00:00,  2.18s/trial, best loss: 0.8573958320503866]\n",
      "Running iteration 17 :\n",
      "100%|███████████████████████████████████████| 289/289 [00:38<00:00,  2.26s/trial, best loss: 0.8573958320503866]\n",
      "Running iteration 18 :\n",
      "100%|███████████████████████████████████████| 306/306 [00:39<00:00,  2.34s/trial, best loss: 0.8573958320503866]\n",
      "Running iteration 19 :\n",
      "100%|███████████████████████████████████████| 323/323 [00:38<00:00,  2.24s/trial, best loss: 0.8573958320503866]\n",
      "Best Cols at Recursion 3: \n",
      " ['applicant_location', 'applicant_location_mean_grpby_and_category_city', 'applicant_location_std_grpby_and_area', 'applicant_location_std_grpby_and_category', 'applicant_location_std_grpby_and_city', 'applicant_location_std_grpby_and_organization', 'category_fe', 'created_on', 'education', 'education_mean_grpby_and_category', 'education_std_grpby_and_area', 'education_std_grpby_and_category_city', 'education_std_grpby_and_organization', 'english', 'gender_fe', 'max_salary', 'max_salary_max_grpby_and_category', 'max_salary_mean_grpby_and_category_dow', 'max_salary_median_grpby_and_area', 'max_salary_median_grpby_and_category_city', 'max_salary_min_grpby_and_organization', 'max_salary_std_grpby_and_organization', 'min_salary_mean_grpby_and_category_dow', 'min_salary_mean_grpby_and_city', 'min_salary_median_grpby_and_category', 'min_salary_median_grpby_and_organization', 'min_salary_min_grpby_and_employer_type', 'min_salary_std_grpby_and_organization', 'num_openings', 'num_openings_min_grpby_and_organization', 'num_openings_std_grpby_and_area', 'num_openings_std_grpby_and_category_city', 'num_openings_std_grpby_and_organization', 'organization_fe'] \n",
      "\n",
      "Recursion 4 :\n",
      "cv score on base dataset: 0.8573958320503866\n",
      "Running iteration 1 :\n",
      "100%|█████████████████████████████████████████| 17/17 [00:30<00:00,  1.81s/trial, best loss: 0.8616827101376042]\n",
      "new best score: 0.8616827101376042 \n",
      " new best cols: ['applicant_location', 'applicant_location_mean_grpby_and_category_city', 'applicant_location_std_grpby_and_area', 'applicant_location_std_grpby_and_category', 'applicant_location_std_grpby_and_city', 'applicant_location_std_grpby_and_organization', 'category_fe', 'created_on', 'education', 'education_mean_grpby_and_category', 'education_std_grpby_and_area', 'education_std_grpby_and_category_city', 'education_std_grpby_and_organization', 'english', 'max_salary', 'max_salary_mean_grpby_and_category_dow', 'max_salary_median_grpby_and_area', 'max_salary_median_grpby_and_category_city', 'max_salary_min_grpby_and_organization', 'max_salary_std_grpby_and_organization', 'min_salary_mean_grpby_and_category_dow', 'min_salary_mean_grpby_and_city', 'min_salary_median_grpby_and_organization', 'min_salary_min_grpby_and_employer_type', 'num_openings', 'num_openings_std_grpby_and_area', 'num_openings_std_grpby_and_category_city', 'num_openings_std_grpby_and_organization']\n",
      "Running iteration 2 :\n",
      "100%|█████████████████████████████████████████| 34/34 [00:35<00:00,  2.07s/trial, best loss: 0.8598054472389749]\n",
      "new best score: 0.8598054472389749 \n",
      " new best cols: ['applicant_location', 'applicant_location_mean_grpby_and_category_city', 'applicant_location_std_grpby_and_area', 'applicant_location_std_grpby_and_category', 'applicant_location_std_grpby_and_city', 'category_fe', 'created_on', 'education', 'education_mean_grpby_and_category', 'education_std_grpby_and_area', 'education_std_grpby_and_category_city', 'education_std_grpby_and_organization', 'english', 'gender_fe', 'max_salary', 'max_salary_mean_grpby_and_category_dow', 'max_salary_median_grpby_and_area', 'max_salary_median_grpby_and_category_city', 'max_salary_std_grpby_and_organization', 'min_salary_mean_grpby_and_category_dow', 'min_salary_mean_grpby_and_city', 'min_salary_median_grpby_and_category', 'min_salary_median_grpby_and_organization', 'min_salary_std_grpby_and_organization', 'num_openings', 'num_openings_std_grpby_and_area', 'num_openings_std_grpby_and_category_city', 'organization_fe']\n",
      "Running iteration 3 :\n",
      "100%|█████████████████████████████████████████| 51/51 [00:36<00:00,  2.14s/trial, best loss: 0.8588621254156789]\n",
      "new best score: 0.8588621254156789 \n",
      " new best cols: ['applicant_location', 'applicant_location_mean_grpby_and_category_city', 'applicant_location_std_grpby_and_area', 'applicant_location_std_grpby_and_category', 'applicant_location_std_grpby_and_city', 'category_fe', 'created_on', 'education', 'education_mean_grpby_and_category', 'education_std_grpby_and_area', 'education_std_grpby_and_category_city', 'education_std_grpby_and_organization', 'english', 'gender_fe', 'max_salary', 'max_salary_max_grpby_and_category', 'max_salary_mean_grpby_and_category_dow', 'max_salary_median_grpby_and_area', 'max_salary_median_grpby_and_category_city', 'max_salary_std_grpby_and_organization', 'min_salary_mean_grpby_and_category_dow', 'min_salary_mean_grpby_and_city', 'min_salary_median_grpby_and_category', 'min_salary_median_grpby_and_organization', 'min_salary_std_grpby_and_organization', 'num_openings', 'num_openings_std_grpby_and_area', 'num_openings_std_grpby_and_category_city', 'organization_fe']\n",
      "Running iteration 4 :\n",
      "100%|█████████████████████████████████████████| 68/68 [00:32<00:00,  1.92s/trial, best loss: 0.8588621254156789]\n",
      "Running iteration 5 :\n",
      "100%|█████████████████████████████████████████| 85/85 [00:33<00:00,  1.96s/trial, best loss: 0.8588621254156789]\n",
      "Running iteration 6 :\n",
      "100%|███████████████████████████████████████| 102/102 [00:33<00:00,  1.96s/trial, best loss: 0.8588621254156789]\n",
      "Running iteration 7 :\n",
      "100%|███████████████████████████████████████| 119/119 [00:33<00:00,  1.95s/trial, best loss: 0.8584133579052531]\n",
      "new best score: 0.8584133579052531 \n",
      " new best cols: ['applicant_location', 'applicant_location_mean_grpby_and_category_city', 'applicant_location_std_grpby_and_area', 'applicant_location_std_grpby_and_category', 'applicant_location_std_grpby_and_city', 'category_fe', 'created_on', 'education', 'education_mean_grpby_and_category', 'education_std_grpby_and_area', 'education_std_grpby_and_category_city', 'education_std_grpby_and_organization', 'english', 'gender_fe', 'max_salary', 'max_salary_mean_grpby_and_category_dow', 'max_salary_median_grpby_and_area', 'max_salary_std_grpby_and_organization', 'min_salary_mean_grpby_and_category_dow', 'min_salary_median_grpby_and_category', 'min_salary_median_grpby_and_organization', 'min_salary_std_grpby_and_organization', 'num_openings', 'num_openings_std_grpby_and_area', 'num_openings_std_grpby_and_category_city', 'organization_fe']\n",
      "Running iteration 8 :\n",
      "100%|███████████████████████████████████████| 136/136 [00:34<00:00,  2.01s/trial, best loss: 0.8584133579052531]\n",
      "Running iteration 9 :\n",
      "100%|███████████████████████████████████████| 153/153 [00:32<00:00,  1.94s/trial, best loss: 0.8584133579052531]\n",
      "Running iteration 10 :\n",
      "100%|███████████████████████████████████████| 170/170 [00:32<00:00,  1.93s/trial, best loss: 0.8584133579052531]\n",
      "Running iteration 11 :\n",
      "100%|███████████████████████████████████████| 187/187 [00:33<00:00,  1.97s/trial, best loss: 0.8584133579052531]\n",
      "Running iteration 12 :\n",
      "100%|███████████████████████████████████████| 204/204 [00:32<00:00,  1.89s/trial, best loss: 0.8580173635399682]\n",
      "new best score: 0.8580173635399682 \n",
      " new best cols: ['applicant_location', 'applicant_location_mean_grpby_and_category_city', 'applicant_location_std_grpby_and_area', 'applicant_location_std_grpby_and_category', 'applicant_location_std_grpby_and_city', 'category_fe', 'created_on', 'education', 'education_mean_grpby_and_category', 'education_std_grpby_and_area', 'education_std_grpby_and_category_city', 'education_std_grpby_and_organization', 'english', 'gender_fe', 'max_salary', 'max_salary_mean_grpby_and_category_dow', 'max_salary_min_grpby_and_organization', 'max_salary_std_grpby_and_organization', 'min_salary_mean_grpby_and_category_dow', 'min_salary_median_grpby_and_category', 'min_salary_median_grpby_and_organization', 'min_salary_std_grpby_and_organization', 'num_openings', 'num_openings_std_grpby_and_area', 'num_openings_std_grpby_and_category_city', 'organization_fe']\n",
      "Running iteration 13 :\n"
     ]
    },
    {
     "name": "stdout",
     "output_type": "stream",
     "text": [
      "100%|███████████████████████████████████████| 221/221 [00:33<00:00,  1.99s/trial, best loss: 0.8580173635399682]\n",
      "Running iteration 14 :\n",
      "100%|███████████████████████████████████████| 238/238 [00:34<00:00,  2.04s/trial, best loss: 0.8580173635399682]\n",
      "Running iteration 15 :\n",
      "100%|███████████████████████████████████████| 255/255 [00:33<00:00,  1.96s/trial, best loss: 0.8580173635399682]\n",
      "Running iteration 16 :\n",
      "100%|███████████████████████████████████████| 272/272 [00:33<00:00,  1.94s/trial, best loss: 0.8580173635399682]\n",
      "Running iteration 17 :\n",
      "100%|███████████████████████████████████████| 289/289 [00:35<00:00,  2.10s/trial, best loss: 0.8580173635399682]\n",
      "Running iteration 18 :\n",
      "100%|███████████████████████████████████████| 306/306 [00:33<00:00,  1.96s/trial, best loss: 0.8580173635399682]\n",
      "Running iteration 19 :\n",
      "100%|███████████████████████████████████████| 323/323 [00:34<00:00,  2.03s/trial, best loss: 0.8580173635399682]\n",
      "Running iteration 20 :\n",
      "100%|███████████████████████████████████████| 340/340 [00:32<00:00,  1.93s/trial, best loss: 0.8580173635399682]\n",
      "Running iteration 21 :\n",
      "100%|███████████████████████████████████████| 357/357 [00:32<00:00,  1.89s/trial, best loss: 0.8580173635399682]\n",
      "Running iteration 22 :\n",
      "100%|███████████████████████████████████████| 374/374 [00:31<00:00,  1.86s/trial, best loss: 0.8576415883348796]\n",
      "new best score: 0.8576415883348796 \n",
      " new best cols: ['applicant_location', 'applicant_location_mean_grpby_and_category_city', 'applicant_location_std_grpby_and_area', 'applicant_location_std_grpby_and_category', 'applicant_location_std_grpby_and_city', 'applicant_location_std_grpby_and_organization', 'category_fe', 'created_on', 'education', 'education_mean_grpby_and_category', 'education_std_grpby_and_area', 'education_std_grpby_and_category_city', 'education_std_grpby_and_organization', 'english', 'gender_fe', 'max_salary', 'max_salary_mean_grpby_and_category_dow', 'max_salary_median_grpby_and_area', 'min_salary_median_grpby_and_category', 'min_salary_median_grpby_and_organization', 'min_salary_std_grpby_and_organization', 'num_openings', 'num_openings_std_grpby_and_area', 'num_openings_std_grpby_and_category_city', 'organization_fe']\n",
      "Running iteration 23 :\n",
      "100%|███████████████████████████████████████| 391/391 [00:32<00:00,  1.90s/trial, best loss: 0.8576415883348796]\n",
      "Running iteration 24 :\n",
      "100%|███████████████████████████████████████| 408/408 [00:33<00:00,  2.00s/trial, best loss: 0.8576415883348796]\n",
      "Running iteration 25 :\n",
      "100%|███████████████████████████████████████| 425/425 [00:34<00:00,  2.06s/trial, best loss: 0.8576415883348796]\n",
      "Running iteration 26 :\n",
      "100%|███████████████████████████████████████| 442/442 [00:33<00:00,  1.95s/trial, best loss: 0.8576415883348796]\n",
      "Running iteration 27 :\n",
      "100%|███████████████████████████████████████| 459/459 [00:32<00:00,  1.89s/trial, best loss: 0.8576415883348796]\n",
      "Running iteration 28 :\n",
      "100%|███████████████████████████████████████| 476/476 [00:32<00:00,  1.91s/trial, best loss: 0.8576415883348796]\n",
      "Running iteration 29 :\n",
      "100%|███████████████████████████████████████| 493/493 [00:33<00:00,  1.96s/trial, best loss: 0.8576415883348796]\n",
      "Running iteration 30 :\n",
      "100%|███████████████████████████████████████| 510/510 [00:34<00:00,  2.00s/trial, best loss: 0.8576415883348796]\n",
      "Running iteration 31 :\n",
      "100%|███████████████████████████████████████| 527/527 [00:34<00:00,  2.01s/trial, best loss: 0.8576415883348796]\n",
      "Running iteration 32 :\n",
      "100%|███████████████████████████████████████| 544/544 [00:34<00:00,  2.05s/trial, best loss: 0.8576415883348796]\n",
      "Running iteration 33 :\n",
      "100%|███████████████████████████████████████| 561/561 [00:35<00:00,  2.08s/trial, best loss: 0.8576415883348796]\n",
      "Running iteration 34 :\n",
      "100%|███████████████████████████████████████| 578/578 [00:34<00:00,  2.02s/trial, best loss: 0.8576415883348796]\n",
      "Running iteration 35 :\n",
      "100%|███████████████████████████████████████| 595/595 [00:34<00:00,  2.00s/trial, best loss: 0.8576415883348796]\n",
      "Running iteration 36 :\n",
      "100%|███████████████████████████████████████| 612/612 [00:33<00:00,  1.98s/trial, best loss: 0.8576415883348796]\n",
      "Running iteration 37 :\n",
      "100%|█████████████████████████████████████████| 629/629 [00:32<00:00,  1.91s/trial, best loss: 0.85709413893927]\n",
      "new best score: 0.85709413893927 \n",
      " new best cols: ['applicant_location', 'applicant_location_mean_grpby_and_category_city', 'applicant_location_std_grpby_and_area', 'applicant_location_std_grpby_and_category', 'applicant_location_std_grpby_and_city', 'applicant_location_std_grpby_and_organization', 'category_fe', 'education', 'education_mean_grpby_and_category', 'education_std_grpby_and_area', 'education_std_grpby_and_category_city', 'english', 'gender_fe', 'max_salary', 'max_salary_mean_grpby_and_category_dow', 'max_salary_median_grpby_and_area', 'max_salary_median_grpby_and_category_city', 'min_salary_median_grpby_and_organization', 'min_salary_std_grpby_and_organization', 'num_openings', 'num_openings_std_grpby_and_area', 'num_openings_std_grpby_and_category_city', 'organization_fe']\n",
      "Running iteration 38 :\n",
      "100%|█████████████████████████████████████████| 646/646 [00:32<00:00,  1.92s/trial, best loss: 0.85709413893927]\n",
      "Running iteration 39 :\n",
      "100%|█████████████████████████████████████████| 663/663 [00:32<00:00,  1.93s/trial, best loss: 0.85709413893927]\n",
      "Running iteration 40 :\n",
      "100%|█████████████████████████████████████████| 680/680 [00:32<00:00,  1.93s/trial, best loss: 0.85709413893927]\n",
      "Running iteration 41 :\n",
      "100%|█████████████████████████████████████████| 697/697 [00:32<00:00,  1.90s/trial, best loss: 0.85709413893927]\n",
      "Running iteration 42 :\n",
      "100%|█████████████████████████████████████████| 714/714 [00:32<00:00,  1.93s/trial, best loss: 0.85709413893927]\n",
      "Running iteration 43 :\n",
      "100%|█████████████████████████████████████████| 731/731 [00:32<00:00,  1.91s/trial, best loss: 0.85709413893927]\n",
      "Running iteration 44 :\n",
      "100%|█████████████████████████████████████████| 748/748 [00:32<00:00,  1.93s/trial, best loss: 0.85709413893927]\n",
      "Running iteration 45 :\n",
      "100%|█████████████████████████████████████████| 765/765 [00:32<00:00,  1.93s/trial, best loss: 0.85709413893927]\n",
      "Running iteration 46 :\n",
      "100%|█████████████████████████████████████████| 782/782 [00:33<00:00,  1.94s/trial, best loss: 0.85709413893927]\n",
      "Running iteration 47 :\n",
      "100%|█████████████████████████████████████████| 799/799 [00:33<00:00,  1.95s/trial, best loss: 0.85709413893927]\n",
      "Running iteration 48 :\n",
      "100%|█████████████████████████████████████████| 816/816 [00:33<00:00,  1.97s/trial, best loss: 0.85709413893927]\n",
      "Running iteration 49 :\n",
      "100%|█████████████████████████████████████████| 833/833 [00:34<00:00,  2.01s/trial, best loss: 0.85709413893927]\n",
      "Running iteration 50 :\n",
      "100%|█████████████████████████████████████████| 850/850 [00:32<00:00,  1.92s/trial, best loss: 0.85709413893927]\n",
      "Running iteration 51 :\n",
      "100%|█████████████████████████████████████████| 867/867 [00:33<00:00,  2.00s/trial, best loss: 0.85709413893927]\n",
      "Running iteration 52 :\n",
      "100%|█████████████████████████████████████████| 884/884 [00:33<00:00,  1.96s/trial, best loss: 0.85709413893927]\n",
      "Best Cols at Recursion 4: \n",
      " ['applicant_location', 'applicant_location_mean_grpby_and_category_city', 'applicant_location_std_grpby_and_area', 'applicant_location_std_grpby_and_category', 'applicant_location_std_grpby_and_city', 'applicant_location_std_grpby_and_organization', 'category_fe', 'education', 'education_mean_grpby_and_category', 'education_std_grpby_and_area', 'education_std_grpby_and_category_city', 'english', 'gender_fe', 'max_salary', 'max_salary_mean_grpby_and_category_dow', 'max_salary_median_grpby_and_area', 'max_salary_median_grpby_and_category_city', 'min_salary_median_grpby_and_organization', 'min_salary_std_grpby_and_organization', 'num_openings', 'num_openings_std_grpby_and_area', 'num_openings_std_grpby_and_category_city', 'organization_fe'] \n",
      "\n",
      "Recursion 5 :\n",
      "cv score on base dataset: 0.85709413893927\n",
      "Running iteration 1 :\n",
      "100%|█████████████████████████████████████████| 17/17 [00:28<00:00,  1.69s/trial, best loss: 0.8607217145903922]\n",
      "new best score: 0.8607217145903922 \n",
      " new best cols: ['applicant_location', 'applicant_location_mean_grpby_and_category_city', 'applicant_location_std_grpby_and_area', 'applicant_location_std_grpby_and_category', 'applicant_location_std_grpby_and_city', 'applicant_location_std_grpby_and_organization', 'category_fe', 'education', 'education_std_grpby_and_area', 'education_std_grpby_and_category_city', 'english', 'gender_fe', 'max_salary', 'max_salary_mean_grpby_and_category_dow', 'max_salary_median_grpby_and_category_city', 'min_salary_median_grpby_and_organization', 'min_salary_std_grpby_and_organization', 'num_openings', 'num_openings_std_grpby_and_area', 'num_openings_std_grpby_and_category_city', 'organization_fe']\n",
      "Running iteration 2 :\n"
     ]
    },
    {
     "name": "stdout",
     "output_type": "stream",
     "text": [
      "100%|█████████████████████████████████████████| 34/34 [00:29<00:00,  1.73s/trial, best loss: 0.8587804143551668]\n",
      "new best score: 0.8587804143551668 \n",
      " new best cols: ['applicant_location', 'applicant_location_mean_grpby_and_category_city', 'applicant_location_std_grpby_and_area', 'applicant_location_std_grpby_and_category', 'applicant_location_std_grpby_and_city', 'applicant_location_std_grpby_and_organization', 'category_fe', 'education', 'education_mean_grpby_and_category', 'education_std_grpby_and_area', 'education_std_grpby_and_category_city', 'english', 'gender_fe', 'max_salary', 'max_salary_median_grpby_and_category_city', 'min_salary_median_grpby_and_organization', 'min_salary_std_grpby_and_organization', 'num_openings', 'num_openings_std_grpby_and_area', 'num_openings_std_grpby_and_category_city', 'organization_fe']\n",
      "Running iteration 3 :\n",
      "100%|█████████████████████████████████████████| 51/51 [00:28<00:00,  1.70s/trial, best loss: 0.8587804143551668]\n",
      "Running iteration 4 :\n",
      "100%|█████████████████████████████████████████| 68/68 [00:28<00:00,  1.65s/trial, best loss: 0.8587804143551668]\n",
      "Running iteration 5 :\n",
      "100%|█████████████████████████████████████████| 85/85 [00:27<00:00,  1.61s/trial, best loss: 0.8587658673279649]\n",
      "new best score: 0.8587658673279649 \n",
      " new best cols: ['applicant_location', 'applicant_location_mean_grpby_and_category_city', 'applicant_location_std_grpby_and_area', 'applicant_location_std_grpby_and_category', 'applicant_location_std_grpby_and_city', 'applicant_location_std_grpby_and_organization', 'category_fe', 'education', 'education_mean_grpby_and_category', 'education_std_grpby_and_category_city', 'english', 'gender_fe', 'max_salary', 'max_salary_mean_grpby_and_category_dow', 'max_salary_median_grpby_and_category_city', 'min_salary_median_grpby_and_organization', 'min_salary_std_grpby_and_organization', 'num_openings', 'num_openings_std_grpby_and_area', 'num_openings_std_grpby_and_category_city', 'organization_fe']\n",
      "Running iteration 6 :\n",
      "100%|███████████████████████████████████████| 102/102 [00:29<00:00,  1.75s/trial, best loss: 0.8585741232474379]\n",
      "new best score: 0.8585741232474379 \n",
      " new best cols: ['applicant_location', 'applicant_location_mean_grpby_and_category_city', 'applicant_location_std_grpby_and_category', 'applicant_location_std_grpby_and_city', 'applicant_location_std_grpby_and_organization', 'category_fe', 'education', 'education_mean_grpby_and_category', 'education_std_grpby_and_area', 'education_std_grpby_and_category_city', 'english', 'gender_fe', 'max_salary', 'max_salary_mean_grpby_and_category_dow', 'min_salary_median_grpby_and_organization', 'min_salary_std_grpby_and_organization', 'num_openings', 'num_openings_std_grpby_and_area', 'num_openings_std_grpby_and_category_city', 'organization_fe']\n",
      "Running iteration 7 :\n",
      "100%|███████████████████████████████████████| 119/119 [00:30<00:00,  1.77s/trial, best loss: 0.8585741232474379]\n",
      "Running iteration 8 :\n",
      "100%|███████████████████████████████████████| 136/136 [00:29<00:00,  1.73s/trial, best loss: 0.8585741232474379]\n",
      "Running iteration 9 :\n",
      "100%|███████████████████████████████████████| 153/153 [00:30<00:00,  1.78s/trial, best loss: 0.8585741232474379]\n",
      "Running iteration 10 :\n",
      "100%|███████████████████████████████████████| 170/170 [00:30<00:00,  1.77s/trial, best loss: 0.8585741232474379]\n",
      "Running iteration 11 :\n",
      "100%|███████████████████████████████████████| 187/187 [00:31<00:00,  1.84s/trial, best loss: 0.8585741232474379]\n",
      "Running iteration 12 :\n",
      "100%|███████████████████████████████████████| 204/204 [00:30<00:00,  1.79s/trial, best loss: 0.8585741232474379]\n",
      "Running iteration 13 :\n",
      "100%|███████████████████████████████████████| 221/221 [00:29<00:00,  1.73s/trial, best loss: 0.8585741232474379]\n",
      "Running iteration 14 :\n",
      "100%|███████████████████████████████████████| 238/238 [00:31<00:00,  1.83s/trial, best loss: 0.8585741232474379]\n",
      "Running iteration 15 :\n",
      "100%|███████████████████████████████████████| 255/255 [00:30<00:00,  1.78s/trial, best loss: 0.8585741232474379]\n",
      "Running iteration 16 :\n",
      "100%|███████████████████████████████████████| 272/272 [00:30<00:00,  1.81s/trial, best loss: 0.8585741232474379]\n",
      "Running iteration 17 :\n",
      "100%|███████████████████████████████████████| 289/289 [00:30<00:00,  1.82s/trial, best loss: 0.8585741232474379]\n",
      "Running iteration 18 :\n",
      "100%|███████████████████████████████████████| 306/306 [00:29<00:00,  1.76s/trial, best loss: 0.8585741232474379]\n",
      "Running iteration 19 :\n",
      "100%|███████████████████████████████████████| 323/323 [00:31<00:00,  1.83s/trial, best loss: 0.8585741232474379]\n",
      "Running iteration 20 :\n",
      "100%|███████████████████████████████████████| 340/340 [00:29<00:00,  1.75s/trial, best loss: 0.8582676284251615]\n",
      "new best score: 0.8582676284251615 \n",
      " new best cols: ['applicant_location', 'applicant_location_mean_grpby_and_category_city', 'applicant_location_std_grpby_and_category', 'applicant_location_std_grpby_and_city', 'applicant_location_std_grpby_and_organization', 'category_fe', 'education', 'education_mean_grpby_and_category', 'education_std_grpby_and_area', 'education_std_grpby_and_category_city', 'english', 'gender_fe', 'max_salary', 'max_salary_mean_grpby_and_category_dow', 'min_salary_std_grpby_and_organization', 'num_openings', 'num_openings_std_grpby_and_category_city', 'organization_fe']\n",
      "Running iteration 21 :\n",
      "100%|███████████████████████████████████████| 357/357 [00:28<00:00,  1.69s/trial, best loss: 0.8582676284251615]\n",
      "Running iteration 22 :\n",
      "100%|███████████████████████████████████████| 374/374 [00:29<00:00,  1.71s/trial, best loss: 0.8582676284251615]\n",
      "Running iteration 23 :\n",
      "100%|███████████████████████████████████████| 391/391 [00:29<00:00,  1.74s/trial, best loss: 0.8582676284251615]\n",
      "Running iteration 24 :\n",
      "100%|███████████████████████████████████████| 408/408 [00:28<00:00,  1.66s/trial, best loss: 0.8582676284251615]\n",
      "Running iteration 25 :\n",
      "100%|███████████████████████████████████████| 425/425 [00:30<00:00,  1.78s/trial, best loss: 0.8582676284251615]\n",
      "Running iteration 26 :\n",
      "100%|███████████████████████████████████████| 442/442 [00:29<00:00,  1.76s/trial, best loss: 0.8582676284251615]\n",
      "Running iteration 27 :\n",
      "100%|███████████████████████████████████████| 459/459 [00:30<00:00,  1.78s/trial, best loss: 0.8582676284251615]\n",
      "Running iteration 28 :\n",
      "100%|███████████████████████████████████████| 476/476 [00:28<00:00,  1.70s/trial, best loss: 0.8582676284251615]\n",
      "Running iteration 29 :\n",
      "100%|███████████████████████████████████████| 493/493 [00:29<00:00,  1.74s/trial, best loss: 0.8582676284251615]\n",
      "Running iteration 30 :\n",
      "100%|███████████████████████████████████████| 510/510 [00:29<00:00,  1.71s/trial, best loss: 0.8582676284251615]\n",
      "Running iteration 31 :\n",
      "100%|███████████████████████████████████████| 527/527 [00:29<00:00,  1.74s/trial, best loss: 0.8582676284251615]\n",
      "Running iteration 32 :\n",
      "100%|███████████████████████████████████████| 544/544 [00:29<00:00,  1.75s/trial, best loss: 0.8582676284251615]\n",
      "Running iteration 33 :\n",
      "100%|███████████████████████████████████████| 561/561 [00:30<00:00,  1.81s/trial, best loss: 0.8582676284251615]\n",
      "Running iteration 34 :\n",
      "100%|███████████████████████████████████████| 578/578 [00:31<00:00,  1.83s/trial, best loss: 0.8582676284251615]\n",
      "Running iteration 35 :\n",
      "100%|███████████████████████████████████████| 595/595 [00:29<00:00,  1.72s/trial, best loss: 0.8582676284251615]\n",
      "final cv score 0.85709413893927\n"
     ]
    }
   ],
   "source": [
    "bayes_fs.fit(df[use_cols],target)"
   ]
  },
  {
   "cell_type": "code",
   "execution_count": 56,
   "id": "9f22d977",
   "metadata": {},
   "outputs": [
    {
     "data": {
      "text/plain": [
       "0.85709413893927"
      ]
     },
     "execution_count": 56,
     "metadata": {},
     "output_type": "execute_result"
    }
   ],
   "source": [
    "bayes_fs.best_score"
   ]
  },
  {
   "cell_type": "code",
   "execution_count": 57,
   "id": "43906d79",
   "metadata": {},
   "outputs": [
    {
     "data": {
      "text/plain": [
       "Index(['applicant_location', 'applicant_location_mean_grpby_and_category_city', 'applicant_location_std_grpby_and_area', 'applicant_location_std_grpby_and_category', 'applicant_location_std_grpby_and_city', 'applicant_location_std_grpby_and_organization', 'category_fe', 'education', 'education_mean_grpby_and_category', 'education_std_grpby_and_area', 'education_std_grpby_and_category_city', 'english', 'gender_fe', 'max_salary', 'max_salary_mean_grpby_and_category_dow', 'max_salary_median_grpby_and_area', 'max_salary_median_grpby_and_category_city', 'min_salary_median_grpby_and_organization', 'min_salary_std_grpby_and_organization', 'num_openings', 'num_openings_std_grpby_and_area', 'num_openings_std_grpby_and_category_city', 'organization_fe'], dtype='object')"
      ]
     },
     "execution_count": 57,
     "metadata": {},
     "output_type": "execute_result"
    }
   ],
   "source": [
    "bayes_fs.columns"
   ]
  },
  {
   "cell_type": "code",
   "execution_count": 58,
   "id": "23a0cde3",
   "metadata": {},
   "outputs": [],
   "source": [
    "cols = ['applicant_location', 'applicant_location_mean_grpby_and_category_city', \n",
    "        'applicant_location_std_grpby_and_area', 'applicant_location_std_grpby_and_category', \n",
    "        'applicant_location_std_grpby_and_city', 'applicant_location_std_grpby_and_organization', \n",
    "        'category_fe', 'education', 'education_mean_grpby_and_category', 'education_std_grpby_and_area', \n",
    "        'education_std_grpby_and_category_city', 'english', 'gender_fe', 'max_salary', \n",
    "        'max_salary_mean_grpby_and_category_dow', 'max_salary_median_grpby_and_area', \n",
    "        'max_salary_median_grpby_and_category_city', 'min_salary_median_grpby_and_organization', \n",
    "        'min_salary_std_grpby_and_organization', 'num_openings', 'num_openings_std_grpby_and_area', \n",
    "        'num_openings_std_grpby_and_category_city', 'organization_fe']"
   ]
  },
  {
   "cell_type": "code",
   "execution_count": 115,
   "id": "802cc988",
   "metadata": {},
   "outputs": [
    {
     "data": {
      "text/plain": [
       "['applicant_location',\n",
       " 'applicant_location_mean_grpby_and_category_city',\n",
       " 'applicant_location_std_grpby_and_area',\n",
       " 'applicant_location_std_grpby_and_category',\n",
       " 'applicant_location_std_grpby_and_city',\n",
       " 'applicant_location_std_grpby_and_organization',\n",
       " 'category_fe',\n",
       " 'education',\n",
       " 'education_mean_grpby_and_category',\n",
       " 'education_std_grpby_and_area',\n",
       " 'education_std_grpby_and_category_city',\n",
       " 'english',\n",
       " 'gender_fe',\n",
       " 'max_salary',\n",
       " 'max_salary_mean_grpby_and_category_dow',\n",
       " 'max_salary_median_grpby_and_area',\n",
       " 'max_salary_median_grpby_and_category_city',\n",
       " 'min_salary_median_grpby_and_organization',\n",
       " 'min_salary_std_grpby_and_organization',\n",
       " 'num_openings',\n",
       " 'num_openings_std_grpby_and_area',\n",
       " 'num_openings_std_grpby_and_category_city',\n",
       " 'organization_fe']"
      ]
     },
     "execution_count": 115,
     "metadata": {},
     "output_type": "execute_result"
    }
   ],
   "source": [
    "cols"
   ]
  },
  {
   "cell_type": "code",
   "execution_count": 60,
   "id": "7691ef27",
   "metadata": {},
   "outputs": [
    {
     "data": {
      "text/plain": [
       "23"
      ]
     },
     "execution_count": 60,
     "metadata": {},
     "output_type": "execute_result"
    }
   ],
   "source": [
    "len(cols)"
   ]
  },
  {
   "cell_type": "code",
   "execution_count": 95,
   "id": "9c6fdd55",
   "metadata": {},
   "outputs": [],
   "source": [
    "params = {'boosting_type': 'gbdt', 'colsample_bytree': 0.8, 'learning_rate': 0.1,\n",
    "          'min_child_samples': 90, 'n_estimators': 10000, 'n_jobs': -1, 'num_leaves': 16,\n",
    "          'objective': 'regression', 'subsample': 1.0, 'subsample_freq': 10}"
   ]
  },
  {
   "cell_type": "code",
   "execution_count": 96,
   "id": "7c75f72f",
   "metadata": {},
   "outputs": [],
   "source": [
    "est = Estimator(model=LGBMRegressor(**params),\n",
    "               early_stopping_rounds=100,\n",
    "               validation_scheme=folds,\n",
    "               shuffle=True)"
   ]
  },
  {
   "cell_type": "code",
   "execution_count": 97,
   "id": "96f7b953",
   "metadata": {},
   "outputs": [
    {
     "name": "stdout",
     "output_type": "stream",
     "text": [
      "[100]\tvalid_0's rmse: 0.896579\tvalid_0's l2: 0.803853\tvalid_1's rmse: 0.828839\tvalid_1's l2: 0.686974\n",
      "[200]\tvalid_0's rmse: 0.89251\tvalid_0's l2: 0.796573\tvalid_1's rmse: 0.790278\tvalid_1's l2: 0.62454\n",
      "[300]\tvalid_0's rmse: 0.893394\tvalid_0's l2: 0.798152\tvalid_1's rmse: 0.763896\tvalid_1's l2: 0.583537\n",
      "[100]\tvalid_0's rmse: 0.828107\tvalid_0's l2: 0.685761\tvalid_1's rmse: 0.828333\tvalid_1's l2: 0.686135\n",
      "[200]\tvalid_0's rmse: 0.823353\tvalid_0's l2: 0.677911\tvalid_1's rmse: 0.790023\tvalid_1's l2: 0.624136\n",
      "[300]\tvalid_0's rmse: 0.821679\tvalid_0's l2: 0.675156\tvalid_1's rmse: 0.763283\tvalid_1's l2: 0.582601\n",
      "[100]\tvalid_0's rmse: 0.86495\tvalid_0's l2: 0.748138\tvalid_1's rmse: 0.820101\tvalid_1's l2: 0.672566\n",
      "[200]\tvalid_0's rmse: 0.859518\tvalid_0's l2: 0.738771\tvalid_1's rmse: 0.781791\tvalid_1's l2: 0.611198\n",
      "[300]\tvalid_0's rmse: 0.859024\tvalid_0's l2: 0.737923\tvalid_1's rmse: 0.754467\tvalid_1's l2: 0.56922\n"
     ]
    },
    {
     "data": {
      "text/plain": [
       "{'cv_scores': [0.8917017054432352, 0.8212221809653013, 0.8583585304092736],\n",
       " 'avg_cv_score': 0.85709413893927,\n",
       " 'std_scores': 0.028787032462563013,\n",
       " 'overall_cv_score': 1.7132254603565125,\n",
       " 'eval_score': 0.85709413893927}"
      ]
     },
     "execution_count": 97,
     "metadata": {},
     "output_type": "execute_result"
    }
   ],
   "source": [
    "est.get_repeated_out_of_folds(df[cols].values,target)"
   ]
  },
  {
   "cell_type": "code",
   "execution_count": 98,
   "id": "2730605e",
   "metadata": {},
   "outputs": [
    {
     "data": {
      "text/html": [
       "<div>\n",
       "<style scoped>\n",
       "    .dataframe tbody tr th:only-of-type {\n",
       "        vertical-align: middle;\n",
       "    }\n",
       "\n",
       "    .dataframe tbody tr th {\n",
       "        vertical-align: top;\n",
       "    }\n",
       "\n",
       "    .dataframe thead th {\n",
       "        text-align: right;\n",
       "    }\n",
       "</style>\n",
       "<table border=\"1\" class=\"dataframe\">\n",
       "  <thead>\n",
       "    <tr style=\"text-align: right;\">\n",
       "      <th></th>\n",
       "      <th>column</th>\n",
       "      <th>feature_importance</th>\n",
       "      <th>rank</th>\n",
       "      <th>cum_imp</th>\n",
       "    </tr>\n",
       "  </thead>\n",
       "  <tbody>\n",
       "    <tr>\n",
       "      <th>13</th>\n",
       "      <td>max_salary</td>\n",
       "      <td>0.074181</td>\n",
       "      <td>1</td>\n",
       "      <td>0.074181</td>\n",
       "    </tr>\n",
       "    <tr>\n",
       "      <th>9</th>\n",
       "      <td>education_std_grpby_and_area</td>\n",
       "      <td>0.072766</td>\n",
       "      <td>2</td>\n",
       "      <td>0.146947</td>\n",
       "    </tr>\n",
       "    <tr>\n",
       "      <th>20</th>\n",
       "      <td>num_openings_std_grpby_and_area</td>\n",
       "      <td>0.068614</td>\n",
       "      <td>3</td>\n",
       "      <td>0.215562</td>\n",
       "    </tr>\n",
       "    <tr>\n",
       "      <th>1</th>\n",
       "      <td>applicant_location_mean_grpby_and_category_city</td>\n",
       "      <td>0.059633</td>\n",
       "      <td>4</td>\n",
       "      <td>0.275195</td>\n",
       "    </tr>\n",
       "    <tr>\n",
       "      <th>10</th>\n",
       "      <td>education_std_grpby_and_category_city</td>\n",
       "      <td>0.059117</td>\n",
       "      <td>5</td>\n",
       "      <td>0.334312</td>\n",
       "    </tr>\n",
       "    <tr>\n",
       "      <th>21</th>\n",
       "      <td>num_openings_std_grpby_and_category_city</td>\n",
       "      <td>0.058852</td>\n",
       "      <td>6</td>\n",
       "      <td>0.393164</td>\n",
       "    </tr>\n",
       "    <tr>\n",
       "      <th>19</th>\n",
       "      <td>num_openings</td>\n",
       "      <td>0.057204</td>\n",
       "      <td>7</td>\n",
       "      <td>0.450368</td>\n",
       "    </tr>\n",
       "    <tr>\n",
       "      <th>2</th>\n",
       "      <td>applicant_location_std_grpby_and_area</td>\n",
       "      <td>0.055501</td>\n",
       "      <td>8</td>\n",
       "      <td>0.505869</td>\n",
       "    </tr>\n",
       "    <tr>\n",
       "      <th>14</th>\n",
       "      <td>max_salary_mean_grpby_and_category_dow</td>\n",
       "      <td>0.052683</td>\n",
       "      <td>9</td>\n",
       "      <td>0.558553</td>\n",
       "    </tr>\n",
       "    <tr>\n",
       "      <th>6</th>\n",
       "      <td>category_fe</td>\n",
       "      <td>0.050560</td>\n",
       "      <td>10</td>\n",
       "      <td>0.609113</td>\n",
       "    </tr>\n",
       "    <tr>\n",
       "      <th>8</th>\n",
       "      <td>education_mean_grpby_and_category</td>\n",
       "      <td>0.048282</td>\n",
       "      <td>11</td>\n",
       "      <td>0.657395</td>\n",
       "    </tr>\n",
       "    <tr>\n",
       "      <th>7</th>\n",
       "      <td>education</td>\n",
       "      <td>0.044175</td>\n",
       "      <td>12</td>\n",
       "      <td>0.701570</td>\n",
       "    </tr>\n",
       "    <tr>\n",
       "      <th>5</th>\n",
       "      <td>applicant_location_std_grpby_and_organization</td>\n",
       "      <td>0.042031</td>\n",
       "      <td>13</td>\n",
       "      <td>0.743601</td>\n",
       "    </tr>\n",
       "    <tr>\n",
       "      <th>3</th>\n",
       "      <td>applicant_location_std_grpby_and_category</td>\n",
       "      <td>0.041296</td>\n",
       "      <td>14</td>\n",
       "      <td>0.784897</td>\n",
       "    </tr>\n",
       "    <tr>\n",
       "      <th>15</th>\n",
       "      <td>max_salary_median_grpby_and_area</td>\n",
       "      <td>0.032870</td>\n",
       "      <td>15</td>\n",
       "      <td>0.817767</td>\n",
       "    </tr>\n",
       "    <tr>\n",
       "      <th>22</th>\n",
       "      <td>organization_fe</td>\n",
       "      <td>0.032641</td>\n",
       "      <td>16</td>\n",
       "      <td>0.850408</td>\n",
       "    </tr>\n",
       "    <tr>\n",
       "      <th>11</th>\n",
       "      <td>english</td>\n",
       "      <td>0.030565</td>\n",
       "      <td>17</td>\n",
       "      <td>0.880972</td>\n",
       "    </tr>\n",
       "    <tr>\n",
       "      <th>4</th>\n",
       "      <td>applicant_location_std_grpby_and_city</td>\n",
       "      <td>0.028089</td>\n",
       "      <td>18</td>\n",
       "      <td>0.909061</td>\n",
       "    </tr>\n",
       "    <tr>\n",
       "      <th>17</th>\n",
       "      <td>min_salary_median_grpby_and_organization</td>\n",
       "      <td>0.027500</td>\n",
       "      <td>19</td>\n",
       "      <td>0.936560</td>\n",
       "    </tr>\n",
       "    <tr>\n",
       "      <th>16</th>\n",
       "      <td>max_salary_median_grpby_and_category_city</td>\n",
       "      <td>0.024161</td>\n",
       "      <td>20</td>\n",
       "      <td>0.960722</td>\n",
       "    </tr>\n",
       "    <tr>\n",
       "      <th>18</th>\n",
       "      <td>min_salary_std_grpby_and_organization</td>\n",
       "      <td>0.021095</td>\n",
       "      <td>21</td>\n",
       "      <td>0.981816</td>\n",
       "    </tr>\n",
       "    <tr>\n",
       "      <th>0</th>\n",
       "      <td>applicant_location</td>\n",
       "      <td>0.009856</td>\n",
       "      <td>22</td>\n",
       "      <td>0.991673</td>\n",
       "    </tr>\n",
       "    <tr>\n",
       "      <th>12</th>\n",
       "      <td>gender_fe</td>\n",
       "      <td>0.008327</td>\n",
       "      <td>23</td>\n",
       "      <td>1.000000</td>\n",
       "    </tr>\n",
       "  </tbody>\n",
       "</table>\n",
       "</div>"
      ],
      "text/plain": [
       "                                             column  feature_importance  rank   cum_imp\n",
       "13                                       max_salary            0.074181     1  0.074181\n",
       "9                      education_std_grpby_and_area            0.072766     2  0.146947\n",
       "20                  num_openings_std_grpby_and_area            0.068614     3  0.215562\n",
       "1   applicant_location_mean_grpby_and_category_city            0.059633     4  0.275195\n",
       "10            education_std_grpby_and_category_city            0.059117     5  0.334312\n",
       "21         num_openings_std_grpby_and_category_city            0.058852     6  0.393164\n",
       "19                                     num_openings            0.057204     7  0.450368\n",
       "2             applicant_location_std_grpby_and_area            0.055501     8  0.505869\n",
       "14           max_salary_mean_grpby_and_category_dow            0.052683     9  0.558553\n",
       "6                                       category_fe            0.050560    10  0.609113\n",
       "8                 education_mean_grpby_and_category            0.048282    11  0.657395\n",
       "7                                         education            0.044175    12  0.701570\n",
       "5     applicant_location_std_grpby_and_organization            0.042031    13  0.743601\n",
       "3         applicant_location_std_grpby_and_category            0.041296    14  0.784897\n",
       "15                 max_salary_median_grpby_and_area            0.032870    15  0.817767\n",
       "22                                  organization_fe            0.032641    16  0.850408\n",
       "11                                          english            0.030565    17  0.880972\n",
       "4             applicant_location_std_grpby_and_city            0.028089    18  0.909061\n",
       "17         min_salary_median_grpby_and_organization            0.027500    19  0.936560\n",
       "16        max_salary_median_grpby_and_category_city            0.024161    20  0.960722\n",
       "18            min_salary_std_grpby_and_organization            0.021095    21  0.981816\n",
       "0                                applicant_location            0.009856    22  0.991673\n",
       "12                                        gender_fe            0.008327    23  1.000000"
      ]
     },
     "execution_count": 98,
     "metadata": {},
     "output_type": "execute_result"
    }
   ],
   "source": [
    "feat_imps = est.feature_importances(columns = cols) \n",
    "feat_imps['cum_imp']=feat_imps.feature_importance.cumsum()\n",
    "feat_imps"
   ]
  },
  {
   "cell_type": "code",
   "execution_count": 89,
   "id": "00f90234",
   "metadata": {},
   "outputs": [],
   "source": [
    "lgbm_space = {\n",
    "#    'learning_rate': hp.quniform('learning_rate', 0.025, 0.1, 0.025),\n",
    "    'n_estimators': 10000,\n",
    "#     'early_stopping_rounds': 100,\n",
    "    'num_leaves':  hp.quniform('num_leaves', 8, 24, 8),\n",
    "#     'min_child_weight': hp.quniform('min_child_weight', 1, 40, 5),\n",
    "    'min_child_samples': hp.quniform('min_child_samples', 1, 120, 10),\n",
    "    'subsample': hp.quniform('subsample', 0.6, 1, 0.2),\n",
    "    'colsample_bytree': hp.quniform('colsample_bytree', 0.6, 1, 0.2),\n",
    "    'subsample_freq': hp.choice('subsample_freq',[5,10]),\n",
    "    'objective': 'regression',\n",
    "    'boosting_type': 'gbdt',\n",
    "    'learning_rate': 0.1,\n",
    "    'n_jobs': -1\n",
    "}"
   ]
  },
  {
   "cell_type": "code",
   "execution_count": 90,
   "id": "489f6c9d",
   "metadata": {},
   "outputs": [],
   "source": [
    "hyp = HyperOptModelSelection(Estimator(model=LGBMRegressor(),\n",
    "                                       early_stopping_rounds=100,\n",
    "                                       validation_scheme=folds,\n",
    "                                       shuffle=True),\n",
    "                             space= lgbm_space,\n",
    "                             max_evals=200,is_maximize=False,random_seed=100,\n",
    "                             params_mapping = {'n_estimators':int, 'num_leaves':int, \n",
    "                                               'max_depth':int,'min_child_samples':int},          \n",
    "                             log_file_path=\"hyperopt_log.txt\")"
   ]
  },
  {
   "cell_type": "code",
   "execution_count": null,
   "id": "937b35e4",
   "metadata": {},
   "outputs": [
    {
     "name": "stderr",
     "output_type": "stream",
     "text": [
      "Starting HyperOpt 200 Evals with Dataset of Shape ((30000, 23),(30000,))\n"
     ]
    },
    {
     "name": "stdout",
     "output_type": "stream",
     "text": [
      "\r",
      "  0%|                                                                   | 0/200 [00:00<?, ?trial/s, best loss=?]"
     ]
    },
    {
     "name": "stderr",
     "output_type": "stream",
     "text": [
      "\n",
      "Iteration: 1, Training with params: {'boosting_type': 'gbdt', 'colsample_bytree': 0.8, 'learning_rate': 0.1, 'min_child_samples': 0, 'n_estimators': 10000, 'n_jobs': -1, 'num_leaves': 16, 'objective': 'regression', 'subsample': 0.8, 'subsample_freq': 10}\n"
     ]
    },
    {
     "name": "stdout",
     "output_type": "stream",
     "text": [
      "[100]\tvalid_0's rmse: 0.901281\tvalid_0's l2: 0.812308\tvalid_1's rmse: 0.822769\tvalid_1's l2: 0.676949           \n",
      "[200]\tvalid_0's rmse: 0.901163\tvalid_0's l2: 0.812094\tvalid_1's rmse: 0.777184\tvalid_1's l2: 0.604015           \n",
      "[100]\tvalid_0's rmse: 0.834128\tvalid_0's l2: 0.69577\tvalid_1's rmse: 0.823486\tvalid_1's l2: 0.678129            \n",
      "[200]\tvalid_0's rmse: 0.830162\tvalid_0's l2: 0.689168\tvalid_1's rmse: 0.778213\tvalid_1's l2: 0.605615           \n",
      "[300]\tvalid_0's rmse: 0.829085\tvalid_0's l2: 0.687382\tvalid_1's rmse: 0.743143\tvalid_1's l2: 0.552262           \n",
      "[100]\tvalid_0's rmse: 0.873139\tvalid_0's l2: 0.762371\tvalid_1's rmse: 0.817489\tvalid_1's l2: 0.668288           \n",
      "[200]\tvalid_0's rmse: 0.871403\tvalid_0's l2: 0.759344\tvalid_1's rmse: 0.770801\tvalid_1's l2: 0.594133           \n",
      "  0%|                                                                   | 0/200 [00:01<?, ?trial/s, best loss=?]"
     ]
    },
    {
     "name": "stderr",
     "output_type": "stream",
     "text": [
      "Score - 0.8647686064719758, Std - 0.02944509043031626, Eval Score - 0.8647686064719758\n",
      "Score across folds - [0.898424099322929, 0.826704078831027, 0.8691776412619715].\n"
     ]
    },
    {
     "name": "stdout",
     "output_type": "stream",
     "text": [
      "\r",
      "  0%|▏                                        | 1/200 [00:01<06:34,  1.98s/trial, best loss: 0.8647686064719758]"
     ]
    },
    {
     "name": "stderr",
     "output_type": "stream",
     "text": [
      "\n",
      "Iteration: 2, Training with params: {'boosting_type': 'gbdt', 'colsample_bytree': 0.8, 'learning_rate': 0.1, 'min_child_samples': 90, 'n_estimators': 10000, 'n_jobs': -1, 'num_leaves': 16, 'objective': 'regression', 'subsample': 0.8, 'subsample_freq': 10}\n"
     ]
    },
    {
     "name": "stdout",
     "output_type": "stream",
     "text": [
      "[100]\tvalid_0's rmse: 0.89642\tvalid_0's l2: 0.80357\tvalid_1's rmse: 0.829403\tvalid_1's l2: 0.687909             \n",
      "[200]\tvalid_0's rmse: 0.895137\tvalid_0's l2: 0.801271\tvalid_1's rmse: 0.790507\tvalid_1's l2: 0.624901           \n",
      "[100]\tvalid_0's rmse: 0.831157\tvalid_0's l2: 0.690822\tvalid_1's rmse: 0.829718\tvalid_1's l2: 0.688432           \n",
      "[200]\tvalid_0's rmse: 0.825506\tvalid_0's l2: 0.68146\tvalid_1's rmse: 0.789673\tvalid_1's l2: 0.623584            \n",
      "[300]\tvalid_0's rmse: 0.827109\tvalid_0's l2: 0.684109\tvalid_1's rmse: 0.763207\tvalid_1's l2: 0.582485           \n",
      "[100]\tvalid_0's rmse: 0.869922\tvalid_0's l2: 0.756765\tvalid_1's rmse: 0.821576\tvalid_1's l2: 0.674987           \n",
      "[200]\tvalid_0's rmse: 0.864784\tvalid_0's l2: 0.747851\tvalid_1's rmse: 0.782593\tvalid_1's l2: 0.612451           \n",
      "[300]\tvalid_0's rmse: 0.866924\tvalid_0's l2: 0.751557\tvalid_1's rmse: 0.755888\tvalid_1's l2: 0.571366           \n",
      "  0%|▏                                        | 1/200 [00:03<06:34,  1.98s/trial, best loss: 0.8647686064719758]"
     ]
    },
    {
     "name": "stderr",
     "output_type": "stream",
     "text": [
      "Score - 0.8607740061615438, Std - 0.027888077328819302, Eval Score - 0.8607740061615438\n",
      "Score across folds - [0.8930963843197162, 0.8250407658793418, 0.8641848682855728].\n"
     ]
    },
    {
     "name": "stdout",
     "output_type": "stream",
     "text": [
      "\r",
      "  1%|▍                                        | 2/200 [00:03<06:10,  1.87s/trial, best loss: 0.8607740061615438]"
     ]
    },
    {
     "name": "stderr",
     "output_type": "stream",
     "text": [
      "\n",
      "Iteration: 3, Training with params: {'boosting_type': 'gbdt', 'colsample_bytree': 0.8, 'learning_rate': 0.1, 'min_child_samples': 80, 'n_estimators': 10000, 'n_jobs': -1, 'num_leaves': 8, 'objective': 'regression', 'subsample': 0.8, 'subsample_freq': 5}\n"
     ]
    },
    {
     "name": "stdout",
     "output_type": "stream",
     "text": [
      "[100]\tvalid_0's rmse: 0.903675\tvalid_0's l2: 0.816628\tvalid_1's rmse: 0.865298\tvalid_1's l2: 0.748741           \n",
      "[200]\tvalid_0's rmse: 0.896247\tvalid_0's l2: 0.803259\tvalid_1's rmse: 0.835804\tvalid_1's l2: 0.698568           \n",
      "[300]\tvalid_0's rmse: 0.893397\tvalid_0's l2: 0.798158\tvalid_1's rmse: 0.81775\tvalid_1's l2: 0.668716            \n",
      "[400]\tvalid_0's rmse: 0.892727\tvalid_0's l2: 0.796962\tvalid_1's rmse: 0.803492\tvalid_1's l2: 0.645599           \n",
      "[500]\tvalid_0's rmse: 0.892422\tvalid_0's l2: 0.796417\tvalid_1's rmse: 0.790493\tvalid_1's l2: 0.62488            \n",
      "[100]\tvalid_0's rmse: 0.844143\tvalid_0's l2: 0.712577\tvalid_1's rmse: 0.865024\tvalid_1's l2: 0.748267           \n",
      "[200]\tvalid_0's rmse: 0.831143\tvalid_0's l2: 0.690799\tvalid_1's rmse: 0.83559\tvalid_1's l2: 0.698211            \n",
      "[300]\tvalid_0's rmse: 0.828415\tvalid_0's l2: 0.686271\tvalid_1's rmse: 0.816982\tvalid_1's l2: 0.667459           \n",
      "[400]\tvalid_0's rmse: 0.827015\tvalid_0's l2: 0.683954\tvalid_1's rmse: 0.802632\tvalid_1's l2: 0.644218           \n",
      "[500]\tvalid_0's rmse: 0.826033\tvalid_0's l2: 0.682331\tvalid_1's rmse: 0.789686\tvalid_1's l2: 0.623604           \n",
      "[600]\tvalid_0's rmse: 0.827087\tvalid_0's l2: 0.684073\tvalid_1's rmse: 0.777872\tvalid_1's l2: 0.605086           \n",
      "[100]\tvalid_0's rmse: 0.8765\tvalid_0's l2: 0.768253\tvalid_1's rmse: 0.8568\tvalid_1's l2: 0.734106               \n",
      "[200]\tvalid_0's rmse: 0.866777\tvalid_0's l2: 0.751303\tvalid_1's rmse: 0.82787\tvalid_1's l2: 0.685369            \n",
      "[300]\tvalid_0's rmse: 0.866027\tvalid_0's l2: 0.750004\tvalid_1's rmse: 0.809349\tvalid_1's l2: 0.655047           \n",
      "[400]\tvalid_0's rmse: 0.863892\tvalid_0's l2: 0.74631\tvalid_1's rmse: 0.794532\tvalid_1's l2: 0.631282            \n",
      "[500]\tvalid_0's rmse: 0.863062\tvalid_0's l2: 0.744876\tvalid_1's rmse: 0.781755\tvalid_1's l2: 0.611141           \n",
      "[600]\tvalid_0's rmse: 0.864143\tvalid_0's l2: 0.746743\tvalid_1's rmse: 0.770453\tvalid_1's l2: 0.593598           \n",
      "  1%|▍                                        | 2/200 [00:06<06:10,  1.87s/trial, best loss: 0.8607740061615438]"
     ]
    },
    {
     "name": "stderr",
     "output_type": "stream",
     "text": [
      "Score - 0.8599250644205004, Std - 0.02665829994614144, Eval Score - 0.8599250644205004\n",
      "Score across folds - [0.8910128295936889, 0.8259106491824046, 0.8628517144854078].\n"
     ]
    },
    {
     "name": "stdout",
     "output_type": "stream",
     "text": [
      "\r",
      "  2%|▌                                        | 3/200 [00:06<07:02,  2.14s/trial, best loss: 0.8599250644205004]"
     ]
    },
    {
     "name": "stderr",
     "output_type": "stream",
     "text": [
      "\n",
      "Iteration: 4, Training with params: {'boosting_type': 'gbdt', 'colsample_bytree': 1.0, 'learning_rate': 0.1, 'min_child_samples': 50, 'n_estimators': 10000, 'n_jobs': -1, 'num_leaves': 8, 'objective': 'regression', 'subsample': 0.6000000000000001, 'subsample_freq': 10}\n"
     ]
    },
    {
     "name": "stdout",
     "output_type": "stream",
     "text": [
      "[100]\tvalid_0's rmse: 0.905084\tvalid_0's l2: 0.819177\tvalid_1's rmse: 0.863322\tvalid_1's l2: 0.745326           \n",
      "[200]\tvalid_0's rmse: 0.900011\tvalid_0's l2: 0.81002\tvalid_1's rmse: 0.834543\tvalid_1's l2: 0.696462            \n",
      "[300]\tvalid_0's rmse: 0.898276\tvalid_0's l2: 0.8069\tvalid_1's rmse: 0.816679\tvalid_1's l2: 0.666965             \n",
      "[400]\tvalid_0's rmse: 0.897586\tvalid_0's l2: 0.805661\tvalid_1's rmse: 0.800964\tvalid_1's l2: 0.641543           \n",
      "[100]\tvalid_0's rmse: 0.843246\tvalid_0's l2: 0.711064\tvalid_1's rmse: 0.865394\tvalid_1's l2: 0.748907           \n",
      "[200]\tvalid_0's rmse: 0.833391\tvalid_0's l2: 0.69454\tvalid_1's rmse: 0.835538\tvalid_1's l2: 0.698124            \n",
      "[300]\tvalid_0's rmse: 0.83095\tvalid_0's l2: 0.690477\tvalid_1's rmse: 0.817378\tvalid_1's l2: 0.668107            \n",
      "[400]\tvalid_0's rmse: 0.83042\tvalid_0's l2: 0.689597\tvalid_1's rmse: 0.802118\tvalid_1's l2: 0.643393            \n",
      "[100]\tvalid_0's rmse: 0.882278\tvalid_0's l2: 0.778414\tvalid_1's rmse: 0.857091\tvalid_1's l2: 0.734606           \n",
      "[200]\tvalid_0's rmse: 0.871581\tvalid_0's l2: 0.759653\tvalid_1's rmse: 0.828177\tvalid_1's l2: 0.685877           \n",
      "[300]\tvalid_0's rmse: 0.870105\tvalid_0's l2: 0.757082\tvalid_1's rmse: 0.808753\tvalid_1's l2: 0.654081           \n",
      "[400]\tvalid_0's rmse: 0.867788\tvalid_0's l2: 0.753057\tvalid_1's rmse: 0.793149\tvalid_1's l2: 0.629085           \n",
      "  2%|▌                                        | 3/200 [00:07<07:02,  2.14s/trial, best loss: 0.8599250644205004]"
     ]
    },
    {
     "name": "stderr",
     "output_type": "stream",
     "text": [
      "Score - 0.864697132946869, Std - 0.027438028645717122, Eval Score - 0.864697132946869\n",
      "Score across folds - [0.8969338873256858, 0.8298741607528991, 0.8672833507620221].\n"
     ]
    },
    {
     "name": "stdout",
     "output_type": "stream",
     "text": [
      "\r",
      "  2%|▊                                        | 4/200 [00:08<06:40,  2.05s/trial, best loss: 0.8599250644205004]"
     ]
    },
    {
     "name": "stderr",
     "output_type": "stream",
     "text": [
      "\n",
      "Iteration: 5, Training with params: {'boosting_type': 'gbdt', 'colsample_bytree': 0.6000000000000001, 'learning_rate': 0.1, 'min_child_samples': 110, 'n_estimators': 10000, 'n_jobs': -1, 'num_leaves': 16, 'objective': 'regression', 'subsample': 0.6000000000000001, 'subsample_freq': 5}\n"
     ]
    },
    {
     "name": "stdout",
     "output_type": "stream",
     "text": [
      "[100]\tvalid_0's rmse: 0.899628\tvalid_0's l2: 0.80933\tvalid_1's rmse: 0.835994\tvalid_1's l2: 0.698885            \n",
      "[200]\tvalid_0's rmse: 0.893609\tvalid_0's l2: 0.798537\tvalid_1's rmse: 0.799241\tvalid_1's l2: 0.638786           \n",
      "[300]\tvalid_0's rmse: 0.897018\tvalid_0's l2: 0.804641\tvalid_1's rmse: 0.775239\tvalid_1's l2: 0.600995           \n",
      "[100]\tvalid_0's rmse: 0.835374\tvalid_0's l2: 0.697849\tvalid_1's rmse: 0.83607\tvalid_1's l2: 0.699013            \n",
      "[200]\tvalid_0's rmse: 0.8293\tvalid_0's l2: 0.687738\tvalid_1's rmse: 0.798621\tvalid_1's l2: 0.637795             \n",
      "[300]\tvalid_0's rmse: 0.829198\tvalid_0's l2: 0.687569\tvalid_1's rmse: 0.774005\tvalid_1's l2: 0.599083           \n",
      "[100]\tvalid_0's rmse: 0.871085\tvalid_0's l2: 0.75879\tvalid_1's rmse: 0.827989\tvalid_1's l2: 0.685566            \n",
      "[200]\tvalid_0's rmse: 0.864895\tvalid_0's l2: 0.748044\tvalid_1's rmse: 0.790905\tvalid_1's l2: 0.625531           \n",
      "[300]\tvalid_0's rmse: 0.865185\tvalid_0's l2: 0.748545\tvalid_1's rmse: 0.766154\tvalid_1's l2: 0.586993           \n",
      "  2%|▊                                        | 4/200 [00:09<06:40,  2.05s/trial, best loss: 0.8599250644205004]"
     ]
    },
    {
     "name": "stderr",
     "output_type": "stream",
     "text": [
      "Score - 0.8615344541921616, Std - 0.026680772676447168, Eval Score - 0.8615344541921616\n",
      "Score across folds - [0.8932255091380229, 0.8279532783456255, 0.8634245750928367].\n"
     ]
    },
    {
     "name": "stdout",
     "output_type": "stream",
     "text": [
      "\r",
      "  2%|█                                        | 5/200 [00:10<06:31,  2.01s/trial, best loss: 0.8599250644205004]"
     ]
    },
    {
     "name": "stderr",
     "output_type": "stream",
     "text": [
      "\n",
      "Iteration: 6, Training with params: {'boosting_type': 'gbdt', 'colsample_bytree': 0.6000000000000001, 'learning_rate': 0.1, 'min_child_samples': 20, 'n_estimators': 10000, 'n_jobs': -1, 'num_leaves': 8, 'objective': 'regression', 'subsample': 0.8, 'subsample_freq': 10}\n"
     ]
    },
    {
     "name": "stdout",
     "output_type": "stream",
     "text": [
      "[100]\tvalid_0's rmse: 0.907046\tvalid_0's l2: 0.822733\tvalid_1's rmse: 0.866624\tvalid_1's l2: 0.751038           \n",
      "[200]\tvalid_0's rmse: 0.900373\tvalid_0's l2: 0.810671\tvalid_1's rmse: 0.835818\tvalid_1's l2: 0.698591           \n",
      "[300]\tvalid_0's rmse: 0.901234\tvalid_0's l2: 0.812223\tvalid_1's rmse: 0.814605\tvalid_1's l2: 0.663581           \n",
      "[100]\tvalid_0's rmse: 0.845324\tvalid_0's l2: 0.714572\tvalid_1's rmse: 0.867286\tvalid_1's l2: 0.752186           \n",
      "[200]\tvalid_0's rmse: 0.83276\tvalid_0's l2: 0.693489\tvalid_1's rmse: 0.835739\tvalid_1's l2: 0.698459            \n",
      "[300]\tvalid_0's rmse: 0.828267\tvalid_0's l2: 0.686027\tvalid_1's rmse: 0.814796\tvalid_1's l2: 0.663892           \n",
      "[400]\tvalid_0's rmse: 0.828231\tvalid_0's l2: 0.685967\tvalid_1's rmse: 0.798611\tvalid_1's l2: 0.63778            \n",
      "[100]\tvalid_0's rmse: 0.883056\tvalid_0's l2: 0.779787\tvalid_1's rmse: 0.861376\tvalid_1's l2: 0.741968           \n",
      "[200]\tvalid_0's rmse: 0.870415\tvalid_0's l2: 0.757623\tvalid_1's rmse: 0.828895\tvalid_1's l2: 0.687067           \n",
      "[300]\tvalid_0's rmse: 0.868616\tvalid_0's l2: 0.754494\tvalid_1's rmse: 0.8084\tvalid_1's l2: 0.653511             \n",
      "[400]\tvalid_0's rmse: 0.867964\tvalid_0's l2: 0.753361\tvalid_1's rmse: 0.79158\tvalid_1's l2: 0.626599            \n",
      "[500]\tvalid_0's rmse: 0.86697\tvalid_0's l2: 0.751637\tvalid_1's rmse: 0.776644\tvalid_1's l2: 0.603176            \n",
      "  2%|█                                        | 5/200 [00:12<06:31,  2.01s/trial, best loss: 0.8599250644205004]"
     ]
    },
    {
     "name": "stderr",
     "output_type": "stream",
     "text": [
      "Score - 0.8641787089633413, Std - 0.02923469036100553, Eval Score - 0.8641787089633413\n",
      "Score across folds - [0.8988467833218722, 0.8273358495244074, 0.8663534940437444].\n"
     ]
    },
    {
     "name": "stdout",
     "output_type": "stream",
     "text": [
      "\r",
      "  3%|█▏                                       | 6/200 [00:12<06:38,  2.05s/trial, best loss: 0.8599250644205004]"
     ]
    },
    {
     "name": "stderr",
     "output_type": "stream",
     "text": [
      "\n",
      "Iteration: 7, Training with params: {'boosting_type': 'gbdt', 'colsample_bytree': 1.0, 'learning_rate': 0.1, 'min_child_samples': 70, 'n_estimators': 10000, 'n_jobs': -1, 'num_leaves': 16, 'objective': 'regression', 'subsample': 0.8, 'subsample_freq': 10}\n"
     ]
    },
    {
     "name": "stdout",
     "output_type": "stream",
     "text": [
      "[100]\tvalid_0's rmse: 0.898891\tvalid_0's l2: 0.808006\tvalid_1's rmse: 0.826057\tvalid_1's l2: 0.68237            \n",
      "[200]\tvalid_0's rmse: 0.896647\tvalid_0's l2: 0.803976\tvalid_1's rmse: 0.78656\tvalid_1's l2: 0.618676            \n",
      "[300]\tvalid_0's rmse: 0.899417\tvalid_0's l2: 0.80895\tvalid_1's rmse: 0.758468\tvalid_1's l2: 0.575273            \n",
      "[100]\tvalid_0's rmse: 0.830843\tvalid_0's l2: 0.6903\tvalid_1's rmse: 0.826427\tvalid_1's l2: 0.682981             \n",
      "[200]\tvalid_0's rmse: 0.826158\tvalid_0's l2: 0.682537\tvalid_1's rmse: 0.785875\tvalid_1's l2: 0.617599           \n",
      "[300]\tvalid_0's rmse: 0.825961\tvalid_0's l2: 0.682212\tvalid_1's rmse: 0.757334\tvalid_1's l2: 0.573555           \n",
      "[100]\tvalid_0's rmse: 0.869066\tvalid_0's l2: 0.755275\tvalid_1's rmse: 0.819002\tvalid_1's l2: 0.670765           \n",
      "[200]\tvalid_0's rmse: 0.863558\tvalid_0's l2: 0.745733\tvalid_1's rmse: 0.778442\tvalid_1's l2: 0.605972           \n",
      "[300]\tvalid_0's rmse: 0.865711\tvalid_0's l2: 0.749456\tvalid_1's rmse: 0.749387\tvalid_1's l2: 0.561582           \n",
      "  3%|█▏                                       | 6/200 [00:14<06:38,  2.05s/trial, best loss: 0.8599250644205004]"
     ]
    },
    {
     "name": "stderr",
     "output_type": "stream",
     "text": [
      "Score - 0.8610554073618185, Std - 0.02872993115461885, Eval Score - 0.8610554073618185\n",
      "Score across folds - [0.8952209196734822, 0.8249292339027589, 0.8630160685092148].\n"
     ]
    },
    {
     "name": "stdout",
     "output_type": "stream",
     "text": [
      "\r",
      "  4%|█▍                                       | 7/200 [00:14<06:35,  2.05s/trial, best loss: 0.8599250644205004]"
     ]
    },
    {
     "name": "stderr",
     "output_type": "stream",
     "text": [
      "\n",
      "Iteration: 8, Training with params: {'boosting_type': 'gbdt', 'colsample_bytree': 0.6000000000000001, 'learning_rate': 0.1, 'min_child_samples': 60, 'n_estimators': 10000, 'n_jobs': -1, 'num_leaves': 16, 'objective': 'regression', 'subsample': 0.8, 'subsample_freq': 5}\n"
     ]
    },
    {
     "name": "stdout",
     "output_type": "stream",
     "text": [
      "[100]\tvalid_0's rmse: 0.900583\tvalid_0's l2: 0.81105\tvalid_1's rmse: 0.831587\tvalid_1's l2: 0.691537            \n",
      "[200]\tvalid_0's rmse: 0.895817\tvalid_0's l2: 0.802488\tvalid_1's rmse: 0.790306\tvalid_1's l2: 0.624583           \n",
      "[300]\tvalid_0's rmse: 0.894505\tvalid_0's l2: 0.800138\tvalid_1's rmse: 0.762861\tvalid_1's l2: 0.581958           \n",
      "[400]\tvalid_0's rmse: 0.894102\tvalid_0's l2: 0.799418\tvalid_1's rmse: 0.74063\tvalid_1's l2: 0.548532            \n",
      "[500]\tvalid_0's rmse: 0.895134\tvalid_0's l2: 0.801266\tvalid_1's rmse: 0.720338\tvalid_1's l2: 0.518887           \n",
      "[100]\tvalid_0's rmse: 0.834371\tvalid_0's l2: 0.696175\tvalid_1's rmse: 0.831025\tvalid_1's l2: 0.690603           \n",
      "[200]\tvalid_0's rmse: 0.827513\tvalid_0's l2: 0.684778\tvalid_1's rmse: 0.789798\tvalid_1's l2: 0.623781           \n",
      "[300]\tvalid_0's rmse: 0.827003\tvalid_0's l2: 0.683933\tvalid_1's rmse: 0.761009\tvalid_1's l2: 0.579135           \n",
      "[100]\tvalid_0's rmse: 0.865792\tvalid_0's l2: 0.749595\tvalid_1's rmse: 0.824795\tvalid_1's l2: 0.680288           \n",
      "[200]\tvalid_0's rmse: 0.860091\tvalid_0's l2: 0.739757\tvalid_1's rmse: 0.784712\tvalid_1's l2: 0.615773           \n",
      "[300]\tvalid_0's rmse: 0.862266\tvalid_0's l2: 0.743502\tvalid_1's rmse: 0.755795\tvalid_1's l2: 0.571227           \n",
      "  4%|█▍                                       | 7/200 [00:16<06:35,  2.05s/trial, best loss: 0.8599250644205004]"
     ]
    },
    {
     "name": "stderr",
     "output_type": "stream",
     "text": [
      "Score - 0.8596638438296237, Std - 0.027359882740968913, Eval Score - 0.8596638438296237\n",
      "Score across folds - [0.8933417039713758, 0.8263265478516709, 0.8593232796658241].\n"
     ]
    },
    {
     "name": "stdout",
     "output_type": "stream",
     "text": [
      "\r",
      "  4%|█▋                                       | 8/200 [00:16<07:00,  2.19s/trial, best loss: 0.8596638438296237]"
     ]
    },
    {
     "name": "stderr",
     "output_type": "stream",
     "text": [
      "\n",
      "Iteration: 9, Training with params: {'boosting_type': 'gbdt', 'colsample_bytree': 0.8, 'learning_rate': 0.1, 'min_child_samples': 60, 'n_estimators': 10000, 'n_jobs': -1, 'num_leaves': 16, 'objective': 'regression', 'subsample': 0.8, 'subsample_freq': 5}\n"
     ]
    },
    {
     "name": "stdout",
     "output_type": "stream",
     "text": [
      "[100]\tvalid_0's rmse: 0.898348\tvalid_0's l2: 0.807028\tvalid_1's rmse: 0.828159\tvalid_1's l2: 0.685847           \n",
      "[200]\tvalid_0's rmse: 0.896833\tvalid_0's l2: 0.804309\tvalid_1's rmse: 0.786889\tvalid_1's l2: 0.619194           \n",
      "[100]\tvalid_0's rmse: 0.832923\tvalid_0's l2: 0.693761\tvalid_1's rmse: 0.828128\tvalid_1's l2: 0.685795           \n",
      "[200]\tvalid_0's rmse: 0.830163\tvalid_0's l2: 0.689171\tvalid_1's rmse: 0.78753\tvalid_1's l2: 0.620204            \n",
      "[300]\tvalid_0's rmse: 0.831941\tvalid_0's l2: 0.692125\tvalid_1's rmse: 0.758954\tvalid_1's l2: 0.576012           \n",
      "[100]\tvalid_0's rmse: 0.870062\tvalid_0's l2: 0.757008\tvalid_1's rmse: 0.820232\tvalid_1's l2: 0.67278            \n",
      "[200]\tvalid_0's rmse: 0.866808\tvalid_0's l2: 0.751356\tvalid_1's rmse: 0.779392\tvalid_1's l2: 0.607452           \n",
      "[300]\tvalid_0's rmse: 0.869504\tvalid_0's l2: 0.756037\tvalid_1's rmse: 0.749735\tvalid_1's l2: 0.562102           \n",
      "  4%|█▋                                       | 8/200 [00:18<07:00,  2.19s/trial, best loss: 0.8596638438296237]"
     ]
    },
    {
     "name": "stderr",
     "output_type": "stream",
     "text": [
      "Score - 0.8640994868759506, Std - 0.027080571338806484, Eval Score - 0.8640994868759506\n",
      "Score across folds - [0.8963212234997893, 0.8300622195178686, 0.8659150176101941].\n"
     ]
    },
    {
     "name": "stdout",
     "output_type": "stream",
     "text": [
      "\r",
      "  4%|█▊                                       | 9/200 [00:18<06:35,  2.07s/trial, best loss: 0.8596638438296237]"
     ]
    },
    {
     "name": "stderr",
     "output_type": "stream",
     "text": [
      "\n",
      "Iteration: 10, Training with params: {'boosting_type': 'gbdt', 'colsample_bytree': 1.0, 'learning_rate': 0.1, 'min_child_samples': 20, 'n_estimators': 10000, 'n_jobs': -1, 'num_leaves': 24, 'objective': 'regression', 'subsample': 1.0, 'subsample_freq': 10}\n"
     ]
    },
    {
     "name": "stdout",
     "output_type": "stream",
     "text": [
      "[100]\tvalid_0's rmse: 0.898583\tvalid_0's l2: 0.807452\tvalid_1's rmse: 0.793769\tvalid_1's l2: 0.630069           \n",
      "[200]\tvalid_0's rmse: 0.898936\tvalid_0's l2: 0.808086\tvalid_1's rmse: 0.740055\tvalid_1's l2: 0.547681           \n",
      "[100]\tvalid_0's rmse: 0.828164\tvalid_0's l2: 0.685856\tvalid_1's rmse: 0.794847\tvalid_1's l2: 0.631782           \n",
      "[200]\tvalid_0's rmse: 0.824887\tvalid_0's l2: 0.680438\tvalid_1's rmse: 0.740861\tvalid_1's l2: 0.548875           \n",
      "[300]\tvalid_0's rmse: 0.825098\tvalid_0's l2: 0.680787\tvalid_1's rmse: 0.698984\tvalid_1's l2: 0.488579           \n",
      "[100]\tvalid_0's rmse: 0.867272\tvalid_0's l2: 0.752161\tvalid_1's rmse: 0.788781\tvalid_1's l2: 0.622176           \n",
      "[200]\tvalid_0's rmse: 0.866854\tvalid_0's l2: 0.751436\tvalid_1's rmse: 0.732336\tvalid_1's l2: 0.536316           \n",
      "  4%|█▊                                       | 9/200 [00:20<06:35,  2.07s/trial, best loss: 0.8596638438296237]"
     ]
    },
    {
     "name": "stderr",
     "output_type": "stream",
     "text": [
      "Score - 0.8617544351734595, Std - 0.029847706493880695, Eval Score - 0.8617544351734595\n",
      "Score across folds - [0.8969039545879901, 0.8239383356362096, 0.8644210152961791].\n"
     ]
    },
    {
     "name": "stdout",
     "output_type": "stream",
     "text": [
      "\r",
      "  5%|██                                      | 10/200 [00:20<06:19,  2.00s/trial, best loss: 0.8596638438296237]"
     ]
    },
    {
     "name": "stderr",
     "output_type": "stream",
     "text": [
      "\n",
      "Iteration: 11, Training with params: {'boosting_type': 'gbdt', 'colsample_bytree': 0.6000000000000001, 'learning_rate': 0.1, 'min_child_samples': 90, 'n_estimators': 10000, 'n_jobs': -1, 'num_leaves': 16, 'objective': 'regression', 'subsample': 0.8, 'subsample_freq': 10}\n"
     ]
    },
    {
     "name": "stdout",
     "output_type": "stream",
     "text": [
      "[100]\tvalid_0's rmse: 0.895817\tvalid_0's l2: 0.802488\tvalid_1's rmse: 0.832524\tvalid_1's l2: 0.693096           \n",
      "[200]\tvalid_0's rmse: 0.891397\tvalid_0's l2: 0.794589\tvalid_1's rmse: 0.794749\tvalid_1's l2: 0.631626           \n",
      "[100]\tvalid_0's rmse: 0.830283\tvalid_0's l2: 0.68937\tvalid_1's rmse: 0.833597\tvalid_1's l2: 0.694885            \n",
      "[200]\tvalid_0's rmse: 0.824284\tvalid_0's l2: 0.679445\tvalid_1's rmse: 0.794425\tvalid_1's l2: 0.631112           \n",
      "[300]\tvalid_0's rmse: 0.822309\tvalid_0's l2: 0.676193\tvalid_1's rmse: 0.767671\tvalid_1's l2: 0.589318           \n",
      "[100]\tvalid_0's rmse: 0.872239\tvalid_0's l2: 0.760801\tvalid_1's rmse: 0.826195\tvalid_1's l2: 0.682599           \n",
      "[200]\tvalid_0's rmse: 0.86185\tvalid_0's l2: 0.742785\tvalid_1's rmse: 0.786578\tvalid_1's l2: 0.618705            \n",
      "[300]\tvalid_0's rmse: 0.864682\tvalid_0's l2: 0.747675\tvalid_1's rmse: 0.76066\tvalid_1's l2: 0.578603            \n",
      "  5%|██                                      | 10/200 [00:22<06:19,  2.00s/trial, best loss: 0.8596638438296237]"
     ]
    },
    {
     "name": "stderr",
     "output_type": "stream",
     "text": [
      "Score - 0.85734353323154, Std - 0.027821811452269602, Eval Score - 0.85734353323154\n",
      "Score across folds - [0.8893937705684395, 0.8215531292447659, 0.8610836998814149].\n"
     ]
    },
    {
     "name": "stdout",
     "output_type": "stream",
     "text": [
      "\r",
      "  6%|██▎                                       | 11/200 [00:22<06:10,  1.96s/trial, best loss: 0.85734353323154]"
     ]
    },
    {
     "name": "stderr",
     "output_type": "stream",
     "text": [
      "\n",
      "Iteration: 12, Training with params: {'boosting_type': 'gbdt', 'colsample_bytree': 0.6000000000000001, 'learning_rate': 0.1, 'min_child_samples': 60, 'n_estimators': 10000, 'n_jobs': -1, 'num_leaves': 16, 'objective': 'regression', 'subsample': 0.8, 'subsample_freq': 5}\n"
     ]
    },
    {
     "name": "stdout",
     "output_type": "stream",
     "text": [
      "[100]\tvalid_0's rmse: 0.900583\tvalid_0's l2: 0.81105\tvalid_1's rmse: 0.831587\tvalid_1's l2: 0.691537            \n",
      "[200]\tvalid_0's rmse: 0.895817\tvalid_0's l2: 0.802488\tvalid_1's rmse: 0.790306\tvalid_1's l2: 0.624583           \n",
      "[300]\tvalid_0's rmse: 0.894505\tvalid_0's l2: 0.800138\tvalid_1's rmse: 0.762861\tvalid_1's l2: 0.581958           \n",
      "[400]\tvalid_0's rmse: 0.894102\tvalid_0's l2: 0.799418\tvalid_1's rmse: 0.74063\tvalid_1's l2: 0.548532            \n",
      "[500]\tvalid_0's rmse: 0.895134\tvalid_0's l2: 0.801266\tvalid_1's rmse: 0.720338\tvalid_1's l2: 0.518887           \n",
      "[100]\tvalid_0's rmse: 0.834371\tvalid_0's l2: 0.696175\tvalid_1's rmse: 0.831025\tvalid_1's l2: 0.690603           \n",
      "[200]\tvalid_0's rmse: 0.827513\tvalid_0's l2: 0.684778\tvalid_1's rmse: 0.789798\tvalid_1's l2: 0.623781           \n",
      "[300]\tvalid_0's rmse: 0.827003\tvalid_0's l2: 0.683933\tvalid_1's rmse: 0.761009\tvalid_1's l2: 0.579135           \n",
      "[100]\tvalid_0's rmse: 0.865792\tvalid_0's l2: 0.749595\tvalid_1's rmse: 0.824795\tvalid_1's l2: 0.680288           \n",
      "[200]\tvalid_0's rmse: 0.860091\tvalid_0's l2: 0.739757\tvalid_1's rmse: 0.784712\tvalid_1's l2: 0.615773           \n",
      "[300]\tvalid_0's rmse: 0.862266\tvalid_0's l2: 0.743502\tvalid_1's rmse: 0.755795\tvalid_1's l2: 0.571227           \n",
      "  6%|██▎                                       | 11/200 [00:24<06:10,  1.96s/trial, best loss: 0.85734353323154]"
     ]
    },
    {
     "name": "stderr",
     "output_type": "stream",
     "text": [
      "Score - 0.8596638438296237, Std - 0.027359882740968913, Eval Score - 0.8596638438296237\n",
      "Score across folds - [0.8933417039713758, 0.8263265478516709, 0.8593232796658241].\n"
     ]
    },
    {
     "name": "stdout",
     "output_type": "stream",
     "text": [
      "\r",
      "  6%|██▌                                       | 12/200 [00:24<06:40,  2.13s/trial, best loss: 0.85734353323154]"
     ]
    },
    {
     "name": "stderr",
     "output_type": "stream",
     "text": [
      "\n",
      "Iteration: 13, Training with params: {'boosting_type': 'gbdt', 'colsample_bytree': 0.8, 'learning_rate': 0.1, 'min_child_samples': 30, 'n_estimators': 10000, 'n_jobs': -1, 'num_leaves': 8, 'objective': 'regression', 'subsample': 0.8, 'subsample_freq': 5}\n"
     ]
    },
    {
     "name": "stdout",
     "output_type": "stream",
     "text": [
      "[100]\tvalid_0's rmse: 0.903797\tvalid_0's l2: 0.816849\tvalid_1's rmse: 0.864454\tvalid_1's l2: 0.74728            \n",
      "[200]\tvalid_0's rmse: 0.895606\tvalid_0's l2: 0.802109\tvalid_1's rmse: 0.833604\tvalid_1's l2: 0.694895           \n",
      "[300]\tvalid_0's rmse: 0.894536\tvalid_0's l2: 0.800194\tvalid_1's rmse: 0.813399\tvalid_1's l2: 0.661617           \n",
      "[400]\tvalid_0's rmse: 0.894411\tvalid_0's l2: 0.799972\tvalid_1's rmse: 0.797455\tvalid_1's l2: 0.635935           \n",
      "[500]\tvalid_0's rmse: 0.893304\tvalid_0's l2: 0.797992\tvalid_1's rmse: 0.783133\tvalid_1's l2: 0.613297           \n",
      "[100]\tvalid_0's rmse: 0.842879\tvalid_0's l2: 0.710446\tvalid_1's rmse: 0.863243\tvalid_1's l2: 0.745189           \n",
      "[200]\tvalid_0's rmse: 0.831921\tvalid_0's l2: 0.692092\tvalid_1's rmse: 0.83352\tvalid_1's l2: 0.694755            \n",
      "[300]\tvalid_0's rmse: 0.829584\tvalid_0's l2: 0.68821\tvalid_1's rmse: 0.813623\tvalid_1's l2: 0.661982            \n",
      "[400]\tvalid_0's rmse: 0.830384\tvalid_0's l2: 0.689538\tvalid_1's rmse: 0.796952\tvalid_1's l2: 0.635133           \n",
      "[100]\tvalid_0's rmse: 0.876481\tvalid_0's l2: 0.768219\tvalid_1's rmse: 0.857185\tvalid_1's l2: 0.734766           \n",
      "[200]\tvalid_0's rmse: 0.866684\tvalid_0's l2: 0.751141\tvalid_1's rmse: 0.826965\tvalid_1's l2: 0.683871           \n",
      "[300]\tvalid_0's rmse: 0.866614\tvalid_0's l2: 0.751021\tvalid_1's rmse: 0.806744\tvalid_1's l2: 0.650835           \n",
      "[400]\tvalid_0's rmse: 0.864442\tvalid_0's l2: 0.747261\tvalid_1's rmse: 0.790146\tvalid_1's l2: 0.624331           \n",
      "[500]\tvalid_0's rmse: 0.864358\tvalid_0's l2: 0.747114\tvalid_1's rmse: 0.775535\tvalid_1's l2: 0.601454           \n",
      "  6%|██▌                                       | 12/200 [00:26<06:40,  2.13s/trial, best loss: 0.85734353323154]"
     ]
    },
    {
     "name": "stderr",
     "output_type": "stream",
     "text": [
      "Score - 0.861669152258667, Std - 0.02638585274667715, Eval Score - 0.861669152258667\n",
      "Score across folds - [0.8927639776188842, 0.8282568658141796, 0.8639866133429374].\n"
     ]
    },
    {
     "name": "stdout",
     "output_type": "stream",
     "text": [
      "\r",
      "  6%|██▋                                       | 13/200 [00:26<06:34,  2.11s/trial, best loss: 0.85734353323154]"
     ]
    },
    {
     "name": "stderr",
     "output_type": "stream",
     "text": [
      "\n",
      "Iteration: 14, Training with params: {'boosting_type': 'gbdt', 'colsample_bytree': 0.8, 'learning_rate': 0.1, 'min_child_samples': 50, 'n_estimators': 10000, 'n_jobs': -1, 'num_leaves': 16, 'objective': 'regression', 'subsample': 0.8, 'subsample_freq': 10}\n"
     ]
    },
    {
     "name": "stdout",
     "output_type": "stream",
     "text": [
      "[100]\tvalid_0's rmse: 0.898649\tvalid_0's l2: 0.807569\tvalid_1's rmse: 0.827515\tvalid_1's l2: 0.68478            \n",
      "[200]\tvalid_0's rmse: 0.897463\tvalid_0's l2: 0.80544\tvalid_1's rmse: 0.787533\tvalid_1's l2: 0.620208            \n",
      "[300]\tvalid_0's rmse: 0.898168\tvalid_0's l2: 0.806706\tvalid_1's rmse: 0.758312\tvalid_1's l2: 0.575037           \n",
      "[100]\tvalid_0's rmse: 0.834081\tvalid_0's l2: 0.695692\tvalid_1's rmse: 0.828704\tvalid_1's l2: 0.68675            \n",
      "[200]\tvalid_0's rmse: 0.828308\tvalid_0's l2: 0.686094\tvalid_1's rmse: 0.788099\tvalid_1's l2: 0.621101           \n",
      "[300]\tvalid_0's rmse: 0.827626\tvalid_0's l2: 0.684965\tvalid_1's rmse: 0.757438\tvalid_1's l2: 0.573712           \n",
      "[100]\tvalid_0's rmse: 0.871492\tvalid_0's l2: 0.759499\tvalid_1's rmse: 0.819609\tvalid_1's l2: 0.671759           \n",
      "[200]\tvalid_0's rmse: 0.866115\tvalid_0's l2: 0.750155\tvalid_1's rmse: 0.778455\tvalid_1's l2: 0.605993           \n",
      "[300]\tvalid_0's rmse: 0.865355\tvalid_0's l2: 0.74884\tvalid_1's rmse: 0.748467\tvalid_1's l2: 0.560203            \n",
      "  6%|██▋                                       | 13/200 [00:28<06:34,  2.11s/trial, best loss: 0.85734353323154]"
     ]
    },
    {
     "name": "stderr",
     "output_type": "stream",
     "text": [
      "Score - 0.8624068008039617, Std - 0.028202879888469704, Eval Score - 0.8624068008039617\n",
      "Score across folds - [0.8960665493925589, 0.827046690550035, 0.864107162469291].\n"
     ]
    },
    {
     "name": "stdout",
     "output_type": "stream",
     "text": [
      "\r",
      "  7%|██▉                                       | 14/200 [00:28<06:23,  2.06s/trial, best loss: 0.85734353323154]"
     ]
    },
    {
     "name": "stderr",
     "output_type": "stream",
     "text": [
      "\n",
      "Iteration: 15, Training with params: {'boosting_type': 'gbdt', 'colsample_bytree': 0.6000000000000001, 'learning_rate': 0.1, 'min_child_samples': 60, 'n_estimators': 10000, 'n_jobs': -1, 'num_leaves': 24, 'objective': 'regression', 'subsample': 0.8, 'subsample_freq': 5}\n"
     ]
    },
    {
     "name": "stdout",
     "output_type": "stream",
     "text": [
      "[100]\tvalid_0's rmse: 0.897599\tvalid_0's l2: 0.805685\tvalid_1's rmse: 0.805077\tvalid_1's l2: 0.64815            \n",
      "[200]\tvalid_0's rmse: 0.894827\tvalid_0's l2: 0.800715\tvalid_1's rmse: 0.755059\tvalid_1's l2: 0.570114           \n",
      "[100]\tvalid_0's rmse: 0.829739\tvalid_0's l2: 0.688468\tvalid_1's rmse: 0.805205\tvalid_1's l2: 0.648356           \n",
      "[200]\tvalid_0's rmse: 0.82547\tvalid_0's l2: 0.681401\tvalid_1's rmse: 0.755002\tvalid_1's l2: 0.570028            \n",
      "[300]\tvalid_0's rmse: 0.826217\tvalid_0's l2: 0.682635\tvalid_1's rmse: 0.720138\tvalid_1's l2: 0.518599           \n",
      "[100]\tvalid_0's rmse: 0.868975\tvalid_0's l2: 0.755117\tvalid_1's rmse: 0.797655\tvalid_1's l2: 0.636253           \n",
      "[200]\tvalid_0's rmse: 0.868785\tvalid_0's l2: 0.754788\tvalid_1's rmse: 0.747182\tvalid_1's l2: 0.558281           \n",
      "  7%|██▉                                       | 14/200 [00:30<06:23,  2.06s/trial, best loss: 0.85734353323154]"
     ]
    },
    {
     "name": "stderr",
     "output_type": "stream",
     "text": [
      "Score - 0.8622111930436204, Std - 0.028828824931414473, Eval Score - 0.8622111930436204\n",
      "Score across folds - [0.8947716158092427, 0.8246820788095518, 0.8671798845120665].\n"
     ]
    },
    {
     "name": "stdout",
     "output_type": "stream",
     "text": [
      "\r",
      "  8%|███▏                                      | 15/200 [00:30<06:20,  2.06s/trial, best loss: 0.85734353323154]"
     ]
    },
    {
     "name": "stderr",
     "output_type": "stream",
     "text": [
      "\n",
      "Iteration: 16, Training with params: {'boosting_type': 'gbdt', 'colsample_bytree': 0.8, 'learning_rate': 0.1, 'min_child_samples': 50, 'n_estimators': 10000, 'n_jobs': -1, 'num_leaves': 8, 'objective': 'regression', 'subsample': 0.6000000000000001, 'subsample_freq': 5}\n"
     ]
    },
    {
     "name": "stdout",
     "output_type": "stream",
     "text": [
      "[100]\tvalid_0's rmse: 0.906874\tvalid_0's l2: 0.822421\tvalid_1's rmse: 0.865362\tvalid_1's l2: 0.748852           \n",
      "[200]\tvalid_0's rmse: 0.899636\tvalid_0's l2: 0.809345\tvalid_1's rmse: 0.835548\tvalid_1's l2: 0.698141           \n",
      "[300]\tvalid_0's rmse: 0.895236\tvalid_0's l2: 0.801448\tvalid_1's rmse: 0.817417\tvalid_1's l2: 0.668171           \n",
      "[400]\tvalid_0's rmse: 0.894694\tvalid_0's l2: 0.800478\tvalid_1's rmse: 0.802802\tvalid_1's l2: 0.644491           \n",
      "[500]\tvalid_0's rmse: 0.895227\tvalid_0's l2: 0.801432\tvalid_1's rmse: 0.790044\tvalid_1's l2: 0.624169           \n",
      "[100]\tvalid_0's rmse: 0.843834\tvalid_0's l2: 0.712056\tvalid_1's rmse: 0.865193\tvalid_1's l2: 0.74856            \n",
      "[200]\tvalid_0's rmse: 0.832339\tvalid_0's l2: 0.692788\tvalid_1's rmse: 0.834286\tvalid_1's l2: 0.696034           \n",
      "[300]\tvalid_0's rmse: 0.830454\tvalid_0's l2: 0.689654\tvalid_1's rmse: 0.815407\tvalid_1's l2: 0.664888           \n",
      "[400]\tvalid_0's rmse: 0.827623\tvalid_0's l2: 0.68496\tvalid_1's rmse: 0.800263\tvalid_1's l2: 0.640421            \n",
      "[500]\tvalid_0's rmse: 0.828251\tvalid_0's l2: 0.685999\tvalid_1's rmse: 0.787758\tvalid_1's l2: 0.620563           \n",
      "[100]\tvalid_0's rmse: 0.880935\tvalid_0's l2: 0.776046\tvalid_1's rmse: 0.858559\tvalid_1's l2: 0.737124           \n",
      "[200]\tvalid_0's rmse: 0.870598\tvalid_0's l2: 0.757941\tvalid_1's rmse: 0.828808\tvalid_1's l2: 0.686923           \n",
      "[300]\tvalid_0's rmse: 0.870032\tvalid_0's l2: 0.756956\tvalid_1's rmse: 0.809883\tvalid_1's l2: 0.65591            \n",
      "[400]\tvalid_0's rmse: 0.869022\tvalid_0's l2: 0.755199\tvalid_1's rmse: 0.794619\tvalid_1's l2: 0.631419           \n",
      "[500]\tvalid_0's rmse: 0.868474\tvalid_0's l2: 0.754247\tvalid_1's rmse: 0.781728\tvalid_1's l2: 0.611098           \n",
      "  8%|███▏                                      | 15/200 [00:32<06:20,  2.06s/trial, best loss: 0.85734353323154]"
     ]
    },
    {
     "name": "stderr",
     "output_type": "stream",
     "text": [
      "Score - 0.8621101875021989, Std - 0.02708976444473585, Eval Score - 0.8621101875021989\n",
      "Score across folds - [0.8923399741269927, 0.8266138563854789, 0.8673767319941249].\n"
     ]
    },
    {
     "name": "stdout",
     "output_type": "stream",
     "text": [
      "\r",
      "  8%|███▎                                      | 16/200 [00:33<06:25,  2.09s/trial, best loss: 0.85734353323154]"
     ]
    },
    {
     "name": "stderr",
     "output_type": "stream",
     "text": [
      "\n",
      "Iteration: 17, Training with params: {'boosting_type': 'gbdt', 'colsample_bytree': 0.6000000000000001, 'learning_rate': 0.1, 'min_child_samples': 120, 'n_estimators': 10000, 'n_jobs': -1, 'num_leaves': 24, 'objective': 'regression', 'subsample': 0.8, 'subsample_freq': 10}\n"
     ]
    },
    {
     "name": "stdout",
     "output_type": "stream",
     "text": [
      "[100]\tvalid_0's rmse: 0.89354\tvalid_0's l2: 0.798414\tvalid_1's rmse: 0.811339\tvalid_1's l2: 0.658271            \n",
      "[200]\tvalid_0's rmse: 0.893144\tvalid_0's l2: 0.797706\tvalid_1's rmse: 0.766164\tvalid_1's l2: 0.587007           \n",
      "[100]\tvalid_0's rmse: 0.829078\tvalid_0's l2: 0.687371\tvalid_1's rmse: 0.812672\tvalid_1's l2: 0.660437           \n",
      "[200]\tvalid_0's rmse: 0.822327\tvalid_0's l2: 0.676222\tvalid_1's rmse: 0.766457\tvalid_1's l2: 0.587457           \n",
      "[300]\tvalid_0's rmse: 0.82277\tvalid_0's l2: 0.67695\tvalid_1's rmse: 0.734266\tvalid_1's l2: 0.539146             \n",
      "[100]\tvalid_0's rmse: 0.871569\tvalid_0's l2: 0.759632\tvalid_1's rmse: 0.803007\tvalid_1's l2: 0.64482            \n",
      "[200]\tvalid_0's rmse: 0.868576\tvalid_0's l2: 0.754424\tvalid_1's rmse: 0.75622\tvalid_1's l2: 0.571868            \n",
      "[300]\tvalid_0's rmse: 0.871263\tvalid_0's l2: 0.759099\tvalid_1's rmse: 0.724803\tvalid_1's l2: 0.52534            \n",
      "  8%|███▎                                      | 16/200 [00:35<06:25,  2.09s/trial, best loss: 0.85734353323154]"
     ]
    },
    {
     "name": "stderr",
     "output_type": "stream",
     "text": [
      "Score - 0.8599875429507353, Std - 0.029329378772697184, Eval Score - 0.8599875429507353\n",
      "Score across folds - [0.8913373025416043, 0.8207921801886492, 0.8678331461219525].\n"
     ]
    },
    {
     "name": "stdout",
     "output_type": "stream",
     "text": [
      "\r",
      "  8%|███▌                                      | 17/200 [00:35<06:33,  2.15s/trial, best loss: 0.85734353323154]"
     ]
    },
    {
     "name": "stderr",
     "output_type": "stream",
     "text": [
      "\n",
      "Iteration: 18, Training with params: {'boosting_type': 'gbdt', 'colsample_bytree': 0.8, 'learning_rate': 0.1, 'min_child_samples': 20, 'n_estimators': 10000, 'n_jobs': -1, 'num_leaves': 24, 'objective': 'regression', 'subsample': 0.8, 'subsample_freq': 5}\n"
     ]
    },
    {
     "name": "stdout",
     "output_type": "stream",
     "text": [
      "[100]\tvalid_0's rmse: 0.900281\tvalid_0's l2: 0.810506\tvalid_1's rmse: 0.796775\tvalid_1's l2: 0.634851           \n",
      "[200]\tvalid_0's rmse: 0.905188\tvalid_0's l2: 0.819365\tvalid_1's rmse: 0.741302\tvalid_1's l2: 0.549528           \n",
      "[100]\tvalid_0's rmse: 0.830473\tvalid_0's l2: 0.689685\tvalid_1's rmse: 0.797082\tvalid_1's l2: 0.63534            \n",
      "[200]\tvalid_0's rmse: 0.828177\tvalid_0's l2: 0.685877\tvalid_1's rmse: 0.742861\tvalid_1's l2: 0.551842           \n",
      "[300]\tvalid_0's rmse: 0.829096\tvalid_0's l2: 0.687401\tvalid_1's rmse: 0.702\tvalid_1's l2: 0.492804              \n",
      "[100]\tvalid_0's rmse: 0.867692\tvalid_0's l2: 0.75289\tvalid_1's rmse: 0.789239\tvalid_1's l2: 0.622898            \n",
      "[200]\tvalid_0's rmse: 0.868228\tvalid_0's l2: 0.75382\tvalid_1's rmse: 0.734461\tvalid_1's l2: 0.539432            \n",
      "  8%|███▌                                      | 17/200 [00:37<06:33,  2.15s/trial, best loss: 0.85734353323154]"
     ]
    },
    {
     "name": "stderr",
     "output_type": "stream",
     "text": [
      "Score - 0.8648720273963851, Std - 0.029759981002548407, Eval Score - 0.8648720273963851\n",
      "Score across folds - [0.900235815808589, 0.8274281354228327, 0.8669521309577335].\n"
     ]
    },
    {
     "name": "stdout",
     "output_type": "stream",
     "text": [
      "\r",
      "  9%|███▊                                      | 18/200 [00:37<06:16,  2.07s/trial, best loss: 0.85734353323154]"
     ]
    },
    {
     "name": "stderr",
     "output_type": "stream",
     "text": [
      "\n",
      "Iteration: 19, Training with params: {'boosting_type': 'gbdt', 'colsample_bytree': 0.8, 'learning_rate': 0.1, 'min_child_samples': 40, 'n_estimators': 10000, 'n_jobs': -1, 'num_leaves': 16, 'objective': 'regression', 'subsample': 0.6000000000000001, 'subsample_freq': 5}\n"
     ]
    },
    {
     "name": "stdout",
     "output_type": "stream",
     "text": [
      "[100]\tvalid_0's rmse: 0.900134\tvalid_0's l2: 0.810241\tvalid_1's rmse: 0.826905\tvalid_1's l2: 0.683772           \n",
      "[200]\tvalid_0's rmse: 0.899916\tvalid_0's l2: 0.809848\tvalid_1's rmse: 0.786294\tvalid_1's l2: 0.618258           \n",
      "[100]\tvalid_0's rmse: 0.834754\tvalid_0's l2: 0.696814\tvalid_1's rmse: 0.828257\tvalid_1's l2: 0.68601            \n",
      "[200]\tvalid_0's rmse: 0.825735\tvalid_0's l2: 0.681839\tvalid_1's rmse: 0.789308\tvalid_1's l2: 0.623008           \n",
      "[100]\tvalid_0's rmse: 0.871461\tvalid_0's l2: 0.759444\tvalid_1's rmse: 0.82055\tvalid_1's l2: 0.673303            \n",
      "[200]\tvalid_0's rmse: 0.871663\tvalid_0's l2: 0.759797\tvalid_1's rmse: 0.779922\tvalid_1's l2: 0.608278           \n",
      "  9%|███▊                                      | 18/200 [00:38<06:16,  2.07s/trial, best loss: 0.85734353323154]"
     ]
    },
    {
     "name": "stderr",
     "output_type": "stream",
     "text": [
      "Score - 0.863622249835727, Std - 0.029404320713773524, Eval Score - 0.863622249835727\n",
      "Score across folds - [0.8970913130298007, 0.8255151313189698, 0.8682603051584106].\n"
     ]
    },
    {
     "name": "stdout",
     "output_type": "stream",
     "text": [
      "\r",
      " 10%|███▉                                      | 19/200 [00:38<05:48,  1.93s/trial, best loss: 0.85734353323154]"
     ]
    },
    {
     "name": "stderr",
     "output_type": "stream",
     "text": [
      "\n",
      "Iteration: 20, Training with params: {'boosting_type': 'gbdt', 'colsample_bytree': 0.8, 'learning_rate': 0.1, 'min_child_samples': 110, 'n_estimators': 10000, 'n_jobs': -1, 'num_leaves': 16, 'objective': 'regression', 'subsample': 1.0, 'subsample_freq': 10}\n"
     ]
    },
    {
     "name": "stdout",
     "output_type": "stream",
     "text": [
      "[100]\tvalid_0's rmse: 0.896182\tvalid_0's l2: 0.803142\tvalid_1's rmse: 0.829271\tvalid_1's l2: 0.687691           \n",
      "[200]\tvalid_0's rmse: 0.891966\tvalid_0's l2: 0.795604\tvalid_1's rmse: 0.792451\tvalid_1's l2: 0.627978           \n",
      "[300]\tvalid_0's rmse: 0.89223\tvalid_0's l2: 0.796074\tvalid_1's rmse: 0.765901\tvalid_1's l2: 0.586604            \n",
      "[100]\tvalid_0's rmse: 0.831038\tvalid_0's l2: 0.690625\tvalid_1's rmse: 0.830745\tvalid_1's l2: 0.690138           \n",
      "[200]\tvalid_0's rmse: 0.824197\tvalid_0's l2: 0.679301\tvalid_1's rmse: 0.792875\tvalid_1's l2: 0.628651           \n",
      "[300]\tvalid_0's rmse: 0.824513\tvalid_0's l2: 0.679821\tvalid_1's rmse: 0.766128\tvalid_1's l2: 0.586952           \n",
      "[100]\tvalid_0's rmse: 0.868077\tvalid_0's l2: 0.753558\tvalid_1's rmse: 0.821689\tvalid_1's l2: 0.675174           \n",
      "[200]\tvalid_0's rmse: 0.862296\tvalid_0's l2: 0.743554\tvalid_1's rmse: 0.78363\tvalid_1's l2: 0.614075            \n",
      " 10%|███▉                                      | 19/200 [00:40<05:48,  1.93s/trial, best loss: 0.85734353323154]"
     ]
    },
    {
     "name": "stderr",
     "output_type": "stream",
     "text": [
      "Score - 0.8588773512594589, Std - 0.027475928359060483, Eval Score - 0.8588773512594589\n",
      "Score across folds - [0.8909301049405752, 0.8238284694607834, 0.8618734793770177].\n"
     ]
    },
    {
     "name": "stdout",
     "output_type": "stream",
     "text": [
      "\r",
      " 10%|████▏                                     | 20/200 [00:40<05:38,  1.88s/trial, best loss: 0.85734353323154]"
     ]
    },
    {
     "name": "stderr",
     "output_type": "stream",
     "text": [
      "\n",
      "Iteration: 21, Training with params: {'boosting_type': 'gbdt', 'colsample_bytree': 1.0, 'learning_rate': 0.1, 'min_child_samples': 100, 'n_estimators': 10000, 'n_jobs': -1, 'num_leaves': 24, 'objective': 'regression', 'subsample': 1.0, 'subsample_freq': 10}\n"
     ]
    },
    {
     "name": "stdout",
     "output_type": "stream",
     "text": [
      "[100]\tvalid_0's rmse: 0.897774\tvalid_0's l2: 0.805998\tvalid_1's rmse: 0.801035\tvalid_1's l2: 0.641657           \n",
      "[200]\tvalid_0's rmse: 0.895606\tvalid_0's l2: 0.80211\tvalid_1's rmse: 0.753163\tvalid_1's l2: 0.567255            \n",
      "[300]\tvalid_0's rmse: 0.897449\tvalid_0's l2: 0.805414\tvalid_1's rmse: 0.719223\tvalid_1's l2: 0.517281           \n",
      "[100]\tvalid_0's rmse: 0.825622\tvalid_0's l2: 0.681651\tvalid_1's rmse: 0.801776\tvalid_1's l2: 0.642845           \n",
      "[200]\tvalid_0's rmse: 0.822352\tvalid_0's l2: 0.676263\tvalid_1's rmse: 0.753767\tvalid_1's l2: 0.568164           \n",
      "[100]\tvalid_0's rmse: 0.864998\tvalid_0's l2: 0.748222\tvalid_1's rmse: 0.793714\tvalid_1's l2: 0.629982           \n",
      "[200]\tvalid_0's rmse: 0.863974\tvalid_0's l2: 0.746451\tvalid_1's rmse: 0.745799\tvalid_1's l2: 0.556217           \n",
      "[300]\tvalid_0's rmse: 0.866111\tvalid_0's l2: 0.750149\tvalid_1's rmse: 0.70987\tvalid_1's l2: 0.503915            \n",
      " 10%|████▏                                     | 20/200 [00:42<05:38,  1.88s/trial, best loss: 0.85734353323154]"
     ]
    },
    {
     "name": "stderr",
     "output_type": "stream",
     "text": [
      "Score - 0.8600348488905009, Std - 0.030164370341262063, Eval Score - 0.8600348488905009\n",
      "Score across folds - [0.8950363589911342, 0.8214152734390903, 0.8636529142412784].\n"
     ]
    },
    {
     "name": "stdout",
     "output_type": "stream",
     "text": [
      "\r",
      " 10%|████▍                                     | 21/200 [00:42<05:56,  1.99s/trial, best loss: 0.85734353323154]"
     ]
    },
    {
     "name": "stderr",
     "output_type": "stream",
     "text": [
      "\n",
      "Iteration: 22, Training with params: {'boosting_type': 'gbdt', 'colsample_bytree': 0.6000000000000001, 'learning_rate': 0.1, 'min_child_samples': 120, 'n_estimators': 10000, 'n_jobs': -1, 'num_leaves': 16, 'objective': 'regression', 'subsample': 1.0, 'subsample_freq': 10}\n"
     ]
    },
    {
     "name": "stdout",
     "output_type": "stream",
     "text": [
      "[100]\tvalid_0's rmse: 0.897212\tvalid_0's l2: 0.804989\tvalid_1's rmse: 0.834836\tvalid_1's l2: 0.696951           \n",
      "[200]\tvalid_0's rmse: 0.891372\tvalid_0's l2: 0.794544\tvalid_1's rmse: 0.796295\tvalid_1's l2: 0.634085           \n",
      "[300]\tvalid_0's rmse: 0.890626\tvalid_0's l2: 0.793215\tvalid_1's rmse: 0.770025\tvalid_1's l2: 0.592938           \n",
      "[400]\tvalid_0's rmse: 0.889473\tvalid_0's l2: 0.791163\tvalid_1's rmse: 0.749454\tvalid_1's l2: 0.561681           \n",
      "[100]\tvalid_0's rmse: 0.832858\tvalid_0's l2: 0.693653\tvalid_1's rmse: 0.834218\tvalid_1's l2: 0.69592            \n",
      "[200]\tvalid_0's rmse: 0.823901\tvalid_0's l2: 0.678813\tvalid_1's rmse: 0.7958\tvalid_1's l2: 0.633298             \n",
      "[300]\tvalid_0's rmse: 0.821786\tvalid_0's l2: 0.675332\tvalid_1's rmse: 0.769658\tvalid_1's l2: 0.592374           \n",
      "[100]\tvalid_0's rmse: 0.869594\tvalid_0's l2: 0.756193\tvalid_1's rmse: 0.825067\tvalid_1's l2: 0.680735           \n",
      "[200]\tvalid_0's rmse: 0.863468\tvalid_0's l2: 0.745576\tvalid_1's rmse: 0.787322\tvalid_1's l2: 0.619876           \n",
      "[300]\tvalid_0's rmse: 0.863245\tvalid_0's l2: 0.745192\tvalid_1's rmse: 0.761881\tvalid_1's l2: 0.580462           \n",
      "[400]\tvalid_0's rmse: 0.862802\tvalid_0's l2: 0.744428\tvalid_1's rmse: 0.740656\tvalid_1's l2: 0.548572           \n",
      " 10%|████▍                                     | 21/200 [00:44<05:56,  1.99s/trial, best loss: 0.85734353323154]"
     ]
    },
    {
     "name": "stderr",
     "output_type": "stream",
     "text": [
      "Score - 0.8576068830834656, Std - 0.028087704225289483, Eval Score - 0.8576068830834656\n",
      "Score across folds - [0.8891896588600662, 0.8209522524305626, 0.8626787379597676].\n"
     ]
    },
    {
     "name": "stdout",
     "output_type": "stream",
     "text": [
      "\r",
      " 11%|████▌                                     | 22/200 [00:45<06:05,  2.05s/trial, best loss: 0.85734353323154]"
     ]
    },
    {
     "name": "stderr",
     "output_type": "stream",
     "text": [
      "\n",
      "Iteration: 23, Training with params: {'boosting_type': 'gbdt', 'colsample_bytree': 0.6000000000000001, 'learning_rate': 0.1, 'min_child_samples': 120, 'n_estimators': 10000, 'n_jobs': -1, 'num_leaves': 16, 'objective': 'regression', 'subsample': 1.0, 'subsample_freq': 10}\n"
     ]
    },
    {
     "name": "stdout",
     "output_type": "stream",
     "text": [
      "[100]\tvalid_0's rmse: 0.897212\tvalid_0's l2: 0.804989\tvalid_1's rmse: 0.834836\tvalid_1's l2: 0.696951           \n",
      "[200]\tvalid_0's rmse: 0.891372\tvalid_0's l2: 0.794544\tvalid_1's rmse: 0.796295\tvalid_1's l2: 0.634085           \n",
      "[300]\tvalid_0's rmse: 0.890626\tvalid_0's l2: 0.793215\tvalid_1's rmse: 0.770025\tvalid_1's l2: 0.592938           \n",
      "[400]\tvalid_0's rmse: 0.889473\tvalid_0's l2: 0.791163\tvalid_1's rmse: 0.749454\tvalid_1's l2: 0.561681           \n",
      "[100]\tvalid_0's rmse: 0.832858\tvalid_0's l2: 0.693653\tvalid_1's rmse: 0.834218\tvalid_1's l2: 0.69592            \n",
      "[200]\tvalid_0's rmse: 0.823901\tvalid_0's l2: 0.678813\tvalid_1's rmse: 0.7958\tvalid_1's l2: 0.633298             \n",
      "[300]\tvalid_0's rmse: 0.821786\tvalid_0's l2: 0.675332\tvalid_1's rmse: 0.769658\tvalid_1's l2: 0.592374           \n",
      "[100]\tvalid_0's rmse: 0.869594\tvalid_0's l2: 0.756193\tvalid_1's rmse: 0.825067\tvalid_1's l2: 0.680735           \n",
      "[200]\tvalid_0's rmse: 0.863468\tvalid_0's l2: 0.745576\tvalid_1's rmse: 0.787322\tvalid_1's l2: 0.619876           \n",
      "[300]\tvalid_0's rmse: 0.863245\tvalid_0's l2: 0.745192\tvalid_1's rmse: 0.761881\tvalid_1's l2: 0.580462           \n",
      "[400]\tvalid_0's rmse: 0.862802\tvalid_0's l2: 0.744428\tvalid_1's rmse: 0.740656\tvalid_1's l2: 0.548572           \n",
      " 11%|████▌                                     | 22/200 [00:47<06:05,  2.05s/trial, best loss: 0.85734353323154]"
     ]
    },
    {
     "name": "stderr",
     "output_type": "stream",
     "text": [
      "Score - 0.8576068830834656, Std - 0.028087704225289483, Eval Score - 0.8576068830834656\n",
      "Score across folds - [0.8891896588600662, 0.8209522524305626, 0.8626787379597676].\n"
     ]
    },
    {
     "name": "stdout",
     "output_type": "stream",
     "text": [
      "\r",
      " 12%|████▊                                     | 23/200 [00:47<06:11,  2.10s/trial, best loss: 0.85734353323154]"
     ]
    },
    {
     "name": "stderr",
     "output_type": "stream",
     "text": [
      "\n",
      "Iteration: 24, Training with params: {'boosting_type': 'gbdt', 'colsample_bytree': 0.6000000000000001, 'learning_rate': 0.1, 'min_child_samples': 90, 'n_estimators': 10000, 'n_jobs': -1, 'num_leaves': 8, 'objective': 'regression', 'subsample': 1.0, 'subsample_freq': 10}\n"
     ]
    },
    {
     "name": "stdout",
     "output_type": "stream",
     "text": [
      "[100]\tvalid_0's rmse: 0.905742\tvalid_0's l2: 0.820369\tvalid_1's rmse: 0.868696\tvalid_1's l2: 0.754633           \n",
      "[200]\tvalid_0's rmse: 0.896387\tvalid_0's l2: 0.803509\tvalid_1's rmse: 0.839577\tvalid_1's l2: 0.70489            \n",
      "[300]\tvalid_0's rmse: 0.892349\tvalid_0's l2: 0.796286\tvalid_1's rmse: 0.820552\tvalid_1's l2: 0.673305           \n",
      "[400]\tvalid_0's rmse: 0.8904\tvalid_0's l2: 0.792812\tvalid_1's rmse: 0.80634\tvalid_1's l2: 0.650185              \n",
      "[500]\tvalid_0's rmse: 0.89001\tvalid_0's l2: 0.792117\tvalid_1's rmse: 0.794341\tvalid_1's l2: 0.630978            \n",
      "[100]\tvalid_0's rmse: 0.848387\tvalid_0's l2: 0.719761\tvalid_1's rmse: 0.869799\tvalid_1's l2: 0.75655            \n",
      "[200]\tvalid_0's rmse: 0.83206\tvalid_0's l2: 0.692323\tvalid_1's rmse: 0.839472\tvalid_1's l2: 0.704713            \n",
      " 12%|████▊                                     | 23/200 [00:48<06:11,  2.10s/trial, best loss: 0.85734353323154]"
     ]
    }
   ],
   "source": [
    "hyp.fit(df[cols].values,target)"
   ]
  },
  {
   "cell_type": "code",
   "execution_count": 93,
   "id": "7f79c6a6",
   "metadata": {},
   "outputs": [
    {
     "data": {
      "text/plain": [
       "0.85709413893927"
      ]
     },
     "execution_count": 93,
     "metadata": {},
     "output_type": "execute_result"
    }
   ],
   "source": [
    "hyp.best_score"
   ]
  },
  {
   "cell_type": "code",
   "execution_count": 94,
   "id": "b064cfbd",
   "metadata": {},
   "outputs": [
    {
     "data": {
      "text/plain": [
       "{'boosting_type': 'gbdt',\n",
       " 'colsample_bytree': 0.8,\n",
       " 'learning_rate': 0.1,\n",
       " 'min_child_samples': 90,\n",
       " 'n_estimators': 10000,\n",
       " 'n_jobs': -1,\n",
       " 'num_leaves': 16,\n",
       " 'objective': 'regression',\n",
       " 'subsample': 1.0,\n",
       " 'subsample_freq': 10}"
      ]
     },
     "execution_count": 94,
     "metadata": {},
     "output_type": "execute_result"
    }
   ],
   "source": [
    "hyp.best_params"
   ]
  }
 ],
 "metadata": {
  "kernelspec": {
   "display_name": "Python 3 (ipykernel)",
   "language": "python",
   "name": "python3"
  },
  "language_info": {
   "codemirror_mode": {
    "name": "ipython",
    "version": 3
   },
   "file_extension": ".py",
   "mimetype": "text/x-python",
   "name": "python",
   "nbconvert_exporter": "python",
   "pygments_lexer": "ipython3",
   "version": "3.9.7"
  }
 },
 "nbformat": 4,
 "nbformat_minor": 5
}
