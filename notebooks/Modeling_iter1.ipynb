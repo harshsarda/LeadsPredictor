{
 "cells": [
  {
   "cell_type": "code",
   "execution_count": 1,
   "id": "01275724",
   "metadata": {},
   "outputs": [],
   "source": [
    "%load_ext autoreload\n",
    "%autoreload 2"
   ]
  },
  {
   "cell_type": "code",
   "execution_count": 2,
   "id": "3e472834",
   "metadata": {},
   "outputs": [],
   "source": [
    "import pandas as pd\n",
    "import numpy as np\n",
    "import os\n",
    "import warnings\n",
    "import sys\n",
    "import matplotlib.pyplot as plt"
   ]
  },
  {
   "cell_type": "code",
   "execution_count": 3,
   "id": "4cfbe560",
   "metadata": {},
   "outputs": [],
   "source": [
    "sys.path.append('/home/mondzi259/Apna_Assignment/src/ml_auto/')"
   ]
  },
  {
   "cell_type": "code",
   "execution_count": 4,
   "id": "59a39e95",
   "metadata": {},
   "outputs": [],
   "source": [
    "from custom_estimator import Estimator, scoring_metric\n",
    "from encoding import FreqeuncyEncoding,TargetEncoding\n",
    "from hyperopt_model_selection import HyperOptModelSelection,hp\n",
    "from custom_fold_generator import KFold,GroupKFold,CustomFolds\n",
    "from lightgbm import LGBMRegressor"
   ]
  },
  {
   "cell_type": "code",
   "execution_count": 5,
   "id": "f5ca01ff",
   "metadata": {},
   "outputs": [],
   "source": [
    "warnings.filterwarnings('ignore')"
   ]
  },
  {
   "cell_type": "code",
   "execution_count": 6,
   "id": "08888383",
   "metadata": {},
   "outputs": [],
   "source": [
    "pd.set_option('display.max_rows', 500)\n",
    "pd.set_option('display.max_columns', 500)\n",
    "pd.set_option('display.width', 1000)"
   ]
  },
  {
   "cell_type": "code",
   "execution_count": 7,
   "id": "8b0a8df1",
   "metadata": {},
   "outputs": [],
   "source": [
    "DATA_DIR = '/home/mondzi259/Apna_Assignment/data/'"
   ]
  },
  {
   "cell_type": "code",
   "execution_count": 8,
   "id": "143fd148",
   "metadata": {},
   "outputs": [
    {
     "data": {
      "text/plain": [
       "(30000, 19)"
      ]
     },
     "execution_count": 8,
     "metadata": {},
     "output_type": "execute_result"
    }
   ],
   "source": [
    "df = pd.read_excel(os.path.join(DATA_DIR,'data.xlsx'),sheet_name=0)\n",
    "df.shape"
   ]
  },
  {
   "cell_type": "code",
   "execution_count": 9,
   "id": "7a0873a6",
   "metadata": {},
   "outputs": [],
   "source": [
    "df.drop('feebackgiven',axis=1,inplace=True)"
   ]
  },
  {
   "cell_type": "code",
   "execution_count": 10,
   "id": "15325889",
   "metadata": {},
   "outputs": [],
   "source": [
    "data_dic = pd.read_excel(os.path.join(DATA_DIR,'data.xlsx'),sheet_name=1,header=None)"
   ]
  },
  {
   "cell_type": "code",
   "execution_count": 11,
   "id": "47c008f6",
   "metadata": {},
   "outputs": [
    {
     "data": {
      "text/html": [
       "<div>\n",
       "<style scoped>\n",
       "    .dataframe tbody tr th:only-of-type {\n",
       "        vertical-align: middle;\n",
       "    }\n",
       "\n",
       "    .dataframe tbody tr th {\n",
       "        vertical-align: top;\n",
       "    }\n",
       "\n",
       "    .dataframe thead th {\n",
       "        text-align: right;\n",
       "    }\n",
       "</style>\n",
       "<table border=\"1\" class=\"dataframe\">\n",
       "  <thead>\n",
       "    <tr style=\"text-align: right;\">\n",
       "      <th></th>\n",
       "      <th>0</th>\n",
       "      <th>1</th>\n",
       "      <th>2</th>\n",
       "      <th>3</th>\n",
       "    </tr>\n",
       "  </thead>\n",
       "  <tbody>\n",
       "    <tr>\n",
       "      <th>0</th>\n",
       "      <td>lead</td>\n",
       "      <td>A candidate who has interacted with HR on the ...</td>\n",
       "      <td>NaN</td>\n",
       "      <td>NaN</td>\n",
       "    </tr>\n",
       "    <tr>\n",
       "      <th>1</th>\n",
       "      <td>shift</td>\n",
       "      <td>night/ day</td>\n",
       "      <td>0 - day, 1 - night</td>\n",
       "      <td>NaN</td>\n",
       "    </tr>\n",
       "    <tr>\n",
       "      <th>2</th>\n",
       "      <td>gender</td>\n",
       "      <td>f/m/all</td>\n",
       "      <td>0 -  male jobs, 1 - female , 2 - all</td>\n",
       "      <td>NaN</td>\n",
       "    </tr>\n",
       "    <tr>\n",
       "      <th>3</th>\n",
       "      <td>education</td>\n",
       "      <td>10th to PG</td>\n",
       "      <td>ordinally placed, 10th being lowest and PG the...</td>\n",
       "      <td>NaN</td>\n",
       "    </tr>\n",
       "    <tr>\n",
       "      <th>4</th>\n",
       "      <td>created_on</td>\n",
       "      <td>job created date</td>\n",
       "      <td>Days since a fixed reference data</td>\n",
       "      <td>For ex: if reference data was 1 Jan 2020,\\njob...</td>\n",
       "    </tr>\n",
       "    <tr>\n",
       "      <th>5</th>\n",
       "      <td>employer_type</td>\n",
       "      <td>key-account/ smb/ enterprise/ consultant/ NA</td>\n",
       "      <td>most jobs are smb, followed by Key accounts, e...</td>\n",
       "      <td>NaN</td>\n",
       "    </tr>\n",
       "    <tr>\n",
       "      <th>6</th>\n",
       "      <td>applicant_location</td>\n",
       "      <td>candidate distance from job</td>\n",
       "      <td>lower the value, lower the distance requirement</td>\n",
       "      <td>NaN</td>\n",
       "    </tr>\n",
       "    <tr>\n",
       "      <th>7</th>\n",
       "      <td>city</td>\n",
       "      <td>city</td>\n",
       "      <td>is masked</td>\n",
       "      <td>NaN</td>\n",
       "    </tr>\n",
       "    <tr>\n",
       "      <th>8</th>\n",
       "      <td>area</td>\n",
       "      <td>area</td>\n",
       "      <td>is masked</td>\n",
       "      <td>NaN</td>\n",
       "    </tr>\n",
       "    <tr>\n",
       "      <th>9</th>\n",
       "      <td>organization</td>\n",
       "      <td>company name</td>\n",
       "      <td>is masked</td>\n",
       "      <td>NaN</td>\n",
       "    </tr>\n",
       "    <tr>\n",
       "      <th>10</th>\n",
       "      <td>deposit</td>\n",
       "      <td>requires a deposit</td>\n",
       "      <td>majority don't require a deposit</td>\n",
       "      <td>actual amounts are masked</td>\n",
       "    </tr>\n",
       "    <tr>\n",
       "      <th>11</th>\n",
       "      <td>category</td>\n",
       "      <td>delivery/driver/...</td>\n",
       "      <td>is masked</td>\n",
       "      <td>NaN</td>\n",
       "    </tr>\n",
       "    <tr>\n",
       "      <th>12</th>\n",
       "      <td>english</td>\n",
       "      <td>no/broken-english/good-english/fluent</td>\n",
       "      <td>higher the value, higher the quality of englis...</td>\n",
       "      <td>NaN</td>\n",
       "    </tr>\n",
       "    <tr>\n",
       "      <th>13</th>\n",
       "      <td>num_openings</td>\n",
       "      <td>no of people to recruit</td>\n",
       "      <td>NaN</td>\n",
       "      <td>NaN</td>\n",
       "    </tr>\n",
       "    <tr>\n",
       "      <th>14</th>\n",
       "      <td>max_salary</td>\n",
       "      <td>salary</td>\n",
       "      <td>as is</td>\n",
       "      <td>NaN</td>\n",
       "    </tr>\n",
       "    <tr>\n",
       "      <th>15</th>\n",
       "      <td>is_part_time</td>\n",
       "      <td>yes/no</td>\n",
       "      <td>majority are full time jobs</td>\n",
       "      <td>NaN</td>\n",
       "    </tr>\n",
       "    <tr>\n",
       "      <th>16</th>\n",
       "      <td>feedbackgiven</td>\n",
       "      <td>yes/no</td>\n",
       "      <td>majority don't have feedbackgiven</td>\n",
       "      <td>NaN</td>\n",
       "    </tr>\n",
       "    <tr>\n",
       "      <th>17</th>\n",
       "      <td>leads_per_opening</td>\n",
       "      <td>NaN</td>\n",
       "      <td>leads/ num_openings for the job</td>\n",
       "      <td>NaN</td>\n",
       "    </tr>\n",
       "    <tr>\n",
       "      <th>18</th>\n",
       "      <td>dow</td>\n",
       "      <td>day of the week</td>\n",
       "      <td>NaN</td>\n",
       "      <td>NaN</td>\n",
       "    </tr>\n",
       "  </tbody>\n",
       "</table>\n",
       "</div>"
      ],
      "text/plain": [
       "                     0                                                  1                                                  2                                                  3\n",
       "0                 lead  A candidate who has interacted with HR on the ...                                                NaN                                                NaN\n",
       "1                shift                                         night/ day                                0 - day, 1 - night                                                 NaN\n",
       "2               gender                                            f/m/all               0 -  male jobs, 1 - female , 2 - all                                                NaN\n",
       "3            education                                        10th to PG   ordinally placed, 10th being lowest and PG the...                                                NaN\n",
       "4           created_on                                   job created date                  Days since a fixed reference data  For ex: if reference data was 1 Jan 2020,\\njob...\n",
       "5        employer_type       key-account/ smb/ enterprise/ consultant/ NA  most jobs are smb, followed by Key accounts, e...                                                NaN\n",
       "6   applicant_location                        candidate distance from job    lower the value, lower the distance requirement                                                NaN\n",
       "7                 city                                               city                                          is masked                                                NaN\n",
       "8                 area                                               area                                          is masked                                                NaN\n",
       "9         organization                                       company name                                          is masked                                                NaN\n",
       "10             deposit                                 requires a deposit                   majority don't require a deposit                          actual amounts are masked\n",
       "11            category                                delivery/driver/...                                          is masked                                                NaN\n",
       "12             english              no/broken-english/good-english/fluent  higher the value, higher the quality of englis...                                                NaN\n",
       "13        num_openings                            no of people to recruit                                                NaN                                                NaN\n",
       "14          max_salary                                             salary                                              as is                                                NaN\n",
       "15        is_part_time                                             yes/no                        majority are full time jobs                                                NaN\n",
       "16       feedbackgiven                                             yes/no                  majority don't have feedbackgiven                                                NaN\n",
       "17   leads_per_opening                                                NaN                    leads/ num_openings for the job                                                NaN\n",
       "18                 dow                                    day of the week                                                NaN                                                NaN"
      ]
     },
     "execution_count": 11,
     "metadata": {},
     "output_type": "execute_result"
    }
   ],
   "source": [
    "data_dic"
   ]
  },
  {
   "cell_type": "code",
   "execution_count": 12,
   "id": "97977313",
   "metadata": {},
   "outputs": [
    {
     "data": {
      "text/html": [
       "<div>\n",
       "<style scoped>\n",
       "    .dataframe tbody tr th:only-of-type {\n",
       "        vertical-align: middle;\n",
       "    }\n",
       "\n",
       "    .dataframe tbody tr th {\n",
       "        vertical-align: top;\n",
       "    }\n",
       "\n",
       "    .dataframe thead th {\n",
       "        text-align: right;\n",
       "    }\n",
       "</style>\n",
       "<table border=\"1\" class=\"dataframe\">\n",
       "  <thead>\n",
       "    <tr style=\"text-align: right;\">\n",
       "      <th></th>\n",
       "      <th>shift</th>\n",
       "      <th>gender</th>\n",
       "      <th>education</th>\n",
       "      <th>created_on</th>\n",
       "      <th>dow</th>\n",
       "      <th>employer_type</th>\n",
       "      <th>applicant_location</th>\n",
       "      <th>city</th>\n",
       "      <th>area</th>\n",
       "      <th>organization</th>\n",
       "      <th>deposit</th>\n",
       "      <th>category</th>\n",
       "      <th>english</th>\n",
       "      <th>num_openings</th>\n",
       "      <th>max_salary</th>\n",
       "      <th>min_salary</th>\n",
       "      <th>is_part_time</th>\n",
       "      <th>leads_per_opening</th>\n",
       "    </tr>\n",
       "  </thead>\n",
       "  <tbody>\n",
       "    <tr>\n",
       "      <th>0</th>\n",
       "      <td>0.0</td>\n",
       "      <td>0.0</td>\n",
       "      <td>3.0</td>\n",
       "      <td>413.0</td>\n",
       "      <td>3.0</td>\n",
       "      <td>0.0</td>\n",
       "      <td>0.0</td>\n",
       "      <td>1.0</td>\n",
       "      <td>4119.0</td>\n",
       "      <td>31278.0</td>\n",
       "      <td>0.0</td>\n",
       "      <td>55.0</td>\n",
       "      <td>2.0</td>\n",
       "      <td>22.0</td>\n",
       "      <td>21000.0</td>\n",
       "      <td>NaN</td>\n",
       "      <td>0.0</td>\n",
       "      <td>0.090909</td>\n",
       "    </tr>\n",
       "    <tr>\n",
       "      <th>1</th>\n",
       "      <td>0.0</td>\n",
       "      <td>0.0</td>\n",
       "      <td>3.0</td>\n",
       "      <td>529.0</td>\n",
       "      <td>0.0</td>\n",
       "      <td>4.0</td>\n",
       "      <td>0.0</td>\n",
       "      <td>2.0</td>\n",
       "      <td>2017.0</td>\n",
       "      <td>32006.0</td>\n",
       "      <td>0.0</td>\n",
       "      <td>54.0</td>\n",
       "      <td>2.0</td>\n",
       "      <td>2.0</td>\n",
       "      <td>80000.0</td>\n",
       "      <td>NaN</td>\n",
       "      <td>0.0</td>\n",
       "      <td>31.500000</td>\n",
       "    </tr>\n",
       "    <tr>\n",
       "      <th>2</th>\n",
       "      <td>0.0</td>\n",
       "      <td>0.0</td>\n",
       "      <td>0.0</td>\n",
       "      <td>457.0</td>\n",
       "      <td>0.0</td>\n",
       "      <td>4.0</td>\n",
       "      <td>0.0</td>\n",
       "      <td>3.0</td>\n",
       "      <td>1500.0</td>\n",
       "      <td>32029.0</td>\n",
       "      <td>0.0</td>\n",
       "      <td>42.0</td>\n",
       "      <td>3.0</td>\n",
       "      <td>1.0</td>\n",
       "      <td>3500.0</td>\n",
       "      <td>NaN</td>\n",
       "      <td>1.0</td>\n",
       "      <td>9.000000</td>\n",
       "    </tr>\n",
       "    <tr>\n",
       "      <th>3</th>\n",
       "      <td>0.0</td>\n",
       "      <td>0.0</td>\n",
       "      <td>4.0</td>\n",
       "      <td>450.0</td>\n",
       "      <td>3.0</td>\n",
       "      <td>4.0</td>\n",
       "      <td>0.0</td>\n",
       "      <td>5.0</td>\n",
       "      <td>638.0</td>\n",
       "      <td>9925.0</td>\n",
       "      <td>0.0</td>\n",
       "      <td>60.0</td>\n",
       "      <td>4.0</td>\n",
       "      <td>4.0</td>\n",
       "      <td>11500.0</td>\n",
       "      <td>NaN</td>\n",
       "      <td>0.0</td>\n",
       "      <td>0.000000</td>\n",
       "    </tr>\n",
       "    <tr>\n",
       "      <th>4</th>\n",
       "      <td>0.0</td>\n",
       "      <td>0.0</td>\n",
       "      <td>0.0</td>\n",
       "      <td>480.0</td>\n",
       "      <td>0.0</td>\n",
       "      <td>1.0</td>\n",
       "      <td>0.0</td>\n",
       "      <td>2.0</td>\n",
       "      <td>4115.0</td>\n",
       "      <td>8400.0</td>\n",
       "      <td>0.0</td>\n",
       "      <td>16.0</td>\n",
       "      <td>3.0</td>\n",
       "      <td>25.0</td>\n",
       "      <td>25000.0</td>\n",
       "      <td>NaN</td>\n",
       "      <td>0.0</td>\n",
       "      <td>1.400000</td>\n",
       "    </tr>\n",
       "  </tbody>\n",
       "</table>\n",
       "</div>"
      ],
      "text/plain": [
       "   shift  gender  education  created_on  dow  employer_type  applicant_location  city    area  organization  deposit  category  english  num_openings  max_salary  min_salary  is_part_time  leads_per_opening\n",
       "0    0.0     0.0        3.0       413.0  3.0            0.0                 0.0   1.0  4119.0       31278.0      0.0      55.0      2.0          22.0     21000.0         NaN           0.0           0.090909\n",
       "1    0.0     0.0        3.0       529.0  0.0            4.0                 0.0   2.0  2017.0       32006.0      0.0      54.0      2.0           2.0     80000.0         NaN           0.0          31.500000\n",
       "2    0.0     0.0        0.0       457.0  0.0            4.0                 0.0   3.0  1500.0       32029.0      0.0      42.0      3.0           1.0      3500.0         NaN           1.0           9.000000\n",
       "3    0.0     0.0        4.0       450.0  3.0            4.0                 0.0   5.0   638.0        9925.0      0.0      60.0      4.0           4.0     11500.0         NaN           0.0           0.000000\n",
       "4    0.0     0.0        0.0       480.0  0.0            1.0                 0.0   2.0  4115.0        8400.0      0.0      16.0      3.0          25.0     25000.0         NaN           0.0           1.400000"
      ]
     },
     "execution_count": 12,
     "metadata": {},
     "output_type": "execute_result"
    }
   ],
   "source": [
    "df.head()"
   ]
  },
  {
   "cell_type": "markdown",
   "id": "6da48d90",
   "metadata": {},
   "source": [
    "### Target vs created_on"
   ]
  },
  {
   "cell_type": "code",
   "execution_count": 13,
   "id": "88b62a3d",
   "metadata": {},
   "outputs": [
    {
     "data": {
      "image/png": "[encoded data removed]",
      "text/plain": [
       "<Figure size 432x288 with 1 Axes>"
      ]
     },
     "metadata": {
      "needs_background": "light"
     },
     "output_type": "display_data"
    }
   ],
   "source": [
    "df.groupby(pd.qcut(df['created_on'],10,\n",
    "                   duplicates='drop',labels=False))['leads_per_opening'].mean().plot()\n",
    "plt.ylabel('leads_per_opening')\n",
    "plt.title('Decile Plot of leads_per_opening vs created_on');"
   ]
  },
  {
   "cell_type": "markdown",
   "id": "c08dd55a",
   "metadata": {},
   "source": [
    "### "
   ]
  },
  {
   "cell_type": "code",
   "execution_count": 14,
   "id": "5bcf96af",
   "metadata": {},
   "outputs": [],
   "source": [
    "num_cols = ['leads_per_opening','max_salary','min_salary','deposit','num_openings','created_on']\n",
    "cat_cols = [i for i in df.columns.tolist() if i not in num_cols]\n",
    "cat_ordinal_cols = ['applicant_location','english','education']\n",
    "cat_non_ord_cols = [i for i in cat_cols if i not in cat_ordinal_cols]"
   ]
  },
  {
   "cell_type": "code",
   "execution_count": 15,
   "id": "8d24ebff",
   "metadata": {},
   "outputs": [
    {
     "data": {
      "text/plain": [
       "(['shift',\n",
       "  'gender',\n",
       "  'dow',\n",
       "  'employer_type',\n",
       "  'city',\n",
       "  'area',\n",
       "  'organization',\n",
       "  'category',\n",
       "  'is_part_time'],\n",
       " ['applicant_location', 'english', 'education'])"
      ]
     },
     "execution_count": 15,
     "metadata": {},
     "output_type": "execute_result"
    }
   ],
   "source": [
    "cat_non_ord_cols,cat_ordinal_cols"
   ]
  },
  {
   "cell_type": "code",
   "execution_count": 16,
   "id": "64db555a",
   "metadata": {},
   "outputs": [
    {
     "data": {
      "text/plain": [
       "shift                     2\n",
       "gender                    3\n",
       "education                 6\n",
       "dow                       7\n",
       "employer_type             5\n",
       "applicant_location        4\n",
       "city                      7\n",
       "area                   2740\n",
       "organization          14886\n",
       "category                 67\n",
       "english                   4\n",
       "is_part_time              2\n",
       "dtype: int64"
      ]
     },
     "execution_count": 16,
     "metadata": {},
     "output_type": "execute_result"
    }
   ],
   "source": [
    "df[cat_cols].nunique()"
   ]
  },
  {
   "cell_type": "code",
   "execution_count": 17,
   "id": "3189b565",
   "metadata": {},
   "outputs": [],
   "source": [
    "class FreqEnc:\n",
    "    def __init__(self,cat_freq_cols):\n",
    "        self.cat_freq_cols = cat_freq_cols\n",
    "    def fit(self,df):\n",
    "        self.freq_encoding_dict = {\n",
    "                x: df[x].value_counts(1).to_dict() for x in self.cat_freq_cols\n",
    "            }\n",
    "    def transform(self,df):\n",
    "        for col in self.cat_freq_cols:\n",
    "            df[col+\"_fe\"] = df[col].map(self.freq_encoding_dict[col]).fillna(0)\n",
    "        return df\n",
    "    def fit_transform(self,df):\n",
    "        self.fit(df)\n",
    "        return self.transform(df)"
   ]
  },
  {
   "cell_type": "code",
   "execution_count": 18,
   "id": "f7b4f08f",
   "metadata": {},
   "outputs": [],
   "source": [
    "df=df.sort_values('created_on',).reset_index(drop=True)"
   ]
  },
  {
   "cell_type": "code",
   "execution_count": 19,
   "id": "fced750d",
   "metadata": {},
   "outputs": [
    {
     "data": {
      "text/plain": [
       "(30000, 18)"
      ]
     },
     "execution_count": 19,
     "metadata": {},
     "output_type": "execute_result"
    }
   ],
   "source": [
    "df.shape"
   ]
  },
  {
   "cell_type": "code",
   "execution_count": 20,
   "id": "8772bc1a",
   "metadata": {},
   "outputs": [],
   "source": [
    "df['target'] = np.log1p(df.leads_per_opening)"
   ]
  },
  {
   "cell_type": "code",
   "execution_count": 21,
   "id": "61aff30f",
   "metadata": {},
   "outputs": [
    {
     "data": {
      "image/png": "[encoded data removed]",
      "text/plain": [
       "<Figure size 432x288 with 2 Axes>"
      ]
     },
     "metadata": {
      "needs_background": "light"
     },
     "output_type": "display_data"
    }
   ],
   "source": [
    "fig, axes = plt.subplots(1, 2, figsize=(6, 4))\n",
    "df.leads_per_opening.hist(ax=axes[0])\n",
    "axes[0].set_title('leads_per_opening')\n",
    "df.target.hist(ax=axes[1])\n",
    "axes[1].set_title('log1p leads_per_opening')\n",
    "plt.tight_layout()"
   ]
  },
  {
   "cell_type": "code",
   "execution_count": 22,
   "id": "d5893f91",
   "metadata": {},
   "outputs": [
    {
     "data": {
      "text/plain": [
       "count    30000.000000\n",
       "mean         1.507317\n",
       "std          1.264234\n",
       "min          0.000000\n",
       "25%          0.385158\n",
       "50%          1.299283\n",
       "75%          2.397895\n",
       "max          6.559615\n",
       "Name: target, dtype: float64"
      ]
     },
     "execution_count": 22,
     "metadata": {},
     "output_type": "execute_result"
    }
   ],
   "source": [
    "df.target.describe()"
   ]
  },
  {
   "cell_type": "code",
   "execution_count": 23,
   "id": "41ebbbbb",
   "metadata": {},
   "outputs": [],
   "source": [
    "folds =[\n",
    "    (df[(df.created_on<=df.created_on.quantile(0.7))].index.tolist(),\\\n",
    "df[(df.created_on>df.created_on.quantile(0.7))&\\\n",
    "      (df.created_on<=df.created_on.quantile(0.8))].index.tolist()),\n",
    "    \n",
    "    (df[(df.created_on>=df.created_on.quantile(0.1))&\\\n",
    "      (df.created_on<=df.created_on.quantile(0.8))].index.tolist(),\\\n",
    "df[(df.created_on>df.created_on.quantile(0.8))&\\\n",
    "      (df.created_on<=df.created_on.quantile(0.9))].index.tolist()),\n",
    "    \n",
    "    (df[(df.created_on>=df.created_on.quantile(0.2))&\\\n",
    "      (df.created_on<=df.created_on.quantile(0.9))].index.tolist(),\\\n",
    "df[(df.created_on>df.created_on.quantile(0.9))&\\\n",
    "      (df.created_on<=df.created_on.quantile(1))].index.tolist())\n",
    "]"
   ]
  },
  {
   "cell_type": "code",
   "execution_count": 24,
   "id": "5683c9e5",
   "metadata": {},
   "outputs": [
    {
     "data": {
      "text/plain": [
       "[(0.7045666666666667, 0.10103333333333334),\n",
       " (0.7063666666666667, 0.0955),\n",
       " (0.7024333333333334, 0.0989)]"
      ]
     },
     "execution_count": 24,
     "metadata": {},
     "output_type": "execute_result"
    }
   ],
   "source": [
    "[(df.iloc[i].shape[0]/df.shape[0],df.iloc[j].shape[0]/df.shape[0]) for i,j in folds]"
   ]
  },
  {
   "cell_type": "code",
   "execution_count": 25,
   "id": "7d1549f4",
   "metadata": {},
   "outputs": [],
   "source": [
    "fe = FreqEnc(cat_freq_cols=cat_non_ord_cols)"
   ]
  },
  {
   "cell_type": "code",
   "execution_count": 26,
   "id": "89da56cf",
   "metadata": {},
   "outputs": [],
   "source": [
    "df = fe.fit_transform(df)"
   ]
  },
  {
   "cell_type": "code",
   "execution_count": 27,
   "id": "6fb8ab4f",
   "metadata": {},
   "outputs": [],
   "source": [
    "target = df.target.values"
   ]
  },
  {
   "cell_type": "code",
   "execution_count": 28,
   "id": "37084b4b",
   "metadata": {},
   "outputs": [
    {
     "data": {
      "text/plain": [
       "(30000, 28)"
      ]
     },
     "execution_count": 28,
     "metadata": {},
     "output_type": "execute_result"
    }
   ],
   "source": [
    "df.shape"
   ]
  },
  {
   "cell_type": "code",
   "execution_count": 29,
   "id": "c74355c3",
   "metadata": {},
   "outputs": [],
   "source": [
    "remove_cols = cat_non_ord_cols + ['target','leads_per_opening']"
   ]
  },
  {
   "cell_type": "code",
   "execution_count": 30,
   "id": "b1bbe39c",
   "metadata": {},
   "outputs": [],
   "source": [
    "use_cols = [i for i in df.columns if i not in remove_cols]"
   ]
  },
  {
   "cell_type": "code",
   "execution_count": 31,
   "id": "2e3dd16a",
   "metadata": {},
   "outputs": [
    {
     "data": {
      "text/plain": [
       "['education',\n",
       " 'created_on',\n",
       " 'applicant_location',\n",
       " 'deposit',\n",
       " 'english',\n",
       " 'num_openings',\n",
       " 'max_salary',\n",
       " 'min_salary',\n",
       " 'shift_fe',\n",
       " 'gender_fe',\n",
       " 'dow_fe',\n",
       " 'employer_type_fe',\n",
       " 'city_fe',\n",
       " 'area_fe',\n",
       " 'organization_fe',\n",
       " 'category_fe',\n",
       " 'is_part_time_fe']"
      ]
     },
     "execution_count": 31,
     "metadata": {},
     "output_type": "execute_result"
    }
   ],
   "source": [
    "use_cols"
   ]
  },
  {
   "cell_type": "code",
   "execution_count": 34,
   "id": "783a001b",
   "metadata": {},
   "outputs": [],
   "source": [
    "lgbm_space = {\n",
    "#    'learning_rate': hp.quniform('learning_rate', 0.025, 0.1, 0.025),\n",
    "    'n_estimators': 10000,\n",
    "#     'early_stopping_rounds': 100,\n",
    "    'num_leaves':  hp.quniform('num_leaves', 16, 80, 16),\n",
    "#     'min_child_weight': hp.quniform('min_child_weight', 1, 40, 5),\n",
    "    'min_child_samples': hp.quniform('min_child_samples', 1, 240, 40),\n",
    "    'subsample': hp.quniform('subsample', 0.2, 1, 0.2),\n",
    "    'colsample_bytree': hp.quniform('colsample_bytree', 0.2, 1, 0.2),\n",
    "    'subsample_freq': hp.choice('subsample_freq',[5,10]),\n",
    "    'objective': 'regression',\n",
    "    'boosting_type': 'gbdt',\n",
    "    'learning_rate': 0.1,\n",
    "    'n_jobs': -1\n",
    "}"
   ]
  },
  {
   "cell_type": "code",
   "execution_count": 35,
   "id": "cf9742f4",
   "metadata": {},
   "outputs": [],
   "source": [
    "hyp = HyperOptModelSelection(Estimator(model=LGBMRegressor(),\n",
    "                                       early_stopping_rounds=100,\n",
    "                                       validation_scheme=folds,\n",
    "                                       shuffle=True),\n",
    "                             space= lgbm_space,\n",
    "                             max_evals=200,is_maximize=False,random_seed=100,\n",
    "                             params_mapping = {'n_estimators':int, 'num_leaves':int, \n",
    "                                               'max_depth':int,'min_child_samples':int},          \n",
    "                             log_file_path=\"hyperopt_log.txt\")"
   ]
  },
  {
   "cell_type": "code",
   "execution_count": 36,
   "id": "afa117cf",
   "metadata": {},
   "outputs": [
    {
     "name": "stderr",
     "output_type": "stream",
     "text": [
      "Starting HyperOpt 200 Evals with Dataset of Shape ((30000, 17),(30000,))\n"
     ]
    },
    {
     "name": "stdout",
     "output_type": "stream",
     "text": [
      "\r\n",
      "  0%|                                                                   | 0/200 [00:00<?, ?trial/s, best loss=?]"
     ]
    },
    {
     "name": "stderr",
     "output_type": "stream",
     "text": [
      "\n",
      "Iteration: 1, Training with params: {'boosting_type': 'gbdt', 'colsample_bytree': 0.8, 'learning_rate': 0.1, 'min_child_samples': 0, 'n_estimators': 10000, 'n_jobs': -1, 'num_leaves': 48, 'objective': 'regression', 'subsample': 0.6000000000000001, 'subsample_freq': 10}\n"
     ]
    },
    {
     "name": "stdout",
     "output_type": "stream",
     "text": [
      "[100]\tvalid_0's rmse: 0.925616\tvalid_0's l2: 0.856765\tvalid_1's rmse: 0.74841\tvalid_1's l2: 0.560118            \n",
      "[100]\tvalid_0's rmse: 0.860898\tvalid_0's l2: 0.741145\tvalid_1's rmse: 0.75356\tvalid_1's l2: 0.567852            \n",
      "[200]\tvalid_0's rmse: 0.86522\tvalid_0's l2: 0.748606\tvalid_1's rmse: 0.673992\tvalid_1's l2: 0.454265            \n",
      "[100]\tvalid_0's rmse: 0.893651\tvalid_0's l2: 0.798611\tvalid_1's rmse: 0.746432\tvalid_1's l2: 0.557161           \n",
      "[200]\tvalid_0's rmse: 0.901929\tvalid_0's l2: 0.813476\tvalid_1's rmse: 0.666584\tvalid_1's l2: 0.444335           \n",
      "  0%|                                                                   | 0/200 [00:01<?, ?trial/s, best loss=?]"
     ]
    },
    {
     "name": "stderr",
     "output_type": "stream",
     "text": [
      "Score - 0.8913026575462172, Std - 0.027332270756328943, Eval Score - 0.8913026575462172\n",
      "Score across folds - [0.9241338611842391, 0.8572189039335136, 0.8925552075208989].\n"
     ]
    },
    {
     "name": "stdout",
     "output_type": "stream",
     "text": [
      "\r\n",
      "  0%|▏                                        | 1/200 [00:01<05:19,  1.60s/trial, best loss: 0.8913026575462172]"
     ]
    },
    {
     "name": "stderr",
     "output_type": "stream",
     "text": [
      "\n",
      "Iteration: 2, Training with params: {'boosting_type': 'gbdt', 'colsample_bytree': 0.6000000000000001, 'learning_rate': 0.1, 'min_child_samples': 200, 'n_estimators': 10000, 'n_jobs': -1, 'num_leaves': 32, 'objective': 'regression', 'subsample': 0.4, 'subsample_freq': 10}\n"
     ]
    },
    {
     "name": "stdout",
     "output_type": "stream",
     "text": [
      "[100]\tvalid_0's rmse: 0.922262\tvalid_0's l2: 0.850567\tvalid_1's rmse: 0.846526\tvalid_1's l2: 0.716606           \n",
      "[200]\tvalid_0's rmse: 0.922517\tvalid_0's l2: 0.851038\tvalid_1's rmse: 0.815444\tvalid_1's l2: 0.664948           \n",
      "[100]\tvalid_0's rmse: 0.866532\tvalid_0's l2: 0.750878\tvalid_1's rmse: 0.850477\tvalid_1's l2: 0.723312           \n",
      "[200]\tvalid_0's rmse: 0.863475\tvalid_0's l2: 0.745589\tvalid_1's rmse: 0.818999\tvalid_1's l2: 0.670759           \n",
      "[100]\tvalid_0's rmse: 0.889033\tvalid_0's l2: 0.790379\tvalid_1's rmse: 0.845173\tvalid_1's l2: 0.714318           \n",
      "[200]\tvalid_0's rmse: 0.885384\tvalid_0's l2: 0.783904\tvalid_1's rmse: 0.813869\tvalid_1's l2: 0.662382           \n",
      "  0%|▏                                        | 1/200 [00:03<05:19,  1.60s/trial, best loss: 0.8913026575462172]"
     ]
    },
    {
     "name": "stderr",
     "output_type": "stream",
     "text": [
      "Score - 0.8888194603419141, Std - 0.023921394608001148, Eval Score - 0.8888194603419141\n",
      "Score across folds - [0.9205149446446627, 0.8627298001036665, 0.8832136362774128].\n"
     ]
    },
    {
     "name": "stdout",
     "output_type": "stream",
     "text": [
      "\r\n",
      "  1%|▍                                        | 2/200 [00:03<05:44,  1.74s/trial, best loss: 0.8888194603419141]"
     ]
    },
    {
     "name": "stderr",
     "output_type": "stream",
     "text": [
      "\n",
      "Iteration: 3, Training with params: {'boosting_type': 'gbdt', 'colsample_bytree': 0.4, 'learning_rate': 0.1, 'min_child_samples': 160, 'n_estimators': 10000, 'n_jobs': -1, 'num_leaves': 32, 'objective': 'regression', 'subsample': 0.6000000000000001, 'subsample_freq': 5}\n"
     ]
    },
    {
     "name": "stdout",
     "output_type": "stream",
     "text": [
      "[100]\tvalid_0's rmse: 0.918912\tvalid_0's l2: 0.844399\tvalid_1's rmse: 0.844702\tvalid_1's l2: 0.713521           \n",
      "[200]\tvalid_0's rmse: 0.913113\tvalid_0's l2: 0.833775\tvalid_1's rmse: 0.807747\tvalid_1's l2: 0.652454           \n",
      "[100]\tvalid_0's rmse: 0.860707\tvalid_0's l2: 0.740817\tvalid_1's rmse: 0.845912\tvalid_1's l2: 0.715566           \n",
      "[200]\tvalid_0's rmse: 0.848091\tvalid_0's l2: 0.719259\tvalid_1's rmse: 0.809845\tvalid_1's l2: 0.655849           \n",
      "[300]\tvalid_0's rmse: 0.842542\tvalid_0's l2: 0.709877\tvalid_1's rmse: 0.785601\tvalid_1's l2: 0.617169           \n",
      "[100]\tvalid_0's rmse: 0.890102\tvalid_0's l2: 0.792282\tvalid_1's rmse: 0.839853\tvalid_1's l2: 0.705354           \n",
      "[200]\tvalid_0's rmse: 0.879083\tvalid_0's l2: 0.772787\tvalid_1's rmse: 0.805041\tvalid_1's l2: 0.648092           \n",
      "[300]\tvalid_0's rmse: 0.876438\tvalid_0's l2: 0.768144\tvalid_1's rmse: 0.780782\tvalid_1's l2: 0.609621           \n",
      "  1%|▍                                        | 2/200 [00:05<05:44,  1.74s/trial, best loss: 0.8888194603419141]"
     ]
    },
    {
     "name": "stderr",
     "output_type": "stream",
     "text": [
      "Score - 0.8767746607279255, Std - 0.028689009992602967, Eval Score - 0.8767746607279255\n",
      "Score across folds - [0.9122522022938978, 0.8419889848047228, 0.8760827950851561].\n"
     ]
    },
    {
     "name": "stdout",
     "output_type": "stream",
     "text": [
      "\r\n",
      "  2%|▌                                        | 3/200 [00:05<06:41,  2.04s/trial, best loss: 0.8767746607279255]"
     ]
    },
    {
     "name": "stderr",
     "output_type": "stream",
     "text": [
      "\n",
      "Iteration: 4, Training with params: {'boosting_type': 'gbdt', 'colsample_bytree': 1.0, 'learning_rate': 0.1, 'min_child_samples': 80, 'n_estimators': 10000, 'n_jobs': -1, 'num_leaves': 32, 'objective': 'regression', 'subsample': 0.2, 'subsample_freq': 10}\n"
     ]
    },
    {
     "name": "stdout",
     "output_type": "stream",
     "text": [
      "[100]\tvalid_0's rmse: 0.93504\tvalid_0's l2: 0.8743\tvalid_1's rmse: 0.842103\tvalid_1's l2: 0.709138              \n",
      "[200]\tvalid_0's rmse: 0.939201\tvalid_0's l2: 0.882099\tvalid_1's rmse: 0.810509\tvalid_1's l2: 0.656925           \n",
      "[100]\tvalid_0's rmse: 0.884093\tvalid_0's l2: 0.78162\tvalid_1's rmse: 0.84708\tvalid_1's l2: 0.717544             \n",
      "[200]\tvalid_0's rmse: 0.891022\tvalid_0's l2: 0.793921\tvalid_1's rmse: 0.813382\tvalid_1's l2: 0.661591           \n",
      "[100]\tvalid_0's rmse: 0.904545\tvalid_0's l2: 0.818201\tvalid_1's rmse: 0.842554\tvalid_1's l2: 0.709897           \n",
      "[200]\tvalid_0's rmse: 0.91082\tvalid_0's l2: 0.829593\tvalid_1's rmse: 0.807898\tvalid_1's l2: 0.652698            \n",
      "  2%|▌                                        | 3/200 [00:07<06:41,  2.04s/trial, best loss: 0.8767746607279255]"
     ]
    },
    {
     "name": "stderr",
     "output_type": "stream",
     "text": [
      "Score - 0.9035596386830239, Std - 0.02106280078701856, Eval Score - 0.9035596386830239\n",
      "Score across folds - [0.9299781934529555, 0.8784336781021542, 0.9022670444939622].\n"
     ]
    },
    {
     "name": "stdout",
     "output_type": "stream",
     "text": [
      "\r\n",
      "  2%|▊                                        | 4/200 [00:07<05:54,  1.81s/trial, best loss: 0.8767746607279255]"
     ]
    },
    {
     "name": "stderr",
     "output_type": "stream",
     "text": [
      "\n",
      "Iteration: 5, Training with params: {'boosting_type': 'gbdt', 'colsample_bytree': 0.2, 'learning_rate': 0.1, 'min_child_samples': 200, 'n_estimators': 10000, 'n_jobs': -1, 'num_leaves': 32, 'objective': 'regression', 'subsample': 0.4, 'subsample_freq': 5}\n"
     ]
    },
    {
     "name": "stdout",
     "output_type": "stream",
     "text": [
      "[100]\tvalid_0's rmse: 0.949118\tvalid_0's l2: 0.900825\tvalid_1's rmse: 0.904004\tvalid_1's l2: 0.817224           \n",
      "[200]\tvalid_0's rmse: 0.928463\tvalid_0's l2: 0.862043\tvalid_1's rmse: 0.868192\tvalid_1's l2: 0.753757           \n",
      "[300]\tvalid_0's rmse: 0.918417\tvalid_0's l2: 0.84349\tvalid_1's rmse: 0.849049\tvalid_1's l2: 0.720884            \n",
      "[400]\tvalid_0's rmse: 0.914959\tvalid_0's l2: 0.83715\tvalid_1's rmse: 0.836067\tvalid_1's l2: 0.699009            \n",
      "[500]\tvalid_0's rmse: 0.913664\tvalid_0's l2: 0.834782\tvalid_1's rmse: 0.826818\tvalid_1's l2: 0.683628           \n",
      "[600]\tvalid_0's rmse: 0.914285\tvalid_0's l2: 0.835917\tvalid_1's rmse: 0.817874\tvalid_1's l2: 0.668918           \n",
      "[700]\tvalid_0's rmse: 0.912394\tvalid_0's l2: 0.832462\tvalid_1's rmse: 0.811094\tvalid_1's l2: 0.657874           \n",
      "[100]\tvalid_0's rmse: 0.911633\tvalid_0's l2: 0.831075\tvalid_1's rmse: 0.905995\tvalid_1's l2: 0.820827           \n",
      "[200]\tvalid_0's rmse: 0.884081\tvalid_0's l2: 0.7816\tvalid_1's rmse: 0.869448\tvalid_1's l2: 0.755939             \n",
      "[300]\tvalid_0's rmse: 0.872023\tvalid_0's l2: 0.760424\tvalid_1's rmse: 0.850438\tvalid_1's l2: 0.723245           \n",
      "[400]\tvalid_0's rmse: 0.865431\tvalid_0's l2: 0.748972\tvalid_1's rmse: 0.837432\tvalid_1's l2: 0.701293           \n",
      "[500]\tvalid_0's rmse: 0.8647\tvalid_0's l2: 0.747707\tvalid_1's rmse: 0.827829\tvalid_1's l2: 0.6853               \n",
      "[600]\tvalid_0's rmse: 0.861978\tvalid_0's l2: 0.743006\tvalid_1's rmse: 0.819507\tvalid_1's l2: 0.671592           \n",
      "[700]\tvalid_0's rmse: 0.86589\tvalid_0's l2: 0.749766\tvalid_1's rmse: 0.812459\tvalid_1's l2: 0.660089            \n",
      "[100]\tvalid_0's rmse: 0.931929\tvalid_0's l2: 0.868492\tvalid_1's rmse: 0.899315\tvalid_1's l2: 0.808768           \n",
      "[200]\tvalid_0's rmse: 0.900747\tvalid_0's l2: 0.811344\tvalid_1's rmse: 0.863883\tvalid_1's l2: 0.746293           \n",
      "[300]\tvalid_0's rmse: 0.890287\tvalid_0's l2: 0.792611\tvalid_1's rmse: 0.84565\tvalid_1's l2: 0.715124            \n",
      "[400]\tvalid_0's rmse: 0.885568\tvalid_0's l2: 0.78423\tvalid_1's rmse: 0.833829\tvalid_1's l2: 0.695271            \n",
      "[500]\tvalid_0's rmse: 0.885362\tvalid_0's l2: 0.783865\tvalid_1's rmse: 0.824818\tvalid_1's l2: 0.680324           \n",
      "[600]\tvalid_0's rmse: 0.883606\tvalid_0's l2: 0.78076\tvalid_1's rmse: 0.816389\tvalid_1's l2: 0.66649             \n",
      "  2%|▊                                        | 4/200 [00:10<05:54,  1.81s/trial, best loss: 0.8767746607279255]"
     ]
    },
    {
     "name": "stderr",
     "output_type": "stream",
     "text": [
      "Score - 0.8853714146003769, Std - 0.020098444259925876, Eval Score - 0.8853714146003769\n",
      "Score across folds - [0.9110496970283305, 0.8619781011703185, 0.8830864456024822].\n"
     ]
    },
    {
     "name": "stdout",
     "output_type": "stream",
     "text": [
      "\r\n",
      "  2%|█                                        | 5/200 [00:10<08:01,  2.47s/trial, best loss: 0.8767746607279255]"
     ]
    },
    {
     "name": "stderr",
     "output_type": "stream",
     "text": [
      "\n",
      "Iteration: 6, Training with params: {'boosting_type': 'gbdt', 'colsample_bytree': 0.4, 'learning_rate': 0.1, 'min_child_samples': 40, 'n_estimators': 10000, 'n_jobs': -1, 'num_leaves': 32, 'objective': 'regression', 'subsample': 0.6000000000000001, 'subsample_freq': 10}\n"
     ]
    },
    {
     "name": "stdout",
     "output_type": "stream",
     "text": [
      "[100]\tvalid_0's rmse: 0.915681\tvalid_0's l2: 0.838471\tvalid_1's rmse: 0.826173\tvalid_1's l2: 0.682562           \n",
      "[200]\tvalid_0's rmse: 0.912409\tvalid_0's l2: 0.83249\tvalid_1's rmse: 0.782171\tvalid_1's l2: 0.611792            \n",
      "[100]\tvalid_0's rmse: 0.853611\tvalid_0's l2: 0.728652\tvalid_1's rmse: 0.819379\tvalid_1's l2: 0.671383           \n",
      "[200]\tvalid_0's rmse: 0.840157\tvalid_0's l2: 0.705863\tvalid_1's rmse: 0.771495\tvalid_1's l2: 0.595205           \n",
      "[300]\tvalid_0's rmse: 0.842668\tvalid_0's l2: 0.710089\tvalid_1's rmse: 0.740824\tvalid_1's l2: 0.54882            \n",
      "[100]\tvalid_0's rmse: 0.878855\tvalid_0's l2: 0.772386\tvalid_1's rmse: 0.815011\tvalid_1's l2: 0.664243           \n",
      "[200]\tvalid_0's rmse: 0.878532\tvalid_0's l2: 0.771818\tvalid_1's rmse: 0.766868\tvalid_1's l2: 0.588086           \n",
      "  2%|█                                        | 5/200 [00:12<08:01,  2.47s/trial, best loss: 0.8767746607279255]"
     ]
    },
    {
     "name": "stderr",
     "output_type": "stream",
     "text": [
      "Score - 0.8742537413213181, Std - 0.029647088118615366, Eval Score - 0.8742537413213181\n",
      "Score across folds - [0.9108743890011063, 0.8382623294633174, 0.8736245054995305].\n"
     ]
    },
    {
     "name": "stdout",
     "output_type": "stream",
     "text": [
      "\r\n",
      "  3%|█▏                                       | 6/200 [00:12<07:15,  2.25s/trial, best loss: 0.8742537413213181]"
     ]
    },
    {
     "name": "stderr",
     "output_type": "stream",
     "text": [
      "\n",
      "Iteration: 7, Training with params: {'boosting_type': 'gbdt', 'colsample_bytree': 0.8, 'learning_rate': 0.1, 'min_child_samples': 160, 'n_estimators': 10000, 'n_jobs': -1, 'num_leaves': 48, 'objective': 'regression', 'subsample': 0.6000000000000001, 'subsample_freq': 10}\n"
     ]
    },
    {
     "name": "stdout",
     "output_type": "stream",
     "text": [
      "[100]\tvalid_0's rmse: 0.92138\tvalid_0's l2: 0.848941\tvalid_1's rmse: 0.801815\tvalid_1's l2: 0.642907            \n",
      "[100]\tvalid_0's rmse: 0.85654\tvalid_0's l2: 0.733661\tvalid_1's rmse: 0.804553\tvalid_1's l2: 0.647305            \n",
      "[200]\tvalid_0's rmse: 0.85601\tvalid_0's l2: 0.732754\tvalid_1's rmse: 0.755482\tvalid_1's l2: 0.570753            \n",
      "[300]\tvalid_0's rmse: 0.854253\tvalid_0's l2: 0.729749\tvalid_1's rmse: 0.720563\tvalid_1's l2: 0.519211           \n",
      "[100]\tvalid_0's rmse: 0.881944\tvalid_0's l2: 0.777826\tvalid_1's rmse: 0.801833\tvalid_1's l2: 0.642937           \n",
      "[200]\tvalid_0's rmse: 0.880648\tvalid_0's l2: 0.77554\tvalid_1's rmse: 0.753822\tvalid_1's l2: 0.568247            \n",
      "  3%|█▏                                       | 6/200 [00:14<07:15,  2.25s/trial, best loss: 0.8742537413213181]"
     ]
    },
    {
     "name": "stderr",
     "output_type": "stream",
     "text": [
      "Score - 0.8828525577725598, Std - 0.028647364187609044, Eval Score - 0.8828525577725598\n",
      "Score across folds - [0.9194100352976687, 0.849451969252217, 0.8796956687677934].\n"
     ]
    },
    {
     "name": "stdout",
     "output_type": "stream",
     "text": [
      "\r\n",
      "  4%|█▍                                       | 7/200 [00:15<07:39,  2.38s/trial, best loss: 0.8742537413213181]"
     ]
    },
    {
     "name": "stderr",
     "output_type": "stream",
     "text": [
      "\n",
      "Iteration: 8, Training with params: {'boosting_type': 'gbdt', 'colsample_bytree': 0.2, 'learning_rate': 0.1, 'min_child_samples': 120, 'n_estimators': 10000, 'n_jobs': -1, 'num_leaves': 48, 'objective': 'regression', 'subsample': 0.4, 'subsample_freq': 5}\n"
     ]
    },
    {
     "name": "stdout",
     "output_type": "stream",
     "text": [
      "[100]\tvalid_0's rmse: 0.941642\tvalid_0's l2: 0.88669\tvalid_1's rmse: 0.885306\tvalid_1's l2: 0.783766            \n",
      "[200]\tvalid_0's rmse: 0.925076\tvalid_0's l2: 0.855765\tvalid_1's rmse: 0.843565\tvalid_1's l2: 0.711602           \n",
      "[300]\tvalid_0's rmse: 0.918717\tvalid_0's l2: 0.844041\tvalid_1's rmse: 0.821335\tvalid_1's l2: 0.67459            \n",
      "[400]\tvalid_0's rmse: 0.915147\tvalid_0's l2: 0.837495\tvalid_1's rmse: 0.805718\tvalid_1's l2: 0.649182           \n",
      "[500]\tvalid_0's rmse: 0.91398\tvalid_0's l2: 0.83536\tvalid_1's rmse: 0.793761\tvalid_1's l2: 0.630056             \n",
      "[600]\tvalid_0's rmse: 0.917201\tvalid_0's l2: 0.841258\tvalid_1's rmse: 0.78209\tvalid_1's l2: 0.611665            \n",
      "[100]\tvalid_0's rmse: 0.896324\tvalid_0's l2: 0.803396\tvalid_1's rmse: 0.888449\tvalid_1's l2: 0.789342           \n",
      "[200]\tvalid_0's rmse: 0.870525\tvalid_0's l2: 0.757813\tvalid_1's rmse: 0.845732\tvalid_1's l2: 0.715262           \n",
      "[300]\tvalid_0's rmse: 0.856603\tvalid_0's l2: 0.733768\tvalid_1's rmse: 0.823095\tvalid_1's l2: 0.677485           \n",
      "[400]\tvalid_0's rmse: 0.853488\tvalid_0's l2: 0.728443\tvalid_1's rmse: 0.807381\tvalid_1's l2: 0.651865           \n",
      "[100]\tvalid_0's rmse: 0.918589\tvalid_0's l2: 0.843806\tvalid_1's rmse: 0.880629\tvalid_1's l2: 0.775507           \n",
      "[200]\tvalid_0's rmse: 0.891408\tvalid_0's l2: 0.794608\tvalid_1's rmse: 0.838869\tvalid_1's l2: 0.703701           \n",
      "[300]\tvalid_0's rmse: 0.884612\tvalid_0's l2: 0.782539\tvalid_1's rmse: 0.817604\tvalid_1's l2: 0.668477           \n",
      "[400]\tvalid_0's rmse: 0.884365\tvalid_0's l2: 0.782101\tvalid_1's rmse: 0.802442\tvalid_1's l2: 0.643914           \n",
      "[500]\tvalid_0's rmse: 0.883531\tvalid_0's l2: 0.780626\tvalid_1's rmse: 0.790308\tvalid_1's l2: 0.624587           \n",
      "  4%|█▍                                       | 7/200 [00:18<07:39,  2.38s/trial, best loss: 0.8742537413213181]"
     ]
    },
    {
     "name": "stderr",
     "output_type": "stream",
     "text": [
      "Score - 0.8826750754586739, Std - 0.02503153598325204, Eval Score - 0.8826750754586739\n",
      "Score across folds - [0.9137142625752049, 0.852414608863848, 0.8818963549369686].\n"
     ]
    },
    {
     "name": "stdout",
     "output_type": "stream",
     "text": [
      "\r\n",
      "  4%|█▋                                       | 8/200 [00:19<08:51,  2.77s/trial, best loss: 0.8742537413213181]"
     ]
    },
    {
     "name": "stderr",
     "output_type": "stream",
     "text": [
      "\n",
      "Iteration: 9, Training with params: {'boosting_type': 'gbdt', 'colsample_bytree': 0.6000000000000001, 'learning_rate': 0.1, 'min_child_samples': 120, 'n_estimators': 10000, 'n_jobs': -1, 'num_leaves': 48, 'objective': 'regression', 'subsample': 0.6000000000000001, 'subsample_freq': 5}\n"
     ]
    },
    {
     "name": "stdout",
     "output_type": "stream",
     "text": [
      "[100]\tvalid_0's rmse: 0.919569\tvalid_0's l2: 0.845606\tvalid_1's rmse: 0.79472\tvalid_1's l2: 0.631579            \n",
      "[200]\tvalid_0's rmse: 0.926656\tvalid_0's l2: 0.858692\tvalid_1's rmse: 0.744766\tvalid_1's l2: 0.554676           \n",
      "[100]\tvalid_0's rmse: 0.852557\tvalid_0's l2: 0.726853\tvalid_1's rmse: 0.797425\tvalid_1's l2: 0.635887           \n",
      "[200]\tvalid_0's rmse: 0.846249\tvalid_0's l2: 0.716137\tvalid_1's rmse: 0.748205\tvalid_1's l2: 0.559811           \n",
      "[300]\tvalid_0's rmse: 0.846686\tvalid_0's l2: 0.716877\tvalid_1's rmse: 0.71129\tvalid_1's l2: 0.505934            \n",
      "[100]\tvalid_0's rmse: 0.878345\tvalid_0's l2: 0.771489\tvalid_1's rmse: 0.792967\tvalid_1's l2: 0.628796           \n",
      "[200]\tvalid_0's rmse: 0.882931\tvalid_0's l2: 0.779567\tvalid_1's rmse: 0.743143\tvalid_1's l2: 0.552261           \n",
      "  4%|█▋                                       | 8/200 [00:21<08:51,  2.77s/trial, best loss: 0.8742537413213181]"
     ]
    },
    {
     "name": "stderr",
     "output_type": "stream",
     "text": [
      "Score - 0.8791113994909535, Std - 0.03134170313533451, Eval Score - 0.8791113994909535\n",
      "Score across folds - [0.9184219289862294, 0.8417229670557326, 0.8771893024308983].\n"
     ]
    },
    {
     "name": "stdout",
     "output_type": "stream",
     "text": [
      "\r\n",
      "  4%|█▊                                       | 9/200 [00:21<08:25,  2.65s/trial, best loss: 0.8742537413213181]"
     ]
    },
    {
     "name": "stderr",
     "output_type": "stream",
     "text": [
      "\n",
      "Iteration: 10, Training with params: {'boosting_type': 'gbdt', 'colsample_bytree': 1.0, 'learning_rate': 0.1, 'min_child_samples': 40, 'n_estimators': 10000, 'n_jobs': -1, 'num_leaves': 80, 'objective': 'regression', 'subsample': 0.8, 'subsample_freq': 10}\n"
     ]
    },
    {
     "name": "stdout",
     "output_type": "stream",
     "text": [
      "[100]\tvalid_0's rmse: 0.932118\tvalid_0's l2: 0.868844\tvalid_1's rmse: 0.707999\tvalid_1's l2: 0.501262           \n",
      "[100]\tvalid_0's rmse: 0.84198\tvalid_0's l2: 0.70893\tvalid_1's rmse: 0.710437\tvalid_1's l2: 0.504721             \n",
      "[200]\tvalid_0's rmse: 0.847418\tvalid_0's l2: 0.718118\tvalid_1's rmse: 0.621302\tvalid_1's l2: 0.386016           \n",
      "[100]\tvalid_0's rmse: 0.885078\tvalid_0's l2: 0.783364\tvalid_1's rmse: 0.706699\tvalid_1's l2: 0.499423           \n",
      "  4%|█▊                                       | 9/200 [00:23<08:25,  2.65s/trial, best loss: 0.8742537413213181]"
     ]
    },
    {
     "name": "stderr",
     "output_type": "stream",
     "text": [
      "Score - 0.8850821988324137, Std - 0.03565472886804262, Eval Score - 0.8850821988324137\n",
      "Score across folds - [0.9288355076208606, 0.8415001185375645, 0.8849109703388158].\n"
     ]
    },
    {
     "name": "stdout",
     "output_type": "stream",
     "text": [
      "\r\n",
      "  5%|██                                      | 10/200 [00:23<07:57,  2.51s/trial, best loss: 0.8742537413213181]"
     ]
    },
    {
     "name": "stderr",
     "output_type": "stream",
     "text": [
      "\n",
      "Iteration: 11, Training with params: {'boosting_type': 'gbdt', 'colsample_bytree': 0.4, 'learning_rate': 0.1, 'min_child_samples': 200, 'n_estimators': 10000, 'n_jobs': -1, 'num_leaves': 48, 'objective': 'regression', 'subsample': 0.6000000000000001, 'subsample_freq': 10}\n"
     ]
    },
    {
     "name": "stdout",
     "output_type": "stream",
     "text": [
      "[100]\tvalid_0's rmse: 0.922773\tvalid_0's l2: 0.851511\tvalid_1's rmse: 0.844957\tvalid_1's l2: 0.713952           \n",
      "[200]\tvalid_0's rmse: 0.916675\tvalid_0's l2: 0.840293\tvalid_1's rmse: 0.807294\tvalid_1's l2: 0.651723           \n",
      "[300]\tvalid_0's rmse: 0.917721\tvalid_0's l2: 0.842211\tvalid_1's rmse: 0.782153\tvalid_1's l2: 0.611764           \n",
      "[100]\tvalid_0's rmse: 0.861149\tvalid_0's l2: 0.741577\tvalid_1's rmse: 0.845439\tvalid_1's l2: 0.714766           \n",
      "[200]\tvalid_0's rmse: 0.852048\tvalid_0's l2: 0.725986\tvalid_1's rmse: 0.807762\tvalid_1's l2: 0.65248            \n",
      "[300]\tvalid_0's rmse: 0.84917\tvalid_0's l2: 0.72109\tvalid_1's rmse: 0.782082\tvalid_1's l2: 0.611652             \n",
      "[100]\tvalid_0's rmse: 0.887587\tvalid_0's l2: 0.787811\tvalid_1's rmse: 0.839881\tvalid_1's l2: 0.7054             \n",
      "[200]\tvalid_0's rmse: 0.878888\tvalid_0's l2: 0.772444\tvalid_1's rmse: 0.80413\tvalid_1's l2: 0.646625            \n",
      "[300]\tvalid_0's rmse: 0.877089\tvalid_0's l2: 0.769285\tvalid_1's rmse: 0.778812\tvalid_1's l2: 0.606547           \n",
      "[400]\tvalid_0's rmse: 0.877508\tvalid_0's l2: 0.770021\tvalid_1's rmse: 0.76004\tvalid_1's l2: 0.577661            \n",
      "  5%|██                                      | 10/200 [00:26<07:57,  2.51s/trial, best loss: 0.8742537413213181]"
     ]
    },
    {
     "name": "stderr",
     "output_type": "stream",
     "text": [
      "Score - 0.8795871335337808, Std - 0.027138897819020038, Eval Score - 0.8795871335337808\n",
      "Score across folds - [0.9143446760922523, 0.8481117460393377, 0.8763049784697525].\n"
     ]
    },
    {
     "name": "stdout",
     "output_type": "stream",
     "text": [
      "\r\n",
      "  6%|██▏                                     | 11/200 [00:26<08:29,  2.69s/trial, best loss: 0.8742537413213181]"
     ]
    },
    {
     "name": "stderr",
     "output_type": "stream",
     "text": [
      "\n",
      "Iteration: 12, Training with params: {'boosting_type': 'gbdt', 'colsample_bytree': 0.2, 'learning_rate': 0.1, 'min_child_samples': 120, 'n_estimators': 10000, 'n_jobs': -1, 'num_leaves': 48, 'objective': 'regression', 'subsample': 0.4, 'subsample_freq': 5}\n"
     ]
    },
    {
     "name": "stdout",
     "output_type": "stream",
     "text": [
      "[100]\tvalid_0's rmse: 0.941642\tvalid_0's l2: 0.88669\tvalid_1's rmse: 0.885306\tvalid_1's l2: 0.783766            \n",
      "[200]\tvalid_0's rmse: 0.925076\tvalid_0's l2: 0.855765\tvalid_1's rmse: 0.843565\tvalid_1's l2: 0.711602           \n",
      "[300]\tvalid_0's rmse: 0.918717\tvalid_0's l2: 0.844041\tvalid_1's rmse: 0.821335\tvalid_1's l2: 0.67459            \n",
      "[400]\tvalid_0's rmse: 0.915147\tvalid_0's l2: 0.837495\tvalid_1's rmse: 0.805718\tvalid_1's l2: 0.649182           \n",
      "[500]\tvalid_0's rmse: 0.91398\tvalid_0's l2: 0.83536\tvalid_1's rmse: 0.793761\tvalid_1's l2: 0.630056             \n",
      "[600]\tvalid_0's rmse: 0.917201\tvalid_0's l2: 0.841258\tvalid_1's rmse: 0.78209\tvalid_1's l2: 0.611665            \n",
      "[100]\tvalid_0's rmse: 0.896324\tvalid_0's l2: 0.803396\tvalid_1's rmse: 0.888449\tvalid_1's l2: 0.789342           \n",
      "[200]\tvalid_0's rmse: 0.870525\tvalid_0's l2: 0.757813\tvalid_1's rmse: 0.845732\tvalid_1's l2: 0.715262           \n",
      "[300]\tvalid_0's rmse: 0.856603\tvalid_0's l2: 0.733768\tvalid_1's rmse: 0.823095\tvalid_1's l2: 0.677485           \n",
      "[400]\tvalid_0's rmse: 0.853488\tvalid_0's l2: 0.728443\tvalid_1's rmse: 0.807381\tvalid_1's l2: 0.651865           \n",
      "[100]\tvalid_0's rmse: 0.918589\tvalid_0's l2: 0.843806\tvalid_1's rmse: 0.880629\tvalid_1's l2: 0.775507           \n",
      "[200]\tvalid_0's rmse: 0.891408\tvalid_0's l2: 0.794608\tvalid_1's rmse: 0.838869\tvalid_1's l2: 0.703701           \n",
      "[300]\tvalid_0's rmse: 0.884612\tvalid_0's l2: 0.782539\tvalid_1's rmse: 0.817604\tvalid_1's l2: 0.668477           \n",
      "[400]\tvalid_0's rmse: 0.884365\tvalid_0's l2: 0.782101\tvalid_1's rmse: 0.802442\tvalid_1's l2: 0.643914           \n",
      "[500]\tvalid_0's rmse: 0.883531\tvalid_0's l2: 0.780626\tvalid_1's rmse: 0.790308\tvalid_1's l2: 0.624587           \n",
      "  6%|██▏                                     | 11/200 [00:29<08:29,  2.69s/trial, best loss: 0.8742537413213181]"
     ]
    },
    {
     "name": "stderr",
     "output_type": "stream",
     "text": [
      "Score - 0.8826750754586739, Std - 0.02503153598325204, Eval Score - 0.8826750754586739\n",
      "Score across folds - [0.9137142625752049, 0.852414608863848, 0.8818963549369686].\n"
     ]
    },
    {
     "name": "stdout",
     "output_type": "stream",
     "text": [
      "\r\n",
      "  6%|██▍                                     | 12/200 [00:30<09:16,  2.96s/trial, best loss: 0.8742537413213181]"
     ]
    },
    {
     "name": "stderr",
     "output_type": "stream",
     "text": [
      "\n",
      "Iteration: 13, Training with params: {'boosting_type': 'gbdt', 'colsample_bytree': 0.4, 'learning_rate': 0.1, 'min_child_samples': 40, 'n_estimators': 10000, 'n_jobs': -1, 'num_leaves': 16, 'objective': 'regression', 'subsample': 0.8, 'subsample_freq': 5}\n"
     ]
    },
    {
     "name": "stdout",
     "output_type": "stream",
     "text": [
      "[100]\tvalid_0's rmse: 0.921095\tvalid_0's l2: 0.848416\tvalid_1's rmse: 0.859479\tvalid_1's l2: 0.738704           \n",
      "[200]\tvalid_0's rmse: 0.912902\tvalid_0's l2: 0.83339\tvalid_1's rmse: 0.822348\tvalid_1's l2: 0.676257            \n",
      "[300]\tvalid_0's rmse: 0.912664\tvalid_0's l2: 0.832956\tvalid_1's rmse: 0.799836\tvalid_1's l2: 0.639738           \n",
      "[400]\tvalid_0's rmse: 0.913445\tvalid_0's l2: 0.834382\tvalid_1's rmse: 0.782148\tvalid_1's l2: 0.611755           \n",
      "[100]\tvalid_0's rmse: 0.861172\tvalid_0's l2: 0.741618\tvalid_1's rmse: 0.854879\tvalid_1's l2: 0.730818           \n",
      "[200]\tvalid_0's rmse: 0.844062\tvalid_0's l2: 0.712441\tvalid_1's rmse: 0.818413\tvalid_1's l2: 0.669799           \n",
      "[300]\tvalid_0's rmse: 0.840319\tvalid_0's l2: 0.706136\tvalid_1's rmse: 0.796966\tvalid_1's l2: 0.635155           \n",
      "[400]\tvalid_0's rmse: 0.838241\tvalid_0's l2: 0.702648\tvalid_1's rmse: 0.77883\tvalid_1's l2: 0.606576            \n",
      "[500]\tvalid_0's rmse: 0.837888\tvalid_0's l2: 0.702056\tvalid_1's rmse: 0.762697\tvalid_1's l2: 0.581707           \n",
      "[100]\tvalid_0's rmse: 0.889315\tvalid_0's l2: 0.790881\tvalid_1's rmse: 0.851522\tvalid_1's l2: 0.72509            \n",
      "[200]\tvalid_0's rmse: 0.876298\tvalid_0's l2: 0.767898\tvalid_1's rmse: 0.815061\tvalid_1's l2: 0.664324           \n",
      "[300]\tvalid_0's rmse: 0.8783\tvalid_0's l2: 0.771411\tvalid_1's rmse: 0.792911\tvalid_1's l2: 0.628709             \n",
      "  6%|██▍                                     | 12/200 [00:32<09:16,  2.96s/trial, best loss: 0.8742537413213181]"
     ]
    },
    {
     "name": "stderr",
     "output_type": "stream",
     "text": [
      "Score - 0.8745981216527271, Std - 0.030731965742251663, Eval Score - 0.8745981216527271\n",
      "Score across folds - [0.911755958780998, 0.8364960903107567, 0.8755423158664264].\n"
     ]
    },
    {
     "name": "stdout",
     "output_type": "stream",
     "text": [
      "\r\n",
      "  6%|██▌                                     | 13/200 [00:32<08:23,  2.69s/trial, best loss: 0.8742537413213181]"
     ]
    },
    {
     "name": "stderr",
     "output_type": "stream",
     "text": [
      "\n",
      "Iteration: 14, Training with params: {'boosting_type': 'gbdt', 'colsample_bytree': 0.6000000000000001, 'learning_rate': 0.1, 'min_child_samples': 120, 'n_estimators': 10000, 'n_jobs': -1, 'num_leaves': 48, 'objective': 'regression', 'subsample': 0.6000000000000001, 'subsample_freq': 10}\n"
     ]
    },
    {
     "name": "stdout",
     "output_type": "stream",
     "text": [
      "[100]\tvalid_0's rmse: 0.916361\tvalid_0's l2: 0.839718\tvalid_1's rmse: 0.79612\tvalid_1's l2: 0.633807            \n",
      "[100]\tvalid_0's rmse: 0.853195\tvalid_0's l2: 0.727941\tvalid_1's rmse: 0.799134\tvalid_1's l2: 0.638614           \n",
      "[200]\tvalid_0's rmse: 0.84477\tvalid_0's l2: 0.713636\tvalid_1's rmse: 0.750187\tvalid_1's l2: 0.562781            \n",
      "[300]\tvalid_0's rmse: 0.848305\tvalid_0's l2: 0.719622\tvalid_1's rmse: 0.714047\tvalid_1's l2: 0.509863           \n",
      "[100]\tvalid_0's rmse: 0.876777\tvalid_0's l2: 0.768738\tvalid_1's rmse: 0.795311\tvalid_1's l2: 0.632519           \n",
      "[200]\tvalid_0's rmse: 0.87612\tvalid_0's l2: 0.767587\tvalid_1's rmse: 0.745888\tvalid_1's l2: 0.556348            \n",
      "  6%|██▌                                     | 13/200 [00:34<08:23,  2.69s/trial, best loss: 0.8742537413213181]"
     ]
    },
    {
     "name": "stderr",
     "output_type": "stream",
     "text": [
      "Score - 0.8770845713691208, Std - 0.029091283267249923, Eval Score - 0.8770845713691208\n",
      "Score across folds - [0.913859885746972, 0.8427239265914339, 0.8746699017689563].\n"
     ]
    },
    {
     "name": "stdout",
     "output_type": "stream",
     "text": [
      "\r\n",
      "  7%|██▊                                     | 14/200 [00:34<07:54,  2.55s/trial, best loss: 0.8742537413213181]"
     ]
    },
    {
     "name": "stderr",
     "output_type": "stream",
     "text": [
      "\n",
      "Iteration: 15, Training with params: {'boosting_type': 'gbdt', 'colsample_bytree': 0.4, 'learning_rate': 0.1, 'min_child_samples': 120, 'n_estimators': 10000, 'n_jobs': -1, 'num_leaves': 64, 'objective': 'regression', 'subsample': 0.6000000000000001, 'subsample_freq': 5}\n"
     ]
    },
    {
     "name": "stdout",
     "output_type": "stream",
     "text": [
      "[100]\tvalid_0's rmse: 0.915435\tvalid_0's l2: 0.838021\tvalid_1's rmse: 0.815779\tvalid_1's l2: 0.665495           \n",
      "[200]\tvalid_0's rmse: 0.911117\tvalid_0's l2: 0.830135\tvalid_1's rmse: 0.767838\tvalid_1's l2: 0.589576           \n",
      "[100]\tvalid_0's rmse: 0.855106\tvalid_0's l2: 0.731206\tvalid_1's rmse: 0.819029\tvalid_1's l2: 0.670808           \n",
      "[200]\tvalid_0's rmse: 0.848185\tvalid_0's l2: 0.719418\tvalid_1's rmse: 0.771965\tvalid_1's l2: 0.59593            \n",
      "[300]\tvalid_0's rmse: 0.845372\tvalid_0's l2: 0.714654\tvalid_1's rmse: 0.736981\tvalid_1's l2: 0.543141           \n",
      "[400]\tvalid_0's rmse: 0.849038\tvalid_0's l2: 0.720866\tvalid_1's rmse: 0.710198\tvalid_1's l2: 0.504381           \n",
      "[100]\tvalid_0's rmse: 0.88706\tvalid_0's l2: 0.786875\tvalid_1's rmse: 0.814763\tvalid_1's l2: 0.663839            \n",
      "[200]\tvalid_0's rmse: 0.880671\tvalid_0's l2: 0.775581\tvalid_1's rmse: 0.766649\tvalid_1's l2: 0.587751           \n",
      "[300]\tvalid_0's rmse: 0.88365\tvalid_0's l2: 0.780837\tvalid_1's rmse: 0.731649\tvalid_1's l2: 0.535311            \n",
      "  7%|██▊                                     | 14/200 [00:37<07:54,  2.55s/trial, best loss: 0.8742537413213181]"
     ]
    },
    {
     "name": "stderr",
     "output_type": "stream",
     "text": [
      "Score - 0.8782828530431805, Std - 0.02662247984627177, Eval Score - 0.8782828530431805\n",
      "Score across folds - [0.9099348257345783, 0.8448004480825706, 0.8801132853123927].\n"
     ]
    },
    {
     "name": "stdout",
     "output_type": "stream",
     "text": [
      "\r\n",
      "  8%|███                                     | 15/200 [00:37<08:19,  2.70s/trial, best loss: 0.8742537413213181]"
     ]
    },
    {
     "name": "stderr",
     "output_type": "stream",
     "text": [
      "\n",
      "Iteration: 16, Training with params: {'boosting_type': 'gbdt', 'colsample_bytree': 0.4, 'learning_rate': 0.1, 'min_child_samples': 80, 'n_estimators': 10000, 'n_jobs': -1, 'num_leaves': 32, 'objective': 'regression', 'subsample': 0.4, 'subsample_freq': 5}\n"
     ]
    },
    {
     "name": "stdout",
     "output_type": "stream",
     "text": [
      "[100]\tvalid_0's rmse: 0.919758\tvalid_0's l2: 0.845955\tvalid_1's rmse: 0.83738\tvalid_1's l2: 0.701205            \n",
      "[200]\tvalid_0's rmse: 0.918198\tvalid_0's l2: 0.843087\tvalid_1's rmse: 0.801152\tvalid_1's l2: 0.641845           \n",
      "[100]\tvalid_0's rmse: 0.858661\tvalid_0's l2: 0.737298\tvalid_1's rmse: 0.840292\tvalid_1's l2: 0.70609            \n",
      "[200]\tvalid_0's rmse: 0.84851\tvalid_0's l2: 0.71997\tvalid_1's rmse: 0.804631\tvalid_1's l2: 0.647432             \n",
      "[300]\tvalid_0's rmse: 0.840925\tvalid_0's l2: 0.707155\tvalid_1's rmse: 0.779481\tvalid_1's l2: 0.607591           \n",
      "[400]\tvalid_0's rmse: 0.843241\tvalid_0's l2: 0.711056\tvalid_1's rmse: 0.760517\tvalid_1's l2: 0.578386           \n",
      "[100]\tvalid_0's rmse: 0.896182\tvalid_0's l2: 0.803143\tvalid_1's rmse: 0.836527\tvalid_1's l2: 0.699778           \n",
      "[200]\tvalid_0's rmse: 0.881888\tvalid_0's l2: 0.777726\tvalid_1's rmse: 0.799043\tvalid_1's l2: 0.63847            \n",
      "[300]\tvalid_0's rmse: 0.883596\tvalid_0's l2: 0.780743\tvalid_1's rmse: 0.773964\tvalid_1's l2: 0.599021           \n",
      "  8%|███                                     | 15/200 [00:39<08:19,  2.70s/trial, best loss: 0.8742537413213181]"
     ]
    },
    {
     "name": "stderr",
     "output_type": "stream",
     "text": [
      "Score - 0.8795768242717128, Std - 0.031110887934048228, Eval Score - 0.8795768242717128\n",
      "Score across folds - [0.917106274846554, 0.840925262213949, 0.8806989357546354].\n"
     ]
    },
    {
     "name": "stdout",
     "output_type": "stream",
     "text": [
      "\r\n",
      "  8%|███▏                                    | 16/200 [00:39<07:42,  2.52s/trial, best loss: 0.8742537413213181]"
     ]
    },
    {
     "name": "stderr",
     "output_type": "stream",
     "text": [
      "\n",
      "Iteration: 17, Training with params: {'boosting_type': 'gbdt', 'colsample_bytree': 0.4, 'learning_rate': 0.1, 'min_child_samples': 240, 'n_estimators': 10000, 'n_jobs': -1, 'num_leaves': 80, 'objective': 'regression', 'subsample': 0.6000000000000001, 'subsample_freq': 10}\n"
     ]
    },
    {
     "name": "stdout",
     "output_type": "stream",
     "text": [
      "[100]\tvalid_0's rmse: 0.925252\tvalid_0's l2: 0.856092\tvalid_1's rmse: 0.853542\tvalid_1's l2: 0.728534           \n",
      "[200]\tvalid_0's rmse: 0.916274\tvalid_0's l2: 0.839559\tvalid_1's rmse: 0.81962\tvalid_1's l2: 0.671777            \n",
      "[300]\tvalid_0's rmse: 0.917052\tvalid_0's l2: 0.840984\tvalid_1's rmse: 0.797256\tvalid_1's l2: 0.635617           \n",
      "[100]\tvalid_0's rmse: 0.865137\tvalid_0's l2: 0.748461\tvalid_1's rmse: 0.855948\tvalid_1's l2: 0.732646           \n",
      "[200]\tvalid_0's rmse: 0.853701\tvalid_0's l2: 0.728806\tvalid_1's rmse: 0.821815\tvalid_1's l2: 0.67538            \n",
      "[300]\tvalid_0's rmse: 0.852241\tvalid_0's l2: 0.726315\tvalid_1's rmse: 0.799766\tvalid_1's l2: 0.639626           \n",
      "[100]\tvalid_0's rmse: 0.89167\tvalid_0's l2: 0.795075\tvalid_1's rmse: 0.850971\tvalid_1's l2: 0.724152            \n",
      "[200]\tvalid_0's rmse: 0.881385\tvalid_0's l2: 0.776839\tvalid_1's rmse: 0.818497\tvalid_1's l2: 0.669937           \n",
      "[300]\tvalid_0's rmse: 0.878966\tvalid_0's l2: 0.772581\tvalid_1's rmse: 0.796035\tvalid_1's l2: 0.633671           \n",
      "[400]\tvalid_0's rmse: 0.880113\tvalid_0's l2: 0.774599\tvalid_1's rmse: 0.779685\tvalid_1's l2: 0.607908           \n",
      "  8%|███▏                                    | 16/200 [00:42<07:42,  2.52s/trial, best loss: 0.8742537413213181]"
     ]
    },
    {
     "name": "stderr",
     "output_type": "stream",
     "text": [
      "Score - 0.8813647354985367, Std - 0.02594197292096072, Eval Score - 0.8813647354985367\n",
      "Score across folds - [0.9146763890853572, 0.8513961614292431, 0.8780216559810092].\n"
     ]
    },
    {
     "name": "stdout",
     "output_type": "stream",
     "text": [
      "\r\n",
      "  8%|███▍                                    | 17/200 [00:42<07:54,  2.59s/trial, best loss: 0.8742537413213181]"
     ]
    },
    {
     "name": "stderr",
     "output_type": "stream",
     "text": [
      "\n",
      "Iteration: 18, Training with params: {'boosting_type': 'gbdt', 'colsample_bytree': 0.4, 'learning_rate': 0.1, 'min_child_samples': 40, 'n_estimators': 10000, 'n_jobs': -1, 'num_leaves': 64, 'objective': 'regression', 'subsample': 0.6000000000000001, 'subsample_freq': 5}\n"
     ]
    },
    {
     "name": "stdout",
     "output_type": "stream",
     "text": [
      "[100]\tvalid_0's rmse: 0.920628\tvalid_0's l2: 0.847556\tvalid_1's rmse: 0.786459\tvalid_1's l2: 0.618517           \n",
      "[200]\tvalid_0's rmse: 0.923482\tvalid_0's l2: 0.852819\tvalid_1's rmse: 0.728428\tvalid_1's l2: 0.530607           \n",
      "[100]\tvalid_0's rmse: 0.852831\tvalid_0's l2: 0.727321\tvalid_1's rmse: 0.774695\tvalid_1's l2: 0.600153           \n",
      "[200]\tvalid_0's rmse: 0.849578\tvalid_0's l2: 0.721783\tvalid_1's rmse: 0.708704\tvalid_1's l2: 0.502262           \n",
      "[100]\tvalid_0's rmse: 0.88913\tvalid_0's l2: 0.790553\tvalid_1's rmse: 0.771888\tvalid_1's l2: 0.595811            \n",
      "[200]\tvalid_0's rmse: 0.883222\tvalid_0's l2: 0.780081\tvalid_1's rmse: 0.70451\tvalid_1's l2: 0.496335            \n",
      "  8%|███▍                                    | 17/200 [00:44<07:54,  2.59s/trial, best loss: 0.8742537413213181]"
     ]
    },
    {
     "name": "stderr",
     "output_type": "stream",
     "text": [
      "Score - 0.8817225895185737, Std - 0.02963733505710184, Eval Score - 0.8817225895185737\n",
      "Score across folds - [0.9188464488799238, 0.8463106822854092, 0.8800106373903881].\n"
     ]
    },
    {
     "name": "stdout",
     "output_type": "stream",
     "text": [
      "\r\n",
      "  9%|███▌                                    | 18/200 [00:44<07:40,  2.53s/trial, best loss: 0.8742537413213181]"
     ]
    },
    {
     "name": "stderr",
     "output_type": "stream",
     "text": [
      "\n",
      "Iteration: 19, Training with params: {'boosting_type': 'gbdt', 'colsample_bytree': 0.6000000000000001, 'learning_rate': 0.1, 'min_child_samples': 80, 'n_estimators': 10000, 'n_jobs': -1, 'num_leaves': 64, 'objective': 'regression', 'subsample': 0.2, 'subsample_freq': 5}\n"
     ]
    },
    {
     "name": "stdout",
     "output_type": "stream",
     "text": [
      "[100]\tvalid_0's rmse: 0.932745\tvalid_0's l2: 0.870013\tvalid_1's rmse: 0.837175\tvalid_1's l2: 0.700862           \n",
      "[200]\tvalid_0's rmse: 0.932933\tvalid_0's l2: 0.870364\tvalid_1's rmse: 0.804621\tvalid_1's l2: 0.647414           \n",
      "[100]\tvalid_0's rmse: 0.878652\tvalid_0's l2: 0.772029\tvalid_1's rmse: 0.839553\tvalid_1's l2: 0.704849           \n",
      "[200]\tvalid_0's rmse: 0.868495\tvalid_0's l2: 0.754283\tvalid_1's rmse: 0.804021\tvalid_1's l2: 0.64645            \n",
      "[100]\tvalid_0's rmse: 0.897441\tvalid_0's l2: 0.8054\tvalid_1's rmse: 0.836668\tvalid_1's l2: 0.700014             \n",
      "[200]\tvalid_0's rmse: 0.897287\tvalid_0's l2: 0.805124\tvalid_1's rmse: 0.803632\tvalid_1's l2: 0.645824           \n",
      "  9%|███▌                                    | 18/200 [00:46<07:40,  2.53s/trial, best loss: 0.8742537413213181]"
     ]
    },
    {
     "name": "stderr",
     "output_type": "stream",
     "text": [
      "Score - 0.894155003710568, Std - 0.02707183529004853, Eval Score - 0.894155003710568\n",
      "Score across folds - [0.9281695739749378, 0.8619298620849422, 0.8923655750718245].\n"
     ]
    },
    {
     "name": "stdout",
     "output_type": "stream",
     "text": [
      "\r\n",
      " 10%|███▊                                    | 19/200 [00:46<07:02,  2.33s/trial, best loss: 0.8742537413213181]"
     ]
    },
    {
     "name": "stderr",
     "output_type": "stream",
     "text": [
      "\n",
      "Iteration: 20, Training with params: {'boosting_type': 'gbdt', 'colsample_bytree': 0.4, 'learning_rate': 0.1, 'min_child_samples': 240, 'n_estimators': 10000, 'n_jobs': -1, 'num_leaves': 48, 'objective': 'regression', 'subsample': 1.0, 'subsample_freq': 10}\n"
     ]
    },
    {
     "name": "stdout",
     "output_type": "stream",
     "text": [
      "[100]\tvalid_0's rmse: 0.916827\tvalid_0's l2: 0.840572\tvalid_1's rmse: 0.82751\tvalid_1's l2: 0.684772            \n",
      "[200]\tvalid_0's rmse: 0.911328\tvalid_0's l2: 0.830519\tvalid_1's rmse: 0.786413\tvalid_1's l2: 0.618446           \n",
      "[300]\tvalid_0's rmse: 0.912122\tvalid_0's l2: 0.831966\tvalid_1's rmse: 0.757764\tvalid_1's l2: 0.574207           \n",
      "[100]\tvalid_0's rmse: 0.855161\tvalid_0's l2: 0.7313\tvalid_1's rmse: 0.8296\tvalid_1's l2: 0.688235               \n",
      "[200]\tvalid_0's rmse: 0.844549\tvalid_0's l2: 0.713263\tvalid_1's rmse: 0.789028\tvalid_1's l2: 0.622565           \n",
      "[300]\tvalid_0's rmse: 0.84335\tvalid_0's l2: 0.711239\tvalid_1's rmse: 0.760813\tvalid_1's l2: 0.578837            \n",
      "[100]\tvalid_0's rmse: 0.884251\tvalid_0's l2: 0.781899\tvalid_1's rmse: 0.825509\tvalid_1's l2: 0.681465           \n",
      "[200]\tvalid_0's rmse: 0.876034\tvalid_0's l2: 0.767435\tvalid_1's rmse: 0.784204\tvalid_1's l2: 0.614976           \n",
      "[300]\tvalid_0's rmse: 0.875711\tvalid_0's l2: 0.766869\tvalid_1's rmse: 0.756049\tvalid_1's l2: 0.57161            \n",
      " 10%|███▊                                    | 19/200 [00:49<07:02,  2.33s/trial, best loss: 0.8742537413213181]"
     ]
    },
    {
     "name": "stderr",
     "output_type": "stream",
     "text": [
      "Score - 0.8760780289129134, Std - 0.028206212090032427, Eval Score - 0.8760780289129134\n",
      "Score across folds - [0.9112585198185073, 0.8422048047574064, 0.8747707621628265].\n"
     ]
    },
    {
     "name": "stdout",
     "output_type": "stream",
     "text": [
      "\r\n",
      " 10%|████                                    | 20/200 [00:49<07:22,  2.46s/trial, best loss: 0.8742537413213181]"
     ]
    },
    {
     "name": "stderr",
     "output_type": "stream",
     "text": [
      "\n",
      "Iteration: 21, Training with params: {'boosting_type': 'gbdt', 'colsample_bytree': 0.2, 'learning_rate': 0.1, 'min_child_samples': 0, 'n_estimators': 10000, 'n_jobs': -1, 'num_leaves': 16, 'objective': 'regression', 'subsample': 0.8, 'subsample_freq': 10}\n"
     ]
    },
    {
     "name": "stdout",
     "output_type": "stream",
     "text": [
      "[100]\tvalid_0's rmse: 0.946728\tvalid_0's l2: 0.896293\tvalid_1's rmse: 0.896608\tvalid_1's l2: 0.803905           \n",
      "[200]\tvalid_0's rmse: 0.921437\tvalid_0's l2: 0.849046\tvalid_1's rmse: 0.849385\tvalid_1's l2: 0.721455           \n",
      "[300]\tvalid_0's rmse: 0.913709\tvalid_0's l2: 0.834865\tvalid_1's rmse: 0.825406\tvalid_1's l2: 0.681294           \n",
      "[400]\tvalid_0's rmse: 0.91146\tvalid_0's l2: 0.830759\tvalid_1's rmse: 0.805778\tvalid_1's l2: 0.649278            \n",
      "[500]\tvalid_0's rmse: 0.910104\tvalid_0's l2: 0.828289\tvalid_1's rmse: 0.791049\tvalid_1's l2: 0.625759           \n",
      "[600]\tvalid_0's rmse: 0.909641\tvalid_0's l2: 0.827447\tvalid_1's rmse: 0.778603\tvalid_1's l2: 0.606223           \n",
      "[100]\tvalid_0's rmse: 0.902345\tvalid_0's l2: 0.814226\tvalid_1's rmse: 0.899013\tvalid_1's l2: 0.808225           \n",
      "[200]\tvalid_0's rmse: 0.866184\tvalid_0's l2: 0.750275\tvalid_1's rmse: 0.852268\tvalid_1's l2: 0.72636            \n",
      "[300]\tvalid_0's rmse: 0.858397\tvalid_0's l2: 0.736846\tvalid_1's rmse: 0.828702\tvalid_1's l2: 0.686748           \n",
      "[400]\tvalid_0's rmse: 0.851623\tvalid_0's l2: 0.725261\tvalid_1's rmse: 0.808806\tvalid_1's l2: 0.654167           \n",
      "[500]\tvalid_0's rmse: 0.849015\tvalid_0's l2: 0.720826\tvalid_1's rmse: 0.794671\tvalid_1's l2: 0.631503           \n",
      "[600]\tvalid_0's rmse: 0.845606\tvalid_0's l2: 0.71505\tvalid_1's rmse: 0.781489\tvalid_1's l2: 0.610726            \n",
      "[700]\tvalid_0's rmse: 0.844666\tvalid_0's l2: 0.713461\tvalid_1's rmse: 0.771491\tvalid_1's l2: 0.595198           \n",
      "[800]\tvalid_0's rmse: 0.844468\tvalid_0's l2: 0.713126\tvalid_1's rmse: 0.761949\tvalid_1's l2: 0.580567           \n",
      "[900]\tvalid_0's rmse: 0.844515\tvalid_0's l2: 0.713206\tvalid_1's rmse: 0.753824\tvalid_1's l2: 0.568251           \n",
      "[100]\tvalid_0's rmse: 0.931887\tvalid_0's l2: 0.868414\tvalid_1's rmse: 0.894494\tvalid_1's l2: 0.800119           \n",
      "[200]\tvalid_0's rmse: 0.896281\tvalid_0's l2: 0.803319\tvalid_1's rmse: 0.847388\tvalid_1's l2: 0.718066           \n",
      "[300]\tvalid_0's rmse: 0.888027\tvalid_0's l2: 0.788592\tvalid_1's rmse: 0.824095\tvalid_1's l2: 0.679133           \n",
      "[400]\tvalid_0's rmse: 0.881626\tvalid_0's l2: 0.777264\tvalid_1's rmse: 0.804279\tvalid_1's l2: 0.646865           \n",
      "[500]\tvalid_0's rmse: 0.881061\tvalid_0's l2: 0.776269\tvalid_1's rmse: 0.789767\tvalid_1's l2: 0.623732           \n",
      "[600]\tvalid_0's rmse: 0.879737\tvalid_0's l2: 0.773937\tvalid_1's rmse: 0.777406\tvalid_1's l2: 0.60436            \n",
      "[700]\tvalid_0's rmse: 0.878055\tvalid_0's l2: 0.77098\tvalid_1's rmse: 0.767028\tvalid_1's l2: 0.588332            \n",
      " 10%|████                                    | 20/200 [00:52<07:22,  2.46s/trial, best loss: 0.8742537413213181]"
     ]
    },
    {
     "name": "stderr",
     "output_type": "stream",
     "text": [
      "Score - 0.8766109835782375, Std - 0.026561724813202146, Eval Score - 0.8766109835782375\n",
      "Score across folds - [0.9085959138612472, 0.8435594735141212, 0.8776775633593442].\n"
     ]
    },
    {
     "name": "stdout",
     "output_type": "stream",
     "text": [
      "\r\n",
      " 10%|████▏                                   | 21/200 [00:52<08:03,  2.70s/trial, best loss: 0.8742537413213181]"
     ]
    },
    {
     "name": "stderr",
     "output_type": "stream",
     "text": [
      "\n",
      "Iteration: 22, Training with params: {'boosting_type': 'gbdt', 'colsample_bytree': 0.2, 'learning_rate': 0.1, 'min_child_samples': 40, 'n_estimators': 10000, 'n_jobs': -1, 'num_leaves': 16, 'objective': 'regression', 'subsample': 0.8, 'subsample_freq': 5}\n"
     ]
    },
    {
     "name": "stdout",
     "output_type": "stream",
     "text": [
      "[100]\tvalid_0's rmse: 0.940217\tvalid_0's l2: 0.884009\tvalid_1's rmse: 0.891661\tvalid_1's l2: 0.79506            \n",
      "[200]\tvalid_0's rmse: 0.919937\tvalid_0's l2: 0.846285\tvalid_1's rmse: 0.850228\tvalid_1's l2: 0.722888           \n",
      "[300]\tvalid_0's rmse: 0.914941\tvalid_0's l2: 0.837118\tvalid_1's rmse: 0.827918\tvalid_1's l2: 0.685449           \n",
      "[400]\tvalid_0's rmse: 0.911129\tvalid_0's l2: 0.830157\tvalid_1's rmse: 0.812366\tvalid_1's l2: 0.659939           \n",
      "[100]\tvalid_0's rmse: 0.905408\tvalid_0's l2: 0.819764\tvalid_1's rmse: 0.901414\tvalid_1's l2: 0.812548           \n",
      "[200]\tvalid_0's rmse: 0.867988\tvalid_0's l2: 0.753402\tvalid_1's rmse: 0.857232\tvalid_1's l2: 0.734847           \n",
      "[300]\tvalid_0's rmse: 0.854317\tvalid_0's l2: 0.729857\tvalid_1's rmse: 0.83565\tvalid_1's l2: 0.698312            \n",
      "[400]\tvalid_0's rmse: 0.845421\tvalid_0's l2: 0.714736\tvalid_1's rmse: 0.818466\tvalid_1's l2: 0.669886           \n",
      "[500]\tvalid_0's rmse: 0.842903\tvalid_0's l2: 0.710485\tvalid_1's rmse: 0.806721\tvalid_1's l2: 0.650799           \n",
      "[600]\tvalid_0's rmse: 0.840019\tvalid_0's l2: 0.705632\tvalid_1's rmse: 0.796325\tvalid_1's l2: 0.634133           \n",
      "[700]\tvalid_0's rmse: 0.839911\tvalid_0's l2: 0.70545\tvalid_1's rmse: 0.788397\tvalid_1's l2: 0.62157             \n",
      "[100]\tvalid_0's rmse: 0.935034\tvalid_0's l2: 0.874288\tvalid_1's rmse: 0.897897\tvalid_1's l2: 0.806218           \n",
      "[200]\tvalid_0's rmse: 0.898352\tvalid_0's l2: 0.807037\tvalid_1's rmse: 0.851936\tvalid_1's l2: 0.725794           \n",
      "[300]\tvalid_0's rmse: 0.88631\tvalid_0's l2: 0.785546\tvalid_1's rmse: 0.830347\tvalid_1's l2: 0.689476            \n",
      "[400]\tvalid_0's rmse: 0.879\tvalid_0's l2: 0.772641\tvalid_1's rmse: 0.812568\tvalid_1's l2: 0.660267              \n",
      "[500]\tvalid_0's rmse: 0.879042\tvalid_0's l2: 0.772715\tvalid_1's rmse: 0.800806\tvalid_1's l2: 0.641291           \n",
      " 10%|████▏                                   | 21/200 [00:55<08:03,  2.70s/trial, best loss: 0.8742537413213181]"
     ]
    },
    {
     "name": "stderr",
     "output_type": "stream",
     "text": [
      "Score - 0.8759630463185403, Std - 0.02953732812918, Eval Score - 0.8759630463185403\n",
      "Score across folds - [0.9109591634582792, 0.8387131658485897, 0.8782168096487524].\n"
     ]
    },
    {
     "name": "stdout",
     "output_type": "stream",
     "text": [
      "\r\n",
      " 11%|████▍                                   | 22/200 [00:55<07:59,  2.69s/trial, best loss: 0.8742537413213181]"
     ]
    },
    {
     "name": "stderr",
     "output_type": "stream",
     "text": [
      "\n",
      "Iteration: 23, Training with params: {'boosting_type': 'gbdt', 'colsample_bytree': 0.8, 'learning_rate': 0.1, 'min_child_samples': 0, 'n_estimators': 10000, 'n_jobs': -1, 'num_leaves': 16, 'objective': 'regression', 'subsample': 1.0, 'subsample_freq': 10}\n"
     ]
    },
    {
     "name": "stdout",
     "output_type": "stream",
     "text": [
      "[100]\tvalid_0's rmse: 0.913177\tvalid_0's l2: 0.833892\tvalid_1's rmse: 0.836778\tvalid_1's l2: 0.700197           \n",
      "[200]\tvalid_0's rmse: 0.912965\tvalid_0's l2: 0.833505\tvalid_1's rmse: 0.795118\tvalid_1's l2: 0.632213           \n",
      "[100]\tvalid_0's rmse: 0.856184\tvalid_0's l2: 0.733051\tvalid_1's rmse: 0.840651\tvalid_1's l2: 0.706694           \n",
      "[200]\tvalid_0's rmse: 0.849281\tvalid_0's l2: 0.721279\tvalid_1's rmse: 0.796964\tvalid_1's l2: 0.635152           \n",
      "[300]\tvalid_0's rmse: 0.846634\tvalid_0's l2: 0.71679\tvalid_1's rmse: 0.765776\tvalid_1's l2: 0.586413            \n",
      "[400]\tvalid_0's rmse: 0.85086\tvalid_0's l2: 0.723962\tvalid_1's rmse: 0.740424\tvalid_1's l2: 0.548228            \n",
      "[100]\tvalid_0's rmse: 0.889853\tvalid_0's l2: 0.791839\tvalid_1's rmse: 0.836482\tvalid_1's l2: 0.699702           \n",
      "[200]\tvalid_0's rmse: 0.887419\tvalid_0's l2: 0.787513\tvalid_1's rmse: 0.792921\tvalid_1's l2: 0.628723           \n",
      " 11%|████▍                                   | 22/200 [00:56<07:59,  2.69s/trial, best loss: 0.8742537413213181]"
     ]
    },
    {
     "name": "stderr",
     "output_type": "stream",
     "text": [
      "Score - 0.8808113934837413, Std - 0.026847546215549023, Eval Score - 0.8808113934837413\n",
      "Score across folds - [0.9110435437151431, 0.8458031358335992, 0.8855875009024815].\n"
     ]
    },
    {
     "name": "stdout",
     "output_type": "stream",
     "text": [
      "\r\n",
      " 12%|████▌                                   | 23/200 [00:56<06:41,  2.27s/trial, best loss: 0.8742537413213181]"
     ]
    },
    {
     "name": "stderr",
     "output_type": "stream",
     "text": [
      "\n",
      "Iteration: 24, Training with params: {'boosting_type': 'gbdt', 'colsample_bytree': 0.4, 'learning_rate': 0.1, 'min_child_samples': 40, 'n_estimators': 10000, 'n_jobs': -1, 'num_leaves': 16, 'objective': 'regression', 'subsample': 0.8, 'subsample_freq': 5}\n"
     ]
    },
    {
     "name": "stdout",
     "output_type": "stream",
     "text": [
      "[100]\tvalid_0's rmse: 0.921095\tvalid_0's l2: 0.848416\tvalid_1's rmse: 0.859479\tvalid_1's l2: 0.738704           \n",
      "[200]\tvalid_0's rmse: 0.912902\tvalid_0's l2: 0.83339\tvalid_1's rmse: 0.822348\tvalid_1's l2: 0.676257            \n",
      "[300]\tvalid_0's rmse: 0.912664\tvalid_0's l2: 0.832956\tvalid_1's rmse: 0.799836\tvalid_1's l2: 0.639738           \n",
      "[400]\tvalid_0's rmse: 0.913445\tvalid_0's l2: 0.834382\tvalid_1's rmse: 0.782148\tvalid_1's l2: 0.611755           \n",
      "[100]\tvalid_0's rmse: 0.861172\tvalid_0's l2: 0.741618\tvalid_1's rmse: 0.854879\tvalid_1's l2: 0.730818           \n",
      "[200]\tvalid_0's rmse: 0.844062\tvalid_0's l2: 0.712441\tvalid_1's rmse: 0.818413\tvalid_1's l2: 0.669799           \n",
      "[300]\tvalid_0's rmse: 0.840319\tvalid_0's l2: 0.706136\tvalid_1's rmse: 0.796966\tvalid_1's l2: 0.635155           \n",
      "[400]\tvalid_0's rmse: 0.838241\tvalid_0's l2: 0.702648\tvalid_1's rmse: 0.77883\tvalid_1's l2: 0.606576            \n",
      "[500]\tvalid_0's rmse: 0.837888\tvalid_0's l2: 0.702056\tvalid_1's rmse: 0.762697\tvalid_1's l2: 0.581707           \n",
      "[100]\tvalid_0's rmse: 0.889315\tvalid_0's l2: 0.790881\tvalid_1's rmse: 0.851522\tvalid_1's l2: 0.72509            \n",
      "[200]\tvalid_0's rmse: 0.876298\tvalid_0's l2: 0.767898\tvalid_1's rmse: 0.815061\tvalid_1's l2: 0.664324           \n",
      "[300]\tvalid_0's rmse: 0.8783\tvalid_0's l2: 0.771411\tvalid_1's rmse: 0.792911\tvalid_1's l2: 0.628709             \n",
      " 12%|████▌                                   | 23/200 [00:58<06:41,  2.27s/trial, best loss: 0.8742537413213181]"
     ]
    },
    {
     "name": "stderr",
     "output_type": "stream",
     "text": [
      "Score - 0.8745981216527271, Std - 0.030731965742251663, Eval Score - 0.8745981216527271\n",
      "Score across folds - [0.911755958780998, 0.8364960903107567, 0.8755423158664264].\n"
     ]
    },
    {
     "name": "stdout",
     "output_type": "stream",
     "text": [
      "\r\n",
      " 12%|████▊                                   | 24/200 [00:58<06:28,  2.20s/trial, best loss: 0.8742537413213181]"
     ]
    },
    {
     "name": "stderr",
     "output_type": "stream",
     "text": [
      "\n",
      "Iteration: 25, Training with params: {'boosting_type': 'gbdt', 'colsample_bytree': 0.2, 'learning_rate': 0.1, 'min_child_samples': 80, 'n_estimators': 10000, 'n_jobs': -1, 'num_leaves': 16, 'objective': 'regression', 'subsample': 1.0, 'subsample_freq': 10}\n"
     ]
    },
    {
     "name": "stdout",
     "output_type": "stream",
     "text": [
      "[100]\tvalid_0's rmse: 0.940406\tvalid_0's l2: 0.884364\tvalid_1's rmse: 0.893683\tvalid_1's l2: 0.798669           \n",
      "[200]\tvalid_0's rmse: 0.919406\tvalid_0's l2: 0.845307\tvalid_1's rmse: 0.852884\tvalid_1's l2: 0.727412           \n",
      "[300]\tvalid_0's rmse: 0.913631\tvalid_0's l2: 0.834722\tvalid_1's rmse: 0.831597\tvalid_1's l2: 0.691553           \n",
      "[400]\tvalid_0's rmse: 0.911234\tvalid_0's l2: 0.830347\tvalid_1's rmse: 0.818401\tvalid_1's l2: 0.66978            \n",
      "[100]\tvalid_0's rmse: 0.89593\tvalid_0's l2: 0.802691\tvalid_1's rmse: 0.896132\tvalid_1's l2: 0.803052            \n",
      "[200]\tvalid_0's rmse: 0.86248\tvalid_0's l2: 0.743873\tvalid_1's rmse: 0.855112\tvalid_1's l2: 0.731217            \n",
      "[300]\tvalid_0's rmse: 0.851103\tvalid_0's l2: 0.724377\tvalid_1's rmse: 0.833805\tvalid_1's l2: 0.69523            \n",
      "[400]\tvalid_0's rmse: 0.845169\tvalid_0's l2: 0.714311\tvalid_1's rmse: 0.820022\tvalid_1's l2: 0.672436           \n",
      "[500]\tvalid_0's rmse: 0.842588\tvalid_0's l2: 0.709954\tvalid_1's rmse: 0.810606\tvalid_1's l2: 0.657082           \n",
      "[600]\tvalid_0's rmse: 0.839728\tvalid_0's l2: 0.705143\tvalid_1's rmse: 0.801288\tvalid_1's l2: 0.642063           \n",
      "[700]\tvalid_0's rmse: 0.839325\tvalid_0's l2: 0.704466\tvalid_1's rmse: 0.793688\tvalid_1's l2: 0.629941           \n",
      "[800]\tvalid_0's rmse: 0.839334\tvalid_0's l2: 0.704482\tvalid_1's rmse: 0.786859\tvalid_1's l2: 0.619147           \n",
      "[100]\tvalid_0's rmse: 0.923502\tvalid_0's l2: 0.852856\tvalid_1's rmse: 0.892519\tvalid_1's l2: 0.796591           \n",
      "[200]\tvalid_0's rmse: 0.8952\tvalid_0's l2: 0.801383\tvalid_1's rmse: 0.851341\tvalid_1's l2: 0.724782             \n",
      "[300]\tvalid_0's rmse: 0.885626\tvalid_0's l2: 0.784333\tvalid_1's rmse: 0.829782\tvalid_1's l2: 0.688539           \n",
      "[400]\tvalid_0's rmse: 0.882279\tvalid_0's l2: 0.778417\tvalid_1's rmse: 0.81528\tvalid_1's l2: 0.664682            \n",
      "[500]\tvalid_0's rmse: 0.880904\tvalid_0's l2: 0.775992\tvalid_1's rmse: 0.804939\tvalid_1's l2: 0.647926           \n",
      "[600]\tvalid_0's rmse: 0.87911\tvalid_0's l2: 0.772834\tvalid_1's rmse: 0.795894\tvalid_1's l2: 0.633447            \n",
      "[700]\tvalid_0's rmse: 0.87974\tvalid_0's l2: 0.773943\tvalid_1's rmse: 0.788023\tvalid_1's l2: 0.620981            \n",
      " 12%|████▊                                   | 24/200 [01:01<06:28,  2.20s/trial, best loss: 0.8742537413213181]"
     ]
    },
    {
     "name": "stderr",
     "output_type": "stream",
     "text": [
      "Score - 0.8761137985459605, Std - 0.0293009155866915, Eval Score - 0.8761137985459605\n",
      "Score across folds - [0.9104758831308082, 0.8388765642279935, 0.87898894827908].\n"
     ]
    },
    {
     "name": "stdout",
     "output_type": "stream",
     "text": [
      "\r\n",
      " 12%|█████                                   | 25/200 [01:01<06:54,  2.37s/trial, best loss: 0.8742537413213181]"
     ]
    },
    {
     "name": "stderr",
     "output_type": "stream",
     "text": [
      "\n",
      "Iteration: 26, Training with params: {'boosting_type': 'gbdt', 'colsample_bytree': 0.6000000000000001, 'learning_rate': 0.1, 'min_child_samples': 0, 'n_estimators': 10000, 'n_jobs': -1, 'num_leaves': 32, 'objective': 'regression', 'subsample': 0.8, 'subsample_freq': 5}\n"
     ]
    },
    {
     "name": "stdout",
     "output_type": "stream",
     "text": [
      "[100]\tvalid_0's rmse: 0.915888\tvalid_0's l2: 0.838851\tvalid_1's rmse: 0.79318\tvalid_1's l2: 0.629135            \n",
      "[100]\tvalid_0's rmse: 0.854731\tvalid_0's l2: 0.730565\tvalid_1's rmse: 0.796238\tvalid_1's l2: 0.633994           \n",
      "[200]\tvalid_0's rmse: 0.850693\tvalid_0's l2: 0.723678\tvalid_1's rmse: 0.734877\tvalid_1's l2: 0.540044           \n",
      "[300]\tvalid_0's rmse: 0.850245\tvalid_0's l2: 0.722916\tvalid_1's rmse: 0.690445\tvalid_1's l2: 0.476715           \n",
      "[100]\tvalid_0's rmse: 0.888745\tvalid_0's l2: 0.789868\tvalid_1's rmse: 0.790023\tvalid_1's l2: 0.624136           \n",
      "[200]\tvalid_0's rmse: 0.889156\tvalid_0's l2: 0.790599\tvalid_1's rmse: 0.729094\tvalid_1's l2: 0.531579           \n",
      " 12%|█████                                   | 25/200 [01:03<06:54,  2.37s/trial, best loss: 0.8742537413213181]"
     ]
    },
    {
     "name": "stderr",
     "output_type": "stream",
     "text": [
      "Score - 0.8833543897830866, Std - 0.02723129193917353, Eval Score - 0.8833543897830866\n",
      "Score across folds - [0.9150291074206014, 0.84854734230182, 0.8864867196268382].\n"
     ]
    },
    {
     "name": "stdout",
     "output_type": "stream",
     "text": [
      "\r\n",
      " 13%|█████▏                                  | 26/200 [01:03<06:15,  2.16s/trial, best loss: 0.8742537413213181]"
     ]
    },
    {
     "name": "stderr",
     "output_type": "stream",
     "text": [
      "\n",
      "Iteration: 27, Training with params: {'boosting_type': 'gbdt', 'colsample_bytree': 0.4, 'learning_rate': 0.1, 'min_child_samples': 40, 'n_estimators': 10000, 'n_jobs': -1, 'num_leaves': 16, 'objective': 'regression', 'subsample': 0.8, 'subsample_freq': 10}\n"
     ]
    },
    {
     "name": "stdout",
     "output_type": "stream",
     "text": [
      "[100]\tvalid_0's rmse: 0.919107\tvalid_0's l2: 0.844757\tvalid_1's rmse: 0.8594\tvalid_1's l2: 0.738569             \n",
      "[200]\tvalid_0's rmse: 0.908883\tvalid_0's l2: 0.826068\tvalid_1's rmse: 0.822666\tvalid_1's l2: 0.676779           \n",
      "[300]\tvalid_0's rmse: 0.908268\tvalid_0's l2: 0.824951\tvalid_1's rmse: 0.799167\tvalid_1's l2: 0.638668           \n",
      "[100]\tvalid_0's rmse: 0.862619\tvalid_0's l2: 0.744111\tvalid_1's rmse: 0.855122\tvalid_1's l2: 0.731234           \n",
      "[200]\tvalid_0's rmse: 0.843966\tvalid_0's l2: 0.712279\tvalid_1's rmse: 0.818456\tvalid_1's l2: 0.669871           \n",
      "[300]\tvalid_0's rmse: 0.840804\tvalid_0's l2: 0.706952\tvalid_1's rmse: 0.796693\tvalid_1's l2: 0.63472            \n",
      "[100]\tvalid_0's rmse: 0.888503\tvalid_0's l2: 0.789438\tvalid_1's rmse: 0.850636\tvalid_1's l2: 0.723581           \n",
      "[200]\tvalid_0's rmse: 0.876466\tvalid_0's l2: 0.768192\tvalid_1's rmse: 0.814647\tvalid_1's l2: 0.663649           \n",
      "[300]\tvalid_0's rmse: 0.875432\tvalid_0's l2: 0.766381\tvalid_1's rmse: 0.792736\tvalid_1's l2: 0.628431           \n",
      " 13%|█████▏                                  | 26/200 [01:04<06:15,  2.16s/trial, best loss: 0.8742537413213181]"
     ]
    },
    {
     "name": "stderr",
     "output_type": "stream",
     "text": [
      "Score - 0.873264361755271, Std - 0.02736171826078459, Eval Score - 0.873264361755271\n",
      "Score across folds - [0.9065594743252128, 0.839541324554964, 0.8736922863856363].\n"
     ]
    },
    {
     "name": "stdout",
     "output_type": "stream",
     "text": [
      "\r\n",
      " 14%|█████▌                                   | 27/200 [01:04<05:53,  2.04s/trial, best loss: 0.873264361755271]"
     ]
    },
    {
     "name": "stderr",
     "output_type": "stream",
     "text": [
      "\n",
      "Iteration: 28, Training with params: {'boosting_type': 'gbdt', 'colsample_bytree': 0.2, 'learning_rate': 0.1, 'min_child_samples': 80, 'n_estimators': 10000, 'n_jobs': -1, 'num_leaves': 32, 'objective': 'regression', 'subsample': 1.0, 'subsample_freq': 10}\n"
     ]
    },
    {
     "name": "stdout",
     "output_type": "stream",
     "text": [
      "[100]\tvalid_0's rmse: 0.936484\tvalid_0's l2: 0.877002\tvalid_1's rmse: 0.871883\tvalid_1's l2: 0.76018            \n",
      "[200]\tvalid_0's rmse: 0.917334\tvalid_0's l2: 0.841501\tvalid_1's rmse: 0.824161\tvalid_1's l2: 0.679242           \n",
      "[300]\tvalid_0's rmse: 0.913909\tvalid_0's l2: 0.835229\tvalid_1's rmse: 0.798224\tvalid_1's l2: 0.637161           \n",
      "[400]\tvalid_0's rmse: 0.912988\tvalid_0's l2: 0.833546\tvalid_1's rmse: 0.78054\tvalid_1's l2: 0.609243            \n",
      "[100]\tvalid_0's rmse: 0.88517\tvalid_0's l2: 0.783526\tvalid_1's rmse: 0.874802\tvalid_1's l2: 0.765279            \n",
      "[200]\tvalid_0's rmse: 0.858821\tvalid_0's l2: 0.737573\tvalid_1's rmse: 0.826566\tvalid_1's l2: 0.683211           \n",
      "[300]\tvalid_0's rmse: 0.847956\tvalid_0's l2: 0.719029\tvalid_1's rmse: 0.800293\tvalid_1's l2: 0.640469           \n",
      "[400]\tvalid_0's rmse: 0.842751\tvalid_0's l2: 0.71023\tvalid_1's rmse: 0.782092\tvalid_1's l2: 0.611668            \n",
      "[500]\tvalid_0's rmse: 0.841659\tvalid_0's l2: 0.70839\tvalid_1's rmse: 0.768999\tvalid_1's l2: 0.591359            \n",
      "[600]\tvalid_0's rmse: 0.842098\tvalid_0's l2: 0.70913\tvalid_1's rmse: 0.757134\tvalid_1's l2: 0.573252            \n",
      "[100]\tvalid_0's rmse: 0.912554\tvalid_0's l2: 0.832755\tvalid_1's rmse: 0.870692\tvalid_1's l2: 0.758104           \n",
      "[200]\tvalid_0's rmse: 0.884867\tvalid_0's l2: 0.78299\tvalid_1's rmse: 0.821823\tvalid_1's l2: 0.675393            \n",
      "[300]\tvalid_0's rmse: 0.879449\tvalid_0's l2: 0.77343\tvalid_1's rmse: 0.795463\tvalid_1's l2: 0.632761            \n",
      "[400]\tvalid_0's rmse: 0.878017\tvalid_0's l2: 0.770914\tvalid_1's rmse: 0.777075\tvalid_1's l2: 0.603845           \n",
      "[500]\tvalid_0's rmse: 0.877731\tvalid_0's l2: 0.770412\tvalid_1's rmse: 0.763407\tvalid_1's l2: 0.58279            \n",
      " 14%|█████▌                                   | 27/200 [01:07<05:53,  2.04s/trial, best loss: 0.873264361755271]"
     ]
    },
    {
     "name": "stderr",
     "output_type": "stream",
     "text": [
      "Score - 0.8766060972263016, Std - 0.029173866179410594, Eval Score - 0.8766060972263016\n",
      "Score across folds - [0.9122255368102227, 0.8407654777181099, 0.8768272771505724].\n"
     ]
    },
    {
     "name": "stdout",
     "output_type": "stream",
     "text": [
      "\r\n",
      " 14%|█████▋                                   | 28/200 [01:07<06:41,  2.34s/trial, best loss: 0.873264361755271]"
     ]
    },
    {
     "name": "stderr",
     "output_type": "stream",
     "text": [
      "\n",
      "Iteration: 29, Training with params: {'boosting_type': 'gbdt', 'colsample_bytree': 0.6000000000000001, 'learning_rate': 0.1, 'min_child_samples': 0, 'n_estimators': 10000, 'n_jobs': -1, 'num_leaves': 16, 'objective': 'regression', 'subsample': 0.8, 'subsample_freq': 10}\n"
     ]
    },
    {
     "name": "stdout",
     "output_type": "stream",
     "text": [
      "[100]\tvalid_0's rmse: 0.918226\tvalid_0's l2: 0.843139\tvalid_1's rmse: 0.841332\tvalid_1's l2: 0.70784            \n",
      "[200]\tvalid_0's rmse: 0.910563\tvalid_0's l2: 0.829125\tvalid_1's rmse: 0.79996\tvalid_1's l2: 0.639936            \n",
      "[100]\tvalid_0's rmse: 0.861095\tvalid_0's l2: 0.741485\tvalid_1's rmse: 0.844557\tvalid_1's l2: 0.713277           \n",
      "[200]\tvalid_0's rmse: 0.849645\tvalid_0's l2: 0.721896\tvalid_1's rmse: 0.802854\tvalid_1's l2: 0.644574           \n",
      "[300]\tvalid_0's rmse: 0.8554\tvalid_0's l2: 0.731709\tvalid_1's rmse: 0.773242\tvalid_1's l2: 0.597903             \n",
      "[100]\tvalid_0's rmse: 0.88641\tvalid_0's l2: 0.785723\tvalid_1's rmse: 0.841856\tvalid_1's l2: 0.708721            \n",
      "[200]\tvalid_0's rmse: 0.879909\tvalid_0's l2: 0.77424\tvalid_1's rmse: 0.800866\tvalid_1's l2: 0.641387            \n",
      "[300]\tvalid_0's rmse: 0.885807\tvalid_0's l2: 0.784654\tvalid_1's rmse: 0.77103\tvalid_1's l2: 0.594487            \n",
      " 14%|█████▋                                   | 28/200 [01:09<06:41,  2.34s/trial, best loss: 0.873264361755271]"
     ]
    },
    {
     "name": "stderr",
     "output_type": "stream",
     "text": [
      "Score - 0.8785746218359286, Std - 0.025437761925182933, Eval Score - 0.8785746218359286\n",
      "Score across folds - [0.9101467436243492, 0.8478546919863443, 0.8777224298970925].\n"
     ]
    },
    {
     "name": "stdout",
     "output_type": "stream",
     "text": [
      "\r\n",
      " 14%|█████▉                                   | 29/200 [01:09<05:57,  2.09s/trial, best loss: 0.873264361755271]"
     ]
    },
    {
     "name": "stderr",
     "output_type": "stream",
     "text": [
      "\n",
      "Iteration: 30, Training with params: {'boosting_type': 'gbdt', 'colsample_bytree': 0.8, 'learning_rate': 0.1, 'min_child_samples': 0, 'n_estimators': 10000, 'n_jobs': -1, 'num_leaves': 32, 'objective': 'regression', 'subsample': 1.0, 'subsample_freq': 10}\n"
     ]
    },
    {
     "name": "stdout",
     "output_type": "stream",
     "text": [
      "[100]\tvalid_0's rmse: 0.920654\tvalid_0's l2: 0.847604\tvalid_1's rmse: 0.784077\tvalid_1's l2: 0.614777           \n",
      "[200]\tvalid_0's rmse: 0.923955\tvalid_0's l2: 0.853692\tvalid_1's rmse: 0.721078\tvalid_1's l2: 0.519953           \n",
      "[100]\tvalid_0's rmse: 0.854792\tvalid_0's l2: 0.73067\tvalid_1's rmse: 0.787422\tvalid_1's l2: 0.620034            \n",
      "[200]\tvalid_0's rmse: 0.852536\tvalid_0's l2: 0.726817\tvalid_1's rmse: 0.727205\tvalid_1's l2: 0.528827           \n",
      "[300]\tvalid_0's rmse: 0.853529\tvalid_0's l2: 0.728511\tvalid_1's rmse: 0.680653\tvalid_1's l2: 0.463289           \n",
      "[100]\tvalid_0's rmse: 0.88442\tvalid_0's l2: 0.782199\tvalid_1's rmse: 0.784479\tvalid_1's l2: 0.615407            \n",
      " 14%|█████▉                                   | 29/200 [01:10<05:57,  2.09s/trial, best loss: 0.873264361755271]"
     ]
    },
    {
     "name": "stderr",
     "output_type": "stream",
     "text": [
      "Score - 0.8829999434265859, Std - 0.027393759264254223, Eval Score - 0.8829999434265859\n",
      "Score across folds - [0.9171847490277523, 0.8501222192973215, 0.881692861954684].\n"
     ]
    },
    {
     "name": "stdout",
     "output_type": "stream",
     "text": [
      "\r\n",
      " 15%|██████▏                                  | 30/200 [01:10<05:15,  1.86s/trial, best loss: 0.873264361755271]"
     ]
    },
    {
     "name": "stderr",
     "output_type": "stream",
     "text": [
      "\n",
      "Iteration: 31, Training with params: {'boosting_type': 'gbdt', 'colsample_bytree': 0.4, 'learning_rate': 0.1, 'min_child_samples': 40, 'n_estimators': 10000, 'n_jobs': -1, 'num_leaves': 16, 'objective': 'regression', 'subsample': 0.8, 'subsample_freq': 10}\n"
     ]
    },
    {
     "name": "stdout",
     "output_type": "stream",
     "text": [
      "[100]\tvalid_0's rmse: 0.919107\tvalid_0's l2: 0.844757\tvalid_1's rmse: 0.8594\tvalid_1's l2: 0.738569             \n",
      "[200]\tvalid_0's rmse: 0.908883\tvalid_0's l2: 0.826068\tvalid_1's rmse: 0.822666\tvalid_1's l2: 0.676779           \n",
      "[300]\tvalid_0's rmse: 0.908268\tvalid_0's l2: 0.824951\tvalid_1's rmse: 0.799167\tvalid_1's l2: 0.638668           \n",
      "[100]\tvalid_0's rmse: 0.862619\tvalid_0's l2: 0.744111\tvalid_1's rmse: 0.855122\tvalid_1's l2: 0.731234           \n",
      "[200]\tvalid_0's rmse: 0.843966\tvalid_0's l2: 0.712279\tvalid_1's rmse: 0.818456\tvalid_1's l2: 0.669871           \n",
      "[300]\tvalid_0's rmse: 0.840804\tvalid_0's l2: 0.706952\tvalid_1's rmse: 0.796693\tvalid_1's l2: 0.63472            \n",
      "[100]\tvalid_0's rmse: 0.888503\tvalid_0's l2: 0.789438\tvalid_1's rmse: 0.850636\tvalid_1's l2: 0.723581           \n",
      "[200]\tvalid_0's rmse: 0.876466\tvalid_0's l2: 0.768192\tvalid_1's rmse: 0.814647\tvalid_1's l2: 0.663649           \n",
      "[300]\tvalid_0's rmse: 0.875432\tvalid_0's l2: 0.766381\tvalid_1's rmse: 0.792736\tvalid_1's l2: 0.628431           \n",
      " 15%|██████▏                                  | 30/200 [01:12<05:15,  1.86s/trial, best loss: 0.873264361755271]"
     ]
    },
    {
     "name": "stderr",
     "output_type": "stream",
     "text": [
      "Score - 0.873264361755271, Std - 0.02736171826078459, Eval Score - 0.873264361755271\n",
      "Score across folds - [0.9065594743252128, 0.839541324554964, 0.8736922863856363].\n"
     ]
    },
    {
     "name": "stdout",
     "output_type": "stream",
     "text": [
      "\r\n",
      " 16%|██████▎                                  | 31/200 [01:12<05:10,  1.83s/trial, best loss: 0.873264361755271]"
     ]
    },
    {
     "name": "stderr",
     "output_type": "stream",
     "text": [
      "\n",
      "Iteration: 32, Training with params: {'boosting_type': 'gbdt', 'colsample_bytree': 0.2, 'learning_rate': 0.1, 'min_child_samples': 160, 'n_estimators': 10000, 'n_jobs': -1, 'num_leaves': 16, 'objective': 'regression', 'subsample': 0.8, 'subsample_freq': 10}\n"
     ]
    },
    {
     "name": "stdout",
     "output_type": "stream",
     "text": [
      "[100]\tvalid_0's rmse: 0.945379\tvalid_0's l2: 0.893741\tvalid_1's rmse: 0.897455\tvalid_1's l2: 0.805426           \n",
      "[200]\tvalid_0's rmse: 0.922313\tvalid_0's l2: 0.850661\tvalid_1's rmse: 0.857821\tvalid_1's l2: 0.735857           \n",
      "[300]\tvalid_0's rmse: 0.916625\tvalid_0's l2: 0.840201\tvalid_1's rmse: 0.838249\tvalid_1's l2: 0.702661           \n",
      "[400]\tvalid_0's rmse: 0.913158\tvalid_0's l2: 0.833857\tvalid_1's rmse: 0.825657\tvalid_1's l2: 0.681709           \n",
      "[500]\tvalid_0's rmse: 0.912446\tvalid_0's l2: 0.832558\tvalid_1's rmse: 0.816557\tvalid_1's l2: 0.666766           \n",
      "[600]\tvalid_0's rmse: 0.909798\tvalid_0's l2: 0.827733\tvalid_1's rmse: 0.808224\tvalid_1's l2: 0.653226           \n",
      "[700]\tvalid_0's rmse: 0.911109\tvalid_0's l2: 0.830119\tvalid_1's rmse: 0.801694\tvalid_1's l2: 0.642713           \n",
      "[100]\tvalid_0's rmse: 0.897685\tvalid_0's l2: 0.805838\tvalid_1's rmse: 0.899807\tvalid_1's l2: 0.809653           \n",
      "[200]\tvalid_0's rmse: 0.867667\tvalid_0's l2: 0.752846\tvalid_1's rmse: 0.861711\tvalid_1's l2: 0.742545           \n",
      "[300]\tvalid_0's rmse: 0.854087\tvalid_0's l2: 0.729465\tvalid_1's rmse: 0.842069\tvalid_1's l2: 0.70908            \n",
      "[400]\tvalid_0's rmse: 0.84933\tvalid_0's l2: 0.721362\tvalid_1's rmse: 0.829449\tvalid_1's l2: 0.687986            \n",
      "[500]\tvalid_0's rmse: 0.845004\tvalid_0's l2: 0.714031\tvalid_1's rmse: 0.820759\tvalid_1's l2: 0.673645           \n",
      "[600]\tvalid_0's rmse: 0.84405\tvalid_0's l2: 0.712421\tvalid_1's rmse: 0.812164\tvalid_1's l2: 0.65961             \n",
      "[100]\tvalid_0's rmse: 0.924899\tvalid_0's l2: 0.855438\tvalid_1's rmse: 0.895101\tvalid_1's l2: 0.801205           \n",
      "[200]\tvalid_0's rmse: 0.89378\tvalid_0's l2: 0.798842\tvalid_1's rmse: 0.85501\tvalid_1's l2: 0.731041             \n",
      "[300]\tvalid_0's rmse: 0.883482\tvalid_0's l2: 0.780541\tvalid_1's rmse: 0.835241\tvalid_1's l2: 0.697628           \n",
      "[400]\tvalid_0's rmse: 0.879778\tvalid_0's l2: 0.77401\tvalid_1's rmse: 0.82195\tvalid_1's l2: 0.675602             \n",
      "[500]\tvalid_0's rmse: 0.879498\tvalid_0's l2: 0.773517\tvalid_1's rmse: 0.81295\tvalid_1's l2: 0.660887            \n",
      "[600]\tvalid_0's rmse: 0.878697\tvalid_0's l2: 0.772109\tvalid_1's rmse: 0.805036\tvalid_1's l2: 0.648083           \n",
      "[700]\tvalid_0's rmse: 0.878391\tvalid_0's l2: 0.77157\tvalid_1's rmse: 0.797918\tvalid_1's l2: 0.636673            \n",
      " 16%|██████▎                                  | 31/200 [01:15<05:10,  1.83s/trial, best loss: 0.873264361755271]"
     ]
    },
    {
     "name": "stderr",
     "output_type": "stream",
     "text": [
      "Score - 0.8769581179196534, Std - 0.02667853049727047, Eval Score - 0.8769581179196534\n",
      "Score across folds - [0.9091395582377674, 0.8438121299957844, 0.8779226655254084].\n"
     ]
    },
    {
     "name": "stdout",
     "output_type": "stream",
     "text": [
      "\r\n",
      " 16%|██████▌                                  | 32/200 [01:16<06:32,  2.34s/trial, best loss: 0.873264361755271]"
     ]
    },
    {
     "name": "stderr",
     "output_type": "stream",
     "text": [
      "\n",
      "Iteration: 33, Training with params: {'boosting_type': 'gbdt', 'colsample_bytree': 0.6000000000000001, 'learning_rate': 0.1, 'min_child_samples': 80, 'n_estimators': 10000, 'n_jobs': -1, 'num_leaves': 16, 'objective': 'regression', 'subsample': 1.0, 'subsample_freq': 10}\n"
     ]
    },
    {
     "name": "stdout",
     "output_type": "stream",
     "text": [
      "[100]\tvalid_0's rmse: 0.915266\tvalid_0's l2: 0.837711\tvalid_1's rmse: 0.843857\tvalid_1's l2: 0.712095           \n",
      "[200]\tvalid_0's rmse: 0.911989\tvalid_0's l2: 0.831724\tvalid_1's rmse: 0.809979\tvalid_1's l2: 0.656066           \n",
      "[300]\tvalid_0's rmse: 0.916349\tvalid_0's l2: 0.839695\tvalid_1's rmse: 0.789532\tvalid_1's l2: 0.623361           \n",
      "[100]\tvalid_0's rmse: 0.85699\tvalid_0's l2: 0.734431\tvalid_1's rmse: 0.846778\tvalid_1's l2: 0.717033            \n",
      "[200]\tvalid_0's rmse: 0.845113\tvalid_0's l2: 0.714215\tvalid_1's rmse: 0.813372\tvalid_1's l2: 0.661574           \n",
      "[300]\tvalid_0's rmse: 0.83949\tvalid_0's l2: 0.704744\tvalid_1's rmse: 0.792219\tvalid_1's l2: 0.627611            \n",
      "[400]\tvalid_0's rmse: 0.839461\tvalid_0's l2: 0.704694\tvalid_1's rmse: 0.774059\tvalid_1's l2: 0.599167           \n",
      "[100]\tvalid_0's rmse: 0.882648\tvalid_0's l2: 0.779067\tvalid_1's rmse: 0.842625\tvalid_1's l2: 0.710017           \n",
      "[200]\tvalid_0's rmse: 0.874626\tvalid_0's l2: 0.76497\tvalid_1's rmse: 0.809785\tvalid_1's l2: 0.655751            \n",
      "[300]\tvalid_0's rmse: 0.873064\tvalid_0's l2: 0.762241\tvalid_1's rmse: 0.78723\tvalid_1's l2: 0.619731            \n",
      "[400]\tvalid_0's rmse: 0.873664\tvalid_0's l2: 0.763289\tvalid_1's rmse: 0.770162\tvalid_1's l2: 0.59315            \n",
      " 16%|██████▌                                  | 32/200 [01:17<06:32,  2.34s/trial, best loss: 0.873264361755271]"
     ]
    },
    {
     "name": "stderr",
     "output_type": "stream",
     "text": [
      "Score - 0.8743753649463745, Std - 0.029596868571151905, Eval Score - 0.8743753649463745\n",
      "Score across folds - [0.9117292373523915, 0.8393436708413575, 0.8720531866453741].\n"
     ]
    },
    {
     "name": "stdout",
     "output_type": "stream",
     "text": [
      "\r\n",
      " 16%|██████▊                                  | 33/200 [01:17<05:56,  2.13s/trial, best loss: 0.873264361755271]"
     ]
    },
    {
     "name": "stderr",
     "output_type": "stream",
     "text": [
      "\n",
      "Iteration: 34, Training with params: {'boosting_type': 'gbdt', 'colsample_bytree': 0.4, 'learning_rate': 0.1, 'min_child_samples': 0, 'n_estimators': 10000, 'n_jobs': -1, 'num_leaves': 32, 'objective': 'regression', 'subsample': 0.8, 'subsample_freq': 10}\n"
     ]
    },
    {
     "name": "stdout",
     "output_type": "stream",
     "text": [
      "[100]\tvalid_0's rmse: 0.920978\tvalid_0's l2: 0.8482\tvalid_1's rmse: 0.805707\tvalid_1's l2: 0.649164             \n",
      "[200]\tvalid_0's rmse: 0.922872\tvalid_0's l2: 0.851693\tvalid_1's rmse: 0.747307\tvalid_1's l2: 0.558468           \n",
      "[100]\tvalid_0's rmse: 0.857614\tvalid_0's l2: 0.735501\tvalid_1's rmse: 0.809627\tvalid_1's l2: 0.655495           \n",
      "[200]\tvalid_0's rmse: 0.844262\tvalid_0's l2: 0.712779\tvalid_1's rmse: 0.75341\tvalid_1's l2: 0.567627            \n",
      "[300]\tvalid_0's rmse: 0.844241\tvalid_0's l2: 0.712743\tvalid_1's rmse: 0.711292\tvalid_1's l2: 0.505936           \n",
      "[100]\tvalid_0's rmse: 0.881093\tvalid_0's l2: 0.776325\tvalid_1's rmse: 0.805676\tvalid_1's l2: 0.649114           \n",
      "[200]\tvalid_0's rmse: 0.878088\tvalid_0's l2: 0.771039\tvalid_1's rmse: 0.74613\tvalid_1's l2: 0.55671             \n",
      " 16%|██████▊                                  | 33/200 [01:19<05:56,  2.13s/trial, best loss: 0.873264361755271]"
     ]
    },
    {
     "name": "stderr",
     "output_type": "stream",
     "text": [
      "Score - 0.8790608723583592, Std - 0.0312751483590668, Eval Score - 0.8790608723583592\n",
      "Score across folds - [0.9193132534237032, 0.8430598047789126, 0.8748095588724616].\n"
     ]
    },
    {
     "name": "stdout",
     "output_type": "stream",
     "text": [
      "\r\n",
      " 17%|██████▉                                  | 34/200 [01:19<05:32,  2.00s/trial, best loss: 0.873264361755271]"
     ]
    },
    {
     "name": "stderr",
     "output_type": "stream",
     "text": [
      "\n",
      "Iteration: 35, Training with params: {'boosting_type': 'gbdt', 'colsample_bytree': 0.6000000000000001, 'learning_rate': 0.1, 'min_child_samples': 40, 'n_estimators': 10000, 'n_jobs': -1, 'num_leaves': 16, 'objective': 'regression', 'subsample': 1.0, 'subsample_freq': 10}\n"
     ]
    },
    {
     "name": "stdout",
     "output_type": "stream",
     "text": [
      "[100]\tvalid_0's rmse: 0.915694\tvalid_0's l2: 0.838496\tvalid_1's rmse: 0.840955\tvalid_1's l2: 0.707206           \n",
      "[200]\tvalid_0's rmse: 0.911245\tvalid_0's l2: 0.830367\tvalid_1's rmse: 0.805692\tvalid_1's l2: 0.649139           \n",
      "[300]\tvalid_0's rmse: 0.914198\tvalid_0's l2: 0.835759\tvalid_1's rmse: 0.780792\tvalid_1's l2: 0.609636           \n",
      "[100]\tvalid_0's rmse: 0.860451\tvalid_0's l2: 0.740375\tvalid_1's rmse: 0.845593\tvalid_1's l2: 0.715027           \n",
      "[200]\tvalid_0's rmse: 0.848063\tvalid_0's l2: 0.719211\tvalid_1's rmse: 0.809161\tvalid_1's l2: 0.654742           \n",
      "[300]\tvalid_0's rmse: 0.843374\tvalid_0's l2: 0.711279\tvalid_1's rmse: 0.786003\tvalid_1's l2: 0.617801           \n",
      "[400]\tvalid_0's rmse: 0.842279\tvalid_0's l2: 0.709435\tvalid_1's rmse: 0.766333\tvalid_1's l2: 0.587266           \n",
      "[500]\tvalid_0's rmse: 0.842876\tvalid_0's l2: 0.71044\tvalid_1's rmse: 0.749563\tvalid_1's l2: 0.561845            \n",
      "[100]\tvalid_0's rmse: 0.886485\tvalid_0's l2: 0.785856\tvalid_1's rmse: 0.841728\tvalid_1's l2: 0.708507           \n",
      "[200]\tvalid_0's rmse: 0.880327\tvalid_0's l2: 0.774975\tvalid_1's rmse: 0.806927\tvalid_1's l2: 0.651131           \n",
      " 17%|██████▉                                  | 34/200 [01:20<05:32,  2.00s/trial, best loss: 0.873264361755271]"
     ]
    },
    {
     "name": "stderr",
     "output_type": "stream",
     "text": [
      "Score - 0.8766584748072095, Std - 0.028504597418338884, Eval Score - 0.8766584748072095\n",
      "Score across folds - [0.9111715521713009, 0.8413629857921333, 0.8774408864581942].\n"
     ]
    },
    {
     "name": "stdout",
     "output_type": "stream",
     "text": [
      "\r\n",
      " 18%|███████▏                                 | 35/200 [01:21<05:09,  1.87s/trial, best loss: 0.873264361755271]"
     ]
    },
    {
     "name": "stderr",
     "output_type": "stream",
     "text": [
      "\n",
      "Iteration: 36, Training with params: {'boosting_type': 'gbdt', 'colsample_bytree': 0.4, 'learning_rate': 0.1, 'min_child_samples': 80, 'n_estimators': 10000, 'n_jobs': -1, 'num_leaves': 32, 'objective': 'regression', 'subsample': 0.8, 'subsample_freq': 10}\n"
     ]
    },
    {
     "name": "stdout",
     "output_type": "stream",
     "text": [
      "[100]\tvalid_0's rmse: 0.916459\tvalid_0's l2: 0.839897\tvalid_1's rmse: 0.829125\tvalid_1's l2: 0.687448           \n",
      "[200]\tvalid_0's rmse: 0.915018\tvalid_0's l2: 0.837259\tvalid_1's rmse: 0.78735\tvalid_1's l2: 0.619921            \n",
      "[100]\tvalid_0's rmse: 0.853413\tvalid_0's l2: 0.728314\tvalid_1's rmse: 0.832709\tvalid_1's l2: 0.693404           \n",
      "[200]\tvalid_0's rmse: 0.841861\tvalid_0's l2: 0.708729\tvalid_1's rmse: 0.790485\tvalid_1's l2: 0.624866           \n",
      "[300]\tvalid_0's rmse: 0.836768\tvalid_0's l2: 0.700181\tvalid_1's rmse: 0.761391\tvalid_1's l2: 0.579716           \n",
      "[400]\tvalid_0's rmse: 0.839422\tvalid_0's l2: 0.704629\tvalid_1's rmse: 0.73942\tvalid_1's l2: 0.546741            \n",
      "[100]\tvalid_0's rmse: 0.881022\tvalid_0's l2: 0.776199\tvalid_1's rmse: 0.826386\tvalid_1's l2: 0.682914           \n",
      "[200]\tvalid_0's rmse: 0.872074\tvalid_0's l2: 0.760513\tvalid_1's rmse: 0.78532\tvalid_1's l2: 0.616727            \n",
      "[300]\tvalid_0's rmse: 0.875892\tvalid_0's l2: 0.767186\tvalid_1's rmse: 0.75592\tvalid_1's l2: 0.571415            \n",
      " 18%|███████▏                                 | 35/200 [01:23<05:09,  1.87s/trial, best loss: 0.873264361755271]"
     ]
    },
    {
     "name": "stderr",
     "output_type": "stream",
     "text": [
      "Score - 0.8741283910450193, Std - 0.03188135350122011, Eval Score - 0.8741283910450193\n",
      "Score across folds - [0.9141617016501965, 0.8361497875436218, 0.8720736839412394].\n"
     ]
    },
    {
     "name": "stdout",
     "output_type": "stream",
     "text": [
      "\r\n",
      " 18%|███████▍                                 | 36/200 [01:23<05:26,  1.99s/trial, best loss: 0.873264361755271]"
     ]
    },
    {
     "name": "stderr",
     "output_type": "stream",
     "text": [
      "\n",
      "Iteration: 37, Training with params: {'boosting_type': 'gbdt', 'colsample_bytree': 0.2, 'learning_rate': 0.1, 'min_child_samples': 40, 'n_estimators': 10000, 'n_jobs': -1, 'num_leaves': 32, 'objective': 'regression', 'subsample': 1.0, 'subsample_freq': 10}\n"
     ]
    },
    {
     "name": "stdout",
     "output_type": "stream",
     "text": [
      "[100]\tvalid_0's rmse: 0.933319\tvalid_0's l2: 0.871085\tvalid_1's rmse: 0.866881\tvalid_1's l2: 0.751482           \n",
      "[200]\tvalid_0's rmse: 0.916396\tvalid_0's l2: 0.839782\tvalid_1's rmse: 0.817372\tvalid_1's l2: 0.668097           \n",
      "[300]\tvalid_0's rmse: 0.910833\tvalid_0's l2: 0.829616\tvalid_1's rmse: 0.789061\tvalid_1's l2: 0.622618           \n",
      "[400]\tvalid_0's rmse: 0.909702\tvalid_0's l2: 0.827558\tvalid_1's rmse: 0.769815\tvalid_1's l2: 0.592616           \n",
      "[100]\tvalid_0's rmse: 0.894426\tvalid_0's l2: 0.799999\tvalid_1's rmse: 0.877092\tvalid_1's l2: 0.769291           \n",
      "[200]\tvalid_0's rmse: 0.860054\tvalid_0's l2: 0.739693\tvalid_1's rmse: 0.824481\tvalid_1's l2: 0.679769           \n",
      "[300]\tvalid_0's rmse: 0.851261\tvalid_0's l2: 0.724645\tvalid_1's rmse: 0.797807\tvalid_1's l2: 0.636496           \n",
      "[400]\tvalid_0's rmse: 0.847788\tvalid_0's l2: 0.718745\tvalid_1's rmse: 0.775837\tvalid_1's l2: 0.601923           \n",
      "[100]\tvalid_0's rmse: 0.921674\tvalid_0's l2: 0.849482\tvalid_1's rmse: 0.873638\tvalid_1's l2: 0.763243           \n",
      "[200]\tvalid_0's rmse: 0.888803\tvalid_0's l2: 0.789971\tvalid_1's rmse: 0.820302\tvalid_1's l2: 0.672896           \n",
      "[300]\tvalid_0's rmse: 0.879075\tvalid_0's l2: 0.772772\tvalid_1's rmse: 0.792728\tvalid_1's l2: 0.628418           \n",
      "[400]\tvalid_0's rmse: 0.875858\tvalid_0's l2: 0.767128\tvalid_1's rmse: 0.769866\tvalid_1's l2: 0.592694           \n",
      " 18%|███████▍                                 | 36/200 [01:25<05:26,  1.99s/trial, best loss: 0.873264361755271]"
     ]
    },
    {
     "name": "stderr",
     "output_type": "stream",
     "text": [
      "Score - 0.8771805884160987, Std - 0.025534027857713776, Eval Score - 0.8771805884160987\n",
      "Score across folds - [0.9091709048178108, 0.8466787210658002, 0.8756921393646853].\n"
     ]
    },
    {
     "name": "stdout",
     "output_type": "stream",
     "text": [
      "\r\n",
      " 18%|███████▌                                 | 37/200 [01:25<05:54,  2.18s/trial, best loss: 0.873264361755271]"
     ]
    },
    {
     "name": "stderr",
     "output_type": "stream",
     "text": [
      "\n",
      "Iteration: 38, Training with params: {'boosting_type': 'gbdt', 'colsample_bytree': 0.4, 'learning_rate': 0.1, 'min_child_samples': 0, 'n_estimators': 10000, 'n_jobs': -1, 'num_leaves': 64, 'objective': 'regression', 'subsample': 0.8, 'subsample_freq': 10}\n"
     ]
    },
    {
     "name": "stdout",
     "output_type": "stream",
     "text": [
      "[100]\tvalid_0's rmse: 0.921602\tvalid_0's l2: 0.84935\tvalid_1's rmse: 0.743506\tvalid_1's l2: 0.552801            \n",
      "[200]\tvalid_0's rmse: 0.925276\tvalid_0's l2: 0.856136\tvalid_1's rmse: 0.659426\tvalid_1's l2: 0.434843           \n",
      "[100]\tvalid_0's rmse: 0.863348\tvalid_0's l2: 0.745369\tvalid_1's rmse: 0.745195\tvalid_1's l2: 0.555315           \n",
      "[200]\tvalid_0's rmse: 0.85826\tvalid_0's l2: 0.736611\tvalid_1's rmse: 0.661061\tvalid_1's l2: 0.437002            \n",
      "[100]\tvalid_0's rmse: 0.891622\tvalid_0's l2: 0.79499\tvalid_1's rmse: 0.741313\tvalid_1's l2: 0.549545            \n",
      "[200]\tvalid_0's rmse: 0.891151\tvalid_0's l2: 0.79415\tvalid_1's rmse: 0.658236\tvalid_1's l2: 0.433275            \n",
      " 18%|███████▌                                 | 37/200 [01:28<05:54,  2.18s/trial, best loss: 0.873264361755271]"
     ]
    },
    {
     "name": "stderr",
     "output_type": "stream",
     "text": [
      "Score - 0.8881472626788199, Std - 0.025648759230645003, Eval Score - 0.8881472626788199\n",
      "Score across folds - [0.920043279341188, 0.8572402648793312, 0.8871582438159403].\n"
     ]
    },
    {
     "name": "stdout",
     "output_type": "stream",
     "text": [
      "\r\n",
      " 19%|███████▊                                 | 38/200 [01:28<06:05,  2.26s/trial, best loss: 0.873264361755271]"
     ]
    },
    {
     "name": "stderr",
     "output_type": "stream",
     "text": [
      "\n",
      "Iteration: 39, Training with params: {'boosting_type': 'gbdt', 'colsample_bytree': 0.8, 'learning_rate': 0.1, 'min_child_samples': 160, 'n_estimators': 10000, 'n_jobs': -1, 'num_leaves': 16, 'objective': 'regression', 'subsample': 1.0, 'subsample_freq': 10}\n"
     ]
    },
    {
     "name": "stdout",
     "output_type": "stream",
     "text": [
      "[100]\tvalid_0's rmse: 0.917115\tvalid_0's l2: 0.841099\tvalid_1's rmse: 0.844193\tvalid_1's l2: 0.712663           \n",
      "[200]\tvalid_0's rmse: 0.913592\tvalid_0's l2: 0.834651\tvalid_1's rmse: 0.812322\tvalid_1's l2: 0.659867           \n",
      "[300]\tvalid_0's rmse: 0.91467\tvalid_0's l2: 0.836621\tvalid_1's rmse: 0.793718\tvalid_1's l2: 0.629989            \n",
      "[100]\tvalid_0's rmse: 0.855078\tvalid_0's l2: 0.731158\tvalid_1's rmse: 0.847318\tvalid_1's l2: 0.717948           \n",
      "[200]\tvalid_0's rmse: 0.842095\tvalid_0's l2: 0.709125\tvalid_1's rmse: 0.816686\tvalid_1's l2: 0.666976           \n",
      "[300]\tvalid_0's rmse: 0.838449\tvalid_0's l2: 0.702996\tvalid_1's rmse: 0.797025\tvalid_1's l2: 0.63525            \n",
      "[400]\tvalid_0's rmse: 0.837074\tvalid_0's l2: 0.700694\tvalid_1's rmse: 0.782228\tvalid_1's l2: 0.611881           \n",
      "[500]\tvalid_0's rmse: 0.837105\tvalid_0's l2: 0.700744\tvalid_1's rmse: 0.768998\tvalid_1's l2: 0.591358           \n",
      "[100]\tvalid_0's rmse: 0.879874\tvalid_0's l2: 0.774179\tvalid_1's rmse: 0.842517\tvalid_1's l2: 0.709835           \n",
      "[200]\tvalid_0's rmse: 0.871824\tvalid_0's l2: 0.760078\tvalid_1's rmse: 0.811681\tvalid_1's l2: 0.658827           \n",
      "[300]\tvalid_0's rmse: 0.870039\tvalid_0's l2: 0.756967\tvalid_1's rmse: 0.792452\tvalid_1's l2: 0.627979           \n",
      " 19%|███████▊                                 | 38/200 [01:29<06:05,  2.26s/trial, best loss: 0.873264361755271]"
     ]
    },
    {
     "name": "stderr",
     "output_type": "stream",
     "text": [
      "Score - 0.8726936548579755, Std - 0.03154146545988049, Eval Score - 0.8726936548579755\n",
      "Score across folds - [0.9127151257961247, 0.8356239785368019, 0.869741860241].\n"
     ]
    },
    {
     "name": "stdout",
     "output_type": "stream",
     "text": [
      "\r\n",
      " 20%|███████▊                                | 39/200 [01:30<05:40,  2.11s/trial, best loss: 0.8726936548579755]"
     ]
    },
    {
     "name": "stderr",
     "output_type": "stream",
     "text": [
      "\n",
      "Iteration: 40, Training with params: {'boosting_type': 'gbdt', 'colsample_bytree': 1.0, 'learning_rate': 0.1, 'min_child_samples': 160, 'n_estimators': 10000, 'n_jobs': -1, 'num_leaves': 32, 'objective': 'regression', 'subsample': 1.0, 'subsample_freq': 10}\n"
     ]
    },
    {
     "name": "stdout",
     "output_type": "stream",
     "text": [
      "[100]\tvalid_0's rmse: 0.917979\tvalid_0's l2: 0.842686\tvalid_1's rmse: 0.806029\tvalid_1's l2: 0.649683           \n",
      "[100]\tvalid_0's rmse: 0.847889\tvalid_0's l2: 0.718916\tvalid_1's rmse: 0.80799\tvalid_1's l2: 0.652848            \n",
      "[200]\tvalid_0's rmse: 0.840823\tvalid_0's l2: 0.706983\tvalid_1's rmse: 0.768684\tvalid_1's l2: 0.590875           \n",
      "[300]\tvalid_0's rmse: 0.839888\tvalid_0's l2: 0.705412\tvalid_1's rmse: 0.739822\tvalid_1's l2: 0.547337           \n",
      "[100]\tvalid_0's rmse: 0.881754\tvalid_0's l2: 0.77749\tvalid_1's rmse: 0.80444\tvalid_1's l2: 0.647123             \n",
      "[200]\tvalid_0's rmse: 0.879635\tvalid_0's l2: 0.773758\tvalid_1's rmse: 0.762751\tvalid_1's l2: 0.581789           \n",
      " 20%|███████▊                                | 39/200 [01:31<05:40,  2.11s/trial, best loss: 0.8726936548579755]"
     ]
    },
    {
     "name": "stderr",
     "output_type": "stream",
     "text": [
      "Score - 0.8783851011541013, Std - 0.03154114723713183, Eval Score - 0.8783851011541013\n",
      "Score across folds - [0.9167291721677987, 0.8394756616354774, 0.8789504696590277].\n"
     ]
    },
    {
     "name": "stdout",
     "output_type": "stream",
     "text": [
      "\r\n",
      " 20%|████████                                | 40/200 [01:31<05:20,  2.00s/trial, best loss: 0.8726936548579755]"
     ]
    },
    {
     "name": "stderr",
     "output_type": "stream",
     "text": [
      "\n",
      "Iteration: 41, Training with params: {'boosting_type': 'gbdt', 'colsample_bytree': 0.8, 'learning_rate': 0.1, 'min_child_samples': 200, 'n_estimators': 10000, 'n_jobs': -1, 'num_leaves': 16, 'objective': 'regression', 'subsample': 1.0, 'subsample_freq': 10}\n"
     ]
    },
    {
     "name": "stdout",
     "output_type": "stream",
     "text": [
      "[100]\tvalid_0's rmse: 0.91664\tvalid_0's l2: 0.840229\tvalid_1's rmse: 0.846491\tvalid_1's l2: 0.716547            \n",
      "[200]\tvalid_0's rmse: 0.912589\tvalid_0's l2: 0.832818\tvalid_1's rmse: 0.816314\tvalid_1's l2: 0.666369           \n",
      "[300]\tvalid_0's rmse: 0.913349\tvalid_0's l2: 0.834206\tvalid_1's rmse: 0.797835\tvalid_1's l2: 0.63654            \n",
      "[100]\tvalid_0's rmse: 0.854518\tvalid_0's l2: 0.730201\tvalid_1's rmse: 0.847883\tvalid_1's l2: 0.718906           \n",
      "[200]\tvalid_0's rmse: 0.842258\tvalid_0's l2: 0.709399\tvalid_1's rmse: 0.818631\tvalid_1's l2: 0.670157           \n",
      "[300]\tvalid_0's rmse: 0.839918\tvalid_0's l2: 0.705462\tvalid_1's rmse: 0.80188\tvalid_1's l2: 0.643012            \n",
      "[400]\tvalid_0's rmse: 0.838073\tvalid_0's l2: 0.702366\tvalid_1's rmse: 0.788481\tvalid_1's l2: 0.621703           \n",
      "[500]\tvalid_0's rmse: 0.837295\tvalid_0's l2: 0.701062\tvalid_1's rmse: 0.778117\tvalid_1's l2: 0.605466           \n",
      "[100]\tvalid_0's rmse: 0.880129\tvalid_0's l2: 0.774627\tvalid_1's rmse: 0.843327\tvalid_1's l2: 0.711201           \n",
      "[200]\tvalid_0's rmse: 0.87235\tvalid_0's l2: 0.760995\tvalid_1's rmse: 0.81389\tvalid_1's l2: 0.662417             \n",
      "[300]\tvalid_0's rmse: 0.870723\tvalid_0's l2: 0.758158\tvalid_1's rmse: 0.797602\tvalid_1's l2: 0.636169           \n",
      "[400]\tvalid_0's rmse: 0.87103\tvalid_0's l2: 0.758693\tvalid_1's rmse: 0.782849\tvalid_1's l2: 0.612853            \n",
      "[500]\tvalid_0's rmse: 0.870716\tvalid_0's l2: 0.758147\tvalid_1's rmse: 0.771806\tvalid_1's l2: 0.595685           \n",
      " 20%|████████                                | 40/200 [01:33<05:20,  2.00s/trial, best loss: 0.8726936548579755]"
     ]
    },
    {
     "name": "stderr",
     "output_type": "stream",
     "text": [
      "Score - 0.8727322838250232, Std - 0.030765774877321062, Eval Score - 0.8727322838250232\n",
      "Score across folds - [0.9119034554769417, 0.8367450566401953, 0.869548339357933].\n"
     ]
    },
    {
     "name": "stdout",
     "output_type": "stream",
     "text": [
      "\r\n",
      " 20%|████████▏                               | 41/200 [01:33<05:22,  2.03s/trial, best loss: 0.8726936548579755]"
     ]
    },
    {
     "name": "stderr",
     "output_type": "stream",
     "text": [
      "\n",
      "Iteration: 42, Training with params: {'boosting_type': 'gbdt', 'colsample_bytree': 0.8, 'learning_rate': 0.1, 'min_child_samples': 200, 'n_estimators': 10000, 'n_jobs': -1, 'num_leaves': 32, 'objective': 'regression', 'subsample': 0.4, 'subsample_freq': 10}\n"
     ]
    },
    {
     "name": "stdout",
     "output_type": "stream",
     "text": [
      "[100]\tvalid_0's rmse: 0.926962\tvalid_0's l2: 0.859258\tvalid_1's rmse: 0.843653\tvalid_1's l2: 0.71175            \n",
      "[200]\tvalid_0's rmse: 0.930167\tvalid_0's l2: 0.86521\tvalid_1's rmse: 0.810417\tvalid_1's l2: 0.656776            \n",
      "[100]\tvalid_0's rmse: 0.867151\tvalid_0's l2: 0.751951\tvalid_1's rmse: 0.846413\tvalid_1's l2: 0.716415           \n",
      "[200]\tvalid_0's rmse: 0.861674\tvalid_0's l2: 0.742482\tvalid_1's rmse: 0.814671\tvalid_1's l2: 0.663688           \n",
      "[300]\tvalid_0's rmse: 0.861304\tvalid_0's l2: 0.741844\tvalid_1's rmse: 0.792787\tvalid_1's l2: 0.628511           \n",
      "[100]\tvalid_0's rmse: 0.89522\tvalid_0's l2: 0.80142\tvalid_1's rmse: 0.841908\tvalid_1's l2: 0.708808             \n",
      "[200]\tvalid_0's rmse: 0.891033\tvalid_0's l2: 0.793939\tvalid_1's rmse: 0.810305\tvalid_1's l2: 0.656593           \n",
      " 20%|████████▏                               | 41/200 [01:35<05:22,  2.03s/trial, best loss: 0.8726936548579755]"
     ]
    },
    {
     "name": "stderr",
     "output_type": "stream",
     "text": [
      "Score - 0.8901549466485209, Std - 0.028175579455658198, Eval Score - 0.8901549466485209\n",
      "Score across folds - [0.9253556941758349, 0.8563843704547183, 0.8887247753150099].\n"
     ]
    },
    {
     "name": "stdout",
     "output_type": "stream",
     "text": [
      "\r\n",
      " 21%|████████▍                               | 42/200 [01:35<05:16,  2.01s/trial, best loss: 0.8726936548579755]"
     ]
    },
    {
     "name": "stderr",
     "output_type": "stream",
     "text": [
      "\n",
      "Iteration: 43, Training with params: {'boosting_type': 'gbdt', 'colsample_bytree': 1.0, 'learning_rate': 0.1, 'min_child_samples': 200, 'n_estimators': 10000, 'n_jobs': -1, 'num_leaves': 80, 'objective': 'regression', 'subsample': 1.0, 'subsample_freq': 10}\n"
     ]
    },
    {
     "name": "stdout",
     "output_type": "stream",
     "text": [
      "[100]\tvalid_0's rmse: 0.922774\tvalid_0's l2: 0.851512\tvalid_1's rmse: 0.762993\tvalid_1's l2: 0.582158           \n",
      "[100]\tvalid_0's rmse: 0.846128\tvalid_0's l2: 0.715933\tvalid_1's rmse: 0.766814\tvalid_1's l2: 0.588004           \n",
      "[200]\tvalid_0's rmse: 0.843823\tvalid_0's l2: 0.712036\tvalid_1's rmse: 0.702717\tvalid_1's l2: 0.493812           \n",
      "[100]\tvalid_0's rmse: 0.881632\tvalid_0's l2: 0.777275\tvalid_1's rmse: 0.763634\tvalid_1's l2: 0.583136           \n",
      "[200]\tvalid_0's rmse: 0.883633\tvalid_0's l2: 0.780807\tvalid_1's rmse: 0.700614\tvalid_1's l2: 0.49086            \n",
      " 21%|████████▍                               | 42/200 [01:38<05:16,  2.01s/trial, best loss: 0.8726936548579755]"
     ]
    },
    {
     "name": "stderr",
     "output_type": "stream",
     "text": [
      "Score - 0.8806118292982449, Std - 0.03140049774662756, Eval Score - 0.8806118292982449\n",
      "Score across folds - [0.9189557195023151, 0.8420415221231481, 0.8808382462692715].\n"
     ]
    },
    {
     "name": "stdout",
     "output_type": "stream",
     "text": [
      "\r\n",
      " 22%|████████▌                               | 43/200 [01:38<05:44,  2.20s/trial, best loss: 0.8726936548579755]"
     ]
    },
    {
     "name": "stderr",
     "output_type": "stream",
     "text": [
      "\n",
      "Iteration: 44, Training with params: {'boosting_type': 'gbdt', 'colsample_bytree': 0.8, 'learning_rate': 0.1, 'min_child_samples': 200, 'n_estimators': 10000, 'n_jobs': -1, 'num_leaves': 16, 'objective': 'regression', 'subsample': 0.2, 'subsample_freq': 10}\n"
     ]
    },
    {
     "name": "stdout",
     "output_type": "stream",
     "text": [
      "[100]\tvalid_0's rmse: 0.942946\tvalid_0's l2: 0.889148\tvalid_1's rmse: 0.882826\tvalid_1's l2: 0.779382           \n",
      "[200]\tvalid_0's rmse: 0.940883\tvalid_0's l2: 0.88526\tvalid_1's rmse: 0.862481\tvalid_1's l2: 0.743873            \n",
      "[300]\tvalid_0's rmse: 0.937235\tvalid_0's l2: 0.87841\tvalid_1's rmse: 0.850349\tvalid_1's l2: 0.723094            \n",
      "[400]\tvalid_0's rmse: 0.940937\tvalid_0's l2: 0.885362\tvalid_1's rmse: 0.841578\tvalid_1's l2: 0.708254           \n",
      "[100]\tvalid_0's rmse: 0.886556\tvalid_0's l2: 0.785981\tvalid_1's rmse: 0.887949\tvalid_1's l2: 0.788454           \n",
      "[200]\tvalid_0's rmse: 0.879792\tvalid_0's l2: 0.774035\tvalid_1's rmse: 0.865242\tvalid_1's l2: 0.748643           \n",
      "[300]\tvalid_0's rmse: 0.871923\tvalid_0's l2: 0.76025\tvalid_1's rmse: 0.853763\tvalid_1's l2: 0.728911            \n",
      "[400]\tvalid_0's rmse: 0.869503\tvalid_0's l2: 0.756035\tvalid_1's rmse: 0.842552\tvalid_1's l2: 0.709893           \n",
      "[100]\tvalid_0's rmse: 0.919588\tvalid_0's l2: 0.845643\tvalid_1's rmse: 0.882289\tvalid_1's l2: 0.778434           \n",
      "[200]\tvalid_0's rmse: 0.907897\tvalid_0's l2: 0.824276\tvalid_1's rmse: 0.859809\tvalid_1's l2: 0.739271           \n",
      "[300]\tvalid_0's rmse: 0.906494\tvalid_0's l2: 0.821732\tvalid_1's rmse: 0.846698\tvalid_1's l2: 0.716898           \n",
      " 22%|████████▌                               | 43/200 [01:40<05:44,  2.20s/trial, best loss: 0.8726936548579755]"
     ]
    },
    {
     "name": "stderr",
     "output_type": "stream",
     "text": [
      "Score - 0.9005947422707812, Std - 0.02865358753871856, Eval Score - 0.9005947422707812\n",
      "Score across folds - [0.9352606613887787, 0.8650890653300354, 0.9014345000935292].\n"
     ]
    },
    {
     "name": "stdout",
     "output_type": "stream",
     "text": [
      "\r\n",
      " 22%|████████▊                               | 44/200 [01:40<05:23,  2.07s/trial, best loss: 0.8726936548579755]"
     ]
    },
    {
     "name": "stderr",
     "output_type": "stream",
     "text": [
      "\n",
      "Iteration: 45, Training with params: {'boosting_type': 'gbdt', 'colsample_bytree': 1.0, 'learning_rate': 0.1, 'min_child_samples': 160, 'n_estimators': 10000, 'n_jobs': -1, 'num_leaves': 64, 'objective': 'regression', 'subsample': 1.0, 'subsample_freq': 10}\n"
     ]
    },
    {
     "name": "stdout",
     "output_type": "stream",
     "text": [
      "[100]\tvalid_0's rmse: 0.918939\tvalid_0's l2: 0.84445\tvalid_1's rmse: 0.760428\tvalid_1's l2: 0.578251            \n",
      "[100]\tvalid_0's rmse: 0.845914\tvalid_0's l2: 0.715571\tvalid_1's rmse: 0.765114\tvalid_1's l2: 0.5854             \n",
      "[200]\tvalid_0's rmse: 0.84358\tvalid_0's l2: 0.711627\tvalid_1's rmse: 0.704487\tvalid_1's l2: 0.496302            \n",
      "[100]\tvalid_0's rmse: 0.877749\tvalid_0's l2: 0.770444\tvalid_1's rmse: 0.760265\tvalid_1's l2: 0.578003           \n",
      " 22%|████████▊                               | 44/200 [01:42<05:23,  2.07s/trial, best loss: 0.8726936548579755]"
     ]
    },
    {
     "name": "stderr",
     "output_type": "stream",
     "text": [
      "Score - 0.8793841474120447, Std - 0.031042783717596174, Eval Score - 0.8793841474120447\n",
      "Score across folds - [0.9182808451886398, 0.8423072192286551, 0.8775643778188392].\n"
     ]
    },
    {
     "name": "stdout",
     "output_type": "stream",
     "text": [
      "\r\n",
      " 22%|█████████                               | 45/200 [01:42<05:27,  2.11s/trial, best loss: 0.8726936548579755]"
     ]
    },
    {
     "name": "stderr",
     "output_type": "stream",
     "text": [
      "\n",
      "Iteration: 46, Training with params: {'boosting_type': 'gbdt', 'colsample_bytree': 0.8, 'learning_rate': 0.1, 'min_child_samples': 240, 'n_estimators': 10000, 'n_jobs': -1, 'num_leaves': 48, 'objective': 'regression', 'subsample': 1.0, 'subsample_freq': 10}\n"
     ]
    },
    {
     "name": "stdout",
     "output_type": "stream",
     "text": [
      "[100]\tvalid_0's rmse: 0.917041\tvalid_0's l2: 0.840965\tvalid_1's rmse: 0.7954\tvalid_1's l2: 0.632661             \n",
      "[100]\tvalid_0's rmse: 0.848464\tvalid_0's l2: 0.719891\tvalid_1's rmse: 0.798505\tvalid_1's l2: 0.63761            \n",
      "[200]\tvalid_0's rmse: 0.844789\tvalid_0's l2: 0.713668\tvalid_1's rmse: 0.752268\tvalid_1's l2: 0.565908           \n",
      "[300]\tvalid_0's rmse: 0.845167\tvalid_0's l2: 0.714307\tvalid_1's rmse: 0.718329\tvalid_1's l2: 0.515997           \n",
      "[100]\tvalid_0's rmse: 0.873824\tvalid_0's l2: 0.763568\tvalid_1's rmse: 0.793254\tvalid_1's l2: 0.629252           \n",
      "[200]\tvalid_0's rmse: 0.87314\tvalid_0's l2: 0.762373\tvalid_1's rmse: 0.747566\tvalid_1's l2: 0.558855            \n",
      " 22%|█████████                               | 45/200 [01:44<05:27,  2.11s/trial, best loss: 0.8726936548579755]"
     ]
    },
    {
     "name": "stderr",
     "output_type": "stream",
     "text": [
      "Score - 0.877282360163287, Std - 0.02955747145367317, Eval Score - 0.877282360163287\n",
      "Score across folds - [0.9155461194206945, 0.8435772268237461, 0.8727237342454205].\n"
     ]
    },
    {
     "name": "stdout",
     "output_type": "stream",
     "text": [
      "\r\n",
      " 23%|█████████▏                              | 46/200 [01:44<05:39,  2.21s/trial, best loss: 0.8726936548579755]"
     ]
    },
    {
     "name": "stderr",
     "output_type": "stream",
     "text": [
      "\n",
      "Iteration: 47, Training with params: {'boosting_type': 'gbdt', 'colsample_bytree': 0.8, 'learning_rate': 0.1, 'min_child_samples': 160, 'n_estimators': 10000, 'n_jobs': -1, 'num_leaves': 32, 'objective': 'regression', 'subsample': 0.4, 'subsample_freq': 10}\n"
     ]
    },
    {
     "name": "stdout",
     "output_type": "stream",
     "text": [
      "[100]\tvalid_0's rmse: 0.920808\tvalid_0's l2: 0.847888\tvalid_1's rmse: 0.834128\tvalid_1's l2: 0.695769           \n",
      "[200]\tvalid_0's rmse: 0.924752\tvalid_0's l2: 0.855166\tvalid_1's rmse: 0.798519\tvalid_1's l2: 0.637633           \n",
      "[100]\tvalid_0's rmse: 0.861782\tvalid_0's l2: 0.742668\tvalid_1's rmse: 0.83608\tvalid_1's l2: 0.69903             \n",
      "[200]\tvalid_0's rmse: 0.857722\tvalid_0's l2: 0.735687\tvalid_1's rmse: 0.801735\tvalid_1's l2: 0.642779           \n",
      "[100]\tvalid_0's rmse: 0.893158\tvalid_0's l2: 0.797732\tvalid_1's rmse: 0.832358\tvalid_1's l2: 0.69282            \n",
      "[200]\tvalid_0's rmse: 0.893432\tvalid_0's l2: 0.798221\tvalid_1's rmse: 0.79778\tvalid_1's l2: 0.636453            \n",
      " 23%|█████████▏                              | 46/200 [01:46<05:39,  2.21s/trial, best loss: 0.8726936548579755]"
     ]
    },
    {
     "name": "stderr",
     "output_type": "stream",
     "text": [
      "Score - 0.8879192334025846, Std - 0.025646966065646988, Eval Score - 0.8879192334025846\n",
      "Score across folds - [0.9188072429394843, 0.8560101609848669, 0.8889402962834025].\n"
     ]
    },
    {
     "name": "stdout",
     "output_type": "stream",
     "text": [
      "\r\n",
      " 24%|█████████▍                              | 47/200 [01:46<05:14,  2.05s/trial, best loss: 0.8726936548579755]"
     ]
    },
    {
     "name": "stderr",
     "output_type": "stream",
     "text": [
      "\n",
      "Iteration: 48, Training with params: {'boosting_type': 'gbdt', 'colsample_bytree': 1.0, 'learning_rate': 0.1, 'min_child_samples': 240, 'n_estimators': 10000, 'n_jobs': -1, 'num_leaves': 16, 'objective': 'regression', 'subsample': 0.2, 'subsample_freq': 10}\n"
     ]
    },
    {
     "name": "stdout",
     "output_type": "stream",
     "text": [
      "[100]\tvalid_0's rmse: 0.945372\tvalid_0's l2: 0.893728\tvalid_1's rmse: 0.890623\tvalid_1's l2: 0.79321            \n",
      "[200]\tvalid_0's rmse: 0.945644\tvalid_0's l2: 0.894242\tvalid_1's rmse: 0.871048\tvalid_1's l2: 0.758725           \n",
      "[100]\tvalid_0's rmse: 0.894634\tvalid_0's l2: 0.80037\tvalid_1's rmse: 0.895587\tvalid_1's l2: 0.802076            \n",
      "[200]\tvalid_0's rmse: 0.887616\tvalid_0's l2: 0.787862\tvalid_1's rmse: 0.873034\tvalid_1's l2: 0.762189           \n",
      "[300]\tvalid_0's rmse: 0.883622\tvalid_0's l2: 0.780788\tvalid_1's rmse: 0.863873\tvalid_1's l2: 0.746277           \n",
      "[400]\tvalid_0's rmse: 0.878541\tvalid_0's l2: 0.771834\tvalid_1's rmse: 0.854347\tvalid_1's l2: 0.729909           \n",
      "[100]\tvalid_0's rmse: 0.929526\tvalid_0's l2: 0.864018\tvalid_1's rmse: 0.892746\tvalid_1's l2: 0.796996           \n",
      "[200]\tvalid_0's rmse: 0.9113\tvalid_0's l2: 0.830467\tvalid_1's rmse: 0.868388\tvalid_1's l2: 0.754097             \n",
      "[300]\tvalid_0's rmse: 0.910516\tvalid_0's l2: 0.829039\tvalid_1's rmse: 0.856296\tvalid_1's l2: 0.733242           \n",
      "[400]\tvalid_0's rmse: 0.907486\tvalid_0's l2: 0.823531\tvalid_1's rmse: 0.84819\tvalid_1's l2: 0.719427            \n",
      " 24%|█████████▍                              | 47/200 [01:48<05:14,  2.05s/trial, best loss: 0.8726936548579755]"
     ]
    },
    {
     "name": "stderr",
     "output_type": "stream",
     "text": [
      "Score - 0.9069296478605794, Std - 0.02774030258083683, Eval Score - 0.9069296478605794\n",
      "Score across folds - [0.9411852025455437, 0.8732427548764442, 0.9063609861597502].\n"
     ]
    },
    {
     "name": "stdout",
     "output_type": "stream",
     "text": [
      "\r\n",
      " 24%|█████████▌                              | 48/200 [01:48<04:48,  1.90s/trial, best loss: 0.8726936548579755]"
     ]
    },
    {
     "name": "stderr",
     "output_type": "stream",
     "text": [
      "\n",
      "Iteration: 49, Training with params: {'boosting_type': 'gbdt', 'colsample_bytree': 0.8, 'learning_rate': 0.1, 'min_child_samples': 200, 'n_estimators': 10000, 'n_jobs': -1, 'num_leaves': 32, 'objective': 'regression', 'subsample': 1.0, 'subsample_freq': 10}\n"
     ]
    },
    {
     "name": "stdout",
     "output_type": "stream",
     "text": [
      "[100]\tvalid_0's rmse: 0.915566\tvalid_0's l2: 0.838261\tvalid_1's rmse: 0.810799\tvalid_1's l2: 0.657395           \n",
      "[200]\tvalid_0's rmse: 0.91756\tvalid_0's l2: 0.841916\tvalid_1's rmse: 0.772385\tvalid_1's l2: 0.596579            \n",
      "[100]\tvalid_0's rmse: 0.849165\tvalid_0's l2: 0.721081\tvalid_1's rmse: 0.813881\tvalid_1's l2: 0.662402           \n",
      "[200]\tvalid_0's rmse: 0.840631\tvalid_0's l2: 0.706661\tvalid_1's rmse: 0.776956\tvalid_1's l2: 0.603661           \n",
      "[300]\tvalid_0's rmse: 0.840438\tvalid_0's l2: 0.706335\tvalid_1's rmse: 0.751862\tvalid_1's l2: 0.565296           \n",
      "[100]\tvalid_0's rmse: 0.874517\tvalid_0's l2: 0.764779\tvalid_1's rmse: 0.809662\tvalid_1's l2: 0.655553           \n",
      "[200]\tvalid_0's rmse: 0.873358\tvalid_0's l2: 0.762753\tvalid_1's rmse: 0.772982\tvalid_1's l2: 0.597501           \n",
      " 24%|█████████▌                              | 48/200 [01:49<04:48,  1.90s/trial, best loss: 0.8726936548579755]"
     ]
    },
    {
     "name": "stderr",
     "output_type": "stream",
     "text": [
      "Score - 0.8756411855086514, Std - 0.03062149580214302, Eval Score - 0.8756411855086514\n",
      "Score across folds - [0.9146037257622376, 0.8397906041415601, 0.8725292266221566].\n"
     ]
    },
    {
     "name": "stdout",
     "output_type": "stream",
     "text": [
      "\r\n",
      " 24%|█████████▊                              | 49/200 [01:50<04:46,  1.89s/trial, best loss: 0.8726936548579755]"
     ]
    },
    {
     "name": "stderr",
     "output_type": "stream",
     "text": [
      "\n",
      "Iteration: 50, Training with params: {'boosting_type': 'gbdt', 'colsample_bytree': 1.0, 'learning_rate': 0.1, 'min_child_samples': 160, 'n_estimators': 10000, 'n_jobs': -1, 'num_leaves': 48, 'objective': 'regression', 'subsample': 0.6000000000000001, 'subsample_freq': 5}\n"
     ]
    },
    {
     "name": "stdout",
     "output_type": "stream",
     "text": [
      "[100]\tvalid_0's rmse: 0.922386\tvalid_0's l2: 0.850795\tvalid_1's rmse: 0.797396\tvalid_1's l2: 0.63584            \n",
      "[200]\tvalid_0's rmse: 0.926298\tvalid_0's l2: 0.858028\tvalid_1's rmse: 0.748344\tvalid_1's l2: 0.560019           \n",
      "[100]\tvalid_0's rmse: 0.856406\tvalid_0's l2: 0.73343\tvalid_1's rmse: 0.80103\tvalid_1's l2: 0.641649             \n",
      "[200]\tvalid_0's rmse: 0.852338\tvalid_0's l2: 0.72648\tvalid_1's rmse: 0.750939\tvalid_1's l2: 0.56391             \n",
      "[100]\tvalid_0's rmse: 0.876974\tvalid_0's l2: 0.769083\tvalid_1's rmse: 0.797173\tvalid_1's l2: 0.635484           \n",
      " 24%|█████████▊                              | 49/200 [01:51<04:46,  1.89s/trial, best loss: 0.8726936548579755]"
     ]
    },
    {
     "name": "stderr",
     "output_type": "stream",
     "text": [
      "Score - 0.8819214682891102, Std - 0.02943512160613895, Eval Score - 0.8819214682891102\n",
      "Score across folds - [0.9204158473383969, 0.8489528844417437, 0.8763956730871899].\n"
     ]
    },
    {
     "name": "stdout",
     "output_type": "stream",
     "text": [
      "\r\n",
      " 25%|██████████                              | 50/200 [01:52<04:52,  1.95s/trial, best loss: 0.8726936548579755]"
     ]
    },
    {
     "name": "stderr",
     "output_type": "stream",
     "text": [
      "\n",
      "Iteration: 51, Training with params: {'boosting_type': 'gbdt', 'colsample_bytree': 0.8, 'learning_rate': 0.1, 'min_child_samples': 120, 'n_estimators': 10000, 'n_jobs': -1, 'num_leaves': 16, 'objective': 'regression', 'subsample': 1.0, 'subsample_freq': 10}\n"
     ]
    },
    {
     "name": "stdout",
     "output_type": "stream",
     "text": [
      "[100]\tvalid_0's rmse: 0.91433\tvalid_0's l2: 0.836\tvalid_1's rmse: 0.842608\tvalid_1's l2: 0.709988               \n",
      "[200]\tvalid_0's rmse: 0.910203\tvalid_0's l2: 0.828469\tvalid_1's rmse: 0.811032\tvalid_1's l2: 0.657774           \n",
      "[300]\tvalid_0's rmse: 0.913668\tvalid_0's l2: 0.83479\tvalid_1's rmse: 0.789852\tvalid_1's l2: 0.623865            \n",
      "[100]\tvalid_0's rmse: 0.856363\tvalid_0's l2: 0.733358\tvalid_1's rmse: 0.846537\tvalid_1's l2: 0.716624           \n",
      "[200]\tvalid_0's rmse: 0.842304\tvalid_0's l2: 0.709477\tvalid_1's rmse: 0.814114\tvalid_1's l2: 0.662781           \n",
      "[300]\tvalid_0's rmse: 0.83939\tvalid_0's l2: 0.704576\tvalid_1's rmse: 0.793653\tvalid_1's l2: 0.629885            \n",
      "[400]\tvalid_0's rmse: 0.836565\tvalid_0's l2: 0.699841\tvalid_1's rmse: 0.776157\tvalid_1's l2: 0.60242            \n",
      "[500]\tvalid_0's rmse: 0.837116\tvalid_0's l2: 0.700763\tvalid_1's rmse: 0.762072\tvalid_1's l2: 0.580754           \n",
      "[100]\tvalid_0's rmse: 0.880524\tvalid_0's l2: 0.775323\tvalid_1's rmse: 0.840529\tvalid_1's l2: 0.706489           \n",
      "[200]\tvalid_0's rmse: 0.874055\tvalid_0's l2: 0.763973\tvalid_1's rmse: 0.809835\tvalid_1's l2: 0.655832           \n",
      " 25%|██████████                              | 50/200 [01:53<04:52,  1.95s/trial, best loss: 0.8726936548579755]"
     ]
    },
    {
     "name": "stderr",
     "output_type": "stream",
     "text": [
      "Score - 0.8728706157581096, Std - 0.030459116744569102, Eval Score - 0.8728706157581096\n",
      "Score across folds - [0.9099137658745747, 0.8353098584334112, 0.873388222966343].\n"
     ]
    },
    {
     "name": "stdout",
     "output_type": "stream",
     "text": [
      "\r\n",
      " 26%|██████████▏                             | 51/200 [01:53<04:33,  1.84s/trial, best loss: 0.8726936548579755]"
     ]
    },
    {
     "name": "stderr",
     "output_type": "stream",
     "text": [
      "\n",
      "Iteration: 52, Training with params: {'boosting_type': 'gbdt', 'colsample_bytree': 1.0, 'learning_rate': 0.1, 'min_child_samples': 240, 'n_estimators': 10000, 'n_jobs': -1, 'num_leaves': 48, 'objective': 'regression', 'subsample': 0.4, 'subsample_freq': 5}\n"
     ]
    },
    {
     "name": "stdout",
     "output_type": "stream",
     "text": [
      "[100]\tvalid_0's rmse: 0.928015\tvalid_0's l2: 0.861213\tvalid_1's rmse: 0.849498\tvalid_1's l2: 0.721647           \n",
      "[200]\tvalid_0's rmse: 0.929014\tvalid_0's l2: 0.863067\tvalid_1's rmse: 0.820035\tvalid_1's l2: 0.672457           \n",
      "[300]\tvalid_0's rmse: 0.923337\tvalid_0's l2: 0.852551\tvalid_1's rmse: 0.800367\tvalid_1's l2: 0.640587           \n",
      "[100]\tvalid_0's rmse: 0.869804\tvalid_0's l2: 0.756559\tvalid_1's rmse: 0.853516\tvalid_1's l2: 0.728489           \n",
      "[200]\tvalid_0's rmse: 0.856675\tvalid_0's l2: 0.733892\tvalid_1's rmse: 0.82385\tvalid_1's l2: 0.678729            \n",
      "[300]\tvalid_0's rmse: 0.85476\tvalid_0's l2: 0.730615\tvalid_1's rmse: 0.803098\tvalid_1's l2: 0.644966            \n",
      "[100]\tvalid_0's rmse: 0.897954\tvalid_0's l2: 0.806322\tvalid_1's rmse: 0.8472\tvalid_1's l2: 0.717748             \n",
      "[200]\tvalid_0's rmse: 0.891119\tvalid_0's l2: 0.794093\tvalid_1's rmse: 0.818109\tvalid_1's l2: 0.669303           \n",
      "[300]\tvalid_0's rmse: 0.890983\tvalid_0's l2: 0.793851\tvalid_1's rmse: 0.798879\tvalid_1's l2: 0.638208           \n",
      " 26%|██████████▏                             | 51/200 [01:55<04:33,  1.84s/trial, best loss: 0.8726936548579755]"
     ]
    },
    {
     "name": "stderr",
     "output_type": "stream",
     "text": [
      "Score - 0.8883823133771404, Std - 0.027858536674556338, Eval Score - 0.8883823133771404\n",
      "Score across folds - [0.9214672969327089, 0.853314568677541, 0.8903650745211714].\n"
     ]
    },
    {
     "name": "stdout",
     "output_type": "stream",
     "text": [
      "\r\n",
      " 26%|██████████▍                             | 52/200 [01:55<04:48,  1.95s/trial, best loss: 0.8726936548579755]"
     ]
    },
    {
     "name": "stderr",
     "output_type": "stream",
     "text": [
      "\n",
      "Iteration: 53, Training with params: {'boosting_type': 'gbdt', 'colsample_bytree': 0.8, 'learning_rate': 0.1, 'min_child_samples': 200, 'n_estimators': 10000, 'n_jobs': -1, 'num_leaves': 80, 'objective': 'regression', 'subsample': 0.6000000000000001, 'subsample_freq': 10}\n"
     ]
    },
    {
     "name": "stdout",
     "output_type": "stream",
     "text": [
      "[100]\tvalid_0's rmse: 0.922083\tvalid_0's l2: 0.850236\tvalid_1's rmse: 0.815297\tvalid_1's l2: 0.664709           \n",
      "[200]\tvalid_0's rmse: 0.922014\tvalid_0's l2: 0.850109\tvalid_1's rmse: 0.769935\tvalid_1's l2: 0.5928             \n",
      "[100]\tvalid_0's rmse: 0.859431\tvalid_0's l2: 0.738622\tvalid_1's rmse: 0.818835\tvalid_1's l2: 0.670491           \n",
      "[200]\tvalid_0's rmse: 0.855325\tvalid_0's l2: 0.731581\tvalid_1's rmse: 0.771861\tvalid_1's l2: 0.59577            \n",
      "[100]\tvalid_0's rmse: 0.879775\tvalid_0's l2: 0.774003\tvalid_1's rmse: 0.814399\tvalid_1's l2: 0.663246           \n",
      "[200]\tvalid_0's rmse: 0.879168\tvalid_0's l2: 0.772936\tvalid_1's rmse: 0.769984\tvalid_1's l2: 0.592876           \n",
      "[300]\tvalid_0's rmse: 0.877786\tvalid_0's l2: 0.770508\tvalid_1's rmse: 0.738666\tvalid_1's l2: 0.545627           \n",
      " 26%|██████████▍                             | 52/200 [01:58<04:48,  1.95s/trial, best loss: 0.8726936548579755]"
     ]
    },
    {
     "name": "stderr",
     "output_type": "stream",
     "text": [
      "Score - 0.8823993655427914, Std - 0.02814834423072154, Eval Score - 0.8823993655427914\n",
      "Score across folds - [0.9189530973518343, 0.8504710366206584, 0.8777739626558815].\n"
     ]
    },
    {
     "name": "stdout",
     "output_type": "stream",
     "text": [
      "\r\n",
      " 26%|██████████▌                             | 53/200 [01:58<05:17,  2.16s/trial, best loss: 0.8726936548579755]"
     ]
    },
    {
     "name": "stderr",
     "output_type": "stream",
     "text": [
      "\n",
      "Iteration: 54, Training with params: {'boosting_type': 'gbdt', 'colsample_bytree': 1.0, 'learning_rate': 0.1, 'min_child_samples': 160, 'n_estimators': 10000, 'n_jobs': -1, 'num_leaves': 64, 'objective': 'regression', 'subsample': 1.0, 'subsample_freq': 10}\n"
     ]
    },
    {
     "name": "stdout",
     "output_type": "stream",
     "text": [
      "[100]\tvalid_0's rmse: 0.918939\tvalid_0's l2: 0.84445\tvalid_1's rmse: 0.760428\tvalid_1's l2: 0.578251            \n",
      "[100]\tvalid_0's rmse: 0.845914\tvalid_0's l2: 0.715571\tvalid_1's rmse: 0.765114\tvalid_1's l2: 0.5854             \n",
      "[200]\tvalid_0's rmse: 0.84358\tvalid_0's l2: 0.711627\tvalid_1's rmse: 0.704487\tvalid_1's l2: 0.496302            \n",
      "[100]\tvalid_0's rmse: 0.877749\tvalid_0's l2: 0.770444\tvalid_1's rmse: 0.760265\tvalid_1's l2: 0.578003           \n",
      " 26%|██████████▌                             | 53/200 [02:00<05:17,  2.16s/trial, best loss: 0.8726936548579755]"
     ]
    },
    {
     "name": "stderr",
     "output_type": "stream",
     "text": [
      "Score - 0.8793841474120447, Std - 0.031042783717596174, Eval Score - 0.8793841474120447\n",
      "Score across folds - [0.9182808451886398, 0.8423072192286551, 0.8775643778188392].\n"
     ]
    },
    {
     "name": "stdout",
     "output_type": "stream",
     "text": [
      "\r\n",
      " 27%|██████████▊                             | 54/200 [02:00<05:19,  2.19s/trial, best loss: 0.8726936548579755]"
     ]
    },
    {
     "name": "stderr",
     "output_type": "stream",
     "text": [
      "\n",
      "Iteration: 55, Training with params: {'boosting_type': 'gbdt', 'colsample_bytree': 0.8, 'learning_rate': 0.1, 'min_child_samples': 120, 'n_estimators': 10000, 'n_jobs': -1, 'num_leaves': 16, 'objective': 'regression', 'subsample': 0.8, 'subsample_freq': 5}\n"
     ]
    },
    {
     "name": "stdout",
     "output_type": "stream",
     "text": [
      "[100]\tvalid_0's rmse: 0.91588\tvalid_0's l2: 0.838836\tvalid_1's rmse: 0.844225\tvalid_1's l2: 0.712715            \n",
      "[200]\tvalid_0's rmse: 0.91669\tvalid_0's l2: 0.840321\tvalid_1's rmse: 0.811553\tvalid_1's l2: 0.658618            \n",
      "[100]\tvalid_0's rmse: 0.857598\tvalid_0's l2: 0.735474\tvalid_1's rmse: 0.846313\tvalid_1's l2: 0.716246           \n",
      "[200]\tvalid_0's rmse: 0.844872\tvalid_0's l2: 0.713809\tvalid_1's rmse: 0.814338\tvalid_1's l2: 0.663146           \n",
      "[300]\tvalid_0's rmse: 0.841525\tvalid_0's l2: 0.708165\tvalid_1's rmse: 0.793629\tvalid_1's l2: 0.629847           \n",
      "[100]\tvalid_0's rmse: 0.882833\tvalid_0's l2: 0.779393\tvalid_1's rmse: 0.842844\tvalid_1's l2: 0.710386           \n",
      "[200]\tvalid_0's rmse: 0.87383\tvalid_0's l2: 0.763579\tvalid_1's rmse: 0.80925\tvalid_1's l2: 0.654885             \n",
      " 27%|██████████▊                             | 54/200 [02:02<05:19,  2.19s/trial, best loss: 0.8726936548579755]"
     ]
    },
    {
     "name": "stderr",
     "output_type": "stream",
     "text": [
      "Score - 0.8753260352573671, Std - 0.029523893949250722, Eval Score - 0.8753260352573671\n",
      "Score across folds - [0.9126289663209524, 0.8404308333500062, 0.8729183061011424].\n"
     ]
    },
    {
     "name": "stdout",
     "output_type": "stream",
     "text": [
      "\r\n",
      " 28%|███████████                             | 55/200 [02:02<04:47,  1.99s/trial, best loss: 0.8726936548579755]"
     ]
    },
    {
     "name": "stderr",
     "output_type": "stream",
     "text": [
      "\n",
      "Iteration: 56, Training with params: {'boosting_type': 'gbdt', 'colsample_bytree': 0.6000000000000001, 'learning_rate': 0.1, 'min_child_samples': 240, 'n_estimators': 10000, 'n_jobs': -1, 'num_leaves': 32, 'objective': 'regression', 'subsample': 0.2, 'subsample_freq': 10}\n"
     ]
    },
    {
     "name": "stdout",
     "output_type": "stream",
     "text": [
      "[100]\tvalid_0's rmse: 0.947857\tvalid_0's l2: 0.898433\tvalid_1's rmse: 0.895646\tvalid_1's l2: 0.802181           \n",
      "[200]\tvalid_0's rmse: 0.943052\tvalid_0's l2: 0.889346\tvalid_1's rmse: 0.87509\tvalid_1's l2: 0.765782            \n",
      "[300]\tvalid_0's rmse: 0.93753\tvalid_0's l2: 0.878962\tvalid_1's rmse: 0.863835\tvalid_1's l2: 0.74621             \n",
      "[400]\tvalid_0's rmse: 0.937832\tvalid_0's l2: 0.87953\tvalid_1's rmse: 0.856743\tvalid_1's l2: 0.734009            \n",
      "[500]\tvalid_0's rmse: 0.933385\tvalid_0's l2: 0.871208\tvalid_1's rmse: 0.847929\tvalid_1's l2: 0.718983           \n",
      "[600]\tvalid_0's rmse: 0.935519\tvalid_0's l2: 0.875195\tvalid_1's rmse: 0.841588\tvalid_1's l2: 0.708271           \n",
      "[100]\tvalid_0's rmse: 0.895783\tvalid_0's l2: 0.802426\tvalid_1's rmse: 0.899142\tvalid_1's l2: 0.808457           \n",
      "[200]\tvalid_0's rmse: 0.885337\tvalid_0's l2: 0.783822\tvalid_1's rmse: 0.87598\tvalid_1's l2: 0.767342            \n",
      "[300]\tvalid_0's rmse: 0.876162\tvalid_0's l2: 0.76766\tvalid_1's rmse: 0.864902\tvalid_1's l2: 0.748056            \n",
      "[400]\tvalid_0's rmse: 0.87218\tvalid_0's l2: 0.760697\tvalid_1's rmse: 0.854962\tvalid_1's l2: 0.730961            \n",
      "[100]\tvalid_0's rmse: 0.928097\tvalid_0's l2: 0.861364\tvalid_1's rmse: 0.895465\tvalid_1's l2: 0.801858           \n",
      "[200]\tvalid_0's rmse: 0.912428\tvalid_0's l2: 0.832524\tvalid_1's rmse: 0.86995\tvalid_1's l2: 0.756813            \n",
      "[300]\tvalid_0's rmse: 0.911157\tvalid_0's l2: 0.830207\tvalid_1's rmse: 0.857304\tvalid_1's l2: 0.734971           \n",
      " 28%|███████████                             | 55/200 [02:04<04:47,  1.99s/trial, best loss: 0.8726936548579755]"
     ]
    },
    {
     "name": "stderr",
     "output_type": "stream",
     "text": [
      "Score - 0.9035264524850325, Std - 0.025368564595542563, Eval Score - 0.9035264524850325\n",
      "Score across folds - [0.9322423179087593, 0.8705433913391923, 0.9077936482071463].\n"
     ]
    },
    {
     "name": "stdout",
     "output_type": "stream",
     "text": [
      "\r\n",
      " 28%|███████████▏                            | 56/200 [02:04<04:45,  1.98s/trial, best loss: 0.8726936548579755]"
     ]
    },
    {
     "name": "stderr",
     "output_type": "stream",
     "text": [
      "\n",
      "Iteration: 57, Training with params: {'boosting_type': 'gbdt', 'colsample_bytree': 0.8, 'learning_rate': 0.1, 'min_child_samples': 200, 'n_estimators': 10000, 'n_jobs': -1, 'num_leaves': 16, 'objective': 'regression', 'subsample': 0.6000000000000001, 'subsample_freq': 10}\n"
     ]
    },
    {
     "name": "stdout",
     "output_type": "stream",
     "text": [
      "[100]\tvalid_0's rmse: 0.919896\tvalid_0's l2: 0.846209\tvalid_1's rmse: 0.85172\tvalid_1's l2: 0.725426            \n",
      "[200]\tvalid_0's rmse: 0.914894\tvalid_0's l2: 0.837031\tvalid_1's rmse: 0.824117\tvalid_1's l2: 0.679168           \n",
      "[300]\tvalid_0's rmse: 0.917558\tvalid_0's l2: 0.841912\tvalid_1's rmse: 0.806756\tvalid_1's l2: 0.650855           \n",
      "[100]\tvalid_0's rmse: 0.8621\tvalid_0's l2: 0.743216\tvalid_1's rmse: 0.85497\tvalid_1's l2: 0.730974              \n",
      "[200]\tvalid_0's rmse: 0.856632\tvalid_0's l2: 0.733818\tvalid_1's rmse: 0.824769\tvalid_1's l2: 0.680244           \n",
      "[300]\tvalid_0's rmse: 0.851369\tvalid_0's l2: 0.72483\tvalid_1's rmse: 0.807424\tvalid_1's l2: 0.651934            \n",
      "[100]\tvalid_0's rmse: 0.882488\tvalid_0's l2: 0.778784\tvalid_1's rmse: 0.849515\tvalid_1's l2: 0.721675           \n",
      "[200]\tvalid_0's rmse: 0.874436\tvalid_0's l2: 0.764638\tvalid_1's rmse: 0.821274\tvalid_1's l2: 0.674491           \n",
      "[300]\tvalid_0's rmse: 0.873179\tvalid_0's l2: 0.762441\tvalid_1's rmse: 0.804585\tvalid_1's l2: 0.647356           \n",
      "[400]\tvalid_0's rmse: 0.874181\tvalid_0's l2: 0.764192\tvalid_1's rmse: 0.789855\tvalid_1's l2: 0.623871           \n",
      "[500]\tvalid_0's rmse: 0.876894\tvalid_0's l2: 0.768943\tvalid_1's rmse: 0.77789\tvalid_1's l2: 0.605113            \n",
      " 28%|███████████▏                            | 56/200 [02:06<04:45,  1.98s/trial, best loss: 0.8726936548579755]"
     ]
    },
    {
     "name": "stderr",
     "output_type": "stream",
     "text": [
      "Score - 0.8780728485110442, Std - 0.025932662379669364, Eval Score - 0.8780728485110442\n",
      "Score across folds - [0.9123473239157454, 0.8496351807750055, 0.8722360408423816].\n"
     ]
    },
    {
     "name": "stdout",
     "output_type": "stream",
     "text": [
      "\r\n",
      " 28%|███████████▍                            | 57/200 [02:06<04:43,  1.98s/trial, best loss: 0.8726936548579755]"
     ]
    },
    {
     "name": "stderr",
     "output_type": "stream",
     "text": [
      "\n",
      "Iteration: 58, Training with params: {'boosting_type': 'gbdt', 'colsample_bytree': 1.0, 'learning_rate': 0.1, 'min_child_samples': 120, 'n_estimators': 10000, 'n_jobs': -1, 'num_leaves': 32, 'objective': 'regression', 'subsample': 1.0, 'subsample_freq': 5}\n"
     ]
    },
    {
     "name": "stdout",
     "output_type": "stream",
     "text": [
      "[100]\tvalid_0's rmse: 0.914521\tvalid_0's l2: 0.836348\tvalid_1's rmse: 0.800654\tvalid_1's l2: 0.641046           \n",
      "[200]\tvalid_0's rmse: 0.917995\tvalid_0's l2: 0.842715\tvalid_1's rmse: 0.7578\tvalid_1's l2: 0.574261             \n",
      "[100]\tvalid_0's rmse: 0.847124\tvalid_0's l2: 0.71762\tvalid_1's rmse: 0.804254\tvalid_1's l2: 0.646824            \n",
      "[200]\tvalid_0's rmse: 0.83907\tvalid_0's l2: 0.704039\tvalid_1's rmse: 0.762082\tvalid_1's l2: 0.580769            \n",
      "[300]\tvalid_0's rmse: 0.836677\tvalid_0's l2: 0.700028\tvalid_1's rmse: 0.730895\tvalid_1's l2: 0.534208           \n",
      "[100]\tvalid_0's rmse: 0.87877\tvalid_0's l2: 0.772237\tvalid_1's rmse: 0.799867\tvalid_1's l2: 0.639788            \n",
      "[200]\tvalid_0's rmse: 0.877025\tvalid_0's l2: 0.769172\tvalid_1's rmse: 0.75754\tvalid_1's l2: 0.573867            \n",
      " 28%|███████████▍                            | 57/200 [02:08<04:43,  1.98s/trial, best loss: 0.8726936548579755]"
     ]
    },
    {
     "name": "stderr",
     "output_type": "stream",
     "text": [
      "Score - 0.875602786717313, Std - 0.031663205027874036, Eval Score - 0.875602786717313\n",
      "Score across folds - [0.9138516017263846, 0.8363138325588813, 0.8766429258666731].\n"
     ]
    },
    {
     "name": "stdout",
     "output_type": "stream",
     "text": [
      "\r\n",
      " 29%|███████████▌                            | 58/200 [02:08<04:36,  1.94s/trial, best loss: 0.8726936548579755]"
     ]
    },
    {
     "name": "stderr",
     "output_type": "stream",
     "text": [
      "\n",
      "Iteration: 59, Training with params: {'boosting_type': 'gbdt', 'colsample_bytree': 1.0, 'learning_rate': 0.1, 'min_child_samples': 200, 'n_estimators': 10000, 'n_jobs': -1, 'num_leaves': 16, 'objective': 'regression', 'subsample': 0.8, 'subsample_freq': 10}\n"
     ]
    },
    {
     "name": "stdout",
     "output_type": "stream",
     "text": [
      "[100]\tvalid_0's rmse: 0.91995\tvalid_0's l2: 0.846308\tvalid_1's rmse: 0.847063\tvalid_1's l2: 0.717515            \n",
      "[200]\tvalid_0's rmse: 0.915909\tvalid_0's l2: 0.838889\tvalid_1's rmse: 0.815419\tvalid_1's l2: 0.664908           \n",
      "[300]\tvalid_0's rmse: 0.919851\tvalid_0's l2: 0.846126\tvalid_1's rmse: 0.79586\tvalid_1's l2: 0.633393            \n",
      "[100]\tvalid_0's rmse: 0.854599\tvalid_0's l2: 0.730339\tvalid_1's rmse: 0.848569\tvalid_1's l2: 0.720069           \n",
      "[200]\tvalid_0's rmse: 0.848409\tvalid_0's l2: 0.719798\tvalid_1's rmse: 0.818313\tvalid_1's l2: 0.669637           \n",
      "[300]\tvalid_0's rmse: 0.844913\tvalid_0's l2: 0.713877\tvalid_1's rmse: 0.798415\tvalid_1's l2: 0.637466           \n",
      "[400]\tvalid_0's rmse: 0.845205\tvalid_0's l2: 0.714371\tvalid_1's rmse: 0.782557\tvalid_1's l2: 0.612395           \n",
      "[500]\tvalid_0's rmse: 0.844624\tvalid_0's l2: 0.713389\tvalid_1's rmse: 0.769592\tvalid_1's l2: 0.592272           \n",
      "[100]\tvalid_0's rmse: 0.88287\tvalid_0's l2: 0.77946\tvalid_1's rmse: 0.843608\tvalid_1's l2: 0.711674             \n",
      "[200]\tvalid_0's rmse: 0.875296\tvalid_0's l2: 0.766144\tvalid_1's rmse: 0.814112\tvalid_1's l2: 0.662779           \n",
      "[300]\tvalid_0's rmse: 0.875565\tvalid_0's l2: 0.766615\tvalid_1's rmse: 0.795189\tvalid_1's l2: 0.632325           \n",
      " 29%|███████████▌                            | 58/200 [02:10<04:36,  1.94s/trial, best loss: 0.8726936548579755]"
     ]
    },
    {
     "name": "stderr",
     "output_type": "stream",
     "text": [
      "Score - 0.8761123134970402, Std - 0.02898764728730659, Eval Score - 0.8761123134970402\n",
      "Score across folds - [0.912811042254611, 0.8419411912019035, 0.8735847070346063].\n"
     ]
    },
    {
     "name": "stdout",
     "output_type": "stream",
     "text": [
      "\r\n",
      " 30%|███████████▊                            | 59/200 [02:10<04:40,  1.99s/trial, best loss: 0.8726936548579755]"
     ]
    },
    {
     "name": "stderr",
     "output_type": "stream",
     "text": [
      "\n",
      "Iteration: 60, Training with params: {'boosting_type': 'gbdt', 'colsample_bytree': 0.6000000000000001, 'learning_rate': 0.1, 'min_child_samples': 160, 'n_estimators': 10000, 'n_jobs': -1, 'num_leaves': 48, 'objective': 'regression', 'subsample': 1.0, 'subsample_freq': 10}\n"
     ]
    },
    {
     "name": "stdout",
     "output_type": "stream",
     "text": [
      "[100]\tvalid_0's rmse: 0.910591\tvalid_0's l2: 0.829176\tvalid_1's rmse: 0.788356\tvalid_1's l2: 0.621505           \n",
      "[200]\tvalid_0's rmse: 0.91592\tvalid_0's l2: 0.838909\tvalid_1's rmse: 0.74105\tvalid_1's l2: 0.549156             \n",
      "[100]\tvalid_0's rmse: 0.849989\tvalid_0's l2: 0.722482\tvalid_1's rmse: 0.791523\tvalid_1's l2: 0.626509           \n",
      "[200]\tvalid_0's rmse: 0.841557\tvalid_0's l2: 0.708219\tvalid_1's rmse: 0.743588\tvalid_1's l2: 0.552923           \n",
      "[100]\tvalid_0's rmse: 0.877237\tvalid_0's l2: 0.769545\tvalid_1's rmse: 0.786772\tvalid_1's l2: 0.61901            \n",
      "[200]\tvalid_0's rmse: 0.876958\tvalid_0's l2: 0.769055\tvalid_1's rmse: 0.739715\tvalid_1's l2: 0.547178           \n",
      " 30%|███████████▊                            | 59/200 [02:12<04:40,  1.99s/trial, best loss: 0.8726936548579755]"
     ]
    },
    {
     "name": "stderr",
     "output_type": "stream",
     "text": [
      "Score - 0.8756160515402525, Std - 0.028319303560683923, Eval Score - 0.8756160515402525\n",
      "Score across folds - [0.9103793027380178, 0.841012007241778, 0.8754568446409613].\n"
     ]
    },
    {
     "name": "stdout",
     "output_type": "stream",
     "text": [
      "\r\n",
      " 30%|████████████                            | 60/200 [02:12<04:42,  2.01s/trial, best loss: 0.8726936548579755]"
     ]
    },
    {
     "name": "stderr",
     "output_type": "stream",
     "text": [
      "\n",
      "Iteration: 61, Training with params: {'boosting_type': 'gbdt', 'colsample_bytree': 0.8, 'learning_rate': 0.1, 'min_child_samples': 240, 'n_estimators': 10000, 'n_jobs': -1, 'num_leaves': 32, 'objective': 'regression', 'subsample': 0.8, 'subsample_freq': 5}\n"
     ]
    },
    {
     "name": "stdout",
     "output_type": "stream",
     "text": [
      "[100]\tvalid_0's rmse: 0.915564\tvalid_0's l2: 0.838257\tvalid_1's rmse: 0.820523\tvalid_1's l2: 0.673258           \n",
      "[200]\tvalid_0's rmse: 0.916132\tvalid_0's l2: 0.839298\tvalid_1's rmse: 0.781734\tvalid_1's l2: 0.611108           \n",
      "[100]\tvalid_0's rmse: 0.854946\tvalid_0's l2: 0.730932\tvalid_1's rmse: 0.821587\tvalid_1's l2: 0.675006           \n",
      "[200]\tvalid_0's rmse: 0.84849\tvalid_0's l2: 0.719936\tvalid_1's rmse: 0.784152\tvalid_1's l2: 0.614895            \n",
      "[300]\tvalid_0's rmse: 0.844757\tvalid_0's l2: 0.713615\tvalid_1's rmse: 0.756942\tvalid_1's l2: 0.572962           \n",
      "[100]\tvalid_0's rmse: 0.877645\tvalid_0's l2: 0.77026\tvalid_1's rmse: 0.81761\tvalid_1's l2: 0.668486             \n",
      "[200]\tvalid_0's rmse: 0.87725\tvalid_0's l2: 0.769567\tvalid_1's rmse: 0.779588\tvalid_1's l2: 0.607757            \n",
      " 30%|████████████                            | 60/200 [02:14<04:42,  2.01s/trial, best loss: 0.8726936548579755]"
     ]
    },
    {
     "name": "stderr",
     "output_type": "stream",
     "text": [
      "Score - 0.8776658789403452, Std - 0.028105055583006584, Eval Score - 0.8776658789403452\n",
      "Score across folds - [0.9131409935202651, 0.8444048423966226, 0.8754518009041476].\n"
     ]
    },
    {
     "name": "stdout",
     "output_type": "stream",
     "text": [
      "\r\n",
      " 30%|████████████▏                           | 61/200 [02:14<04:49,  2.09s/trial, best loss: 0.8726936548579755]"
     ]
    },
    {
     "name": "stderr",
     "output_type": "stream",
     "text": [
      "\n",
      "Iteration: 62, Training with params: {'boosting_type': 'gbdt', 'colsample_bytree': 0.6000000000000001, 'learning_rate': 0.1, 'min_child_samples': 160, 'n_estimators': 10000, 'n_jobs': -1, 'num_leaves': 64, 'objective': 'regression', 'subsample': 0.6000000000000001, 'subsample_freq': 10}\n"
     ]
    },
    {
     "name": "stdout",
     "output_type": "stream",
     "text": [
      "[100]\tvalid_0's rmse: 0.916815\tvalid_0's l2: 0.84055\tvalid_1's rmse: 0.799316\tvalid_1's l2: 0.638907            \n",
      "[100]\tvalid_0's rmse: 0.854801\tvalid_0's l2: 0.730684\tvalid_1's rmse: 0.805151\tvalid_1's l2: 0.648269           \n",
      "[200]\tvalid_0's rmse: 0.854076\tvalid_0's l2: 0.729446\tvalid_1's rmse: 0.755056\tvalid_1's l2: 0.57011            \n",
      "[100]\tvalid_0's rmse: 0.878529\tvalid_0's l2: 0.771813\tvalid_1's rmse: 0.801147\tvalid_1's l2: 0.641836           \n",
      "[200]\tvalid_0's rmse: 0.880242\tvalid_0's l2: 0.774826\tvalid_1's rmse: 0.75343\tvalid_1's l2: 0.567657            \n",
      " 30%|████████████▏                           | 61/200 [02:16<04:49,  2.09s/trial, best loss: 0.8726936548579755]"
     ]
    },
    {
     "name": "stderr",
     "output_type": "stream",
     "text": [
      "Score - 0.8808087503640687, Std - 0.026672714767374015, Eval Score - 0.8808087503640687\n",
      "Score across folds - [0.9149915543007379, 0.8499042203697234, 0.8775304764217449].\n"
     ]
    },
    {
     "name": "stdout",
     "output_type": "stream",
     "text": [
      "\r\n",
      " 31%|████████████▍                           | 62/200 [02:16<04:52,  2.12s/trial, best loss: 0.8726936548579755]"
     ]
    },
    {
     "name": "stderr",
     "output_type": "stream",
     "text": [
      "\n",
      "Iteration: 63, Training with params: {'boosting_type': 'gbdt', 'colsample_bytree': 0.8, 'learning_rate': 0.1, 'min_child_samples': 200, 'n_estimators': 10000, 'n_jobs': -1, 'num_leaves': 16, 'objective': 'regression', 'subsample': 0.4, 'subsample_freq': 10}\n"
     ]
    },
    {
     "name": "stdout",
     "output_type": "stream",
     "text": [
      "[100]\tvalid_0's rmse: 0.925254\tvalid_0's l2: 0.856095\tvalid_1's rmse: 0.860715\tvalid_1's l2: 0.74083            \n",
      "[200]\tvalid_0's rmse: 0.921556\tvalid_0's l2: 0.849266\tvalid_1's rmse: 0.834626\tvalid_1's l2: 0.696601           \n",
      "[100]\tvalid_0's rmse: 0.87106\tvalid_0's l2: 0.758746\tvalid_1's rmse: 0.864704\tvalid_1's l2: 0.747713            \n",
      "[200]\tvalid_0's rmse: 0.861413\tvalid_0's l2: 0.742033\tvalid_1's rmse: 0.838814\tvalid_1's l2: 0.703609           \n",
      "[300]\tvalid_0's rmse: 0.858086\tvalid_0's l2: 0.736312\tvalid_1's rmse: 0.822868\tvalid_1's l2: 0.677112           \n",
      "[400]\tvalid_0's rmse: 0.856356\tvalid_0's l2: 0.733346\tvalid_1's rmse: 0.809576\tvalid_1's l2: 0.655414           \n",
      "[500]\tvalid_0's rmse: 0.857383\tvalid_0's l2: 0.735105\tvalid_1's rmse: 0.797812\tvalid_1's l2: 0.636504           \n",
      "[100]\tvalid_0's rmse: 0.896937\tvalid_0's l2: 0.804496\tvalid_1's rmse: 0.85816\tvalid_1's l2: 0.736438            \n",
      "[200]\tvalid_0's rmse: 0.890055\tvalid_0's l2: 0.792198\tvalid_1's rmse: 0.833058\tvalid_1's l2: 0.693986           \n",
      "[300]\tvalid_0's rmse: 0.888265\tvalid_0's l2: 0.789014\tvalid_1's rmse: 0.818049\tvalid_1's l2: 0.669205           \n",
      " 31%|████████████▍                           | 62/200 [02:18<04:52,  2.12s/trial, best loss: 0.8726936548579755]"
     ]
    },
    {
     "name": "stderr",
     "output_type": "stream",
     "text": [
      "Score - 0.8877029321138729, Std - 0.026309698768030947, Eval Score - 0.8877029321138729\n",
      "Score across folds - [0.9200233195367319, 0.8555788794853765, 0.8875065973195105].\n"
     ]
    },
    {
     "name": "stdout",
     "output_type": "stream",
     "text": [
      "\r\n",
      " 32%|████████████▌                           | 63/200 [02:18<04:38,  2.03s/trial, best loss: 0.8726936548579755]"
     ]
    },
    {
     "name": "stderr",
     "output_type": "stream",
     "text": [
      "\n",
      "Iteration: 64, Training with params: {'boosting_type': 'gbdt', 'colsample_bytree': 1.0, 'learning_rate': 0.1, 'min_child_samples': 120, 'n_estimators': 10000, 'n_jobs': -1, 'num_leaves': 80, 'objective': 'regression', 'subsample': 1.0, 'subsample_freq': 5}\n"
     ]
    },
    {
     "name": "stdout",
     "output_type": "stream",
     "text": [
      "[100]\tvalid_0's rmse: 0.925589\tvalid_0's l2: 0.856715\tvalid_1's rmse: 0.733813\tvalid_1's l2: 0.538482           \n",
      "[100]\tvalid_0's rmse: 0.844464\tvalid_0's l2: 0.71312\tvalid_1's rmse: 0.737643\tvalid_1's l2: 0.544117            \n",
      "[200]\tvalid_0's rmse: 0.845807\tvalid_0's l2: 0.71539\tvalid_1's rmse: 0.665384\tvalid_1's l2: 0.442736            \n",
      "[100]\tvalid_0's rmse: 0.881098\tvalid_0's l2: 0.776334\tvalid_1's rmse: 0.732569\tvalid_1's l2: 0.536657           \n",
      " 32%|████████████▌                           | 63/200 [02:20<04:38,  2.03s/trial, best loss: 0.8726936548579755]"
     ]
    },
    {
     "name": "stderr",
     "output_type": "stream",
     "text": [
      "Score - 0.8814245033929108, Std - 0.03224075046615071, Eval Score - 0.8814245033929108\n",
      "Score across folds - [0.9210921553720691, 0.8421212905158054, 0.8810600642908576].\n"
     ]
    },
    {
     "name": "stdout",
     "output_type": "stream",
     "text": [
      "\r\n",
      " 32%|████████████▊                           | 64/200 [02:20<04:46,  2.11s/trial, best loss: 0.8726936548579755]"
     ]
    },
    {
     "name": "stderr",
     "output_type": "stream",
     "text": [
      "\n",
      "Iteration: 65, Training with params: {'boosting_type': 'gbdt', 'colsample_bytree': 0.6000000000000001, 'learning_rate': 0.1, 'min_child_samples': 160, 'n_estimators': 10000, 'n_jobs': -1, 'num_leaves': 16, 'objective': 'regression', 'subsample': 0.8, 'subsample_freq': 10}\n"
     ]
    },
    {
     "name": "stdout",
     "output_type": "stream",
     "text": [
      "[100]\tvalid_0's rmse: 0.918085\tvalid_0's l2: 0.842881\tvalid_1's rmse: 0.848355\tvalid_1's l2: 0.719705           \n",
      "[200]\tvalid_0's rmse: 0.913166\tvalid_0's l2: 0.833872\tvalid_1's rmse: 0.816724\tvalid_1's l2: 0.667037           \n",
      "[100]\tvalid_0's rmse: 0.856635\tvalid_0's l2: 0.733824\tvalid_1's rmse: 0.851126\tvalid_1's l2: 0.724416           \n",
      "[200]\tvalid_0's rmse: 0.841612\tvalid_0's l2: 0.708311\tvalid_1's rmse: 0.821124\tvalid_1's l2: 0.674244           \n",
      "[300]\tvalid_0's rmse: 0.839305\tvalid_0's l2: 0.704433\tvalid_1's rmse: 0.802552\tvalid_1's l2: 0.64409            \n",
      "[400]\tvalid_0's rmse: 0.83987\tvalid_0's l2: 0.705381\tvalid_1's rmse: 0.787097\tvalid_1's l2: 0.619522            \n",
      "[100]\tvalid_0's rmse: 0.884138\tvalid_0's l2: 0.781701\tvalid_1's rmse: 0.846325\tvalid_1's l2: 0.716266           \n",
      "[200]\tvalid_0's rmse: 0.873484\tvalid_0's l2: 0.762975\tvalid_1's rmse: 0.816208\tvalid_1's l2: 0.666196           \n",
      " 32%|████████████▊                           | 64/200 [02:22<04:46,  2.11s/trial, best loss: 0.8726936548579755]"
     ]
    },
    {
     "name": "stderr",
     "output_type": "stream",
     "text": [
      "Score - 0.8740428273297552, Std - 0.0301840213687761, Eval Score - 0.8740428273297552\n",
      "Score across folds - [0.9117880115423492, 0.837904994983192, 0.8724354754637246].\n"
     ]
    },
    {
     "name": "stdout",
     "output_type": "stream",
     "text": [
      "\r\n",
      " 32%|█████████████                           | 65/200 [02:22<04:31,  2.01s/trial, best loss: 0.8726936548579755]"
     ]
    },
    {
     "name": "stderr",
     "output_type": "stream",
     "text": [
      "\n",
      "Iteration: 66, Training with params: {'boosting_type': 'gbdt', 'colsample_bytree': 0.8, 'learning_rate': 0.1, 'min_child_samples': 120, 'n_estimators': 10000, 'n_jobs': -1, 'num_leaves': 16, 'objective': 'regression', 'subsample': 1.0, 'subsample_freq': 10}\n"
     ]
    },
    {
     "name": "stdout",
     "output_type": "stream",
     "text": [
      "[100]\tvalid_0's rmse: 0.91433\tvalid_0's l2: 0.836\tvalid_1's rmse: 0.842608\tvalid_1's l2: 0.709988               \n",
      "[200]\tvalid_0's rmse: 0.910203\tvalid_0's l2: 0.828469\tvalid_1's rmse: 0.811032\tvalid_1's l2: 0.657774           \n",
      "[300]\tvalid_0's rmse: 0.913668\tvalid_0's l2: 0.83479\tvalid_1's rmse: 0.789852\tvalid_1's l2: 0.623865            \n",
      "[100]\tvalid_0's rmse: 0.856363\tvalid_0's l2: 0.733358\tvalid_1's rmse: 0.846537\tvalid_1's l2: 0.716624           \n",
      "[200]\tvalid_0's rmse: 0.842304\tvalid_0's l2: 0.709477\tvalid_1's rmse: 0.814114\tvalid_1's l2: 0.662781           \n",
      "[300]\tvalid_0's rmse: 0.83939\tvalid_0's l2: 0.704576\tvalid_1's rmse: 0.793653\tvalid_1's l2: 0.629885            \n",
      "[400]\tvalid_0's rmse: 0.836565\tvalid_0's l2: 0.699841\tvalid_1's rmse: 0.776157\tvalid_1's l2: 0.60242            \n",
      "[500]\tvalid_0's rmse: 0.837116\tvalid_0's l2: 0.700763\tvalid_1's rmse: 0.762072\tvalid_1's l2: 0.580754           \n",
      "[100]\tvalid_0's rmse: 0.880524\tvalid_0's l2: 0.775323\tvalid_1's rmse: 0.840529\tvalid_1's l2: 0.706489           \n",
      "[200]\tvalid_0's rmse: 0.874055\tvalid_0's l2: 0.763973\tvalid_1's rmse: 0.809835\tvalid_1's l2: 0.655832           \n",
      " 32%|█████████████                           | 65/200 [02:24<04:31,  2.01s/trial, best loss: 0.8726936548579755]"
     ]
    },
    {
     "name": "stderr",
     "output_type": "stream",
     "text": [
      "Score - 0.8728706157581096, Std - 0.030459116744569102, Eval Score - 0.8728706157581096\n",
      "Score across folds - [0.9099137658745747, 0.8353098584334112, 0.873388222966343].\n"
     ]
    },
    {
     "name": "stdout",
     "output_type": "stream",
     "text": [
      "\r\n",
      " 33%|█████████████▏                          | 66/200 [02:24<04:11,  1.88s/trial, best loss: 0.8726936548579755]"
     ]
    },
    {
     "name": "stderr",
     "output_type": "stream",
     "text": [
      "\n",
      "Iteration: 67, Training with params: {'boosting_type': 'gbdt', 'colsample_bytree': 0.8, 'learning_rate': 0.1, 'min_child_samples': 120, 'n_estimators': 10000, 'n_jobs': -1, 'num_leaves': 16, 'objective': 'regression', 'subsample': 1.0, 'subsample_freq': 10}\n"
     ]
    },
    {
     "name": "stdout",
     "output_type": "stream",
     "text": [
      "[100]\tvalid_0's rmse: 0.91433\tvalid_0's l2: 0.836\tvalid_1's rmse: 0.842608\tvalid_1's l2: 0.709988               \n",
      "[200]\tvalid_0's rmse: 0.910203\tvalid_0's l2: 0.828469\tvalid_1's rmse: 0.811032\tvalid_1's l2: 0.657774           \n",
      "[300]\tvalid_0's rmse: 0.913668\tvalid_0's l2: 0.83479\tvalid_1's rmse: 0.789852\tvalid_1's l2: 0.623865            \n",
      "[100]\tvalid_0's rmse: 0.856363\tvalid_0's l2: 0.733358\tvalid_1's rmse: 0.846537\tvalid_1's l2: 0.716624           \n",
      "[200]\tvalid_0's rmse: 0.842304\tvalid_0's l2: 0.709477\tvalid_1's rmse: 0.814114\tvalid_1's l2: 0.662781           \n",
      "[300]\tvalid_0's rmse: 0.83939\tvalid_0's l2: 0.704576\tvalid_1's rmse: 0.793653\tvalid_1's l2: 0.629885            \n",
      "[400]\tvalid_0's rmse: 0.836565\tvalid_0's l2: 0.699841\tvalid_1's rmse: 0.776157\tvalid_1's l2: 0.60242            \n",
      "[500]\tvalid_0's rmse: 0.837116\tvalid_0's l2: 0.700763\tvalid_1's rmse: 0.762072\tvalid_1's l2: 0.580754           \n",
      "[100]\tvalid_0's rmse: 0.880524\tvalid_0's l2: 0.775323\tvalid_1's rmse: 0.840529\tvalid_1's l2: 0.706489           \n",
      "[200]\tvalid_0's rmse: 0.874055\tvalid_0's l2: 0.763973\tvalid_1's rmse: 0.809835\tvalid_1's l2: 0.655832           \n",
      " 33%|█████████████▏                          | 66/200 [02:25<04:11,  1.88s/trial, best loss: 0.8726936548579755]"
     ]
    },
    {
     "name": "stderr",
     "output_type": "stream",
     "text": [
      "Score - 0.8728706157581096, Std - 0.030459116744569102, Eval Score - 0.8728706157581096\n",
      "Score across folds - [0.9099137658745747, 0.8353098584334112, 0.873388222966343].\n"
     ]
    },
    {
     "name": "stdout",
     "output_type": "stream",
     "text": [
      "\r\n",
      " 34%|█████████████▍                          | 67/200 [02:25<03:58,  1.79s/trial, best loss: 0.8726936548579755]"
     ]
    },
    {
     "name": "stderr",
     "output_type": "stream",
     "text": [
      "\n",
      "Iteration: 68, Training with params: {'boosting_type': 'gbdt', 'colsample_bytree': 0.8, 'learning_rate': 0.1, 'min_child_samples': 120, 'n_estimators': 10000, 'n_jobs': -1, 'num_leaves': 16, 'objective': 'regression', 'subsample': 1.0, 'subsample_freq': 10}\n"
     ]
    },
    {
     "name": "stdout",
     "output_type": "stream",
     "text": [
      "[100]\tvalid_0's rmse: 0.91433\tvalid_0's l2: 0.836\tvalid_1's rmse: 0.842608\tvalid_1's l2: 0.709988               \n",
      "[200]\tvalid_0's rmse: 0.910203\tvalid_0's l2: 0.828469\tvalid_1's rmse: 0.811032\tvalid_1's l2: 0.657774           \n",
      "[300]\tvalid_0's rmse: 0.913668\tvalid_0's l2: 0.83479\tvalid_1's rmse: 0.789852\tvalid_1's l2: 0.623865            \n",
      "[100]\tvalid_0's rmse: 0.856363\tvalid_0's l2: 0.733358\tvalid_1's rmse: 0.846537\tvalid_1's l2: 0.716624           \n",
      "[200]\tvalid_0's rmse: 0.842304\tvalid_0's l2: 0.709477\tvalid_1's rmse: 0.814114\tvalid_1's l2: 0.662781           \n",
      "[300]\tvalid_0's rmse: 0.83939\tvalid_0's l2: 0.704576\tvalid_1's rmse: 0.793653\tvalid_1's l2: 0.629885            \n",
      "[400]\tvalid_0's rmse: 0.836565\tvalid_0's l2: 0.699841\tvalid_1's rmse: 0.776157\tvalid_1's l2: 0.60242            \n",
      "[500]\tvalid_0's rmse: 0.837116\tvalid_0's l2: 0.700763\tvalid_1's rmse: 0.762072\tvalid_1's l2: 0.580754           \n",
      "[100]\tvalid_0's rmse: 0.880524\tvalid_0's l2: 0.775323\tvalid_1's rmse: 0.840529\tvalid_1's l2: 0.706489           \n",
      "[200]\tvalid_0's rmse: 0.874055\tvalid_0's l2: 0.763973\tvalid_1's rmse: 0.809835\tvalid_1's l2: 0.655832           \n",
      " 34%|█████████████▍                          | 67/200 [02:27<03:58,  1.79s/trial, best loss: 0.8726936548579755]"
     ]
    },
    {
     "name": "stderr",
     "output_type": "stream",
     "text": [
      "Score - 0.8728706157581096, Std - 0.030459116744569102, Eval Score - 0.8728706157581096\n",
      "Score across folds - [0.9099137658745747, 0.8353098584334112, 0.873388222966343].\n"
     ]
    },
    {
     "name": "stdout",
     "output_type": "stream",
     "text": [
      "\r\n",
      " 34%|█████████████▌                          | 68/200 [02:27<03:48,  1.73s/trial, best loss: 0.8726936548579755]"
     ]
    },
    {
     "name": "stderr",
     "output_type": "stream",
     "text": [
      "\n",
      "Iteration: 69, Training with params: {'boosting_type': 'gbdt', 'colsample_bytree': 0.8, 'learning_rate': 0.1, 'min_child_samples': 160, 'n_estimators': 10000, 'n_jobs': -1, 'num_leaves': 16, 'objective': 'regression', 'subsample': 1.0, 'subsample_freq': 10}\n"
     ]
    },
    {
     "name": "stdout",
     "output_type": "stream",
     "text": [
      "[100]\tvalid_0's rmse: 0.917115\tvalid_0's l2: 0.841099\tvalid_1's rmse: 0.844193\tvalid_1's l2: 0.712663           \n",
      "[200]\tvalid_0's rmse: 0.913592\tvalid_0's l2: 0.834651\tvalid_1's rmse: 0.812322\tvalid_1's l2: 0.659867           \n",
      "[300]\tvalid_0's rmse: 0.91467\tvalid_0's l2: 0.836621\tvalid_1's rmse: 0.793718\tvalid_1's l2: 0.629989            \n",
      "[100]\tvalid_0's rmse: 0.855078\tvalid_0's l2: 0.731158\tvalid_1's rmse: 0.847318\tvalid_1's l2: 0.717948           \n",
      "[200]\tvalid_0's rmse: 0.842095\tvalid_0's l2: 0.709125\tvalid_1's rmse: 0.816686\tvalid_1's l2: 0.666976           \n",
      "[300]\tvalid_0's rmse: 0.838449\tvalid_0's l2: 0.702996\tvalid_1's rmse: 0.797025\tvalid_1's l2: 0.63525            \n",
      "[400]\tvalid_0's rmse: 0.837074\tvalid_0's l2: 0.700694\tvalid_1's rmse: 0.782228\tvalid_1's l2: 0.611881           \n",
      "[500]\tvalid_0's rmse: 0.837105\tvalid_0's l2: 0.700744\tvalid_1's rmse: 0.768998\tvalid_1's l2: 0.591358           \n",
      "[100]\tvalid_0's rmse: 0.879874\tvalid_0's l2: 0.774179\tvalid_1's rmse: 0.842517\tvalid_1's l2: 0.709835           \n",
      "[200]\tvalid_0's rmse: 0.871824\tvalid_0's l2: 0.760078\tvalid_1's rmse: 0.811681\tvalid_1's l2: 0.658827           \n",
      "[300]\tvalid_0's rmse: 0.870039\tvalid_0's l2: 0.756967\tvalid_1's rmse: 0.792452\tvalid_1's l2: 0.627979           \n",
      " 34%|█████████████▌                          | 68/200 [02:29<03:48,  1.73s/trial, best loss: 0.8726936548579755]"
     ]
    },
    {
     "name": "stderr",
     "output_type": "stream",
     "text": [
      "Score - 0.8726936548579755, Std - 0.03154146545988049, Eval Score - 0.8726936548579755\n",
      "Score across folds - [0.9127151257961247, 0.8356239785368019, 0.869741860241].\n"
     ]
    },
    {
     "name": "stdout",
     "output_type": "stream",
     "text": [
      "\r\n",
      " 34%|█████████████▊                          | 69/200 [02:29<03:48,  1.74s/trial, best loss: 0.8726936548579755]"
     ]
    },
    {
     "name": "stderr",
     "output_type": "stream",
     "text": [
      "\n",
      "Iteration: 70, Training with params: {'boosting_type': 'gbdt', 'colsample_bytree': 0.8, 'learning_rate': 0.1, 'min_child_samples': 160, 'n_estimators': 10000, 'n_jobs': -1, 'num_leaves': 16, 'objective': 'regression', 'subsample': 1.0, 'subsample_freq': 10}\n"
     ]
    },
    {
     "name": "stdout",
     "output_type": "stream",
     "text": [
      "[100]\tvalid_0's rmse: 0.917115\tvalid_0's l2: 0.841099\tvalid_1's rmse: 0.844193\tvalid_1's l2: 0.712663           \n",
      "[200]\tvalid_0's rmse: 0.913592\tvalid_0's l2: 0.834651\tvalid_1's rmse: 0.812322\tvalid_1's l2: 0.659867           \n",
      "[300]\tvalid_0's rmse: 0.91467\tvalid_0's l2: 0.836621\tvalid_1's rmse: 0.793718\tvalid_1's l2: 0.629989            \n",
      "[100]\tvalid_0's rmse: 0.855078\tvalid_0's l2: 0.731158\tvalid_1's rmse: 0.847318\tvalid_1's l2: 0.717948           \n",
      "[200]\tvalid_0's rmse: 0.842095\tvalid_0's l2: 0.709125\tvalid_1's rmse: 0.816686\tvalid_1's l2: 0.666976           \n",
      "[300]\tvalid_0's rmse: 0.838449\tvalid_0's l2: 0.702996\tvalid_1's rmse: 0.797025\tvalid_1's l2: 0.63525            \n",
      "[400]\tvalid_0's rmse: 0.837074\tvalid_0's l2: 0.700694\tvalid_1's rmse: 0.782228\tvalid_1's l2: 0.611881           \n",
      "[500]\tvalid_0's rmse: 0.837105\tvalid_0's l2: 0.700744\tvalid_1's rmse: 0.768998\tvalid_1's l2: 0.591358           \n",
      "[100]\tvalid_0's rmse: 0.879874\tvalid_0's l2: 0.774179\tvalid_1's rmse: 0.842517\tvalid_1's l2: 0.709835           \n",
      "[200]\tvalid_0's rmse: 0.871824\tvalid_0's l2: 0.760078\tvalid_1's rmse: 0.811681\tvalid_1's l2: 0.658827           \n",
      "[300]\tvalid_0's rmse: 0.870039\tvalid_0's l2: 0.756967\tvalid_1's rmse: 0.792452\tvalid_1's l2: 0.627979           \n",
      " 34%|█████████████▊                          | 69/200 [02:30<03:48,  1.74s/trial, best loss: 0.8726936548579755]"
     ]
    },
    {
     "name": "stderr",
     "output_type": "stream",
     "text": [
      "Score - 0.8726936548579755, Std - 0.03154146545988049, Eval Score - 0.8726936548579755\n",
      "Score across folds - [0.9127151257961247, 0.8356239785368019, 0.869741860241].\n"
     ]
    },
    {
     "name": "stdout",
     "output_type": "stream",
     "text": [
      "\r\n",
      " 35%|██████████████                          | 70/200 [02:30<03:48,  1.76s/trial, best loss: 0.8726936548579755]"
     ]
    },
    {
     "name": "stderr",
     "output_type": "stream",
     "text": [
      "\n",
      "Iteration: 71, Training with params: {'boosting_type': 'gbdt', 'colsample_bytree': 0.6000000000000001, 'learning_rate': 0.1, 'min_child_samples': 160, 'n_estimators': 10000, 'n_jobs': -1, 'num_leaves': 32, 'objective': 'regression', 'subsample': 0.8, 'subsample_freq': 10}\n"
     ]
    },
    {
     "name": "stdout",
     "output_type": "stream",
     "text": [
      "[100]\tvalid_0's rmse: 0.912025\tvalid_0's l2: 0.83179\tvalid_1's rmse: 0.813879\tvalid_1's l2: 0.662398            \n",
      "[200]\tvalid_0's rmse: 0.915582\tvalid_0's l2: 0.83829\tvalid_1's rmse: 0.774588\tvalid_1's l2: 0.599986            \n",
      "[100]\tvalid_0's rmse: 0.851815\tvalid_0's l2: 0.725589\tvalid_1's rmse: 0.817763\tvalid_1's l2: 0.668737           \n",
      "[200]\tvalid_0's rmse: 0.841533\tvalid_0's l2: 0.708178\tvalid_1's rmse: 0.778354\tvalid_1's l2: 0.605836           \n",
      "[300]\tvalid_0's rmse: 0.839746\tvalid_0's l2: 0.705173\tvalid_1's rmse: 0.750542\tvalid_1's l2: 0.563314           \n",
      "[400]\tvalid_0's rmse: 0.842372\tvalid_0's l2: 0.709591\tvalid_1's rmse: 0.726877\tvalid_1's l2: 0.528349           \n",
      "[100]\tvalid_0's rmse: 0.876192\tvalid_0's l2: 0.767713\tvalid_1's rmse: 0.813428\tvalid_1's l2: 0.661665           \n",
      "[200]\tvalid_0's rmse: 0.876095\tvalid_0's l2: 0.767543\tvalid_1's rmse: 0.774369\tvalid_1's l2: 0.599648           \n",
      " 35%|██████████████                          | 70/200 [02:33<03:48,  1.76s/trial, best loss: 0.8726936548579755]"
     ]
    },
    {
     "name": "stderr",
     "output_type": "stream",
     "text": [
      "Score - 0.874264114898038, Std - 0.030147364788497007, Eval Score - 0.874264114898038\n",
      "Score across folds - [0.9120252050058042, 0.8382409194965297, 0.8725262201917802].\n"
     ]
    },
    {
     "name": "stdout",
     "output_type": "stream",
     "text": [
      "\r\n",
      " 36%|██████████████▏                         | 71/200 [02:33<04:30,  2.10s/trial, best loss: 0.8726936548579755]"
     ]
    },
    {
     "name": "stderr",
     "output_type": "stream",
     "text": [
      "\n",
      "Iteration: 72, Training with params: {'boosting_type': 'gbdt', 'colsample_bytree': 1.0, 'learning_rate': 0.1, 'min_child_samples': 160, 'n_estimators': 10000, 'n_jobs': -1, 'num_leaves': 16, 'objective': 'regression', 'subsample': 1.0, 'subsample_freq': 10}\n"
     ]
    },
    {
     "name": "stdout",
     "output_type": "stream",
     "text": [
      "[100]\tvalid_0's rmse: 0.917688\tvalid_0's l2: 0.842151\tvalid_1's rmse: 0.842682\tvalid_1's l2: 0.710114           \n",
      "[200]\tvalid_0's rmse: 0.91391\tvalid_0's l2: 0.835232\tvalid_1's rmse: 0.811141\tvalid_1's l2: 0.65795             \n",
      "[100]\tvalid_0's rmse: 0.853488\tvalid_0's l2: 0.728441\tvalid_1's rmse: 0.846334\tvalid_1's l2: 0.716281           \n",
      "[200]\tvalid_0's rmse: 0.839398\tvalid_0's l2: 0.704589\tvalid_1's rmse: 0.814651\tvalid_1's l2: 0.663657           \n",
      "[300]\tvalid_0's rmse: 0.837368\tvalid_0's l2: 0.701186\tvalid_1's rmse: 0.795745\tvalid_1's l2: 0.633209           \n",
      "[400]\tvalid_0's rmse: 0.835518\tvalid_0's l2: 0.69809\tvalid_1's rmse: 0.781722\tvalid_1's l2: 0.611089            \n",
      "[100]\tvalid_0's rmse: 0.881298\tvalid_0's l2: 0.776687\tvalid_1's rmse: 0.840639\tvalid_1's l2: 0.706674           \n",
      "[200]\tvalid_0's rmse: 0.872826\tvalid_0's l2: 0.761825\tvalid_1's rmse: 0.809885\tvalid_1's l2: 0.655913           \n",
      "[300]\tvalid_0's rmse: 0.872124\tvalid_0's l2: 0.7606\tvalid_1's rmse: 0.790033\tvalid_1's l2: 0.624152             \n",
      " 36%|██████████████▏                         | 71/200 [02:35<04:30,  2.10s/trial, best loss: 0.8726936548579755]"
     ]
    },
    {
     "name": "stderr",
     "output_type": "stream",
     "text": [
      "Score - 0.8725154993765815, Std - 0.03162061224875319, Eval Score - 0.8725154993765815\n",
      "Score across folds - [0.9122597201044806, 0.8348925476937529, 0.8703942303315106].\n"
     ]
    },
    {
     "name": "stdout",
     "output_type": "stream",
     "text": [
      "\r\n",
      " 36%|██████████████▍                         | 72/200 [02:35<04:06,  1.93s/trial, best loss: 0.8725154993765815]"
     ]
    },
    {
     "name": "stderr",
     "output_type": "stream",
     "text": [
      "\n",
      "Iteration: 73, Training with params: {'boosting_type': 'gbdt', 'colsample_bytree': 1.0, 'learning_rate': 0.1, 'min_child_samples': 80, 'n_estimators': 10000, 'n_jobs': -1, 'num_leaves': 32, 'objective': 'regression', 'subsample': 1.0, 'subsample_freq': 10}\n"
     ]
    },
    {
     "name": "stdout",
     "output_type": "stream",
     "text": [
      "[100]\tvalid_0's rmse: 0.917803\tvalid_0's l2: 0.842363\tvalid_1's rmse: 0.796283\tvalid_1's l2: 0.634067           \n",
      "[100]\tvalid_0's rmse: 0.843947\tvalid_0's l2: 0.712247\tvalid_1's rmse: 0.800291\tvalid_1's l2: 0.640465           \n",
      "[200]\tvalid_0's rmse: 0.836146\tvalid_0's l2: 0.699139\tvalid_1's rmse: 0.754009\tvalid_1's l2: 0.568529           \n",
      "[100]\tvalid_0's rmse: 0.878151\tvalid_0's l2: 0.771149\tvalid_1's rmse: 0.796858\tvalid_1's l2: 0.634983           \n",
      "[200]\tvalid_0's rmse: 0.879073\tvalid_0's l2: 0.772769\tvalid_1's rmse: 0.75018\tvalid_1's l2: 0.56277             \n",
      " 36%|██████████████▍                         | 72/200 [02:36<04:06,  1.93s/trial, best loss: 0.8725154993765815]"
     ]
    },
    {
     "name": "stderr",
     "output_type": "stream",
     "text": [
      "Score - 0.8757882975223721, Std - 0.03300457470347433, Eval Score - 0.8757882975223721\n",
      "Score across folds - [0.9157590852703922, 0.8349293552643936, 0.8766764520323305].\n"
     ]
    },
    {
     "name": "stdout",
     "output_type": "stream",
     "text": [
      "\r\n",
      " 36%|██████████████▌                         | 73/200 [02:36<03:48,  1.80s/trial, best loss: 0.8725154993765815]"
     ]
    },
    {
     "name": "stderr",
     "output_type": "stream",
     "text": [
      "\n",
      "Iteration: 74, Training with params: {'boosting_type': 'gbdt', 'colsample_bytree': 1.0, 'learning_rate': 0.1, 'min_child_samples': 160, 'n_estimators': 10000, 'n_jobs': -1, 'num_leaves': 16, 'objective': 'regression', 'subsample': 0.8, 'subsample_freq': 10}\n"
     ]
    },
    {
     "name": "stdout",
     "output_type": "stream",
     "text": [
      "[100]\tvalid_0's rmse: 0.920207\tvalid_0's l2: 0.846781\tvalid_1's rmse: 0.84433\tvalid_1's l2: 0.712894            \n",
      "[200]\tvalid_0's rmse: 0.917047\tvalid_0's l2: 0.840976\tvalid_1's rmse: 0.811635\tvalid_1's l2: 0.658751           \n",
      "[100]\tvalid_0's rmse: 0.855122\tvalid_0's l2: 0.731234\tvalid_1's rmse: 0.846842\tvalid_1's l2: 0.717141           \n",
      "[200]\tvalid_0's rmse: 0.841304\tvalid_0's l2: 0.707792\tvalid_1's rmse: 0.814875\tvalid_1's l2: 0.664022           \n",
      "[300]\tvalid_0's rmse: 0.839489\tvalid_0's l2: 0.704741\tvalid_1's rmse: 0.794737\tvalid_1's l2: 0.631607           \n",
      "[100]\tvalid_0's rmse: 0.879685\tvalid_0's l2: 0.773845\tvalid_1's rmse: 0.841654\tvalid_1's l2: 0.708381           \n",
      "[200]\tvalid_0's rmse: 0.875018\tvalid_0's l2: 0.765657\tvalid_1's rmse: 0.809931\tvalid_1's l2: 0.655989           \n",
      "[300]\tvalid_0's rmse: 0.874831\tvalid_0's l2: 0.76533\tvalid_1's rmse: 0.790126\tvalid_1's l2: 0.624299            \n",
      " 36%|██████████████▌                         | 73/200 [02:38<03:48,  1.80s/trial, best loss: 0.8725154993765815]"
     ]
    },
    {
     "name": "stderr",
     "output_type": "stream",
     "text": [
      "Score - 0.8757953033638749, Std - 0.031367098530970514, Eval Score - 0.8757953033638749\n",
      "Score across folds - [0.9155978114769284, 0.8389334312080526, 0.8728546674066436].\n"
     ]
    },
    {
     "name": "stdout",
     "output_type": "stream",
     "text": [
      "\r\n",
      " 37%|██████████████▊                         | 74/200 [02:38<03:41,  1.76s/trial, best loss: 0.8725154993765815]"
     ]
    },
    {
     "name": "stderr",
     "output_type": "stream",
     "text": [
      "\n",
      "Iteration: 75, Training with params: {'boosting_type': 'gbdt', 'colsample_bytree': 1.0, 'learning_rate': 0.1, 'min_child_samples': 120, 'n_estimators': 10000, 'n_jobs': -1, 'num_leaves': 16, 'objective': 'regression', 'subsample': 1.0, 'subsample_freq': 10}\n"
     ]
    },
    {
     "name": "stdout",
     "output_type": "stream",
     "text": [
      "[100]\tvalid_0's rmse: 0.916501\tvalid_0's l2: 0.839975\tvalid_1's rmse: 0.842285\tvalid_1's l2: 0.709443           \n",
      "[200]\tvalid_0's rmse: 0.910929\tvalid_0's l2: 0.829792\tvalid_1's rmse: 0.80785\tvalid_1's l2: 0.652621            \n",
      "[100]\tvalid_0's rmse: 0.853214\tvalid_0's l2: 0.727975\tvalid_1's rmse: 0.844632\tvalid_1's l2: 0.713404           \n",
      "[200]\tvalid_0's rmse: 0.842164\tvalid_0's l2: 0.70924\tvalid_1's rmse: 0.812701\tvalid_1's l2: 0.660482            \n",
      "[300]\tvalid_0's rmse: 0.841847\tvalid_0's l2: 0.708707\tvalid_1's rmse: 0.790875\tvalid_1's l2: 0.625484           \n",
      "[400]\tvalid_0's rmse: 0.840053\tvalid_0's l2: 0.705689\tvalid_1's rmse: 0.774368\tvalid_1's l2: 0.599646           \n",
      "[100]\tvalid_0's rmse: 0.878914\tvalid_0's l2: 0.77249\tvalid_1's rmse: 0.838718\tvalid_1's l2: 0.703448            \n",
      "[200]\tvalid_0's rmse: 0.870489\tvalid_0's l2: 0.757751\tvalid_1's rmse: 0.806781\tvalid_1's l2: 0.650896           \n",
      " 37%|██████████████▊                         | 74/200 [02:39<03:41,  1.76s/trial, best loss: 0.8725154993765815]"
     ]
    },
    {
     "name": "stderr",
     "output_type": "stream",
     "text": [
      "Score - 0.8733385363684721, Std - 0.02891876827508036, Eval Score - 0.8733385363684721\n",
      "Score across folds - [0.9101907745269867, 0.839554124908459, 0.8702707096699702].\n"
     ]
    },
    {
     "name": "stdout",
     "output_type": "stream",
     "text": [
      "\r\n",
      " 38%|███████████████                         | 75/200 [02:40<03:29,  1.67s/trial, best loss: 0.8725154993765815]"
     ]
    },
    {
     "name": "stderr",
     "output_type": "stream",
     "text": [
      "\n",
      "Iteration: 76, Training with params: {'boosting_type': 'gbdt', 'colsample_bytree': 1.0, 'learning_rate': 0.1, 'min_child_samples': 160, 'n_estimators': 10000, 'n_jobs': -1, 'num_leaves': 16, 'objective': 'regression', 'subsample': 0.8, 'subsample_freq': 10}\n"
     ]
    },
    {
     "name": "stdout",
     "output_type": "stream",
     "text": [
      "[100]\tvalid_0's rmse: 0.920207\tvalid_0's l2: 0.846781\tvalid_1's rmse: 0.84433\tvalid_1's l2: 0.712894            \n",
      "[200]\tvalid_0's rmse: 0.917047\tvalid_0's l2: 0.840976\tvalid_1's rmse: 0.811635\tvalid_1's l2: 0.658751           \n",
      "[100]\tvalid_0's rmse: 0.855122\tvalid_0's l2: 0.731234\tvalid_1's rmse: 0.846842\tvalid_1's l2: 0.717141           \n",
      "[200]\tvalid_0's rmse: 0.841304\tvalid_0's l2: 0.707792\tvalid_1's rmse: 0.814875\tvalid_1's l2: 0.664022           \n",
      "[300]\tvalid_0's rmse: 0.839489\tvalid_0's l2: 0.704741\tvalid_1's rmse: 0.794737\tvalid_1's l2: 0.631607           \n",
      "[100]\tvalid_0's rmse: 0.879685\tvalid_0's l2: 0.773845\tvalid_1's rmse: 0.841654\tvalid_1's l2: 0.708381           \n",
      "[200]\tvalid_0's rmse: 0.875018\tvalid_0's l2: 0.765657\tvalid_1's rmse: 0.809931\tvalid_1's l2: 0.655989           \n",
      "[300]\tvalid_0's rmse: 0.874831\tvalid_0's l2: 0.76533\tvalid_1's rmse: 0.790126\tvalid_1's l2: 0.624299            \n",
      " 38%|███████████████                         | 75/200 [02:41<03:29,  1.67s/trial, best loss: 0.8725154993765815]"
     ]
    },
    {
     "name": "stderr",
     "output_type": "stream",
     "text": [
      "Score - 0.8757953033638749, Std - 0.031367098530970514, Eval Score - 0.8757953033638749\n",
      "Score across folds - [0.9155978114769284, 0.8389334312080526, 0.8728546674066436].\n"
     ]
    },
    {
     "name": "stdout",
     "output_type": "stream",
     "text": [
      "\r\n",
      " 38%|███████████████▏                        | 76/200 [02:41<03:26,  1.67s/trial, best loss: 0.8725154993765815]"
     ]
    },
    {
     "name": "stderr",
     "output_type": "stream",
     "text": [
      "\n",
      "Iteration: 77, Training with params: {'boosting_type': 'gbdt', 'colsample_bytree': 1.0, 'learning_rate': 0.1, 'min_child_samples': 160, 'n_estimators': 10000, 'n_jobs': -1, 'num_leaves': 32, 'objective': 'regression', 'subsample': 1.0, 'subsample_freq': 10}\n"
     ]
    },
    {
     "name": "stdout",
     "output_type": "stream",
     "text": [
      "[100]\tvalid_0's rmse: 0.917979\tvalid_0's l2: 0.842686\tvalid_1's rmse: 0.806029\tvalid_1's l2: 0.649683           \n",
      "[100]\tvalid_0's rmse: 0.847889\tvalid_0's l2: 0.718916\tvalid_1's rmse: 0.80799\tvalid_1's l2: 0.652848            \n",
      "[200]\tvalid_0's rmse: 0.840823\tvalid_0's l2: 0.706983\tvalid_1's rmse: 0.768684\tvalid_1's l2: 0.590875           \n",
      "[300]\tvalid_0's rmse: 0.839888\tvalid_0's l2: 0.705412\tvalid_1's rmse: 0.739822\tvalid_1's l2: 0.547337           \n",
      "[100]\tvalid_0's rmse: 0.881754\tvalid_0's l2: 0.77749\tvalid_1's rmse: 0.80444\tvalid_1's l2: 0.647123             \n",
      "[200]\tvalid_0's rmse: 0.879635\tvalid_0's l2: 0.773758\tvalid_1's rmse: 0.762751\tvalid_1's l2: 0.581789           \n",
      " 38%|███████████████▏                        | 76/200 [02:43<03:26,  1.67s/trial, best loss: 0.8725154993765815]"
     ]
    },
    {
     "name": "stderr",
     "output_type": "stream",
     "text": [
      "Score - 0.8783851011541013, Std - 0.03154114723713183, Eval Score - 0.8783851011541013\n",
      "Score across folds - [0.9167291721677987, 0.8394756616354774, 0.8789504696590277].\n"
     ]
    },
    {
     "name": "stdout",
     "output_type": "stream",
     "text": [
      "\r\n",
      " 38%|███████████████▍                        | 77/200 [02:43<03:28,  1.69s/trial, best loss: 0.8725154993765815]"
     ]
    },
    {
     "name": "stderr",
     "output_type": "stream",
     "text": [
      "\n",
      "Iteration: 78, Training with params: {'boosting_type': 'gbdt', 'colsample_bytree': 0.6000000000000001, 'learning_rate': 0.1, 'min_child_samples': 200, 'n_estimators': 10000, 'n_jobs': -1, 'num_leaves': 16, 'objective': 'regression', 'subsample': 1.0, 'subsample_freq': 10}\n"
     ]
    },
    {
     "name": "stdout",
     "output_type": "stream",
     "text": [
      "[100]\tvalid_0's rmse: 0.916069\tvalid_0's l2: 0.839183\tvalid_1's rmse: 0.848251\tvalid_1's l2: 0.719529           \n",
      "[200]\tvalid_0's rmse: 0.910151\tvalid_0's l2: 0.828375\tvalid_1's rmse: 0.818165\tvalid_1's l2: 0.669394           \n",
      "[100]\tvalid_0's rmse: 0.862592\tvalid_0's l2: 0.744065\tvalid_1's rmse: 0.851365\tvalid_1's l2: 0.724822           \n",
      "[200]\tvalid_0's rmse: 0.847898\tvalid_0's l2: 0.718931\tvalid_1's rmse: 0.821732\tvalid_1's l2: 0.675244           \n",
      "[300]\tvalid_0's rmse: 0.840733\tvalid_0's l2: 0.706831\tvalid_1's rmse: 0.805303\tvalid_1's l2: 0.648513           \n",
      "[400]\tvalid_0's rmse: 0.83924\tvalid_0's l2: 0.704324\tvalid_1's rmse: 0.792697\tvalid_1's l2: 0.628369            \n",
      "[500]\tvalid_0's rmse: 0.838555\tvalid_0's l2: 0.703175\tvalid_1's rmse: 0.782054\tvalid_1's l2: 0.611608           \n",
      "[100]\tvalid_0's rmse: 0.881235\tvalid_0's l2: 0.776576\tvalid_1's rmse: 0.84663\tvalid_1's l2: 0.716783            \n",
      "[200]\tvalid_0's rmse: 0.873493\tvalid_0's l2: 0.76299\tvalid_1's rmse: 0.817279\tvalid_1's l2: 0.667944            \n",
      "[300]\tvalid_0's rmse: 0.870887\tvalid_0's l2: 0.758445\tvalid_1's rmse: 0.800656\tvalid_1's l2: 0.64105            \n",
      " 38%|███████████████▍                        | 77/200 [02:45<03:28,  1.69s/trial, best loss: 0.8725154993765815]"
     ]
    },
    {
     "name": "stderr",
     "output_type": "stream",
     "text": [
      "Score - 0.8727453553087692, Std - 0.029137868087192938, Eval Score - 0.8727453553087692\n",
      "Score across folds - [0.9093618320637303, 0.8380679918007257, 0.8708062420618516].\n"
     ]
    },
    {
     "name": "stdout",
     "output_type": "stream",
     "text": [
      "\r\n",
      " 39%|███████████████▌                        | 78/200 [02:45<03:31,  1.73s/trial, best loss: 0.8725154993765815]"
     ]
    },
    {
     "name": "stderr",
     "output_type": "stream",
     "text": [
      "\n",
      "Iteration: 79, Training with params: {'boosting_type': 'gbdt', 'colsample_bytree': 1.0, 'learning_rate': 0.1, 'min_child_samples': 200, 'n_estimators': 10000, 'n_jobs': -1, 'num_leaves': 16, 'objective': 'regression', 'subsample': 0.8, 'subsample_freq': 10}\n"
     ]
    },
    {
     "name": "stdout",
     "output_type": "stream",
     "text": [
      "[100]\tvalid_0's rmse: 0.91995\tvalid_0's l2: 0.846308\tvalid_1's rmse: 0.847063\tvalid_1's l2: 0.717515            \n",
      "[200]\tvalid_0's rmse: 0.915909\tvalid_0's l2: 0.838889\tvalid_1's rmse: 0.815419\tvalid_1's l2: 0.664908           \n",
      "[300]\tvalid_0's rmse: 0.919851\tvalid_0's l2: 0.846126\tvalid_1's rmse: 0.79586\tvalid_1's l2: 0.633393            \n",
      "[100]\tvalid_0's rmse: 0.854599\tvalid_0's l2: 0.730339\tvalid_1's rmse: 0.848569\tvalid_1's l2: 0.720069           \n",
      "[200]\tvalid_0's rmse: 0.848409\tvalid_0's l2: 0.719798\tvalid_1's rmse: 0.818313\tvalid_1's l2: 0.669637           \n",
      "[300]\tvalid_0's rmse: 0.844913\tvalid_0's l2: 0.713877\tvalid_1's rmse: 0.798415\tvalid_1's l2: 0.637466           \n",
      "[400]\tvalid_0's rmse: 0.845205\tvalid_0's l2: 0.714371\tvalid_1's rmse: 0.782557\tvalid_1's l2: 0.612395           \n",
      "[500]\tvalid_0's rmse: 0.844624\tvalid_0's l2: 0.713389\tvalid_1's rmse: 0.769592\tvalid_1's l2: 0.592272           \n",
      "[100]\tvalid_0's rmse: 0.88287\tvalid_0's l2: 0.77946\tvalid_1's rmse: 0.843608\tvalid_1's l2: 0.711674             \n",
      "[200]\tvalid_0's rmse: 0.875296\tvalid_0's l2: 0.766144\tvalid_1's rmse: 0.814112\tvalid_1's l2: 0.662779           \n",
      "[300]\tvalid_0's rmse: 0.875565\tvalid_0's l2: 0.766615\tvalid_1's rmse: 0.795189\tvalid_1's l2: 0.632325           \n",
      " 39%|███████████████▌                        | 78/200 [02:47<03:31,  1.73s/trial, best loss: 0.8725154993765815]"
     ]
    },
    {
     "name": "stderr",
     "output_type": "stream",
     "text": [
      "Score - 0.8761123134970402, Std - 0.02898764728730659, Eval Score - 0.8761123134970402\n",
      "Score across folds - [0.912811042254611, 0.8419411912019035, 0.8735847070346063].\n"
     ]
    },
    {
     "name": "stdout",
     "output_type": "stream",
     "text": [
      "\r\n",
      " 40%|███████████████▊                        | 79/200 [02:47<03:42,  1.84s/trial, best loss: 0.8725154993765815]"
     ]
    },
    {
     "name": "stderr",
     "output_type": "stream",
     "text": [
      "\n",
      "Iteration: 80, Training with params: {'boosting_type': 'gbdt', 'colsample_bytree': 0.8, 'learning_rate': 0.1, 'min_child_samples': 120, 'n_estimators': 10000, 'n_jobs': -1, 'num_leaves': 32, 'objective': 'regression', 'subsample': 1.0, 'subsample_freq': 10}\n"
     ]
    },
    {
     "name": "stdout",
     "output_type": "stream",
     "text": [
      "[100]\tvalid_0's rmse: 0.914578\tvalid_0's l2: 0.836452\tvalid_1's rmse: 0.802937\tvalid_1's l2: 0.644708           \n",
      "[200]\tvalid_0's rmse: 0.917117\tvalid_0's l2: 0.841103\tvalid_1's rmse: 0.761491\tvalid_1's l2: 0.579868           \n",
      "[100]\tvalid_0's rmse: 0.849928\tvalid_0's l2: 0.722378\tvalid_1's rmse: 0.805853\tvalid_1's l2: 0.649399           \n",
      "[200]\tvalid_0's rmse: 0.841378\tvalid_0's l2: 0.707917\tvalid_1's rmse: 0.764487\tvalid_1's l2: 0.584441           \n",
      "[300]\tvalid_0's rmse: 0.838813\tvalid_0's l2: 0.703608\tvalid_1's rmse: 0.735976\tvalid_1's l2: 0.541661           \n",
      "[400]\tvalid_0's rmse: 0.840924\tvalid_0's l2: 0.707152\tvalid_1's rmse: 0.711351\tvalid_1's l2: 0.50602            \n",
      "[100]\tvalid_0's rmse: 0.876303\tvalid_0's l2: 0.767908\tvalid_1's rmse: 0.801765\tvalid_1's l2: 0.642828           \n",
      "[200]\tvalid_0's rmse: 0.875961\tvalid_0's l2: 0.767307\tvalid_1's rmse: 0.761278\tvalid_1's l2: 0.579544           \n",
      " 40%|███████████████▊                        | 79/200 [02:49<03:42,  1.84s/trial, best loss: 0.8725154993765815]"
     ]
    },
    {
     "name": "stderr",
     "output_type": "stream",
     "text": [
      "Score - 0.8753934785661276, Std - 0.030550976619636294, Eval Score - 0.8753934785661276\n",
      "Score across folds - [0.9134661952701384, 0.8386682977348714, 0.8740459426933733].\n"
     ]
    },
    {
     "name": "stdout",
     "output_type": "stream",
     "text": [
      "\r\n",
      " 40%|████████████████                        | 80/200 [02:49<03:42,  1.85s/trial, best loss: 0.8725154993765815]"
     ]
    },
    {
     "name": "stderr",
     "output_type": "stream",
     "text": [
      "\n",
      "Iteration: 81, Training with params: {'boosting_type': 'gbdt', 'colsample_bytree': 0.6000000000000001, 'learning_rate': 0.1, 'min_child_samples': 80, 'n_estimators': 10000, 'n_jobs': -1, 'num_leaves': 32, 'objective': 'regression', 'subsample': 0.8, 'subsample_freq': 5}\n"
     ]
    },
    {
     "name": "stdout",
     "output_type": "stream",
     "text": [
      "[100]\tvalid_0's rmse: 0.915376\tvalid_0's l2: 0.837913\tvalid_1's rmse: 0.804721\tvalid_1's l2: 0.647577           \n",
      "[100]\tvalid_0's rmse: 0.849305\tvalid_0's l2: 0.721319\tvalid_1's rmse: 0.807274\tvalid_1's l2: 0.651691           \n",
      "[200]\tvalid_0's rmse: 0.84351\tvalid_0's l2: 0.71151\tvalid_1's rmse: 0.762399\tvalid_1's l2: 0.581253             \n",
      "[300]\tvalid_0's rmse: 0.842652\tvalid_0's l2: 0.710063\tvalid_1's rmse: 0.729823\tvalid_1's l2: 0.532641           \n",
      "[100]\tvalid_0's rmse: 0.872952\tvalid_0's l2: 0.762046\tvalid_1's rmse: 0.803136\tvalid_1's l2: 0.645028           \n",
      "[200]\tvalid_0's rmse: 0.875153\tvalid_0's l2: 0.765894\tvalid_1's rmse: 0.758427\tvalid_1's l2: 0.575211           \n",
      " 40%|████████████████                        | 80/200 [02:51<03:42,  1.85s/trial, best loss: 0.8725154993765815]"
     ]
    },
    {
     "name": "stderr",
     "output_type": "stream",
     "text": [
      "Score - 0.8751904636982776, Std - 0.029533492587795602, Eval Score - 0.8751904636982776\n",
      "Score across folds - [0.9130922696411756, 0.8410431596282052, 0.8714359618254521].\n"
     ]
    },
    {
     "name": "stdout",
     "output_type": "stream",
     "text": [
      "\r\n",
      " 40%|████████████████▏                       | 81/200 [02:51<03:44,  1.88s/trial, best loss: 0.8725154993765815]"
     ]
    },
    {
     "name": "stderr",
     "output_type": "stream",
     "text": [
      "\n",
      "Iteration: 82, Training with params: {'boosting_type': 'gbdt', 'colsample_bytree': 1.0, 'learning_rate': 0.1, 'min_child_samples': 160, 'n_estimators': 10000, 'n_jobs': -1, 'num_leaves': 16, 'objective': 'regression', 'subsample': 1.0, 'subsample_freq': 10}\n"
     ]
    },
    {
     "name": "stdout",
     "output_type": "stream",
     "text": [
      "[100]\tvalid_0's rmse: 0.917688\tvalid_0's l2: 0.842151\tvalid_1's rmse: 0.842682\tvalid_1's l2: 0.710114           \n",
      "[200]\tvalid_0's rmse: 0.91391\tvalid_0's l2: 0.835232\tvalid_1's rmse: 0.811141\tvalid_1's l2: 0.65795             \n",
      "[100]\tvalid_0's rmse: 0.853488\tvalid_0's l2: 0.728441\tvalid_1's rmse: 0.846334\tvalid_1's l2: 0.716281           \n",
      "[200]\tvalid_0's rmse: 0.839398\tvalid_0's l2: 0.704589\tvalid_1's rmse: 0.814651\tvalid_1's l2: 0.663657           \n",
      "[300]\tvalid_0's rmse: 0.837368\tvalid_0's l2: 0.701186\tvalid_1's rmse: 0.795745\tvalid_1's l2: 0.633209           \n",
      "[400]\tvalid_0's rmse: 0.835518\tvalid_0's l2: 0.69809\tvalid_1's rmse: 0.781722\tvalid_1's l2: 0.611089            \n",
      "[100]\tvalid_0's rmse: 0.881298\tvalid_0's l2: 0.776687\tvalid_1's rmse: 0.840639\tvalid_1's l2: 0.706674           \n",
      "[200]\tvalid_0's rmse: 0.872826\tvalid_0's l2: 0.761825\tvalid_1's rmse: 0.809885\tvalid_1's l2: 0.655913           \n",
      "[300]\tvalid_0's rmse: 0.872124\tvalid_0's l2: 0.7606\tvalid_1's rmse: 0.790033\tvalid_1's l2: 0.624152             \n",
      " 40%|████████████████▏                       | 81/200 [02:52<03:44,  1.88s/trial, best loss: 0.8725154993765815]"
     ]
    },
    {
     "name": "stderr",
     "output_type": "stream",
     "text": [
      "Score - 0.8725154993765815, Std - 0.03162061224875319, Eval Score - 0.8725154993765815\n",
      "Score across folds - [0.9122597201044806, 0.8348925476937529, 0.8703942303315106].\n"
     ]
    },
    {
     "name": "stdout",
     "output_type": "stream",
     "text": [
      "\r\n",
      " 41%|████████████████▍                       | 82/200 [02:52<03:29,  1.78s/trial, best loss: 0.8725154993765815]"
     ]
    },
    {
     "name": "stderr",
     "output_type": "stream",
     "text": [
      "\n",
      "Iteration: 83, Training with params: {'boosting_type': 'gbdt', 'colsample_bytree': 1.0, 'learning_rate': 0.1, 'min_child_samples': 200, 'n_estimators': 10000, 'n_jobs': -1, 'num_leaves': 48, 'objective': 'regression', 'subsample': 1.0, 'subsample_freq': 10}\n"
     ]
    },
    {
     "name": "stdout",
     "output_type": "stream",
     "text": [
      "[100]\tvalid_0's rmse: 0.919866\tvalid_0's l2: 0.846154\tvalid_1's rmse: 0.786587\tvalid_1's l2: 0.61872            \n",
      "[100]\tvalid_0's rmse: 0.849977\tvalid_0's l2: 0.72246\tvalid_1's rmse: 0.79063\tvalid_1's l2: 0.625096             \n",
      "[200]\tvalid_0's rmse: 0.843257\tvalid_0's l2: 0.711082\tvalid_1's rmse: 0.742159\tvalid_1's l2: 0.550801           \n",
      "[300]\tvalid_0's rmse: 0.842188\tvalid_0's l2: 0.709281\tvalid_1's rmse: 0.706761\tvalid_1's l2: 0.499511           \n",
      "[100]\tvalid_0's rmse: 0.883216\tvalid_0's l2: 0.780071\tvalid_1's rmse: 0.785125\tvalid_1's l2: 0.616421           \n",
      "[200]\tvalid_0's rmse: 0.883603\tvalid_0's l2: 0.780755\tvalid_1's rmse: 0.737327\tvalid_1's l2: 0.543652           \n",
      " 41%|████████████████▍                       | 82/200 [02:54<03:29,  1.78s/trial, best loss: 0.8725154993765815]"
     ]
    },
    {
     "name": "stderr",
     "output_type": "stream",
     "text": [
      "Score - 0.8806626051069643, Std - 0.031840712859371775, Eval Score - 0.8806626051069643\n",
      "Score across folds - [0.9190271176952101, 0.8410629634883393, 0.8818977341373436].\n"
     ]
    },
    {
     "name": "stdout",
     "output_type": "stream",
     "text": [
      "\r\n",
      " 42%|████████████████▌                       | 83/200 [02:55<03:47,  1.94s/trial, best loss: 0.8725154993765815]"
     ]
    },
    {
     "name": "stderr",
     "output_type": "stream",
     "text": [
      "\n",
      "Iteration: 84, Training with params: {'boosting_type': 'gbdt', 'colsample_bytree': 1.0, 'learning_rate': 0.1, 'min_child_samples': 160, 'n_estimators': 10000, 'n_jobs': -1, 'num_leaves': 16, 'objective': 'regression', 'subsample': 0.8, 'subsample_freq': 10}\n"
     ]
    },
    {
     "name": "stdout",
     "output_type": "stream",
     "text": [
      "[100]\tvalid_0's rmse: 0.920207\tvalid_0's l2: 0.846781\tvalid_1's rmse: 0.84433\tvalid_1's l2: 0.712894            \n",
      "[200]\tvalid_0's rmse: 0.917047\tvalid_0's l2: 0.840976\tvalid_1's rmse: 0.811635\tvalid_1's l2: 0.658751           \n",
      "[100]\tvalid_0's rmse: 0.855122\tvalid_0's l2: 0.731234\tvalid_1's rmse: 0.846842\tvalid_1's l2: 0.717141           \n",
      "[200]\tvalid_0's rmse: 0.841304\tvalid_0's l2: 0.707792\tvalid_1's rmse: 0.814875\tvalid_1's l2: 0.664022           \n",
      "[300]\tvalid_0's rmse: 0.839489\tvalid_0's l2: 0.704741\tvalid_1's rmse: 0.794737\tvalid_1's l2: 0.631607           \n",
      "[100]\tvalid_0's rmse: 0.879685\tvalid_0's l2: 0.773845\tvalid_1's rmse: 0.841654\tvalid_1's l2: 0.708381           \n",
      "[200]\tvalid_0's rmse: 0.875018\tvalid_0's l2: 0.765657\tvalid_1's rmse: 0.809931\tvalid_1's l2: 0.655989           \n",
      "[300]\tvalid_0's rmse: 0.874831\tvalid_0's l2: 0.76533\tvalid_1's rmse: 0.790126\tvalid_1's l2: 0.624299            \n",
      " 42%|████████████████▌                       | 83/200 [02:56<03:47,  1.94s/trial, best loss: 0.8725154993765815]"
     ]
    },
    {
     "name": "stderr",
     "output_type": "stream",
     "text": [
      "Score - 0.8757953033638749, Std - 0.031367098530970514, Eval Score - 0.8757953033638749\n",
      "Score across folds - [0.9155978114769284, 0.8389334312080526, 0.8728546674066436].\n"
     ]
    },
    {
     "name": "stdout",
     "output_type": "stream",
     "text": [
      "\r\n",
      " 42%|████████████████▊                       | 84/200 [02:56<03:35,  1.86s/trial, best loss: 0.8725154993765815]"
     ]
    },
    {
     "name": "stderr",
     "output_type": "stream",
     "text": [
      "\n",
      "Iteration: 85, Training with params: {'boosting_type': 'gbdt', 'colsample_bytree': 1.0, 'learning_rate': 0.1, 'min_child_samples': 120, 'n_estimators': 10000, 'n_jobs': -1, 'num_leaves': 32, 'objective': 'regression', 'subsample': 1.0, 'subsample_freq': 10}\n"
     ]
    },
    {
     "name": "stdout",
     "output_type": "stream",
     "text": [
      "[100]\tvalid_0's rmse: 0.914521\tvalid_0's l2: 0.836348\tvalid_1's rmse: 0.800654\tvalid_1's l2: 0.641046           \n",
      "[200]\tvalid_0's rmse: 0.917995\tvalid_0's l2: 0.842715\tvalid_1's rmse: 0.7578\tvalid_1's l2: 0.574261             \n",
      "[100]\tvalid_0's rmse: 0.847124\tvalid_0's l2: 0.71762\tvalid_1's rmse: 0.804254\tvalid_1's l2: 0.646824            \n",
      "[200]\tvalid_0's rmse: 0.83907\tvalid_0's l2: 0.704039\tvalid_1's rmse: 0.762082\tvalid_1's l2: 0.580769            \n",
      "[300]\tvalid_0's rmse: 0.836677\tvalid_0's l2: 0.700028\tvalid_1's rmse: 0.730895\tvalid_1's l2: 0.534208           \n",
      "[100]\tvalid_0's rmse: 0.87877\tvalid_0's l2: 0.772237\tvalid_1's rmse: 0.799867\tvalid_1's l2: 0.639788            \n",
      "[200]\tvalid_0's rmse: 0.877025\tvalid_0's l2: 0.769172\tvalid_1's rmse: 0.75754\tvalid_1's l2: 0.573867            \n",
      " 42%|████████████████▊                       | 84/200 [02:58<03:35,  1.86s/trial, best loss: 0.8725154993765815]"
     ]
    },
    {
     "name": "stderr",
     "output_type": "stream",
     "text": [
      "Score - 0.875602786717313, Std - 0.031663205027874036, Eval Score - 0.875602786717313\n",
      "Score across folds - [0.9138516017263846, 0.8363138325588813, 0.8766429258666731].\n"
     ]
    },
    {
     "name": "stdout",
     "output_type": "stream",
     "text": [
      "\r\n",
      " 42%|█████████████████                       | 85/200 [02:58<03:33,  1.86s/trial, best loss: 0.8725154993765815]"
     ]
    },
    {
     "name": "stderr",
     "output_type": "stream",
     "text": [
      "\n",
      "Iteration: 86, Training with params: {'boosting_type': 'gbdt', 'colsample_bytree': 1.0, 'learning_rate': 0.1, 'min_child_samples': 240, 'n_estimators': 10000, 'n_jobs': -1, 'num_leaves': 16, 'objective': 'regression', 'subsample': 0.8, 'subsample_freq': 5}\n"
     ]
    },
    {
     "name": "stdout",
     "output_type": "stream",
     "text": [
      "[100]\tvalid_0's rmse: 0.92123\tvalid_0's l2: 0.848664\tvalid_1's rmse: 0.850054\tvalid_1's l2: 0.722592            \n",
      "[200]\tvalid_0's rmse: 0.916005\tvalid_0's l2: 0.839065\tvalid_1's rmse: 0.821331\tvalid_1's l2: 0.674584           \n",
      "[300]\tvalid_0's rmse: 0.916362\tvalid_0's l2: 0.839718\tvalid_1's rmse: 0.801859\tvalid_1's l2: 0.642978           \n",
      "[100]\tvalid_0's rmse: 0.85904\tvalid_0's l2: 0.737949\tvalid_1's rmse: 0.850412\tvalid_1's l2: 0.723201            \n",
      "[200]\tvalid_0's rmse: 0.85062\tvalid_0's l2: 0.723554\tvalid_1's rmse: 0.82063\tvalid_1's l2: 0.673433             \n",
      "[300]\tvalid_0's rmse: 0.846272\tvalid_0's l2: 0.716177\tvalid_1's rmse: 0.802333\tvalid_1's l2: 0.643738           \n",
      "[100]\tvalid_0's rmse: 0.880871\tvalid_0's l2: 0.775934\tvalid_1's rmse: 0.846028\tvalid_1's l2: 0.715763           \n",
      "[200]\tvalid_0's rmse: 0.872337\tvalid_0's l2: 0.760971\tvalid_1's rmse: 0.815931\tvalid_1's l2: 0.665743           \n",
      " 42%|█████████████████                       | 85/200 [03:00<03:33,  1.86s/trial, best loss: 0.8725154993765815]"
     ]
    },
    {
     "name": "stderr",
     "output_type": "stream",
     "text": [
      "Score - 0.8774290554938114, Std - 0.028637308824274326, Eval Score - 0.8774290554938114\n",
      "Score across folds - [0.9149384787482471, 0.8454484011635198, 0.8719002865696671].\n"
     ]
    },
    {
     "name": "stdout",
     "output_type": "stream",
     "text": [
      "\r\n",
      " 43%|█████████████████▏                      | 86/200 [03:00<03:31,  1.85s/trial, best loss: 0.8725154993765815]"
     ]
    },
    {
     "name": "stderr",
     "output_type": "stream",
     "text": [
      "\n",
      "Iteration: 87, Training with params: {'boosting_type': 'gbdt', 'colsample_bytree': 1.0, 'learning_rate': 0.1, 'min_child_samples': 160, 'n_estimators': 10000, 'n_jobs': -1, 'num_leaves': 32, 'objective': 'regression', 'subsample': 1.0, 'subsample_freq': 10}\n"
     ]
    },
    {
     "name": "stdout",
     "output_type": "stream",
     "text": [
      "[100]\tvalid_0's rmse: 0.917979\tvalid_0's l2: 0.842686\tvalid_1's rmse: 0.806029\tvalid_1's l2: 0.649683           \n",
      "[100]\tvalid_0's rmse: 0.847889\tvalid_0's l2: 0.718916\tvalid_1's rmse: 0.80799\tvalid_1's l2: 0.652848            \n",
      "[200]\tvalid_0's rmse: 0.840823\tvalid_0's l2: 0.706983\tvalid_1's rmse: 0.768684\tvalid_1's l2: 0.590875           \n",
      "[300]\tvalid_0's rmse: 0.839888\tvalid_0's l2: 0.705412\tvalid_1's rmse: 0.739822\tvalid_1's l2: 0.547337           \n",
      "[100]\tvalid_0's rmse: 0.881754\tvalid_0's l2: 0.77749\tvalid_1's rmse: 0.80444\tvalid_1's l2: 0.647123             \n",
      "[200]\tvalid_0's rmse: 0.879635\tvalid_0's l2: 0.773758\tvalid_1's rmse: 0.762751\tvalid_1's l2: 0.581789           \n",
      " 43%|█████████████████▏                      | 86/200 [03:02<03:31,  1.85s/trial, best loss: 0.8725154993765815]"
     ]
    },
    {
     "name": "stderr",
     "output_type": "stream",
     "text": [
      "Score - 0.8783851011541013, Std - 0.03154114723713183, Eval Score - 0.8783851011541013\n",
      "Score across folds - [0.9167291721677987, 0.8394756616354774, 0.8789504696590277].\n"
     ]
    },
    {
     "name": "stdout",
     "output_type": "stream",
     "text": [
      "\r\n",
      " 44%|█████████████████▍                      | 87/200 [03:02<03:26,  1.83s/trial, best loss: 0.8725154993765815]"
     ]
    },
    {
     "name": "stderr",
     "output_type": "stream",
     "text": [
      "\n",
      "Iteration: 88, Training with params: {'boosting_type': 'gbdt', 'colsample_bytree': 1.0, 'learning_rate': 0.1, 'min_child_samples': 200, 'n_estimators': 10000, 'n_jobs': -1, 'num_leaves': 16, 'objective': 'regression', 'subsample': 1.0, 'subsample_freq': 10}\n"
     ]
    },
    {
     "name": "stdout",
     "output_type": "stream",
     "text": [
      "[100]\tvalid_0's rmse: 0.920176\tvalid_0's l2: 0.846725\tvalid_1's rmse: 0.843347\tvalid_1's l2: 0.711233           \n",
      "[200]\tvalid_0's rmse: 0.915275\tvalid_0's l2: 0.837728\tvalid_1's rmse: 0.812167\tvalid_1's l2: 0.659615           \n",
      "[300]\tvalid_0's rmse: 0.918047\tvalid_0's l2: 0.84281\tvalid_1's rmse: 0.794605\tvalid_1's l2: 0.631397            \n",
      "[100]\tvalid_0's rmse: 0.857603\tvalid_0's l2: 0.735483\tvalid_1's rmse: 0.847856\tvalid_1's l2: 0.718859           \n",
      "[200]\tvalid_0's rmse: 0.845229\tvalid_0's l2: 0.714413\tvalid_1's rmse: 0.817817\tvalid_1's l2: 0.668825           \n",
      "[300]\tvalid_0's rmse: 0.839868\tvalid_0's l2: 0.705378\tvalid_1's rmse: 0.800688\tvalid_1's l2: 0.641102           \n",
      "[400]\tvalid_0's rmse: 0.837386\tvalid_0's l2: 0.701215\tvalid_1's rmse: 0.786409\tvalid_1's l2: 0.618438           \n",
      "[500]\tvalid_0's rmse: 0.83668\tvalid_0's l2: 0.700034\tvalid_1's rmse: 0.774722\tvalid_1's l2: 0.600194            \n",
      "[100]\tvalid_0's rmse: 0.881943\tvalid_0's l2: 0.777824\tvalid_1's rmse: 0.841991\tvalid_1's l2: 0.708949           \n",
      "[200]\tvalid_0's rmse: 0.872743\tvalid_0's l2: 0.761681\tvalid_1's rmse: 0.811098\tvalid_1's l2: 0.65788            \n",
      "[300]\tvalid_0's rmse: 0.872237\tvalid_0's l2: 0.760797\tvalid_1's rmse: 0.793966\tvalid_1's l2: 0.630383           \n",
      "[400]\tvalid_0's rmse: 0.872499\tvalid_0's l2: 0.761254\tvalid_1's rmse: 0.779448\tvalid_1's l2: 0.607539           \n",
      " 44%|█████████████████▍                      | 87/200 [03:04<03:26,  1.83s/trial, best loss: 0.8725154993765815]"
     ]
    },
    {
     "name": "stderr",
     "output_type": "stream",
     "text": [
      "Score - 0.8742358794341779, Std - 0.03214013707044556, Eval Score - 0.8742358794341779\n",
      "Score across folds - [0.9149852896237355, 0.8364228030489681, 0.8712995456298301].\n"
     ]
    },
    {
     "name": "stdout",
     "output_type": "stream",
     "text": [
      "\r\n",
      " 44%|█████████████████▌                      | 88/200 [03:04<03:28,  1.86s/trial, best loss: 0.8725154993765815]"
     ]
    },
    {
     "name": "stderr",
     "output_type": "stream",
     "text": [
      "\n",
      "Iteration: 89, Training with params: {'boosting_type': 'gbdt', 'colsample_bytree': 1.0, 'learning_rate': 0.1, 'min_child_samples': 80, 'n_estimators': 10000, 'n_jobs': -1, 'num_leaves': 16, 'objective': 'regression', 'subsample': 0.6000000000000001, 'subsample_freq': 10}\n"
     ]
    },
    {
     "name": "stdout",
     "output_type": "stream",
     "text": [
      "[100]\tvalid_0's rmse: 0.920182\tvalid_0's l2: 0.846736\tvalid_1's rmse: 0.842184\tvalid_1's l2: 0.709273           \n",
      "[200]\tvalid_0's rmse: 0.914985\tvalid_0's l2: 0.837198\tvalid_1's rmse: 0.808321\tvalid_1's l2: 0.653382           \n",
      "[300]\tvalid_0's rmse: 0.917897\tvalid_0's l2: 0.842536\tvalid_1's rmse: 0.786733\tvalid_1's l2: 0.618949           \n",
      "[100]\tvalid_0's rmse: 0.851158\tvalid_0's l2: 0.724469\tvalid_1's rmse: 0.84628\tvalid_1's l2: 0.71619             \n",
      "[200]\tvalid_0's rmse: 0.841468\tvalid_0's l2: 0.708068\tvalid_1's rmse: 0.814221\tvalid_1's l2: 0.662955           \n",
      "[300]\tvalid_0's rmse: 0.840774\tvalid_0's l2: 0.706902\tvalid_1's rmse: 0.793523\tvalid_1's l2: 0.629678           \n",
      "[100]\tvalid_0's rmse: 0.884092\tvalid_0's l2: 0.781619\tvalid_1's rmse: 0.841239\tvalid_1's l2: 0.707682           \n",
      "[200]\tvalid_0's rmse: 0.878383\tvalid_0's l2: 0.771556\tvalid_1's rmse: 0.808714\tvalid_1's l2: 0.654018           \n",
      " 44%|█████████████████▌                      | 88/200 [03:05<03:28,  1.86s/trial, best loss: 0.8725154993765815]"
     ]
    },
    {
     "name": "stderr",
     "output_type": "stream",
     "text": [
      "Score - 0.8767739913508326, Std - 0.030513413283282522, Eval Score - 0.8767739913508326\n",
      "Score across folds - [0.9135460052789586, 0.8388312252215376, 0.8779447435520018].\n"
     ]
    },
    {
     "name": "stdout",
     "output_type": "stream",
     "text": [
      "\r\n",
      " 44%|█████████████████▊                      | 89/200 [03:05<03:16,  1.77s/trial, best loss: 0.8725154993765815]"
     ]
    },
    {
     "name": "stderr",
     "output_type": "stream",
     "text": [
      "\n",
      "Iteration: 90, Training with params: {'boosting_type': 'gbdt', 'colsample_bytree': 1.0, 'learning_rate': 0.1, 'min_child_samples': 120, 'n_estimators': 10000, 'n_jobs': -1, 'num_leaves': 32, 'objective': 'regression', 'subsample': 1.0, 'subsample_freq': 5}\n"
     ]
    },
    {
     "name": "stdout",
     "output_type": "stream",
     "text": [
      "[100]\tvalid_0's rmse: 0.914521\tvalid_0's l2: 0.836348\tvalid_1's rmse: 0.800654\tvalid_1's l2: 0.641046           \n",
      "[200]\tvalid_0's rmse: 0.917995\tvalid_0's l2: 0.842715\tvalid_1's rmse: 0.7578\tvalid_1's l2: 0.574261             \n",
      "[100]\tvalid_0's rmse: 0.847124\tvalid_0's l2: 0.71762\tvalid_1's rmse: 0.804254\tvalid_1's l2: 0.646824            \n",
      "[200]\tvalid_0's rmse: 0.83907\tvalid_0's l2: 0.704039\tvalid_1's rmse: 0.762082\tvalid_1's l2: 0.580769            \n",
      "[300]\tvalid_0's rmse: 0.836677\tvalid_0's l2: 0.700028\tvalid_1's rmse: 0.730895\tvalid_1's l2: 0.534208           \n",
      "[100]\tvalid_0's rmse: 0.87877\tvalid_0's l2: 0.772237\tvalid_1's rmse: 0.799867\tvalid_1's l2: 0.639788            \n",
      "[200]\tvalid_0's rmse: 0.877025\tvalid_0's l2: 0.769172\tvalid_1's rmse: 0.75754\tvalid_1's l2: 0.573867            \n",
      " 44%|█████████████████▊                      | 89/200 [03:07<03:16,  1.77s/trial, best loss: 0.8725154993765815]"
     ]
    },
    {
     "name": "stderr",
     "output_type": "stream",
     "text": [
      "Score - 0.875602786717313, Std - 0.031663205027874036, Eval Score - 0.875602786717313\n",
      "Score across folds - [0.9138516017263846, 0.8363138325588813, 0.8766429258666731].\n"
     ]
    },
    {
     "name": "stdout",
     "output_type": "stream",
     "text": [
      "\r\n",
      " 45%|██████████████████                      | 90/200 [03:07<03:17,  1.80s/trial, best loss: 0.8725154993765815]"
     ]
    },
    {
     "name": "stderr",
     "output_type": "stream",
     "text": [
      "\n",
      "Iteration: 91, Training with params: {'boosting_type': 'gbdt', 'colsample_bytree': 0.8, 'learning_rate': 0.1, 'min_child_samples': 200, 'n_estimators': 10000, 'n_jobs': -1, 'num_leaves': 64, 'objective': 'regression', 'subsample': 0.8, 'subsample_freq': 10}\n"
     ]
    },
    {
     "name": "stdout",
     "output_type": "stream",
     "text": [
      "[100]\tvalid_0's rmse: 0.913851\tvalid_0's l2: 0.835123\tvalid_1's rmse: 0.788861\tvalid_1's l2: 0.622302           \n",
      "[100]\tvalid_0's rmse: 0.850924\tvalid_0's l2: 0.724072\tvalid_1's rmse: 0.791169\tvalid_1's l2: 0.625948           \n",
      "[200]\tvalid_0's rmse: 0.84922\tvalid_0's l2: 0.721175\tvalid_1's rmse: 0.73575\tvalid_1's l2: 0.541328             \n",
      "[300]\tvalid_0's rmse: 0.854044\tvalid_0's l2: 0.729392\tvalid_1's rmse: 0.695138\tvalid_1's l2: 0.483216           \n",
      "[100]\tvalid_0's rmse: 0.875636\tvalid_0's l2: 0.766738\tvalid_1's rmse: 0.787032\tvalid_1's l2: 0.61942            \n",
      "[200]\tvalid_0's rmse: 0.875811\tvalid_0's l2: 0.767045\tvalid_1's rmse: 0.734089\tvalid_1's l2: 0.538887           \n",
      " 45%|██████████████████                      | 90/200 [03:10<03:17,  1.80s/trial, best loss: 0.8725154993765815]"
     ]
    },
    {
     "name": "stderr",
     "output_type": "stream",
     "text": [
      "Score - 0.8776283652627743, Std - 0.026418355021664012, Eval Score - 0.8776283652627743\n",
      "Score across folds - [0.911613433421384, 0.8471950135086771, 0.8740766488582621].\n"
     ]
    },
    {
     "name": "stdout",
     "output_type": "stream",
     "text": [
      "\r\n",
      " 46%|██████████████████▏                     | 91/200 [03:10<03:51,  2.13s/trial, best loss: 0.8725154993765815]"
     ]
    },
    {
     "name": "stderr",
     "output_type": "stream",
     "text": [
      "\n",
      "Iteration: 92, Training with params: {'boosting_type': 'gbdt', 'colsample_bytree': 0.8, 'learning_rate': 0.1, 'min_child_samples': 160, 'n_estimators': 10000, 'n_jobs': -1, 'num_leaves': 16, 'objective': 'regression', 'subsample': 1.0, 'subsample_freq': 10}\n"
     ]
    },
    {
     "name": "stdout",
     "output_type": "stream",
     "text": [
      "[100]\tvalid_0's rmse: 0.917115\tvalid_0's l2: 0.841099\tvalid_1's rmse: 0.844193\tvalid_1's l2: 0.712663           \n",
      "[200]\tvalid_0's rmse: 0.913592\tvalid_0's l2: 0.834651\tvalid_1's rmse: 0.812322\tvalid_1's l2: 0.659867           \n",
      "[300]\tvalid_0's rmse: 0.91467\tvalid_0's l2: 0.836621\tvalid_1's rmse: 0.793718\tvalid_1's l2: 0.629989            \n",
      "[100]\tvalid_0's rmse: 0.855078\tvalid_0's l2: 0.731158\tvalid_1's rmse: 0.847318\tvalid_1's l2: 0.717948           \n",
      "[200]\tvalid_0's rmse: 0.842095\tvalid_0's l2: 0.709125\tvalid_1's rmse: 0.816686\tvalid_1's l2: 0.666976           \n",
      "[300]\tvalid_0's rmse: 0.838449\tvalid_0's l2: 0.702996\tvalid_1's rmse: 0.797025\tvalid_1's l2: 0.63525            \n",
      "[400]\tvalid_0's rmse: 0.837074\tvalid_0's l2: 0.700694\tvalid_1's rmse: 0.782228\tvalid_1's l2: 0.611881           \n",
      "[500]\tvalid_0's rmse: 0.837105\tvalid_0's l2: 0.700744\tvalid_1's rmse: 0.768998\tvalid_1's l2: 0.591358           \n",
      "[100]\tvalid_0's rmse: 0.879874\tvalid_0's l2: 0.774179\tvalid_1's rmse: 0.842517\tvalid_1's l2: 0.709835           \n",
      "[200]\tvalid_0's rmse: 0.871824\tvalid_0's l2: 0.760078\tvalid_1's rmse: 0.811681\tvalid_1's l2: 0.658827           \n",
      "[300]\tvalid_0's rmse: 0.870039\tvalid_0's l2: 0.756967\tvalid_1's rmse: 0.792452\tvalid_1's l2: 0.627979           \n",
      " 46%|██████████████████▏                     | 91/200 [03:12<03:51,  2.13s/trial, best loss: 0.8725154993765815]"
     ]
    },
    {
     "name": "stderr",
     "output_type": "stream",
     "text": [
      "Score - 0.8726936548579755, Std - 0.03154146545988049, Eval Score - 0.8726936548579755\n",
      "Score across folds - [0.9127151257961247, 0.8356239785368019, 0.869741860241].\n"
     ]
    },
    {
     "name": "stdout",
     "output_type": "stream",
     "text": [
      "\r\n",
      " 46%|██████████████████▍                     | 92/200 [03:12<03:39,  2.03s/trial, best loss: 0.8725154993765815]"
     ]
    },
    {
     "name": "stderr",
     "output_type": "stream",
     "text": [
      "\n",
      "Iteration: 93, Training with params: {'boosting_type': 'gbdt', 'colsample_bytree': 0.8, 'learning_rate': 0.1, 'min_child_samples': 160, 'n_estimators': 10000, 'n_jobs': -1, 'num_leaves': 16, 'objective': 'regression', 'subsample': 0.8, 'subsample_freq': 10}\n"
     ]
    },
    {
     "name": "stdout",
     "output_type": "stream",
     "text": [
      "[100]\tvalid_0's rmse: 0.919369\tvalid_0's l2: 0.845239\tvalid_1's rmse: 0.847165\tvalid_1's l2: 0.717689           \n",
      "[200]\tvalid_0's rmse: 0.913772\tvalid_0's l2: 0.834979\tvalid_1's rmse: 0.81509\tvalid_1's l2: 0.664371            \n",
      "[100]\tvalid_0's rmse: 0.855098\tvalid_0's l2: 0.731193\tvalid_1's rmse: 0.848447\tvalid_1's l2: 0.719862           \n",
      "[200]\tvalid_0's rmse: 0.841607\tvalid_0's l2: 0.708303\tvalid_1's rmse: 0.817384\tvalid_1's l2: 0.668117           \n",
      "[300]\tvalid_0's rmse: 0.840779\tvalid_0's l2: 0.706909\tvalid_1's rmse: 0.798091\tvalid_1's l2: 0.636949           \n",
      "[400]\tvalid_0's rmse: 0.839071\tvalid_0's l2: 0.70404\tvalid_1's rmse: 0.782388\tvalid_1's l2: 0.612131            \n",
      "[500]\tvalid_0's rmse: 0.839371\tvalid_0's l2: 0.704544\tvalid_1's rmse: 0.768009\tvalid_1's l2: 0.589839           \n",
      "[100]\tvalid_0's rmse: 0.879189\tvalid_0's l2: 0.772974\tvalid_1's rmse: 0.842928\tvalid_1's l2: 0.710527           \n",
      "[200]\tvalid_0's rmse: 0.872366\tvalid_0's l2: 0.761023\tvalid_1's rmse: 0.813508\tvalid_1's l2: 0.661796           \n",
      "[300]\tvalid_0's rmse: 0.872833\tvalid_0's l2: 0.761838\tvalid_1's rmse: 0.793874\tvalid_1's l2: 0.630236           \n",
      "[400]\tvalid_0's rmse: 0.873875\tvalid_0's l2: 0.763658\tvalid_1's rmse: 0.777921\tvalid_1's l2: 0.60516            \n",
      " 46%|██████████████████▍                     | 92/200 [03:14<03:39,  2.03s/trial, best loss: 0.8725154993765815]"
     ]
    },
    {
     "name": "stderr",
     "output_type": "stream",
     "text": [
      "Score - 0.8734157527694894, Std - 0.030153875444783852, Eval Score - 0.8734157527694894\n",
      "Score across folds - [0.9116148088884496, 0.8378995140094851, 0.8707329354105331].\n"
     ]
    },
    {
     "name": "stdout",
     "output_type": "stream",
     "text": [
      "\r\n",
      " 46%|██████████████████▌                     | 93/200 [03:14<03:38,  2.04s/trial, best loss: 0.8725154993765815]"
     ]
    },
    {
     "name": "stderr",
     "output_type": "stream",
     "text": [
      "\n",
      "Iteration: 94, Training with params: {'boosting_type': 'gbdt', 'colsample_bytree': 1.0, 'learning_rate': 0.1, 'min_child_samples': 240, 'n_estimators': 10000, 'n_jobs': -1, 'num_leaves': 48, 'objective': 'regression', 'subsample': 0.6000000000000001, 'subsample_freq': 10}\n"
     ]
    },
    {
     "name": "stdout",
     "output_type": "stream",
     "text": [
      "[100]\tvalid_0's rmse: 0.9211\tvalid_0's l2: 0.848426\tvalid_1's rmse: 0.82614\tvalid_1's l2: 0.682507              \n",
      "[200]\tvalid_0's rmse: 0.921444\tvalid_0's l2: 0.849058\tvalid_1's rmse: 0.785373\tvalid_1's l2: 0.616811           \n",
      "[100]\tvalid_0's rmse: 0.855376\tvalid_0's l2: 0.731667\tvalid_1's rmse: 0.82911\tvalid_1's l2: 0.687423            \n",
      "[200]\tvalid_0's rmse: 0.853807\tvalid_0's l2: 0.728987\tvalid_1's rmse: 0.788066\tvalid_1's l2: 0.621048           \n",
      "[300]\tvalid_0's rmse: 0.854859\tvalid_0's l2: 0.730784\tvalid_1's rmse: 0.759549\tvalid_1's l2: 0.576914           \n",
      "[100]\tvalid_0's rmse: 0.890769\tvalid_0's l2: 0.79347\tvalid_1's rmse: 0.825531\tvalid_1's l2: 0.681502            \n",
      "[200]\tvalid_0's rmse: 0.886178\tvalid_0's l2: 0.785312\tvalid_1's rmse: 0.786403\tvalid_1's l2: 0.61843            \n",
      "[300]\tvalid_0's rmse: 0.887909\tvalid_0's l2: 0.788382\tvalid_1's rmse: 0.758357\tvalid_1's l2: 0.575106           \n",
      " 46%|██████████████████▌                     | 93/200 [03:16<03:38,  2.04s/trial, best loss: 0.8725154993765815]"
     ]
    },
    {
     "name": "stderr",
     "output_type": "stream",
     "text": [
      "Score - 0.88384266925271, Std - 0.02640906921156589, Eval Score - 0.88384266925271\n",
      "Score across folds - [0.915450984211426, 0.8508093439456572, 0.885267679601047].\n"
     ]
    },
    {
     "name": "stdout",
     "output_type": "stream",
     "text": [
      "\r\n",
      " 47%|██████████████████▊                     | 94/200 [03:16<03:51,  2.18s/trial, best loss: 0.8725154993765815]"
     ]
    },
    {
     "name": "stderr",
     "output_type": "stream",
     "text": [
      "\n",
      "Iteration: 95, Training with params: {'boosting_type': 'gbdt', 'colsample_bytree': 1.0, 'learning_rate': 0.1, 'min_child_samples': 120, 'n_estimators': 10000, 'n_jobs': -1, 'num_leaves': 32, 'objective': 'regression', 'subsample': 0.4, 'subsample_freq': 5}\n"
     ]
    },
    {
     "name": "stdout",
     "output_type": "stream",
     "text": [
      "[100]\tvalid_0's rmse: 0.924565\tvalid_0's l2: 0.854821\tvalid_1's rmse: 0.823016\tvalid_1's l2: 0.677356           \n",
      "[100]\tvalid_0's rmse: 0.856919\tvalid_0's l2: 0.73431\tvalid_1's rmse: 0.824822\tvalid_1's l2: 0.680331            \n",
      "[200]\tvalid_0's rmse: 0.851838\tvalid_0's l2: 0.725628\tvalid_1's rmse: 0.785326\tvalid_1's l2: 0.616736           \n",
      "[100]\tvalid_0's rmse: 0.889179\tvalid_0's l2: 0.790638\tvalid_1's rmse: 0.818778\tvalid_1's l2: 0.670397           \n",
      "[200]\tvalid_0's rmse: 0.884031\tvalid_0's l2: 0.781511\tvalid_1's rmse: 0.780323\tvalid_1's l2: 0.608904           \n",
      " 47%|██████████████████▊                     | 94/200 [03:18<03:51,  2.18s/trial, best loss: 0.8725154993765815]"
     ]
    },
    {
     "name": "stderr",
     "output_type": "stream",
     "text": [
      "Score - 0.885172842211902, Std - 0.028987333771890163, Eval Score - 0.885172842211902\n",
      "Score across folds - [0.9221547248791878, 0.8513634954589024, 0.8820003062976159].\n"
     ]
    },
    {
     "name": "stdout",
     "output_type": "stream",
     "text": [
      "\r\n",
      " 48%|███████████████████                     | 95/200 [03:18<03:32,  2.02s/trial, best loss: 0.8725154993765815]"
     ]
    },
    {
     "name": "stderr",
     "output_type": "stream",
     "text": [
      "\n",
      "Iteration: 96, Training with params: {'boosting_type': 'gbdt', 'colsample_bytree': 0.8, 'learning_rate': 0.1, 'min_child_samples': 200, 'n_estimators': 10000, 'n_jobs': -1, 'num_leaves': 80, 'objective': 'regression', 'subsample': 1.0, 'subsample_freq': 10}\n"
     ]
    },
    {
     "name": "stdout",
     "output_type": "stream",
     "text": [
      "[100]\tvalid_0's rmse: 0.916678\tvalid_0's l2: 0.840298\tvalid_1's rmse: 0.768616\tvalid_1's l2: 0.59077            \n",
      "[100]\tvalid_0's rmse: 0.84684\tvalid_0's l2: 0.717138\tvalid_1's rmse: 0.772077\tvalid_1's l2: 0.596104            \n",
      "[200]\tvalid_0's rmse: 0.841292\tvalid_0's l2: 0.707772\tvalid_1's rmse: 0.710011\tvalid_1's l2: 0.504116           \n",
      "[300]\tvalid_0's rmse: 0.843928\tvalid_0's l2: 0.712215\tvalid_1's rmse: 0.663172\tvalid_1's l2: 0.439798           \n",
      "[100]\tvalid_0's rmse: 0.876726\tvalid_0's l2: 0.768649\tvalid_1's rmse: 0.768285\tvalid_1's l2: 0.590262           \n",
      "[200]\tvalid_0's rmse: 0.879148\tvalid_0's l2: 0.772901\tvalid_1's rmse: 0.706773\tvalid_1's l2: 0.499529           \n",
      " 48%|███████████████████                     | 95/200 [03:21<03:32,  2.02s/trial, best loss: 0.8725154993765815]"
     ]
    },
    {
     "name": "stderr",
     "output_type": "stream",
     "text": [
      "Score - 0.8765384926932983, Std - 0.029884080200945323, Eval Score - 0.8765384926932983\n",
      "Score across folds - [0.9136332848049512, 0.8404534322311223, 0.8755287610438212].\n"
     ]
    },
    {
     "name": "stdout",
     "output_type": "stream",
     "text": [
      "\r\n",
      " 48%|███████████████████▏                    | 96/200 [03:21<03:53,  2.25s/trial, best loss: 0.8725154993765815]"
     ]
    },
    {
     "name": "stderr",
     "output_type": "stream",
     "text": [
      "\n",
      "Iteration: 97, Training with params: {'boosting_type': 'gbdt', 'colsample_bytree': 1.0, 'learning_rate': 0.1, 'min_child_samples': 160, 'n_estimators': 10000, 'n_jobs': -1, 'num_leaves': 16, 'objective': 'regression', 'subsample': 0.2, 'subsample_freq': 10}\n"
     ]
    },
    {
     "name": "stdout",
     "output_type": "stream",
     "text": [
      "[100]\tvalid_0's rmse: 0.938823\tvalid_0's l2: 0.881389\tvalid_1's rmse: 0.873636\tvalid_1's l2: 0.76324            \n",
      "[200]\tvalid_0's rmse: 0.936326\tvalid_0's l2: 0.876706\tvalid_1's rmse: 0.852383\tvalid_1's l2: 0.726557           \n",
      "[100]\tvalid_0's rmse: 0.879343\tvalid_0's l2: 0.773244\tvalid_1's rmse: 0.876645\tvalid_1's l2: 0.768507           \n",
      "[200]\tvalid_0's rmse: 0.877252\tvalid_0's l2: 0.76957\tvalid_1's rmse: 0.853106\tvalid_1's l2: 0.727791            \n",
      "[300]\tvalid_0's rmse: 0.865474\tvalid_0's l2: 0.749045\tvalid_1's rmse: 0.842157\tvalid_1's l2: 0.709229           \n",
      "[400]\tvalid_0's rmse: 0.871272\tvalid_0's l2: 0.759114\tvalid_1's rmse: 0.829398\tvalid_1's l2: 0.687901           \n",
      "[100]\tvalid_0's rmse: 0.906165\tvalid_0's l2: 0.821136\tvalid_1's rmse: 0.873633\tvalid_1's l2: 0.763235           \n",
      "[200]\tvalid_0's rmse: 0.897814\tvalid_0's l2: 0.806069\tvalid_1's rmse: 0.848743\tvalid_1's l2: 0.720365           \n",
      "[300]\tvalid_0's rmse: 0.900852\tvalid_0's l2: 0.811534\tvalid_1's rmse: 0.835771\tvalid_1's l2: 0.698514           \n",
      " 48%|███████████████████▏                    | 96/200 [03:22<03:53,  2.25s/trial, best loss: 0.8725154993765815]"
     ]
    },
    {
     "name": "stderr",
     "output_type": "stream",
     "text": [
      "Score - 0.8947186000986419, Std - 0.028956988595112334, Eval Score - 0.8947186000986419\n",
      "Score across folds - [0.9320199392606048, 0.8614317303519973, 0.8907041306833235].\n"
     ]
    },
    {
     "name": "stdout",
     "output_type": "stream",
     "text": [
      "\r\n",
      " 48%|███████████████████▍                    | 97/200 [03:22<03:32,  2.06s/trial, best loss: 0.8725154993765815]"
     ]
    },
    {
     "name": "stderr",
     "output_type": "stream",
     "text": [
      "\n",
      "Iteration: 98, Training with params: {'boosting_type': 'gbdt', 'colsample_bytree': 1.0, 'learning_rate': 0.1, 'min_child_samples': 240, 'n_estimators': 10000, 'n_jobs': -1, 'num_leaves': 48, 'objective': 'regression', 'subsample': 1.0, 'subsample_freq': 10}\n"
     ]
    },
    {
     "name": "stdout",
     "output_type": "stream",
     "text": [
      "[100]\tvalid_0's rmse: 0.918896\tvalid_0's l2: 0.84437\tvalid_1's rmse: 0.791686\tvalid_1's l2: 0.626767            \n",
      "[100]\tvalid_0's rmse: 0.849044\tvalid_0's l2: 0.720875\tvalid_1's rmse: 0.793743\tvalid_1's l2: 0.630028           \n",
      "[200]\tvalid_0's rmse: 0.842373\tvalid_0's l2: 0.709592\tvalid_1's rmse: 0.746933\tvalid_1's l2: 0.557908           \n",
      "[300]\tvalid_0's rmse: 0.843847\tvalid_0's l2: 0.712078\tvalid_1's rmse: 0.712594\tvalid_1's l2: 0.50779            \n",
      "[100]\tvalid_0's rmse: 0.879282\tvalid_0's l2: 0.773138\tvalid_1's rmse: 0.79177\tvalid_1's l2: 0.626899            \n",
      "[200]\tvalid_0's rmse: 0.879607\tvalid_0's l2: 0.773709\tvalid_1's rmse: 0.74514\tvalid_1's l2: 0.555234            \n",
      " 48%|███████████████████▍                    | 97/200 [03:24<03:32,  2.06s/trial, best loss: 0.8725154993765815]"
     ]
    },
    {
     "name": "stderr",
     "output_type": "stream",
     "text": [
      "Score - 0.878745283428101, Std - 0.03150042475633515, Eval Score - 0.878745283428101\n",
      "Score across folds - [0.9180885359349777, 0.8409767927672742, 0.877170521582051].\n"
     ]
    },
    {
     "name": "stdout",
     "output_type": "stream",
     "text": [
      "\r\n",
      " 49%|███████████████████▌                    | 98/200 [03:25<03:35,  2.11s/trial, best loss: 0.8725154993765815]"
     ]
    },
    {
     "name": "stderr",
     "output_type": "stream",
     "text": [
      "\n",
      "Iteration: 99, Training with params: {'boosting_type': 'gbdt', 'colsample_bytree': 0.8, 'learning_rate': 0.1, 'min_child_samples': 120, 'n_estimators': 10000, 'n_jobs': -1, 'num_leaves': 16, 'objective': 'regression', 'subsample': 0.8, 'subsample_freq': 10}\n"
     ]
    },
    {
     "name": "stdout",
     "output_type": "stream",
     "text": [
      "[100]\tvalid_0's rmse: 0.914168\tvalid_0's l2: 0.835704\tvalid_1's rmse: 0.843009\tvalid_1's l2: 0.710664           \n",
      "[200]\tvalid_0's rmse: 0.908511\tvalid_0's l2: 0.825393\tvalid_1's rmse: 0.809206\tvalid_1's l2: 0.654814           \n",
      "[100]\tvalid_0's rmse: 0.853658\tvalid_0's l2: 0.728732\tvalid_1's rmse: 0.846263\tvalid_1's l2: 0.716161           \n",
      "[200]\tvalid_0's rmse: 0.839929\tvalid_0's l2: 0.705481\tvalid_1's rmse: 0.814364\tvalid_1's l2: 0.663189           \n",
      "[300]\tvalid_0's rmse: 0.837983\tvalid_0's l2: 0.702215\tvalid_1's rmse: 0.792927\tvalid_1's l2: 0.628733           \n",
      "[400]\tvalid_0's rmse: 0.838102\tvalid_0's l2: 0.702415\tvalid_1's rmse: 0.775455\tvalid_1's l2: 0.601331           \n",
      "[500]\tvalid_0's rmse: 0.836193\tvalid_0's l2: 0.699219\tvalid_1's rmse: 0.760439\tvalid_1's l2: 0.578268           \n",
      "[100]\tvalid_0's rmse: 0.876885\tvalid_0's l2: 0.768927\tvalid_1's rmse: 0.841758\tvalid_1's l2: 0.708557           \n",
      "[200]\tvalid_0's rmse: 0.869526\tvalid_0's l2: 0.756075\tvalid_1's rmse: 0.810279\tvalid_1's l2: 0.656552           \n",
      "[300]\tvalid_0's rmse: 0.869456\tvalid_0's l2: 0.755954\tvalid_1's rmse: 0.789334\tvalid_1's l2: 0.623049           \n",
      " 49%|███████████████████▌                    | 98/200 [03:26<03:35,  2.11s/trial, best loss: 0.8725154993765815]"
     ]
    },
    {
     "name": "stderr",
     "output_type": "stream",
     "text": [
      "Score - 0.8698473674122577, Std - 0.029726538453988753, Eval Score - 0.8698473674122577\n",
      "Score across folds - [0.9071500971013023, 0.8344067083302084, 0.8679852968052623].\n"
     ]
    },
    {
     "name": "stdout",
     "output_type": "stream",
     "text": [
      "\r\n",
      " 50%|███████████████████▊                    | 99/200 [03:27<03:32,  2.10s/trial, best loss: 0.8698473674122577]"
     ]
    },
    {
     "name": "stderr",
     "output_type": "stream",
     "text": [
      "\n",
      "Iteration: 100, Training with params: {'boosting_type': 'gbdt', 'colsample_bytree': 0.8, 'learning_rate': 0.1, 'min_child_samples': 80, 'n_estimators': 10000, 'n_jobs': -1, 'num_leaves': 32, 'objective': 'regression', 'subsample': 0.6000000000000001, 'subsample_freq': 5}\n"
     ]
    },
    {
     "name": "stdout",
     "output_type": "stream",
     "text": [
      "[100]\tvalid_0's rmse: 0.923095\tvalid_0's l2: 0.852104\tvalid_1's rmse: 0.805568\tvalid_1's l2: 0.64894            \n",
      "[200]\tvalid_0's rmse: 0.92568\tvalid_0's l2: 0.856883\tvalid_1's rmse: 0.760939\tvalid_1's l2: 0.579028            \n",
      "[100]\tvalid_0's rmse: 0.854996\tvalid_0's l2: 0.731018\tvalid_1's rmse: 0.80785\tvalid_1's l2: 0.652622            \n",
      "[200]\tvalid_0's rmse: 0.850793\tvalid_0's l2: 0.723849\tvalid_1's rmse: 0.763583\tvalid_1's l2: 0.583059           \n",
      "[100]\tvalid_0's rmse: 0.878866\tvalid_0's l2: 0.772406\tvalid_1's rmse: 0.803142\tvalid_1's l2: 0.645037           \n",
      "[200]\tvalid_0's rmse: 0.881533\tvalid_0's l2: 0.7771\tvalid_1's rmse: 0.758603\tvalid_1's l2: 0.575478             \n",
      " 50%|███████████████████▊                    | 99/200 [03:28<03:32,  2.10s/trial, best loss: 0.8698473674122577]"
     ]
    },
    {
     "name": "stderr",
     "output_type": "stream",
     "text": [
      "Score - 0.8815641630776331, Std - 0.029908284821250148, Eval Score - 0.8815641630776331\n",
      "Score across folds - [0.9197297248571499, 0.8466921240683826, 0.8782706403073667].\n"
     ]
    },
    {
     "name": "stdout",
     "output_type": "stream",
     "text": [
      "\r\n",
      " 50%|███████████████████▌                   | 100/200 [03:28<03:20,  2.00s/trial, best loss: 0.8698473674122577]"
     ]
    },
    {
     "name": "stderr",
     "output_type": "stream",
     "text": [
      "\n",
      "Iteration: 101, Training with params: {'boosting_type': 'gbdt', 'colsample_bytree': 0.6000000000000001, 'learning_rate': 0.1, 'min_child_samples': 80, 'n_estimators': 10000, 'n_jobs': -1, 'num_leaves': 16, 'objective': 'regression', 'subsample': 0.8, 'subsample_freq': 10}\n"
     ]
    },
    {
     "name": "stdout",
     "output_type": "stream",
     "text": [
      "[100]\tvalid_0's rmse: 0.916497\tvalid_0's l2: 0.839966\tvalid_1's rmse: 0.845636\tvalid_1's l2: 0.7151             \n",
      "[200]\tvalid_0's rmse: 0.912312\tvalid_0's l2: 0.832314\tvalid_1's rmse: 0.811644\tvalid_1's l2: 0.658765           \n",
      "[100]\tvalid_0's rmse: 0.856434\tvalid_0's l2: 0.733479\tvalid_1's rmse: 0.84867\tvalid_1's l2: 0.720241            \n",
      "[200]\tvalid_0's rmse: 0.843247\tvalid_0's l2: 0.711066\tvalid_1's rmse: 0.815306\tvalid_1's l2: 0.664724           \n",
      "[300]\tvalid_0's rmse: 0.84113\tvalid_0's l2: 0.7075\tvalid_1's rmse: 0.793122\tvalid_1's l2: 0.629043              \n",
      "[400]\tvalid_0's rmse: 0.838633\tvalid_0's l2: 0.703305\tvalid_1's rmse: 0.775242\tvalid_1's l2: 0.601              \n",
      "[500]\tvalid_0's rmse: 0.840656\tvalid_0's l2: 0.706703\tvalid_1's rmse: 0.759765\tvalid_1's l2: 0.577242           \n",
      "[100]\tvalid_0's rmse: 0.884687\tvalid_0's l2: 0.782672\tvalid_1's rmse: 0.844116\tvalid_1's l2: 0.712531           \n",
      "[200]\tvalid_0's rmse: 0.875867\tvalid_0's l2: 0.767143\tvalid_1's rmse: 0.809671\tvalid_1's l2: 0.655567           \n",
      "[300]\tvalid_0's rmse: 0.876743\tvalid_0's l2: 0.768679\tvalid_1's rmse: 0.787649\tvalid_1's l2: 0.620391           \n",
      " 50%|███████████████████▌                   | 100/200 [03:30<03:20,  2.00s/trial, best loss: 0.8698473674122577]"
     ]
    },
    {
     "name": "stderr",
     "output_type": "stream",
     "text": [
      "Score - 0.874484970119411, Std - 0.03018859801150997, Eval Score - 0.874484970119411\n",
      "Score across folds - [0.9112676488219552, 0.8373238922124246, 0.8748633693238533].\n"
     ]
    },
    {
     "name": "stdout",
     "output_type": "stream",
     "text": [
      "\r\n",
      " 50%|███████████████████▋                   | 101/200 [03:30<03:15,  1.97s/trial, best loss: 0.8698473674122577]"
     ]
    },
    {
     "name": "stderr",
     "output_type": "stream",
     "text": [
      "\n",
      "Iteration: 102, Training with params: {'boosting_type': 'gbdt', 'colsample_bytree': 1.0, 'learning_rate': 0.1, 'min_child_samples': 120, 'n_estimators': 10000, 'n_jobs': -1, 'num_leaves': 16, 'objective': 'regression', 'subsample': 0.6000000000000001, 'subsample_freq': 10}\n"
     ]
    },
    {
     "name": "stdout",
     "output_type": "stream",
     "text": [
      "[100]\tvalid_0's rmse: 0.922116\tvalid_0's l2: 0.850298\tvalid_1's rmse: 0.844717\tvalid_1's l2: 0.713547           \n",
      "[200]\tvalid_0's rmse: 0.919776\tvalid_0's l2: 0.845987\tvalid_1's rmse: 0.813468\tvalid_1's l2: 0.661731           \n",
      "[300]\tvalid_0's rmse: 0.922509\tvalid_0's l2: 0.851022\tvalid_1's rmse: 0.792695\tvalid_1's l2: 0.628366           \n",
      "[100]\tvalid_0's rmse: 0.857675\tvalid_0's l2: 0.735607\tvalid_1's rmse: 0.848364\tvalid_1's l2: 0.719721           \n",
      "[200]\tvalid_0's rmse: 0.849013\tvalid_0's l2: 0.720823\tvalid_1's rmse: 0.817999\tvalid_1's l2: 0.669123           \n",
      "[300]\tvalid_0's rmse: 0.847227\tvalid_0's l2: 0.717794\tvalid_1's rmse: 0.798458\tvalid_1's l2: 0.637535           \n",
      "[100]\tvalid_0's rmse: 0.885657\tvalid_0's l2: 0.784389\tvalid_1's rmse: 0.842081\tvalid_1's l2: 0.7091             \n",
      "[200]\tvalid_0's rmse: 0.87615\tvalid_0's l2: 0.767639\tvalid_1's rmse: 0.811502\tvalid_1's l2: 0.658536            \n",
      " 50%|███████████████████▋                   | 101/200 [03:32<03:15,  1.97s/trial, best loss: 0.8698473674122577]"
     ]
    },
    {
     "name": "stderr",
     "output_type": "stream",
     "text": [
      "Score - 0.8794716023400274, Std - 0.02956641032284829, Eval Score - 0.8794716023400274\n",
      "Score across folds - [0.9173202410098356, 0.8451567228398703, 0.8759378431703766].\n"
     ]
    },
    {
     "name": "stdout",
     "output_type": "stream",
     "text": [
      "\r\n",
      " 51%|███████████████████▉                   | 102/200 [03:32<03:03,  1.87s/trial, best loss: 0.8698473674122577]"
     ]
    },
    {
     "name": "stderr",
     "output_type": "stream",
     "text": [
      "\n",
      "Iteration: 103, Training with params: {'boosting_type': 'gbdt', 'colsample_bytree': 0.8, 'learning_rate': 0.1, 'min_child_samples': 80, 'n_estimators': 10000, 'n_jobs': -1, 'num_leaves': 64, 'objective': 'regression', 'subsample': 0.8, 'subsample_freq': 10}\n"
     ]
    },
    {
     "name": "stdout",
     "output_type": "stream",
     "text": [
      "[100]\tvalid_0's rmse: 0.922689\tvalid_0's l2: 0.851355\tvalid_1's rmse: 0.749333\tvalid_1's l2: 0.5615             \n",
      "[100]\tvalid_0's rmse: 0.84064\tvalid_0's l2: 0.706676\tvalid_1's rmse: 0.753741\tvalid_1's l2: 0.568125            \n",
      "[200]\tvalid_0's rmse: 0.83929\tvalid_0's l2: 0.704408\tvalid_1's rmse: 0.686025\tvalid_1's l2: 0.47063             \n",
      "[100]\tvalid_0's rmse: 0.880895\tvalid_0's l2: 0.775976\tvalid_1's rmse: 0.749543\tvalid_1's l2: 0.561815           \n",
      "[200]\tvalid_0's rmse: 0.887213\tvalid_0's l2: 0.787147\tvalid_1's rmse: 0.682807\tvalid_1's l2: 0.466225           \n",
      " 51%|███████████████████▉                   | 102/200 [03:34<03:03,  1.87s/trial, best loss: 0.8698473674122577]"
     ]
    },
    {
     "name": "stderr",
     "output_type": "stream",
     "text": [
      "Score - 0.8788153690376297, Std - 0.03304756953546676, Eval Score - 0.8788153690376297\n",
      "Score across folds - [0.919250026163448, 0.8383004628941224, 0.8788956180553186].\n"
     ]
    },
    {
     "name": "stdout",
     "output_type": "stream",
     "text": [
      "\r\n",
      " 52%|████████████████████                   | 103/200 [03:34<03:14,  2.00s/trial, best loss: 0.8698473674122577]"
     ]
    },
    {
     "name": "stderr",
     "output_type": "stream",
     "text": [
      "\n",
      "Iteration: 104, Training with params: {'boosting_type': 'gbdt', 'colsample_bytree': 1.0, 'learning_rate': 0.1, 'min_child_samples': 120, 'n_estimators': 10000, 'n_jobs': -1, 'num_leaves': 32, 'objective': 'regression', 'subsample': 0.8, 'subsample_freq': 10}\n"
     ]
    },
    {
     "name": "stdout",
     "output_type": "stream",
     "text": [
      "[100]\tvalid_0's rmse: 0.917898\tvalid_0's l2: 0.842537\tvalid_1's rmse: 0.805177\tvalid_1's l2: 0.648311           \n",
      "[100]\tvalid_0's rmse: 0.847167\tvalid_0's l2: 0.717691\tvalid_1's rmse: 0.807464\tvalid_1's l2: 0.651998           \n",
      "[200]\tvalid_0's rmse: 0.841229\tvalid_0's l2: 0.707666\tvalid_1's rmse: 0.76352\tvalid_1's l2: 0.582962            \n",
      "[300]\tvalid_0's rmse: 0.842137\tvalid_0's l2: 0.709194\tvalid_1's rmse: 0.730536\tvalid_1's l2: 0.533683           \n",
      "[100]\tvalid_0's rmse: 0.874463\tvalid_0's l2: 0.764685\tvalid_1's rmse: 0.802635\tvalid_1's l2: 0.644223           \n",
      "[200]\tvalid_0's rmse: 0.874577\tvalid_0's l2: 0.764885\tvalid_1's rmse: 0.759865\tvalid_1's l2: 0.577395           \n",
      " 52%|████████████████████                   | 103/200 [03:36<03:14,  2.00s/trial, best loss: 0.8698473674122577]"
     ]
    },
    {
     "name": "stderr",
     "output_type": "stream",
     "text": [
      "Score - 0.8768746125396599, Std - 0.031589992070576216, Eval Score - 0.8768746125396599\n",
      "Score across folds - [0.9174334665299827, 0.8403740289651309, 0.8728163421238663].\n"
     ]
    },
    {
     "name": "stdout",
     "output_type": "stream",
     "text": [
      "\r\n",
      " 52%|████████████████████▎                  | 104/200 [03:36<03:10,  1.99s/trial, best loss: 0.8698473674122577]"
     ]
    },
    {
     "name": "stderr",
     "output_type": "stream",
     "text": [
      "\n",
      "Iteration: 105, Training with params: {'boosting_type': 'gbdt', 'colsample_bytree': 0.8, 'learning_rate': 0.1, 'min_child_samples': 40, 'n_estimators': 10000, 'n_jobs': -1, 'num_leaves': 16, 'objective': 'regression', 'subsample': 0.6000000000000001, 'subsample_freq': 5}\n"
     ]
    },
    {
     "name": "stdout",
     "output_type": "stream",
     "text": [
      "[100]\tvalid_0's rmse: 0.921721\tvalid_0's l2: 0.84957\tvalid_1's rmse: 0.839846\tvalid_1's l2: 0.705342            \n",
      "[200]\tvalid_0's rmse: 0.921839\tvalid_0's l2: 0.849788\tvalid_1's rmse: 0.804191\tvalid_1's l2: 0.646723           \n",
      "[100]\tvalid_0's rmse: 0.860748\tvalid_0's l2: 0.740887\tvalid_1's rmse: 0.843776\tvalid_1's l2: 0.711957           \n",
      "[200]\tvalid_0's rmse: 0.84664\tvalid_0's l2: 0.716799\tvalid_1's rmse: 0.80797\tvalid_1's l2: 0.652815             \n",
      "[300]\tvalid_0's rmse: 0.842735\tvalid_0's l2: 0.710202\tvalid_1's rmse: 0.782597\tvalid_1's l2: 0.612459           \n",
      "[400]\tvalid_0's rmse: 0.847275\tvalid_0's l2: 0.717875\tvalid_1's rmse: 0.761979\tvalid_1's l2: 0.580612           \n",
      "[100]\tvalid_0's rmse: 0.881441\tvalid_0's l2: 0.776938\tvalid_1's rmse: 0.839403\tvalid_1's l2: 0.704597           \n",
      "[200]\tvalid_0's rmse: 0.876823\tvalid_0's l2: 0.768818\tvalid_1's rmse: 0.80261\tvalid_1's l2: 0.644182            \n",
      " 52%|████████████████████▎                  | 104/200 [03:38<03:10,  1.99s/trial, best loss: 0.8698473674122577]"
     ]
    },
    {
     "name": "stderr",
     "output_type": "stream",
     "text": [
      "Score - 0.8772301198676221, Std - 0.03161213181424164, Eval Score - 0.8772301198676221\n",
      "Score across folds - [0.9180335340553812, 0.8410074975117194, 0.8726493280357658].\n"
     ]
    },
    {
     "name": "stdout",
     "output_type": "stream",
     "text": [
      "\r\n",
      " 52%|████████████████████▍                  | 105/200 [03:38<02:53,  1.82s/trial, best loss: 0.8698473674122577]"
     ]
    },
    {
     "name": "stderr",
     "output_type": "stream",
     "text": [
      "\n",
      "Iteration: 106, Training with params: {'boosting_type': 'gbdt', 'colsample_bytree': 0.8, 'learning_rate': 0.1, 'min_child_samples': 120, 'n_estimators': 10000, 'n_jobs': -1, 'num_leaves': 32, 'objective': 'regression', 'subsample': 0.8, 'subsample_freq': 10}\n"
     ]
    },
    {
     "name": "stdout",
     "output_type": "stream",
     "text": [
      "[100]\tvalid_0's rmse: 0.911314\tvalid_0's l2: 0.830494\tvalid_1's rmse: 0.806626\tvalid_1's l2: 0.650646           \n",
      "[200]\tvalid_0's rmse: 0.915909\tvalid_0's l2: 0.838889\tvalid_1's rmse: 0.763844\tvalid_1's l2: 0.583457           \n",
      "[100]\tvalid_0's rmse: 0.846478\tvalid_0's l2: 0.716525\tvalid_1's rmse: 0.809272\tvalid_1's l2: 0.65492            \n",
      "[200]\tvalid_0's rmse: 0.836711\tvalid_0's l2: 0.700085\tvalid_1's rmse: 0.766856\tvalid_1's l2: 0.588069           \n",
      "[300]\tvalid_0's rmse: 0.838135\tvalid_0's l2: 0.702471\tvalid_1's rmse: 0.735072\tvalid_1's l2: 0.540331           \n",
      "[100]\tvalid_0's rmse: 0.871354\tvalid_0's l2: 0.759257\tvalid_1's rmse: 0.804417\tvalid_1's l2: 0.647086           \n",
      "[200]\tvalid_0's rmse: 0.873236\tvalid_0's l2: 0.762541\tvalid_1's rmse: 0.762768\tvalid_1's l2: 0.581815           \n",
      " 52%|████████████████████▍                  | 105/200 [03:40<02:53,  1.82s/trial, best loss: 0.8698473674122577]"
     ]
    },
    {
     "name": "stderr",
     "output_type": "stream",
     "text": [
      "Score - 0.8716217558777698, Std - 0.031153326809744447, Eval Score - 0.8716217558777698\n",
      "Score across folds - [0.9109944069347734, 0.8348140864029042, 0.8690567742956317].\n"
     ]
    },
    {
     "name": "stdout",
     "output_type": "stream",
     "text": [
      "\r\n",
      " 53%|████████████████████▋                  | 106/200 [03:40<02:56,  1.87s/trial, best loss: 0.8698473674122577]"
     ]
    },
    {
     "name": "stderr",
     "output_type": "stream",
     "text": [
      "\n",
      "Iteration: 107, Training with params: {'boosting_type': 'gbdt', 'colsample_bytree': 0.6000000000000001, 'learning_rate': 0.1, 'min_child_samples': 80, 'n_estimators': 10000, 'n_jobs': -1, 'num_leaves': 48, 'objective': 'regression', 'subsample': 0.6000000000000001, 'subsample_freq': 10}\n"
     ]
    },
    {
     "name": "stdout",
     "output_type": "stream",
     "text": [
      "[100]\tvalid_0's rmse: 0.915369\tvalid_0's l2: 0.8379\tvalid_1's rmse: 0.786138\tvalid_1's l2: 0.618013             \n",
      "[100]\tvalid_0's rmse: 0.855277\tvalid_0's l2: 0.731498\tvalid_1's rmse: 0.789426\tvalid_1's l2: 0.623194           \n",
      "[200]\tvalid_0's rmse: 0.85061\tvalid_0's l2: 0.723538\tvalid_1's rmse: 0.735513\tvalid_1's l2: 0.540979            \n",
      "[100]\tvalid_0's rmse: 0.876343\tvalid_0's l2: 0.767977\tvalid_1's rmse: 0.785904\tvalid_1's l2: 0.617645           \n",
      "[200]\tvalid_0's rmse: 0.879816\tvalid_0's l2: 0.774075\tvalid_1's rmse: 0.73231\tvalid_1's l2: 0.536279            \n",
      " 53%|████████████████████▋                  | 106/200 [03:42<02:56,  1.87s/trial, best loss: 0.8698473674122577]"
     ]
    },
    {
     "name": "stderr",
     "output_type": "stream",
     "text": [
      "Score - 0.8791145154250385, Std - 0.026575739024155293, Eval Score - 0.8791145154250385\n",
      "Score across folds - [0.9136585409699877, 0.8490191808761115, 0.874665824429016].\n"
     ]
    },
    {
     "name": "stdout",
     "output_type": "stream",
     "text": [
      "\r\n",
      " 54%|████████████████████▊                  | 107/200 [03:42<02:58,  1.92s/trial, best loss: 0.8698473674122577]"
     ]
    },
    {
     "name": "stderr",
     "output_type": "stream",
     "text": [
      "\n",
      "Iteration: 108, Training with params: {'boosting_type': 'gbdt', 'colsample_bytree': 0.6000000000000001, 'learning_rate': 0.1, 'min_child_samples': 120, 'n_estimators': 10000, 'n_jobs': -1, 'num_leaves': 32, 'objective': 'regression', 'subsample': 0.6000000000000001, 'subsample_freq': 10}\n"
     ]
    },
    {
     "name": "stdout",
     "output_type": "stream",
     "text": [
      "[100]\tvalid_0's rmse: 0.917302\tvalid_0's l2: 0.841443\tvalid_1's rmse: 0.815864\tvalid_1's l2: 0.665634           \n",
      "[200]\tvalid_0's rmse: 0.917011\tvalid_0's l2: 0.84091\tvalid_1's rmse: 0.775966\tvalid_1's l2: 0.602124            \n",
      "[100]\tvalid_0's rmse: 0.850835\tvalid_0's l2: 0.72392\tvalid_1's rmse: 0.819611\tvalid_1's l2: 0.671763            \n",
      "[200]\tvalid_0's rmse: 0.840252\tvalid_0's l2: 0.706024\tvalid_1's rmse: 0.778769\tvalid_1's l2: 0.606481           \n",
      "[300]\tvalid_0's rmse: 0.842082\tvalid_0's l2: 0.709103\tvalid_1's rmse: 0.749829\tvalid_1's l2: 0.562244           \n",
      "[100]\tvalid_0's rmse: 0.879603\tvalid_0's l2: 0.773702\tvalid_1's rmse: 0.814706\tvalid_1's l2: 0.663746           \n",
      "[200]\tvalid_0's rmse: 0.879487\tvalid_0's l2: 0.773497\tvalid_1's rmse: 0.775422\tvalid_1's l2: 0.601279           \n",
      " 54%|████████████████████▊                  | 107/200 [03:44<02:58,  1.92s/trial, best loss: 0.8698473674122577]"
     ]
    },
    {
     "name": "stderr",
     "output_type": "stream",
     "text": [
      "Score - 0.8769404056125557, Std - 0.03113977480837769, Eval Score - 0.8769404056125557\n",
      "Score across folds - [0.9156189376255509, 0.8393663724382413, 0.8758359067738749].\n"
     ]
    },
    {
     "name": "stdout",
     "output_type": "stream",
     "text": [
      "\r\n",
      " 54%|█████████████████████                  | 108/200 [03:44<02:58,  1.94s/trial, best loss: 0.8698473674122577]"
     ]
    },
    {
     "name": "stderr",
     "output_type": "stream",
     "text": [
      "\n",
      "Iteration: 109, Training with params: {'boosting_type': 'gbdt', 'colsample_bytree': 0.6000000000000001, 'learning_rate': 0.1, 'min_child_samples': 80, 'n_estimators': 10000, 'n_jobs': -1, 'num_leaves': 32, 'objective': 'regression', 'subsample': 0.8, 'subsample_freq': 10}\n"
     ]
    },
    {
     "name": "stdout",
     "output_type": "stream",
     "text": [
      "[100]\tvalid_0's rmse: 0.914562\tvalid_0's l2: 0.836423\tvalid_1's rmse: 0.804625\tvalid_1's l2: 0.647421           \n",
      "[200]\tvalid_0's rmse: 0.918893\tvalid_0's l2: 0.844365\tvalid_1's rmse: 0.759716\tvalid_1's l2: 0.577169           \n",
      "[100]\tvalid_0's rmse: 0.848038\tvalid_0's l2: 0.719169\tvalid_1's rmse: 0.809472\tvalid_1's l2: 0.655245           \n",
      "[200]\tvalid_0's rmse: 0.841967\tvalid_0's l2: 0.708909\tvalid_1's rmse: 0.764142\tvalid_1's l2: 0.583913           \n",
      "[300]\tvalid_0's rmse: 0.842315\tvalid_0's l2: 0.709494\tvalid_1's rmse: 0.731776\tvalid_1's l2: 0.535496           \n",
      "[100]\tvalid_0's rmse: 0.8756\tvalid_0's l2: 0.766676\tvalid_1's rmse: 0.805724\tvalid_1's l2: 0.649192             \n",
      "[200]\tvalid_0's rmse: 0.876703\tvalid_0's l2: 0.768607\tvalid_1's rmse: 0.760474\tvalid_1's l2: 0.57832            \n",
      " 54%|█████████████████████                  | 108/200 [03:46<02:58,  1.94s/trial, best loss: 0.8698473674122577]"
     ]
    },
    {
     "name": "stderr",
     "output_type": "stream",
     "text": [
      "Score - 0.8759938434398112, Std - 0.029699722066366646, Eval Score - 0.8759938434398112\n",
      "Score across folds - [0.9136997469383387, 0.8411156345241573, 0.8731661488569379].\n"
     ]
    },
    {
     "name": "stdout",
     "output_type": "stream",
     "text": [
      "\r\n",
      " 55%|█████████████████████▎                 | 109/200 [03:46<02:57,  1.95s/trial, best loss: 0.8698473674122577]"
     ]
    },
    {
     "name": "stderr",
     "output_type": "stream",
     "text": [
      "\n",
      "Iteration: 110, Training with params: {'boosting_type': 'gbdt', 'colsample_bytree': 0.4, 'learning_rate': 0.1, 'min_child_samples': 120, 'n_estimators': 10000, 'n_jobs': -1, 'num_leaves': 48, 'objective': 'regression', 'subsample': 0.8, 'subsample_freq': 5}\n"
     ]
    },
    {
     "name": "stdout",
     "output_type": "stream",
     "text": [
      "[100]\tvalid_0's rmse: 0.916574\tvalid_0's l2: 0.840108\tvalid_1's rmse: 0.81547\tvalid_1's l2: 0.664992            \n",
      "[200]\tvalid_0's rmse: 0.916396\tvalid_0's l2: 0.839782\tvalid_1's rmse: 0.769326\tvalid_1's l2: 0.591863           \n",
      "[100]\tvalid_0's rmse: 0.854497\tvalid_0's l2: 0.730165\tvalid_1's rmse: 0.818603\tvalid_1's l2: 0.670111           \n",
      "[200]\tvalid_0's rmse: 0.842101\tvalid_0's l2: 0.709135\tvalid_1's rmse: 0.771986\tvalid_1's l2: 0.595963           \n",
      "[300]\tvalid_0's rmse: 0.838432\tvalid_0's l2: 0.702968\tvalid_1's rmse: 0.738947\tvalid_1's l2: 0.546042           \n",
      "[100]\tvalid_0's rmse: 0.882642\tvalid_0's l2: 0.779057\tvalid_1's rmse: 0.811302\tvalid_1's l2: 0.65821            \n",
      "[200]\tvalid_0's rmse: 0.876021\tvalid_0's l2: 0.767412\tvalid_1's rmse: 0.765852\tvalid_1's l2: 0.586529           \n",
      "[300]\tvalid_0's rmse: 0.877615\tvalid_0's l2: 0.770207\tvalid_1's rmse: 0.733383\tvalid_1's l2: 0.537851           \n",
      " 55%|█████████████████████▎                 | 109/200 [03:48<02:57,  1.95s/trial, best loss: 0.8698473674122577]"
     ]
    },
    {
     "name": "stderr",
     "output_type": "stream",
     "text": [
      "Score - 0.8752074691579189, Std - 0.030231147607357466, Eval Score - 0.8752074691579189\n",
      "Score across folds - [0.9121595576343149, 0.8381091050746746, 0.8753537447647675].\n"
     ]
    },
    {
     "name": "stdout",
     "output_type": "stream",
     "text": [
      "\r\n",
      " 55%|█████████████████████▍                 | 110/200 [03:49<03:19,  2.22s/trial, best loss: 0.8698473674122577]"
     ]
    },
    {
     "name": "stderr",
     "output_type": "stream",
     "text": [
      "\n",
      "Iteration: 111, Training with params: {'boosting_type': 'gbdt', 'colsample_bytree': 0.8, 'learning_rate': 0.1, 'min_child_samples': 80, 'n_estimators': 10000, 'n_jobs': -1, 'num_leaves': 32, 'objective': 'regression', 'subsample': 0.6000000000000001, 'subsample_freq': 10}\n"
     ]
    },
    {
     "name": "stdout",
     "output_type": "stream",
     "text": [
      "[100]\tvalid_0's rmse: 0.914705\tvalid_0's l2: 0.836686\tvalid_1's rmse: 0.805951\tvalid_1's l2: 0.649557           \n",
      "[200]\tvalid_0's rmse: 0.918357\tvalid_0's l2: 0.843379\tvalid_1's rmse: 0.761048\tvalid_1's l2: 0.579194           \n",
      "[100]\tvalid_0's rmse: 0.851217\tvalid_0's l2: 0.724571\tvalid_1's rmse: 0.809633\tvalid_1's l2: 0.655505           \n",
      "[200]\tvalid_0's rmse: 0.847218\tvalid_0's l2: 0.717778\tvalid_1's rmse: 0.765465\tvalid_1's l2: 0.585936           \n",
      "[300]\tvalid_0's rmse: 0.845395\tvalid_0's l2: 0.714692\tvalid_1's rmse: 0.733374\tvalid_1's l2: 0.537838           \n",
      "[100]\tvalid_0's rmse: 0.878428\tvalid_0's l2: 0.771636\tvalid_1's rmse: 0.805813\tvalid_1's l2: 0.649335           \n",
      "[200]\tvalid_0's rmse: 0.879486\tvalid_0's l2: 0.773495\tvalid_1's rmse: 0.761055\tvalid_1's l2: 0.579204           \n",
      " 55%|█████████████████████▍                 | 110/200 [03:50<03:19,  2.22s/trial, best loss: 0.8698473674122577]"
     ]
    },
    {
     "name": "stderr",
     "output_type": "stream",
     "text": [
      "Score - 0.8772424965829114, Std - 0.027744709748092098, Eval Score - 0.8772424965829114\n",
      "Score across folds - [0.9115910668547217, 0.843643073130368, 0.8764933497636445].\n"
     ]
    },
    {
     "name": "stdout",
     "output_type": "stream",
     "text": [
      "\r\n",
      " 56%|█████████████████████▋                 | 111/200 [03:50<03:09,  2.13s/trial, best loss: 0.8698473674122577]"
     ]
    },
    {
     "name": "stderr",
     "output_type": "stream",
     "text": [
      "\n",
      "Iteration: 112, Training with params: {'boosting_type': 'gbdt', 'colsample_bytree': 0.6000000000000001, 'learning_rate': 0.1, 'min_child_samples': 40, 'n_estimators': 10000, 'n_jobs': -1, 'num_leaves': 32, 'objective': 'regression', 'subsample': 0.4, 'subsample_freq': 10}\n"
     ]
    },
    {
     "name": "stdout",
     "output_type": "stream",
     "text": [
      "[100]\tvalid_0's rmse: 0.922721\tvalid_0's l2: 0.851414\tvalid_1's rmse: 0.811161\tvalid_1's l2: 0.657983           \n",
      "[100]\tvalid_0's rmse: 0.852031\tvalid_0's l2: 0.725958\tvalid_1's rmse: 0.815009\tvalid_1's l2: 0.66424            \n",
      "[200]\tvalid_0's rmse: 0.851927\tvalid_0's l2: 0.725779\tvalid_1's rmse: 0.772895\tvalid_1's l2: 0.597367           \n",
      "[100]\tvalid_0's rmse: 0.88487\tvalid_0's l2: 0.782995\tvalid_1's rmse: 0.810031\tvalid_1's l2: 0.65615             \n",
      "[200]\tvalid_0's rmse: 0.882117\tvalid_0's l2: 0.77813\tvalid_1's rmse: 0.76656\tvalid_1's l2: 0.587614             \n",
      " 56%|█████████████████████▋                 | 111/200 [03:52<03:09,  2.13s/trial, best loss: 0.8698473674122577]"
     ]
    },
    {
     "name": "stderr",
     "output_type": "stream",
     "text": [
      "Score - 0.8823629404101716, Std - 0.02828972728312285, Eval Score - 0.8823629404101716\n",
      "Score across folds - [0.9181083977552901, 0.8489287299951357, 0.880051693480089].\n"
     ]
    },
    {
     "name": "stdout",
     "output_type": "stream",
     "text": [
      "\r\n",
      " 56%|█████████████████████▊                 | 112/200 [03:52<02:51,  1.95s/trial, best loss: 0.8698473674122577]"
     ]
    },
    {
     "name": "stderr",
     "output_type": "stream",
     "text": [
      "\n",
      "Iteration: 113, Training with params: {'boosting_type': 'gbdt', 'colsample_bytree': 0.8, 'learning_rate': 0.1, 'min_child_samples': 120, 'n_estimators': 10000, 'n_jobs': -1, 'num_leaves': 48, 'objective': 'regression', 'subsample': 0.8, 'subsample_freq': 10}\n"
     ]
    },
    {
     "name": "stdout",
     "output_type": "stream",
     "text": [
      "[100]\tvalid_0's rmse: 0.917986\tvalid_0's l2: 0.842699\tvalid_1's rmse: 0.781309\tvalid_1's l2: 0.610444           \n",
      "[100]\tvalid_0's rmse: 0.843805\tvalid_0's l2: 0.712006\tvalid_1's rmse: 0.784756\tvalid_1's l2: 0.615842           \n",
      "[200]\tvalid_0's rmse: 0.838594\tvalid_0's l2: 0.70324\tvalid_1's rmse: 0.731615\tvalid_1's l2: 0.535261            \n",
      "[300]\tvalid_0's rmse: 0.842351\tvalid_0's l2: 0.709556\tvalid_1's rmse: 0.691353\tvalid_1's l2: 0.47797            \n",
      "[100]\tvalid_0's rmse: 0.873987\tvalid_0's l2: 0.763853\tvalid_1's rmse: 0.780443\tvalid_1's l2: 0.609091           \n",
      "[200]\tvalid_0's rmse: 0.876014\tvalid_0's l2: 0.767401\tvalid_1's rmse: 0.727343\tvalid_1's l2: 0.529029           \n",
      " 56%|█████████████████████▊                 | 112/200 [03:54<02:51,  1.95s/trial, best loss: 0.8698473674122577]"
     ]
    },
    {
     "name": "stderr",
     "output_type": "stream",
     "text": [
      "Score - 0.8754143610921531, Std - 0.03231178209012561, Eval Score - 0.8754143610921531\n",
      "Score across folds - [0.9159849644401852, 0.8369192680755069, 0.873338850760767].\n"
     ]
    },
    {
     "name": "stdout",
     "output_type": "stream",
     "text": [
      "\r\n",
      " 56%|██████████████████████                 | 113/200 [03:54<03:01,  2.09s/trial, best loss: 0.8698473674122577]"
     ]
    },
    {
     "name": "stderr",
     "output_type": "stream",
     "text": [
      "\n",
      "Iteration: 114, Training with params: {'boosting_type': 'gbdt', 'colsample_bytree': 0.8, 'learning_rate': 0.1, 'min_child_samples': 80, 'n_estimators': 10000, 'n_jobs': -1, 'num_leaves': 32, 'objective': 'regression', 'subsample': 0.4, 'subsample_freq': 10}\n"
     ]
    },
    {
     "name": "stdout",
     "output_type": "stream",
     "text": [
      "[100]\tvalid_0's rmse: 0.925437\tvalid_0's l2: 0.856433\tvalid_1's rmse: 0.815263\tvalid_1's l2: 0.664654           \n",
      "[100]\tvalid_0's rmse: 0.85503\tvalid_0's l2: 0.731076\tvalid_1's rmse: 0.818128\tvalid_1's l2: 0.669333            \n",
      "[200]\tvalid_0's rmse: 0.852983\tvalid_0's l2: 0.72758\tvalid_1's rmse: 0.779963\tvalid_1's l2: 0.608342            \n",
      "[100]\tvalid_0's rmse: 0.886912\tvalid_0's l2: 0.786614\tvalid_1's rmse: 0.814222\tvalid_1's l2: 0.662958           \n",
      "[200]\tvalid_0's rmse: 0.890806\tvalid_0's l2: 0.793536\tvalid_1's rmse: 0.774481\tvalid_1's l2: 0.59982            \n",
      " 56%|██████████████████████                 | 113/200 [03:56<03:01,  2.09s/trial, best loss: 0.8698473674122577]"
     ]
    },
    {
     "name": "stderr",
     "output_type": "stream",
     "text": [
      "Score - 0.8848963980183341, Std - 0.029595778162136252, Eval Score - 0.8848963980183341\n",
      "Score across folds - [0.9208638384378051, 0.8483756189861363, 0.8854497366310606].\n"
     ]
    },
    {
     "name": "stdout",
     "output_type": "stream",
     "text": [
      "\r\n",
      " 57%|██████████████████████▏                | 114/200 [03:56<02:46,  1.93s/trial, best loss: 0.8698473674122577]"
     ]
    },
    {
     "name": "stderr",
     "output_type": "stream",
     "text": [
      "\n",
      "Iteration: 115, Training with params: {'boosting_type': 'gbdt', 'colsample_bytree': 0.6000000000000001, 'learning_rate': 0.1, 'min_child_samples': 40, 'n_estimators': 10000, 'n_jobs': -1, 'num_leaves': 48, 'objective': 'regression', 'subsample': 0.8, 'subsample_freq': 5}\n"
     ]
    },
    {
     "name": "stdout",
     "output_type": "stream",
     "text": [
      "[100]\tvalid_0's rmse: 0.916148\tvalid_0's l2: 0.839327\tvalid_1's rmse: 0.7684\tvalid_1's l2: 0.590438             \n",
      "[100]\tvalid_0's rmse: 0.849275\tvalid_0's l2: 0.721268\tvalid_1's rmse: 0.772924\tvalid_1's l2: 0.597411           \n",
      "[200]\tvalid_0's rmse: 0.843458\tvalid_0's l2: 0.711422\tvalid_1's rmse: 0.711215\tvalid_1's l2: 0.505827           \n",
      "[300]\tvalid_0's rmse: 0.849748\tvalid_0's l2: 0.722071\tvalid_1's rmse: 0.666013\tvalid_1's l2: 0.443573           \n",
      "[100]\tvalid_0's rmse: 0.879251\tvalid_0's l2: 0.773082\tvalid_1's rmse: 0.769041\tvalid_1's l2: 0.591424           \n",
      "[200]\tvalid_0's rmse: 0.883274\tvalid_0's l2: 0.780172\tvalid_1's rmse: 0.70742\tvalid_1's l2: 0.500443            \n",
      " 57%|██████████████████████▏                | 114/200 [03:58<02:46,  1.93s/trial, best loss: 0.8698473674122577]"
     ]
    },
    {
     "name": "stderr",
     "output_type": "stream",
     "text": [
      "Score - 0.8783243969255977, Std - 0.02976689567869891, Eval Score - 0.8783243969255977\n",
      "Score across folds - [0.9151307685034517, 0.8422274162928696, 0.8776150059804719].\n"
     ]
    },
    {
     "name": "stdout",
     "output_type": "stream",
     "text": [
      "\r\n",
      " 57%|██████████████████████▍                | 115/200 [03:58<02:49,  1.99s/trial, best loss: 0.8698473674122577]"
     ]
    },
    {
     "name": "stderr",
     "output_type": "stream",
     "text": [
      "\n",
      "Iteration: 116, Training with params: {'boosting_type': 'gbdt', 'colsample_bytree': 0.8, 'learning_rate': 0.1, 'min_child_samples': 120, 'n_estimators': 10000, 'n_jobs': -1, 'num_leaves': 32, 'objective': 'regression', 'subsample': 0.6000000000000001, 'subsample_freq': 10}\n"
     ]
    },
    {
     "name": "stdout",
     "output_type": "stream",
     "text": [
      "[100]\tvalid_0's rmse: 0.917197\tvalid_0's l2: 0.84125\tvalid_1's rmse: 0.811522\tvalid_1's l2: 0.658568            \n",
      "[100]\tvalid_0's rmse: 0.85071\tvalid_0's l2: 0.723707\tvalid_1's rmse: 0.815713\tvalid_1's l2: 0.665389            \n",
      "[200]\tvalid_0's rmse: 0.843341\tvalid_0's l2: 0.711224\tvalid_1's rmse: 0.774491\tvalid_1's l2: 0.599836           \n",
      "[100]\tvalid_0's rmse: 0.877174\tvalid_0's l2: 0.769435\tvalid_1's rmse: 0.811302\tvalid_1's l2: 0.658211           \n",
      "[200]\tvalid_0's rmse: 0.876273\tvalid_0's l2: 0.767855\tvalid_1's rmse: 0.771043\tvalid_1's l2: 0.594507           \n",
      " 57%|██████████████████████▍                | 115/200 [04:00<02:49,  1.99s/trial, best loss: 0.8698473674122577]"
     ]
    },
    {
     "name": "stderr",
     "output_type": "stream",
     "text": [
      "Score - 0.8769917863435627, Std - 0.028963768421120584, Eval Score - 0.8769917863435627\n",
      "Score across folds - [0.9134256065575821, 0.8425643123910899, 0.8749854400820161].\n"
     ]
    },
    {
     "name": "stdout",
     "output_type": "stream",
     "text": [
      "\r\n",
      " 58%|██████████████████████▌                | 116/200 [04:00<02:37,  1.88s/trial, best loss: 0.8698473674122577]"
     ]
    },
    {
     "name": "stderr",
     "output_type": "stream",
     "text": [
      "\n",
      "Iteration: 117, Training with params: {'boosting_type': 'gbdt', 'colsample_bytree': 0.4, 'learning_rate': 0.1, 'min_child_samples': 0, 'n_estimators': 10000, 'n_jobs': -1, 'num_leaves': 16, 'objective': 'regression', 'subsample': 0.8, 'subsample_freq': 10}\n"
     ]
    },
    {
     "name": "stdout",
     "output_type": "stream",
     "text": [
      "[100]\tvalid_0's rmse: 0.924594\tvalid_0's l2: 0.854874\tvalid_1's rmse: 0.850495\tvalid_1's l2: 0.723342           \n",
      "[200]\tvalid_0's rmse: 0.916091\tvalid_0's l2: 0.839223\tvalid_1's rmse: 0.808008\tvalid_1's l2: 0.652876           \n",
      "[100]\tvalid_0's rmse: 0.865993\tvalid_0's l2: 0.749944\tvalid_1's rmse: 0.854054\tvalid_1's l2: 0.729407           \n",
      "[200]\tvalid_0's rmse: 0.848586\tvalid_0's l2: 0.720098\tvalid_1's rmse: 0.813383\tvalid_1's l2: 0.661591           \n",
      "[300]\tvalid_0's rmse: 0.852698\tvalid_0's l2: 0.727093\tvalid_1's rmse: 0.786591\tvalid_1's l2: 0.618726           \n",
      "[100]\tvalid_0's rmse: 0.891741\tvalid_0's l2: 0.795203\tvalid_1's rmse: 0.849156\tvalid_1's l2: 0.721066           \n",
      "[200]\tvalid_0's rmse: 0.881559\tvalid_0's l2: 0.777146\tvalid_1's rmse: 0.808887\tvalid_1's l2: 0.654299           \n",
      " 58%|██████████████████████▌                | 116/200 [04:01<02:37,  1.88s/trial, best loss: 0.8698473674122577]"
     ]
    },
    {
     "name": "stderr",
     "output_type": "stream",
     "text": [
      "Score - 0.880716792974184, Std - 0.027599118879114464, Eval Score - 0.880716792974184\n",
      "Score across folds - [0.9152167264971479, 0.8476591386987568, 0.8792745137266474].\n"
     ]
    },
    {
     "name": "stdout",
     "output_type": "stream",
     "text": [
      "\r\n",
      " 58%|██████████████████████▊                | 117/200 [04:01<02:24,  1.74s/trial, best loss: 0.8698473674122577]"
     ]
    },
    {
     "name": "stderr",
     "output_type": "stream",
     "text": [
      "\n",
      "Iteration: 118, Training with params: {'boosting_type': 'gbdt', 'colsample_bytree': 0.8, 'learning_rate': 0.1, 'min_child_samples': 120, 'n_estimators': 10000, 'n_jobs': -1, 'num_leaves': 32, 'objective': 'regression', 'subsample': 0.8, 'subsample_freq': 10}\n"
     ]
    },
    {
     "name": "stdout",
     "output_type": "stream",
     "text": [
      "[100]\tvalid_0's rmse: 0.911314\tvalid_0's l2: 0.830494\tvalid_1's rmse: 0.806626\tvalid_1's l2: 0.650646           \n",
      "[200]\tvalid_0's rmse: 0.915909\tvalid_0's l2: 0.838889\tvalid_1's rmse: 0.763844\tvalid_1's l2: 0.583457           \n",
      "[100]\tvalid_0's rmse: 0.846478\tvalid_0's l2: 0.716525\tvalid_1's rmse: 0.809272\tvalid_1's l2: 0.65492            \n",
      "[200]\tvalid_0's rmse: 0.836711\tvalid_0's l2: 0.700085\tvalid_1's rmse: 0.766856\tvalid_1's l2: 0.588069           \n",
      "[300]\tvalid_0's rmse: 0.838135\tvalid_0's l2: 0.702471\tvalid_1's rmse: 0.735072\tvalid_1's l2: 0.540331           \n",
      "[100]\tvalid_0's rmse: 0.871354\tvalid_0's l2: 0.759257\tvalid_1's rmse: 0.804417\tvalid_1's l2: 0.647086           \n",
      "[200]\tvalid_0's rmse: 0.873236\tvalid_0's l2: 0.762541\tvalid_1's rmse: 0.762768\tvalid_1's l2: 0.581815           \n",
      " 58%|██████████████████████▊                | 117/200 [04:03<02:24,  1.74s/trial, best loss: 0.8698473674122577]"
     ]
    },
    {
     "name": "stderr",
     "output_type": "stream",
     "text": [
      "Score - 0.8716217558777698, Std - 0.031153326809744447, Eval Score - 0.8716217558777698\n",
      "Score across folds - [0.9109944069347734, 0.8348140864029042, 0.8690567742956317].\n"
     ]
    },
    {
     "name": "stdout",
     "output_type": "stream",
     "text": [
      "\r\n",
      " 59%|███████████████████████                | 118/200 [04:03<02:28,  1.82s/trial, best loss: 0.8698473674122577]"
     ]
    },
    {
     "name": "stderr",
     "output_type": "stream",
     "text": [
      "\n",
      "Iteration: 119, Training with params: {'boosting_type': 'gbdt', 'colsample_bytree': 0.8, 'learning_rate': 0.1, 'min_child_samples': 80, 'n_estimators': 10000, 'n_jobs': -1, 'num_leaves': 48, 'objective': 'regression', 'subsample': 0.8, 'subsample_freq': 10}\n"
     ]
    },
    {
     "name": "stdout",
     "output_type": "stream",
     "text": [
      "[100]\tvalid_0's rmse: 0.917615\tvalid_0's l2: 0.842017\tvalid_1's rmse: 0.772616\tvalid_1's l2: 0.596936           \n",
      "[100]\tvalid_0's rmse: 0.845959\tvalid_0's l2: 0.715647\tvalid_1's rmse: 0.775645\tvalid_1's l2: 0.601625           \n",
      "[200]\tvalid_0's rmse: 0.839801\tvalid_0's l2: 0.705265\tvalid_1's rmse: 0.717696\tvalid_1's l2: 0.515088           \n",
      "[300]\tvalid_0's rmse: 0.84308\tvalid_0's l2: 0.710785\tvalid_1's rmse: 0.674959\tvalid_1's l2: 0.455569            \n",
      "[100]\tvalid_0's rmse: 0.874194\tvalid_0's l2: 0.764214\tvalid_1's rmse: 0.770899\tvalid_1's l2: 0.594286           \n",
      "[200]\tvalid_0's rmse: 0.878942\tvalid_0's l2: 0.772539\tvalid_1's rmse: 0.714096\tvalid_1's l2: 0.509933           \n",
      " 59%|███████████████████████                | 118/200 [04:05<02:28,  1.82s/trial, best loss: 0.8698473674122577]"
     ]
    },
    {
     "name": "stderr",
     "output_type": "stream",
     "text": [
      "Score - 0.8762338511531679, Std - 0.031076368880126187, Eval Score - 0.8762338511531679\n",
      "Score across folds - [0.915541780373039, 0.8395570759793238, 0.8736026971071409].\n"
     ]
    },
    {
     "name": "stdout",
     "output_type": "stream",
     "text": [
      "\r\n",
      " 60%|███████████████████████▏               | 119/200 [04:05<02:35,  1.92s/trial, best loss: 0.8698473674122577]"
     ]
    },
    {
     "name": "stderr",
     "output_type": "stream",
     "text": [
      "\n",
      "Iteration: 120, Training with params: {'boosting_type': 'gbdt', 'colsample_bytree': 0.6000000000000001, 'learning_rate': 0.1, 'min_child_samples': 120, 'n_estimators': 10000, 'n_jobs': -1, 'num_leaves': 48, 'objective': 'regression', 'subsample': 0.6000000000000001, 'subsample_freq': 10}\n"
     ]
    },
    {
     "name": "stdout",
     "output_type": "stream",
     "text": [
      "[100]\tvalid_0's rmse: 0.916361\tvalid_0's l2: 0.839718\tvalid_1's rmse: 0.79612\tvalid_1's l2: 0.633807            \n",
      "[100]\tvalid_0's rmse: 0.853195\tvalid_0's l2: 0.727941\tvalid_1's rmse: 0.799134\tvalid_1's l2: 0.638614           \n",
      "[200]\tvalid_0's rmse: 0.84477\tvalid_0's l2: 0.713636\tvalid_1's rmse: 0.750187\tvalid_1's l2: 0.562781            \n",
      "[300]\tvalid_0's rmse: 0.848305\tvalid_0's l2: 0.719622\tvalid_1's rmse: 0.714047\tvalid_1's l2: 0.509863           \n",
      "[100]\tvalid_0's rmse: 0.876777\tvalid_0's l2: 0.768738\tvalid_1's rmse: 0.795311\tvalid_1's l2: 0.632519           \n",
      "[200]\tvalid_0's rmse: 0.87612\tvalid_0's l2: 0.767587\tvalid_1's rmse: 0.745888\tvalid_1's l2: 0.556348            \n",
      " 60%|███████████████████████▏               | 119/200 [04:07<02:35,  1.92s/trial, best loss: 0.8698473674122577]"
     ]
    },
    {
     "name": "stderr",
     "output_type": "stream",
     "text": [
      "Score - 0.8770845713691208, Std - 0.029091283267249923, Eval Score - 0.8770845713691208\n",
      "Score across folds - [0.913859885746972, 0.8427239265914339, 0.8746699017689563].\n"
     ]
    },
    {
     "name": "stdout",
     "output_type": "stream",
     "text": [
      "\r\n",
      " 60%|███████████████████████▍               | 120/200 [04:08<02:43,  2.04s/trial, best loss: 0.8698473674122577]"
     ]
    },
    {
     "name": "stderr",
     "output_type": "stream",
     "text": [
      "\n",
      "Iteration: 121, Training with params: {'boosting_type': 'gbdt', 'colsample_bytree': 0.8, 'learning_rate': 0.1, 'min_child_samples': 40, 'n_estimators': 10000, 'n_jobs': -1, 'num_leaves': 48, 'objective': 'regression', 'subsample': 0.8, 'subsample_freq': 5}\n"
     ]
    },
    {
     "name": "stdout",
     "output_type": "stream",
     "text": [
      "[100]\tvalid_0's rmse: 0.917998\tvalid_0's l2: 0.84272\tvalid_1's rmse: 0.761302\tvalid_1's l2: 0.579581            \n",
      "[100]\tvalid_0's rmse: 0.835908\tvalid_0's l2: 0.698743\tvalid_1's rmse: 0.765374\tvalid_1's l2: 0.585798           \n",
      "[200]\tvalid_0's rmse: 0.835986\tvalid_0's l2: 0.698872\tvalid_1's rmse: 0.698748\tvalid_1's l2: 0.488249           \n",
      "[100]\tvalid_0's rmse: 0.881795\tvalid_0's l2: 0.777563\tvalid_1's rmse: 0.760665\tvalid_1's l2: 0.578611           \n",
      " 60%|███████████████████████▍               | 120/200 [04:09<02:43,  2.04s/trial, best loss: 0.8698473674122577]"
     ]
    },
    {
     "name": "stderr",
     "output_type": "stream",
     "text": [
      "Score - 0.8759836594124538, Std - 0.032403362162456914, Eval Score - 0.8759836594124538\n",
      "Score across folds - [0.9139753945136012, 0.8347968507563254, 0.8791787329674352].\n"
     ]
    },
    {
     "name": "stdout",
     "output_type": "stream",
     "text": [
      "\r\n",
      " 60%|███████████████████████▌               | 121/200 [04:09<02:37,  1.99s/trial, best loss: 0.8698473674122577]"
     ]
    },
    {
     "name": "stderr",
     "output_type": "stream",
     "text": [
      "\n",
      "Iteration: 122, Training with params: {'boosting_type': 'gbdt', 'colsample_bytree': 0.6000000000000001, 'learning_rate': 0.1, 'min_child_samples': 80, 'n_estimators': 10000, 'n_jobs': -1, 'num_leaves': 32, 'objective': 'regression', 'subsample': 0.8, 'subsample_freq': 10}\n"
     ]
    },
    {
     "name": "stdout",
     "output_type": "stream",
     "text": [
      "[100]\tvalid_0's rmse: 0.914562\tvalid_0's l2: 0.836423\tvalid_1's rmse: 0.804625\tvalid_1's l2: 0.647421           \n",
      "[200]\tvalid_0's rmse: 0.918893\tvalid_0's l2: 0.844365\tvalid_1's rmse: 0.759716\tvalid_1's l2: 0.577169           \n",
      "[100]\tvalid_0's rmse: 0.848038\tvalid_0's l2: 0.719169\tvalid_1's rmse: 0.809472\tvalid_1's l2: 0.655245           \n",
      "[200]\tvalid_0's rmse: 0.841967\tvalid_0's l2: 0.708909\tvalid_1's rmse: 0.764142\tvalid_1's l2: 0.583913           \n",
      "[300]\tvalid_0's rmse: 0.842315\tvalid_0's l2: 0.709494\tvalid_1's rmse: 0.731776\tvalid_1's l2: 0.535496           \n",
      "[100]\tvalid_0's rmse: 0.8756\tvalid_0's l2: 0.766676\tvalid_1's rmse: 0.805724\tvalid_1's l2: 0.649192             \n",
      "[200]\tvalid_0's rmse: 0.876703\tvalid_0's l2: 0.768607\tvalid_1's rmse: 0.760474\tvalid_1's l2: 0.57832            \n",
      " 60%|███████████████████████▌               | 121/200 [04:11<02:37,  1.99s/trial, best loss: 0.8698473674122577]"
     ]
    },
    {
     "name": "stderr",
     "output_type": "stream",
     "text": [
      "Score - 0.8759938434398112, Std - 0.029699722066366646, Eval Score - 0.8759938434398112\n",
      "Score across folds - [0.9136997469383387, 0.8411156345241573, 0.8731661488569379].\n"
     ]
    },
    {
     "name": "stdout",
     "output_type": "stream",
     "text": [
      "\r\n",
      " 61%|███████████████████████▊               | 122/200 [04:11<02:35,  2.00s/trial, best loss: 0.8698473674122577]"
     ]
    },
    {
     "name": "stderr",
     "output_type": "stream",
     "text": [
      "\n",
      "Iteration: 123, Training with params: {'boosting_type': 'gbdt', 'colsample_bytree': 0.8, 'learning_rate': 0.1, 'min_child_samples': 120, 'n_estimators': 10000, 'n_jobs': -1, 'num_leaves': 64, 'objective': 'regression', 'subsample': 0.8, 'subsample_freq': 10}\n"
     ]
    },
    {
     "name": "stdout",
     "output_type": "stream",
     "text": [
      "[100]\tvalid_0's rmse: 0.919456\tvalid_0's l2: 0.8454\tvalid_1's rmse: 0.763489\tvalid_1's l2: 0.582916             \n",
      "[100]\tvalid_0's rmse: 0.842019\tvalid_0's l2: 0.708996\tvalid_1's rmse: 0.765897\tvalid_1's l2: 0.586598           \n",
      "[200]\tvalid_0's rmse: 0.83917\tvalid_0's l2: 0.704206\tvalid_1's rmse: 0.701292\tvalid_1's l2: 0.49181             \n",
      "[100]\tvalid_0's rmse: 0.873851\tvalid_0's l2: 0.763616\tvalid_1's rmse: 0.761902\tvalid_1's l2: 0.580494           \n",
      " 61%|███████████████████████▊               | 122/200 [04:13<02:35,  2.00s/trial, best loss: 0.8698473674122577]"
     ]
    },
    {
     "name": "stderr",
     "output_type": "stream",
     "text": [
      "Score - 0.8761470829742836, Std - 0.03219734467658263, Eval Score - 0.8761470829742836\n",
      "Score across folds - [0.9168343587920481, 0.8380999794094666, 0.8735069107213359].\n"
     ]
    },
    {
     "name": "stdout",
     "output_type": "stream",
     "text": [
      "\r\n",
      " 62%|███████████████████████▉               | 123/200 [04:14<02:41,  2.09s/trial, best loss: 0.8698473674122577]"
     ]
    },
    {
     "name": "stderr",
     "output_type": "stream",
     "text": [
      "\n",
      "Iteration: 124, Training with params: {'boosting_type': 'gbdt', 'colsample_bytree': 0.8, 'learning_rate': 0.1, 'min_child_samples': 80, 'n_estimators': 10000, 'n_jobs': -1, 'num_leaves': 32, 'objective': 'regression', 'subsample': 0.6000000000000001, 'subsample_freq': 10}\n"
     ]
    },
    {
     "name": "stdout",
     "output_type": "stream",
     "text": [
      "[100]\tvalid_0's rmse: 0.914705\tvalid_0's l2: 0.836686\tvalid_1's rmse: 0.805951\tvalid_1's l2: 0.649557           \n",
      "[200]\tvalid_0's rmse: 0.918357\tvalid_0's l2: 0.843379\tvalid_1's rmse: 0.761048\tvalid_1's l2: 0.579194           \n",
      "[100]\tvalid_0's rmse: 0.851217\tvalid_0's l2: 0.724571\tvalid_1's rmse: 0.809633\tvalid_1's l2: 0.655505           \n",
      "[200]\tvalid_0's rmse: 0.847218\tvalid_0's l2: 0.717778\tvalid_1's rmse: 0.765465\tvalid_1's l2: 0.585936           \n",
      "[300]\tvalid_0's rmse: 0.845395\tvalid_0's l2: 0.714692\tvalid_1's rmse: 0.733374\tvalid_1's l2: 0.537838           \n",
      "[100]\tvalid_0's rmse: 0.878428\tvalid_0's l2: 0.771636\tvalid_1's rmse: 0.805813\tvalid_1's l2: 0.649335           \n",
      "[200]\tvalid_0's rmse: 0.879486\tvalid_0's l2: 0.773495\tvalid_1's rmse: 0.761055\tvalid_1's l2: 0.579204           \n",
      " 62%|███████████████████████▉               | 123/200 [04:16<02:41,  2.09s/trial, best loss: 0.8698473674122577]"
     ]
    },
    {
     "name": "stderr",
     "output_type": "stream",
     "text": [
      "Score - 0.8772424965829114, Std - 0.027744709748092098, Eval Score - 0.8772424965829114\n",
      "Score across folds - [0.9115910668547217, 0.843643073130368, 0.8764933497636445].\n"
     ]
    },
    {
     "name": "stdout",
     "output_type": "stream",
     "text": [
      "\r\n",
      " 62%|████████████████████████▏              | 124/200 [04:16<02:35,  2.04s/trial, best loss: 0.8698473674122577]"
     ]
    },
    {
     "name": "stderr",
     "output_type": "stream",
     "text": [
      "\n",
      "Iteration: 125, Training with params: {'boosting_type': 'gbdt', 'colsample_bytree': 0.6000000000000001, 'learning_rate': 0.1, 'min_child_samples': 120, 'n_estimators': 10000, 'n_jobs': -1, 'num_leaves': 48, 'objective': 'regression', 'subsample': 0.8, 'subsample_freq': 10}\n"
     ]
    },
    {
     "name": "stdout",
     "output_type": "stream",
     "text": [
      "[100]\tvalid_0's rmse: 0.916334\tvalid_0's l2: 0.839669\tvalid_1's rmse: 0.786952\tvalid_1's l2: 0.619294           \n",
      "[100]\tvalid_0's rmse: 0.847447\tvalid_0's l2: 0.718167\tvalid_1's rmse: 0.789065\tvalid_1's l2: 0.622624           \n",
      "[200]\tvalid_0's rmse: 0.844287\tvalid_0's l2: 0.71282\tvalid_1's rmse: 0.736258\tvalid_1's l2: 0.542075            \n",
      "[100]\tvalid_0's rmse: 0.873618\tvalid_0's l2: 0.763209\tvalid_1's rmse: 0.786584\tvalid_1's l2: 0.618714           \n",
      "[200]\tvalid_0's rmse: 0.875871\tvalid_0's l2: 0.76715\tvalid_1's rmse: 0.73539\tvalid_1's l2: 0.540798             \n",
      " 62%|████████████████████████▏              | 124/200 [04:19<02:35,  2.04s/trial, best loss: 0.8698473674122577]"
     ]
    },
    {
     "name": "stderr",
     "output_type": "stream",
     "text": [
      "Score - 0.876517095652741, Std - 0.03057850882665894, Eval Score - 0.876517095652741\n",
      "Score across folds - [0.9162574976474853, 0.84187891781136, 0.8714148714993778].\n"
     ]
    },
    {
     "name": "stdout",
     "output_type": "stream",
     "text": [
      "\r\n",
      " 62%|████████████████████████▍              | 125/200 [04:19<03:03,  2.45s/trial, best loss: 0.8698473674122577]"
     ]
    },
    {
     "name": "stderr",
     "output_type": "stream",
     "text": [
      "\n",
      "Iteration: 126, Training with params: {'boosting_type': 'gbdt', 'colsample_bytree': 0.8, 'learning_rate': 0.1, 'min_child_samples': 120, 'n_estimators': 10000, 'n_jobs': -1, 'num_leaves': 32, 'objective': 'regression', 'subsample': 0.6000000000000001, 'subsample_freq': 5}\n"
     ]
    },
    {
     "name": "stdout",
     "output_type": "stream",
     "text": [
      "[100]\tvalid_0's rmse: 0.917419\tvalid_0's l2: 0.841657\tvalid_1's rmse: 0.81054\tvalid_1's l2: 0.656975            \n",
      "[200]\tvalid_0's rmse: 0.920079\tvalid_0's l2: 0.846546\tvalid_1's rmse: 0.769298\tvalid_1's l2: 0.591819           \n",
      "[100]\tvalid_0's rmse: 0.85298\tvalid_0's l2: 0.727576\tvalid_1's rmse: 0.813499\tvalid_1's l2: 0.66178             \n",
      "[200]\tvalid_0's rmse: 0.844063\tvalid_0's l2: 0.712442\tvalid_1's rmse: 0.772384\tvalid_1's l2: 0.596576           \n",
      "[300]\tvalid_0's rmse: 0.842221\tvalid_0's l2: 0.709336\tvalid_1's rmse: 0.742728\tvalid_1's l2: 0.551645           \n",
      "[100]\tvalid_0's rmse: 0.875483\tvalid_0's l2: 0.766471\tvalid_1's rmse: 0.810187\tvalid_1's l2: 0.656404           \n",
      "[200]\tvalid_0's rmse: 0.878924\tvalid_0's l2: 0.772507\tvalid_1's rmse: 0.768383\tvalid_1's l2: 0.590413           \n",
      " 62%|████████████████████████▍              | 125/200 [04:21<03:03,  2.45s/trial, best loss: 0.8698473674122577]"
     ]
    },
    {
     "name": "stderr",
     "output_type": "stream",
     "text": [
      "Score - 0.8766948566435425, Std - 0.029971081406081606, Eval Score - 0.8766948566435425\n",
      "Score across folds - [0.9142786840988585, 0.8409326595849635, 0.8748732262468057].\n"
     ]
    },
    {
     "name": "stdout",
     "output_type": "stream",
     "text": [
      "\r\n",
      " 63%|████████████████████████▌              | 126/200 [04:21<02:50,  2.31s/trial, best loss: 0.8698473674122577]"
     ]
    },
    {
     "name": "stderr",
     "output_type": "stream",
     "text": [
      "\n",
      "Iteration: 127, Training with params: {'boosting_type': 'gbdt', 'colsample_bytree': 0.8, 'learning_rate': 0.1, 'min_child_samples': 80, 'n_estimators': 10000, 'n_jobs': -1, 'num_leaves': 32, 'objective': 'regression', 'subsample': 0.8, 'subsample_freq': 10}\n"
     ]
    },
    {
     "name": "stdout",
     "output_type": "stream",
     "text": [
      "[100]\tvalid_0's rmse: 0.913261\tvalid_0's l2: 0.834046\tvalid_1's rmse: 0.801141\tvalid_1's l2: 0.641827           \n",
      "[200]\tvalid_0's rmse: 0.916859\tvalid_0's l2: 0.840631\tvalid_1's rmse: 0.756286\tvalid_1's l2: 0.571968           \n",
      "[100]\tvalid_0's rmse: 0.845955\tvalid_0's l2: 0.715639\tvalid_1's rmse: 0.804094\tvalid_1's l2: 0.646567           \n",
      "[200]\tvalid_0's rmse: 0.835866\tvalid_0's l2: 0.698671\tvalid_1's rmse: 0.758018\tvalid_1's l2: 0.574591           \n",
      "[300]\tvalid_0's rmse: 0.838841\tvalid_0's l2: 0.703654\tvalid_1's rmse: 0.722962\tvalid_1's l2: 0.522674           \n",
      "[100]\tvalid_0's rmse: 0.873729\tvalid_0's l2: 0.763402\tvalid_1's rmse: 0.800729\tvalid_1's l2: 0.641168           \n",
      "[200]\tvalid_0's rmse: 0.874438\tvalid_0's l2: 0.764642\tvalid_1's rmse: 0.75499\tvalid_1's l2: 0.57001             \n",
      " 63%|████████████████████████▌              | 126/200 [04:23<02:50,  2.31s/trial, best loss: 0.8698473674122577]"
     ]
    },
    {
     "name": "stderr",
     "output_type": "stream",
     "text": [
      "Score - 0.8728251015864177, Std - 0.031433128414414, Eval Score - 0.8728251015864177\n",
      "Score across folds - [0.9119971604451107, 0.8350394925890186, 0.8714386517251238].\n"
     ]
    },
    {
     "name": "stdout",
     "output_type": "stream",
     "text": [
      "\r\n",
      " 64%|████████████████████████▊              | 127/200 [04:23<02:39,  2.19s/trial, best loss: 0.8698473674122577]"
     ]
    },
    {
     "name": "stderr",
     "output_type": "stream",
     "text": [
      "\n",
      "Iteration: 128, Training with params: {'boosting_type': 'gbdt', 'colsample_bytree': 0.2, 'learning_rate': 0.1, 'min_child_samples': 40, 'n_estimators': 10000, 'n_jobs': -1, 'num_leaves': 48, 'objective': 'regression', 'subsample': 0.8, 'subsample_freq': 10}\n"
     ]
    },
    {
     "name": "stdout",
     "output_type": "stream",
     "text": [
      "[100]\tvalid_0's rmse: 0.933104\tvalid_0's l2: 0.870683\tvalid_1's rmse: 0.856197\tvalid_1's l2: 0.733073           \n",
      "[200]\tvalid_0's rmse: 0.915228\tvalid_0's l2: 0.837643\tvalid_1's rmse: 0.799988\tvalid_1's l2: 0.639981           \n",
      "[300]\tvalid_0's rmse: 0.91446\tvalid_0's l2: 0.836237\tvalid_1's rmse: 0.768346\tvalid_1's l2: 0.590355            \n",
      "[400]\tvalid_0's rmse: 0.911925\tvalid_0's l2: 0.831607\tvalid_1's rmse: 0.74479\tvalid_1's l2: 0.554712            \n",
      "[100]\tvalid_0's rmse: 0.89366\tvalid_0's l2: 0.798628\tvalid_1's rmse: 0.865743\tvalid_1's l2: 0.749511            \n",
      "[200]\tvalid_0's rmse: 0.860711\tvalid_0's l2: 0.740823\tvalid_1's rmse: 0.8077\tvalid_1's l2: 0.652379             \n",
      "[300]\tvalid_0's rmse: 0.852614\tvalid_0's l2: 0.72695\tvalid_1's rmse: 0.776681\tvalid_1's l2: 0.603233            \n",
      "[400]\tvalid_0's rmse: 0.849953\tvalid_0's l2: 0.72242\tvalid_1's rmse: 0.749858\tvalid_1's l2: 0.562288            \n",
      "[100]\tvalid_0's rmse: 0.920806\tvalid_0's l2: 0.847884\tvalid_1's rmse: 0.860604\tvalid_1's l2: 0.74064            \n",
      "[200]\tvalid_0's rmse: 0.891088\tvalid_0's l2: 0.794037\tvalid_1's rmse: 0.802823\tvalid_1's l2: 0.644525           \n",
      "[300]\tvalid_0's rmse: 0.884434\tvalid_0's l2: 0.782223\tvalid_1's rmse: 0.771231\tvalid_1's l2: 0.594797           \n",
      "[400]\tvalid_0's rmse: 0.884051\tvalid_0's l2: 0.781547\tvalid_1's rmse: 0.74503\tvalid_1's l2: 0.555069            \n",
      " 64%|████████████████████████▊              | 127/200 [04:26<02:39,  2.19s/trial, best loss: 0.8698473674122577]"
     ]
    },
    {
     "name": "stderr",
     "output_type": "stream",
     "text": [
      "Score - 0.8807899911605798, Std - 0.025686791155636064, Eval Score - 0.8807899911605798\n",
      "Score across folds - [0.9114262982929693, 0.8485668272785846, 0.8823768479101852].\n"
     ]
    },
    {
     "name": "stdout",
     "output_type": "stream",
     "text": [
      "\r\n",
      " 64%|████████████████████████▉              | 128/200 [04:26<03:04,  2.57s/trial, best loss: 0.8698473674122577]"
     ]
    },
    {
     "name": "stderr",
     "output_type": "stream",
     "text": [
      "\n",
      "Iteration: 129, Training with params: {'boosting_type': 'gbdt', 'colsample_bytree': 0.8, 'learning_rate': 0.1, 'min_child_samples': 120, 'n_estimators': 10000, 'n_jobs': -1, 'num_leaves': 32, 'objective': 'regression', 'subsample': 0.6000000000000001, 'subsample_freq': 10}\n"
     ]
    },
    {
     "name": "stdout",
     "output_type": "stream",
     "text": [
      "[100]\tvalid_0's rmse: 0.917197\tvalid_0's l2: 0.84125\tvalid_1's rmse: 0.811522\tvalid_1's l2: 0.658568            \n",
      "[100]\tvalid_0's rmse: 0.85071\tvalid_0's l2: 0.723707\tvalid_1's rmse: 0.815713\tvalid_1's l2: 0.665389            \n",
      "[200]\tvalid_0's rmse: 0.843341\tvalid_0's l2: 0.711224\tvalid_1's rmse: 0.774491\tvalid_1's l2: 0.599836           \n",
      "[100]\tvalid_0's rmse: 0.877174\tvalid_0's l2: 0.769435\tvalid_1's rmse: 0.811302\tvalid_1's l2: 0.658211           \n",
      "[200]\tvalid_0's rmse: 0.876273\tvalid_0's l2: 0.767855\tvalid_1's rmse: 0.771043\tvalid_1's l2: 0.594507           \n",
      " 64%|████████████████████████▉              | 128/200 [04:28<03:04,  2.57s/trial, best loss: 0.8698473674122577]"
     ]
    },
    {
     "name": "stderr",
     "output_type": "stream",
     "text": [
      "Score - 0.8769917863435627, Std - 0.028963768421120584, Eval Score - 0.8769917863435627\n",
      "Score across folds - [0.9134256065575821, 0.8425643123910899, 0.8749854400820161].\n"
     ]
    },
    {
     "name": "stdout",
     "output_type": "stream",
     "text": [
      "\r\n",
      " 64%|█████████████████████████▏             | 129/200 [04:28<02:41,  2.28s/trial, best loss: 0.8698473674122577]"
     ]
    },
    {
     "name": "stderr",
     "output_type": "stream",
     "text": [
      "\n",
      "Iteration: 130, Training with params: {'boosting_type': 'gbdt', 'colsample_bytree': 0.6000000000000001, 'learning_rate': 0.1, 'min_child_samples': 80, 'n_estimators': 10000, 'n_jobs': -1, 'num_leaves': 32, 'objective': 'regression', 'subsample': 0.8, 'subsample_freq': 10}\n"
     ]
    },
    {
     "name": "stdout",
     "output_type": "stream",
     "text": [
      "[100]\tvalid_0's rmse: 0.914562\tvalid_0's l2: 0.836423\tvalid_1's rmse: 0.804625\tvalid_1's l2: 0.647421           \n",
      "[200]\tvalid_0's rmse: 0.918893\tvalid_0's l2: 0.844365\tvalid_1's rmse: 0.759716\tvalid_1's l2: 0.577169           \n",
      "[100]\tvalid_0's rmse: 0.848038\tvalid_0's l2: 0.719169\tvalid_1's rmse: 0.809472\tvalid_1's l2: 0.655245           \n",
      "[200]\tvalid_0's rmse: 0.841967\tvalid_0's l2: 0.708909\tvalid_1's rmse: 0.764142\tvalid_1's l2: 0.583913           \n",
      "[300]\tvalid_0's rmse: 0.842315\tvalid_0's l2: 0.709494\tvalid_1's rmse: 0.731776\tvalid_1's l2: 0.535496           \n",
      "[100]\tvalid_0's rmse: 0.8756\tvalid_0's l2: 0.766676\tvalid_1's rmse: 0.805724\tvalid_1's l2: 0.649192             \n",
      "[200]\tvalid_0's rmse: 0.876703\tvalid_0's l2: 0.768607\tvalid_1's rmse: 0.760474\tvalid_1's l2: 0.57832            \n",
      " 64%|█████████████████████████▏             | 129/200 [04:30<02:41,  2.28s/trial, best loss: 0.8698473674122577]"
     ]
    },
    {
     "name": "stderr",
     "output_type": "stream",
     "text": [
      "Score - 0.8759938434398112, Std - 0.029699722066366646, Eval Score - 0.8759938434398112\n",
      "Score across folds - [0.9136997469383387, 0.8411156345241573, 0.8731661488569379].\n"
     ]
    },
    {
     "name": "stdout",
     "output_type": "stream",
     "text": [
      "\r\n",
      " 65%|█████████████████████████▎             | 130/200 [04:30<02:33,  2.20s/trial, best loss: 0.8698473674122577]"
     ]
    },
    {
     "name": "stderr",
     "output_type": "stream",
     "text": [
      "\n",
      "Iteration: 131, Training with params: {'boosting_type': 'gbdt', 'colsample_bytree': 0.8, 'learning_rate': 0.1, 'min_child_samples': 0, 'n_estimators': 10000, 'n_jobs': -1, 'num_leaves': 64, 'objective': 'regression', 'subsample': 0.6000000000000001, 'subsample_freq': 5}\n"
     ]
    },
    {
     "name": "stdout",
     "output_type": "stream",
     "text": [
      "[100]\tvalid_0's rmse: 0.932862\tvalid_0's l2: 0.870231\tvalid_1's rmse: 0.714534\tvalid_1's l2: 0.510558           \n",
      "[100]\tvalid_0's rmse: 0.870611\tvalid_0's l2: 0.757963\tvalid_1's rmse: 0.716732\tvalid_1's l2: 0.513705           \n",
      "[200]\tvalid_0's rmse: 0.876902\tvalid_0's l2: 0.768956\tvalid_1's rmse: 0.621052\tvalid_1's l2: 0.385706           \n",
      "[100]\tvalid_0's rmse: 0.9026\tvalid_0's l2: 0.814687\tvalid_1's rmse: 0.715087\tvalid_1's l2: 0.51135              \n",
      " 65%|█████████████████████████▎             | 130/200 [04:32<02:33,  2.20s/trial, best loss: 0.8698473674122577]"
     ]
    },
    {
     "name": "stderr",
     "output_type": "stream",
     "text": [
      "Score - 0.8967322939889039, Std - 0.02495834317132013, Eval Score - 0.8967322939889039\n",
      "Score across folds - [0.9265232364051726, 0.865443130297104, 0.8982305152644351].\n"
     ]
    },
    {
     "name": "stdout",
     "output_type": "stream",
     "text": [
      "\r\n",
      " 66%|█████████████████████████▌             | 131/200 [04:32<02:22,  2.07s/trial, best loss: 0.8698473674122577]"
     ]
    },
    {
     "name": "stderr",
     "output_type": "stream",
     "text": [
      "\n",
      "Iteration: 132, Training with params: {'boosting_type': 'gbdt', 'colsample_bytree': 0.8, 'learning_rate': 0.1, 'min_child_samples': 160, 'n_estimators': 10000, 'n_jobs': -1, 'num_leaves': 32, 'objective': 'regression', 'subsample': 0.8, 'subsample_freq': 10}\n"
     ]
    },
    {
     "name": "stdout",
     "output_type": "stream",
     "text": [
      "[100]\tvalid_0's rmse: 0.915337\tvalid_0's l2: 0.837841\tvalid_1's rmse: 0.811234\tvalid_1's l2: 0.6581             \n",
      "[200]\tvalid_0's rmse: 0.91756\tvalid_0's l2: 0.841916\tvalid_1's rmse: 0.768867\tvalid_1's l2: 0.591156            \n",
      "[100]\tvalid_0's rmse: 0.848324\tvalid_0's l2: 0.719654\tvalid_1's rmse: 0.81279\tvalid_1's l2: 0.660628            \n",
      "[200]\tvalid_0's rmse: 0.840289\tvalid_0's l2: 0.706086\tvalid_1's rmse: 0.772406\tvalid_1's l2: 0.596612           \n",
      "[300]\tvalid_0's rmse: 0.841265\tvalid_0's l2: 0.707727\tvalid_1's rmse: 0.743346\tvalid_1's l2: 0.552563           \n",
      "[100]\tvalid_0's rmse: 0.870285\tvalid_0's l2: 0.757395\tvalid_1's rmse: 0.808485\tvalid_1's l2: 0.653649           \n",
      " 66%|█████████████████████████▌             | 131/200 [04:33<02:22,  2.07s/trial, best loss: 0.8698473674122577]"
     ]
    },
    {
     "name": "stderr",
     "output_type": "stream",
     "text": [
      "Score - 0.8741120996896932, Std - 0.030902017006991613, Eval Score - 0.8741120996896932\n",
      "Score across folds - [0.913955650624873, 0.8386413509663737, 0.8697392974778324].\n"
     ]
    },
    {
     "name": "stdout",
     "output_type": "stream",
     "text": [
      "\r\n",
      " 66%|█████████████████████████▋             | 132/200 [04:34<02:17,  2.02s/trial, best loss: 0.8698473674122577]"
     ]
    },
    {
     "name": "stderr",
     "output_type": "stream",
     "text": [
      "\n",
      "Iteration: 133, Training with params: {'boosting_type': 'gbdt', 'colsample_bytree': 0.6000000000000001, 'learning_rate': 0.1, 'min_child_samples': 120, 'n_estimators': 10000, 'n_jobs': -1, 'num_leaves': 48, 'objective': 'regression', 'subsample': 0.4, 'subsample_freq': 10}\n"
     ]
    },
    {
     "name": "stdout",
     "output_type": "stream",
     "text": [
      "[100]\tvalid_0's rmse: 0.920882\tvalid_0's l2: 0.848024\tvalid_1's rmse: 0.816627\tvalid_1's l2: 0.66688            \n",
      "[100]\tvalid_0's rmse: 0.859496\tvalid_0's l2: 0.738734\tvalid_1's rmse: 0.818524\tvalid_1's l2: 0.669982           \n",
      "[200]\tvalid_0's rmse: 0.860595\tvalid_0's l2: 0.740624\tvalid_1's rmse: 0.77475\tvalid_1's l2: 0.600238            \n",
      "[100]\tvalid_0's rmse: 0.884408\tvalid_0's l2: 0.782178\tvalid_1's rmse: 0.812561\tvalid_1's l2: 0.660255           \n",
      "[200]\tvalid_0's rmse: 0.885738\tvalid_0's l2: 0.784533\tvalid_1's rmse: 0.770912\tvalid_1's l2: 0.594305           \n",
      " 66%|█████████████████████████▋             | 132/200 [04:35<02:17,  2.02s/trial, best loss: 0.8698473674122577]"
     ]
    },
    {
     "name": "stderr",
     "output_type": "stream",
     "text": [
      "Score - 0.8842105256593543, Std - 0.025033846858282846, Eval Score - 0.8842105256593543\n",
      "Score across folds - [0.9160706480114621, 0.8549111082696498, 0.8816498206969513].\n"
     ]
    },
    {
     "name": "stdout",
     "output_type": "stream",
     "text": [
      "\r\n",
      " 66%|█████████████████████████▉             | 133/200 [04:36<02:10,  1.95s/trial, best loss: 0.8698473674122577]"
     ]
    },
    {
     "name": "stderr",
     "output_type": "stream",
     "text": [
      "\n",
      "Iteration: 134, Training with params: {'boosting_type': 'gbdt', 'colsample_bytree': 0.8, 'learning_rate': 0.1, 'min_child_samples': 80, 'n_estimators': 10000, 'n_jobs': -1, 'num_leaves': 32, 'objective': 'regression', 'subsample': 0.8, 'subsample_freq': 10}\n"
     ]
    },
    {
     "name": "stdout",
     "output_type": "stream",
     "text": [
      "[100]\tvalid_0's rmse: 0.913261\tvalid_0's l2: 0.834046\tvalid_1's rmse: 0.801141\tvalid_1's l2: 0.641827           \n",
      "[200]\tvalid_0's rmse: 0.916859\tvalid_0's l2: 0.840631\tvalid_1's rmse: 0.756286\tvalid_1's l2: 0.571968           \n",
      "[100]\tvalid_0's rmse: 0.845955\tvalid_0's l2: 0.715639\tvalid_1's rmse: 0.804094\tvalid_1's l2: 0.646567           \n",
      "[200]\tvalid_0's rmse: 0.835866\tvalid_0's l2: 0.698671\tvalid_1's rmse: 0.758018\tvalid_1's l2: 0.574591           \n",
      "[300]\tvalid_0's rmse: 0.838841\tvalid_0's l2: 0.703654\tvalid_1's rmse: 0.722962\tvalid_1's l2: 0.522674           \n",
      "[100]\tvalid_0's rmse: 0.873729\tvalid_0's l2: 0.763402\tvalid_1's rmse: 0.800729\tvalid_1's l2: 0.641168           \n",
      "[200]\tvalid_0's rmse: 0.874438\tvalid_0's l2: 0.764642\tvalid_1's rmse: 0.75499\tvalid_1's l2: 0.57001             \n",
      " 66%|█████████████████████████▉             | 133/200 [04:37<02:10,  1.95s/trial, best loss: 0.8698473674122577]"
     ]
    },
    {
     "name": "stderr",
     "output_type": "stream",
     "text": [
      "Score - 0.8728251015864177, Std - 0.031433128414414, Eval Score - 0.8728251015864177\n",
      "Score across folds - [0.9119971604451107, 0.8350394925890186, 0.8714386517251238].\n"
     ]
    },
    {
     "name": "stdout",
     "output_type": "stream",
     "text": [
      "\r\n",
      " 67%|██████████████████████████▏            | 134/200 [04:37<02:07,  1.93s/trial, best loss: 0.8698473674122577]"
     ]
    },
    {
     "name": "stderr",
     "output_type": "stream",
     "text": [
      "\n",
      "Iteration: 135, Training with params: {'boosting_type': 'gbdt', 'colsample_bytree': 0.4, 'learning_rate': 0.1, 'min_child_samples': 40, 'n_estimators': 10000, 'n_jobs': -1, 'num_leaves': 48, 'objective': 'regression', 'subsample': 0.8, 'subsample_freq': 10}\n"
     ]
    },
    {
     "name": "stdout",
     "output_type": "stream",
     "text": [
      "[100]\tvalid_0's rmse: 0.913645\tvalid_0's l2: 0.834746\tvalid_1's rmse: 0.798291\tvalid_1's l2: 0.637269           \n",
      "[200]\tvalid_0's rmse: 0.913158\tvalid_0's l2: 0.833858\tvalid_1's rmse: 0.743051\tvalid_1's l2: 0.552125           \n",
      "[100]\tvalid_0's rmse: 0.849679\tvalid_0's l2: 0.721954\tvalid_1's rmse: 0.789378\tvalid_1's l2: 0.623118           \n",
      "[200]\tvalid_0's rmse: 0.843121\tvalid_0's l2: 0.710853\tvalid_1's rmse: 0.729263\tvalid_1's l2: 0.531825           \n",
      "[100]\tvalid_0's rmse: 0.881311\tvalid_0's l2: 0.77671\tvalid_1's rmse: 0.786453\tvalid_1's l2: 0.618509            \n",
      "[200]\tvalid_0's rmse: 0.881012\tvalid_0's l2: 0.776182\tvalid_1's rmse: 0.72776\tvalid_1's l2: 0.529635            \n",
      " 67%|██████████████████████████▏            | 134/200 [04:39<02:07,  1.93s/trial, best loss: 0.8698473674122577]"
     ]
    },
    {
     "name": "stderr",
     "output_type": "stream",
     "text": [
      "Score - 0.8767626751192426, Std - 0.0286190129324454, Eval Score - 0.8767626751192426\n",
      "Score across folds - [0.9117838428499826, 0.8416819401468745, 0.8768222423608709].\n"
     ]
    },
    {
     "name": "stdout",
     "output_type": "stream",
     "text": [
      "\r\n",
      " 68%|██████████████████████████▎            | 135/200 [04:40<02:10,  2.01s/trial, best loss: 0.8698473674122577]"
     ]
    },
    {
     "name": "stderr",
     "output_type": "stream",
     "text": [
      "\n",
      "Iteration: 136, Training with params: {'boosting_type': 'gbdt', 'colsample_bytree': 0.8, 'learning_rate': 0.1, 'min_child_samples': 120, 'n_estimators': 10000, 'n_jobs': -1, 'num_leaves': 16, 'objective': 'regression', 'subsample': 0.6000000000000001, 'subsample_freq': 5}\n"
     ]
    },
    {
     "name": "stdout",
     "output_type": "stream",
     "text": [
      "[100]\tvalid_0's rmse: 0.919111\tvalid_0's l2: 0.844766\tvalid_1's rmse: 0.844921\tvalid_1's l2: 0.713892           \n",
      "[200]\tvalid_0's rmse: 0.916253\tvalid_0's l2: 0.83952\tvalid_1's rmse: 0.813207\tvalid_1's l2: 0.661306            \n",
      "[100]\tvalid_0's rmse: 0.859788\tvalid_0's l2: 0.739236\tvalid_1's rmse: 0.849295\tvalid_1's l2: 0.721302           \n",
      "[200]\tvalid_0's rmse: 0.847012\tvalid_0's l2: 0.717429\tvalid_1's rmse: 0.818831\tvalid_1's l2: 0.670484           \n",
      "[300]\tvalid_0's rmse: 0.843154\tvalid_0's l2: 0.710908\tvalid_1's rmse: 0.798117\tvalid_1's l2: 0.636991           \n",
      "[100]\tvalid_0's rmse: 0.88214\tvalid_0's l2: 0.77817\tvalid_1's rmse: 0.84361\tvalid_1's l2: 0.711678              \n",
      "[200]\tvalid_0's rmse: 0.870786\tvalid_0's l2: 0.758269\tvalid_1's rmse: 0.813197\tvalid_1's l2: 0.661289           \n",
      "[300]\tvalid_0's rmse: 0.873316\tvalid_0's l2: 0.76268\tvalid_1's rmse: 0.793247\tvalid_1's l2: 0.62924             \n",
      " 68%|██████████████████████████▎            | 135/200 [04:41<02:10,  2.01s/trial, best loss: 0.8698473674122577]"
     ]
    },
    {
     "name": "stderr",
     "output_type": "stream",
     "text": [
      "Score - 0.8756669854786266, Std - 0.029807037735425135, Eval Score - 0.8756669854786266\n",
      "Score across folds - [0.9148694272718987, 0.8426469097155936, 0.8694846194483877].\n"
     ]
    },
    {
     "name": "stdout",
     "output_type": "stream",
     "text": [
      "\r\n",
      " 68%|██████████████████████████▌            | 136/200 [04:41<02:00,  1.89s/trial, best loss: 0.8698473674122577]"
     ]
    },
    {
     "name": "stderr",
     "output_type": "stream",
     "text": [
      "\n",
      "Iteration: 137, Training with params: {'boosting_type': 'gbdt', 'colsample_bytree': 0.6000000000000001, 'learning_rate': 0.1, 'min_child_samples': 160, 'n_estimators': 10000, 'n_jobs': -1, 'num_leaves': 80, 'objective': 'regression', 'subsample': 1.0, 'subsample_freq': 10}\n"
     ]
    },
    {
     "name": "stdout",
     "output_type": "stream",
     "text": [
      "[100]\tvalid_0's rmse: 0.910418\tvalid_0's l2: 0.828862\tvalid_1's rmse: 0.758762\tvalid_1's l2: 0.57572            \n",
      "[100]\tvalid_0's rmse: 0.847254\tvalid_0's l2: 0.717839\tvalid_1's rmse: 0.763846\tvalid_1's l2: 0.583461           \n",
      "[200]\tvalid_0's rmse: 0.84306\tvalid_0's l2: 0.71075\tvalid_1's rmse: 0.698981\tvalid_1's l2: 0.488574             \n",
      "[100]\tvalid_0's rmse: 0.876989\tvalid_0's l2: 0.769109\tvalid_1's rmse: 0.75945\tvalid_1's l2: 0.576764            \n",
      " 68%|██████████████████████████▌            | 136/200 [04:43<02:00,  1.89s/trial, best loss: 0.8698473674122577]"
     ]
    },
    {
     "name": "stderr",
     "output_type": "stream",
     "text": [
      "Score - 0.8761186671953176, Std - 0.027292742071283193, Eval Score - 0.8761186671953176\n",
      "Score across folds - [0.9091190561398903, 0.8422814775455335, 0.8769554679005294].\n"
     ]
    },
    {
     "name": "stdout",
     "output_type": "stream",
     "text": [
      "\r\n",
      " 68%|██████████████████████████▋            | 137/200 [04:44<02:13,  2.12s/trial, best loss: 0.8698473674122577]"
     ]
    },
    {
     "name": "stderr",
     "output_type": "stream",
     "text": [
      "\n",
      "Iteration: 138, Training with params: {'boosting_type': 'gbdt', 'colsample_bytree': 1.0, 'learning_rate': 0.1, 'min_child_samples': 120, 'n_estimators': 10000, 'n_jobs': -1, 'num_leaves': 64, 'objective': 'regression', 'subsample': 0.6000000000000001, 'subsample_freq': 10}\n"
     ]
    },
    {
     "name": "stdout",
     "output_type": "stream",
     "text": [
      "[100]\tvalid_0's rmse: 0.926916\tvalid_0's l2: 0.859173\tvalid_1's rmse: 0.773838\tvalid_1's l2: 0.598825           \n",
      "[100]\tvalid_0's rmse: 0.850874\tvalid_0's l2: 0.723987\tvalid_1's rmse: 0.778125\tvalid_1's l2: 0.605479           \n",
      "[200]\tvalid_0's rmse: 0.851665\tvalid_0's l2: 0.725333\tvalid_1's rmse: 0.715746\tvalid_1's l2: 0.512292           \n",
      "[300]\tvalid_0's rmse: 0.851159\tvalid_0's l2: 0.724472\tvalid_1's rmse: 0.669957\tvalid_1's l2: 0.448842           \n",
      "[100]\tvalid_0's rmse: 0.883579\tvalid_0's l2: 0.780712\tvalid_1's rmse: 0.77492\tvalid_1's l2: 0.6005              \n",
      "[200]\tvalid_0's rmse: 0.888864\tvalid_0's l2: 0.790079\tvalid_1's rmse: 0.713531\tvalid_1's l2: 0.509126           \n",
      " 68%|██████████████████████████▋            | 137/200 [04:46<02:13,  2.12s/trial, best loss: 0.8698473674122577]"
     ]
    },
    {
     "name": "stderr",
     "output_type": "stream",
     "text": [
      "Score - 0.8847391902883303, Std - 0.030803647188303026, Eval Score - 0.8847391902883303\n",
      "Score across folds - [0.9236060472520529, 0.8482669064319633, 0.8823446171809746].\n"
     ]
    },
    {
     "name": "stdout",
     "output_type": "stream",
     "text": [
      "\r\n",
      " 69%|██████████████████████████▉            | 138/200 [04:47<02:21,  2.28s/trial, best loss: 0.8698473674122577]"
     ]
    },
    {
     "name": "stderr",
     "output_type": "stream",
     "text": [
      "\n",
      "Iteration: 139, Training with params: {'boosting_type': 'gbdt', 'colsample_bytree': 0.8, 'learning_rate': 0.1, 'min_child_samples': 0, 'n_estimators': 10000, 'n_jobs': -1, 'num_leaves': 32, 'objective': 'regression', 'subsample': 0.8, 'subsample_freq': 10}\n"
     ]
    },
    {
     "name": "stdout",
     "output_type": "stream",
     "text": [
      "[100]\tvalid_0's rmse: 0.91681\tvalid_0's l2: 0.84054\tvalid_1's rmse: 0.783894\tvalid_1's l2: 0.61449              \n",
      "[100]\tvalid_0's rmse: 0.858666\tvalid_0's l2: 0.737307\tvalid_1's rmse: 0.788319\tvalid_1's l2: 0.621446           \n",
      "[200]\tvalid_0's rmse: 0.862953\tvalid_0's l2: 0.744687\tvalid_1's rmse: 0.725791\tvalid_1's l2: 0.526772           \n",
      "[100]\tvalid_0's rmse: 0.874841\tvalid_0's l2: 0.765347\tvalid_1's rmse: 0.783832\tvalid_1's l2: 0.614392           \n",
      "[200]\tvalid_0's rmse: 0.878315\tvalid_0's l2: 0.771437\tvalid_1's rmse: 0.719238\tvalid_1's l2: 0.517303           \n",
      " 69%|██████████████████████████▉            | 138/200 [04:48<02:21,  2.28s/trial, best loss: 0.8698473674122577]"
     ]
    },
    {
     "name": "stderr",
     "output_type": "stream",
     "text": [
      "Score - 0.8821435369231336, Std - 0.024676013699947586, Eval Score - 0.8821435369231336\n",
      "Score across folds - [0.9158182505785943, 0.8573772001265139, 0.8732351600642929].\n"
     ]
    },
    {
     "name": "stdout",
     "output_type": "stream",
     "text": [
      "\r\n",
      " 70%|███████████████████████████            | 139/200 [04:48<02:04,  2.04s/trial, best loss: 0.8698473674122577]"
     ]
    },
    {
     "name": "stderr",
     "output_type": "stream",
     "text": [
      "\n",
      "Iteration: 140, Training with params: {'boosting_type': 'gbdt', 'colsample_bytree': 0.6000000000000001, 'learning_rate': 0.1, 'min_child_samples': 160, 'n_estimators': 10000, 'n_jobs': -1, 'num_leaves': 16, 'objective': 'regression', 'subsample': 0.8, 'subsample_freq': 10}\n"
     ]
    },
    {
     "name": "stdout",
     "output_type": "stream",
     "text": [
      "[100]\tvalid_0's rmse: 0.918085\tvalid_0's l2: 0.842881\tvalid_1's rmse: 0.848355\tvalid_1's l2: 0.719705           \n",
      "[200]\tvalid_0's rmse: 0.913166\tvalid_0's l2: 0.833872\tvalid_1's rmse: 0.816724\tvalid_1's l2: 0.667037           \n",
      "[100]\tvalid_0's rmse: 0.856635\tvalid_0's l2: 0.733824\tvalid_1's rmse: 0.851126\tvalid_1's l2: 0.724416           \n",
      "[200]\tvalid_0's rmse: 0.841612\tvalid_0's l2: 0.708311\tvalid_1's rmse: 0.821124\tvalid_1's l2: 0.674244           \n",
      "[300]\tvalid_0's rmse: 0.839305\tvalid_0's l2: 0.704433\tvalid_1's rmse: 0.802552\tvalid_1's l2: 0.64409            \n",
      "[400]\tvalid_0's rmse: 0.83987\tvalid_0's l2: 0.705381\tvalid_1's rmse: 0.787097\tvalid_1's l2: 0.619522            \n",
      "[100]\tvalid_0's rmse: 0.884138\tvalid_0's l2: 0.781701\tvalid_1's rmse: 0.846325\tvalid_1's l2: 0.716266           \n",
      "[200]\tvalid_0's rmse: 0.873484\tvalid_0's l2: 0.762975\tvalid_1's rmse: 0.816208\tvalid_1's l2: 0.666196           \n",
      " 70%|███████████████████████████            | 139/200 [04:50<02:04,  2.04s/trial, best loss: 0.8698473674122577]"
     ]
    },
    {
     "name": "stderr",
     "output_type": "stream",
     "text": [
      "Score - 0.8740428273297552, Std - 0.0301840213687761, Eval Score - 0.8740428273297552\n",
      "Score across folds - [0.9117880115423492, 0.837904994983192, 0.8724354754637246].\n"
     ]
    },
    {
     "name": "stdout",
     "output_type": "stream",
     "text": [
      "\r\n",
      " 70%|███████████████████████████▎           | 140/200 [04:50<01:58,  1.97s/trial, best loss: 0.8698473674122577]"
     ]
    },
    {
     "name": "stderr",
     "output_type": "stream",
     "text": [
      "\n",
      "Iteration: 141, Training with params: {'boosting_type': 'gbdt', 'colsample_bytree': 1.0, 'learning_rate': 0.1, 'min_child_samples': 120, 'n_estimators': 10000, 'n_jobs': -1, 'num_leaves': 32, 'objective': 'regression', 'subsample': 1.0, 'subsample_freq': 5}\n"
     ]
    },
    {
     "name": "stdout",
     "output_type": "stream",
     "text": [
      "[100]\tvalid_0's rmse: 0.914521\tvalid_0's l2: 0.836348\tvalid_1's rmse: 0.800654\tvalid_1's l2: 0.641046           \n",
      "[200]\tvalid_0's rmse: 0.917995\tvalid_0's l2: 0.842715\tvalid_1's rmse: 0.7578\tvalid_1's l2: 0.574261             \n",
      "[100]\tvalid_0's rmse: 0.847124\tvalid_0's l2: 0.71762\tvalid_1's rmse: 0.804254\tvalid_1's l2: 0.646824            \n",
      "[200]\tvalid_0's rmse: 0.83907\tvalid_0's l2: 0.704039\tvalid_1's rmse: 0.762082\tvalid_1's l2: 0.580769            \n",
      "[300]\tvalid_0's rmse: 0.836677\tvalid_0's l2: 0.700028\tvalid_1's rmse: 0.730895\tvalid_1's l2: 0.534208           \n",
      "[100]\tvalid_0's rmse: 0.87877\tvalid_0's l2: 0.772237\tvalid_1's rmse: 0.799867\tvalid_1's l2: 0.639788            \n",
      "[200]\tvalid_0's rmse: 0.877025\tvalid_0's l2: 0.769172\tvalid_1's rmse: 0.75754\tvalid_1's l2: 0.573867            \n",
      " 70%|███████████████████████████▎           | 140/200 [04:52<01:58,  1.97s/trial, best loss: 0.8698473674122577]"
     ]
    },
    {
     "name": "stderr",
     "output_type": "stream",
     "text": [
      "Score - 0.875602786717313, Std - 0.031663205027874036, Eval Score - 0.875602786717313\n",
      "Score across folds - [0.9138516017263846, 0.8363138325588813, 0.8766429258666731].\n"
     ]
    },
    {
     "name": "stdout",
     "output_type": "stream",
     "text": [
      "\r\n",
      " 70%|███████████████████████████▍           | 141/200 [04:52<01:54,  1.94s/trial, best loss: 0.8698473674122577]"
     ]
    },
    {
     "name": "stderr",
     "output_type": "stream",
     "text": [
      "\n",
      "Iteration: 142, Training with params: {'boosting_type': 'gbdt', 'colsample_bytree': 0.8, 'learning_rate': 0.1, 'min_child_samples': 80, 'n_estimators': 10000, 'n_jobs': -1, 'num_leaves': 48, 'objective': 'regression', 'subsample': 1.0, 'subsample_freq': 10}\n"
     ]
    },
    {
     "name": "stdout",
     "output_type": "stream",
     "text": [
      "[100]\tvalid_0's rmse: 0.916298\tvalid_0's l2: 0.839602\tvalid_1's rmse: 0.769449\tvalid_1's l2: 0.592053           \n",
      "[100]\tvalid_0's rmse: 0.844223\tvalid_0's l2: 0.712712\tvalid_1's rmse: 0.772798\tvalid_1's l2: 0.597217           \n",
      "[200]\tvalid_0's rmse: 0.842143\tvalid_0's l2: 0.709205\tvalid_1's rmse: 0.714768\tvalid_1's l2: 0.510893           \n",
      "[100]\tvalid_0's rmse: 0.872011\tvalid_0's l2: 0.760403\tvalid_1's rmse: 0.767261\tvalid_1's l2: 0.588689           \n",
      "[200]\tvalid_0's rmse: 0.877075\tvalid_0's l2: 0.76926\tvalid_1's rmse: 0.711966\tvalid_1's l2: 0.506895            \n",
      " 70%|███████████████████████████▍           | 141/200 [04:53<01:54,  1.94s/trial, best loss: 0.8698473674122577]"
     ]
    },
    {
     "name": "stderr",
     "output_type": "stream",
     "text": [
      "Score - 0.8751359797841592, Std - 0.03080879025182399, Eval Score - 0.8751359797841592\n",
      "Score across folds - [0.9146877786003768, 0.8395324544336541, 0.871187706318447].\n"
     ]
    },
    {
     "name": "stdout",
     "output_type": "stream",
     "text": [
      "\r\n",
      " 71%|███████████████████████████▋           | 142/200 [04:54<01:51,  1.92s/trial, best loss: 0.8698473674122577]"
     ]
    },
    {
     "name": "stderr",
     "output_type": "stream",
     "text": [
      "\n",
      "Iteration: 143, Training with params: {'boosting_type': 'gbdt', 'colsample_bytree': 1.0, 'learning_rate': 0.1, 'min_child_samples': 160, 'n_estimators': 10000, 'n_jobs': -1, 'num_leaves': 16, 'objective': 'regression', 'subsample': 0.8, 'subsample_freq': 10}\n"
     ]
    },
    {
     "name": "stdout",
     "output_type": "stream",
     "text": [
      "[100]\tvalid_0's rmse: 0.920207\tvalid_0's l2: 0.846781\tvalid_1's rmse: 0.84433\tvalid_1's l2: 0.712894            \n",
      "[200]\tvalid_0's rmse: 0.917047\tvalid_0's l2: 0.840976\tvalid_1's rmse: 0.811635\tvalid_1's l2: 0.658751           \n",
      "[100]\tvalid_0's rmse: 0.855122\tvalid_0's l2: 0.731234\tvalid_1's rmse: 0.846842\tvalid_1's l2: 0.717141           \n",
      "[200]\tvalid_0's rmse: 0.841304\tvalid_0's l2: 0.707792\tvalid_1's rmse: 0.814875\tvalid_1's l2: 0.664022           \n",
      "[300]\tvalid_0's rmse: 0.839489\tvalid_0's l2: 0.704741\tvalid_1's rmse: 0.794737\tvalid_1's l2: 0.631607           \n",
      "[100]\tvalid_0's rmse: 0.879685\tvalid_0's l2: 0.773845\tvalid_1's rmse: 0.841654\tvalid_1's l2: 0.708381           \n",
      "[200]\tvalid_0's rmse: 0.875018\tvalid_0's l2: 0.765657\tvalid_1's rmse: 0.809931\tvalid_1's l2: 0.655989           \n",
      "[300]\tvalid_0's rmse: 0.874831\tvalid_0's l2: 0.76533\tvalid_1's rmse: 0.790126\tvalid_1's l2: 0.624299            \n",
      " 71%|███████████████████████████▋           | 142/200 [04:55<01:51,  1.92s/trial, best loss: 0.8698473674122577]"
     ]
    },
    {
     "name": "stderr",
     "output_type": "stream",
     "text": [
      "Score - 0.8757953033638749, Std - 0.031367098530970514, Eval Score - 0.8757953033638749\n",
      "Score across folds - [0.9155978114769284, 0.8389334312080526, 0.8728546674066436].\n"
     ]
    },
    {
     "name": "stdout",
     "output_type": "stream",
     "text": [
      "\r\n",
      " 72%|███████████████████████████▉           | 143/200 [04:55<01:45,  1.85s/trial, best loss: 0.8698473674122577]"
     ]
    },
    {
     "name": "stderr",
     "output_type": "stream",
     "text": [
      "\n",
      "Iteration: 144, Training with params: {'boosting_type': 'gbdt', 'colsample_bytree': 0.8, 'learning_rate': 0.1, 'min_child_samples': 80, 'n_estimators': 10000, 'n_jobs': -1, 'num_leaves': 32, 'objective': 'regression', 'subsample': 0.6000000000000001, 'subsample_freq': 10}\n"
     ]
    },
    {
     "name": "stdout",
     "output_type": "stream",
     "text": [
      "[100]\tvalid_0's rmse: 0.914705\tvalid_0's l2: 0.836686\tvalid_1's rmse: 0.805951\tvalid_1's l2: 0.649557           \n",
      "[200]\tvalid_0's rmse: 0.918357\tvalid_0's l2: 0.843379\tvalid_1's rmse: 0.761048\tvalid_1's l2: 0.579194           \n",
      "[100]\tvalid_0's rmse: 0.851217\tvalid_0's l2: 0.724571\tvalid_1's rmse: 0.809633\tvalid_1's l2: 0.655505           \n",
      "[200]\tvalid_0's rmse: 0.847218\tvalid_0's l2: 0.717778\tvalid_1's rmse: 0.765465\tvalid_1's l2: 0.585936           \n",
      "[300]\tvalid_0's rmse: 0.845395\tvalid_0's l2: 0.714692\tvalid_1's rmse: 0.733374\tvalid_1's l2: 0.537838           \n",
      "[100]\tvalid_0's rmse: 0.878428\tvalid_0's l2: 0.771636\tvalid_1's rmse: 0.805813\tvalid_1's l2: 0.649335           \n",
      "[200]\tvalid_0's rmse: 0.879486\tvalid_0's l2: 0.773495\tvalid_1's rmse: 0.761055\tvalid_1's l2: 0.579204           \n",
      " 72%|███████████████████████████▉           | 143/200 [04:57<01:45,  1.85s/trial, best loss: 0.8698473674122577]"
     ]
    },
    {
     "name": "stderr",
     "output_type": "stream",
     "text": [
      "Score - 0.8772424965829114, Std - 0.027744709748092098, Eval Score - 0.8772424965829114\n",
      "Score across folds - [0.9115910668547217, 0.843643073130368, 0.8764933497636445].\n"
     ]
    },
    {
     "name": "stdout",
     "output_type": "stream",
     "text": [
      "\r\n",
      " 72%|████████████████████████████           | 144/200 [04:57<01:44,  1.87s/trial, best loss: 0.8698473674122577]"
     ]
    },
    {
     "name": "stderr",
     "output_type": "stream",
     "text": [
      "\n",
      "Iteration: 145, Training with params: {'boosting_type': 'gbdt', 'colsample_bytree': 0.8, 'learning_rate': 0.1, 'min_child_samples': 120, 'n_estimators': 10000, 'n_jobs': -1, 'num_leaves': 16, 'objective': 'regression', 'subsample': 1.0, 'subsample_freq': 10}\n"
     ]
    },
    {
     "name": "stdout",
     "output_type": "stream",
     "text": [
      "[100]\tvalid_0's rmse: 0.91433\tvalid_0's l2: 0.836\tvalid_1's rmse: 0.842608\tvalid_1's l2: 0.709988               \n",
      "[200]\tvalid_0's rmse: 0.910203\tvalid_0's l2: 0.828469\tvalid_1's rmse: 0.811032\tvalid_1's l2: 0.657774           \n",
      "[300]\tvalid_0's rmse: 0.913668\tvalid_0's l2: 0.83479\tvalid_1's rmse: 0.789852\tvalid_1's l2: 0.623865            \n",
      "[100]\tvalid_0's rmse: 0.856363\tvalid_0's l2: 0.733358\tvalid_1's rmse: 0.846537\tvalid_1's l2: 0.716624           \n",
      "[200]\tvalid_0's rmse: 0.842304\tvalid_0's l2: 0.709477\tvalid_1's rmse: 0.814114\tvalid_1's l2: 0.662781           \n",
      "[300]\tvalid_0's rmse: 0.83939\tvalid_0's l2: 0.704576\tvalid_1's rmse: 0.793653\tvalid_1's l2: 0.629885            \n",
      "[400]\tvalid_0's rmse: 0.836565\tvalid_0's l2: 0.699841\tvalid_1's rmse: 0.776157\tvalid_1's l2: 0.60242            \n",
      "[500]\tvalid_0's rmse: 0.837116\tvalid_0's l2: 0.700763\tvalid_1's rmse: 0.762072\tvalid_1's l2: 0.580754           \n",
      "[100]\tvalid_0's rmse: 0.880524\tvalid_0's l2: 0.775323\tvalid_1's rmse: 0.840529\tvalid_1's l2: 0.706489           \n",
      "[200]\tvalid_0's rmse: 0.874055\tvalid_0's l2: 0.763973\tvalid_1's rmse: 0.809835\tvalid_1's l2: 0.655832           \n",
      " 72%|████████████████████████████           | 144/200 [04:59<01:44,  1.87s/trial, best loss: 0.8698473674122577]"
     ]
    },
    {
     "name": "stderr",
     "output_type": "stream",
     "text": [
      "Score - 0.8728706157581096, Std - 0.030459116744569102, Eval Score - 0.8728706157581096\n",
      "Score across folds - [0.9099137658745747, 0.8353098584334112, 0.873388222966343].\n"
     ]
    },
    {
     "name": "stdout",
     "output_type": "stream",
     "text": [
      "\r\n",
      " 72%|████████████████████████████▎          | 145/200 [04:59<01:38,  1.79s/trial, best loss: 0.8698473674122577]"
     ]
    },
    {
     "name": "stderr",
     "output_type": "stream",
     "text": [
      "\n",
      "Iteration: 146, Training with params: {'boosting_type': 'gbdt', 'colsample_bytree': 1.0, 'learning_rate': 0.1, 'min_child_samples': 160, 'n_estimators': 10000, 'n_jobs': -1, 'num_leaves': 16, 'objective': 'regression', 'subsample': 1.0, 'subsample_freq': 10}\n"
     ]
    },
    {
     "name": "stdout",
     "output_type": "stream",
     "text": [
      "[100]\tvalid_0's rmse: 0.917688\tvalid_0's l2: 0.842151\tvalid_1's rmse: 0.842682\tvalid_1's l2: 0.710114           \n",
      "[200]\tvalid_0's rmse: 0.91391\tvalid_0's l2: 0.835232\tvalid_1's rmse: 0.811141\tvalid_1's l2: 0.65795             \n",
      "[100]\tvalid_0's rmse: 0.853488\tvalid_0's l2: 0.728441\tvalid_1's rmse: 0.846334\tvalid_1's l2: 0.716281           \n",
      "[200]\tvalid_0's rmse: 0.839398\tvalid_0's l2: 0.704589\tvalid_1's rmse: 0.814651\tvalid_1's l2: 0.663657           \n",
      "[300]\tvalid_0's rmse: 0.837368\tvalid_0's l2: 0.701186\tvalid_1's rmse: 0.795745\tvalid_1's l2: 0.633209           \n",
      "[400]\tvalid_0's rmse: 0.835518\tvalid_0's l2: 0.69809\tvalid_1's rmse: 0.781722\tvalid_1's l2: 0.611089            \n",
      "[100]\tvalid_0's rmse: 0.881298\tvalid_0's l2: 0.776687\tvalid_1's rmse: 0.840639\tvalid_1's l2: 0.706674           \n",
      "[200]\tvalid_0's rmse: 0.872826\tvalid_0's l2: 0.761825\tvalid_1's rmse: 0.809885\tvalid_1's l2: 0.655913           \n",
      "[300]\tvalid_0's rmse: 0.872124\tvalid_0's l2: 0.7606\tvalid_1's rmse: 0.790033\tvalid_1's l2: 0.624152             \n",
      " 72%|████████████████████████████▎          | 145/200 [05:00<01:38,  1.79s/trial, best loss: 0.8698473674122577]"
     ]
    },
    {
     "name": "stderr",
     "output_type": "stream",
     "text": [
      "Score - 0.8725154993765815, Std - 0.03162061224875319, Eval Score - 0.8725154993765815\n",
      "Score across folds - [0.9122597201044806, 0.8348925476937529, 0.8703942303315106].\n"
     ]
    },
    {
     "name": "stdout",
     "output_type": "stream",
     "text": [
      "\r\n",
      " 73%|████████████████████████████▍          | 146/200 [05:00<01:32,  1.72s/trial, best loss: 0.8698473674122577]"
     ]
    },
    {
     "name": "stderr",
     "output_type": "stream",
     "text": [
      "\n",
      "Iteration: 147, Training with params: {'boosting_type': 'gbdt', 'colsample_bytree': 1.0, 'learning_rate': 0.1, 'min_child_samples': 160, 'n_estimators': 10000, 'n_jobs': -1, 'num_leaves': 16, 'objective': 'regression', 'subsample': 1.0, 'subsample_freq': 10}\n"
     ]
    },
    {
     "name": "stdout",
     "output_type": "stream",
     "text": [
      "[100]\tvalid_0's rmse: 0.917688\tvalid_0's l2: 0.842151\tvalid_1's rmse: 0.842682\tvalid_1's l2: 0.710114           \n",
      "[200]\tvalid_0's rmse: 0.91391\tvalid_0's l2: 0.835232\tvalid_1's rmse: 0.811141\tvalid_1's l2: 0.65795             \n",
      "[100]\tvalid_0's rmse: 0.853488\tvalid_0's l2: 0.728441\tvalid_1's rmse: 0.846334\tvalid_1's l2: 0.716281           \n",
      "[200]\tvalid_0's rmse: 0.839398\tvalid_0's l2: 0.704589\tvalid_1's rmse: 0.814651\tvalid_1's l2: 0.663657           \n",
      "[300]\tvalid_0's rmse: 0.837368\tvalid_0's l2: 0.701186\tvalid_1's rmse: 0.795745\tvalid_1's l2: 0.633209           \n",
      "[400]\tvalid_0's rmse: 0.835518\tvalid_0's l2: 0.69809\tvalid_1's rmse: 0.781722\tvalid_1's l2: 0.611089            \n",
      "[100]\tvalid_0's rmse: 0.881298\tvalid_0's l2: 0.776687\tvalid_1's rmse: 0.840639\tvalid_1's l2: 0.706674           \n",
      "[200]\tvalid_0's rmse: 0.872826\tvalid_0's l2: 0.761825\tvalid_1's rmse: 0.809885\tvalid_1's l2: 0.655913           \n",
      "[300]\tvalid_0's rmse: 0.872124\tvalid_0's l2: 0.7606\tvalid_1's rmse: 0.790033\tvalid_1's l2: 0.624152             \n",
      " 73%|████████████████████████████▍          | 146/200 [05:02<01:32,  1.72s/trial, best loss: 0.8698473674122577]"
     ]
    },
    {
     "name": "stderr",
     "output_type": "stream",
     "text": [
      "Score - 0.8725154993765815, Std - 0.03162061224875319, Eval Score - 0.8725154993765815\n",
      "Score across folds - [0.9122597201044806, 0.8348925476937529, 0.8703942303315106].\n"
     ]
    },
    {
     "name": "stdout",
     "output_type": "stream",
     "text": [
      "\r\n",
      " 74%|████████████████████████████▋          | 147/200 [05:02<01:28,  1.67s/trial, best loss: 0.8698473674122577]"
     ]
    },
    {
     "name": "stderr",
     "output_type": "stream",
     "text": [
      "\n",
      "Iteration: 148, Training with params: {'boosting_type': 'gbdt', 'colsample_bytree': 1.0, 'learning_rate': 0.1, 'min_child_samples': 160, 'n_estimators': 10000, 'n_jobs': -1, 'num_leaves': 16, 'objective': 'regression', 'subsample': 1.0, 'subsample_freq': 10}\n"
     ]
    },
    {
     "name": "stdout",
     "output_type": "stream",
     "text": [
      "[100]\tvalid_0's rmse: 0.917688\tvalid_0's l2: 0.842151\tvalid_1's rmse: 0.842682\tvalid_1's l2: 0.710114           \n",
      "[200]\tvalid_0's rmse: 0.91391\tvalid_0's l2: 0.835232\tvalid_1's rmse: 0.811141\tvalid_1's l2: 0.65795             \n",
      "[100]\tvalid_0's rmse: 0.853488\tvalid_0's l2: 0.728441\tvalid_1's rmse: 0.846334\tvalid_1's l2: 0.716281           \n",
      "[200]\tvalid_0's rmse: 0.839398\tvalid_0's l2: 0.704589\tvalid_1's rmse: 0.814651\tvalid_1's l2: 0.663657           \n",
      "[300]\tvalid_0's rmse: 0.837368\tvalid_0's l2: 0.701186\tvalid_1's rmse: 0.795745\tvalid_1's l2: 0.633209           \n",
      "[400]\tvalid_0's rmse: 0.835518\tvalid_0's l2: 0.69809\tvalid_1's rmse: 0.781722\tvalid_1's l2: 0.611089            \n",
      "[100]\tvalid_0's rmse: 0.881298\tvalid_0's l2: 0.776687\tvalid_1's rmse: 0.840639\tvalid_1's l2: 0.706674           \n",
      "[200]\tvalid_0's rmse: 0.872826\tvalid_0's l2: 0.761825\tvalid_1's rmse: 0.809885\tvalid_1's l2: 0.655913           \n",
      "[300]\tvalid_0's rmse: 0.872124\tvalid_0's l2: 0.7606\tvalid_1's rmse: 0.790033\tvalid_1's l2: 0.624152             \n",
      " 74%|████████████████████████████▋          | 147/200 [05:03<01:28,  1.67s/trial, best loss: 0.8698473674122577]"
     ]
    },
    {
     "name": "stderr",
     "output_type": "stream",
     "text": [
      "Score - 0.8725154993765815, Std - 0.03162061224875319, Eval Score - 0.8725154993765815\n",
      "Score across folds - [0.9122597201044806, 0.8348925476937529, 0.8703942303315106].\n"
     ]
    },
    {
     "name": "stdout",
     "output_type": "stream",
     "text": [
      "\r\n",
      " 74%|████████████████████████████▊          | 148/200 [05:03<01:24,  1.63s/trial, best loss: 0.8698473674122577]"
     ]
    },
    {
     "name": "stderr",
     "output_type": "stream",
     "text": [
      "\n",
      "Iteration: 149, Training with params: {'boosting_type': 'gbdt', 'colsample_bytree': 1.0, 'learning_rate': 0.1, 'min_child_samples': 120, 'n_estimators': 10000, 'n_jobs': -1, 'num_leaves': 16, 'objective': 'regression', 'subsample': 1.0, 'subsample_freq': 10}\n"
     ]
    },
    {
     "name": "stdout",
     "output_type": "stream",
     "text": [
      "[100]\tvalid_0's rmse: 0.916501\tvalid_0's l2: 0.839975\tvalid_1's rmse: 0.842285\tvalid_1's l2: 0.709443           \n",
      "[200]\tvalid_0's rmse: 0.910929\tvalid_0's l2: 0.829792\tvalid_1's rmse: 0.80785\tvalid_1's l2: 0.652621            \n",
      "[100]\tvalid_0's rmse: 0.853214\tvalid_0's l2: 0.727975\tvalid_1's rmse: 0.844632\tvalid_1's l2: 0.713404           \n",
      "[200]\tvalid_0's rmse: 0.842164\tvalid_0's l2: 0.70924\tvalid_1's rmse: 0.812701\tvalid_1's l2: 0.660482            \n",
      "[300]\tvalid_0's rmse: 0.841847\tvalid_0's l2: 0.708707\tvalid_1's rmse: 0.790875\tvalid_1's l2: 0.625484           \n",
      "[400]\tvalid_0's rmse: 0.840053\tvalid_0's l2: 0.705689\tvalid_1's rmse: 0.774368\tvalid_1's l2: 0.599646           \n",
      "[100]\tvalid_0's rmse: 0.878914\tvalid_0's l2: 0.77249\tvalid_1's rmse: 0.838718\tvalid_1's l2: 0.703448            \n",
      "[200]\tvalid_0's rmse: 0.870489\tvalid_0's l2: 0.757751\tvalid_1's rmse: 0.806781\tvalid_1's l2: 0.650896           \n",
      " 74%|████████████████████████████▊          | 148/200 [05:05<01:24,  1.63s/trial, best loss: 0.8698473674122577]"
     ]
    },
    {
     "name": "stderr",
     "output_type": "stream",
     "text": [
      "Score - 0.8733385363684721, Std - 0.02891876827508036, Eval Score - 0.8733385363684721\n",
      "Score across folds - [0.9101907745269867, 0.839554124908459, 0.8702707096699702].\n"
     ]
    },
    {
     "name": "stdout",
     "output_type": "stream",
     "text": [
      "\r\n",
      " 74%|█████████████████████████████          | 149/200 [05:05<01:21,  1.60s/trial, best loss: 0.8698473674122577]"
     ]
    },
    {
     "name": "stderr",
     "output_type": "stream",
     "text": [
      "\n",
      "Iteration: 150, Training with params: {'boosting_type': 'gbdt', 'colsample_bytree': 1.0, 'learning_rate': 0.1, 'min_child_samples': 160, 'n_estimators': 10000, 'n_jobs': -1, 'num_leaves': 16, 'objective': 'regression', 'subsample': 0.8, 'subsample_freq': 10}\n"
     ]
    },
    {
     "name": "stdout",
     "output_type": "stream",
     "text": [
      "[100]\tvalid_0's rmse: 0.920207\tvalid_0's l2: 0.846781\tvalid_1's rmse: 0.84433\tvalid_1's l2: 0.712894            \n",
      "[200]\tvalid_0's rmse: 0.917047\tvalid_0's l2: 0.840976\tvalid_1's rmse: 0.811635\tvalid_1's l2: 0.658751           \n",
      "[100]\tvalid_0's rmse: 0.855122\tvalid_0's l2: 0.731234\tvalid_1's rmse: 0.846842\tvalid_1's l2: 0.717141           \n",
      "[200]\tvalid_0's rmse: 0.841304\tvalid_0's l2: 0.707792\tvalid_1's rmse: 0.814875\tvalid_1's l2: 0.664022           \n",
      "[300]\tvalid_0's rmse: 0.839489\tvalid_0's l2: 0.704741\tvalid_1's rmse: 0.794737\tvalid_1's l2: 0.631607           \n",
      "[100]\tvalid_0's rmse: 0.879685\tvalid_0's l2: 0.773845\tvalid_1's rmse: 0.841654\tvalid_1's l2: 0.708381           \n",
      "[200]\tvalid_0's rmse: 0.875018\tvalid_0's l2: 0.765657\tvalid_1's rmse: 0.809931\tvalid_1's l2: 0.655989           \n",
      "[300]\tvalid_0's rmse: 0.874831\tvalid_0's l2: 0.76533\tvalid_1's rmse: 0.790126\tvalid_1's l2: 0.624299            \n",
      " 74%|█████████████████████████████          | 149/200 [05:06<01:21,  1.60s/trial, best loss: 0.8698473674122577]"
     ]
    },
    {
     "name": "stderr",
     "output_type": "stream",
     "text": [
      "Score - 0.8757953033638749, Std - 0.031367098530970514, Eval Score - 0.8757953033638749\n",
      "Score across folds - [0.9155978114769284, 0.8389334312080526, 0.8728546674066436].\n"
     ]
    },
    {
     "name": "stdout",
     "output_type": "stream",
     "text": [
      "\r\n",
      " 75%|█████████████████████████████▎         | 150/200 [05:07<01:21,  1.62s/trial, best loss: 0.8698473674122577]"
     ]
    },
    {
     "name": "stderr",
     "output_type": "stream",
     "text": [
      "\n",
      "Iteration: 151, Training with params: {'boosting_type': 'gbdt', 'colsample_bytree': 1.0, 'learning_rate': 0.1, 'min_child_samples': 120, 'n_estimators': 10000, 'n_jobs': -1, 'num_leaves': 16, 'objective': 'regression', 'subsample': 0.8, 'subsample_freq': 10}\n"
     ]
    },
    {
     "name": "stdout",
     "output_type": "stream",
     "text": [
      "[100]\tvalid_0's rmse: 0.919424\tvalid_0's l2: 0.845341\tvalid_1's rmse: 0.842219\tvalid_1's l2: 0.709333           \n",
      "[200]\tvalid_0's rmse: 0.914425\tvalid_0's l2: 0.836173\tvalid_1's rmse: 0.808453\tvalid_1's l2: 0.653596           \n",
      "[100]\tvalid_0's rmse: 0.856882\tvalid_0's l2: 0.734247\tvalid_1's rmse: 0.846392\tvalid_1's l2: 0.71638            \n",
      "[200]\tvalid_0's rmse: 0.843132\tvalid_0's l2: 0.710871\tvalid_1's rmse: 0.813555\tvalid_1's l2: 0.661872           \n",
      "[300]\tvalid_0's rmse: 0.841783\tvalid_0's l2: 0.708599\tvalid_1's rmse: 0.791778\tvalid_1's l2: 0.626912           \n",
      "[100]\tvalid_0's rmse: 0.883888\tvalid_0's l2: 0.781257\tvalid_1's rmse: 0.840238\tvalid_1's l2: 0.706              \n",
      "[200]\tvalid_0's rmse: 0.875722\tvalid_0's l2: 0.766888\tvalid_1's rmse: 0.80708\tvalid_1's l2: 0.651379            \n",
      " 75%|█████████████████████████████▎         | 150/200 [05:08<01:21,  1.62s/trial, best loss: 0.8698473674122577]"
     ]
    },
    {
     "name": "stderr",
     "output_type": "stream",
     "text": [
      "Score - 0.8759140832737323, Std - 0.0293665012091471, Eval Score - 0.8759140832737323\n",
      "Score across folds - [0.9125693470774187, 0.8406784409474815, 0.8744944617962973].\n"
     ]
    },
    {
     "name": "stdout",
     "output_type": "stream",
     "text": [
      "\r\n",
      " 76%|█████████████████████████████▍         | 151/200 [05:08<01:17,  1.59s/trial, best loss: 0.8698473674122577]"
     ]
    },
    {
     "name": "stderr",
     "output_type": "stream",
     "text": [
      "\n",
      "Iteration: 152, Training with params: {'boosting_type': 'gbdt', 'colsample_bytree': 0.8, 'learning_rate': 0.1, 'min_child_samples': 160, 'n_estimators': 10000, 'n_jobs': -1, 'num_leaves': 16, 'objective': 'regression', 'subsample': 1.0, 'subsample_freq': 10}\n"
     ]
    },
    {
     "name": "stdout",
     "output_type": "stream",
     "text": [
      "[100]\tvalid_0's rmse: 0.917115\tvalid_0's l2: 0.841099\tvalid_1's rmse: 0.844193\tvalid_1's l2: 0.712663           \n",
      "[200]\tvalid_0's rmse: 0.913592\tvalid_0's l2: 0.834651\tvalid_1's rmse: 0.812322\tvalid_1's l2: 0.659867           \n",
      "[300]\tvalid_0's rmse: 0.91467\tvalid_0's l2: 0.836621\tvalid_1's rmse: 0.793718\tvalid_1's l2: 0.629989            \n",
      "[100]\tvalid_0's rmse: 0.855078\tvalid_0's l2: 0.731158\tvalid_1's rmse: 0.847318\tvalid_1's l2: 0.717948           \n",
      "[200]\tvalid_0's rmse: 0.842095\tvalid_0's l2: 0.709125\tvalid_1's rmse: 0.816686\tvalid_1's l2: 0.666976           \n",
      "[300]\tvalid_0's rmse: 0.838449\tvalid_0's l2: 0.702996\tvalid_1's rmse: 0.797025\tvalid_1's l2: 0.63525            \n",
      "[400]\tvalid_0's rmse: 0.837074\tvalid_0's l2: 0.700694\tvalid_1's rmse: 0.782228\tvalid_1's l2: 0.611881           \n",
      "[500]\tvalid_0's rmse: 0.837105\tvalid_0's l2: 0.700744\tvalid_1's rmse: 0.768998\tvalid_1's l2: 0.591358           \n",
      "[100]\tvalid_0's rmse: 0.879874\tvalid_0's l2: 0.774179\tvalid_1's rmse: 0.842517\tvalid_1's l2: 0.709835           \n",
      "[200]\tvalid_0's rmse: 0.871824\tvalid_0's l2: 0.760078\tvalid_1's rmse: 0.811681\tvalid_1's l2: 0.658827           \n",
      "[300]\tvalid_0's rmse: 0.870039\tvalid_0's l2: 0.756967\tvalid_1's rmse: 0.792452\tvalid_1's l2: 0.627979           \n",
      " 76%|█████████████████████████████▍         | 151/200 [05:10<01:17,  1.59s/trial, best loss: 0.8698473674122577]"
     ]
    },
    {
     "name": "stderr",
     "output_type": "stream",
     "text": [
      "Score - 0.8726936548579755, Std - 0.03154146545988049, Eval Score - 0.8726936548579755\n",
      "Score across folds - [0.9127151257961247, 0.8356239785368019, 0.869741860241].\n"
     ]
    },
    {
     "name": "stdout",
     "output_type": "stream",
     "text": [
      "\r\n",
      " 76%|█████████████████████████████▋         | 152/200 [05:10<01:19,  1.66s/trial, best loss: 0.8698473674122577]"
     ]
    },
    {
     "name": "stderr",
     "output_type": "stream",
     "text": [
      "\n",
      "Iteration: 153, Training with params: {'boosting_type': 'gbdt', 'colsample_bytree': 1.0, 'learning_rate': 0.1, 'min_child_samples': 200, 'n_estimators': 10000, 'n_jobs': -1, 'num_leaves': 16, 'objective': 'regression', 'subsample': 0.8, 'subsample_freq': 10}\n"
     ]
    },
    {
     "name": "stdout",
     "output_type": "stream",
     "text": [
      "[100]\tvalid_0's rmse: 0.91995\tvalid_0's l2: 0.846308\tvalid_1's rmse: 0.847063\tvalid_1's l2: 0.717515            \n",
      "[200]\tvalid_0's rmse: 0.915909\tvalid_0's l2: 0.838889\tvalid_1's rmse: 0.815419\tvalid_1's l2: 0.664908           \n",
      "[300]\tvalid_0's rmse: 0.919851\tvalid_0's l2: 0.846126\tvalid_1's rmse: 0.79586\tvalid_1's l2: 0.633393            \n",
      "[100]\tvalid_0's rmse: 0.854599\tvalid_0's l2: 0.730339\tvalid_1's rmse: 0.848569\tvalid_1's l2: 0.720069           \n",
      "[200]\tvalid_0's rmse: 0.848409\tvalid_0's l2: 0.719798\tvalid_1's rmse: 0.818313\tvalid_1's l2: 0.669637           \n",
      "[300]\tvalid_0's rmse: 0.844913\tvalid_0's l2: 0.713877\tvalid_1's rmse: 0.798415\tvalid_1's l2: 0.637466           \n",
      "[400]\tvalid_0's rmse: 0.845205\tvalid_0's l2: 0.714371\tvalid_1's rmse: 0.782557\tvalid_1's l2: 0.612395           \n",
      "[500]\tvalid_0's rmse: 0.844624\tvalid_0's l2: 0.713389\tvalid_1's rmse: 0.769592\tvalid_1's l2: 0.592272           \n",
      "[100]\tvalid_0's rmse: 0.88287\tvalid_0's l2: 0.77946\tvalid_1's rmse: 0.843608\tvalid_1's l2: 0.711674             \n",
      "[200]\tvalid_0's rmse: 0.875296\tvalid_0's l2: 0.766144\tvalid_1's rmse: 0.814112\tvalid_1's l2: 0.662779           \n",
      "[300]\tvalid_0's rmse: 0.875565\tvalid_0's l2: 0.766615\tvalid_1's rmse: 0.795189\tvalid_1's l2: 0.632325           \n",
      " 76%|█████████████████████████████▋         | 152/200 [05:12<01:19,  1.66s/trial, best loss: 0.8698473674122577]"
     ]
    },
    {
     "name": "stderr",
     "output_type": "stream",
     "text": [
      "Score - 0.8761123134970402, Std - 0.02898764728730659, Eval Score - 0.8761123134970402\n",
      "Score across folds - [0.912811042254611, 0.8419411912019035, 0.8735847070346063].\n"
     ]
    },
    {
     "name": "stdout",
     "output_type": "stream",
     "text": [
      "\r\n",
      " 76%|█████████████████████████████▊         | 153/200 [05:12<01:24,  1.81s/trial, best loss: 0.8698473674122577]"
     ]
    },
    {
     "name": "stderr",
     "output_type": "stream",
     "text": [
      "\n",
      "Iteration: 154, Training with params: {'boosting_type': 'gbdt', 'colsample_bytree': 0.8, 'learning_rate': 0.1, 'min_child_samples': 120, 'n_estimators': 10000, 'n_jobs': -1, 'num_leaves': 16, 'objective': 'regression', 'subsample': 1.0, 'subsample_freq': 10}\n"
     ]
    },
    {
     "name": "stdout",
     "output_type": "stream",
     "text": [
      "[100]\tvalid_0's rmse: 0.91433\tvalid_0's l2: 0.836\tvalid_1's rmse: 0.842608\tvalid_1's l2: 0.709988               \n",
      "[200]\tvalid_0's rmse: 0.910203\tvalid_0's l2: 0.828469\tvalid_1's rmse: 0.811032\tvalid_1's l2: 0.657774           \n",
      "[300]\tvalid_0's rmse: 0.913668\tvalid_0's l2: 0.83479\tvalid_1's rmse: 0.789852\tvalid_1's l2: 0.623865            \n",
      "[100]\tvalid_0's rmse: 0.856363\tvalid_0's l2: 0.733358\tvalid_1's rmse: 0.846537\tvalid_1's l2: 0.716624           \n",
      "[200]\tvalid_0's rmse: 0.842304\tvalid_0's l2: 0.709477\tvalid_1's rmse: 0.814114\tvalid_1's l2: 0.662781           \n",
      "[300]\tvalid_0's rmse: 0.83939\tvalid_0's l2: 0.704576\tvalid_1's rmse: 0.793653\tvalid_1's l2: 0.629885            \n",
      "[400]\tvalid_0's rmse: 0.836565\tvalid_0's l2: 0.699841\tvalid_1's rmse: 0.776157\tvalid_1's l2: 0.60242            \n",
      "[500]\tvalid_0's rmse: 0.837116\tvalid_0's l2: 0.700763\tvalid_1's rmse: 0.762072\tvalid_1's l2: 0.580754           \n",
      "[100]\tvalid_0's rmse: 0.880524\tvalid_0's l2: 0.775323\tvalid_1's rmse: 0.840529\tvalid_1's l2: 0.706489           \n",
      "[200]\tvalid_0's rmse: 0.874055\tvalid_0's l2: 0.763973\tvalid_1's rmse: 0.809835\tvalid_1's l2: 0.655832           \n",
      " 76%|█████████████████████████████▊         | 153/200 [05:14<01:24,  1.81s/trial, best loss: 0.8698473674122577]"
     ]
    },
    {
     "name": "stderr",
     "output_type": "stream",
     "text": [
      "Score - 0.8728706157581096, Std - 0.030459116744569102, Eval Score - 0.8728706157581096\n",
      "Score across folds - [0.9099137658745747, 0.8353098584334112, 0.873388222966343].\n"
     ]
    },
    {
     "name": "stdout",
     "output_type": "stream",
     "text": [
      "\r\n",
      " 77%|██████████████████████████████         | 154/200 [05:14<01:20,  1.74s/trial, best loss: 0.8698473674122577]"
     ]
    },
    {
     "name": "stderr",
     "output_type": "stream",
     "text": [
      "\n",
      "Iteration: 155, Training with params: {'boosting_type': 'gbdt', 'colsample_bytree': 1.0, 'learning_rate': 0.1, 'min_child_samples': 160, 'n_estimators': 10000, 'n_jobs': -1, 'num_leaves': 32, 'objective': 'regression', 'subsample': 1.0, 'subsample_freq': 10}\n"
     ]
    },
    {
     "name": "stdout",
     "output_type": "stream",
     "text": [
      "[100]\tvalid_0's rmse: 0.917979\tvalid_0's l2: 0.842686\tvalid_1's rmse: 0.806029\tvalid_1's l2: 0.649683           \n",
      "[100]\tvalid_0's rmse: 0.847889\tvalid_0's l2: 0.718916\tvalid_1's rmse: 0.80799\tvalid_1's l2: 0.652848            \n",
      "[200]\tvalid_0's rmse: 0.840823\tvalid_0's l2: 0.706983\tvalid_1's rmse: 0.768684\tvalid_1's l2: 0.590875           \n",
      "[300]\tvalid_0's rmse: 0.839888\tvalid_0's l2: 0.705412\tvalid_1's rmse: 0.739822\tvalid_1's l2: 0.547337           \n",
      "[100]\tvalid_0's rmse: 0.881754\tvalid_0's l2: 0.77749\tvalid_1's rmse: 0.80444\tvalid_1's l2: 0.647123             \n",
      "[200]\tvalid_0's rmse: 0.879635\tvalid_0's l2: 0.773758\tvalid_1's rmse: 0.762751\tvalid_1's l2: 0.581789           \n",
      " 77%|██████████████████████████████         | 154/200 [05:15<01:20,  1.74s/trial, best loss: 0.8698473674122577]"
     ]
    },
    {
     "name": "stderr",
     "output_type": "stream",
     "text": [
      "Score - 0.8783851011541013, Std - 0.03154114723713183, Eval Score - 0.8783851011541013\n",
      "Score across folds - [0.9167291721677987, 0.8394756616354774, 0.8789504696590277].\n"
     ]
    },
    {
     "name": "stdout",
     "output_type": "stream",
     "text": [
      "\r\n",
      " 78%|██████████████████████████████▏        | 155/200 [05:15<01:19,  1.76s/trial, best loss: 0.8698473674122577]"
     ]
    },
    {
     "name": "stderr",
     "output_type": "stream",
     "text": [
      "\n",
      "Iteration: 156, Training with params: {'boosting_type': 'gbdt', 'colsample_bytree': 0.4, 'learning_rate': 0.1, 'min_child_samples': 120, 'n_estimators': 10000, 'n_jobs': -1, 'num_leaves': 16, 'objective': 'regression', 'subsample': 0.8, 'subsample_freq': 10}\n"
     ]
    },
    {
     "name": "stdout",
     "output_type": "stream",
     "text": [
      "[100]\tvalid_0's rmse: 0.922158\tvalid_0's l2: 0.850376\tvalid_1's rmse: 0.862654\tvalid_1's l2: 0.744171           \n",
      "[200]\tvalid_0's rmse: 0.911002\tvalid_0's l2: 0.829925\tvalid_1's rmse: 0.830152\tvalid_1's l2: 0.689152           \n",
      "[300]\tvalid_0's rmse: 0.91282\tvalid_0's l2: 0.833241\tvalid_1's rmse: 0.809496\tvalid_1's l2: 0.655283            \n",
      "[100]\tvalid_0's rmse: 0.868581\tvalid_0's l2: 0.754433\tvalid_1's rmse: 0.865751\tvalid_1's l2: 0.749525           \n",
      "[200]\tvalid_0's rmse: 0.847932\tvalid_0's l2: 0.718989\tvalid_1's rmse: 0.832716\tvalid_1's l2: 0.693416           \n",
      "[300]\tvalid_0's rmse: 0.839105\tvalid_0's l2: 0.704097\tvalid_1's rmse: 0.813312\tvalid_1's l2: 0.661476           \n",
      "[400]\tvalid_0's rmse: 0.838785\tvalid_0's l2: 0.70356\tvalid_1's rmse: 0.798606\tvalid_1's l2: 0.637772            \n",
      "[500]\tvalid_0's rmse: 0.835892\tvalid_0's l2: 0.698716\tvalid_1's rmse: 0.786648\tvalid_1's l2: 0.618815           \n",
      "[600]\tvalid_0's rmse: 0.835994\tvalid_0's l2: 0.698886\tvalid_1's rmse: 0.775751\tvalid_1's l2: 0.60179            \n",
      "[100]\tvalid_0's rmse: 0.891151\tvalid_0's l2: 0.79415\tvalid_1's rmse: 0.860225\tvalid_1's l2: 0.739987            \n",
      "[200]\tvalid_0's rmse: 0.875895\tvalid_0's l2: 0.767193\tvalid_1's rmse: 0.828939\tvalid_1's l2: 0.68714            \n",
      "[300]\tvalid_0's rmse: 0.872753\tvalid_0's l2: 0.761698\tvalid_1's rmse: 0.809107\tvalid_1's l2: 0.654653           \n",
      "[400]\tvalid_0's rmse: 0.873957\tvalid_0's l2: 0.7638\tvalid_1's rmse: 0.795387\tvalid_1's l2: 0.632641             \n",
      " 78%|██████████████████████████████▏        | 155/200 [05:18<01:19,  1.76s/trial, best loss: 0.8698473674122577]"
     ]
    },
    {
     "name": "stderr",
     "output_type": "stream",
     "text": [
      "Score - 0.8720727650443351, Std - 0.03025599632375421, Eval Score - 0.8720727650443351\n",
      "Score across folds - [0.9095046457409528, 0.8354047022323682, 0.871308947159684].\n"
     ]
    },
    {
     "name": "stdout",
     "output_type": "stream",
     "text": [
      "\r\n",
      " 78%|██████████████████████████████▍        | 156/200 [05:18<01:25,  1.94s/trial, best loss: 0.8698473674122577]"
     ]
    },
    {
     "name": "stderr",
     "output_type": "stream",
     "text": [
      "\n",
      "Iteration: 157, Training with params: {'boosting_type': 'gbdt', 'colsample_bytree': 0.2, 'learning_rate': 0.1, 'min_child_samples': 80, 'n_estimators': 10000, 'n_jobs': -1, 'num_leaves': 16, 'objective': 'regression', 'subsample': 0.8, 'subsample_freq': 10}\n"
     ]
    },
    {
     "name": "stdout",
     "output_type": "stream",
     "text": [
      "[100]\tvalid_0's rmse: 0.941932\tvalid_0's l2: 0.887235\tvalid_1's rmse: 0.894862\tvalid_1's l2: 0.800778           \n",
      "[200]\tvalid_0's rmse: 0.920401\tvalid_0's l2: 0.847139\tvalid_1's rmse: 0.853737\tvalid_1's l2: 0.728867           \n",
      "[300]\tvalid_0's rmse: 0.914278\tvalid_0's l2: 0.835904\tvalid_1's rmse: 0.832277\tvalid_1's l2: 0.692685           \n",
      "[400]\tvalid_0's rmse: 0.912101\tvalid_0's l2: 0.831929\tvalid_1's rmse: 0.818152\tvalid_1's l2: 0.669373           \n",
      "[500]\tvalid_0's rmse: 0.912061\tvalid_0's l2: 0.831855\tvalid_1's rmse: 0.80819\tvalid_1's l2: 0.653171            \n",
      "[600]\tvalid_0's rmse: 0.909717\tvalid_0's l2: 0.827584\tvalid_1's rmse: 0.798936\tvalid_1's l2: 0.638299           \n",
      "[700]\tvalid_0's rmse: 0.912484\tvalid_0's l2: 0.832626\tvalid_1's rmse: 0.79084\tvalid_1's l2: 0.625428            \n",
      "[100]\tvalid_0's rmse: 0.898047\tvalid_0's l2: 0.806488\tvalid_1's rmse: 0.89692\tvalid_1's l2: 0.804465            \n",
      "[200]\tvalid_0's rmse: 0.868111\tvalid_0's l2: 0.753616\tvalid_1's rmse: 0.856685\tvalid_1's l2: 0.733909           \n",
      "[300]\tvalid_0's rmse: 0.852879\tvalid_0's l2: 0.727402\tvalid_1's rmse: 0.835676\tvalid_1's l2: 0.698354           \n",
      "[400]\tvalid_0's rmse: 0.845959\tvalid_0's l2: 0.715647\tvalid_1's rmse: 0.821042\tvalid_1's l2: 0.67411            \n",
      "[500]\tvalid_0's rmse: 0.842927\tvalid_0's l2: 0.710526\tvalid_1's rmse: 0.811631\tvalid_1's l2: 0.658745           \n",
      "[600]\tvalid_0's rmse: 0.841905\tvalid_0's l2: 0.708804\tvalid_1's rmse: 0.802329\tvalid_1's l2: 0.643731           \n",
      "[100]\tvalid_0's rmse: 0.922754\tvalid_0's l2: 0.851475\tvalid_1's rmse: 0.89296\tvalid_1's l2: 0.797377            \n",
      "[200]\tvalid_0's rmse: 0.895109\tvalid_0's l2: 0.80122\tvalid_1's rmse: 0.851269\tvalid_1's l2: 0.724659            \n",
      "[300]\tvalid_0's rmse: 0.88492\tvalid_0's l2: 0.783083\tvalid_1's rmse: 0.82993\tvalid_1's l2: 0.688783             \n",
      "[400]\tvalid_0's rmse: 0.881833\tvalid_0's l2: 0.777629\tvalid_1's rmse: 0.815292\tvalid_1's l2: 0.664701           \n",
      "[500]\tvalid_0's rmse: 0.880609\tvalid_0's l2: 0.775472\tvalid_1's rmse: 0.804842\tvalid_1's l2: 0.647771           \n",
      "[600]\tvalid_0's rmse: 0.880402\tvalid_0's l2: 0.775108\tvalid_1's rmse: 0.796217\tvalid_1's l2: 0.633961           \n",
      " 78%|██████████████████████████████▍        | 156/200 [05:21<01:25,  1.94s/trial, best loss: 0.8698473674122577]"
     ]
    },
    {
     "name": "stderr",
     "output_type": "stream",
     "text": [
      "Score - 0.8769063235294613, Std - 0.027676958797261297, Eval Score - 0.8769063235294613\n",
      "Score across folds - [0.9094410934125989, 0.8417938428363074, 0.8794840343394776].\n"
     ]
    },
    {
     "name": "stdout",
     "output_type": "stream",
     "text": [
      "\r\n",
      " 78%|██████████████████████████████▌        | 157/200 [05:21<01:38,  2.29s/trial, best loss: 0.8698473674122577]"
     ]
    },
    {
     "name": "stderr",
     "output_type": "stream",
     "text": [
      "\n",
      "Iteration: 158, Training with params: {'boosting_type': 'gbdt', 'colsample_bytree': 0.2, 'learning_rate': 0.1, 'min_child_samples': 120, 'n_estimators': 10000, 'n_jobs': -1, 'num_leaves': 32, 'objective': 'regression', 'subsample': 0.8, 'subsample_freq': 10}\n"
     ]
    },
    {
     "name": "stdout",
     "output_type": "stream",
     "text": [
      "[100]\tvalid_0's rmse: 0.938069\tvalid_0's l2: 0.879973\tvalid_1's rmse: 0.877393\tvalid_1's l2: 0.769818           \n",
      "[200]\tvalid_0's rmse: 0.916946\tvalid_0's l2: 0.840791\tvalid_1's rmse: 0.831824\tvalid_1's l2: 0.691931           \n",
      "[300]\tvalid_0's rmse: 0.914149\tvalid_0's l2: 0.835668\tvalid_1's rmse: 0.807732\tvalid_1's l2: 0.652431           \n",
      "[400]\tvalid_0's rmse: 0.911126\tvalid_0's l2: 0.830151\tvalid_1's rmse: 0.791171\tvalid_1's l2: 0.625952           \n",
      "[500]\tvalid_0's rmse: 0.911886\tvalid_0's l2: 0.831537\tvalid_1's rmse: 0.778455\tvalid_1's l2: 0.605992           \n",
      "[100]\tvalid_0's rmse: 0.885338\tvalid_0's l2: 0.783823\tvalid_1's rmse: 0.879953\tvalid_1's l2: 0.774318           \n",
      "[200]\tvalid_0's rmse: 0.859342\tvalid_0's l2: 0.738468\tvalid_1's rmse: 0.835145\tvalid_1's l2: 0.697467           \n",
      "[300]\tvalid_0's rmse: 0.848877\tvalid_0's l2: 0.720592\tvalid_1's rmse: 0.811353\tvalid_1's l2: 0.658294           \n",
      "[400]\tvalid_0's rmse: 0.844723\tvalid_0's l2: 0.713557\tvalid_1's rmse: 0.793903\tvalid_1's l2: 0.630282           \n",
      "[500]\tvalid_0's rmse: 0.841585\tvalid_0's l2: 0.708266\tvalid_1's rmse: 0.781094\tvalid_1's l2: 0.610108           \n",
      "[600]\tvalid_0's rmse: 0.841123\tvalid_0's l2: 0.707488\tvalid_1's rmse: 0.769599\tvalid_1's l2: 0.592282           \n",
      "[100]\tvalid_0's rmse: 0.914607\tvalid_0's l2: 0.836507\tvalid_1's rmse: 0.875182\tvalid_1's l2: 0.765944           \n",
      "[200]\tvalid_0's rmse: 0.886789\tvalid_0's l2: 0.786394\tvalid_1's rmse: 0.829157\tvalid_1's l2: 0.687501           \n",
      "[300]\tvalid_0's rmse: 0.879737\tvalid_0's l2: 0.773937\tvalid_1's rmse: 0.80475\tvalid_1's l2: 0.647623            \n",
      "[400]\tvalid_0's rmse: 0.879036\tvalid_0's l2: 0.772704\tvalid_1's rmse: 0.787019\tvalid_1's l2: 0.619399           \n",
      " 78%|██████████████████████████████▌        | 157/200 [05:24<01:38,  2.29s/trial, best loss: 0.8698473674122577]"
     ]
    },
    {
     "name": "stderr",
     "output_type": "stream",
     "text": [
      "Score - 0.8766319006370651, Std - 0.028639044064968935, Eval Score - 0.8766319006370651\n",
      "Score across folds - [0.9108347591583376, 0.8407444228519729, 0.878316519900885].\n"
     ]
    },
    {
     "name": "stdout",
     "output_type": "stream",
     "text": [
      "\r\n",
      " 79%|██████████████████████████████▊        | 158/200 [05:24<01:52,  2.67s/trial, best loss: 0.8698473674122577]"
     ]
    },
    {
     "name": "stderr",
     "output_type": "stream",
     "text": [
      "\n",
      "Iteration: 159, Training with params: {'boosting_type': 'gbdt', 'colsample_bytree': 0.4, 'learning_rate': 0.1, 'min_child_samples': 120, 'n_estimators': 10000, 'n_jobs': -1, 'num_leaves': 16, 'objective': 'regression', 'subsample': 0.8, 'subsample_freq': 10}\n"
     ]
    },
    {
     "name": "stdout",
     "output_type": "stream",
     "text": [
      "[100]\tvalid_0's rmse: 0.922158\tvalid_0's l2: 0.850376\tvalid_1's rmse: 0.862654\tvalid_1's l2: 0.744171           \n",
      "[200]\tvalid_0's rmse: 0.911002\tvalid_0's l2: 0.829925\tvalid_1's rmse: 0.830152\tvalid_1's l2: 0.689152           \n",
      "[300]\tvalid_0's rmse: 0.91282\tvalid_0's l2: 0.833241\tvalid_1's rmse: 0.809496\tvalid_1's l2: 0.655283            \n",
      "[100]\tvalid_0's rmse: 0.868581\tvalid_0's l2: 0.754433\tvalid_1's rmse: 0.865751\tvalid_1's l2: 0.749525           \n",
      "[200]\tvalid_0's rmse: 0.847932\tvalid_0's l2: 0.718989\tvalid_1's rmse: 0.832716\tvalid_1's l2: 0.693416           \n",
      "[300]\tvalid_0's rmse: 0.839105\tvalid_0's l2: 0.704097\tvalid_1's rmse: 0.813312\tvalid_1's l2: 0.661476           \n",
      "[400]\tvalid_0's rmse: 0.838785\tvalid_0's l2: 0.70356\tvalid_1's rmse: 0.798606\tvalid_1's l2: 0.637772            \n",
      "[500]\tvalid_0's rmse: 0.835892\tvalid_0's l2: 0.698716\tvalid_1's rmse: 0.786648\tvalid_1's l2: 0.618815           \n",
      "[600]\tvalid_0's rmse: 0.835994\tvalid_0's l2: 0.698886\tvalid_1's rmse: 0.775751\tvalid_1's l2: 0.60179            \n",
      "[100]\tvalid_0's rmse: 0.891151\tvalid_0's l2: 0.79415\tvalid_1's rmse: 0.860225\tvalid_1's l2: 0.739987            \n",
      "[200]\tvalid_0's rmse: 0.875895\tvalid_0's l2: 0.767193\tvalid_1's rmse: 0.828939\tvalid_1's l2: 0.68714            \n",
      "[300]\tvalid_0's rmse: 0.872753\tvalid_0's l2: 0.761698\tvalid_1's rmse: 0.809107\tvalid_1's l2: 0.654653           \n",
      "[400]\tvalid_0's rmse: 0.873957\tvalid_0's l2: 0.7638\tvalid_1's rmse: 0.795387\tvalid_1's l2: 0.632641             \n",
      " 79%|██████████████████████████████▊        | 158/200 [05:27<01:52,  2.67s/trial, best loss: 0.8698473674122577]"
     ]
    },
    {
     "name": "stderr",
     "output_type": "stream",
     "text": [
      "Score - 0.8720727650443351, Std - 0.03025599632375421, Eval Score - 0.8720727650443351\n",
      "Score across folds - [0.9095046457409528, 0.8354047022323682, 0.871308947159684].\n"
     ]
    },
    {
     "name": "stdout",
     "output_type": "stream",
     "text": [
      "\r\n",
      " 80%|███████████████████████████████        | 159/200 [05:27<01:50,  2.69s/trial, best loss: 0.8698473674122577]"
     ]
    },
    {
     "name": "stderr",
     "output_type": "stream",
     "text": [
      "\n",
      "Iteration: 160, Training with params: {'boosting_type': 'gbdt', 'colsample_bytree': 0.4, 'learning_rate': 0.1, 'min_child_samples': 80, 'n_estimators': 10000, 'n_jobs': -1, 'num_leaves': 32, 'objective': 'regression', 'subsample': 0.8, 'subsample_freq': 10}\n"
     ]
    },
    {
     "name": "stdout",
     "output_type": "stream",
     "text": [
      "[100]\tvalid_0's rmse: 0.916459\tvalid_0's l2: 0.839897\tvalid_1's rmse: 0.829125\tvalid_1's l2: 0.687448           \n",
      "[200]\tvalid_0's rmse: 0.915018\tvalid_0's l2: 0.837259\tvalid_1's rmse: 0.78735\tvalid_1's l2: 0.619921            \n",
      "[100]\tvalid_0's rmse: 0.853413\tvalid_0's l2: 0.728314\tvalid_1's rmse: 0.832709\tvalid_1's l2: 0.693404           \n",
      "[200]\tvalid_0's rmse: 0.841861\tvalid_0's l2: 0.708729\tvalid_1's rmse: 0.790485\tvalid_1's l2: 0.624866           \n",
      "[300]\tvalid_0's rmse: 0.836768\tvalid_0's l2: 0.700181\tvalid_1's rmse: 0.761391\tvalid_1's l2: 0.579716           \n",
      "[400]\tvalid_0's rmse: 0.839422\tvalid_0's l2: 0.704629\tvalid_1's rmse: 0.73942\tvalid_1's l2: 0.546741            \n",
      "[100]\tvalid_0's rmse: 0.881022\tvalid_0's l2: 0.776199\tvalid_1's rmse: 0.826386\tvalid_1's l2: 0.682914           \n",
      "[200]\tvalid_0's rmse: 0.872074\tvalid_0's l2: 0.760513\tvalid_1's rmse: 0.78532\tvalid_1's l2: 0.616727            \n",
      "[300]\tvalid_0's rmse: 0.875892\tvalid_0's l2: 0.767186\tvalid_1's rmse: 0.75592\tvalid_1's l2: 0.571415            \n",
      " 80%|███████████████████████████████        | 159/200 [05:29<01:50,  2.69s/trial, best loss: 0.8698473674122577]"
     ]
    },
    {
     "name": "stderr",
     "output_type": "stream",
     "text": [
      "Score - 0.8741283910450193, Std - 0.03188135350122011, Eval Score - 0.8741283910450193\n",
      "Score across folds - [0.9141617016501965, 0.8361497875436218, 0.8720736839412394].\n"
     ]
    },
    {
     "name": "stdout",
     "output_type": "stream",
     "text": [
      "\r\n",
      " 80%|███████████████████████████████▏       | 160/200 [05:30<01:42,  2.57s/trial, best loss: 0.8698473674122577]"
     ]
    },
    {
     "name": "stderr",
     "output_type": "stream",
     "text": [
      "\n",
      "Iteration: 161, Training with params: {'boosting_type': 'gbdt', 'colsample_bytree': 0.2, 'learning_rate': 0.1, 'min_child_samples': 120, 'n_estimators': 10000, 'n_jobs': -1, 'num_leaves': 16, 'objective': 'regression', 'subsample': 0.8, 'subsample_freq': 10}\n"
     ]
    },
    {
     "name": "stdout",
     "output_type": "stream",
     "text": [
      "[100]\tvalid_0's rmse: 0.944361\tvalid_0's l2: 0.891819\tvalid_1's rmse: 0.896331\tvalid_1's l2: 0.803409           \n",
      "[200]\tvalid_0's rmse: 0.921846\tvalid_0's l2: 0.849801\tvalid_1's rmse: 0.855669\tvalid_1's l2: 0.73217            \n",
      "[300]\tvalid_0's rmse: 0.916152\tvalid_0's l2: 0.839334\tvalid_1's rmse: 0.835351\tvalid_1's l2: 0.697811           \n",
      "[400]\tvalid_0's rmse: 0.913245\tvalid_0's l2: 0.834016\tvalid_1's rmse: 0.82188\tvalid_1's l2: 0.675487            \n",
      "[500]\tvalid_0's rmse: 0.912805\tvalid_0's l2: 0.833214\tvalid_1's rmse: 0.812835\tvalid_1's l2: 0.660701           \n",
      "[600]\tvalid_0's rmse: 0.909784\tvalid_0's l2: 0.827707\tvalid_1's rmse: 0.804136\tvalid_1's l2: 0.646635           \n",
      "[700]\tvalid_0's rmse: 0.909899\tvalid_0's l2: 0.827916\tvalid_1's rmse: 0.797009\tvalid_1's l2: 0.635223           \n",
      "[100]\tvalid_0's rmse: 0.899003\tvalid_0's l2: 0.808207\tvalid_1's rmse: 0.898937\tvalid_1's l2: 0.808088           \n",
      "[200]\tvalid_0's rmse: 0.867275\tvalid_0's l2: 0.752165\tvalid_1's rmse: 0.858641\tvalid_1's l2: 0.737264           \n",
      "[300]\tvalid_0's rmse: 0.851462\tvalid_0's l2: 0.724988\tvalid_1's rmse: 0.838195\tvalid_1's l2: 0.702571           \n",
      "[400]\tvalid_0's rmse: 0.845862\tvalid_0's l2: 0.715482\tvalid_1's rmse: 0.824653\tvalid_1's l2: 0.680053           \n",
      "[500]\tvalid_0's rmse: 0.842597\tvalid_0's l2: 0.709969\tvalid_1's rmse: 0.815646\tvalid_1's l2: 0.665279           \n",
      "[600]\tvalid_0's rmse: 0.840996\tvalid_0's l2: 0.707274\tvalid_1's rmse: 0.807069\tvalid_1's l2: 0.65136            \n",
      "[100]\tvalid_0's rmse: 0.924095\tvalid_0's l2: 0.853952\tvalid_1's rmse: 0.894128\tvalid_1's l2: 0.799465           \n",
      "[200]\tvalid_0's rmse: 0.892302\tvalid_0's l2: 0.796202\tvalid_1's rmse: 0.852902\tvalid_1's l2: 0.727441           \n",
      "[300]\tvalid_0's rmse: 0.882655\tvalid_0's l2: 0.77908\tvalid_1's rmse: 0.833077\tvalid_1's l2: 0.694018            \n",
      "[400]\tvalid_0's rmse: 0.878697\tvalid_0's l2: 0.772109\tvalid_1's rmse: 0.819531\tvalid_1's l2: 0.671631           \n",
      "[500]\tvalid_0's rmse: 0.877492\tvalid_0's l2: 0.769992\tvalid_1's rmse: 0.809889\tvalid_1's l2: 0.65592            \n",
      "[600]\tvalid_0's rmse: 0.876015\tvalid_0's l2: 0.767402\tvalid_1's rmse: 0.801842\tvalid_1's l2: 0.64295            \n",
      "[700]\tvalid_0's rmse: 0.875732\tvalid_0's l2: 0.766907\tvalid_1's rmse: 0.793912\tvalid_1's l2: 0.630297           \n",
      "[800]\tvalid_0's rmse: 0.876746\tvalid_0's l2: 0.768683\tvalid_1's rmse: 0.786608\tvalid_1's l2: 0.618752           \n",
      " 80%|███████████████████████████████▏       | 160/200 [05:33<01:42,  2.57s/trial, best loss: 0.8698473674122577]"
     ]
    },
    {
     "name": "stderr",
     "output_type": "stream",
     "text": [
      "Score - 0.874975446529637, Std - 0.02778948333080819, Eval Score - 0.874975446529637\n",
      "Score across folds - [0.9088757974879365, 0.8408073231655623, 0.8752432189354123].\n"
     ]
    },
    {
     "name": "stdout",
     "output_type": "stream",
     "text": [
      "\r\n",
      " 80%|███████████████████████████████▍       | 161/200 [05:33<01:50,  2.84s/trial, best loss: 0.8698473674122577]"
     ]
    },
    {
     "name": "stderr",
     "output_type": "stream",
     "text": [
      "\n",
      "Iteration: 162, Training with params: {'boosting_type': 'gbdt', 'colsample_bytree': 0.4, 'learning_rate': 0.1, 'min_child_samples': 120, 'n_estimators': 10000, 'n_jobs': -1, 'num_leaves': 32, 'objective': 'regression', 'subsample': 0.8, 'subsample_freq': 10}\n"
     ]
    },
    {
     "name": "stdout",
     "output_type": "stream",
     "text": [
      "[100]\tvalid_0's rmse: 0.914914\tvalid_0's l2: 0.837068\tvalid_1's rmse: 0.834051\tvalid_1's l2: 0.695641           \n",
      "[200]\tvalid_0's rmse: 0.911297\tvalid_0's l2: 0.830462\tvalid_1's rmse: 0.79408\tvalid_1's l2: 0.630563            \n",
      "[300]\tvalid_0's rmse: 0.916486\tvalid_0's l2: 0.839946\tvalid_1's rmse: 0.766518\tvalid_1's l2: 0.58755            \n",
      "[100]\tvalid_0's rmse: 0.855396\tvalid_0's l2: 0.731702\tvalid_1's rmse: 0.836592\tvalid_1's l2: 0.699886           \n",
      "[200]\tvalid_0's rmse: 0.841021\tvalid_0's l2: 0.707316\tvalid_1's rmse: 0.796487\tvalid_1's l2: 0.634392           \n",
      "[300]\tvalid_0's rmse: 0.837506\tvalid_0's l2: 0.701416\tvalid_1's rmse: 0.769866\tvalid_1's l2: 0.592694           \n",
      "[400]\tvalid_0's rmse: 0.838039\tvalid_0's l2: 0.702309\tvalid_1's rmse: 0.749368\tvalid_1's l2: 0.561553           \n",
      "[500]\tvalid_0's rmse: 0.837446\tvalid_0's l2: 0.701316\tvalid_1's rmse: 0.732108\tvalid_1's l2: 0.535982           \n",
      "[100]\tvalid_0's rmse: 0.882229\tvalid_0's l2: 0.778328\tvalid_1's rmse: 0.831017\tvalid_1's l2: 0.690589           \n",
      "[200]\tvalid_0's rmse: 0.872751\tvalid_0's l2: 0.761694\tvalid_1's rmse: 0.792338\tvalid_1's l2: 0.627799           \n",
      "[300]\tvalid_0's rmse: 0.871421\tvalid_0's l2: 0.759374\tvalid_1's rmse: 0.765251\tvalid_1's l2: 0.585609           \n",
      " 80%|███████████████████████████████▍       | 161/200 [05:36<01:50,  2.84s/trial, best loss: 0.8698473674122577]"
     ]
    },
    {
     "name": "stderr",
     "output_type": "stream",
     "text": [
      "Score - 0.8726312216376021, Std - 0.030891770976555537, Eval Score - 0.8726312216376021\n",
      "Score across folds - [0.9112971159319154, 0.8356868084833897, 0.8709097404975009].\n"
     ]
    },
    {
     "name": "stdout",
     "output_type": "stream",
     "text": [
      "\r\n",
      " 81%|███████████████████████████████▌       | 162/200 [05:36<01:49,  2.87s/trial, best loss: 0.8698473674122577]"
     ]
    },
    {
     "name": "stderr",
     "output_type": "stream",
     "text": [
      "\n",
      "Iteration: 163, Training with params: {'boosting_type': 'gbdt', 'colsample_bytree': 0.2, 'learning_rate': 0.1, 'min_child_samples': 80, 'n_estimators': 10000, 'n_jobs': -1, 'num_leaves': 16, 'objective': 'regression', 'subsample': 0.6000000000000001, 'subsample_freq': 5}\n"
     ]
    },
    {
     "name": "stdout",
     "output_type": "stream",
     "text": [
      "[100]\tvalid_0's rmse: 0.943265\tvalid_0's l2: 0.889749\tvalid_1's rmse: 0.895326\tvalid_1's l2: 0.801608           \n",
      "[200]\tvalid_0's rmse: 0.926225\tvalid_0's l2: 0.857892\tvalid_1's rmse: 0.856136\tvalid_1's l2: 0.732969           \n",
      "[300]\tvalid_0's rmse: 0.918734\tvalid_0's l2: 0.844072\tvalid_1's rmse: 0.835388\tvalid_1's l2: 0.697872           \n",
      "[400]\tvalid_0's rmse: 0.915574\tvalid_0's l2: 0.838275\tvalid_1's rmse: 0.821686\tvalid_1's l2: 0.675167           \n",
      "[500]\tvalid_0's rmse: 0.91577\tvalid_0's l2: 0.838634\tvalid_1's rmse: 0.811582\tvalid_1's l2: 0.658665            \n",
      "[600]\tvalid_0's rmse: 0.914975\tvalid_0's l2: 0.837179\tvalid_1's rmse: 0.802439\tvalid_1's l2: 0.643908           \n",
      "[700]\tvalid_0's rmse: 0.913724\tvalid_0's l2: 0.834891\tvalid_1's rmse: 0.79503\tvalid_1's l2: 0.632072            \n",
      "[100]\tvalid_0's rmse: 0.897151\tvalid_0's l2: 0.804879\tvalid_1's rmse: 0.898596\tvalid_1's l2: 0.807474           \n",
      "[200]\tvalid_0's rmse: 0.867655\tvalid_0's l2: 0.752825\tvalid_1's rmse: 0.859541\tvalid_1's l2: 0.73881            \n",
      "[300]\tvalid_0's rmse: 0.852435\tvalid_0's l2: 0.726646\tvalid_1's rmse: 0.838722\tvalid_1's l2: 0.703455           \n",
      "[400]\tvalid_0's rmse: 0.849095\tvalid_0's l2: 0.720963\tvalid_1's rmse: 0.825157\tvalid_1's l2: 0.680884           \n",
      "[500]\tvalid_0's rmse: 0.847715\tvalid_0's l2: 0.71862\tvalid_1's rmse: 0.814608\tvalid_1's l2: 0.663586            \n",
      "[600]\tvalid_0's rmse: 0.847796\tvalid_0's l2: 0.718758\tvalid_1's rmse: 0.805995\tvalid_1's l2: 0.649627           \n",
      "[100]\tvalid_0's rmse: 0.9234\tvalid_0's l2: 0.852668\tvalid_1's rmse: 0.893836\tvalid_1's l2: 0.798943             \n",
      "[200]\tvalid_0's rmse: 0.893688\tvalid_0's l2: 0.798678\tvalid_1's rmse: 0.854018\tvalid_1's l2: 0.729346           \n",
      "[300]\tvalid_0's rmse: 0.883537\tvalid_0's l2: 0.780638\tvalid_1's rmse: 0.833928\tvalid_1's l2: 0.695435           \n",
      "[400]\tvalid_0's rmse: 0.880227\tvalid_0's l2: 0.7748\tvalid_1's rmse: 0.81957\tvalid_1's l2: 0.671695              \n",
      "[500]\tvalid_0's rmse: 0.878657\tvalid_0's l2: 0.772038\tvalid_1's rmse: 0.809076\tvalid_1's l2: 0.654603           \n",
      "[600]\tvalid_0's rmse: 0.881615\tvalid_0's l2: 0.777245\tvalid_1's rmse: 0.800651\tvalid_1's l2: 0.641042           \n",
      " 81%|███████████████████████████████▌       | 162/200 [05:39<01:49,  2.87s/trial, best loss: 0.8698473674122577]"
     ]
    },
    {
     "name": "stderr",
     "output_type": "stream",
     "text": [
      "Score - 0.8786759661650944, Std - 0.02765328569383597, Eval Score - 0.8786759661650944\n",
      "Score across folds - [0.9127354015899013, 0.8450022567918866, 0.8782902401134949].\n"
     ]
    },
    {
     "name": "stdout",
     "output_type": "stream",
     "text": [
      "\r\n",
      " 82%|███████████████████████████████▊       | 163/200 [05:39<01:47,  2.89s/trial, best loss: 0.8698473674122577]"
     ]
    },
    {
     "name": "stderr",
     "output_type": "stream",
     "text": [
      "\n",
      "Iteration: 164, Training with params: {'boosting_type': 'gbdt', 'colsample_bytree': 0.4, 'learning_rate': 0.1, 'min_child_samples': 120, 'n_estimators': 10000, 'n_jobs': -1, 'num_leaves': 32, 'objective': 'regression', 'subsample': 0.8, 'subsample_freq': 10}\n"
     ]
    },
    {
     "name": "stdout",
     "output_type": "stream",
     "text": [
      "[100]\tvalid_0's rmse: 0.914914\tvalid_0's l2: 0.837068\tvalid_1's rmse: 0.834051\tvalid_1's l2: 0.695641           \n",
      "[200]\tvalid_0's rmse: 0.911297\tvalid_0's l2: 0.830462\tvalid_1's rmse: 0.79408\tvalid_1's l2: 0.630563            \n",
      "[300]\tvalid_0's rmse: 0.916486\tvalid_0's l2: 0.839946\tvalid_1's rmse: 0.766518\tvalid_1's l2: 0.58755            \n",
      "[100]\tvalid_0's rmse: 0.855396\tvalid_0's l2: 0.731702\tvalid_1's rmse: 0.836592\tvalid_1's l2: 0.699886           \n",
      "[200]\tvalid_0's rmse: 0.841021\tvalid_0's l2: 0.707316\tvalid_1's rmse: 0.796487\tvalid_1's l2: 0.634392           \n",
      "[300]\tvalid_0's rmse: 0.837506\tvalid_0's l2: 0.701416\tvalid_1's rmse: 0.769866\tvalid_1's l2: 0.592694           \n",
      "[400]\tvalid_0's rmse: 0.838039\tvalid_0's l2: 0.702309\tvalid_1's rmse: 0.749368\tvalid_1's l2: 0.561553           \n",
      "[500]\tvalid_0's rmse: 0.837446\tvalid_0's l2: 0.701316\tvalid_1's rmse: 0.732108\tvalid_1's l2: 0.535982           \n",
      "[100]\tvalid_0's rmse: 0.882229\tvalid_0's l2: 0.778328\tvalid_1's rmse: 0.831017\tvalid_1's l2: 0.690589           \n",
      "[200]\tvalid_0's rmse: 0.872751\tvalid_0's l2: 0.761694\tvalid_1's rmse: 0.792338\tvalid_1's l2: 0.627799           \n",
      "[300]\tvalid_0's rmse: 0.871421\tvalid_0's l2: 0.759374\tvalid_1's rmse: 0.765251\tvalid_1's l2: 0.585609           \n",
      " 82%|███████████████████████████████▊       | 163/200 [05:42<01:47,  2.89s/trial, best loss: 0.8698473674122577]"
     ]
    },
    {
     "name": "stderr",
     "output_type": "stream",
     "text": [
      "Score - 0.8726312216376021, Std - 0.030891770976555537, Eval Score - 0.8726312216376021\n",
      "Score across folds - [0.9112971159319154, 0.8356868084833897, 0.8709097404975009].\n"
     ]
    },
    {
     "name": "stdout",
     "output_type": "stream",
     "text": [
      "\r\n",
      " 82%|███████████████████████████████▉       | 164/200 [05:42<01:45,  2.92s/trial, best loss: 0.8698473674122577]"
     ]
    },
    {
     "name": "stderr",
     "output_type": "stream",
     "text": [
      "\n",
      "Iteration: 165, Training with params: {'boosting_type': 'gbdt', 'colsample_bytree': 0.6000000000000001, 'learning_rate': 0.1, 'min_child_samples': 80, 'n_estimators': 10000, 'n_jobs': -1, 'num_leaves': 16, 'objective': 'regression', 'subsample': 0.6000000000000001, 'subsample_freq': 10}\n"
     ]
    },
    {
     "name": "stdout",
     "output_type": "stream",
     "text": [
      "[100]\tvalid_0's rmse: 0.921125\tvalid_0's l2: 0.848471\tvalid_1's rmse: 0.847704\tvalid_1's l2: 0.718602           \n",
      "[200]\tvalid_0's rmse: 0.912504\tvalid_0's l2: 0.832664\tvalid_1's rmse: 0.813288\tvalid_1's l2: 0.661438           \n",
      "[300]\tvalid_0's rmse: 0.921484\tvalid_0's l2: 0.849133\tvalid_1's rmse: 0.793525\tvalid_1's l2: 0.629683           \n",
      "[100]\tvalid_0's rmse: 0.860667\tvalid_0's l2: 0.740747\tvalid_1's rmse: 0.849838\tvalid_1's l2: 0.722225           \n",
      "[200]\tvalid_0's rmse: 0.847228\tvalid_0's l2: 0.717796\tvalid_1's rmse: 0.818659\tvalid_1's l2: 0.670202           \n",
      "[300]\tvalid_0's rmse: 0.844362\tvalid_0's l2: 0.712947\tvalid_1's rmse: 0.798344\tvalid_1's l2: 0.637353           \n",
      "[100]\tvalid_0's rmse: 0.883909\tvalid_0's l2: 0.781295\tvalid_1's rmse: 0.845923\tvalid_1's l2: 0.715586           \n",
      "[200]\tvalid_0's rmse: 0.878008\tvalid_0's l2: 0.770898\tvalid_1's rmse: 0.812938\tvalid_1's l2: 0.660868           \n",
      " 82%|███████████████████████████████▉       | 164/200 [05:43<01:45,  2.92s/trial, best loss: 0.8698473674122577]"
     ]
    },
    {
     "name": "stderr",
     "output_type": "stream",
     "text": [
      "Score - 0.877209845384176, Std - 0.027781566451301896, Eval Score - 0.877209845384176\n",
      "Score across folds - [0.9114291242263323, 0.8433818367730656, 0.87681857515313].\n"
     ]
    },
    {
     "name": "stdout",
     "output_type": "stream",
     "text": [
      "\r\n",
      " 82%|████████████████████████████████▏      | 165/200 [05:43<01:28,  2.53s/trial, best loss: 0.8698473674122577]"
     ]
    },
    {
     "name": "stderr",
     "output_type": "stream",
     "text": [
      "\n",
      "Iteration: 166, Training with params: {'boosting_type': 'gbdt', 'colsample_bytree': 0.4, 'learning_rate': 0.1, 'min_child_samples': 120, 'n_estimators': 10000, 'n_jobs': -1, 'num_leaves': 48, 'objective': 'regression', 'subsample': 0.8, 'subsample_freq': 10}\n"
     ]
    },
    {
     "name": "stdout",
     "output_type": "stream",
     "text": [
      "[100]\tvalid_0's rmse: 0.9144\tvalid_0's l2: 0.836127\tvalid_1's rmse: 0.816163\tvalid_1's l2: 0.666123             \n",
      "[200]\tvalid_0's rmse: 0.912412\tvalid_0's l2: 0.832496\tvalid_1's rmse: 0.769326\tvalid_1's l2: 0.591862           \n",
      "[100]\tvalid_0's rmse: 0.855382\tvalid_0's l2: 0.731678\tvalid_1's rmse: 0.818139\tvalid_1's l2: 0.669351           \n",
      "[200]\tvalid_0's rmse: 0.845926\tvalid_0's l2: 0.715592\tvalid_1's rmse: 0.772006\tvalid_1's l2: 0.595993           \n",
      "[300]\tvalid_0's rmse: 0.84092\tvalid_0's l2: 0.707146\tvalid_1's rmse: 0.739247\tvalid_1's l2: 0.546486            \n",
      "[400]\tvalid_0's rmse: 0.842969\tvalid_0's l2: 0.710596\tvalid_1's rmse: 0.713956\tvalid_1's l2: 0.509732           \n",
      "[100]\tvalid_0's rmse: 0.882847\tvalid_0's l2: 0.779419\tvalid_1's rmse: 0.812454\tvalid_1's l2: 0.660081           \n",
      "[200]\tvalid_0's rmse: 0.877103\tvalid_0's l2: 0.76931\tvalid_1's rmse: 0.767778\tvalid_1's l2: 0.589483            \n",
      " 82%|████████████████████████████████▏      | 165/200 [05:46<01:28,  2.53s/trial, best loss: 0.8698473674122577]"
     ]
    },
    {
     "name": "stderr",
     "output_type": "stream",
     "text": [
      "Score - 0.8765607073986579, Std - 0.02931722729792459, Eval Score - 0.8765607073986579\n",
      "Score across folds - [0.9122562043361516, 0.8404475996822451, 0.876978318177577].\n"
     ]
    },
    {
     "name": "stdout",
     "output_type": "stream",
     "text": [
      "\r\n",
      " 83%|████████████████████████████████▎      | 166/200 [05:46<01:29,  2.62s/trial, best loss: 0.8698473674122577]"
     ]
    },
    {
     "name": "stderr",
     "output_type": "stream",
     "text": [
      "\n",
      "Iteration: 167, Training with params: {'boosting_type': 'gbdt', 'colsample_bytree': 0.2, 'learning_rate': 0.1, 'min_child_samples': 120, 'n_estimators': 10000, 'n_jobs': -1, 'num_leaves': 16, 'objective': 'regression', 'subsample': 0.8, 'subsample_freq': 10}\n"
     ]
    },
    {
     "name": "stdout",
     "output_type": "stream",
     "text": [
      "[100]\tvalid_0's rmse: 0.944361\tvalid_0's l2: 0.891819\tvalid_1's rmse: 0.896331\tvalid_1's l2: 0.803409           \n",
      "[200]\tvalid_0's rmse: 0.921846\tvalid_0's l2: 0.849801\tvalid_1's rmse: 0.855669\tvalid_1's l2: 0.73217            \n",
      "[300]\tvalid_0's rmse: 0.916152\tvalid_0's l2: 0.839334\tvalid_1's rmse: 0.835351\tvalid_1's l2: 0.697811           \n",
      "[400]\tvalid_0's rmse: 0.913245\tvalid_0's l2: 0.834016\tvalid_1's rmse: 0.82188\tvalid_1's l2: 0.675487            \n",
      "[500]\tvalid_0's rmse: 0.912805\tvalid_0's l2: 0.833214\tvalid_1's rmse: 0.812835\tvalid_1's l2: 0.660701           \n",
      "[600]\tvalid_0's rmse: 0.909784\tvalid_0's l2: 0.827707\tvalid_1's rmse: 0.804136\tvalid_1's l2: 0.646635           \n",
      "[700]\tvalid_0's rmse: 0.909899\tvalid_0's l2: 0.827916\tvalid_1's rmse: 0.797009\tvalid_1's l2: 0.635223           \n",
      "[100]\tvalid_0's rmse: 0.899003\tvalid_0's l2: 0.808207\tvalid_1's rmse: 0.898937\tvalid_1's l2: 0.808088           \n",
      "[200]\tvalid_0's rmse: 0.867275\tvalid_0's l2: 0.752165\tvalid_1's rmse: 0.858641\tvalid_1's l2: 0.737264           \n",
      "[300]\tvalid_0's rmse: 0.851462\tvalid_0's l2: 0.724988\tvalid_1's rmse: 0.838195\tvalid_1's l2: 0.702571           \n",
      "[400]\tvalid_0's rmse: 0.845862\tvalid_0's l2: 0.715482\tvalid_1's rmse: 0.824653\tvalid_1's l2: 0.680053           \n",
      "[500]\tvalid_0's rmse: 0.842597\tvalid_0's l2: 0.709969\tvalid_1's rmse: 0.815646\tvalid_1's l2: 0.665279           \n",
      "[600]\tvalid_0's rmse: 0.840996\tvalid_0's l2: 0.707274\tvalid_1's rmse: 0.807069\tvalid_1's l2: 0.65136            \n",
      "[100]\tvalid_0's rmse: 0.924095\tvalid_0's l2: 0.853952\tvalid_1's rmse: 0.894128\tvalid_1's l2: 0.799465           \n",
      "[200]\tvalid_0's rmse: 0.892302\tvalid_0's l2: 0.796202\tvalid_1's rmse: 0.852902\tvalid_1's l2: 0.727441           \n",
      "[300]\tvalid_0's rmse: 0.882655\tvalid_0's l2: 0.77908\tvalid_1's rmse: 0.833077\tvalid_1's l2: 0.694018            \n",
      "[400]\tvalid_0's rmse: 0.878697\tvalid_0's l2: 0.772109\tvalid_1's rmse: 0.819531\tvalid_1's l2: 0.671631           \n",
      "[500]\tvalid_0's rmse: 0.877492\tvalid_0's l2: 0.769992\tvalid_1's rmse: 0.809889\tvalid_1's l2: 0.65592            \n",
      "[600]\tvalid_0's rmse: 0.876015\tvalid_0's l2: 0.767402\tvalid_1's rmse: 0.801842\tvalid_1's l2: 0.64295            \n",
      "[700]\tvalid_0's rmse: 0.875732\tvalid_0's l2: 0.766907\tvalid_1's rmse: 0.793912\tvalid_1's l2: 0.630297           \n",
      "[800]\tvalid_0's rmse: 0.876746\tvalid_0's l2: 0.768683\tvalid_1's rmse: 0.786608\tvalid_1's l2: 0.618752           \n",
      " 83%|████████████████████████████████▎      | 166/200 [05:50<01:29,  2.62s/trial, best loss: 0.8698473674122577]"
     ]
    },
    {
     "name": "stderr",
     "output_type": "stream",
     "text": [
      "Score - 0.874975446529637, Std - 0.02778948333080819, Eval Score - 0.874975446529637\n",
      "Score across folds - [0.9088757974879365, 0.8408073231655623, 0.8752432189354123].\n"
     ]
    },
    {
     "name": "stdout",
     "output_type": "stream",
     "text": [
      "\r\n",
      " 84%|████████████████████████████████▌      | 167/200 [05:50<01:35,  2.88s/trial, best loss: 0.8698473674122577]"
     ]
    },
    {
     "name": "stderr",
     "output_type": "stream",
     "text": [
      "\n",
      "Iteration: 168, Training with params: {'boosting_type': 'gbdt', 'colsample_bytree': 0.6000000000000001, 'learning_rate': 0.1, 'min_child_samples': 80, 'n_estimators': 10000, 'n_jobs': -1, 'num_leaves': 32, 'objective': 'regression', 'subsample': 0.8, 'subsample_freq': 10}\n"
     ]
    },
    {
     "name": "stdout",
     "output_type": "stream",
     "text": [
      "[100]\tvalid_0's rmse: 0.914562\tvalid_0's l2: 0.836423\tvalid_1's rmse: 0.804625\tvalid_1's l2: 0.647421           \n",
      "[200]\tvalid_0's rmse: 0.918893\tvalid_0's l2: 0.844365\tvalid_1's rmse: 0.759716\tvalid_1's l2: 0.577169           \n",
      "[100]\tvalid_0's rmse: 0.848038\tvalid_0's l2: 0.719169\tvalid_1's rmse: 0.809472\tvalid_1's l2: 0.655245           \n",
      "[200]\tvalid_0's rmse: 0.841967\tvalid_0's l2: 0.708909\tvalid_1's rmse: 0.764142\tvalid_1's l2: 0.583913           \n",
      "[300]\tvalid_0's rmse: 0.842315\tvalid_0's l2: 0.709494\tvalid_1's rmse: 0.731776\tvalid_1's l2: 0.535496           \n",
      "[100]\tvalid_0's rmse: 0.8756\tvalid_0's l2: 0.766676\tvalid_1's rmse: 0.805724\tvalid_1's l2: 0.649192             \n",
      "[200]\tvalid_0's rmse: 0.876703\tvalid_0's l2: 0.768607\tvalid_1's rmse: 0.760474\tvalid_1's l2: 0.57832            \n",
      " 84%|████████████████████████████████▌      | 167/200 [05:52<01:35,  2.88s/trial, best loss: 0.8698473674122577]"
     ]
    },
    {
     "name": "stderr",
     "output_type": "stream",
     "text": [
      "Score - 0.8759938434398112, Std - 0.029699722066366646, Eval Score - 0.8759938434398112\n",
      "Score across folds - [0.9136997469383387, 0.8411156345241573, 0.8731661488569379].\n"
     ]
    },
    {
     "name": "stdout",
     "output_type": "stream",
     "text": [
      "\r\n",
      " 84%|████████████████████████████████▊      | 168/200 [05:52<01:23,  2.62s/trial, best loss: 0.8698473674122577]"
     ]
    },
    {
     "name": "stderr",
     "output_type": "stream",
     "text": [
      "\n",
      "Iteration: 169, Training with params: {'boosting_type': 'gbdt', 'colsample_bytree': 0.4, 'learning_rate': 0.1, 'min_child_samples': 120, 'n_estimators': 10000, 'n_jobs': -1, 'num_leaves': 48, 'objective': 'regression', 'subsample': 0.6000000000000001, 'subsample_freq': 5}\n"
     ]
    },
    {
     "name": "stdout",
     "output_type": "stream",
     "text": [
      "[100]\tvalid_0's rmse: 0.917948\tvalid_0's l2: 0.842629\tvalid_1's rmse: 0.823084\tvalid_1's l2: 0.677467           \n",
      "[200]\tvalid_0's rmse: 0.915613\tvalid_0's l2: 0.838347\tvalid_1's rmse: 0.780198\tvalid_1's l2: 0.608709           \n",
      "[100]\tvalid_0's rmse: 0.856478\tvalid_0's l2: 0.733555\tvalid_1's rmse: 0.827395\tvalid_1's l2: 0.684582           \n",
      "[200]\tvalid_0's rmse: 0.84844\tvalid_0's l2: 0.719851\tvalid_1's rmse: 0.783434\tvalid_1's l2: 0.613769            \n",
      "[300]\tvalid_0's rmse: 0.842293\tvalid_0's l2: 0.709458\tvalid_1's rmse: 0.751744\tvalid_1's l2: 0.565119           \n",
      "[400]\tvalid_0's rmse: 0.84594\tvalid_0's l2: 0.715615\tvalid_1's rmse: 0.728366\tvalid_1's l2: 0.530518            \n",
      "[100]\tvalid_0's rmse: 0.888255\tvalid_0's l2: 0.788997\tvalid_1's rmse: 0.82168\tvalid_1's l2: 0.675158            \n",
      "[200]\tvalid_0's rmse: 0.878659\tvalid_0's l2: 0.772041\tvalid_1's rmse: 0.777738\tvalid_1's l2: 0.604876           \n",
      "[300]\tvalid_0's rmse: 0.879826\tvalid_0's l2: 0.774095\tvalid_1's rmse: 0.746556\tvalid_1's l2: 0.557346           \n",
      " 84%|████████████████████████████████▊      | 168/200 [05:55<01:23,  2.62s/trial, best loss: 0.8698473674122577]"
     ]
    },
    {
     "name": "stderr",
     "output_type": "stream",
     "text": [
      "Score - 0.8777911372431718, Std - 0.029071859817286196, Eval Score - 0.8777911372431718\n",
      "Score across folds - [0.9135035099109785, 0.8422932565835899, 0.8775766452349473].\n"
     ]
    },
    {
     "name": "stdout",
     "output_type": "stream",
     "text": [
      "\r\n",
      " 84%|████████████████████████████████▉      | 169/200 [05:55<01:23,  2.69s/trial, best loss: 0.8698473674122577]"
     ]
    },
    {
     "name": "stderr",
     "output_type": "stream",
     "text": [
      "\n",
      "Iteration: 170, Training with params: {'boosting_type': 'gbdt', 'colsample_bytree': 0.6000000000000001, 'learning_rate': 0.1, 'min_child_samples': 120, 'n_estimators': 10000, 'n_jobs': -1, 'num_leaves': 32, 'objective': 'regression', 'subsample': 0.8, 'subsample_freq': 10}\n"
     ]
    },
    {
     "name": "stdout",
     "output_type": "stream",
     "text": [
      "[100]\tvalid_0's rmse: 0.914745\tvalid_0's l2: 0.836759\tvalid_1's rmse: 0.80958\tvalid_1's l2: 0.65542             \n",
      "[200]\tvalid_0's rmse: 0.916954\tvalid_0's l2: 0.840805\tvalid_1's rmse: 0.767063\tvalid_1's l2: 0.588386           \n",
      "[100]\tvalid_0's rmse: 0.85212\tvalid_0's l2: 0.726108\tvalid_1's rmse: 0.813242\tvalid_1's l2: 0.661363            \n",
      "[200]\tvalid_0's rmse: 0.84222\tvalid_0's l2: 0.709335\tvalid_1's rmse: 0.770911\tvalid_1's l2: 0.594304            \n",
      "[300]\tvalid_0's rmse: 0.840217\tvalid_0's l2: 0.705965\tvalid_1's rmse: 0.740184\tvalid_1's l2: 0.547873           \n",
      "[100]\tvalid_0's rmse: 0.875355\tvalid_0's l2: 0.766247\tvalid_1's rmse: 0.810513\tvalid_1's l2: 0.656931           \n",
      "[200]\tvalid_0's rmse: 0.873623\tvalid_0's l2: 0.763217\tvalid_1's rmse: 0.768153\tvalid_1's l2: 0.590059           \n",
      " 84%|████████████████████████████████▉      | 169/200 [05:57<01:23,  2.69s/trial, best loss: 0.8698473674122577]"
     ]
    },
    {
     "name": "stderr",
     "output_type": "stream",
     "text": [
      "Score - 0.8751284146993021, Std - 0.030810235508294048, Eval Score - 0.8751284146993021\n",
      "Score across folds - [0.913926648311347, 0.838555809035342, 0.8729027867512172].\n"
     ]
    },
    {
     "name": "stdout",
     "output_type": "stream",
     "text": [
      "\r\n",
      " 85%|█████████████████████████████████▏     | 170/200 [05:57<01:15,  2.52s/trial, best loss: 0.8698473674122577]"
     ]
    },
    {
     "name": "stderr",
     "output_type": "stream",
     "text": [
      "\n",
      "Iteration: 171, Training with params: {'boosting_type': 'gbdt', 'colsample_bytree': 0.6000000000000001, 'learning_rate': 0.1, 'min_child_samples': 80, 'n_estimators': 10000, 'n_jobs': -1, 'num_leaves': 16, 'objective': 'regression', 'subsample': 0.8, 'subsample_freq': 10}\n"
     ]
    },
    {
     "name": "stdout",
     "output_type": "stream",
     "text": [
      "[100]\tvalid_0's rmse: 0.916497\tvalid_0's l2: 0.839966\tvalid_1's rmse: 0.845636\tvalid_1's l2: 0.7151             \n",
      "[200]\tvalid_0's rmse: 0.912312\tvalid_0's l2: 0.832314\tvalid_1's rmse: 0.811644\tvalid_1's l2: 0.658765           \n",
      "[100]\tvalid_0's rmse: 0.856434\tvalid_0's l2: 0.733479\tvalid_1's rmse: 0.84867\tvalid_1's l2: 0.720241            \n",
      "[200]\tvalid_0's rmse: 0.843247\tvalid_0's l2: 0.711066\tvalid_1's rmse: 0.815306\tvalid_1's l2: 0.664724           \n",
      "[300]\tvalid_0's rmse: 0.84113\tvalid_0's l2: 0.7075\tvalid_1's rmse: 0.793122\tvalid_1's l2: 0.629043              \n",
      "[400]\tvalid_0's rmse: 0.838633\tvalid_0's l2: 0.703305\tvalid_1's rmse: 0.775242\tvalid_1's l2: 0.601              \n",
      "[500]\tvalid_0's rmse: 0.840656\tvalid_0's l2: 0.706703\tvalid_1's rmse: 0.759765\tvalid_1's l2: 0.577242           \n",
      "[100]\tvalid_0's rmse: 0.884687\tvalid_0's l2: 0.782672\tvalid_1's rmse: 0.844116\tvalid_1's l2: 0.712531           \n",
      "[200]\tvalid_0's rmse: 0.875867\tvalid_0's l2: 0.767143\tvalid_1's rmse: 0.809671\tvalid_1's l2: 0.655567           \n",
      "[300]\tvalid_0's rmse: 0.876743\tvalid_0's l2: 0.768679\tvalid_1's rmse: 0.787649\tvalid_1's l2: 0.620391           \n",
      " 85%|█████████████████████████████████▏     | 170/200 [05:59<01:15,  2.52s/trial, best loss: 0.8698473674122577]"
     ]
    },
    {
     "name": "stderr",
     "output_type": "stream",
     "text": [
      "Score - 0.874484970119411, Std - 0.03018859801150997, Eval Score - 0.874484970119411\n",
      "Score across folds - [0.9112676488219552, 0.8373238922124246, 0.8748633693238533].\n"
     ]
    },
    {
     "name": "stdout",
     "output_type": "stream",
     "text": [
      "\r\n",
      " 86%|█████████████████████████████████▎     | 171/200 [05:59<01:08,  2.35s/trial, best loss: 0.8698473674122577]"
     ]
    },
    {
     "name": "stderr",
     "output_type": "stream",
     "text": [
      "\n",
      "Iteration: 172, Training with params: {'boosting_type': 'gbdt', 'colsample_bytree': 0.4, 'learning_rate': 0.1, 'min_child_samples': 160, 'n_estimators': 10000, 'n_jobs': -1, 'num_leaves': 32, 'objective': 'regression', 'subsample': 0.6000000000000001, 'subsample_freq': 10}\n"
     ]
    },
    {
     "name": "stdout",
     "output_type": "stream",
     "text": [
      "[100]\tvalid_0's rmse: 0.919849\tvalid_0's l2: 0.846122\tvalid_1's rmse: 0.843151\tvalid_1's l2: 0.710904           \n",
      "[200]\tvalid_0's rmse: 0.912388\tvalid_0's l2: 0.832453\tvalid_1's rmse: 0.806719\tvalid_1's l2: 0.650795           \n",
      "[300]\tvalid_0's rmse: 0.914626\tvalid_0's l2: 0.836541\tvalid_1's rmse: 0.783007\tvalid_1's l2: 0.6131             \n",
      "[100]\tvalid_0's rmse: 0.857557\tvalid_0's l2: 0.735404\tvalid_1's rmse: 0.845863\tvalid_1's l2: 0.715484           \n",
      "[200]\tvalid_0's rmse: 0.849896\tvalid_0's l2: 0.722322\tvalid_1's rmse: 0.809308\tvalid_1's l2: 0.654979           \n",
      "[300]\tvalid_0's rmse: 0.846397\tvalid_0's l2: 0.716388\tvalid_1's rmse: 0.785927\tvalid_1's l2: 0.617681           \n",
      "[100]\tvalid_0's rmse: 0.885182\tvalid_0's l2: 0.783548\tvalid_1's rmse: 0.840963\tvalid_1's l2: 0.707219           \n",
      "[200]\tvalid_0's rmse: 0.876799\tvalid_0's l2: 0.768776\tvalid_1's rmse: 0.805546\tvalid_1's l2: 0.648905           \n",
      "[300]\tvalid_0's rmse: 0.875723\tvalid_0's l2: 0.766891\tvalid_1's rmse: 0.781225\tvalid_1's l2: 0.610313           \n",
      "[400]\tvalid_0's rmse: 0.875585\tvalid_0's l2: 0.76665\tvalid_1's rmse: 0.763776\tvalid_1's l2: 0.583354            \n",
      " 86%|█████████████████████████████████▎     | 171/200 [06:01<01:08,  2.35s/trial, best loss: 0.8698473674122577]"
     ]
    },
    {
     "name": "stderr",
     "output_type": "stream",
     "text": [
      "Score - 0.8765883384575696, Std - 0.026531428769361008, Eval Score - 0.8765883384575696\n",
      "Score across folds - [0.9101779100237458, 0.8453132011484977, 0.8742739042004654].\n"
     ]
    },
    {
     "name": "stdout",
     "output_type": "stream",
     "text": [
      "\r\n",
      " 86%|█████████████████████████████████▌     | 172/200 [06:01<01:09,  2.47s/trial, best loss: 0.8698473674122577]"
     ]
    },
    {
     "name": "stderr",
     "output_type": "stream",
     "text": [
      "\n",
      "Iteration: 173, Training with params: {'boosting_type': 'gbdt', 'colsample_bytree': 0.4, 'learning_rate': 0.1, 'min_child_samples': 80, 'n_estimators': 10000, 'n_jobs': -1, 'num_leaves': 16, 'objective': 'regression', 'subsample': 0.8, 'subsample_freq': 10}\n"
     ]
    },
    {
     "name": "stdout",
     "output_type": "stream",
     "text": [
      "[100]\tvalid_0's rmse: 0.920846\tvalid_0's l2: 0.847958\tvalid_1's rmse: 0.860855\tvalid_1's l2: 0.741072           \n",
      "[200]\tvalid_0's rmse: 0.910482\tvalid_0's l2: 0.828978\tvalid_1's rmse: 0.826604\tvalid_1's l2: 0.683274           \n",
      "[300]\tvalid_0's rmse: 0.911948\tvalid_0's l2: 0.831649\tvalid_1's rmse: 0.804215\tvalid_1's l2: 0.646762           \n",
      "[100]\tvalid_0's rmse: 0.867115\tvalid_0's l2: 0.751889\tvalid_1's rmse: 0.864162\tvalid_1's l2: 0.746777           \n",
      "[200]\tvalid_0's rmse: 0.848829\tvalid_0's l2: 0.72051\tvalid_1's rmse: 0.829552\tvalid_1's l2: 0.688157            \n",
      "[300]\tvalid_0's rmse: 0.842438\tvalid_0's l2: 0.709702\tvalid_1's rmse: 0.808633\tvalid_1's l2: 0.653887           \n",
      "[400]\tvalid_0's rmse: 0.840149\tvalid_0's l2: 0.70585\tvalid_1's rmse: 0.793287\tvalid_1's l2: 0.629304            \n",
      "[500]\tvalid_0's rmse: 0.839395\tvalid_0's l2: 0.704584\tvalid_1's rmse: 0.780672\tvalid_1's l2: 0.609448           \n",
      "[600]\tvalid_0's rmse: 0.840606\tvalid_0's l2: 0.706619\tvalid_1's rmse: 0.769093\tvalid_1's l2: 0.591504           \n",
      "[100]\tvalid_0's rmse: 0.890224\tvalid_0's l2: 0.792499\tvalid_1's rmse: 0.859012\tvalid_1's l2: 0.737901           \n",
      "[200]\tvalid_0's rmse: 0.874744\tvalid_0's l2: 0.765176\tvalid_1's rmse: 0.82637\tvalid_1's l2: 0.682887            \n",
      "[300]\tvalid_0's rmse: 0.873515\tvalid_0's l2: 0.763028\tvalid_1's rmse: 0.805495\tvalid_1's l2: 0.648823           \n",
      " 86%|█████████████████████████████████▌     | 172/200 [06:04<01:09,  2.47s/trial, best loss: 0.8698473674122577]"
     ]
    },
    {
     "name": "stderr",
     "output_type": "stream",
     "text": [
      "Score - 0.8731839553996896, Std - 0.028208026165181838, Eval Score - 0.8731839553996896\n",
      "Score across folds - [0.9084431046999165, 0.8393947581310988, 0.8717140033680536].\n"
     ]
    },
    {
     "name": "stdout",
     "output_type": "stream",
     "text": [
      "\r\n",
      " 86%|█████████████████████████████████▋     | 173/200 [06:04<01:04,  2.39s/trial, best loss: 0.8698473674122577]"
     ]
    },
    {
     "name": "stderr",
     "output_type": "stream",
     "text": [
      "\n",
      "Iteration: 174, Training with params: {'boosting_type': 'gbdt', 'colsample_bytree': 0.2, 'learning_rate': 0.1, 'min_child_samples': 120, 'n_estimators': 10000, 'n_jobs': -1, 'num_leaves': 64, 'objective': 'regression', 'subsample': 0.8, 'subsample_freq': 5}\n"
     ]
    },
    {
     "name": "stdout",
     "output_type": "stream",
     "text": [
      "[100]\tvalid_0's rmse: 0.936067\tvalid_0's l2: 0.876221\tvalid_1's rmse: 0.863333\tvalid_1's l2: 0.745344           \n",
      "[200]\tvalid_0's rmse: 0.919076\tvalid_0's l2: 0.8447\tvalid_1's rmse: 0.810387\tvalid_1's l2: 0.656727             \n",
      "[300]\tvalid_0's rmse: 0.914591\tvalid_0's l2: 0.836476\tvalid_1's rmse: 0.781013\tvalid_1's l2: 0.609982           \n",
      "[400]\tvalid_0's rmse: 0.912605\tvalid_0's l2: 0.832847\tvalid_1's rmse: 0.75983\tvalid_1's l2: 0.577342            \n",
      "[100]\tvalid_0's rmse: 0.886562\tvalid_0's l2: 0.785993\tvalid_1's rmse: 0.865879\tvalid_1's l2: 0.749746           \n",
      "[200]\tvalid_0's rmse: 0.858915\tvalid_0's l2: 0.737736\tvalid_1's rmse: 0.813504\tvalid_1's l2: 0.661789           \n",
      "[300]\tvalid_0's rmse: 0.849045\tvalid_0's l2: 0.720877\tvalid_1's rmse: 0.783459\tvalid_1's l2: 0.613808           \n",
      "[400]\tvalid_0's rmse: 0.845691\tvalid_0's l2: 0.715194\tvalid_1's rmse: 0.762512\tvalid_1's l2: 0.581424           \n",
      "[500]\tvalid_0's rmse: 0.846908\tvalid_0's l2: 0.717252\tvalid_1's rmse: 0.746046\tvalid_1's l2: 0.556585           \n",
      "[100]\tvalid_0's rmse: 0.912236\tvalid_0's l2: 0.832175\tvalid_1's rmse: 0.861659\tvalid_1's l2: 0.742455           \n",
      "[200]\tvalid_0's rmse: 0.887586\tvalid_0's l2: 0.78781\tvalid_1's rmse: 0.808873\tvalid_1's l2: 0.654275            \n",
      "[300]\tvalid_0's rmse: 0.882778\tvalid_0's l2: 0.779296\tvalid_1's rmse: 0.779258\tvalid_1's l2: 0.607244           \n",
      "[400]\tvalid_0's rmse: 0.881122\tvalid_0's l2: 0.776376\tvalid_1's rmse: 0.757034\tvalid_1's l2: 0.573101           \n",
      " 86%|█████████████████████████████████▋     | 173/200 [06:08<01:04,  2.39s/trial, best loss: 0.8698473674122577]"
     ]
    },
    {
     "name": "stderr",
     "output_type": "stream",
     "text": [
      "Score - 0.8789977529178968, Std - 0.02740146635927231, Eval Score - 0.8789977529178968\n",
      "Score across folds - [0.9121393429998139, 0.8450348104221491, 0.8798191053317272].\n"
     ]
    },
    {
     "name": "stdout",
     "output_type": "stream",
     "text": [
      "\r\n",
      " 87%|█████████████████████████████████▉     | 174/200 [06:08<01:16,  2.93s/trial, best loss: 0.8698473674122577]"
     ]
    },
    {
     "name": "stderr",
     "output_type": "stream",
     "text": [
      "\n",
      "Iteration: 175, Training with params: {'boosting_type': 'gbdt', 'colsample_bytree': 0.8, 'learning_rate': 0.1, 'min_child_samples': 160, 'n_estimators': 10000, 'n_jobs': -1, 'num_leaves': 32, 'objective': 'regression', 'subsample': 0.6000000000000001, 'subsample_freq': 10}\n"
     ]
    },
    {
     "name": "stdout",
     "output_type": "stream",
     "text": [
      "[100]\tvalid_0's rmse: 0.915576\tvalid_0's l2: 0.838279\tvalid_1's rmse: 0.817615\tvalid_1's l2: 0.668495           \n",
      "[200]\tvalid_0's rmse: 0.921409\tvalid_0's l2: 0.848994\tvalid_1's rmse: 0.778459\tvalid_1's l2: 0.605999           \n",
      "[100]\tvalid_0's rmse: 0.852308\tvalid_0's l2: 0.726429\tvalid_1's rmse: 0.821228\tvalid_1's l2: 0.674416           \n",
      "[200]\tvalid_0's rmse: 0.848796\tvalid_0's l2: 0.720454\tvalid_1's rmse: 0.781318\tvalid_1's l2: 0.610458           \n",
      "[300]\tvalid_0's rmse: 0.849096\tvalid_0's l2: 0.720964\tvalid_1's rmse: 0.753769\tvalid_1's l2: 0.568168           \n",
      "[100]\tvalid_0's rmse: 0.878512\tvalid_0's l2: 0.771784\tvalid_1's rmse: 0.816418\tvalid_1's l2: 0.666539           \n",
      "[200]\tvalid_0's rmse: 0.875604\tvalid_0's l2: 0.766683\tvalid_1's rmse: 0.777688\tvalid_1's l2: 0.604799           \n",
      " 87%|█████████████████████████████████▉     | 174/200 [06:10<01:16,  2.93s/trial, best loss: 0.8698473674122577]"
     ]
    },
    {
     "name": "stderr",
     "output_type": "stream",
     "text": [
      "Score - 0.8782579550060312, Std - 0.02788520312016231, Eval Score - 0.8782579550060312\n",
      "Score across folds - [0.9141015145926427, 0.846095169043924, 0.8745771813815273].\n"
     ]
    },
    {
     "name": "stdout",
     "output_type": "stream",
     "text": [
      "\r\n",
      " 88%|██████████████████████████████████▏    | 175/200 [06:10<01:07,  2.72s/trial, best loss: 0.8698473674122577]"
     ]
    },
    {
     "name": "stderr",
     "output_type": "stream",
     "text": [
      "\n",
      "Iteration: 176, Training with params: {'boosting_type': 'gbdt', 'colsample_bytree': 0.6000000000000001, 'learning_rate': 0.1, 'min_child_samples': 80, 'n_estimators': 10000, 'n_jobs': -1, 'num_leaves': 16, 'objective': 'regression', 'subsample': 1.0, 'subsample_freq': 10}\n"
     ]
    },
    {
     "name": "stdout",
     "output_type": "stream",
     "text": [
      "[100]\tvalid_0's rmse: 0.915266\tvalid_0's l2: 0.837711\tvalid_1's rmse: 0.843857\tvalid_1's l2: 0.712095           \n",
      "[200]\tvalid_0's rmse: 0.911989\tvalid_0's l2: 0.831724\tvalid_1's rmse: 0.809979\tvalid_1's l2: 0.656066           \n",
      "[300]\tvalid_0's rmse: 0.916349\tvalid_0's l2: 0.839695\tvalid_1's rmse: 0.789532\tvalid_1's l2: 0.623361           \n",
      "[100]\tvalid_0's rmse: 0.85699\tvalid_0's l2: 0.734431\tvalid_1's rmse: 0.846778\tvalid_1's l2: 0.717033            \n",
      "[200]\tvalid_0's rmse: 0.845113\tvalid_0's l2: 0.714215\tvalid_1's rmse: 0.813372\tvalid_1's l2: 0.661574           \n",
      "[300]\tvalid_0's rmse: 0.83949\tvalid_0's l2: 0.704744\tvalid_1's rmse: 0.792219\tvalid_1's l2: 0.627611            \n",
      "[400]\tvalid_0's rmse: 0.839461\tvalid_0's l2: 0.704694\tvalid_1's rmse: 0.774059\tvalid_1's l2: 0.599167           \n",
      "[100]\tvalid_0's rmse: 0.882648\tvalid_0's l2: 0.779067\tvalid_1's rmse: 0.842625\tvalid_1's l2: 0.710017           \n",
      "[200]\tvalid_0's rmse: 0.874626\tvalid_0's l2: 0.76497\tvalid_1's rmse: 0.809785\tvalid_1's l2: 0.655751            \n",
      "[300]\tvalid_0's rmse: 0.873064\tvalid_0's l2: 0.762241\tvalid_1's rmse: 0.78723\tvalid_1's l2: 0.619731            \n",
      "[400]\tvalid_0's rmse: 0.873664\tvalid_0's l2: 0.763289\tvalid_1's rmse: 0.770162\tvalid_1's l2: 0.59315            \n",
      " 88%|██████████████████████████████████▏    | 175/200 [06:12<01:07,  2.72s/trial, best loss: 0.8698473674122577]"
     ]
    },
    {
     "name": "stderr",
     "output_type": "stream",
     "text": [
      "Score - 0.8743753649463745, Std - 0.029596868571151905, Eval Score - 0.8743753649463745\n",
      "Score across folds - [0.9117292373523915, 0.8393436708413575, 0.8720531866453741].\n"
     ]
    },
    {
     "name": "stdout",
     "output_type": "stream",
     "text": [
      "\r\n",
      " 88%|██████████████████████████████████▎    | 176/200 [06:12<00:57,  2.41s/trial, best loss: 0.8698473674122577]"
     ]
    },
    {
     "name": "stderr",
     "output_type": "stream",
     "text": [
      "\n",
      "Iteration: 177, Training with params: {'boosting_type': 'gbdt', 'colsample_bytree': 0.8, 'learning_rate': 0.1, 'min_child_samples': 120, 'n_estimators': 10000, 'n_jobs': -1, 'num_leaves': 48, 'objective': 'regression', 'subsample': 0.8, 'subsample_freq': 10}\n"
     ]
    },
    {
     "name": "stdout",
     "output_type": "stream",
     "text": [
      "[100]\tvalid_0's rmse: 0.917986\tvalid_0's l2: 0.842699\tvalid_1's rmse: 0.781309\tvalid_1's l2: 0.610444           \n",
      "[100]\tvalid_0's rmse: 0.843805\tvalid_0's l2: 0.712006\tvalid_1's rmse: 0.784756\tvalid_1's l2: 0.615842           \n",
      "[200]\tvalid_0's rmse: 0.838594\tvalid_0's l2: 0.70324\tvalid_1's rmse: 0.731615\tvalid_1's l2: 0.535261            \n",
      "[300]\tvalid_0's rmse: 0.842351\tvalid_0's l2: 0.709556\tvalid_1's rmse: 0.691353\tvalid_1's l2: 0.47797            \n",
      "[100]\tvalid_0's rmse: 0.873987\tvalid_0's l2: 0.763853\tvalid_1's rmse: 0.780443\tvalid_1's l2: 0.609091           \n",
      "[200]\tvalid_0's rmse: 0.876014\tvalid_0's l2: 0.767401\tvalid_1's rmse: 0.727343\tvalid_1's l2: 0.529029           \n",
      " 88%|██████████████████████████████████▎    | 176/200 [06:14<00:57,  2.41s/trial, best loss: 0.8698473674122577]"
     ]
    },
    {
     "name": "stderr",
     "output_type": "stream",
     "text": [
      "Score - 0.8754143610921531, Std - 0.03231178209012561, Eval Score - 0.8754143610921531\n",
      "Score across folds - [0.9159849644401852, 0.8369192680755069, 0.873338850760767].\n"
     ]
    },
    {
     "name": "stdout",
     "output_type": "stream",
     "text": [
      "\r\n",
      " 88%|██████████████████████████████████▌    | 177/200 [06:14<00:55,  2.41s/trial, best loss: 0.8698473674122577]"
     ]
    },
    {
     "name": "stderr",
     "output_type": "stream",
     "text": [
      "\n",
      "Iteration: 178, Training with params: {'boosting_type': 'gbdt', 'colsample_bytree': 0.6000000000000001, 'learning_rate': 0.1, 'min_child_samples': 120, 'n_estimators': 10000, 'n_jobs': -1, 'num_leaves': 32, 'objective': 'regression', 'subsample': 1.0, 'subsample_freq': 10}\n"
     ]
    },
    {
     "name": "stdout",
     "output_type": "stream",
     "text": [
      "[100]\tvalid_0's rmse: 0.913205\tvalid_0's l2: 0.833943\tvalid_1's rmse: 0.807483\tvalid_1's l2: 0.65203            \n",
      "[200]\tvalid_0's rmse: 0.91729\tvalid_0's l2: 0.841421\tvalid_1's rmse: 0.766811\tvalid_1's l2: 0.588               \n",
      "[100]\tvalid_0's rmse: 0.852443\tvalid_0's l2: 0.726659\tvalid_1's rmse: 0.81014\tvalid_1's l2: 0.656327            \n",
      "[200]\tvalid_0's rmse: 0.843492\tvalid_0's l2: 0.711479\tvalid_1's rmse: 0.769705\tvalid_1's l2: 0.592446           \n",
      "[300]\tvalid_0's rmse: 0.840625\tvalid_0's l2: 0.70665\tvalid_1's rmse: 0.741174\tvalid_1's l2: 0.549339            \n",
      "[100]\tvalid_0's rmse: 0.873789\tvalid_0's l2: 0.763507\tvalid_1's rmse: 0.806022\tvalid_1's l2: 0.649671           \n",
      "[200]\tvalid_0's rmse: 0.873351\tvalid_0's l2: 0.762742\tvalid_1's rmse: 0.765834\tvalid_1's l2: 0.586502           \n",
      " 88%|██████████████████████████████████▌    | 177/200 [06:16<00:55,  2.41s/trial, best loss: 0.8698473674122577]"
     ]
    },
    {
     "name": "stderr",
     "output_type": "stream",
     "text": [
      "Score - 0.8745160433967021, Std - 0.029253741808904235, Eval Score - 0.8745160433967021\n",
      "Score across folds - [0.9118656465784011, 0.8404325601179125, 0.8712499234937925].\n"
     ]
    },
    {
     "name": "stdout",
     "output_type": "stream",
     "text": [
      "\r\n",
      " 89%|██████████████████████████████████▋    | 178/200 [06:16<00:49,  2.25s/trial, best loss: 0.8698473674122577]"
     ]
    },
    {
     "name": "stderr",
     "output_type": "stream",
     "text": [
      "\n",
      "Iteration: 179, Training with params: {'boosting_type': 'gbdt', 'colsample_bytree': 0.8, 'learning_rate': 0.1, 'min_child_samples': 40, 'n_estimators': 10000, 'n_jobs': -1, 'num_leaves': 16, 'objective': 'regression', 'subsample': 0.8, 'subsample_freq': 10}\n"
     ]
    },
    {
     "name": "stdout",
     "output_type": "stream",
     "text": [
      "[100]\tvalid_0's rmse: 0.915955\tvalid_0's l2: 0.838974\tvalid_1's rmse: 0.840478\tvalid_1's l2: 0.706403           \n",
      "[200]\tvalid_0's rmse: 0.910491\tvalid_0's l2: 0.828994\tvalid_1's rmse: 0.801475\tvalid_1's l2: 0.642363           \n",
      "[100]\tvalid_0's rmse: 0.857517\tvalid_0's l2: 0.735336\tvalid_1's rmse: 0.843343\tvalid_1's l2: 0.711227           \n",
      "[200]\tvalid_0's rmse: 0.841294\tvalid_0's l2: 0.707775\tvalid_1's rmse: 0.80642\tvalid_1's l2: 0.650313            \n",
      "[300]\tvalid_0's rmse: 0.840703\tvalid_0's l2: 0.706781\tvalid_1's rmse: 0.781732\tvalid_1's l2: 0.611105           \n",
      "[100]\tvalid_0's rmse: 0.881077\tvalid_0's l2: 0.776297\tvalid_1's rmse: 0.839002\tvalid_1's l2: 0.703925           \n",
      "[200]\tvalid_0's rmse: 0.874159\tvalid_0's l2: 0.764154\tvalid_1's rmse: 0.801717\tvalid_1's l2: 0.64275            \n",
      "[300]\tvalid_0's rmse: 0.874101\tvalid_0's l2: 0.764053\tvalid_1's rmse: 0.775377\tvalid_1's l2: 0.601209           \n",
      " 89%|██████████████████████████████████▋    | 178/200 [06:18<00:49,  2.25s/trial, best loss: 0.8698473674122577]"
     ]
    },
    {
     "name": "stderr",
     "output_type": "stream",
     "text": [
      "Score - 0.8731640948466984, Std - 0.028504880866698345, Eval Score - 0.8731640948466984\n",
      "Score across folds - [0.9082125099441014, 0.8383917337966189, 0.8728880407993748].\n"
     ]
    },
    {
     "name": "stdout",
     "output_type": "stream",
     "text": [
      "\r\n",
      " 90%|██████████████████████████████████▉    | 179/200 [06:18<00:42,  2.02s/trial, best loss: 0.8698473674122577]"
     ]
    },
    {
     "name": "stderr",
     "output_type": "stream",
     "text": [
      "\n",
      "Iteration: 180, Training with params: {'boosting_type': 'gbdt', 'colsample_bytree': 0.8, 'learning_rate': 0.1, 'min_child_samples': 160, 'n_estimators': 10000, 'n_jobs': -1, 'num_leaves': 48, 'objective': 'regression', 'subsample': 0.6000000000000001, 'subsample_freq': 5}\n"
     ]
    },
    {
     "name": "stdout",
     "output_type": "stream",
     "text": [
      "[100]\tvalid_0's rmse: 0.918085\tvalid_0's l2: 0.84288\tvalid_1's rmse: 0.799958\tvalid_1's l2: 0.639933            \n",
      "[200]\tvalid_0's rmse: 0.921527\tvalid_0's l2: 0.849211\tvalid_1's rmse: 0.751477\tvalid_1's l2: 0.564717           \n",
      "[100]\tvalid_0's rmse: 0.855883\tvalid_0's l2: 0.732536\tvalid_1's rmse: 0.803381\tvalid_1's l2: 0.645422           \n",
      "[200]\tvalid_0's rmse: 0.852104\tvalid_0's l2: 0.726081\tvalid_1's rmse: 0.753901\tvalid_1's l2: 0.568366           \n",
      "[300]\tvalid_0's rmse: 0.852622\tvalid_0's l2: 0.726964\tvalid_1's rmse: 0.718671\tvalid_1's l2: 0.516488           \n",
      "[100]\tvalid_0's rmse: 0.873876\tvalid_0's l2: 0.76366\tvalid_1's rmse: 0.799704\tvalid_1's l2: 0.639526            \n",
      "[200]\tvalid_0's rmse: 0.875678\tvalid_0's l2: 0.766812\tvalid_1's rmse: 0.749958\tvalid_1's l2: 0.562437           \n",
      " 90%|██████████████████████████████████▉    | 179/200 [06:20<00:42,  2.02s/trial, best loss: 0.8698473674122577]"
     ]
    },
    {
     "name": "stderr",
     "output_type": "stream",
     "text": [
      "Score - 0.8785477143141568, Std - 0.02842701080169001, Eval Score - 0.8785477143141568\n",
      "Score across folds - [0.9156784370499585, 0.8466360243680715, 0.8733286815244403].\n"
     ]
    },
    {
     "name": "stdout",
     "output_type": "stream",
     "text": [
      "\r\n",
      " 90%|███████████████████████████████████    | 180/200 [06:20<00:44,  2.21s/trial, best loss: 0.8698473674122577]"
     ]
    },
    {
     "name": "stderr",
     "output_type": "stream",
     "text": [
      "\n",
      "Iteration: 181, Training with params: {'boosting_type': 'gbdt', 'colsample_bytree': 0.8, 'learning_rate': 0.1, 'min_child_samples': 80, 'n_estimators': 10000, 'n_jobs': -1, 'num_leaves': 16, 'objective': 'regression', 'subsample': 0.8, 'subsample_freq': 10}\n"
     ]
    },
    {
     "name": "stdout",
     "output_type": "stream",
     "text": [
      "[100]\tvalid_0's rmse: 0.913566\tvalid_0's l2: 0.834602\tvalid_1's rmse: 0.841531\tvalid_1's l2: 0.708174           \n",
      "[200]\tvalid_0's rmse: 0.911525\tvalid_0's l2: 0.830878\tvalid_1's rmse: 0.806649\tvalid_1's l2: 0.650683           \n",
      "[100]\tvalid_0's rmse: 0.855666\tvalid_0's l2: 0.732165\tvalid_1's rmse: 0.843738\tvalid_1's l2: 0.711895           \n",
      "[200]\tvalid_0's rmse: 0.842242\tvalid_0's l2: 0.709372\tvalid_1's rmse: 0.810529\tvalid_1's l2: 0.656958           \n",
      "[300]\tvalid_0's rmse: 0.839755\tvalid_0's l2: 0.705188\tvalid_1's rmse: 0.788406\tvalid_1's l2: 0.621584           \n",
      "[400]\tvalid_0's rmse: 0.839821\tvalid_0's l2: 0.7053\tvalid_1's rmse: 0.768662\tvalid_1's l2: 0.590841             \n",
      "[100]\tvalid_0's rmse: 0.878317\tvalid_0's l2: 0.771441\tvalid_1's rmse: 0.839751\tvalid_1's l2: 0.705181           \n",
      "[200]\tvalid_0's rmse: 0.869716\tvalid_0's l2: 0.756406\tvalid_1's rmse: 0.80572\tvalid_1's l2: 0.649184            \n",
      " 90%|███████████████████████████████████    | 180/200 [06:22<00:44,  2.21s/trial, best loss: 0.8698473674122577]"
     ]
    },
    {
     "name": "stderr",
     "output_type": "stream",
     "text": [
      "Score - 0.8720563631194839, Std - 0.029529659718127276, Eval Score - 0.8720563631194839\n",
      "Score across folds - [0.9101604200793396, 0.8382035969213666, 0.8678050723577454].\n"
     ]
    },
    {
     "name": "stdout",
     "output_type": "stream",
     "text": [
      "\r\n",
      " 90%|███████████████████████████████████▎   | 181/200 [06:22<00:38,  2.03s/trial, best loss: 0.8698473674122577]"
     ]
    },
    {
     "name": "stderr",
     "output_type": "stream",
     "text": [
      "\n",
      "Iteration: 182, Training with params: {'boosting_type': 'gbdt', 'colsample_bytree': 0.8, 'learning_rate': 0.1, 'min_child_samples': 40, 'n_estimators': 10000, 'n_jobs': -1, 'num_leaves': 32, 'objective': 'regression', 'subsample': 0.2, 'subsample_freq': 10}\n"
     ]
    },
    {
     "name": "stdout",
     "output_type": "stream",
     "text": [
      "[100]\tvalid_0's rmse: 0.936404\tvalid_0's l2: 0.876853\tvalid_1's rmse: 0.825597\tvalid_1's l2: 0.68161            \n",
      "[100]\tvalid_0's rmse: 0.885625\tvalid_0's l2: 0.784331\tvalid_1's rmse: 0.8308\tvalid_1's l2: 0.690228             \n",
      "[100]\tvalid_0's rmse: 0.903908\tvalid_0's l2: 0.81705\tvalid_1's rmse: 0.828075\tvalid_1's l2: 0.685708            \n",
      "[200]\tvalid_0's rmse: 0.905997\tvalid_0's l2: 0.82083\tvalid_1's rmse: 0.788351\tvalid_1's l2: 0.621497            \n",
      " 90%|███████████████████████████████████▎   | 181/200 [06:23<00:38,  2.03s/trial, best loss: 0.8698473674122577]"
     ]
    },
    {
     "name": "stderr",
     "output_type": "stream",
     "text": [
      "Score - 0.9031504480132365, Std - 0.02162923341870186, Eval Score - 0.9031504480132365\n",
      "Score across folds - [0.9310798047896497, 0.8783830440447469, 0.8999884952053131].\n"
     ]
    },
    {
     "name": "stdout",
     "output_type": "stream",
     "text": [
      "\r\n",
      " 91%|███████████████████████████████████▍   | 182/200 [06:23<00:32,  1.83s/trial, best loss: 0.8698473674122577]"
     ]
    },
    {
     "name": "stderr",
     "output_type": "stream",
     "text": [
      "\n",
      "Iteration: 183, Training with params: {'boosting_type': 'gbdt', 'colsample_bytree': 0.8, 'learning_rate': 0.1, 'min_child_samples': 40, 'n_estimators': 10000, 'n_jobs': -1, 'num_leaves': 64, 'objective': 'regression', 'subsample': 1.0, 'subsample_freq': 10}\n"
     ]
    },
    {
     "name": "stdout",
     "output_type": "stream",
     "text": [
      "[100]\tvalid_0's rmse: 0.921139\tvalid_0's l2: 0.848496\tvalid_1's rmse: 0.73232\tvalid_1's l2: 0.536293            \n",
      "[100]\tvalid_0's rmse: 0.842279\tvalid_0's l2: 0.709433\tvalid_1's rmse: 0.735807\tvalid_1's l2: 0.541412           \n",
      "[200]\tvalid_0's rmse: 0.840867\tvalid_0's l2: 0.707056\tvalid_1's rmse: 0.661382\tvalid_1's l2: 0.437426           \n",
      "[100]\tvalid_0's rmse: 0.876953\tvalid_0's l2: 0.769046\tvalid_1's rmse: 0.730168\tvalid_1's l2: 0.533146           \n",
      " 91%|███████████████████████████████████▍   | 182/200 [06:25<00:32,  1.83s/trial, best loss: 0.8698473674122577]"
     ]
    },
    {
     "name": "stderr",
     "output_type": "stream",
     "text": [
      "Score - 0.8783874020687056, Std - 0.032522776142215576, Eval Score - 0.8783874020687056\n",
      "Score across folds - [0.919610441683035, 0.8401097506614544, 0.8754420138616275].\n"
     ]
    },
    {
     "name": "stdout",
     "output_type": "stream",
     "text": [
      "\r\n",
      " 92%|███████████████████████████████████▋   | 183/200 [06:25<00:30,  1.80s/trial, best loss: 0.8698473674122577]"
     ]
    },
    {
     "name": "stderr",
     "output_type": "stream",
     "text": [
      "\n",
      "Iteration: 184, Training with params: {'boosting_type': 'gbdt', 'colsample_bytree': 0.8, 'learning_rate': 0.1, 'min_child_samples': 40, 'n_estimators': 10000, 'n_jobs': -1, 'num_leaves': 16, 'objective': 'regression', 'subsample': 0.4, 'subsample_freq': 10}\n"
     ]
    },
    {
     "name": "stdout",
     "output_type": "stream",
     "text": [
      "[100]\tvalid_0's rmse: 0.925378\tvalid_0's l2: 0.856325\tvalid_1's rmse: 0.845035\tvalid_1's l2: 0.714084           \n",
      "[100]\tvalid_0's rmse: 0.86231\tvalid_0's l2: 0.743578\tvalid_1's rmse: 0.8484\tvalid_1's l2: 0.719782              \n",
      "[200]\tvalid_0's rmse: 0.844185\tvalid_0's l2: 0.712648\tvalid_1's rmse: 0.81542\tvalid_1's l2: 0.66491             \n",
      "[300]\tvalid_0's rmse: 0.848457\tvalid_0's l2: 0.71988\tvalid_1's rmse: 0.794721\tvalid_1's l2: 0.631581            \n",
      "[100]\tvalid_0's rmse: 0.896121\tvalid_0's l2: 0.803032\tvalid_1's rmse: 0.846103\tvalid_1's l2: 0.71589            \n",
      "[200]\tvalid_0's rmse: 0.887587\tvalid_0's l2: 0.78781\tvalid_1's rmse: 0.809024\tvalid_1's l2: 0.654519            \n",
      " 92%|███████████████████████████████████▋   | 183/200 [06:26<00:30,  1.80s/trial, best loss: 0.8698473674122577]"
     ]
    },
    {
     "name": "stderr",
     "output_type": "stream",
     "text": [
      "Score - 0.8850012145327423, Std - 0.03280656342534437, Eval Score - 0.8850012145327423\n",
      "Score across folds - [0.9245126587538456, 0.8441850974272316, 0.8863058874171497].\n"
     ]
    },
    {
     "name": "stdout",
     "output_type": "stream",
     "text": [
      "\r\n",
      " 92%|███████████████████████████████████▉   | 184/200 [06:26<00:27,  1.71s/trial, best loss: 0.8698473674122577]"
     ]
    },
    {
     "name": "stderr",
     "output_type": "stream",
     "text": [
      "\n",
      "Iteration: 185, Training with params: {'boosting_type': 'gbdt', 'colsample_bytree': 0.8, 'learning_rate': 0.1, 'min_child_samples': 80, 'n_estimators': 10000, 'n_jobs': -1, 'num_leaves': 48, 'objective': 'regression', 'subsample': 1.0, 'subsample_freq': 10}\n"
     ]
    },
    {
     "name": "stdout",
     "output_type": "stream",
     "text": [
      "[100]\tvalid_0's rmse: 0.916298\tvalid_0's l2: 0.839602\tvalid_1's rmse: 0.769449\tvalid_1's l2: 0.592053           \n",
      "[100]\tvalid_0's rmse: 0.844223\tvalid_0's l2: 0.712712\tvalid_1's rmse: 0.772798\tvalid_1's l2: 0.597217           \n",
      "[200]\tvalid_0's rmse: 0.842143\tvalid_0's l2: 0.709205\tvalid_1's rmse: 0.714768\tvalid_1's l2: 0.510893           \n",
      "[100]\tvalid_0's rmse: 0.872011\tvalid_0's l2: 0.760403\tvalid_1's rmse: 0.767261\tvalid_1's l2: 0.588689           \n",
      "[200]\tvalid_0's rmse: 0.877075\tvalid_0's l2: 0.76926\tvalid_1's rmse: 0.711966\tvalid_1's l2: 0.506895            \n",
      " 92%|███████████████████████████████████▉   | 184/200 [06:29<00:27,  1.71s/trial, best loss: 0.8698473674122577]"
     ]
    },
    {
     "name": "stderr",
     "output_type": "stream",
     "text": [
      "Score - 0.8751359797841592, Std - 0.03080879025182399, Eval Score - 0.8751359797841592\n",
      "Score across folds - [0.9146877786003768, 0.8395324544336541, 0.871187706318447].\n"
     ]
    },
    {
     "name": "stdout",
     "output_type": "stream",
     "text": [
      "\r\n",
      " 92%|████████████████████████████████████   | 185/200 [06:29<00:27,  1.86s/trial, best loss: 0.8698473674122577]"
     ]
    },
    {
     "name": "stderr",
     "output_type": "stream",
     "text": [
      "\n",
      "Iteration: 186, Training with params: {'boosting_type': 'gbdt', 'colsample_bytree': 0.8, 'learning_rate': 0.1, 'min_child_samples': 40, 'n_estimators': 10000, 'n_jobs': -1, 'num_leaves': 32, 'objective': 'regression', 'subsample': 0.8, 'subsample_freq': 5}\n"
     ]
    },
    {
     "name": "stdout",
     "output_type": "stream",
     "text": [
      "[100]\tvalid_0's rmse: 0.912807\tvalid_0's l2: 0.833216\tvalid_1's rmse: 0.794726\tvalid_1's l2: 0.63159            \n",
      "[100]\tvalid_0's rmse: 0.844471\tvalid_0's l2: 0.713131\tvalid_1's rmse: 0.796884\tvalid_1's l2: 0.635024           \n",
      "[200]\tvalid_0's rmse: 0.84387\tvalid_0's l2: 0.712116\tvalid_1's rmse: 0.745499\tvalid_1's l2: 0.555769            \n",
      "[300]\tvalid_0's rmse: 0.845975\tvalid_0's l2: 0.715674\tvalid_1's rmse: 0.705767\tvalid_1's l2: 0.498107           \n",
      "[100]\tvalid_0's rmse: 0.875227\tvalid_0's l2: 0.766022\tvalid_1's rmse: 0.792136\tvalid_1's l2: 0.627479           \n",
      "[200]\tvalid_0's rmse: 0.876817\tvalid_0's l2: 0.768808\tvalid_1's rmse: 0.740325\tvalid_1's l2: 0.548081           \n",
      " 92%|████████████████████████████████████   | 185/200 [06:30<00:27,  1.86s/trial, best loss: 0.8698473674122577]"
     ]
    },
    {
     "name": "stderr",
     "output_type": "stream",
     "text": [
      "Score - 0.8751992025603915, Std - 0.028137286565341892, Eval Score - 0.8751992025603915\n",
      "Score across folds - [0.9109434445317923, 0.842183693007144, 0.8724704701422383].\n"
     ]
    },
    {
     "name": "stdout",
     "output_type": "stream",
     "text": [
      "\r\n",
      " 93%|████████████████████████████████████▎  | 186/200 [06:30<00:25,  1.85s/trial, best loss: 0.8698473674122577]"
     ]
    },
    {
     "name": "stderr",
     "output_type": "stream",
     "text": [
      "\n",
      "Iteration: 187, Training with params: {'boosting_type': 'gbdt', 'colsample_bytree': 0.8, 'learning_rate': 0.1, 'min_child_samples': 80, 'n_estimators': 10000, 'n_jobs': -1, 'num_leaves': 16, 'objective': 'regression', 'subsample': 0.6000000000000001, 'subsample_freq': 10}\n"
     ]
    },
    {
     "name": "stdout",
     "output_type": "stream",
     "text": [
      "[100]\tvalid_0's rmse: 0.917183\tvalid_0's l2: 0.841225\tvalid_1's rmse: 0.842177\tvalid_1's l2: 0.709263           \n",
      "[200]\tvalid_0's rmse: 0.912346\tvalid_0's l2: 0.832376\tvalid_1's rmse: 0.809245\tvalid_1's l2: 0.654878           \n",
      "[300]\tvalid_0's rmse: 0.916275\tvalid_0's l2: 0.83956\tvalid_1's rmse: 0.788992\tvalid_1's l2: 0.622509            \n",
      "[100]\tvalid_0's rmse: 0.860173\tvalid_0's l2: 0.739897\tvalid_1's rmse: 0.846906\tvalid_1's l2: 0.71725            \n",
      "[200]\tvalid_0's rmse: 0.849759\tvalid_0's l2: 0.72209\tvalid_1's rmse: 0.814791\tvalid_1's l2: 0.663884            \n",
      "[300]\tvalid_0's rmse: 0.845796\tvalid_0's l2: 0.715371\tvalid_1's rmse: 0.793351\tvalid_1's l2: 0.629406           \n",
      "[400]\tvalid_0's rmse: 0.848793\tvalid_0's l2: 0.72045\tvalid_1's rmse: 0.775281\tvalid_1's l2: 0.601061            \n",
      "[100]\tvalid_0's rmse: 0.886551\tvalid_0's l2: 0.785972\tvalid_1's rmse: 0.842771\tvalid_1's l2: 0.710264           \n",
      "[200]\tvalid_0's rmse: 0.877993\tvalid_0's l2: 0.770871\tvalid_1's rmse: 0.809574\tvalid_1's l2: 0.655411           \n",
      "[300]\tvalid_0's rmse: 0.879166\tvalid_0's l2: 0.772932\tvalid_1's rmse: 0.78851\tvalid_1's l2: 0.621748            \n",
      " 93%|████████████████████████████████████▎  | 186/200 [06:32<00:25,  1.85s/trial, best loss: 0.8698473674122577]"
     ]
    },
    {
     "name": "stderr",
     "output_type": "stream",
     "text": [
      "Score - 0.8773760096071577, Std - 0.0265460123652563, Eval Score - 0.8773760096071577\n",
      "Score across folds - [0.9099926484798151, 0.8449694818782114, 0.8771658984634465].\n"
     ]
    },
    {
     "name": "stdout",
     "output_type": "stream",
     "text": [
      "\r\n",
      " 94%|████████████████████████████████████▍  | 187/200 [06:32<00:23,  1.81s/trial, best loss: 0.8698473674122577]"
     ]
    },
    {
     "name": "stderr",
     "output_type": "stream",
     "text": [
      "\n",
      "Iteration: 188, Training with params: {'boosting_type': 'gbdt', 'colsample_bytree': 0.8, 'learning_rate': 0.1, 'min_child_samples': 80, 'n_estimators': 10000, 'n_jobs': -1, 'num_leaves': 32, 'objective': 'regression', 'subsample': 0.8, 'subsample_freq': 10}\n"
     ]
    },
    {
     "name": "stdout",
     "output_type": "stream",
     "text": [
      "[100]\tvalid_0's rmse: 0.913261\tvalid_0's l2: 0.834046\tvalid_1's rmse: 0.801141\tvalid_1's l2: 0.641827           \n",
      "[200]\tvalid_0's rmse: 0.916859\tvalid_0's l2: 0.840631\tvalid_1's rmse: 0.756286\tvalid_1's l2: 0.571968           \n",
      "[100]\tvalid_0's rmse: 0.845955\tvalid_0's l2: 0.715639\tvalid_1's rmse: 0.804094\tvalid_1's l2: 0.646567           \n",
      "[200]\tvalid_0's rmse: 0.835866\tvalid_0's l2: 0.698671\tvalid_1's rmse: 0.758018\tvalid_1's l2: 0.574591           \n",
      "[300]\tvalid_0's rmse: 0.838841\tvalid_0's l2: 0.703654\tvalid_1's rmse: 0.722962\tvalid_1's l2: 0.522674           \n",
      "[100]\tvalid_0's rmse: 0.873729\tvalid_0's l2: 0.763402\tvalid_1's rmse: 0.800729\tvalid_1's l2: 0.641168           \n",
      "[200]\tvalid_0's rmse: 0.874438\tvalid_0's l2: 0.764642\tvalid_1's rmse: 0.75499\tvalid_1's l2: 0.57001             \n",
      " 94%|████████████████████████████████████▍  | 187/200 [06:34<00:23,  1.81s/trial, best loss: 0.8698473674122577]"
     ]
    },
    {
     "name": "stderr",
     "output_type": "stream",
     "text": [
      "Score - 0.8728251015864177, Std - 0.031433128414414, Eval Score - 0.8728251015864177\n",
      "Score across folds - [0.9119971604451107, 0.8350394925890186, 0.8714386517251238].\n"
     ]
    },
    {
     "name": "stdout",
     "output_type": "stream",
     "text": [
      "\r\n",
      " 94%|████████████████████████████████████▋  | 188/200 [06:34<00:22,  1.84s/trial, best loss: 0.8698473674122577]"
     ]
    },
    {
     "name": "stderr",
     "output_type": "stream",
     "text": [
      "\n",
      "Iteration: 189, Training with params: {'boosting_type': 'gbdt', 'colsample_bytree': 0.8, 'learning_rate': 0.1, 'min_child_samples': 40, 'n_estimators': 10000, 'n_jobs': -1, 'num_leaves': 16, 'objective': 'regression', 'subsample': 0.8, 'subsample_freq': 10}\n"
     ]
    },
    {
     "name": "stdout",
     "output_type": "stream",
     "text": [
      "[100]\tvalid_0's rmse: 0.915955\tvalid_0's l2: 0.838974\tvalid_1's rmse: 0.840478\tvalid_1's l2: 0.706403           \n",
      "[200]\tvalid_0's rmse: 0.910491\tvalid_0's l2: 0.828994\tvalid_1's rmse: 0.801475\tvalid_1's l2: 0.642363           \n",
      "[100]\tvalid_0's rmse: 0.857517\tvalid_0's l2: 0.735336\tvalid_1's rmse: 0.843343\tvalid_1's l2: 0.711227           \n",
      "[200]\tvalid_0's rmse: 0.841294\tvalid_0's l2: 0.707775\tvalid_1's rmse: 0.80642\tvalid_1's l2: 0.650313            \n",
      "[300]\tvalid_0's rmse: 0.840703\tvalid_0's l2: 0.706781\tvalid_1's rmse: 0.781732\tvalid_1's l2: 0.611105           \n",
      "[100]\tvalid_0's rmse: 0.881077\tvalid_0's l2: 0.776297\tvalid_1's rmse: 0.839002\tvalid_1's l2: 0.703925           \n",
      "[200]\tvalid_0's rmse: 0.874159\tvalid_0's l2: 0.764154\tvalid_1's rmse: 0.801717\tvalid_1's l2: 0.64275            \n",
      "[300]\tvalid_0's rmse: 0.874101\tvalid_0's l2: 0.764053\tvalid_1's rmse: 0.775377\tvalid_1's l2: 0.601209           \n",
      " 94%|████████████████████████████████████▋  | 188/200 [06:36<00:22,  1.84s/trial, best loss: 0.8698473674122577]"
     ]
    },
    {
     "name": "stderr",
     "output_type": "stream",
     "text": [
      "Score - 0.8731640948466984, Std - 0.028504880866698345, Eval Score - 0.8731640948466984\n",
      "Score across folds - [0.9082125099441014, 0.8383917337966189, 0.8728880407993748].\n"
     ]
    },
    {
     "name": "stdout",
     "output_type": "stream",
     "text": [
      "\r\n",
      " 94%|████████████████████████████████████▊  | 189/200 [06:36<00:19,  1.73s/trial, best loss: 0.8698473674122577]"
     ]
    },
    {
     "name": "stderr",
     "output_type": "stream",
     "text": [
      "\n",
      "Iteration: 190, Training with params: {'boosting_type': 'gbdt', 'colsample_bytree': 1.0, 'learning_rate': 0.1, 'min_child_samples': 80, 'n_estimators': 10000, 'n_jobs': -1, 'num_leaves': 32, 'objective': 'regression', 'subsample': 1.0, 'subsample_freq': 10}\n"
     ]
    },
    {
     "name": "stdout",
     "output_type": "stream",
     "text": [
      "[100]\tvalid_0's rmse: 0.917803\tvalid_0's l2: 0.842363\tvalid_1's rmse: 0.796283\tvalid_1's l2: 0.634067           \n",
      "[100]\tvalid_0's rmse: 0.843947\tvalid_0's l2: 0.712247\tvalid_1's rmse: 0.800291\tvalid_1's l2: 0.640465           \n",
      "[200]\tvalid_0's rmse: 0.836146\tvalid_0's l2: 0.699139\tvalid_1's rmse: 0.754009\tvalid_1's l2: 0.568529           \n",
      "[100]\tvalid_0's rmse: 0.878151\tvalid_0's l2: 0.771149\tvalid_1's rmse: 0.796858\tvalid_1's l2: 0.634983           \n",
      "[200]\tvalid_0's rmse: 0.879073\tvalid_0's l2: 0.772769\tvalid_1's rmse: 0.75018\tvalid_1's l2: 0.56277             \n",
      " 94%|████████████████████████████████████▊  | 189/200 [06:37<00:19,  1.73s/trial, best loss: 0.8698473674122577]"
     ]
    },
    {
     "name": "stderr",
     "output_type": "stream",
     "text": [
      "Score - 0.8757882975223721, Std - 0.03300457470347433, Eval Score - 0.8757882975223721\n",
      "Score across folds - [0.9157590852703922, 0.8349293552643936, 0.8766764520323305].\n"
     ]
    },
    {
     "name": "stdout",
     "output_type": "stream",
     "text": [
      "\r\n",
      " 95%|█████████████████████████████████████  | 190/200 [06:37<00:16,  1.67s/trial, best loss: 0.8698473674122577]"
     ]
    },
    {
     "name": "stderr",
     "output_type": "stream",
     "text": [
      "\n",
      "Iteration: 191, Training with params: {'boosting_type': 'gbdt', 'colsample_bytree': 0.8, 'learning_rate': 0.1, 'min_child_samples': 80, 'n_estimators': 10000, 'n_jobs': -1, 'num_leaves': 16, 'objective': 'regression', 'subsample': 0.8, 'subsample_freq': 10}\n"
     ]
    },
    {
     "name": "stdout",
     "output_type": "stream",
     "text": [
      "[100]\tvalid_0's rmse: 0.913566\tvalid_0's l2: 0.834602\tvalid_1's rmse: 0.841531\tvalid_1's l2: 0.708174           \n",
      "[200]\tvalid_0's rmse: 0.911525\tvalid_0's l2: 0.830878\tvalid_1's rmse: 0.806649\tvalid_1's l2: 0.650683           \n",
      "[100]\tvalid_0's rmse: 0.855666\tvalid_0's l2: 0.732165\tvalid_1's rmse: 0.843738\tvalid_1's l2: 0.711895           \n",
      "[200]\tvalid_0's rmse: 0.842242\tvalid_0's l2: 0.709372\tvalid_1's rmse: 0.810529\tvalid_1's l2: 0.656958           \n",
      "[300]\tvalid_0's rmse: 0.839755\tvalid_0's l2: 0.705188\tvalid_1's rmse: 0.788406\tvalid_1's l2: 0.621584           \n",
      "[400]\tvalid_0's rmse: 0.839821\tvalid_0's l2: 0.7053\tvalid_1's rmse: 0.768662\tvalid_1's l2: 0.590841             \n",
      "[100]\tvalid_0's rmse: 0.878317\tvalid_0's l2: 0.771441\tvalid_1's rmse: 0.839751\tvalid_1's l2: 0.705181           \n",
      "[200]\tvalid_0's rmse: 0.869716\tvalid_0's l2: 0.756406\tvalid_1's rmse: 0.80572\tvalid_1's l2: 0.649184            \n",
      " 95%|█████████████████████████████████████  | 190/200 [06:39<00:16,  1.67s/trial, best loss: 0.8698473674122577]"
     ]
    },
    {
     "name": "stderr",
     "output_type": "stream",
     "text": [
      "Score - 0.8720563631194839, Std - 0.029529659718127276, Eval Score - 0.8720563631194839\n",
      "Score across folds - [0.9101604200793396, 0.8382035969213666, 0.8678050723577454].\n"
     ]
    },
    {
     "name": "stdout",
     "output_type": "stream",
     "text": [
      "\r\n",
      " 96%|█████████████████████████████████████▏ | 191/200 [06:39<00:14,  1.66s/trial, best loss: 0.8698473674122577]"
     ]
    },
    {
     "name": "stderr",
     "output_type": "stream",
     "text": [
      "\n",
      "Iteration: 192, Training with params: {'boosting_type': 'gbdt', 'colsample_bytree': 1.0, 'learning_rate': 0.1, 'min_child_samples': 80, 'n_estimators': 10000, 'n_jobs': -1, 'num_leaves': 48, 'objective': 'regression', 'subsample': 1.0, 'subsample_freq': 5}\n"
     ]
    },
    {
     "name": "stdout",
     "output_type": "stream",
     "text": [
      "[100]\tvalid_0's rmse: 0.920001\tvalid_0's l2: 0.846402\tvalid_1's rmse: 0.766824\tvalid_1's l2: 0.588019           \n",
      "[100]\tvalid_0's rmse: 0.84345\tvalid_0's l2: 0.711407\tvalid_1's rmse: 0.77024\tvalid_1's l2: 0.59327              \n",
      "[200]\tvalid_0's rmse: 0.839018\tvalid_0's l2: 0.703951\tvalid_1's rmse: 0.713166\tvalid_1's l2: 0.508606           \n",
      "[100]\tvalid_0's rmse: 0.88063\tvalid_0's l2: 0.775509\tvalid_1's rmse: 0.765825\tvalid_1's l2: 0.586488            \n",
      "[200]\tvalid_0's rmse: 0.887928\tvalid_0's l2: 0.788417\tvalid_1's rmse: 0.708686\tvalid_1's l2: 0.502236           \n",
      " 96%|█████████████████████████████████████▏ | 191/200 [06:41<00:14,  1.66s/trial, best loss: 0.8698473674122577]"
     ]
    },
    {
     "name": "stderr",
     "output_type": "stream",
     "text": [
      "Score - 0.8791889848654836, Std - 0.03322966171094552, Eval Score - 0.8791889848654836\n",
      "Score across folds - [0.9192980232903959, 0.8379268160046695, 0.8803421153013856].\n"
     ]
    },
    {
     "name": "stdout",
     "output_type": "stream",
     "text": [
      "\r\n",
      " 96%|█████████████████████████████████████▍ | 192/200 [06:41<00:13,  1.71s/trial, best loss: 0.8698473674122577]"
     ]
    },
    {
     "name": "stderr",
     "output_type": "stream",
     "text": [
      "\n",
      "Iteration: 193, Training with params: {'boosting_type': 'gbdt', 'colsample_bytree': 0.8, 'learning_rate': 0.1, 'min_child_samples': 0, 'n_estimators': 10000, 'n_jobs': -1, 'num_leaves': 32, 'objective': 'regression', 'subsample': 0.6000000000000001, 'subsample_freq': 10}\n"
     ]
    },
    {
     "name": "stdout",
     "output_type": "stream",
     "text": [
      "[100]\tvalid_0's rmse: 0.919924\tvalid_0's l2: 0.846261\tvalid_1's rmse: 0.788094\tvalid_1's l2: 0.621091           \n",
      "[200]\tvalid_0's rmse: 0.927183\tvalid_0's l2: 0.859669\tvalid_1's rmse: 0.724974\tvalid_1's l2: 0.525587           \n",
      "[100]\tvalid_0's rmse: 0.85901\tvalid_0's l2: 0.737899\tvalid_1's rmse: 0.790016\tvalid_1's l2: 0.624125            \n",
      "[200]\tvalid_0's rmse: 0.866458\tvalid_0's l2: 0.75075\tvalid_1's rmse: 0.727845\tvalid_1's l2: 0.529758            \n",
      "[100]\tvalid_0's rmse: 0.890813\tvalid_0's l2: 0.793548\tvalid_1's rmse: 0.788085\tvalid_1's l2: 0.621078           \n",
      " 96%|█████████████████████████████████████▍ | 192/200 [06:42<00:13,  1.71s/trial, best loss: 0.8698473674122577]"
     ]
    },
    {
     "name": "stderr",
     "output_type": "stream",
     "text": [
      "Score - 0.8881181172336411, Std - 0.02550169775253471, Eval Score - 0.8881181172336411\n",
      "Score across folds - [0.9181813470146971, 0.8558337766529208, 0.8903392280333056].\n"
     ]
    },
    {
     "name": "stdout",
     "output_type": "stream",
     "text": [
      "\r\n",
      " 96%|█████████████████████████████████████▋ | 193/200 [06:42<00:11,  1.62s/trial, best loss: 0.8698473674122577]"
     ]
    },
    {
     "name": "stderr",
     "output_type": "stream",
     "text": [
      "\n",
      "Iteration: 194, Training with params: {'boosting_type': 'gbdt', 'colsample_bytree': 0.6000000000000001, 'learning_rate': 0.1, 'min_child_samples': 120, 'n_estimators': 10000, 'n_jobs': -1, 'num_leaves': 80, 'objective': 'regression', 'subsample': 0.8, 'subsample_freq': 10}\n"
     ]
    },
    {
     "name": "stdout",
     "output_type": "stream",
     "text": [
      "[100]\tvalid_0's rmse: 0.918198\tvalid_0's l2: 0.843088\tvalid_1's rmse: 0.755051\tvalid_1's l2: 0.570102           \n",
      "[100]\tvalid_0's rmse: 0.85049\tvalid_0's l2: 0.723334\tvalid_1's rmse: 0.760596\tvalid_1's l2: 0.578506            \n",
      "[200]\tvalid_0's rmse: 0.843155\tvalid_0's l2: 0.710911\tvalid_1's rmse: 0.690895\tvalid_1's l2: 0.477337           \n",
      "[100]\tvalid_0's rmse: 0.874527\tvalid_0's l2: 0.764798\tvalid_1's rmse: 0.756709\tvalid_1's l2: 0.572609           \n",
      "[200]\tvalid_0's rmse: 0.877398\tvalid_0's l2: 0.769828\tvalid_1's rmse: 0.687214\tvalid_1's l2: 0.472264           \n",
      " 96%|█████████████████████████████████████▋ | 193/200 [06:45<00:11,  1.62s/trial, best loss: 0.8698473674122577]"
     ]
    },
    {
     "name": "stderr",
     "output_type": "stream",
     "text": [
      "Score - 0.876682518862819, Std - 0.030455254851810363, Eval Score - 0.876682518862819\n",
      "Score across folds - [0.9159660885376659, 0.8417474450614688, 0.8723340229893222].\n"
     ]
    },
    {
     "name": "stdout",
     "output_type": "stream",
     "text": [
      "\r\n",
      " 97%|█████████████████████████████████████▊ | 194/200 [06:45<00:12,  2.04s/trial, best loss: 0.8698473674122577]"
     ]
    },
    {
     "name": "stderr",
     "output_type": "stream",
     "text": [
      "\n",
      "Iteration: 195, Training with params: {'boosting_type': 'gbdt', 'colsample_bytree': 0.8, 'learning_rate': 0.1, 'min_child_samples': 80, 'n_estimators': 10000, 'n_jobs': -1, 'num_leaves': 16, 'objective': 'regression', 'subsample': 0.8, 'subsample_freq': 10}\n"
     ]
    },
    {
     "name": "stdout",
     "output_type": "stream",
     "text": [
      "[100]\tvalid_0's rmse: 0.913566\tvalid_0's l2: 0.834602\tvalid_1's rmse: 0.841531\tvalid_1's l2: 0.708174           \n",
      "[200]\tvalid_0's rmse: 0.911525\tvalid_0's l2: 0.830878\tvalid_1's rmse: 0.806649\tvalid_1's l2: 0.650683           \n",
      "[100]\tvalid_0's rmse: 0.855666\tvalid_0's l2: 0.732165\tvalid_1's rmse: 0.843738\tvalid_1's l2: 0.711895           \n",
      "[200]\tvalid_0's rmse: 0.842242\tvalid_0's l2: 0.709372\tvalid_1's rmse: 0.810529\tvalid_1's l2: 0.656958           \n",
      "[300]\tvalid_0's rmse: 0.839755\tvalid_0's l2: 0.705188\tvalid_1's rmse: 0.788406\tvalid_1's l2: 0.621584           \n",
      "[400]\tvalid_0's rmse: 0.839821\tvalid_0's l2: 0.7053\tvalid_1's rmse: 0.768662\tvalid_1's l2: 0.590841             \n",
      "[100]\tvalid_0's rmse: 0.878317\tvalid_0's l2: 0.771441\tvalid_1's rmse: 0.839751\tvalid_1's l2: 0.705181           \n",
      "[200]\tvalid_0's rmse: 0.869716\tvalid_0's l2: 0.756406\tvalid_1's rmse: 0.80572\tvalid_1's l2: 0.649184            \n",
      " 97%|█████████████████████████████████████▊ | 194/200 [06:46<00:12,  2.04s/trial, best loss: 0.8698473674122577]"
     ]
    },
    {
     "name": "stderr",
     "output_type": "stream",
     "text": [
      "Score - 0.8720563631194839, Std - 0.029529659718127276, Eval Score - 0.8720563631194839\n",
      "Score across folds - [0.9101604200793396, 0.8382035969213666, 0.8678050723577454].\n"
     ]
    },
    {
     "name": "stdout",
     "output_type": "stream",
     "text": [
      "\r\n",
      " 98%|██████████████████████████████████████ | 195/200 [06:47<00:09,  1.91s/trial, best loss: 0.8698473674122577]"
     ]
    },
    {
     "name": "stderr",
     "output_type": "stream",
     "text": [
      "\n",
      "Iteration: 196, Training with params: {'boosting_type': 'gbdt', 'colsample_bytree': 1.0, 'learning_rate': 0.1, 'min_child_samples': 120, 'n_estimators': 10000, 'n_jobs': -1, 'num_leaves': 16, 'objective': 'regression', 'subsample': 0.6000000000000001, 'subsample_freq': 10}\n"
     ]
    },
    {
     "name": "stdout",
     "output_type": "stream",
     "text": [
      "[100]\tvalid_0's rmse: 0.922116\tvalid_0's l2: 0.850298\tvalid_1's rmse: 0.844717\tvalid_1's l2: 0.713547           \n",
      "[200]\tvalid_0's rmse: 0.919776\tvalid_0's l2: 0.845987\tvalid_1's rmse: 0.813468\tvalid_1's l2: 0.661731           \n",
      "[300]\tvalid_0's rmse: 0.922509\tvalid_0's l2: 0.851022\tvalid_1's rmse: 0.792695\tvalid_1's l2: 0.628366           \n",
      "[100]\tvalid_0's rmse: 0.857675\tvalid_0's l2: 0.735607\tvalid_1's rmse: 0.848364\tvalid_1's l2: 0.719721           \n",
      "[200]\tvalid_0's rmse: 0.849013\tvalid_0's l2: 0.720823\tvalid_1's rmse: 0.817999\tvalid_1's l2: 0.669123           \n",
      "[300]\tvalid_0's rmse: 0.847227\tvalid_0's l2: 0.717794\tvalid_1's rmse: 0.798458\tvalid_1's l2: 0.637535           \n",
      "[100]\tvalid_0's rmse: 0.885657\tvalid_0's l2: 0.784389\tvalid_1's rmse: 0.842081\tvalid_1's l2: 0.7091             \n",
      "[200]\tvalid_0's rmse: 0.87615\tvalid_0's l2: 0.767639\tvalid_1's rmse: 0.811502\tvalid_1's l2: 0.658536            \n",
      " 98%|██████████████████████████████████████ | 195/200 [06:48<00:09,  1.91s/trial, best loss: 0.8698473674122577]"
     ]
    },
    {
     "name": "stderr",
     "output_type": "stream",
     "text": [
      "Score - 0.8794716023400274, Std - 0.02956641032284829, Eval Score - 0.8794716023400274\n",
      "Score across folds - [0.9173202410098356, 0.8451567228398703, 0.8759378431703766].\n"
     ]
    },
    {
     "name": "stdout",
     "output_type": "stream",
     "text": [
      "\r\n",
      " 98%|██████████████████████████████████████▏| 196/200 [06:48<00:07,  1.84s/trial, best loss: 0.8698473674122577]"
     ]
    },
    {
     "name": "stderr",
     "output_type": "stream",
     "text": [
      "\n",
      "Iteration: 197, Training with params: {'boosting_type': 'gbdt', 'colsample_bytree': 0.8, 'learning_rate': 0.1, 'min_child_samples': 80, 'n_estimators': 10000, 'n_jobs': -1, 'num_leaves': 32, 'objective': 'regression', 'subsample': 1.0, 'subsample_freq': 10}\n"
     ]
    },
    {
     "name": "stdout",
     "output_type": "stream",
     "text": [
      "[100]\tvalid_0's rmse: 0.914277\tvalid_0's l2: 0.835903\tvalid_1's rmse: 0.799801\tvalid_1's l2: 0.639682           \n",
      "[200]\tvalid_0's rmse: 0.917697\tvalid_0's l2: 0.842167\tvalid_1's rmse: 0.75274\tvalid_1's l2: 0.566618            \n",
      "[100]\tvalid_0's rmse: 0.843538\tvalid_0's l2: 0.711556\tvalid_1's rmse: 0.802455\tvalid_1's l2: 0.643934           \n",
      "[200]\tvalid_0's rmse: 0.835141\tvalid_0's l2: 0.69746\tvalid_1's rmse: 0.75752\tvalid_1's l2: 0.573836             \n",
      "[300]\tvalid_0's rmse: 0.837092\tvalid_0's l2: 0.700722\tvalid_1's rmse: 0.724602\tvalid_1's l2: 0.525048           \n",
      "[100]\tvalid_0's rmse: 0.879149\tvalid_0's l2: 0.772903\tvalid_1's rmse: 0.797575\tvalid_1's l2: 0.636126           \n",
      "[200]\tvalid_0's rmse: 0.879891\tvalid_0's l2: 0.774209\tvalid_1's rmse: 0.753057\tvalid_1's l2: 0.567094           \n",
      " 98%|██████████████████████████████████████▏| 196/200 [06:50<00:07,  1.84s/trial, best loss: 0.8698473674122577]"
     ]
    },
    {
     "name": "stderr",
     "output_type": "stream",
     "text": [
      "Score - 0.8750086355193066, Std - 0.03191762064310606, Eval Score - 0.8750086355193066\n",
      "Score across folds - [0.9129285177192416, 0.8348434200345749, 0.8772539688041033].\n"
     ]
    },
    {
     "name": "stdout",
     "output_type": "stream",
     "text": [
      "\r\n",
      " 98%|██████████████████████████████████████▍| 197/200 [06:50<00:05,  1.81s/trial, best loss: 0.8698473674122577]"
     ]
    },
    {
     "name": "stderr",
     "output_type": "stream",
     "text": [
      "\n",
      "Iteration: 198, Training with params: {'boosting_type': 'gbdt', 'colsample_bytree': 0.8, 'learning_rate': 0.1, 'min_child_samples': 40, 'n_estimators': 10000, 'n_jobs': -1, 'num_leaves': 48, 'objective': 'regression', 'subsample': 0.8, 'subsample_freq': 5}\n"
     ]
    },
    {
     "name": "stdout",
     "output_type": "stream",
     "text": [
      "[100]\tvalid_0's rmse: 0.917998\tvalid_0's l2: 0.84272\tvalid_1's rmse: 0.761302\tvalid_1's l2: 0.579581            \n",
      "[100]\tvalid_0's rmse: 0.835908\tvalid_0's l2: 0.698743\tvalid_1's rmse: 0.765374\tvalid_1's l2: 0.585798           \n",
      "[200]\tvalid_0's rmse: 0.835986\tvalid_0's l2: 0.698872\tvalid_1's rmse: 0.698748\tvalid_1's l2: 0.488249           \n",
      "[100]\tvalid_0's rmse: 0.881795\tvalid_0's l2: 0.777563\tvalid_1's rmse: 0.760665\tvalid_1's l2: 0.578611           \n",
      " 98%|██████████████████████████████████████▍| 197/200 [06:52<00:05,  1.81s/trial, best loss: 0.8698473674122577]"
     ]
    },
    {
     "name": "stderr",
     "output_type": "stream",
     "text": [
      "Score - 0.8759836594124538, Std - 0.032403362162456914, Eval Score - 0.8759836594124538\n",
      "Score across folds - [0.9139753945136012, 0.8347968507563254, 0.8791787329674352].\n"
     ]
    },
    {
     "name": "stdout",
     "output_type": "stream",
     "text": [
      "\r\n",
      " 99%|██████████████████████████████████████▌| 198/200 [06:52<00:03,  1.83s/trial, best loss: 0.8698473674122577]"
     ]
    },
    {
     "name": "stderr",
     "output_type": "stream",
     "text": [
      "\n",
      "Iteration: 199, Training with params: {'boosting_type': 'gbdt', 'colsample_bytree': 1.0, 'learning_rate': 0.1, 'min_child_samples': 0, 'n_estimators': 10000, 'n_jobs': -1, 'num_leaves': 16, 'objective': 'regression', 'subsample': 0.8, 'subsample_freq': 10}\n"
     ]
    },
    {
     "name": "stdout",
     "output_type": "stream",
     "text": [
      "[100]\tvalid_0's rmse: 0.923433\tvalid_0's l2: 0.852729\tvalid_1's rmse: 0.838727\tvalid_1's l2: 0.703463           \n",
      "[200]\tvalid_0's rmse: 0.91828\tvalid_0's l2: 0.843238\tvalid_1's rmse: 0.792308\tvalid_1's l2: 0.627751            \n",
      "[100]\tvalid_0's rmse: 0.860698\tvalid_0's l2: 0.740801\tvalid_1's rmse: 0.841009\tvalid_1's l2: 0.707297           \n",
      "[200]\tvalid_0's rmse: 0.849622\tvalid_0's l2: 0.721857\tvalid_1's rmse: 0.796844\tvalid_1's l2: 0.634961           \n",
      "[300]\tvalid_0's rmse: 0.852596\tvalid_0's l2: 0.726919\tvalid_1's rmse: 0.763357\tvalid_1's l2: 0.582714           \n",
      "[100]\tvalid_0's rmse: 0.884483\tvalid_0's l2: 0.782311\tvalid_1's rmse: 0.834453\tvalid_1's l2: 0.696312           \n",
      "[200]\tvalid_0's rmse: 0.877983\tvalid_0's l2: 0.770854\tvalid_1's rmse: 0.79048\tvalid_1's l2: 0.624859            \n",
      " 99%|██████████████████████████████████████▌| 198/200 [06:53<00:03,  1.83s/trial, best loss: 0.8698473674122577]"
     ]
    },
    {
     "name": "stderr",
     "output_type": "stream",
     "text": [
      "Score - 0.8797974135561333, Std - 0.028679937458569785, Eval Score - 0.8797974135561333\n",
      "Score across folds - [0.9162003521679453, 0.8461063424393447, 0.87708554606111].\n"
     ]
    },
    {
     "name": "stdout",
     "output_type": "stream",
     "text": [
      "\r\n",
      "100%|██████████████████████████████████████▊| 199/200 [06:53<00:01,  1.69s/trial, best loss: 0.8698473674122577]"
     ]
    },
    {
     "name": "stderr",
     "output_type": "stream",
     "text": [
      "\n",
      "Iteration: 200, Training with params: {'boosting_type': 'gbdt', 'colsample_bytree': 0.8, 'learning_rate': 0.1, 'min_child_samples': 0, 'n_estimators': 10000, 'n_jobs': -1, 'num_leaves': 32, 'objective': 'regression', 'subsample': 0.6000000000000001, 'subsample_freq': 10}\n"
     ]
    },
    {
     "name": "stdout",
     "output_type": "stream",
     "text": [
      "[100]\tvalid_0's rmse: 0.919924\tvalid_0's l2: 0.846261\tvalid_1's rmse: 0.788094\tvalid_1's l2: 0.621091           \n",
      "[200]\tvalid_0's rmse: 0.927183\tvalid_0's l2: 0.859669\tvalid_1's rmse: 0.724974\tvalid_1's l2: 0.525587           \n",
      "[100]\tvalid_0's rmse: 0.85901\tvalid_0's l2: 0.737899\tvalid_1's rmse: 0.790016\tvalid_1's l2: 0.624125            \n",
      "[200]\tvalid_0's rmse: 0.866458\tvalid_0's l2: 0.75075\tvalid_1's rmse: 0.727845\tvalid_1's l2: 0.529758            \n",
      "[100]\tvalid_0's rmse: 0.890813\tvalid_0's l2: 0.793548\tvalid_1's rmse: 0.788085\tvalid_1's l2: 0.621078           \n",
      "100%|██████████████████████████████████████▊| 199/200 [06:54<00:01,  1.69s/trial, best loss: 0.8698473674122577]"
     ]
    },
    {
     "name": "stderr",
     "output_type": "stream",
     "text": [
      "Score - 0.8881181172336411, Std - 0.02550169775253471, Eval Score - 0.8881181172336411\n",
      "Score across folds - [0.9181813470146971, 0.8558337766529208, 0.8903392280333056].\n"
     ]
    },
    {
     "name": "stdout",
     "output_type": "stream",
     "text": [
      "100%|███████████████████████████████████████| 200/200 [06:55<00:00,  2.08s/trial, best loss: 0.8698473674122577]\n"
     ]
    },
    {
     "name": "stderr",
     "output_type": "stream",
     "text": [
      "Best Score- 0.8698473674122577, Best Params- {'boosting_type': 'gbdt', 'colsample_bytree': 0.8, 'learning_rate': 0.1, 'min_child_samples': 120, 'n_estimators': 10000, 'n_jobs': -1, 'num_leaves': 16, 'objective': 'regression', 'subsample': 0.8, 'subsample_freq': 10}\n"
     ]
    },
    {
     "data": {
      "text/plain": [
       "<hyperopt_model_selection.HyperOptModelSelection at 0x7ff904a163a0>"
      ]
     },
     "execution_count": 36,
     "metadata": {},
     "output_type": "execute_result"
    }
   ],
   "source": [
    "hyp.fit(df[use_cols].values,target)"
   ]
  },
  {
   "cell_type": "code",
   "execution_count": 39,
   "id": "60bb75f7",
   "metadata": {
    "scrolled": true
   },
   "outputs": [
    {
     "data": {
      "text/plain": [
       "0.8698473674122577"
      ]
     },
     "execution_count": 39,
     "metadata": {},
     "output_type": "execute_result"
    }
   ],
   "source": [
    "hyp.best_score"
   ]
  },
  {
   "cell_type": "code",
   "execution_count": 38,
   "id": "59534520",
   "metadata": {},
   "outputs": [
    {
     "data": {
      "text/plain": [
       "{'boosting_type': 'gbdt',\n",
       " 'colsample_bytree': 0.8,\n",
       " 'learning_rate': 0.1,\n",
       " 'min_child_samples': 120,\n",
       " 'n_estimators': 10000,\n",
       " 'n_jobs': -1,\n",
       " 'num_leaves': 16,\n",
       " 'objective': 'regression',\n",
       " 'subsample': 0.8,\n",
       " 'subsample_freq': 10}"
      ]
     },
     "execution_count": 38,
     "metadata": {},
     "output_type": "execute_result"
    }
   ],
   "source": [
    "hyp.best_params"
   ]
  },
  {
   "cell_type": "code",
   "execution_count": 32,
   "id": "4ec3b0b6",
   "metadata": {},
   "outputs": [],
   "source": [
    "params = {'boosting_type': 'gbdt',\n",
    " 'colsample_bytree': 0.8,\n",
    " 'learning_rate': 0.1,\n",
    " 'min_child_samples': 120,\n",
    " 'n_estimators': 10000,\n",
    " 'n_jobs': -1,\n",
    " 'num_leaves': 16,\n",
    " 'objective': 'regression',\n",
    " 'subsample': 0.8,\n",
    " 'subsample_freq': 10}"
   ]
  },
  {
   "cell_type": "code",
   "execution_count": 33,
   "id": "992fcdf0",
   "metadata": {},
   "outputs": [],
   "source": [
    "est = Estimator(model=LGBMRegressor(**params),\n",
    "               early_stopping_rounds=100,\n",
    "               validation_scheme=folds,\n",
    "               shuffle=True)"
   ]
  },
  {
   "cell_type": "code",
   "execution_count": 34,
   "id": "ddc95c56",
   "metadata": {},
   "outputs": [
    {
     "name": "stdout",
     "output_type": "stream",
     "text": [
      "[100]\tvalid_0's rmse: 0.914168\tvalid_0's l2: 0.835704\tvalid_1's rmse: 0.843009\tvalid_1's l2: 0.710664\n",
      "[200]\tvalid_0's rmse: 0.908511\tvalid_0's l2: 0.825393\tvalid_1's rmse: 0.809206\tvalid_1's l2: 0.654814\n",
      "[100]\tvalid_0's rmse: 0.853658\tvalid_0's l2: 0.728732\tvalid_1's rmse: 0.846263\tvalid_1's l2: 0.716161\n",
      "[200]\tvalid_0's rmse: 0.839929\tvalid_0's l2: 0.705481\tvalid_1's rmse: 0.814364\tvalid_1's l2: 0.663189\n",
      "[300]\tvalid_0's rmse: 0.837983\tvalid_0's l2: 0.702215\tvalid_1's rmse: 0.792927\tvalid_1's l2: 0.628733\n",
      "[400]\tvalid_0's rmse: 0.838102\tvalid_0's l2: 0.702415\tvalid_1's rmse: 0.775455\tvalid_1's l2: 0.601331\n",
      "[500]\tvalid_0's rmse: 0.836193\tvalid_0's l2: 0.699219\tvalid_1's rmse: 0.760439\tvalid_1's l2: 0.578268\n",
      "[100]\tvalid_0's rmse: 0.876885\tvalid_0's l2: 0.768927\tvalid_1's rmse: 0.841758\tvalid_1's l2: 0.708557\n",
      "[200]\tvalid_0's rmse: 0.869526\tvalid_0's l2: 0.756075\tvalid_1's rmse: 0.810279\tvalid_1's l2: 0.656552\n",
      "[300]\tvalid_0's rmse: 0.869456\tvalid_0's l2: 0.755954\tvalid_1's rmse: 0.789334\tvalid_1's l2: 0.623049\n"
     ]
    },
    {
     "data": {
      "text/plain": [
       "{'cv_scores': [0.9071500971013023, 0.8344067083302084, 0.8679852968052623],\n",
       " 'avg_cv_score': 0.8698473674122577,\n",
       " 'std_scores': 0.029726538453988753,\n",
       " 'overall_cv_score': 1.7151318898632641,\n",
       " 'eval_score': 0.8698473674122577}"
      ]
     },
     "execution_count": 34,
     "metadata": {},
     "output_type": "execute_result"
    }
   ],
   "source": [
    "est.get_repeated_out_of_folds(df[use_cols].values,target)"
   ]
  },
  {
   "cell_type": "code",
   "execution_count": 35,
   "id": "2730605e",
   "metadata": {},
   "outputs": [
    {
     "data": {
      "text/html": [
       "<div>\n",
       "<style scoped>\n",
       "    .dataframe tbody tr th:only-of-type {\n",
       "        vertical-align: middle;\n",
       "    }\n",
       "\n",
       "    .dataframe tbody tr th {\n",
       "        vertical-align: top;\n",
       "    }\n",
       "\n",
       "    .dataframe thead th {\n",
       "        text-align: right;\n",
       "    }\n",
       "</style>\n",
       "<table border=\"1\" class=\"dataframe\">\n",
       "  <thead>\n",
       "    <tr style=\"text-align: right;\">\n",
       "      <th></th>\n",
       "      <th>column</th>\n",
       "      <th>feature_importance</th>\n",
       "      <th>rank</th>\n",
       "    </tr>\n",
       "  </thead>\n",
       "  <tbody>\n",
       "    <tr>\n",
       "      <th>15</th>\n",
       "      <td>category_fe</td>\n",
       "      <td>0.248431</td>\n",
       "      <td>1</td>\n",
       "    </tr>\n",
       "    <tr>\n",
       "      <th>1</th>\n",
       "      <td>created_on</td>\n",
       "      <td>0.120522</td>\n",
       "      <td>2</td>\n",
       "    </tr>\n",
       "    <tr>\n",
       "      <th>13</th>\n",
       "      <td>area_fe</td>\n",
       "      <td>0.106391</td>\n",
       "      <td>3</td>\n",
       "    </tr>\n",
       "    <tr>\n",
       "      <th>6</th>\n",
       "      <td>max_salary</td>\n",
       "      <td>0.099480</td>\n",
       "      <td>4</td>\n",
       "    </tr>\n",
       "    <tr>\n",
       "      <th>5</th>\n",
       "      <td>num_openings</td>\n",
       "      <td>0.077119</td>\n",
       "      <td>5</td>\n",
       "    </tr>\n",
       "    <tr>\n",
       "      <th>12</th>\n",
       "      <td>city_fe</td>\n",
       "      <td>0.075778</td>\n",
       "      <td>6</td>\n",
       "    </tr>\n",
       "    <tr>\n",
       "      <th>14</th>\n",
       "      <td>organization_fe</td>\n",
       "      <td>0.071898</td>\n",
       "      <td>7</td>\n",
       "    </tr>\n",
       "    <tr>\n",
       "      <th>0</th>\n",
       "      <td>education</td>\n",
       "      <td>0.055225</td>\n",
       "      <td>8</td>\n",
       "    </tr>\n",
       "    <tr>\n",
       "      <th>4</th>\n",
       "      <td>english</td>\n",
       "      <td>0.037100</td>\n",
       "      <td>9</td>\n",
       "    </tr>\n",
       "    <tr>\n",
       "      <th>10</th>\n",
       "      <td>dow_fe</td>\n",
       "      <td>0.035274</td>\n",
       "      <td>10</td>\n",
       "    </tr>\n",
       "    <tr>\n",
       "      <th>11</th>\n",
       "      <td>employer_type_fe</td>\n",
       "      <td>0.025490</td>\n",
       "      <td>11</td>\n",
       "    </tr>\n",
       "    <tr>\n",
       "      <th>7</th>\n",
       "      <td>min_salary</td>\n",
       "      <td>0.021778</td>\n",
       "      <td>12</td>\n",
       "    </tr>\n",
       "    <tr>\n",
       "      <th>2</th>\n",
       "      <td>applicant_location</td>\n",
       "      <td>0.011505</td>\n",
       "      <td>13</td>\n",
       "    </tr>\n",
       "    <tr>\n",
       "      <th>9</th>\n",
       "      <td>gender_fe</td>\n",
       "      <td>0.008985</td>\n",
       "      <td>14</td>\n",
       "    </tr>\n",
       "    <tr>\n",
       "      <th>16</th>\n",
       "      <td>is_part_time_fe</td>\n",
       "      <td>0.003875</td>\n",
       "      <td>15</td>\n",
       "    </tr>\n",
       "    <tr>\n",
       "      <th>8</th>\n",
       "      <td>shift_fe</td>\n",
       "      <td>0.001149</td>\n",
       "      <td>16</td>\n",
       "    </tr>\n",
       "    <tr>\n",
       "      <th>3</th>\n",
       "      <td>deposit</td>\n",
       "      <td>0.000000</td>\n",
       "      <td>17</td>\n",
       "    </tr>\n",
       "  </tbody>\n",
       "</table>\n",
       "</div>"
      ],
      "text/plain": [
       "                column  feature_importance  rank\n",
       "15         category_fe            0.248431     1\n",
       "1           created_on            0.120522     2\n",
       "13             area_fe            0.106391     3\n",
       "6           max_salary            0.099480     4\n",
       "5         num_openings            0.077119     5\n",
       "12             city_fe            0.075778     6\n",
       "14     organization_fe            0.071898     7\n",
       "0            education            0.055225     8\n",
       "4              english            0.037100     9\n",
       "10              dow_fe            0.035274    10\n",
       "11    employer_type_fe            0.025490    11\n",
       "7           min_salary            0.021778    12\n",
       "2   applicant_location            0.011505    13\n",
       "9            gender_fe            0.008985    14\n",
       "16     is_part_time_fe            0.003875    15\n",
       "8             shift_fe            0.001149    16\n",
       "3              deposit            0.000000    17"
      ]
     },
     "execution_count": 35,
     "metadata": {},
     "output_type": "execute_result"
    }
   ],
   "source": [
    "est.feature_importances(columns = use_cols) "
   ]
  },
  {
   "cell_type": "markdown",
   "id": "f1d4cebd",
   "metadata": {},
   "source": [
    "### By removing min_salary"
   ]
  },
  {
   "cell_type": "code",
   "execution_count": 36,
   "id": "6d5d39e1",
   "metadata": {},
   "outputs": [
    {
     "name": "stdout",
     "output_type": "stream",
     "text": [
      "[100]\tvalid_0's rmse: 0.915209\tvalid_0's l2: 0.837607\tvalid_1's rmse: 0.845162\tvalid_1's l2: 0.714299\n",
      "[200]\tvalid_0's rmse: 0.911739\tvalid_0's l2: 0.831268\tvalid_1's rmse: 0.812015\tvalid_1's l2: 0.659369\n",
      "[100]\tvalid_0's rmse: 0.853827\tvalid_0's l2: 0.72902\tvalid_1's rmse: 0.846913\tvalid_1's l2: 0.717261\n",
      "[200]\tvalid_0's rmse: 0.842275\tvalid_0's l2: 0.709427\tvalid_1's rmse: 0.814045\tvalid_1's l2: 0.66267\n",
      "[300]\tvalid_0's rmse: 0.838843\tvalid_0's l2: 0.703658\tvalid_1's rmse: 0.792974\tvalid_1's l2: 0.628808\n",
      "[400]\tvalid_0's rmse: 0.837704\tvalid_0's l2: 0.701749\tvalid_1's rmse: 0.775878\tvalid_1's l2: 0.601986\n",
      "[500]\tvalid_0's rmse: 0.839751\tvalid_0's l2: 0.705182\tvalid_1's rmse: 0.761004\tvalid_1's l2: 0.579128\n",
      "[100]\tvalid_0's rmse: 0.881077\tvalid_0's l2: 0.776297\tvalid_1's rmse: 0.841988\tvalid_1's l2: 0.708944\n",
      "[200]\tvalid_0's rmse: 0.873657\tvalid_0's l2: 0.763277\tvalid_1's rmse: 0.810789\tvalid_1's l2: 0.657378\n",
      "[300]\tvalid_0's rmse: 0.872321\tvalid_0's l2: 0.760944\tvalid_1's rmse: 0.790323\tvalid_1's l2: 0.624611\n",
      "[400]\tvalid_0's rmse: 0.874633\tvalid_0's l2: 0.764983\tvalid_1's rmse: 0.772721\tvalid_1's l2: 0.597097\n"
     ]
    },
    {
     "data": {
      "text/plain": [
       "{'cv_scores': [0.9109900956793893, 0.8360889157250501, 0.8711817855854685],\n",
       " 'avg_cv_score': 0.8727535989966361,\n",
       " 'std_scores': 0.030598470960574928,\n",
       " 'overall_cv_score': 1.7155759830749333,\n",
       " 'eval_score': 0.8727535989966361}"
      ]
     },
     "execution_count": 36,
     "metadata": {},
     "output_type": "execute_result"
    }
   ],
   "source": [
    "est.get_repeated_out_of_folds(df[[i for i in use_cols if i not in ['min_salary']]].values,target)"
   ]
  },
  {
   "cell_type": "markdown",
   "id": "5771ea25",
   "metadata": {},
   "source": [
    "### Performance degrades with removing min salary"
   ]
  }
 ],
 "metadata": {
  "kernelspec": {
   "display_name": "Python 3 (ipykernel)",
   "language": "python",
   "name": "python3"
  },
  "language_info": {
   "codemirror_mode": {
    "name": "ipython",
    "version": 3
   },
   "file_extension": ".py",
   "mimetype": "text/x-python",
   "name": "python",
   "nbconvert_exporter": "python",
   "pygments_lexer": "ipython3",
   "version": "3.9.7"
  }
 },
 "nbformat": 4,
 "nbformat_minor": 5
}
