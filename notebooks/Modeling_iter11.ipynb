{
 "cells": [
  {
   "cell_type": "code",
   "execution_count": 1,
   "id": "01275724",
   "metadata": {},
   "outputs": [],
   "source": [
    "%load_ext autoreload\n",
    "%autoreload 2"
   ]
  },
  {
   "cell_type": "code",
   "execution_count": 2,
   "id": "3e472834",
   "metadata": {},
   "outputs": [],
   "source": [
    "import pandas as pd\n",
    "import numpy as np\n",
    "import os\n",
    "import warnings\n",
    "import sys\n",
    "import matplotlib.pyplot as plt"
   ]
  },
  {
   "cell_type": "code",
   "execution_count": 3,
   "id": "4cfbe560",
   "metadata": {},
   "outputs": [],
   "source": [
    "sys.path.append('/home/mondzi259/Apna_Assignment/src/ml_auto/')"
   ]
  },
  {
   "cell_type": "code",
   "execution_count": 4,
   "id": "59a39e95",
   "metadata": {},
   "outputs": [],
   "source": [
    "from custom_estimator import Estimator, scoring_metric\n",
    "from encoding import FreqeuncyEncoding,TargetEncoding\n",
    "from hyperopt_model_selection import HyperOptModelSelection,hp\n",
    "from custom_fold_generator import KFold,GroupKFold,CustomFolds\n",
    "from lightgbm import LGBMRegressor"
   ]
  },
  {
   "cell_type": "code",
   "execution_count": 5,
   "id": "f5ca01ff",
   "metadata": {},
   "outputs": [],
   "source": [
    "warnings.filterwarnings('ignore')"
   ]
  },
  {
   "cell_type": "code",
   "execution_count": 6,
   "id": "08888383",
   "metadata": {},
   "outputs": [],
   "source": [
    "pd.set_option('display.max_rows', 500)\n",
    "pd.set_option('display.max_columns', 500)\n",
    "pd.set_option('display.width', 1000)"
   ]
  },
  {
   "cell_type": "code",
   "execution_count": 7,
   "id": "8b0a8df1",
   "metadata": {},
   "outputs": [],
   "source": [
    "DATA_DIR = '/home/mondzi259/Apna_Assignment/data/'"
   ]
  },
  {
   "cell_type": "code",
   "execution_count": 8,
   "id": "143fd148",
   "metadata": {},
   "outputs": [
    {
     "data": {
      "text/plain": [
       "(30000, 19)"
      ]
     },
     "execution_count": 8,
     "metadata": {},
     "output_type": "execute_result"
    }
   ],
   "source": [
    "df = pd.read_excel(os.path.join(DATA_DIR,'data.xlsx'),sheet_name=0)\n",
    "df.shape"
   ]
  },
  {
   "cell_type": "code",
   "execution_count": 9,
   "id": "7a0873a6",
   "metadata": {},
   "outputs": [],
   "source": [
    "df.drop('feebackgiven',axis=1,inplace=True)"
   ]
  },
  {
   "cell_type": "code",
   "execution_count": 10,
   "id": "15325889",
   "metadata": {},
   "outputs": [],
   "source": [
    "data_dic = pd.read_excel(os.path.join(DATA_DIR,'data.xlsx'),sheet_name=1,header=None)"
   ]
  },
  {
   "cell_type": "code",
   "execution_count": 11,
   "id": "47c008f6",
   "metadata": {},
   "outputs": [
    {
     "data": {
      "text/html": [
       "<div>\n",
       "<style scoped>\n",
       "    .dataframe tbody tr th:only-of-type {\n",
       "        vertical-align: middle;\n",
       "    }\n",
       "\n",
       "    .dataframe tbody tr th {\n",
       "        vertical-align: top;\n",
       "    }\n",
       "\n",
       "    .dataframe thead th {\n",
       "        text-align: right;\n",
       "    }\n",
       "</style>\n",
       "<table border=\"1\" class=\"dataframe\">\n",
       "  <thead>\n",
       "    <tr style=\"text-align: right;\">\n",
       "      <th></th>\n",
       "      <th>0</th>\n",
       "      <th>1</th>\n",
       "      <th>2</th>\n",
       "      <th>3</th>\n",
       "    </tr>\n",
       "  </thead>\n",
       "  <tbody>\n",
       "    <tr>\n",
       "      <th>0</th>\n",
       "      <td>lead</td>\n",
       "      <td>A candidate who has interacted with HR on the ...</td>\n",
       "      <td>NaN</td>\n",
       "      <td>NaN</td>\n",
       "    </tr>\n",
       "    <tr>\n",
       "      <th>1</th>\n",
       "      <td>shift</td>\n",
       "      <td>night/ day</td>\n",
       "      <td>0 - day, 1 - night</td>\n",
       "      <td>NaN</td>\n",
       "    </tr>\n",
       "    <tr>\n",
       "      <th>2</th>\n",
       "      <td>gender</td>\n",
       "      <td>f/m/all</td>\n",
       "      <td>0 -  male jobs, 1 - female , 2 - all</td>\n",
       "      <td>NaN</td>\n",
       "    </tr>\n",
       "    <tr>\n",
       "      <th>3</th>\n",
       "      <td>education</td>\n",
       "      <td>10th to PG</td>\n",
       "      <td>ordinally placed, 10th being lowest and PG the...</td>\n",
       "      <td>NaN</td>\n",
       "    </tr>\n",
       "    <tr>\n",
       "      <th>4</th>\n",
       "      <td>created_on</td>\n",
       "      <td>job created date</td>\n",
       "      <td>Days since a fixed reference data</td>\n",
       "      <td>For ex: if reference data was 1 Jan 2020,\\njob...</td>\n",
       "    </tr>\n",
       "    <tr>\n",
       "      <th>5</th>\n",
       "      <td>employer_type</td>\n",
       "      <td>key-account/ smb/ enterprise/ consultant/ NA</td>\n",
       "      <td>most jobs are smb, followed by Key accounts, e...</td>\n",
       "      <td>NaN</td>\n",
       "    </tr>\n",
       "    <tr>\n",
       "      <th>6</th>\n",
       "      <td>applicant_location</td>\n",
       "      <td>candidate distance from job</td>\n",
       "      <td>lower the value, lower the distance requirement</td>\n",
       "      <td>NaN</td>\n",
       "    </tr>\n",
       "    <tr>\n",
       "      <th>7</th>\n",
       "      <td>city</td>\n",
       "      <td>city</td>\n",
       "      <td>is masked</td>\n",
       "      <td>NaN</td>\n",
       "    </tr>\n",
       "    <tr>\n",
       "      <th>8</th>\n",
       "      <td>area</td>\n",
       "      <td>area</td>\n",
       "      <td>is masked</td>\n",
       "      <td>NaN</td>\n",
       "    </tr>\n",
       "    <tr>\n",
       "      <th>9</th>\n",
       "      <td>organization</td>\n",
       "      <td>company name</td>\n",
       "      <td>is masked</td>\n",
       "      <td>NaN</td>\n",
       "    </tr>\n",
       "    <tr>\n",
       "      <th>10</th>\n",
       "      <td>deposit</td>\n",
       "      <td>requires a deposit</td>\n",
       "      <td>majority don't require a deposit</td>\n",
       "      <td>actual amounts are masked</td>\n",
       "    </tr>\n",
       "    <tr>\n",
       "      <th>11</th>\n",
       "      <td>category</td>\n",
       "      <td>delivery/driver/...</td>\n",
       "      <td>is masked</td>\n",
       "      <td>NaN</td>\n",
       "    </tr>\n",
       "    <tr>\n",
       "      <th>12</th>\n",
       "      <td>english</td>\n",
       "      <td>no/broken-english/good-english/fluent</td>\n",
       "      <td>higher the value, higher the quality of englis...</td>\n",
       "      <td>NaN</td>\n",
       "    </tr>\n",
       "    <tr>\n",
       "      <th>13</th>\n",
       "      <td>num_openings</td>\n",
       "      <td>no of people to recruit</td>\n",
       "      <td>NaN</td>\n",
       "      <td>NaN</td>\n",
       "    </tr>\n",
       "    <tr>\n",
       "      <th>14</th>\n",
       "      <td>max_salary</td>\n",
       "      <td>salary</td>\n",
       "      <td>as is</td>\n",
       "      <td>NaN</td>\n",
       "    </tr>\n",
       "    <tr>\n",
       "      <th>15</th>\n",
       "      <td>is_part_time</td>\n",
       "      <td>yes/no</td>\n",
       "      <td>majority are full time jobs</td>\n",
       "      <td>NaN</td>\n",
       "    </tr>\n",
       "    <tr>\n",
       "      <th>16</th>\n",
       "      <td>feedbackgiven</td>\n",
       "      <td>yes/no</td>\n",
       "      <td>majority don't have feedbackgiven</td>\n",
       "      <td>NaN</td>\n",
       "    </tr>\n",
       "    <tr>\n",
       "      <th>17</th>\n",
       "      <td>leads_per_opening</td>\n",
       "      <td>NaN</td>\n",
       "      <td>leads/ num_openings for the job</td>\n",
       "      <td>NaN</td>\n",
       "    </tr>\n",
       "    <tr>\n",
       "      <th>18</th>\n",
       "      <td>dow</td>\n",
       "      <td>day of the week</td>\n",
       "      <td>NaN</td>\n",
       "      <td>NaN</td>\n",
       "    </tr>\n",
       "  </tbody>\n",
       "</table>\n",
       "</div>"
      ],
      "text/plain": [
       "                     0                                                  1                                                  2                                                  3\n",
       "0                 lead  A candidate who has interacted with HR on the ...                                                NaN                                                NaN\n",
       "1                shift                                         night/ day                                0 - day, 1 - night                                                 NaN\n",
       "2               gender                                            f/m/all               0 -  male jobs, 1 - female , 2 - all                                                NaN\n",
       "3            education                                        10th to PG   ordinally placed, 10th being lowest and PG the...                                                NaN\n",
       "4           created_on                                   job created date                  Days since a fixed reference data  For ex: if reference data was 1 Jan 2020,\\njob...\n",
       "5        employer_type       key-account/ smb/ enterprise/ consultant/ NA  most jobs are smb, followed by Key accounts, e...                                                NaN\n",
       "6   applicant_location                        candidate distance from job    lower the value, lower the distance requirement                                                NaN\n",
       "7                 city                                               city                                          is masked                                                NaN\n",
       "8                 area                                               area                                          is masked                                                NaN\n",
       "9         organization                                       company name                                          is masked                                                NaN\n",
       "10             deposit                                 requires a deposit                   majority don't require a deposit                          actual amounts are masked\n",
       "11            category                                delivery/driver/...                                          is masked                                                NaN\n",
       "12             english              no/broken-english/good-english/fluent  higher the value, higher the quality of englis...                                                NaN\n",
       "13        num_openings                            no of people to recruit                                                NaN                                                NaN\n",
       "14          max_salary                                             salary                                              as is                                                NaN\n",
       "15        is_part_time                                             yes/no                        majority are full time jobs                                                NaN\n",
       "16       feedbackgiven                                             yes/no                  majority don't have feedbackgiven                                                NaN\n",
       "17   leads_per_opening                                                NaN                    leads/ num_openings for the job                                                NaN\n",
       "18                 dow                                    day of the week                                                NaN                                                NaN"
      ]
     },
     "execution_count": 11,
     "metadata": {},
     "output_type": "execute_result"
    }
   ],
   "source": [
    "data_dic"
   ]
  },
  {
   "cell_type": "code",
   "execution_count": 12,
   "id": "97977313",
   "metadata": {},
   "outputs": [
    {
     "data": {
      "text/html": [
       "<div>\n",
       "<style scoped>\n",
       "    .dataframe tbody tr th:only-of-type {\n",
       "        vertical-align: middle;\n",
       "    }\n",
       "\n",
       "    .dataframe tbody tr th {\n",
       "        vertical-align: top;\n",
       "    }\n",
       "\n",
       "    .dataframe thead th {\n",
       "        text-align: right;\n",
       "    }\n",
       "</style>\n",
       "<table border=\"1\" class=\"dataframe\">\n",
       "  <thead>\n",
       "    <tr style=\"text-align: right;\">\n",
       "      <th></th>\n",
       "      <th>shift</th>\n",
       "      <th>gender</th>\n",
       "      <th>education</th>\n",
       "      <th>created_on</th>\n",
       "      <th>dow</th>\n",
       "      <th>employer_type</th>\n",
       "      <th>applicant_location</th>\n",
       "      <th>city</th>\n",
       "      <th>area</th>\n",
       "      <th>organization</th>\n",
       "      <th>deposit</th>\n",
       "      <th>category</th>\n",
       "      <th>english</th>\n",
       "      <th>num_openings</th>\n",
       "      <th>max_salary</th>\n",
       "      <th>min_salary</th>\n",
       "      <th>is_part_time</th>\n",
       "      <th>leads_per_opening</th>\n",
       "    </tr>\n",
       "  </thead>\n",
       "  <tbody>\n",
       "    <tr>\n",
       "      <th>0</th>\n",
       "      <td>0.0</td>\n",
       "      <td>0.0</td>\n",
       "      <td>3.0</td>\n",
       "      <td>413.0</td>\n",
       "      <td>3.0</td>\n",
       "      <td>0.0</td>\n",
       "      <td>0.0</td>\n",
       "      <td>1.0</td>\n",
       "      <td>4119.0</td>\n",
       "      <td>31278.0</td>\n",
       "      <td>0.0</td>\n",
       "      <td>55.0</td>\n",
       "      <td>2.0</td>\n",
       "      <td>22.0</td>\n",
       "      <td>21000.0</td>\n",
       "      <td>NaN</td>\n",
       "      <td>0.0</td>\n",
       "      <td>0.090909</td>\n",
       "    </tr>\n",
       "    <tr>\n",
       "      <th>1</th>\n",
       "      <td>0.0</td>\n",
       "      <td>0.0</td>\n",
       "      <td>3.0</td>\n",
       "      <td>529.0</td>\n",
       "      <td>0.0</td>\n",
       "      <td>4.0</td>\n",
       "      <td>0.0</td>\n",
       "      <td>2.0</td>\n",
       "      <td>2017.0</td>\n",
       "      <td>32006.0</td>\n",
       "      <td>0.0</td>\n",
       "      <td>54.0</td>\n",
       "      <td>2.0</td>\n",
       "      <td>2.0</td>\n",
       "      <td>80000.0</td>\n",
       "      <td>NaN</td>\n",
       "      <td>0.0</td>\n",
       "      <td>31.500000</td>\n",
       "    </tr>\n",
       "    <tr>\n",
       "      <th>2</th>\n",
       "      <td>0.0</td>\n",
       "      <td>0.0</td>\n",
       "      <td>0.0</td>\n",
       "      <td>457.0</td>\n",
       "      <td>0.0</td>\n",
       "      <td>4.0</td>\n",
       "      <td>0.0</td>\n",
       "      <td>3.0</td>\n",
       "      <td>1500.0</td>\n",
       "      <td>32029.0</td>\n",
       "      <td>0.0</td>\n",
       "      <td>42.0</td>\n",
       "      <td>3.0</td>\n",
       "      <td>1.0</td>\n",
       "      <td>3500.0</td>\n",
       "      <td>NaN</td>\n",
       "      <td>1.0</td>\n",
       "      <td>9.000000</td>\n",
       "    </tr>\n",
       "    <tr>\n",
       "      <th>3</th>\n",
       "      <td>0.0</td>\n",
       "      <td>0.0</td>\n",
       "      <td>4.0</td>\n",
       "      <td>450.0</td>\n",
       "      <td>3.0</td>\n",
       "      <td>4.0</td>\n",
       "      <td>0.0</td>\n",
       "      <td>5.0</td>\n",
       "      <td>638.0</td>\n",
       "      <td>9925.0</td>\n",
       "      <td>0.0</td>\n",
       "      <td>60.0</td>\n",
       "      <td>4.0</td>\n",
       "      <td>4.0</td>\n",
       "      <td>11500.0</td>\n",
       "      <td>NaN</td>\n",
       "      <td>0.0</td>\n",
       "      <td>0.000000</td>\n",
       "    </tr>\n",
       "    <tr>\n",
       "      <th>4</th>\n",
       "      <td>0.0</td>\n",
       "      <td>0.0</td>\n",
       "      <td>0.0</td>\n",
       "      <td>480.0</td>\n",
       "      <td>0.0</td>\n",
       "      <td>1.0</td>\n",
       "      <td>0.0</td>\n",
       "      <td>2.0</td>\n",
       "      <td>4115.0</td>\n",
       "      <td>8400.0</td>\n",
       "      <td>0.0</td>\n",
       "      <td>16.0</td>\n",
       "      <td>3.0</td>\n",
       "      <td>25.0</td>\n",
       "      <td>25000.0</td>\n",
       "      <td>NaN</td>\n",
       "      <td>0.0</td>\n",
       "      <td>1.400000</td>\n",
       "    </tr>\n",
       "  </tbody>\n",
       "</table>\n",
       "</div>"
      ],
      "text/plain": [
       "   shift  gender  education  created_on  dow  employer_type  applicant_location  city    area  organization  deposit  category  english  num_openings  max_salary  min_salary  is_part_time  leads_per_opening\n",
       "0    0.0     0.0        3.0       413.0  3.0            0.0                 0.0   1.0  4119.0       31278.0      0.0      55.0      2.0          22.0     21000.0         NaN           0.0           0.090909\n",
       "1    0.0     0.0        3.0       529.0  0.0            4.0                 0.0   2.0  2017.0       32006.0      0.0      54.0      2.0           2.0     80000.0         NaN           0.0          31.500000\n",
       "2    0.0     0.0        0.0       457.0  0.0            4.0                 0.0   3.0  1500.0       32029.0      0.0      42.0      3.0           1.0      3500.0         NaN           1.0           9.000000\n",
       "3    0.0     0.0        4.0       450.0  3.0            4.0                 0.0   5.0   638.0        9925.0      0.0      60.0      4.0           4.0     11500.0         NaN           0.0           0.000000\n",
       "4    0.0     0.0        0.0       480.0  0.0            1.0                 0.0   2.0  4115.0        8400.0      0.0      16.0      3.0          25.0     25000.0         NaN           0.0           1.400000"
      ]
     },
     "execution_count": 12,
     "metadata": {},
     "output_type": "execute_result"
    }
   ],
   "source": [
    "df.head()"
   ]
  },
  {
   "cell_type": "markdown",
   "id": "6da48d90",
   "metadata": {},
   "source": [
    "### Target vs created_on"
   ]
  },
  {
   "cell_type": "code",
   "execution_count": 13,
   "id": "88b62a3d",
   "metadata": {},
   "outputs": [
    {
     "data": {
      "image/png": "[encoded data removed]",
      "text/plain": [
       "<Figure size 432x288 with 1 Axes>"
      ]
     },
     "metadata": {
      "needs_background": "light"
     },
     "output_type": "display_data"
    }
   ],
   "source": [
    "df.groupby(pd.qcut(df['created_on'],10,\n",
    "                   duplicates='drop',labels=False))['leads_per_opening'].mean().plot()\n",
    "plt.ylabel('leads_per_opening')\n",
    "plt.title('Decile Plot of leads_per_opening vs created_on');"
   ]
  },
  {
   "cell_type": "markdown",
   "id": "776c2228",
   "metadata": {},
   "source": [
    "### Ideas:\n",
    "\n",
    "1. CV: Time series, KFold, GKFold\n",
    "2. log transform targets: business sense and outliers\n",
    "3. cat OHE, LE, FE, TE\n",
    "4. cat num agg\n",
    "5. num num agg\n",
    "6. missing min salary; app location=0; imputation w/wo\n",
    "7. bayesian fs\n",
    "8. API\n",
    "9. Explainability\n",
    "10. Local/Global feature importance\n",
    "11. Outliers/score\n",
    "12. clustering, svd, cluster distance\n",
    "13. time based (created on) aggs"
   ]
  },
  {
   "cell_type": "markdown",
   "id": "c08dd55a",
   "metadata": {},
   "source": [
    "### "
   ]
  },
  {
   "cell_type": "code",
   "execution_count": 14,
   "id": "5bcf96af",
   "metadata": {},
   "outputs": [],
   "source": [
    "num_cols = ['leads_per_opening','max_salary','min_salary','deposit','num_openings','created_on']\n",
    "cat_cols = [i for i in df.columns.tolist() if i not in num_cols]\n",
    "cat_ordinal_cols = ['applicant_location','english','education']\n",
    "cat_non_ord_cols = [i for i in cat_cols if i not in cat_ordinal_cols]"
   ]
  },
  {
   "cell_type": "code",
   "execution_count": 15,
   "id": "8d24ebff",
   "metadata": {},
   "outputs": [
    {
     "data": {
      "text/plain": [
       "(['shift',\n",
       "  'gender',\n",
       "  'dow',\n",
       "  'employer_type',\n",
       "  'city',\n",
       "  'area',\n",
       "  'organization',\n",
       "  'category',\n",
       "  'is_part_time'],\n",
       " ['applicant_location', 'english', 'education'])"
      ]
     },
     "execution_count": 15,
     "metadata": {},
     "output_type": "execute_result"
    }
   ],
   "source": [
    "cat_non_ord_cols,cat_ordinal_cols"
   ]
  },
  {
   "cell_type": "code",
   "execution_count": 16,
   "id": "64db555a",
   "metadata": {},
   "outputs": [
    {
     "data": {
      "text/plain": [
       "shift                     2\n",
       "gender                    3\n",
       "education                 6\n",
       "dow                       7\n",
       "employer_type             5\n",
       "applicant_location        4\n",
       "city                      7\n",
       "area                   2740\n",
       "organization          14886\n",
       "category                 67\n",
       "english                   4\n",
       "is_part_time              2\n",
       "dtype: int64"
      ]
     },
     "execution_count": 16,
     "metadata": {},
     "output_type": "execute_result"
    }
   ],
   "source": [
    "df[cat_cols].nunique()"
   ]
  },
  {
   "cell_type": "code",
   "execution_count": 17,
   "id": "3189b565",
   "metadata": {},
   "outputs": [],
   "source": [
    "class FreqEnc:\n",
    "    def __init__(self,cat_freq_cols):\n",
    "        self.cat_freq_cols = cat_freq_cols\n",
    "    def fit(self,df):\n",
    "        self.freq_encoding_dict = {\n",
    "                x: df[x].value_counts(1).to_dict() for x in self.cat_freq_cols\n",
    "            }\n",
    "    def transform(self,df):\n",
    "        for col in self.cat_freq_cols:\n",
    "            df[col+\"_fe\"] = df[col].map(self.freq_encoding_dict[col]).fillna(0)\n",
    "        return df\n",
    "    def fit_transform(self,df):\n",
    "        self.fit(df)\n",
    "        return self.transform(df)"
   ]
  },
  {
   "cell_type": "code",
   "execution_count": 18,
   "id": "f7b4f08f",
   "metadata": {},
   "outputs": [],
   "source": [
    "df=df.sort_values('created_on').reset_index(drop=True)"
   ]
  },
  {
   "cell_type": "code",
   "execution_count": 19,
   "id": "fced750d",
   "metadata": {},
   "outputs": [
    {
     "data": {
      "text/plain": [
       "(30000, 18)"
      ]
     },
     "execution_count": 19,
     "metadata": {},
     "output_type": "execute_result"
    }
   ],
   "source": [
    "df.shape"
   ]
  },
  {
   "cell_type": "code",
   "execution_count": 20,
   "id": "8772bc1a",
   "metadata": {},
   "outputs": [],
   "source": [
    "df['target'] = np.log1p(df.leads_per_opening)"
   ]
  },
  {
   "cell_type": "code",
   "execution_count": 21,
   "id": "61aff30f",
   "metadata": {},
   "outputs": [
    {
     "data": {
      "image/png": "[encoded data removed]",
      "text/plain": [
       "<Figure size 432x288 with 2 Axes>"
      ]
     },
     "metadata": {
      "needs_background": "light"
     },
     "output_type": "display_data"
    }
   ],
   "source": [
    "fig, axes = plt.subplots(1, 2, figsize=(6, 4))\n",
    "df.leads_per_opening.hist(ax=axes[0])\n",
    "axes[0].set_title('leads_per_opening')\n",
    "df.target.hist(ax=axes[1])\n",
    "axes[1].set_title('log1p leads_per_opening')\n",
    "plt.tight_layout()"
   ]
  },
  {
   "cell_type": "code",
   "execution_count": 22,
   "id": "d5893f91",
   "metadata": {},
   "outputs": [
    {
     "data": {
      "text/plain": [
       "count    30000.000000\n",
       "mean         1.507317\n",
       "std          1.264234\n",
       "min          0.000000\n",
       "25%          0.385158\n",
       "50%          1.299283\n",
       "75%          2.397895\n",
       "max          6.559615\n",
       "Name: target, dtype: float64"
      ]
     },
     "execution_count": 22,
     "metadata": {},
     "output_type": "execute_result"
    }
   ],
   "source": [
    "df.target.describe()"
   ]
  },
  {
   "cell_type": "code",
   "execution_count": 23,
   "id": "41ebbbbb",
   "metadata": {},
   "outputs": [],
   "source": [
    "folds =[\n",
    "    (df[(df.created_on<=df.created_on.quantile(0.7))].index.tolist(),\\\n",
    "df[(df.created_on>df.created_on.quantile(0.7))&\\\n",
    "      (df.created_on<=df.created_on.quantile(0.8))].index.tolist()),\n",
    "    \n",
    "    (df[(df.created_on>=df.created_on.quantile(0.1))&\\\n",
    "      (df.created_on<=df.created_on.quantile(0.8))].index.tolist(),\\\n",
    "df[(df.created_on>df.created_on.quantile(0.8))&\\\n",
    "      (df.created_on<=df.created_on.quantile(0.9))].index.tolist()),\n",
    "    \n",
    "    (df[(df.created_on>=df.created_on.quantile(0.2))&\\\n",
    "      (df.created_on<=df.created_on.quantile(0.9))].index.tolist(),\\\n",
    "df[(df.created_on>df.created_on.quantile(0.9))&\\\n",
    "      (df.created_on<=df.created_on.quantile(1))].index.tolist())\n",
    "]"
   ]
  },
  {
   "cell_type": "code",
   "execution_count": 24,
   "id": "94e38b04",
   "metadata": {},
   "outputs": [
    {
     "data": {
      "text/plain": [
       "[((21137, 19), (3031, 19)),\n",
       " ((21191, 19), (2865, 19)),\n",
       " ((21073, 19), (2967, 19))]"
      ]
     },
     "execution_count": 24,
     "metadata": {},
     "output_type": "execute_result"
    }
   ],
   "source": [
    "[(df.iloc[i].shape,df.iloc[j].shape) for i,j in folds]"
   ]
  },
  {
   "cell_type": "code",
   "execution_count": 25,
   "id": "6fb8ab4f",
   "metadata": {},
   "outputs": [],
   "source": [
    "target = df.target.values"
   ]
  },
  {
   "cell_type": "code",
   "execution_count": 26,
   "id": "7d1549f4",
   "metadata": {},
   "outputs": [],
   "source": [
    "fe = FreqEnc(cat_freq_cols=cat_non_ord_cols)\n",
    "\n",
    "df = fe.fit_transform(df)"
   ]
  },
  {
   "cell_type": "code",
   "execution_count": 31,
   "id": "9fa79ac1",
   "metadata": {},
   "outputs": [
    {
     "data": {
      "text/plain": [
       "count     4117.000000\n",
       "mean      6104.805441\n",
       "std       6419.603169\n",
       "min      -2000.000000\n",
       "25%       2000.000000\n",
       "50%       5000.000000\n",
       "75%       7500.000000\n",
       "max      96399.000000\n",
       "dtype: float64"
      ]
     },
     "execution_count": 31,
     "metadata": {},
     "output_type": "execute_result"
    }
   ],
   "source": [
    "(df['max_salary']-df.min_salary).describe()"
   ]
  },
  {
   "cell_type": "code",
   "execution_count": 32,
   "id": "37084b4b",
   "metadata": {
    "scrolled": true
   },
   "outputs": [
    {
     "data": {
      "text/plain": [
       "(30000, 28)"
      ]
     },
     "execution_count": 32,
     "metadata": {},
     "output_type": "execute_result"
    }
   ],
   "source": [
    "df.shape"
   ]
  },
  {
   "cell_type": "code",
   "execution_count": 33,
   "id": "b7f09ee0",
   "metadata": {},
   "outputs": [
    {
     "data": {
      "text/plain": [
       "shift                2\n",
       "gender               3\n",
       "dow                  7\n",
       "employer_type        5\n",
       "city                 7\n",
       "area              2740\n",
       "organization     14886\n",
       "category            67\n",
       "is_part_time         2\n",
       "dtype: int64"
      ]
     },
     "execution_count": 33,
     "metadata": {},
     "output_type": "execute_result"
    }
   ],
   "source": [
    "df[cat_non_ord_cols].nunique()"
   ]
  },
  {
   "cell_type": "code",
   "execution_count": 34,
   "id": "f1d94987",
   "metadata": {},
   "outputs": [
    {
     "data": {
      "text/plain": [
       "applicant_location    4\n",
       "english               4\n",
       "education             6\n",
       "dtype: int64"
      ]
     },
     "execution_count": 34,
     "metadata": {},
     "output_type": "execute_result"
    }
   ],
   "source": [
    "df[cat_ordinal_cols].nunique()"
   ]
  },
  {
   "cell_type": "markdown",
   "id": "6be45b55",
   "metadata": {},
   "source": [
    "### Adding cat-cat interactions"
   ]
  },
  {
   "cell_type": "code",
   "execution_count": 35,
   "id": "176f1a33",
   "metadata": {},
   "outputs": [],
   "source": [
    "def get_derived_cat(df,a,b):\n",
    "    df[a+'_'+b]= df[a].astype('str') + '_' + df[b].astype('str')\n",
    "    return df "
   ]
  },
  {
   "cell_type": "code",
   "execution_count": 36,
   "id": "7cad4205",
   "metadata": {},
   "outputs": [],
   "source": [
    "def gen_cat_cat(df):\n",
    "    df = get_derived_cat(df,'category','organization')\n",
    "    df = get_derived_cat(df,'category','area')\n",
    "    df = get_derived_cat(df,'category','city')\n",
    "    df = get_derived_cat(df,'category','dow')\n",
    "    df = get_derived_cat(df,'category','employer_type')\n",
    "    \n",
    "    df = get_derived_cat(df,'organization','area')\n",
    "    df = get_derived_cat(df,'organization','city')\n",
    "    df = get_derived_cat(df,'organization','dow')\n",
    "    df = get_derived_cat(df,'organization','employer_type')\n",
    "    \n",
    "    df = get_derived_cat(df,'area','city')\n",
    "    df = get_derived_cat(df,'area','dow')\n",
    "    df = get_derived_cat(df,'area','employer_type')\n",
    "    \n",
    "    df = get_derived_cat(df,'city','dow')\n",
    "    df = get_derived_cat(df,'city','employer_type')\n",
    "    \n",
    "    df = get_derived_cat(df,'dow','employer_type')\n",
    "    \n",
    "    df['cat_city_dow'] = df['category'].astype('str') + '_' + df['city'].astype('str') + '_' + df['dow'].astype('str')\n",
    "    \n",
    "    return df"
   ]
  },
  {
   "cell_type": "code",
   "execution_count": 37,
   "id": "9ad48582",
   "metadata": {},
   "outputs": [],
   "source": [
    "df = gen_cat_cat(df)"
   ]
  },
  {
   "cell_type": "code",
   "execution_count": 38,
   "id": "961caf6b",
   "metadata": {},
   "outputs": [],
   "source": [
    "cat_cat_cols = ['category_organization', 'category_area', 'category_city', 'category_dow',\n",
    "                'category_employer_type', 'organization_area', 'organization_city', 'organization_dow', \n",
    "                'organization_employer_type', 'area_city', 'area_dow', 'area_employer_type', 'city_dow',\n",
    "               'city_employer_type', 'dow_employer_type','cat_city_dow']"
   ]
  },
  {
   "cell_type": "code",
   "execution_count": 39,
   "id": "a2f18eb7",
   "metadata": {},
   "outputs": [],
   "source": [
    "fe2 = FreqEnc(cat_freq_cols=['category_city'])\n",
    "\n",
    "df = fe2.fit_transform(df)"
   ]
  },
  {
   "cell_type": "code",
   "execution_count": 40,
   "id": "d85d8cbc",
   "metadata": {},
   "outputs": [],
   "source": [
    "class CatNumAgg:\n",
    "    def __init__(self,agg_cols, agg_funcs, grpby_cols):\n",
    "        self.agg_cols=agg_cols\n",
    "        self.agg_funcs=agg_funcs\n",
    "        self.grpby_cols=grpby_cols\n",
    "    def fit(self,df):\n",
    "        self.encoding_dict={}\n",
    "        for grp_col in self.grpby_cols:\n",
    "            agg_df = df.groupby(grp_col)[self.agg_cols].agg(self.agg_funcs).reset_index()\n",
    "            agg_df.columns = [grp_col] + [\n",
    "                i + \"_\" + j + \"_grpby\" + \"_and_\" + grp_col\n",
    "                for i in self.agg_cols\n",
    "                for j in self.agg_funcs\n",
    "            ]\n",
    "            self.encoding_dict[grp_col]=agg_df.to_dict()\n",
    "    def transform(self,df):\n",
    "        for k in self.encoding_dict:\n",
    "            agg_df = pd.DataFrame(self.encoding_dict[k])\n",
    "            df = df.merge(agg_df, on=k, how=\"left\")\n",
    "        return df\n",
    "    def fit_transform(self,df):\n",
    "        self.fit(df)\n",
    "        return self.transform(df)"
   ]
  },
  {
   "cell_type": "code",
   "execution_count": 41,
   "id": "7a3ba02f",
   "metadata": {},
   "outputs": [],
   "source": [
    "imp_num_cols = ['num_openings','max_salary','min_salary','education','applicant_location']\n",
    "agg_funcs = ['mean','std','min','max','median']\n",
    "cat_agg_cols = ['category','organization','area','category_city',\n",
    "                'category_dow','city',\n",
    "                'employer_type',]"
   ]
  },
  {
   "cell_type": "code",
   "execution_count": 42,
   "id": "f4d3ba6c",
   "metadata": {},
   "outputs": [],
   "source": [
    "catnumagg = CatNumAgg(agg_cols= imp_num_cols,agg_funcs=agg_funcs, grpby_cols=cat_agg_cols)"
   ]
  },
  {
   "cell_type": "code",
   "execution_count": 43,
   "id": "1a250dd9",
   "metadata": {},
   "outputs": [],
   "source": [
    "df = catnumagg.fit_transform(df)"
   ]
  },
  {
   "cell_type": "code",
   "execution_count": 44,
   "id": "d5aac44d",
   "metadata": {},
   "outputs": [
    {
     "data": {
      "text/plain": [
       "(30000, 220)"
      ]
     },
     "execution_count": 44,
     "metadata": {},
     "output_type": "execute_result"
    }
   ],
   "source": [
    "df.shape"
   ]
  },
  {
   "cell_type": "code",
   "execution_count": 45,
   "id": "b8e7b8f7",
   "metadata": {},
   "outputs": [
    {
     "data": {
      "text/plain": [
       "17"
      ]
     },
     "execution_count": 45,
     "metadata": {},
     "output_type": "execute_result"
    }
   ],
   "source": [
    "uniq_cols = df.columns[df.nunique(dropna=False)==1]\n",
    "len(uniq_cols)"
   ]
  },
  {
   "cell_type": "code",
   "execution_count": 46,
   "id": "2d933125",
   "metadata": {},
   "outputs": [],
   "source": [
    "df.drop(uniq_cols,axis=1,inplace=True)"
   ]
  },
  {
   "cell_type": "code",
   "execution_count": 47,
   "id": "c74355c3",
   "metadata": {},
   "outputs": [],
   "source": [
    "remove_cols = cat_non_ord_cols + ['target','leads_per_opening'] + cat_cat_cols\n",
    "use_cols = [i for i in df.columns if i not in remove_cols] "
   ]
  },
  {
   "cell_type": "code",
   "execution_count": null,
   "id": "e89f4b24",
   "metadata": {},
   "outputs": [],
   "source": [
    "len(use_cols)"
   ]
  },
  {
   "cell_type": "code",
   "execution_count": 48,
   "id": "ad2f39f4",
   "metadata": {},
   "outputs": [],
   "source": [
    "params = {'boosting_type': 'gbdt',\n",
    " 'colsample_bytree': 0.8,\n",
    " 'learning_rate': 0.1,\n",
    " 'min_child_samples': 120,\n",
    " 'n_estimators': 10000,\n",
    " 'n_jobs': -1,\n",
    " 'num_leaves': 16,\n",
    " 'objective': 'regression',\n",
    " 'subsample': 0.8,\n",
    " 'subsample_freq': 10}"
   ]
  },
  {
   "cell_type": "code",
   "execution_count": 49,
   "id": "7d860314",
   "metadata": {},
   "outputs": [],
   "source": [
    "est = Estimator(model=LGBMRegressor(**params),\n",
    "               early_stopping_rounds=100,\n",
    "               validation_scheme=folds,\n",
    "               shuffle=True)"
   ]
  },
  {
   "cell_type": "code",
   "execution_count": 50,
   "id": "15975cda",
   "metadata": {},
   "outputs": [
    {
     "name": "stdout",
     "output_type": "stream",
     "text": [
      "[100]\tvalid_0's rmse: 0.894347\tvalid_0's l2: 0.799857\tvalid_1's rmse: 0.805084\tvalid_1's l2: 0.648159\n",
      "[200]\tvalid_0's rmse: 0.890303\tvalid_0's l2: 0.79264\tvalid_1's rmse: 0.754139\tvalid_1's l2: 0.568726\n",
      "[100]\tvalid_0's rmse: 0.834886\tvalid_0's l2: 0.697034\tvalid_1's rmse: 0.806274\tvalid_1's l2: 0.650078\n",
      "[200]\tvalid_0's rmse: 0.829819\tvalid_0's l2: 0.688599\tvalid_1's rmse: 0.755737\tvalid_1's l2: 0.571139\n",
      "[300]\tvalid_0's rmse: 0.828679\tvalid_0's l2: 0.686709\tvalid_1's rmse: 0.719705\tvalid_1's l2: 0.517975\n",
      "[400]\tvalid_0's rmse: 0.830134\tvalid_0's l2: 0.689122\tvalid_1's rmse: 0.68802\tvalid_1's l2: 0.473371\n",
      "[100]\tvalid_0's rmse: 0.873277\tvalid_0's l2: 0.762612\tvalid_1's rmse: 0.8024\tvalid_1's l2: 0.643846\n",
      "[200]\tvalid_0's rmse: 0.869807\tvalid_0's l2: 0.756565\tvalid_1's rmse: 0.751098\tvalid_1's l2: 0.564149\n"
     ]
    },
    {
     "data": {
      "text/plain": [
       "{'cv_scores': [0.8884260455116506, 0.8277062413414091, 0.8684975120286321],\n",
       " 'avg_cv_score': 0.8615432662938973,\n",
       " 'std_scores': 0.02527178670536806,\n",
       " 'overall_cv_score': 1.71385676246552,\n",
       " 'eval_score': 0.8615432662938973}"
      ]
     },
     "execution_count": 50,
     "metadata": {},
     "output_type": "execute_result"
    }
   ],
   "source": [
    "est.get_repeated_out_of_folds(df[use_cols].values,target)"
   ]
  },
  {
   "cell_type": "code",
   "execution_count": 51,
   "id": "6d7dfed2",
   "metadata": {},
   "outputs": [],
   "source": [
    "lgbm_space = {\n",
    "#    'learning_rate': hp.quniform('learning_rate', 0.025, 0.1, 0.025),\n",
    "    'n_estimators': 10000,\n",
    "#     'early_stopping_rounds': 100,\n",
    "    'num_leaves':  hp.quniform('num_leaves', 16, 48, 16),\n",
    "#     'min_child_weight': hp.quniform('min_child_weight', 1, 40, 5),\n",
    "    'min_child_samples': hp.quniform('min_child_samples', 1, 140, 10),\n",
    "    'subsample': hp.quniform('subsample', 0.6, 1, 0.2),\n",
    "    'colsample_bytree': hp.quniform('colsample_bytree', 0.4, 1, 0.2),\n",
    "    'subsample_freq': hp.choice('subsample_freq',[5,10]),\n",
    "    'objective': 'regression',\n",
    "    'boosting_type': 'gbdt',\n",
    "    'learning_rate': 0.1,\n",
    "    'n_jobs': -1\n",
    "}"
   ]
  },
  {
   "cell_type": "code",
   "execution_count": 52,
   "id": "5fc1251c",
   "metadata": {},
   "outputs": [],
   "source": [
    "hyp = HyperOptModelSelection(Estimator(model=LGBMRegressor(),\n",
    "                                       early_stopping_rounds=100,\n",
    "                                       validation_scheme=folds,\n",
    "                                       shuffle=True),\n",
    "                             space= lgbm_space,\n",
    "                             max_evals=220,is_maximize=False,random_seed=100,\n",
    "                             params_mapping = {'n_estimators':int, 'num_leaves':int, \n",
    "                                               'max_depth':int,'min_child_samples':int},          \n",
    "                             log_file_path=\"hyperopt_log.txt\")"
   ]
  },
  {
   "cell_type": "code",
   "execution_count": 53,
   "id": "9dbf2a13",
   "metadata": {},
   "outputs": [
    {
     "name": "stderr",
     "output_type": "stream",
     "text": [
      "Starting HyperOpt 220 Evals with Dataset of Shape ((30000, 176),(30000,))\n"
     ]
    },
    {
     "name": "stdout",
     "output_type": "stream",
     "text": [
      "\r",
      "  0%|                                                                   | 0/220 [00:00<?, ?trial/s, best loss=?]"
     ]
    },
    {
     "name": "stderr",
     "output_type": "stream",
     "text": [
      "\n",
      "Iteration: 1, Training with params: {'boosting_type': 'gbdt', 'colsample_bytree': 0.8, 'learning_rate': 0.1, 'min_child_samples': 0, 'n_estimators': 10000, 'n_jobs': -1, 'num_leaves': 32, 'objective': 'regression', 'subsample': 0.8, 'subsample_freq': 10}\n"
     ]
    },
    {
     "name": "stdout",
     "output_type": "stream",
     "text": [
      "[100]\tvalid_0's rmse: 0.90594\tvalid_0's l2: 0.820728\tvalid_1's rmse: 0.727203\tvalid_1's l2: 0.528824            \n",
      "[100]\tvalid_0's rmse: 0.839674\tvalid_0's l2: 0.705052\tvalid_1's rmse: 0.729721\tvalid_1's l2: 0.532492           \n",
      "[200]\tvalid_0's rmse: 0.83827\tvalid_0's l2: 0.702697\tvalid_1's rmse: 0.641359\tvalid_1's l2: 0.411341            \n",
      "[100]\tvalid_0's rmse: 0.881938\tvalid_0's l2: 0.777815\tvalid_1's rmse: 0.724309\tvalid_1's l2: 0.524624           \n",
      "  0%|                                                                   | 0/220 [00:04<?, ?trial/s, best loss=?]"
     ]
    },
    {
     "name": "stderr",
     "output_type": "stream",
     "text": [
      "Score - 0.8727624976409637, Std - 0.028069047632516254, Eval Score - 0.8727624976409637\n",
      "Score across folds - [0.9030364996175966, 0.835389922548662, 0.8798610707566324].\n"
     ]
    },
    {
     "name": "stdout",
     "output_type": "stream",
     "text": [
      "\r",
      "  0%|▏                                        | 1/220 [00:05<19:20,  5.30s/trial, best loss: 0.8727624976409637]"
     ]
    },
    {
     "name": "stderr",
     "output_type": "stream",
     "text": [
      "\n",
      "Iteration: 2, Training with params: {'boosting_type': 'gbdt', 'colsample_bytree': 0.8, 'learning_rate': 0.1, 'min_child_samples': 110, 'n_estimators': 10000, 'n_jobs': -1, 'num_leaves': 32, 'objective': 'regression', 'subsample': 0.8, 'subsample_freq': 10}\n"
     ]
    },
    {
     "name": "stdout",
     "output_type": "stream",
     "text": [
      "[100]\tvalid_0's rmse: 0.900731\tvalid_0's l2: 0.811316\tvalid_1's rmse: 0.746872\tvalid_1's l2: 0.557818           \n",
      "[100]\tvalid_0's rmse: 0.840385\tvalid_0's l2: 0.706247\tvalid_1's rmse: 0.746426\tvalid_1's l2: 0.557151           \n",
      "[200]\tvalid_0's rmse: 0.837594\tvalid_0's l2: 0.701563\tvalid_1's rmse: 0.671283\tvalid_1's l2: 0.450621           \n",
      "[100]\tvalid_0's rmse: 0.873004\tvalid_0's l2: 0.762137\tvalid_1's rmse: 0.742673\tvalid_1's l2: 0.551563           \n",
      "[200]\tvalid_0's rmse: 0.871633\tvalid_0's l2: 0.759744\tvalid_1's rmse: 0.666697\tvalid_1's l2: 0.444485           \n",
      "  0%|▏                                        | 1/220 [00:10<19:20,  5.30s/trial, best loss: 0.8727624976409637]"
     ]
    },
    {
     "name": "stderr",
     "output_type": "stream",
     "text": [
      "Score - 0.8681744568065528, Std - 0.025655327137587274, Eval Score - 0.8681744568065528\n",
      "Score across folds - [0.898840463404813, 0.8360488734408716, 0.8696340335739737].\n"
     ]
    },
    {
     "name": "stdout",
     "output_type": "stream",
     "text": [
      "\r",
      "  1%|▎                                        | 2/220 [00:10<18:57,  5.22s/trial, best loss: 0.8681744568065528]"
     ]
    },
    {
     "name": "stderr",
     "output_type": "stream",
     "text": [
      "\n",
      "Iteration: 3, Training with params: {'boosting_type': 'gbdt', 'colsample_bytree': 0.6000000000000001, 'learning_rate': 0.1, 'min_child_samples': 90, 'n_estimators': 10000, 'n_jobs': -1, 'num_leaves': 16, 'objective': 'regression', 'subsample': 0.8, 'subsample_freq': 5}\n"
     ]
    },
    {
     "name": "stdout",
     "output_type": "stream",
     "text": [
      "[100]\tvalid_0's rmse: 0.897488\tvalid_0's l2: 0.805484\tvalid_1's rmse: 0.805637\tvalid_1's l2: 0.649051           \n",
      "[200]\tvalid_0's rmse: 0.893895\tvalid_0's l2: 0.799049\tvalid_1's rmse: 0.752447\tvalid_1's l2: 0.566177           \n",
      "[300]\tvalid_0's rmse: 0.895048\tvalid_0's l2: 0.80111\tvalid_1's rmse: 0.714578\tvalid_1's l2: 0.510622            \n",
      "[100]\tvalid_0's rmse: 0.841791\tvalid_0's l2: 0.708612\tvalid_1's rmse: 0.808737\tvalid_1's l2: 0.654055           \n",
      "[200]\tvalid_0's rmse: 0.839407\tvalid_0's l2: 0.704604\tvalid_1's rmse: 0.757235\tvalid_1's l2: 0.573405           \n",
      "[300]\tvalid_0's rmse: 0.836511\tvalid_0's l2: 0.699751\tvalid_1's rmse: 0.717678\tvalid_1's l2: 0.515062           \n",
      "[400]\tvalid_0's rmse: 0.837114\tvalid_0's l2: 0.70076\tvalid_1's rmse: 0.685224\tvalid_1's l2: 0.469532            \n",
      "[100]\tvalid_0's rmse: 0.873903\tvalid_0's l2: 0.763707\tvalid_1's rmse: 0.803734\tvalid_1's l2: 0.645988           \n",
      "[200]\tvalid_0's rmse: 0.872151\tvalid_0's l2: 0.760647\tvalid_1's rmse: 0.751238\tvalid_1's l2: 0.564358           \n",
      "  1%|▎                                        | 2/220 [00:15<18:57,  5.22s/trial, best loss: 0.8681744568065528]"
     ]
    },
    {
     "name": "stderr",
     "output_type": "stream",
     "text": [
      "Score - 0.8658814226827202, Std - 0.02364696856391921, Eval Score - 0.8658814226827202\n",
      "Score across folds - [0.8924679855812498, 0.8350201394026731, 0.8701561430642375].\n"
     ]
    },
    {
     "name": "stdout",
     "output_type": "stream",
     "text": [
      "\r",
      "  1%|▌                                        | 3/220 [00:15<18:18,  5.06s/trial, best loss: 0.8658814226827202]"
     ]
    },
    {
     "name": "stderr",
     "output_type": "stream",
     "text": [
      "\n",
      "Iteration: 4, Training with params: {'boosting_type': 'gbdt', 'colsample_bytree': 1.0, 'learning_rate': 0.1, 'min_child_samples': 60, 'n_estimators': 10000, 'n_jobs': -1, 'num_leaves': 16, 'objective': 'regression', 'subsample': 0.6000000000000001, 'subsample_freq': 10}\n"
     ]
    },
    {
     "name": "stdout",
     "output_type": "stream",
     "text": [
      "[100]\tvalid_0's rmse: 0.898094\tvalid_0's l2: 0.806572\tvalid_1's rmse: 0.802634\tvalid_1's l2: 0.644222           \n",
      "[200]\tvalid_0's rmse: 0.895091\tvalid_0's l2: 0.801188\tvalid_1's rmse: 0.749397\tvalid_1's l2: 0.561596           \n",
      "[100]\tvalid_0's rmse: 0.840257\tvalid_0's l2: 0.706032\tvalid_1's rmse: 0.805903\tvalid_1's l2: 0.649479           \n",
      "[200]\tvalid_0's rmse: 0.83846\tvalid_0's l2: 0.703015\tvalid_1's rmse: 0.753061\tvalid_1's l2: 0.567101            \n",
      "[100]\tvalid_0's rmse: 0.871751\tvalid_0's l2: 0.75995\tvalid_1's rmse: 0.800477\tvalid_1's l2: 0.640764            \n",
      "[200]\tvalid_0's rmse: 0.86675\tvalid_0's l2: 0.751256\tvalid_1's rmse: 0.747221\tvalid_1's l2: 0.558339            \n",
      "  1%|▌                                        | 3/220 [00:19<18:18,  5.06s/trial, best loss: 0.8658814226827202]"
     ]
    },
    {
     "name": "stderr",
     "output_type": "stream",
     "text": [
      "Score - 0.8646021929271984, Std - 0.023669832753320623, Eval Score - 0.8646021929271984\n",
      "Score across folds - [0.8930100913080247, 0.8350641328710148, 0.8657323546025559].\n"
     ]
    },
    {
     "name": "stdout",
     "output_type": "stream",
     "text": [
      "\r",
      "  2%|▋                                        | 4/220 [00:20<17:39,  4.90s/trial, best loss: 0.8646021929271984]"
     ]
    },
    {
     "name": "stderr",
     "output_type": "stream",
     "text": [
      "\n",
      "Iteration: 5, Training with params: {'boosting_type': 'gbdt', 'colsample_bytree': 0.4, 'learning_rate': 0.1, 'min_child_samples': 120, 'n_estimators': 10000, 'n_jobs': -1, 'num_leaves': 32, 'objective': 'regression', 'subsample': 0.6000000000000001, 'subsample_freq': 5}\n"
     ]
    },
    {
     "name": "stdout",
     "output_type": "stream",
     "text": [
      "[100]\tvalid_0's rmse: 0.900955\tvalid_0's l2: 0.811719\tvalid_1's rmse: 0.766912\tvalid_1's l2: 0.588153           \n",
      "[200]\tvalid_0's rmse: 0.901181\tvalid_0's l2: 0.812127\tvalid_1's rmse: 0.695159\tvalid_1's l2: 0.483246           \n",
      "[100]\tvalid_0's rmse: 0.838242\tvalid_0's l2: 0.70265\tvalid_1's rmse: 0.769231\tvalid_1's l2: 0.591716            \n",
      "[200]\tvalid_0's rmse: 0.832841\tvalid_0's l2: 0.693624\tvalid_1's rmse: 0.698909\tvalid_1's l2: 0.488473           \n",
      "[100]\tvalid_0's rmse: 0.875357\tvalid_0's l2: 0.766249\tvalid_1's rmse: 0.76291\tvalid_1's l2: 0.582032            \n",
      "[200]\tvalid_0's rmse: 0.881978\tvalid_0's l2: 0.777885\tvalid_1's rmse: 0.692817\tvalid_1's l2: 0.479996           \n",
      "  2%|▋                                        | 4/220 [00:23<17:39,  4.90s/trial, best loss: 0.8646021929271984]"
     ]
    },
    {
     "name": "stderr",
     "output_type": "stream",
     "text": [
      "Score - 0.8681572297791412, Std - 0.0284555017879256, Eval Score - 0.8681572297791412\n",
      "Score across folds - [0.8993366922402722, 0.8305344730305007, 0.8746005240666508].\n"
     ]
    },
    {
     "name": "stdout",
     "output_type": "stream",
     "text": [
      "\r",
      "  2%|▉                                        | 5/220 [00:23<16:18,  4.55s/trial, best loss: 0.8646021929271984]"
     ]
    },
    {
     "name": "stderr",
     "output_type": "stream",
     "text": [
      "\n",
      "Iteration: 6, Training with params: {'boosting_type': 'gbdt', 'colsample_bytree': 0.6000000000000001, 'learning_rate': 0.1, 'min_child_samples': 30, 'n_estimators': 10000, 'n_jobs': -1, 'num_leaves': 16, 'objective': 'regression', 'subsample': 0.8, 'subsample_freq': 10}\n"
     ]
    },
    {
     "name": "stdout",
     "output_type": "stream",
     "text": [
      "[100]\tvalid_0's rmse: 0.90323\tvalid_0's l2: 0.815824\tvalid_1's rmse: 0.802927\tvalid_1's l2: 0.644692            \n",
      "[200]\tvalid_0's rmse: 0.899893\tvalid_0's l2: 0.809808\tvalid_1's rmse: 0.747614\tvalid_1's l2: 0.558926           \n",
      "[100]\tvalid_0's rmse: 0.838362\tvalid_0's l2: 0.702851\tvalid_1's rmse: 0.803667\tvalid_1's l2: 0.64588            \n",
      "[200]\tvalid_0's rmse: 0.835866\tvalid_0's l2: 0.698672\tvalid_1's rmse: 0.749654\tvalid_1's l2: 0.561981           \n",
      "[100]\tvalid_0's rmse: 0.870888\tvalid_0's l2: 0.758447\tvalid_1's rmse: 0.801267\tvalid_1's l2: 0.642029           \n",
      "[200]\tvalid_0's rmse: 0.867855\tvalid_0's l2: 0.753172\tvalid_1's rmse: 0.74629\tvalid_1's l2: 0.556949            \n",
      "  2%|▉                                        | 5/220 [00:27<16:18,  4.55s/trial, best loss: 0.8646021929271984]"
     ]
    },
    {
     "name": "stderr",
     "output_type": "stream",
     "text": [
      "Score - 0.8664410904305587, Std - 0.026531002624164298, Eval Score - 0.8664410904305587\n",
      "Score across folds - [0.8989226119155589, 0.8339352068210243, 0.8664654525550934].\n"
     ]
    },
    {
     "name": "stdout",
     "output_type": "stream",
     "text": [
      "\r",
      "  3%|█                                        | 6/220 [00:27<15:21,  4.31s/trial, best loss: 0.8646021929271984]"
     ]
    },
    {
     "name": "stderr",
     "output_type": "stream",
     "text": [
      "\n",
      "Iteration: 7, Training with params: {'boosting_type': 'gbdt', 'colsample_bytree': 1.0, 'learning_rate': 0.1, 'min_child_samples': 80, 'n_estimators': 10000, 'n_jobs': -1, 'num_leaves': 32, 'objective': 'regression', 'subsample': 0.8, 'subsample_freq': 10}\n"
     ]
    },
    {
     "name": "stdout",
     "output_type": "stream",
     "text": [
      "[100]\tvalid_0's rmse: 0.900283\tvalid_0's l2: 0.81051\tvalid_1's rmse: 0.7386\tvalid_1's l2: 0.54553               \n",
      "[100]\tvalid_0's rmse: 0.837419\tvalid_0's l2: 0.701271\tvalid_1's rmse: 0.740383\tvalid_1's l2: 0.548167           \n",
      "[200]\tvalid_0's rmse: 0.8397\tvalid_0's l2: 0.705096\tvalid_1's rmse: 0.661632\tvalid_1's l2: 0.437757             \n",
      "[100]\tvalid_0's rmse: 0.870736\tvalid_0's l2: 0.758181\tvalid_1's rmse: 0.737167\tvalid_1's l2: 0.543415           \n",
      "[200]\tvalid_0's rmse: 0.874661\tvalid_0's l2: 0.765031\tvalid_1's rmse: 0.656142\tvalid_1's l2: 0.430523           \n",
      "  3%|█                                        | 6/220 [00:33<15:21,  4.31s/trial, best loss: 0.8646021929271984]"
     ]
    },
    {
     "name": "stderr",
     "output_type": "stream",
     "text": [
      "Score - 0.8676901596086753, Std - 0.02467767191799278, Eval Score - 0.8676901596086753\n",
      "Score across folds - [0.8968830410960619, 0.8365313220038485, 0.8696561157261159].\n"
     ]
    },
    {
     "name": "stdout",
     "output_type": "stream",
     "text": [
      "\r",
      "  3%|█▎                                       | 7/220 [00:33<16:59,  4.78s/trial, best loss: 0.8646021929271984]"
     ]
    },
    {
     "name": "stderr",
     "output_type": "stream",
     "text": [
      "\n",
      "Iteration: 8, Training with params: {'boosting_type': 'gbdt', 'colsample_bytree': 0.4, 'learning_rate': 0.1, 'min_child_samples': 70, 'n_estimators': 10000, 'n_jobs': -1, 'num_leaves': 32, 'objective': 'regression', 'subsample': 0.8, 'subsample_freq': 5}\n"
     ]
    },
    {
     "name": "stdout",
     "output_type": "stream",
     "text": [
      "[100]\tvalid_0's rmse: 0.901069\tvalid_0's l2: 0.811926\tvalid_1's rmse: 0.752493\tvalid_1's l2: 0.566246           \n",
      "[200]\tvalid_0's rmse: 0.905021\tvalid_0's l2: 0.819063\tvalid_1's rmse: 0.674901\tvalid_1's l2: 0.455491           \n",
      "[100]\tvalid_0's rmse: 0.832422\tvalid_0's l2: 0.692926\tvalid_1's rmse: 0.75116\tvalid_1's l2: 0.564241            \n",
      "[200]\tvalid_0's rmse: 0.832435\tvalid_0's l2: 0.692948\tvalid_1's rmse: 0.675703\tvalid_1's l2: 0.456575           \n",
      "[100]\tvalid_0's rmse: 0.873348\tvalid_0's l2: 0.762736\tvalid_1's rmse: 0.747309\tvalid_1's l2: 0.55847            \n",
      "[200]\tvalid_0's rmse: 0.876505\tvalid_0's l2: 0.768262\tvalid_1's rmse: 0.671273\tvalid_1's l2: 0.450607           \n",
      "  3%|█▎                                       | 7/220 [00:37<16:59,  4.78s/trial, best loss: 0.8646021929271984]"
     ]
    },
    {
     "name": "stderr",
     "output_type": "stream",
     "text": [
      "Score - 0.8679329626274471, Std - 0.028359463899680814, Eval Score - 0.8679329626274471\n",
      "Score across folds - [0.9001538522899599, 0.8311404122207644, 0.8725046233716172].\n"
     ]
    },
    {
     "name": "stdout",
     "output_type": "stream",
     "text": [
      "\r",
      "  4%|█▍                                       | 8/220 [00:37<15:49,  4.48s/trial, best loss: 0.8646021929271984]"
     ]
    },
    {
     "name": "stderr",
     "output_type": "stream",
     "text": [
      "\n",
      "Iteration: 9, Training with params: {'boosting_type': 'gbdt', 'colsample_bytree': 0.6000000000000001, 'learning_rate': 0.1, 'min_child_samples': 70, 'n_estimators': 10000, 'n_jobs': -1, 'num_leaves': 32, 'objective': 'regression', 'subsample': 0.8, 'subsample_freq': 5}\n"
     ]
    },
    {
     "name": "stdout",
     "output_type": "stream",
     "text": [
      "[100]\tvalid_0's rmse: 0.899576\tvalid_0's l2: 0.809237\tvalid_1's rmse: 0.743382\tvalid_1's l2: 0.552616           \n",
      "[200]\tvalid_0's rmse: 0.898119\tvalid_0's l2: 0.806619\tvalid_1's rmse: 0.663957\tvalid_1's l2: 0.440839           \n",
      "[100]\tvalid_0's rmse: 0.834971\tvalid_0's l2: 0.697177\tvalid_1's rmse: 0.746146\tvalid_1's l2: 0.556734           \n",
      "[100]\tvalid_0's rmse: 0.868848\tvalid_0's l2: 0.754897\tvalid_1's rmse: 0.740378\tvalid_1's l2: 0.54816            \n",
      "[200]\tvalid_0's rmse: 0.870019\tvalid_0's l2: 0.756932\tvalid_1's rmse: 0.661604\tvalid_1's l2: 0.43772            \n",
      "  4%|█▍                                       | 8/220 [00:41<15:49,  4.48s/trial, best loss: 0.8646021929271984]"
     ]
    },
    {
     "name": "stderr",
     "output_type": "stream",
     "text": [
      "Score - 0.8655895491852587, Std - 0.025391886104365647, Eval Score - 0.8655895491852587\n",
      "Score across folds - [0.89607296569751, 0.8339102982839848, 0.8667853835742813].\n"
     ]
    },
    {
     "name": "stdout",
     "output_type": "stream",
     "text": [
      "\r",
      "  4%|█▋                                       | 9/220 [00:42<15:56,  4.54s/trial, best loss: 0.8646021929271984]"
     ]
    },
    {
     "name": "stderr",
     "output_type": "stream",
     "text": [
      "\n",
      "Iteration: 10, Training with params: {'boosting_type': 'gbdt', 'colsample_bytree': 1.0, 'learning_rate': 0.1, 'min_child_samples': 20, 'n_estimators': 10000, 'n_jobs': -1, 'num_leaves': 48, 'objective': 'regression', 'subsample': 1.0, 'subsample_freq': 10}\n"
     ]
    },
    {
     "name": "stdout",
     "output_type": "stream",
     "text": [
      "[100]\tvalid_0's rmse: 0.901679\tvalid_0's l2: 0.813024\tvalid_1's rmse: 0.670455\tvalid_1's l2: 0.44951            \n",
      "[100]\tvalid_0's rmse: 0.835055\tvalid_0's l2: 0.697318\tvalid_1's rmse: 0.673529\tvalid_1's l2: 0.453642           \n",
      "[200]\tvalid_0's rmse: 0.834044\tvalid_0's l2: 0.695629\tvalid_1's rmse: 0.572865\tvalid_1's l2: 0.328174           \n",
      "[100]\tvalid_0's rmse: 0.87625\tvalid_0's l2: 0.767814\tvalid_1's rmse: 0.670154\tvalid_1's l2: 0.449107            \n",
      "  4%|█▋                                       | 9/220 [00:48<15:56,  4.54s/trial, best loss: 0.8646021929271984]"
     ]
    },
    {
     "name": "stderr",
     "output_type": "stream",
     "text": [
      "Score - 0.8698410053152276, Std - 0.027577297381010706, Eval Score - 0.8698410053152276\n",
      "Score across folds - [0.9005136436646768, 0.8336443664216211, 0.875365005859385].\n"
     ]
    },
    {
     "name": "stdout",
     "output_type": "stream",
     "text": [
      "\r",
      "  5%|█▊                                      | 10/220 [00:48<18:18,  5.23s/trial, best loss: 0.8646021929271984]"
     ]
    },
    {
     "name": "stderr",
     "output_type": "stream",
     "text": [
      "\n",
      "Iteration: 11, Training with params: {'boosting_type': 'gbdt', 'colsample_bytree': 0.6000000000000001, 'learning_rate': 0.1, 'min_child_samples': 110, 'n_estimators': 10000, 'n_jobs': -1, 'num_leaves': 32, 'objective': 'regression', 'subsample': 0.8, 'subsample_freq': 10}\n"
     ]
    },
    {
     "name": "stdout",
     "output_type": "stream",
     "text": [
      "[100]\tvalid_0's rmse: 0.898206\tvalid_0's l2: 0.806773\tvalid_1's rmse: 0.750964\tvalid_1's l2: 0.563946           \n",
      "[200]\tvalid_0's rmse: 0.898448\tvalid_0's l2: 0.807209\tvalid_1's rmse: 0.676105\tvalid_1's l2: 0.457118           \n",
      "[100]\tvalid_0's rmse: 0.83685\tvalid_0's l2: 0.700317\tvalid_1's rmse: 0.750141\tvalid_1's l2: 0.562712            \n",
      "[200]\tvalid_0's rmse: 0.835092\tvalid_0's l2: 0.697379\tvalid_1's rmse: 0.677026\tvalid_1's l2: 0.458365           \n",
      "[100]\tvalid_0's rmse: 0.875763\tvalid_0's l2: 0.76696\tvalid_1's rmse: 0.748218\tvalid_1's l2: 0.55983             \n",
      "[200]\tvalid_0's rmse: 0.873996\tvalid_0's l2: 0.76387\tvalid_1's rmse: 0.672446\tvalid_1's l2: 0.452183            \n",
      "  5%|█▊                                      | 10/220 [00:53<18:18,  5.23s/trial, best loss: 0.8646021929271984]"
     ]
    },
    {
     "name": "stderr",
     "output_type": "stream",
     "text": [
      "Score - 0.8673371141198141, Std - 0.02609868901740006, Eval Score - 0.8673371141198141\n",
      "Score across folds - [0.8968013202368258, 0.8333538352255021, 0.8718561868971142].\n"
     ]
    },
    {
     "name": "stdout",
     "output_type": "stream",
     "text": [
      "\r",
      "  5%|██                                      | 11/220 [00:53<18:05,  5.20s/trial, best loss: 0.8646021929271984]"
     ]
    },
    {
     "name": "stderr",
     "output_type": "stream",
     "text": [
      "\n",
      "Iteration: 12, Training with params: {'boosting_type': 'gbdt', 'colsample_bytree': 0.4, 'learning_rate': 0.1, 'min_child_samples': 70, 'n_estimators': 10000, 'n_jobs': -1, 'num_leaves': 32, 'objective': 'regression', 'subsample': 0.8, 'subsample_freq': 5}\n"
     ]
    },
    {
     "name": "stdout",
     "output_type": "stream",
     "text": [
      "[100]\tvalid_0's rmse: 0.901069\tvalid_0's l2: 0.811926\tvalid_1's rmse: 0.752493\tvalid_1's l2: 0.566246           \n",
      "[200]\tvalid_0's rmse: 0.905021\tvalid_0's l2: 0.819063\tvalid_1's rmse: 0.674901\tvalid_1's l2: 0.455491           \n",
      "[100]\tvalid_0's rmse: 0.832422\tvalid_0's l2: 0.692926\tvalid_1's rmse: 0.75116\tvalid_1's l2: 0.564241            \n",
      "[200]\tvalid_0's rmse: 0.832435\tvalid_0's l2: 0.692948\tvalid_1's rmse: 0.675703\tvalid_1's l2: 0.456575           \n",
      "[100]\tvalid_0's rmse: 0.873348\tvalid_0's l2: 0.762736\tvalid_1's rmse: 0.747309\tvalid_1's l2: 0.55847            \n",
      "[200]\tvalid_0's rmse: 0.876505\tvalid_0's l2: 0.768262\tvalid_1's rmse: 0.671273\tvalid_1's l2: 0.450607           \n",
      "  5%|██                                      | 11/220 [00:57<18:05,  5.20s/trial, best loss: 0.8646021929271984]"
     ]
    },
    {
     "name": "stderr",
     "output_type": "stream",
     "text": [
      "Score - 0.8679329626274471, Std - 0.028359463899680814, Eval Score - 0.8679329626274471\n",
      "Score across folds - [0.9001538522899599, 0.8311404122207644, 0.8725046233716172].\n"
     ]
    },
    {
     "name": "stdout",
     "output_type": "stream",
     "text": [
      "\r",
      "  5%|██▏                                     | 12/220 [00:57<16:35,  4.79s/trial, best loss: 0.8646021929271984]"
     ]
    },
    {
     "name": "stderr",
     "output_type": "stream",
     "text": [
      "\n",
      "Iteration: 13, Training with params: {'boosting_type': 'gbdt', 'colsample_bytree': 0.6000000000000001, 'learning_rate': 0.1, 'min_child_samples': 30, 'n_estimators': 10000, 'n_jobs': -1, 'num_leaves': 16, 'objective': 'regression', 'subsample': 0.8, 'subsample_freq': 5}\n"
     ]
    },
    {
     "name": "stdout",
     "output_type": "stream",
     "text": [
      "[100]\tvalid_0's rmse: 0.89915\tvalid_0's l2: 0.808471\tvalid_1's rmse: 0.803088\tvalid_1's l2: 0.644951            \n",
      "[200]\tvalid_0's rmse: 0.898428\tvalid_0's l2: 0.807172\tvalid_1's rmse: 0.748385\tvalid_1's l2: 0.56008            \n",
      "[100]\tvalid_0's rmse: 0.838082\tvalid_0's l2: 0.702382\tvalid_1's rmse: 0.804751\tvalid_1's l2: 0.647625           \n",
      "[200]\tvalid_0's rmse: 0.834265\tvalid_0's l2: 0.695998\tvalid_1's rmse: 0.74925\tvalid_1's l2: 0.561376            \n",
      "[300]\tvalid_0's rmse: 0.831514\tvalid_0's l2: 0.691415\tvalid_1's rmse: 0.706958\tvalid_1's l2: 0.49979            \n",
      "[100]\tvalid_0's rmse: 0.874243\tvalid_0's l2: 0.764301\tvalid_1's rmse: 0.798369\tvalid_1's l2: 0.637393           \n",
      "[200]\tvalid_0's rmse: 0.870428\tvalid_0's l2: 0.757645\tvalid_1's rmse: 0.743485\tvalid_1's l2: 0.55277            \n",
      "[300]\tvalid_0's rmse: 0.872031\tvalid_0's l2: 0.760438\tvalid_1's rmse: 0.702229\tvalid_1's l2: 0.493125           \n",
      "  5%|██▏                                     | 12/220 [01:01<16:35,  4.79s/trial, best loss: 0.8646021929271984]"
     ]
    },
    {
     "name": "stderr",
     "output_type": "stream",
     "text": [
      "Score - 0.8655554215508191, Std - 0.027048543776264204, Eval Score - 0.8655554215508191\n",
      "Score across folds - [0.8967554550598431, 0.8307889233142626, 0.8691218862783516].\n"
     ]
    },
    {
     "name": "stdout",
     "output_type": "stream",
     "text": [
      "\r",
      "  6%|██▎                                     | 13/220 [01:02<15:56,  4.62s/trial, best loss: 0.8646021929271984]"
     ]
    },
    {
     "name": "stderr",
     "output_type": "stream",
     "text": [
      "\n",
      "Iteration: 14, Training with params: {'boosting_type': 'gbdt', 'colsample_bytree': 0.8, 'learning_rate': 0.1, 'min_child_samples': 60, 'n_estimators': 10000, 'n_jobs': -1, 'num_leaves': 32, 'objective': 'regression', 'subsample': 0.8, 'subsample_freq': 10}\n"
     ]
    },
    {
     "name": "stdout",
     "output_type": "stream",
     "text": [
      "[100]\tvalid_0's rmse: 0.899608\tvalid_0's l2: 0.809295\tvalid_1's rmse: 0.738727\tvalid_1's l2: 0.545717           \n",
      "[200]\tvalid_0's rmse: 0.89832\tvalid_0's l2: 0.806978\tvalid_1's rmse: 0.659011\tvalid_1's l2: 0.434295            \n",
      "[100]\tvalid_0's rmse: 0.83158\tvalid_0's l2: 0.691525\tvalid_1's rmse: 0.740614\tvalid_1's l2: 0.548509            \n",
      "[200]\tvalid_0's rmse: 0.832322\tvalid_0's l2: 0.692759\tvalid_1's rmse: 0.661603\tvalid_1's l2: 0.437719           \n",
      "[100]\tvalid_0's rmse: 0.872407\tvalid_0's l2: 0.761093\tvalid_1's rmse: 0.73644\tvalid_1's l2: 0.542344            \n",
      "[200]\tvalid_0's rmse: 0.875076\tvalid_0's l2: 0.765759\tvalid_1's rmse: 0.655825\tvalid_1's l2: 0.430107           \n",
      "  6%|██▎                                     | 13/220 [01:07<15:56,  4.62s/trial, best loss: 0.8646021929271984]"
     ]
    },
    {
     "name": "stderr",
     "output_type": "stream",
     "text": [
      "Score - 0.8665763845227247, Std - 0.026945698450094865, Eval Score - 0.8665763845227247\n",
      "Score across folds - [0.8967936342545214, 0.8313606872336753, 0.8715748320799772].\n"
     ]
    },
    {
     "name": "stdout",
     "output_type": "stream",
     "text": [
      "\r",
      "  6%|██▌                                     | 14/220 [01:07<16:58,  4.94s/trial, best loss: 0.8646021929271984]"
     ]
    },
    {
     "name": "stderr",
     "output_type": "stream",
     "text": [
      "\n",
      "Iteration: 15, Training with params: {'boosting_type': 'gbdt', 'colsample_bytree': 0.4, 'learning_rate': 0.1, 'min_child_samples': 60, 'n_estimators': 10000, 'n_jobs': -1, 'num_leaves': 48, 'objective': 'regression', 'subsample': 0.8, 'subsample_freq': 5}\n"
     ]
    },
    {
     "name": "stdout",
     "output_type": "stream",
     "text": [
      "[100]\tvalid_0's rmse: 0.90307\tvalid_0's l2: 0.815536\tvalid_1's rmse: 0.702972\tvalid_1's l2: 0.49417             \n",
      "[100]\tvalid_0's rmse: 0.835664\tvalid_0's l2: 0.698334\tvalid_1's rmse: 0.704958\tvalid_1's l2: 0.496966           \n",
      "[200]\tvalid_0's rmse: 0.833997\tvalid_0's l2: 0.69555\tvalid_1's rmse: 0.607271\tvalid_1's l2: 0.368778            \n",
      "[300]\tvalid_0's rmse: 0.836092\tvalid_0's l2: 0.69905\tvalid_1's rmse: 0.538728\tvalid_1's l2: 0.290228            \n",
      "[100]\tvalid_0's rmse: 0.879013\tvalid_0's l2: 0.772663\tvalid_1's rmse: 0.700994\tvalid_1's l2: 0.491393           \n",
      "  6%|██▌                                     | 14/220 [01:12<16:58,  4.94s/trial, best loss: 0.8646021929271984]"
     ]
    },
    {
     "name": "stderr",
     "output_type": "stream",
     "text": [
      "Score - 0.8704284500077099, Std - 0.029952619642575576, Eval Score - 0.8704284500077099\n",
      "Score across folds - [0.9027899738130247, 0.8305772853216663, 0.8779180908884389].\n"
     ]
    },
    {
     "name": "stdout",
     "output_type": "stream",
     "text": [
      "\r",
      "  7%|██▋                                     | 15/220 [01:12<16:47,  4.92s/trial, best loss: 0.8646021929271984]"
     ]
    },
    {
     "name": "stderr",
     "output_type": "stream",
     "text": [
      "\n",
      "Iteration: 16, Training with params: {'boosting_type': 'gbdt', 'colsample_bytree': 0.6000000000000001, 'learning_rate': 0.1, 'min_child_samples': 50, 'n_estimators': 10000, 'n_jobs': -1, 'num_leaves': 16, 'objective': 'regression', 'subsample': 0.6000000000000001, 'subsample_freq': 5}\n"
     ]
    },
    {
     "name": "stdout",
     "output_type": "stream",
     "text": [
      "[100]\tvalid_0's rmse: 0.89946\tvalid_0's l2: 0.809029\tvalid_1's rmse: 0.805107\tvalid_1's l2: 0.648197            \n",
      "[200]\tvalid_0's rmse: 0.903169\tvalid_0's l2: 0.815715\tvalid_1's rmse: 0.753506\tvalid_1's l2: 0.567771           \n",
      "[100]\tvalid_0's rmse: 0.842651\tvalid_0's l2: 0.710061\tvalid_1's rmse: 0.807669\tvalid_1's l2: 0.652329           \n",
      "[200]\tvalid_0's rmse: 0.839246\tvalid_0's l2: 0.704333\tvalid_1's rmse: 0.7552\tvalid_1's l2: 0.570327             \n",
      "[100]\tvalid_0's rmse: 0.875442\tvalid_0's l2: 0.766399\tvalid_1's rmse: 0.804773\tvalid_1's l2: 0.64766            \n",
      "[200]\tvalid_0's rmse: 0.875703\tvalid_0's l2: 0.766855\tvalid_1's rmse: 0.751341\tvalid_1's l2: 0.564513           \n",
      "  7%|██▋                                     | 15/220 [01:15<16:47,  4.92s/trial, best loss: 0.8646021929271984]"
     ]
    },
    {
     "name": "stderr",
     "output_type": "stream",
     "text": [
      "Score - 0.8698087312055618, Std - 0.025050760466514364, Eval Score - 0.8698087312055618\n",
      "Score across folds - [0.898790610438311, 0.8376727099223381, 0.8729628732560364].\n"
     ]
    },
    {
     "name": "stdout",
     "output_type": "stream",
     "text": [
      "\r",
      "  7%|██▉                                     | 16/220 [01:15<15:06,  4.44s/trial, best loss: 0.8646021929271984]"
     ]
    },
    {
     "name": "stderr",
     "output_type": "stream",
     "text": [
      "\n",
      "Iteration: 17, Training with params: {'boosting_type': 'gbdt', 'colsample_bytree': 0.4, 'learning_rate': 0.1, 'min_child_samples': 140, 'n_estimators': 10000, 'n_jobs': -1, 'num_leaves': 48, 'objective': 'regression', 'subsample': 0.8, 'subsample_freq': 10}\n"
     ]
    },
    {
     "name": "stdout",
     "output_type": "stream",
     "text": [
      "[100]\tvalid_0's rmse: 0.904389\tvalid_0's l2: 0.817919\tvalid_1's rmse: 0.724786\tvalid_1's l2: 0.525315           \n",
      "[100]\tvalid_0's rmse: 0.845041\tvalid_0's l2: 0.714095\tvalid_1's rmse: 0.724014\tvalid_1's l2: 0.524197           \n",
      "[200]\tvalid_0's rmse: 0.842698\tvalid_0's l2: 0.710141\tvalid_1's rmse: 0.634249\tvalid_1's l2: 0.402271           \n",
      "[100]\tvalid_0's rmse: 0.87608\tvalid_0's l2: 0.767517\tvalid_1's rmse: 0.722487\tvalid_1's l2: 0.521987            \n",
      "[200]\tvalid_0's rmse: 0.878263\tvalid_0's l2: 0.771346\tvalid_1's rmse: 0.631502\tvalid_1's l2: 0.398794           \n",
      "  7%|██▉                                     | 16/220 [01:20<15:06,  4.44s/trial, best loss: 0.8646021929271984]"
     ]
    },
    {
     "name": "stderr",
     "output_type": "stream",
     "text": [
      "Score - 0.8726005080010203, Std - 0.024434209463988027, Eval Score - 0.8726005080010203\n",
      "Score across folds - [0.9015861221495822, 0.8418159386673004, 0.8743994631861782].\n"
     ]
    },
    {
     "name": "stdout",
     "output_type": "stream",
     "text": [
      "\r",
      "  8%|███                                     | 17/220 [01:21<15:47,  4.67s/trial, best loss: 0.8646021929271984]"
     ]
    },
    {
     "name": "stderr",
     "output_type": "stream",
     "text": [
      "\n",
      "Iteration: 18, Training with params: {'boosting_type': 'gbdt', 'colsample_bytree': 0.6000000000000001, 'learning_rate': 0.1, 'min_child_samples': 30, 'n_estimators': 10000, 'n_jobs': -1, 'num_leaves': 48, 'objective': 'regression', 'subsample': 0.8, 'subsample_freq': 5}\n"
     ]
    },
    {
     "name": "stdout",
     "output_type": "stream",
     "text": [
      "[100]\tvalid_0's rmse: 0.907315\tvalid_0's l2: 0.823221\tvalid_1's rmse: 0.684433\tvalid_1's l2: 0.468448           \n",
      "[100]\tvalid_0's rmse: 0.831091\tvalid_0's l2: 0.690712\tvalid_1's rmse: 0.686239\tvalid_1's l2: 0.470923           \n",
      "[200]\tvalid_0's rmse: 0.831352\tvalid_0's l2: 0.691147\tvalid_1's rmse: 0.585815\tvalid_1's l2: 0.34318            \n",
      "[100]\tvalid_0's rmse: 0.874198\tvalid_0's l2: 0.764223\tvalid_1's rmse: 0.681309\tvalid_1's l2: 0.464182           \n",
      "  8%|███                                     | 17/220 [01:25<15:47,  4.67s/trial, best loss: 0.8646021929271984]"
     ]
    },
    {
     "name": "stderr",
     "output_type": "stream",
     "text": [
      "Score - 0.8696296786847512, Std - 0.03152514047709878, Eval Score - 0.8696296786847512\n",
      "Score across folds - [0.906066271659683, 0.8291620509166472, 0.8736607134779231].\n"
     ]
    },
    {
     "name": "stdout",
     "output_type": "stream",
     "text": [
      "\r",
      "  8%|███▎                                    | 18/220 [01:26<16:37,  4.94s/trial, best loss: 0.8646021929271984]"
     ]
    },
    {
     "name": "stderr",
     "output_type": "stream",
     "text": [
      "\n",
      "Iteration: 19, Training with params: {'boosting_type': 'gbdt', 'colsample_bytree': 0.6000000000000001, 'learning_rate': 0.1, 'min_child_samples': 50, 'n_estimators': 10000, 'n_jobs': -1, 'num_leaves': 32, 'objective': 'regression', 'subsample': 0.6000000000000001, 'subsample_freq': 5}\n"
     ]
    },
    {
     "name": "stdout",
     "output_type": "stream",
     "text": [
      "[100]\tvalid_0's rmse: 0.902945\tvalid_0's l2: 0.815309\tvalid_1's rmse: 0.744216\tvalid_1's l2: 0.553858           \n",
      "[100]\tvalid_0's rmse: 0.838981\tvalid_0's l2: 0.703889\tvalid_1's rmse: 0.747868\tvalid_1's l2: 0.559306           \n",
      "[200]\tvalid_0's rmse: 0.838585\tvalid_0's l2: 0.703226\tvalid_1's rmse: 0.668264\tvalid_1's l2: 0.446577           \n",
      "[100]\tvalid_0's rmse: 0.877656\tvalid_0's l2: 0.77028\tvalid_1's rmse: 0.743632\tvalid_1's l2: 0.552989            \n",
      "[200]\tvalid_0's rmse: 0.882136\tvalid_0's l2: 0.778163\tvalid_1's rmse: 0.665022\tvalid_1's l2: 0.442254           \n",
      "  8%|███▎                                    | 18/220 [01:30<16:37,  4.94s/trial, best loss: 0.8646021929271984]"
     ]
    },
    {
     "name": "stderr",
     "output_type": "stream",
     "text": [
      "Score - 0.870722242837875, Std - 0.02703109259970724, Eval Score - 0.870722242837875\n",
      "Score across folds - [0.9016808284482407, 0.8358214559229393, 0.8746644441424452].\n"
     ]
    },
    {
     "name": "stdout",
     "output_type": "stream",
     "text": [
      "\r",
      "  9%|███▍                                    | 19/220 [01:31<16:01,  4.78s/trial, best loss: 0.8646021929271984]"
     ]
    },
    {
     "name": "stderr",
     "output_type": "stream",
     "text": [
      "\n",
      "Iteration: 20, Training with params: {'boosting_type': 'gbdt', 'colsample_bytree': 0.6000000000000001, 'learning_rate': 0.1, 'min_child_samples': 130, 'n_estimators': 10000, 'n_jobs': -1, 'num_leaves': 32, 'objective': 'regression', 'subsample': 1.0, 'subsample_freq': 10}\n"
     ]
    },
    {
     "name": "stdout",
     "output_type": "stream",
     "text": [
      "[100]\tvalid_0's rmse: 0.896744\tvalid_0's l2: 0.80415\tvalid_1's rmse: 0.746835\tvalid_1's l2: 0.557763            \n",
      "[200]\tvalid_0's rmse: 0.899097\tvalid_0's l2: 0.808375\tvalid_1's rmse: 0.674115\tvalid_1's l2: 0.454432           \n",
      "[100]\tvalid_0's rmse: 0.834928\tvalid_0's l2: 0.697105\tvalid_1's rmse: 0.749586\tvalid_1's l2: 0.56188            \n",
      "[200]\tvalid_0's rmse: 0.832138\tvalid_0's l2: 0.692453\tvalid_1's rmse: 0.676708\tvalid_1's l2: 0.457933           \n",
      "[100]\tvalid_0's rmse: 0.87467\tvalid_0's l2: 0.765048\tvalid_1's rmse: 0.745459\tvalid_1's l2: 0.555709            \n",
      "[200]\tvalid_0's rmse: 0.873248\tvalid_0's l2: 0.762562\tvalid_1's rmse: 0.671504\tvalid_1's l2: 0.450918           \n",
      "  9%|███▍                                    | 19/220 [01:35<16:01,  4.78s/trial, best loss: 0.8646021929271984]"
     ]
    },
    {
     "name": "stderr",
     "output_type": "stream",
     "text": [
      "Score - 0.8659486226183689, Std - 0.026684509854528207, Eval Score - 0.8659486226183689\n",
      "Score across folds - [0.8953931403001608, 0.8307847424344972, 0.8716679851204486].\n"
     ]
    },
    {
     "name": "stdout",
     "output_type": "stream",
     "text": [
      "\r",
      "  9%|███▋                                    | 20/220 [01:36<16:13,  4.87s/trial, best loss: 0.8646021929271984]"
     ]
    },
    {
     "name": "stderr",
     "output_type": "stream",
     "text": [
      "\n",
      "Iteration: 21, Training with params: {'boosting_type': 'gbdt', 'colsample_bytree': 0.8, 'learning_rate': 0.1, 'min_child_samples': 10, 'n_estimators': 10000, 'n_jobs': -1, 'num_leaves': 16, 'objective': 'regression', 'subsample': 0.6000000000000001, 'subsample_freq': 10}\n"
     ]
    },
    {
     "name": "stdout",
     "output_type": "stream",
     "text": [
      "[100]\tvalid_0's rmse: 0.902868\tvalid_0's l2: 0.81517\tvalid_1's rmse: 0.799748\tvalid_1's l2: 0.639597            \n",
      "[200]\tvalid_0's rmse: 0.903208\tvalid_0's l2: 0.815785\tvalid_1's rmse: 0.74218\tvalid_1's l2: 0.550831            \n",
      "[100]\tvalid_0's rmse: 0.836934\tvalid_0's l2: 0.700459\tvalid_1's rmse: 0.803794\tvalid_1's l2: 0.646084           \n",
      "[200]\tvalid_0's rmse: 0.838221\tvalid_0's l2: 0.702615\tvalid_1's rmse: 0.746671\tvalid_1's l2: 0.557518           \n",
      "[100]\tvalid_0's rmse: 0.877105\tvalid_0's l2: 0.769314\tvalid_1's rmse: 0.799515\tvalid_1's l2: 0.639225           \n",
      "[200]\tvalid_0's rmse: 0.877065\tvalid_0's l2: 0.769242\tvalid_1's rmse: 0.740929\tvalid_1's l2: 0.548976           \n",
      "  9%|███▋                                    | 20/220 [01:39<16:13,  4.87s/trial, best loss: 0.8646021929271984]"
     ]
    },
    {
     "name": "stderr",
     "output_type": "stream",
     "text": [
      "Score - 0.8688821525315982, Std - 0.028336071476734778, Eval Score - 0.8688821525315982\n",
      "Score across folds - [0.9003143288430155, 0.8316390316182632, 0.8746930971335156].\n"
     ]
    },
    {
     "name": "stdout",
     "output_type": "stream",
     "text": [
      "\r",
      " 10%|███▊                                    | 21/220 [01:40<15:13,  4.59s/trial, best loss: 0.8646021929271984]"
     ]
    },
    {
     "name": "stderr",
     "output_type": "stream",
     "text": [
      "\n",
      "Iteration: 22, Training with params: {'boosting_type': 'gbdt', 'colsample_bytree': 1.0, 'learning_rate': 0.1, 'min_child_samples': 40, 'n_estimators': 10000, 'n_jobs': -1, 'num_leaves': 16, 'objective': 'regression', 'subsample': 1.0, 'subsample_freq': 5}\n"
     ]
    },
    {
     "name": "stdout",
     "output_type": "stream",
     "text": [
      "[100]\tvalid_0's rmse: 0.900742\tvalid_0's l2: 0.811336\tvalid_1's rmse: 0.798125\tvalid_1's l2: 0.637004           \n",
      "[200]\tvalid_0's rmse: 0.899508\tvalid_0's l2: 0.809114\tvalid_1's rmse: 0.742676\tvalid_1's l2: 0.551567           \n",
      "[300]\tvalid_0's rmse: 0.900785\tvalid_0's l2: 0.811413\tvalid_1's rmse: 0.701137\tvalid_1's l2: 0.491593           \n",
      "[100]\tvalid_0's rmse: 0.835122\tvalid_0's l2: 0.697429\tvalid_1's rmse: 0.800802\tvalid_1's l2: 0.641284           \n",
      "[200]\tvalid_0's rmse: 0.83123\tvalid_0's l2: 0.690944\tvalid_1's rmse: 0.744998\tvalid_1's l2: 0.555022            \n",
      "[300]\tvalid_0's rmse: 0.830221\tvalid_0's l2: 0.689266\tvalid_1's rmse: 0.702322\tvalid_1's l2: 0.493256           \n",
      "[100]\tvalid_0's rmse: 0.874964\tvalid_0's l2: 0.765563\tvalid_1's rmse: 0.796016\tvalid_1's l2: 0.633642           \n",
      "[200]\tvalid_0's rmse: 0.871944\tvalid_0's l2: 0.760286\tvalid_1's rmse: 0.740634\tvalid_1's l2: 0.548539           \n",
      "[300]\tvalid_0's rmse: 0.872997\tvalid_0's l2: 0.762123\tvalid_1's rmse: 0.698403\tvalid_1's l2: 0.487767           \n",
      " 10%|███▊                                    | 21/220 [01:45<15:13,  4.59s/trial, best loss: 0.8646021929271984]"
     ]
    },
    {
     "name": "stderr",
     "output_type": "stream",
     "text": [
      "Score - 0.8663819095629987, Std - 0.028023895798005346, Eval Score - 0.8663819095629987\n",
      "Score across folds - [0.8978845385489516, 0.8298052168315305, 0.8714559733085138].\n"
     ]
    },
    {
     "name": "stdout",
     "output_type": "stream",
     "text": [
      "\r",
      " 10%|████                                    | 22/220 [01:45<16:21,  4.95s/trial, best loss: 0.8646021929271984]"
     ]
    },
    {
     "name": "stderr",
     "output_type": "stream",
     "text": [
      "\n",
      "Iteration: 23, Training with params: {'boosting_type': 'gbdt', 'colsample_bytree': 0.8, 'learning_rate': 0.1, 'min_child_samples': 90, 'n_estimators': 10000, 'n_jobs': -1, 'num_leaves': 16, 'objective': 'regression', 'subsample': 0.6000000000000001, 'subsample_freq': 10}\n"
     ]
    },
    {
     "name": "stdout",
     "output_type": "stream",
     "text": [
      "[100]\tvalid_0's rmse: 0.900456\tvalid_0's l2: 0.810821\tvalid_1's rmse: 0.807693\tvalid_1's l2: 0.652368           \n",
      "[200]\tvalid_0's rmse: 0.898103\tvalid_0's l2: 0.806589\tvalid_1's rmse: 0.757714\tvalid_1's l2: 0.574131           \n",
      "[100]\tvalid_0's rmse: 0.841769\tvalid_0's l2: 0.708575\tvalid_1's rmse: 0.81056\tvalid_1's l2: 0.657008            \n",
      "[200]\tvalid_0's rmse: 0.842435\tvalid_0's l2: 0.709697\tvalid_1's rmse: 0.75994\tvalid_1's l2: 0.577509            \n",
      "[100]\tvalid_0's rmse: 0.877892\tvalid_0's l2: 0.770694\tvalid_1's rmse: 0.805168\tvalid_1's l2: 0.648296           \n",
      "[200]\tvalid_0's rmse: 0.870988\tvalid_0's l2: 0.758621\tvalid_1's rmse: 0.754487\tvalid_1's l2: 0.56925            \n",
      " 10%|████                                    | 22/220 [01:49<16:21,  4.95s/trial, best loss: 0.8646021929271984]"
     ]
    },
    {
     "name": "stderr",
     "output_type": "stream",
     "text": [
      "Score - 0.8672226104271799, Std - 0.0245212645763859, Eval Score - 0.8672226104271799\n",
      "Score across folds - [0.8961395670318368, 0.8361871649661409, 0.8693410992835615].\n"
     ]
    },
    {
     "name": "stdout",
     "output_type": "stream",
     "text": [
      "\r",
      " 10%|████▏                                   | 23/220 [01:50<15:26,  4.70s/trial, best loss: 0.8646021929271984]"
     ]
    },
    {
     "name": "stderr",
     "output_type": "stream",
     "text": [
      "\n",
      "Iteration: 24, Training with params: {'boosting_type': 'gbdt', 'colsample_bytree': 1.0, 'learning_rate': 0.1, 'min_child_samples': 0, 'n_estimators': 10000, 'n_jobs': -1, 'num_leaves': 16, 'objective': 'regression', 'subsample': 1.0, 'subsample_freq': 5}\n"
     ]
    },
    {
     "name": "stdout",
     "output_type": "stream",
     "text": [
      "[100]\tvalid_0's rmse: 0.904998\tvalid_0's l2: 0.819022\tvalid_1's rmse: 0.796107\tvalid_1's l2: 0.633787           \n",
      "[200]\tvalid_0's rmse: 0.904907\tvalid_0's l2: 0.818856\tvalid_1's rmse: 0.73677\tvalid_1's l2: 0.542829            \n",
      "[100]\tvalid_0's rmse: 0.834888\tvalid_0's l2: 0.697039\tvalid_1's rmse: 0.797566\tvalid_1's l2: 0.636111           \n",
      "[200]\tvalid_0's rmse: 0.834099\tvalid_0's l2: 0.695721\tvalid_1's rmse: 0.737501\tvalid_1's l2: 0.543908           \n",
      "[100]\tvalid_0's rmse: 0.874118\tvalid_0's l2: 0.764083\tvalid_1's rmse: 0.794481\tvalid_1's l2: 0.6312             \n",
      "[200]\tvalid_0's rmse: 0.872875\tvalid_0's l2: 0.761911\tvalid_1's rmse: 0.733749\tvalid_1's l2: 0.538387           \n",
      "[300]\tvalid_0's rmse: 0.8749\tvalid_0's l2: 0.765451\tvalid_1's rmse: 0.688035\tvalid_1's l2: 0.473393             \n",
      " 10%|████▏                                   | 23/220 [01:54<15:26,  4.70s/trial, best loss: 0.8646021929271984]"
     ]
    },
    {
     "name": "stderr",
     "output_type": "stream",
     "text": [
      "Score - 0.8693029026870294, Std - 0.029129019198141447, Eval Score - 0.8693029026870294\n",
      "Score across folds - [0.9039154283496449, 0.8326516291395285, 0.8713416505719148].\n"
     ]
    },
    {
     "name": "stdout",
     "output_type": "stream",
     "text": [
      "\r",
      " 11%|████▎                                   | 24/220 [01:55<15:47,  4.83s/trial, best loss: 0.8646021929271984]"
     ]
    },
    {
     "name": "stderr",
     "output_type": "stream",
     "text": [
      "\n",
      "Iteration: 25, Training with params: {'boosting_type': 'gbdt', 'colsample_bytree': 0.8, 'learning_rate': 0.1, 'min_child_samples': 20, 'n_estimators': 10000, 'n_jobs': -1, 'num_leaves': 16, 'objective': 'regression', 'subsample': 0.6000000000000001, 'subsample_freq': 10}\n"
     ]
    },
    {
     "name": "stdout",
     "output_type": "stream",
     "text": [
      "[100]\tvalid_0's rmse: 0.895911\tvalid_0's l2: 0.802657\tvalid_1's rmse: 0.801192\tvalid_1's l2: 0.641909           \n",
      "[200]\tvalid_0's rmse: 0.89884\tvalid_0's l2: 0.807913\tvalid_1's rmse: 0.745711\tvalid_1's l2: 0.556086            \n",
      "[100]\tvalid_0's rmse: 0.843377\tvalid_0's l2: 0.711284\tvalid_1's rmse: 0.805365\tvalid_1's l2: 0.648613           \n",
      "[200]\tvalid_0's rmse: 0.841037\tvalid_0's l2: 0.707343\tvalid_1's rmse: 0.748797\tvalid_1's l2: 0.560697           \n",
      "[100]\tvalid_0's rmse: 0.872396\tvalid_0's l2: 0.761075\tvalid_1's rmse: 0.801266\tvalid_1's l2: 0.642028           \n",
      "[200]\tvalid_0's rmse: 0.871482\tvalid_0's l2: 0.75948\tvalid_1's rmse: 0.743589\tvalid_1's l2: 0.552925            \n",
      " 11%|████▎                                   | 24/220 [01:58<15:47,  4.83s/trial, best loss: 0.8646021929271984]"
     ]
    },
    {
     "name": "stderr",
     "output_type": "stream",
     "text": [
      "Score - 0.8672189728953189, Std - 0.02292554290048968, Eval Score - 0.8672189728953189\n",
      "Score across folds - [0.8946112821140519, 0.8385022716024167, 0.8685433649694885].\n"
     ]
    },
    {
     "name": "stdout",
     "output_type": "stream",
     "text": [
      "\r",
      " 11%|████▌                                   | 25/220 [01:59<14:51,  4.57s/trial, best loss: 0.8646021929271984]"
     ]
    },
    {
     "name": "stderr",
     "output_type": "stream",
     "text": [
      "\n",
      "Iteration: 26, Training with params: {'boosting_type': 'gbdt', 'colsample_bytree': 1.0, 'learning_rate': 0.1, 'min_child_samples': 40, 'n_estimators': 10000, 'n_jobs': -1, 'num_leaves': 16, 'objective': 'regression', 'subsample': 0.6000000000000001, 'subsample_freq': 5}\n"
     ]
    },
    {
     "name": "stdout",
     "output_type": "stream",
     "text": [
      "[100]\tvalid_0's rmse: 0.900877\tvalid_0's l2: 0.811579\tvalid_1's rmse: 0.799595\tvalid_1's l2: 0.639351           \n",
      "[100]\tvalid_0's rmse: 0.83788\tvalid_0's l2: 0.702044\tvalid_1's rmse: 0.802754\tvalid_1's l2: 0.644414            \n",
      "[200]\tvalid_0's rmse: 0.838167\tvalid_0's l2: 0.702525\tvalid_1's rmse: 0.748782\tvalid_1's l2: 0.560674           \n",
      "[100]\tvalid_0's rmse: 0.866894\tvalid_0's l2: 0.751505\tvalid_1's rmse: 0.79886\tvalid_1's l2: 0.638177            \n",
      "[200]\tvalid_0's rmse: 0.868023\tvalid_0's l2: 0.753465\tvalid_1's rmse: 0.743118\tvalid_1's l2: 0.552224           \n",
      " 11%|████▌                                   | 25/220 [02:02<14:51,  4.57s/trial, best loss: 0.8646021929271984]"
     ]
    },
    {
     "name": "stderr",
     "output_type": "stream",
     "text": [
      "Score - 0.8676717667995691, Std - 0.026107461779896857, Eval Score - 0.8676717667995691\n",
      "Score across folds - [0.9008722061078102, 0.8370823562042964, 0.8650607380866009].\n"
     ]
    },
    {
     "name": "stdout",
     "output_type": "stream",
     "text": [
      "\r",
      " 12%|████▋                                   | 26/220 [02:03<14:09,  4.38s/trial, best loss: 0.8646021929271984]"
     ]
    },
    {
     "name": "stderr",
     "output_type": "stream",
     "text": [
      "\n",
      "Iteration: 27, Training with params: {'boosting_type': 'gbdt', 'colsample_bytree': 0.8, 'learning_rate': 0.1, 'min_child_samples': 90, 'n_estimators': 10000, 'n_jobs': -1, 'num_leaves': 16, 'objective': 'regression', 'subsample': 1.0, 'subsample_freq': 10}\n"
     ]
    },
    {
     "name": "stdout",
     "output_type": "stream",
     "text": [
      "[100]\tvalid_0's rmse: 0.896201\tvalid_0's l2: 0.803176\tvalid_1's rmse: 0.802049\tvalid_1's l2: 0.643282           \n",
      "[200]\tvalid_0's rmse: 0.891947\tvalid_0's l2: 0.79557\tvalid_1's rmse: 0.751353\tvalid_1's l2: 0.564532            \n",
      "[100]\tvalid_0's rmse: 0.832942\tvalid_0's l2: 0.693792\tvalid_1's rmse: 0.803713\tvalid_1's l2: 0.645955           \n",
      "[200]\tvalid_0's rmse: 0.828739\tvalid_0's l2: 0.686809\tvalid_1's rmse: 0.75204\tvalid_1's l2: 0.565565            \n",
      "[300]\tvalid_0's rmse: 0.827675\tvalid_0's l2: 0.685047\tvalid_1's rmse: 0.714469\tvalid_1's l2: 0.510466           \n",
      "[100]\tvalid_0's rmse: 0.868688\tvalid_0's l2: 0.754618\tvalid_1's rmse: 0.798485\tvalid_1's l2: 0.637578           \n",
      "[200]\tvalid_0's rmse: 0.866917\tvalid_0's l2: 0.751545\tvalid_1's rmse: 0.746432\tvalid_1's l2: 0.557161           \n",
      "[300]\tvalid_0's rmse: 0.866916\tvalid_0's l2: 0.751543\tvalid_1's rmse: 0.707903\tvalid_1's l2: 0.501127           \n",
      " 12%|████▋                                   | 26/220 [02:08<14:09,  4.38s/trial, best loss: 0.8646021929271984]"
     ]
    },
    {
     "name": "stderr",
     "output_type": "stream",
     "text": [
      "Score - 0.8610839679639536, Std - 0.026740229842720033, Eval Score - 0.8610839679639536\n",
      "Score across folds - [0.8919421973540256, 0.8267237387416502, 0.864585967796185].\n"
     ]
    },
    {
     "name": "stdout",
     "output_type": "stream",
     "text": [
      "\r",
      " 12%|████▉                                   | 27/220 [02:08<14:58,  4.66s/trial, best loss: 0.8610839679639536]"
     ]
    },
    {
     "name": "stderr",
     "output_type": "stream",
     "text": [
      "\n",
      "Iteration: 28, Training with params: {'boosting_type': 'gbdt', 'colsample_bytree': 1.0, 'learning_rate': 0.1, 'min_child_samples': 90, 'n_estimators': 10000, 'n_jobs': -1, 'num_leaves': 16, 'objective': 'regression', 'subsample': 1.0, 'subsample_freq': 10}\n"
     ]
    },
    {
     "name": "stdout",
     "output_type": "stream",
     "text": [
      "[100]\tvalid_0's rmse: 0.896267\tvalid_0's l2: 0.803295\tvalid_1's rmse: 0.800182\tvalid_1's l2: 0.640292           \n",
      "[200]\tvalid_0's rmse: 0.894218\tvalid_0's l2: 0.799626\tvalid_1's rmse: 0.747652\tvalid_1's l2: 0.558984           \n",
      "[100]\tvalid_0's rmse: 0.833999\tvalid_0's l2: 0.695555\tvalid_1's rmse: 0.802555\tvalid_1's l2: 0.644095           \n",
      "[200]\tvalid_0's rmse: 0.83171\tvalid_0's l2: 0.691741\tvalid_1's rmse: 0.750875\tvalid_1's l2: 0.563814            \n",
      "[300]\tvalid_0's rmse: 0.83222\tvalid_0's l2: 0.692591\tvalid_1's rmse: 0.712241\tvalid_1's l2: 0.507287            \n",
      "[100]\tvalid_0's rmse: 0.86978\tvalid_0's l2: 0.756517\tvalid_1's rmse: 0.798631\tvalid_1's l2: 0.637811            \n",
      "[200]\tvalid_0's rmse: 0.867703\tvalid_0's l2: 0.752908\tvalid_1's rmse: 0.746597\tvalid_1's l2: 0.557407           \n",
      " 12%|████▉                                   | 27/220 [02:13<14:58,  4.66s/trial, best loss: 0.8610839679639536]"
     ]
    },
    {
     "name": "stderr",
     "output_type": "stream",
     "text": [
      "Score - 0.8637368386419247, Std - 0.025823662875176644, Eval Score - 0.8637368386419247\n",
      "Score across folds - [0.8937961147002595, 0.8307455111439802, 0.8666688900815345].\n"
     ]
    },
    {
     "name": "stdout",
     "output_type": "stream",
     "text": [
      "\r",
      " 13%|█████                                   | 28/220 [02:13<15:28,  4.83s/trial, best loss: 0.8610839679639536]"
     ]
    },
    {
     "name": "stderr",
     "output_type": "stream",
     "text": [
      "\n",
      "Iteration: 29, Training with params: {'boosting_type': 'gbdt', 'colsample_bytree': 0.8, 'learning_rate': 0.1, 'min_child_samples': 100, 'n_estimators': 10000, 'n_jobs': -1, 'num_leaves': 16, 'objective': 'regression', 'subsample': 1.0, 'subsample_freq': 10}\n"
     ]
    },
    {
     "name": "stdout",
     "output_type": "stream",
     "text": [
      "[100]\tvalid_0's rmse: 0.896721\tvalid_0's l2: 0.804109\tvalid_1's rmse: 0.802478\tvalid_1's l2: 0.643971           \n",
      "[200]\tvalid_0's rmse: 0.8955\tvalid_0's l2: 0.80192\tvalid_1's rmse: 0.75104\tvalid_1's l2: 0.564062               \n",
      "[100]\tvalid_0's rmse: 0.833125\tvalid_0's l2: 0.694097\tvalid_1's rmse: 0.803464\tvalid_1's l2: 0.645554           \n",
      "[200]\tvalid_0's rmse: 0.829991\tvalid_0's l2: 0.688885\tvalid_1's rmse: 0.752159\tvalid_1's l2: 0.565743           \n",
      "[300]\tvalid_0's rmse: 0.828085\tvalid_0's l2: 0.685725\tvalid_1's rmse: 0.712953\tvalid_1's l2: 0.508302           \n",
      "[400]\tvalid_0's rmse: 0.827643\tvalid_0's l2: 0.684993\tvalid_1's rmse: 0.680845\tvalid_1's l2: 0.46355            \n",
      "[100]\tvalid_0's rmse: 0.871166\tvalid_0's l2: 0.75893\tvalid_1's rmse: 0.799971\tvalid_1's l2: 0.639953            \n",
      "[200]\tvalid_0's rmse: 0.868183\tvalid_0's l2: 0.753741\tvalid_1's rmse: 0.748\tvalid_1's l2: 0.559504              \n",
      "[300]\tvalid_0's rmse: 0.869814\tvalid_0's l2: 0.756576\tvalid_1's rmse: 0.70984\tvalid_1's l2: 0.503873            \n",
      " 13%|█████                                   | 28/220 [02:18<15:28,  4.83s/trial, best loss: 0.8610839679639536]"
     ]
    },
    {
     "name": "stderr",
     "output_type": "stream",
     "text": [
      "Score - 0.862737934190379, Std - 0.027649661554100913, Eval Score - 0.862737934190379\n",
      "Score across folds - [0.8940035919298196, 0.8267679555529404, 0.8674422550883774].\n"
     ]
    },
    {
     "name": "stdout",
     "output_type": "stream",
     "text": [
      "\r",
      " 13%|█████▎                                  | 29/220 [02:18<15:51,  4.98s/trial, best loss: 0.8610839679639536]"
     ]
    },
    {
     "name": "stderr",
     "output_type": "stream",
     "text": [
      "\n",
      "Iteration: 30, Training with params: {'boosting_type': 'gbdt', 'colsample_bytree': 0.8, 'learning_rate': 0.1, 'min_child_samples': 100, 'n_estimators': 10000, 'n_jobs': -1, 'num_leaves': 16, 'objective': 'regression', 'subsample': 1.0, 'subsample_freq': 10}\n"
     ]
    },
    {
     "name": "stdout",
     "output_type": "stream",
     "text": [
      "[100]\tvalid_0's rmse: 0.896721\tvalid_0's l2: 0.804109\tvalid_1's rmse: 0.802478\tvalid_1's l2: 0.643971           \n",
      "[200]\tvalid_0's rmse: 0.8955\tvalid_0's l2: 0.80192\tvalid_1's rmse: 0.75104\tvalid_1's l2: 0.564062               \n",
      "[100]\tvalid_0's rmse: 0.833125\tvalid_0's l2: 0.694097\tvalid_1's rmse: 0.803464\tvalid_1's l2: 0.645554           \n",
      "[200]\tvalid_0's rmse: 0.829991\tvalid_0's l2: 0.688885\tvalid_1's rmse: 0.752159\tvalid_1's l2: 0.565743           \n",
      "[300]\tvalid_0's rmse: 0.828085\tvalid_0's l2: 0.685725\tvalid_1's rmse: 0.712953\tvalid_1's l2: 0.508302           \n",
      "[400]\tvalid_0's rmse: 0.827643\tvalid_0's l2: 0.684993\tvalid_1's rmse: 0.680845\tvalid_1's l2: 0.46355            \n",
      "[100]\tvalid_0's rmse: 0.871166\tvalid_0's l2: 0.75893\tvalid_1's rmse: 0.799971\tvalid_1's l2: 0.639953            \n",
      "[200]\tvalid_0's rmse: 0.868183\tvalid_0's l2: 0.753741\tvalid_1's rmse: 0.748\tvalid_1's l2: 0.559504              \n",
      "[300]\tvalid_0's rmse: 0.869814\tvalid_0's l2: 0.756576\tvalid_1's rmse: 0.70984\tvalid_1's l2: 0.503873            \n",
      " 13%|█████▎                                  | 29/220 [02:24<15:51,  4.98s/trial, best loss: 0.8610839679639536]"
     ]
    },
    {
     "name": "stderr",
     "output_type": "stream",
     "text": [
      "Score - 0.862737934190379, Std - 0.027649661554100913, Eval Score - 0.862737934190379\n",
      "Score across folds - [0.8940035919298196, 0.8267679555529404, 0.8674422550883774].\n"
     ]
    },
    {
     "name": "stdout",
     "output_type": "stream",
     "text": [
      "\r",
      " 14%|█████▍                                  | 30/220 [02:24<16:06,  5.09s/trial, best loss: 0.8610839679639536]"
     ]
    },
    {
     "name": "stderr",
     "output_type": "stream",
     "text": [
      "\n",
      "Iteration: 31, Training with params: {'boosting_type': 'gbdt', 'colsample_bytree': 0.8, 'learning_rate': 0.1, 'min_child_samples': 110, 'n_estimators': 10000, 'n_jobs': -1, 'num_leaves': 16, 'objective': 'regression', 'subsample': 1.0, 'subsample_freq': 10}\n"
     ]
    },
    {
     "name": "stdout",
     "output_type": "stream",
     "text": [
      "[100]\tvalid_0's rmse: 0.895397\tvalid_0's l2: 0.801736\tvalid_1's rmse: 0.803209\tvalid_1's l2: 0.645145           \n",
      "[200]\tvalid_0's rmse: 0.894279\tvalid_0's l2: 0.799735\tvalid_1's rmse: 0.751945\tvalid_1's l2: 0.565422           \n",
      "[100]\tvalid_0's rmse: 0.834536\tvalid_0's l2: 0.696451\tvalid_1's rmse: 0.805285\tvalid_1's l2: 0.648484           \n",
      "[200]\tvalid_0's rmse: 0.830165\tvalid_0's l2: 0.689173\tvalid_1's rmse: 0.753204\tvalid_1's l2: 0.567317           \n",
      "[300]\tvalid_0's rmse: 0.830981\tvalid_0's l2: 0.690529\tvalid_1's rmse: 0.716161\tvalid_1's l2: 0.512887           \n",
      "[100]\tvalid_0's rmse: 0.87215\tvalid_0's l2: 0.760646\tvalid_1's rmse: 0.800634\tvalid_1's l2: 0.641014            \n",
      "[200]\tvalid_0's rmse: 0.868144\tvalid_0's l2: 0.753674\tvalid_1's rmse: 0.750102\tvalid_1's l2: 0.562653           \n",
      " 14%|█████▍                                  | 30/220 [02:28<16:06,  5.09s/trial, best loss: 0.8610839679639536]"
     ]
    },
    {
     "name": "stderr",
     "output_type": "stream",
     "text": [
      "Score - 0.8634484965614889, Std - 0.026771936143266787, Eval Score - 0.8634484965614889\n",
      "Score across folds - [0.893981499224136, 0.8287936828077078, 0.8675703076526232].\n"
     ]
    },
    {
     "name": "stdout",
     "output_type": "stream",
     "text": [
      "\r",
      " 14%|█████▋                                  | 31/220 [02:29<15:47,  5.01s/trial, best loss: 0.8610839679639536]"
     ]
    },
    {
     "name": "stderr",
     "output_type": "stream",
     "text": [
      "\n",
      "Iteration: 32, Training with params: {'boosting_type': 'gbdt', 'colsample_bytree': 0.8, 'learning_rate': 0.1, 'min_child_samples': 140, 'n_estimators': 10000, 'n_jobs': -1, 'num_leaves': 16, 'objective': 'regression', 'subsample': 1.0, 'subsample_freq': 10}\n"
     ]
    },
    {
     "name": "stdout",
     "output_type": "stream",
     "text": [
      "[100]\tvalid_0's rmse: 0.894651\tvalid_0's l2: 0.8004\tvalid_1's rmse: 0.805127\tvalid_1's l2: 0.64823              \n",
      "[200]\tvalid_0's rmse: 0.893143\tvalid_0's l2: 0.797705\tvalid_1's rmse: 0.756022\tvalid_1's l2: 0.571569           \n",
      "[300]\tvalid_0's rmse: 0.892379\tvalid_0's l2: 0.796341\tvalid_1's rmse: 0.719285\tvalid_1's l2: 0.517372           \n",
      "[100]\tvalid_0's rmse: 0.836728\tvalid_0's l2: 0.700114\tvalid_1's rmse: 0.807144\tvalid_1's l2: 0.651482           \n",
      "[200]\tvalid_0's rmse: 0.831867\tvalid_0's l2: 0.692002\tvalid_1's rmse: 0.757468\tvalid_1's l2: 0.573757           \n",
      "[300]\tvalid_0's rmse: 0.831356\tvalid_0's l2: 0.691154\tvalid_1's rmse: 0.720345\tvalid_1's l2: 0.518897           \n",
      "[400]\tvalid_0's rmse: 0.829999\tvalid_0's l2: 0.688898\tvalid_1's rmse: 0.689929\tvalid_1's l2: 0.476001           \n",
      "[100]\tvalid_0's rmse: 0.871346\tvalid_0's l2: 0.759245\tvalid_1's rmse: 0.801621\tvalid_1's l2: 0.642597           \n",
      "[200]\tvalid_0's rmse: 0.868209\tvalid_0's l2: 0.753786\tvalid_1's rmse: 0.751361\tvalid_1's l2: 0.564543           \n",
      "[300]\tvalid_0's rmse: 0.867013\tvalid_0's l2: 0.751712\tvalid_1's rmse: 0.715834\tvalid_1's l2: 0.512419           \n",
      "[400]\tvalid_0's rmse: 0.869134\tvalid_0's l2: 0.755394\tvalid_1's rmse: 0.685976\tvalid_1's l2: 0.470563           \n",
      " 14%|█████▋                                  | 31/220 [02:35<15:47,  5.01s/trial, best loss: 0.8610839679639536]"
     ]
    },
    {
     "name": "stderr",
     "output_type": "stream",
     "text": [
      "Score - 0.8622438099992724, Std - 0.02517402613507654, Eval Score - 0.8622438099992724\n",
      "Score across folds - [0.8907587050440379, 0.829526325688904, 0.8664463992648753].\n"
     ]
    },
    {
     "name": "stdout",
     "output_type": "stream",
     "text": [
      "\r",
      " 15%|█████▊                                  | 32/220 [02:35<16:52,  5.39s/trial, best loss: 0.8610839679639536]"
     ]
    },
    {
     "name": "stderr",
     "output_type": "stream",
     "text": [
      "\n",
      "Iteration: 33, Training with params: {'boosting_type': 'gbdt', 'colsample_bytree': 0.8, 'learning_rate': 0.1, 'min_child_samples': 140, 'n_estimators': 10000, 'n_jobs': -1, 'num_leaves': 16, 'objective': 'regression', 'subsample': 1.0, 'subsample_freq': 10}\n"
     ]
    },
    {
     "name": "stdout",
     "output_type": "stream",
     "text": [
      "[100]\tvalid_0's rmse: 0.894651\tvalid_0's l2: 0.8004\tvalid_1's rmse: 0.805127\tvalid_1's l2: 0.64823              \n",
      "[200]\tvalid_0's rmse: 0.893143\tvalid_0's l2: 0.797705\tvalid_1's rmse: 0.756022\tvalid_1's l2: 0.571569           \n",
      "[300]\tvalid_0's rmse: 0.892379\tvalid_0's l2: 0.796341\tvalid_1's rmse: 0.719285\tvalid_1's l2: 0.517372           \n",
      "[100]\tvalid_0's rmse: 0.836728\tvalid_0's l2: 0.700114\tvalid_1's rmse: 0.807144\tvalid_1's l2: 0.651482           \n",
      "[200]\tvalid_0's rmse: 0.831867\tvalid_0's l2: 0.692002\tvalid_1's rmse: 0.757468\tvalid_1's l2: 0.573757           \n",
      "[300]\tvalid_0's rmse: 0.831356\tvalid_0's l2: 0.691154\tvalid_1's rmse: 0.720345\tvalid_1's l2: 0.518897           \n",
      "[400]\tvalid_0's rmse: 0.829999\tvalid_0's l2: 0.688898\tvalid_1's rmse: 0.689929\tvalid_1's l2: 0.476001           \n",
      "[100]\tvalid_0's rmse: 0.871346\tvalid_0's l2: 0.759245\tvalid_1's rmse: 0.801621\tvalid_1's l2: 0.642597           \n",
      "[200]\tvalid_0's rmse: 0.868209\tvalid_0's l2: 0.753786\tvalid_1's rmse: 0.751361\tvalid_1's l2: 0.564543           \n",
      "[300]\tvalid_0's rmse: 0.867013\tvalid_0's l2: 0.751712\tvalid_1's rmse: 0.715834\tvalid_1's l2: 0.512419           \n",
      "[400]\tvalid_0's rmse: 0.869134\tvalid_0's l2: 0.755394\tvalid_1's rmse: 0.685976\tvalid_1's l2: 0.470563           \n",
      " 15%|█████▊                                  | 32/220 [02:41<16:52,  5.39s/trial, best loss: 0.8610839679639536]"
     ]
    },
    {
     "name": "stderr",
     "output_type": "stream",
     "text": [
      "Score - 0.8622438099992724, Std - 0.02517402613507654, Eval Score - 0.8622438099992724\n",
      "Score across folds - [0.8907587050440379, 0.829526325688904, 0.8664463992648753].\n"
     ]
    },
    {
     "name": "stdout",
     "output_type": "stream",
     "text": [
      "\r",
      " 15%|██████                                  | 33/220 [02:41<17:33,  5.64s/trial, best loss: 0.8610839679639536]"
     ]
    },
    {
     "name": "stderr",
     "output_type": "stream",
     "text": [
      "\n",
      "Iteration: 34, Training with params: {'boosting_type': 'gbdt', 'colsample_bytree': 0.8, 'learning_rate': 0.1, 'min_child_samples': 130, 'n_estimators': 10000, 'n_jobs': -1, 'num_leaves': 16, 'objective': 'regression', 'subsample': 1.0, 'subsample_freq': 10}\n"
     ]
    },
    {
     "name": "stdout",
     "output_type": "stream",
     "text": [
      "[100]\tvalid_0's rmse: 0.89643\tvalid_0's l2: 0.803587\tvalid_1's rmse: 0.80363\tvalid_1's l2: 0.645822             \n",
      "[200]\tvalid_0's rmse: 0.892393\tvalid_0's l2: 0.796366\tvalid_1's rmse: 0.75322\tvalid_1's l2: 0.56734             \n",
      "[100]\tvalid_0's rmse: 0.837874\tvalid_0's l2: 0.702033\tvalid_1's rmse: 0.805983\tvalid_1's l2: 0.649608           \n",
      "[200]\tvalid_0's rmse: 0.832569\tvalid_0's l2: 0.693172\tvalid_1's rmse: 0.756703\tvalid_1's l2: 0.572599           \n",
      "[300]\tvalid_0's rmse: 0.832346\tvalid_0's l2: 0.6928\tvalid_1's rmse: 0.71943\tvalid_1's l2: 0.51758               \n",
      "[400]\tvalid_0's rmse: 0.830605\tvalid_0's l2: 0.689905\tvalid_1's rmse: 0.688305\tvalid_1's l2: 0.473763           \n",
      "[500]\tvalid_0's rmse: 0.831708\tvalid_0's l2: 0.691738\tvalid_1's rmse: 0.660585\tvalid_1's l2: 0.436372           \n",
      "[100]\tvalid_0's rmse: 0.8708\tvalid_0's l2: 0.758293\tvalid_1's rmse: 0.80173\tvalid_1's l2: 0.642771              \n",
      "[200]\tvalid_0's rmse: 0.864443\tvalid_0's l2: 0.747261\tvalid_1's rmse: 0.7533\tvalid_1's l2: 0.567461             \n",
      "[300]\tvalid_0's rmse: 0.864849\tvalid_0's l2: 0.747963\tvalid_1's rmse: 0.715771\tvalid_1's l2: 0.512328           \n",
      " 15%|██████                                  | 33/220 [02:47<17:33,  5.64s/trial, best loss: 0.8610839679639536]"
     ]
    },
    {
     "name": "stderr",
     "output_type": "stream",
     "text": [
      "Score - 0.8616386932694483, Std - 0.024949652757206005, Eval Score - 0.8616386932694483\n",
      "Score across folds - [0.8913172390583768, 0.8302732078945458, 0.8633256328554225].\n"
     ]
    },
    {
     "name": "stdout",
     "output_type": "stream",
     "text": [
      "\r",
      " 15%|██████▏                                 | 34/220 [02:47<17:57,  5.79s/trial, best loss: 0.8610839679639536]"
     ]
    },
    {
     "name": "stderr",
     "output_type": "stream",
     "text": [
      "\n",
      "Iteration: 35, Training with params: {'boosting_type': 'gbdt', 'colsample_bytree': 0.8, 'learning_rate': 0.1, 'min_child_samples': 120, 'n_estimators': 10000, 'n_jobs': -1, 'num_leaves': 16, 'objective': 'regression', 'subsample': 1.0, 'subsample_freq': 10}\n"
     ]
    },
    {
     "name": "stdout",
     "output_type": "stream",
     "text": [
      "[100]\tvalid_0's rmse: 0.897849\tvalid_0's l2: 0.806132\tvalid_1's rmse: 0.804184\tvalid_1's l2: 0.646713           \n",
      "[200]\tvalid_0's rmse: 0.89636\tvalid_0's l2: 0.803461\tvalid_1's rmse: 0.753\tvalid_1's l2: 0.56701                \n",
      "[100]\tvalid_0's rmse: 0.836639\tvalid_0's l2: 0.699964\tvalid_1's rmse: 0.805339\tvalid_1's l2: 0.648571           \n",
      "[200]\tvalid_0's rmse: 0.831914\tvalid_0's l2: 0.692081\tvalid_1's rmse: 0.755222\tvalid_1's l2: 0.57036            \n",
      "[300]\tvalid_0's rmse: 0.831841\tvalid_0's l2: 0.69196\tvalid_1's rmse: 0.718783\tvalid_1's l2: 0.516649            \n",
      "[400]\tvalid_0's rmse: 0.83167\tvalid_0's l2: 0.691675\tvalid_1's rmse: 0.687469\tvalid_1's l2: 0.472613            \n",
      "[500]\tvalid_0's rmse: 0.831737\tvalid_0's l2: 0.691786\tvalid_1's rmse: 0.659312\tvalid_1's l2: 0.434692           \n",
      "[100]\tvalid_0's rmse: 0.870603\tvalid_0's l2: 0.757949\tvalid_1's rmse: 0.800745\tvalid_1's l2: 0.641192           \n",
      "[200]\tvalid_0's rmse: 0.865175\tvalid_0's l2: 0.748527\tvalid_1's rmse: 0.749635\tvalid_1's l2: 0.561953           \n",
      " 15%|██████▏                                 | 34/220 [02:52<17:57,  5.79s/trial, best loss: 0.8610839679639536]"
     ]
    },
    {
     "name": "stderr",
     "output_type": "stream",
     "text": [
      "Score - 0.8637304987887656, Std - 0.026304483144328508, Eval Score - 0.8637304987887656\n",
      "Score across folds - [0.8952034904591317, 0.8308191129474372, 0.8651688929597278].\n"
     ]
    },
    {
     "name": "stdout",
     "output_type": "stream",
     "text": [
      "\r",
      " 16%|██████▎                                 | 35/220 [02:53<17:39,  5.72s/trial, best loss: 0.8610839679639536]"
     ]
    },
    {
     "name": "stderr",
     "output_type": "stream",
     "text": [
      "\n",
      "Iteration: 36, Training with params: {'boosting_type': 'gbdt', 'colsample_bytree': 1.0, 'learning_rate': 0.1, 'min_child_samples': 130, 'n_estimators': 10000, 'n_jobs': -1, 'num_leaves': 16, 'objective': 'regression', 'subsample': 1.0, 'subsample_freq': 10}\n"
     ]
    },
    {
     "name": "stdout",
     "output_type": "stream",
     "text": [
      "[100]\tvalid_0's rmse: 0.899494\tvalid_0's l2: 0.809089\tvalid_1's rmse: 0.802498\tvalid_1's l2: 0.644003           \n",
      "[200]\tvalid_0's rmse: 0.89385\tvalid_0's l2: 0.798968\tvalid_1's rmse: 0.7525\tvalid_1's l2: 0.566256              \n",
      "[100]\tvalid_0's rmse: 0.832629\tvalid_0's l2: 0.693272\tvalid_1's rmse: 0.803613\tvalid_1's l2: 0.645794           \n",
      "[200]\tvalid_0's rmse: 0.829452\tvalid_0's l2: 0.687991\tvalid_1's rmse: 0.753217\tvalid_1's l2: 0.567336           \n",
      "[300]\tvalid_0's rmse: 0.828972\tvalid_0's l2: 0.687194\tvalid_1's rmse: 0.715168\tvalid_1's l2: 0.511466           \n",
      "[100]\tvalid_0's rmse: 0.873395\tvalid_0's l2: 0.762819\tvalid_1's rmse: 0.80086\tvalid_1's l2: 0.641376            \n",
      "[200]\tvalid_0's rmse: 0.870087\tvalid_0's l2: 0.757052\tvalid_1's rmse: 0.75018\tvalid_1's l2: 0.56277             \n",
      "[300]\tvalid_0's rmse: 0.868953\tvalid_0's l2: 0.75508\tvalid_1's rmse: 0.713583\tvalid_1's l2: 0.5092              \n",
      " 16%|██████▎                                 | 35/220 [02:58<17:39,  5.72s/trial, best loss: 0.8610839679639536]"
     ]
    },
    {
     "name": "stderr",
     "output_type": "stream",
     "text": [
      "Score - 0.8631430144122394, Std - 0.027559207566939935, Eval Score - 0.8631430144122394\n",
      "Score across folds - [0.8936294222347689, 0.8268712802115006, 0.8689283407904485].\n"
     ]
    },
    {
     "name": "stdout",
     "output_type": "stream",
     "text": [
      "\r",
      " 16%|██████▌                                 | 36/220 [02:59<17:53,  5.83s/trial, best loss: 0.8610839679639536]"
     ]
    },
    {
     "name": "stderr",
     "output_type": "stream",
     "text": [
      "\n",
      "Iteration: 37, Training with params: {'boosting_type': 'gbdt', 'colsample_bytree': 1.0, 'learning_rate': 0.1, 'min_child_samples': 120, 'n_estimators': 10000, 'n_jobs': -1, 'num_leaves': 16, 'objective': 'regression', 'subsample': 1.0, 'subsample_freq': 10}\n"
     ]
    },
    {
     "name": "stdout",
     "output_type": "stream",
     "text": [
      "[100]\tvalid_0's rmse: 0.898838\tvalid_0's l2: 0.807909\tvalid_1's rmse: 0.801627\tvalid_1's l2: 0.642607           \n",
      "[200]\tvalid_0's rmse: 0.896072\tvalid_0's l2: 0.802945\tvalid_1's rmse: 0.750683\tvalid_1's l2: 0.563526           \n",
      "[100]\tvalid_0's rmse: 0.834587\tvalid_0's l2: 0.696535\tvalid_1's rmse: 0.804593\tvalid_1's l2: 0.64737            \n",
      "[200]\tvalid_0's rmse: 0.8279\tvalid_0's l2: 0.685419\tvalid_1's rmse: 0.753861\tvalid_1's l2: 0.568307             \n",
      "[300]\tvalid_0's rmse: 0.825475\tvalid_0's l2: 0.681408\tvalid_1's rmse: 0.716721\tvalid_1's l2: 0.513689           \n",
      "[400]\tvalid_0's rmse: 0.826909\tvalid_0's l2: 0.683778\tvalid_1's rmse: 0.684899\tvalid_1's l2: 0.469086           \n",
      "[100]\tvalid_0's rmse: 0.868586\tvalid_0's l2: 0.754441\tvalid_1's rmse: 0.799719\tvalid_1's l2: 0.639551           \n",
      "[200]\tvalid_0's rmse: 0.866739\tvalid_0's l2: 0.751236\tvalid_1's rmse: 0.748491\tvalid_1's l2: 0.560239           \n",
      "[300]\tvalid_0's rmse: 0.867996\tvalid_0's l2: 0.753418\tvalid_1's rmse: 0.710863\tvalid_1's l2: 0.505326           \n",
      " 16%|██████▌                                 | 36/220 [03:05<17:53,  5.83s/trial, best loss: 0.8610839679639536]"
     ]
    },
    {
     "name": "stderr",
     "output_type": "stream",
     "text": [
      "Score - 0.8620197682157045, Std - 0.028788537668324343, Eval Score - 0.8620197682157045\n",
      "Score across folds - [0.8956215558401459, 0.8253100885803291, 0.8651276602266383].\n"
     ]
    },
    {
     "name": "stdout",
     "output_type": "stream",
     "text": [
      "\r",
      " 17%|██████▋                                 | 37/220 [03:05<18:13,  5.98s/trial, best loss: 0.8610839679639536]"
     ]
    },
    {
     "name": "stderr",
     "output_type": "stream",
     "text": [
      "\n",
      "Iteration: 38, Training with params: {'boosting_type': 'gbdt', 'colsample_bytree': 0.8, 'learning_rate': 0.1, 'min_child_samples': 130, 'n_estimators': 10000, 'n_jobs': -1, 'num_leaves': 32, 'objective': 'regression', 'subsample': 1.0, 'subsample_freq': 10}\n"
     ]
    },
    {
     "name": "stdout",
     "output_type": "stream",
     "text": [
      "[100]\tvalid_0's rmse: 0.895345\tvalid_0's l2: 0.801643\tvalid_1's rmse: 0.743189\tvalid_1's l2: 0.55233            \n",
      "[100]\tvalid_0's rmse: 0.833426\tvalid_0's l2: 0.694598\tvalid_1's rmse: 0.745152\tvalid_1's l2: 0.555251           \n",
      "[200]\tvalid_0's rmse: 0.830406\tvalid_0's l2: 0.689575\tvalid_1's rmse: 0.671249\tvalid_1's l2: 0.450575           \n",
      "[300]\tvalid_0's rmse: 0.830394\tvalid_0's l2: 0.689553\tvalid_1's rmse: 0.615729\tvalid_1's l2: 0.379122           \n",
      "[100]\tvalid_0's rmse: 0.874028\tvalid_0's l2: 0.763925\tvalid_1's rmse: 0.741305\tvalid_1's l2: 0.549533           \n",
      "[200]\tvalid_0's rmse: 0.8751\tvalid_0's l2: 0.7658\tvalid_1's rmse: 0.667134\tvalid_1's l2: 0.445068               \n",
      " 17%|██████▋                                 | 37/220 [03:11<18:13,  5.98s/trial, best loss: 0.8610839679639536]"
     ]
    },
    {
     "name": "stderr",
     "output_type": "stream",
     "text": [
      "Score - 0.8657801682521334, Std - 0.0272516309594681, Eval Score - 0.8657801682521334\n",
      "Score across folds - [0.8950926943183817, 0.82945459635513, 0.8727932140828885].\n"
     ]
    },
    {
     "name": "stdout",
     "output_type": "stream",
     "text": [
      "\r",
      " 17%|██████▉                                 | 38/220 [03:11<18:03,  5.95s/trial, best loss: 0.8610839679639536]"
     ]
    },
    {
     "name": "stderr",
     "output_type": "stream",
     "text": [
      "\n",
      "Iteration: 39, Training with params: {'boosting_type': 'gbdt', 'colsample_bytree': 0.8, 'learning_rate': 0.1, 'min_child_samples': 80, 'n_estimators': 10000, 'n_jobs': -1, 'num_leaves': 48, 'objective': 'regression', 'subsample': 1.0, 'subsample_freq': 10}\n"
     ]
    },
    {
     "name": "stdout",
     "output_type": "stream",
     "text": [
      "[100]\tvalid_0's rmse: 0.896348\tvalid_0's l2: 0.80344\tvalid_1's rmse: 0.689438\tvalid_1's l2: 0.475324            \n",
      "[200]\tvalid_0's rmse: 0.895654\tvalid_0's l2: 0.802196\tvalid_1's rmse: 0.595523\tvalid_1's l2: 0.354648           \n",
      "[100]\tvalid_0's rmse: 0.831945\tvalid_0's l2: 0.692132\tvalid_1's rmse: 0.691573\tvalid_1's l2: 0.478273           \n",
      "[100]\tvalid_0's rmse: 0.876796\tvalid_0's l2: 0.768772\tvalid_1's rmse: 0.686993\tvalid_1's l2: 0.47196            \n",
      " 17%|██████▉                                 | 38/220 [03:17<18:03,  5.95s/trial, best loss: 0.8610839679639536]"
     ]
    },
    {
     "name": "stderr",
     "output_type": "stream",
     "text": [
      "Score - 0.8664313460027072, Std - 0.026827012274524126, Eval Score - 0.8664313460027072\n",
      "Score across folds - [0.8936602190365801, 0.829937350129325, 0.8756964688422165].\n"
     ]
    },
    {
     "name": "stdout",
     "output_type": "stream",
     "text": [
      "\r",
      " 18%|███████                                 | 39/220 [03:17<17:57,  5.95s/trial, best loss: 0.8610839679639536]"
     ]
    },
    {
     "name": "stderr",
     "output_type": "stream",
     "text": [
      "\n",
      "Iteration: 40, Training with params: {'boosting_type': 'gbdt', 'colsample_bytree': 1.0, 'learning_rate': 0.1, 'min_child_samples': 100, 'n_estimators': 10000, 'n_jobs': -1, 'num_leaves': 32, 'objective': 'regression', 'subsample': 1.0, 'subsample_freq': 10}\n"
     ]
    },
    {
     "name": "stdout",
     "output_type": "stream",
     "text": [
      "[100]\tvalid_0's rmse: 0.897853\tvalid_0's l2: 0.806139\tvalid_1's rmse: 0.737558\tvalid_1's l2: 0.543992           \n",
      "[200]\tvalid_0's rmse: 0.899358\tvalid_0's l2: 0.808845\tvalid_1's rmse: 0.659779\tvalid_1's l2: 0.435308           \n",
      "[100]\tvalid_0's rmse: 0.830195\tvalid_0's l2: 0.689224\tvalid_1's rmse: 0.739074\tvalid_1's l2: 0.54623            \n",
      "[200]\tvalid_0's rmse: 0.827736\tvalid_0's l2: 0.685146\tvalid_1's rmse: 0.663243\tvalid_1's l2: 0.439892           \n",
      "[300]\tvalid_0's rmse: 0.830008\tvalid_0's l2: 0.688913\tvalid_1's rmse: 0.606045\tvalid_1's l2: 0.36729            \n",
      "[100]\tvalid_0's rmse: 0.873269\tvalid_0's l2: 0.762599\tvalid_1's rmse: 0.736443\tvalid_1's l2: 0.542348           \n",
      "[200]\tvalid_0's rmse: 0.874295\tvalid_0's l2: 0.764391\tvalid_1's rmse: 0.657458\tvalid_1's l2: 0.432251           \n",
      " 18%|███████                                 | 39/220 [03:23<17:57,  5.95s/trial, best loss: 0.8610839679639536]"
     ]
    },
    {
     "name": "stderr",
     "output_type": "stream",
     "text": [
      "Score - 0.8656284454517172, Std - 0.028715563147493697, Eval Score - 0.8656284454517172\n",
      "Score across folds - [0.8966360760996799, 0.8274140493003728, 0.8728352109550989].\n"
     ]
    },
    {
     "name": "stdout",
     "output_type": "stream",
     "text": [
      "\r",
      " 18%|███████▎                                | 40/220 [03:23<18:06,  6.04s/trial, best loss: 0.8610839679639536]"
     ]
    },
    {
     "name": "stderr",
     "output_type": "stream",
     "text": [
      "\n",
      "Iteration: 41, Training with params: {'boosting_type': 'gbdt', 'colsample_bytree': 0.8, 'learning_rate': 0.1, 'min_child_samples': 80, 'n_estimators': 10000, 'n_jobs': -1, 'num_leaves': 16, 'objective': 'regression', 'subsample': 1.0, 'subsample_freq': 10}\n"
     ]
    },
    {
     "name": "stdout",
     "output_type": "stream",
     "text": [
      "[100]\tvalid_0's rmse: 0.894227\tvalid_0's l2: 0.799642\tvalid_1's rmse: 0.801588\tvalid_1's l2: 0.642544           \n",
      "[200]\tvalid_0's rmse: 0.89374\tvalid_0's l2: 0.798771\tvalid_1's rmse: 0.749187\tvalid_1's l2: 0.561281            \n",
      "[100]\tvalid_0's rmse: 0.837264\tvalid_0's l2: 0.701011\tvalid_1's rmse: 0.804374\tvalid_1's l2: 0.647018           \n",
      "[200]\tvalid_0's rmse: 0.832608\tvalid_0's l2: 0.693236\tvalid_1's rmse: 0.751794\tvalid_1's l2: 0.565194           \n",
      "[300]\tvalid_0's rmse: 0.83294\tvalid_0's l2: 0.693789\tvalid_1's rmse: 0.7139\tvalid_1's l2: 0.509654              \n",
      "[100]\tvalid_0's rmse: 0.873458\tvalid_0's l2: 0.76293\tvalid_1's rmse: 0.799375\tvalid_1's l2: 0.639001            \n",
      "[200]\tvalid_0's rmse: 0.871956\tvalid_0's l2: 0.760307\tvalid_1's rmse: 0.747234\tvalid_1's l2: 0.558358           \n",
      " 18%|███████▎                                | 40/220 [03:28<18:06,  6.04s/trial, best loss: 0.8610839679639536]"
     ]
    },
    {
     "name": "stderr",
     "output_type": "stream",
     "text": [
      "Score - 0.8649729643292062, Std - 0.02561783502589253, Eval Score - 0.8649729643292062\n",
      "Score across folds - [0.893231600962765, 0.8312095608840044, 0.8704777311408491].\n"
     ]
    },
    {
     "name": "stdout",
     "output_type": "stream",
     "text": [
      "\r",
      " 19%|███████▍                                | 41/220 [03:28<16:47,  5.63s/trial, best loss: 0.8610839679639536]"
     ]
    },
    {
     "name": "stderr",
     "output_type": "stream",
     "text": [
      "\n",
      "Iteration: 42, Training with params: {'boosting_type': 'gbdt', 'colsample_bytree': 1.0, 'learning_rate': 0.1, 'min_child_samples': 90, 'n_estimators': 10000, 'n_jobs': -1, 'num_leaves': 32, 'objective': 'regression', 'subsample': 1.0, 'subsample_freq': 10}\n"
     ]
    },
    {
     "name": "stdout",
     "output_type": "stream",
     "text": [
      "[100]\tvalid_0's rmse: 0.896256\tvalid_0's l2: 0.803275\tvalid_1's rmse: 0.73599\tvalid_1's l2: 0.541681            \n",
      "[200]\tvalid_0's rmse: 0.895657\tvalid_0's l2: 0.802201\tvalid_1's rmse: 0.65949\tvalid_1's l2: 0.434927            \n",
      "[100]\tvalid_0's rmse: 0.829235\tvalid_0's l2: 0.68763\tvalid_1's rmse: 0.737252\tvalid_1's l2: 0.543541            \n",
      "[200]\tvalid_0's rmse: 0.828182\tvalid_0's l2: 0.685886\tvalid_1's rmse: 0.65984\tvalid_1's l2: 0.435389            \n",
      "[100]\tvalid_0's rmse: 0.871196\tvalid_0's l2: 0.758982\tvalid_1's rmse: 0.73474\tvalid_1's l2: 0.539843            \n",
      " 19%|███████▍                                | 41/220 [03:33<16:47,  5.63s/trial, best loss: 0.8610839679639536]"
     ]
    },
    {
     "name": "stderr",
     "output_type": "stream",
     "text": [
      "Score - 0.8642109634283265, Std - 0.02798871798875213, Eval Score - 0.8642109634283265\n",
      "Score across folds - [0.8948648678237129, 0.8271974690680448, 0.8705705533932219].\n"
     ]
    },
    {
     "name": "stdout",
     "output_type": "stream",
     "text": [
      "\r",
      " 19%|███████▋                                | 42/220 [03:34<16:57,  5.72s/trial, best loss: 0.8610839679639536]"
     ]
    },
    {
     "name": "stderr",
     "output_type": "stream",
     "text": [
      "\n",
      "Iteration: 43, Training with params: {'boosting_type': 'gbdt', 'colsample_bytree': 0.6000000000000001, 'learning_rate': 0.1, 'min_child_samples': 110, 'n_estimators': 10000, 'n_jobs': -1, 'num_leaves': 16, 'objective': 'regression', 'subsample': 1.0, 'subsample_freq': 10}\n"
     ]
    },
    {
     "name": "stdout",
     "output_type": "stream",
     "text": [
      "[100]\tvalid_0's rmse: 0.898127\tvalid_0's l2: 0.806631\tvalid_1's rmse: 0.806112\tvalid_1's l2: 0.649816           \n",
      "[200]\tvalid_0's rmse: 0.89403\tvalid_0's l2: 0.79929\tvalid_1's rmse: 0.754027\tvalid_1's l2: 0.568557             \n",
      "[300]\tvalid_0's rmse: 0.893028\tvalid_0's l2: 0.797499\tvalid_1's rmse: 0.716993\tvalid_1's l2: 0.514078           \n",
      "[100]\tvalid_0's rmse: 0.837598\tvalid_0's l2: 0.701571\tvalid_1's rmse: 0.8072\tvalid_1's l2: 0.651572             \n",
      "[200]\tvalid_0's rmse: 0.833972\tvalid_0's l2: 0.695509\tvalid_1's rmse: 0.756812\tvalid_1's l2: 0.572765           \n",
      "[300]\tvalid_0's rmse: 0.83289\tvalid_0's l2: 0.693706\tvalid_1's rmse: 0.720276\tvalid_1's l2: 0.518797            \n",
      "[400]\tvalid_0's rmse: 0.833508\tvalid_0's l2: 0.694736\tvalid_1's rmse: 0.689696\tvalid_1's l2: 0.47568            \n",
      "[100]\tvalid_0's rmse: 0.873336\tvalid_0's l2: 0.762715\tvalid_1's rmse: 0.803244\tvalid_1's l2: 0.6452             \n",
      "[200]\tvalid_0's rmse: 0.86725\tvalid_0's l2: 0.752123\tvalid_1's rmse: 0.752709\tvalid_1's l2: 0.56657             \n",
      "[300]\tvalid_0's rmse: 0.868392\tvalid_0's l2: 0.754104\tvalid_1's rmse: 0.715565\tvalid_1's l2: 0.512033           \n",
      " 19%|███████▋                                | 42/220 [03:39<16:57,  5.72s/trial, best loss: 0.8610839679639536]"
     ]
    },
    {
     "name": "stderr",
     "output_type": "stream",
     "text": [
      "Score - 0.8636115038368564, Std - 0.024693990962850777, Eval Score - 0.8636115038368564\n",
      "Score across folds - [0.8921759531559248, 0.8319297400790066, 0.8667288182756374].\n"
     ]
    },
    {
     "name": "stdout",
     "output_type": "stream",
     "text": [
      "\r",
      " 20%|███████▊                                | 43/220 [03:39<16:15,  5.51s/trial, best loss: 0.8610839679639536]"
     ]
    },
    {
     "name": "stderr",
     "output_type": "stream",
     "text": [
      "\n",
      "Iteration: 44, Training with params: {'boosting_type': 'gbdt', 'colsample_bytree': 0.8, 'learning_rate': 0.1, 'min_child_samples': 120, 'n_estimators': 10000, 'n_jobs': -1, 'num_leaves': 32, 'objective': 'regression', 'subsample': 0.8, 'subsample_freq': 10}\n"
     ]
    },
    {
     "name": "stdout",
     "output_type": "stream",
     "text": [
      "[100]\tvalid_0's rmse: 0.902108\tvalid_0's l2: 0.813799\tvalid_1's rmse: 0.746638\tvalid_1's l2: 0.557469           \n",
      "[100]\tvalid_0's rmse: 0.841309\tvalid_0's l2: 0.7078\tvalid_1's rmse: 0.749206\tvalid_1's l2: 0.56131              \n",
      "[200]\tvalid_0's rmse: 0.839217\tvalid_0's l2: 0.704285\tvalid_1's rmse: 0.674105\tvalid_1's l2: 0.454417           \n",
      "[100]\tvalid_0's rmse: 0.869828\tvalid_0's l2: 0.756601\tvalid_1's rmse: 0.744229\tvalid_1's l2: 0.553877           \n",
      "[200]\tvalid_0's rmse: 0.871729\tvalid_0's l2: 0.759911\tvalid_1's rmse: 0.667168\tvalid_1's l2: 0.445114           \n",
      " 20%|███████▊                                | 43/220 [03:44<16:15,  5.51s/trial, best loss: 0.8610839679639536]"
     ]
    },
    {
     "name": "stderr",
     "output_type": "stream",
     "text": [
      "Score - 0.8689331420520796, Std - 0.02597462634434647, Eval Score - 0.8689331420520796\n",
      "Score across folds - [0.9008312901396452, 0.8372074101863617, 0.8687607258302317].\n"
     ]
    },
    {
     "name": "stdout",
     "output_type": "stream",
     "text": [
      "\r",
      " 20%|████████                                | 44/220 [03:44<15:56,  5.44s/trial, best loss: 0.8610839679639536]"
     ]
    },
    {
     "name": "stderr",
     "output_type": "stream",
     "text": [
      "\n",
      "Iteration: 45, Training with params: {'boosting_type': 'gbdt', 'colsample_bytree': 1.0, 'learning_rate': 0.1, 'min_child_samples': 100, 'n_estimators': 10000, 'n_jobs': -1, 'num_leaves': 16, 'objective': 'regression', 'subsample': 1.0, 'subsample_freq': 10}\n"
     ]
    },
    {
     "name": "stdout",
     "output_type": "stream",
     "text": [
      "[100]\tvalid_0's rmse: 0.897708\tvalid_0's l2: 0.805879\tvalid_1's rmse: 0.799702\tvalid_1's l2: 0.639524           \n",
      "[200]\tvalid_0's rmse: 0.894142\tvalid_0's l2: 0.799491\tvalid_1's rmse: 0.747931\tvalid_1's l2: 0.5594             \n",
      "[300]\tvalid_0's rmse: 0.89479\tvalid_0's l2: 0.800649\tvalid_1's rmse: 0.709573\tvalid_1's l2: 0.503494            \n",
      "[100]\tvalid_0's rmse: 0.831374\tvalid_0's l2: 0.691183\tvalid_1's rmse: 0.803656\tvalid_1's l2: 0.645863           \n",
      "[200]\tvalid_0's rmse: 0.828601\tvalid_0's l2: 0.68658\tvalid_1's rmse: 0.751098\tvalid_1's l2: 0.564148            \n",
      "[300]\tvalid_0's rmse: 0.829027\tvalid_0's l2: 0.687286\tvalid_1's rmse: 0.711115\tvalid_1's l2: 0.505685           \n",
      "[400]\tvalid_0's rmse: 0.829748\tvalid_0's l2: 0.688481\tvalid_1's rmse: 0.678124\tvalid_1's l2: 0.459852           \n",
      "[100]\tvalid_0's rmse: 0.871402\tvalid_0's l2: 0.759342\tvalid_1's rmse: 0.798392\tvalid_1's l2: 0.63743            \n",
      "[200]\tvalid_0's rmse: 0.867821\tvalid_0's l2: 0.753113\tvalid_1's rmse: 0.746596\tvalid_1's l2: 0.557405           \n",
      " 20%|████████                                | 44/220 [03:50<15:56,  5.44s/trial, best loss: 0.8610839679639536]"
     ]
    },
    {
     "name": "stderr",
     "output_type": "stream",
     "text": [
      "Score - 0.8630296044922647, Std - 0.02700127318433096, Eval Score - 0.8630296044922647\n",
      "Score across folds - [0.8938697390339044, 0.8281090832151281, 0.8671099912277618].\n"
     ]
    },
    {
     "name": "stdout",
     "output_type": "stream",
     "text": [
      "\r",
      " 20%|████████▏                               | 45/220 [03:50<16:25,  5.63s/trial, best loss: 0.8610839679639536]"
     ]
    },
    {
     "name": "stderr",
     "output_type": "stream",
     "text": [
      "\n",
      "Iteration: 46, Training with params: {'boosting_type': 'gbdt', 'colsample_bytree': 0.6000000000000001, 'learning_rate': 0.1, 'min_child_samples': 130, 'n_estimators': 10000, 'n_jobs': -1, 'num_leaves': 48, 'objective': 'regression', 'subsample': 0.8, 'subsample_freq': 10}\n"
     ]
    },
    {
     "name": "stdout",
     "output_type": "stream",
     "text": [
      "[100]\tvalid_0's rmse: 0.89844\tvalid_0's l2: 0.807195\tvalid_1's rmse: 0.710415\tvalid_1's l2: 0.504689            \n",
      "[100]\tvalid_0's rmse: 0.840212\tvalid_0's l2: 0.705957\tvalid_1's rmse: 0.711414\tvalid_1's l2: 0.50611            \n",
      "[200]\tvalid_0's rmse: 0.838853\tvalid_0's l2: 0.703674\tvalid_1's rmse: 0.618944\tvalid_1's l2: 0.383091           \n",
      "[100]\tvalid_0's rmse: 0.874764\tvalid_0's l2: 0.765212\tvalid_1's rmse: 0.711356\tvalid_1's l2: 0.506027           \n",
      "[200]\tvalid_0's rmse: 0.878778\tvalid_0's l2: 0.77225\tvalid_1's rmse: 0.618977\tvalid_1's l2: 0.383133            \n",
      " 20%|████████▏                               | 45/220 [03:56<16:25,  5.63s/trial, best loss: 0.8610839679639536]"
     ]
    },
    {
     "name": "stderr",
     "output_type": "stream",
     "text": [
      "Score - 0.8693097763913604, Std - 0.024908954418976996, Eval Score - 0.8693097763913604\n",
      "Score across folds - [0.8973643704034594, 0.8368328498095651, 0.8737321089610566].\n"
     ]
    },
    {
     "name": "stdout",
     "output_type": "stream",
     "text": [
      "\r",
      " 21%|████████▎                               | 46/220 [03:56<16:22,  5.65s/trial, best loss: 0.8610839679639536]"
     ]
    },
    {
     "name": "stderr",
     "output_type": "stream",
     "text": [
      "\n",
      "Iteration: 47, Training with params: {'boosting_type': 'gbdt', 'colsample_bytree': 0.8, 'learning_rate': 0.1, 'min_child_samples': 80, 'n_estimators': 10000, 'n_jobs': -1, 'num_leaves': 32, 'objective': 'regression', 'subsample': 0.8, 'subsample_freq': 10}\n"
     ]
    },
    {
     "name": "stdout",
     "output_type": "stream",
     "text": [
      "[100]\tvalid_0's rmse: 0.902185\tvalid_0's l2: 0.813937\tvalid_1's rmse: 0.74131\tvalid_1's l2: 0.549541            \n",
      "[100]\tvalid_0's rmse: 0.831701\tvalid_0's l2: 0.691727\tvalid_1's rmse: 0.74309\tvalid_1's l2: 0.552183            \n",
      "[200]\tvalid_0's rmse: 0.831948\tvalid_0's l2: 0.692138\tvalid_1's rmse: 0.665828\tvalid_1's l2: 0.443326           \n",
      "[100]\tvalid_0's rmse: 0.872812\tvalid_0's l2: 0.7618\tvalid_1's rmse: 0.738761\tvalid_1's l2: 0.545768             \n",
      "[200]\tvalid_0's rmse: 0.87312\tvalid_0's l2: 0.762339\tvalid_1's rmse: 0.658344\tvalid_1's l2: 0.433417            \n",
      " 21%|████████▎                               | 46/220 [04:01<16:22,  5.65s/trial, best loss: 0.8610839679639536]"
     ]
    },
    {
     "name": "stderr",
     "output_type": "stream",
     "text": [
      "Score - 0.8664216347273364, Std - 0.02909173188598573, Eval Score - 0.8664216347273364\n",
      "Score across folds - [0.900050174588784, 0.8290809360697398, 0.8701337935234854].\n"
     ]
    },
    {
     "name": "stdout",
     "output_type": "stream",
     "text": [
      "\r",
      " 21%|████████▌                               | 47/220 [04:01<15:52,  5.51s/trial, best loss: 0.8610839679639536]"
     ]
    },
    {
     "name": "stderr",
     "output_type": "stream",
     "text": [
      "\n",
      "Iteration: 48, Training with params: {'boosting_type': 'gbdt', 'colsample_bytree': 0.6000000000000001, 'learning_rate': 0.1, 'min_child_samples': 60, 'n_estimators': 10000, 'n_jobs': -1, 'num_leaves': 16, 'objective': 'regression', 'subsample': 1.0, 'subsample_freq': 10}\n"
     ]
    },
    {
     "name": "stdout",
     "output_type": "stream",
     "text": [
      "[100]\tvalid_0's rmse: 0.900777\tvalid_0's l2: 0.811399\tvalid_1's rmse: 0.802933\tvalid_1's l2: 0.644702           \n",
      "[200]\tvalid_0's rmse: 0.899488\tvalid_0's l2: 0.809078\tvalid_1's rmse: 0.750056\tvalid_1's l2: 0.562584           \n",
      "[300]\tvalid_0's rmse: 0.900545\tvalid_0's l2: 0.810982\tvalid_1's rmse: 0.710795\tvalid_1's l2: 0.50523            \n",
      "[100]\tvalid_0's rmse: 0.836267\tvalid_0's l2: 0.699342\tvalid_1's rmse: 0.805719\tvalid_1's l2: 0.649182           \n",
      "[200]\tvalid_0's rmse: 0.830674\tvalid_0's l2: 0.690019\tvalid_1's rmse: 0.752968\tvalid_1's l2: 0.566961           \n",
      "[100]\tvalid_0's rmse: 0.871944\tvalid_0's l2: 0.760286\tvalid_1's rmse: 0.799993\tvalid_1's l2: 0.639988           \n",
      "[200]\tvalid_0's rmse: 0.867627\tvalid_0's l2: 0.752777\tvalid_1's rmse: 0.747616\tvalid_1's l2: 0.55893            \n",
      "[300]\tvalid_0's rmse: 0.869369\tvalid_0's l2: 0.755802\tvalid_1's rmse: 0.707832\tvalid_1's l2: 0.501027           \n",
      " 21%|████████▌                               | 47/220 [04:05<15:52,  5.51s/trial, best loss: 0.8610839679639536]"
     ]
    },
    {
     "name": "stderr",
     "output_type": "stream",
     "text": [
      "Score - 0.8652803421704715, Std - 0.028192441699366758, Eval Score - 0.8652803421704715\n",
      "Score across folds - [0.8990893906423666, 0.8300746749503528, 0.866676960918695].\n"
     ]
    },
    {
     "name": "stdout",
     "output_type": "stream",
     "text": [
      "\r",
      " 22%|████████▋                               | 48/220 [04:06<14:58,  5.22s/trial, best loss: 0.8610839679639536]"
     ]
    },
    {
     "name": "stderr",
     "output_type": "stream",
     "text": [
      "\n",
      "Iteration: 49, Training with params: {'boosting_type': 'gbdt', 'colsample_bytree': 0.8, 'learning_rate': 0.1, 'min_child_samples': 110, 'n_estimators': 10000, 'n_jobs': -1, 'num_leaves': 16, 'objective': 'regression', 'subsample': 1.0, 'subsample_freq': 10}\n"
     ]
    },
    {
     "name": "stdout",
     "output_type": "stream",
     "text": [
      "[100]\tvalid_0's rmse: 0.895397\tvalid_0's l2: 0.801736\tvalid_1's rmse: 0.803209\tvalid_1's l2: 0.645145           \n",
      "[200]\tvalid_0's rmse: 0.894279\tvalid_0's l2: 0.799735\tvalid_1's rmse: 0.751945\tvalid_1's l2: 0.565422           \n",
      "[100]\tvalid_0's rmse: 0.834536\tvalid_0's l2: 0.696451\tvalid_1's rmse: 0.805285\tvalid_1's l2: 0.648484           \n",
      "[200]\tvalid_0's rmse: 0.830165\tvalid_0's l2: 0.689173\tvalid_1's rmse: 0.753204\tvalid_1's l2: 0.567317           \n",
      "[300]\tvalid_0's rmse: 0.830981\tvalid_0's l2: 0.690529\tvalid_1's rmse: 0.716161\tvalid_1's l2: 0.512887           \n",
      "[100]\tvalid_0's rmse: 0.87215\tvalid_0's l2: 0.760646\tvalid_1's rmse: 0.800634\tvalid_1's l2: 0.641014            \n",
      "[200]\tvalid_0's rmse: 0.868144\tvalid_0's l2: 0.753674\tvalid_1's rmse: 0.750102\tvalid_1's l2: 0.562653           \n",
      " 22%|████████▋                               | 48/220 [04:10<14:58,  5.22s/trial, best loss: 0.8610839679639536]"
     ]
    },
    {
     "name": "stderr",
     "output_type": "stream",
     "text": [
      "Score - 0.8634484965614889, Std - 0.026771936143266787, Eval Score - 0.8634484965614889\n",
      "Score across folds - [0.893981499224136, 0.8287936828077078, 0.8675703076526232].\n"
     ]
    },
    {
     "name": "stdout",
     "output_type": "stream",
     "text": [
      "\r",
      " 22%|████████▉                               | 49/220 [04:11<14:45,  5.18s/trial, best loss: 0.8610839679639536]"
     ]
    },
    {
     "name": "stderr",
     "output_type": "stream",
     "text": [
      "\n",
      "Iteration: 50, Training with params: {'boosting_type': 'gbdt', 'colsample_bytree': 1.0, 'learning_rate': 0.1, 'min_child_samples': 70, 'n_estimators': 10000, 'n_jobs': -1, 'num_leaves': 48, 'objective': 'regression', 'subsample': 0.8, 'subsample_freq': 5}\n"
     ]
    },
    {
     "name": "stdout",
     "output_type": "stream",
     "text": [
      "[100]\tvalid_0's rmse: 0.900126\tvalid_0's l2: 0.810226\tvalid_1's rmse: 0.688145\tvalid_1's l2: 0.473544           \n",
      "[100]\tvalid_0's rmse: 0.836094\tvalid_0's l2: 0.699053\tvalid_1's rmse: 0.690244\tvalid_1's l2: 0.476436           \n",
      "[100]\tvalid_0's rmse: 0.874767\tvalid_0's l2: 0.765217\tvalid_1's rmse: 0.686234\tvalid_1's l2: 0.470916           \n",
      " 22%|████████▉                               | 49/220 [04:16<14:45,  5.18s/trial, best loss: 0.8610839679639536]"
     ]
    },
    {
     "name": "stderr",
     "output_type": "stream",
     "text": [
      "Score - 0.8691857600773633, Std - 0.026257306935237392, Eval Score - 0.8691857600773633\n",
      "Score across folds - [0.8988001887118108, 0.8349772967351847, 0.8737797947850945].\n"
     ]
    },
    {
     "name": "stdout",
     "output_type": "stream",
     "text": [
      "\r",
      " 23%|█████████                               | 50/220 [04:17<15:29,  5.47s/trial, best loss: 0.8610839679639536]"
     ]
    },
    {
     "name": "stderr",
     "output_type": "stream",
     "text": [
      "\n",
      "Iteration: 51, Training with params: {'boosting_type': 'gbdt', 'colsample_bytree': 0.6000000000000001, 'learning_rate': 0.1, 'min_child_samples': 50, 'n_estimators': 10000, 'n_jobs': -1, 'num_leaves': 32, 'objective': 'regression', 'subsample': 1.0, 'subsample_freq': 10}\n"
     ]
    },
    {
     "name": "stdout",
     "output_type": "stream",
     "text": [
      "[100]\tvalid_0's rmse: 0.895894\tvalid_0's l2: 0.802625\tvalid_1's rmse: 0.738907\tvalid_1's l2: 0.545983           \n",
      "[200]\tvalid_0's rmse: 0.899926\tvalid_0's l2: 0.809866\tvalid_1's rmse: 0.659421\tvalid_1's l2: 0.434836           \n",
      "[100]\tvalid_0's rmse: 0.834786\tvalid_0's l2: 0.696867\tvalid_1's rmse: 0.740241\tvalid_1's l2: 0.547957           \n",
      "[200]\tvalid_0's rmse: 0.832531\tvalid_0's l2: 0.693108\tvalid_1's rmse: 0.659997\tvalid_1's l2: 0.435596           \n",
      "[300]\tvalid_0's rmse: 0.833583\tvalid_0's l2: 0.694861\tvalid_1's rmse: 0.601946\tvalid_1's l2: 0.362339           \n",
      "[100]\tvalid_0's rmse: 0.873636\tvalid_0's l2: 0.76324\tvalid_1's rmse: 0.736199\tvalid_1's l2: 0.541989            \n",
      "[200]\tvalid_0's rmse: 0.874308\tvalid_0's l2: 0.764414\tvalid_1's rmse: 0.657181\tvalid_1's l2: 0.431887           \n",
      " 23%|█████████                               | 50/220 [04:22<15:29,  5.47s/trial, best loss: 0.8610839679639536]"
     ]
    },
    {
     "name": "stderr",
     "output_type": "stream",
     "text": [
      "Score - 0.8660595962451193, Std - 0.026239415738266554, Eval Score - 0.8660595962451193\n",
      "Score across folds - [0.8947070845296144, 0.8313091179373064, 0.8721625862684368].\n"
     ]
    },
    {
     "name": "stdout",
     "output_type": "stream",
     "text": [
      "\r",
      " 23%|█████████▎                              | 51/220 [04:22<15:00,  5.33s/trial, best loss: 0.8610839679639536]"
     ]
    },
    {
     "name": "stderr",
     "output_type": "stream",
     "text": [
      "\n",
      "Iteration: 52, Training with params: {'boosting_type': 'gbdt', 'colsample_bytree': 0.8, 'learning_rate': 0.1, 'min_child_samples': 90, 'n_estimators': 10000, 'n_jobs': -1, 'num_leaves': 16, 'objective': 'regression', 'subsample': 0.8, 'subsample_freq': 5}\n"
     ]
    },
    {
     "name": "stdout",
     "output_type": "stream",
     "text": [
      "[100]\tvalid_0's rmse: 0.898287\tvalid_0's l2: 0.80692\tvalid_1's rmse: 0.803237\tvalid_1's l2: 0.645189            \n",
      "[200]\tvalid_0's rmse: 0.894512\tvalid_0's l2: 0.800151\tvalid_1's rmse: 0.75063\tvalid_1's l2: 0.563445            \n",
      "[300]\tvalid_0's rmse: 0.896375\tvalid_0's l2: 0.803488\tvalid_1's rmse: 0.712117\tvalid_1's l2: 0.507111           \n",
      "[100]\tvalid_0's rmse: 0.840792\tvalid_0's l2: 0.706932\tvalid_1's rmse: 0.805271\tvalid_1's l2: 0.648462           \n",
      "[200]\tvalid_0's rmse: 0.837073\tvalid_0's l2: 0.700691\tvalid_1's rmse: 0.753222\tvalid_1's l2: 0.567344           \n",
      "[300]\tvalid_0's rmse: 0.835992\tvalid_0's l2: 0.698883\tvalid_1's rmse: 0.713141\tvalid_1's l2: 0.50857            \n",
      "[400]\tvalid_0's rmse: 0.833119\tvalid_0's l2: 0.694088\tvalid_1's rmse: 0.680277\tvalid_1's l2: 0.462777           \n",
      "[100]\tvalid_0's rmse: 0.869447\tvalid_0's l2: 0.755938\tvalid_1's rmse: 0.801147\tvalid_1's l2: 0.641837           \n",
      "[200]\tvalid_0's rmse: 0.869201\tvalid_0's l2: 0.755511\tvalid_1's rmse: 0.748037\tvalid_1's l2: 0.559559           \n",
      " 23%|█████████▎                              | 51/220 [04:27<15:00,  5.33s/trial, best loss: 0.8610839679639536]"
     ]
    },
    {
     "name": "stderr",
     "output_type": "stream",
     "text": [
      "Score - 0.8643648901810629, Std - 0.025307037733185832, Eval Score - 0.8643648901810629\n",
      "Score across folds - [0.8938008352078883, 0.8320170256224158, 0.8672768097128847].\n"
     ]
    },
    {
     "name": "stdout",
     "output_type": "stream",
     "text": [
      "\r",
      " 24%|█████████▍                              | 52/220 [04:27<14:51,  5.31s/trial, best loss: 0.8610839679639536]"
     ]
    },
    {
     "name": "stderr",
     "output_type": "stream",
     "text": [
      "\n",
      "Iteration: 53, Training with params: {'boosting_type': 'gbdt', 'colsample_bytree': 0.4, 'learning_rate': 0.1, 'min_child_samples': 70, 'n_estimators': 10000, 'n_jobs': -1, 'num_leaves': 16, 'objective': 'regression', 'subsample': 1.0, 'subsample_freq': 10}\n"
     ]
    },
    {
     "name": "stdout",
     "output_type": "stream",
     "text": [
      "[100]\tvalid_0's rmse: 0.898506\tvalid_0's l2: 0.807313\tvalid_1's rmse: 0.809307\tvalid_1's l2: 0.654978           \n",
      "[200]\tvalid_0's rmse: 0.896533\tvalid_0's l2: 0.803772\tvalid_1's rmse: 0.756517\tvalid_1's l2: 0.572317           \n",
      "[300]\tvalid_0's rmse: 0.898147\tvalid_0's l2: 0.806667\tvalid_1's rmse: 0.718993\tvalid_1's l2: 0.516951           \n",
      "[100]\tvalid_0's rmse: 0.835404\tvalid_0's l2: 0.697899\tvalid_1's rmse: 0.811062\tvalid_1's l2: 0.657822           \n",
      "[200]\tvalid_0's rmse: 0.832436\tvalid_0's l2: 0.69295\tvalid_1's rmse: 0.758393\tvalid_1's l2: 0.575159            \n",
      "[100]\tvalid_0's rmse: 0.874182\tvalid_0's l2: 0.764194\tvalid_1's rmse: 0.806315\tvalid_1's l2: 0.650144           \n",
      "[200]\tvalid_0's rmse: 0.868501\tvalid_0's l2: 0.754293\tvalid_1's rmse: 0.754734\tvalid_1's l2: 0.569624           \n",
      "[300]\tvalid_0's rmse: 0.869759\tvalid_0's l2: 0.756482\tvalid_1's rmse: 0.717238\tvalid_1's l2: 0.514431           \n",
      " 24%|█████████▍                              | 52/220 [04:31<14:51,  5.31s/trial, best loss: 0.8610839679639536]"
     ]
    },
    {
     "name": "stderr",
     "output_type": "stream",
     "text": [
      "Score - 0.8644598367346067, Std - 0.026731055262864182, Eval Score - 0.8644598367346067\n",
      "Score across folds - [0.8952939762859087, 0.8301016515800353, 0.8679838823378764].\n"
     ]
    },
    {
     "name": "stdout",
     "output_type": "stream",
     "text": [
      "\r",
      " 24%|█████████▋                              | 53/220 [04:31<13:31,  4.86s/trial, best loss: 0.8610839679639536]"
     ]
    },
    {
     "name": "stderr",
     "output_type": "stream",
     "text": [
      "\n",
      "Iteration: 54, Training with params: {'boosting_type': 'gbdt', 'colsample_bytree': 1.0, 'learning_rate': 0.1, 'min_child_samples': 140, 'n_estimators': 10000, 'n_jobs': -1, 'num_leaves': 48, 'objective': 'regression', 'subsample': 0.8, 'subsample_freq': 10}\n"
     ]
    },
    {
     "name": "stdout",
     "output_type": "stream",
     "text": [
      "[100]\tvalid_0's rmse: 0.903164\tvalid_0's l2: 0.815705\tvalid_1's rmse: 0.706801\tvalid_1's l2: 0.499567           \n",
      "[200]\tvalid_0's rmse: 0.908556\tvalid_0's l2: 0.825474\tvalid_1's rmse: 0.613225\tvalid_1's l2: 0.376045           \n",
      "[100]\tvalid_0's rmse: 0.835781\tvalid_0's l2: 0.698529\tvalid_1's rmse: 0.706321\tvalid_1's l2: 0.49889            \n",
      "[200]\tvalid_0's rmse: 0.840401\tvalid_0's l2: 0.706274\tvalid_1's rmse: 0.61303\tvalid_1's l2: 0.375805            \n",
      "[100]\tvalid_0's rmse: 0.872748\tvalid_0's l2: 0.761689\tvalid_1's rmse: 0.702523\tvalid_1's l2: 0.493538           \n",
      "[200]\tvalid_0's rmse: 0.876825\tvalid_0's l2: 0.768822\tvalid_1's rmse: 0.608092\tvalid_1's l2: 0.369776           \n",
      " 24%|█████████▋                              | 53/220 [04:38<13:31,  4.86s/trial, best loss: 0.8610839679639536]"
     ]
    },
    {
     "name": "stderr",
     "output_type": "stream",
     "text": [
      "Score - 0.8684628596082891, Std - 0.0278508441757643, Eval Score - 0.8684628596082891\n",
      "Score across folds - [0.9018166672764135, 0.8336435491675394, 0.8699283623809144].\n"
     ]
    },
    {
     "name": "stdout",
     "output_type": "stream",
     "text": [
      "\r",
      " 25%|█████████▊                              | 54/220 [04:39<15:40,  5.66s/trial, best loss: 0.8610839679639536]"
     ]
    },
    {
     "name": "stderr",
     "output_type": "stream",
     "text": [
      "\n",
      "Iteration: 55, Training with params: {'boosting_type': 'gbdt', 'colsample_bytree': 0.6000000000000001, 'learning_rate': 0.1, 'min_child_samples': 40, 'n_estimators': 10000, 'n_jobs': -1, 'num_leaves': 32, 'objective': 'regression', 'subsample': 1.0, 'subsample_freq': 5}\n"
     ]
    },
    {
     "name": "stdout",
     "output_type": "stream",
     "text": [
      "[100]\tvalid_0's rmse: 0.898909\tvalid_0's l2: 0.808038\tvalid_1's rmse: 0.737179\tvalid_1's l2: 0.543433           \n",
      "[200]\tvalid_0's rmse: 0.900197\tvalid_0's l2: 0.810355\tvalid_1's rmse: 0.657087\tvalid_1's l2: 0.431763           \n",
      "[100]\tvalid_0's rmse: 0.835934\tvalid_0's l2: 0.698786\tvalid_1's rmse: 0.739702\tvalid_1's l2: 0.547159           \n",
      "[200]\tvalid_0's rmse: 0.837184\tvalid_0's l2: 0.700877\tvalid_1's rmse: 0.660391\tvalid_1's l2: 0.436116           \n",
      "[100]\tvalid_0's rmse: 0.877488\tvalid_0's l2: 0.769985\tvalid_1's rmse: 0.734322\tvalid_1's l2: 0.539229           \n",
      "[200]\tvalid_0's rmse: 0.879852\tvalid_0's l2: 0.774139\tvalid_1's rmse: 0.654118\tvalid_1's l2: 0.42787            \n",
      " 25%|█████████▊                              | 54/220 [04:43<15:40,  5.66s/trial, best loss: 0.8610839679639536]"
     ]
    },
    {
     "name": "stderr",
     "output_type": "stream",
     "text": [
      "Score - 0.869718577345902, Std - 0.025704742354715326, Eval Score - 0.869718577345902\n",
      "Score across folds - [0.8971223437563121, 0.8353315337793121, 0.8767018545020816].\n"
     ]
    },
    {
     "name": "stdout",
     "output_type": "stream",
     "text": [
      "\r",
      " 25%|██████████                              | 55/220 [04:43<14:39,  5.33s/trial, best loss: 0.8610839679639536]"
     ]
    },
    {
     "name": "stderr",
     "output_type": "stream",
     "text": [
      "\n",
      "Iteration: 56, Training with params: {'boosting_type': 'gbdt', 'colsample_bytree': 0.8, 'learning_rate': 0.1, 'min_child_samples': 120, 'n_estimators': 10000, 'n_jobs': -1, 'num_leaves': 16, 'objective': 'regression', 'subsample': 0.6000000000000001, 'subsample_freq': 10}\n"
     ]
    },
    {
     "name": "stdout",
     "output_type": "stream",
     "text": [
      "[100]\tvalid_0's rmse: 0.899537\tvalid_0's l2: 0.809167\tvalid_1's rmse: 0.808891\tvalid_1's l2: 0.654304           \n",
      "[200]\tvalid_0's rmse: 0.895715\tvalid_0's l2: 0.802306\tvalid_1's rmse: 0.760821\tvalid_1's l2: 0.578848           \n",
      "[100]\tvalid_0's rmse: 0.839862\tvalid_0's l2: 0.705368\tvalid_1's rmse: 0.809923\tvalid_1's l2: 0.655975           \n",
      "[200]\tvalid_0's rmse: 0.838134\tvalid_0's l2: 0.702469\tvalid_1's rmse: 0.762323\tvalid_1's l2: 0.581136           \n",
      "[100]\tvalid_0's rmse: 0.874992\tvalid_0's l2: 0.765611\tvalid_1's rmse: 0.805284\tvalid_1's l2: 0.648482           \n",
      "[200]\tvalid_0's rmse: 0.871078\tvalid_0's l2: 0.758777\tvalid_1's rmse: 0.756662\tvalid_1's l2: 0.572538           \n",
      " 25%|██████████                              | 55/220 [04:47<14:39,  5.33s/trial, best loss: 0.8610839679639536]"
     ]
    },
    {
     "name": "stderr",
     "output_type": "stream",
     "text": [
      "Score - 0.8652125800623948, Std - 0.024252127332575, Eval Score - 0.8652125800623948\n",
      "Score across folds - [0.8929795523472985, 0.8338936427405158, 0.8687645450993704].\n"
     ]
    },
    {
     "name": "stdout",
     "output_type": "stream",
     "text": [
      "\r",
      " 25%|██████████▏                             | 56/220 [04:47<13:41,  5.01s/trial, best loss: 0.8610839679639536]"
     ]
    },
    {
     "name": "stderr",
     "output_type": "stream",
     "text": [
      "\n",
      "Iteration: 57, Training with params: {'boosting_type': 'gbdt', 'colsample_bytree': 0.4, 'learning_rate': 0.1, 'min_child_samples': 80, 'n_estimators': 10000, 'n_jobs': -1, 'num_leaves': 16, 'objective': 'regression', 'subsample': 1.0, 'subsample_freq': 10}\n"
     ]
    },
    {
     "name": "stdout",
     "output_type": "stream",
     "text": [
      "[100]\tvalid_0's rmse: 0.897798\tvalid_0's l2: 0.806041\tvalid_1's rmse: 0.809504\tvalid_1's l2: 0.655298           \n",
      "[200]\tvalid_0's rmse: 0.893875\tvalid_0's l2: 0.799013\tvalid_1's rmse: 0.758102\tvalid_1's l2: 0.574718           \n",
      "[300]\tvalid_0's rmse: 0.893086\tvalid_0's l2: 0.797603\tvalid_1's rmse: 0.721173\tvalid_1's l2: 0.520091           \n",
      "[100]\tvalid_0's rmse: 0.836865\tvalid_0's l2: 0.700343\tvalid_1's rmse: 0.811621\tvalid_1's l2: 0.658728           \n",
      "[200]\tvalid_0's rmse: 0.828989\tvalid_0's l2: 0.687224\tvalid_1's rmse: 0.761019\tvalid_1's l2: 0.579149           \n",
      "[300]\tvalid_0's rmse: 0.827952\tvalid_0's l2: 0.685505\tvalid_1's rmse: 0.724149\tvalid_1's l2: 0.524391           \n",
      "[400]\tvalid_0's rmse: 0.829086\tvalid_0's l2: 0.687384\tvalid_1's rmse: 0.692686\tvalid_1's l2: 0.479814           \n",
      "[100]\tvalid_0's rmse: 0.875541\tvalid_0's l2: 0.766572\tvalid_1's rmse: 0.806209\tvalid_1's l2: 0.649974           \n",
      "[200]\tvalid_0's rmse: 0.871337\tvalid_0's l2: 0.759228\tvalid_1's rmse: 0.754192\tvalid_1's l2: 0.568805           \n",
      "[300]\tvalid_0's rmse: 0.86891\tvalid_0's l2: 0.755005\tvalid_1's rmse: 0.717554\tvalid_1's l2: 0.514883            \n",
      "[400]\tvalid_0's rmse: 0.868575\tvalid_0's l2: 0.754423\tvalid_1's rmse: 0.686769\tvalid_1's l2: 0.471651           \n",
      " 25%|██████████▏                             | 56/220 [04:52<13:41,  5.01s/trial, best loss: 0.8610839679639536]"
     ]
    },
    {
     "name": "stderr",
     "output_type": "stream",
     "text": [
      "Score - 0.862380084877944, Std - 0.026566135495669704, Eval Score - 0.862380084877944\n",
      "Score across folds - [0.8920347467463519, 0.8275755142729492, 0.8675299936145308].\n"
     ]
    },
    {
     "name": "stdout",
     "output_type": "stream",
     "text": [
      "\r",
      " 26%|██████████▎                             | 57/220 [04:52<13:14,  4.88s/trial, best loss: 0.8610839679639536]"
     ]
    },
    {
     "name": "stderr",
     "output_type": "stream",
     "text": [
      "\n",
      "Iteration: 58, Training with params: {'boosting_type': 'gbdt', 'colsample_bytree': 1.0, 'learning_rate': 0.1, 'min_child_samples': 100, 'n_estimators': 10000, 'n_jobs': -1, 'num_leaves': 32, 'objective': 'regression', 'subsample': 0.8, 'subsample_freq': 5}\n"
     ]
    },
    {
     "name": "stdout",
     "output_type": "stream",
     "text": [
      "[100]\tvalid_0's rmse: 0.898454\tvalid_0's l2: 0.80722\tvalid_1's rmse: 0.742152\tvalid_1's l2: 0.550789            \n",
      "[100]\tvalid_0's rmse: 0.834448\tvalid_0's l2: 0.696303\tvalid_1's rmse: 0.742517\tvalid_1's l2: 0.551332           \n",
      "[200]\tvalid_0's rmse: 0.8376\tvalid_0's l2: 0.701573\tvalid_1's rmse: 0.665582\tvalid_1's l2: 0.443                \n",
      "[100]\tvalid_0's rmse: 0.871285\tvalid_0's l2: 0.759138\tvalid_1's rmse: 0.738418\tvalid_1's l2: 0.545262           \n",
      "[200]\tvalid_0's rmse: 0.868931\tvalid_0's l2: 0.755041\tvalid_1's rmse: 0.659848\tvalid_1's l2: 0.4354             \n",
      " 26%|██████████▎                             | 57/220 [04:57<13:14,  4.88s/trial, best loss: 0.8610839679639536]"
     ]
    },
    {
     "name": "stderr",
     "output_type": "stream",
     "text": [
      "Score - 0.8655723745634535, Std - 0.02636000453746923, Eval Score - 0.8655723745634535\n",
      "Score across folds - [0.8972324519507938, 0.8326981467223403, 0.8667865250172264].\n"
     ]
    },
    {
     "name": "stdout",
     "output_type": "stream",
     "text": [
      "\r",
      " 26%|██████████▌                             | 58/220 [04:58<14:00,  5.19s/trial, best loss: 0.8610839679639536]"
     ]
    },
    {
     "name": "stderr",
     "output_type": "stream",
     "text": [
      "\n",
      "Iteration: 59, Training with params: {'boosting_type': 'gbdt', 'colsample_bytree': 0.6000000000000001, 'learning_rate': 0.1, 'min_child_samples': 110, 'n_estimators': 10000, 'n_jobs': -1, 'num_leaves': 32, 'objective': 'regression', 'subsample': 0.6000000000000001, 'subsample_freq': 10}\n"
     ]
    },
    {
     "name": "stdout",
     "output_type": "stream",
     "text": [
      "[100]\tvalid_0's rmse: 0.898773\tvalid_0's l2: 0.807793\tvalid_1's rmse: 0.757153\tvalid_1's l2: 0.573281           \n",
      "[200]\tvalid_0's rmse: 0.90336\tvalid_0's l2: 0.81606\tvalid_1's rmse: 0.684035\tvalid_1's l2: 0.467904             \n",
      "[100]\tvalid_0's rmse: 0.841552\tvalid_0's l2: 0.70821\tvalid_1's rmse: 0.75895\tvalid_1's l2: 0.576005             \n",
      "[200]\tvalid_0's rmse: 0.838737\tvalid_0's l2: 0.70348\tvalid_1's rmse: 0.687632\tvalid_1's l2: 0.472838            \n",
      "[100]\tvalid_0's rmse: 0.878013\tvalid_0's l2: 0.770908\tvalid_1's rmse: 0.757151\tvalid_1's l2: 0.573278           \n",
      "[200]\tvalid_0's rmse: 0.881527\tvalid_0's l2: 0.777089\tvalid_1's rmse: 0.683957\tvalid_1's l2: 0.467797           \n",
      " 26%|██████████▌                             | 58/220 [05:03<14:00,  5.19s/trial, best loss: 0.8610839679639536]"
     ]
    },
    {
     "name": "stderr",
     "output_type": "stream",
     "text": [
      "Score - 0.8701422119327052, Std - 0.02650886849514855, Eval Score - 0.8701422119327052\n",
      "Score across folds - [0.8986153001294053, 0.8347859471982572, 0.8770253884704531].\n"
     ]
    },
    {
     "name": "stdout",
     "output_type": "stream",
     "text": [
      "\r",
      " 27%|██████████▋                             | 59/220 [05:03<13:46,  5.14s/trial, best loss: 0.8610839679639536]"
     ]
    },
    {
     "name": "stderr",
     "output_type": "stream",
     "text": [
      "\n",
      "Iteration: 60, Training with params: {'boosting_type': 'gbdt', 'colsample_bytree': 0.8, 'learning_rate': 0.1, 'min_child_samples': 90, 'n_estimators': 10000, 'n_jobs': -1, 'num_leaves': 16, 'objective': 'regression', 'subsample': 1.0, 'subsample_freq': 10}\n"
     ]
    },
    {
     "name": "stdout",
     "output_type": "stream",
     "text": [
      "[100]\tvalid_0's rmse: 0.896201\tvalid_0's l2: 0.803176\tvalid_1's rmse: 0.802049\tvalid_1's l2: 0.643282           \n",
      "[200]\tvalid_0's rmse: 0.891947\tvalid_0's l2: 0.79557\tvalid_1's rmse: 0.751353\tvalid_1's l2: 0.564532            \n",
      "[100]\tvalid_0's rmse: 0.832942\tvalid_0's l2: 0.693792\tvalid_1's rmse: 0.803713\tvalid_1's l2: 0.645955           \n",
      "[200]\tvalid_0's rmse: 0.828739\tvalid_0's l2: 0.686809\tvalid_1's rmse: 0.75204\tvalid_1's l2: 0.565565            \n",
      "[300]\tvalid_0's rmse: 0.827675\tvalid_0's l2: 0.685047\tvalid_1's rmse: 0.714469\tvalid_1's l2: 0.510466           \n",
      "[100]\tvalid_0's rmse: 0.868688\tvalid_0's l2: 0.754618\tvalid_1's rmse: 0.798485\tvalid_1's l2: 0.637578           \n",
      "[200]\tvalid_0's rmse: 0.866917\tvalid_0's l2: 0.751545\tvalid_1's rmse: 0.746432\tvalid_1's l2: 0.557161           \n",
      "[300]\tvalid_0's rmse: 0.866916\tvalid_0's l2: 0.751543\tvalid_1's rmse: 0.707903\tvalid_1's l2: 0.501127           \n",
      " 27%|██████████▋                             | 59/220 [05:08<13:46,  5.14s/trial, best loss: 0.8610839679639536]"
     ]
    },
    {
     "name": "stderr",
     "output_type": "stream",
     "text": [
      "Score - 0.8610839679639536, Std - 0.026740229842720033, Eval Score - 0.8610839679639536\n",
      "Score across folds - [0.8919421973540256, 0.8267237387416502, 0.864585967796185].\n"
     ]
    },
    {
     "name": "stdout",
     "output_type": "stream",
     "text": [
      "\r",
      " 27%|██████████▉                             | 60/220 [05:08<13:49,  5.19s/trial, best loss: 0.8610839679639536]"
     ]
    },
    {
     "name": "stderr",
     "output_type": "stream",
     "text": [
      "\n",
      "Iteration: 61, Training with params: {'boosting_type': 'gbdt', 'colsample_bytree': 0.8, 'learning_rate': 0.1, 'min_child_samples': 60, 'n_estimators': 10000, 'n_jobs': -1, 'num_leaves': 16, 'objective': 'regression', 'subsample': 0.8, 'subsample_freq': 5}\n"
     ]
    },
    {
     "name": "stdout",
     "output_type": "stream",
     "text": [
      "[100]\tvalid_0's rmse: 0.897346\tvalid_0's l2: 0.80523\tvalid_1's rmse: 0.802144\tvalid_1's l2: 0.643434            \n",
      "[200]\tvalid_0's rmse: 0.893058\tvalid_0's l2: 0.797552\tvalid_1's rmse: 0.747612\tvalid_1's l2: 0.558924           \n",
      "[100]\tvalid_0's rmse: 0.835131\tvalid_0's l2: 0.697444\tvalid_1's rmse: 0.803851\tvalid_1's l2: 0.646177           \n",
      "[200]\tvalid_0's rmse: 0.838544\tvalid_0's l2: 0.703156\tvalid_1's rmse: 0.749851\tvalid_1's l2: 0.562276           \n",
      "[100]\tvalid_0's rmse: 0.874337\tvalid_0's l2: 0.764466\tvalid_1's rmse: 0.798542\tvalid_1's l2: 0.63767            \n",
      "[200]\tvalid_0's rmse: 0.870207\tvalid_0's l2: 0.75726\tvalid_1's rmse: 0.744787\tvalid_1's l2: 0.554707            \n",
      "[300]\tvalid_0's rmse: 0.874073\tvalid_0's l2: 0.764004\tvalid_1's rmse: 0.704642\tvalid_1's l2: 0.49652            \n",
      " 27%|██████████▉                             | 60/220 [05:13<13:49,  5.19s/trial, best loss: 0.8610839679639536]"
     ]
    },
    {
     "name": "stderr",
     "output_type": "stream",
     "text": [
      "Score - 0.8653671101635857, Std - 0.024589759119571238, Eval Score - 0.8653671101635857\n",
      "Score across folds - [0.8929940968488942, 0.8332630021413985, 0.8698442315004641].\n"
     ]
    },
    {
     "name": "stdout",
     "output_type": "stream",
     "text": [
      "\r",
      " 28%|███████████                             | 61/220 [05:13<13:20,  5.03s/trial, best loss: 0.8610839679639536]"
     ]
    },
    {
     "name": "stderr",
     "output_type": "stream",
     "text": [
      "\n",
      "Iteration: 62, Training with params: {'boosting_type': 'gbdt', 'colsample_bytree': 1.0, 'learning_rate': 0.1, 'min_child_samples': 80, 'n_estimators': 10000, 'n_jobs': -1, 'num_leaves': 16, 'objective': 'regression', 'subsample': 1.0, 'subsample_freq': 10}\n"
     ]
    },
    {
     "name": "stdout",
     "output_type": "stream",
     "text": [
      "[100]\tvalid_0's rmse: 0.895653\tvalid_0's l2: 0.802195\tvalid_1's rmse: 0.800885\tvalid_1's l2: 0.641417           \n",
      "[200]\tvalid_0's rmse: 0.893422\tvalid_0's l2: 0.798202\tvalid_1's rmse: 0.746578\tvalid_1's l2: 0.557379           \n",
      "[300]\tvalid_0's rmse: 0.8937\tvalid_0's l2: 0.798699\tvalid_1's rmse: 0.707823\tvalid_1's l2: 0.501013             \n",
      "[100]\tvalid_0's rmse: 0.832351\tvalid_0's l2: 0.692809\tvalid_1's rmse: 0.802383\tvalid_1's l2: 0.643819           \n",
      "[200]\tvalid_0's rmse: 0.829683\tvalid_0's l2: 0.688374\tvalid_1's rmse: 0.750186\tvalid_1's l2: 0.56278            \n",
      "[300]\tvalid_0's rmse: 0.830193\tvalid_0's l2: 0.68922\tvalid_1's rmse: 0.711139\tvalid_1's l2: 0.505719            \n",
      "[100]\tvalid_0's rmse: 0.869003\tvalid_0's l2: 0.755167\tvalid_1's rmse: 0.797982\tvalid_1's l2: 0.636776           \n",
      "[200]\tvalid_0's rmse: 0.868952\tvalid_0's l2: 0.755078\tvalid_1's rmse: 0.746288\tvalid_1's l2: 0.556946           \n",
      " 28%|███████████                             | 61/220 [05:18<13:20,  5.03s/trial, best loss: 0.8610839679639536]"
     ]
    },
    {
     "name": "stderr",
     "output_type": "stream",
     "text": [
      "Score - 0.8626724748669438, Std - 0.026331635892870412, Eval Score - 0.8626724748669438\n",
      "Score across folds - [0.8920957937171593, 0.828193827707966, 0.8677278031757057].\n"
     ]
    },
    {
     "name": "stdout",
     "output_type": "stream",
     "text": [
      "\r",
      " 28%|███████████▎                            | 62/220 [05:18<13:38,  5.18s/trial, best loss: 0.8610839679639536]"
     ]
    },
    {
     "name": "stderr",
     "output_type": "stream",
     "text": [
      "\n",
      "Iteration: 63, Training with params: {'boosting_type': 'gbdt', 'colsample_bytree': 0.8, 'learning_rate': 0.1, 'min_child_samples': 60, 'n_estimators': 10000, 'n_jobs': -1, 'num_leaves': 32, 'objective': 'regression', 'subsample': 1.0, 'subsample_freq': 10}\n"
     ]
    },
    {
     "name": "stdout",
     "output_type": "stream",
     "text": [
      "[100]\tvalid_0's rmse: 0.894615\tvalid_0's l2: 0.800337\tvalid_1's rmse: 0.735084\tvalid_1's l2: 0.540349           \n",
      "[200]\tvalid_0's rmse: 0.895985\tvalid_0's l2: 0.802789\tvalid_1's rmse: 0.655611\tvalid_1's l2: 0.429826           \n",
      "[100]\tvalid_0's rmse: 0.836289\tvalid_0's l2: 0.699379\tvalid_1's rmse: 0.737146\tvalid_1's l2: 0.543384           \n",
      "[200]\tvalid_0's rmse: 0.833752\tvalid_0's l2: 0.695142\tvalid_1's rmse: 0.657425\tvalid_1's l2: 0.432207           \n",
      "[100]\tvalid_0's rmse: 0.871462\tvalid_0's l2: 0.759446\tvalid_1's rmse: 0.7329\tvalid_1's l2: 0.537142             \n",
      "[200]\tvalid_0's rmse: 0.868529\tvalid_0's l2: 0.754343\tvalid_1's rmse: 0.653392\tvalid_1's l2: 0.426921           \n",
      "[300]\tvalid_0's rmse: 0.871836\tvalid_0's l2: 0.760099\tvalid_1's rmse: 0.592715\tvalid_1's l2: 0.351311           \n",
      " 28%|███████████▎                            | 62/220 [05:24<13:38,  5.18s/trial, best loss: 0.8610839679639536]"
     ]
    },
    {
     "name": "stderr",
     "output_type": "stream",
     "text": [
      "Score - 0.8650436653215454, Std - 0.024991952000701898, Eval Score - 0.8650436653215454\n",
      "Score across folds - [0.8939270208136266, 0.8329608331675125, 0.8682431419834972].\n"
     ]
    },
    {
     "name": "stdout",
     "output_type": "stream",
     "text": [
      "\r",
      " 29%|███████████▍                            | 63/220 [05:24<13:58,  5.34s/trial, best loss: 0.8610839679639536]"
     ]
    },
    {
     "name": "stderr",
     "output_type": "stream",
     "text": [
      "\n",
      "Iteration: 64, Training with params: {'boosting_type': 'gbdt', 'colsample_bytree': 0.6000000000000001, 'learning_rate': 0.1, 'min_child_samples': 90, 'n_estimators': 10000, 'n_jobs': -1, 'num_leaves': 16, 'objective': 'regression', 'subsample': 0.8, 'subsample_freq': 5}\n"
     ]
    },
    {
     "name": "stdout",
     "output_type": "stream",
     "text": [
      "[100]\tvalid_0's rmse: 0.897488\tvalid_0's l2: 0.805484\tvalid_1's rmse: 0.805637\tvalid_1's l2: 0.649051           \n",
      "[200]\tvalid_0's rmse: 0.893895\tvalid_0's l2: 0.799049\tvalid_1's rmse: 0.752447\tvalid_1's l2: 0.566177           \n",
      "[300]\tvalid_0's rmse: 0.895048\tvalid_0's l2: 0.80111\tvalid_1's rmse: 0.714578\tvalid_1's l2: 0.510622            \n",
      "[100]\tvalid_0's rmse: 0.841791\tvalid_0's l2: 0.708612\tvalid_1's rmse: 0.808737\tvalid_1's l2: 0.654055           \n",
      "[200]\tvalid_0's rmse: 0.839407\tvalid_0's l2: 0.704604\tvalid_1's rmse: 0.757235\tvalid_1's l2: 0.573405           \n",
      "[300]\tvalid_0's rmse: 0.836511\tvalid_0's l2: 0.699751\tvalid_1's rmse: 0.717678\tvalid_1's l2: 0.515062           \n",
      "[400]\tvalid_0's rmse: 0.837114\tvalid_0's l2: 0.70076\tvalid_1's rmse: 0.685224\tvalid_1's l2: 0.469532            \n",
      "[100]\tvalid_0's rmse: 0.873903\tvalid_0's l2: 0.763707\tvalid_1's rmse: 0.803734\tvalid_1's l2: 0.645988           \n",
      "[200]\tvalid_0's rmse: 0.872151\tvalid_0's l2: 0.760647\tvalid_1's rmse: 0.751238\tvalid_1's l2: 0.564358           \n",
      " 29%|███████████▍                            | 63/220 [05:29<13:58,  5.34s/trial, best loss: 0.8610839679639536]"
     ]
    },
    {
     "name": "stderr",
     "output_type": "stream",
     "text": [
      "Score - 0.8658814226827202, Std - 0.02364696856391921, Eval Score - 0.8658814226827202\n",
      "Score across folds - [0.8924679855812498, 0.8350201394026731, 0.8701561430642375].\n"
     ]
    },
    {
     "name": "stdout",
     "output_type": "stream",
     "text": [
      "\r",
      " 29%|███████████▋                            | 64/220 [05:29<13:35,  5.23s/trial, best loss: 0.8610839679639536]"
     ]
    },
    {
     "name": "stderr",
     "output_type": "stream",
     "text": [
      "\n",
      "Iteration: 65, Training with params: {'boosting_type': 'gbdt', 'colsample_bytree': 1.0, 'learning_rate': 0.1, 'min_child_samples': 70, 'n_estimators': 10000, 'n_jobs': -1, 'num_leaves': 16, 'objective': 'regression', 'subsample': 1.0, 'subsample_freq': 10}\n"
     ]
    },
    {
     "name": "stdout",
     "output_type": "stream",
     "text": [
      "[100]\tvalid_0's rmse: 0.89804\tvalid_0's l2: 0.806476\tvalid_1's rmse: 0.799475\tvalid_1's l2: 0.639161            \n",
      "[200]\tvalid_0's rmse: 0.89487\tvalid_0's l2: 0.800792\tvalid_1's rmse: 0.745998\tvalid_1's l2: 0.556514            \n",
      "[300]\tvalid_0's rmse: 0.894504\tvalid_0's l2: 0.800137\tvalid_1's rmse: 0.706632\tvalid_1's l2: 0.499329           \n",
      "[100]\tvalid_0's rmse: 0.832508\tvalid_0's l2: 0.693069\tvalid_1's rmse: 0.801362\tvalid_1's l2: 0.642181           \n",
      "[200]\tvalid_0's rmse: 0.829224\tvalid_0's l2: 0.687613\tvalid_1's rmse: 0.748314\tvalid_1's l2: 0.559974           \n",
      "[300]\tvalid_0's rmse: 0.829362\tvalid_0's l2: 0.687842\tvalid_1's rmse: 0.707482\tvalid_1's l2: 0.500531           \n",
      "[100]\tvalid_0's rmse: 0.871797\tvalid_0's l2: 0.76003\tvalid_1's rmse: 0.797065\tvalid_1's l2: 0.635313            \n",
      "[200]\tvalid_0's rmse: 0.870672\tvalid_0's l2: 0.75807\tvalid_1's rmse: 0.743595\tvalid_1's l2: 0.552933            \n",
      "[300]\tvalid_0's rmse: 0.868026\tvalid_0's l2: 0.753469\tvalid_1's rmse: 0.703511\tvalid_1's l2: 0.494928           \n",
      "[400]\tvalid_0's rmse: 0.872059\tvalid_0's l2: 0.760486\tvalid_1's rmse: 0.670961\tvalid_1's l2: 0.450188           \n",
      " 29%|███████████▋                            | 64/220 [05:35<13:35,  5.23s/trial, best loss: 0.8610839679639536]"
     ]
    },
    {
     "name": "stderr",
     "output_type": "stream",
     "text": [
      "Score - 0.8633654851745364, Std - 0.026643856852837416, Eval Score - 0.8633654851745364\n",
      "Score across folds - [0.893416691394664, 0.82865393744583, 0.8680258266831151].\n"
     ]
    },
    {
     "name": "stdout",
     "output_type": "stream",
     "text": [
      "\r",
      " 30%|███████████▊                            | 65/220 [05:35<14:17,  5.53s/trial, best loss: 0.8610839679639536]"
     ]
    },
    {
     "name": "stderr",
     "output_type": "stream",
     "text": [
      "\n",
      "Iteration: 66, Training with params: {'boosting_type': 'gbdt', 'colsample_bytree': 0.8, 'learning_rate': 0.1, 'min_child_samples': 50, 'n_estimators': 10000, 'n_jobs': -1, 'num_leaves': 16, 'objective': 'regression', 'subsample': 1.0, 'subsample_freq': 10}\n"
     ]
    },
    {
     "name": "stdout",
     "output_type": "stream",
     "text": [
      "[100]\tvalid_0's rmse: 0.898004\tvalid_0's l2: 0.806411\tvalid_1's rmse: 0.799697\tvalid_1's l2: 0.639516           \n",
      "[200]\tvalid_0's rmse: 0.895256\tvalid_0's l2: 0.801483\tvalid_1's rmse: 0.745656\tvalid_1's l2: 0.556003           \n",
      "[100]\tvalid_0's rmse: 0.834322\tvalid_0's l2: 0.696093\tvalid_1's rmse: 0.80216\tvalid_1's l2: 0.64346             \n",
      "[200]\tvalid_0's rmse: 0.831524\tvalid_0's l2: 0.691432\tvalid_1's rmse: 0.748351\tvalid_1's l2: 0.56003            \n",
      "[300]\tvalid_0's rmse: 0.830307\tvalid_0's l2: 0.68941\tvalid_1's rmse: 0.707535\tvalid_1's l2: 0.500606            \n",
      "[100]\tvalid_0's rmse: 0.872999\tvalid_0's l2: 0.762128\tvalid_1's rmse: 0.7988\tvalid_1's l2: 0.638081             \n",
      "[200]\tvalid_0's rmse: 0.87169\tvalid_0's l2: 0.759844\tvalid_1's rmse: 0.744543\tvalid_1's l2: 0.554344            \n",
      " 30%|███████████▊                            | 65/220 [05:40<14:17,  5.53s/trial, best loss: 0.8610839679639536]"
     ]
    },
    {
     "name": "stderr",
     "output_type": "stream",
     "text": [
      "Score - 0.8651121346674774, Std - 0.02659898111391119, Eval Score - 0.8651121346674774\n",
      "Score across folds - [0.8941471980291212, 0.8298827098781948, 0.8713064960951162].\n"
     ]
    },
    {
     "name": "stdout",
     "output_type": "stream",
     "text": [
      "\r",
      " 30%|████████████                            | 66/220 [05:40<13:39,  5.32s/trial, best loss: 0.8610839679639536]"
     ]
    },
    {
     "name": "stderr",
     "output_type": "stream",
     "text": [
      "\n",
      "Iteration: 67, Training with params: {'boosting_type': 'gbdt', 'colsample_bytree': 0.8, 'learning_rate': 0.1, 'min_child_samples': 130, 'n_estimators': 10000, 'n_jobs': -1, 'num_leaves': 16, 'objective': 'regression', 'subsample': 1.0, 'subsample_freq': 10}\n"
     ]
    },
    {
     "name": "stdout",
     "output_type": "stream",
     "text": [
      "[100]\tvalid_0's rmse: 0.89643\tvalid_0's l2: 0.803587\tvalid_1's rmse: 0.80363\tvalid_1's l2: 0.645822             \n",
      "[200]\tvalid_0's rmse: 0.892393\tvalid_0's l2: 0.796366\tvalid_1's rmse: 0.75322\tvalid_1's l2: 0.56734             \n",
      "[100]\tvalid_0's rmse: 0.837874\tvalid_0's l2: 0.702033\tvalid_1's rmse: 0.805983\tvalid_1's l2: 0.649608           \n",
      "[200]\tvalid_0's rmse: 0.832569\tvalid_0's l2: 0.693172\tvalid_1's rmse: 0.756703\tvalid_1's l2: 0.572599           \n",
      "[300]\tvalid_0's rmse: 0.832346\tvalid_0's l2: 0.6928\tvalid_1's rmse: 0.71943\tvalid_1's l2: 0.51758               \n",
      "[400]\tvalid_0's rmse: 0.830605\tvalid_0's l2: 0.689905\tvalid_1's rmse: 0.688305\tvalid_1's l2: 0.473763           \n",
      "[500]\tvalid_0's rmse: 0.831708\tvalid_0's l2: 0.691738\tvalid_1's rmse: 0.660585\tvalid_1's l2: 0.436372           \n",
      "[100]\tvalid_0's rmse: 0.8708\tvalid_0's l2: 0.758293\tvalid_1's rmse: 0.80173\tvalid_1's l2: 0.642771              \n",
      "[200]\tvalid_0's rmse: 0.864443\tvalid_0's l2: 0.747261\tvalid_1's rmse: 0.7533\tvalid_1's l2: 0.567461             \n",
      "[300]\tvalid_0's rmse: 0.864849\tvalid_0's l2: 0.747963\tvalid_1's rmse: 0.715771\tvalid_1's l2: 0.512328           \n",
      " 30%|████████████                            | 66/220 [05:46<13:39,  5.32s/trial, best loss: 0.8610839679639536]"
     ]
    },
    {
     "name": "stderr",
     "output_type": "stream",
     "text": [
      "Score - 0.8616386932694483, Std - 0.024949652757206005, Eval Score - 0.8616386932694483\n",
      "Score across folds - [0.8913172390583768, 0.8302732078945458, 0.8633256328554225].\n"
     ]
    },
    {
     "name": "stdout",
     "output_type": "stream",
     "text": [
      "\r",
      " 30%|████████████▏                           | 67/220 [05:46<14:07,  5.54s/trial, best loss: 0.8610839679639536]"
     ]
    },
    {
     "name": "stderr",
     "output_type": "stream",
     "text": [
      "\n",
      "Iteration: 68, Training with params: {'boosting_type': 'gbdt', 'colsample_bytree': 0.8, 'learning_rate': 0.1, 'min_child_samples': 100, 'n_estimators': 10000, 'n_jobs': -1, 'num_leaves': 16, 'objective': 'regression', 'subsample': 1.0, 'subsample_freq': 10}\n"
     ]
    },
    {
     "name": "stdout",
     "output_type": "stream",
     "text": [
      "[100]\tvalid_0's rmse: 0.896721\tvalid_0's l2: 0.804109\tvalid_1's rmse: 0.802478\tvalid_1's l2: 0.643971           \n",
      "[200]\tvalid_0's rmse: 0.8955\tvalid_0's l2: 0.80192\tvalid_1's rmse: 0.75104\tvalid_1's l2: 0.564062               \n",
      "[100]\tvalid_0's rmse: 0.833125\tvalid_0's l2: 0.694097\tvalid_1's rmse: 0.803464\tvalid_1's l2: 0.645554           \n",
      "[200]\tvalid_0's rmse: 0.829991\tvalid_0's l2: 0.688885\tvalid_1's rmse: 0.752159\tvalid_1's l2: 0.565743           \n",
      "[300]\tvalid_0's rmse: 0.828085\tvalid_0's l2: 0.685725\tvalid_1's rmse: 0.712953\tvalid_1's l2: 0.508302           \n",
      "[400]\tvalid_0's rmse: 0.827643\tvalid_0's l2: 0.684993\tvalid_1's rmse: 0.680845\tvalid_1's l2: 0.46355            \n",
      "[100]\tvalid_0's rmse: 0.871166\tvalid_0's l2: 0.75893\tvalid_1's rmse: 0.799971\tvalid_1's l2: 0.639953            \n",
      "[200]\tvalid_0's rmse: 0.868183\tvalid_0's l2: 0.753741\tvalid_1's rmse: 0.748\tvalid_1's l2: 0.559504              \n",
      "[300]\tvalid_0's rmse: 0.869814\tvalid_0's l2: 0.756576\tvalid_1's rmse: 0.70984\tvalid_1's l2: 0.503873            \n",
      " 30%|████████████▏                           | 67/220 [05:51<14:07,  5.54s/trial, best loss: 0.8610839679639536]"
     ]
    },
    {
     "name": "stderr",
     "output_type": "stream",
     "text": [
      "Score - 0.862737934190379, Std - 0.027649661554100913, Eval Score - 0.862737934190379\n",
      "Score across folds - [0.8940035919298196, 0.8267679555529404, 0.8674422550883774].\n"
     ]
    },
    {
     "name": "stdout",
     "output_type": "stream",
     "text": [
      "\r",
      " 31%|████████████▎                           | 68/220 [05:51<13:52,  5.48s/trial, best loss: 0.8610839679639536]"
     ]
    },
    {
     "name": "stderr",
     "output_type": "stream",
     "text": [
      "\n",
      "Iteration: 69, Training with params: {'boosting_type': 'gbdt', 'colsample_bytree': 0.8, 'learning_rate': 0.1, 'min_child_samples': 110, 'n_estimators': 10000, 'n_jobs': -1, 'num_leaves': 16, 'objective': 'regression', 'subsample': 1.0, 'subsample_freq': 10}\n"
     ]
    },
    {
     "name": "stdout",
     "output_type": "stream",
     "text": [
      "[100]\tvalid_0's rmse: 0.895397\tvalid_0's l2: 0.801736\tvalid_1's rmse: 0.803209\tvalid_1's l2: 0.645145           \n",
      "[200]\tvalid_0's rmse: 0.894279\tvalid_0's l2: 0.799735\tvalid_1's rmse: 0.751945\tvalid_1's l2: 0.565422           \n",
      "[100]\tvalid_0's rmse: 0.834536\tvalid_0's l2: 0.696451\tvalid_1's rmse: 0.805285\tvalid_1's l2: 0.648484           \n",
      "[200]\tvalid_0's rmse: 0.830165\tvalid_0's l2: 0.689173\tvalid_1's rmse: 0.753204\tvalid_1's l2: 0.567317           \n",
      "[300]\tvalid_0's rmse: 0.830981\tvalid_0's l2: 0.690529\tvalid_1's rmse: 0.716161\tvalid_1's l2: 0.512887           \n",
      "[100]\tvalid_0's rmse: 0.87215\tvalid_0's l2: 0.760646\tvalid_1's rmse: 0.800634\tvalid_1's l2: 0.641014            \n",
      "[200]\tvalid_0's rmse: 0.868144\tvalid_0's l2: 0.753674\tvalid_1's rmse: 0.750102\tvalid_1's l2: 0.562653           \n",
      " 31%|████████████▎                           | 68/220 [05:56<13:52,  5.48s/trial, best loss: 0.8610839679639536]"
     ]
    },
    {
     "name": "stderr",
     "output_type": "stream",
     "text": [
      "Score - 0.8634484965614889, Std - 0.026771936143266787, Eval Score - 0.8634484965614889\n",
      "Score across folds - [0.893981499224136, 0.8287936828077078, 0.8675703076526232].\n"
     ]
    },
    {
     "name": "stdout",
     "output_type": "stream",
     "text": [
      "\r",
      " 31%|████████████▌                           | 69/220 [05:56<13:16,  5.27s/trial, best loss: 0.8610839679639536]"
     ]
    },
    {
     "name": "stderr",
     "output_type": "stream",
     "text": [
      "\n",
      "Iteration: 70, Training with params: {'boosting_type': 'gbdt', 'colsample_bytree': 0.8, 'learning_rate': 0.1, 'min_child_samples': 90, 'n_estimators': 10000, 'n_jobs': -1, 'num_leaves': 16, 'objective': 'regression', 'subsample': 1.0, 'subsample_freq': 10}\n"
     ]
    },
    {
     "name": "stdout",
     "output_type": "stream",
     "text": [
      "[100]\tvalid_0's rmse: 0.896201\tvalid_0's l2: 0.803176\tvalid_1's rmse: 0.802049\tvalid_1's l2: 0.643282           \n",
      "[200]\tvalid_0's rmse: 0.891947\tvalid_0's l2: 0.79557\tvalid_1's rmse: 0.751353\tvalid_1's l2: 0.564532            \n",
      "[100]\tvalid_0's rmse: 0.832942\tvalid_0's l2: 0.693792\tvalid_1's rmse: 0.803713\tvalid_1's l2: 0.645955           \n",
      "[200]\tvalid_0's rmse: 0.828739\tvalid_0's l2: 0.686809\tvalid_1's rmse: 0.75204\tvalid_1's l2: 0.565565            \n",
      "[300]\tvalid_0's rmse: 0.827675\tvalid_0's l2: 0.685047\tvalid_1's rmse: 0.714469\tvalid_1's l2: 0.510466           \n",
      "[100]\tvalid_0's rmse: 0.868688\tvalid_0's l2: 0.754618\tvalid_1's rmse: 0.798485\tvalid_1's l2: 0.637578           \n",
      "[200]\tvalid_0's rmse: 0.866917\tvalid_0's l2: 0.751545\tvalid_1's rmse: 0.746432\tvalid_1's l2: 0.557161           \n",
      "[300]\tvalid_0's rmse: 0.866916\tvalid_0's l2: 0.751543\tvalid_1's rmse: 0.707903\tvalid_1's l2: 0.501127           \n",
      " 31%|████████████▌                           | 69/220 [06:01<13:16,  5.27s/trial, best loss: 0.8610839679639536]"
     ]
    },
    {
     "name": "stderr",
     "output_type": "stream",
     "text": [
      "Score - 0.8610839679639536, Std - 0.026740229842720033, Eval Score - 0.8610839679639536\n",
      "Score across folds - [0.8919421973540256, 0.8267237387416502, 0.864585967796185].\n"
     ]
    },
    {
     "name": "stdout",
     "output_type": "stream",
     "text": [
      "\r",
      " 32%|████████████▋                           | 70/220 [06:02<13:13,  5.29s/trial, best loss: 0.8610839679639536]"
     ]
    },
    {
     "name": "stderr",
     "output_type": "stream",
     "text": [
      "\n",
      "Iteration: 71, Training with params: {'boosting_type': 'gbdt', 'colsample_bytree': 0.8, 'learning_rate': 0.1, 'min_child_samples': 90, 'n_estimators': 10000, 'n_jobs': -1, 'num_leaves': 16, 'objective': 'regression', 'subsample': 1.0, 'subsample_freq': 10}\n"
     ]
    },
    {
     "name": "stdout",
     "output_type": "stream",
     "text": [
      "[100]\tvalid_0's rmse: 0.896201\tvalid_0's l2: 0.803176\tvalid_1's rmse: 0.802049\tvalid_1's l2: 0.643282           \n",
      "[200]\tvalid_0's rmse: 0.891947\tvalid_0's l2: 0.79557\tvalid_1's rmse: 0.751353\tvalid_1's l2: 0.564532            \n",
      "[100]\tvalid_0's rmse: 0.832942\tvalid_0's l2: 0.693792\tvalid_1's rmse: 0.803713\tvalid_1's l2: 0.645955           \n",
      "[200]\tvalid_0's rmse: 0.828739\tvalid_0's l2: 0.686809\tvalid_1's rmse: 0.75204\tvalid_1's l2: 0.565565            \n",
      "[300]\tvalid_0's rmse: 0.827675\tvalid_0's l2: 0.685047\tvalid_1's rmse: 0.714469\tvalid_1's l2: 0.510466           \n",
      "[100]\tvalid_0's rmse: 0.868688\tvalid_0's l2: 0.754618\tvalid_1's rmse: 0.798485\tvalid_1's l2: 0.637578           \n",
      "[200]\tvalid_0's rmse: 0.866917\tvalid_0's l2: 0.751545\tvalid_1's rmse: 0.746432\tvalid_1's l2: 0.557161           \n",
      "[300]\tvalid_0's rmse: 0.866916\tvalid_0's l2: 0.751543\tvalid_1's rmse: 0.707903\tvalid_1's l2: 0.501127           \n",
      " 32%|████████████▋                           | 70/220 [06:07<13:13,  5.29s/trial, best loss: 0.8610839679639536]"
     ]
    },
    {
     "name": "stderr",
     "output_type": "stream",
     "text": [
      "Score - 0.8610839679639536, Std - 0.026740229842720033, Eval Score - 0.8610839679639536\n",
      "Score across folds - [0.8919421973540256, 0.8267237387416502, 0.864585967796185].\n"
     ]
    },
    {
     "name": "stdout",
     "output_type": "stream",
     "text": [
      "\r",
      " 32%|████████████▉                           | 71/220 [06:07<13:09,  5.30s/trial, best loss: 0.8610839679639536]"
     ]
    },
    {
     "name": "stderr",
     "output_type": "stream",
     "text": [
      "\n",
      "Iteration: 72, Training with params: {'boosting_type': 'gbdt', 'colsample_bytree': 0.8, 'learning_rate': 0.1, 'min_child_samples': 90, 'n_estimators': 10000, 'n_jobs': -1, 'num_leaves': 16, 'objective': 'regression', 'subsample': 1.0, 'subsample_freq': 10}\n"
     ]
    },
    {
     "name": "stdout",
     "output_type": "stream",
     "text": [
      "[100]\tvalid_0's rmse: 0.896201\tvalid_0's l2: 0.803176\tvalid_1's rmse: 0.802049\tvalid_1's l2: 0.643282           \n",
      "[200]\tvalid_0's rmse: 0.891947\tvalid_0's l2: 0.79557\tvalid_1's rmse: 0.751353\tvalid_1's l2: 0.564532            \n",
      "[100]\tvalid_0's rmse: 0.832942\tvalid_0's l2: 0.693792\tvalid_1's rmse: 0.803713\tvalid_1's l2: 0.645955           \n",
      "[200]\tvalid_0's rmse: 0.828739\tvalid_0's l2: 0.686809\tvalid_1's rmse: 0.75204\tvalid_1's l2: 0.565565            \n",
      "[300]\tvalid_0's rmse: 0.827675\tvalid_0's l2: 0.685047\tvalid_1's rmse: 0.714469\tvalid_1's l2: 0.510466           \n",
      "[100]\tvalid_0's rmse: 0.868688\tvalid_0's l2: 0.754618\tvalid_1's rmse: 0.798485\tvalid_1's l2: 0.637578           \n",
      "[200]\tvalid_0's rmse: 0.866917\tvalid_0's l2: 0.751545\tvalid_1's rmse: 0.746432\tvalid_1's l2: 0.557161           \n",
      "[300]\tvalid_0's rmse: 0.866916\tvalid_0's l2: 0.751543\tvalid_1's rmse: 0.707903\tvalid_1's l2: 0.501127           \n",
      " 32%|████████████▉                           | 71/220 [06:12<13:09,  5.30s/trial, best loss: 0.8610839679639536]"
     ]
    },
    {
     "name": "stderr",
     "output_type": "stream",
     "text": [
      "Score - 0.8610839679639536, Std - 0.026740229842720033, Eval Score - 0.8610839679639536\n",
      "Score across folds - [0.8919421973540256, 0.8267237387416502, 0.864585967796185].\n"
     ]
    },
    {
     "name": "stdout",
     "output_type": "stream",
     "text": [
      "\r",
      " 33%|█████████████                           | 72/220 [06:12<13:04,  5.30s/trial, best loss: 0.8610839679639536]"
     ]
    },
    {
     "name": "stderr",
     "output_type": "stream",
     "text": [
      "\n",
      "Iteration: 73, Training with params: {'boosting_type': 'gbdt', 'colsample_bytree': 0.8, 'learning_rate': 0.1, 'min_child_samples': 80, 'n_estimators': 10000, 'n_jobs': -1, 'num_leaves': 16, 'objective': 'regression', 'subsample': 1.0, 'subsample_freq': 10}\n"
     ]
    },
    {
     "name": "stdout",
     "output_type": "stream",
     "text": [
      "[100]\tvalid_0's rmse: 0.894227\tvalid_0's l2: 0.799642\tvalid_1's rmse: 0.801588\tvalid_1's l2: 0.642544           \n",
      "[200]\tvalid_0's rmse: 0.89374\tvalid_0's l2: 0.798771\tvalid_1's rmse: 0.749187\tvalid_1's l2: 0.561281            \n",
      "[100]\tvalid_0's rmse: 0.837264\tvalid_0's l2: 0.701011\tvalid_1's rmse: 0.804374\tvalid_1's l2: 0.647018           \n",
      "[200]\tvalid_0's rmse: 0.832608\tvalid_0's l2: 0.693236\tvalid_1's rmse: 0.751794\tvalid_1's l2: 0.565194           \n",
      "[300]\tvalid_0's rmse: 0.83294\tvalid_0's l2: 0.693789\tvalid_1's rmse: 0.7139\tvalid_1's l2: 0.509654              \n",
      "[100]\tvalid_0's rmse: 0.873458\tvalid_0's l2: 0.76293\tvalid_1's rmse: 0.799375\tvalid_1's l2: 0.639001            \n",
      "[200]\tvalid_0's rmse: 0.871956\tvalid_0's l2: 0.760307\tvalid_1's rmse: 0.747234\tvalid_1's l2: 0.558358           \n",
      " 33%|█████████████                           | 72/220 [06:17<13:04,  5.30s/trial, best loss: 0.8610839679639536]"
     ]
    },
    {
     "name": "stderr",
     "output_type": "stream",
     "text": [
      "Score - 0.8649729643292062, Std - 0.02561783502589253, Eval Score - 0.8649729643292062\n",
      "Score across folds - [0.893231600962765, 0.8312095608840044, 0.8704777311408491].\n"
     ]
    },
    {
     "name": "stdout",
     "output_type": "stream",
     "text": [
      "\r",
      " 33%|█████████████▎                          | 73/220 [06:17<12:31,  5.11s/trial, best loss: 0.8610839679639536]"
     ]
    },
    {
     "name": "stderr",
     "output_type": "stream",
     "text": [
      "\n",
      "Iteration: 74, Training with params: {'boosting_type': 'gbdt', 'colsample_bytree': 1.0, 'learning_rate': 0.1, 'min_child_samples': 70, 'n_estimators': 10000, 'n_jobs': -1, 'num_leaves': 16, 'objective': 'regression', 'subsample': 1.0, 'subsample_freq': 10}\n"
     ]
    },
    {
     "name": "stdout",
     "output_type": "stream",
     "text": [
      "[100]\tvalid_0's rmse: 0.89804\tvalid_0's l2: 0.806476\tvalid_1's rmse: 0.799475\tvalid_1's l2: 0.639161            \n",
      "[200]\tvalid_0's rmse: 0.89487\tvalid_0's l2: 0.800792\tvalid_1's rmse: 0.745998\tvalid_1's l2: 0.556514            \n",
      "[300]\tvalid_0's rmse: 0.894504\tvalid_0's l2: 0.800137\tvalid_1's rmse: 0.706632\tvalid_1's l2: 0.499329           \n",
      "[100]\tvalid_0's rmse: 0.832508\tvalid_0's l2: 0.693069\tvalid_1's rmse: 0.801362\tvalid_1's l2: 0.642181           \n",
      "[200]\tvalid_0's rmse: 0.829224\tvalid_0's l2: 0.687613\tvalid_1's rmse: 0.748314\tvalid_1's l2: 0.559974           \n",
      "[300]\tvalid_0's rmse: 0.829362\tvalid_0's l2: 0.687842\tvalid_1's rmse: 0.707482\tvalid_1's l2: 0.500531           \n",
      "[100]\tvalid_0's rmse: 0.871797\tvalid_0's l2: 0.76003\tvalid_1's rmse: 0.797065\tvalid_1's l2: 0.635313            \n",
      "[200]\tvalid_0's rmse: 0.870672\tvalid_0's l2: 0.75807\tvalid_1's rmse: 0.743595\tvalid_1's l2: 0.552933            \n",
      "[300]\tvalid_0's rmse: 0.868026\tvalid_0's l2: 0.753469\tvalid_1's rmse: 0.703511\tvalid_1's l2: 0.494928           \n",
      "[400]\tvalid_0's rmse: 0.872059\tvalid_0's l2: 0.760486\tvalid_1's rmse: 0.670961\tvalid_1's l2: 0.450188           \n",
      " 33%|█████████████▎                          | 73/220 [06:23<12:31,  5.11s/trial, best loss: 0.8610839679639536]"
     ]
    },
    {
     "name": "stderr",
     "output_type": "stream",
     "text": [
      "Score - 0.8633654851745364, Std - 0.026643856852837416, Eval Score - 0.8633654851745364\n",
      "Score across folds - [0.893416691394664, 0.82865393744583, 0.8680258266831151].\n"
     ]
    },
    {
     "name": "stdout",
     "output_type": "stream",
     "text": [
      "\r",
      " 34%|█████████████▍                          | 74/220 [06:23<13:13,  5.44s/trial, best loss: 0.8610839679639536]"
     ]
    },
    {
     "name": "stderr",
     "output_type": "stream",
     "text": [
      "\n",
      "Iteration: 75, Training with params: {'boosting_type': 'gbdt', 'colsample_bytree': 0.8, 'learning_rate': 0.1, 'min_child_samples': 100, 'n_estimators': 10000, 'n_jobs': -1, 'num_leaves': 16, 'objective': 'regression', 'subsample': 1.0, 'subsample_freq': 10}\n"
     ]
    },
    {
     "name": "stdout",
     "output_type": "stream",
     "text": [
      "[100]\tvalid_0's rmse: 0.896721\tvalid_0's l2: 0.804109\tvalid_1's rmse: 0.802478\tvalid_1's l2: 0.643971           \n",
      "[200]\tvalid_0's rmse: 0.8955\tvalid_0's l2: 0.80192\tvalid_1's rmse: 0.75104\tvalid_1's l2: 0.564062               \n",
      "[100]\tvalid_0's rmse: 0.833125\tvalid_0's l2: 0.694097\tvalid_1's rmse: 0.803464\tvalid_1's l2: 0.645554           \n",
      "[200]\tvalid_0's rmse: 0.829991\tvalid_0's l2: 0.688885\tvalid_1's rmse: 0.752159\tvalid_1's l2: 0.565743           \n",
      "[300]\tvalid_0's rmse: 0.828085\tvalid_0's l2: 0.685725\tvalid_1's rmse: 0.712953\tvalid_1's l2: 0.508302           \n",
      "[400]\tvalid_0's rmse: 0.827643\tvalid_0's l2: 0.684993\tvalid_1's rmse: 0.680845\tvalid_1's l2: 0.46355            \n",
      "[100]\tvalid_0's rmse: 0.871166\tvalid_0's l2: 0.75893\tvalid_1's rmse: 0.799971\tvalid_1's l2: 0.639953            \n",
      "[200]\tvalid_0's rmse: 0.868183\tvalid_0's l2: 0.753741\tvalid_1's rmse: 0.748\tvalid_1's l2: 0.559504              \n",
      "[300]\tvalid_0's rmse: 0.869814\tvalid_0's l2: 0.756576\tvalid_1's rmse: 0.70984\tvalid_1's l2: 0.503873            \n",
      " 34%|█████████████▍                          | 74/220 [06:28<13:13,  5.44s/trial, best loss: 0.8610839679639536]"
     ]
    },
    {
     "name": "stderr",
     "output_type": "stream",
     "text": [
      "Score - 0.862737934190379, Std - 0.027649661554100913, Eval Score - 0.862737934190379\n",
      "Score across folds - [0.8940035919298196, 0.8267679555529404, 0.8674422550883774].\n"
     ]
    },
    {
     "name": "stdout",
     "output_type": "stream",
     "text": [
      "\r",
      " 34%|█████████████▋                          | 75/220 [06:28<13:05,  5.42s/trial, best loss: 0.8610839679639536]"
     ]
    },
    {
     "name": "stderr",
     "output_type": "stream",
     "text": [
      "\n",
      "Iteration: 76, Training with params: {'boosting_type': 'gbdt', 'colsample_bytree': 0.8, 'learning_rate': 0.1, 'min_child_samples': 80, 'n_estimators': 10000, 'n_jobs': -1, 'num_leaves': 16, 'objective': 'regression', 'subsample': 1.0, 'subsample_freq': 10}\n"
     ]
    },
    {
     "name": "stdout",
     "output_type": "stream",
     "text": [
      "[100]\tvalid_0's rmse: 0.894227\tvalid_0's l2: 0.799642\tvalid_1's rmse: 0.801588\tvalid_1's l2: 0.642544           \n",
      "[200]\tvalid_0's rmse: 0.89374\tvalid_0's l2: 0.798771\tvalid_1's rmse: 0.749187\tvalid_1's l2: 0.561281            \n",
      "[100]\tvalid_0's rmse: 0.837264\tvalid_0's l2: 0.701011\tvalid_1's rmse: 0.804374\tvalid_1's l2: 0.647018           \n",
      "[200]\tvalid_0's rmse: 0.832608\tvalid_0's l2: 0.693236\tvalid_1's rmse: 0.751794\tvalid_1's l2: 0.565194           \n",
      "[300]\tvalid_0's rmse: 0.83294\tvalid_0's l2: 0.693789\tvalid_1's rmse: 0.7139\tvalid_1's l2: 0.509654              \n",
      "[100]\tvalid_0's rmse: 0.873458\tvalid_0's l2: 0.76293\tvalid_1's rmse: 0.799375\tvalid_1's l2: 0.639001            \n",
      "[200]\tvalid_0's rmse: 0.871956\tvalid_0's l2: 0.760307\tvalid_1's rmse: 0.747234\tvalid_1's l2: 0.558358           \n",
      " 34%|█████████████▋                          | 75/220 [06:33<13:05,  5.42s/trial, best loss: 0.8610839679639536]"
     ]
    },
    {
     "name": "stderr",
     "output_type": "stream",
     "text": [
      "Score - 0.8649729643292062, Std - 0.02561783502589253, Eval Score - 0.8649729643292062\n",
      "Score across folds - [0.893231600962765, 0.8312095608840044, 0.8704777311408491].\n"
     ]
    },
    {
     "name": "stdout",
     "output_type": "stream",
     "text": [
      "\r",
      " 35%|█████████████▊                          | 76/220 [06:33<12:29,  5.21s/trial, best loss: 0.8610839679639536]"
     ]
    },
    {
     "name": "stderr",
     "output_type": "stream",
     "text": [
      "\n",
      "Iteration: 77, Training with params: {'boosting_type': 'gbdt', 'colsample_bytree': 0.6000000000000001, 'learning_rate': 0.1, 'min_child_samples': 100, 'n_estimators': 10000, 'n_jobs': -1, 'num_leaves': 16, 'objective': 'regression', 'subsample': 1.0, 'subsample_freq': 10}\n"
     ]
    },
    {
     "name": "stdout",
     "output_type": "stream",
     "text": [
      "[100]\tvalid_0's rmse: 0.900943\tvalid_0's l2: 0.811698\tvalid_1's rmse: 0.805397\tvalid_1's l2: 0.648664           \n",
      "[200]\tvalid_0's rmse: 0.899744\tvalid_0's l2: 0.809539\tvalid_1's rmse: 0.754051\tvalid_1's l2: 0.568593           \n",
      "[300]\tvalid_0's rmse: 0.900815\tvalid_0's l2: 0.811467\tvalid_1's rmse: 0.716482\tvalid_1's l2: 0.513347           \n",
      "[100]\tvalid_0's rmse: 0.838102\tvalid_0's l2: 0.702415\tvalid_1's rmse: 0.807642\tvalid_1's l2: 0.652285           \n",
      "[200]\tvalid_0's rmse: 0.831417\tvalid_0's l2: 0.691254\tvalid_1's rmse: 0.755261\tvalid_1's l2: 0.570419           \n",
      "[300]\tvalid_0's rmse: 0.83194\tvalid_0's l2: 0.692125\tvalid_1's rmse: 0.718246\tvalid_1's l2: 0.515877            \n",
      "[100]\tvalid_0's rmse: 0.873597\tvalid_0's l2: 0.763171\tvalid_1's rmse: 0.804385\tvalid_1's l2: 0.647035           \n",
      "[200]\tvalid_0's rmse: 0.869944\tvalid_0's l2: 0.756802\tvalid_1's rmse: 0.753641\tvalid_1's l2: 0.567975           \n",
      "[300]\tvalid_0's rmse: 0.86962\tvalid_0's l2: 0.756238\tvalid_1's rmse: 0.716092\tvalid_1's l2: 0.512787            \n",
      "[400]\tvalid_0's rmse: 0.871523\tvalid_0's l2: 0.759552\tvalid_1's rmse: 0.684142\tvalid_1's l2: 0.468051           \n",
      " 35%|█████████████▊                          | 76/220 [06:38<12:29,  5.21s/trial, best loss: 0.8610839679639536]"
     ]
    },
    {
     "name": "stderr",
     "output_type": "stream",
     "text": [
      "Score - 0.8662247307188169, Std - 0.027709588799772287, Eval Score - 0.8662247307188169\n",
      "Score across folds - [0.8983813577694004, 0.83075065812805, 0.8695421762590001].\n"
     ]
    },
    {
     "name": "stdout",
     "output_type": "stream",
     "text": [
      "\r",
      " 35%|██████████████                          | 77/220 [06:38<12:12,  5.12s/trial, best loss: 0.8610839679639536]"
     ]
    },
    {
     "name": "stderr",
     "output_type": "stream",
     "text": [
      "\n",
      "Iteration: 78, Training with params: {'boosting_type': 'gbdt', 'colsample_bytree': 1.0, 'learning_rate': 0.1, 'min_child_samples': 70, 'n_estimators': 10000, 'n_jobs': -1, 'num_leaves': 16, 'objective': 'regression', 'subsample': 1.0, 'subsample_freq': 10}\n"
     ]
    },
    {
     "name": "stdout",
     "output_type": "stream",
     "text": [
      "[100]\tvalid_0's rmse: 0.89804\tvalid_0's l2: 0.806476\tvalid_1's rmse: 0.799475\tvalid_1's l2: 0.639161            \n",
      "[200]\tvalid_0's rmse: 0.89487\tvalid_0's l2: 0.800792\tvalid_1's rmse: 0.745998\tvalid_1's l2: 0.556514            \n",
      "[300]\tvalid_0's rmse: 0.894504\tvalid_0's l2: 0.800137\tvalid_1's rmse: 0.706632\tvalid_1's l2: 0.499329           \n",
      "[100]\tvalid_0's rmse: 0.832508\tvalid_0's l2: 0.693069\tvalid_1's rmse: 0.801362\tvalid_1's l2: 0.642181           \n",
      "[200]\tvalid_0's rmse: 0.829224\tvalid_0's l2: 0.687613\tvalid_1's rmse: 0.748314\tvalid_1's l2: 0.559974           \n",
      "[300]\tvalid_0's rmse: 0.829362\tvalid_0's l2: 0.687842\tvalid_1's rmse: 0.707482\tvalid_1's l2: 0.500531           \n",
      "[100]\tvalid_0's rmse: 0.871797\tvalid_0's l2: 0.76003\tvalid_1's rmse: 0.797065\tvalid_1's l2: 0.635313            \n",
      "[200]\tvalid_0's rmse: 0.870672\tvalid_0's l2: 0.75807\tvalid_1's rmse: 0.743595\tvalid_1's l2: 0.552933            \n",
      "[300]\tvalid_0's rmse: 0.868026\tvalid_0's l2: 0.753469\tvalid_1's rmse: 0.703511\tvalid_1's l2: 0.494928           \n",
      "[400]\tvalid_0's rmse: 0.872059\tvalid_0's l2: 0.760486\tvalid_1's rmse: 0.670961\tvalid_1's l2: 0.450188           \n",
      " 35%|██████████████                          | 77/220 [06:44<12:12,  5.12s/trial, best loss: 0.8610839679639536]"
     ]
    },
    {
     "name": "stderr",
     "output_type": "stream",
     "text": [
      "Score - 0.8633654851745364, Std - 0.026643856852837416, Eval Score - 0.8633654851745364\n",
      "Score across folds - [0.893416691394664, 0.82865393744583, 0.8680258266831151].\n"
     ]
    },
    {
     "name": "stdout",
     "output_type": "stream",
     "text": [
      "\r",
      " 35%|██████████████▏                         | 78/220 [06:44<12:55,  5.46s/trial, best loss: 0.8610839679639536]"
     ]
    },
    {
     "name": "stderr",
     "output_type": "stream",
     "text": [
      "\n",
      "Iteration: 79, Training with params: {'boosting_type': 'gbdt', 'colsample_bytree': 0.8, 'learning_rate': 0.1, 'min_child_samples': 90, 'n_estimators': 10000, 'n_jobs': -1, 'num_leaves': 16, 'objective': 'regression', 'subsample': 1.0, 'subsample_freq': 10}\n"
     ]
    },
    {
     "name": "stdout",
     "output_type": "stream",
     "text": [
      "[100]\tvalid_0's rmse: 0.896201\tvalid_0's l2: 0.803176\tvalid_1's rmse: 0.802049\tvalid_1's l2: 0.643282           \n",
      "[200]\tvalid_0's rmse: 0.891947\tvalid_0's l2: 0.79557\tvalid_1's rmse: 0.751353\tvalid_1's l2: 0.564532            \n",
      "[100]\tvalid_0's rmse: 0.832942\tvalid_0's l2: 0.693792\tvalid_1's rmse: 0.803713\tvalid_1's l2: 0.645955           \n",
      "[200]\tvalid_0's rmse: 0.828739\tvalid_0's l2: 0.686809\tvalid_1's rmse: 0.75204\tvalid_1's l2: 0.565565            \n",
      "[300]\tvalid_0's rmse: 0.827675\tvalid_0's l2: 0.685047\tvalid_1's rmse: 0.714469\tvalid_1's l2: 0.510466           \n",
      "[100]\tvalid_0's rmse: 0.868688\tvalid_0's l2: 0.754618\tvalid_1's rmse: 0.798485\tvalid_1's l2: 0.637578           \n",
      "[200]\tvalid_0's rmse: 0.866917\tvalid_0's l2: 0.751545\tvalid_1's rmse: 0.746432\tvalid_1's l2: 0.557161           \n",
      "[300]\tvalid_0's rmse: 0.866916\tvalid_0's l2: 0.751543\tvalid_1's rmse: 0.707903\tvalid_1's l2: 0.501127           \n",
      " 35%|██████████████▏                         | 78/220 [06:49<12:55,  5.46s/trial, best loss: 0.8610839679639536]"
     ]
    },
    {
     "name": "stderr",
     "output_type": "stream",
     "text": [
      "Score - 0.8610839679639536, Std - 0.026740229842720033, Eval Score - 0.8610839679639536\n",
      "Score across folds - [0.8919421973540256, 0.8267237387416502, 0.864585967796185].\n"
     ]
    },
    {
     "name": "stdout",
     "output_type": "stream",
     "text": [
      "\r",
      " 36%|██████████████▎                         | 79/220 [06:50<12:45,  5.43s/trial, best loss: 0.8610839679639536]"
     ]
    },
    {
     "name": "stderr",
     "output_type": "stream",
     "text": [
      "\n",
      "Iteration: 80, Training with params: {'boosting_type': 'gbdt', 'colsample_bytree': 1.0, 'learning_rate': 0.1, 'min_child_samples': 60, 'n_estimators': 10000, 'n_jobs': -1, 'num_leaves': 16, 'objective': 'regression', 'subsample': 1.0, 'subsample_freq': 10}\n"
     ]
    },
    {
     "name": "stdout",
     "output_type": "stream",
     "text": [
      "[100]\tvalid_0's rmse: 0.898615\tvalid_0's l2: 0.807509\tvalid_1's rmse: 0.799\tvalid_1's l2: 0.638401              \n",
      "[200]\tvalid_0's rmse: 0.898341\tvalid_0's l2: 0.807016\tvalid_1's rmse: 0.744956\tvalid_1's l2: 0.55496            \n",
      "[100]\tvalid_0's rmse: 0.835789\tvalid_0's l2: 0.698543\tvalid_1's rmse: 0.801045\tvalid_1's l2: 0.641674           \n",
      "[200]\tvalid_0's rmse: 0.832808\tvalid_0's l2: 0.693568\tvalid_1's rmse: 0.747528\tvalid_1's l2: 0.558798           \n",
      "[300]\tvalid_0's rmse: 0.830155\tvalid_0's l2: 0.689157\tvalid_1's rmse: 0.705725\tvalid_1's l2: 0.498047           \n",
      "[400]\tvalid_0's rmse: 0.832174\tvalid_0's l2: 0.692513\tvalid_1's rmse: 0.672395\tvalid_1's l2: 0.452116           \n",
      "[100]\tvalid_0's rmse: 0.870674\tvalid_0's l2: 0.758074\tvalid_1's rmse: 0.797631\tvalid_1's l2: 0.636215           \n",
      "[200]\tvalid_0's rmse: 0.867686\tvalid_0's l2: 0.752879\tvalid_1's rmse: 0.743088\tvalid_1's l2: 0.552179           \n",
      " 36%|██████████████▎                         | 79/220 [06:55<12:45,  5.43s/trial, best loss: 0.8610839679639536]"
     ]
    },
    {
     "name": "stderr",
     "output_type": "stream",
     "text": [
      "Score - 0.8641881871974367, Std - 0.026814732127840062, Eval Score - 0.8641881871974367\n",
      "Score across folds - [0.8955796384032981, 0.8300675495994857, 0.8669173735895265].\n"
     ]
    },
    {
     "name": "stdout",
     "output_type": "stream",
     "text": [
      "\r",
      " 36%|██████████████▌                         | 80/220 [06:55<12:46,  5.48s/trial, best loss: 0.8610839679639536]"
     ]
    },
    {
     "name": "stderr",
     "output_type": "stream",
     "text": [
      "\n",
      "Iteration: 81, Training with params: {'boosting_type': 'gbdt', 'colsample_bytree': 0.8, 'learning_rate': 0.1, 'min_child_samples': 120, 'n_estimators': 10000, 'n_jobs': -1, 'num_leaves': 16, 'objective': 'regression', 'subsample': 1.0, 'subsample_freq': 5}\n"
     ]
    },
    {
     "name": "stdout",
     "output_type": "stream",
     "text": [
      "[100]\tvalid_0's rmse: 0.897849\tvalid_0's l2: 0.806132\tvalid_1's rmse: 0.804184\tvalid_1's l2: 0.646713           \n",
      "[200]\tvalid_0's rmse: 0.89636\tvalid_0's l2: 0.803461\tvalid_1's rmse: 0.753\tvalid_1's l2: 0.56701                \n",
      "[100]\tvalid_0's rmse: 0.836639\tvalid_0's l2: 0.699964\tvalid_1's rmse: 0.805339\tvalid_1's l2: 0.648571           \n",
      "[200]\tvalid_0's rmse: 0.831914\tvalid_0's l2: 0.692081\tvalid_1's rmse: 0.755222\tvalid_1's l2: 0.57036            \n",
      "[300]\tvalid_0's rmse: 0.831841\tvalid_0's l2: 0.69196\tvalid_1's rmse: 0.718783\tvalid_1's l2: 0.516649            \n",
      "[400]\tvalid_0's rmse: 0.83167\tvalid_0's l2: 0.691675\tvalid_1's rmse: 0.687469\tvalid_1's l2: 0.472613            \n",
      "[500]\tvalid_0's rmse: 0.831737\tvalid_0's l2: 0.691786\tvalid_1's rmse: 0.659312\tvalid_1's l2: 0.434692           \n",
      "[100]\tvalid_0's rmse: 0.870603\tvalid_0's l2: 0.757949\tvalid_1's rmse: 0.800745\tvalid_1's l2: 0.641192           \n",
      "[200]\tvalid_0's rmse: 0.865175\tvalid_0's l2: 0.748527\tvalid_1's rmse: 0.749635\tvalid_1's l2: 0.561953           \n",
      " 36%|██████████████▌                         | 80/220 [07:00<12:46,  5.48s/trial, best loss: 0.8610839679639536]"
     ]
    },
    {
     "name": "stderr",
     "output_type": "stream",
     "text": [
      "Score - 0.8637304987887656, Std - 0.026304483144328508, Eval Score - 0.8637304987887656\n",
      "Score across folds - [0.8952034904591317, 0.8308191129474372, 0.8651688929597278].\n"
     ]
    },
    {
     "name": "stdout",
     "output_type": "stream",
     "text": [
      "\r",
      " 37%|██████████████▋                         | 81/220 [07:01<12:46,  5.52s/trial, best loss: 0.8610839679639536]"
     ]
    },
    {
     "name": "stderr",
     "output_type": "stream",
     "text": [
      "\n",
      "Iteration: 82, Training with params: {'boosting_type': 'gbdt', 'colsample_bytree': 0.8, 'learning_rate': 0.1, 'min_child_samples': 50, 'n_estimators': 10000, 'n_jobs': -1, 'num_leaves': 32, 'objective': 'regression', 'subsample': 0.6000000000000001, 'subsample_freq': 10}\n"
     ]
    },
    {
     "name": "stdout",
     "output_type": "stream",
     "text": [
      "[100]\tvalid_0's rmse: 0.899898\tvalid_0's l2: 0.809817\tvalid_1's rmse: 0.742773\tvalid_1's l2: 0.551711           \n",
      "[200]\tvalid_0's rmse: 0.904144\tvalid_0's l2: 0.817476\tvalid_1's rmse: 0.662173\tvalid_1's l2: 0.438473           \n",
      "[100]\tvalid_0's rmse: 0.841885\tvalid_0's l2: 0.708771\tvalid_1's rmse: 0.744826\tvalid_1's l2: 0.554766           \n",
      "[200]\tvalid_0's rmse: 0.840805\tvalid_0's l2: 0.706953\tvalid_1's rmse: 0.664992\tvalid_1's l2: 0.442214           \n",
      "[100]\tvalid_0's rmse: 0.878664\tvalid_0's l2: 0.772051\tvalid_1's rmse: 0.741621\tvalid_1's l2: 0.550002           \n",
      " 37%|██████████████▋                         | 81/220 [07:05<12:46,  5.52s/trial, best loss: 0.8610839679639536]"
     ]
    },
    {
     "name": "stderr",
     "output_type": "stream",
     "text": [
      "Score - 0.8698692309286896, Std - 0.02627720402685471, Eval Score - 0.8698692309286896\n",
      "Score across folds - [0.8991376928884101, 0.8354043411577624, 0.8750656587398964].\n"
     ]
    },
    {
     "name": "stdout",
     "output_type": "stream",
     "text": [
      "\r",
      " 37%|██████████████▉                         | 82/220 [07:06<12:06,  5.27s/trial, best loss: 0.8610839679639536]"
     ]
    },
    {
     "name": "stderr",
     "output_type": "stream",
     "text": [
      "\n",
      "Iteration: 83, Training with params: {'boosting_type': 'gbdt', 'colsample_bytree': 1.0, 'learning_rate': 0.1, 'min_child_samples': 110, 'n_estimators': 10000, 'n_jobs': -1, 'num_leaves': 16, 'objective': 'regression', 'subsample': 1.0, 'subsample_freq': 10}\n"
     ]
    },
    {
     "name": "stdout",
     "output_type": "stream",
     "text": [
      "[100]\tvalid_0's rmse: 0.897545\tvalid_0's l2: 0.805586\tvalid_1's rmse: 0.801663\tvalid_1's l2: 0.642663           \n",
      "[200]\tvalid_0's rmse: 0.897579\tvalid_0's l2: 0.805649\tvalid_1's rmse: 0.749744\tvalid_1's l2: 0.562116           \n",
      "[100]\tvalid_0's rmse: 0.831291\tvalid_0's l2: 0.691045\tvalid_1's rmse: 0.803831\tvalid_1's l2: 0.646144           \n",
      "[200]\tvalid_0's rmse: 0.828624\tvalid_0's l2: 0.686617\tvalid_1's rmse: 0.752003\tvalid_1's l2: 0.565508           \n",
      "[100]\tvalid_0's rmse: 0.871639\tvalid_0's l2: 0.759754\tvalid_1's rmse: 0.798604\tvalid_1's l2: 0.637769           \n",
      "[200]\tvalid_0's rmse: 0.86662\tvalid_0's l2: 0.75103\tvalid_1's rmse: 0.747241\tvalid_1's l2: 0.558369             \n",
      "[300]\tvalid_0's rmse: 0.867344\tvalid_0's l2: 0.752285\tvalid_1's rmse: 0.70775\tvalid_1's l2: 0.500911            \n",
      " 37%|██████████████▉                         | 82/220 [07:11<12:06,  5.27s/trial, best loss: 0.8610839679639536]"
     ]
    },
    {
     "name": "stderr",
     "output_type": "stream",
     "text": [
      "Score - 0.8626043271930582, Std - 0.02827454345049601, Eval Score - 0.8626043271930582\n",
      "Score across folds - [0.8956858830096746, 0.8266114874514879, 0.8655156111180126].\n"
     ]
    },
    {
     "name": "stdout",
     "output_type": "stream",
     "text": [
      "\r",
      " 38%|███████████████                         | 83/220 [07:11<12:03,  5.28s/trial, best loss: 0.8610839679639536]"
     ]
    },
    {
     "name": "stderr",
     "output_type": "stream",
     "text": [
      "\n",
      "Iteration: 84, Training with params: {'boosting_type': 'gbdt', 'colsample_bytree': 0.6000000000000001, 'learning_rate': 0.1, 'min_child_samples': 80, 'n_estimators': 10000, 'n_jobs': -1, 'num_leaves': 48, 'objective': 'regression', 'subsample': 1.0, 'subsample_freq': 10}\n"
     ]
    },
    {
     "name": "stdout",
     "output_type": "stream",
     "text": [
      "[100]\tvalid_0's rmse: 0.900713\tvalid_0's l2: 0.811284\tvalid_1's rmse: 0.694069\tvalid_1's l2: 0.481732           \n",
      "[200]\tvalid_0's rmse: 0.905355\tvalid_0's l2: 0.819667\tvalid_1's rmse: 0.599979\tvalid_1's l2: 0.359975           \n",
      "[100]\tvalid_0's rmse: 0.833564\tvalid_0's l2: 0.694829\tvalid_1's rmse: 0.695895\tvalid_1's l2: 0.48427            \n",
      "[200]\tvalid_0's rmse: 0.834377\tvalid_0's l2: 0.696185\tvalid_1's rmse: 0.601532\tvalid_1's l2: 0.361841           \n",
      "[100]\tvalid_0's rmse: 0.874472\tvalid_0's l2: 0.764702\tvalid_1's rmse: 0.692103\tvalid_1's l2: 0.479006           \n",
      " 38%|███████████████                         | 83/220 [07:16<12:03,  5.28s/trial, best loss: 0.8610839679639536]"
     ]
    },
    {
     "name": "stderr",
     "output_type": "stream",
     "text": [
      "Score - 0.8685575291868392, Std - 0.027658115039006007, Eval Score - 0.8685575291868392\n",
      "Score across folds - [0.8998650328493943, 0.8325976907783637, 0.8732098639327591].\n"
     ]
    },
    {
     "name": "stdout",
     "output_type": "stream",
     "text": [
      "\r",
      " 38%|███████████████▎                        | 84/220 [07:16<12:08,  5.36s/trial, best loss: 0.8610839679639536]"
     ]
    },
    {
     "name": "stderr",
     "output_type": "stream",
     "text": [
      "\n",
      "Iteration: 85, Training with params: {'boosting_type': 'gbdt', 'colsample_bytree': 0.8, 'learning_rate': 0.1, 'min_child_samples': 20, 'n_estimators': 10000, 'n_jobs': -1, 'num_leaves': 16, 'objective': 'regression', 'subsample': 0.8, 'subsample_freq': 10}\n"
     ]
    },
    {
     "name": "stdout",
     "output_type": "stream",
     "text": [
      "[100]\tvalid_0's rmse: 0.900019\tvalid_0's l2: 0.810033\tvalid_1's rmse: 0.80096\tvalid_1's l2: 0.641536            \n",
      "[200]\tvalid_0's rmse: 0.900468\tvalid_0's l2: 0.810842\tvalid_1's rmse: 0.743569\tvalid_1's l2: 0.552895           \n",
      "[100]\tvalid_0's rmse: 0.839448\tvalid_0's l2: 0.704673\tvalid_1's rmse: 0.802204\tvalid_1's l2: 0.643531           \n",
      "[200]\tvalid_0's rmse: 0.835673\tvalid_0's l2: 0.69835\tvalid_1's rmse: 0.745179\tvalid_1's l2: 0.555292            \n",
      "[100]\tvalid_0's rmse: 0.872539\tvalid_0's l2: 0.761325\tvalid_1's rmse: 0.797417\tvalid_1's l2: 0.635874           \n",
      "[200]\tvalid_0's rmse: 0.872633\tvalid_0's l2: 0.761489\tvalid_1's rmse: 0.739009\tvalid_1's l2: 0.546135           \n",
      " 38%|███████████████▎                        | 84/220 [07:20<12:08,  5.36s/trial, best loss: 0.8610839679639536]"
     ]
    },
    {
     "name": "stderr",
     "output_type": "stream",
     "text": [
      "Score - 0.8680126569537698, Std - 0.026243419132109237, Eval Score - 0.8680126569537698\n",
      "Score across folds - [0.8982113954100568, 0.8342289970419553, 0.8715975784092975].\n"
     ]
    },
    {
     "name": "stdout",
     "output_type": "stream",
     "text": [
      "\r",
      " 39%|███████████████▍                        | 85/220 [07:21<11:12,  4.98s/trial, best loss: 0.8610839679639536]"
     ]
    },
    {
     "name": "stderr",
     "output_type": "stream",
     "text": [
      "\n",
      "Iteration: 86, Training with params: {'boosting_type': 'gbdt', 'colsample_bytree': 0.8, 'learning_rate': 0.1, 'min_child_samples': 90, 'n_estimators': 10000, 'n_jobs': -1, 'num_leaves': 16, 'objective': 'regression', 'subsample': 1.0, 'subsample_freq': 5}\n"
     ]
    },
    {
     "name": "stdout",
     "output_type": "stream",
     "text": [
      "[100]\tvalid_0's rmse: 0.896201\tvalid_0's l2: 0.803176\tvalid_1's rmse: 0.802049\tvalid_1's l2: 0.643282           \n",
      "[200]\tvalid_0's rmse: 0.891947\tvalid_0's l2: 0.79557\tvalid_1's rmse: 0.751353\tvalid_1's l2: 0.564532            \n",
      "[100]\tvalid_0's rmse: 0.832942\tvalid_0's l2: 0.693792\tvalid_1's rmse: 0.803713\tvalid_1's l2: 0.645955           \n",
      "[200]\tvalid_0's rmse: 0.828739\tvalid_0's l2: 0.686809\tvalid_1's rmse: 0.75204\tvalid_1's l2: 0.565565            \n",
      "[300]\tvalid_0's rmse: 0.827675\tvalid_0's l2: 0.685047\tvalid_1's rmse: 0.714469\tvalid_1's l2: 0.510466           \n",
      "[100]\tvalid_0's rmse: 0.868688\tvalid_0's l2: 0.754618\tvalid_1's rmse: 0.798485\tvalid_1's l2: 0.637578           \n",
      "[200]\tvalid_0's rmse: 0.866917\tvalid_0's l2: 0.751545\tvalid_1's rmse: 0.746432\tvalid_1's l2: 0.557161           \n",
      "[300]\tvalid_0's rmse: 0.866916\tvalid_0's l2: 0.751543\tvalid_1's rmse: 0.707903\tvalid_1's l2: 0.501127           \n",
      " 39%|███████████████▍                        | 85/220 [07:26<11:12,  4.98s/trial, best loss: 0.8610839679639536]"
     ]
    },
    {
     "name": "stderr",
     "output_type": "stream",
     "text": [
      "Score - 0.8610839679639536, Std - 0.026740229842720033, Eval Score - 0.8610839679639536\n",
      "Score across folds - [0.8919421973540256, 0.8267237387416502, 0.864585967796185].\n"
     ]
    },
    {
     "name": "stdout",
     "output_type": "stream",
     "text": [
      "\r",
      " 39%|███████████████▋                        | 86/220 [07:26<11:22,  5.09s/trial, best loss: 0.8610839679639536]"
     ]
    },
    {
     "name": "stderr",
     "output_type": "stream",
     "text": [
      "\n",
      "Iteration: 87, Training with params: {'boosting_type': 'gbdt', 'colsample_bytree': 0.6000000000000001, 'learning_rate': 0.1, 'min_child_samples': 40, 'n_estimators': 10000, 'n_jobs': -1, 'num_leaves': 16, 'objective': 'regression', 'subsample': 1.0, 'subsample_freq': 5}\n"
     ]
    },
    {
     "name": "stdout",
     "output_type": "stream",
     "text": [
      "[100]\tvalid_0's rmse: 0.899799\tvalid_0's l2: 0.809638\tvalid_1's rmse: 0.802918\tvalid_1's l2: 0.644677           \n",
      "[200]\tvalid_0's rmse: 0.899044\tvalid_0's l2: 0.808281\tvalid_1's rmse: 0.749742\tvalid_1's l2: 0.562113           \n",
      "[100]\tvalid_0's rmse: 0.838168\tvalid_0's l2: 0.702526\tvalid_1's rmse: 0.80506\tvalid_1's l2: 0.648121            \n",
      "[200]\tvalid_0's rmse: 0.835896\tvalid_0's l2: 0.698721\tvalid_1's rmse: 0.750677\tvalid_1's l2: 0.563516           \n",
      "[100]\tvalid_0's rmse: 0.874043\tvalid_0's l2: 0.763952\tvalid_1's rmse: 0.80069\tvalid_1's l2: 0.641105            \n",
      "[200]\tvalid_0's rmse: 0.87016\tvalid_0's l2: 0.757179\tvalid_1's rmse: 0.746269\tvalid_1's l2: 0.556918            \n",
      "[300]\tvalid_0's rmse: 0.872448\tvalid_0's l2: 0.761165\tvalid_1's rmse: 0.705513\tvalid_1's l2: 0.497749           \n",
      " 39%|███████████████▋                        | 86/220 [07:30<11:22,  5.09s/trial, best loss: 0.8610839679639536]"
     ]
    },
    {
     "name": "stderr",
     "output_type": "stream",
     "text": [
      "Score - 0.8679719846699858, Std - 0.025582313229340056, Eval Score - 0.8679719846699858\n",
      "Score across folds - [0.8981756975261583, 0.8356224060003249, 0.8701178504834745].\n"
     ]
    },
    {
     "name": "stdout",
     "output_type": "stream",
     "text": [
      "\r",
      " 40%|███████████████▊                        | 87/220 [07:30<10:34,  4.77s/trial, best loss: 0.8610839679639536]"
     ]
    },
    {
     "name": "stderr",
     "output_type": "stream",
     "text": [
      "\n",
      "Iteration: 88, Training with params: {'boosting_type': 'gbdt', 'colsample_bytree': 1.0, 'learning_rate': 0.1, 'min_child_samples': 60, 'n_estimators': 10000, 'n_jobs': -1, 'num_leaves': 16, 'objective': 'regression', 'subsample': 1.0, 'subsample_freq': 10}\n"
     ]
    },
    {
     "name": "stdout",
     "output_type": "stream",
     "text": [
      "[100]\tvalid_0's rmse: 0.898615\tvalid_0's l2: 0.807509\tvalid_1's rmse: 0.799\tvalid_1's l2: 0.638401              \n",
      "[200]\tvalid_0's rmse: 0.898341\tvalid_0's l2: 0.807016\tvalid_1's rmse: 0.744956\tvalid_1's l2: 0.55496            \n",
      "[100]\tvalid_0's rmse: 0.835789\tvalid_0's l2: 0.698543\tvalid_1's rmse: 0.801045\tvalid_1's l2: 0.641674           \n",
      "[200]\tvalid_0's rmse: 0.832808\tvalid_0's l2: 0.693568\tvalid_1's rmse: 0.747528\tvalid_1's l2: 0.558798           \n",
      "[300]\tvalid_0's rmse: 0.830155\tvalid_0's l2: 0.689157\tvalid_1's rmse: 0.705725\tvalid_1's l2: 0.498047           \n",
      "[400]\tvalid_0's rmse: 0.832174\tvalid_0's l2: 0.692513\tvalid_1's rmse: 0.672395\tvalid_1's l2: 0.452116           \n",
      "[100]\tvalid_0's rmse: 0.870674\tvalid_0's l2: 0.758074\tvalid_1's rmse: 0.797631\tvalid_1's l2: 0.636215           \n",
      "[200]\tvalid_0's rmse: 0.867686\tvalid_0's l2: 0.752879\tvalid_1's rmse: 0.743088\tvalid_1's l2: 0.552179           \n",
      " 40%|███████████████▊                        | 87/220 [07:35<10:34,  4.77s/trial, best loss: 0.8610839679639536]"
     ]
    },
    {
     "name": "stderr",
     "output_type": "stream",
     "text": [
      "Score - 0.8641881871974367, Std - 0.026814732127840062, Eval Score - 0.8641881871974367\n",
      "Score across folds - [0.8955796384032981, 0.8300675495994857, 0.8669173735895265].\n"
     ]
    },
    {
     "name": "stdout",
     "output_type": "stream",
     "text": [
      "\r",
      " 40%|████████████████                        | 88/220 [07:35<11:02,  5.02s/trial, best loss: 0.8610839679639536]"
     ]
    },
    {
     "name": "stderr",
     "output_type": "stream",
     "text": [
      "\n",
      "Iteration: 89, Training with params: {'boosting_type': 'gbdt', 'colsample_bytree': 0.8, 'learning_rate': 0.1, 'min_child_samples': 100, 'n_estimators': 10000, 'n_jobs': -1, 'num_leaves': 32, 'objective': 'regression', 'subsample': 0.8, 'subsample_freq': 10}\n"
     ]
    },
    {
     "name": "stdout",
     "output_type": "stream",
     "text": [
      "[100]\tvalid_0's rmse: 0.899327\tvalid_0's l2: 0.80879\tvalid_1's rmse: 0.744056\tvalid_1's l2: 0.553619            \n",
      "[100]\tvalid_0's rmse: 0.838647\tvalid_0's l2: 0.703328\tvalid_1's rmse: 0.747276\tvalid_1's l2: 0.558421           \n",
      "[200]\tvalid_0's rmse: 0.83894\tvalid_0's l2: 0.703821\tvalid_1's rmse: 0.672014\tvalid_1's l2: 0.451603            \n",
      "[100]\tvalid_0's rmse: 0.874458\tvalid_0's l2: 0.764677\tvalid_1's rmse: 0.743195\tvalid_1's l2: 0.552339           \n",
      "[200]\tvalid_0's rmse: 0.875769\tvalid_0's l2: 0.766971\tvalid_1's rmse: 0.664045\tvalid_1's l2: 0.440955           \n",
      " 40%|████████████████                        | 88/220 [07:41<11:02,  5.02s/trial, best loss: 0.8610839679639536]"
     ]
    },
    {
     "name": "stderr",
     "output_type": "stream",
     "text": [
      "Score - 0.869230859398535, Std - 0.024849236397061797, Eval Score - 0.869230859398535\n",
      "Score across folds - [0.8976140473743024, 0.8370942715537345, 0.872984259267568].\n"
     ]
    },
    {
     "name": "stdout",
     "output_type": "stream",
     "text": [
      "\r",
      " 40%|████████████████▏                       | 89/220 [07:41<11:22,  5.21s/trial, best loss: 0.8610839679639536]"
     ]
    },
    {
     "name": "stderr",
     "output_type": "stream",
     "text": [
      "\n",
      "Iteration: 90, Training with params: {'boosting_type': 'gbdt', 'colsample_bytree': 1.0, 'learning_rate': 0.1, 'min_child_samples': 10, 'n_estimators': 10000, 'n_jobs': -1, 'num_leaves': 16, 'objective': 'regression', 'subsample': 1.0, 'subsample_freq': 5}\n"
     ]
    },
    {
     "name": "stdout",
     "output_type": "stream",
     "text": [
      "[100]\tvalid_0's rmse: 0.901442\tvalid_0's l2: 0.812598\tvalid_1's rmse: 0.797252\tvalid_1's l2: 0.635611           \n",
      "[200]\tvalid_0's rmse: 0.903459\tvalid_0's l2: 0.816237\tvalid_1's rmse: 0.737667\tvalid_1's l2: 0.544153           \n",
      "[100]\tvalid_0's rmse: 0.838\tvalid_0's l2: 0.702244\tvalid_1's rmse: 0.798862\tvalid_1's l2: 0.638181              \n",
      "[200]\tvalid_0's rmse: 0.834618\tvalid_0's l2: 0.696587\tvalid_1's rmse: 0.740419\tvalid_1's l2: 0.548221           \n",
      "[100]\tvalid_0's rmse: 0.870732\tvalid_0's l2: 0.758175\tvalid_1's rmse: 0.795365\tvalid_1's l2: 0.632606           \n",
      "[200]\tvalid_0's rmse: 0.870401\tvalid_0's l2: 0.757599\tvalid_1's rmse: 0.735611\tvalid_1's l2: 0.541123           \n",
      " 40%|████████████████▏                       | 89/220 [07:46<11:22,  5.21s/trial, best loss: 0.8610839679639536]"
     ]
    },
    {
     "name": "stderr",
     "output_type": "stream",
     "text": [
      "Score - 0.8677016181428857, Std - 0.02772552017652989, Eval Score - 0.8677016181428857\n",
      "Score across folds - [0.9007001909241605, 0.832861738812326, 0.869542924692171].\n"
     ]
    },
    {
     "name": "stdout",
     "output_type": "stream",
     "text": [
      "\r",
      " 41%|████████████████▎                       | 90/220 [07:46<11:03,  5.10s/trial, best loss: 0.8610839679639536]"
     ]
    },
    {
     "name": "stderr",
     "output_type": "stream",
     "text": [
      "\n",
      "Iteration: 91, Training with params: {'boosting_type': 'gbdt', 'colsample_bytree': 0.8, 'learning_rate': 0.1, 'min_child_samples': 120, 'n_estimators': 10000, 'n_jobs': -1, 'num_leaves': 48, 'objective': 'regression', 'subsample': 1.0, 'subsample_freq': 10}\n"
     ]
    },
    {
     "name": "stdout",
     "output_type": "stream",
     "text": [
      "[100]\tvalid_0's rmse: 0.896357\tvalid_0's l2: 0.803455\tvalid_1's rmse: 0.698013\tvalid_1's l2: 0.487223           \n",
      "[200]\tvalid_0's rmse: 0.899903\tvalid_0's l2: 0.809826\tvalid_1's rmse: 0.604591\tvalid_1's l2: 0.36553            \n",
      "[100]\tvalid_0's rmse: 0.829344\tvalid_0's l2: 0.687812\tvalid_1's rmse: 0.698375\tvalid_1's l2: 0.487727           \n",
      "[200]\tvalid_0's rmse: 0.827913\tvalid_0's l2: 0.68544\tvalid_1's rmse: 0.606409\tvalid_1's l2: 0.367732            \n",
      "[100]\tvalid_0's rmse: 0.870342\tvalid_0's l2: 0.757496\tvalid_1's rmse: 0.694782\tvalid_1's l2: 0.482722           \n",
      "[200]\tvalid_0's rmse: 0.875171\tvalid_0's l2: 0.765924\tvalid_1's rmse: 0.601104\tvalid_1's l2: 0.361327           \n",
      " 41%|████████████████▎                       | 90/220 [07:53<11:03,  5.10s/trial, best loss: 0.8610839679639536]"
     ]
    },
    {
     "name": "stderr",
     "output_type": "stream",
     "text": [
      "Score - 0.8636488022920296, Std - 0.02817843135697995, Eval Score - 0.8636488022920296\n",
      "Score across folds - [0.8948415685408592, 0.826574651804142, 0.8695301865310874].\n"
     ]
    },
    {
     "name": "stdout",
     "output_type": "stream",
     "text": [
      "\r",
      " 41%|████████████████▌                       | 91/220 [07:53<12:07,  5.64s/trial, best loss: 0.8610839679639536]"
     ]
    },
    {
     "name": "stderr",
     "output_type": "stream",
     "text": [
      "\n",
      "Iteration: 92, Training with params: {'boosting_type': 'gbdt', 'colsample_bytree': 0.6000000000000001, 'learning_rate': 0.1, 'min_child_samples': 110, 'n_estimators': 10000, 'n_jobs': -1, 'num_leaves': 16, 'objective': 'regression', 'subsample': 0.6000000000000001, 'subsample_freq': 10}\n"
     ]
    },
    {
     "name": "stdout",
     "output_type": "stream",
     "text": [
      "[100]\tvalid_0's rmse: 0.901048\tvalid_0's l2: 0.811888\tvalid_1's rmse: 0.809964\tvalid_1's l2: 0.656042           \n",
      "[200]\tvalid_0's rmse: 0.89781\tvalid_0's l2: 0.806062\tvalid_1's rmse: 0.761727\tvalid_1's l2: 0.580228            \n",
      "[100]\tvalid_0's rmse: 0.83976\tvalid_0's l2: 0.705198\tvalid_1's rmse: 0.81234\tvalid_1's l2: 0.659897             \n",
      "[200]\tvalid_0's rmse: 0.834717\tvalid_0's l2: 0.696752\tvalid_1's rmse: 0.763039\tvalid_1's l2: 0.582229           \n",
      "[100]\tvalid_0's rmse: 0.876105\tvalid_0's l2: 0.76756\tvalid_1's rmse: 0.808835\tvalid_1's l2: 0.654215            \n",
      "[200]\tvalid_0's rmse: 0.870528\tvalid_0's l2: 0.757819\tvalid_1's rmse: 0.7604\tvalid_1's l2: 0.578208             \n",
      " 41%|████████████████▌                       | 91/220 [07:56<12:07,  5.64s/trial, best loss: 0.8610839679639536]"
     ]
    },
    {
     "name": "stderr",
     "output_type": "stream",
     "text": [
      "Score - 0.8660579631343639, Std - 0.026316434929061713, Eval Score - 0.8660579631343639\n",
      "Score across folds - [0.8964555933640438, 0.8322629070451214, 0.8694553889939263].\n"
     ]
    },
    {
     "name": "stdout",
     "output_type": "stream",
     "text": [
      "\r",
      " 42%|████████████████▋                       | 92/220 [07:57<10:49,  5.07s/trial, best loss: 0.8610839679639536]"
     ]
    },
    {
     "name": "stderr",
     "output_type": "stream",
     "text": [
      "\n",
      "Iteration: 93, Training with params: {'boosting_type': 'gbdt', 'colsample_bytree': 0.8, 'learning_rate': 0.1, 'min_child_samples': 70, 'n_estimators': 10000, 'n_jobs': -1, 'num_leaves': 32, 'objective': 'regression', 'subsample': 0.8, 'subsample_freq': 10}\n"
     ]
    },
    {
     "name": "stdout",
     "output_type": "stream",
     "text": [
      "[100]\tvalid_0's rmse: 0.904565\tvalid_0's l2: 0.818237\tvalid_1's rmse: 0.74067\tvalid_1's l2: 0.548591            \n",
      "[200]\tvalid_0's rmse: 0.906655\tvalid_0's l2: 0.822024\tvalid_1's rmse: 0.662165\tvalid_1's l2: 0.438463           \n",
      "[100]\tvalid_0's rmse: 0.835085\tvalid_0's l2: 0.697367\tvalid_1's rmse: 0.741688\tvalid_1's l2: 0.550101           \n",
      "[200]\tvalid_0's rmse: 0.839205\tvalid_0's l2: 0.704265\tvalid_1's rmse: 0.664187\tvalid_1's l2: 0.441145           \n",
      "[100]\tvalid_0's rmse: 0.876473\tvalid_0's l2: 0.768205\tvalid_1's rmse: 0.735508\tvalid_1's l2: 0.540972           \n",
      "[200]\tvalid_0's rmse: 0.88384\tvalid_0's l2: 0.781174\tvalid_1's rmse: 0.655672\tvalid_1's l2: 0.429906            \n",
      " 42%|████████████████▋                       | 92/220 [08:02<10:49,  5.07s/trial, best loss: 0.8610839679639536]"
     ]
    },
    {
     "name": "stderr",
     "output_type": "stream",
     "text": [
      "Score - 0.8698649452811217, Std - 0.02876060131125602, Eval Score - 0.8698649452811217\n",
      "Score across folds - [0.9014164901501712, 0.8318600636885628, 0.8763182820046312].\n"
     ]
    },
    {
     "name": "stdout",
     "output_type": "stream",
     "text": [
      "\r",
      " 42%|████████████████▉                       | 93/220 [08:02<10:50,  5.12s/trial, best loss: 0.8610839679639536]"
     ]
    },
    {
     "name": "stderr",
     "output_type": "stream",
     "text": [
      "\n",
      "Iteration: 94, Training with params: {'boosting_type': 'gbdt', 'colsample_bytree': 0.4, 'learning_rate': 0.1, 'min_child_samples': 90, 'n_estimators': 10000, 'n_jobs': -1, 'num_leaves': 16, 'objective': 'regression', 'subsample': 1.0, 'subsample_freq': 5}\n"
     ]
    },
    {
     "name": "stdout",
     "output_type": "stream",
     "text": [
      "[100]\tvalid_0's rmse: 0.899152\tvalid_0's l2: 0.808474\tvalid_1's rmse: 0.810394\tvalid_1's l2: 0.656738           \n",
      "[200]\tvalid_0's rmse: 0.896186\tvalid_0's l2: 0.80315\tvalid_1's rmse: 0.758779\tvalid_1's l2: 0.575746            \n",
      "[300]\tvalid_0's rmse: 0.895524\tvalid_0's l2: 0.801963\tvalid_1's rmse: 0.723223\tvalid_1's l2: 0.523051           \n",
      "[100]\tvalid_0's rmse: 0.83891\tvalid_0's l2: 0.703769\tvalid_1's rmse: 0.811851\tvalid_1's l2: 0.659103            \n",
      "[200]\tvalid_0's rmse: 0.828637\tvalid_0's l2: 0.68664\tvalid_1's rmse: 0.759673\tvalid_1's l2: 0.577103            \n",
      "[300]\tvalid_0's rmse: 0.830191\tvalid_0's l2: 0.689218\tvalid_1's rmse: 0.723684\tvalid_1's l2: 0.523718           \n",
      "[100]\tvalid_0's rmse: 0.872877\tvalid_0's l2: 0.761915\tvalid_1's rmse: 0.808094\tvalid_1's l2: 0.653015           \n",
      "[200]\tvalid_0's rmse: 0.866153\tvalid_0's l2: 0.750222\tvalid_1's rmse: 0.756595\tvalid_1's l2: 0.572436           \n",
      "[300]\tvalid_0's rmse: 0.864078\tvalid_0's l2: 0.746631\tvalid_1's rmse: 0.720562\tvalid_1's l2: 0.519209           \n",
      "[400]\tvalid_0's rmse: 0.865335\tvalid_0's l2: 0.748804\tvalid_1's rmse: 0.689356\tvalid_1's l2: 0.475211           \n",
      " 42%|████████████████▉                       | 93/220 [08:06<10:50,  5.12s/trial, best loss: 0.8610839679639536]"
     ]
    },
    {
     "name": "stderr",
     "output_type": "stream",
     "text": [
      "Score - 0.8624523277908992, Std - 0.02726346601818808, Eval Score - 0.8624523277908992\n",
      "Score across folds - [0.8952431423731622, 0.8284922762317763, 0.8636215647677592].\n"
     ]
    },
    {
     "name": "stdout",
     "output_type": "stream",
     "text": [
      "\r",
      " 43%|█████████████████                       | 94/220 [08:06<10:18,  4.91s/trial, best loss: 0.8610839679639536]"
     ]
    },
    {
     "name": "stderr",
     "output_type": "stream",
     "text": [
      "\n",
      "Iteration: 95, Training with params: {'boosting_type': 'gbdt', 'colsample_bytree': 0.8, 'learning_rate': 0.1, 'min_child_samples': 100, 'n_estimators': 10000, 'n_jobs': -1, 'num_leaves': 32, 'objective': 'regression', 'subsample': 1.0, 'subsample_freq': 5}\n"
     ]
    },
    {
     "name": "stdout",
     "output_type": "stream",
     "text": [
      "[100]\tvalid_0's rmse: 0.899368\tvalid_0's l2: 0.808864\tvalid_1's rmse: 0.740472\tvalid_1's l2: 0.548299           \n",
      "[200]\tvalid_0's rmse: 0.899187\tvalid_0's l2: 0.808537\tvalid_1's rmse: 0.664133\tvalid_1's l2: 0.441072           \n",
      "[100]\tvalid_0's rmse: 0.825839\tvalid_0's l2: 0.682009\tvalid_1's rmse: 0.741482\tvalid_1's l2: 0.549795           \n",
      "[200]\tvalid_0's rmse: 0.823791\tvalid_0's l2: 0.678631\tvalid_1's rmse: 0.666388\tvalid_1's l2: 0.444073           \n",
      "[100]\tvalid_0's rmse: 0.869726\tvalid_0's l2: 0.756423\tvalid_1's rmse: 0.736672\tvalid_1's l2: 0.542686           \n",
      "[200]\tvalid_0's rmse: 0.870577\tvalid_0's l2: 0.757904\tvalid_1's rmse: 0.660194\tvalid_1's l2: 0.435856           \n",
      " 43%|█████████████████                       | 94/220 [08:12<10:18,  4.91s/trial, best loss: 0.8610839679639536]"
     ]
    },
    {
     "name": "stderr",
     "output_type": "stream",
     "text": [
      "Score - 0.863168005458182, Std - 0.030569484101271513, Eval Score - 0.863168005458182\n",
      "Score across folds - [0.8979298444660352, 0.8235283584766814, 0.8680458134318296].\n"
     ]
    },
    {
     "name": "stdout",
     "output_type": "stream",
     "text": [
      "\r",
      " 43%|█████████████████▎                      | 95/220 [08:12<10:45,  5.16s/trial, best loss: 0.8610839679639536]"
     ]
    },
    {
     "name": "stderr",
     "output_type": "stream",
     "text": [
      "\n",
      "Iteration: 96, Training with params: {'boosting_type': 'gbdt', 'colsample_bytree': 1.0, 'learning_rate': 0.1, 'min_child_samples': 50, 'n_estimators': 10000, 'n_jobs': -1, 'num_leaves': 16, 'objective': 'regression', 'subsample': 0.8, 'subsample_freq': 10}\n"
     ]
    },
    {
     "name": "stdout",
     "output_type": "stream",
     "text": [
      "[100]\tvalid_0's rmse: 0.898015\tvalid_0's l2: 0.80643\tvalid_1's rmse: 0.80018\tvalid_1's l2: 0.640288             \n",
      "[200]\tvalid_0's rmse: 0.900225\tvalid_0's l2: 0.810406\tvalid_1's rmse: 0.745153\tvalid_1's l2: 0.555254           \n",
      "[100]\tvalid_0's rmse: 0.834641\tvalid_0's l2: 0.696625\tvalid_1's rmse: 0.801139\tvalid_1's l2: 0.641823           \n",
      "[200]\tvalid_0's rmse: 0.832409\tvalid_0's l2: 0.692905\tvalid_1's rmse: 0.746451\tvalid_1's l2: 0.557189           \n",
      "[100]\tvalid_0's rmse: 0.872074\tvalid_0's l2: 0.760513\tvalid_1's rmse: 0.797654\tvalid_1's l2: 0.636251           \n",
      "[200]\tvalid_0's rmse: 0.86912\tvalid_0's l2: 0.755369\tvalid_1's rmse: 0.741634\tvalid_1's l2: 0.55002             \n",
      "[300]\tvalid_0's rmse: 0.87032\tvalid_0's l2: 0.757457\tvalid_1's rmse: 0.700117\tvalid_1's l2: 0.490163            \n",
      " 43%|█████████████████▎                      | 95/220 [08:17<10:45,  5.16s/trial, best loss: 0.8610839679639536]"
     ]
    },
    {
     "name": "stderr",
     "output_type": "stream",
     "text": [
      "Score - 0.8655939739999372, Std - 0.0272555184811241, Eval Score - 0.8655939739999372\n",
      "Score across folds - [0.8975999575100155, 0.8309897001337964, 0.8681922643559997].\n"
     ]
    },
    {
     "name": "stdout",
     "output_type": "stream",
     "text": [
      "\r",
      " 44%|█████████████████▍                      | 96/220 [08:17<10:38,  5.15s/trial, best loss: 0.8610839679639536]"
     ]
    },
    {
     "name": "stderr",
     "output_type": "stream",
     "text": [
      "\n",
      "Iteration: 97, Training with params: {'boosting_type': 'gbdt', 'colsample_bytree': 0.8, 'learning_rate': 0.1, 'min_child_samples': 80, 'n_estimators': 10000, 'n_jobs': -1, 'num_leaves': 16, 'objective': 'regression', 'subsample': 1.0, 'subsample_freq': 10}\n"
     ]
    },
    {
     "name": "stdout",
     "output_type": "stream",
     "text": [
      "[100]\tvalid_0's rmse: 0.894227\tvalid_0's l2: 0.799642\tvalid_1's rmse: 0.801588\tvalid_1's l2: 0.642544           \n",
      "[200]\tvalid_0's rmse: 0.89374\tvalid_0's l2: 0.798771\tvalid_1's rmse: 0.749187\tvalid_1's l2: 0.561281            \n",
      "[100]\tvalid_0's rmse: 0.837264\tvalid_0's l2: 0.701011\tvalid_1's rmse: 0.804374\tvalid_1's l2: 0.647018           \n",
      "[200]\tvalid_0's rmse: 0.832608\tvalid_0's l2: 0.693236\tvalid_1's rmse: 0.751794\tvalid_1's l2: 0.565194           \n",
      "[300]\tvalid_0's rmse: 0.83294\tvalid_0's l2: 0.693789\tvalid_1's rmse: 0.7139\tvalid_1's l2: 0.509654              \n",
      "[100]\tvalid_0's rmse: 0.873458\tvalid_0's l2: 0.76293\tvalid_1's rmse: 0.799375\tvalid_1's l2: 0.639001            \n",
      "[200]\tvalid_0's rmse: 0.871956\tvalid_0's l2: 0.760307\tvalid_1's rmse: 0.747234\tvalid_1's l2: 0.558358           \n",
      " 44%|█████████████████▍                      | 96/220 [08:22<10:38,  5.15s/trial, best loss: 0.8610839679639536]"
     ]
    },
    {
     "name": "stderr",
     "output_type": "stream",
     "text": [
      "Score - 0.8649729643292062, Std - 0.02561783502589253, Eval Score - 0.8649729643292062\n",
      "Score across folds - [0.893231600962765, 0.8312095608840044, 0.8704777311408491].\n"
     ]
    },
    {
     "name": "stdout",
     "output_type": "stream",
     "text": [
      "\r",
      " 44%|█████████████████▋                      | 97/220 [08:22<10:17,  5.02s/trial, best loss: 0.8610839679639536]"
     ]
    },
    {
     "name": "stderr",
     "output_type": "stream",
     "text": [
      "\n",
      "Iteration: 98, Training with params: {'boosting_type': 'gbdt', 'colsample_bytree': 0.6000000000000001, 'learning_rate': 0.1, 'min_child_samples': 110, 'n_estimators': 10000, 'n_jobs': -1, 'num_leaves': 32, 'objective': 'regression', 'subsample': 1.0, 'subsample_freq': 10}\n"
     ]
    },
    {
     "name": "stdout",
     "output_type": "stream",
     "text": [
      "[100]\tvalid_0's rmse: 0.901577\tvalid_0's l2: 0.812842\tvalid_1's rmse: 0.745531\tvalid_1's l2: 0.555816           \n",
      "[200]\tvalid_0's rmse: 0.901641\tvalid_0's l2: 0.812956\tvalid_1's rmse: 0.670588\tvalid_1's l2: 0.449689           \n",
      "[100]\tvalid_0's rmse: 0.832881\tvalid_0's l2: 0.693691\tvalid_1's rmse: 0.747822\tvalid_1's l2: 0.559238           \n",
      "[200]\tvalid_0's rmse: 0.833036\tvalid_0's l2: 0.693949\tvalid_1's rmse: 0.675258\tvalid_1's l2: 0.455973           \n",
      "[100]\tvalid_0's rmse: 0.873504\tvalid_0's l2: 0.763009\tvalid_1's rmse: 0.743242\tvalid_1's l2: 0.552408           \n",
      "[200]\tvalid_0's rmse: 0.871204\tvalid_0's l2: 0.758996\tvalid_1's rmse: 0.668609\tvalid_1's l2: 0.447038           \n",
      " 44%|█████████████████▋                      | 97/220 [08:27<10:17,  5.02s/trial, best loss: 0.8610839679639536]"
     ]
    },
    {
     "name": "stderr",
     "output_type": "stream",
     "text": [
      "Score - 0.8667994617623181, Std - 0.02853158155987216, Eval Score - 0.8667994617623181\n",
      "Score across folds - [0.9000533988160341, 0.8303808669181997, 0.8699641195527209].\n"
     ]
    },
    {
     "name": "stdout",
     "output_type": "stream",
     "text": [
      "\r",
      " 45%|█████████████████▊                      | 98/220 [08:27<10:16,  5.05s/trial, best loss: 0.8610839679639536]"
     ]
    },
    {
     "name": "stderr",
     "output_type": "stream",
     "text": [
      "\n",
      "Iteration: 99, Training with params: {'boosting_type': 'gbdt', 'colsample_bytree': 1.0, 'learning_rate': 0.1, 'min_child_samples': 30, 'n_estimators': 10000, 'n_jobs': -1, 'num_leaves': 16, 'objective': 'regression', 'subsample': 0.6000000000000001, 'subsample_freq': 10}\n"
     ]
    },
    {
     "name": "stdout",
     "output_type": "stream",
     "text": [
      "[100]\tvalid_0's rmse: 0.898722\tvalid_0's l2: 0.807701\tvalid_1's rmse: 0.800862\tvalid_1's l2: 0.64138            \n",
      "[200]\tvalid_0's rmse: 0.901527\tvalid_0's l2: 0.812751\tvalid_1's rmse: 0.744666\tvalid_1's l2: 0.554527           \n",
      "[100]\tvalid_0's rmse: 0.839299\tvalid_0's l2: 0.704424\tvalid_1's rmse: 0.803446\tvalid_1's l2: 0.645526           \n",
      "[200]\tvalid_0's rmse: 0.837271\tvalid_0's l2: 0.701022\tvalid_1's rmse: 0.747981\tvalid_1's l2: 0.559476           \n",
      "[100]\tvalid_0's rmse: 0.871158\tvalid_0's l2: 0.758916\tvalid_1's rmse: 0.798973\tvalid_1's l2: 0.638358           \n",
      "[200]\tvalid_0's rmse: 0.870295\tvalid_0's l2: 0.757413\tvalid_1's rmse: 0.743082\tvalid_1's l2: 0.552171           \n",
      "[300]\tvalid_0's rmse: 0.870287\tvalid_0's l2: 0.7574\tvalid_1's rmse: 0.701429\tvalid_1's l2: 0.492002             \n",
      " 45%|█████████████████▊                      | 98/220 [08:31<10:16,  5.05s/trial, best loss: 0.8610839679639536]"
     ]
    },
    {
     "name": "stderr",
     "output_type": "stream",
     "text": [
      "Score - 0.8670845316286736, Std - 0.025157088590845467, Eval Score - 0.8670845316286736\n",
      "Score across folds - [0.8971173901293157, 0.8355502569600851, 0.8685859477966199].\n"
     ]
    },
    {
     "name": "stdout",
     "output_type": "stream",
     "text": [
      "\r",
      " 45%|██████████████████                      | 99/220 [08:32<09:51,  4.89s/trial, best loss: 0.8610839679639536]"
     ]
    },
    {
     "name": "stderr",
     "output_type": "stream",
     "text": [
      "\n",
      "Iteration: 100, Training with params: {'boosting_type': 'gbdt', 'colsample_bytree': 0.8, 'learning_rate': 0.1, 'min_child_samples': 120, 'n_estimators': 10000, 'n_jobs': -1, 'num_leaves': 16, 'objective': 'regression', 'subsample': 1.0, 'subsample_freq': 5}\n"
     ]
    },
    {
     "name": "stdout",
     "output_type": "stream",
     "text": [
      "[100]\tvalid_0's rmse: 0.897849\tvalid_0's l2: 0.806132\tvalid_1's rmse: 0.804184\tvalid_1's l2: 0.646713           \n",
      "[200]\tvalid_0's rmse: 0.89636\tvalid_0's l2: 0.803461\tvalid_1's rmse: 0.753\tvalid_1's l2: 0.56701                \n",
      "[100]\tvalid_0's rmse: 0.836639\tvalid_0's l2: 0.699964\tvalid_1's rmse: 0.805339\tvalid_1's l2: 0.648571           \n",
      "[200]\tvalid_0's rmse: 0.831914\tvalid_0's l2: 0.692081\tvalid_1's rmse: 0.755222\tvalid_1's l2: 0.57036            \n",
      "[300]\tvalid_0's rmse: 0.831841\tvalid_0's l2: 0.69196\tvalid_1's rmse: 0.718783\tvalid_1's l2: 0.516649            \n",
      "[400]\tvalid_0's rmse: 0.83167\tvalid_0's l2: 0.691675\tvalid_1's rmse: 0.687469\tvalid_1's l2: 0.472613            \n",
      "[500]\tvalid_0's rmse: 0.831737\tvalid_0's l2: 0.691786\tvalid_1's rmse: 0.659312\tvalid_1's l2: 0.434692           \n",
      "[100]\tvalid_0's rmse: 0.870603\tvalid_0's l2: 0.757949\tvalid_1's rmse: 0.800745\tvalid_1's l2: 0.641192           \n",
      "[200]\tvalid_0's rmse: 0.865175\tvalid_0's l2: 0.748527\tvalid_1's rmse: 0.749635\tvalid_1's l2: 0.561953           \n",
      " 45%|██████████████████                      | 99/220 [08:37<09:51,  4.89s/trial, best loss: 0.8610839679639536]"
     ]
    },
    {
     "name": "stderr",
     "output_type": "stream",
     "text": [
      "Score - 0.8637304987887656, Std - 0.026304483144328508, Eval Score - 0.8637304987887656\n",
      "Score across folds - [0.8952034904591317, 0.8308191129474372, 0.8651688929597278].\n"
     ]
    },
    {
     "name": "stdout",
     "output_type": "stream",
     "text": [
      "\r",
      " 45%|█████████████████▋                     | 100/220 [08:37<10:11,  5.10s/trial, best loss: 0.8610839679639536]"
     ]
    },
    {
     "name": "stderr",
     "output_type": "stream",
     "text": [
      "\n",
      "Iteration: 101, Training with params: {'boosting_type': 'gbdt', 'colsample_bytree': 0.8, 'learning_rate': 0.1, 'min_child_samples': 80, 'n_estimators': 10000, 'n_jobs': -1, 'num_leaves': 16, 'objective': 'regression', 'subsample': 1.0, 'subsample_freq': 5}\n"
     ]
    },
    {
     "name": "stdout",
     "output_type": "stream",
     "text": [
      "[100]\tvalid_0's rmse: 0.894227\tvalid_0's l2: 0.799642\tvalid_1's rmse: 0.801588\tvalid_1's l2: 0.642544           \n",
      "[200]\tvalid_0's rmse: 0.89374\tvalid_0's l2: 0.798771\tvalid_1's rmse: 0.749187\tvalid_1's l2: 0.561281            \n",
      "[100]\tvalid_0's rmse: 0.837264\tvalid_0's l2: 0.701011\tvalid_1's rmse: 0.804374\tvalid_1's l2: 0.647018           \n",
      "[200]\tvalid_0's rmse: 0.832608\tvalid_0's l2: 0.693236\tvalid_1's rmse: 0.751794\tvalid_1's l2: 0.565194           \n",
      "[300]\tvalid_0's rmse: 0.83294\tvalid_0's l2: 0.693789\tvalid_1's rmse: 0.7139\tvalid_1's l2: 0.509654              \n",
      "[100]\tvalid_0's rmse: 0.873458\tvalid_0's l2: 0.76293\tvalid_1's rmse: 0.799375\tvalid_1's l2: 0.639001            \n",
      "[200]\tvalid_0's rmse: 0.871956\tvalid_0's l2: 0.760307\tvalid_1's rmse: 0.747234\tvalid_1's l2: 0.558358           \n",
      " 45%|█████████████████▋                     | 100/220 [08:42<10:11,  5.10s/trial, best loss: 0.8610839679639536]"
     ]
    },
    {
     "name": "stderr",
     "output_type": "stream",
     "text": [
      "Score - 0.8649729643292062, Std - 0.02561783502589253, Eval Score - 0.8649729643292062\n",
      "Score across folds - [0.893231600962765, 0.8312095608840044, 0.8704777311408491].\n"
     ]
    },
    {
     "name": "stdout",
     "output_type": "stream",
     "text": [
      "\r",
      " 46%|█████████████████▉                     | 101/220 [08:42<09:54,  4.99s/trial, best loss: 0.8610839679639536]"
     ]
    },
    {
     "name": "stderr",
     "output_type": "stream",
     "text": [
      "\n",
      "Iteration: 102, Training with params: {'boosting_type': 'gbdt', 'colsample_bytree': 0.6000000000000001, 'learning_rate': 0.1, 'min_child_samples': 130, 'n_estimators': 10000, 'n_jobs': -1, 'num_leaves': 48, 'objective': 'regression', 'subsample': 0.8, 'subsample_freq': 10}\n"
     ]
    },
    {
     "name": "stdout",
     "output_type": "stream",
     "text": [
      "[100]\tvalid_0's rmse: 0.89844\tvalid_0's l2: 0.807195\tvalid_1's rmse: 0.710415\tvalid_1's l2: 0.504689            \n",
      "[100]\tvalid_0's rmse: 0.840212\tvalid_0's l2: 0.705957\tvalid_1's rmse: 0.711414\tvalid_1's l2: 0.50611            \n",
      "[200]\tvalid_0's rmse: 0.838853\tvalid_0's l2: 0.703674\tvalid_1's rmse: 0.618944\tvalid_1's l2: 0.383091           \n",
      "[100]\tvalid_0's rmse: 0.874764\tvalid_0's l2: 0.765212\tvalid_1's rmse: 0.711356\tvalid_1's l2: 0.506027           \n",
      "[200]\tvalid_0's rmse: 0.878778\tvalid_0's l2: 0.77225\tvalid_1's rmse: 0.618977\tvalid_1's l2: 0.383133            \n",
      " 46%|█████████████████▉                     | 101/220 [08:47<09:54,  4.99s/trial, best loss: 0.8610839679639536]"
     ]
    },
    {
     "name": "stderr",
     "output_type": "stream",
     "text": [
      "Score - 0.8693097763913604, Std - 0.024908954418976996, Eval Score - 0.8693097763913604\n",
      "Score across folds - [0.8973643704034594, 0.8368328498095651, 0.8737321089610566].\n"
     ]
    },
    {
     "name": "stdout",
     "output_type": "stream",
     "text": [
      "\r",
      " 46%|██████████████████                     | 102/220 [08:48<10:16,  5.23s/trial, best loss: 0.8610839679639536]"
     ]
    },
    {
     "name": "stderr",
     "output_type": "stream",
     "text": [
      "\n",
      "Iteration: 103, Training with params: {'boosting_type': 'gbdt', 'colsample_bytree': 1.0, 'learning_rate': 0.1, 'min_child_samples': 70, 'n_estimators': 10000, 'n_jobs': -1, 'num_leaves': 32, 'objective': 'regression', 'subsample': 1.0, 'subsample_freq': 5}\n"
     ]
    },
    {
     "name": "stdout",
     "output_type": "stream",
     "text": [
      "[100]\tvalid_0's rmse: 0.897928\tvalid_0's l2: 0.806275\tvalid_1's rmse: 0.736101\tvalid_1's l2: 0.541845           \n",
      "[200]\tvalid_0's rmse: 0.899969\tvalid_0's l2: 0.809943\tvalid_1's rmse: 0.655819\tvalid_1's l2: 0.430098           \n",
      "[100]\tvalid_0's rmse: 0.832768\tvalid_0's l2: 0.693503\tvalid_1's rmse: 0.735191\tvalid_1's l2: 0.540505           \n",
      "[200]\tvalid_0's rmse: 0.829724\tvalid_0's l2: 0.688442\tvalid_1's rmse: 0.65438\tvalid_1's l2: 0.428213            \n",
      "[300]\tvalid_0's rmse: 0.828287\tvalid_0's l2: 0.686059\tvalid_1's rmse: 0.595645\tvalid_1's l2: 0.354792           \n",
      "[100]\tvalid_0's rmse: 0.873373\tvalid_0's l2: 0.762781\tvalid_1's rmse: 0.731586\tvalid_1's l2: 0.535217           \n",
      "[200]\tvalid_0's rmse: 0.874741\tvalid_0's l2: 0.765172\tvalid_1's rmse: 0.651926\tvalid_1's l2: 0.425008           \n",
      " 46%|██████████████████                     | 102/220 [08:54<10:16,  5.23s/trial, best loss: 0.8610839679639536]"
     ]
    },
    {
     "name": "stderr",
     "output_type": "stream",
     "text": [
      "Score - 0.8655638070387545, Std - 0.028517668961767554, Eval Score - 0.8655638070387545\n",
      "Score across folds - [0.8970465310938663, 0.827993227685062, 0.8716516623373354].\n"
     ]
    },
    {
     "name": "stdout",
     "output_type": "stream",
     "text": [
      "\r",
      " 47%|██████████████████▎                    | 103/220 [08:54<11:07,  5.71s/trial, best loss: 0.8610839679639536]"
     ]
    },
    {
     "name": "stderr",
     "output_type": "stream",
     "text": [
      "\n",
      "Iteration: 104, Training with params: {'boosting_type': 'gbdt', 'colsample_bytree': 0.8, 'learning_rate': 0.1, 'min_child_samples': 140, 'n_estimators': 10000, 'n_jobs': -1, 'num_leaves': 16, 'objective': 'regression', 'subsample': 1.0, 'subsample_freq': 10}\n"
     ]
    },
    {
     "name": "stdout",
     "output_type": "stream",
     "text": [
      "[100]\tvalid_0's rmse: 0.894651\tvalid_0's l2: 0.8004\tvalid_1's rmse: 0.805127\tvalid_1's l2: 0.64823              \n",
      "[200]\tvalid_0's rmse: 0.893143\tvalid_0's l2: 0.797705\tvalid_1's rmse: 0.756022\tvalid_1's l2: 0.571569           \n",
      "[300]\tvalid_0's rmse: 0.892379\tvalid_0's l2: 0.796341\tvalid_1's rmse: 0.719285\tvalid_1's l2: 0.517372           \n",
      "[100]\tvalid_0's rmse: 0.836728\tvalid_0's l2: 0.700114\tvalid_1's rmse: 0.807144\tvalid_1's l2: 0.651482           \n",
      "[200]\tvalid_0's rmse: 0.831867\tvalid_0's l2: 0.692002\tvalid_1's rmse: 0.757468\tvalid_1's l2: 0.573757           \n",
      "[300]\tvalid_0's rmse: 0.831356\tvalid_0's l2: 0.691154\tvalid_1's rmse: 0.720345\tvalid_1's l2: 0.518897           \n",
      "[400]\tvalid_0's rmse: 0.829999\tvalid_0's l2: 0.688898\tvalid_1's rmse: 0.689929\tvalid_1's l2: 0.476001           \n",
      "[100]\tvalid_0's rmse: 0.871346\tvalid_0's l2: 0.759245\tvalid_1's rmse: 0.801621\tvalid_1's l2: 0.642597           \n",
      "[200]\tvalid_0's rmse: 0.868209\tvalid_0's l2: 0.753786\tvalid_1's rmse: 0.751361\tvalid_1's l2: 0.564543           \n",
      "[300]\tvalid_0's rmse: 0.867013\tvalid_0's l2: 0.751712\tvalid_1's rmse: 0.715834\tvalid_1's l2: 0.512419           \n",
      "[400]\tvalid_0's rmse: 0.869134\tvalid_0's l2: 0.755394\tvalid_1's rmse: 0.685976\tvalid_1's l2: 0.470563           \n",
      " 47%|██████████████████▎                    | 103/220 [09:01<11:07,  5.71s/trial, best loss: 0.8610839679639536]"
     ]
    },
    {
     "name": "stderr",
     "output_type": "stream",
     "text": [
      "Score - 0.8622438099992724, Std - 0.02517402613507654, Eval Score - 0.8622438099992724\n",
      "Score across folds - [0.8907587050440379, 0.829526325688904, 0.8664463992648753].\n"
     ]
    },
    {
     "name": "stdout",
     "output_type": "stream",
     "text": [
      "\r",
      " 47%|██████████████████▍                    | 104/220 [09:01<11:20,  5.87s/trial, best loss: 0.8610839679639536]"
     ]
    },
    {
     "name": "stderr",
     "output_type": "stream",
     "text": [
      "\n",
      "Iteration: 105, Training with params: {'boosting_type': 'gbdt', 'colsample_bytree': 1.0, 'learning_rate': 0.1, 'min_child_samples': 90, 'n_estimators': 10000, 'n_jobs': -1, 'num_leaves': 16, 'objective': 'regression', 'subsample': 1.0, 'subsample_freq': 5}\n"
     ]
    },
    {
     "name": "stdout",
     "output_type": "stream",
     "text": [
      "[100]\tvalid_0's rmse: 0.896267\tvalid_0's l2: 0.803295\tvalid_1's rmse: 0.800182\tvalid_1's l2: 0.640292           \n",
      "[200]\tvalid_0's rmse: 0.894218\tvalid_0's l2: 0.799626\tvalid_1's rmse: 0.747652\tvalid_1's l2: 0.558984           \n",
      "[100]\tvalid_0's rmse: 0.833999\tvalid_0's l2: 0.695555\tvalid_1's rmse: 0.802555\tvalid_1's l2: 0.644095           \n",
      "[200]\tvalid_0's rmse: 0.83171\tvalid_0's l2: 0.691741\tvalid_1's rmse: 0.750875\tvalid_1's l2: 0.563814            \n",
      "[300]\tvalid_0's rmse: 0.83222\tvalid_0's l2: 0.692591\tvalid_1's rmse: 0.712241\tvalid_1's l2: 0.507287            \n",
      "[100]\tvalid_0's rmse: 0.86978\tvalid_0's l2: 0.756517\tvalid_1's rmse: 0.798631\tvalid_1's l2: 0.637811            \n",
      "[200]\tvalid_0's rmse: 0.867703\tvalid_0's l2: 0.752908\tvalid_1's rmse: 0.746597\tvalid_1's l2: 0.557407           \n",
      " 47%|██████████████████▍                    | 104/220 [09:06<11:20,  5.87s/trial, best loss: 0.8610839679639536]"
     ]
    },
    {
     "name": "stderr",
     "output_type": "stream",
     "text": [
      "Score - 0.8637368386419247, Std - 0.025823662875176644, Eval Score - 0.8637368386419247\n",
      "Score across folds - [0.8937961147002595, 0.8307455111439802, 0.8666688900815345].\n"
     ]
    },
    {
     "name": "stdout",
     "output_type": "stream",
     "text": [
      "\r",
      " 48%|██████████████████▌                    | 105/220 [09:06<10:55,  5.70s/trial, best loss: 0.8610839679639536]"
     ]
    },
    {
     "name": "stderr",
     "output_type": "stream",
     "text": [
      "\n",
      "Iteration: 106, Training with params: {'boosting_type': 'gbdt', 'colsample_bytree': 0.8, 'learning_rate': 0.1, 'min_child_samples': 60, 'n_estimators': 10000, 'n_jobs': -1, 'num_leaves': 16, 'objective': 'regression', 'subsample': 0.8, 'subsample_freq': 5}\n"
     ]
    },
    {
     "name": "stdout",
     "output_type": "stream",
     "text": [
      "[100]\tvalid_0's rmse: 0.897346\tvalid_0's l2: 0.80523\tvalid_1's rmse: 0.802144\tvalid_1's l2: 0.643434            \n",
      "[200]\tvalid_0's rmse: 0.893058\tvalid_0's l2: 0.797552\tvalid_1's rmse: 0.747612\tvalid_1's l2: 0.558924           \n",
      "[100]\tvalid_0's rmse: 0.835131\tvalid_0's l2: 0.697444\tvalid_1's rmse: 0.803851\tvalid_1's l2: 0.646177           \n",
      "[200]\tvalid_0's rmse: 0.838544\tvalid_0's l2: 0.703156\tvalid_1's rmse: 0.749851\tvalid_1's l2: 0.562276           \n",
      "[100]\tvalid_0's rmse: 0.874337\tvalid_0's l2: 0.764466\tvalid_1's rmse: 0.798542\tvalid_1's l2: 0.63767            \n",
      "[200]\tvalid_0's rmse: 0.870207\tvalid_0's l2: 0.75726\tvalid_1's rmse: 0.744787\tvalid_1's l2: 0.554707            \n",
      "[300]\tvalid_0's rmse: 0.874073\tvalid_0's l2: 0.764004\tvalid_1's rmse: 0.704642\tvalid_1's l2: 0.49652            \n",
      " 48%|██████████████████▌                    | 105/220 [09:11<10:55,  5.70s/trial, best loss: 0.8610839679639536]"
     ]
    },
    {
     "name": "stderr",
     "output_type": "stream",
     "text": [
      "Score - 0.8653671101635857, Std - 0.024589759119571238, Eval Score - 0.8653671101635857\n",
      "Score across folds - [0.8929940968488942, 0.8332630021413985, 0.8698442315004641].\n"
     ]
    },
    {
     "name": "stdout",
     "output_type": "stream",
     "text": [
      "\r",
      " 48%|██████████████████▊                    | 106/220 [09:11<10:13,  5.38s/trial, best loss: 0.8610839679639536]"
     ]
    },
    {
     "name": "stderr",
     "output_type": "stream",
     "text": [
      "\n",
      "Iteration: 107, Training with params: {'boosting_type': 'gbdt', 'colsample_bytree': 0.8, 'learning_rate': 0.1, 'min_child_samples': 100, 'n_estimators': 10000, 'n_jobs': -1, 'num_leaves': 16, 'objective': 'regression', 'subsample': 1.0, 'subsample_freq': 10}\n"
     ]
    },
    {
     "name": "stdout",
     "output_type": "stream",
     "text": [
      "[100]\tvalid_0's rmse: 0.896721\tvalid_0's l2: 0.804109\tvalid_1's rmse: 0.802478\tvalid_1's l2: 0.643971           \n",
      "[200]\tvalid_0's rmse: 0.8955\tvalid_0's l2: 0.80192\tvalid_1's rmse: 0.75104\tvalid_1's l2: 0.564062               \n",
      "[100]\tvalid_0's rmse: 0.833125\tvalid_0's l2: 0.694097\tvalid_1's rmse: 0.803464\tvalid_1's l2: 0.645554           \n",
      "[200]\tvalid_0's rmse: 0.829991\tvalid_0's l2: 0.688885\tvalid_1's rmse: 0.752159\tvalid_1's l2: 0.565743           \n",
      "[300]\tvalid_0's rmse: 0.828085\tvalid_0's l2: 0.685725\tvalid_1's rmse: 0.712953\tvalid_1's l2: 0.508302           \n",
      "[400]\tvalid_0's rmse: 0.827643\tvalid_0's l2: 0.684993\tvalid_1's rmse: 0.680845\tvalid_1's l2: 0.46355            \n",
      "[100]\tvalid_0's rmse: 0.871166\tvalid_0's l2: 0.75893\tvalid_1's rmse: 0.799971\tvalid_1's l2: 0.639953            \n",
      "[200]\tvalid_0's rmse: 0.868183\tvalid_0's l2: 0.753741\tvalid_1's rmse: 0.748\tvalid_1's l2: 0.559504              \n",
      "[300]\tvalid_0's rmse: 0.869814\tvalid_0's l2: 0.756576\tvalid_1's rmse: 0.70984\tvalid_1's l2: 0.503873            \n",
      " 48%|██████████████████▊                    | 106/220 [09:16<10:13,  5.38s/trial, best loss: 0.8610839679639536]"
     ]
    },
    {
     "name": "stderr",
     "output_type": "stream",
     "text": [
      "Score - 0.862737934190379, Std - 0.027649661554100913, Eval Score - 0.862737934190379\n",
      "Score across folds - [0.8940035919298196, 0.8267679555529404, 0.8674422550883774].\n"
     ]
    },
    {
     "name": "stdout",
     "output_type": "stream",
     "text": [
      "\r",
      " 49%|██████████████████▉                    | 107/220 [09:16<10:08,  5.38s/trial, best loss: 0.8610839679639536]"
     ]
    },
    {
     "name": "stderr",
     "output_type": "stream",
     "text": [
      "\n",
      "Iteration: 108, Training with params: {'boosting_type': 'gbdt', 'colsample_bytree': 0.6000000000000001, 'learning_rate': 0.1, 'min_child_samples': 110, 'n_estimators': 10000, 'n_jobs': -1, 'num_leaves': 48, 'objective': 'regression', 'subsample': 1.0, 'subsample_freq': 10}\n"
     ]
    },
    {
     "name": "stdout",
     "output_type": "stream",
     "text": [
      "[100]\tvalid_0's rmse: 0.902007\tvalid_0's l2: 0.813616\tvalid_1's rmse: 0.700816\tvalid_1's l2: 0.491143           \n",
      "[200]\tvalid_0's rmse: 0.903176\tvalid_0's l2: 0.815727\tvalid_1's rmse: 0.609748\tvalid_1's l2: 0.371792           \n",
      "[100]\tvalid_0's rmse: 0.829858\tvalid_0's l2: 0.688665\tvalid_1's rmse: 0.702268\tvalid_1's l2: 0.49318            \n",
      "[200]\tvalid_0's rmse: 0.827792\tvalid_0's l2: 0.68524\tvalid_1's rmse: 0.610719\tvalid_1's l2: 0.372977            \n",
      "[100]\tvalid_0's rmse: 0.873917\tvalid_0's l2: 0.763731\tvalid_1's rmse: 0.698039\tvalid_1's l2: 0.487258           \n",
      " 49%|██████████████████▉                    | 107/220 [09:21<10:08,  5.38s/trial, best loss: 0.8610839679639536]"
     ]
    },
    {
     "name": "stderr",
     "output_type": "stream",
     "text": [
      "Score - 0.8669967941785338, Std - 0.030331304102231053, Eval Score - 0.8669967941785338\n",
      "Score across folds - [0.9006882667618374, 0.8271587652828505, 0.8731433504909135].\n"
     ]
    },
    {
     "name": "stdout",
     "output_type": "stream",
     "text": [
      "\r",
      " 49%|███████████████████▏                   | 108/220 [09:22<10:21,  5.55s/trial, best loss: 0.8610839679639536]"
     ]
    },
    {
     "name": "stderr",
     "output_type": "stream",
     "text": [
      "\n",
      "Iteration: 109, Training with params: {'boosting_type': 'gbdt', 'colsample_bytree': 0.8, 'learning_rate': 0.1, 'min_child_samples': 90, 'n_estimators': 10000, 'n_jobs': -1, 'num_leaves': 32, 'objective': 'regression', 'subsample': 1.0, 'subsample_freq': 10}\n"
     ]
    },
    {
     "name": "stdout",
     "output_type": "stream",
     "text": [
      "[100]\tvalid_0's rmse: 0.896553\tvalid_0's l2: 0.803807\tvalid_1's rmse: 0.739161\tvalid_1's l2: 0.546359           \n",
      "[200]\tvalid_0's rmse: 0.897927\tvalid_0's l2: 0.806274\tvalid_1's rmse: 0.663674\tvalid_1's l2: 0.440463           \n",
      "[100]\tvalid_0's rmse: 0.83093\tvalid_0's l2: 0.690444\tvalid_1's rmse: 0.740726\tvalid_1's l2: 0.548675            \n",
      "[200]\tvalid_0's rmse: 0.827287\tvalid_0's l2: 0.684404\tvalid_1's rmse: 0.663837\tvalid_1's l2: 0.440679           \n",
      "[300]\tvalid_0's rmse: 0.827283\tvalid_0's l2: 0.684398\tvalid_1's rmse: 0.60652\tvalid_1's l2: 0.367867            \n",
      "[100]\tvalid_0's rmse: 0.870473\tvalid_0's l2: 0.757724\tvalid_1's rmse: 0.735844\tvalid_1's l2: 0.541467           \n",
      "[200]\tvalid_0's rmse: 0.871206\tvalid_0's l2: 0.759\tvalid_1's rmse: 0.657804\tvalid_1's l2: 0.432706              \n",
      " 49%|███████████████████▏                   | 108/220 [09:28<10:21,  5.55s/trial, best loss: 0.8610839679639536]"
     ]
    },
    {
     "name": "stderr",
     "output_type": "stream",
     "text": [
      "Score - 0.8626080164990949, Std - 0.028093045875903853, Eval Score - 0.8626080164990949\n",
      "Score across folds - [0.8947827415160573, 0.8263360276021814, 0.866705280379046].\n"
     ]
    },
    {
     "name": "stdout",
     "output_type": "stream",
     "text": [
      "\r",
      " 50%|███████████████████▎                   | 109/220 [09:28<10:40,  5.77s/trial, best loss: 0.8610839679639536]"
     ]
    },
    {
     "name": "stderr",
     "output_type": "stream",
     "text": [
      "\n",
      "Iteration: 110, Training with params: {'boosting_type': 'gbdt', 'colsample_bytree': 1.0, 'learning_rate': 0.1, 'min_child_samples': 70, 'n_estimators': 10000, 'n_jobs': -1, 'num_leaves': 16, 'objective': 'regression', 'subsample': 0.8, 'subsample_freq': 5}\n"
     ]
    },
    {
     "name": "stdout",
     "output_type": "stream",
     "text": [
      "[100]\tvalid_0's rmse: 0.898194\tvalid_0's l2: 0.806753\tvalid_1's rmse: 0.801057\tvalid_1's l2: 0.641692           \n",
      "[200]\tvalid_0's rmse: 0.893511\tvalid_0's l2: 0.798363\tvalid_1's rmse: 0.747315\tvalid_1's l2: 0.558479           \n",
      "[300]\tvalid_0's rmse: 0.897772\tvalid_0's l2: 0.805994\tvalid_1's rmse: 0.706842\tvalid_1's l2: 0.499625           \n",
      "[100]\tvalid_0's rmse: 0.83483\tvalid_0's l2: 0.696941\tvalid_1's rmse: 0.803061\tvalid_1's l2: 0.644906            \n",
      "[200]\tvalid_0's rmse: 0.834023\tvalid_0's l2: 0.695595\tvalid_1's rmse: 0.748306\tvalid_1's l2: 0.559962           \n",
      "[100]\tvalid_0's rmse: 0.871391\tvalid_0's l2: 0.759323\tvalid_1's rmse: 0.798146\tvalid_1's l2: 0.637038           \n",
      "[200]\tvalid_0's rmse: 0.867624\tvalid_0's l2: 0.752771\tvalid_1's rmse: 0.743313\tvalid_1's l2: 0.552514           \n",
      " 50%|███████████████████▎                   | 109/220 [09:33<10:40,  5.77s/trial, best loss: 0.8610839679639536]"
     ]
    },
    {
     "name": "stderr",
     "output_type": "stream",
     "text": [
      "Score - 0.8640544071533202, Std - 0.02498538541639634, Eval Score - 0.8640544071533202\n",
      "Score across folds - [0.8931355273797666, 0.8321322314250273, 0.8668954626551665].\n"
     ]
    },
    {
     "name": "stdout",
     "output_type": "stream",
     "text": [
      "\r",
      " 50%|███████████████████▌                   | 110/220 [09:33<10:14,  5.59s/trial, best loss: 0.8610839679639536]"
     ]
    },
    {
     "name": "stderr",
     "output_type": "stream",
     "text": [
      "\n",
      "Iteration: 111, Training with params: {'boosting_type': 'gbdt', 'colsample_bytree': 0.8, 'learning_rate': 0.1, 'min_child_samples': 120, 'n_estimators': 10000, 'n_jobs': -1, 'num_leaves': 16, 'objective': 'regression', 'subsample': 1.0, 'subsample_freq': 5}\n"
     ]
    },
    {
     "name": "stdout",
     "output_type": "stream",
     "text": [
      "[100]\tvalid_0's rmse: 0.897849\tvalid_0's l2: 0.806132\tvalid_1's rmse: 0.804184\tvalid_1's l2: 0.646713           \n",
      "[200]\tvalid_0's rmse: 0.89636\tvalid_0's l2: 0.803461\tvalid_1's rmse: 0.753\tvalid_1's l2: 0.56701                \n",
      "[100]\tvalid_0's rmse: 0.836639\tvalid_0's l2: 0.699964\tvalid_1's rmse: 0.805339\tvalid_1's l2: 0.648571           \n",
      "[200]\tvalid_0's rmse: 0.831914\tvalid_0's l2: 0.692081\tvalid_1's rmse: 0.755222\tvalid_1's l2: 0.57036            \n",
      "[300]\tvalid_0's rmse: 0.831841\tvalid_0's l2: 0.69196\tvalid_1's rmse: 0.718783\tvalid_1's l2: 0.516649            \n",
      "[400]\tvalid_0's rmse: 0.83167\tvalid_0's l2: 0.691675\tvalid_1's rmse: 0.687469\tvalid_1's l2: 0.472613            \n",
      "[500]\tvalid_0's rmse: 0.831737\tvalid_0's l2: 0.691786\tvalid_1's rmse: 0.659312\tvalid_1's l2: 0.434692           \n",
      "[100]\tvalid_0's rmse: 0.870603\tvalid_0's l2: 0.757949\tvalid_1's rmse: 0.800745\tvalid_1's l2: 0.641192           \n",
      "[200]\tvalid_0's rmse: 0.865175\tvalid_0's l2: 0.748527\tvalid_1's rmse: 0.749635\tvalid_1's l2: 0.561953           \n",
      " 50%|███████████████████▌                   | 110/220 [09:39<10:14,  5.59s/trial, best loss: 0.8610839679639536]"
     ]
    },
    {
     "name": "stderr",
     "output_type": "stream",
     "text": [
      "Score - 0.8637304987887656, Std - 0.026304483144328508, Eval Score - 0.8637304987887656\n",
      "Score across folds - [0.8952034904591317, 0.8308191129474372, 0.8651688929597278].\n"
     ]
    },
    {
     "name": "stdout",
     "output_type": "stream",
     "text": [
      "\r",
      " 50%|███████████████████▋                   | 111/220 [09:39<10:20,  5.69s/trial, best loss: 0.8610839679639536]"
     ]
    },
    {
     "name": "stderr",
     "output_type": "stream",
     "text": [
      "\n",
      "Iteration: 112, Training with params: {'boosting_type': 'gbdt', 'colsample_bytree': 0.8, 'learning_rate': 0.1, 'min_child_samples': 80, 'n_estimators': 10000, 'n_jobs': -1, 'num_leaves': 16, 'objective': 'regression', 'subsample': 1.0, 'subsample_freq': 10}\n"
     ]
    },
    {
     "name": "stdout",
     "output_type": "stream",
     "text": [
      "[100]\tvalid_0's rmse: 0.894227\tvalid_0's l2: 0.799642\tvalid_1's rmse: 0.801588\tvalid_1's l2: 0.642544           \n",
      "[200]\tvalid_0's rmse: 0.89374\tvalid_0's l2: 0.798771\tvalid_1's rmse: 0.749187\tvalid_1's l2: 0.561281            \n",
      "[100]\tvalid_0's rmse: 0.837264\tvalid_0's l2: 0.701011\tvalid_1's rmse: 0.804374\tvalid_1's l2: 0.647018           \n",
      "[200]\tvalid_0's rmse: 0.832608\tvalid_0's l2: 0.693236\tvalid_1's rmse: 0.751794\tvalid_1's l2: 0.565194           \n",
      "[300]\tvalid_0's rmse: 0.83294\tvalid_0's l2: 0.693789\tvalid_1's rmse: 0.7139\tvalid_1's l2: 0.509654              \n",
      "[100]\tvalid_0's rmse: 0.873458\tvalid_0's l2: 0.76293\tvalid_1's rmse: 0.799375\tvalid_1's l2: 0.639001            \n",
      "[200]\tvalid_0's rmse: 0.871956\tvalid_0's l2: 0.760307\tvalid_1's rmse: 0.747234\tvalid_1's l2: 0.558358           \n",
      " 50%|███████████████████▋                   | 111/220 [09:44<10:20,  5.69s/trial, best loss: 0.8610839679639536]"
     ]
    },
    {
     "name": "stderr",
     "output_type": "stream",
     "text": [
      "Score - 0.8649729643292062, Std - 0.02561783502589253, Eval Score - 0.8649729643292062\n",
      "Score across folds - [0.893231600962765, 0.8312095608840044, 0.8704777311408491].\n"
     ]
    },
    {
     "name": "stdout",
     "output_type": "stream",
     "text": [
      "\r",
      " 51%|███████████████████▊                   | 112/220 [09:44<09:44,  5.41s/trial, best loss: 0.8610839679639536]"
     ]
    },
    {
     "name": "stderr",
     "output_type": "stream",
     "text": [
      "\n",
      "Iteration: 113, Training with params: {'boosting_type': 'gbdt', 'colsample_bytree': 0.6000000000000001, 'learning_rate': 0.1, 'min_child_samples': 50, 'n_estimators': 10000, 'n_jobs': -1, 'num_leaves': 32, 'objective': 'regression', 'subsample': 0.6000000000000001, 'subsample_freq': 10}\n"
     ]
    },
    {
     "name": "stdout",
     "output_type": "stream",
     "text": [
      "[100]\tvalid_0's rmse: 0.903072\tvalid_0's l2: 0.815539\tvalid_1's rmse: 0.746541\tvalid_1's l2: 0.557323           \n",
      "[200]\tvalid_0's rmse: 0.906955\tvalid_0's l2: 0.822567\tvalid_1's rmse: 0.669617\tvalid_1's l2: 0.448386           \n",
      "[100]\tvalid_0's rmse: 0.83864\tvalid_0's l2: 0.703318\tvalid_1's rmse: 0.749492\tvalid_1's l2: 0.561739            \n",
      "[200]\tvalid_0's rmse: 0.838851\tvalid_0's l2: 0.703671\tvalid_1's rmse: 0.6718\tvalid_1's l2: 0.451315             \n",
      "[100]\tvalid_0's rmse: 0.880483\tvalid_0's l2: 0.77525\tvalid_1's rmse: 0.746933\tvalid_1's l2: 0.557909            \n",
      "[200]\tvalid_0's rmse: 0.885178\tvalid_0's l2: 0.783539\tvalid_1's rmse: 0.667734\tvalid_1's l2: 0.445869           \n",
      " 51%|███████████████████▊                   | 112/220 [09:49<09:44,  5.41s/trial, best loss: 0.8610839679639536]"
     ]
    },
    {
     "name": "stderr",
     "output_type": "stream",
     "text": [
      "Score - 0.8717487426654823, Std - 0.02770080202410739, Eval Score - 0.8717487426654823\n",
      "Score across folds - [0.9015862033133027, 0.8348460157591598, 0.8788140089239843].\n"
     ]
    },
    {
     "name": "stdout",
     "output_type": "stream",
     "text": [
      "\r",
      " 51%|████████████████████                   | 113/220 [09:49<09:09,  5.14s/trial, best loss: 0.8610839679639536]"
     ]
    },
    {
     "name": "stderr",
     "output_type": "stream",
     "text": [
      "\n",
      "Iteration: 114, Training with params: {'boosting_type': 'gbdt', 'colsample_bytree': 1.0, 'learning_rate': 0.1, 'min_child_samples': 100, 'n_estimators': 10000, 'n_jobs': -1, 'num_leaves': 16, 'objective': 'regression', 'subsample': 1.0, 'subsample_freq': 10}\n"
     ]
    },
    {
     "name": "stdout",
     "output_type": "stream",
     "text": [
      "[100]\tvalid_0's rmse: 0.897708\tvalid_0's l2: 0.805879\tvalid_1's rmse: 0.799702\tvalid_1's l2: 0.639524           \n",
      "[200]\tvalid_0's rmse: 0.894142\tvalid_0's l2: 0.799491\tvalid_1's rmse: 0.747931\tvalid_1's l2: 0.5594             \n",
      "[300]\tvalid_0's rmse: 0.89479\tvalid_0's l2: 0.800649\tvalid_1's rmse: 0.709573\tvalid_1's l2: 0.503494            \n",
      "[100]\tvalid_0's rmse: 0.831374\tvalid_0's l2: 0.691183\tvalid_1's rmse: 0.803656\tvalid_1's l2: 0.645863           \n",
      "[200]\tvalid_0's rmse: 0.828601\tvalid_0's l2: 0.68658\tvalid_1's rmse: 0.751098\tvalid_1's l2: 0.564148            \n",
      "[300]\tvalid_0's rmse: 0.829027\tvalid_0's l2: 0.687286\tvalid_1's rmse: 0.711115\tvalid_1's l2: 0.505685           \n",
      "[400]\tvalid_0's rmse: 0.829748\tvalid_0's l2: 0.688481\tvalid_1's rmse: 0.678124\tvalid_1's l2: 0.459852           \n",
      "[100]\tvalid_0's rmse: 0.871402\tvalid_0's l2: 0.759342\tvalid_1's rmse: 0.798392\tvalid_1's l2: 0.63743            \n",
      "[200]\tvalid_0's rmse: 0.867821\tvalid_0's l2: 0.753113\tvalid_1's rmse: 0.746596\tvalid_1's l2: 0.557405           \n",
      " 51%|████████████████████                   | 113/220 [09:54<09:09,  5.14s/trial, best loss: 0.8610839679639536]"
     ]
    },
    {
     "name": "stderr",
     "output_type": "stream",
     "text": [
      "Score - 0.8630296044922647, Std - 0.02700127318433096, Eval Score - 0.8630296044922647\n",
      "Score across folds - [0.8938697390339044, 0.8281090832151281, 0.8671099912277618].\n"
     ]
    },
    {
     "name": "stdout",
     "output_type": "stream",
     "text": [
      "\r",
      " 52%|████████████████████▏                  | 114/220 [09:55<09:37,  5.45s/trial, best loss: 0.8610839679639536]"
     ]
    },
    {
     "name": "stderr",
     "output_type": "stream",
     "text": [
      "\n",
      "Iteration: 115, Training with params: {'boosting_type': 'gbdt', 'colsample_bytree': 0.8, 'learning_rate': 0.1, 'min_child_samples': 90, 'n_estimators': 10000, 'n_jobs': -1, 'num_leaves': 16, 'objective': 'regression', 'subsample': 1.0, 'subsample_freq': 10}\n"
     ]
    },
    {
     "name": "stdout",
     "output_type": "stream",
     "text": [
      "[100]\tvalid_0's rmse: 0.896201\tvalid_0's l2: 0.803176\tvalid_1's rmse: 0.802049\tvalid_1's l2: 0.643282           \n",
      "[200]\tvalid_0's rmse: 0.891947\tvalid_0's l2: 0.79557\tvalid_1's rmse: 0.751353\tvalid_1's l2: 0.564532            \n",
      "[100]\tvalid_0's rmse: 0.832942\tvalid_0's l2: 0.693792\tvalid_1's rmse: 0.803713\tvalid_1's l2: 0.645955           \n",
      "[200]\tvalid_0's rmse: 0.828739\tvalid_0's l2: 0.686809\tvalid_1's rmse: 0.75204\tvalid_1's l2: 0.565565            \n",
      "[300]\tvalid_0's rmse: 0.827675\tvalid_0's l2: 0.685047\tvalid_1's rmse: 0.714469\tvalid_1's l2: 0.510466           \n",
      "[100]\tvalid_0's rmse: 0.868688\tvalid_0's l2: 0.754618\tvalid_1's rmse: 0.798485\tvalid_1's l2: 0.637578           \n",
      "[200]\tvalid_0's rmse: 0.866917\tvalid_0's l2: 0.751545\tvalid_1's rmse: 0.746432\tvalid_1's l2: 0.557161           \n",
      "[300]\tvalid_0's rmse: 0.866916\tvalid_0's l2: 0.751543\tvalid_1's rmse: 0.707903\tvalid_1's l2: 0.501127           \n",
      " 52%|████████████████████▏                  | 114/220 [10:00<09:37,  5.45s/trial, best loss: 0.8610839679639536]"
     ]
    },
    {
     "name": "stderr",
     "output_type": "stream",
     "text": [
      "Score - 0.8610839679639536, Std - 0.026740229842720033, Eval Score - 0.8610839679639536\n",
      "Score across folds - [0.8919421973540256, 0.8267237387416502, 0.864585967796185].\n"
     ]
    },
    {
     "name": "stdout",
     "output_type": "stream",
     "text": [
      "\r",
      " 52%|████████████████████▍                  | 115/220 [10:00<09:32,  5.45s/trial, best loss: 0.8610839679639536]"
     ]
    },
    {
     "name": "stderr",
     "output_type": "stream",
     "text": [
      "\n",
      "Iteration: 116, Training with params: {'boosting_type': 'gbdt', 'colsample_bytree': 0.8, 'learning_rate': 0.1, 'min_child_samples': 80, 'n_estimators': 10000, 'n_jobs': -1, 'num_leaves': 16, 'objective': 'regression', 'subsample': 0.8, 'subsample_freq': 10}\n"
     ]
    },
    {
     "name": "stdout",
     "output_type": "stream",
     "text": [
      "[100]\tvalid_0's rmse: 0.899613\tvalid_0's l2: 0.809304\tvalid_1's rmse: 0.803361\tvalid_1's l2: 0.645389           \n",
      "[200]\tvalid_0's rmse: 0.897328\tvalid_0's l2: 0.805197\tvalid_1's rmse: 0.750541\tvalid_1's l2: 0.563313           \n",
      "[100]\tvalid_0's rmse: 0.836247\tvalid_0's l2: 0.699308\tvalid_1's rmse: 0.804839\tvalid_1's l2: 0.647766           \n",
      "[200]\tvalid_0's rmse: 0.834819\tvalid_0's l2: 0.696923\tvalid_1's rmse: 0.75224\tvalid_1's l2: 0.565865            \n",
      "[100]\tvalid_0's rmse: 0.873473\tvalid_0's l2: 0.762955\tvalid_1's rmse: 0.800939\tvalid_1's l2: 0.641503           \n",
      "[200]\tvalid_0's rmse: 0.868947\tvalid_0's l2: 0.755069\tvalid_1's rmse: 0.747328\tvalid_1's l2: 0.5585             \n",
      "[300]\tvalid_0's rmse: 0.870041\tvalid_0's l2: 0.756972\tvalid_1's rmse: 0.708824\tvalid_1's l2: 0.502431           \n",
      " 52%|████████████████████▍                  | 115/220 [10:05<09:32,  5.45s/trial, best loss: 0.8610839679639536]"
     ]
    },
    {
     "name": "stderr",
     "output_type": "stream",
     "text": [
      "Score - 0.865349385081179, Std - 0.02591713166313548, Eval Score - 0.865349385081179\n",
      "Score across folds - [0.8962807588057661, 0.8328547769348201, 0.8669126195029504].\n"
     ]
    },
    {
     "name": "stdout",
     "output_type": "stream",
     "text": [
      "\r",
      " 53%|████████████████████▌                  | 116/220 [10:05<09:08,  5.27s/trial, best loss: 0.8610839679639536]"
     ]
    },
    {
     "name": "stderr",
     "output_type": "stream",
     "text": [
      "\n",
      "Iteration: 117, Training with params: {'boosting_type': 'gbdt', 'colsample_bytree': 1.0, 'learning_rate': 0.1, 'min_child_samples': 60, 'n_estimators': 10000, 'n_jobs': -1, 'num_leaves': 16, 'objective': 'regression', 'subsample': 1.0, 'subsample_freq': 5}\n"
     ]
    },
    {
     "name": "stdout",
     "output_type": "stream",
     "text": [
      "[100]\tvalid_0's rmse: 0.898615\tvalid_0's l2: 0.807509\tvalid_1's rmse: 0.799\tvalid_1's l2: 0.638401              \n",
      "[200]\tvalid_0's rmse: 0.898341\tvalid_0's l2: 0.807016\tvalid_1's rmse: 0.744956\tvalid_1's l2: 0.55496            \n",
      "[100]\tvalid_0's rmse: 0.835789\tvalid_0's l2: 0.698543\tvalid_1's rmse: 0.801045\tvalid_1's l2: 0.641674           \n",
      "[200]\tvalid_0's rmse: 0.832808\tvalid_0's l2: 0.693568\tvalid_1's rmse: 0.747528\tvalid_1's l2: 0.558798           \n",
      "[300]\tvalid_0's rmse: 0.830155\tvalid_0's l2: 0.689157\tvalid_1's rmse: 0.705725\tvalid_1's l2: 0.498047           \n",
      "[400]\tvalid_0's rmse: 0.832174\tvalid_0's l2: 0.692513\tvalid_1's rmse: 0.672395\tvalid_1's l2: 0.452116           \n",
      "[100]\tvalid_0's rmse: 0.870674\tvalid_0's l2: 0.758074\tvalid_1's rmse: 0.797631\tvalid_1's l2: 0.636215           \n",
      "[200]\tvalid_0's rmse: 0.867686\tvalid_0's l2: 0.752879\tvalid_1's rmse: 0.743088\tvalid_1's l2: 0.552179           \n",
      " 53%|████████████████████▌                  | 116/220 [10:10<09:08,  5.27s/trial, best loss: 0.8610839679639536]"
     ]
    },
    {
     "name": "stderr",
     "output_type": "stream",
     "text": [
      "Score - 0.8641881871974367, Std - 0.026814732127840062, Eval Score - 0.8641881871974367\n",
      "Score across folds - [0.8955796384032981, 0.8300675495994857, 0.8669173735895265].\n"
     ]
    },
    {
     "name": "stdout",
     "output_type": "stream",
     "text": [
      "\r",
      " 53%|████████████████████▋                  | 117/220 [10:11<09:13,  5.37s/trial, best loss: 0.8610839679639536]"
     ]
    },
    {
     "name": "stderr",
     "output_type": "stream",
     "text": [
      "\n",
      "Iteration: 118, Training with params: {'boosting_type': 'gbdt', 'colsample_bytree': 0.8, 'learning_rate': 0.1, 'min_child_samples': 100, 'n_estimators': 10000, 'n_jobs': -1, 'num_leaves': 16, 'objective': 'regression', 'subsample': 1.0, 'subsample_freq': 10}\n"
     ]
    },
    {
     "name": "stdout",
     "output_type": "stream",
     "text": [
      "[100]\tvalid_0's rmse: 0.896721\tvalid_0's l2: 0.804109\tvalid_1's rmse: 0.802478\tvalid_1's l2: 0.643971           \n",
      "[200]\tvalid_0's rmse: 0.8955\tvalid_0's l2: 0.80192\tvalid_1's rmse: 0.75104\tvalid_1's l2: 0.564062               \n",
      "[100]\tvalid_0's rmse: 0.833125\tvalid_0's l2: 0.694097\tvalid_1's rmse: 0.803464\tvalid_1's l2: 0.645554           \n",
      "[200]\tvalid_0's rmse: 0.829991\tvalid_0's l2: 0.688885\tvalid_1's rmse: 0.752159\tvalid_1's l2: 0.565743           \n",
      "[300]\tvalid_0's rmse: 0.828085\tvalid_0's l2: 0.685725\tvalid_1's rmse: 0.712953\tvalid_1's l2: 0.508302           \n",
      "[400]\tvalid_0's rmse: 0.827643\tvalid_0's l2: 0.684993\tvalid_1's rmse: 0.680845\tvalid_1's l2: 0.46355            \n",
      "[100]\tvalid_0's rmse: 0.871166\tvalid_0's l2: 0.75893\tvalid_1's rmse: 0.799971\tvalid_1's l2: 0.639953            \n",
      "[200]\tvalid_0's rmse: 0.868183\tvalid_0's l2: 0.753741\tvalid_1's rmse: 0.748\tvalid_1's l2: 0.559504              \n",
      "[300]\tvalid_0's rmse: 0.869814\tvalid_0's l2: 0.756576\tvalid_1's rmse: 0.70984\tvalid_1's l2: 0.503873            \n",
      " 53%|████████████████████▋                  | 117/220 [10:16<09:13,  5.37s/trial, best loss: 0.8610839679639536]"
     ]
    },
    {
     "name": "stderr",
     "output_type": "stream",
     "text": [
      "Score - 0.862737934190379, Std - 0.027649661554100913, Eval Score - 0.862737934190379\n",
      "Score across folds - [0.8940035919298196, 0.8267679555529404, 0.8674422550883774].\n"
     ]
    },
    {
     "name": "stdout",
     "output_type": "stream",
     "text": [
      "\r",
      " 54%|████████████████████▉                  | 118/220 [10:16<09:08,  5.37s/trial, best loss: 0.8610839679639536]"
     ]
    },
    {
     "name": "stderr",
     "output_type": "stream",
     "text": [
      "\n",
      "Iteration: 119, Training with params: {'boosting_type': 'gbdt', 'colsample_bytree': 0.6000000000000001, 'learning_rate': 0.1, 'min_child_samples': 40, 'n_estimators': 10000, 'n_jobs': -1, 'num_leaves': 32, 'objective': 'regression', 'subsample': 1.0, 'subsample_freq': 10}\n"
     ]
    },
    {
     "name": "stdout",
     "output_type": "stream",
     "text": [
      "[100]\tvalid_0's rmse: 0.898909\tvalid_0's l2: 0.808038\tvalid_1's rmse: 0.737179\tvalid_1's l2: 0.543433           \n",
      "[200]\tvalid_0's rmse: 0.900197\tvalid_0's l2: 0.810355\tvalid_1's rmse: 0.657087\tvalid_1's l2: 0.431763           \n",
      "[100]\tvalid_0's rmse: 0.835934\tvalid_0's l2: 0.698786\tvalid_1's rmse: 0.739702\tvalid_1's l2: 0.547159           \n",
      "[200]\tvalid_0's rmse: 0.837184\tvalid_0's l2: 0.700877\tvalid_1's rmse: 0.660391\tvalid_1's l2: 0.436116           \n",
      "[100]\tvalid_0's rmse: 0.877488\tvalid_0's l2: 0.769985\tvalid_1's rmse: 0.734322\tvalid_1's l2: 0.539229           \n",
      "[200]\tvalid_0's rmse: 0.879852\tvalid_0's l2: 0.774139\tvalid_1's rmse: 0.654118\tvalid_1's l2: 0.42787            \n",
      " 54%|████████████████████▉                  | 118/220 [10:20<09:08,  5.37s/trial, best loss: 0.8610839679639536]"
     ]
    },
    {
     "name": "stderr",
     "output_type": "stream",
     "text": [
      "Score - 0.869718577345902, Std - 0.025704742354715326, Eval Score - 0.869718577345902\n",
      "Score across folds - [0.8971223437563121, 0.8353315337793121, 0.8767018545020816].\n"
     ]
    },
    {
     "name": "stdout",
     "output_type": "stream",
     "text": [
      "\r",
      " 54%|█████████████████████                  | 119/220 [10:21<08:36,  5.12s/trial, best loss: 0.8610839679639536]"
     ]
    },
    {
     "name": "stderr",
     "output_type": "stream",
     "text": [
      "\n",
      "Iteration: 120, Training with params: {'boosting_type': 'gbdt', 'colsample_bytree': 1.0, 'learning_rate': 0.1, 'min_child_samples': 110, 'n_estimators': 10000, 'n_jobs': -1, 'num_leaves': 16, 'objective': 'regression', 'subsample': 1.0, 'subsample_freq': 10}\n"
     ]
    },
    {
     "name": "stdout",
     "output_type": "stream",
     "text": [
      "[100]\tvalid_0's rmse: 0.897545\tvalid_0's l2: 0.805586\tvalid_1's rmse: 0.801663\tvalid_1's l2: 0.642663           \n",
      "[200]\tvalid_0's rmse: 0.897579\tvalid_0's l2: 0.805649\tvalid_1's rmse: 0.749744\tvalid_1's l2: 0.562116           \n",
      "[100]\tvalid_0's rmse: 0.831291\tvalid_0's l2: 0.691045\tvalid_1's rmse: 0.803831\tvalid_1's l2: 0.646144           \n",
      "[200]\tvalid_0's rmse: 0.828624\tvalid_0's l2: 0.686617\tvalid_1's rmse: 0.752003\tvalid_1's l2: 0.565508           \n",
      "[100]\tvalid_0's rmse: 0.871639\tvalid_0's l2: 0.759754\tvalid_1's rmse: 0.798604\tvalid_1's l2: 0.637769           \n",
      "[200]\tvalid_0's rmse: 0.86662\tvalid_0's l2: 0.75103\tvalid_1's rmse: 0.747241\tvalid_1's l2: 0.558369             \n",
      "[300]\tvalid_0's rmse: 0.867344\tvalid_0's l2: 0.752285\tvalid_1's rmse: 0.70775\tvalid_1's l2: 0.500911            \n",
      " 54%|█████████████████████                  | 119/220 [10:26<08:36,  5.12s/trial, best loss: 0.8610839679639536]"
     ]
    },
    {
     "name": "stderr",
     "output_type": "stream",
     "text": [
      "Score - 0.8626043271930582, Std - 0.02827454345049601, Eval Score - 0.8626043271930582\n",
      "Score across folds - [0.8956858830096746, 0.8266114874514879, 0.8655156111180126].\n"
     ]
    },
    {
     "name": "stdout",
     "output_type": "stream",
     "text": [
      "\r",
      " 55%|█████████████████████▎                 | 120/220 [10:26<08:37,  5.18s/trial, best loss: 0.8610839679639536]"
     ]
    },
    {
     "name": "stderr",
     "output_type": "stream",
     "text": [
      "\n",
      "Iteration: 121, Training with params: {'boosting_type': 'gbdt', 'colsample_bytree': 0.8, 'learning_rate': 0.1, 'min_child_samples': 70, 'n_estimators': 10000, 'n_jobs': -1, 'num_leaves': 48, 'objective': 'regression', 'subsample': 0.8, 'subsample_freq': 10}\n"
     ]
    },
    {
     "name": "stdout",
     "output_type": "stream",
     "text": [
      "[100]\tvalid_0's rmse: 0.901057\tvalid_0's l2: 0.811903\tvalid_1's rmse: 0.691487\tvalid_1's l2: 0.478154           \n",
      "[100]\tvalid_0's rmse: 0.837169\tvalid_0's l2: 0.700852\tvalid_1's rmse: 0.694285\tvalid_1's l2: 0.482031           \n",
      "[200]\tvalid_0's rmse: 0.835939\tvalid_0's l2: 0.698794\tvalid_1's rmse: 0.597247\tvalid_1's l2: 0.356705           \n",
      "[100]\tvalid_0's rmse: 0.875044\tvalid_0's l2: 0.765701\tvalid_1's rmse: 0.690681\tvalid_1's l2: 0.47704            \n",
      "[200]\tvalid_0's rmse: 0.876332\tvalid_0's l2: 0.767957\tvalid_1's rmse: 0.590802\tvalid_1's l2: 0.349047           \n",
      " 55%|█████████████████████▎                 | 120/220 [10:32<08:37,  5.18s/trial, best loss: 0.8610839679639536]"
     ]
    },
    {
     "name": "stderr",
     "output_type": "stream",
     "text": [
      "Score - 0.8683599922182436, Std - 0.02692418406733331, Eval Score - 0.8683599922182436\n",
      "Score across folds - [0.8998837926549365, 0.8341033620462552, 0.8710928219535389].\n"
     ]
    },
    {
     "name": "stdout",
     "output_type": "stream",
     "text": [
      "\r",
      " 55%|█████████████████████▍                 | 121/220 [10:32<09:04,  5.50s/trial, best loss: 0.8610839679639536]"
     ]
    },
    {
     "name": "stderr",
     "output_type": "stream",
     "text": [
      "\n",
      "Iteration: 122, Training with params: {'boosting_type': 'gbdt', 'colsample_bytree': 1.0, 'learning_rate': 0.1, 'min_child_samples': 130, 'n_estimators': 10000, 'n_jobs': -1, 'num_leaves': 16, 'objective': 'regression', 'subsample': 1.0, 'subsample_freq': 10}\n"
     ]
    },
    {
     "name": "stdout",
     "output_type": "stream",
     "text": [
      "[100]\tvalid_0's rmse: 0.899494\tvalid_0's l2: 0.809089\tvalid_1's rmse: 0.802498\tvalid_1's l2: 0.644003           \n",
      "[200]\tvalid_0's rmse: 0.89385\tvalid_0's l2: 0.798968\tvalid_1's rmse: 0.7525\tvalid_1's l2: 0.566256              \n",
      "[100]\tvalid_0's rmse: 0.832629\tvalid_0's l2: 0.693272\tvalid_1's rmse: 0.803613\tvalid_1's l2: 0.645794           \n",
      "[200]\tvalid_0's rmse: 0.829452\tvalid_0's l2: 0.687991\tvalid_1's rmse: 0.753217\tvalid_1's l2: 0.567336           \n",
      "[300]\tvalid_0's rmse: 0.828972\tvalid_0's l2: 0.687194\tvalid_1's rmse: 0.715168\tvalid_1's l2: 0.511466           \n",
      "[100]\tvalid_0's rmse: 0.873395\tvalid_0's l2: 0.762819\tvalid_1's rmse: 0.80086\tvalid_1's l2: 0.641376            \n",
      "[200]\tvalid_0's rmse: 0.870087\tvalid_0's l2: 0.757052\tvalid_1's rmse: 0.75018\tvalid_1's l2: 0.56277             \n",
      "[300]\tvalid_0's rmse: 0.868953\tvalid_0's l2: 0.75508\tvalid_1's rmse: 0.713583\tvalid_1's l2: 0.5092              \n",
      " 55%|█████████████████████▍                 | 121/220 [10:38<09:04,  5.50s/trial, best loss: 0.8610839679639536]"
     ]
    },
    {
     "name": "stderr",
     "output_type": "stream",
     "text": [
      "Score - 0.8631430144122394, Std - 0.027559207566939935, Eval Score - 0.8631430144122394\n",
      "Score across folds - [0.8936294222347689, 0.8268712802115006, 0.8689283407904485].\n"
     ]
    },
    {
     "name": "stdout",
     "output_type": "stream",
     "text": [
      "\r",
      " 55%|█████████████████████▋                 | 122/220 [10:38<09:22,  5.74s/trial, best loss: 0.8610839679639536]"
     ]
    },
    {
     "name": "stderr",
     "output_type": "stream",
     "text": [
      "\n",
      "Iteration: 123, Training with params: {'boosting_type': 'gbdt', 'colsample_bytree': 0.8, 'learning_rate': 0.1, 'min_child_samples': 90, 'n_estimators': 10000, 'n_jobs': -1, 'num_leaves': 32, 'objective': 'regression', 'subsample': 0.8, 'subsample_freq': 5}\n"
     ]
    },
    {
     "name": "stdout",
     "output_type": "stream",
     "text": [
      "[100]\tvalid_0's rmse: 0.898527\tvalid_0's l2: 0.807351\tvalid_1's rmse: 0.742491\tvalid_1's l2: 0.551292           \n",
      "[200]\tvalid_0's rmse: 0.900346\tvalid_0's l2: 0.810623\tvalid_1's rmse: 0.665587\tvalid_1's l2: 0.443006           \n",
      "[100]\tvalid_0's rmse: 0.835875\tvalid_0's l2: 0.698688\tvalid_1's rmse: 0.743664\tvalid_1's l2: 0.553037           \n",
      "[200]\tvalid_0's rmse: 0.834471\tvalid_0's l2: 0.696342\tvalid_1's rmse: 0.666368\tvalid_1's l2: 0.444047           \n",
      "[300]\tvalid_0's rmse: 0.833018\tvalid_0's l2: 0.693918\tvalid_1's rmse: 0.608755\tvalid_1's l2: 0.370582           \n",
      "[100]\tvalid_0's rmse: 0.876345\tvalid_0's l2: 0.767981\tvalid_1's rmse: 0.739594\tvalid_1's l2: 0.546999           \n",
      "[200]\tvalid_0's rmse: 0.876971\tvalid_0's l2: 0.769079\tvalid_1's rmse: 0.661959\tvalid_1's l2: 0.43819            \n",
      " 55%|█████████████████████▋                 | 122/220 [10:44<09:22,  5.74s/trial, best loss: 0.8610839679639536]"
     ]
    },
    {
     "name": "stderr",
     "output_type": "stream",
     "text": [
      "Score - 0.8672427827176511, Std - 0.02684446619231266, Eval Score - 0.8672427827176511\n",
      "Score across folds - [0.897346865635602, 0.8321596106995389, 0.8722218718178121].\n"
     ]
    },
    {
     "name": "stdout",
     "output_type": "stream",
     "text": [
      "\r",
      " 56%|█████████████████████▊                 | 123/220 [10:45<09:29,  5.87s/trial, best loss: 0.8610839679639536]"
     ]
    },
    {
     "name": "stderr",
     "output_type": "stream",
     "text": [
      "\n",
      "Iteration: 124, Training with params: {'boosting_type': 'gbdt', 'colsample_bytree': 0.8, 'learning_rate': 0.1, 'min_child_samples': 80, 'n_estimators': 10000, 'n_jobs': -1, 'num_leaves': 16, 'objective': 'regression', 'subsample': 1.0, 'subsample_freq': 5}\n"
     ]
    },
    {
     "name": "stdout",
     "output_type": "stream",
     "text": [
      "[100]\tvalid_0's rmse: 0.894227\tvalid_0's l2: 0.799642\tvalid_1's rmse: 0.801588\tvalid_1's l2: 0.642544           \n",
      "[200]\tvalid_0's rmse: 0.89374\tvalid_0's l2: 0.798771\tvalid_1's rmse: 0.749187\tvalid_1's l2: 0.561281            \n",
      "[100]\tvalid_0's rmse: 0.837264\tvalid_0's l2: 0.701011\tvalid_1's rmse: 0.804374\tvalid_1's l2: 0.647018           \n",
      "[200]\tvalid_0's rmse: 0.832608\tvalid_0's l2: 0.693236\tvalid_1's rmse: 0.751794\tvalid_1's l2: 0.565194           \n",
      "[300]\tvalid_0's rmse: 0.83294\tvalid_0's l2: 0.693789\tvalid_1's rmse: 0.7139\tvalid_1's l2: 0.509654              \n",
      "[100]\tvalid_0's rmse: 0.873458\tvalid_0's l2: 0.76293\tvalid_1's rmse: 0.799375\tvalid_1's l2: 0.639001            \n",
      "[200]\tvalid_0's rmse: 0.871956\tvalid_0's l2: 0.760307\tvalid_1's rmse: 0.747234\tvalid_1's l2: 0.558358           \n",
      " 56%|█████████████████████▊                 | 123/220 [10:49<09:29,  5.87s/trial, best loss: 0.8610839679639536]"
     ]
    },
    {
     "name": "stderr",
     "output_type": "stream",
     "text": [
      "Score - 0.8649729643292062, Std - 0.02561783502589253, Eval Score - 0.8649729643292062\n",
      "Score across folds - [0.893231600962765, 0.8312095608840044, 0.8704777311408491].\n"
     ]
    },
    {
     "name": "stdout",
     "output_type": "stream",
     "text": [
      "\r",
      " 56%|█████████████████████▉                 | 124/220 [10:49<08:50,  5.53s/trial, best loss: 0.8610839679639536]"
     ]
    },
    {
     "name": "stderr",
     "output_type": "stream",
     "text": [
      "\n",
      "Iteration: 125, Training with params: {'boosting_type': 'gbdt', 'colsample_bytree': 0.6000000000000001, 'learning_rate': 0.1, 'min_child_samples': 120, 'n_estimators': 10000, 'n_jobs': -1, 'num_leaves': 16, 'objective': 'regression', 'subsample': 1.0, 'subsample_freq': 5}\n"
     ]
    },
    {
     "name": "stdout",
     "output_type": "stream",
     "text": [
      "[100]\tvalid_0's rmse: 0.89915\tvalid_0's l2: 0.808472\tvalid_1's rmse: 0.806196\tvalid_1's l2: 0.649952            \n",
      "[200]\tvalid_0's rmse: 0.894719\tvalid_0's l2: 0.800522\tvalid_1's rmse: 0.755161\tvalid_1's l2: 0.570268           \n",
      "[100]\tvalid_0's rmse: 0.839427\tvalid_0's l2: 0.704638\tvalid_1's rmse: 0.809178\tvalid_1's l2: 0.654768           \n",
      "[200]\tvalid_0's rmse: 0.834839\tvalid_0's l2: 0.696956\tvalid_1's rmse: 0.758748\tvalid_1's l2: 0.575699           \n",
      "[300]\tvalid_0's rmse: 0.834553\tvalid_0's l2: 0.696478\tvalid_1's rmse: 0.721602\tvalid_1's l2: 0.52071            \n",
      "[100]\tvalid_0's rmse: 0.870706\tvalid_0's l2: 0.758128\tvalid_1's rmse: 0.80366\tvalid_1's l2: 0.645869            \n",
      "[200]\tvalid_0's rmse: 0.866572\tvalid_0's l2: 0.750948\tvalid_1's rmse: 0.753916\tvalid_1's l2: 0.56839            \n",
      "[300]\tvalid_0's rmse: 0.867772\tvalid_0's l2: 0.753028\tvalid_1's rmse: 0.717163\tvalid_1's l2: 0.514322           \n",
      " 56%|█████████████████████▉                 | 124/220 [10:54<08:50,  5.53s/trial, best loss: 0.8610839679639536]"
     ]
    },
    {
     "name": "stderr",
     "output_type": "stream",
     "text": [
      "Score - 0.8643573456422873, Std - 0.02495848086574553, Eval Score - 0.8643573456422873\n",
      "Score across folds - [0.8943894909599995, 0.8332807208011263, 0.8654018251657362].\n"
     ]
    },
    {
     "name": "stdout",
     "output_type": "stream",
     "text": [
      "\r",
      " 57%|██████████████████████▏                | 125/220 [10:55<08:35,  5.43s/trial, best loss: 0.8610839679639536]"
     ]
    },
    {
     "name": "stderr",
     "output_type": "stream",
     "text": [
      "\n",
      "Iteration: 126, Training with params: {'boosting_type': 'gbdt', 'colsample_bytree': 0.8, 'learning_rate': 0.1, 'min_child_samples': 70, 'n_estimators': 10000, 'n_jobs': -1, 'num_leaves': 16, 'objective': 'regression', 'subsample': 0.6000000000000001, 'subsample_freq': 5}\n"
     ]
    },
    {
     "name": "stdout",
     "output_type": "stream",
     "text": [
      "[100]\tvalid_0's rmse: 0.900513\tvalid_0's l2: 0.810923\tvalid_1's rmse: 0.804211\tvalid_1's l2: 0.646755           \n",
      "[200]\tvalid_0's rmse: 0.901451\tvalid_0's l2: 0.812613\tvalid_1's rmse: 0.751299\tvalid_1's l2: 0.56445            \n",
      "[100]\tvalid_0's rmse: 0.840178\tvalid_0's l2: 0.705898\tvalid_1's rmse: 0.806302\tvalid_1's l2: 0.650123           \n",
      "[200]\tvalid_0's rmse: 0.840838\tvalid_0's l2: 0.707009\tvalid_1's rmse: 0.754951\tvalid_1's l2: 0.56995            \n",
      "[100]\tvalid_0's rmse: 0.875079\tvalid_0's l2: 0.765763\tvalid_1's rmse: 0.801454\tvalid_1's l2: 0.642329           \n",
      "[200]\tvalid_0's rmse: 0.875422\tvalid_0's l2: 0.766364\tvalid_1's rmse: 0.749812\tvalid_1's l2: 0.562217           \n",
      " 57%|██████████████████████▏                | 125/220 [10:58<08:35,  5.43s/trial, best loss: 0.8610839679639536]"
     ]
    },
    {
     "name": "stderr",
     "output_type": "stream",
     "text": [
      "Score - 0.8699650053958868, Std - 0.025142875663636405, Eval Score - 0.8699650053958868\n",
      "Score across folds - [0.8989127219903238, 0.8376090730318343, 0.8733732211655023].\n"
     ]
    },
    {
     "name": "stdout",
     "output_type": "stream",
     "text": [
      "\r",
      " 57%|██████████████████████▎                | 126/220 [10:58<07:44,  4.94s/trial, best loss: 0.8610839679639536]"
     ]
    },
    {
     "name": "stderr",
     "output_type": "stream",
     "text": [
      "\n",
      "Iteration: 127, Training with params: {'boosting_type': 'gbdt', 'colsample_bytree': 0.8, 'learning_rate': 0.1, 'min_child_samples': 110, 'n_estimators': 10000, 'n_jobs': -1, 'num_leaves': 16, 'objective': 'regression', 'subsample': 1.0, 'subsample_freq': 10}\n"
     ]
    },
    {
     "name": "stdout",
     "output_type": "stream",
     "text": [
      "[100]\tvalid_0's rmse: 0.895397\tvalid_0's l2: 0.801736\tvalid_1's rmse: 0.803209\tvalid_1's l2: 0.645145           \n",
      "[200]\tvalid_0's rmse: 0.894279\tvalid_0's l2: 0.799735\tvalid_1's rmse: 0.751945\tvalid_1's l2: 0.565422           \n",
      "[100]\tvalid_0's rmse: 0.834536\tvalid_0's l2: 0.696451\tvalid_1's rmse: 0.805285\tvalid_1's l2: 0.648484           \n",
      "[200]\tvalid_0's rmse: 0.830165\tvalid_0's l2: 0.689173\tvalid_1's rmse: 0.753204\tvalid_1's l2: 0.567317           \n",
      "[300]\tvalid_0's rmse: 0.830981\tvalid_0's l2: 0.690529\tvalid_1's rmse: 0.716161\tvalid_1's l2: 0.512887           \n",
      "[100]\tvalid_0's rmse: 0.87215\tvalid_0's l2: 0.760646\tvalid_1's rmse: 0.800634\tvalid_1's l2: 0.641014            \n",
      "[200]\tvalid_0's rmse: 0.868144\tvalid_0's l2: 0.753674\tvalid_1's rmse: 0.750102\tvalid_1's l2: 0.562653           \n",
      " 57%|██████████████████████▎                | 126/220 [11:03<07:44,  4.94s/trial, best loss: 0.8610839679639536]"
     ]
    },
    {
     "name": "stderr",
     "output_type": "stream",
     "text": [
      "Score - 0.8634484965614889, Std - 0.026771936143266787, Eval Score - 0.8634484965614889\n",
      "Score across folds - [0.893981499224136, 0.8287936828077078, 0.8675703076526232].\n"
     ]
    },
    {
     "name": "stdout",
     "output_type": "stream",
     "text": [
      "\r",
      " 58%|██████████████████████▌                | 127/220 [11:03<07:36,  4.91s/trial, best loss: 0.8610839679639536]"
     ]
    },
    {
     "name": "stderr",
     "output_type": "stream",
     "text": [
      "\n",
      "Iteration: 128, Training with params: {'boosting_type': 'gbdt', 'colsample_bytree': 1.0, 'learning_rate': 0.1, 'min_child_samples': 100, 'n_estimators': 10000, 'n_jobs': -1, 'num_leaves': 32, 'objective': 'regression', 'subsample': 1.0, 'subsample_freq': 5}\n"
     ]
    },
    {
     "name": "stdout",
     "output_type": "stream",
     "text": [
      "[100]\tvalid_0's rmse: 0.897853\tvalid_0's l2: 0.806139\tvalid_1's rmse: 0.737558\tvalid_1's l2: 0.543992           \n",
      "[200]\tvalid_0's rmse: 0.899358\tvalid_0's l2: 0.808845\tvalid_1's rmse: 0.659779\tvalid_1's l2: 0.435308           \n",
      "[100]\tvalid_0's rmse: 0.830195\tvalid_0's l2: 0.689224\tvalid_1's rmse: 0.739074\tvalid_1's l2: 0.54623            \n",
      "[200]\tvalid_0's rmse: 0.827736\tvalid_0's l2: 0.685146\tvalid_1's rmse: 0.663243\tvalid_1's l2: 0.439892           \n",
      "[300]\tvalid_0's rmse: 0.830008\tvalid_0's l2: 0.688913\tvalid_1's rmse: 0.606045\tvalid_1's l2: 0.36729            \n",
      "[100]\tvalid_0's rmse: 0.873269\tvalid_0's l2: 0.762599\tvalid_1's rmse: 0.736443\tvalid_1's l2: 0.542348           \n",
      "[200]\tvalid_0's rmse: 0.874295\tvalid_0's l2: 0.764391\tvalid_1's rmse: 0.657458\tvalid_1's l2: 0.432251           \n",
      " 58%|██████████████████████▌                | 127/220 [11:09<07:36,  4.91s/trial, best loss: 0.8610839679639536]"
     ]
    },
    {
     "name": "stderr",
     "output_type": "stream",
     "text": [
      "Score - 0.8656284454517172, Std - 0.028715563147493697, Eval Score - 0.8656284454517172\n",
      "Score across folds - [0.8966360760996799, 0.8274140493003728, 0.8728352109550989].\n"
     ]
    },
    {
     "name": "stdout",
     "output_type": "stream",
     "text": [
      "\r",
      " 58%|██████████████████████▋                | 128/220 [11:09<08:09,  5.32s/trial, best loss: 0.8610839679639536]"
     ]
    },
    {
     "name": "stderr",
     "output_type": "stream",
     "text": [
      "\n",
      "Iteration: 129, Training with params: {'boosting_type': 'gbdt', 'colsample_bytree': 0.6000000000000001, 'learning_rate': 0.1, 'min_child_samples': 90, 'n_estimators': 10000, 'n_jobs': -1, 'num_leaves': 16, 'objective': 'regression', 'subsample': 1.0, 'subsample_freq': 10}\n"
     ]
    },
    {
     "name": "stdout",
     "output_type": "stream",
     "text": [
      "[100]\tvalid_0's rmse: 0.901177\tvalid_0's l2: 0.81212\tvalid_1's rmse: 0.805523\tvalid_1's l2: 0.648867            \n",
      "[200]\tvalid_0's rmse: 0.896774\tvalid_0's l2: 0.804204\tvalid_1's rmse: 0.754013\tvalid_1's l2: 0.568536           \n",
      "[300]\tvalid_0's rmse: 0.896482\tvalid_0's l2: 0.80368\tvalid_1's rmse: 0.716447\tvalid_1's l2: 0.513297            \n",
      "[100]\tvalid_0's rmse: 0.837989\tvalid_0's l2: 0.702225\tvalid_1's rmse: 0.806881\tvalid_1's l2: 0.651057           \n",
      "[200]\tvalid_0's rmse: 0.83339\tvalid_0's l2: 0.694539\tvalid_1's rmse: 0.756284\tvalid_1's l2: 0.571965            \n",
      "[300]\tvalid_0's rmse: 0.831428\tvalid_0's l2: 0.691273\tvalid_1's rmse: 0.718749\tvalid_1's l2: 0.5166             \n",
      "[100]\tvalid_0's rmse: 0.872556\tvalid_0's l2: 0.761354\tvalid_1's rmse: 0.802959\tvalid_1's l2: 0.644743           \n",
      "[200]\tvalid_0's rmse: 0.868331\tvalid_0's l2: 0.753999\tvalid_1's rmse: 0.751718\tvalid_1's l2: 0.56508            \n",
      "[300]\tvalid_0's rmse: 0.86875\tvalid_0's l2: 0.754727\tvalid_1's rmse: 0.714667\tvalid_1's l2: 0.510749            \n",
      " 58%|██████████████████████▋                | 128/220 [11:14<08:09,  5.32s/trial, best loss: 0.8610839679639536]"
     ]
    },
    {
     "name": "stderr",
     "output_type": "stream",
     "text": [
      "Score - 0.8645271588916108, Std - 0.02627652321356454, Eval Score - 0.8645271588916108\n",
      "Score across folds - [0.895130757925944, 0.8309702695938155, 0.8674804491550728].\n"
     ]
    },
    {
     "name": "stdout",
     "output_type": "stream",
     "text": [
      "\r",
      " 59%|██████████████████████▊                | 129/220 [11:14<07:52,  5.19s/trial, best loss: 0.8610839679639536]"
     ]
    },
    {
     "name": "stderr",
     "output_type": "stream",
     "text": [
      "\n",
      "Iteration: 130, Training with params: {'boosting_type': 'gbdt', 'colsample_bytree': 0.4, 'learning_rate': 0.1, 'min_child_samples': 140, 'n_estimators': 10000, 'n_jobs': -1, 'num_leaves': 32, 'objective': 'regression', 'subsample': 0.8, 'subsample_freq': 10}\n"
     ]
    },
    {
     "name": "stdout",
     "output_type": "stream",
     "text": [
      "[100]\tvalid_0's rmse: 0.903063\tvalid_0's l2: 0.815522\tvalid_1's rmse: 0.762086\tvalid_1's l2: 0.580775           \n",
      "[200]\tvalid_0's rmse: 0.900669\tvalid_0's l2: 0.811204\tvalid_1's rmse: 0.690415\tvalid_1's l2: 0.476673           \n",
      "[300]\tvalid_0's rmse: 0.902119\tvalid_0's l2: 0.813819\tvalid_1's rmse: 0.637711\tvalid_1's l2: 0.406675           \n",
      "[100]\tvalid_0's rmse: 0.846109\tvalid_0's l2: 0.7159\tvalid_1's rmse: 0.762566\tvalid_1's l2: 0.581507             \n",
      "[200]\tvalid_0's rmse: 0.843395\tvalid_0's l2: 0.711315\tvalid_1's rmse: 0.69125\tvalid_1's l2: 0.477826            \n",
      "[100]\tvalid_0's rmse: 0.872971\tvalid_0's l2: 0.762079\tvalid_1's rmse: 0.760101\tvalid_1's l2: 0.577754           \n",
      "[200]\tvalid_0's rmse: 0.869394\tvalid_0's l2: 0.755845\tvalid_1's rmse: 0.686367\tvalid_1's l2: 0.4711             \n",
      " 59%|██████████████████████▊                | 129/220 [11:19<07:52,  5.19s/trial, best loss: 0.8610839679639536]"
     ]
    },
    {
     "name": "stderr",
     "output_type": "stream",
     "text": [
      "Score - 0.8695630725715112, Std - 0.02431514737971241, Eval Score - 0.8695630725715112\n",
      "Score across folds - [0.9003773669417132, 0.8409385491340822, 0.8673733016387382].\n"
     ]
    },
    {
     "name": "stdout",
     "output_type": "stream",
     "text": [
      "\r",
      " 59%|███████████████████████                | 130/220 [11:19<07:32,  5.03s/trial, best loss: 0.8610839679639536]"
     ]
    },
    {
     "name": "stderr",
     "output_type": "stream",
     "text": [
      "\n",
      "Iteration: 131, Training with params: {'boosting_type': 'gbdt', 'colsample_bytree': 0.8, 'learning_rate': 0.1, 'min_child_samples': 60, 'n_estimators': 10000, 'n_jobs': -1, 'num_leaves': 16, 'objective': 'regression', 'subsample': 1.0, 'subsample_freq': 10}\n"
     ]
    },
    {
     "name": "stdout",
     "output_type": "stream",
     "text": [
      "[100]\tvalid_0's rmse: 0.894484\tvalid_0's l2: 0.800101\tvalid_1's rmse: 0.801224\tvalid_1's l2: 0.64196            \n",
      "[200]\tvalid_0's rmse: 0.892837\tvalid_0's l2: 0.797158\tvalid_1's rmse: 0.74758\tvalid_1's l2: 0.558877            \n",
      "[100]\tvalid_0's rmse: 0.835247\tvalid_0's l2: 0.697637\tvalid_1's rmse: 0.803035\tvalid_1's l2: 0.644865           \n",
      "[200]\tvalid_0's rmse: 0.831901\tvalid_0's l2: 0.69206\tvalid_1's rmse: 0.747939\tvalid_1's l2: 0.559413            \n",
      "[300]\tvalid_0's rmse: 0.831621\tvalid_0's l2: 0.691594\tvalid_1's rmse: 0.708045\tvalid_1's l2: 0.501327           \n",
      "[400]\tvalid_0's rmse: 0.832648\tvalid_0's l2: 0.693303\tvalid_1's rmse: 0.676081\tvalid_1's l2: 0.457086           \n",
      "[100]\tvalid_0's rmse: 0.874523\tvalid_0's l2: 0.764791\tvalid_1's rmse: 0.799487\tvalid_1's l2: 0.639179           \n",
      "[200]\tvalid_0's rmse: 0.870666\tvalid_0's l2: 0.758059\tvalid_1's rmse: 0.745749\tvalid_1's l2: 0.556142           \n",
      "[300]\tvalid_0's rmse: 0.86966\tvalid_0's l2: 0.756308\tvalid_1's rmse: 0.706951\tvalid_1's l2: 0.49978             \n",
      " 59%|███████████████████████                | 130/220 [11:24<07:32,  5.03s/trial, best loss: 0.8610839679639536]"
     ]
    },
    {
     "name": "stderr",
     "output_type": "stream",
     "text": [
      "Score - 0.8643159407480111, Std - 0.0250831621799187, Eval Score - 0.8643159407480111\n",
      "Score across folds - [0.8922455794778613, 0.8314117708733353, 0.8692904718928366].\n"
     ]
    },
    {
     "name": "stdout",
     "output_type": "stream",
     "text": [
      "\r",
      " 60%|███████████████████████▏               | 131/220 [11:25<07:43,  5.20s/trial, best loss: 0.8610839679639536]"
     ]
    },
    {
     "name": "stderr",
     "output_type": "stream",
     "text": [
      "\n",
      "Iteration: 132, Training with params: {'boosting_type': 'gbdt', 'colsample_bytree': 1.0, 'learning_rate': 0.1, 'min_child_samples': 0, 'n_estimators': 10000, 'n_jobs': -1, 'num_leaves': 16, 'objective': 'regression', 'subsample': 0.6000000000000001, 'subsample_freq': 10}\n"
     ]
    },
    {
     "name": "stdout",
     "output_type": "stream",
     "text": [
      "[100]\tvalid_0's rmse: 0.905468\tvalid_0's l2: 0.819872\tvalid_1's rmse: 0.79774\tvalid_1's l2: 0.636389            \n",
      "[200]\tvalid_0's rmse: 0.905075\tvalid_0's l2: 0.819162\tvalid_1's rmse: 0.738069\tvalid_1's l2: 0.544746           \n",
      "[100]\tvalid_0's rmse: 0.846715\tvalid_0's l2: 0.716926\tvalid_1's rmse: 0.801933\tvalid_1's l2: 0.643096           \n",
      "[200]\tvalid_0's rmse: 0.844961\tvalid_0's l2: 0.713959\tvalid_1's rmse: 0.7437\tvalid_1's l2: 0.553089             \n",
      "[100]\tvalid_0's rmse: 0.873799\tvalid_0's l2: 0.763524\tvalid_1's rmse: 0.797325\tvalid_1's l2: 0.635727           \n",
      "[200]\tvalid_0's rmse: 0.875363\tvalid_0's l2: 0.76626\tvalid_1's rmse: 0.735429\tvalid_1's l2: 0.540855            \n",
      " 60%|███████████████████████▏               | 131/220 [11:29<07:43,  5.20s/trial, best loss: 0.8610839679639536]"
     ]
    },
    {
     "name": "stderr",
     "output_type": "stream",
     "text": [
      "Score - 0.8720908629788987, Std - 0.02441753402375359, Eval Score - 0.8720908629788987\n",
      "Score across folds - [0.9021916523696769, 0.8423850661996104, 0.871695870367409].\n"
     ]
    },
    {
     "name": "stdout",
     "output_type": "stream",
     "text": [
      "\r",
      " 60%|███████████████████████▍               | 132/220 [11:29<07:17,  4.97s/trial, best loss: 0.8610839679639536]"
     ]
    },
    {
     "name": "stderr",
     "output_type": "stream",
     "text": [
      "\n",
      "Iteration: 133, Training with params: {'boosting_type': 'gbdt', 'colsample_bytree': 0.6000000000000001, 'learning_rate': 0.1, 'min_child_samples': 80, 'n_estimators': 10000, 'n_jobs': -1, 'num_leaves': 16, 'objective': 'regression', 'subsample': 1.0, 'subsample_freq': 10}\n"
     ]
    },
    {
     "name": "stdout",
     "output_type": "stream",
     "text": [
      "[100]\tvalid_0's rmse: 0.899912\tvalid_0's l2: 0.809841\tvalid_1's rmse: 0.80429\tvalid_1's l2: 0.646882            \n",
      "[200]\tvalid_0's rmse: 0.899658\tvalid_0's l2: 0.809385\tvalid_1's rmse: 0.751568\tvalid_1's l2: 0.564854           \n",
      "[100]\tvalid_0's rmse: 0.834691\tvalid_0's l2: 0.696708\tvalid_1's rmse: 0.805832\tvalid_1's l2: 0.649366           \n",
      "[200]\tvalid_0's rmse: 0.830871\tvalid_0's l2: 0.690347\tvalid_1's rmse: 0.753975\tvalid_1's l2: 0.568478           \n",
      "[300]\tvalid_0's rmse: 0.829079\tvalid_0's l2: 0.687372\tvalid_1's rmse: 0.716393\tvalid_1's l2: 0.513219           \n",
      "[400]\tvalid_0's rmse: 0.828815\tvalid_0's l2: 0.686934\tvalid_1's rmse: 0.684521\tvalid_1's l2: 0.468569           \n",
      "[100]\tvalid_0's rmse: 0.87331\tvalid_0's l2: 0.762671\tvalid_1's rmse: 0.803008\tvalid_1's l2: 0.644822            \n",
      "[200]\tvalid_0's rmse: 0.868317\tvalid_0's l2: 0.753974\tvalid_1's rmse: 0.750965\tvalid_1's l2: 0.563949           \n",
      "[300]\tvalid_0's rmse: 0.868142\tvalid_0's l2: 0.753671\tvalid_1's rmse: 0.713759\tvalid_1's l2: 0.509453           \n",
      " 60%|███████████████████████▍               | 132/220 [11:34<07:17,  4.97s/trial, best loss: 0.8610839679639536]"
     ]
    },
    {
     "name": "stderr",
     "output_type": "stream",
     "text": [
      "Score - 0.86372006926636, Std - 0.028003703569124978, Eval Score - 0.86372006926636\n",
      "Score across folds - [0.896056246811022, 0.8277507220307089, 0.867353238957349].\n"
     ]
    },
    {
     "name": "stdout",
     "output_type": "stream",
     "text": [
      "\r",
      " 60%|███████████████████████▌               | 133/220 [11:34<07:13,  4.99s/trial, best loss: 0.8610839679639536]"
     ]
    },
    {
     "name": "stderr",
     "output_type": "stream",
     "text": [
      "\n",
      "Iteration: 134, Training with params: {'boosting_type': 'gbdt', 'colsample_bytree': 1.0, 'learning_rate': 0.1, 'min_child_samples': 40, 'n_estimators': 10000, 'n_jobs': -1, 'num_leaves': 16, 'objective': 'regression', 'subsample': 0.8, 'subsample_freq': 10}\n"
     ]
    },
    {
     "name": "stdout",
     "output_type": "stream",
     "text": [
      "[100]\tvalid_0's rmse: 0.900463\tvalid_0's l2: 0.810833\tvalid_1's rmse: 0.79839\tvalid_1's l2: 0.637427            \n",
      "[200]\tvalid_0's rmse: 0.899072\tvalid_0's l2: 0.80833\tvalid_1's rmse: 0.743296\tvalid_1's l2: 0.552489            \n",
      "[100]\tvalid_0's rmse: 0.835299\tvalid_0's l2: 0.697725\tvalid_1's rmse: 0.803117\tvalid_1's l2: 0.644996           \n",
      "[200]\tvalid_0's rmse: 0.835379\tvalid_0's l2: 0.697857\tvalid_1's rmse: 0.746382\tvalid_1's l2: 0.557086           \n",
      "[100]\tvalid_0's rmse: 0.872717\tvalid_0's l2: 0.761636\tvalid_1's rmse: 0.79753\tvalid_1's l2: 0.636055            \n",
      "[200]\tvalid_0's rmse: 0.871286\tvalid_0's l2: 0.75914\tvalid_1's rmse: 0.741046\tvalid_1's l2: 0.549149            \n",
      " 60%|███████████████████████▌               | 133/220 [11:39<07:13,  4.99s/trial, best loss: 0.8610839679639536]"
     ]
    },
    {
     "name": "stderr",
     "output_type": "stream",
     "text": [
      "Score - 0.8670727910636818, Std - 0.026770365165553037, Eval Score - 0.8670727910636818\n",
      "Score across folds - [0.8981336397015522, 0.8327967955860153, 0.870287937903478].\n"
     ]
    },
    {
     "name": "stdout",
     "output_type": "stream",
     "text": [
      "\r",
      " 61%|███████████████████████▊               | 134/220 [11:39<07:15,  5.06s/trial, best loss: 0.8610839679639536]"
     ]
    },
    {
     "name": "stderr",
     "output_type": "stream",
     "text": [
      "\n",
      "Iteration: 135, Training with params: {'boosting_type': 'gbdt', 'colsample_bytree': 0.8, 'learning_rate': 0.1, 'min_child_samples': 120, 'n_estimators': 10000, 'n_jobs': -1, 'num_leaves': 48, 'objective': 'regression', 'subsample': 1.0, 'subsample_freq': 5}\n"
     ]
    },
    {
     "name": "stdout",
     "output_type": "stream",
     "text": [
      "[100]\tvalid_0's rmse: 0.896357\tvalid_0's l2: 0.803455\tvalid_1's rmse: 0.698013\tvalid_1's l2: 0.487223           \n",
      "[200]\tvalid_0's rmse: 0.899903\tvalid_0's l2: 0.809826\tvalid_1's rmse: 0.604591\tvalid_1's l2: 0.36553            \n",
      "[100]\tvalid_0's rmse: 0.829344\tvalid_0's l2: 0.687812\tvalid_1's rmse: 0.698375\tvalid_1's l2: 0.487727           \n",
      "[200]\tvalid_0's rmse: 0.827913\tvalid_0's l2: 0.68544\tvalid_1's rmse: 0.606409\tvalid_1's l2: 0.367732            \n",
      "[100]\tvalid_0's rmse: 0.870342\tvalid_0's l2: 0.757496\tvalid_1's rmse: 0.694782\tvalid_1's l2: 0.482722           \n",
      "[200]\tvalid_0's rmse: 0.875171\tvalid_0's l2: 0.765924\tvalid_1's rmse: 0.601104\tvalid_1's l2: 0.361327           \n",
      " 61%|███████████████████████▊               | 134/220 [11:46<07:15,  5.06s/trial, best loss: 0.8610839679639536]"
     ]
    },
    {
     "name": "stderr",
     "output_type": "stream",
     "text": [
      "Score - 0.8636488022920296, Std - 0.02817843135697995, Eval Score - 0.8636488022920296\n",
      "Score across folds - [0.8948415685408592, 0.826574651804142, 0.8695301865310874].\n"
     ]
    },
    {
     "name": "stdout",
     "output_type": "stream",
     "text": [
      "\r",
      " 61%|███████████████████████▉               | 135/220 [11:46<07:58,  5.63s/trial, best loss: 0.8610839679639536]"
     ]
    },
    {
     "name": "stderr",
     "output_type": "stream",
     "text": [
      "\n",
      "Iteration: 136, Training with params: {'boosting_type': 'gbdt', 'colsample_bytree': 0.8, 'learning_rate': 0.1, 'min_child_samples': 130, 'n_estimators': 10000, 'n_jobs': -1, 'num_leaves': 16, 'objective': 'regression', 'subsample': 1.0, 'subsample_freq': 10}\n"
     ]
    },
    {
     "name": "stdout",
     "output_type": "stream",
     "text": [
      "[100]\tvalid_0's rmse: 0.89643\tvalid_0's l2: 0.803587\tvalid_1's rmse: 0.80363\tvalid_1's l2: 0.645822             \n",
      "[200]\tvalid_0's rmse: 0.892393\tvalid_0's l2: 0.796366\tvalid_1's rmse: 0.75322\tvalid_1's l2: 0.56734             \n",
      "[100]\tvalid_0's rmse: 0.837874\tvalid_0's l2: 0.702033\tvalid_1's rmse: 0.805983\tvalid_1's l2: 0.649608           \n",
      "[200]\tvalid_0's rmse: 0.832569\tvalid_0's l2: 0.693172\tvalid_1's rmse: 0.756703\tvalid_1's l2: 0.572599           \n",
      "[300]\tvalid_0's rmse: 0.832346\tvalid_0's l2: 0.6928\tvalid_1's rmse: 0.71943\tvalid_1's l2: 0.51758               \n",
      "[400]\tvalid_0's rmse: 0.830605\tvalid_0's l2: 0.689905\tvalid_1's rmse: 0.688305\tvalid_1's l2: 0.473763           \n",
      "[500]\tvalid_0's rmse: 0.831708\tvalid_0's l2: 0.691738\tvalid_1's rmse: 0.660585\tvalid_1's l2: 0.436372           \n",
      "[100]\tvalid_0's rmse: 0.8708\tvalid_0's l2: 0.758293\tvalid_1's rmse: 0.80173\tvalid_1's l2: 0.642771              \n",
      "[200]\tvalid_0's rmse: 0.864443\tvalid_0's l2: 0.747261\tvalid_1's rmse: 0.7533\tvalid_1's l2: 0.567461             \n",
      "[300]\tvalid_0's rmse: 0.864849\tvalid_0's l2: 0.747963\tvalid_1's rmse: 0.715771\tvalid_1's l2: 0.512328           \n",
      " 61%|███████████████████████▉               | 135/220 [11:52<07:58,  5.63s/trial, best loss: 0.8610839679639536]"
     ]
    },
    {
     "name": "stderr",
     "output_type": "stream",
     "text": [
      "Score - 0.8616386932694483, Std - 0.024949652757206005, Eval Score - 0.8616386932694483\n",
      "Score across folds - [0.8913172390583768, 0.8302732078945458, 0.8633256328554225].\n"
     ]
    },
    {
     "name": "stdout",
     "output_type": "stream",
     "text": [
      "\r",
      " 62%|████████████████████████               | 136/220 [11:52<08:03,  5.76s/trial, best loss: 0.8610839679639536]"
     ]
    },
    {
     "name": "stderr",
     "output_type": "stream",
     "text": [
      "\n",
      "Iteration: 137, Training with params: {'boosting_type': 'gbdt', 'colsample_bytree': 0.8, 'learning_rate': 0.1, 'min_child_samples': 60, 'n_estimators': 10000, 'n_jobs': -1, 'num_leaves': 32, 'objective': 'regression', 'subsample': 1.0, 'subsample_freq': 10}\n"
     ]
    },
    {
     "name": "stdout",
     "output_type": "stream",
     "text": [
      "[100]\tvalid_0's rmse: 0.894615\tvalid_0's l2: 0.800337\tvalid_1's rmse: 0.735084\tvalid_1's l2: 0.540349           \n",
      "[200]\tvalid_0's rmse: 0.895985\tvalid_0's l2: 0.802789\tvalid_1's rmse: 0.655611\tvalid_1's l2: 0.429826           \n",
      "[100]\tvalid_0's rmse: 0.836289\tvalid_0's l2: 0.699379\tvalid_1's rmse: 0.737146\tvalid_1's l2: 0.543384           \n",
      "[200]\tvalid_0's rmse: 0.833752\tvalid_0's l2: 0.695142\tvalid_1's rmse: 0.657425\tvalid_1's l2: 0.432207           \n",
      "[100]\tvalid_0's rmse: 0.871462\tvalid_0's l2: 0.759446\tvalid_1's rmse: 0.7329\tvalid_1's l2: 0.537142             \n",
      "[200]\tvalid_0's rmse: 0.868529\tvalid_0's l2: 0.754343\tvalid_1's rmse: 0.653392\tvalid_1's l2: 0.426921           \n",
      "[300]\tvalid_0's rmse: 0.871836\tvalid_0's l2: 0.760099\tvalid_1's rmse: 0.592715\tvalid_1's l2: 0.351311           \n",
      " 62%|████████████████████████               | 136/220 [11:58<08:03,  5.76s/trial, best loss: 0.8610839679639536]"
     ]
    },
    {
     "name": "stderr",
     "output_type": "stream",
     "text": [
      "Score - 0.8650436653215454, Std - 0.024991952000701898, Eval Score - 0.8650436653215454\n",
      "Score across folds - [0.8939270208136266, 0.8329608331675125, 0.8682431419834972].\n"
     ]
    },
    {
     "name": "stdout",
     "output_type": "stream",
     "text": [
      "\r",
      " 62%|████████████████████████▎              | 137/220 [11:58<07:59,  5.78s/trial, best loss: 0.8610839679639536]"
     ]
    },
    {
     "name": "stderr",
     "output_type": "stream",
     "text": [
      "\n",
      "Iteration: 138, Training with params: {'boosting_type': 'gbdt', 'colsample_bytree': 1.0, 'learning_rate': 0.1, 'min_child_samples': 90, 'n_estimators': 10000, 'n_jobs': -1, 'num_leaves': 16, 'objective': 'regression', 'subsample': 1.0, 'subsample_freq': 10}\n"
     ]
    },
    {
     "name": "stdout",
     "output_type": "stream",
     "text": [
      "[100]\tvalid_0's rmse: 0.896267\tvalid_0's l2: 0.803295\tvalid_1's rmse: 0.800182\tvalid_1's l2: 0.640292           \n",
      "[200]\tvalid_0's rmse: 0.894218\tvalid_0's l2: 0.799626\tvalid_1's rmse: 0.747652\tvalid_1's l2: 0.558984           \n",
      "[100]\tvalid_0's rmse: 0.833999\tvalid_0's l2: 0.695555\tvalid_1's rmse: 0.802555\tvalid_1's l2: 0.644095           \n",
      "[200]\tvalid_0's rmse: 0.83171\tvalid_0's l2: 0.691741\tvalid_1's rmse: 0.750875\tvalid_1's l2: 0.563814            \n",
      "[300]\tvalid_0's rmse: 0.83222\tvalid_0's l2: 0.692591\tvalid_1's rmse: 0.712241\tvalid_1's l2: 0.507287            \n",
      "[100]\tvalid_0's rmse: 0.86978\tvalid_0's l2: 0.756517\tvalid_1's rmse: 0.798631\tvalid_1's l2: 0.637811            \n",
      "[200]\tvalid_0's rmse: 0.867703\tvalid_0's l2: 0.752908\tvalid_1's rmse: 0.746597\tvalid_1's l2: 0.557407           \n",
      " 62%|████████████████████████▎              | 137/220 [12:03<07:59,  5.78s/trial, best loss: 0.8610839679639536]"
     ]
    },
    {
     "name": "stderr",
     "output_type": "stream",
     "text": [
      "Score - 0.8637368386419247, Std - 0.025823662875176644, Eval Score - 0.8637368386419247\n",
      "Score across folds - [0.8937961147002595, 0.8307455111439802, 0.8666688900815345].\n"
     ]
    },
    {
     "name": "stdout",
     "output_type": "stream",
     "text": [
      "\r",
      " 63%|████████████████████████▍              | 138/220 [12:04<07:43,  5.65s/trial, best loss: 0.8610839679639536]"
     ]
    },
    {
     "name": "stderr",
     "output_type": "stream",
     "text": [
      "\n",
      "Iteration: 139, Training with params: {'boosting_type': 'gbdt', 'colsample_bytree': 0.8, 'learning_rate': 0.1, 'min_child_samples': 100, 'n_estimators': 10000, 'n_jobs': -1, 'num_leaves': 16, 'objective': 'regression', 'subsample': 1.0, 'subsample_freq': 10}\n"
     ]
    },
    {
     "name": "stdout",
     "output_type": "stream",
     "text": [
      "[100]\tvalid_0's rmse: 0.896721\tvalid_0's l2: 0.804109\tvalid_1's rmse: 0.802478\tvalid_1's l2: 0.643971           \n",
      "[200]\tvalid_0's rmse: 0.8955\tvalid_0's l2: 0.80192\tvalid_1's rmse: 0.75104\tvalid_1's l2: 0.564062               \n",
      "[100]\tvalid_0's rmse: 0.833125\tvalid_0's l2: 0.694097\tvalid_1's rmse: 0.803464\tvalid_1's l2: 0.645554           \n",
      "[200]\tvalid_0's rmse: 0.829991\tvalid_0's l2: 0.688885\tvalid_1's rmse: 0.752159\tvalid_1's l2: 0.565743           \n",
      "[300]\tvalid_0's rmse: 0.828085\tvalid_0's l2: 0.685725\tvalid_1's rmse: 0.712953\tvalid_1's l2: 0.508302           \n",
      "[400]\tvalid_0's rmse: 0.827643\tvalid_0's l2: 0.684993\tvalid_1's rmse: 0.680845\tvalid_1's l2: 0.46355            \n",
      "[100]\tvalid_0's rmse: 0.871166\tvalid_0's l2: 0.75893\tvalid_1's rmse: 0.799971\tvalid_1's l2: 0.639953            \n",
      "[200]\tvalid_0's rmse: 0.868183\tvalid_0's l2: 0.753741\tvalid_1's rmse: 0.748\tvalid_1's l2: 0.559504              \n",
      "[300]\tvalid_0's rmse: 0.869814\tvalid_0's l2: 0.756576\tvalid_1's rmse: 0.70984\tvalid_1's l2: 0.503873            \n",
      " 63%|████████████████████████▍              | 138/220 [12:09<07:43,  5.65s/trial, best loss: 0.8610839679639536]"
     ]
    },
    {
     "name": "stderr",
     "output_type": "stream",
     "text": [
      "Score - 0.862737934190379, Std - 0.027649661554100913, Eval Score - 0.862737934190379\n",
      "Score across folds - [0.8940035919298196, 0.8267679555529404, 0.8674422550883774].\n"
     ]
    },
    {
     "name": "stdout",
     "output_type": "stream",
     "text": [
      "\r",
      " 63%|████████████████████████▋              | 139/220 [12:09<07:32,  5.58s/trial, best loss: 0.8610839679639536]"
     ]
    },
    {
     "name": "stderr",
     "output_type": "stream",
     "text": [
      "\n",
      "Iteration: 140, Training with params: {'boosting_type': 'gbdt', 'colsample_bytree': 0.6000000000000001, 'learning_rate': 0.1, 'min_child_samples': 50, 'n_estimators': 10000, 'n_jobs': -1, 'num_leaves': 32, 'objective': 'regression', 'subsample': 0.8, 'subsample_freq': 10}\n"
     ]
    },
    {
     "name": "stdout",
     "output_type": "stream",
     "text": [
      "[100]\tvalid_0's rmse: 0.900448\tvalid_0's l2: 0.810806\tvalid_1's rmse: 0.74279\tvalid_1's l2: 0.551737            \n",
      "[200]\tvalid_0's rmse: 0.905119\tvalid_0's l2: 0.81924\tvalid_1's rmse: 0.665088\tvalid_1's l2: 0.442342            \n",
      "[100]\tvalid_0's rmse: 0.834758\tvalid_0's l2: 0.696821\tvalid_1's rmse: 0.744073\tvalid_1's l2: 0.553645           \n",
      "[200]\tvalid_0's rmse: 0.833491\tvalid_0's l2: 0.694707\tvalid_1's rmse: 0.664663\tvalid_1's l2: 0.441777           \n",
      "[100]\tvalid_0's rmse: 0.875306\tvalid_0's l2: 0.76616\tvalid_1's rmse: 0.740385\tvalid_1's l2: 0.54817             \n",
      "[200]\tvalid_0's rmse: 0.87396\tvalid_0's l2: 0.763806\tvalid_1's rmse: 0.659811\tvalid_1's l2: 0.435351            \n",
      " 63%|████████████████████████▋              | 139/220 [12:14<07:32,  5.58s/trial, best loss: 0.8610839679639536]"
     ]
    },
    {
     "name": "stderr",
     "output_type": "stream",
     "text": [
      "Score - 0.8675698931831044, Std - 0.028063219020028105, Eval Score - 0.8675698931831044\n",
      "Score across folds - [0.8987693952825345, 0.8307272681703437, 0.873213016096435].\n"
     ]
    },
    {
     "name": "stdout",
     "output_type": "stream",
     "text": [
      "\r",
      " 64%|████████████████████████▊              | 140/220 [12:14<07:16,  5.46s/trial, best loss: 0.8610839679639536]"
     ]
    },
    {
     "name": "stderr",
     "output_type": "stream",
     "text": [
      "\n",
      "Iteration: 141, Training with params: {'boosting_type': 'gbdt', 'colsample_bytree': 0.8, 'learning_rate': 0.1, 'min_child_samples': 90, 'n_estimators': 10000, 'n_jobs': -1, 'num_leaves': 16, 'objective': 'regression', 'subsample': 1.0, 'subsample_freq': 5}\n"
     ]
    },
    {
     "name": "stdout",
     "output_type": "stream",
     "text": [
      "[100]\tvalid_0's rmse: 0.896201\tvalid_0's l2: 0.803176\tvalid_1's rmse: 0.802049\tvalid_1's l2: 0.643282           \n",
      "[200]\tvalid_0's rmse: 0.891947\tvalid_0's l2: 0.79557\tvalid_1's rmse: 0.751353\tvalid_1's l2: 0.564532            \n",
      "[100]\tvalid_0's rmse: 0.832942\tvalid_0's l2: 0.693792\tvalid_1's rmse: 0.803713\tvalid_1's l2: 0.645955           \n",
      "[200]\tvalid_0's rmse: 0.828739\tvalid_0's l2: 0.686809\tvalid_1's rmse: 0.75204\tvalid_1's l2: 0.565565            \n",
      "[300]\tvalid_0's rmse: 0.827675\tvalid_0's l2: 0.685047\tvalid_1's rmse: 0.714469\tvalid_1's l2: 0.510466           \n",
      "[100]\tvalid_0's rmse: 0.868688\tvalid_0's l2: 0.754618\tvalid_1's rmse: 0.798485\tvalid_1's l2: 0.637578           \n",
      "[200]\tvalid_0's rmse: 0.866917\tvalid_0's l2: 0.751545\tvalid_1's rmse: 0.746432\tvalid_1's l2: 0.557161           \n",
      "[300]\tvalid_0's rmse: 0.866916\tvalid_0's l2: 0.751543\tvalid_1's rmse: 0.707903\tvalid_1's l2: 0.501127           \n",
      " 64%|████████████████████████▊              | 140/220 [12:19<07:16,  5.46s/trial, best loss: 0.8610839679639536]"
     ]
    },
    {
     "name": "stderr",
     "output_type": "stream",
     "text": [
      "Score - 0.8610839679639536, Std - 0.026740229842720033, Eval Score - 0.8610839679639536\n",
      "Score across folds - [0.8919421973540256, 0.8267237387416502, 0.864585967796185].\n"
     ]
    },
    {
     "name": "stdout",
     "output_type": "stream",
     "text": [
      "\r",
      " 64%|████████████████████████▉              | 141/220 [12:20<07:10,  5.44s/trial, best loss: 0.8610839679639536]"
     ]
    },
    {
     "name": "stderr",
     "output_type": "stream",
     "text": [
      "\n",
      "Iteration: 142, Training with params: {'boosting_type': 'gbdt', 'colsample_bytree': 0.8, 'learning_rate': 0.1, 'min_child_samples': 110, 'n_estimators': 10000, 'n_jobs': -1, 'num_leaves': 16, 'objective': 'regression', 'subsample': 1.0, 'subsample_freq': 5}\n"
     ]
    },
    {
     "name": "stdout",
     "output_type": "stream",
     "text": [
      "[100]\tvalid_0's rmse: 0.895397\tvalid_0's l2: 0.801736\tvalid_1's rmse: 0.803209\tvalid_1's l2: 0.645145           \n",
      "[200]\tvalid_0's rmse: 0.894279\tvalid_0's l2: 0.799735\tvalid_1's rmse: 0.751945\tvalid_1's l2: 0.565422           \n",
      "[100]\tvalid_0's rmse: 0.834536\tvalid_0's l2: 0.696451\tvalid_1's rmse: 0.805285\tvalid_1's l2: 0.648484           \n",
      "[200]\tvalid_0's rmse: 0.830165\tvalid_0's l2: 0.689173\tvalid_1's rmse: 0.753204\tvalid_1's l2: 0.567317           \n",
      "[300]\tvalid_0's rmse: 0.830981\tvalid_0's l2: 0.690529\tvalid_1's rmse: 0.716161\tvalid_1's l2: 0.512887           \n",
      "[100]\tvalid_0's rmse: 0.87215\tvalid_0's l2: 0.760646\tvalid_1's rmse: 0.800634\tvalid_1's l2: 0.641014            \n",
      "[200]\tvalid_0's rmse: 0.868144\tvalid_0's l2: 0.753674\tvalid_1's rmse: 0.750102\tvalid_1's l2: 0.562653           \n",
      " 64%|████████████████████████▉              | 141/220 [12:24<07:10,  5.44s/trial, best loss: 0.8610839679639536]"
     ]
    },
    {
     "name": "stderr",
     "output_type": "stream",
     "text": [
      "Score - 0.8634484965614889, Std - 0.026771936143266787, Eval Score - 0.8634484965614889\n",
      "Score across folds - [0.893981499224136, 0.8287936828077078, 0.8675703076526232].\n"
     ]
    },
    {
     "name": "stdout",
     "output_type": "stream",
     "text": [
      "\r",
      " 65%|█████████████████████████▏             | 142/220 [12:24<06:50,  5.27s/trial, best loss: 0.8610839679639536]"
     ]
    },
    {
     "name": "stderr",
     "output_type": "stream",
     "text": [
      "\n",
      "Iteration: 143, Training with params: {'boosting_type': 'gbdt', 'colsample_bytree': 1.0, 'learning_rate': 0.1, 'min_child_samples': 70, 'n_estimators': 10000, 'n_jobs': -1, 'num_leaves': 48, 'objective': 'regression', 'subsample': 0.8, 'subsample_freq': 10}\n"
     ]
    },
    {
     "name": "stdout",
     "output_type": "stream",
     "text": [
      "[100]\tvalid_0's rmse: 0.893245\tvalid_0's l2: 0.797886\tvalid_1's rmse: 0.689764\tvalid_1's l2: 0.475775           \n",
      "[100]\tvalid_0's rmse: 0.84051\tvalid_0's l2: 0.706457\tvalid_1's rmse: 0.690335\tvalid_1's l2: 0.476562            \n",
      "[100]\tvalid_0's rmse: 0.875591\tvalid_0's l2: 0.76666\tvalid_1's rmse: 0.687171\tvalid_1's l2: 0.472204            \n",
      "[200]\tvalid_0's rmse: 0.880131\tvalid_0's l2: 0.774631\tvalid_1's rmse: 0.586781\tvalid_1's l2: 0.344312           \n",
      " 65%|█████████████████████████▏             | 142/220 [12:31<06:50,  5.27s/trial, best loss: 0.8610839679639536]"
     ]
    },
    {
     "name": "stderr",
     "output_type": "stream",
     "text": [
      "Score - 0.867520673393911, Std - 0.02310498484380255, Eval Score - 0.867520673393911\n",
      "Score across folds - [0.8927166629906853, 0.8369051297020714, 0.8729402274889764].\n"
     ]
    },
    {
     "name": "stdout",
     "output_type": "stream",
     "text": [
      "\r",
      " 65%|█████████████████████████▎             | 143/220 [12:31<07:15,  5.66s/trial, best loss: 0.8610839679639536]"
     ]
    },
    {
     "name": "stderr",
     "output_type": "stream",
     "text": [
      "\n",
      "Iteration: 144, Training with params: {'boosting_type': 'gbdt', 'colsample_bytree': 0.6000000000000001, 'learning_rate': 0.1, 'min_child_samples': 50, 'n_estimators': 10000, 'n_jobs': -1, 'num_leaves': 16, 'objective': 'regression', 'subsample': 1.0, 'subsample_freq': 5}\n"
     ]
    },
    {
     "name": "stdout",
     "output_type": "stream",
     "text": [
      "[100]\tvalid_0's rmse: 0.900352\tvalid_0's l2: 0.810634\tvalid_1's rmse: 0.803327\tvalid_1's l2: 0.645334           \n",
      "[200]\tvalid_0's rmse: 0.89867\tvalid_0's l2: 0.807608\tvalid_1's rmse: 0.749948\tvalid_1's l2: 0.562422            \n",
      "[100]\tvalid_0's rmse: 0.835849\tvalid_0's l2: 0.698644\tvalid_1's rmse: 0.805839\tvalid_1's l2: 0.649377           \n",
      "[200]\tvalid_0's rmse: 0.834809\tvalid_0's l2: 0.696906\tvalid_1's rmse: 0.752267\tvalid_1's l2: 0.565905           \n",
      "[100]\tvalid_0's rmse: 0.869579\tvalid_0's l2: 0.756168\tvalid_1's rmse: 0.801111\tvalid_1's l2: 0.641779           \n",
      "[200]\tvalid_0's rmse: 0.867938\tvalid_0's l2: 0.753316\tvalid_1's rmse: 0.747922\tvalid_1's l2: 0.559387           \n",
      " 65%|█████████████████████████▎             | 143/220 [12:35<07:15,  5.66s/trial, best loss: 0.8610839679639536]"
     ]
    },
    {
     "name": "stderr",
     "output_type": "stream",
     "text": [
      "Score - 0.8656690977332171, Std - 0.026287304528589295, Eval Score - 0.8656690977332171\n",
      "Score across folds - [0.8970741627136682, 0.8327379556285038, 0.8671951748574793].\n"
     ]
    },
    {
     "name": "stdout",
     "output_type": "stream",
     "text": [
      "\r",
      " 65%|█████████████████████████▌             | 144/220 [12:35<06:41,  5.28s/trial, best loss: 0.8610839679639536]"
     ]
    },
    {
     "name": "stderr",
     "output_type": "stream",
     "text": [
      "\n",
      "Iteration: 145, Training with params: {'boosting_type': 'gbdt', 'colsample_bytree': 0.8, 'learning_rate': 0.1, 'min_child_samples': 80, 'n_estimators': 10000, 'n_jobs': -1, 'num_leaves': 16, 'objective': 'regression', 'subsample': 1.0, 'subsample_freq': 10}\n"
     ]
    },
    {
     "name": "stdout",
     "output_type": "stream",
     "text": [
      "[100]\tvalid_0's rmse: 0.894227\tvalid_0's l2: 0.799642\tvalid_1's rmse: 0.801588\tvalid_1's l2: 0.642544           \n",
      "[200]\tvalid_0's rmse: 0.89374\tvalid_0's l2: 0.798771\tvalid_1's rmse: 0.749187\tvalid_1's l2: 0.561281            \n",
      "[100]\tvalid_0's rmse: 0.837264\tvalid_0's l2: 0.701011\tvalid_1's rmse: 0.804374\tvalid_1's l2: 0.647018           \n",
      "[200]\tvalid_0's rmse: 0.832608\tvalid_0's l2: 0.693236\tvalid_1's rmse: 0.751794\tvalid_1's l2: 0.565194           \n",
      "[300]\tvalid_0's rmse: 0.83294\tvalid_0's l2: 0.693789\tvalid_1's rmse: 0.7139\tvalid_1's l2: 0.509654              \n",
      "[100]\tvalid_0's rmse: 0.873458\tvalid_0's l2: 0.76293\tvalid_1's rmse: 0.799375\tvalid_1's l2: 0.639001            \n",
      "[200]\tvalid_0's rmse: 0.871956\tvalid_0's l2: 0.760307\tvalid_1's rmse: 0.747234\tvalid_1's l2: 0.558358           \n",
      " 65%|█████████████████████████▌             | 144/220 [12:40<06:41,  5.28s/trial, best loss: 0.8610839679639536]"
     ]
    },
    {
     "name": "stderr",
     "output_type": "stream",
     "text": [
      "Score - 0.8649729643292062, Std - 0.02561783502589253, Eval Score - 0.8649729643292062\n",
      "Score across folds - [0.893231600962765, 0.8312095608840044, 0.8704777311408491].\n"
     ]
    },
    {
     "name": "stdout",
     "output_type": "stream",
     "text": [
      "\r",
      " 66%|█████████████████████████▋             | 145/220 [12:40<06:23,  5.12s/trial, best loss: 0.8610839679639536]"
     ]
    },
    {
     "name": "stderr",
     "output_type": "stream",
     "text": [
      "\n",
      "Iteration: 146, Training with params: {'boosting_type': 'gbdt', 'colsample_bytree': 0.8, 'learning_rate': 0.1, 'min_child_samples': 90, 'n_estimators': 10000, 'n_jobs': -1, 'num_leaves': 16, 'objective': 'regression', 'subsample': 1.0, 'subsample_freq': 10}\n"
     ]
    },
    {
     "name": "stdout",
     "output_type": "stream",
     "text": [
      "[100]\tvalid_0's rmse: 0.896201\tvalid_0's l2: 0.803176\tvalid_1's rmse: 0.802049\tvalid_1's l2: 0.643282           \n",
      "[200]\tvalid_0's rmse: 0.891947\tvalid_0's l2: 0.79557\tvalid_1's rmse: 0.751353\tvalid_1's l2: 0.564532            \n",
      "[100]\tvalid_0's rmse: 0.832942\tvalid_0's l2: 0.693792\tvalid_1's rmse: 0.803713\tvalid_1's l2: 0.645955           \n",
      "[200]\tvalid_0's rmse: 0.828739\tvalid_0's l2: 0.686809\tvalid_1's rmse: 0.75204\tvalid_1's l2: 0.565565            \n",
      "[300]\tvalid_0's rmse: 0.827675\tvalid_0's l2: 0.685047\tvalid_1's rmse: 0.714469\tvalid_1's l2: 0.510466           \n",
      "[100]\tvalid_0's rmse: 0.868688\tvalid_0's l2: 0.754618\tvalid_1's rmse: 0.798485\tvalid_1's l2: 0.637578           \n",
      "[200]\tvalid_0's rmse: 0.866917\tvalid_0's l2: 0.751545\tvalid_1's rmse: 0.746432\tvalid_1's l2: 0.557161           \n",
      "[300]\tvalid_0's rmse: 0.866916\tvalid_0's l2: 0.751543\tvalid_1's rmse: 0.707903\tvalid_1's l2: 0.501127           \n",
      " 66%|█████████████████████████▋             | 145/220 [12:45<06:23,  5.12s/trial, best loss: 0.8610839679639536]"
     ]
    },
    {
     "name": "stderr",
     "output_type": "stream",
     "text": [
      "Score - 0.8610839679639536, Std - 0.026740229842720033, Eval Score - 0.8610839679639536\n",
      "Score across folds - [0.8919421973540256, 0.8267237387416502, 0.864585967796185].\n"
     ]
    },
    {
     "name": "stdout",
     "output_type": "stream",
     "text": [
      "\r",
      " 66%|█████████████████████████▉             | 146/220 [12:46<06:25,  5.21s/trial, best loss: 0.8610839679639536]"
     ]
    },
    {
     "name": "stderr",
     "output_type": "stream",
     "text": [
      "\n",
      "Iteration: 147, Training with params: {'boosting_type': 'gbdt', 'colsample_bytree': 0.8, 'learning_rate': 0.1, 'min_child_samples': 100, 'n_estimators': 10000, 'n_jobs': -1, 'num_leaves': 16, 'objective': 'regression', 'subsample': 1.0, 'subsample_freq': 10}\n"
     ]
    },
    {
     "name": "stdout",
     "output_type": "stream",
     "text": [
      "[100]\tvalid_0's rmse: 0.896721\tvalid_0's l2: 0.804109\tvalid_1's rmse: 0.802478\tvalid_1's l2: 0.643971           \n",
      "[200]\tvalid_0's rmse: 0.8955\tvalid_0's l2: 0.80192\tvalid_1's rmse: 0.75104\tvalid_1's l2: 0.564062               \n",
      "[100]\tvalid_0's rmse: 0.833125\tvalid_0's l2: 0.694097\tvalid_1's rmse: 0.803464\tvalid_1's l2: 0.645554           \n",
      "[200]\tvalid_0's rmse: 0.829991\tvalid_0's l2: 0.688885\tvalid_1's rmse: 0.752159\tvalid_1's l2: 0.565743           \n",
      "[300]\tvalid_0's rmse: 0.828085\tvalid_0's l2: 0.685725\tvalid_1's rmse: 0.712953\tvalid_1's l2: 0.508302           \n",
      "[400]\tvalid_0's rmse: 0.827643\tvalid_0's l2: 0.684993\tvalid_1's rmse: 0.680845\tvalid_1's l2: 0.46355            \n",
      "[100]\tvalid_0's rmse: 0.871166\tvalid_0's l2: 0.75893\tvalid_1's rmse: 0.799971\tvalid_1's l2: 0.639953            \n",
      "[200]\tvalid_0's rmse: 0.868183\tvalid_0's l2: 0.753741\tvalid_1's rmse: 0.748\tvalid_1's l2: 0.559504              \n",
      "[300]\tvalid_0's rmse: 0.869814\tvalid_0's l2: 0.756576\tvalid_1's rmse: 0.70984\tvalid_1's l2: 0.503873            \n",
      " 66%|█████████████████████████▉             | 146/220 [12:51<06:25,  5.21s/trial, best loss: 0.8610839679639536]"
     ]
    },
    {
     "name": "stderr",
     "output_type": "stream",
     "text": [
      "Score - 0.862737934190379, Std - 0.027649661554100913, Eval Score - 0.862737934190379\n",
      "Score across folds - [0.8940035919298196, 0.8267679555529404, 0.8674422550883774].\n"
     ]
    },
    {
     "name": "stdout",
     "output_type": "stream",
     "text": [
      "\r",
      " 67%|██████████████████████████             | 147/220 [12:51<06:25,  5.28s/trial, best loss: 0.8610839679639536]"
     ]
    },
    {
     "name": "stderr",
     "output_type": "stream",
     "text": [
      "\n",
      "Iteration: 148, Training with params: {'boosting_type': 'gbdt', 'colsample_bytree': 0.8, 'learning_rate': 0.1, 'min_child_samples': 100, 'n_estimators': 10000, 'n_jobs': -1, 'num_leaves': 16, 'objective': 'regression', 'subsample': 1.0, 'subsample_freq': 10}\n"
     ]
    },
    {
     "name": "stdout",
     "output_type": "stream",
     "text": [
      "[100]\tvalid_0's rmse: 0.896721\tvalid_0's l2: 0.804109\tvalid_1's rmse: 0.802478\tvalid_1's l2: 0.643971           \n",
      "[200]\tvalid_0's rmse: 0.8955\tvalid_0's l2: 0.80192\tvalid_1's rmse: 0.75104\tvalid_1's l2: 0.564062               \n",
      "[100]\tvalid_0's rmse: 0.833125\tvalid_0's l2: 0.694097\tvalid_1's rmse: 0.803464\tvalid_1's l2: 0.645554           \n",
      "[200]\tvalid_0's rmse: 0.829991\tvalid_0's l2: 0.688885\tvalid_1's rmse: 0.752159\tvalid_1's l2: 0.565743           \n",
      "[300]\tvalid_0's rmse: 0.828085\tvalid_0's l2: 0.685725\tvalid_1's rmse: 0.712953\tvalid_1's l2: 0.508302           \n",
      "[400]\tvalid_0's rmse: 0.827643\tvalid_0's l2: 0.684993\tvalid_1's rmse: 0.680845\tvalid_1's l2: 0.46355            \n",
      "[100]\tvalid_0's rmse: 0.871166\tvalid_0's l2: 0.75893\tvalid_1's rmse: 0.799971\tvalid_1's l2: 0.639953            \n",
      "[200]\tvalid_0's rmse: 0.868183\tvalid_0's l2: 0.753741\tvalid_1's rmse: 0.748\tvalid_1's l2: 0.559504              \n",
      "[300]\tvalid_0's rmse: 0.869814\tvalid_0's l2: 0.756576\tvalid_1's rmse: 0.70984\tvalid_1's l2: 0.503873            \n",
      " 67%|██████████████████████████             | 147/220 [12:56<06:25,  5.28s/trial, best loss: 0.8610839679639536]"
     ]
    },
    {
     "name": "stderr",
     "output_type": "stream",
     "text": [
      "Score - 0.862737934190379, Std - 0.027649661554100913, Eval Score - 0.862737934190379\n",
      "Score across folds - [0.8940035919298196, 0.8267679555529404, 0.8674422550883774].\n"
     ]
    },
    {
     "name": "stdout",
     "output_type": "stream",
     "text": [
      "\r",
      " 67%|██████████████████████████▏            | 148/220 [12:56<06:22,  5.32s/trial, best loss: 0.8610839679639536]"
     ]
    },
    {
     "name": "stderr",
     "output_type": "stream",
     "text": [
      "\n",
      "Iteration: 149, Training with params: {'boosting_type': 'gbdt', 'colsample_bytree': 0.8, 'learning_rate': 0.1, 'min_child_samples': 80, 'n_estimators': 10000, 'n_jobs': -1, 'num_leaves': 16, 'objective': 'regression', 'subsample': 1.0, 'subsample_freq': 5}\n"
     ]
    },
    {
     "name": "stdout",
     "output_type": "stream",
     "text": [
      "[100]\tvalid_0's rmse: 0.894227\tvalid_0's l2: 0.799642\tvalid_1's rmse: 0.801588\tvalid_1's l2: 0.642544           \n",
      "[200]\tvalid_0's rmse: 0.89374\tvalid_0's l2: 0.798771\tvalid_1's rmse: 0.749187\tvalid_1's l2: 0.561281            \n",
      "[100]\tvalid_0's rmse: 0.837264\tvalid_0's l2: 0.701011\tvalid_1's rmse: 0.804374\tvalid_1's l2: 0.647018           \n",
      "[200]\tvalid_0's rmse: 0.832608\tvalid_0's l2: 0.693236\tvalid_1's rmse: 0.751794\tvalid_1's l2: 0.565194           \n",
      "[300]\tvalid_0's rmse: 0.83294\tvalid_0's l2: 0.693789\tvalid_1's rmse: 0.7139\tvalid_1's l2: 0.509654              \n",
      "[100]\tvalid_0's rmse: 0.873458\tvalid_0's l2: 0.76293\tvalid_1's rmse: 0.799375\tvalid_1's l2: 0.639001            \n",
      "[200]\tvalid_0's rmse: 0.871956\tvalid_0's l2: 0.760307\tvalid_1's rmse: 0.747234\tvalid_1's l2: 0.558358           \n",
      " 67%|██████████████████████████▏            | 148/220 [13:01<06:22,  5.32s/trial, best loss: 0.8610839679639536]"
     ]
    },
    {
     "name": "stderr",
     "output_type": "stream",
     "text": [
      "Score - 0.8649729643292062, Std - 0.02561783502589253, Eval Score - 0.8649729643292062\n",
      "Score across folds - [0.893231600962765, 0.8312095608840044, 0.8704777311408491].\n"
     ]
    },
    {
     "name": "stdout",
     "output_type": "stream",
     "text": [
      "\r",
      " 68%|██████████████████████████▍            | 149/220 [13:01<06:05,  5.15s/trial, best loss: 0.8610839679639536]"
     ]
    },
    {
     "name": "stderr",
     "output_type": "stream",
     "text": [
      "\n",
      "Iteration: 150, Training with params: {'boosting_type': 'gbdt', 'colsample_bytree': 0.8, 'learning_rate': 0.1, 'min_child_samples': 90, 'n_estimators': 10000, 'n_jobs': -1, 'num_leaves': 16, 'objective': 'regression', 'subsample': 1.0, 'subsample_freq': 10}\n"
     ]
    },
    {
     "name": "stdout",
     "output_type": "stream",
     "text": [
      "[100]\tvalid_0's rmse: 0.896201\tvalid_0's l2: 0.803176\tvalid_1's rmse: 0.802049\tvalid_1's l2: 0.643282           \n",
      "[200]\tvalid_0's rmse: 0.891947\tvalid_0's l2: 0.79557\tvalid_1's rmse: 0.751353\tvalid_1's l2: 0.564532            \n",
      "[100]\tvalid_0's rmse: 0.832942\tvalid_0's l2: 0.693792\tvalid_1's rmse: 0.803713\tvalid_1's l2: 0.645955           \n",
      "[200]\tvalid_0's rmse: 0.828739\tvalid_0's l2: 0.686809\tvalid_1's rmse: 0.75204\tvalid_1's l2: 0.565565            \n",
      "[300]\tvalid_0's rmse: 0.827675\tvalid_0's l2: 0.685047\tvalid_1's rmse: 0.714469\tvalid_1's l2: 0.510466           \n",
      "[100]\tvalid_0's rmse: 0.868688\tvalid_0's l2: 0.754618\tvalid_1's rmse: 0.798485\tvalid_1's l2: 0.637578           \n",
      "[200]\tvalid_0's rmse: 0.866917\tvalid_0's l2: 0.751545\tvalid_1's rmse: 0.746432\tvalid_1's l2: 0.557161           \n",
      "[300]\tvalid_0's rmse: 0.866916\tvalid_0's l2: 0.751543\tvalid_1's rmse: 0.707903\tvalid_1's l2: 0.501127           \n",
      " 68%|██████████████████████████▍            | 149/220 [13:06<06:05,  5.15s/trial, best loss: 0.8610839679639536]"
     ]
    },
    {
     "name": "stderr",
     "output_type": "stream",
     "text": [
      "Score - 0.8610839679639536, Std - 0.026740229842720033, Eval Score - 0.8610839679639536\n",
      "Score across folds - [0.8919421973540256, 0.8267237387416502, 0.864585967796185].\n"
     ]
    },
    {
     "name": "stdout",
     "output_type": "stream",
     "text": [
      "\r",
      " 68%|██████████████████████████▌            | 150/220 [13:07<06:10,  5.29s/trial, best loss: 0.8610839679639536]"
     ]
    },
    {
     "name": "stderr",
     "output_type": "stream",
     "text": [
      "\n",
      "Iteration: 151, Training with params: {'boosting_type': 'gbdt', 'colsample_bytree': 0.8, 'learning_rate': 0.1, 'min_child_samples': 80, 'n_estimators': 10000, 'n_jobs': -1, 'num_leaves': 16, 'objective': 'regression', 'subsample': 1.0, 'subsample_freq': 10}\n"
     ]
    },
    {
     "name": "stdout",
     "output_type": "stream",
     "text": [
      "[100]\tvalid_0's rmse: 0.894227\tvalid_0's l2: 0.799642\tvalid_1's rmse: 0.801588\tvalid_1's l2: 0.642544           \n",
      "[200]\tvalid_0's rmse: 0.89374\tvalid_0's l2: 0.798771\tvalid_1's rmse: 0.749187\tvalid_1's l2: 0.561281            \n",
      "[100]\tvalid_0's rmse: 0.837264\tvalid_0's l2: 0.701011\tvalid_1's rmse: 0.804374\tvalid_1's l2: 0.647018           \n",
      "[200]\tvalid_0's rmse: 0.832608\tvalid_0's l2: 0.693236\tvalid_1's rmse: 0.751794\tvalid_1's l2: 0.565194           \n",
      "[300]\tvalid_0's rmse: 0.83294\tvalid_0's l2: 0.693789\tvalid_1's rmse: 0.7139\tvalid_1's l2: 0.509654              \n",
      "[100]\tvalid_0's rmse: 0.873458\tvalid_0's l2: 0.76293\tvalid_1's rmse: 0.799375\tvalid_1's l2: 0.639001            \n",
      "[200]\tvalid_0's rmse: 0.871956\tvalid_0's l2: 0.760307\tvalid_1's rmse: 0.747234\tvalid_1's l2: 0.558358           \n",
      " 68%|██████████████████████████▌            | 150/220 [13:11<06:10,  5.29s/trial, best loss: 0.8610839679639536]"
     ]
    },
    {
     "name": "stderr",
     "output_type": "stream",
     "text": [
      "Score - 0.8649729643292062, Std - 0.02561783502589253, Eval Score - 0.8649729643292062\n",
      "Score across folds - [0.893231600962765, 0.8312095608840044, 0.8704777311408491].\n"
     ]
    },
    {
     "name": "stdout",
     "output_type": "stream",
     "text": [
      "\r",
      " 69%|██████████████████████████▊            | 151/220 [13:12<05:54,  5.14s/trial, best loss: 0.8610839679639536]"
     ]
    },
    {
     "name": "stderr",
     "output_type": "stream",
     "text": [
      "\n",
      "Iteration: 152, Training with params: {'boosting_type': 'gbdt', 'colsample_bytree': 0.8, 'learning_rate': 0.1, 'min_child_samples': 110, 'n_estimators': 10000, 'n_jobs': -1, 'num_leaves': 16, 'objective': 'regression', 'subsample': 1.0, 'subsample_freq': 10}\n"
     ]
    },
    {
     "name": "stdout",
     "output_type": "stream",
     "text": [
      "[100]\tvalid_0's rmse: 0.895397\tvalid_0's l2: 0.801736\tvalid_1's rmse: 0.803209\tvalid_1's l2: 0.645145           \n",
      "[200]\tvalid_0's rmse: 0.894279\tvalid_0's l2: 0.799735\tvalid_1's rmse: 0.751945\tvalid_1's l2: 0.565422           \n",
      "[100]\tvalid_0's rmse: 0.834536\tvalid_0's l2: 0.696451\tvalid_1's rmse: 0.805285\tvalid_1's l2: 0.648484           \n",
      "[200]\tvalid_0's rmse: 0.830165\tvalid_0's l2: 0.689173\tvalid_1's rmse: 0.753204\tvalid_1's l2: 0.567317           \n",
      "[300]\tvalid_0's rmse: 0.830981\tvalid_0's l2: 0.690529\tvalid_1's rmse: 0.716161\tvalid_1's l2: 0.512887           \n",
      "[100]\tvalid_0's rmse: 0.87215\tvalid_0's l2: 0.760646\tvalid_1's rmse: 0.800634\tvalid_1's l2: 0.641014            \n",
      "[200]\tvalid_0's rmse: 0.868144\tvalid_0's l2: 0.753674\tvalid_1's rmse: 0.750102\tvalid_1's l2: 0.562653           \n",
      " 69%|██████████████████████████▊            | 151/220 [13:16<05:54,  5.14s/trial, best loss: 0.8610839679639536]"
     ]
    },
    {
     "name": "stderr",
     "output_type": "stream",
     "text": [
      "Score - 0.8634484965614889, Std - 0.026771936143266787, Eval Score - 0.8634484965614889\n",
      "Score across folds - [0.893981499224136, 0.8287936828077078, 0.8675703076526232].\n"
     ]
    },
    {
     "name": "stdout",
     "output_type": "stream",
     "text": [
      "\r",
      " 69%|██████████████████████████▉            | 152/220 [13:17<05:45,  5.09s/trial, best loss: 0.8610839679639536]"
     ]
    },
    {
     "name": "stderr",
     "output_type": "stream",
     "text": [
      "\n",
      "Iteration: 153, Training with params: {'boosting_type': 'gbdt', 'colsample_bytree': 0.8, 'learning_rate': 0.1, 'min_child_samples': 70, 'n_estimators': 10000, 'n_jobs': -1, 'num_leaves': 16, 'objective': 'regression', 'subsample': 1.0, 'subsample_freq': 5}\n"
     ]
    },
    {
     "name": "stdout",
     "output_type": "stream",
     "text": [
      "[100]\tvalid_0's rmse: 0.896818\tvalid_0's l2: 0.804283\tvalid_1's rmse: 0.801821\tvalid_1's l2: 0.642917           \n",
      "[200]\tvalid_0's rmse: 0.893664\tvalid_0's l2: 0.798635\tvalid_1's rmse: 0.748318\tvalid_1's l2: 0.55998            \n",
      "[300]\tvalid_0's rmse: 0.894264\tvalid_0's l2: 0.799709\tvalid_1's rmse: 0.709337\tvalid_1's l2: 0.503159           \n",
      "[100]\tvalid_0's rmse: 0.83923\tvalid_0's l2: 0.704308\tvalid_1's rmse: 0.803504\tvalid_1's l2: 0.645619            \n",
      "[200]\tvalid_0's rmse: 0.834989\tvalid_0's l2: 0.697206\tvalid_1's rmse: 0.749971\tvalid_1's l2: 0.562456           \n",
      "[100]\tvalid_0's rmse: 0.870994\tvalid_0's l2: 0.758631\tvalid_1's rmse: 0.800517\tvalid_1's l2: 0.640827           \n",
      "[200]\tvalid_0's rmse: 0.86929\tvalid_0's l2: 0.755666\tvalid_1's rmse: 0.746129\tvalid_1's l2: 0.556709            \n",
      "[300]\tvalid_0's rmse: 0.868918\tvalid_0's l2: 0.755018\tvalid_1's rmse: 0.706873\tvalid_1's l2: 0.49967            \n",
      " 69%|██████████████████████████▉            | 152/220 [13:21<05:45,  5.09s/trial, best loss: 0.8610839679639536]"
     ]
    },
    {
     "name": "stderr",
     "output_type": "stream",
     "text": [
      "Score - 0.864716430692372, Std - 0.02404798580062903, Eval Score - 0.864716430692372\n",
      "Score across folds - [0.8924806056433109, 0.833824893679333, 0.8678437927544723].\n"
     ]
    },
    {
     "name": "stdout",
     "output_type": "stream",
     "text": [
      "\r",
      " 70%|███████████████████████████            | 153/220 [13:22<05:44,  5.14s/trial, best loss: 0.8610839679639536]"
     ]
    },
    {
     "name": "stderr",
     "output_type": "stream",
     "text": [
      "\n",
      "Iteration: 154, Training with params: {'boosting_type': 'gbdt', 'colsample_bytree': 0.8, 'learning_rate': 0.1, 'min_child_samples': 100, 'n_estimators': 10000, 'n_jobs': -1, 'num_leaves': 16, 'objective': 'regression', 'subsample': 1.0, 'subsample_freq': 5}\n"
     ]
    },
    {
     "name": "stdout",
     "output_type": "stream",
     "text": [
      "[100]\tvalid_0's rmse: 0.896721\tvalid_0's l2: 0.804109\tvalid_1's rmse: 0.802478\tvalid_1's l2: 0.643971           \n",
      "[200]\tvalid_0's rmse: 0.8955\tvalid_0's l2: 0.80192\tvalid_1's rmse: 0.75104\tvalid_1's l2: 0.564062               \n",
      "[100]\tvalid_0's rmse: 0.833125\tvalid_0's l2: 0.694097\tvalid_1's rmse: 0.803464\tvalid_1's l2: 0.645554           \n",
      "[200]\tvalid_0's rmse: 0.829991\tvalid_0's l2: 0.688885\tvalid_1's rmse: 0.752159\tvalid_1's l2: 0.565743           \n",
      "[300]\tvalid_0's rmse: 0.828085\tvalid_0's l2: 0.685725\tvalid_1's rmse: 0.712953\tvalid_1's l2: 0.508302           \n",
      "[400]\tvalid_0's rmse: 0.827643\tvalid_0's l2: 0.684993\tvalid_1's rmse: 0.680845\tvalid_1's l2: 0.46355            \n",
      "[100]\tvalid_0's rmse: 0.871166\tvalid_0's l2: 0.75893\tvalid_1's rmse: 0.799971\tvalid_1's l2: 0.639953            \n",
      "[200]\tvalid_0's rmse: 0.868183\tvalid_0's l2: 0.753741\tvalid_1's rmse: 0.748\tvalid_1's l2: 0.559504              \n",
      "[300]\tvalid_0's rmse: 0.869814\tvalid_0's l2: 0.756576\tvalid_1's rmse: 0.70984\tvalid_1's l2: 0.503873            \n",
      " 70%|███████████████████████████            | 153/220 [13:27<05:44,  5.14s/trial, best loss: 0.8610839679639536]"
     ]
    },
    {
     "name": "stderr",
     "output_type": "stream",
     "text": [
      "Score - 0.862737934190379, Std - 0.027649661554100913, Eval Score - 0.862737934190379\n",
      "Score across folds - [0.8940035919298196, 0.8267679555529404, 0.8674422550883774].\n"
     ]
    },
    {
     "name": "stdout",
     "output_type": "stream",
     "text": [
      "\r",
      " 70%|███████████████████████████▎           | 154/220 [13:28<05:51,  5.33s/trial, best loss: 0.8610839679639536]"
     ]
    },
    {
     "name": "stderr",
     "output_type": "stream",
     "text": [
      "\n",
      "Iteration: 155, Training with params: {'boosting_type': 'gbdt', 'colsample_bytree': 0.8, 'learning_rate': 0.1, 'min_child_samples': 90, 'n_estimators': 10000, 'n_jobs': -1, 'num_leaves': 16, 'objective': 'regression', 'subsample': 1.0, 'subsample_freq': 10}\n"
     ]
    },
    {
     "name": "stdout",
     "output_type": "stream",
     "text": [
      "[100]\tvalid_0's rmse: 0.896201\tvalid_0's l2: 0.803176\tvalid_1's rmse: 0.802049\tvalid_1's l2: 0.643282           \n",
      "[200]\tvalid_0's rmse: 0.891947\tvalid_0's l2: 0.79557\tvalid_1's rmse: 0.751353\tvalid_1's l2: 0.564532            \n",
      "[100]\tvalid_0's rmse: 0.832942\tvalid_0's l2: 0.693792\tvalid_1's rmse: 0.803713\tvalid_1's l2: 0.645955           \n",
      "[200]\tvalid_0's rmse: 0.828739\tvalid_0's l2: 0.686809\tvalid_1's rmse: 0.75204\tvalid_1's l2: 0.565565            \n",
      "[300]\tvalid_0's rmse: 0.827675\tvalid_0's l2: 0.685047\tvalid_1's rmse: 0.714469\tvalid_1's l2: 0.510466           \n",
      "[100]\tvalid_0's rmse: 0.868688\tvalid_0's l2: 0.754618\tvalid_1's rmse: 0.798485\tvalid_1's l2: 0.637578           \n",
      "[200]\tvalid_0's rmse: 0.866917\tvalid_0's l2: 0.751545\tvalid_1's rmse: 0.746432\tvalid_1's l2: 0.557161           \n",
      "[300]\tvalid_0's rmse: 0.866916\tvalid_0's l2: 0.751543\tvalid_1's rmse: 0.707903\tvalid_1's l2: 0.501127           \n",
      " 70%|███████████████████████████▎           | 154/220 [13:33<05:51,  5.33s/trial, best loss: 0.8610839679639536]"
     ]
    },
    {
     "name": "stderr",
     "output_type": "stream",
     "text": [
      "Score - 0.8610839679639536, Std - 0.026740229842720033, Eval Score - 0.8610839679639536\n",
      "Score across folds - [0.8919421973540256, 0.8267237387416502, 0.864585967796185].\n"
     ]
    },
    {
     "name": "stdout",
     "output_type": "stream",
     "text": [
      "\r",
      " 70%|███████████████████████████▍           | 155/220 [13:33<05:48,  5.37s/trial, best loss: 0.8610839679639536]"
     ]
    },
    {
     "name": "stderr",
     "output_type": "stream",
     "text": [
      "\n",
      "Iteration: 156, Training with params: {'boosting_type': 'gbdt', 'colsample_bytree': 0.8, 'learning_rate': 0.1, 'min_child_samples': 110, 'n_estimators': 10000, 'n_jobs': -1, 'num_leaves': 16, 'objective': 'regression', 'subsample': 1.0, 'subsample_freq': 10}\n"
     ]
    },
    {
     "name": "stdout",
     "output_type": "stream",
     "text": [
      "[100]\tvalid_0's rmse: 0.895397\tvalid_0's l2: 0.801736\tvalid_1's rmse: 0.803209\tvalid_1's l2: 0.645145           \n",
      "[200]\tvalid_0's rmse: 0.894279\tvalid_0's l2: 0.799735\tvalid_1's rmse: 0.751945\tvalid_1's l2: 0.565422           \n",
      "[100]\tvalid_0's rmse: 0.834536\tvalid_0's l2: 0.696451\tvalid_1's rmse: 0.805285\tvalid_1's l2: 0.648484           \n",
      "[200]\tvalid_0's rmse: 0.830165\tvalid_0's l2: 0.689173\tvalid_1's rmse: 0.753204\tvalid_1's l2: 0.567317           \n",
      "[300]\tvalid_0's rmse: 0.830981\tvalid_0's l2: 0.690529\tvalid_1's rmse: 0.716161\tvalid_1's l2: 0.512887           \n",
      "[100]\tvalid_0's rmse: 0.87215\tvalid_0's l2: 0.760646\tvalid_1's rmse: 0.800634\tvalid_1's l2: 0.641014            \n",
      "[200]\tvalid_0's rmse: 0.868144\tvalid_0's l2: 0.753674\tvalid_1's rmse: 0.750102\tvalid_1's l2: 0.562653           \n",
      " 70%|███████████████████████████▍           | 155/220 [13:38<05:48,  5.37s/trial, best loss: 0.8610839679639536]"
     ]
    },
    {
     "name": "stderr",
     "output_type": "stream",
     "text": [
      "Score - 0.8634484965614889, Std - 0.026771936143266787, Eval Score - 0.8634484965614889\n",
      "Score across folds - [0.893981499224136, 0.8287936828077078, 0.8675703076526232].\n"
     ]
    },
    {
     "name": "stdout",
     "output_type": "stream",
     "text": [
      "\r",
      " 71%|███████████████████████████▋           | 156/220 [13:38<05:42,  5.35s/trial, best loss: 0.8610839679639536]"
     ]
    },
    {
     "name": "stderr",
     "output_type": "stream",
     "text": [
      "\n",
      "Iteration: 157, Training with params: {'boosting_type': 'gbdt', 'colsample_bytree': 0.8, 'learning_rate': 0.1, 'min_child_samples': 90, 'n_estimators': 10000, 'n_jobs': -1, 'num_leaves': 16, 'objective': 'regression', 'subsample': 1.0, 'subsample_freq': 10}\n"
     ]
    },
    {
     "name": "stdout",
     "output_type": "stream",
     "text": [
      "[100]\tvalid_0's rmse: 0.896201\tvalid_0's l2: 0.803176\tvalid_1's rmse: 0.802049\tvalid_1's l2: 0.643282           \n",
      "[200]\tvalid_0's rmse: 0.891947\tvalid_0's l2: 0.79557\tvalid_1's rmse: 0.751353\tvalid_1's l2: 0.564532            \n",
      "[100]\tvalid_0's rmse: 0.832942\tvalid_0's l2: 0.693792\tvalid_1's rmse: 0.803713\tvalid_1's l2: 0.645955           \n",
      "[200]\tvalid_0's rmse: 0.828739\tvalid_0's l2: 0.686809\tvalid_1's rmse: 0.75204\tvalid_1's l2: 0.565565            \n",
      "[300]\tvalid_0's rmse: 0.827675\tvalid_0's l2: 0.685047\tvalid_1's rmse: 0.714469\tvalid_1's l2: 0.510466           \n",
      "[100]\tvalid_0's rmse: 0.868688\tvalid_0's l2: 0.754618\tvalid_1's rmse: 0.798485\tvalid_1's l2: 0.637578           \n",
      "[200]\tvalid_0's rmse: 0.866917\tvalid_0's l2: 0.751545\tvalid_1's rmse: 0.746432\tvalid_1's l2: 0.557161           \n",
      "[300]\tvalid_0's rmse: 0.866916\tvalid_0's l2: 0.751543\tvalid_1's rmse: 0.707903\tvalid_1's l2: 0.501127           \n",
      " 71%|███████████████████████████▋           | 156/220 [13:43<05:42,  5.35s/trial, best loss: 0.8610839679639536]"
     ]
    },
    {
     "name": "stderr",
     "output_type": "stream",
     "text": [
      "Score - 0.8610839679639536, Std - 0.026740229842720033, Eval Score - 0.8610839679639536\n",
      "Score across folds - [0.8919421973540256, 0.8267237387416502, 0.864585967796185].\n"
     ]
    },
    {
     "name": "stdout",
     "output_type": "stream",
     "text": [
      "\r",
      " 71%|███████████████████████████▊           | 157/220 [13:44<05:37,  5.36s/trial, best loss: 0.8610839679639536]"
     ]
    },
    {
     "name": "stderr",
     "output_type": "stream",
     "text": [
      "\n",
      "Iteration: 158, Training with params: {'boosting_type': 'gbdt', 'colsample_bytree': 0.8, 'learning_rate': 0.1, 'min_child_samples': 90, 'n_estimators': 10000, 'n_jobs': -1, 'num_leaves': 16, 'objective': 'regression', 'subsample': 1.0, 'subsample_freq': 10}\n"
     ]
    },
    {
     "name": "stdout",
     "output_type": "stream",
     "text": [
      "[100]\tvalid_0's rmse: 0.896201\tvalid_0's l2: 0.803176\tvalid_1's rmse: 0.802049\tvalid_1's l2: 0.643282           \n",
      "[200]\tvalid_0's rmse: 0.891947\tvalid_0's l2: 0.79557\tvalid_1's rmse: 0.751353\tvalid_1's l2: 0.564532            \n",
      "[100]\tvalid_0's rmse: 0.832942\tvalid_0's l2: 0.693792\tvalid_1's rmse: 0.803713\tvalid_1's l2: 0.645955           \n",
      "[200]\tvalid_0's rmse: 0.828739\tvalid_0's l2: 0.686809\tvalid_1's rmse: 0.75204\tvalid_1's l2: 0.565565            \n",
      "[300]\tvalid_0's rmse: 0.827675\tvalid_0's l2: 0.685047\tvalid_1's rmse: 0.714469\tvalid_1's l2: 0.510466           \n",
      "[100]\tvalid_0's rmse: 0.868688\tvalid_0's l2: 0.754618\tvalid_1's rmse: 0.798485\tvalid_1's l2: 0.637578           \n",
      "[200]\tvalid_0's rmse: 0.866917\tvalid_0's l2: 0.751545\tvalid_1's rmse: 0.746432\tvalid_1's l2: 0.557161           \n",
      "[300]\tvalid_0's rmse: 0.866916\tvalid_0's l2: 0.751543\tvalid_1's rmse: 0.707903\tvalid_1's l2: 0.501127           \n",
      " 71%|███████████████████████████▊           | 157/220 [13:49<05:37,  5.36s/trial, best loss: 0.8610839679639536]"
     ]
    },
    {
     "name": "stderr",
     "output_type": "stream",
     "text": [
      "Score - 0.8610839679639536, Std - 0.026740229842720033, Eval Score - 0.8610839679639536\n",
      "Score across folds - [0.8919421973540256, 0.8267237387416502, 0.864585967796185].\n"
     ]
    },
    {
     "name": "stdout",
     "output_type": "stream",
     "text": [
      "\r",
      " 72%|████████████████████████████           | 158/220 [13:49<05:38,  5.46s/trial, best loss: 0.8610839679639536]"
     ]
    },
    {
     "name": "stderr",
     "output_type": "stream",
     "text": [
      "\n",
      "Iteration: 159, Training with params: {'boosting_type': 'gbdt', 'colsample_bytree': 1.0, 'learning_rate': 0.1, 'min_child_samples': 80, 'n_estimators': 10000, 'n_jobs': -1, 'num_leaves': 16, 'objective': 'regression', 'subsample': 1.0, 'subsample_freq': 10}\n"
     ]
    },
    {
     "name": "stdout",
     "output_type": "stream",
     "text": [
      "[100]\tvalid_0's rmse: 0.895653\tvalid_0's l2: 0.802195\tvalid_1's rmse: 0.800885\tvalid_1's l2: 0.641417           \n",
      "[200]\tvalid_0's rmse: 0.893422\tvalid_0's l2: 0.798202\tvalid_1's rmse: 0.746578\tvalid_1's l2: 0.557379           \n",
      "[300]\tvalid_0's rmse: 0.8937\tvalid_0's l2: 0.798699\tvalid_1's rmse: 0.707823\tvalid_1's l2: 0.501013             \n",
      "[100]\tvalid_0's rmse: 0.832351\tvalid_0's l2: 0.692809\tvalid_1's rmse: 0.802383\tvalid_1's l2: 0.643819           \n",
      "[200]\tvalid_0's rmse: 0.829683\tvalid_0's l2: 0.688374\tvalid_1's rmse: 0.750186\tvalid_1's l2: 0.56278            \n",
      "[300]\tvalid_0's rmse: 0.830193\tvalid_0's l2: 0.68922\tvalid_1's rmse: 0.711139\tvalid_1's l2: 0.505719            \n",
      "[100]\tvalid_0's rmse: 0.869003\tvalid_0's l2: 0.755167\tvalid_1's rmse: 0.797982\tvalid_1's l2: 0.636776           \n",
      "[200]\tvalid_0's rmse: 0.868952\tvalid_0's l2: 0.755078\tvalid_1's rmse: 0.746288\tvalid_1's l2: 0.556946           \n",
      " 72%|████████████████████████████           | 158/220 [13:55<05:38,  5.46s/trial, best loss: 0.8610839679639536]"
     ]
    },
    {
     "name": "stderr",
     "output_type": "stream",
     "text": [
      "Score - 0.8626724748669438, Std - 0.026331635892870412, Eval Score - 0.8626724748669438\n",
      "Score across folds - [0.8920957937171593, 0.828193827707966, 0.8677278031757057].\n"
     ]
    },
    {
     "name": "stdout",
     "output_type": "stream",
     "text": [
      "\r",
      " 72%|████████████████████████████▏          | 159/220 [13:55<05:35,  5.50s/trial, best loss: 0.8610839679639536]"
     ]
    },
    {
     "name": "stderr",
     "output_type": "stream",
     "text": [
      "\n",
      "Iteration: 160, Training with params: {'boosting_type': 'gbdt', 'colsample_bytree': 0.8, 'learning_rate': 0.1, 'min_child_samples': 70, 'n_estimators': 10000, 'n_jobs': -1, 'num_leaves': 16, 'objective': 'regression', 'subsample': 1.0, 'subsample_freq': 10}\n"
     ]
    },
    {
     "name": "stdout",
     "output_type": "stream",
     "text": [
      "[100]\tvalid_0's rmse: 0.896818\tvalid_0's l2: 0.804283\tvalid_1's rmse: 0.801821\tvalid_1's l2: 0.642917           \n",
      "[200]\tvalid_0's rmse: 0.893664\tvalid_0's l2: 0.798635\tvalid_1's rmse: 0.748318\tvalid_1's l2: 0.55998            \n",
      "[300]\tvalid_0's rmse: 0.894264\tvalid_0's l2: 0.799709\tvalid_1's rmse: 0.709337\tvalid_1's l2: 0.503159           \n",
      "[100]\tvalid_0's rmse: 0.83923\tvalid_0's l2: 0.704308\tvalid_1's rmse: 0.803504\tvalid_1's l2: 0.645619            \n",
      "[200]\tvalid_0's rmse: 0.834989\tvalid_0's l2: 0.697206\tvalid_1's rmse: 0.749971\tvalid_1's l2: 0.562456           \n",
      "[100]\tvalid_0's rmse: 0.870994\tvalid_0's l2: 0.758631\tvalid_1's rmse: 0.800517\tvalid_1's l2: 0.640827           \n",
      "[200]\tvalid_0's rmse: 0.86929\tvalid_0's l2: 0.755666\tvalid_1's rmse: 0.746129\tvalid_1's l2: 0.556709            \n",
      "[300]\tvalid_0's rmse: 0.868918\tvalid_0's l2: 0.755018\tvalid_1's rmse: 0.706873\tvalid_1's l2: 0.49967            \n",
      " 72%|████████████████████████████▏          | 159/220 [14:00<05:35,  5.50s/trial, best loss: 0.8610839679639536]"
     ]
    },
    {
     "name": "stderr",
     "output_type": "stream",
     "text": [
      "Score - 0.864716430692372, Std - 0.02404798580062903, Eval Score - 0.864716430692372\n",
      "Score across folds - [0.8924806056433109, 0.833824893679333, 0.8678437927544723].\n"
     ]
    },
    {
     "name": "stdout",
     "output_type": "stream",
     "text": [
      "\r",
      " 73%|████████████████████████████▎          | 160/220 [14:00<05:25,  5.42s/trial, best loss: 0.8610839679639536]"
     ]
    },
    {
     "name": "stderr",
     "output_type": "stream",
     "text": [
      "\n",
      "Iteration: 161, Training with params: {'boosting_type': 'gbdt', 'colsample_bytree': 0.8, 'learning_rate': 0.1, 'min_child_samples': 100, 'n_estimators': 10000, 'n_jobs': -1, 'num_leaves': 16, 'objective': 'regression', 'subsample': 1.0, 'subsample_freq': 5}\n"
     ]
    },
    {
     "name": "stdout",
     "output_type": "stream",
     "text": [
      "[100]\tvalid_0's rmse: 0.896721\tvalid_0's l2: 0.804109\tvalid_1's rmse: 0.802478\tvalid_1's l2: 0.643971           \n",
      "[200]\tvalid_0's rmse: 0.8955\tvalid_0's l2: 0.80192\tvalid_1's rmse: 0.75104\tvalid_1's l2: 0.564062               \n",
      "[100]\tvalid_0's rmse: 0.833125\tvalid_0's l2: 0.694097\tvalid_1's rmse: 0.803464\tvalid_1's l2: 0.645554           \n",
      "[200]\tvalid_0's rmse: 0.829991\tvalid_0's l2: 0.688885\tvalid_1's rmse: 0.752159\tvalid_1's l2: 0.565743           \n",
      "[300]\tvalid_0's rmse: 0.828085\tvalid_0's l2: 0.685725\tvalid_1's rmse: 0.712953\tvalid_1's l2: 0.508302           \n",
      "[400]\tvalid_0's rmse: 0.827643\tvalid_0's l2: 0.684993\tvalid_1's rmse: 0.680845\tvalid_1's l2: 0.46355            \n",
      "[100]\tvalid_0's rmse: 0.871166\tvalid_0's l2: 0.75893\tvalid_1's rmse: 0.799971\tvalid_1's l2: 0.639953            \n",
      "[200]\tvalid_0's rmse: 0.868183\tvalid_0's l2: 0.753741\tvalid_1's rmse: 0.748\tvalid_1's l2: 0.559504              \n",
      "[300]\tvalid_0's rmse: 0.869814\tvalid_0's l2: 0.756576\tvalid_1's rmse: 0.70984\tvalid_1's l2: 0.503873            \n",
      " 73%|████████████████████████████▎          | 160/220 [14:05<05:25,  5.42s/trial, best loss: 0.8610839679639536]"
     ]
    },
    {
     "name": "stderr",
     "output_type": "stream",
     "text": [
      "Score - 0.862737934190379, Std - 0.027649661554100913, Eval Score - 0.862737934190379\n",
      "Score across folds - [0.8940035919298196, 0.8267679555529404, 0.8674422550883774].\n"
     ]
    },
    {
     "name": "stdout",
     "output_type": "stream",
     "text": [
      "\r",
      " 73%|████████████████████████████▌          | 161/220 [14:06<05:19,  5.41s/trial, best loss: 0.8610839679639536]"
     ]
    },
    {
     "name": "stderr",
     "output_type": "stream",
     "text": [
      "\n",
      "Iteration: 162, Training with params: {'boosting_type': 'gbdt', 'colsample_bytree': 1.0, 'learning_rate': 0.1, 'min_child_samples': 10, 'n_estimators': 10000, 'n_jobs': -1, 'num_leaves': 16, 'objective': 'regression', 'subsample': 1.0, 'subsample_freq': 5}\n"
     ]
    },
    {
     "name": "stdout",
     "output_type": "stream",
     "text": [
      "[100]\tvalid_0's rmse: 0.901442\tvalid_0's l2: 0.812598\tvalid_1's rmse: 0.797252\tvalid_1's l2: 0.635611           \n",
      "[200]\tvalid_0's rmse: 0.903459\tvalid_0's l2: 0.816237\tvalid_1's rmse: 0.737667\tvalid_1's l2: 0.544153           \n",
      "[100]\tvalid_0's rmse: 0.838\tvalid_0's l2: 0.702244\tvalid_1's rmse: 0.798862\tvalid_1's l2: 0.638181              \n",
      "[200]\tvalid_0's rmse: 0.834618\tvalid_0's l2: 0.696587\tvalid_1's rmse: 0.740419\tvalid_1's l2: 0.548221           \n",
      "[100]\tvalid_0's rmse: 0.870732\tvalid_0's l2: 0.758175\tvalid_1's rmse: 0.795365\tvalid_1's l2: 0.632606           \n",
      "[200]\tvalid_0's rmse: 0.870401\tvalid_0's l2: 0.757599\tvalid_1's rmse: 0.735611\tvalid_1's l2: 0.541123           \n",
      " 73%|████████████████████████████▌          | 161/220 [14:10<05:19,  5.41s/trial, best loss: 0.8610839679639536]"
     ]
    },
    {
     "name": "stderr",
     "output_type": "stream",
     "text": [
      "Score - 0.8677016181428857, Std - 0.02772552017652989, Eval Score - 0.8677016181428857\n",
      "Score across folds - [0.9007001909241605, 0.832861738812326, 0.869542924692171].\n"
     ]
    },
    {
     "name": "stdout",
     "output_type": "stream",
     "text": [
      "\r",
      " 74%|████████████████████████████▋          | 162/220 [14:10<05:04,  5.25s/trial, best loss: 0.8610839679639536]"
     ]
    },
    {
     "name": "stderr",
     "output_type": "stream",
     "text": [
      "\n",
      "Iteration: 163, Training with params: {'boosting_type': 'gbdt', 'colsample_bytree': 0.8, 'learning_rate': 0.1, 'min_child_samples': 60, 'n_estimators': 10000, 'n_jobs': -1, 'num_leaves': 16, 'objective': 'regression', 'subsample': 1.0, 'subsample_freq': 5}\n"
     ]
    },
    {
     "name": "stdout",
     "output_type": "stream",
     "text": [
      "[100]\tvalid_0's rmse: 0.894484\tvalid_0's l2: 0.800101\tvalid_1's rmse: 0.801224\tvalid_1's l2: 0.64196            \n",
      "[200]\tvalid_0's rmse: 0.892837\tvalid_0's l2: 0.797158\tvalid_1's rmse: 0.74758\tvalid_1's l2: 0.558877            \n",
      "[100]\tvalid_0's rmse: 0.835247\tvalid_0's l2: 0.697637\tvalid_1's rmse: 0.803035\tvalid_1's l2: 0.644865           \n",
      "[200]\tvalid_0's rmse: 0.831901\tvalid_0's l2: 0.69206\tvalid_1's rmse: 0.747939\tvalid_1's l2: 0.559413            \n",
      "[300]\tvalid_0's rmse: 0.831621\tvalid_0's l2: 0.691594\tvalid_1's rmse: 0.708045\tvalid_1's l2: 0.501327           \n",
      "[400]\tvalid_0's rmse: 0.832648\tvalid_0's l2: 0.693303\tvalid_1's rmse: 0.676081\tvalid_1's l2: 0.457086           \n",
      "[100]\tvalid_0's rmse: 0.874523\tvalid_0's l2: 0.764791\tvalid_1's rmse: 0.799487\tvalid_1's l2: 0.639179           \n",
      "[200]\tvalid_0's rmse: 0.870666\tvalid_0's l2: 0.758059\tvalid_1's rmse: 0.745749\tvalid_1's l2: 0.556142           \n",
      "[300]\tvalid_0's rmse: 0.86966\tvalid_0's l2: 0.756308\tvalid_1's rmse: 0.706951\tvalid_1's l2: 0.49978             \n",
      " 74%|████████████████████████████▋          | 162/220 [14:16<05:04,  5.25s/trial, best loss: 0.8610839679639536]"
     ]
    },
    {
     "name": "stderr",
     "output_type": "stream",
     "text": [
      "Score - 0.8643159407480111, Std - 0.0250831621799187, Eval Score - 0.8643159407480111\n",
      "Score across folds - [0.8922455794778613, 0.8314117708733353, 0.8692904718928366].\n"
     ]
    },
    {
     "name": "stdout",
     "output_type": "stream",
     "text": [
      "\r",
      " 74%|████████████████████████████▉          | 163/220 [14:16<05:04,  5.35s/trial, best loss: 0.8610839679639536]"
     ]
    },
    {
     "name": "stderr",
     "output_type": "stream",
     "text": [
      "\n",
      "Iteration: 164, Training with params: {'boosting_type': 'gbdt', 'colsample_bytree': 0.8, 'learning_rate': 0.1, 'min_child_samples': 110, 'n_estimators': 10000, 'n_jobs': -1, 'num_leaves': 16, 'objective': 'regression', 'subsample': 1.0, 'subsample_freq': 5}\n"
     ]
    },
    {
     "name": "stdout",
     "output_type": "stream",
     "text": [
      "[100]\tvalid_0's rmse: 0.895397\tvalid_0's l2: 0.801736\tvalid_1's rmse: 0.803209\tvalid_1's l2: 0.645145           \n",
      "[200]\tvalid_0's rmse: 0.894279\tvalid_0's l2: 0.799735\tvalid_1's rmse: 0.751945\tvalid_1's l2: 0.565422           \n",
      "[100]\tvalid_0's rmse: 0.834536\tvalid_0's l2: 0.696451\tvalid_1's rmse: 0.805285\tvalid_1's l2: 0.648484           \n",
      "[200]\tvalid_0's rmse: 0.830165\tvalid_0's l2: 0.689173\tvalid_1's rmse: 0.753204\tvalid_1's l2: 0.567317           \n",
      "[300]\tvalid_0's rmse: 0.830981\tvalid_0's l2: 0.690529\tvalid_1's rmse: 0.716161\tvalid_1's l2: 0.512887           \n",
      "[100]\tvalid_0's rmse: 0.87215\tvalid_0's l2: 0.760646\tvalid_1's rmse: 0.800634\tvalid_1's l2: 0.641014            \n",
      "[200]\tvalid_0's rmse: 0.868144\tvalid_0's l2: 0.753674\tvalid_1's rmse: 0.750102\tvalid_1's l2: 0.562653           \n",
      " 74%|████████████████████████████▉          | 163/220 [14:21<05:04,  5.35s/trial, best loss: 0.8610839679639536]"
     ]
    },
    {
     "name": "stderr",
     "output_type": "stream",
     "text": [
      "Score - 0.8634484965614889, Std - 0.026771936143266787, Eval Score - 0.8634484965614889\n",
      "Score across folds - [0.893981499224136, 0.8287936828077078, 0.8675703076526232].\n"
     ]
    },
    {
     "name": "stdout",
     "output_type": "stream",
     "text": [
      "\r",
      " 75%|█████████████████████████████          | 164/220 [14:21<04:50,  5.20s/trial, best loss: 0.8610839679639536]"
     ]
    },
    {
     "name": "stderr",
     "output_type": "stream",
     "text": [
      "\n",
      "Iteration: 165, Training with params: {'boosting_type': 'gbdt', 'colsample_bytree': 0.8, 'learning_rate': 0.1, 'min_child_samples': 120, 'n_estimators': 10000, 'n_jobs': -1, 'num_leaves': 16, 'objective': 'regression', 'subsample': 1.0, 'subsample_freq': 10}\n"
     ]
    },
    {
     "name": "stdout",
     "output_type": "stream",
     "text": [
      "[100]\tvalid_0's rmse: 0.897849\tvalid_0's l2: 0.806132\tvalid_1's rmse: 0.804184\tvalid_1's l2: 0.646713           \n",
      "[200]\tvalid_0's rmse: 0.89636\tvalid_0's l2: 0.803461\tvalid_1's rmse: 0.753\tvalid_1's l2: 0.56701                \n",
      "[100]\tvalid_0's rmse: 0.836639\tvalid_0's l2: 0.699964\tvalid_1's rmse: 0.805339\tvalid_1's l2: 0.648571           \n",
      "[200]\tvalid_0's rmse: 0.831914\tvalid_0's l2: 0.692081\tvalid_1's rmse: 0.755222\tvalid_1's l2: 0.57036            \n",
      "[300]\tvalid_0's rmse: 0.831841\tvalid_0's l2: 0.69196\tvalid_1's rmse: 0.718783\tvalid_1's l2: 0.516649            \n",
      "[400]\tvalid_0's rmse: 0.83167\tvalid_0's l2: 0.691675\tvalid_1's rmse: 0.687469\tvalid_1's l2: 0.472613            \n",
      "[500]\tvalid_0's rmse: 0.831737\tvalid_0's l2: 0.691786\tvalid_1's rmse: 0.659312\tvalid_1's l2: 0.434692           \n",
      "[100]\tvalid_0's rmse: 0.870603\tvalid_0's l2: 0.757949\tvalid_1's rmse: 0.800745\tvalid_1's l2: 0.641192           \n",
      "[200]\tvalid_0's rmse: 0.865175\tvalid_0's l2: 0.748527\tvalid_1's rmse: 0.749635\tvalid_1's l2: 0.561953           \n",
      " 75%|█████████████████████████████          | 164/220 [14:26<04:50,  5.20s/trial, best loss: 0.8610839679639536]"
     ]
    },
    {
     "name": "stderr",
     "output_type": "stream",
     "text": [
      "Score - 0.8637304987887656, Std - 0.026304483144328508, Eval Score - 0.8637304987887656\n",
      "Score across folds - [0.8952034904591317, 0.8308191129474372, 0.8651688929597278].\n"
     ]
    },
    {
     "name": "stdout",
     "output_type": "stream",
     "text": [
      "\r",
      " 75%|█████████████████████████████▎         | 165/220 [14:27<04:53,  5.34s/trial, best loss: 0.8610839679639536]"
     ]
    },
    {
     "name": "stderr",
     "output_type": "stream",
     "text": [
      "\n",
      "Iteration: 166, Training with params: {'boosting_type': 'gbdt', 'colsample_bytree': 1.0, 'learning_rate': 0.1, 'min_child_samples': 90, 'n_estimators': 10000, 'n_jobs': -1, 'num_leaves': 16, 'objective': 'regression', 'subsample': 1.0, 'subsample_freq': 5}\n"
     ]
    },
    {
     "name": "stdout",
     "output_type": "stream",
     "text": [
      "[100]\tvalid_0's rmse: 0.896267\tvalid_0's l2: 0.803295\tvalid_1's rmse: 0.800182\tvalid_1's l2: 0.640292           \n",
      "[200]\tvalid_0's rmse: 0.894218\tvalid_0's l2: 0.799626\tvalid_1's rmse: 0.747652\tvalid_1's l2: 0.558984           \n",
      "[100]\tvalid_0's rmse: 0.833999\tvalid_0's l2: 0.695555\tvalid_1's rmse: 0.802555\tvalid_1's l2: 0.644095           \n",
      "[200]\tvalid_0's rmse: 0.83171\tvalid_0's l2: 0.691741\tvalid_1's rmse: 0.750875\tvalid_1's l2: 0.563814            \n",
      "[300]\tvalid_0's rmse: 0.83222\tvalid_0's l2: 0.692591\tvalid_1's rmse: 0.712241\tvalid_1's l2: 0.507287            \n",
      "[100]\tvalid_0's rmse: 0.86978\tvalid_0's l2: 0.756517\tvalid_1's rmse: 0.798631\tvalid_1's l2: 0.637811            \n",
      "[200]\tvalid_0's rmse: 0.867703\tvalid_0's l2: 0.752908\tvalid_1's rmse: 0.746597\tvalid_1's l2: 0.557407           \n",
      " 75%|█████████████████████████████▎         | 165/220 [14:32<04:53,  5.34s/trial, best loss: 0.8610839679639536]"
     ]
    },
    {
     "name": "stderr",
     "output_type": "stream",
     "text": [
      "Score - 0.8637368386419247, Std - 0.025823662875176644, Eval Score - 0.8637368386419247\n",
      "Score across folds - [0.8937961147002595, 0.8307455111439802, 0.8666688900815345].\n"
     ]
    },
    {
     "name": "stdout",
     "output_type": "stream",
     "text": [
      "\r",
      " 75%|█████████████████████████████▍         | 166/220 [14:32<04:48,  5.34s/trial, best loss: 0.8610839679639536]"
     ]
    },
    {
     "name": "stderr",
     "output_type": "stream",
     "text": [
      "\n",
      "Iteration: 167, Training with params: {'boosting_type': 'gbdt', 'colsample_bytree': 0.8, 'learning_rate': 0.1, 'min_child_samples': 80, 'n_estimators': 10000, 'n_jobs': -1, 'num_leaves': 16, 'objective': 'regression', 'subsample': 1.0, 'subsample_freq': 5}\n"
     ]
    },
    {
     "name": "stdout",
     "output_type": "stream",
     "text": [
      "[100]\tvalid_0's rmse: 0.894227\tvalid_0's l2: 0.799642\tvalid_1's rmse: 0.801588\tvalid_1's l2: 0.642544           \n",
      "[200]\tvalid_0's rmse: 0.89374\tvalid_0's l2: 0.798771\tvalid_1's rmse: 0.749187\tvalid_1's l2: 0.561281            \n",
      "[100]\tvalid_0's rmse: 0.837264\tvalid_0's l2: 0.701011\tvalid_1's rmse: 0.804374\tvalid_1's l2: 0.647018           \n",
      "[200]\tvalid_0's rmse: 0.832608\tvalid_0's l2: 0.693236\tvalid_1's rmse: 0.751794\tvalid_1's l2: 0.565194           \n",
      "[300]\tvalid_0's rmse: 0.83294\tvalid_0's l2: 0.693789\tvalid_1's rmse: 0.7139\tvalid_1's l2: 0.509654              \n",
      "[100]\tvalid_0's rmse: 0.873458\tvalid_0's l2: 0.76293\tvalid_1's rmse: 0.799375\tvalid_1's l2: 0.639001            \n",
      "[200]\tvalid_0's rmse: 0.871956\tvalid_0's l2: 0.760307\tvalid_1's rmse: 0.747234\tvalid_1's l2: 0.558358           \n",
      " 75%|█████████████████████████████▍         | 166/220 [14:36<04:48,  5.34s/trial, best loss: 0.8610839679639536]"
     ]
    },
    {
     "name": "stderr",
     "output_type": "stream",
     "text": [
      "Score - 0.8649729643292062, Std - 0.02561783502589253, Eval Score - 0.8649729643292062\n",
      "Score across folds - [0.893231600962765, 0.8312095608840044, 0.8704777311408491].\n"
     ]
    },
    {
     "name": "stdout",
     "output_type": "stream",
     "text": [
      "\r",
      " 76%|█████████████████████████████▌         | 167/220 [14:37<04:32,  5.15s/trial, best loss: 0.8610839679639536]"
     ]
    },
    {
     "name": "stderr",
     "output_type": "stream",
     "text": [
      "\n",
      "Iteration: 168, Training with params: {'boosting_type': 'gbdt', 'colsample_bytree': 0.4, 'learning_rate': 0.1, 'min_child_samples': 70, 'n_estimators': 10000, 'n_jobs': -1, 'num_leaves': 16, 'objective': 'regression', 'subsample': 1.0, 'subsample_freq': 5}\n"
     ]
    },
    {
     "name": "stdout",
     "output_type": "stream",
     "text": [
      "[100]\tvalid_0's rmse: 0.898506\tvalid_0's l2: 0.807313\tvalid_1's rmse: 0.809307\tvalid_1's l2: 0.654978           \n",
      "[200]\tvalid_0's rmse: 0.896533\tvalid_0's l2: 0.803772\tvalid_1's rmse: 0.756517\tvalid_1's l2: 0.572317           \n",
      "[300]\tvalid_0's rmse: 0.898147\tvalid_0's l2: 0.806667\tvalid_1's rmse: 0.718993\tvalid_1's l2: 0.516951           \n",
      "[100]\tvalid_0's rmse: 0.835404\tvalid_0's l2: 0.697899\tvalid_1's rmse: 0.811062\tvalid_1's l2: 0.657822           \n",
      "[200]\tvalid_0's rmse: 0.832436\tvalid_0's l2: 0.69295\tvalid_1's rmse: 0.758393\tvalid_1's l2: 0.575159            \n",
      "[100]\tvalid_0's rmse: 0.874182\tvalid_0's l2: 0.764194\tvalid_1's rmse: 0.806315\tvalid_1's l2: 0.650144           \n",
      "[200]\tvalid_0's rmse: 0.868501\tvalid_0's l2: 0.754293\tvalid_1's rmse: 0.754734\tvalid_1's l2: 0.569624           \n",
      "[300]\tvalid_0's rmse: 0.869759\tvalid_0's l2: 0.756482\tvalid_1's rmse: 0.717238\tvalid_1's l2: 0.514431           \n",
      " 76%|█████████████████████████████▌         | 167/220 [14:41<04:32,  5.15s/trial, best loss: 0.8610839679639536]"
     ]
    },
    {
     "name": "stderr",
     "output_type": "stream",
     "text": [
      "Score - 0.8644598367346067, Std - 0.026731055262864182, Eval Score - 0.8644598367346067\n",
      "Score across folds - [0.8952939762859087, 0.8301016515800353, 0.8679838823378764].\n"
     ]
    },
    {
     "name": "stdout",
     "output_type": "stream",
     "text": [
      "\r",
      " 76%|█████████████████████████████▊         | 168/220 [14:41<04:10,  4.82s/trial, best loss: 0.8610839679639536]"
     ]
    },
    {
     "name": "stderr",
     "output_type": "stream",
     "text": [
      "\n",
      "Iteration: 169, Training with params: {'boosting_type': 'gbdt', 'colsample_bytree': 0.8, 'learning_rate': 0.1, 'min_child_samples': 100, 'n_estimators': 10000, 'n_jobs': -1, 'num_leaves': 16, 'objective': 'regression', 'subsample': 0.6000000000000001, 'subsample_freq': 10}\n"
     ]
    },
    {
     "name": "stdout",
     "output_type": "stream",
     "text": [
      "[100]\tvalid_0's rmse: 0.903727\tvalid_0's l2: 0.816722\tvalid_1's rmse: 0.806711\tvalid_1's l2: 0.650782           \n",
      "[200]\tvalid_0's rmse: 0.900655\tvalid_0's l2: 0.811179\tvalid_1's rmse: 0.757729\tvalid_1's l2: 0.574153           \n",
      "[100]\tvalid_0's rmse: 0.840803\tvalid_0's l2: 0.706949\tvalid_1's rmse: 0.811605\tvalid_1's l2: 0.658702           \n",
      "[200]\tvalid_0's rmse: 0.840321\tvalid_0's l2: 0.706139\tvalid_1's rmse: 0.760807\tvalid_1's l2: 0.578828           \n",
      "[100]\tvalid_0's rmse: 0.873035\tvalid_0's l2: 0.76219\tvalid_1's rmse: 0.805359\tvalid_1's l2: 0.648603            \n",
      "[200]\tvalid_0's rmse: 0.868611\tvalid_0's l2: 0.754486\tvalid_1's rmse: 0.755376\tvalid_1's l2: 0.570592           \n",
      "[300]\tvalid_0's rmse: 0.870895\tvalid_0's l2: 0.758459\tvalid_1's rmse: 0.718631\tvalid_1's l2: 0.516431           \n",
      " 76%|█████████████████████████████▊         | 168/220 [14:46<04:10,  4.82s/trial, best loss: 0.8610839679639536]"
     ]
    },
    {
     "name": "stderr",
     "output_type": "stream",
     "text": [
      "Score - 0.8670075109461132, Std - 0.026056396492165994, Eval Score - 0.8670075109461132\n",
      "Score across folds - [0.8983085675955567, 0.8345169533249001, 0.8681970119178829].\n"
     ]
    },
    {
     "name": "stdout",
     "output_type": "stream",
     "text": [
      "\r",
      " 77%|█████████████████████████████▉         | 169/220 [14:46<04:13,  4.97s/trial, best loss: 0.8610839679639536]"
     ]
    },
    {
     "name": "stderr",
     "output_type": "stream",
     "text": [
      "\n",
      "Iteration: 170, Training with params: {'boosting_type': 'gbdt', 'colsample_bytree': 0.6000000000000001, 'learning_rate': 0.1, 'min_child_samples': 90, 'n_estimators': 10000, 'n_jobs': -1, 'num_leaves': 16, 'objective': 'regression', 'subsample': 1.0, 'subsample_freq': 5}\n"
     ]
    },
    {
     "name": "stdout",
     "output_type": "stream",
     "text": [
      "[100]\tvalid_0's rmse: 0.901177\tvalid_0's l2: 0.81212\tvalid_1's rmse: 0.805523\tvalid_1's l2: 0.648867            \n",
      "[200]\tvalid_0's rmse: 0.896774\tvalid_0's l2: 0.804204\tvalid_1's rmse: 0.754013\tvalid_1's l2: 0.568536           \n",
      "[300]\tvalid_0's rmse: 0.896482\tvalid_0's l2: 0.80368\tvalid_1's rmse: 0.716447\tvalid_1's l2: 0.513297            \n",
      "[100]\tvalid_0's rmse: 0.837989\tvalid_0's l2: 0.702225\tvalid_1's rmse: 0.806881\tvalid_1's l2: 0.651057           \n",
      "[200]\tvalid_0's rmse: 0.83339\tvalid_0's l2: 0.694539\tvalid_1's rmse: 0.756284\tvalid_1's l2: 0.571965            \n",
      "[300]\tvalid_0's rmse: 0.831428\tvalid_0's l2: 0.691273\tvalid_1's rmse: 0.718749\tvalid_1's l2: 0.5166             \n",
      "[100]\tvalid_0's rmse: 0.872556\tvalid_0's l2: 0.761354\tvalid_1's rmse: 0.802959\tvalid_1's l2: 0.644743           \n",
      "[200]\tvalid_0's rmse: 0.868331\tvalid_0's l2: 0.753999\tvalid_1's rmse: 0.751718\tvalid_1's l2: 0.56508            \n",
      "[300]\tvalid_0's rmse: 0.86875\tvalid_0's l2: 0.754727\tvalid_1's rmse: 0.714667\tvalid_1's l2: 0.510749            \n",
      " 77%|█████████████████████████████▉         | 169/220 [14:51<04:13,  4.97s/trial, best loss: 0.8610839679639536]"
     ]
    },
    {
     "name": "stderr",
     "output_type": "stream",
     "text": [
      "Score - 0.8645271588916108, Std - 0.02627652321356454, Eval Score - 0.8645271588916108\n",
      "Score across folds - [0.895130757925944, 0.8309702695938155, 0.8674804491550728].\n"
     ]
    },
    {
     "name": "stdout",
     "output_type": "stream",
     "text": [
      "\r",
      " 77%|██████████████████████████████▏        | 170/220 [14:51<04:07,  4.95s/trial, best loss: 0.8610839679639536]"
     ]
    },
    {
     "name": "stderr",
     "output_type": "stream",
     "text": [
      "\n",
      "Iteration: 171, Training with params: {'boosting_type': 'gbdt', 'colsample_bytree': 1.0, 'learning_rate': 0.1, 'min_child_samples': 120, 'n_estimators': 10000, 'n_jobs': -1, 'num_leaves': 16, 'objective': 'regression', 'subsample': 1.0, 'subsample_freq': 10}\n"
     ]
    },
    {
     "name": "stdout",
     "output_type": "stream",
     "text": [
      "[100]\tvalid_0's rmse: 0.898838\tvalid_0's l2: 0.807909\tvalid_1's rmse: 0.801627\tvalid_1's l2: 0.642607           \n",
      "[200]\tvalid_0's rmse: 0.896072\tvalid_0's l2: 0.802945\tvalid_1's rmse: 0.750683\tvalid_1's l2: 0.563526           \n",
      "[100]\tvalid_0's rmse: 0.834587\tvalid_0's l2: 0.696535\tvalid_1's rmse: 0.804593\tvalid_1's l2: 0.64737            \n",
      "[200]\tvalid_0's rmse: 0.8279\tvalid_0's l2: 0.685419\tvalid_1's rmse: 0.753861\tvalid_1's l2: 0.568307             \n",
      "[300]\tvalid_0's rmse: 0.825475\tvalid_0's l2: 0.681408\tvalid_1's rmse: 0.716721\tvalid_1's l2: 0.513689           \n",
      "[400]\tvalid_0's rmse: 0.826909\tvalid_0's l2: 0.683778\tvalid_1's rmse: 0.684899\tvalid_1's l2: 0.469086           \n",
      "[100]\tvalid_0's rmse: 0.868586\tvalid_0's l2: 0.754441\tvalid_1's rmse: 0.799719\tvalid_1's l2: 0.639551           \n",
      "[200]\tvalid_0's rmse: 0.866739\tvalid_0's l2: 0.751236\tvalid_1's rmse: 0.748491\tvalid_1's l2: 0.560239           \n",
      "[300]\tvalid_0's rmse: 0.867996\tvalid_0's l2: 0.753418\tvalid_1's rmse: 0.710863\tvalid_1's l2: 0.505326           \n",
      " 77%|██████████████████████████████▏        | 170/220 [14:57<04:07,  4.95s/trial, best loss: 0.8610839679639536]"
     ]
    },
    {
     "name": "stderr",
     "output_type": "stream",
     "text": [
      "Score - 0.8620197682157045, Std - 0.028788537668324343, Eval Score - 0.8620197682157045\n",
      "Score across folds - [0.8956215558401459, 0.8253100885803291, 0.8651276602266383].\n"
     ]
    },
    {
     "name": "stdout",
     "output_type": "stream",
     "text": [
      "\r",
      " 78%|██████████████████████████████▎        | 171/220 [14:57<04:22,  5.35s/trial, best loss: 0.8610839679639536]"
     ]
    },
    {
     "name": "stderr",
     "output_type": "stream",
     "text": [
      "\n",
      "Iteration: 172, Training with params: {'boosting_type': 'gbdt', 'colsample_bytree': 1.0, 'learning_rate': 0.1, 'min_child_samples': 30, 'n_estimators': 10000, 'n_jobs': -1, 'num_leaves': 32, 'objective': 'regression', 'subsample': 1.0, 'subsample_freq': 5}\n"
     ]
    },
    {
     "name": "stdout",
     "output_type": "stream",
     "text": [
      "[100]\tvalid_0's rmse: 0.899289\tvalid_0's l2: 0.80872\tvalid_1's rmse: 0.72862\tvalid_1's l2: 0.530887             \n",
      "[200]\tvalid_0's rmse: 0.899934\tvalid_0's l2: 0.809881\tvalid_1's rmse: 0.644974\tvalid_1's l2: 0.415992           \n",
      "[100]\tvalid_0's rmse: 0.833958\tvalid_0's l2: 0.695486\tvalid_1's rmse: 0.732335\tvalid_1's l2: 0.536314           \n",
      "[200]\tvalid_0's rmse: 0.834773\tvalid_0's l2: 0.696846\tvalid_1's rmse: 0.650242\tvalid_1's l2: 0.422814           \n",
      "[100]\tvalid_0's rmse: 0.869232\tvalid_0's l2: 0.755564\tvalid_1's rmse: 0.726031\tvalid_1's l2: 0.527122           \n",
      "[200]\tvalid_0's rmse: 0.872154\tvalid_0's l2: 0.760652\tvalid_1's rmse: 0.643379\tvalid_1's l2: 0.413936           \n",
      " 78%|██████████████████████████████▎        | 171/220 [15:03<04:22,  5.35s/trial, best loss: 0.8610839679639536]"
     ]
    },
    {
     "name": "stderr",
     "output_type": "stream",
     "text": [
      "Score - 0.8665272368434985, Std - 0.02718532141874246, Eval Score - 0.8665272368434985\n",
      "Score across folds - [0.8985901508651226, 0.832123526043563, 0.8688680336218099].\n"
     ]
    },
    {
     "name": "stdout",
     "output_type": "stream",
     "text": [
      "\r",
      " 78%|██████████████████████████████▍        | 172/220 [15:03<04:24,  5.52s/trial, best loss: 0.8610839679639536]"
     ]
    },
    {
     "name": "stderr",
     "output_type": "stream",
     "text": [
      "\n",
      "Iteration: 173, Training with params: {'boosting_type': 'gbdt', 'colsample_bytree': 0.8, 'learning_rate': 0.1, 'min_child_samples': 80, 'n_estimators': 10000, 'n_jobs': -1, 'num_leaves': 16, 'objective': 'regression', 'subsample': 1.0, 'subsample_freq': 10}\n"
     ]
    },
    {
     "name": "stdout",
     "output_type": "stream",
     "text": [
      "[100]\tvalid_0's rmse: 0.894227\tvalid_0's l2: 0.799642\tvalid_1's rmse: 0.801588\tvalid_1's l2: 0.642544           \n",
      "[200]\tvalid_0's rmse: 0.89374\tvalid_0's l2: 0.798771\tvalid_1's rmse: 0.749187\tvalid_1's l2: 0.561281            \n",
      "[100]\tvalid_0's rmse: 0.837264\tvalid_0's l2: 0.701011\tvalid_1's rmse: 0.804374\tvalid_1's l2: 0.647018           \n",
      "[200]\tvalid_0's rmse: 0.832608\tvalid_0's l2: 0.693236\tvalid_1's rmse: 0.751794\tvalid_1's l2: 0.565194           \n",
      "[300]\tvalid_0's rmse: 0.83294\tvalid_0's l2: 0.693789\tvalid_1's rmse: 0.7139\tvalid_1's l2: 0.509654              \n",
      "[100]\tvalid_0's rmse: 0.873458\tvalid_0's l2: 0.76293\tvalid_1's rmse: 0.799375\tvalid_1's l2: 0.639001            \n",
      "[200]\tvalid_0's rmse: 0.871956\tvalid_0's l2: 0.760307\tvalid_1's rmse: 0.747234\tvalid_1's l2: 0.558358           \n",
      " 78%|██████████████████████████████▍        | 172/220 [15:08<04:24,  5.52s/trial, best loss: 0.8610839679639536]"
     ]
    },
    {
     "name": "stderr",
     "output_type": "stream",
     "text": [
      "Score - 0.8649729643292062, Std - 0.02561783502589253, Eval Score - 0.8649729643292062\n",
      "Score across folds - [0.893231600962765, 0.8312095608840044, 0.8704777311408491].\n"
     ]
    },
    {
     "name": "stdout",
     "output_type": "stream",
     "text": [
      "\r",
      " 79%|██████████████████████████████▋        | 173/220 [15:08<04:08,  5.29s/trial, best loss: 0.8610839679639536]"
     ]
    },
    {
     "name": "stderr",
     "output_type": "stream",
     "text": [
      "\n",
      "Iteration: 174, Training with params: {'boosting_type': 'gbdt', 'colsample_bytree': 0.8, 'learning_rate': 0.1, 'min_child_samples': 70, 'n_estimators': 10000, 'n_jobs': -1, 'num_leaves': 16, 'objective': 'regression', 'subsample': 1.0, 'subsample_freq': 10}\n"
     ]
    },
    {
     "name": "stdout",
     "output_type": "stream",
     "text": [
      "[100]\tvalid_0's rmse: 0.896818\tvalid_0's l2: 0.804283\tvalid_1's rmse: 0.801821\tvalid_1's l2: 0.642917           \n",
      "[200]\tvalid_0's rmse: 0.893664\tvalid_0's l2: 0.798635\tvalid_1's rmse: 0.748318\tvalid_1's l2: 0.55998            \n",
      "[300]\tvalid_0's rmse: 0.894264\tvalid_0's l2: 0.799709\tvalid_1's rmse: 0.709337\tvalid_1's l2: 0.503159           \n",
      "[100]\tvalid_0's rmse: 0.83923\tvalid_0's l2: 0.704308\tvalid_1's rmse: 0.803504\tvalid_1's l2: 0.645619            \n",
      "[200]\tvalid_0's rmse: 0.834989\tvalid_0's l2: 0.697206\tvalid_1's rmse: 0.749971\tvalid_1's l2: 0.562456           \n",
      "[100]\tvalid_0's rmse: 0.870994\tvalid_0's l2: 0.758631\tvalid_1's rmse: 0.800517\tvalid_1's l2: 0.640827           \n",
      "[200]\tvalid_0's rmse: 0.86929\tvalid_0's l2: 0.755666\tvalid_1's rmse: 0.746129\tvalid_1's l2: 0.556709            \n",
      "[300]\tvalid_0's rmse: 0.868918\tvalid_0's l2: 0.755018\tvalid_1's rmse: 0.706873\tvalid_1's l2: 0.49967            \n",
      " 79%|██████████████████████████████▋        | 173/220 [15:13<04:08,  5.29s/trial, best loss: 0.8610839679639536]"
     ]
    },
    {
     "name": "stderr",
     "output_type": "stream",
     "text": [
      "Score - 0.864716430692372, Std - 0.02404798580062903, Eval Score - 0.864716430692372\n",
      "Score across folds - [0.8924806056433109, 0.833824893679333, 0.8678437927544723].\n"
     ]
    },
    {
     "name": "stdout",
     "output_type": "stream",
     "text": [
      "\r",
      " 79%|██████████████████████████████▊        | 174/220 [15:13<04:03,  5.29s/trial, best loss: 0.8610839679639536]"
     ]
    },
    {
     "name": "stderr",
     "output_type": "stream",
     "text": [
      "\n",
      "Iteration: 175, Training with params: {'boosting_type': 'gbdt', 'colsample_bytree': 0.6000000000000001, 'learning_rate': 0.1, 'min_child_samples': 100, 'n_estimators': 10000, 'n_jobs': -1, 'num_leaves': 16, 'objective': 'regression', 'subsample': 0.8, 'subsample_freq': 5}\n"
     ]
    },
    {
     "name": "stdout",
     "output_type": "stream",
     "text": [
      "[100]\tvalid_0's rmse: 0.89818\tvalid_0's l2: 0.806728\tvalid_1's rmse: 0.806228\tvalid_1's l2: 0.650003            \n",
      "[200]\tvalid_0's rmse: 0.896453\tvalid_0's l2: 0.803628\tvalid_1's rmse: 0.75497\tvalid_1's l2: 0.56998             \n",
      "[100]\tvalid_0's rmse: 0.83931\tvalid_0's l2: 0.704442\tvalid_1's rmse: 0.808538\tvalid_1's l2: 0.653734            \n",
      "[200]\tvalid_0's rmse: 0.835744\tvalid_0's l2: 0.698467\tvalid_1's rmse: 0.756682\tvalid_1's l2: 0.572568           \n",
      "[300]\tvalid_0's rmse: 0.833315\tvalid_0's l2: 0.694413\tvalid_1's rmse: 0.71899\tvalid_1's l2: 0.516947            \n",
      "[100]\tvalid_0's rmse: 0.872291\tvalid_0's l2: 0.760892\tvalid_1's rmse: 0.804108\tvalid_1's l2: 0.64659            \n",
      "[200]\tvalid_0's rmse: 0.868016\tvalid_0's l2: 0.753452\tvalid_1's rmse: 0.752992\tvalid_1's l2: 0.566996           \n",
      "[300]\tvalid_0's rmse: 0.870528\tvalid_0's l2: 0.757818\tvalid_1's rmse: 0.715761\tvalid_1's l2: 0.512313           \n",
      " 79%|██████████████████████████████▊        | 174/220 [15:17<04:03,  5.29s/trial, best loss: 0.8610839679639536]"
     ]
    },
    {
     "name": "stderr",
     "output_type": "stream",
     "text": [
      "Score - 0.8654087831554159, Std - 0.02544291705916482, Eval Score - 0.8654087831554159\n",
      "Score across folds - [0.8954611909282741, 0.8332462834904442, 0.8675188750475294].\n"
     ]
    },
    {
     "name": "stdout",
     "output_type": "stream",
     "text": [
      "\r",
      " 80%|███████████████████████████████        | 175/220 [15:17<03:45,  5.00s/trial, best loss: 0.8610839679639536]"
     ]
    },
    {
     "name": "stderr",
     "output_type": "stream",
     "text": [
      "\n",
      "Iteration: 176, Training with params: {'boosting_type': 'gbdt', 'colsample_bytree': 0.8, 'learning_rate': 0.1, 'min_child_samples': 60, 'n_estimators': 10000, 'n_jobs': -1, 'num_leaves': 16, 'objective': 'regression', 'subsample': 1.0, 'subsample_freq': 10}\n"
     ]
    },
    {
     "name": "stdout",
     "output_type": "stream",
     "text": [
      "[100]\tvalid_0's rmse: 0.894484\tvalid_0's l2: 0.800101\tvalid_1's rmse: 0.801224\tvalid_1's l2: 0.64196            \n",
      "[200]\tvalid_0's rmse: 0.892837\tvalid_0's l2: 0.797158\tvalid_1's rmse: 0.74758\tvalid_1's l2: 0.558877            \n",
      "[100]\tvalid_0's rmse: 0.835247\tvalid_0's l2: 0.697637\tvalid_1's rmse: 0.803035\tvalid_1's l2: 0.644865           \n",
      "[200]\tvalid_0's rmse: 0.831901\tvalid_0's l2: 0.69206\tvalid_1's rmse: 0.747939\tvalid_1's l2: 0.559413            \n",
      "[300]\tvalid_0's rmse: 0.831621\tvalid_0's l2: 0.691594\tvalid_1's rmse: 0.708045\tvalid_1's l2: 0.501327           \n",
      "[400]\tvalid_0's rmse: 0.832648\tvalid_0's l2: 0.693303\tvalid_1's rmse: 0.676081\tvalid_1's l2: 0.457086           \n",
      "[100]\tvalid_0's rmse: 0.874523\tvalid_0's l2: 0.764791\tvalid_1's rmse: 0.799487\tvalid_1's l2: 0.639179           \n",
      "[200]\tvalid_0's rmse: 0.870666\tvalid_0's l2: 0.758059\tvalid_1's rmse: 0.745749\tvalid_1's l2: 0.556142           \n",
      "[300]\tvalid_0's rmse: 0.86966\tvalid_0's l2: 0.756308\tvalid_1's rmse: 0.706951\tvalid_1's l2: 0.49978             \n",
      " 80%|███████████████████████████████        | 175/220 [15:23<03:45,  5.00s/trial, best loss: 0.8610839679639536]"
     ]
    },
    {
     "name": "stderr",
     "output_type": "stream",
     "text": [
      "Score - 0.8643159407480111, Std - 0.0250831621799187, Eval Score - 0.8643159407480111\n",
      "Score across folds - [0.8922455794778613, 0.8314117708733353, 0.8692904718928366].\n"
     ]
    },
    {
     "name": "stdout",
     "output_type": "stream",
     "text": [
      "\r",
      " 80%|███████████████████████████████▏       | 176/220 [15:23<03:48,  5.20s/trial, best loss: 0.8610839679639536]"
     ]
    },
    {
     "name": "stderr",
     "output_type": "stream",
     "text": [
      "\n",
      "Iteration: 177, Training with params: {'boosting_type': 'gbdt', 'colsample_bytree': 0.8, 'learning_rate': 0.1, 'min_child_samples': 110, 'n_estimators': 10000, 'n_jobs': -1, 'num_leaves': 16, 'objective': 'regression', 'subsample': 1.0, 'subsample_freq': 10}\n"
     ]
    },
    {
     "name": "stdout",
     "output_type": "stream",
     "text": [
      "[100]\tvalid_0's rmse: 0.895397\tvalid_0's l2: 0.801736\tvalid_1's rmse: 0.803209\tvalid_1's l2: 0.645145           \n",
      "[200]\tvalid_0's rmse: 0.894279\tvalid_0's l2: 0.799735\tvalid_1's rmse: 0.751945\tvalid_1's l2: 0.565422           \n",
      "[100]\tvalid_0's rmse: 0.834536\tvalid_0's l2: 0.696451\tvalid_1's rmse: 0.805285\tvalid_1's l2: 0.648484           \n",
      "[200]\tvalid_0's rmse: 0.830165\tvalid_0's l2: 0.689173\tvalid_1's rmse: 0.753204\tvalid_1's l2: 0.567317           \n",
      "[300]\tvalid_0's rmse: 0.830981\tvalid_0's l2: 0.690529\tvalid_1's rmse: 0.716161\tvalid_1's l2: 0.512887           \n",
      "[100]\tvalid_0's rmse: 0.87215\tvalid_0's l2: 0.760646\tvalid_1's rmse: 0.800634\tvalid_1's l2: 0.641014            \n",
      "[200]\tvalid_0's rmse: 0.868144\tvalid_0's l2: 0.753674\tvalid_1's rmse: 0.750102\tvalid_1's l2: 0.562653           \n",
      " 80%|███████████████████████████████▏       | 176/220 [15:28<03:48,  5.20s/trial, best loss: 0.8610839679639536]"
     ]
    },
    {
     "name": "stderr",
     "output_type": "stream",
     "text": [
      "Score - 0.8634484965614889, Std - 0.026771936143266787, Eval Score - 0.8634484965614889\n",
      "Score across folds - [0.893981499224136, 0.8287936828077078, 0.8675703076526232].\n"
     ]
    },
    {
     "name": "stdout",
     "output_type": "stream",
     "text": [
      "\r",
      " 80%|███████████████████████████████▍       | 177/220 [15:28<03:39,  5.10s/trial, best loss: 0.8610839679639536]"
     ]
    },
    {
     "name": "stderr",
     "output_type": "stream",
     "text": [
      "\n",
      "Iteration: 178, Training with params: {'boosting_type': 'gbdt', 'colsample_bytree': 1.0, 'learning_rate': 0.1, 'min_child_samples': 80, 'n_estimators': 10000, 'n_jobs': -1, 'num_leaves': 16, 'objective': 'regression', 'subsample': 1.0, 'subsample_freq': 10}\n"
     ]
    },
    {
     "name": "stdout",
     "output_type": "stream",
     "text": [
      "[100]\tvalid_0's rmse: 0.895653\tvalid_0's l2: 0.802195\tvalid_1's rmse: 0.800885\tvalid_1's l2: 0.641417           \n",
      "[200]\tvalid_0's rmse: 0.893422\tvalid_0's l2: 0.798202\tvalid_1's rmse: 0.746578\tvalid_1's l2: 0.557379           \n",
      "[300]\tvalid_0's rmse: 0.8937\tvalid_0's l2: 0.798699\tvalid_1's rmse: 0.707823\tvalid_1's l2: 0.501013             \n",
      "[100]\tvalid_0's rmse: 0.832351\tvalid_0's l2: 0.692809\tvalid_1's rmse: 0.802383\tvalid_1's l2: 0.643819           \n",
      "[200]\tvalid_0's rmse: 0.829683\tvalid_0's l2: 0.688374\tvalid_1's rmse: 0.750186\tvalid_1's l2: 0.56278            \n",
      "[300]\tvalid_0's rmse: 0.830193\tvalid_0's l2: 0.68922\tvalid_1's rmse: 0.711139\tvalid_1's l2: 0.505719            \n",
      "[100]\tvalid_0's rmse: 0.869003\tvalid_0's l2: 0.755167\tvalid_1's rmse: 0.797982\tvalid_1's l2: 0.636776           \n",
      "[200]\tvalid_0's rmse: 0.868952\tvalid_0's l2: 0.755078\tvalid_1's rmse: 0.746288\tvalid_1's l2: 0.556946           \n",
      " 80%|███████████████████████████████▍       | 177/220 [15:33<03:39,  5.10s/trial, best loss: 0.8610839679639536]"
     ]
    },
    {
     "name": "stderr",
     "output_type": "stream",
     "text": [
      "Score - 0.8626724748669438, Std - 0.026331635892870412, Eval Score - 0.8626724748669438\n",
      "Score across folds - [0.8920957937171593, 0.828193827707966, 0.8677278031757057].\n"
     ]
    },
    {
     "name": "stdout",
     "output_type": "stream",
     "text": [
      "\r",
      " 81%|███████████████████████████████▌       | 178/220 [15:34<03:40,  5.25s/trial, best loss: 0.8610839679639536]"
     ]
    },
    {
     "name": "stderr",
     "output_type": "stream",
     "text": [
      "\n",
      "Iteration: 179, Training with params: {'boosting_type': 'gbdt', 'colsample_bytree': 0.8, 'learning_rate': 0.1, 'min_child_samples': 90, 'n_estimators': 10000, 'n_jobs': -1, 'num_leaves': 32, 'objective': 'regression', 'subsample': 1.0, 'subsample_freq': 10}\n"
     ]
    },
    {
     "name": "stdout",
     "output_type": "stream",
     "text": [
      "[100]\tvalid_0's rmse: 0.896553\tvalid_0's l2: 0.803807\tvalid_1's rmse: 0.739161\tvalid_1's l2: 0.546359           \n",
      "[200]\tvalid_0's rmse: 0.897927\tvalid_0's l2: 0.806274\tvalid_1's rmse: 0.663674\tvalid_1's l2: 0.440463           \n",
      "[100]\tvalid_0's rmse: 0.83093\tvalid_0's l2: 0.690444\tvalid_1's rmse: 0.740726\tvalid_1's l2: 0.548675            \n",
      "[200]\tvalid_0's rmse: 0.827287\tvalid_0's l2: 0.684404\tvalid_1's rmse: 0.663837\tvalid_1's l2: 0.440679           \n",
      "[300]\tvalid_0's rmse: 0.827283\tvalid_0's l2: 0.684398\tvalid_1's rmse: 0.60652\tvalid_1's l2: 0.367867            \n",
      "[100]\tvalid_0's rmse: 0.870473\tvalid_0's l2: 0.757724\tvalid_1's rmse: 0.735844\tvalid_1's l2: 0.541467           \n",
      "[200]\tvalid_0's rmse: 0.871206\tvalid_0's l2: 0.759\tvalid_1's rmse: 0.657804\tvalid_1's l2: 0.432706              \n",
      " 81%|███████████████████████████████▌       | 178/220 [15:40<03:40,  5.25s/trial, best loss: 0.8610839679639536]"
     ]
    },
    {
     "name": "stderr",
     "output_type": "stream",
     "text": [
      "Score - 0.8626080164990949, Std - 0.028093045875903853, Eval Score - 0.8626080164990949\n",
      "Score across folds - [0.8947827415160573, 0.8263360276021814, 0.866705280379046].\n"
     ]
    },
    {
     "name": "stdout",
     "output_type": "stream",
     "text": [
      "\r",
      " 81%|███████████████████████████████▋       | 179/220 [15:40<03:53,  5.71s/trial, best loss: 0.8610839679639536]"
     ]
    },
    {
     "name": "stderr",
     "output_type": "stream",
     "text": [
      "\n",
      "Iteration: 180, Training with params: {'boosting_type': 'gbdt', 'colsample_bytree': 1.0, 'learning_rate': 0.1, 'min_child_samples': 130, 'n_estimators': 10000, 'n_jobs': -1, 'num_leaves': 16, 'objective': 'regression', 'subsample': 1.0, 'subsample_freq': 10}\n"
     ]
    },
    {
     "name": "stdout",
     "output_type": "stream",
     "text": [
      "[100]\tvalid_0's rmse: 0.899494\tvalid_0's l2: 0.809089\tvalid_1's rmse: 0.802498\tvalid_1's l2: 0.644003           \n",
      "[200]\tvalid_0's rmse: 0.89385\tvalid_0's l2: 0.798968\tvalid_1's rmse: 0.7525\tvalid_1's l2: 0.566256              \n",
      "[100]\tvalid_0's rmse: 0.832629\tvalid_0's l2: 0.693272\tvalid_1's rmse: 0.803613\tvalid_1's l2: 0.645794           \n",
      "[200]\tvalid_0's rmse: 0.829452\tvalid_0's l2: 0.687991\tvalid_1's rmse: 0.753217\tvalid_1's l2: 0.567336           \n",
      "[300]\tvalid_0's rmse: 0.828972\tvalid_0's l2: 0.687194\tvalid_1's rmse: 0.715168\tvalid_1's l2: 0.511466           \n",
      "[100]\tvalid_0's rmse: 0.873395\tvalid_0's l2: 0.762819\tvalid_1's rmse: 0.80086\tvalid_1's l2: 0.641376            \n",
      "[200]\tvalid_0's rmse: 0.870087\tvalid_0's l2: 0.757052\tvalid_1's rmse: 0.75018\tvalid_1's l2: 0.56277             \n",
      "[300]\tvalid_0's rmse: 0.868953\tvalid_0's l2: 0.75508\tvalid_1's rmse: 0.713583\tvalid_1's l2: 0.5092              \n",
      " 81%|███████████████████████████████▋       | 179/220 [15:46<03:53,  5.71s/trial, best loss: 0.8610839679639536]"
     ]
    },
    {
     "name": "stderr",
     "output_type": "stream",
     "text": [
      "Score - 0.8631430144122394, Std - 0.027559207566939935, Eval Score - 0.8631430144122394\n",
      "Score across folds - [0.8936294222347689, 0.8268712802115006, 0.8689283407904485].\n"
     ]
    },
    {
     "name": "stdout",
     "output_type": "stream",
     "text": [
      "\r",
      " 82%|███████████████████████████████▉       | 180/220 [15:47<03:53,  5.85s/trial, best loss: 0.8610839679639536]"
     ]
    },
    {
     "name": "stderr",
     "output_type": "stream",
     "text": [
      "\n",
      "Iteration: 181, Training with params: {'boosting_type': 'gbdt', 'colsample_bytree': 0.8, 'learning_rate': 0.1, 'min_child_samples': 100, 'n_estimators': 10000, 'n_jobs': -1, 'num_leaves': 48, 'objective': 'regression', 'subsample': 0.8, 'subsample_freq': 5}\n"
     ]
    },
    {
     "name": "stdout",
     "output_type": "stream",
     "text": [
      "[100]\tvalid_0's rmse: 0.901215\tvalid_0's l2: 0.812189\tvalid_1's rmse: 0.698722\tvalid_1's l2: 0.488212           \n",
      "[200]\tvalid_0's rmse: 0.907844\tvalid_0's l2: 0.82418\tvalid_1's rmse: 0.603045\tvalid_1's l2: 0.363663            \n",
      "[100]\tvalid_0's rmse: 0.8353\tvalid_0's l2: 0.697727\tvalid_1's rmse: 0.700284\tvalid_1's l2: 0.490398             \n",
      "[100]\tvalid_0's rmse: 0.873309\tvalid_0's l2: 0.762668\tvalid_1's rmse: 0.696907\tvalid_1's l2: 0.48568            \n",
      " 82%|███████████████████████████████▉       | 180/220 [15:52<03:53,  5.85s/trial, best loss: 0.8610839679639536]"
     ]
    },
    {
     "name": "stderr",
     "output_type": "stream",
     "text": [
      "Score - 0.8692542308051551, Std - 0.026863254334640447, Eval Score - 0.8692542308051551\n",
      "Score across folds - [0.900722144627843, 0.8350871664534666, 0.8719533813341556].\n"
     ]
    },
    {
     "name": "stdout",
     "output_type": "stream",
     "text": [
      "\r",
      " 82%|████████████████████████████████       | 181/220 [15:53<03:52,  5.95s/trial, best loss: 0.8610839679639536]"
     ]
    },
    {
     "name": "stderr",
     "output_type": "stream",
     "text": [
      "\n",
      "Iteration: 182, Training with params: {'boosting_type': 'gbdt', 'colsample_bytree': 0.8, 'learning_rate': 0.1, 'min_child_samples': 110, 'n_estimators': 10000, 'n_jobs': -1, 'num_leaves': 16, 'objective': 'regression', 'subsample': 1.0, 'subsample_freq': 5}\n"
     ]
    },
    {
     "name": "stdout",
     "output_type": "stream",
     "text": [
      "[100]\tvalid_0's rmse: 0.895397\tvalid_0's l2: 0.801736\tvalid_1's rmse: 0.803209\tvalid_1's l2: 0.645145           \n",
      "[200]\tvalid_0's rmse: 0.894279\tvalid_0's l2: 0.799735\tvalid_1's rmse: 0.751945\tvalid_1's l2: 0.565422           \n",
      "[100]\tvalid_0's rmse: 0.834536\tvalid_0's l2: 0.696451\tvalid_1's rmse: 0.805285\tvalid_1's l2: 0.648484           \n",
      "[200]\tvalid_0's rmse: 0.830165\tvalid_0's l2: 0.689173\tvalid_1's rmse: 0.753204\tvalid_1's l2: 0.567317           \n",
      "[300]\tvalid_0's rmse: 0.830981\tvalid_0's l2: 0.690529\tvalid_1's rmse: 0.716161\tvalid_1's l2: 0.512887           \n",
      "[100]\tvalid_0's rmse: 0.87215\tvalid_0's l2: 0.760646\tvalid_1's rmse: 0.800634\tvalid_1's l2: 0.641014            \n",
      "[200]\tvalid_0's rmse: 0.868144\tvalid_0's l2: 0.753674\tvalid_1's rmse: 0.750102\tvalid_1's l2: 0.562653           \n",
      " 82%|████████████████████████████████       | 181/220 [15:57<03:52,  5.95s/trial, best loss: 0.8610839679639536]"
     ]
    },
    {
     "name": "stderr",
     "output_type": "stream",
     "text": [
      "Score - 0.8634484965614889, Std - 0.026771936143266787, Eval Score - 0.8634484965614889\n",
      "Score across folds - [0.893981499224136, 0.8287936828077078, 0.8675703076526232].\n"
     ]
    },
    {
     "name": "stdout",
     "output_type": "stream",
     "text": [
      "\r",
      " 83%|████████████████████████████████▎      | 182/220 [15:58<03:35,  5.68s/trial, best loss: 0.8610839679639536]"
     ]
    },
    {
     "name": "stderr",
     "output_type": "stream",
     "text": [
      "\n",
      "Iteration: 183, Training with params: {'boosting_type': 'gbdt', 'colsample_bytree': 0.6000000000000001, 'learning_rate': 0.1, 'min_child_samples': 60, 'n_estimators': 10000, 'n_jobs': -1, 'num_leaves': 16, 'objective': 'regression', 'subsample': 1.0, 'subsample_freq': 10}\n"
     ]
    },
    {
     "name": "stdout",
     "output_type": "stream",
     "text": [
      "[100]\tvalid_0's rmse: 0.900777\tvalid_0's l2: 0.811399\tvalid_1's rmse: 0.802933\tvalid_1's l2: 0.644702           \n",
      "[200]\tvalid_0's rmse: 0.899488\tvalid_0's l2: 0.809078\tvalid_1's rmse: 0.750056\tvalid_1's l2: 0.562584           \n",
      "[300]\tvalid_0's rmse: 0.900545\tvalid_0's l2: 0.810982\tvalid_1's rmse: 0.710795\tvalid_1's l2: 0.50523            \n",
      "[100]\tvalid_0's rmse: 0.836267\tvalid_0's l2: 0.699342\tvalid_1's rmse: 0.805719\tvalid_1's l2: 0.649182           \n",
      "[200]\tvalid_0's rmse: 0.830674\tvalid_0's l2: 0.690019\tvalid_1's rmse: 0.752968\tvalid_1's l2: 0.566961           \n",
      "[100]\tvalid_0's rmse: 0.871944\tvalid_0's l2: 0.760286\tvalid_1's rmse: 0.799993\tvalid_1's l2: 0.639988           \n",
      "[200]\tvalid_0's rmse: 0.867627\tvalid_0's l2: 0.752777\tvalid_1's rmse: 0.747616\tvalid_1's l2: 0.55893            \n",
      "[300]\tvalid_0's rmse: 0.869369\tvalid_0's l2: 0.755802\tvalid_1's rmse: 0.707832\tvalid_1's l2: 0.501027           \n",
      " 83%|████████████████████████████████▎      | 182/220 [16:02<03:35,  5.68s/trial, best loss: 0.8610839679639536]"
     ]
    },
    {
     "name": "stderr",
     "output_type": "stream",
     "text": [
      "Score - 0.8652803421704715, Std - 0.028192441699366758, Eval Score - 0.8652803421704715\n",
      "Score across folds - [0.8990893906423666, 0.8300746749503528, 0.866676960918695].\n"
     ]
    },
    {
     "name": "stdout",
     "output_type": "stream",
     "text": [
      "\r",
      " 83%|████████████████████████████████▍      | 183/220 [16:02<03:18,  5.36s/trial, best loss: 0.8610839679639536]"
     ]
    },
    {
     "name": "stderr",
     "output_type": "stream",
     "text": [
      "\n",
      "Iteration: 184, Training with params: {'boosting_type': 'gbdt', 'colsample_bytree': 1.0, 'learning_rate': 0.1, 'min_child_samples': 80, 'n_estimators': 10000, 'n_jobs': -1, 'num_leaves': 32, 'objective': 'regression', 'subsample': 1.0, 'subsample_freq': 10}\n"
     ]
    },
    {
     "name": "stdout",
     "output_type": "stream",
     "text": [
      "[100]\tvalid_0's rmse: 0.896481\tvalid_0's l2: 0.803679\tvalid_1's rmse: 0.736497\tvalid_1's l2: 0.542428           \n",
      "[200]\tvalid_0's rmse: 0.897165\tvalid_0's l2: 0.804904\tvalid_1's rmse: 0.65708\tvalid_1's l2: 0.431755            \n",
      "[100]\tvalid_0's rmse: 0.82845\tvalid_0's l2: 0.686329\tvalid_1's rmse: 0.737831\tvalid_1's l2: 0.544394            \n",
      "[200]\tvalid_0's rmse: 0.825345\tvalid_0's l2: 0.681195\tvalid_1's rmse: 0.658777\tvalid_1's l2: 0.433987           \n",
      "[300]\tvalid_0's rmse: 0.828432\tvalid_0's l2: 0.6863\tvalid_1's rmse: 0.600332\tvalid_1's l2: 0.360399             \n",
      "[100]\tvalid_0's rmse: 0.869149\tvalid_0's l2: 0.75542\tvalid_1's rmse: 0.732897\tvalid_1's l2: 0.537138            \n",
      "[200]\tvalid_0's rmse: 0.870555\tvalid_0's l2: 0.757867\tvalid_1's rmse: 0.654494\tvalid_1's l2: 0.428363           \n",
      " 83%|████████████████████████████████▍      | 183/220 [16:08<03:18,  5.36s/trial, best loss: 0.8610839679639536]"
     ]
    },
    {
     "name": "stderr",
     "output_type": "stream",
     "text": [
      "Score - 0.8624920656060849, Std - 0.028840605667280503, Eval Score - 0.8624920656060849\n",
      "Score across folds - [0.8950207616571856, 0.8249184765617961, 0.8675369585992734].\n"
     ]
    },
    {
     "name": "stdout",
     "output_type": "stream",
     "text": [
      "\r",
      " 84%|████████████████████████████████▌      | 184/220 [16:09<03:26,  5.73s/trial, best loss: 0.8610839679639536]"
     ]
    },
    {
     "name": "stderr",
     "output_type": "stream",
     "text": [
      "\n",
      "Iteration: 185, Training with params: {'boosting_type': 'gbdt', 'colsample_bytree': 0.8, 'learning_rate': 0.1, 'min_child_samples': 70, 'n_estimators': 10000, 'n_jobs': -1, 'num_leaves': 16, 'objective': 'regression', 'subsample': 0.6000000000000001, 'subsample_freq': 5}\n"
     ]
    },
    {
     "name": "stdout",
     "output_type": "stream",
     "text": [
      "[100]\tvalid_0's rmse: 0.900513\tvalid_0's l2: 0.810923\tvalid_1's rmse: 0.804211\tvalid_1's l2: 0.646755           \n",
      "[200]\tvalid_0's rmse: 0.901451\tvalid_0's l2: 0.812613\tvalid_1's rmse: 0.751299\tvalid_1's l2: 0.56445            \n",
      "[100]\tvalid_0's rmse: 0.840178\tvalid_0's l2: 0.705898\tvalid_1's rmse: 0.806302\tvalid_1's l2: 0.650123           \n",
      "[200]\tvalid_0's rmse: 0.840838\tvalid_0's l2: 0.707009\tvalid_1's rmse: 0.754951\tvalid_1's l2: 0.56995            \n",
      "[100]\tvalid_0's rmse: 0.875079\tvalid_0's l2: 0.765763\tvalid_1's rmse: 0.801454\tvalid_1's l2: 0.642329           \n",
      "[200]\tvalid_0's rmse: 0.875422\tvalid_0's l2: 0.766364\tvalid_1's rmse: 0.749812\tvalid_1's l2: 0.562217           \n",
      " 84%|████████████████████████████████▌      | 184/220 [16:13<03:26,  5.73s/trial, best loss: 0.8610839679639536]"
     ]
    },
    {
     "name": "stderr",
     "output_type": "stream",
     "text": [
      "Score - 0.8699650053958868, Std - 0.025142875663636405, Eval Score - 0.8699650053958868\n",
      "Score across folds - [0.8989127219903238, 0.8376090730318343, 0.8733732211655023].\n"
     ]
    },
    {
     "name": "stdout",
     "output_type": "stream",
     "text": [
      "\r",
      " 84%|████████████████████████████████▊      | 185/220 [16:13<03:04,  5.28s/trial, best loss: 0.8610839679639536]"
     ]
    },
    {
     "name": "stderr",
     "output_type": "stream",
     "text": [
      "\n",
      "Iteration: 186, Training with params: {'boosting_type': 'gbdt', 'colsample_bytree': 0.8, 'learning_rate': 0.1, 'min_child_samples': 120, 'n_estimators': 10000, 'n_jobs': -1, 'num_leaves': 16, 'objective': 'regression', 'subsample': 1.0, 'subsample_freq': 10}\n"
     ]
    },
    {
     "name": "stdout",
     "output_type": "stream",
     "text": [
      "[100]\tvalid_0's rmse: 0.897849\tvalid_0's l2: 0.806132\tvalid_1's rmse: 0.804184\tvalid_1's l2: 0.646713           \n",
      "[200]\tvalid_0's rmse: 0.89636\tvalid_0's l2: 0.803461\tvalid_1's rmse: 0.753\tvalid_1's l2: 0.56701                \n",
      "[100]\tvalid_0's rmse: 0.836639\tvalid_0's l2: 0.699964\tvalid_1's rmse: 0.805339\tvalid_1's l2: 0.648571           \n",
      "[200]\tvalid_0's rmse: 0.831914\tvalid_0's l2: 0.692081\tvalid_1's rmse: 0.755222\tvalid_1's l2: 0.57036            \n",
      "[300]\tvalid_0's rmse: 0.831841\tvalid_0's l2: 0.69196\tvalid_1's rmse: 0.718783\tvalid_1's l2: 0.516649            \n",
      "[400]\tvalid_0's rmse: 0.83167\tvalid_0's l2: 0.691675\tvalid_1's rmse: 0.687469\tvalid_1's l2: 0.472613            \n",
      "[500]\tvalid_0's rmse: 0.831737\tvalid_0's l2: 0.691786\tvalid_1's rmse: 0.659312\tvalid_1's l2: 0.434692           \n",
      "[100]\tvalid_0's rmse: 0.870603\tvalid_0's l2: 0.757949\tvalid_1's rmse: 0.800745\tvalid_1's l2: 0.641192           \n",
      "[200]\tvalid_0's rmse: 0.865175\tvalid_0's l2: 0.748527\tvalid_1's rmse: 0.749635\tvalid_1's l2: 0.561953           \n",
      " 84%|████████████████████████████████▊      | 185/220 [16:18<03:04,  5.28s/trial, best loss: 0.8610839679639536]"
     ]
    },
    {
     "name": "stderr",
     "output_type": "stream",
     "text": [
      "Score - 0.8637304987887656, Std - 0.026304483144328508, Eval Score - 0.8637304987887656\n",
      "Score across folds - [0.8952034904591317, 0.8308191129474372, 0.8651688929597278].\n"
     ]
    },
    {
     "name": "stdout",
     "output_type": "stream",
     "text": [
      "\r",
      " 85%|████████████████████████████████▉      | 186/220 [16:19<03:03,  5.38s/trial, best loss: 0.8610839679639536]"
     ]
    },
    {
     "name": "stderr",
     "output_type": "stream",
     "text": [
      "\n",
      "Iteration: 187, Training with params: {'boosting_type': 'gbdt', 'colsample_bytree': 0.6000000000000001, 'learning_rate': 0.1, 'min_child_samples': 100, 'n_estimators': 10000, 'n_jobs': -1, 'num_leaves': 16, 'objective': 'regression', 'subsample': 0.8, 'subsample_freq': 10}\n"
     ]
    },
    {
     "name": "stdout",
     "output_type": "stream",
     "text": [
      "[100]\tvalid_0's rmse: 0.900688\tvalid_0's l2: 0.811239\tvalid_1's rmse: 0.80743\tvalid_1's l2: 0.651943            \n",
      "[200]\tvalid_0's rmse: 0.897002\tvalid_0's l2: 0.804613\tvalid_1's rmse: 0.755876\tvalid_1's l2: 0.571348           \n",
      " 85%|████████████████████████████████▉      | 186/220 [16:20<02:59,  5.27s/trial, best loss: 0.8610839679639536]\n"
     ]
    },
    {
     "ename": "KeyboardInterrupt",
     "evalue": "",
     "output_type": "error",
     "traceback": [
      "\u001b[0;31m---------------------------------------------------------------------------\u001b[0m",
      "\u001b[0;31mKeyboardInterrupt\u001b[0m                         Traceback (most recent call last)",
      "\u001b[0;32m/tmp/ipykernel_22764/906319865.py\u001b[0m in \u001b[0;36m<module>\u001b[0;34m\u001b[0m\n\u001b[0;32m----> 1\u001b[0;31m \u001b[0mhyp\u001b[0m\u001b[0;34m.\u001b[0m\u001b[0mfit\u001b[0m\u001b[0;34m(\u001b[0m\u001b[0mdf\u001b[0m\u001b[0;34m[\u001b[0m\u001b[0muse_cols\u001b[0m\u001b[0;34m]\u001b[0m\u001b[0;34m.\u001b[0m\u001b[0mvalues\u001b[0m\u001b[0;34m,\u001b[0m\u001b[0mtarget\u001b[0m\u001b[0;34m)\u001b[0m\u001b[0;34m\u001b[0m\u001b[0;34m\u001b[0m\u001b[0m\n\u001b[0m",
      "\u001b[0;32m~/Apna_Assignment/src/ml_auto/hyperopt_model_selection.py\u001b[0m in \u001b[0;36mfit\u001b[0;34m(self, X, y, use_oof, columns)\u001b[0m\n\u001b[1;32m    195\u001b[0m         \u001b[0;32mif\u001b[0m \u001b[0;32mnot\u001b[0m \u001b[0mself\u001b[0m\u001b[0;34m.\u001b[0m\u001b[0mwarm_start\u001b[0m\u001b[0;34m:\u001b[0m \u001b[0mself\u001b[0m\u001b[0;34m.\u001b[0m\u001b[0mtrials\u001b[0m \u001b[0;34m=\u001b[0m \u001b[0mTrials\u001b[0m\u001b[0;34m(\u001b[0m\u001b[0;34m)\u001b[0m\u001b[0;34m\u001b[0m\u001b[0;34m\u001b[0m\u001b[0m\n\u001b[1;32m    196\u001b[0m \u001b[0;34m\u001b[0m\u001b[0m\n\u001b[0;32m--> 197\u001b[0;31m         \u001b[0mbest\u001b[0m \u001b[0;34m=\u001b[0m \u001b[0mself\u001b[0m\u001b[0;34m(\u001b[0m\u001b[0;34m)\u001b[0m\u001b[0;34m\u001b[0m\u001b[0;34m\u001b[0m\u001b[0m\n\u001b[0m\u001b[1;32m    198\u001b[0m         \u001b[0mself\u001b[0m\u001b[0;34m.\u001b[0m\u001b[0msave_trails\u001b[0m\u001b[0;34m(\u001b[0m\u001b[0;34m)\u001b[0m\u001b[0;34m\u001b[0m\u001b[0;34m\u001b[0m\u001b[0m\n\u001b[1;32m    199\u001b[0m \u001b[0;34m\u001b[0m\u001b[0m\n",
      "\u001b[0;32m~/Apna_Assignment/src/ml_auto/hyperopt_model_selection.py\u001b[0m in \u001b[0;36m__call__\u001b[0;34m(self)\u001b[0m\n\u001b[1;32m    186\u001b[0m     \u001b[0;32mdef\u001b[0m \u001b[0m__call__\u001b[0m\u001b[0;34m(\u001b[0m\u001b[0mself\u001b[0m\u001b[0;34m)\u001b[0m\u001b[0;34m:\u001b[0m\u001b[0;34m\u001b[0m\u001b[0;34m\u001b[0m\u001b[0m\n\u001b[1;32m    187\u001b[0m         \u001b[0mself\u001b[0m\u001b[0;34m.\u001b[0m\u001b[0miteration\u001b[0m\u001b[0;34m=\u001b[0m\u001b[0;36m0\u001b[0m\u001b[0;34m\u001b[0m\u001b[0;34m\u001b[0m\u001b[0m\n\u001b[0;32m--> 188\u001b[0;31m         \u001b[0mbest\u001b[0m \u001b[0;34m=\u001b[0m \u001b[0mfmin\u001b[0m\u001b[0;34m(\u001b[0m\u001b[0mself\u001b[0m\u001b[0;34m.\u001b[0m\u001b[0mobjective\u001b[0m\u001b[0;34m,\u001b[0m \u001b[0mself\u001b[0m\u001b[0;34m.\u001b[0m\u001b[0mspace\u001b[0m\u001b[0;34m,\u001b[0m \u001b[0malgo\u001b[0m\u001b[0;34m=\u001b[0m\u001b[0mtpe\u001b[0m\u001b[0;34m.\u001b[0m\u001b[0msuggest\u001b[0m\u001b[0;34m,\u001b[0m \u001b[0mtrials\u001b[0m\u001b[0;34m=\u001b[0m\u001b[0mself\u001b[0m\u001b[0;34m.\u001b[0m\u001b[0mtrials\u001b[0m\u001b[0;34m,\u001b[0m \u001b[0mmax_evals\u001b[0m\u001b[0;34m=\u001b[0m\u001b[0mself\u001b[0m\u001b[0;34m.\u001b[0m\u001b[0mmax_evals\u001b[0m\u001b[0;34m,\u001b[0m \u001b[0mrstate\u001b[0m\u001b[0;34m=\u001b[0m\u001b[0mnp\u001b[0m\u001b[0;34m.\u001b[0m\u001b[0mrandom\u001b[0m\u001b[0;34m.\u001b[0m\u001b[0mdefault_rng\u001b[0m\u001b[0;34m(\u001b[0m\u001b[0mself\u001b[0m\u001b[0;34m.\u001b[0m\u001b[0mrandom_seed\u001b[0m\u001b[0;34m)\u001b[0m\u001b[0;34m)\u001b[0m\u001b[0;34m\u001b[0m\u001b[0;34m\u001b[0m\u001b[0m\n\u001b[0m\u001b[1;32m    189\u001b[0m         \u001b[0;32mreturn\u001b[0m \u001b[0mbest\u001b[0m\u001b[0;34m\u001b[0m\u001b[0;34m\u001b[0m\u001b[0m\n\u001b[1;32m    190\u001b[0m \u001b[0;34m\u001b[0m\u001b[0m\n",
      "\u001b[0;32m~/anaconda3/lib/python3.9/site-packages/hyperopt/fmin.py\u001b[0m in \u001b[0;36mfmin\u001b[0;34m(fn, space, algo, max_evals, timeout, loss_threshold, trials, rstate, allow_trials_fmin, pass_expr_memo_ctrl, catch_eval_exceptions, verbose, return_argmin, points_to_evaluate, max_queue_len, show_progressbar, early_stop_fn, trials_save_file)\u001b[0m\n\u001b[1;32m    538\u001b[0m \u001b[0;34m\u001b[0m\u001b[0m\n\u001b[1;32m    539\u001b[0m     \u001b[0;32mif\u001b[0m \u001b[0mallow_trials_fmin\u001b[0m \u001b[0;32mand\u001b[0m \u001b[0mhasattr\u001b[0m\u001b[0;34m(\u001b[0m\u001b[0mtrials\u001b[0m\u001b[0;34m,\u001b[0m \u001b[0;34m\"fmin\"\u001b[0m\u001b[0;34m)\u001b[0m\u001b[0;34m:\u001b[0m\u001b[0;34m\u001b[0m\u001b[0;34m\u001b[0m\u001b[0m\n\u001b[0;32m--> 540\u001b[0;31m         return trials.fmin(\n\u001b[0m\u001b[1;32m    541\u001b[0m             \u001b[0mfn\u001b[0m\u001b[0;34m,\u001b[0m\u001b[0;34m\u001b[0m\u001b[0;34m\u001b[0m\u001b[0m\n\u001b[1;32m    542\u001b[0m             \u001b[0mspace\u001b[0m\u001b[0;34m,\u001b[0m\u001b[0;34m\u001b[0m\u001b[0;34m\u001b[0m\u001b[0m\n",
      "\u001b[0;32m~/anaconda3/lib/python3.9/site-packages/hyperopt/base.py\u001b[0m in \u001b[0;36mfmin\u001b[0;34m(self, fn, space, algo, max_evals, timeout, loss_threshold, max_queue_len, rstate, verbose, pass_expr_memo_ctrl, catch_eval_exceptions, return_argmin, show_progressbar, early_stop_fn, trials_save_file)\u001b[0m\n\u001b[1;32m    669\u001b[0m         \u001b[0;32mfrom\u001b[0m \u001b[0;34m.\u001b[0m\u001b[0mfmin\u001b[0m \u001b[0;32mimport\u001b[0m \u001b[0mfmin\u001b[0m\u001b[0;34m\u001b[0m\u001b[0;34m\u001b[0m\u001b[0m\n\u001b[1;32m    670\u001b[0m \u001b[0;34m\u001b[0m\u001b[0m\n\u001b[0;32m--> 671\u001b[0;31m         return fmin(\n\u001b[0m\u001b[1;32m    672\u001b[0m             \u001b[0mfn\u001b[0m\u001b[0;34m,\u001b[0m\u001b[0;34m\u001b[0m\u001b[0;34m\u001b[0m\u001b[0m\n\u001b[1;32m    673\u001b[0m             \u001b[0mspace\u001b[0m\u001b[0;34m,\u001b[0m\u001b[0;34m\u001b[0m\u001b[0;34m\u001b[0m\u001b[0m\n",
      "\u001b[0;32m~/anaconda3/lib/python3.9/site-packages/hyperopt/fmin.py\u001b[0m in \u001b[0;36mfmin\u001b[0;34m(fn, space, algo, max_evals, timeout, loss_threshold, trials, rstate, allow_trials_fmin, pass_expr_memo_ctrl, catch_eval_exceptions, verbose, return_argmin, points_to_evaluate, max_queue_len, show_progressbar, early_stop_fn, trials_save_file)\u001b[0m\n\u001b[1;32m    584\u001b[0m \u001b[0;34m\u001b[0m\u001b[0m\n\u001b[1;32m    585\u001b[0m     \u001b[0;31m# next line is where the fmin is actually executed\u001b[0m\u001b[0;34m\u001b[0m\u001b[0;34m\u001b[0m\u001b[0m\n\u001b[0;32m--> 586\u001b[0;31m     \u001b[0mrval\u001b[0m\u001b[0;34m.\u001b[0m\u001b[0mexhaust\u001b[0m\u001b[0;34m(\u001b[0m\u001b[0;34m)\u001b[0m\u001b[0;34m\u001b[0m\u001b[0;34m\u001b[0m\u001b[0m\n\u001b[0m\u001b[1;32m    587\u001b[0m \u001b[0;34m\u001b[0m\u001b[0m\n\u001b[1;32m    588\u001b[0m     \u001b[0;32mif\u001b[0m \u001b[0mreturn_argmin\u001b[0m\u001b[0;34m:\u001b[0m\u001b[0;34m\u001b[0m\u001b[0;34m\u001b[0m\u001b[0m\n",
      "\u001b[0;32m~/anaconda3/lib/python3.9/site-packages/hyperopt/fmin.py\u001b[0m in \u001b[0;36mexhaust\u001b[0;34m(self)\u001b[0m\n\u001b[1;32m    362\u001b[0m     \u001b[0;32mdef\u001b[0m \u001b[0mexhaust\u001b[0m\u001b[0;34m(\u001b[0m\u001b[0mself\u001b[0m\u001b[0;34m)\u001b[0m\u001b[0;34m:\u001b[0m\u001b[0;34m\u001b[0m\u001b[0;34m\u001b[0m\u001b[0m\n\u001b[1;32m    363\u001b[0m         \u001b[0mn_done\u001b[0m \u001b[0;34m=\u001b[0m \u001b[0mlen\u001b[0m\u001b[0;34m(\u001b[0m\u001b[0mself\u001b[0m\u001b[0;34m.\u001b[0m\u001b[0mtrials\u001b[0m\u001b[0;34m)\u001b[0m\u001b[0;34m\u001b[0m\u001b[0;34m\u001b[0m\u001b[0m\n\u001b[0;32m--> 364\u001b[0;31m         \u001b[0mself\u001b[0m\u001b[0;34m.\u001b[0m\u001b[0mrun\u001b[0m\u001b[0;34m(\u001b[0m\u001b[0mself\u001b[0m\u001b[0;34m.\u001b[0m\u001b[0mmax_evals\u001b[0m \u001b[0;34m-\u001b[0m \u001b[0mn_done\u001b[0m\u001b[0;34m,\u001b[0m \u001b[0mblock_until_done\u001b[0m\u001b[0;34m=\u001b[0m\u001b[0mself\u001b[0m\u001b[0;34m.\u001b[0m\u001b[0masynchronous\u001b[0m\u001b[0;34m)\u001b[0m\u001b[0;34m\u001b[0m\u001b[0;34m\u001b[0m\u001b[0m\n\u001b[0m\u001b[1;32m    365\u001b[0m         \u001b[0mself\u001b[0m\u001b[0;34m.\u001b[0m\u001b[0mtrials\u001b[0m\u001b[0;34m.\u001b[0m\u001b[0mrefresh\u001b[0m\u001b[0;34m(\u001b[0m\u001b[0;34m)\u001b[0m\u001b[0;34m\u001b[0m\u001b[0;34m\u001b[0m\u001b[0m\n\u001b[1;32m    366\u001b[0m         \u001b[0;32mreturn\u001b[0m \u001b[0mself\u001b[0m\u001b[0;34m\u001b[0m\u001b[0;34m\u001b[0m\u001b[0m\n",
      "\u001b[0;32m~/anaconda3/lib/python3.9/site-packages/hyperopt/fmin.py\u001b[0m in \u001b[0;36mrun\u001b[0;34m(self, N, block_until_done)\u001b[0m\n\u001b[1;32m    298\u001b[0m                 \u001b[0;32melse\u001b[0m\u001b[0;34m:\u001b[0m\u001b[0;34m\u001b[0m\u001b[0;34m\u001b[0m\u001b[0m\n\u001b[1;32m    299\u001b[0m                     \u001b[0;31m# -- loop over trials and do the jobs directly\u001b[0m\u001b[0;34m\u001b[0m\u001b[0;34m\u001b[0m\u001b[0m\n\u001b[0;32m--> 300\u001b[0;31m                     \u001b[0mself\u001b[0m\u001b[0;34m.\u001b[0m\u001b[0mserial_evaluate\u001b[0m\u001b[0;34m(\u001b[0m\u001b[0;34m)\u001b[0m\u001b[0;34m\u001b[0m\u001b[0;34m\u001b[0m\u001b[0m\n\u001b[0m\u001b[1;32m    301\u001b[0m \u001b[0;34m\u001b[0m\u001b[0m\n\u001b[1;32m    302\u001b[0m                 \u001b[0mself\u001b[0m\u001b[0;34m.\u001b[0m\u001b[0mtrials\u001b[0m\u001b[0;34m.\u001b[0m\u001b[0mrefresh\u001b[0m\u001b[0;34m(\u001b[0m\u001b[0;34m)\u001b[0m\u001b[0;34m\u001b[0m\u001b[0;34m\u001b[0m\u001b[0m\n",
      "\u001b[0;32m~/anaconda3/lib/python3.9/site-packages/hyperopt/fmin.py\u001b[0m in \u001b[0;36mserial_evaluate\u001b[0;34m(self, N)\u001b[0m\n\u001b[1;32m    176\u001b[0m                 \u001b[0mctrl\u001b[0m \u001b[0;34m=\u001b[0m \u001b[0mbase\u001b[0m\u001b[0;34m.\u001b[0m\u001b[0mCtrl\u001b[0m\u001b[0;34m(\u001b[0m\u001b[0mself\u001b[0m\u001b[0;34m.\u001b[0m\u001b[0mtrials\u001b[0m\u001b[0;34m,\u001b[0m \u001b[0mcurrent_trial\u001b[0m\u001b[0;34m=\u001b[0m\u001b[0mtrial\u001b[0m\u001b[0;34m)\u001b[0m\u001b[0;34m\u001b[0m\u001b[0;34m\u001b[0m\u001b[0m\n\u001b[1;32m    177\u001b[0m                 \u001b[0;32mtry\u001b[0m\u001b[0;34m:\u001b[0m\u001b[0;34m\u001b[0m\u001b[0;34m\u001b[0m\u001b[0m\n\u001b[0;32m--> 178\u001b[0;31m                     \u001b[0mresult\u001b[0m \u001b[0;34m=\u001b[0m \u001b[0mself\u001b[0m\u001b[0;34m.\u001b[0m\u001b[0mdomain\u001b[0m\u001b[0;34m.\u001b[0m\u001b[0mevaluate\u001b[0m\u001b[0;34m(\u001b[0m\u001b[0mspec\u001b[0m\u001b[0;34m,\u001b[0m \u001b[0mctrl\u001b[0m\u001b[0;34m)\u001b[0m\u001b[0;34m\u001b[0m\u001b[0;34m\u001b[0m\u001b[0m\n\u001b[0m\u001b[1;32m    179\u001b[0m                 \u001b[0;32mexcept\u001b[0m \u001b[0mException\u001b[0m \u001b[0;32mas\u001b[0m \u001b[0me\u001b[0m\u001b[0;34m:\u001b[0m\u001b[0;34m\u001b[0m\u001b[0;34m\u001b[0m\u001b[0m\n\u001b[1;32m    180\u001b[0m                     \u001b[0mlogger\u001b[0m\u001b[0;34m.\u001b[0m\u001b[0merror\u001b[0m\u001b[0;34m(\u001b[0m\u001b[0;34m\"job exception: %s\"\u001b[0m \u001b[0;34m%\u001b[0m \u001b[0mstr\u001b[0m\u001b[0;34m(\u001b[0m\u001b[0me\u001b[0m\u001b[0;34m)\u001b[0m\u001b[0;34m)\u001b[0m\u001b[0;34m\u001b[0m\u001b[0;34m\u001b[0m\u001b[0m\n",
      "\u001b[0;32m~/anaconda3/lib/python3.9/site-packages/hyperopt/base.py\u001b[0m in \u001b[0;36mevaluate\u001b[0;34m(self, config, ctrl, attach_attachments)\u001b[0m\n\u001b[1;32m    890\u001b[0m                 \u001b[0mprint_node_on_error\u001b[0m\u001b[0;34m=\u001b[0m\u001b[0mself\u001b[0m\u001b[0;34m.\u001b[0m\u001b[0mrec_eval_print_node_on_error\u001b[0m\u001b[0;34m,\u001b[0m\u001b[0;34m\u001b[0m\u001b[0;34m\u001b[0m\u001b[0m\n\u001b[1;32m    891\u001b[0m             )\n\u001b[0;32m--> 892\u001b[0;31m             \u001b[0mrval\u001b[0m \u001b[0;34m=\u001b[0m \u001b[0mself\u001b[0m\u001b[0;34m.\u001b[0m\u001b[0mfn\u001b[0m\u001b[0;34m(\u001b[0m\u001b[0mpyll_rval\u001b[0m\u001b[0;34m)\u001b[0m\u001b[0;34m\u001b[0m\u001b[0;34m\u001b[0m\u001b[0m\n\u001b[0m\u001b[1;32m    893\u001b[0m \u001b[0;34m\u001b[0m\u001b[0m\n\u001b[1;32m    894\u001b[0m         \u001b[0;32mif\u001b[0m \u001b[0misinstance\u001b[0m\u001b[0;34m(\u001b[0m\u001b[0mrval\u001b[0m\u001b[0;34m,\u001b[0m \u001b[0;34m(\u001b[0m\u001b[0mfloat\u001b[0m\u001b[0;34m,\u001b[0m \u001b[0mint\u001b[0m\u001b[0;34m,\u001b[0m \u001b[0mnp\u001b[0m\u001b[0;34m.\u001b[0m\u001b[0mnumber\u001b[0m\u001b[0;34m)\u001b[0m\u001b[0;34m)\u001b[0m\u001b[0;34m:\u001b[0m\u001b[0;34m\u001b[0m\u001b[0;34m\u001b[0m\u001b[0m\n",
      "\u001b[0;32m~/Apna_Assignment/src/ml_auto/hyperopt_model_selection.py\u001b[0m in \u001b[0;36mobjective\u001b[0;34m(self, params)\u001b[0m\n\u001b[1;32m    171\u001b[0m         \u001b[0;32mif\u001b[0m \u001b[0;32mnot\u001b[0m \u001b[0mself\u001b[0m\u001b[0;34m.\u001b[0m\u001b[0muse_kafka\u001b[0m\u001b[0;34m:\u001b[0m\u001b[0;34m\u001b[0m\u001b[0;34m\u001b[0m\u001b[0m\n\u001b[1;32m    172\u001b[0m             \u001b[0mmodel_estimator\u001b[0m \u001b[0;34m=\u001b[0m \u001b[0mEstimator\u001b[0m\u001b[0;34m(\u001b[0m\u001b[0;34m**\u001b[0m\u001b[0mmodel_estimator_params\u001b[0m\u001b[0;34m)\u001b[0m\u001b[0;34m\u001b[0m\u001b[0;34m\u001b[0m\u001b[0m\n\u001b[0;32m--> 173\u001b[0;31m             \u001b[0mscore\u001b[0m \u001b[0;34m=\u001b[0m \u001b[0mevaluate_individual\u001b[0m\u001b[0;34m(\u001b[0m\u001b[0mself\u001b[0m\u001b[0;34m.\u001b[0m\u001b[0mx\u001b[0m\u001b[0;34m,\u001b[0m \u001b[0mself\u001b[0m\u001b[0;34m.\u001b[0m\u001b[0my\u001b[0m\u001b[0;34m,\u001b[0m \u001b[0mmodel_estimator\u001b[0m\u001b[0;34m,\u001b[0m \u001b[0mnum_repeats\u001b[0m\u001b[0;34m=\u001b[0m\u001b[0mself\u001b[0m\u001b[0;34m.\u001b[0m\u001b[0mnum_repeats\u001b[0m\u001b[0;34m,\u001b[0m \u001b[0mfs_individual\u001b[0m\u001b[0;34m=\u001b[0m\u001b[0mself\u001b[0m\u001b[0;34m.\u001b[0m\u001b[0mcolumns\u001b[0m\u001b[0;34m)\u001b[0m\u001b[0;34m\u001b[0m\u001b[0;34m\u001b[0m\u001b[0m\n\u001b[0m\u001b[1;32m    174\u001b[0m         \u001b[0;32melse\u001b[0m\u001b[0;34m:\u001b[0m\u001b[0;34m\u001b[0m\u001b[0;34m\u001b[0m\u001b[0m\n\u001b[1;32m    175\u001b[0m             \u001b[0;31m# distributing the task through kafka\u001b[0m\u001b[0;34m\u001b[0m\u001b[0;34m\u001b[0m\u001b[0m\n",
      "\u001b[0;32m~/Apna_Assignment/src/ml_auto/genetic_individual.py\u001b[0m in \u001b[0;36mevaluate_individual\u001b[0;34m(X, y, model_estimator, fc_individual, fs_individual, num_repeats, previous_transformations)\u001b[0m\n\u001b[1;32m    108\u001b[0m         \u001b[0mX_temp\u001b[0m \u001b[0;34m=\u001b[0m \u001b[0mX_temp\u001b[0m\u001b[0;34m[\u001b[0m\u001b[0;34m:\u001b[0m\u001b[0;34m,\u001b[0m \u001b[0mfs_individual\u001b[0m\u001b[0;34m]\u001b[0m\u001b[0;34m\u001b[0m\u001b[0;34m\u001b[0m\u001b[0m\n\u001b[1;32m    109\u001b[0m     \u001b[0;31m# build the model on final dataset and return it's fitness\u001b[0m\u001b[0;34m\u001b[0m\u001b[0;34m\u001b[0m\u001b[0m\n\u001b[0;32m--> 110\u001b[0;31m     \u001b[0;32mreturn\u001b[0m \u001b[0mmodel_estimator\u001b[0m\u001b[0;34m.\u001b[0m\u001b[0mget_repeated_out_of_folds\u001b[0m\u001b[0;34m(\u001b[0m\u001b[0mX_temp\u001b[0m\u001b[0;34m,\u001b[0m \u001b[0my\u001b[0m\u001b[0;34m,\u001b[0m \u001b[0mnum_repeats\u001b[0m\u001b[0;34m=\u001b[0m\u001b[0mnum_repeats\u001b[0m\u001b[0;34m)\u001b[0m\u001b[0;34m\u001b[0m\u001b[0;34m\u001b[0m\u001b[0m\n\u001b[0m",
      "\u001b[0;32m~/Apna_Assignment/src/ml_auto/custom_estimator.py\u001b[0m in \u001b[0;36mget_repeated_out_of_folds\u001b[0;34m(self, x, y, num_repeats)\u001b[0m\n\u001b[1;32m    197\u001b[0m         \u001b[0;32mfor\u001b[0m \u001b[0miteration\u001b[0m \u001b[0;32min\u001b[0m \u001b[0mrange\u001b[0m\u001b[0;34m(\u001b[0m\u001b[0mnum_repeats\u001b[0m\u001b[0;34m)\u001b[0m\u001b[0;34m:\u001b[0m\u001b[0;34m\u001b[0m\u001b[0;34m\u001b[0m\u001b[0m\n\u001b[1;32m    198\u001b[0m             \u001b[0mself\u001b[0m\u001b[0;34m.\u001b[0m\u001b[0mrandom_state\u001b[0m \u001b[0;34m=\u001b[0m \u001b[0mrandom\u001b[0m\u001b[0;34m.\u001b[0m\u001b[0mrandint\u001b[0m\u001b[0;34m(\u001b[0m\u001b[0;36m0\u001b[0m\u001b[0;34m,\u001b[0m\u001b[0;36m1000\u001b[0m\u001b[0;34m)\u001b[0m \u001b[0;32mif\u001b[0m \u001b[0mself\u001b[0m\u001b[0;34m.\u001b[0m\u001b[0mrandom_state\u001b[0m\u001b[0;34m==\u001b[0m\u001b[0;34m'random'\u001b[0m \u001b[0;32melse\u001b[0m \u001b[0mself\u001b[0m\u001b[0;34m.\u001b[0m\u001b[0mseed\u001b[0m\u001b[0;34m*\u001b[0m\u001b[0;34m(\u001b[0m\u001b[0miteration\u001b[0m\u001b[0;34m+\u001b[0m\u001b[0;36m1\u001b[0m\u001b[0;34m)\u001b[0m\u001b[0;34m\u001b[0m\u001b[0;34m\u001b[0m\u001b[0m\n\u001b[0;32m--> 199\u001b[0;31m             \u001b[0mpredictions\u001b[0m \u001b[0;34m=\u001b[0m \u001b[0mself\u001b[0m\u001b[0;34m.\u001b[0m\u001b[0mfit_transform\u001b[0m\u001b[0;34m(\u001b[0m\u001b[0mx\u001b[0m\u001b[0;34m,\u001b[0m \u001b[0my\u001b[0m\u001b[0;34m)\u001b[0m\u001b[0;34m\u001b[0m\u001b[0;34m\u001b[0m\u001b[0m\n\u001b[0m\u001b[1;32m    200\u001b[0m             \u001b[0mcv_scores\u001b[0m\u001b[0;34m+=\u001b[0m\u001b[0mself\u001b[0m\u001b[0;34m.\u001b[0m\u001b[0mcv_scores\u001b[0m\u001b[0;34m\u001b[0m\u001b[0;34m\u001b[0m\u001b[0m\n\u001b[1;32m    201\u001b[0m             \u001b[0mself\u001b[0m\u001b[0;34m.\u001b[0m\u001b[0mrandom_state\u001b[0m \u001b[0;34m=\u001b[0m \u001b[0;34m'random'\u001b[0m \u001b[0;32mif\u001b[0m \u001b[0mself\u001b[0m\u001b[0;34m.\u001b[0m\u001b[0mrandom_state\u001b[0m\u001b[0;34m==\u001b[0m\u001b[0;34m'random'\u001b[0m \u001b[0;32melse\u001b[0m \u001b[0mself\u001b[0m\u001b[0;34m.\u001b[0m\u001b[0mseed\u001b[0m\u001b[0;34m\u001b[0m\u001b[0;34m\u001b[0m\u001b[0m\n",
      "\u001b[0;32m~/Apna_Assignment/src/ml_auto/custom_estimator.py\u001b[0m in \u001b[0;36mfit_transform\u001b[0;34m(self, x, y)\u001b[0m\n\u001b[1;32m    145\u001b[0m \u001b[0;34m\u001b[0m\u001b[0m\n\u001b[1;32m    146\u001b[0m     \u001b[0;32mdef\u001b[0m \u001b[0mfit_transform\u001b[0m\u001b[0;34m(\u001b[0m\u001b[0mself\u001b[0m\u001b[0;34m,\u001b[0m \u001b[0mx\u001b[0m\u001b[0;34m,\u001b[0m \u001b[0my\u001b[0m\u001b[0;34m)\u001b[0m\u001b[0;34m:\u001b[0m\u001b[0;34m\u001b[0m\u001b[0;34m\u001b[0m\u001b[0m\n\u001b[0;32m--> 147\u001b[0;31m         \u001b[0mself\u001b[0m\u001b[0;34m.\u001b[0m\u001b[0mfit\u001b[0m\u001b[0;34m(\u001b[0m\u001b[0mx\u001b[0m\u001b[0;34m,\u001b[0m \u001b[0my\u001b[0m\u001b[0;34m,\u001b[0m \u001b[0muse_oof\u001b[0m\u001b[0;34m=\u001b[0m\u001b[0;32mTrue\u001b[0m\u001b[0;34m)\u001b[0m\u001b[0;34m\u001b[0m\u001b[0;34m\u001b[0m\u001b[0m\n\u001b[0m\u001b[1;32m    148\u001b[0m         \u001b[0mpredictions\u001b[0m \u001b[0;34m=\u001b[0m \u001b[0mnp\u001b[0m\u001b[0;34m.\u001b[0m\u001b[0mzeros\u001b[0m\u001b[0;34m(\u001b[0m\u001b[0;34m(\u001b[0m\u001b[0mx\u001b[0m\u001b[0;34m.\u001b[0m\u001b[0mshape\u001b[0m\u001b[0;34m[\u001b[0m\u001b[0;36m0\u001b[0m\u001b[0;34m]\u001b[0m\u001b[0;34m,\u001b[0m\u001b[0;34m)\u001b[0m\u001b[0;34m)\u001b[0m\u001b[0;34m\u001b[0m\u001b[0;34m\u001b[0m\u001b[0m\n\u001b[1;32m    149\u001b[0m         \u001b[0;32mfor\u001b[0m \u001b[0mi\u001b[0m\u001b[0;34m,\u001b[0m \u001b[0;34m(\u001b[0m\u001b[0mtrain_index\u001b[0m\u001b[0;34m,\u001b[0m \u001b[0mtest_index\u001b[0m\u001b[0;34m)\u001b[0m \u001b[0;32min\u001b[0m \u001b[0menumerate\u001b[0m\u001b[0;34m(\u001b[0m\u001b[0mself\u001b[0m\u001b[0;34m.\u001b[0m\u001b[0mindices\u001b[0m\u001b[0;34m)\u001b[0m\u001b[0;34m:\u001b[0m\u001b[0;34m\u001b[0m\u001b[0;34m\u001b[0m\u001b[0m\n",
      "\u001b[0;32m~/Apna_Assignment/src/ml_auto/custom_estimator.py\u001b[0m in \u001b[0;36mfit\u001b[0;34m(self, x, y, use_oof, n_jobs)\u001b[0m\n\u001b[1;32m     79\u001b[0m                 \u001b[0mmodel\u001b[0m\u001b[0;34m.\u001b[0m\u001b[0mn_jobs\u001b[0m \u001b[0;34m=\u001b[0m \u001b[0mn_jobs\u001b[0m\u001b[0;34m\u001b[0m\u001b[0;34m\u001b[0m\u001b[0m\n\u001b[1;32m     80\u001b[0m                 \u001b[0;32mif\u001b[0m \u001b[0;34m(\u001b[0m\u001b[0misinstance\u001b[0m\u001b[0;34m(\u001b[0m\u001b[0mmodel\u001b[0m\u001b[0;34m,\u001b[0m \u001b[0mLGBMRegressor\u001b[0m\u001b[0;34m)\u001b[0m \u001b[0;32mand\u001b[0m \u001b[0mself\u001b[0m\u001b[0;34m.\u001b[0m\u001b[0mearly_stopping_rounds\u001b[0m \u001b[0;32mis\u001b[0m \u001b[0;32mnot\u001b[0m \u001b[0;32mNone\u001b[0m\u001b[0;34m)\u001b[0m\u001b[0;34m:\u001b[0m\u001b[0;34m\u001b[0m\u001b[0;34m\u001b[0m\u001b[0m\n\u001b[0;32m---> 81\u001b[0;31m                     model.fit(X=x[train_index], y=y[train_index], eval_set=[(x[test_index],y[test_index]),(x[train_index],y[train_index])],\n\u001b[0m\u001b[1;32m     82\u001b[0m                         verbose=100, eval_metric='rmse', early_stopping_rounds=self.early_stopping_rounds)\n\u001b[1;32m     83\u001b[0m                 \u001b[0;32melif\u001b[0m \u001b[0;34m(\u001b[0m\u001b[0misinstance\u001b[0m\u001b[0;34m(\u001b[0m\u001b[0mmodel\u001b[0m\u001b[0;34m,\u001b[0m \u001b[0mXGBClassifier\u001b[0m\u001b[0;34m)\u001b[0m \u001b[0;32mand\u001b[0m \u001b[0mself\u001b[0m\u001b[0;34m.\u001b[0m\u001b[0mearly_stopping_rounds\u001b[0m \u001b[0;32mis\u001b[0m \u001b[0;32mnot\u001b[0m \u001b[0;32mNone\u001b[0m\u001b[0;34m)\u001b[0m\u001b[0;34m:\u001b[0m\u001b[0;34m\u001b[0m\u001b[0;34m\u001b[0m\u001b[0m\n",
      "\u001b[0;32m~/anaconda3/lib/python3.9/site-packages/lightgbm/sklearn.py\u001b[0m in \u001b[0;36mfit\u001b[0;34m(self, X, y, sample_weight, init_score, eval_set, eval_names, eval_sample_weight, eval_init_score, eval_metric, early_stopping_rounds, verbose, feature_name, categorical_feature, callbacks, init_model)\u001b[0m\n\u001b[1;32m    893\u001b[0m             callbacks=None, init_model=None):\n\u001b[1;32m    894\u001b[0m         \u001b[0;34m\"\"\"Docstring is inherited from the LGBMModel.\"\"\"\u001b[0m\u001b[0;34m\u001b[0m\u001b[0;34m\u001b[0m\u001b[0m\n\u001b[0;32m--> 895\u001b[0;31m         super().fit(X, y, sample_weight=sample_weight, init_score=init_score,\n\u001b[0m\u001b[1;32m    896\u001b[0m                     \u001b[0meval_set\u001b[0m\u001b[0;34m=\u001b[0m\u001b[0meval_set\u001b[0m\u001b[0;34m,\u001b[0m \u001b[0meval_names\u001b[0m\u001b[0;34m=\u001b[0m\u001b[0meval_names\u001b[0m\u001b[0;34m,\u001b[0m \u001b[0meval_sample_weight\u001b[0m\u001b[0;34m=\u001b[0m\u001b[0meval_sample_weight\u001b[0m\u001b[0;34m,\u001b[0m\u001b[0;34m\u001b[0m\u001b[0;34m\u001b[0m\u001b[0m\n\u001b[1;32m    897\u001b[0m                     \u001b[0meval_init_score\u001b[0m\u001b[0;34m=\u001b[0m\u001b[0meval_init_score\u001b[0m\u001b[0;34m,\u001b[0m \u001b[0meval_metric\u001b[0m\u001b[0;34m=\u001b[0m\u001b[0meval_metric\u001b[0m\u001b[0;34m,\u001b[0m\u001b[0;34m\u001b[0m\u001b[0;34m\u001b[0m\u001b[0m\n",
      "\u001b[0;32m~/anaconda3/lib/python3.9/site-packages/lightgbm/sklearn.py\u001b[0m in \u001b[0;36mfit\u001b[0;34m(self, X, y, sample_weight, init_score, group, eval_set, eval_names, eval_sample_weight, eval_class_weight, eval_init_score, eval_group, eval_metric, early_stopping_rounds, verbose, feature_name, categorical_feature, callbacks, init_model)\u001b[0m\n\u001b[1;32m    746\u001b[0m         \u001b[0mcallbacks\u001b[0m\u001b[0;34m.\u001b[0m\u001b[0mappend\u001b[0m\u001b[0;34m(\u001b[0m\u001b[0mrecord_evaluation\u001b[0m\u001b[0;34m(\u001b[0m\u001b[0mevals_result\u001b[0m\u001b[0;34m)\u001b[0m\u001b[0;34m)\u001b[0m\u001b[0;34m\u001b[0m\u001b[0;34m\u001b[0m\u001b[0m\n\u001b[1;32m    747\u001b[0m \u001b[0;34m\u001b[0m\u001b[0m\n\u001b[0;32m--> 748\u001b[0;31m         self._Booster = train(\n\u001b[0m\u001b[1;32m    749\u001b[0m             \u001b[0mparams\u001b[0m\u001b[0;34m=\u001b[0m\u001b[0mparams\u001b[0m\u001b[0;34m,\u001b[0m\u001b[0;34m\u001b[0m\u001b[0;34m\u001b[0m\u001b[0m\n\u001b[1;32m    750\u001b[0m             \u001b[0mtrain_set\u001b[0m\u001b[0;34m=\u001b[0m\u001b[0mtrain_set\u001b[0m\u001b[0;34m,\u001b[0m\u001b[0;34m\u001b[0m\u001b[0;34m\u001b[0m\u001b[0m\n",
      "\u001b[0;32m~/anaconda3/lib/python3.9/site-packages/lightgbm/engine.py\u001b[0m in \u001b[0;36mtrain\u001b[0;34m(params, train_set, num_boost_round, valid_sets, valid_names, fobj, feval, init_model, feature_name, categorical_feature, early_stopping_rounds, evals_result, verbose_eval, learning_rates, keep_training_booster, callbacks)\u001b[0m\n\u001b[1;32m    290\u001b[0m                                     evaluation_result_list=None))\n\u001b[1;32m    291\u001b[0m \u001b[0;34m\u001b[0m\u001b[0m\n\u001b[0;32m--> 292\u001b[0;31m         \u001b[0mbooster\u001b[0m\u001b[0;34m.\u001b[0m\u001b[0mupdate\u001b[0m\u001b[0;34m(\u001b[0m\u001b[0mfobj\u001b[0m\u001b[0;34m=\u001b[0m\u001b[0mfobj\u001b[0m\u001b[0;34m)\u001b[0m\u001b[0;34m\u001b[0m\u001b[0;34m\u001b[0m\u001b[0m\n\u001b[0m\u001b[1;32m    293\u001b[0m \u001b[0;34m\u001b[0m\u001b[0m\n\u001b[1;32m    294\u001b[0m         \u001b[0mevaluation_result_list\u001b[0m \u001b[0;34m=\u001b[0m \u001b[0;34m[\u001b[0m\u001b[0;34m]\u001b[0m\u001b[0;34m\u001b[0m\u001b[0;34m\u001b[0m\u001b[0m\n",
      "\u001b[0;32m~/anaconda3/lib/python3.9/site-packages/lightgbm/basic.py\u001b[0m in \u001b[0;36mupdate\u001b[0;34m(self, train_set, fobj)\u001b[0m\n\u001b[1;32m   3019\u001b[0m             \u001b[0;32mif\u001b[0m \u001b[0mself\u001b[0m\u001b[0;34m.\u001b[0m\u001b[0m__set_objective_to_none\u001b[0m\u001b[0;34m:\u001b[0m\u001b[0;34m\u001b[0m\u001b[0;34m\u001b[0m\u001b[0m\n\u001b[1;32m   3020\u001b[0m                 \u001b[0;32mraise\u001b[0m \u001b[0mLightGBMError\u001b[0m\u001b[0;34m(\u001b[0m\u001b[0;34m'Cannot update due to null objective function.'\u001b[0m\u001b[0;34m)\u001b[0m\u001b[0;34m\u001b[0m\u001b[0;34m\u001b[0m\u001b[0m\n\u001b[0;32m-> 3021\u001b[0;31m             _safe_call(_LIB.LGBM_BoosterUpdateOneIter(\n\u001b[0m\u001b[1;32m   3022\u001b[0m                 \u001b[0mself\u001b[0m\u001b[0;34m.\u001b[0m\u001b[0mhandle\u001b[0m\u001b[0;34m,\u001b[0m\u001b[0;34m\u001b[0m\u001b[0;34m\u001b[0m\u001b[0m\n\u001b[1;32m   3023\u001b[0m                 ctypes.byref(is_finished)))\n",
      "\u001b[0;31mKeyboardInterrupt\u001b[0m: "
     ]
    }
   ],
   "source": [
    "hyp.fit(df[use_cols].values,target)"
   ]
  },
  {
   "cell_type": "code",
   "execution_count": null,
   "id": "632f9304",
   "metadata": {},
   "outputs": [],
   "source": [
    "hyp.best_score"
   ]
  },
  {
   "cell_type": "code",
   "execution_count": null,
   "id": "ab57f672",
   "metadata": {},
   "outputs": [],
   "source": [
    "hyp.best_params"
   ]
  },
  {
   "cell_type": "code",
   "execution_count": 54,
   "id": "4ec3b0b6",
   "metadata": {},
   "outputs": [],
   "source": [
    "params = {'boosting_type': 'gbdt', 'colsample_bytree': 0.8, 'learning_rate': 0.1,\n",
    "          'min_child_samples': 90, 'n_estimators': 10000, 'n_jobs': -1, 'num_leaves': 16,\n",
    "          'objective': 'regression', 'subsample': 1.0, 'subsample_freq': 10}"
   ]
  },
  {
   "cell_type": "code",
   "execution_count": 60,
   "id": "992fcdf0",
   "metadata": {},
   "outputs": [],
   "source": [
    "est = Estimator(model=LGBMRegressor(**params),\n",
    "               early_stopping_rounds=100,\n",
    "               validation_scheme=folds,\n",
    "               shuffle=True)"
   ]
  },
  {
   "cell_type": "code",
   "execution_count": 61,
   "id": "ddc95c56",
   "metadata": {},
   "outputs": [
    {
     "name": "stdout",
     "output_type": "stream",
     "text": [
      "[100]\tvalid_0's rmse: 0.896201\tvalid_0's l2: 0.803176\tvalid_1's rmse: 0.802049\tvalid_1's l2: 0.643282\n",
      "[200]\tvalid_0's rmse: 0.891947\tvalid_0's l2: 0.79557\tvalid_1's rmse: 0.751353\tvalid_1's l2: 0.564532\n",
      "[100]\tvalid_0's rmse: 0.832942\tvalid_0's l2: 0.693792\tvalid_1's rmse: 0.803713\tvalid_1's l2: 0.645955\n",
      "[200]\tvalid_0's rmse: 0.828739\tvalid_0's l2: 0.686809\tvalid_1's rmse: 0.75204\tvalid_1's l2: 0.565565\n",
      "[300]\tvalid_0's rmse: 0.827675\tvalid_0's l2: 0.685047\tvalid_1's rmse: 0.714469\tvalid_1's l2: 0.510466\n",
      "[100]\tvalid_0's rmse: 0.868688\tvalid_0's l2: 0.754618\tvalid_1's rmse: 0.798485\tvalid_1's l2: 0.637578\n",
      "[200]\tvalid_0's rmse: 0.866917\tvalid_0's l2: 0.751545\tvalid_1's rmse: 0.746432\tvalid_1's l2: 0.557161\n",
      "[300]\tvalid_0's rmse: 0.866916\tvalid_0's l2: 0.751543\tvalid_1's rmse: 0.707903\tvalid_1's l2: 0.501127\n"
     ]
    },
    {
     "data": {
      "text/plain": [
       "{'cv_scores': [0.8919421973540256, 0.8267237387416502, 0.864585967796185],\n",
       " 'avg_cv_score': 0.8610839679639536,\n",
       " 'std_scores': 0.026740229842720033,\n",
       " 'overall_cv_score': 1.7138003955038021,\n",
       " 'eval_score': 0.8610839679639536}"
      ]
     },
     "execution_count": 61,
     "metadata": {},
     "output_type": "execute_result"
    }
   ],
   "source": [
    "est.get_repeated_out_of_folds(df[use_cols].values,target)"
   ]
  },
  {
   "cell_type": "code",
   "execution_count": 62,
   "id": "2730605e",
   "metadata": {},
   "outputs": [
    {
     "data": {
      "text/html": [
       "<div>\n",
       "<style scoped>\n",
       "    .dataframe tbody tr th:only-of-type {\n",
       "        vertical-align: middle;\n",
       "    }\n",
       "\n",
       "    .dataframe tbody tr th {\n",
       "        vertical-align: top;\n",
       "    }\n",
       "\n",
       "    .dataframe thead th {\n",
       "        text-align: right;\n",
       "    }\n",
       "</style>\n",
       "<table border=\"1\" class=\"dataframe\">\n",
       "  <thead>\n",
       "    <tr style=\"text-align: right;\">\n",
       "      <th></th>\n",
       "      <th>column</th>\n",
       "      <th>feature_importance</th>\n",
       "      <th>rank</th>\n",
       "      <th>cum_imp</th>\n",
       "    </tr>\n",
       "  </thead>\n",
       "  <tbody>\n",
       "    <tr>\n",
       "      <th>6</th>\n",
       "      <td>max_salary</td>\n",
       "      <td>0.040898</td>\n",
       "      <td>1</td>\n",
       "      <td>0.040898</td>\n",
       "    </tr>\n",
       "    <tr>\n",
       "      <th>5</th>\n",
       "      <td>num_openings</td>\n",
       "      <td>0.037440</td>\n",
       "      <td>2</td>\n",
       "      <td>0.078338</td>\n",
       "    </tr>\n",
       "    <tr>\n",
       "      <th>1</th>\n",
       "      <td>created_on</td>\n",
       "      <td>0.033638</td>\n",
       "      <td>3</td>\n",
       "      <td>0.111976</td>\n",
       "    </tr>\n",
       "    <tr>\n",
       "      <th>0</th>\n",
       "      <td>education</td>\n",
       "      <td>0.028673</td>\n",
       "      <td>4</td>\n",
       "      <td>0.140649</td>\n",
       "    </tr>\n",
       "    <tr>\n",
       "      <th>4</th>\n",
       "      <td>english</td>\n",
       "      <td>0.023098</td>\n",
       "      <td>5</td>\n",
       "      <td>0.163747</td>\n",
       "    </tr>\n",
       "    <tr>\n",
       "      <th>82</th>\n",
       "      <td>education_std_grpby_and_area</td>\n",
       "      <td>0.021223</td>\n",
       "      <td>6</td>\n",
       "      <td>0.184970</td>\n",
       "    </tr>\n",
       "    <tr>\n",
       "      <th>47</th>\n",
       "      <td>max_salary_std_grpby_and_organization</td>\n",
       "      <td>0.020193</td>\n",
       "      <td>7</td>\n",
       "      <td>0.205163</td>\n",
       "    </tr>\n",
       "    <tr>\n",
       "      <th>42</th>\n",
       "      <td>num_openings_std_grpby_and_organization</td>\n",
       "      <td>0.018833</td>\n",
       "      <td>8</td>\n",
       "      <td>0.223996</td>\n",
       "    </tr>\n",
       "    <tr>\n",
       "      <th>77</th>\n",
       "      <td>min_salary_std_grpby_and_area</td>\n",
       "      <td>0.018440</td>\n",
       "      <td>9</td>\n",
       "      <td>0.242436</td>\n",
       "    </tr>\n",
       "    <tr>\n",
       "      <th>41</th>\n",
       "      <td>num_openings_mean_grpby_and_organization</td>\n",
       "      <td>0.017832</td>\n",
       "      <td>10</td>\n",
       "      <td>0.260267</td>\n",
       "    </tr>\n",
       "    <tr>\n",
       "      <th>111</th>\n",
       "      <td>applicant_location_mean_grpby_and_category_city</td>\n",
       "      <td>0.017466</td>\n",
       "      <td>11</td>\n",
       "      <td>0.277733</td>\n",
       "    </tr>\n",
       "    <tr>\n",
       "      <th>67</th>\n",
       "      <td>num_openings_std_grpby_and_area</td>\n",
       "      <td>0.016418</td>\n",
       "      <td>12</td>\n",
       "      <td>0.294152</td>\n",
       "    </tr>\n",
       "    <tr>\n",
       "      <th>48</th>\n",
       "      <td>max_salary_min_grpby_and_organization</td>\n",
       "      <td>0.015306</td>\n",
       "      <td>13</td>\n",
       "      <td>0.309457</td>\n",
       "    </tr>\n",
       "    <tr>\n",
       "      <th>76</th>\n",
       "      <td>min_salary_mean_grpby_and_area</td>\n",
       "      <td>0.014943</td>\n",
       "      <td>14</td>\n",
       "      <td>0.324400</td>\n",
       "    </tr>\n",
       "    <tr>\n",
       "      <th>72</th>\n",
       "      <td>max_salary_std_grpby_and_area</td>\n",
       "      <td>0.014702</td>\n",
       "      <td>15</td>\n",
       "      <td>0.339102</td>\n",
       "    </tr>\n",
       "    <tr>\n",
       "      <th>38</th>\n",
       "      <td>applicant_location_mean_grpby_and_category</td>\n",
       "      <td>0.014688</td>\n",
       "      <td>16</td>\n",
       "      <td>0.353791</td>\n",
       "    </tr>\n",
       "    <tr>\n",
       "      <th>57</th>\n",
       "      <td>education_std_grpby_and_organization</td>\n",
       "      <td>0.013491</td>\n",
       "      <td>17</td>\n",
       "      <td>0.367282</td>\n",
       "    </tr>\n",
       "    <tr>\n",
       "      <th>91</th>\n",
       "      <td>num_openings_mean_grpby_and_category_city</td>\n",
       "      <td>0.013253</td>\n",
       "      <td>18</td>\n",
       "      <td>0.380534</td>\n",
       "    </tr>\n",
       "    <tr>\n",
       "      <th>71</th>\n",
       "      <td>max_salary_mean_grpby_and_area</td>\n",
       "      <td>0.012785</td>\n",
       "      <td>19</td>\n",
       "      <td>0.393319</td>\n",
       "    </tr>\n",
       "    <tr>\n",
       "      <th>81</th>\n",
       "      <td>education_mean_grpby_and_area</td>\n",
       "      <td>0.012348</td>\n",
       "      <td>20</td>\n",
       "      <td>0.405667</td>\n",
       "    </tr>\n",
       "    <tr>\n",
       "      <th>14</th>\n",
       "      <td>organization_fe</td>\n",
       "      <td>0.012177</td>\n",
       "      <td>21</td>\n",
       "      <td>0.417843</td>\n",
       "    </tr>\n",
       "    <tr>\n",
       "      <th>13</th>\n",
       "      <td>area_fe</td>\n",
       "      <td>0.011979</td>\n",
       "      <td>22</td>\n",
       "      <td>0.429822</td>\n",
       "    </tr>\n",
       "    <tr>\n",
       "      <th>106</th>\n",
       "      <td>education_mean_grpby_and_category_city</td>\n",
       "      <td>0.011414</td>\n",
       "      <td>23</td>\n",
       "      <td>0.441236</td>\n",
       "    </tr>\n",
       "    <tr>\n",
       "      <th>87</th>\n",
       "      <td>applicant_location_std_grpby_and_area</td>\n",
       "      <td>0.011407</td>\n",
       "      <td>24</td>\n",
       "      <td>0.452642</td>\n",
       "    </tr>\n",
       "    <tr>\n",
       "      <th>107</th>\n",
       "      <td>education_std_grpby_and_category_city</td>\n",
       "      <td>0.011367</td>\n",
       "      <td>25</td>\n",
       "      <td>0.464009</td>\n",
       "    </tr>\n",
       "    <tr>\n",
       "      <th>15</th>\n",
       "      <td>category_fe</td>\n",
       "      <td>0.011362</td>\n",
       "      <td>26</td>\n",
       "      <td>0.475370</td>\n",
       "    </tr>\n",
       "    <tr>\n",
       "      <th>66</th>\n",
       "      <td>num_openings_mean_grpby_and_area</td>\n",
       "      <td>0.011057</td>\n",
       "      <td>27</td>\n",
       "      <td>0.486427</td>\n",
       "    </tr>\n",
       "    <tr>\n",
       "      <th>96</th>\n",
       "      <td>max_salary_mean_grpby_and_category_city</td>\n",
       "      <td>0.010789</td>\n",
       "      <td>28</td>\n",
       "      <td>0.497216</td>\n",
       "    </tr>\n",
       "    <tr>\n",
       "      <th>137</th>\n",
       "      <td>applicant_location_std_grpby_and_category_dow</td>\n",
       "      <td>0.010607</td>\n",
       "      <td>29</td>\n",
       "      <td>0.507823</td>\n",
       "    </tr>\n",
       "    <tr>\n",
       "      <th>46</th>\n",
       "      <td>max_salary_mean_grpby_and_organization</td>\n",
       "      <td>0.010400</td>\n",
       "      <td>30</td>\n",
       "      <td>0.518223</td>\n",
       "    </tr>\n",
       "    <tr>\n",
       "      <th>132</th>\n",
       "      <td>education_std_grpby_and_category_dow</td>\n",
       "      <td>0.010268</td>\n",
       "      <td>31</td>\n",
       "      <td>0.528490</td>\n",
       "    </tr>\n",
       "    <tr>\n",
       "      <th>56</th>\n",
       "      <td>education_mean_grpby_and_organization</td>\n",
       "      <td>0.009886</td>\n",
       "      <td>32</td>\n",
       "      <td>0.538377</td>\n",
       "    </tr>\n",
       "    <tr>\n",
       "      <th>102</th>\n",
       "      <td>min_salary_std_grpby_and_category_city</td>\n",
       "      <td>0.009884</td>\n",
       "      <td>33</td>\n",
       "      <td>0.548261</td>\n",
       "    </tr>\n",
       "    <tr>\n",
       "      <th>122</th>\n",
       "      <td>max_salary_std_grpby_and_category_dow</td>\n",
       "      <td>0.009850</td>\n",
       "      <td>34</td>\n",
       "      <td>0.558110</td>\n",
       "    </tr>\n",
       "    <tr>\n",
       "      <th>127</th>\n",
       "      <td>min_salary_std_grpby_and_category_dow</td>\n",
       "      <td>0.009418</td>\n",
       "      <td>35</td>\n",
       "      <td>0.567529</td>\n",
       "    </tr>\n",
       "    <tr>\n",
       "      <th>92</th>\n",
       "      <td>num_openings_std_grpby_and_category_city</td>\n",
       "      <td>0.009400</td>\n",
       "      <td>36</td>\n",
       "      <td>0.576929</td>\n",
       "    </tr>\n",
       "    <tr>\n",
       "      <th>112</th>\n",
       "      <td>applicant_location_std_grpby_and_category_city</td>\n",
       "      <td>0.009281</td>\n",
       "      <td>37</td>\n",
       "      <td>0.586210</td>\n",
       "    </tr>\n",
       "    <tr>\n",
       "      <th>17</th>\n",
       "      <td>category_city_fe</td>\n",
       "      <td>0.009234</td>\n",
       "      <td>38</td>\n",
       "      <td>0.595445</td>\n",
       "    </tr>\n",
       "    <tr>\n",
       "      <th>101</th>\n",
       "      <td>min_salary_mean_grpby_and_category_city</td>\n",
       "      <td>0.008989</td>\n",
       "      <td>39</td>\n",
       "      <td>0.604433</td>\n",
       "    </tr>\n",
       "    <tr>\n",
       "      <th>86</th>\n",
       "      <td>applicant_location_mean_grpby_and_area</td>\n",
       "      <td>0.008951</td>\n",
       "      <td>40</td>\n",
       "      <td>0.613384</td>\n",
       "    </tr>\n",
       "    <tr>\n",
       "      <th>78</th>\n",
       "      <td>min_salary_min_grpby_and_area</td>\n",
       "      <td>0.008907</td>\n",
       "      <td>41</td>\n",
       "      <td>0.622292</td>\n",
       "    </tr>\n",
       "    <tr>\n",
       "      <th>33</th>\n",
       "      <td>education_mean_grpby_and_category</td>\n",
       "      <td>0.008803</td>\n",
       "      <td>42</td>\n",
       "      <td>0.631095</td>\n",
       "    </tr>\n",
       "    <tr>\n",
       "      <th>97</th>\n",
       "      <td>max_salary_std_grpby_and_category_city</td>\n",
       "      <td>0.008500</td>\n",
       "      <td>43</td>\n",
       "      <td>0.639595</td>\n",
       "    </tr>\n",
       "    <tr>\n",
       "      <th>62</th>\n",
       "      <td>applicant_location_std_grpby_and_organization</td>\n",
       "      <td>0.008139</td>\n",
       "      <td>44</td>\n",
       "      <td>0.647733</td>\n",
       "    </tr>\n",
       "    <tr>\n",
       "      <th>136</th>\n",
       "      <td>applicant_location_mean_grpby_and_category_dow</td>\n",
       "      <td>0.008022</td>\n",
       "      <td>45</td>\n",
       "      <td>0.655755</td>\n",
       "    </tr>\n",
       "    <tr>\n",
       "      <th>80</th>\n",
       "      <td>min_salary_median_grpby_and_area</td>\n",
       "      <td>0.007747</td>\n",
       "      <td>46</td>\n",
       "      <td>0.663502</td>\n",
       "    </tr>\n",
       "    <tr>\n",
       "      <th>131</th>\n",
       "      <td>education_mean_grpby_and_category_dow</td>\n",
       "      <td>0.007728</td>\n",
       "      <td>47</td>\n",
       "      <td>0.671230</td>\n",
       "    </tr>\n",
       "    <tr>\n",
       "      <th>50</th>\n",
       "      <td>max_salary_median_grpby_and_organization</td>\n",
       "      <td>0.007708</td>\n",
       "      <td>48</td>\n",
       "      <td>0.678938</td>\n",
       "    </tr>\n",
       "    <tr>\n",
       "      <th>9</th>\n",
       "      <td>gender_fe</td>\n",
       "      <td>0.007618</td>\n",
       "      <td>49</td>\n",
       "      <td>0.686556</td>\n",
       "    </tr>\n",
       "    <tr>\n",
       "      <th>25</th>\n",
       "      <td>max_salary_min_grpby_and_category</td>\n",
       "      <td>0.007487</td>\n",
       "      <td>50</td>\n",
       "      <td>0.694043</td>\n",
       "    </tr>\n",
       "    <tr>\n",
       "      <th>121</th>\n",
       "      <td>max_salary_mean_grpby_and_category_dow</td>\n",
       "      <td>0.007367</td>\n",
       "      <td>51</td>\n",
       "      <td>0.701409</td>\n",
       "    </tr>\n",
       "    <tr>\n",
       "      <th>79</th>\n",
       "      <td>min_salary_max_grpby_and_area</td>\n",
       "      <td>0.007287</td>\n",
       "      <td>52</td>\n",
       "      <td>0.708696</td>\n",
       "    </tr>\n",
       "    <tr>\n",
       "      <th>126</th>\n",
       "      <td>min_salary_mean_grpby_and_category_dow</td>\n",
       "      <td>0.006906</td>\n",
       "      <td>53</td>\n",
       "      <td>0.715602</td>\n",
       "    </tr>\n",
       "    <tr>\n",
       "      <th>73</th>\n",
       "      <td>max_salary_min_grpby_and_area</td>\n",
       "      <td>0.006781</td>\n",
       "      <td>54</td>\n",
       "      <td>0.722384</td>\n",
       "    </tr>\n",
       "    <tr>\n",
       "      <th>45</th>\n",
       "      <td>num_openings_median_grpby_and_organization</td>\n",
       "      <td>0.006778</td>\n",
       "      <td>55</td>\n",
       "      <td>0.729162</td>\n",
       "    </tr>\n",
       "    <tr>\n",
       "      <th>49</th>\n",
       "      <td>max_salary_max_grpby_and_organization</td>\n",
       "      <td>0.006770</td>\n",
       "      <td>56</td>\n",
       "      <td>0.735932</td>\n",
       "    </tr>\n",
       "    <tr>\n",
       "      <th>75</th>\n",
       "      <td>max_salary_median_grpby_and_area</td>\n",
       "      <td>0.006730</td>\n",
       "      <td>57</td>\n",
       "      <td>0.742662</td>\n",
       "    </tr>\n",
       "    <tr>\n",
       "      <th>28</th>\n",
       "      <td>min_salary_mean_grpby_and_category</td>\n",
       "      <td>0.006617</td>\n",
       "      <td>58</td>\n",
       "      <td>0.749279</td>\n",
       "    </tr>\n",
       "    <tr>\n",
       "      <th>117</th>\n",
       "      <td>num_openings_std_grpby_and_category_dow</td>\n",
       "      <td>0.006470</td>\n",
       "      <td>59</td>\n",
       "      <td>0.755748</td>\n",
       "    </tr>\n",
       "    <tr>\n",
       "      <th>100</th>\n",
       "      <td>max_salary_median_grpby_and_category_city</td>\n",
       "      <td>0.006279</td>\n",
       "      <td>60</td>\n",
       "      <td>0.762027</td>\n",
       "    </tr>\n",
       "    <tr>\n",
       "      <th>99</th>\n",
       "      <td>max_salary_max_grpby_and_category_city</td>\n",
       "      <td>0.006188</td>\n",
       "      <td>61</td>\n",
       "      <td>0.768216</td>\n",
       "    </tr>\n",
       "    <tr>\n",
       "      <th>157</th>\n",
       "      <td>applicant_location_mean_grpby_and_city</td>\n",
       "      <td>0.006052</td>\n",
       "      <td>62</td>\n",
       "      <td>0.774267</td>\n",
       "    </tr>\n",
       "    <tr>\n",
       "      <th>70</th>\n",
       "      <td>num_openings_median_grpby_and_area</td>\n",
       "      <td>0.005818</td>\n",
       "      <td>63</td>\n",
       "      <td>0.780085</td>\n",
       "    </tr>\n",
       "    <tr>\n",
       "      <th>52</th>\n",
       "      <td>min_salary_std_grpby_and_organization</td>\n",
       "      <td>0.005816</td>\n",
       "      <td>64</td>\n",
       "      <td>0.785901</td>\n",
       "    </tr>\n",
       "    <tr>\n",
       "      <th>116</th>\n",
       "      <td>num_openings_mean_grpby_and_category_dow</td>\n",
       "      <td>0.005711</td>\n",
       "      <td>65</td>\n",
       "      <td>0.791612</td>\n",
       "    </tr>\n",
       "    <tr>\n",
       "      <th>18</th>\n",
       "      <td>num_openings_mean_grpby_and_category</td>\n",
       "      <td>0.005602</td>\n",
       "      <td>66</td>\n",
       "      <td>0.797214</td>\n",
       "    </tr>\n",
       "    <tr>\n",
       "      <th>54</th>\n",
       "      <td>min_salary_max_grpby_and_organization</td>\n",
       "      <td>0.005565</td>\n",
       "      <td>67</td>\n",
       "      <td>0.802779</td>\n",
       "    </tr>\n",
       "    <tr>\n",
       "      <th>12</th>\n",
       "      <td>city_fe</td>\n",
       "      <td>0.005323</td>\n",
       "      <td>68</td>\n",
       "      <td>0.808102</td>\n",
       "    </tr>\n",
       "    <tr>\n",
       "      <th>55</th>\n",
       "      <td>min_salary_median_grpby_and_organization</td>\n",
       "      <td>0.005267</td>\n",
       "      <td>69</td>\n",
       "      <td>0.813369</td>\n",
       "    </tr>\n",
       "    <tr>\n",
       "      <th>29</th>\n",
       "      <td>min_salary_std_grpby_and_category</td>\n",
       "      <td>0.005207</td>\n",
       "      <td>70</td>\n",
       "      <td>0.818576</td>\n",
       "    </tr>\n",
       "    <tr>\n",
       "      <th>24</th>\n",
       "      <td>max_salary_std_grpby_and_category</td>\n",
       "      <td>0.004929</td>\n",
       "      <td>71</td>\n",
       "      <td>0.823505</td>\n",
       "    </tr>\n",
       "    <tr>\n",
       "      <th>26</th>\n",
       "      <td>max_salary_max_grpby_and_category</td>\n",
       "      <td>0.004874</td>\n",
       "      <td>72</td>\n",
       "      <td>0.828379</td>\n",
       "    </tr>\n",
       "    <tr>\n",
       "      <th>39</th>\n",
       "      <td>applicant_location_std_grpby_and_category</td>\n",
       "      <td>0.004851</td>\n",
       "      <td>73</td>\n",
       "      <td>0.833230</td>\n",
       "    </tr>\n",
       "    <tr>\n",
       "      <th>19</th>\n",
       "      <td>num_openings_std_grpby_and_category</td>\n",
       "      <td>0.004791</td>\n",
       "      <td>74</td>\n",
       "      <td>0.838021</td>\n",
       "    </tr>\n",
       "    <tr>\n",
       "      <th>36</th>\n",
       "      <td>education_max_grpby_and_category</td>\n",
       "      <td>0.004769</td>\n",
       "      <td>75</td>\n",
       "      <td>0.842790</td>\n",
       "    </tr>\n",
       "    <tr>\n",
       "      <th>53</th>\n",
       "      <td>min_salary_min_grpby_and_organization</td>\n",
       "      <td>0.004722</td>\n",
       "      <td>76</td>\n",
       "      <td>0.847512</td>\n",
       "    </tr>\n",
       "    <tr>\n",
       "      <th>23</th>\n",
       "      <td>max_salary_mean_grpby_and_category</td>\n",
       "      <td>0.004563</td>\n",
       "      <td>77</td>\n",
       "      <td>0.852075</td>\n",
       "    </tr>\n",
       "    <tr>\n",
       "      <th>103</th>\n",
       "      <td>min_salary_min_grpby_and_category_city</td>\n",
       "      <td>0.004507</td>\n",
       "      <td>78</td>\n",
       "      <td>0.856582</td>\n",
       "    </tr>\n",
       "    <tr>\n",
       "      <th>98</th>\n",
       "      <td>max_salary_min_grpby_and_category_city</td>\n",
       "      <td>0.004505</td>\n",
       "      <td>79</td>\n",
       "      <td>0.861087</td>\n",
       "    </tr>\n",
       "    <tr>\n",
       "      <th>145</th>\n",
       "      <td>max_salary_std_grpby_and_city</td>\n",
       "      <td>0.004402</td>\n",
       "      <td>80</td>\n",
       "      <td>0.865489</td>\n",
       "    </tr>\n",
       "    <tr>\n",
       "      <th>74</th>\n",
       "      <td>max_salary_max_grpby_and_area</td>\n",
       "      <td>0.004400</td>\n",
       "      <td>81</td>\n",
       "      <td>0.869890</td>\n",
       "    </tr>\n",
       "    <tr>\n",
       "      <th>10</th>\n",
       "      <td>dow_fe</td>\n",
       "      <td>0.004367</td>\n",
       "      <td>82</td>\n",
       "      <td>0.874257</td>\n",
       "    </tr>\n",
       "    <tr>\n",
       "      <th>124</th>\n",
       "      <td>max_salary_max_grpby_and_category_dow</td>\n",
       "      <td>0.004135</td>\n",
       "      <td>83</td>\n",
       "      <td>0.878392</td>\n",
       "    </tr>\n",
       "    <tr>\n",
       "      <th>128</th>\n",
       "      <td>min_salary_min_grpby_and_category_dow</td>\n",
       "      <td>0.004095</td>\n",
       "      <td>84</td>\n",
       "      <td>0.882487</td>\n",
       "    </tr>\n",
       "    <tr>\n",
       "      <th>51</th>\n",
       "      <td>min_salary_mean_grpby_and_organization</td>\n",
       "      <td>0.004089</td>\n",
       "      <td>85</td>\n",
       "      <td>0.886576</td>\n",
       "    </tr>\n",
       "    <tr>\n",
       "      <th>59</th>\n",
       "      <td>education_max_grpby_and_organization</td>\n",
       "      <td>0.004087</td>\n",
       "      <td>86</td>\n",
       "      <td>0.890663</td>\n",
       "    </tr>\n",
       "    <tr>\n",
       "      <th>64</th>\n",
       "      <td>applicant_location_max_grpby_and_organization</td>\n",
       "      <td>0.003951</td>\n",
       "      <td>87</td>\n",
       "      <td>0.894615</td>\n",
       "    </tr>\n",
       "    <tr>\n",
       "      <th>104</th>\n",
       "      <td>min_salary_max_grpby_and_category_city</td>\n",
       "      <td>0.003951</td>\n",
       "      <td>88</td>\n",
       "      <td>0.898565</td>\n",
       "    </tr>\n",
       "    <tr>\n",
       "      <th>31</th>\n",
       "      <td>min_salary_max_grpby_and_category</td>\n",
       "      <td>0.003916</td>\n",
       "      <td>89</td>\n",
       "      <td>0.902481</td>\n",
       "    </tr>\n",
       "    <tr>\n",
       "      <th>44</th>\n",
       "      <td>num_openings_max_grpby_and_organization</td>\n",
       "      <td>0.003915</td>\n",
       "      <td>90</td>\n",
       "      <td>0.906396</td>\n",
       "    </tr>\n",
       "    <tr>\n",
       "      <th>34</th>\n",
       "      <td>education_std_grpby_and_category</td>\n",
       "      <td>0.003628</td>\n",
       "      <td>91</td>\n",
       "      <td>0.910024</td>\n",
       "    </tr>\n",
       "    <tr>\n",
       "      <th>94</th>\n",
       "      <td>num_openings_max_grpby_and_category_city</td>\n",
       "      <td>0.003494</td>\n",
       "      <td>92</td>\n",
       "      <td>0.913518</td>\n",
       "    </tr>\n",
       "    <tr>\n",
       "      <th>7</th>\n",
       "      <td>min_salary</td>\n",
       "      <td>0.003439</td>\n",
       "      <td>93</td>\n",
       "      <td>0.916957</td>\n",
       "    </tr>\n",
       "    <tr>\n",
       "      <th>43</th>\n",
       "      <td>num_openings_min_grpby_and_organization</td>\n",
       "      <td>0.003353</td>\n",
       "      <td>94</td>\n",
       "      <td>0.920310</td>\n",
       "    </tr>\n",
       "    <tr>\n",
       "      <th>61</th>\n",
       "      <td>applicant_location_mean_grpby_and_organization</td>\n",
       "      <td>0.003329</td>\n",
       "      <td>95</td>\n",
       "      <td>0.923639</td>\n",
       "    </tr>\n",
       "    <tr>\n",
       "      <th>30</th>\n",
       "      <td>min_salary_min_grpby_and_category</td>\n",
       "      <td>0.003276</td>\n",
       "      <td>96</td>\n",
       "      <td>0.926915</td>\n",
       "    </tr>\n",
       "    <tr>\n",
       "      <th>2</th>\n",
       "      <td>applicant_location</td>\n",
       "      <td>0.003247</td>\n",
       "      <td>97</td>\n",
       "      <td>0.930162</td>\n",
       "    </tr>\n",
       "    <tr>\n",
       "      <th>105</th>\n",
       "      <td>min_salary_median_grpby_and_category_city</td>\n",
       "      <td>0.002877</td>\n",
       "      <td>98</td>\n",
       "      <td>0.933039</td>\n",
       "    </tr>\n",
       "    <tr>\n",
       "      <th>60</th>\n",
       "      <td>education_median_grpby_and_organization</td>\n",
       "      <td>0.002801</td>\n",
       "      <td>99</td>\n",
       "      <td>0.935839</td>\n",
       "    </tr>\n",
       "    <tr>\n",
       "      <th>130</th>\n",
       "      <td>min_salary_median_grpby_and_category_dow</td>\n",
       "      <td>0.002792</td>\n",
       "      <td>100</td>\n",
       "      <td>0.938631</td>\n",
       "    </tr>\n",
       "    <tr>\n",
       "      <th>123</th>\n",
       "      <td>max_salary_min_grpby_and_category_dow</td>\n",
       "      <td>0.002664</td>\n",
       "      <td>101</td>\n",
       "      <td>0.941295</td>\n",
       "    </tr>\n",
       "    <tr>\n",
       "      <th>143</th>\n",
       "      <td>num_openings_median_grpby_and_city</td>\n",
       "      <td>0.002637</td>\n",
       "      <td>102</td>\n",
       "      <td>0.943932</td>\n",
       "    </tr>\n",
       "    <tr>\n",
       "      <th>69</th>\n",
       "      <td>num_openings_max_grpby_and_area</td>\n",
       "      <td>0.002633</td>\n",
       "      <td>103</td>\n",
       "      <td>0.946565</td>\n",
       "    </tr>\n",
       "    <tr>\n",
       "      <th>119</th>\n",
       "      <td>num_openings_max_grpby_and_category_dow</td>\n",
       "      <td>0.002517</td>\n",
       "      <td>104</td>\n",
       "      <td>0.949082</td>\n",
       "    </tr>\n",
       "    <tr>\n",
       "      <th>150</th>\n",
       "      <td>min_salary_std_grpby_and_city</td>\n",
       "      <td>0.002494</td>\n",
       "      <td>105</td>\n",
       "      <td>0.951576</td>\n",
       "    </tr>\n",
       "    <tr>\n",
       "      <th>141</th>\n",
       "      <td>num_openings_mean_grpby_and_city</td>\n",
       "      <td>0.002412</td>\n",
       "      <td>106</td>\n",
       "      <td>0.953988</td>\n",
       "    </tr>\n",
       "    <tr>\n",
       "      <th>129</th>\n",
       "      <td>min_salary_max_grpby_and_category_dow</td>\n",
       "      <td>0.002153</td>\n",
       "      <td>107</td>\n",
       "      <td>0.956141</td>\n",
       "    </tr>\n",
       "    <tr>\n",
       "      <th>22</th>\n",
       "      <td>num_openings_median_grpby_and_category</td>\n",
       "      <td>0.002048</td>\n",
       "      <td>108</td>\n",
       "      <td>0.958189</td>\n",
       "    </tr>\n",
       "    <tr>\n",
       "      <th>84</th>\n",
       "      <td>education_max_grpby_and_area</td>\n",
       "      <td>0.002016</td>\n",
       "      <td>109</td>\n",
       "      <td>0.960205</td>\n",
       "    </tr>\n",
       "    <tr>\n",
       "      <th>27</th>\n",
       "      <td>max_salary_median_grpby_and_category</td>\n",
       "      <td>0.001992</td>\n",
       "      <td>110</td>\n",
       "      <td>0.962197</td>\n",
       "    </tr>\n",
       "    <tr>\n",
       "      <th>32</th>\n",
       "      <td>min_salary_median_grpby_and_category</td>\n",
       "      <td>0.001856</td>\n",
       "      <td>111</td>\n",
       "      <td>0.964053</td>\n",
       "    </tr>\n",
       "    <tr>\n",
       "      <th>21</th>\n",
       "      <td>num_openings_max_grpby_and_category</td>\n",
       "      <td>0.001712</td>\n",
       "      <td>112</td>\n",
       "      <td>0.965765</td>\n",
       "    </tr>\n",
       "    <tr>\n",
       "      <th>11</th>\n",
       "      <td>employer_type_fe</td>\n",
       "      <td>0.001706</td>\n",
       "      <td>113</td>\n",
       "      <td>0.967471</td>\n",
       "    </tr>\n",
       "    <tr>\n",
       "      <th>174</th>\n",
       "      <td>applicant_location_mean_grpby_and_employer_type</td>\n",
       "      <td>0.001690</td>\n",
       "      <td>114</td>\n",
       "      <td>0.969161</td>\n",
       "    </tr>\n",
       "    <tr>\n",
       "      <th>120</th>\n",
       "      <td>num_openings_median_grpby_and_category_dow</td>\n",
       "      <td>0.001674</td>\n",
       "      <td>115</td>\n",
       "      <td>0.970836</td>\n",
       "    </tr>\n",
       "    <tr>\n",
       "      <th>134</th>\n",
       "      <td>education_max_grpby_and_category_dow</td>\n",
       "      <td>0.001624</td>\n",
       "      <td>116</td>\n",
       "      <td>0.972460</td>\n",
       "    </tr>\n",
       "    <tr>\n",
       "      <th>85</th>\n",
       "      <td>education_median_grpby_and_area</td>\n",
       "      <td>0.001569</td>\n",
       "      <td>117</td>\n",
       "      <td>0.974029</td>\n",
       "    </tr>\n",
       "    <tr>\n",
       "      <th>95</th>\n",
       "      <td>num_openings_median_grpby_and_category_city</td>\n",
       "      <td>0.001567</td>\n",
       "      <td>118</td>\n",
       "      <td>0.975596</td>\n",
       "    </tr>\n",
       "    <tr>\n",
       "      <th>169</th>\n",
       "      <td>min_salary_min_grpby_and_employer_type</td>\n",
       "      <td>0.001514</td>\n",
       "      <td>119</td>\n",
       "      <td>0.977111</td>\n",
       "    </tr>\n",
       "    <tr>\n",
       "      <th>108</th>\n",
       "      <td>education_min_grpby_and_category_city</td>\n",
       "      <td>0.001514</td>\n",
       "      <td>120</td>\n",
       "      <td>0.978625</td>\n",
       "    </tr>\n",
       "    <tr>\n",
       "      <th>167</th>\n",
       "      <td>min_salary_mean_grpby_and_employer_type</td>\n",
       "      <td>0.001486</td>\n",
       "      <td>121</td>\n",
       "      <td>0.980111</td>\n",
       "    </tr>\n",
       "    <tr>\n",
       "      <th>144</th>\n",
       "      <td>max_salary_mean_grpby_and_city</td>\n",
       "      <td>0.001456</td>\n",
       "      <td>122</td>\n",
       "      <td>0.981567</td>\n",
       "    </tr>\n",
       "    <tr>\n",
       "      <th>58</th>\n",
       "      <td>education_min_grpby_and_organization</td>\n",
       "      <td>0.001396</td>\n",
       "      <td>123</td>\n",
       "      <td>0.982963</td>\n",
       "    </tr>\n",
       "    <tr>\n",
       "      <th>125</th>\n",
       "      <td>max_salary_median_grpby_and_category_dow</td>\n",
       "      <td>0.001373</td>\n",
       "      <td>124</td>\n",
       "      <td>0.984336</td>\n",
       "    </tr>\n",
       "    <tr>\n",
       "      <th>155</th>\n",
       "      <td>education_std_grpby_and_city</td>\n",
       "      <td>0.001259</td>\n",
       "      <td>125</td>\n",
       "      <td>0.985595</td>\n",
       "    </tr>\n",
       "    <tr>\n",
       "      <th>109</th>\n",
       "      <td>education_max_grpby_and_category_city</td>\n",
       "      <td>0.001098</td>\n",
       "      <td>126</td>\n",
       "      <td>0.986693</td>\n",
       "    </tr>\n",
       "    <tr>\n",
       "      <th>159</th>\n",
       "      <td>num_openings_mean_grpby_and_employer_type</td>\n",
       "      <td>0.001008</td>\n",
       "      <td>127</td>\n",
       "      <td>0.987701</td>\n",
       "    </tr>\n",
       "    <tr>\n",
       "      <th>65</th>\n",
       "      <td>applicant_location_median_grpby_and_organization</td>\n",
       "      <td>0.000926</td>\n",
       "      <td>128</td>\n",
       "      <td>0.988627</td>\n",
       "    </tr>\n",
       "    <tr>\n",
       "      <th>16</th>\n",
       "      <td>is_part_time_fe</td>\n",
       "      <td>0.000843</td>\n",
       "      <td>129</td>\n",
       "      <td>0.989470</td>\n",
       "    </tr>\n",
       "    <tr>\n",
       "      <th>114</th>\n",
       "      <td>applicant_location_max_grpby_and_category_city</td>\n",
       "      <td>0.000788</td>\n",
       "      <td>130</td>\n",
       "      <td>0.990258</td>\n",
       "    </tr>\n",
       "    <tr>\n",
       "      <th>110</th>\n",
       "      <td>education_median_grpby_and_category_city</td>\n",
       "      <td>0.000784</td>\n",
       "      <td>131</td>\n",
       "      <td>0.991041</td>\n",
       "    </tr>\n",
       "    <tr>\n",
       "      <th>90</th>\n",
       "      <td>applicant_location_median_grpby_and_area</td>\n",
       "      <td>0.000757</td>\n",
       "      <td>132</td>\n",
       "      <td>0.991798</td>\n",
       "    </tr>\n",
       "    <tr>\n",
       "      <th>139</th>\n",
       "      <td>applicant_location_max_grpby_and_category_dow</td>\n",
       "      <td>0.000751</td>\n",
       "      <td>133</td>\n",
       "      <td>0.992549</td>\n",
       "    </tr>\n",
       "    <tr>\n",
       "      <th>135</th>\n",
       "      <td>education_median_grpby_and_category_dow</td>\n",
       "      <td>0.000704</td>\n",
       "      <td>134</td>\n",
       "      <td>0.993253</td>\n",
       "    </tr>\n",
       "    <tr>\n",
       "      <th>133</th>\n",
       "      <td>education_min_grpby_and_category_dow</td>\n",
       "      <td>0.000674</td>\n",
       "      <td>135</td>\n",
       "      <td>0.993927</td>\n",
       "    </tr>\n",
       "    <tr>\n",
       "      <th>158</th>\n",
       "      <td>applicant_location_std_grpby_and_city</td>\n",
       "      <td>0.000590</td>\n",
       "      <td>136</td>\n",
       "      <td>0.994518</td>\n",
       "    </tr>\n",
       "    <tr>\n",
       "      <th>175</th>\n",
       "      <td>applicant_location_std_grpby_and_employer_type</td>\n",
       "      <td>0.000478</td>\n",
       "      <td>137</td>\n",
       "      <td>0.994996</td>\n",
       "    </tr>\n",
       "    <tr>\n",
       "      <th>147</th>\n",
       "      <td>max_salary_max_grpby_and_city</td>\n",
       "      <td>0.000477</td>\n",
       "      <td>138</td>\n",
       "      <td>0.995473</td>\n",
       "    </tr>\n",
       "    <tr>\n",
       "      <th>89</th>\n",
       "      <td>applicant_location_max_grpby_and_area</td>\n",
       "      <td>0.000446</td>\n",
       "      <td>139</td>\n",
       "      <td>0.995920</td>\n",
       "    </tr>\n",
       "    <tr>\n",
       "      <th>170</th>\n",
       "      <td>min_salary_max_grpby_and_employer_type</td>\n",
       "      <td>0.000394</td>\n",
       "      <td>140</td>\n",
       "      <td>0.996313</td>\n",
       "    </tr>\n",
       "    <tr>\n",
       "      <th>173</th>\n",
       "      <td>education_std_grpby_and_employer_type</td>\n",
       "      <td>0.000364</td>\n",
       "      <td>141</td>\n",
       "      <td>0.996678</td>\n",
       "    </tr>\n",
       "    <tr>\n",
       "      <th>142</th>\n",
       "      <td>num_openings_std_grpby_and_city</td>\n",
       "      <td>0.000364</td>\n",
       "      <td>142</td>\n",
       "      <td>0.997042</td>\n",
       "    </tr>\n",
       "    <tr>\n",
       "      <th>148</th>\n",
       "      <td>max_salary_median_grpby_and_city</td>\n",
       "      <td>0.000364</td>\n",
       "      <td>143</td>\n",
       "      <td>0.997406</td>\n",
       "    </tr>\n",
       "    <tr>\n",
       "      <th>83</th>\n",
       "      <td>education_min_grpby_and_area</td>\n",
       "      <td>0.000364</td>\n",
       "      <td>144</td>\n",
       "      <td>0.997769</td>\n",
       "    </tr>\n",
       "    <tr>\n",
       "      <th>146</th>\n",
       "      <td>max_salary_min_grpby_and_city</td>\n",
       "      <td>0.000335</td>\n",
       "      <td>145</td>\n",
       "      <td>0.998104</td>\n",
       "    </tr>\n",
       "    <tr>\n",
       "      <th>163</th>\n",
       "      <td>max_salary_std_grpby_and_employer_type</td>\n",
       "      <td>0.000334</td>\n",
       "      <td>146</td>\n",
       "      <td>0.998438</td>\n",
       "    </tr>\n",
       "    <tr>\n",
       "      <th>152</th>\n",
       "      <td>min_salary_max_grpby_and_city</td>\n",
       "      <td>0.000281</td>\n",
       "      <td>147</td>\n",
       "      <td>0.998720</td>\n",
       "    </tr>\n",
       "    <tr>\n",
       "      <th>168</th>\n",
       "      <td>min_salary_std_grpby_and_employer_type</td>\n",
       "      <td>0.000280</td>\n",
       "      <td>148</td>\n",
       "      <td>0.998999</td>\n",
       "    </tr>\n",
       "    <tr>\n",
       "      <th>151</th>\n",
       "      <td>min_salary_min_grpby_and_city</td>\n",
       "      <td>0.000250</td>\n",
       "      <td>149</td>\n",
       "      <td>0.999250</td>\n",
       "    </tr>\n",
       "    <tr>\n",
       "      <th>63</th>\n",
       "      <td>applicant_location_min_grpby_and_organization</td>\n",
       "      <td>0.000250</td>\n",
       "      <td>150</td>\n",
       "      <td>0.999499</td>\n",
       "    </tr>\n",
       "    <tr>\n",
       "      <th>149</th>\n",
       "      <td>min_salary_mean_grpby_and_city</td>\n",
       "      <td>0.000168</td>\n",
       "      <td>151</td>\n",
       "      <td>0.999667</td>\n",
       "    </tr>\n",
       "    <tr>\n",
       "      <th>93</th>\n",
       "      <td>num_openings_min_grpby_and_category_city</td>\n",
       "      <td>0.000166</td>\n",
       "      <td>152</td>\n",
       "      <td>0.999834</td>\n",
       "    </tr>\n",
       "    <tr>\n",
       "      <th>160</th>\n",
       "      <td>num_openings_std_grpby_and_employer_type</td>\n",
       "      <td>0.000083</td>\n",
       "      <td>153</td>\n",
       "      <td>0.999917</td>\n",
       "    </tr>\n",
       "    <tr>\n",
       "      <th>162</th>\n",
       "      <td>max_salary_mean_grpby_and_employer_type</td>\n",
       "      <td>0.000083</td>\n",
       "      <td>154</td>\n",
       "      <td>1.000000</td>\n",
       "    </tr>\n",
       "    <tr>\n",
       "      <th>166</th>\n",
       "      <td>max_salary_median_grpby_and_employer_type</td>\n",
       "      <td>0.000000</td>\n",
       "      <td>155</td>\n",
       "      <td>1.000000</td>\n",
       "    </tr>\n",
       "    <tr>\n",
       "      <th>164</th>\n",
       "      <td>max_salary_min_grpby_and_employer_type</td>\n",
       "      <td>0.000000</td>\n",
       "      <td>156</td>\n",
       "      <td>1.000000</td>\n",
       "    </tr>\n",
       "    <tr>\n",
       "      <th>165</th>\n",
       "      <td>max_salary_max_grpby_and_employer_type</td>\n",
       "      <td>0.000000</td>\n",
       "      <td>157</td>\n",
       "      <td>1.000000</td>\n",
       "    </tr>\n",
       "    <tr>\n",
       "      <th>118</th>\n",
       "      <td>num_openings_min_grpby_and_category_dow</td>\n",
       "      <td>0.000000</td>\n",
       "      <td>158</td>\n",
       "      <td>1.000000</td>\n",
       "    </tr>\n",
       "    <tr>\n",
       "      <th>20</th>\n",
       "      <td>num_openings_min_grpby_and_category</td>\n",
       "      <td>0.000000</td>\n",
       "      <td>159</td>\n",
       "      <td>1.000000</td>\n",
       "    </tr>\n",
       "    <tr>\n",
       "      <th>8</th>\n",
       "      <td>shift_fe</td>\n",
       "      <td>0.000000</td>\n",
       "      <td>160</td>\n",
       "      <td>1.000000</td>\n",
       "    </tr>\n",
       "    <tr>\n",
       "      <th>172</th>\n",
       "      <td>education_mean_grpby_and_employer_type</td>\n",
       "      <td>0.000000</td>\n",
       "      <td>161</td>\n",
       "      <td>1.000000</td>\n",
       "    </tr>\n",
       "    <tr>\n",
       "      <th>3</th>\n",
       "      <td>deposit</td>\n",
       "      <td>0.000000</td>\n",
       "      <td>162</td>\n",
       "      <td>1.000000</td>\n",
       "    </tr>\n",
       "    <tr>\n",
       "      <th>171</th>\n",
       "      <td>min_salary_median_grpby_and_employer_type</td>\n",
       "      <td>0.000000</td>\n",
       "      <td>163</td>\n",
       "      <td>1.000000</td>\n",
       "    </tr>\n",
       "    <tr>\n",
       "      <th>156</th>\n",
       "      <td>education_median_grpby_and_city</td>\n",
       "      <td>0.000000</td>\n",
       "      <td>164</td>\n",
       "      <td>1.000000</td>\n",
       "    </tr>\n",
       "    <tr>\n",
       "      <th>161</th>\n",
       "      <td>num_openings_median_grpby_and_employer_type</td>\n",
       "      <td>0.000000</td>\n",
       "      <td>165</td>\n",
       "      <td>1.000000</td>\n",
       "    </tr>\n",
       "    <tr>\n",
       "      <th>35</th>\n",
       "      <td>education_min_grpby_and_category</td>\n",
       "      <td>0.000000</td>\n",
       "      <td>166</td>\n",
       "      <td>1.000000</td>\n",
       "    </tr>\n",
       "    <tr>\n",
       "      <th>37</th>\n",
       "      <td>education_median_grpby_and_category</td>\n",
       "      <td>0.000000</td>\n",
       "      <td>167</td>\n",
       "      <td>1.000000</td>\n",
       "    </tr>\n",
       "    <tr>\n",
       "      <th>40</th>\n",
       "      <td>applicant_location_max_grpby_and_category</td>\n",
       "      <td>0.000000</td>\n",
       "      <td>168</td>\n",
       "      <td>1.000000</td>\n",
       "    </tr>\n",
       "    <tr>\n",
       "      <th>138</th>\n",
       "      <td>applicant_location_min_grpby_and_category_dow</td>\n",
       "      <td>0.000000</td>\n",
       "      <td>169</td>\n",
       "      <td>1.000000</td>\n",
       "    </tr>\n",
       "    <tr>\n",
       "      <th>154</th>\n",
       "      <td>education_mean_grpby_and_city</td>\n",
       "      <td>0.000000</td>\n",
       "      <td>170</td>\n",
       "      <td>1.000000</td>\n",
       "    </tr>\n",
       "    <tr>\n",
       "      <th>153</th>\n",
       "      <td>min_salary_median_grpby_and_city</td>\n",
       "      <td>0.000000</td>\n",
       "      <td>171</td>\n",
       "      <td>1.000000</td>\n",
       "    </tr>\n",
       "    <tr>\n",
       "      <th>68</th>\n",
       "      <td>num_openings_min_grpby_and_area</td>\n",
       "      <td>0.000000</td>\n",
       "      <td>172</td>\n",
       "      <td>1.000000</td>\n",
       "    </tr>\n",
       "    <tr>\n",
       "      <th>113</th>\n",
       "      <td>applicant_location_min_grpby_and_category_city</td>\n",
       "      <td>0.000000</td>\n",
       "      <td>173</td>\n",
       "      <td>1.000000</td>\n",
       "    </tr>\n",
       "    <tr>\n",
       "      <th>140</th>\n",
       "      <td>applicant_location_median_grpby_and_category_dow</td>\n",
       "      <td>0.000000</td>\n",
       "      <td>174</td>\n",
       "      <td>1.000000</td>\n",
       "    </tr>\n",
       "    <tr>\n",
       "      <th>115</th>\n",
       "      <td>applicant_location_median_grpby_and_category_city</td>\n",
       "      <td>0.000000</td>\n",
       "      <td>175</td>\n",
       "      <td>1.000000</td>\n",
       "    </tr>\n",
       "    <tr>\n",
       "      <th>88</th>\n",
       "      <td>applicant_location_min_grpby_and_area</td>\n",
       "      <td>0.000000</td>\n",
       "      <td>176</td>\n",
       "      <td>1.000000</td>\n",
       "    </tr>\n",
       "  </tbody>\n",
       "</table>\n",
       "</div>"
      ],
      "text/plain": [
       "                                                column  feature_importance  rank   cum_imp\n",
       "6                                           max_salary            0.040898     1  0.040898\n",
       "5                                         num_openings            0.037440     2  0.078338\n",
       "1                                           created_on            0.033638     3  0.111976\n",
       "0                                            education            0.028673     4  0.140649\n",
       "4                                              english            0.023098     5  0.163747\n",
       "82                        education_std_grpby_and_area            0.021223     6  0.184970\n",
       "47               max_salary_std_grpby_and_organization            0.020193     7  0.205163\n",
       "42             num_openings_std_grpby_and_organization            0.018833     8  0.223996\n",
       "77                       min_salary_std_grpby_and_area            0.018440     9  0.242436\n",
       "41            num_openings_mean_grpby_and_organization            0.017832    10  0.260267\n",
       "111    applicant_location_mean_grpby_and_category_city            0.017466    11  0.277733\n",
       "67                     num_openings_std_grpby_and_area            0.016418    12  0.294152\n",
       "48               max_salary_min_grpby_and_organization            0.015306    13  0.309457\n",
       "76                      min_salary_mean_grpby_and_area            0.014943    14  0.324400\n",
       "72                       max_salary_std_grpby_and_area            0.014702    15  0.339102\n",
       "38          applicant_location_mean_grpby_and_category            0.014688    16  0.353791\n",
       "57                education_std_grpby_and_organization            0.013491    17  0.367282\n",
       "91           num_openings_mean_grpby_and_category_city            0.013253    18  0.380534\n",
       "71                      max_salary_mean_grpby_and_area            0.012785    19  0.393319\n",
       "81                       education_mean_grpby_and_area            0.012348    20  0.405667\n",
       "14                                     organization_fe            0.012177    21  0.417843\n",
       "13                                             area_fe            0.011979    22  0.429822\n",
       "106             education_mean_grpby_and_category_city            0.011414    23  0.441236\n",
       "87               applicant_location_std_grpby_and_area            0.011407    24  0.452642\n",
       "107              education_std_grpby_and_category_city            0.011367    25  0.464009\n",
       "15                                         category_fe            0.011362    26  0.475370\n",
       "66                    num_openings_mean_grpby_and_area            0.011057    27  0.486427\n",
       "96             max_salary_mean_grpby_and_category_city            0.010789    28  0.497216\n",
       "137      applicant_location_std_grpby_and_category_dow            0.010607    29  0.507823\n",
       "46              max_salary_mean_grpby_and_organization            0.010400    30  0.518223\n",
       "132               education_std_grpby_and_category_dow            0.010268    31  0.528490\n",
       "56               education_mean_grpby_and_organization            0.009886    32  0.538377\n",
       "102             min_salary_std_grpby_and_category_city            0.009884    33  0.548261\n",
       "122              max_salary_std_grpby_and_category_dow            0.009850    34  0.558110\n",
       "127              min_salary_std_grpby_and_category_dow            0.009418    35  0.567529\n",
       "92            num_openings_std_grpby_and_category_city            0.009400    36  0.576929\n",
       "112     applicant_location_std_grpby_and_category_city            0.009281    37  0.586210\n",
       "17                                    category_city_fe            0.009234    38  0.595445\n",
       "101            min_salary_mean_grpby_and_category_city            0.008989    39  0.604433\n",
       "86              applicant_location_mean_grpby_and_area            0.008951    40  0.613384\n",
       "78                       min_salary_min_grpby_and_area            0.008907    41  0.622292\n",
       "33                   education_mean_grpby_and_category            0.008803    42  0.631095\n",
       "97              max_salary_std_grpby_and_category_city            0.008500    43  0.639595\n",
       "62       applicant_location_std_grpby_and_organization            0.008139    44  0.647733\n",
       "136     applicant_location_mean_grpby_and_category_dow            0.008022    45  0.655755\n",
       "80                    min_salary_median_grpby_and_area            0.007747    46  0.663502\n",
       "131              education_mean_grpby_and_category_dow            0.007728    47  0.671230\n",
       "50            max_salary_median_grpby_and_organization            0.007708    48  0.678938\n",
       "9                                            gender_fe            0.007618    49  0.686556\n",
       "25                   max_salary_min_grpby_and_category            0.007487    50  0.694043\n",
       "121             max_salary_mean_grpby_and_category_dow            0.007367    51  0.701409\n",
       "79                       min_salary_max_grpby_and_area            0.007287    52  0.708696\n",
       "126             min_salary_mean_grpby_and_category_dow            0.006906    53  0.715602\n",
       "73                       max_salary_min_grpby_and_area            0.006781    54  0.722384\n",
       "45          num_openings_median_grpby_and_organization            0.006778    55  0.729162\n",
       "49               max_salary_max_grpby_and_organization            0.006770    56  0.735932\n",
       "75                    max_salary_median_grpby_and_area            0.006730    57  0.742662\n",
       "28                  min_salary_mean_grpby_and_category            0.006617    58  0.749279\n",
       "117            num_openings_std_grpby_and_category_dow            0.006470    59  0.755748\n",
       "100          max_salary_median_grpby_and_category_city            0.006279    60  0.762027\n",
       "99              max_salary_max_grpby_and_category_city            0.006188    61  0.768216\n",
       "157             applicant_location_mean_grpby_and_city            0.006052    62  0.774267\n",
       "70                  num_openings_median_grpby_and_area            0.005818    63  0.780085\n",
       "52               min_salary_std_grpby_and_organization            0.005816    64  0.785901\n",
       "116           num_openings_mean_grpby_and_category_dow            0.005711    65  0.791612\n",
       "18                num_openings_mean_grpby_and_category            0.005602    66  0.797214\n",
       "54               min_salary_max_grpby_and_organization            0.005565    67  0.802779\n",
       "12                                             city_fe            0.005323    68  0.808102\n",
       "55            min_salary_median_grpby_and_organization            0.005267    69  0.813369\n",
       "29                   min_salary_std_grpby_and_category            0.005207    70  0.818576\n",
       "24                   max_salary_std_grpby_and_category            0.004929    71  0.823505\n",
       "26                   max_salary_max_grpby_and_category            0.004874    72  0.828379\n",
       "39           applicant_location_std_grpby_and_category            0.004851    73  0.833230\n",
       "19                 num_openings_std_grpby_and_category            0.004791    74  0.838021\n",
       "36                    education_max_grpby_and_category            0.004769    75  0.842790\n",
       "53               min_salary_min_grpby_and_organization            0.004722    76  0.847512\n",
       "23                  max_salary_mean_grpby_and_category            0.004563    77  0.852075\n",
       "103             min_salary_min_grpby_and_category_city            0.004507    78  0.856582\n",
       "98              max_salary_min_grpby_and_category_city            0.004505    79  0.861087\n",
       "145                      max_salary_std_grpby_and_city            0.004402    80  0.865489\n",
       "74                       max_salary_max_grpby_and_area            0.004400    81  0.869890\n",
       "10                                              dow_fe            0.004367    82  0.874257\n",
       "124              max_salary_max_grpby_and_category_dow            0.004135    83  0.878392\n",
       "128              min_salary_min_grpby_and_category_dow            0.004095    84  0.882487\n",
       "51              min_salary_mean_grpby_and_organization            0.004089    85  0.886576\n",
       "59                education_max_grpby_and_organization            0.004087    86  0.890663\n",
       "64       applicant_location_max_grpby_and_organization            0.003951    87  0.894615\n",
       "104             min_salary_max_grpby_and_category_city            0.003951    88  0.898565\n",
       "31                   min_salary_max_grpby_and_category            0.003916    89  0.902481\n",
       "44             num_openings_max_grpby_and_organization            0.003915    90  0.906396\n",
       "34                    education_std_grpby_and_category            0.003628    91  0.910024\n",
       "94            num_openings_max_grpby_and_category_city            0.003494    92  0.913518\n",
       "7                                           min_salary            0.003439    93  0.916957\n",
       "43             num_openings_min_grpby_and_organization            0.003353    94  0.920310\n",
       "61      applicant_location_mean_grpby_and_organization            0.003329    95  0.923639\n",
       "30                   min_salary_min_grpby_and_category            0.003276    96  0.926915\n",
       "2                                   applicant_location            0.003247    97  0.930162\n",
       "105          min_salary_median_grpby_and_category_city            0.002877    98  0.933039\n",
       "60             education_median_grpby_and_organization            0.002801    99  0.935839\n",
       "130           min_salary_median_grpby_and_category_dow            0.002792   100  0.938631\n",
       "123              max_salary_min_grpby_and_category_dow            0.002664   101  0.941295\n",
       "143                 num_openings_median_grpby_and_city            0.002637   102  0.943932\n",
       "69                     num_openings_max_grpby_and_area            0.002633   103  0.946565\n",
       "119            num_openings_max_grpby_and_category_dow            0.002517   104  0.949082\n",
       "150                      min_salary_std_grpby_and_city            0.002494   105  0.951576\n",
       "141                   num_openings_mean_grpby_and_city            0.002412   106  0.953988\n",
       "129              min_salary_max_grpby_and_category_dow            0.002153   107  0.956141\n",
       "22              num_openings_median_grpby_and_category            0.002048   108  0.958189\n",
       "84                        education_max_grpby_and_area            0.002016   109  0.960205\n",
       "27                max_salary_median_grpby_and_category            0.001992   110  0.962197\n",
       "32                min_salary_median_grpby_and_category            0.001856   111  0.964053\n",
       "21                 num_openings_max_grpby_and_category            0.001712   112  0.965765\n",
       "11                                    employer_type_fe            0.001706   113  0.967471\n",
       "174    applicant_location_mean_grpby_and_employer_type            0.001690   114  0.969161\n",
       "120         num_openings_median_grpby_and_category_dow            0.001674   115  0.970836\n",
       "134               education_max_grpby_and_category_dow            0.001624   116  0.972460\n",
       "85                     education_median_grpby_and_area            0.001569   117  0.974029\n",
       "95         num_openings_median_grpby_and_category_city            0.001567   118  0.975596\n",
       "169             min_salary_min_grpby_and_employer_type            0.001514   119  0.977111\n",
       "108              education_min_grpby_and_category_city            0.001514   120  0.978625\n",
       "167            min_salary_mean_grpby_and_employer_type            0.001486   121  0.980111\n",
       "144                     max_salary_mean_grpby_and_city            0.001456   122  0.981567\n",
       "58                education_min_grpby_and_organization            0.001396   123  0.982963\n",
       "125           max_salary_median_grpby_and_category_dow            0.001373   124  0.984336\n",
       "155                       education_std_grpby_and_city            0.001259   125  0.985595\n",
       "109              education_max_grpby_and_category_city            0.001098   126  0.986693\n",
       "159          num_openings_mean_grpby_and_employer_type            0.001008   127  0.987701\n",
       "65    applicant_location_median_grpby_and_organization            0.000926   128  0.988627\n",
       "16                                     is_part_time_fe            0.000843   129  0.989470\n",
       "114     applicant_location_max_grpby_and_category_city            0.000788   130  0.990258\n",
       "110           education_median_grpby_and_category_city            0.000784   131  0.991041\n",
       "90            applicant_location_median_grpby_and_area            0.000757   132  0.991798\n",
       "139      applicant_location_max_grpby_and_category_dow            0.000751   133  0.992549\n",
       "135            education_median_grpby_and_category_dow            0.000704   134  0.993253\n",
       "133               education_min_grpby_and_category_dow            0.000674   135  0.993927\n",
       "158              applicant_location_std_grpby_and_city            0.000590   136  0.994518\n",
       "175     applicant_location_std_grpby_and_employer_type            0.000478   137  0.994996\n",
       "147                      max_salary_max_grpby_and_city            0.000477   138  0.995473\n",
       "89               applicant_location_max_grpby_and_area            0.000446   139  0.995920\n",
       "170             min_salary_max_grpby_and_employer_type            0.000394   140  0.996313\n",
       "173              education_std_grpby_and_employer_type            0.000364   141  0.996678\n",
       "142                    num_openings_std_grpby_and_city            0.000364   142  0.997042\n",
       "148                   max_salary_median_grpby_and_city            0.000364   143  0.997406\n",
       "83                        education_min_grpby_and_area            0.000364   144  0.997769\n",
       "146                      max_salary_min_grpby_and_city            0.000335   145  0.998104\n",
       "163             max_salary_std_grpby_and_employer_type            0.000334   146  0.998438\n",
       "152                      min_salary_max_grpby_and_city            0.000281   147  0.998720\n",
       "168             min_salary_std_grpby_and_employer_type            0.000280   148  0.998999\n",
       "151                      min_salary_min_grpby_and_city            0.000250   149  0.999250\n",
       "63       applicant_location_min_grpby_and_organization            0.000250   150  0.999499\n",
       "149                     min_salary_mean_grpby_and_city            0.000168   151  0.999667\n",
       "93            num_openings_min_grpby_and_category_city            0.000166   152  0.999834\n",
       "160           num_openings_std_grpby_and_employer_type            0.000083   153  0.999917\n",
       "162            max_salary_mean_grpby_and_employer_type            0.000083   154  1.000000\n",
       "166          max_salary_median_grpby_and_employer_type            0.000000   155  1.000000\n",
       "164             max_salary_min_grpby_and_employer_type            0.000000   156  1.000000\n",
       "165             max_salary_max_grpby_and_employer_type            0.000000   157  1.000000\n",
       "118            num_openings_min_grpby_and_category_dow            0.000000   158  1.000000\n",
       "20                 num_openings_min_grpby_and_category            0.000000   159  1.000000\n",
       "8                                             shift_fe            0.000000   160  1.000000\n",
       "172             education_mean_grpby_and_employer_type            0.000000   161  1.000000\n",
       "3                                              deposit            0.000000   162  1.000000\n",
       "171          min_salary_median_grpby_and_employer_type            0.000000   163  1.000000\n",
       "156                    education_median_grpby_and_city            0.000000   164  1.000000\n",
       "161        num_openings_median_grpby_and_employer_type            0.000000   165  1.000000\n",
       "35                    education_min_grpby_and_category            0.000000   166  1.000000\n",
       "37                 education_median_grpby_and_category            0.000000   167  1.000000\n",
       "40           applicant_location_max_grpby_and_category            0.000000   168  1.000000\n",
       "138      applicant_location_min_grpby_and_category_dow            0.000000   169  1.000000\n",
       "154                      education_mean_grpby_and_city            0.000000   170  1.000000\n",
       "153                   min_salary_median_grpby_and_city            0.000000   171  1.000000\n",
       "68                     num_openings_min_grpby_and_area            0.000000   172  1.000000\n",
       "113     applicant_location_min_grpby_and_category_city            0.000000   173  1.000000\n",
       "140   applicant_location_median_grpby_and_category_dow            0.000000   174  1.000000\n",
       "115  applicant_location_median_grpby_and_category_city            0.000000   175  1.000000\n",
       "88               applicant_location_min_grpby_and_area            0.000000   176  1.000000"
      ]
     },
     "execution_count": 62,
     "metadata": {},
     "output_type": "execute_result"
    }
   ],
   "source": [
    "feat_imps = est.feature_importances(columns = use_cols) \n",
    "feat_imps['cum_imp']=feat_imps.feature_importance.cumsum()\n",
    "feat_imps"
   ]
  }
 ],
 "metadata": {
  "kernelspec": {
   "display_name": "Python 3 (ipykernel)",
   "language": "python",
   "name": "python3"
  },
  "language_info": {
   "codemirror_mode": {
    "name": "ipython",
    "version": 3
   },
   "file_extension": ".py",
   "mimetype": "text/x-python",
   "name": "python",
   "nbconvert_exporter": "python",
   "pygments_lexer": "ipython3",
   "version": "3.9.7"
  }
 },
 "nbformat": 4,
 "nbformat_minor": 5
}
