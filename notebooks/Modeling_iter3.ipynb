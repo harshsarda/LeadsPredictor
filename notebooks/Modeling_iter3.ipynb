{
 "cells": [
  {
   "cell_type": "code",
   "execution_count": 1,
   "id": "01275724",
   "metadata": {},
   "outputs": [],
   "source": [
    "%load_ext autoreload\n",
    "%autoreload 2"
   ]
  },
  {
   "cell_type": "code",
   "execution_count": 2,
   "id": "3e472834",
   "metadata": {},
   "outputs": [],
   "source": [
    "import pandas as pd\n",
    "import numpy as np\n",
    "import os\n",
    "import warnings\n",
    "import sys\n",
    "import matplotlib.pyplot as plt"
   ]
  },
  {
   "cell_type": "code",
   "execution_count": 3,
   "id": "4cfbe560",
   "metadata": {},
   "outputs": [],
   "source": [
    "sys.path.append('/home/mondzi259/Apna_Assignment/src/ml_auto/')"
   ]
  },
  {
   "cell_type": "code",
   "execution_count": 4,
   "id": "59a39e95",
   "metadata": {},
   "outputs": [],
   "source": [
    "from custom_estimator import Estimator, scoring_metric\n",
    "from encoding import FreqeuncyEncoding,TargetEncoding\n",
    "from hyperopt_model_selection import HyperOptModelSelection,hp\n",
    "from custom_fold_generator import KFold,GroupKFold,CustomFolds\n",
    "from lightgbm import LGBMRegressor"
   ]
  },
  {
   "cell_type": "code",
   "execution_count": 5,
   "id": "f5ca01ff",
   "metadata": {},
   "outputs": [],
   "source": [
    "warnings.filterwarnings('ignore')"
   ]
  },
  {
   "cell_type": "code",
   "execution_count": 6,
   "id": "08888383",
   "metadata": {},
   "outputs": [],
   "source": [
    "pd.set_option('display.max_rows', 500)\n",
    "pd.set_option('display.max_columns', 500)\n",
    "pd.set_option('display.width', 1000)"
   ]
  },
  {
   "cell_type": "code",
   "execution_count": 7,
   "id": "8b0a8df1",
   "metadata": {},
   "outputs": [],
   "source": [
    "DATA_DIR = '/home/mondzi259/Apna_Assignment/data/'"
   ]
  },
  {
   "cell_type": "code",
   "execution_count": 8,
   "id": "143fd148",
   "metadata": {},
   "outputs": [
    {
     "data": {
      "text/plain": [
       "(30000, 19)"
      ]
     },
     "execution_count": 8,
     "metadata": {},
     "output_type": "execute_result"
    }
   ],
   "source": [
    "df = pd.read_excel(os.path.join(DATA_DIR,'data.xlsx'),sheet_name=0)\n",
    "df.shape"
   ]
  },
  {
   "cell_type": "code",
   "execution_count": 9,
   "id": "7a0873a6",
   "metadata": {},
   "outputs": [],
   "source": [
    "df.drop('feebackgiven',axis=1,inplace=True)"
   ]
  },
  {
   "cell_type": "code",
   "execution_count": 10,
   "id": "15325889",
   "metadata": {},
   "outputs": [],
   "source": [
    "data_dic = pd.read_excel(os.path.join(DATA_DIR,'data.xlsx'),sheet_name=1,header=None)"
   ]
  },
  {
   "cell_type": "code",
   "execution_count": 11,
   "id": "47c008f6",
   "metadata": {},
   "outputs": [
    {
     "data": {
      "text/html": [
       "<div>\n",
       "<style scoped>\n",
       "    .dataframe tbody tr th:only-of-type {\n",
       "        vertical-align: middle;\n",
       "    }\n",
       "\n",
       "    .dataframe tbody tr th {\n",
       "        vertical-align: top;\n",
       "    }\n",
       "\n",
       "    .dataframe thead th {\n",
       "        text-align: right;\n",
       "    }\n",
       "</style>\n",
       "<table border=\"1\" class=\"dataframe\">\n",
       "  <thead>\n",
       "    <tr style=\"text-align: right;\">\n",
       "      <th></th>\n",
       "      <th>0</th>\n",
       "      <th>1</th>\n",
       "      <th>2</th>\n",
       "      <th>3</th>\n",
       "    </tr>\n",
       "  </thead>\n",
       "  <tbody>\n",
       "    <tr>\n",
       "      <th>0</th>\n",
       "      <td>lead</td>\n",
       "      <td>A candidate who has interacted with HR on the ...</td>\n",
       "      <td>NaN</td>\n",
       "      <td>NaN</td>\n",
       "    </tr>\n",
       "    <tr>\n",
       "      <th>1</th>\n",
       "      <td>shift</td>\n",
       "      <td>night/ day</td>\n",
       "      <td>0 - day, 1 - night</td>\n",
       "      <td>NaN</td>\n",
       "    </tr>\n",
       "    <tr>\n",
       "      <th>2</th>\n",
       "      <td>gender</td>\n",
       "      <td>f/m/all</td>\n",
       "      <td>0 -  male jobs, 1 - female , 2 - all</td>\n",
       "      <td>NaN</td>\n",
       "    </tr>\n",
       "    <tr>\n",
       "      <th>3</th>\n",
       "      <td>education</td>\n",
       "      <td>10th to PG</td>\n",
       "      <td>ordinally placed, 10th being lowest and PG the...</td>\n",
       "      <td>NaN</td>\n",
       "    </tr>\n",
       "    <tr>\n",
       "      <th>4</th>\n",
       "      <td>created_on</td>\n",
       "      <td>job created date</td>\n",
       "      <td>Days since a fixed reference data</td>\n",
       "      <td>For ex: if reference data was 1 Jan 2020,\\njob...</td>\n",
       "    </tr>\n",
       "    <tr>\n",
       "      <th>5</th>\n",
       "      <td>employer_type</td>\n",
       "      <td>key-account/ smb/ enterprise/ consultant/ NA</td>\n",
       "      <td>most jobs are smb, followed by Key accounts, e...</td>\n",
       "      <td>NaN</td>\n",
       "    </tr>\n",
       "    <tr>\n",
       "      <th>6</th>\n",
       "      <td>applicant_location</td>\n",
       "      <td>candidate distance from job</td>\n",
       "      <td>lower the value, lower the distance requirement</td>\n",
       "      <td>NaN</td>\n",
       "    </tr>\n",
       "    <tr>\n",
       "      <th>7</th>\n",
       "      <td>city</td>\n",
       "      <td>city</td>\n",
       "      <td>is masked</td>\n",
       "      <td>NaN</td>\n",
       "    </tr>\n",
       "    <tr>\n",
       "      <th>8</th>\n",
       "      <td>area</td>\n",
       "      <td>area</td>\n",
       "      <td>is masked</td>\n",
       "      <td>NaN</td>\n",
       "    </tr>\n",
       "    <tr>\n",
       "      <th>9</th>\n",
       "      <td>organization</td>\n",
       "      <td>company name</td>\n",
       "      <td>is masked</td>\n",
       "      <td>NaN</td>\n",
       "    </tr>\n",
       "    <tr>\n",
       "      <th>10</th>\n",
       "      <td>deposit</td>\n",
       "      <td>requires a deposit</td>\n",
       "      <td>majority don't require a deposit</td>\n",
       "      <td>actual amounts are masked</td>\n",
       "    </tr>\n",
       "    <tr>\n",
       "      <th>11</th>\n",
       "      <td>category</td>\n",
       "      <td>delivery/driver/...</td>\n",
       "      <td>is masked</td>\n",
       "      <td>NaN</td>\n",
       "    </tr>\n",
       "    <tr>\n",
       "      <th>12</th>\n",
       "      <td>english</td>\n",
       "      <td>no/broken-english/good-english/fluent</td>\n",
       "      <td>higher the value, higher the quality of englis...</td>\n",
       "      <td>NaN</td>\n",
       "    </tr>\n",
       "    <tr>\n",
       "      <th>13</th>\n",
       "      <td>num_openings</td>\n",
       "      <td>no of people to recruit</td>\n",
       "      <td>NaN</td>\n",
       "      <td>NaN</td>\n",
       "    </tr>\n",
       "    <tr>\n",
       "      <th>14</th>\n",
       "      <td>max_salary</td>\n",
       "      <td>salary</td>\n",
       "      <td>as is</td>\n",
       "      <td>NaN</td>\n",
       "    </tr>\n",
       "    <tr>\n",
       "      <th>15</th>\n",
       "      <td>is_part_time</td>\n",
       "      <td>yes/no</td>\n",
       "      <td>majority are full time jobs</td>\n",
       "      <td>NaN</td>\n",
       "    </tr>\n",
       "    <tr>\n",
       "      <th>16</th>\n",
       "      <td>feedbackgiven</td>\n",
       "      <td>yes/no</td>\n",
       "      <td>majority don't have feedbackgiven</td>\n",
       "      <td>NaN</td>\n",
       "    </tr>\n",
       "    <tr>\n",
       "      <th>17</th>\n",
       "      <td>leads_per_opening</td>\n",
       "      <td>NaN</td>\n",
       "      <td>leads/ num_openings for the job</td>\n",
       "      <td>NaN</td>\n",
       "    </tr>\n",
       "    <tr>\n",
       "      <th>18</th>\n",
       "      <td>dow</td>\n",
       "      <td>day of the week</td>\n",
       "      <td>NaN</td>\n",
       "      <td>NaN</td>\n",
       "    </tr>\n",
       "  </tbody>\n",
       "</table>\n",
       "</div>"
      ],
      "text/plain": [
       "                     0                                                  1                                                  2                                                  3\n",
       "0                 lead  A candidate who has interacted with HR on the ...                                                NaN                                                NaN\n",
       "1                shift                                         night/ day                                0 - day, 1 - night                                                 NaN\n",
       "2               gender                                            f/m/all               0 -  male jobs, 1 - female , 2 - all                                                NaN\n",
       "3            education                                        10th to PG   ordinally placed, 10th being lowest and PG the...                                                NaN\n",
       "4           created_on                                   job created date                  Days since a fixed reference data  For ex: if reference data was 1 Jan 2020,\\njob...\n",
       "5        employer_type       key-account/ smb/ enterprise/ consultant/ NA  most jobs are smb, followed by Key accounts, e...                                                NaN\n",
       "6   applicant_location                        candidate distance from job    lower the value, lower the distance requirement                                                NaN\n",
       "7                 city                                               city                                          is masked                                                NaN\n",
       "8                 area                                               area                                          is masked                                                NaN\n",
       "9         organization                                       company name                                          is masked                                                NaN\n",
       "10             deposit                                 requires a deposit                   majority don't require a deposit                          actual amounts are masked\n",
       "11            category                                delivery/driver/...                                          is masked                                                NaN\n",
       "12             english              no/broken-english/good-english/fluent  higher the value, higher the quality of englis...                                                NaN\n",
       "13        num_openings                            no of people to recruit                                                NaN                                                NaN\n",
       "14          max_salary                                             salary                                              as is                                                NaN\n",
       "15        is_part_time                                             yes/no                        majority are full time jobs                                                NaN\n",
       "16       feedbackgiven                                             yes/no                  majority don't have feedbackgiven                                                NaN\n",
       "17   leads_per_opening                                                NaN                    leads/ num_openings for the job                                                NaN\n",
       "18                 dow                                    day of the week                                                NaN                                                NaN"
      ]
     },
     "execution_count": 11,
     "metadata": {},
     "output_type": "execute_result"
    }
   ],
   "source": [
    "data_dic"
   ]
  },
  {
   "cell_type": "code",
   "execution_count": 12,
   "id": "97977313",
   "metadata": {},
   "outputs": [
    {
     "data": {
      "text/html": [
       "<div>\n",
       "<style scoped>\n",
       "    .dataframe tbody tr th:only-of-type {\n",
       "        vertical-align: middle;\n",
       "    }\n",
       "\n",
       "    .dataframe tbody tr th {\n",
       "        vertical-align: top;\n",
       "    }\n",
       "\n",
       "    .dataframe thead th {\n",
       "        text-align: right;\n",
       "    }\n",
       "</style>\n",
       "<table border=\"1\" class=\"dataframe\">\n",
       "  <thead>\n",
       "    <tr style=\"text-align: right;\">\n",
       "      <th></th>\n",
       "      <th>shift</th>\n",
       "      <th>gender</th>\n",
       "      <th>education</th>\n",
       "      <th>created_on</th>\n",
       "      <th>dow</th>\n",
       "      <th>employer_type</th>\n",
       "      <th>applicant_location</th>\n",
       "      <th>city</th>\n",
       "      <th>area</th>\n",
       "      <th>organization</th>\n",
       "      <th>deposit</th>\n",
       "      <th>category</th>\n",
       "      <th>english</th>\n",
       "      <th>num_openings</th>\n",
       "      <th>max_salary</th>\n",
       "      <th>min_salary</th>\n",
       "      <th>is_part_time</th>\n",
       "      <th>leads_per_opening</th>\n",
       "    </tr>\n",
       "  </thead>\n",
       "  <tbody>\n",
       "    <tr>\n",
       "      <th>0</th>\n",
       "      <td>0.0</td>\n",
       "      <td>0.0</td>\n",
       "      <td>3.0</td>\n",
       "      <td>413.0</td>\n",
       "      <td>3.0</td>\n",
       "      <td>0.0</td>\n",
       "      <td>0.0</td>\n",
       "      <td>1.0</td>\n",
       "      <td>4119.0</td>\n",
       "      <td>31278.0</td>\n",
       "      <td>0.0</td>\n",
       "      <td>55.0</td>\n",
       "      <td>2.0</td>\n",
       "      <td>22.0</td>\n",
       "      <td>21000.0</td>\n",
       "      <td>NaN</td>\n",
       "      <td>0.0</td>\n",
       "      <td>0.090909</td>\n",
       "    </tr>\n",
       "    <tr>\n",
       "      <th>1</th>\n",
       "      <td>0.0</td>\n",
       "      <td>0.0</td>\n",
       "      <td>3.0</td>\n",
       "      <td>529.0</td>\n",
       "      <td>0.0</td>\n",
       "      <td>4.0</td>\n",
       "      <td>0.0</td>\n",
       "      <td>2.0</td>\n",
       "      <td>2017.0</td>\n",
       "      <td>32006.0</td>\n",
       "      <td>0.0</td>\n",
       "      <td>54.0</td>\n",
       "      <td>2.0</td>\n",
       "      <td>2.0</td>\n",
       "      <td>80000.0</td>\n",
       "      <td>NaN</td>\n",
       "      <td>0.0</td>\n",
       "      <td>31.500000</td>\n",
       "    </tr>\n",
       "    <tr>\n",
       "      <th>2</th>\n",
       "      <td>0.0</td>\n",
       "      <td>0.0</td>\n",
       "      <td>0.0</td>\n",
       "      <td>457.0</td>\n",
       "      <td>0.0</td>\n",
       "      <td>4.0</td>\n",
       "      <td>0.0</td>\n",
       "      <td>3.0</td>\n",
       "      <td>1500.0</td>\n",
       "      <td>32029.0</td>\n",
       "      <td>0.0</td>\n",
       "      <td>42.0</td>\n",
       "      <td>3.0</td>\n",
       "      <td>1.0</td>\n",
       "      <td>3500.0</td>\n",
       "      <td>NaN</td>\n",
       "      <td>1.0</td>\n",
       "      <td>9.000000</td>\n",
       "    </tr>\n",
       "    <tr>\n",
       "      <th>3</th>\n",
       "      <td>0.0</td>\n",
       "      <td>0.0</td>\n",
       "      <td>4.0</td>\n",
       "      <td>450.0</td>\n",
       "      <td>3.0</td>\n",
       "      <td>4.0</td>\n",
       "      <td>0.0</td>\n",
       "      <td>5.0</td>\n",
       "      <td>638.0</td>\n",
       "      <td>9925.0</td>\n",
       "      <td>0.0</td>\n",
       "      <td>60.0</td>\n",
       "      <td>4.0</td>\n",
       "      <td>4.0</td>\n",
       "      <td>11500.0</td>\n",
       "      <td>NaN</td>\n",
       "      <td>0.0</td>\n",
       "      <td>0.000000</td>\n",
       "    </tr>\n",
       "    <tr>\n",
       "      <th>4</th>\n",
       "      <td>0.0</td>\n",
       "      <td>0.0</td>\n",
       "      <td>0.0</td>\n",
       "      <td>480.0</td>\n",
       "      <td>0.0</td>\n",
       "      <td>1.0</td>\n",
       "      <td>0.0</td>\n",
       "      <td>2.0</td>\n",
       "      <td>4115.0</td>\n",
       "      <td>8400.0</td>\n",
       "      <td>0.0</td>\n",
       "      <td>16.0</td>\n",
       "      <td>3.0</td>\n",
       "      <td>25.0</td>\n",
       "      <td>25000.0</td>\n",
       "      <td>NaN</td>\n",
       "      <td>0.0</td>\n",
       "      <td>1.400000</td>\n",
       "    </tr>\n",
       "  </tbody>\n",
       "</table>\n",
       "</div>"
      ],
      "text/plain": [
       "   shift  gender  education  created_on  dow  employer_type  applicant_location  city    area  organization  deposit  category  english  num_openings  max_salary  min_salary  is_part_time  leads_per_opening\n",
       "0    0.0     0.0        3.0       413.0  3.0            0.0                 0.0   1.0  4119.0       31278.0      0.0      55.0      2.0          22.0     21000.0         NaN           0.0           0.090909\n",
       "1    0.0     0.0        3.0       529.0  0.0            4.0                 0.0   2.0  2017.0       32006.0      0.0      54.0      2.0           2.0     80000.0         NaN           0.0          31.500000\n",
       "2    0.0     0.0        0.0       457.0  0.0            4.0                 0.0   3.0  1500.0       32029.0      0.0      42.0      3.0           1.0      3500.0         NaN           1.0           9.000000\n",
       "3    0.0     0.0        4.0       450.0  3.0            4.0                 0.0   5.0   638.0        9925.0      0.0      60.0      4.0           4.0     11500.0         NaN           0.0           0.000000\n",
       "4    0.0     0.0        0.0       480.0  0.0            1.0                 0.0   2.0  4115.0        8400.0      0.0      16.0      3.0          25.0     25000.0         NaN           0.0           1.400000"
      ]
     },
     "execution_count": 12,
     "metadata": {},
     "output_type": "execute_result"
    }
   ],
   "source": [
    "df.head()"
   ]
  },
  {
   "cell_type": "markdown",
   "id": "6da48d90",
   "metadata": {},
   "source": [
    "### Target vs created_on"
   ]
  },
  {
   "cell_type": "code",
   "execution_count": 13,
   "id": "88b62a3d",
   "metadata": {},
   "outputs": [
    {
     "data": {
      "image/png": "[encoded data removed]",
      "text/plain": [
       "<Figure size 432x288 with 1 Axes>"
      ]
     },
     "metadata": {
      "needs_background": "light"
     },
     "output_type": "display_data"
    }
   ],
   "source": [
    "df.groupby(pd.qcut(df['created_on'],10,\n",
    "                   duplicates='drop',labels=False))['leads_per_opening'].mean().plot()\n",
    "plt.ylabel('leads_per_opening')\n",
    "plt.title('Decile Plot of leads_per_opening vs created_on');"
   ]
  },
  {
   "cell_type": "markdown",
   "id": "776c2228",
   "metadata": {},
   "source": [
    "### Ideas:\n",
    "\n",
    "1. CV: Time series, KFold, GKFold\n",
    "2. log transform targets: business sense and outliers\n",
    "3. cat OHE, LE, FE, TE\n",
    "4. cat num agg\n",
    "5. num num agg\n",
    "6. missing min salary; app location=0; imputation w/wo\n",
    "7. bayesian fs\n",
    "8. API\n",
    "9. Explainability\n",
    "10. Local/Global feature importance\n",
    "11. Outliers/score\n",
    "12. clustering, svd, cluster distance\n",
    "13. time based (created on) aggs"
   ]
  },
  {
   "cell_type": "markdown",
   "id": "c08dd55a",
   "metadata": {},
   "source": [
    "### "
   ]
  },
  {
   "cell_type": "code",
   "execution_count": 14,
   "id": "5bcf96af",
   "metadata": {},
   "outputs": [],
   "source": [
    "num_cols = ['leads_per_opening','max_salary','min_salary','deposit','num_openings','created_on']\n",
    "cat_cols = [i for i in df.columns.tolist() if i not in num_cols]\n",
    "cat_ordinal_cols = ['applicant_location','english','education']\n",
    "cat_non_ord_cols = [i for i in cat_cols if i not in cat_ordinal_cols]"
   ]
  },
  {
   "cell_type": "code",
   "execution_count": 15,
   "id": "8d24ebff",
   "metadata": {},
   "outputs": [
    {
     "data": {
      "text/plain": [
       "(['shift',\n",
       "  'gender',\n",
       "  'dow',\n",
       "  'employer_type',\n",
       "  'city',\n",
       "  'area',\n",
       "  'organization',\n",
       "  'category',\n",
       "  'is_part_time'],\n",
       " ['applicant_location', 'english', 'education'])"
      ]
     },
     "execution_count": 15,
     "metadata": {},
     "output_type": "execute_result"
    }
   ],
   "source": [
    "cat_non_ord_cols,cat_ordinal_cols"
   ]
  },
  {
   "cell_type": "code",
   "execution_count": 16,
   "id": "64db555a",
   "metadata": {},
   "outputs": [
    {
     "data": {
      "text/plain": [
       "shift                     2\n",
       "gender                    3\n",
       "education                 6\n",
       "dow                       7\n",
       "employer_type             5\n",
       "applicant_location        4\n",
       "city                      7\n",
       "area                   2740\n",
       "organization          14886\n",
       "category                 67\n",
       "english                   4\n",
       "is_part_time              2\n",
       "dtype: int64"
      ]
     },
     "execution_count": 16,
     "metadata": {},
     "output_type": "execute_result"
    }
   ],
   "source": [
    "df[cat_cols].nunique()"
   ]
  },
  {
   "cell_type": "code",
   "execution_count": 17,
   "id": "3189b565",
   "metadata": {},
   "outputs": [],
   "source": [
    "class FreqEnc:\n",
    "    def __init__(self,cat_freq_cols):\n",
    "        self.cat_freq_cols = cat_freq_cols\n",
    "    def fit(self,df):\n",
    "        self.freq_encoding_dict = {\n",
    "                x: df[x].value_counts(1).to_dict() for x in self.cat_freq_cols\n",
    "            }\n",
    "    def transform(self,df):\n",
    "        for col in self.cat_freq_cols:\n",
    "            df[col+\"_fe\"] = df[col].map(self.freq_encoding_dict[col]).fillna(0)\n",
    "        return df\n",
    "    def fit_transform(self,df):\n",
    "        self.fit(df)\n",
    "        return self.transform(df)"
   ]
  },
  {
   "cell_type": "code",
   "execution_count": 18,
   "id": "f7b4f08f",
   "metadata": {},
   "outputs": [],
   "source": [
    "df=df.sort_values('created_on').reset_index(drop=True)"
   ]
  },
  {
   "cell_type": "code",
   "execution_count": 19,
   "id": "fced750d",
   "metadata": {},
   "outputs": [
    {
     "data": {
      "text/plain": [
       "(30000, 18)"
      ]
     },
     "execution_count": 19,
     "metadata": {},
     "output_type": "execute_result"
    }
   ],
   "source": [
    "df.shape"
   ]
  },
  {
   "cell_type": "code",
   "execution_count": 20,
   "id": "8772bc1a",
   "metadata": {},
   "outputs": [],
   "source": [
    "df['target'] = np.log1p(df.leads_per_opening)"
   ]
  },
  {
   "cell_type": "code",
   "execution_count": 21,
   "id": "61aff30f",
   "metadata": {},
   "outputs": [
    {
     "data": {
      "image/png": "[encoded data removed]",
      "text/plain": [
       "<Figure size 432x288 with 2 Axes>"
      ]
     },
     "metadata": {
      "needs_background": "light"
     },
     "output_type": "display_data"
    }
   ],
   "source": [
    "fig, axes = plt.subplots(1, 2, figsize=(6, 4))\n",
    "df.leads_per_opening.hist(ax=axes[0])\n",
    "axes[0].set_title('leads_per_opening')\n",
    "df.target.hist(ax=axes[1])\n",
    "axes[1].set_title('log1p leads_per_opening')\n",
    "plt.tight_layout()"
   ]
  },
  {
   "cell_type": "code",
   "execution_count": 22,
   "id": "d5893f91",
   "metadata": {},
   "outputs": [
    {
     "data": {
      "text/plain": [
       "count    30000.000000\n",
       "mean         1.507317\n",
       "std          1.264234\n",
       "min          0.000000\n",
       "25%          0.385158\n",
       "50%          1.299283\n",
       "75%          2.397895\n",
       "max          6.559615\n",
       "Name: target, dtype: float64"
      ]
     },
     "execution_count": 22,
     "metadata": {},
     "output_type": "execute_result"
    }
   ],
   "source": [
    "df.target.describe()"
   ]
  },
  {
   "cell_type": "markdown",
   "id": "1f5ecbc5",
   "metadata": {},
   "source": [
    "### Removing outliers from data"
   ]
  },
  {
   "cell_type": "code",
   "execution_count": 23,
   "id": "d780b5fc",
   "metadata": {},
   "outputs": [
    {
     "data": {
      "text/plain": [
       "count    30000.000000\n",
       "mean         1.507317\n",
       "std          1.264234\n",
       "min          0.000000\n",
       "50%          1.299283\n",
       "75%          2.397895\n",
       "90%          3.295837\n",
       "95%          3.850148\n",
       "99%          4.770727\n",
       "max          6.559615\n",
       "Name: target, dtype: float64"
      ]
     },
     "execution_count": 23,
     "metadata": {},
     "output_type": "execute_result"
    }
   ],
   "source": [
    "df.target.describe(percentiles=[.75,.9,.95,.99])"
   ]
  },
  {
   "cell_type": "code",
   "execution_count": 24,
   "id": "14348e3b",
   "metadata": {},
   "outputs": [
    {
     "data": {
      "text/plain": [
       "(29680, 19)"
      ]
     },
     "execution_count": 24,
     "metadata": {},
     "output_type": "execute_result"
    }
   ],
   "source": [
    "df= df[df.target<4.753590].reset_index(drop=True)\n",
    "df.shape"
   ]
  },
  {
   "cell_type": "code",
   "execution_count": 25,
   "id": "41ebbbbb",
   "metadata": {},
   "outputs": [],
   "source": [
    "folds =[\n",
    "    (df[(df.created_on<=df.created_on.quantile(0.7))].index.tolist(),\\\n",
    "df[(df.created_on>df.created_on.quantile(0.7))&\\\n",
    "      (df.created_on<=df.created_on.quantile(0.8))].index.tolist()),\n",
    "    \n",
    "    (df[(df.created_on>=df.created_on.quantile(0.1))&\\\n",
    "      (df.created_on<=df.created_on.quantile(0.8))].index.tolist(),\\\n",
    "df[(df.created_on>df.created_on.quantile(0.8))&\\\n",
    "      (df.created_on<=df.created_on.quantile(0.9))].index.tolist()),\n",
    "    \n",
    "    (df[(df.created_on>=df.created_on.quantile(0.2))&\\\n",
    "      (df.created_on<=df.created_on.quantile(0.9))].index.tolist(),\\\n",
    "df[(df.created_on>df.created_on.quantile(0.9))&\\\n",
    "      (df.created_on<=df.created_on.quantile(1))].index.tolist())\n",
    "]"
   ]
  },
  {
   "cell_type": "code",
   "execution_count": 26,
   "id": "b28eb3e6",
   "metadata": {},
   "outputs": [
    {
     "data": {
      "text/plain": [
       "[(0.7054582210242588, 0.10107816711590296),\n",
       " (0.7071091644204852, 0.09508086253369272),\n",
       " (0.7022237196765498, 0.09838274932614555)]"
      ]
     },
     "execution_count": 26,
     "metadata": {},
     "output_type": "execute_result"
    }
   ],
   "source": [
    "[(df.iloc[i].shape[0]/df.shape[0],df.iloc[j].shape[0]/df.shape[0]) for i,j in folds]"
   ]
  },
  {
   "cell_type": "code",
   "execution_count": 27,
   "id": "7d1549f4",
   "metadata": {},
   "outputs": [],
   "source": [
    "fe = FreqEnc(cat_freq_cols=cat_non_ord_cols)"
   ]
  },
  {
   "cell_type": "code",
   "execution_count": 28,
   "id": "89da56cf",
   "metadata": {},
   "outputs": [],
   "source": [
    "df = fe.fit_transform(df)"
   ]
  },
  {
   "cell_type": "code",
   "execution_count": 29,
   "id": "6fb8ab4f",
   "metadata": {},
   "outputs": [],
   "source": [
    "target = df.target.values"
   ]
  },
  {
   "cell_type": "code",
   "execution_count": 30,
   "id": "37084b4b",
   "metadata": {},
   "outputs": [
    {
     "data": {
      "text/plain": [
       "(29680, 28)"
      ]
     },
     "execution_count": 30,
     "metadata": {},
     "output_type": "execute_result"
    }
   ],
   "source": [
    "df.shape"
   ]
  },
  {
   "cell_type": "code",
   "execution_count": 31,
   "id": "c74355c3",
   "metadata": {},
   "outputs": [],
   "source": [
    "remove_cols = cat_non_ord_cols + ['target','leads_per_opening']"
   ]
  },
  {
   "cell_type": "code",
   "execution_count": 32,
   "id": "b1bbe39c",
   "metadata": {},
   "outputs": [],
   "source": [
    "use_cols = [i for i in df.columns if i not in remove_cols]"
   ]
  },
  {
   "cell_type": "code",
   "execution_count": 33,
   "id": "2e3dd16a",
   "metadata": {},
   "outputs": [
    {
     "data": {
      "text/plain": [
       "['education',\n",
       " 'created_on',\n",
       " 'applicant_location',\n",
       " 'deposit',\n",
       " 'english',\n",
       " 'num_openings',\n",
       " 'max_salary',\n",
       " 'min_salary',\n",
       " 'shift_fe',\n",
       " 'gender_fe',\n",
       " 'dow_fe',\n",
       " 'employer_type_fe',\n",
       " 'city_fe',\n",
       " 'area_fe',\n",
       " 'organization_fe',\n",
       " 'category_fe',\n",
       " 'is_part_time_fe']"
      ]
     },
     "execution_count": 33,
     "metadata": {},
     "output_type": "execute_result"
    }
   ],
   "source": [
    "use_cols"
   ]
  },
  {
   "cell_type": "code",
   "execution_count": null,
   "id": "01ac6fbb",
   "metadata": {},
   "outputs": [],
   "source": [
    "lgbm_space = {\n",
    "#    'learning_rate': hp.quniform('learning_rate', 0.025, 0.1, 0.025),\n",
    "    'n_estimators': 10000,\n",
    "#     'early_stopping_rounds': 100,\n",
    "    'num_leaves':  hp.quniform('num_leaves', 16, 80, 16),\n",
    "#     'min_child_weight': hp.quniform('min_child_weight', 1, 40, 5),\n",
    "    'min_child_samples': hp.quniform('min_child_samples', 1, 240, 40),\n",
    "    'subsample': hp.quniform('subsample', 0.2, 1, 0.2),\n",
    "    'colsample_bytree': hp.quniform('colsample_bytree', 0.2, 1, 0.2),\n",
    "    'subsample_freq': hp.choice('subsample_freq',[5]),\n",
    "    'objective': 'regression',\n",
    "    'boosting_type': 'gbdt',\n",
    "    'learning_rate': 0.1,\n",
    "    'n_jobs': -1\n",
    "}"
   ]
  },
  {
   "cell_type": "code",
   "execution_count": 39,
   "id": "b1d63789",
   "metadata": {},
   "outputs": [],
   "source": [
    "hyp = HyperOptModelSelection(Estimator(model=LGBMRegressor(),\n",
    "                                       early_stopping_rounds=100,\n",
    "                                       validation_scheme=folds,\n",
    "                                       shuffle=True),\n",
    "                             space= lgbm_space,\n",
    "                             max_evals=200,is_maximize=False,random_seed=100,\n",
    "                             params_mapping = {'n_estimators':int, 'num_leaves':int, \n",
    "                                               'max_depth':int,'min_child_samples':int},          \n",
    "                             log_file_path=\"hyperopt_log.txt\")"
   ]
  },
  {
   "cell_type": "code",
   "execution_count": 40,
   "id": "18053009",
   "metadata": {},
   "outputs": [
    {
     "name": "stderr",
     "output_type": "stream",
     "text": [
      "Starting HyperOpt 200 Evals with Dataset of Shape ((27033, 17),(27033,))\n"
     ]
    },
    {
     "name": "stdout",
     "output_type": "stream",
     "text": [
      "\r",
      "  0%|                                                                   | 0/200 [00:00<?, ?trial/s, best loss=?]"
     ]
    },
    {
     "name": "stderr",
     "output_type": "stream",
     "text": [
      "\n",
      "Iteration: 1, Training with params: {'boosting_type': 'gbdt', 'colsample_bytree': 0.4, 'learning_rate': 0.1, 'min_child_samples': 120, 'n_estimators': 10000, 'n_jobs': -1, 'num_leaves': 32, 'objective': 'regression', 'subsample': 1.0, 'subsample_freq': 5}\n"
     ]
    },
    {
     "name": "stdout",
     "output_type": "stream",
     "text": [
      "[100]\tvalid_0's rmse: 0.843146\tvalid_0's l2: 0.710895\tvalid_1's rmse: 0.826759\tvalid_1's l2: 0.68353            \n",
      "[200]\tvalid_0's rmse: 0.839825\tvalid_0's l2: 0.705306\tvalid_1's rmse: 0.785948\tvalid_1's l2: 0.617714           \n",
      "[100]\tvalid_0's rmse: 0.911732\tvalid_0's l2: 0.831255\tvalid_1's rmse: 0.820455\tvalid_1's l2: 0.673146           \n",
      "[200]\tvalid_0's rmse: 0.909928\tvalid_0's l2: 0.827969\tvalid_1's rmse: 0.77926\tvalid_1's l2: 0.607247            \n",
      "[100]\tvalid_0's rmse: 0.838781\tvalid_0's l2: 0.703553\tvalid_1's rmse: 0.824825\tvalid_1's l2: 0.680336           \n",
      "[200]\tvalid_0's rmse: 0.826947\tvalid_0's l2: 0.683841\tvalid_1's rmse: 0.785099\tvalid_1's l2: 0.616381           \n",
      "[300]\tvalid_0's rmse: 0.82245\tvalid_0's l2: 0.676424\tvalid_1's rmse: 0.759297\tvalid_1's l2: 0.576532            \n",
      "[400]\tvalid_0's rmse: 0.822764\tvalid_0's l2: 0.67694\tvalid_1's rmse: 0.738832\tvalid_1's l2: 0.545872            \n",
      "  0%|                                                                   | 0/200 [00:01<?, ?trial/s, best loss=?]"
     ]
    },
    {
     "name": "stderr",
     "output_type": "stream",
     "text": [
      "Score - 0.8567838652780191, Std - 0.038109064632184414, Eval Score - 0.8567838652780191\n",
      "Score across folds - [0.8386262711666884, 0.9098078275145794, 0.8219174971527896].\n"
     ]
    },
    {
     "name": "stdout",
     "output_type": "stream",
     "text": [
      "\r",
      "  0%|▏                                        | 1/200 [00:02<06:44,  2.03s/trial, best loss: 0.8567838652780191]"
     ]
    },
    {
     "name": "stderr",
     "output_type": "stream",
     "text": [
      "\n",
      "Iteration: 2, Training with params: {'boosting_type': 'gbdt', 'colsample_bytree': 0.8, 'learning_rate': 0.1, 'min_child_samples': 80, 'n_estimators': 10000, 'n_jobs': -1, 'num_leaves': 32, 'objective': 'regression', 'subsample': 0.6000000000000001, 'subsample_freq': 5}\n"
     ]
    },
    {
     "name": "stdout",
     "output_type": "stream",
     "text": [
      "[100]\tvalid_0's rmse: 0.845115\tvalid_0's l2: 0.714219\tvalid_1's rmse: 0.807275\tvalid_1's l2: 0.651692           \n",
      "[200]\tvalid_0's rmse: 0.847418\tvalid_0's l2: 0.718117\tvalid_1's rmse: 0.760912\tvalid_1's l2: 0.578988           \n",
      "[100]\tvalid_0's rmse: 0.922139\tvalid_0's l2: 0.85034\tvalid_1's rmse: 0.798298\tvalid_1's l2: 0.63728             \n",
      "[200]\tvalid_0's rmse: 0.926151\tvalid_0's l2: 0.857757\tvalid_1's rmse: 0.75101\tvalid_1's l2: 0.564017            \n",
      "[100]\tvalid_0's rmse: 0.83978\tvalid_0's l2: 0.70523\tvalid_1's rmse: 0.806629\tvalid_1's l2: 0.65065              \n",
      "[200]\tvalid_0's rmse: 0.83059\tvalid_0's l2: 0.68988\tvalid_1's rmse: 0.757969\tvalid_1's l2: 0.574517             \n",
      "  0%|▏                                        | 1/200 [00:03<06:44,  2.03s/trial, best loss: 0.8567838652780191]"
     ]
    },
    {
     "name": "stderr",
     "output_type": "stream",
     "text": [
      "Score - 0.8630428033929154, Std - 0.038409104209696746, Eval Score - 0.8630428033929154\n",
      "Score across folds - [0.8420180557876843, 0.916929811722974, 0.8301805426680877].\n"
     ]
    },
    {
     "name": "stdout",
     "output_type": "stream",
     "text": [
      "\r",
      "  1%|▍                                        | 2/200 [00:03<06:08,  1.86s/trial, best loss: 0.8567838652780191]"
     ]
    },
    {
     "name": "stderr",
     "output_type": "stream",
     "text": [
      "\n",
      "Iteration: 3, Training with params: {'boosting_type': 'gbdt', 'colsample_bytree': 0.8, 'learning_rate': 0.1, 'min_child_samples': 60, 'n_estimators': 10000, 'n_jobs': -1, 'num_leaves': 32, 'objective': 'regression', 'subsample': 0.8, 'subsample_freq': 5}\n"
     ]
    },
    {
     "name": "stdout",
     "output_type": "stream",
     "text": [
      "[100]\tvalid_0's rmse: 0.842129\tvalid_0's l2: 0.709181\tvalid_1's rmse: 0.798144\tvalid_1's l2: 0.637034           \n",
      "[200]\tvalid_0's rmse: 0.843847\tvalid_0's l2: 0.712077\tvalid_1's rmse: 0.745446\tvalid_1's l2: 0.555689           \n",
      "[100]\tvalid_0's rmse: 0.925276\tvalid_0's l2: 0.856136\tvalid_1's rmse: 0.790954\tvalid_1's l2: 0.625609           \n",
      "[200]\tvalid_0's rmse: 0.923457\tvalid_0's l2: 0.852773\tvalid_1's rmse: 0.738745\tvalid_1's l2: 0.545745           \n",
      "[100]\tvalid_0's rmse: 0.841123\tvalid_0's l2: 0.707489\tvalid_1's rmse: 0.797028\tvalid_1's l2: 0.635253           \n",
      "[200]\tvalid_0's rmse: 0.830385\tvalid_0's l2: 0.689539\tvalid_1's rmse: 0.743545\tvalid_1's l2: 0.552859           \n",
      "[300]\tvalid_0's rmse: 0.835512\tvalid_0's l2: 0.69808\tvalid_1's rmse: 0.704785\tvalid_1's l2: 0.496721            \n",
      "  1%|▍                                        | 2/200 [00:05<06:08,  1.86s/trial, best loss: 0.8567838652780191]"
     ]
    },
    {
     "name": "stderr",
     "output_type": "stream",
     "text": [
      "Score - 0.8632775651747466, Std - 0.03960490479068838, Eval Score - 0.8632775651747466\n",
      "Score across folds - [0.8408052213300298, 0.9189442226539033, 0.830083251540307].\n"
     ]
    },
    {
     "name": "stdout",
     "output_type": "stream",
     "text": [
      "\r",
      "  2%|▌                                        | 3/200 [00:05<05:58,  1.82s/trial, best loss: 0.8567838652780191]"
     ]
    },
    {
     "name": "stderr",
     "output_type": "stream",
     "text": [
      "\n",
      "Iteration: 4, Training with params: {'boosting_type': 'gbdt', 'colsample_bytree': 0.6000000000000001, 'learning_rate': 0.1, 'min_child_samples': 60, 'n_estimators': 10000, 'n_jobs': -1, 'num_leaves': 16, 'objective': 'regression', 'subsample': 0.8, 'subsample_freq': 5}\n"
     ]
    },
    {
     "name": "stdout",
     "output_type": "stream",
     "text": [
      "[100]\tvalid_0's rmse: 0.84561\tvalid_0's l2: 0.715055\tvalid_1's rmse: 0.845582\tvalid_1's l2: 0.715008            \n",
      "[200]\tvalid_0's rmse: 0.838239\tvalid_0's l2: 0.702645\tvalid_1's rmse: 0.808691\tvalid_1's l2: 0.653982           \n",
      "[300]\tvalid_0's rmse: 0.836284\tvalid_0's l2: 0.699371\tvalid_1's rmse: 0.783856\tvalid_1's l2: 0.614429           \n",
      "[100]\tvalid_0's rmse: 0.927088\tvalid_0's l2: 0.859492\tvalid_1's rmse: 0.839139\tvalid_1's l2: 0.704154           \n",
      "[200]\tvalid_0's rmse: 0.920092\tvalid_0's l2: 0.846569\tvalid_1's rmse: 0.801097\tvalid_1's l2: 0.641757           \n",
      "[100]\tvalid_0's rmse: 0.853249\tvalid_0's l2: 0.728033\tvalid_1's rmse: 0.844808\tvalid_1's l2: 0.713701           \n",
      "[200]\tvalid_0's rmse: 0.835429\tvalid_0's l2: 0.697941\tvalid_1's rmse: 0.807941\tvalid_1's l2: 0.652769           \n",
      "[300]\tvalid_0's rmse: 0.833017\tvalid_0's l2: 0.693918\tvalid_1's rmse: 0.783175\tvalid_1's l2: 0.613363           \n",
      "[400]\tvalid_0's rmse: 0.832167\tvalid_0's l2: 0.692502\tvalid_1's rmse: 0.762656\tvalid_1's l2: 0.581645           \n",
      "  2%|▌                                        | 3/200 [00:07<05:58,  1.82s/trial, best loss: 0.8567838652780191]"
     ]
    },
    {
     "name": "stderr",
     "output_type": "stream",
     "text": [
      "Score - 0.8617841235964838, Std - 0.040789847320213304, Eval Score - 0.8617841235964838\n",
      "Score across folds - [0.834972728426304, 0.9194230584967512, 0.8309565838663961].\n"
     ]
    },
    {
     "name": "stdout",
     "output_type": "stream",
     "text": [
      "\r",
      "  2%|▊                                        | 4/200 [00:07<05:47,  1.77s/trial, best loss: 0.8567838652780191]"
     ]
    },
    {
     "name": "stderr",
     "output_type": "stream",
     "text": [
      "\n",
      "Iteration: 5, Training with params: {'boosting_type': 'gbdt', 'colsample_bytree': 1.0, 'learning_rate': 0.1, 'min_child_samples': 60, 'n_estimators': 10000, 'n_jobs': -1, 'num_leaves': 16, 'objective': 'regression', 'subsample': 0.6000000000000001, 'subsample_freq': 5}\n"
     ]
    },
    {
     "name": "stdout",
     "output_type": "stream",
     "text": [
      "[100]\tvalid_0's rmse: 0.849159\tvalid_0's l2: 0.721071\tvalid_1's rmse: 0.842591\tvalid_1's l2: 0.709959           \n",
      "[200]\tvalid_0's rmse: 0.840688\tvalid_0's l2: 0.706756\tvalid_1's rmse: 0.805795\tvalid_1's l2: 0.649305           \n",
      "[300]\tvalid_0's rmse: 0.841827\tvalid_0's l2: 0.708672\tvalid_1's rmse: 0.780369\tvalid_1's l2: 0.608975           \n",
      "[100]\tvalid_0's rmse: 0.922852\tvalid_0's l2: 0.851657\tvalid_1's rmse: 0.837519\tvalid_1's l2: 0.701438           \n",
      "[200]\tvalid_0's rmse: 0.928636\tvalid_0's l2: 0.862364\tvalid_1's rmse: 0.800948\tvalid_1's l2: 0.641518           \n",
      "[100]\tvalid_0's rmse: 0.850649\tvalid_0's l2: 0.723604\tvalid_1's rmse: 0.843924\tvalid_1's l2: 0.712208           \n",
      "[200]\tvalid_0's rmse: 0.832391\tvalid_0's l2: 0.692874\tvalid_1's rmse: 0.805615\tvalid_1's l2: 0.649015           \n",
      "[300]\tvalid_0's rmse: 0.834965\tvalid_0's l2: 0.697167\tvalid_1's rmse: 0.780235\tvalid_1's l2: 0.608767           \n",
      "  2%|▊                                        | 4/200 [00:08<05:47,  1.77s/trial, best loss: 0.8567838652780191]"
     ]
    },
    {
     "name": "stderr",
     "output_type": "stream",
     "text": [
      "Score - 0.8637277455952855, Std - 0.04089935530006642, Eval Score - 0.8637277455952855\n",
      "Score across folds - [0.8385507866342856, 0.9214130813858289, 0.8312193687657421].\n"
     ]
    },
    {
     "name": "stdout",
     "output_type": "stream",
     "text": [
      "\r",
      "  2%|█                                        | 5/200 [00:08<05:16,  1.62s/trial, best loss: 0.8567838652780191]"
     ]
    },
    {
     "name": "stderr",
     "output_type": "stream",
     "text": [
      "\n",
      "Iteration: 6, Training with params: {'boosting_type': 'gbdt', 'colsample_bytree': 0.6000000000000001, 'learning_rate': 0.1, 'min_child_samples': 40, 'n_estimators': 10000, 'n_jobs': -1, 'num_leaves': 32, 'objective': 'regression', 'subsample': 0.8, 'subsample_freq': 5}\n"
     ]
    },
    {
     "name": "stdout",
     "output_type": "stream",
     "text": [
      "[100]\tvalid_0's rmse: 0.847901\tvalid_0's l2: 0.718936\tvalid_1's rmse: 0.797579\tvalid_1's l2: 0.636133           \n",
      "[200]\tvalid_0's rmse: 0.851554\tvalid_0's l2: 0.725145\tvalid_1's rmse: 0.74484\tvalid_1's l2: 0.554787            \n",
      "[100]\tvalid_0's rmse: 0.921871\tvalid_0's l2: 0.849846\tvalid_1's rmse: 0.791275\tvalid_1's l2: 0.626117           \n",
      "[200]\tvalid_0's rmse: 0.919295\tvalid_0's l2: 0.845103\tvalid_1's rmse: 0.737389\tvalid_1's l2: 0.543743           \n",
      "[100]\tvalid_0's rmse: 0.840338\tvalid_0's l2: 0.706167\tvalid_1's rmse: 0.800269\tvalid_1's l2: 0.64043            \n",
      "[200]\tvalid_0's rmse: 0.828071\tvalid_0's l2: 0.685701\tvalid_1's rmse: 0.74643\tvalid_1's l2: 0.557158            \n",
      "[300]\tvalid_0's rmse: 0.836152\tvalid_0's l2: 0.69915\tvalid_1's rmse: 0.706204\tvalid_1's l2: 0.498724            \n",
      "  2%|█                                        | 5/200 [00:10<05:16,  1.62s/trial, best loss: 0.8567838652780191]"
     ]
    },
    {
     "name": "stderr",
     "output_type": "stream",
     "text": [
      "Score - 0.8631747482791622, Std - 0.03857104971943213, Eval Score - 0.8631747482791622\n",
      "Score across folds - [0.8450384518779536, 0.9167950555668859, 0.8276907373926473].\n"
     ]
    },
    {
     "name": "stdout",
     "output_type": "stream",
     "text": [
      "\r",
      "  3%|█▏                                       | 6/200 [00:10<05:20,  1.65s/trial, best loss: 0.8567838652780191]"
     ]
    },
    {
     "name": "stderr",
     "output_type": "stream",
     "text": [
      "\n",
      "Iteration: 7, Training with params: {'boosting_type': 'gbdt', 'colsample_bytree': 0.8, 'learning_rate': 0.1, 'min_child_samples': 120, 'n_estimators': 10000, 'n_jobs': -1, 'num_leaves': 32, 'objective': 'regression', 'subsample': 0.8, 'subsample_freq': 5}\n"
     ]
    },
    {
     "name": "stdout",
     "output_type": "stream",
     "text": [
      "[100]\tvalid_0's rmse: 0.840045\tvalid_0's l2: 0.705676\tvalid_1's rmse: 0.807569\tvalid_1's l2: 0.652168           \n",
      "[200]\tvalid_0's rmse: 0.842605\tvalid_0's l2: 0.709983\tvalid_1's rmse: 0.762432\tvalid_1's l2: 0.581303           \n",
      "[100]\tvalid_0's rmse: 0.930802\tvalid_0's l2: 0.866393\tvalid_1's rmse: 0.800011\tvalid_1's l2: 0.640018           \n",
      "[100]\tvalid_0's rmse: 0.83921\tvalid_0's l2: 0.704273\tvalid_1's rmse: 0.805619\tvalid_1's l2: 0.649021            \n",
      "[200]\tvalid_0's rmse: 0.828384\tvalid_0's l2: 0.686221\tvalid_1's rmse: 0.75964\tvalid_1's l2: 0.577053            \n",
      "  3%|█▏                                       | 6/200 [00:11<05:20,  1.65s/trial, best loss: 0.8567838652780191]"
     ]
    },
    {
     "name": "stderr",
     "output_type": "stream",
     "text": [
      "Score - 0.8654024319123991, Std - 0.04542742717076477, Eval Score - 0.8654024319123991\n",
      "Score across folds - [0.8388027077786263, 0.9293463234007098, 0.828058264557861].\n"
     ]
    },
    {
     "name": "stdout",
     "output_type": "stream",
     "text": [
      "\r",
      "  4%|█▍                                       | 7/200 [00:11<05:14,  1.63s/trial, best loss: 0.8567838652780191]"
     ]
    },
    {
     "name": "stderr",
     "output_type": "stream",
     "text": [
      "\n",
      "Iteration: 8, Training with params: {'boosting_type': 'gbdt', 'colsample_bytree': 0.6000000000000001, 'learning_rate': 0.1, 'min_child_samples': 100, 'n_estimators': 10000, 'n_jobs': -1, 'num_leaves': 32, 'objective': 'regression', 'subsample': 0.6000000000000001, 'subsample_freq': 5}\n"
     ]
    },
    {
     "name": "stdout",
     "output_type": "stream",
     "text": [
      "[100]\tvalid_0's rmse: 0.848088\tvalid_0's l2: 0.719254\tvalid_1's rmse: 0.812522\tvalid_1's l2: 0.660191           \n",
      "[200]\tvalid_0's rmse: 0.845033\tvalid_0's l2: 0.714081\tvalid_1's rmse: 0.769032\tvalid_1's l2: 0.59141            \n",
      "[100]\tvalid_0's rmse: 0.919915\tvalid_0's l2: 0.846244\tvalid_1's rmse: 0.805513\tvalid_1's l2: 0.64885            \n",
      "[200]\tvalid_0's rmse: 0.917144\tvalid_0's l2: 0.841153\tvalid_1's rmse: 0.762726\tvalid_1's l2: 0.58175            \n",
      "[100]\tvalid_0's rmse: 0.840976\tvalid_0's l2: 0.70724\tvalid_1's rmse: 0.812525\tvalid_1's l2: 0.660197            \n",
      "[200]\tvalid_0's rmse: 0.826459\tvalid_0's l2: 0.683035\tvalid_1's rmse: 0.767585\tvalid_1's l2: 0.589187           \n",
      "[300]\tvalid_0's rmse: 0.827486\tvalid_0's l2: 0.684733\tvalid_1's rmse: 0.734518\tvalid_1's l2: 0.539517           \n",
      "  4%|█▍                                       | 7/200 [00:13<05:14,  1.63s/trial, best loss: 0.8567838652780191]"
     ]
    },
    {
     "name": "stderr",
     "output_type": "stream",
     "text": [
      "Score - 0.8606566762215085, Std - 0.03742781322656382, Eval Score - 0.8606566762215085\n",
      "Score across folds - [0.8439679497855629, 0.9125024947236835, 0.825499584155279].\n"
     ]
    },
    {
     "name": "stdout",
     "output_type": "stream",
     "text": [
      "\r",
      "  4%|█▋                                       | 8/200 [00:13<05:24,  1.69s/trial, best loss: 0.8567838652780191]"
     ]
    },
    {
     "name": "stderr",
     "output_type": "stream",
     "text": [
      "\n",
      "Iteration: 9, Training with params: {'boosting_type': 'gbdt', 'colsample_bytree': 0.6000000000000001, 'learning_rate': 0.1, 'min_child_samples': 100, 'n_estimators': 10000, 'n_jobs': -1, 'num_leaves': 32, 'objective': 'regression', 'subsample': 0.8, 'subsample_freq': 5}\n"
     ]
    },
    {
     "name": "stdout",
     "output_type": "stream",
     "text": [
      "[100]\tvalid_0's rmse: 0.840351\tvalid_0's l2: 0.70619\tvalid_1's rmse: 0.807807\tvalid_1's l2: 0.652552            \n",
      "[200]\tvalid_0's rmse: 0.84113\tvalid_0's l2: 0.707499\tvalid_1's rmse: 0.762106\tvalid_1's l2: 0.580805            \n",
      "[100]\tvalid_0's rmse: 0.922267\tvalid_0's l2: 0.850576\tvalid_1's rmse: 0.801419\tvalid_1's l2: 0.642272           \n",
      "[200]\tvalid_0's rmse: 0.920202\tvalid_0's l2: 0.846772\tvalid_1's rmse: 0.755187\tvalid_1's l2: 0.570307           \n",
      "[100]\tvalid_0's rmse: 0.837256\tvalid_0's l2: 0.700998\tvalid_1's rmse: 0.807348\tvalid_1's l2: 0.651811           \n",
      "[200]\tvalid_0's rmse: 0.825415\tvalid_0's l2: 0.681309\tvalid_1's rmse: 0.760768\tvalid_1's l2: 0.578768           \n",
      "[300]\tvalid_0's rmse: 0.82935\tvalid_0's l2: 0.687821\tvalid_1's rmse: 0.726888\tvalid_1's l2: 0.528367            \n",
      "  4%|█▋                                       | 8/200 [00:15<05:24,  1.69s/trial, best loss: 0.8567838652780191]"
     ]
    },
    {
     "name": "stderr",
     "output_type": "stream",
     "text": [
      "Score - 0.8601311746758133, Std - 0.0412837839964266, Eval Score - 0.8601311746758133\n",
      "Score across folds - [0.8386018935976611, 0.9178946851352275, 0.8238969452945516].\n"
     ]
    },
    {
     "name": "stdout",
     "output_type": "stream",
     "text": [
      "\r",
      "  4%|█▊                                       | 9/200 [00:15<05:33,  1.75s/trial, best loss: 0.8567838652780191]"
     ]
    },
    {
     "name": "stderr",
     "output_type": "stream",
     "text": [
      "\n",
      "Iteration: 10, Training with params: {'boosting_type': 'gbdt', 'colsample_bytree': 0.4, 'learning_rate': 0.1, 'min_child_samples': 200, 'n_estimators': 10000, 'n_jobs': -1, 'num_leaves': 48, 'objective': 'regression', 'subsample': 0.4, 'subsample_freq': 5}\n"
     ]
    },
    {
     "name": "stdout",
     "output_type": "stream",
     "text": [
      "[100]\tvalid_0's rmse: 0.863117\tvalid_0's l2: 0.744971\tvalid_1's rmse: 0.868932\tvalid_1's l2: 0.755042           \n",
      "[200]\tvalid_0's rmse: 0.847748\tvalid_0's l2: 0.718677\tvalid_1's rmse: 0.838992\tvalid_1's l2: 0.703908           \n",
      "[100]\tvalid_0's rmse: 0.937216\tvalid_0's l2: 0.878374\tvalid_1's rmse: 0.864613\tvalid_1's l2: 0.747556           \n",
      "[200]\tvalid_0's rmse: 0.924239\tvalid_0's l2: 0.854217\tvalid_1's rmse: 0.834108\tvalid_1's l2: 0.695736           \n",
      "[300]\tvalid_0's rmse: 0.919143\tvalid_0's l2: 0.844823\tvalid_1's rmse: 0.81365\tvalid_1's l2: 0.662027            \n",
      "[100]\tvalid_0's rmse: 0.859698\tvalid_0's l2: 0.73908\tvalid_1's rmse: 0.868205\tvalid_1's l2: 0.753781            \n",
      "[200]\tvalid_0's rmse: 0.846837\tvalid_0's l2: 0.717133\tvalid_1's rmse: 0.839319\tvalid_1's l2: 0.704457           \n",
      "[300]\tvalid_0's rmse: 0.844858\tvalid_0's l2: 0.713785\tvalid_1's rmse: 0.819055\tvalid_1's l2: 0.670851           \n",
      "  4%|█▊                                       | 9/200 [00:17<05:33,  1.75s/trial, best loss: 0.8567838652780191]"
     ]
    },
    {
     "name": "stderr",
     "output_type": "stream",
     "text": [
      "Score - 0.8688702318851953, Std - 0.03449803004913285, Eval Score - 0.8688702318851953\n",
      "Score across folds - [0.8477374017563166, 0.9175184501365148, 0.8413548437627544].\n"
     ]
    },
    {
     "name": "stdout",
     "output_type": "stream",
     "text": [
      "\r",
      "  5%|██                                      | 10/200 [00:17<05:40,  1.79s/trial, best loss: 0.8567838652780191]"
     ]
    },
    {
     "name": "stderr",
     "output_type": "stream",
     "text": [
      "\n",
      "Iteration: 11, Training with params: {'boosting_type': 'gbdt', 'colsample_bytree': 0.8, 'learning_rate': 0.1, 'min_child_samples': 80, 'n_estimators': 10000, 'n_jobs': -1, 'num_leaves': 32, 'objective': 'regression', 'subsample': 1.0, 'subsample_freq': 5}\n"
     ]
    },
    {
     "name": "stdout",
     "output_type": "stream",
     "text": [
      "[100]\tvalid_0's rmse: 0.842314\tvalid_0's l2: 0.709493\tvalid_1's rmse: 0.800625\tvalid_1's l2: 0.641              \n",
      "[200]\tvalid_0's rmse: 0.84302\tvalid_0's l2: 0.710683\tvalid_1's rmse: 0.751861\tvalid_1's l2: 0.565295            \n",
      "[100]\tvalid_0's rmse: 0.918872\tvalid_0's l2: 0.844325\tvalid_1's rmse: 0.794428\tvalid_1's l2: 0.631116           \n",
      "[200]\tvalid_0's rmse: 0.918435\tvalid_0's l2: 0.843522\tvalid_1's rmse: 0.746098\tvalid_1's l2: 0.556662           \n",
      "[100]\tvalid_0's rmse: 0.835617\tvalid_0's l2: 0.698255\tvalid_1's rmse: 0.799326\tvalid_1's l2: 0.638923           \n",
      "[200]\tvalid_0's rmse: 0.825488\tvalid_0's l2: 0.681431\tvalid_1's rmse: 0.750792\tvalid_1's l2: 0.563688           \n",
      "  5%|██                                      | 10/200 [00:18<05:40,  1.79s/trial, best loss: 0.8567838652780191]"
     ]
    },
    {
     "name": "stderr",
     "output_type": "stream",
     "text": [
      "Score - 0.8610629220423514, Std - 0.03942008229911186, Eval Score - 0.8610629220423514\n",
      "Score across folds - [0.8417562883319302, 0.9160081228700999, 0.8254243549250238].\n"
     ]
    },
    {
     "name": "stdout",
     "output_type": "stream",
     "text": [
      "\r",
      "  6%|██▏                                     | 11/200 [00:18<05:21,  1.70s/trial, best loss: 0.8567838652780191]"
     ]
    },
    {
     "name": "stderr",
     "output_type": "stream",
     "text": [
      "\n",
      "Iteration: 12, Training with params: {'boosting_type': 'gbdt', 'colsample_bytree': 0.8, 'learning_rate': 0.1, 'min_child_samples': 100, 'n_estimators': 10000, 'n_jobs': -1, 'num_leaves': 32, 'objective': 'regression', 'subsample': 0.4, 'subsample_freq': 5}\n"
     ]
    },
    {
     "name": "stdout",
     "output_type": "stream",
     "text": [
      "[100]\tvalid_0's rmse: 0.850813\tvalid_0's l2: 0.723882\tvalid_1's rmse: 0.820536\tvalid_1's l2: 0.67328            \n",
      "[200]\tvalid_0's rmse: 0.854708\tvalid_0's l2: 0.730526\tvalid_1's rmse: 0.779417\tvalid_1's l2: 0.60749            \n",
      "[100]\tvalid_0's rmse: 0.938479\tvalid_0's l2: 0.880743\tvalid_1's rmse: 0.812673\tvalid_1's l2: 0.660438           \n",
      "[200]\tvalid_0's rmse: 0.930983\tvalid_0's l2: 0.866729\tvalid_1's rmse: 0.772303\tvalid_1's l2: 0.596452           \n",
      "[100]\tvalid_0's rmse: 0.844278\tvalid_0's l2: 0.712805\tvalid_1's rmse: 0.819584\tvalid_1's l2: 0.671718           \n",
      "[200]\tvalid_0's rmse: 0.83781\tvalid_0's l2: 0.701926\tvalid_1's rmse: 0.777576\tvalid_1's l2: 0.604624            \n",
      "  6%|██▏                                     | 11/200 [00:20<05:21,  1.70s/trial, best loss: 0.8567838652780191]"
     ]
    },
    {
     "name": "stderr",
     "output_type": "stream",
     "text": [
      "Score - 0.8695592621027654, Std - 0.03944941487131383, Eval Score - 0.8695592621027654\n",
      "Score across folds - [0.8459032520160096, 0.925144316756635, 0.8376302175356515].\n"
     ]
    },
    {
     "name": "stdout",
     "output_type": "stream",
     "text": [
      "\r",
      "  6%|██▍                                     | 12/200 [00:20<05:23,  1.72s/trial, best loss: 0.8567838652780191]"
     ]
    },
    {
     "name": "stderr",
     "output_type": "stream",
     "text": [
      "\n",
      "Iteration: 13, Training with params: {'boosting_type': 'gbdt', 'colsample_bytree': 0.6000000000000001, 'learning_rate': 0.1, 'min_child_samples': 0, 'n_estimators': 10000, 'n_jobs': -1, 'num_leaves': 32, 'objective': 'regression', 'subsample': 1.0, 'subsample_freq': 5}\n"
     ]
    },
    {
     "name": "stdout",
     "output_type": "stream",
     "text": [
      "[100]\tvalid_0's rmse: 0.848888\tvalid_0's l2: 0.72061\tvalid_1's rmse: 0.789883\tvalid_1's l2: 0.623915            \n",
      "[100]\tvalid_0's rmse: 0.923988\tvalid_0's l2: 0.853754\tvalid_1's rmse: 0.78504\tvalid_1's l2: 0.616288            \n",
      "[100]\tvalid_0's rmse: 0.847918\tvalid_0's l2: 0.718965\tvalid_1's rmse: 0.789941\tvalid_1's l2: 0.624008           \n",
      "[200]\tvalid_0's rmse: 0.846169\tvalid_0's l2: 0.716001\tvalid_1's rmse: 0.726507\tvalid_1's l2: 0.527812           \n",
      "  6%|██▍                                     | 12/200 [00:21<05:23,  1.72s/trial, best loss: 0.8567838652780191]"
     ]
    },
    {
     "name": "stderr",
     "output_type": "stream",
     "text": [
      "Score - 0.8716880109069556, Std - 0.03558927172595614, Eval Score - 0.8716880109069556\n",
      "Score across folds - [0.8487134281190603, 0.9219570093580651, 0.8443935952437414].\n"
     ]
    },
    {
     "name": "stdout",
     "output_type": "stream",
     "text": [
      "\r",
      "  6%|██▌                                     | 13/200 [00:21<04:51,  1.56s/trial, best loss: 0.8567838652780191]"
     ]
    },
    {
     "name": "stderr",
     "output_type": "stream",
     "text": [
      "\n",
      "Iteration: 14, Training with params: {'boosting_type': 'gbdt', 'colsample_bytree': 0.6000000000000001, 'learning_rate': 0.1, 'min_child_samples': 140, 'n_estimators': 10000, 'n_jobs': -1, 'num_leaves': 32, 'objective': 'regression', 'subsample': 0.4, 'subsample_freq': 5}\n"
     ]
    },
    {
     "name": "stdout",
     "output_type": "stream",
     "text": [
      "[100]\tvalid_0's rmse: 0.84667\tvalid_0's l2: 0.71685\tvalid_1's rmse: 0.835444\tvalid_1's l2: 0.697966             \n",
      "[200]\tvalid_0's rmse: 0.847083\tvalid_0's l2: 0.717549\tvalid_1's rmse: 0.798607\tvalid_1's l2: 0.637774           \n",
      "[100]\tvalid_0's rmse: 0.934606\tvalid_0's l2: 0.873488\tvalid_1's rmse: 0.829559\tvalid_1's l2: 0.688168           \n",
      "[200]\tvalid_0's rmse: 0.92152\tvalid_0's l2: 0.849199\tvalid_1's rmse: 0.792891\tvalid_1's l2: 0.628677            \n",
      "[300]\tvalid_0's rmse: 0.931714\tvalid_0's l2: 0.868091\tvalid_1's rmse: 0.765452\tvalid_1's l2: 0.585917           \n",
      "[100]\tvalid_0's rmse: 0.851686\tvalid_0's l2: 0.725369\tvalid_1's rmse: 0.835357\tvalid_1's l2: 0.697821           \n",
      "[200]\tvalid_0's rmse: 0.841747\tvalid_0's l2: 0.708538\tvalid_1's rmse: 0.798092\tvalid_1's l2: 0.636951           \n",
      "[300]\tvalid_0's rmse: 0.841799\tvalid_0's l2: 0.708626\tvalid_1's rmse: 0.771423\tvalid_1's l2: 0.595094           \n",
      "  6%|██▌                                     | 13/200 [00:24<04:51,  1.56s/trial, best loss: 0.8567838652780191]"
     ]
    },
    {
     "name": "stderr",
     "output_type": "stream",
     "text": [
      "Score - 0.8662201845987517, Std - 0.03805240060846279, Eval Score - 0.8662201845987517\n",
      "Score across folds - [0.8380330659483319, 0.9200137759735807, 0.8406137118743428].\n"
     ]
    },
    {
     "name": "stdout",
     "output_type": "stream",
     "text": [
      "\r",
      "  7%|██▊                                     | 14/200 [00:24<05:51,  1.89s/trial, best loss: 0.8567838652780191]"
     ]
    },
    {
     "name": "stderr",
     "output_type": "stream",
     "text": [
      "\n",
      "Iteration: 15, Training with params: {'boosting_type': 'gbdt', 'colsample_bytree': 0.6000000000000001, 'learning_rate': 0.1, 'min_child_samples': 180, 'n_estimators': 10000, 'n_jobs': -1, 'num_leaves': 32, 'objective': 'regression', 'subsample': 0.8, 'subsample_freq': 5}\n"
     ]
    },
    {
     "name": "stdout",
     "output_type": "stream",
     "text": [
      "[100]\tvalid_0's rmse: 0.843099\tvalid_0's l2: 0.710816\tvalid_1's rmse: 0.818588\tvalid_1's l2: 0.670087           \n",
      "[200]\tvalid_0's rmse: 0.842583\tvalid_0's l2: 0.709947\tvalid_1's rmse: 0.777855\tvalid_1's l2: 0.605058           \n",
      "[100]\tvalid_0's rmse: 0.917427\tvalid_0's l2: 0.841672\tvalid_1's rmse: 0.811834\tvalid_1's l2: 0.659074           \n",
      "[200]\tvalid_0's rmse: 0.91583\tvalid_0's l2: 0.838744\tvalid_1's rmse: 0.769854\tvalid_1's l2: 0.592675            \n",
      "[100]\tvalid_0's rmse: 0.838742\tvalid_0's l2: 0.703488\tvalid_1's rmse: 0.816504\tvalid_1's l2: 0.666679           \n",
      "[200]\tvalid_0's rmse: 0.824731\tvalid_0's l2: 0.680182\tvalid_1's rmse: 0.775779\tvalid_1's l2: 0.601833           \n",
      "[300]\tvalid_0's rmse: 0.828056\tvalid_0's l2: 0.685677\tvalid_1's rmse: 0.746392\tvalid_1's l2: 0.557101           \n",
      "  7%|██▊                                     | 14/200 [00:26<05:51,  1.89s/trial, best loss: 0.8567838652780191]"
     ]
    },
    {
     "name": "stderr",
     "output_type": "stream",
     "text": [
      "Score - 0.8593094898445659, Std - 0.03860838935857197, Eval Score - 0.8593094898445659\n",
      "Score across folds - [0.8400725733885412, 0.9131813928790855, 0.824674503266071].\n"
     ]
    },
    {
     "name": "stdout",
     "output_type": "stream",
     "text": [
      "\r",
      "  8%|███                                     | 15/200 [00:26<06:03,  1.96s/trial, best loss: 0.8567838652780191]"
     ]
    },
    {
     "name": "stderr",
     "output_type": "stream",
     "text": [
      "\n",
      "Iteration: 16, Training with params: {'boosting_type': 'gbdt', 'colsample_bytree': 0.6000000000000001, 'learning_rate': 0.1, 'min_child_samples': 40, 'n_estimators': 10000, 'n_jobs': -1, 'num_leaves': 16, 'objective': 'regression', 'subsample': 0.8, 'subsample_freq': 5}\n"
     ]
    },
    {
     "name": "stdout",
     "output_type": "stream",
     "text": [
      "[100]\tvalid_0's rmse: 0.847931\tvalid_0's l2: 0.718988\tvalid_1's rmse: 0.844122\tvalid_1's l2: 0.712543           \n",
      "[200]\tvalid_0's rmse: 0.844519\tvalid_0's l2: 0.713212\tvalid_1's rmse: 0.806027\tvalid_1's l2: 0.64968            \n",
      "[100]\tvalid_0's rmse: 0.927437\tvalid_0's l2: 0.860139\tvalid_1's rmse: 0.839009\tvalid_1's l2: 0.703937           \n",
      "[200]\tvalid_0's rmse: 0.922165\tvalid_0's l2: 0.850389\tvalid_1's rmse: 0.799262\tvalid_1's l2: 0.63882            \n",
      "[300]\tvalid_0's rmse: 0.922638\tvalid_0's l2: 0.851261\tvalid_1's rmse: 0.773061\tvalid_1's l2: 0.597623           \n",
      "[100]\tvalid_0's rmse: 0.852644\tvalid_0's l2: 0.727001\tvalid_1's rmse: 0.845275\tvalid_1's l2: 0.71449            \n",
      "[200]\tvalid_0's rmse: 0.836912\tvalid_0's l2: 0.700422\tvalid_1's rmse: 0.805556\tvalid_1's l2: 0.648921           \n",
      "[300]\tvalid_0's rmse: 0.837312\tvalid_0's l2: 0.701092\tvalid_1's rmse: 0.779384\tvalid_1's l2: 0.60744            \n",
      "  8%|███                                     | 15/200 [00:28<06:03,  1.96s/trial, best loss: 0.8567838652780191]"
     ]
    },
    {
     "name": "stderr",
     "output_type": "stream",
     "text": [
      "Score - 0.8654733635301423, Std - 0.039143049784712745, Eval Score - 0.8654733635301423\n",
      "Score across folds - [0.8407978162733225, 0.9207250689914092, 0.8348972053256953].\n"
     ]
    },
    {
     "name": "stdout",
     "output_type": "stream",
     "text": [
      "\r",
      "  8%|███▏                                    | 16/200 [00:28<05:34,  1.82s/trial, best loss: 0.8567838652780191]"
     ]
    },
    {
     "name": "stderr",
     "output_type": "stream",
     "text": [
      "\n",
      "Iteration: 17, Training with params: {'boosting_type': 'gbdt', 'colsample_bytree': 1.0, 'learning_rate': 0.1, 'min_child_samples': 200, 'n_estimators': 10000, 'n_jobs': -1, 'num_leaves': 32, 'objective': 'regression', 'subsample': 0.6000000000000001, 'subsample_freq': 5}\n"
     ]
    },
    {
     "name": "stdout",
     "output_type": "stream",
     "text": [
      "[100]\tvalid_0's rmse: 0.849236\tvalid_0's l2: 0.721203\tvalid_1's rmse: 0.826654\tvalid_1's l2: 0.683358           \n",
      "[200]\tvalid_0's rmse: 0.847716\tvalid_0's l2: 0.718622\tvalid_1's rmse: 0.786823\tvalid_1's l2: 0.61909            \n",
      "[100]\tvalid_0's rmse: 0.931615\tvalid_0's l2: 0.867907\tvalid_1's rmse: 0.820393\tvalid_1's l2: 0.673045           \n",
      "[200]\tvalid_0's rmse: 0.934711\tvalid_0's l2: 0.873684\tvalid_1's rmse: 0.779541\tvalid_1's l2: 0.607684           \n",
      "[100]\tvalid_0's rmse: 0.851326\tvalid_0's l2: 0.724755\tvalid_1's rmse: 0.826308\tvalid_1's l2: 0.682786           \n",
      "[200]\tvalid_0's rmse: 0.840419\tvalid_0's l2: 0.706305\tvalid_1's rmse: 0.785948\tvalid_1's l2: 0.617714           \n",
      "[300]\tvalid_0's rmse: 0.840193\tvalid_0's l2: 0.705925\tvalid_1's rmse: 0.756279\tvalid_1's l2: 0.571958           \n",
      "  8%|███▏                                    | 16/200 [00:30<05:34,  1.82s/trial, best loss: 0.8567838652780191]"
     ]
    },
    {
     "name": "stderr",
     "output_type": "stream",
     "text": [
      "Score - 0.8704488143496545, Std - 0.04135056575680265, Eval Score - 0.8704488143496545\n",
      "Score across folds - [0.8438558835100386, 0.928849780150589, 0.838640779388336].\n"
     ]
    },
    {
     "name": "stdout",
     "output_type": "stream",
     "text": [
      "\r",
      "  8%|███▍                                    | 17/200 [00:30<05:44,  1.88s/trial, best loss: 0.8567838652780191]"
     ]
    },
    {
     "name": "stderr",
     "output_type": "stream",
     "text": [
      "\n",
      "Iteration: 18, Training with params: {'boosting_type': 'gbdt', 'colsample_bytree': 0.6000000000000001, 'learning_rate': 0.1, 'min_child_samples': 200, 'n_estimators': 10000, 'n_jobs': -1, 'num_leaves': 32, 'objective': 'regression', 'subsample': 0.8, 'subsample_freq': 5}\n"
     ]
    },
    {
     "name": "stdout",
     "output_type": "stream",
     "text": [
      "[100]\tvalid_0's rmse: 0.841935\tvalid_0's l2: 0.708855\tvalid_1's rmse: 0.82232\tvalid_1's l2: 0.676211            \n",
      "[200]\tvalid_0's rmse: 0.842563\tvalid_0's l2: 0.709912\tvalid_1's rmse: 0.781124\tvalid_1's l2: 0.610155           \n",
      "[100]\tvalid_0's rmse: 0.921186\tvalid_0's l2: 0.848584\tvalid_1's rmse: 0.816437\tvalid_1's l2: 0.66657            \n",
      "[200]\tvalid_0's rmse: 0.918344\tvalid_0's l2: 0.843356\tvalid_1's rmse: 0.774475\tvalid_1's l2: 0.599811           \n",
      "[100]\tvalid_0's rmse: 0.84125\tvalid_0's l2: 0.707702\tvalid_1's rmse: 0.820491\tvalid_1's l2: 0.673205            \n",
      "[200]\tvalid_0's rmse: 0.831529\tvalid_0's l2: 0.69144\tvalid_1's rmse: 0.779827\tvalid_1's l2: 0.60813             \n",
      "[300]\tvalid_0's rmse: 0.831509\tvalid_0's l2: 0.691407\tvalid_1's rmse: 0.750785\tvalid_1's l2: 0.563678           \n",
      "  8%|███▍                                    | 17/200 [00:32<05:44,  1.88s/trial, best loss: 0.8567838652780191]"
     ]
    },
    {
     "name": "stderr",
     "output_type": "stream",
     "text": [
      "Score - 0.8620129759231222, Std - 0.03926064048301367, Eval Score - 0.8620129759231222\n",
      "Score across folds - [0.8381128826783754, 0.9173644740635496, 0.8305615710274419].\n"
     ]
    },
    {
     "name": "stdout",
     "output_type": "stream",
     "text": [
      "\r",
      "  9%|███▌                                    | 18/200 [00:32<06:08,  2.02s/trial, best loss: 0.8567838652780191]"
     ]
    },
    {
     "name": "stderr",
     "output_type": "stream",
     "text": [
      "\n",
      "Iteration: 19, Training with params: {'boosting_type': 'gbdt', 'colsample_bytree': 0.6000000000000001, 'learning_rate': 0.1, 'min_child_samples': 140, 'n_estimators': 10000, 'n_jobs': -1, 'num_leaves': 16, 'objective': 'regression', 'subsample': 0.8, 'subsample_freq': 5}\n"
     ]
    },
    {
     "name": "stdout",
     "output_type": "stream",
     "text": [
      "[100]\tvalid_0's rmse: 0.849969\tvalid_0's l2: 0.722448\tvalid_1's rmse: 0.85023\tvalid_1's l2: 0.722892            \n",
      "[200]\tvalid_0's rmse: 0.844071\tvalid_0's l2: 0.712456\tvalid_1's rmse: 0.817539\tvalid_1's l2: 0.66837            \n",
      "[300]\tvalid_0's rmse: 0.842812\tvalid_0's l2: 0.710332\tvalid_1's rmse: 0.796275\tvalid_1's l2: 0.634053           \n",
      "[100]\tvalid_0's rmse: 0.926431\tvalid_0's l2: 0.858275\tvalid_1's rmse: 0.842887\tvalid_1's l2: 0.710458           \n",
      "[200]\tvalid_0's rmse: 0.923658\tvalid_0's l2: 0.853144\tvalid_1's rmse: 0.809961\tvalid_1's l2: 0.656037           \n",
      "[100]\tvalid_0's rmse: 0.853301\tvalid_0's l2: 0.728122\tvalid_1's rmse: 0.848225\tvalid_1's l2: 0.719486           \n",
      "[200]\tvalid_0's rmse: 0.836326\tvalid_0's l2: 0.69944\tvalid_1's rmse: 0.816213\tvalid_1's l2: 0.666203            \n",
      "[300]\tvalid_0's rmse: 0.830534\tvalid_0's l2: 0.689786\tvalid_1's rmse: 0.795627\tvalid_1's l2: 0.633023           \n",
      "[400]\tvalid_0's rmse: 0.83028\tvalid_0's l2: 0.689364\tvalid_1's rmse: 0.777977\tvalid_1's l2: 0.605249            \n",
      "  9%|███▌                                    | 18/200 [00:34<06:08,  2.02s/trial, best loss: 0.8567838652780191]"
     ]
    },
    {
     "name": "stderr",
     "output_type": "stream",
     "text": [
      "Score - 0.864316025670027, Std - 0.0411760189036988, Eval Score - 0.864316025670027\n",
      "Score across folds - [0.8413393797162225, 0.922142800333102, 0.8294658969607561].\n"
     ]
    },
    {
     "name": "stdout",
     "output_type": "stream",
     "text": [
      "\r",
      " 10%|███▊                                    | 19/200 [00:34<05:57,  1.98s/trial, best loss: 0.8567838652780191]"
     ]
    },
    {
     "name": "stderr",
     "output_type": "stream",
     "text": [
      "\n",
      "Iteration: 20, Training with params: {'boosting_type': 'gbdt', 'colsample_bytree': 1.0, 'learning_rate': 0.1, 'min_child_samples': 120, 'n_estimators': 10000, 'n_jobs': -1, 'num_leaves': 48, 'objective': 'regression', 'subsample': 0.6000000000000001, 'subsample_freq': 5}\n"
     ]
    },
    {
     "name": "stdout",
     "output_type": "stream",
     "text": [
      "[100]\tvalid_0's rmse: 0.846054\tvalid_0's l2: 0.715807\tvalid_1's rmse: 0.786827\tvalid_1's l2: 0.619097           \n",
      "[200]\tvalid_0's rmse: 0.854822\tvalid_0's l2: 0.730721\tvalid_1's rmse: 0.732143\tvalid_1's l2: 0.536033           \n",
      "[100]\tvalid_0's rmse: 0.930226\tvalid_0's l2: 0.865321\tvalid_1's rmse: 0.783538\tvalid_1's l2: 0.613931           \n",
      "[200]\tvalid_0's rmse: 0.930014\tvalid_0's l2: 0.864927\tvalid_1's rmse: 0.725917\tvalid_1's l2: 0.526956           \n",
      "[100]\tvalid_0's rmse: 0.837649\tvalid_0's l2: 0.701656\tvalid_1's rmse: 0.790862\tvalid_1's l2: 0.625462           \n",
      "[200]\tvalid_0's rmse: 0.833249\tvalid_0's l2: 0.694304\tvalid_1's rmse: 0.733222\tvalid_1's l2: 0.537615           \n",
      " 10%|███▊                                    | 19/200 [00:36<05:57,  1.98s/trial, best loss: 0.8567838652780191]"
     ]
    },
    {
     "name": "stderr",
     "output_type": "stream",
     "text": [
      "Score - 0.8657829949089506, Std - 0.03988206087483486, Eval Score - 0.8657829949089506\n",
      "Score across folds - [0.843196945383121, 0.9218339345534663, 0.8323181047902646].\n"
     ]
    },
    {
     "name": "stdout",
     "output_type": "stream",
     "text": [
      "\r",
      " 10%|████                                    | 20/200 [00:36<06:08,  2.05s/trial, best loss: 0.8567838652780191]"
     ]
    },
    {
     "name": "stderr",
     "output_type": "stream",
     "text": [
      "\n",
      "Iteration: 21, Training with params: {'boosting_type': 'gbdt', 'colsample_bytree': 0.4, 'learning_rate': 0.1, 'min_child_samples': 160, 'n_estimators': 10000, 'n_jobs': -1, 'num_leaves': 48, 'objective': 'regression', 'subsample': 1.0, 'subsample_freq': 5}\n"
     ]
    },
    {
     "name": "stdout",
     "output_type": "stream",
     "text": [
      "[100]\tvalid_0's rmse: 0.842323\tvalid_0's l2: 0.709508\tvalid_1's rmse: 0.811013\tvalid_1's l2: 0.657741           \n",
      "[200]\tvalid_0's rmse: 0.840467\tvalid_0's l2: 0.706385\tvalid_1's rmse: 0.764861\tvalid_1's l2: 0.585012           \n",
      "[100]\tvalid_0's rmse: 0.914559\tvalid_0's l2: 0.836419\tvalid_1's rmse: 0.80637\tvalid_1's l2: 0.650233            \n",
      "[200]\tvalid_0's rmse: 0.910893\tvalid_0's l2: 0.829726\tvalid_1's rmse: 0.759936\tvalid_1's l2: 0.577503           \n",
      "[100]\tvalid_0's rmse: 0.834514\tvalid_0's l2: 0.696414\tvalid_1's rmse: 0.808732\tvalid_1's l2: 0.654047           \n",
      "[200]\tvalid_0's rmse: 0.824088\tvalid_0's l2: 0.679122\tvalid_1's rmse: 0.764016\tvalid_1's l2: 0.58372            \n",
      "[300]\tvalid_0's rmse: 0.822125\tvalid_0's l2: 0.675889\tvalid_1's rmse: 0.733359\tvalid_1's l2: 0.537816           \n",
      "[400]\tvalid_0's rmse: 0.822577\tvalid_0's l2: 0.676633\tvalid_1's rmse: 0.708006\tvalid_1's l2: 0.501272           \n",
      " 10%|████                                    | 20/200 [00:38<06:08,  2.05s/trial, best loss: 0.8567838652780191]"
     ]
    },
    {
     "name": "stderr",
     "output_type": "stream",
     "text": [
      "Score - 0.8566557748922121, Std - 0.03788678722769249, Eval Score - 0.8566557748922121\n",
      "Score across folds - [0.8391958038785456, 0.90925459932608, 0.8215169214720107].\n"
     ]
    },
    {
     "name": "stdout",
     "output_type": "stream",
     "text": [
      "\r",
      " 10%|████▏                                   | 21/200 [00:39<06:26,  2.16s/trial, best loss: 0.8566557748922121]"
     ]
    },
    {
     "name": "stderr",
     "output_type": "stream",
     "text": [
      "\n",
      "Iteration: 22, Training with params: {'boosting_type': 'gbdt', 'colsample_bytree': 0.4, 'learning_rate': 0.1, 'min_child_samples': 160, 'n_estimators': 10000, 'n_jobs': -1, 'num_leaves': 48, 'objective': 'regression', 'subsample': 1.0, 'subsample_freq': 5}\n"
     ]
    },
    {
     "name": "stdout",
     "output_type": "stream",
     "text": [
      "[100]\tvalid_0's rmse: 0.842323\tvalid_0's l2: 0.709508\tvalid_1's rmse: 0.811013\tvalid_1's l2: 0.657741           \n",
      "[200]\tvalid_0's rmse: 0.840467\tvalid_0's l2: 0.706385\tvalid_1's rmse: 0.764861\tvalid_1's l2: 0.585012           \n",
      "[100]\tvalid_0's rmse: 0.914559\tvalid_0's l2: 0.836419\tvalid_1's rmse: 0.80637\tvalid_1's l2: 0.650233            \n",
      "[200]\tvalid_0's rmse: 0.910893\tvalid_0's l2: 0.829726\tvalid_1's rmse: 0.759936\tvalid_1's l2: 0.577503           \n",
      "[100]\tvalid_0's rmse: 0.834514\tvalid_0's l2: 0.696414\tvalid_1's rmse: 0.808732\tvalid_1's l2: 0.654047           \n",
      "[200]\tvalid_0's rmse: 0.824088\tvalid_0's l2: 0.679122\tvalid_1's rmse: 0.764016\tvalid_1's l2: 0.58372            \n",
      "[300]\tvalid_0's rmse: 0.822125\tvalid_0's l2: 0.675889\tvalid_1's rmse: 0.733359\tvalid_1's l2: 0.537816           \n",
      "[400]\tvalid_0's rmse: 0.822577\tvalid_0's l2: 0.676633\tvalid_1's rmse: 0.708006\tvalid_1's l2: 0.501272           \n",
      " 10%|████▏                                   | 21/200 [00:41<06:26,  2.16s/trial, best loss: 0.8566557748922121]"
     ]
    },
    {
     "name": "stderr",
     "output_type": "stream",
     "text": [
      "Score - 0.8566557748922121, Std - 0.03788678722769249, Eval Score - 0.8566557748922121\n",
      "Score across folds - [0.8391958038785456, 0.90925459932608, 0.8215169214720107].\n"
     ]
    },
    {
     "name": "stdout",
     "output_type": "stream",
     "text": [
      "\r",
      " 11%|████▍                                   | 22/200 [00:41<06:40,  2.25s/trial, best loss: 0.8566557748922121]"
     ]
    },
    {
     "name": "stderr",
     "output_type": "stream",
     "text": [
      "\n",
      "Iteration: 23, Training with params: {'boosting_type': 'gbdt', 'colsample_bytree': 0.4, 'learning_rate': 0.1, 'min_child_samples': 160, 'n_estimators': 10000, 'n_jobs': -1, 'num_leaves': 48, 'objective': 'regression', 'subsample': 1.0, 'subsample_freq': 5}\n"
     ]
    },
    {
     "name": "stdout",
     "output_type": "stream",
     "text": [
      "[100]\tvalid_0's rmse: 0.842323\tvalid_0's l2: 0.709508\tvalid_1's rmse: 0.811013\tvalid_1's l2: 0.657741           \n",
      "[200]\tvalid_0's rmse: 0.840467\tvalid_0's l2: 0.706385\tvalid_1's rmse: 0.764861\tvalid_1's l2: 0.585012           \n",
      "[100]\tvalid_0's rmse: 0.914559\tvalid_0's l2: 0.836419\tvalid_1's rmse: 0.80637\tvalid_1's l2: 0.650233            \n",
      "[200]\tvalid_0's rmse: 0.910893\tvalid_0's l2: 0.829726\tvalid_1's rmse: 0.759936\tvalid_1's l2: 0.577503           \n",
      "[100]\tvalid_0's rmse: 0.834514\tvalid_0's l2: 0.696414\tvalid_1's rmse: 0.808732\tvalid_1's l2: 0.654047           \n",
      "[200]\tvalid_0's rmse: 0.824088\tvalid_0's l2: 0.679122\tvalid_1's rmse: 0.764016\tvalid_1's l2: 0.58372            \n",
      "[300]\tvalid_0's rmse: 0.822125\tvalid_0's l2: 0.675889\tvalid_1's rmse: 0.733359\tvalid_1's l2: 0.537816           \n",
      "[400]\tvalid_0's rmse: 0.822577\tvalid_0's l2: 0.676633\tvalid_1's rmse: 0.708006\tvalid_1's l2: 0.501272           \n",
      " 11%|████▍                                   | 22/200 [00:44<06:40,  2.25s/trial, best loss: 0.8566557748922121]"
     ]
    },
    {
     "name": "stderr",
     "output_type": "stream",
     "text": [
      "Score - 0.8566557748922121, Std - 0.03788678722769249, Eval Score - 0.8566557748922121\n",
      "Score across folds - [0.8391958038785456, 0.90925459932608, 0.8215169214720107].\n"
     ]
    },
    {
     "name": "stdout",
     "output_type": "stream",
     "text": [
      "\r",
      " 12%|████▌                                   | 23/200 [00:44<06:58,  2.36s/trial, best loss: 0.8566557748922121]"
     ]
    },
    {
     "name": "stderr",
     "output_type": "stream",
     "text": [
      "\n",
      "Iteration: 24, Training with params: {'boosting_type': 'gbdt', 'colsample_bytree': 0.4, 'learning_rate': 0.1, 'min_child_samples': 160, 'n_estimators': 10000, 'n_jobs': -1, 'num_leaves': 48, 'objective': 'regression', 'subsample': 1.0, 'subsample_freq': 5}\n"
     ]
    },
    {
     "name": "stdout",
     "output_type": "stream",
     "text": [
      "[100]\tvalid_0's rmse: 0.842323\tvalid_0's l2: 0.709508\tvalid_1's rmse: 0.811013\tvalid_1's l2: 0.657741           \n",
      "[200]\tvalid_0's rmse: 0.840467\tvalid_0's l2: 0.706385\tvalid_1's rmse: 0.764861\tvalid_1's l2: 0.585012           \n",
      "[100]\tvalid_0's rmse: 0.914559\tvalid_0's l2: 0.836419\tvalid_1's rmse: 0.80637\tvalid_1's l2: 0.650233            \n",
      "[200]\tvalid_0's rmse: 0.910893\tvalid_0's l2: 0.829726\tvalid_1's rmse: 0.759936\tvalid_1's l2: 0.577503           \n",
      "[100]\tvalid_0's rmse: 0.834514\tvalid_0's l2: 0.696414\tvalid_1's rmse: 0.808732\tvalid_1's l2: 0.654047           \n",
      "[200]\tvalid_0's rmse: 0.824088\tvalid_0's l2: 0.679122\tvalid_1's rmse: 0.764016\tvalid_1's l2: 0.58372            \n",
      "[300]\tvalid_0's rmse: 0.822125\tvalid_0's l2: 0.675889\tvalid_1's rmse: 0.733359\tvalid_1's l2: 0.537816           \n",
      "[400]\tvalid_0's rmse: 0.822577\tvalid_0's l2: 0.676633\tvalid_1's rmse: 0.708006\tvalid_1's l2: 0.501272           \n",
      " 12%|████▌                                   | 23/200 [00:46<06:58,  2.36s/trial, best loss: 0.8566557748922121]"
     ]
    },
    {
     "name": "stderr",
     "output_type": "stream",
     "text": [
      "Score - 0.8566557748922121, Std - 0.03788678722769249, Eval Score - 0.8566557748922121\n",
      "Score across folds - [0.8391958038785456, 0.90925459932608, 0.8215169214720107].\n"
     ]
    },
    {
     "name": "stdout",
     "output_type": "stream",
     "text": [
      "\r",
      " 12%|████▊                                   | 24/200 [00:46<06:57,  2.37s/trial, best loss: 0.8566557748922121]"
     ]
    },
    {
     "name": "stderr",
     "output_type": "stream",
     "text": [
      "\n",
      "Iteration: 25, Training with params: {'boosting_type': 'gbdt', 'colsample_bytree': 0.4, 'learning_rate': 0.1, 'min_child_samples': 220, 'n_estimators': 10000, 'n_jobs': -1, 'num_leaves': 48, 'objective': 'regression', 'subsample': 1.0, 'subsample_freq': 5}\n"
     ]
    },
    {
     "name": "stdout",
     "output_type": "stream",
     "text": [
      "[100]\tvalid_0's rmse: 0.84618\tvalid_0's l2: 0.71602\tvalid_1's rmse: 0.823232\tvalid_1's l2: 0.677711             \n",
      "[200]\tvalid_0's rmse: 0.843492\tvalid_0's l2: 0.711478\tvalid_1's rmse: 0.778148\tvalid_1's l2: 0.605515           \n",
      "[300]\tvalid_0's rmse: 0.843258\tvalid_0's l2: 0.711085\tvalid_1's rmse: 0.747387\tvalid_1's l2: 0.558587           \n",
      "[100]\tvalid_0's rmse: 0.911734\tvalid_0's l2: 0.831259\tvalid_1's rmse: 0.816543\tvalid_1's l2: 0.666742           \n",
      "[200]\tvalid_0's rmse: 0.909943\tvalid_0's l2: 0.827996\tvalid_1's rmse: 0.772907\tvalid_1's l2: 0.597386           \n",
      "[100]\tvalid_0's rmse: 0.838681\tvalid_0's l2: 0.703386\tvalid_1's rmse: 0.819547\tvalid_1's l2: 0.671657           \n",
      "[200]\tvalid_0's rmse: 0.826095\tvalid_0's l2: 0.682432\tvalid_1's rmse: 0.777067\tvalid_1's l2: 0.603833           \n",
      "[300]\tvalid_0's rmse: 0.823352\tvalid_0's l2: 0.677909\tvalid_1's rmse: 0.746869\tvalid_1's l2: 0.557813           \n",
      "[400]\tvalid_0's rmse: 0.823415\tvalid_0's l2: 0.678012\tvalid_1's rmse: 0.723122\tvalid_1's l2: 0.522905           \n",
      " 12%|████▊                                   | 24/200 [00:49<06:57,  2.37s/trial, best loss: 0.8566557748922121]"
     ]
    },
    {
     "name": "stderr",
     "output_type": "stream",
     "text": [
      "Score - 0.8579775649814478, Std - 0.036895187259361306, Eval Score - 0.8579775649814478\n",
      "Score across folds - [0.8421717881881927, 0.9089445373614408, 0.8228163693947098].\n"
     ]
    },
    {
     "name": "stdout",
     "output_type": "stream",
     "text": [
      "\r",
      " 12%|█████                                   | 25/200 [00:49<07:14,  2.48s/trial, best loss: 0.8566557748922121]"
     ]
    },
    {
     "name": "stderr",
     "output_type": "stream",
     "text": [
      "\n",
      "Iteration: 26, Training with params: {'boosting_type': 'gbdt', 'colsample_bytree': 0.4, 'learning_rate': 0.1, 'min_child_samples': 160, 'n_estimators': 10000, 'n_jobs': -1, 'num_leaves': 48, 'objective': 'regression', 'subsample': 1.0, 'subsample_freq': 5}\n"
     ]
    },
    {
     "name": "stdout",
     "output_type": "stream",
     "text": [
      "[100]\tvalid_0's rmse: 0.842323\tvalid_0's l2: 0.709508\tvalid_1's rmse: 0.811013\tvalid_1's l2: 0.657741           \n",
      "[200]\tvalid_0's rmse: 0.840467\tvalid_0's l2: 0.706385\tvalid_1's rmse: 0.764861\tvalid_1's l2: 0.585012           \n",
      "[100]\tvalid_0's rmse: 0.914559\tvalid_0's l2: 0.836419\tvalid_1's rmse: 0.80637\tvalid_1's l2: 0.650233            \n",
      "[200]\tvalid_0's rmse: 0.910893\tvalid_0's l2: 0.829726\tvalid_1's rmse: 0.759936\tvalid_1's l2: 0.577503           \n",
      "[100]\tvalid_0's rmse: 0.834514\tvalid_0's l2: 0.696414\tvalid_1's rmse: 0.808732\tvalid_1's l2: 0.654047           \n",
      "[200]\tvalid_0's rmse: 0.824088\tvalid_0's l2: 0.679122\tvalid_1's rmse: 0.764016\tvalid_1's l2: 0.58372            \n",
      "[300]\tvalid_0's rmse: 0.822125\tvalid_0's l2: 0.675889\tvalid_1's rmse: 0.733359\tvalid_1's l2: 0.537816           \n",
      "[400]\tvalid_0's rmse: 0.822577\tvalid_0's l2: 0.676633\tvalid_1's rmse: 0.708006\tvalid_1's l2: 0.501272           \n",
      " 12%|█████                                   | 25/200 [00:51<07:14,  2.48s/trial, best loss: 0.8566557748922121]"
     ]
    },
    {
     "name": "stderr",
     "output_type": "stream",
     "text": [
      "Score - 0.8566557748922121, Std - 0.03788678722769249, Eval Score - 0.8566557748922121\n",
      "Score across folds - [0.8391958038785456, 0.90925459932608, 0.8215169214720107].\n"
     ]
    },
    {
     "name": "stdout",
     "output_type": "stream",
     "text": [
      "\r",
      " 13%|█████▏                                  | 26/200 [00:51<07:08,  2.46s/trial, best loss: 0.8566557748922121]"
     ]
    },
    {
     "name": "stderr",
     "output_type": "stream",
     "text": [
      "\n",
      "Iteration: 27, Training with params: {'boosting_type': 'gbdt', 'colsample_bytree': 0.4, 'learning_rate': 0.1, 'min_child_samples': 180, 'n_estimators': 10000, 'n_jobs': -1, 'num_leaves': 48, 'objective': 'regression', 'subsample': 1.0, 'subsample_freq': 5}\n"
     ]
    },
    {
     "name": "stdout",
     "output_type": "stream",
     "text": [
      "[100]\tvalid_0's rmse: 0.845272\tvalid_0's l2: 0.714485\tvalid_1's rmse: 0.815737\tvalid_1's l2: 0.665427           \n",
      "[200]\tvalid_0's rmse: 0.842288\tvalid_0's l2: 0.709449\tvalid_1's rmse: 0.770403\tvalid_1's l2: 0.593521           \n",
      "[100]\tvalid_0's rmse: 0.911912\tvalid_0's l2: 0.831583\tvalid_1's rmse: 0.809187\tvalid_1's l2: 0.654783           \n",
      "[200]\tvalid_0's rmse: 0.911403\tvalid_0's l2: 0.830656\tvalid_1's rmse: 0.763862\tvalid_1's l2: 0.583485           \n",
      "[100]\tvalid_0's rmse: 0.833613\tvalid_0's l2: 0.694911\tvalid_1's rmse: 0.812105\tvalid_1's l2: 0.659515           \n",
      "[200]\tvalid_0's rmse: 0.82167\tvalid_0's l2: 0.675141\tvalid_1's rmse: 0.768031\tvalid_1's l2: 0.589872            \n",
      "[300]\tvalid_0's rmse: 0.818499\tvalid_0's l2: 0.66994\tvalid_1's rmse: 0.737479\tvalid_1's l2: 0.543875            \n",
      "[400]\tvalid_0's rmse: 0.819901\tvalid_0's l2: 0.672238\tvalid_1's rmse: 0.712649\tvalid_1's l2: 0.507869           \n",
      " 13%|█████▏                                  | 26/200 [00:54<07:08,  2.46s/trial, best loss: 0.8566557748922121]"
     ]
    },
    {
     "name": "stderr",
     "output_type": "stream",
     "text": [
      "Score - 0.8564908048053047, Std - 0.03910467812659231, Eval Score - 0.8564908048053047\n",
      "Score across folds - [0.8409127467230744, 0.9102336895809126, 0.818325978111927].\n"
     ]
    },
    {
     "name": "stdout",
     "output_type": "stream",
     "text": [
      "\r",
      " 14%|█████▍                                  | 27/200 [00:54<07:01,  2.44s/trial, best loss: 0.8564908048053047]"
     ]
    },
    {
     "name": "stderr",
     "output_type": "stream",
     "text": [
      "\n",
      "Iteration: 28, Training with params: {'boosting_type': 'gbdt', 'colsample_bytree': 0.4, 'learning_rate': 0.1, 'min_child_samples': 180, 'n_estimators': 10000, 'n_jobs': -1, 'num_leaves': 48, 'objective': 'regression', 'subsample': 1.0, 'subsample_freq': 5}\n"
     ]
    },
    {
     "name": "stdout",
     "output_type": "stream",
     "text": [
      "[100]\tvalid_0's rmse: 0.845272\tvalid_0's l2: 0.714485\tvalid_1's rmse: 0.815737\tvalid_1's l2: 0.665427           \n",
      "[200]\tvalid_0's rmse: 0.842288\tvalid_0's l2: 0.709449\tvalid_1's rmse: 0.770403\tvalid_1's l2: 0.593521           \n",
      "[100]\tvalid_0's rmse: 0.911912\tvalid_0's l2: 0.831583\tvalid_1's rmse: 0.809187\tvalid_1's l2: 0.654783           \n",
      "[200]\tvalid_0's rmse: 0.911403\tvalid_0's l2: 0.830656\tvalid_1's rmse: 0.763862\tvalid_1's l2: 0.583485           \n",
      "[100]\tvalid_0's rmse: 0.833613\tvalid_0's l2: 0.694911\tvalid_1's rmse: 0.812105\tvalid_1's l2: 0.659515           \n",
      "[200]\tvalid_0's rmse: 0.82167\tvalid_0's l2: 0.675141\tvalid_1's rmse: 0.768031\tvalid_1's l2: 0.589872            \n",
      "[300]\tvalid_0's rmse: 0.818499\tvalid_0's l2: 0.66994\tvalid_1's rmse: 0.737479\tvalid_1's l2: 0.543875            \n",
      "[400]\tvalid_0's rmse: 0.819901\tvalid_0's l2: 0.672238\tvalid_1's rmse: 0.712649\tvalid_1's l2: 0.507869           \n",
      " 14%|█████▍                                  | 27/200 [00:56<07:01,  2.44s/trial, best loss: 0.8564908048053047]"
     ]
    },
    {
     "name": "stderr",
     "output_type": "stream",
     "text": [
      "Score - 0.8564908048053047, Std - 0.03910467812659231, Eval Score - 0.8564908048053047\n",
      "Score across folds - [0.8409127467230744, 0.9102336895809126, 0.818325978111927].\n"
     ]
    },
    {
     "name": "stdout",
     "output_type": "stream",
     "text": [
      "\r",
      " 14%|█████▌                                  | 28/200 [00:56<06:56,  2.42s/trial, best loss: 0.8564908048053047]"
     ]
    },
    {
     "name": "stderr",
     "output_type": "stream",
     "text": [
      "\n",
      "Iteration: 29, Training with params: {'boosting_type': 'gbdt', 'colsample_bytree': 0.4, 'learning_rate': 0.1, 'min_child_samples': 180, 'n_estimators': 10000, 'n_jobs': -1, 'num_leaves': 48, 'objective': 'regression', 'subsample': 1.0, 'subsample_freq': 5}\n"
     ]
    },
    {
     "name": "stdout",
     "output_type": "stream",
     "text": [
      "[100]\tvalid_0's rmse: 0.845272\tvalid_0's l2: 0.714485\tvalid_1's rmse: 0.815737\tvalid_1's l2: 0.665427           \n",
      "[200]\tvalid_0's rmse: 0.842288\tvalid_0's l2: 0.709449\tvalid_1's rmse: 0.770403\tvalid_1's l2: 0.593521           \n",
      "[100]\tvalid_0's rmse: 0.911912\tvalid_0's l2: 0.831583\tvalid_1's rmse: 0.809187\tvalid_1's l2: 0.654783           \n",
      "[200]\tvalid_0's rmse: 0.911403\tvalid_0's l2: 0.830656\tvalid_1's rmse: 0.763862\tvalid_1's l2: 0.583485           \n",
      "[100]\tvalid_0's rmse: 0.833613\tvalid_0's l2: 0.694911\tvalid_1's rmse: 0.812105\tvalid_1's l2: 0.659515           \n",
      "[200]\tvalid_0's rmse: 0.82167\tvalid_0's l2: 0.675141\tvalid_1's rmse: 0.768031\tvalid_1's l2: 0.589872            \n",
      "[300]\tvalid_0's rmse: 0.818499\tvalid_0's l2: 0.66994\tvalid_1's rmse: 0.737479\tvalid_1's l2: 0.543875            \n",
      "[400]\tvalid_0's rmse: 0.819901\tvalid_0's l2: 0.672238\tvalid_1's rmse: 0.712649\tvalid_1's l2: 0.507869           \n",
      " 14%|█████▌                                  | 28/200 [00:58<06:56,  2.42s/trial, best loss: 0.8564908048053047]"
     ]
    },
    {
     "name": "stderr",
     "output_type": "stream",
     "text": [
      "Score - 0.8564908048053047, Std - 0.03910467812659231, Eval Score - 0.8564908048053047\n",
      "Score across folds - [0.8409127467230744, 0.9102336895809126, 0.818325978111927].\n"
     ]
    },
    {
     "name": "stdout",
     "output_type": "stream",
     "text": [
      "\r",
      " 14%|█████▊                                  | 29/200 [00:58<06:52,  2.41s/trial, best loss: 0.8564908048053047]"
     ]
    },
    {
     "name": "stderr",
     "output_type": "stream",
     "text": [
      "\n",
      "Iteration: 30, Training with params: {'boosting_type': 'gbdt', 'colsample_bytree': 0.4, 'learning_rate': 0.1, 'min_child_samples': 220, 'n_estimators': 10000, 'n_jobs': -1, 'num_leaves': 48, 'objective': 'regression', 'subsample': 1.0, 'subsample_freq': 5}\n"
     ]
    },
    {
     "name": "stdout",
     "output_type": "stream",
     "text": [
      "[100]\tvalid_0's rmse: 0.84618\tvalid_0's l2: 0.71602\tvalid_1's rmse: 0.823232\tvalid_1's l2: 0.677711             \n",
      "[200]\tvalid_0's rmse: 0.843492\tvalid_0's l2: 0.711478\tvalid_1's rmse: 0.778148\tvalid_1's l2: 0.605515           \n",
      "[300]\tvalid_0's rmse: 0.843258\tvalid_0's l2: 0.711085\tvalid_1's rmse: 0.747387\tvalid_1's l2: 0.558587           \n",
      "[100]\tvalid_0's rmse: 0.911734\tvalid_0's l2: 0.831259\tvalid_1's rmse: 0.816543\tvalid_1's l2: 0.666742           \n",
      "[200]\tvalid_0's rmse: 0.909943\tvalid_0's l2: 0.827996\tvalid_1's rmse: 0.772907\tvalid_1's l2: 0.597386           \n",
      "[100]\tvalid_0's rmse: 0.838681\tvalid_0's l2: 0.703386\tvalid_1's rmse: 0.819547\tvalid_1's l2: 0.671657           \n",
      "[200]\tvalid_0's rmse: 0.826095\tvalid_0's l2: 0.682432\tvalid_1's rmse: 0.777067\tvalid_1's l2: 0.603833           \n",
      "[300]\tvalid_0's rmse: 0.823352\tvalid_0's l2: 0.677909\tvalid_1's rmse: 0.746869\tvalid_1's l2: 0.557813           \n",
      "[400]\tvalid_0's rmse: 0.823415\tvalid_0's l2: 0.678012\tvalid_1's rmse: 0.723122\tvalid_1's l2: 0.522905           \n",
      " 14%|█████▊                                  | 29/200 [01:01<06:52,  2.41s/trial, best loss: 0.8564908048053047]"
     ]
    },
    {
     "name": "stderr",
     "output_type": "stream",
     "text": [
      "Score - 0.8579775649814478, Std - 0.036895187259361306, Eval Score - 0.8579775649814478\n",
      "Score across folds - [0.8421717881881927, 0.9089445373614408, 0.8228163693947098].\n"
     ]
    },
    {
     "name": "stdout",
     "output_type": "stream",
     "text": [
      "\r",
      " 15%|██████                                  | 30/200 [01:01<07:08,  2.52s/trial, best loss: 0.8564908048053047]"
     ]
    },
    {
     "name": "stderr",
     "output_type": "stream",
     "text": [
      "\n",
      "Iteration: 31, Training with params: {'boosting_type': 'gbdt', 'colsample_bytree': 0.4, 'learning_rate': 0.1, 'min_child_samples': 180, 'n_estimators': 10000, 'n_jobs': -1, 'num_leaves': 48, 'objective': 'regression', 'subsample': 1.0, 'subsample_freq': 5}\n"
     ]
    },
    {
     "name": "stdout",
     "output_type": "stream",
     "text": [
      "[100]\tvalid_0's rmse: 0.845272\tvalid_0's l2: 0.714485\tvalid_1's rmse: 0.815737\tvalid_1's l2: 0.665427           \n",
      "[200]\tvalid_0's rmse: 0.842288\tvalid_0's l2: 0.709449\tvalid_1's rmse: 0.770403\tvalid_1's l2: 0.593521           \n",
      "[100]\tvalid_0's rmse: 0.911912\tvalid_0's l2: 0.831583\tvalid_1's rmse: 0.809187\tvalid_1's l2: 0.654783           \n",
      "[200]\tvalid_0's rmse: 0.911403\tvalid_0's l2: 0.830656\tvalid_1's rmse: 0.763862\tvalid_1's l2: 0.583485           \n",
      "[100]\tvalid_0's rmse: 0.833613\tvalid_0's l2: 0.694911\tvalid_1's rmse: 0.812105\tvalid_1's l2: 0.659515           \n",
      "[200]\tvalid_0's rmse: 0.82167\tvalid_0's l2: 0.675141\tvalid_1's rmse: 0.768031\tvalid_1's l2: 0.589872            \n",
      "[300]\tvalid_0's rmse: 0.818499\tvalid_0's l2: 0.66994\tvalid_1's rmse: 0.737479\tvalid_1's l2: 0.543875            \n",
      "[400]\tvalid_0's rmse: 0.819901\tvalid_0's l2: 0.672238\tvalid_1's rmse: 0.712649\tvalid_1's l2: 0.507869           \n",
      " 15%|██████                                  | 30/200 [01:03<07:08,  2.52s/trial, best loss: 0.8564908048053047]"
     ]
    },
    {
     "name": "stderr",
     "output_type": "stream",
     "text": [
      "Score - 0.8564908048053047, Std - 0.03910467812659231, Eval Score - 0.8564908048053047\n",
      "Score across folds - [0.8409127467230744, 0.9102336895809126, 0.818325978111927].\n"
     ]
    },
    {
     "name": "stdout",
     "output_type": "stream",
     "text": [
      "\r",
      " 16%|██████▏                                 | 31/200 [01:04<07:00,  2.49s/trial, best loss: 0.8564908048053047]"
     ]
    },
    {
     "name": "stderr",
     "output_type": "stream",
     "text": [
      "\n",
      "Iteration: 32, Training with params: {'boosting_type': 'gbdt', 'colsample_bytree': 0.4, 'learning_rate': 0.1, 'min_child_samples': 140, 'n_estimators': 10000, 'n_jobs': -1, 'num_leaves': 48, 'objective': 'regression', 'subsample': 1.0, 'subsample_freq': 5}\n"
     ]
    },
    {
     "name": "stdout",
     "output_type": "stream",
     "text": [
      "[100]\tvalid_0's rmse: 0.841924\tvalid_0's l2: 0.708836\tvalid_1's rmse: 0.808529\tvalid_1's l2: 0.65372            \n",
      "[200]\tvalid_0's rmse: 0.838729\tvalid_0's l2: 0.703466\tvalid_1's rmse: 0.761167\tvalid_1's l2: 0.579375           \n",
      "[300]\tvalid_0's rmse: 0.840681\tvalid_0's l2: 0.706745\tvalid_1's rmse: 0.729519\tvalid_1's l2: 0.532198           \n",
      "[100]\tvalid_0's rmse: 0.91165\tvalid_0's l2: 0.831106\tvalid_1's rmse: 0.802426\tvalid_1's l2: 0.643887            \n",
      "[200]\tvalid_0's rmse: 0.911332\tvalid_0's l2: 0.830525\tvalid_1's rmse: 0.756249\tvalid_1's l2: 0.571912           \n",
      "[100]\tvalid_0's rmse: 0.836024\tvalid_0's l2: 0.698936\tvalid_1's rmse: 0.806018\tvalid_1's l2: 0.649665           \n",
      "[200]\tvalid_0's rmse: 0.826374\tvalid_0's l2: 0.682894\tvalid_1's rmse: 0.759836\tvalid_1's l2: 0.577351           \n",
      "[300]\tvalid_0's rmse: 0.824005\tvalid_0's l2: 0.678984\tvalid_1's rmse: 0.728041\tvalid_1's l2: 0.530043           \n",
      " 16%|██████▏                                 | 31/200 [01:06<07:00,  2.49s/trial, best loss: 0.8564908048053047]"
     ]
    },
    {
     "name": "stderr",
     "output_type": "stream",
     "text": [
      "Score - 0.8572653223427102, Std - 0.037669044061574744, Eval Score - 0.8572653223427102\n",
      "Score across folds - [0.838160568315972, 0.9098838299107583, 0.8237515688014002].\n"
     ]
    },
    {
     "name": "stdout",
     "output_type": "stream",
     "text": [
      "\r",
      " 16%|██████▍                                 | 32/200 [01:06<06:55,  2.47s/trial, best loss: 0.8564908048053047]"
     ]
    },
    {
     "name": "stderr",
     "output_type": "stream",
     "text": [
      "\n",
      "Iteration: 33, Training with params: {'boosting_type': 'gbdt', 'colsample_bytree': 0.4, 'learning_rate': 0.1, 'min_child_samples': 220, 'n_estimators': 10000, 'n_jobs': -1, 'num_leaves': 48, 'objective': 'regression', 'subsample': 1.0, 'subsample_freq': 5}\n"
     ]
    },
    {
     "name": "stdout",
     "output_type": "stream",
     "text": [
      "[100]\tvalid_0's rmse: 0.84618\tvalid_0's l2: 0.71602\tvalid_1's rmse: 0.823232\tvalid_1's l2: 0.677711             \n",
      "[200]\tvalid_0's rmse: 0.843492\tvalid_0's l2: 0.711478\tvalid_1's rmse: 0.778148\tvalid_1's l2: 0.605515           \n",
      "[300]\tvalid_0's rmse: 0.843258\tvalid_0's l2: 0.711085\tvalid_1's rmse: 0.747387\tvalid_1's l2: 0.558587           \n",
      "[100]\tvalid_0's rmse: 0.911734\tvalid_0's l2: 0.831259\tvalid_1's rmse: 0.816543\tvalid_1's l2: 0.666742           \n",
      "[200]\tvalid_0's rmse: 0.909943\tvalid_0's l2: 0.827996\tvalid_1's rmse: 0.772907\tvalid_1's l2: 0.597386           \n",
      "[100]\tvalid_0's rmse: 0.838681\tvalid_0's l2: 0.703386\tvalid_1's rmse: 0.819547\tvalid_1's l2: 0.671657           \n",
      "[200]\tvalid_0's rmse: 0.826095\tvalid_0's l2: 0.682432\tvalid_1's rmse: 0.777067\tvalid_1's l2: 0.603833           \n",
      "[300]\tvalid_0's rmse: 0.823352\tvalid_0's l2: 0.677909\tvalid_1's rmse: 0.746869\tvalid_1's l2: 0.557813           \n",
      "[400]\tvalid_0's rmse: 0.823415\tvalid_0's l2: 0.678012\tvalid_1's rmse: 0.723122\tvalid_1's l2: 0.522905           \n",
      " 16%|██████▍                                 | 32/200 [01:09<06:55,  2.47s/trial, best loss: 0.8564908048053047]"
     ]
    },
    {
     "name": "stderr",
     "output_type": "stream",
     "text": [
      "Score - 0.8579775649814478, Std - 0.036895187259361306, Eval Score - 0.8579775649814478\n",
      "Score across folds - [0.8421717881881927, 0.9089445373614408, 0.8228163693947098].\n"
     ]
    },
    {
     "name": "stdout",
     "output_type": "stream",
     "text": [
      "\r",
      " 16%|██████▌                                 | 33/200 [01:09<07:06,  2.55s/trial, best loss: 0.8564908048053047]"
     ]
    },
    {
     "name": "stderr",
     "output_type": "stream",
     "text": [
      "\n",
      "Iteration: 34, Training with params: {'boosting_type': 'gbdt', 'colsample_bytree': 0.4, 'learning_rate': 0.1, 'min_child_samples': 200, 'n_estimators': 10000, 'n_jobs': -1, 'num_leaves': 48, 'objective': 'regression', 'subsample': 0.8, 'subsample_freq': 5}\n"
     ]
    },
    {
     "name": "stdout",
     "output_type": "stream",
     "text": [
      "[100]\tvalid_0's rmse: 0.850276\tvalid_0's l2: 0.722969\tvalid_1's rmse: 0.829295\tvalid_1's l2: 0.68773            \n",
      "[200]\tvalid_0's rmse: 0.841036\tvalid_0's l2: 0.707342\tvalid_1's rmse: 0.786457\tvalid_1's l2: 0.618514           \n",
      "[300]\tvalid_0's rmse: 0.843765\tvalid_0's l2: 0.71194\tvalid_1's rmse: 0.755017\tvalid_1's l2: 0.570051            \n",
      "[100]\tvalid_0's rmse: 0.917745\tvalid_0's l2: 0.842255\tvalid_1's rmse: 0.821241\tvalid_1's l2: 0.674436           \n",
      "[200]\tvalid_0's rmse: 0.915001\tvalid_0's l2: 0.837227\tvalid_1's rmse: 0.778146\tvalid_1's l2: 0.605511           \n",
      "[100]\tvalid_0's rmse: 0.843935\tvalid_0's l2: 0.712227\tvalid_1's rmse: 0.826177\tvalid_1's l2: 0.682568           \n",
      "[200]\tvalid_0's rmse: 0.82898\tvalid_0's l2: 0.687208\tvalid_1's rmse: 0.783831\tvalid_1's l2: 0.614392            \n",
      "[300]\tvalid_0's rmse: 0.826351\tvalid_0's l2: 0.682856\tvalid_1's rmse: 0.753004\tvalid_1's l2: 0.567016           \n",
      "[400]\tvalid_0's rmse: 0.827467\tvalid_0's l2: 0.684701\tvalid_1's rmse: 0.729106\tvalid_1's l2: 0.531596           \n",
      " 16%|██████▌                                 | 33/200 [01:11<07:06,  2.55s/trial, best loss: 0.8564908048053047]"
     ]
    },
    {
     "name": "stderr",
     "output_type": "stream",
     "text": [
      "Score - 0.8600702633852672, Std - 0.03828856844641545, Eval Score - 0.8600702633852672\n",
      "Score across folds - [0.8408656725383244, 0.913517849072516, 0.8258272685449609].\n"
     ]
    },
    {
     "name": "stdout",
     "output_type": "stream",
     "text": [
      "\r",
      " 17%|██████▊                                 | 34/200 [01:12<07:19,  2.65s/trial, best loss: 0.8564908048053047]"
     ]
    },
    {
     "name": "stderr",
     "output_type": "stream",
     "text": [
      "\n",
      "Iteration: 35, Training with params: {'boosting_type': 'gbdt', 'colsample_bytree': 0.8, 'learning_rate': 0.1, 'min_child_samples': 180, 'n_estimators': 10000, 'n_jobs': -1, 'num_leaves': 48, 'objective': 'regression', 'subsample': 1.0, 'subsample_freq': 5}\n"
     ]
    },
    {
     "name": "stdout",
     "output_type": "stream",
     "text": [
      "[100]\tvalid_0's rmse: 0.842542\tvalid_0's l2: 0.709877\tvalid_1's rmse: 0.787038\tvalid_1's l2: 0.619428           \n",
      "[100]\tvalid_0's rmse: 0.919134\tvalid_0's l2: 0.844806\tvalid_1's rmse: 0.780443\tvalid_1's l2: 0.609091           \n",
      "[200]\tvalid_0's rmse: 0.924149\tvalid_0's l2: 0.854051\tvalid_1's rmse: 0.729285\tvalid_1's l2: 0.531856           \n",
      "[100]\tvalid_0's rmse: 0.831781\tvalid_0's l2: 0.691859\tvalid_1's rmse: 0.786118\tvalid_1's l2: 0.617981           \n",
      "[200]\tvalid_0's rmse: 0.824336\tvalid_0's l2: 0.67953\tvalid_1's rmse: 0.734498\tvalid_1's l2: 0.539487            \n",
      "[300]\tvalid_0's rmse: 0.825195\tvalid_0's l2: 0.680947\tvalid_1's rmse: 0.697268\tvalid_1's l2: 0.486183           \n",
      " 17%|██████▊                                 | 34/200 [01:14<07:19,  2.65s/trial, best loss: 0.8564908048053047]"
     ]
    },
    {
     "name": "stderr",
     "output_type": "stream",
     "text": [
      "Score - 0.8610669434723729, Std - 0.041333243783050415, Eval Score - 0.8610669434723729\n",
      "Score across folds - [0.84101532842272, 0.9186438299846316, 0.8235416720097672].\n"
     ]
    },
    {
     "name": "stdout",
     "output_type": "stream",
     "text": [
      "\r",
      " 18%|███████                                 | 35/200 [01:14<06:46,  2.47s/trial, best loss: 0.8564908048053047]"
     ]
    },
    {
     "name": "stderr",
     "output_type": "stream",
     "text": [
      "\n",
      "Iteration: 36, Training with params: {'boosting_type': 'gbdt', 'colsample_bytree': 0.4, 'learning_rate': 0.1, 'min_child_samples': 140, 'n_estimators': 10000, 'n_jobs': -1, 'num_leaves': 16, 'objective': 'regression', 'subsample': 0.6000000000000001, 'subsample_freq': 5}\n"
     ]
    },
    {
     "name": "stdout",
     "output_type": "stream",
     "text": [
      "[100]\tvalid_0's rmse: 0.85846\tvalid_0's l2: 0.736954\tvalid_1's rmse: 0.865829\tvalid_1's l2: 0.74966             \n",
      "[200]\tvalid_0's rmse: 0.845026\tvalid_0's l2: 0.714068\tvalid_1's rmse: 0.834299\tvalid_1's l2: 0.696055           \n",
      "[300]\tvalid_0's rmse: 0.844506\tvalid_0's l2: 0.713191\tvalid_1's rmse: 0.815009\tvalid_1's l2: 0.66424            \n",
      "[100]\tvalid_0's rmse: 0.924515\tvalid_0's l2: 0.854727\tvalid_1's rmse: 0.860867\tvalid_1's l2: 0.741092           \n",
      "[200]\tvalid_0's rmse: 0.913894\tvalid_0's l2: 0.835202\tvalid_1's rmse: 0.828342\tvalid_1's l2: 0.686151           \n",
      "[100]\tvalid_0's rmse: 0.850153\tvalid_0's l2: 0.722761\tvalid_1's rmse: 0.862644\tvalid_1's l2: 0.744155           \n",
      "[200]\tvalid_0's rmse: 0.834432\tvalid_0's l2: 0.696276\tvalid_1's rmse: 0.833554\tvalid_1's l2: 0.694812           \n",
      "[300]\tvalid_0's rmse: 0.830871\tvalid_0's l2: 0.690347\tvalid_1's rmse: 0.815224\tvalid_1's l2: 0.664591           \n",
      "[400]\tvalid_0's rmse: 0.830668\tvalid_0's l2: 0.69001\tvalid_1's rmse: 0.800889\tvalid_1's l2: 0.641423            \n",
      "[500]\tvalid_0's rmse: 0.831402\tvalid_0's l2: 0.691229\tvalid_1's rmse: 0.788521\tvalid_1's l2: 0.621765           \n",
      " 18%|███████                                 | 35/200 [01:15<06:46,  2.47s/trial, best loss: 0.8564908048053047]"
     ]
    },
    {
     "name": "stderr",
     "output_type": "stream",
     "text": [
      "Score - 0.8622491086419158, Std - 0.036637909802319256, Eval Score - 0.8622491086419158\n",
      "Score across folds - [0.8434244101397812, 0.913467291179166, 0.8298556246068002].\n"
     ]
    },
    {
     "name": "stdout",
     "output_type": "stream",
     "text": [
      "\r",
      " 18%|███████▏                                | 36/200 [01:15<06:11,  2.27s/trial, best loss: 0.8564908048053047]"
     ]
    },
    {
     "name": "stderr",
     "output_type": "stream",
     "text": [
      "\n",
      "Iteration: 37, Training with params: {'boosting_type': 'gbdt', 'colsample_bytree': 1.0, 'learning_rate': 0.1, 'min_child_samples': 0, 'n_estimators': 10000, 'n_jobs': -1, 'num_leaves': 48, 'objective': 'regression', 'subsample': 0.8, 'subsample_freq': 5}\n"
     ]
    },
    {
     "name": "stdout",
     "output_type": "stream",
     "text": [
      "[100]\tvalid_0's rmse: 0.855633\tvalid_0's l2: 0.732107\tvalid_1's rmse: 0.735679\tvalid_1's l2: 0.541224           \n",
      "[100]\tvalid_0's rmse: 0.9411\tvalid_0's l2: 0.885669\tvalid_1's rmse: 0.732726\tvalid_1's l2: 0.536888             \n",
      "[100]\tvalid_0's rmse: 0.844075\tvalid_0's l2: 0.712462\tvalid_1's rmse: 0.738643\tvalid_1's l2: 0.545593           \n",
      "[200]\tvalid_0's rmse: 0.852018\tvalid_0's l2: 0.725934\tvalid_1's rmse: 0.647251\tvalid_1's l2: 0.418933           \n",
      " 18%|███████▏                                | 36/200 [01:17<06:11,  2.27s/trial, best loss: 0.8564908048053047]"
     ]
    },
    {
     "name": "stderr",
     "output_type": "stream",
     "text": [
      "Score - 0.8775315320844946, Std - 0.041885360882823915, Eval Score - 0.8775315320844946\n",
      "Score across folds - [0.8529857722744635, 0.9364917169121312, 0.8431171070668892].\n"
     ]
    },
    {
     "name": "stdout",
     "output_type": "stream",
     "text": [
      "\r",
      " 18%|███████▍                                | 37/200 [01:17<05:29,  2.02s/trial, best loss: 0.8564908048053047]"
     ]
    },
    {
     "name": "stderr",
     "output_type": "stream",
     "text": [
      "\n",
      "Iteration: 38, Training with params: {'boosting_type': 'gbdt', 'colsample_bytree': 0.6000000000000001, 'learning_rate': 0.1, 'min_child_samples': 120, 'n_estimators': 10000, 'n_jobs': -1, 'num_leaves': 48, 'objective': 'regression', 'subsample': 0.8, 'subsample_freq': 5}\n"
     ]
    },
    {
     "name": "stdout",
     "output_type": "stream",
     "text": [
      "[100]\tvalid_0's rmse: 0.841962\tvalid_0's l2: 0.7089\tvalid_1's rmse: 0.785946\tvalid_1's l2: 0.617712             \n",
      "[200]\tvalid_0's rmse: 0.844563\tvalid_0's l2: 0.713286\tvalid_1's rmse: 0.730867\tvalid_1's l2: 0.534166           \n",
      "[100]\tvalid_0's rmse: 0.920296\tvalid_0's l2: 0.846944\tvalid_1's rmse: 0.779992\tvalid_1's l2: 0.608387           \n",
      "[200]\tvalid_0's rmse: 0.918547\tvalid_0's l2: 0.843729\tvalid_1's rmse: 0.723597\tvalid_1's l2: 0.523593           \n",
      "[100]\tvalid_0's rmse: 0.833734\tvalid_0's l2: 0.695113\tvalid_1's rmse: 0.784356\tvalid_1's l2: 0.615214           \n",
      "[200]\tvalid_0's rmse: 0.828402\tvalid_0's l2: 0.686251\tvalid_1's rmse: 0.729092\tvalid_1's l2: 0.531575           \n",
      " 18%|███████▍                                | 37/200 [01:19<05:29,  2.02s/trial, best loss: 0.8564908048053047]"
     ]
    },
    {
     "name": "stderr",
     "output_type": "stream",
     "text": [
      "Score - 0.861157476055728, Std - 0.039212338509091574, Eval Score - 0.861157476055728\n",
      "Score across folds - [0.8401629468347895, 0.9161050898675336, 0.8272043914648607].\n"
     ]
    },
    {
     "name": "stdout",
     "output_type": "stream",
     "text": [
      "\r",
      " 19%|███████▌                                | 38/200 [01:19<05:49,  2.16s/trial, best loss: 0.8564908048053047]"
     ]
    },
    {
     "name": "stderr",
     "output_type": "stream",
     "text": [
      "\n",
      "Iteration: 39, Training with params: {'boosting_type': 'gbdt', 'colsample_bytree': 0.6000000000000001, 'learning_rate': 0.1, 'min_child_samples': 80, 'n_estimators': 10000, 'n_jobs': -1, 'num_leaves': 16, 'objective': 'regression', 'subsample': 0.8, 'subsample_freq': 5}\n"
     ]
    },
    {
     "name": "stdout",
     "output_type": "stream",
     "text": [
      "[100]\tvalid_0's rmse: 0.846113\tvalid_0's l2: 0.715906\tvalid_1's rmse: 0.84709\tvalid_1's l2: 0.717561            \n",
      "[200]\tvalid_0's rmse: 0.839829\tvalid_0's l2: 0.705312\tvalid_1's rmse: 0.811726\tvalid_1's l2: 0.658899           \n",
      "[300]\tvalid_0's rmse: 0.83768\tvalid_0's l2: 0.701708\tvalid_1's rmse: 0.787982\tvalid_1's l2: 0.620916            \n",
      "[100]\tvalid_0's rmse: 0.921734\tvalid_0's l2: 0.849593\tvalid_1's rmse: 0.840323\tvalid_1's l2: 0.706143           \n",
      "[200]\tvalid_0's rmse: 0.916474\tvalid_0's l2: 0.839925\tvalid_1's rmse: 0.803922\tvalid_1's l2: 0.646291           \n",
      "[100]\tvalid_0's rmse: 0.855904\tvalid_0's l2: 0.732572\tvalid_1's rmse: 0.845928\tvalid_1's l2: 0.715594           \n",
      "[200]\tvalid_0's rmse: 0.836214\tvalid_0's l2: 0.699253\tvalid_1's rmse: 0.810609\tvalid_1's l2: 0.657087           \n",
      "[300]\tvalid_0's rmse: 0.833432\tvalid_0's l2: 0.694609\tvalid_1's rmse: 0.786668\tvalid_1's l2: 0.618847           \n",
      "[400]\tvalid_0's rmse: 0.834282\tvalid_0's l2: 0.696026\tvalid_1's rmse: 0.767199\tvalid_1's l2: 0.588594           \n",
      " 19%|███████▌                                | 38/200 [01:21<05:49,  2.16s/trial, best loss: 0.8564908048053047]"
     ]
    },
    {
     "name": "stderr",
     "output_type": "stream",
     "text": [
      "Score - 0.8616118572090592, Std - 0.038327831117197925, Eval Score - 0.8616118572090592\n",
      "Score across folds - [0.8359343722699314, 0.9157910645118021, 0.8331101348454439].\n"
     ]
    },
    {
     "name": "stdout",
     "output_type": "stream",
     "text": [
      "\r",
      " 20%|███████▊                                | 39/200 [01:21<05:29,  2.05s/trial, best loss: 0.8564908048053047]"
     ]
    },
    {
     "name": "stderr",
     "output_type": "stream",
     "text": [
      "\n",
      "Iteration: 40, Training with params: {'boosting_type': 'gbdt', 'colsample_bytree': 0.8, 'learning_rate': 0.1, 'min_child_samples': 200, 'n_estimators': 10000, 'n_jobs': -1, 'num_leaves': 48, 'objective': 'regression', 'subsample': 1.0, 'subsample_freq': 5}\n"
     ]
    },
    {
     "name": "stdout",
     "output_type": "stream",
     "text": [
      "[100]\tvalid_0's rmse: 0.84312\tvalid_0's l2: 0.710852\tvalid_1's rmse: 0.789787\tvalid_1's l2: 0.623764            \n",
      "[200]\tvalid_0's rmse: 0.842942\tvalid_0's l2: 0.710551\tvalid_1's rmse: 0.738896\tvalid_1's l2: 0.545967           \n",
      "[100]\tvalid_0's rmse: 0.918926\tvalid_0's l2: 0.844426\tvalid_1's rmse: 0.783596\tvalid_1's l2: 0.614023           \n",
      "[200]\tvalid_0's rmse: 0.91994\tvalid_0's l2: 0.84629\tvalid_1's rmse: 0.732394\tvalid_1's l2: 0.536401             \n",
      "[100]\tvalid_0's rmse: 0.8352\tvalid_0's l2: 0.697559\tvalid_1's rmse: 0.789588\tvalid_1's l2: 0.62345              \n",
      "[200]\tvalid_0's rmse: 0.827802\tvalid_0's l2: 0.685256\tvalid_1's rmse: 0.737397\tvalid_1's l2: 0.543755           \n",
      "[300]\tvalid_0's rmse: 0.830739\tvalid_0's l2: 0.690127\tvalid_1's rmse: 0.700941\tvalid_1's l2: 0.491319           \n",
      " 20%|███████▊                                | 39/200 [01:23<05:29,  2.05s/trial, best loss: 0.8564908048053047]"
     ]
    },
    {
     "name": "stderr",
     "output_type": "stream",
     "text": [
      "Score - 0.8620280926989056, Std - 0.03894700408602868, Eval Score - 0.8620280926989056\n",
      "Score across folds - [0.842219374519837, 0.9164410431387892, 0.8274238604380908].\n"
     ]
    },
    {
     "name": "stdout",
     "output_type": "stream",
     "text": [
      "\r",
      " 20%|████████                                | 40/200 [01:24<05:42,  2.14s/trial, best loss: 0.8564908048053047]"
     ]
    },
    {
     "name": "stderr",
     "output_type": "stream",
     "text": [
      "\n",
      "Iteration: 41, Training with params: {'boosting_type': 'gbdt', 'colsample_bytree': 0.4, 'learning_rate': 0.1, 'min_child_samples': 180, 'n_estimators': 10000, 'n_jobs': -1, 'num_leaves': 48, 'objective': 'regression', 'subsample': 0.4, 'subsample_freq': 5}\n"
     ]
    },
    {
     "name": "stdout",
     "output_type": "stream",
     "text": [
      "[100]\tvalid_0's rmse: 0.859815\tvalid_0's l2: 0.739281\tvalid_1's rmse: 0.863266\tvalid_1's l2: 0.745229           \n",
      "[200]\tvalid_0's rmse: 0.845825\tvalid_0's l2: 0.71542\tvalid_1's rmse: 0.832471\tvalid_1's l2: 0.693007            \n",
      "[100]\tvalid_0's rmse: 0.933787\tvalid_0's l2: 0.871958\tvalid_1's rmse: 0.858355\tvalid_1's l2: 0.736774           \n",
      "[200]\tvalid_0's rmse: 0.92305\tvalid_0's l2: 0.852022\tvalid_1's rmse: 0.825851\tvalid_1's l2: 0.68203             \n",
      "[300]\tvalid_0's rmse: 0.923413\tvalid_0's l2: 0.852692\tvalid_1's rmse: 0.804335\tvalid_1's l2: 0.646954           \n",
      "[100]\tvalid_0's rmse: 0.855829\tvalid_0's l2: 0.732444\tvalid_1's rmse: 0.86248\tvalid_1's l2: 0.743872            \n",
      "[200]\tvalid_0's rmse: 0.841046\tvalid_0's l2: 0.707359\tvalid_1's rmse: 0.831848\tvalid_1's l2: 0.691971           \n",
      "[300]\tvalid_0's rmse: 0.840177\tvalid_0's l2: 0.705897\tvalid_1's rmse: 0.81084\tvalid_1's l2: 0.657462            \n",
      " 20%|████████                                | 40/200 [01:25<05:42,  2.14s/trial, best loss: 0.8564908048053047]"
     ]
    },
    {
     "name": "stderr",
     "output_type": "stream",
     "text": [
      "Score - 0.8666251344058024, Std - 0.03670021437573884, Eval Score - 0.8666251344058024\n",
      "Score across folds - [0.84529388940541, 0.9182674831403832, 0.8363140306716139].\n"
     ]
    },
    {
     "name": "stdout",
     "output_type": "stream",
     "text": [
      "\r",
      " 20%|████████▏                               | 41/200 [01:26<05:34,  2.11s/trial, best loss: 0.8564908048053047]"
     ]
    },
    {
     "name": "stderr",
     "output_type": "stream",
     "text": [
      "\n",
      "Iteration: 42, Training with params: {'boosting_type': 'gbdt', 'colsample_bytree': 0.8, 'learning_rate': 0.1, 'min_child_samples': 220, 'n_estimators': 10000, 'n_jobs': -1, 'num_leaves': 48, 'objective': 'regression', 'subsample': 0.6000000000000001, 'subsample_freq': 5}\n"
     ]
    },
    {
     "name": "stdout",
     "output_type": "stream",
     "text": [
      "[100]\tvalid_0's rmse: 0.847933\tvalid_0's l2: 0.71899\tvalid_1's rmse: 0.828289\tvalid_1's l2: 0.686063            \n",
      "[200]\tvalid_0's rmse: 0.850116\tvalid_0's l2: 0.722698\tvalid_1's rmse: 0.786078\tvalid_1's l2: 0.617918           \n",
      "[100]\tvalid_0's rmse: 0.92783\tvalid_0's l2: 0.860868\tvalid_1's rmse: 0.822045\tvalid_1's l2: 0.675758            \n",
      "[200]\tvalid_0's rmse: 0.927028\tvalid_0's l2: 0.859381\tvalid_1's rmse: 0.780394\tvalid_1's l2: 0.609015           \n",
      "[100]\tvalid_0's rmse: 0.849043\tvalid_0's l2: 0.720873\tvalid_1's rmse: 0.827801\tvalid_1's l2: 0.685254           \n",
      "[200]\tvalid_0's rmse: 0.834127\tvalid_0's l2: 0.695768\tvalid_1's rmse: 0.786275\tvalid_1's l2: 0.618228           \n",
      "[300]\tvalid_0's rmse: 0.833744\tvalid_0's l2: 0.69513\tvalid_1's rmse: 0.755641\tvalid_1's l2: 0.570994            \n",
      "[400]\tvalid_0's rmse: 0.835538\tvalid_0's l2: 0.698124\tvalid_1's rmse: 0.730931\tvalid_1's l2: 0.534261           \n",
      " 20%|████████▏                               | 41/200 [01:28<05:34,  2.11s/trial, best loss: 0.8564908048053047]"
     ]
    },
    {
     "name": "stderr",
     "output_type": "stream",
     "text": [
      "Score - 0.8674527146378113, Std - 0.03959904095382758, Eval Score - 0.8674527146378113\n",
      "Score across folds - [0.8464118043413668, 0.9229185381471573, 0.8330278014249098].\n"
     ]
    },
    {
     "name": "stdout",
     "output_type": "stream",
     "text": [
      "\r",
      " 21%|████████▍                               | 42/200 [01:28<05:38,  2.14s/trial, best loss: 0.8564908048053047]"
     ]
    },
    {
     "name": "stderr",
     "output_type": "stream",
     "text": [
      "\n",
      "Iteration: 43, Training with params: {'boosting_type': 'gbdt', 'colsample_bytree': 0.6000000000000001, 'learning_rate': 0.1, 'min_child_samples': 100, 'n_estimators': 10000, 'n_jobs': -1, 'num_leaves': 32, 'objective': 'regression', 'subsample': 1.0, 'subsample_freq': 5}\n"
     ]
    },
    {
     "name": "stdout",
     "output_type": "stream",
     "text": [
      "[100]\tvalid_0's rmse: 0.842268\tvalid_0's l2: 0.709415\tvalid_1's rmse: 0.806132\tvalid_1's l2: 0.649849           \n",
      "[200]\tvalid_0's rmse: 0.839987\tvalid_0's l2: 0.705578\tvalid_1's rmse: 0.761383\tvalid_1's l2: 0.579704           \n",
      "[300]\tvalid_0's rmse: 0.839331\tvalid_0's l2: 0.704476\tvalid_1's rmse: 0.729741\tvalid_1's l2: 0.532522           \n",
      "[100]\tvalid_0's rmse: 0.915706\tvalid_0's l2: 0.838518\tvalid_1's rmse: 0.79903\tvalid_1's l2: 0.638449            \n",
      "[200]\tvalid_0's rmse: 0.915767\tvalid_0's l2: 0.838629\tvalid_1's rmse: 0.754556\tvalid_1's l2: 0.569354           \n",
      "[100]\tvalid_0's rmse: 0.839669\tvalid_0's l2: 0.705044\tvalid_1's rmse: 0.806492\tvalid_1's l2: 0.65043            \n",
      "[200]\tvalid_0's rmse: 0.830258\tvalid_0's l2: 0.689328\tvalid_1's rmse: 0.76346\tvalid_1's l2: 0.582872            \n",
      "[300]\tvalid_0's rmse: 0.828796\tvalid_0's l2: 0.686902\tvalid_1's rmse: 0.732845\tvalid_1's l2: 0.537062           \n",
      " 21%|████████▍                               | 42/200 [01:30<05:38,  2.14s/trial, best loss: 0.8564908048053047]"
     ]
    },
    {
     "name": "stderr",
     "output_type": "stream",
     "text": [
      "Score - 0.8601508037432577, Std - 0.03858564326451518, Eval Score - 0.8601508037432577\n",
      "Score across folds - [0.8377453755312241, 0.9144438345014088, 0.8282632011971404].\n"
     ]
    },
    {
     "name": "stdout",
     "output_type": "stream",
     "text": [
      "\r",
      " 22%|████████▌                               | 43/200 [01:30<05:26,  2.08s/trial, best loss: 0.8564908048053047]"
     ]
    },
    {
     "name": "stderr",
     "output_type": "stream",
     "text": [
      "\n",
      "Iteration: 44, Training with params: {'boosting_type': 'gbdt', 'colsample_bytree': 0.4, 'learning_rate': 0.1, 'min_child_samples': 20, 'n_estimators': 10000, 'n_jobs': -1, 'num_leaves': 48, 'objective': 'regression', 'subsample': 0.8, 'subsample_freq': 5}\n"
     ]
    },
    {
     "name": "stdout",
     "output_type": "stream",
     "text": [
      "[100]\tvalid_0's rmse: 0.855136\tvalid_0's l2: 0.731257\tvalid_1's rmse: 0.775541\tvalid_1's l2: 0.601464           \n",
      "[200]\tvalid_0's rmse: 0.853728\tvalid_0's l2: 0.728852\tvalid_1's rmse: 0.709234\tvalid_1's l2: 0.503013           \n",
      "[100]\tvalid_0's rmse: 0.917592\tvalid_0's l2: 0.841975\tvalid_1's rmse: 0.769619\tvalid_1's l2: 0.592313           \n",
      "[200]\tvalid_0's rmse: 0.919588\tvalid_0's l2: 0.845641\tvalid_1's rmse: 0.700877\tvalid_1's l2: 0.491229           \n",
      "[100]\tvalid_0's rmse: 0.843109\tvalid_0's l2: 0.710833\tvalid_1's rmse: 0.776654\tvalid_1's l2: 0.603192           \n",
      "[200]\tvalid_0's rmse: 0.8336\tvalid_0's l2: 0.694889\tvalid_1's rmse: 0.708386\tvalid_1's l2: 0.501811             \n",
      " 22%|████████▌                               | 43/200 [01:31<05:26,  2.08s/trial, best loss: 0.8564908048053047]"
     ]
    },
    {
     "name": "stderr",
     "output_type": "stream",
     "text": [
      "Score - 0.8665339766094698, Std - 0.03588493201321267, Eval Score - 0.8665339766094698\n",
      "Score across folds - [0.8501855400824079, 0.9163151532541396, 0.8331012364918621].\n"
     ]
    },
    {
     "name": "stdout",
     "output_type": "stream",
     "text": [
      "\r",
      " 22%|████████▊                               | 44/200 [01:32<05:20,  2.06s/trial, best loss: 0.8564908048053047]"
     ]
    },
    {
     "name": "stderr",
     "output_type": "stream",
     "text": [
      "\n",
      "Iteration: 45, Training with params: {'boosting_type': 'gbdt', 'colsample_bytree': 0.6000000000000001, 'learning_rate': 0.1, 'min_child_samples': 60, 'n_estimators': 10000, 'n_jobs': -1, 'num_leaves': 32, 'objective': 'regression', 'subsample': 0.6000000000000001, 'subsample_freq': 5}\n"
     ]
    },
    {
     "name": "stdout",
     "output_type": "stream",
     "text": [
      "[100]\tvalid_0's rmse: 0.848415\tvalid_0's l2: 0.719808\tvalid_1's rmse: 0.805046\tvalid_1's l2: 0.6481             \n",
      "[200]\tvalid_0's rmse: 0.847284\tvalid_0's l2: 0.717891\tvalid_1's rmse: 0.757451\tvalid_1's l2: 0.573733           \n",
      "[100]\tvalid_0's rmse: 0.921856\tvalid_0's l2: 0.849818\tvalid_1's rmse: 0.799351\tvalid_1's l2: 0.638961           \n",
      "[200]\tvalid_0's rmse: 0.922761\tvalid_0's l2: 0.851489\tvalid_1's rmse: 0.751225\tvalid_1's l2: 0.564339           \n",
      "[100]\tvalid_0's rmse: 0.839959\tvalid_0's l2: 0.705532\tvalid_1's rmse: 0.804877\tvalid_1's l2: 0.647827           \n",
      "[200]\tvalid_0's rmse: 0.830678\tvalid_0's l2: 0.690026\tvalid_1's rmse: 0.75583\tvalid_1's l2: 0.571279            \n",
      "[300]\tvalid_0's rmse: 0.837141\tvalid_0's l2: 0.700804\tvalid_1's rmse: 0.719396\tvalid_1's l2: 0.51753            \n",
      " 22%|████████▊                               | 44/200 [01:33<05:20,  2.06s/trial, best loss: 0.8564908048053047]"
     ]
    },
    {
     "name": "stderr",
     "output_type": "stream",
     "text": [
      "Score - 0.8643916955458629, Std - 0.03959005234783541, Eval Score - 0.8643916955458629\n",
      "Score across folds - [0.8436670600528015, 0.9197976086208787, 0.8297104179639084].\n"
     ]
    },
    {
     "name": "stdout",
     "output_type": "stream",
     "text": [
      "\r",
      " 22%|█████████                               | 45/200 [01:33<05:02,  1.95s/trial, best loss: 0.8564908048053047]"
     ]
    },
    {
     "name": "stderr",
     "output_type": "stream",
     "text": [
      "\n",
      "Iteration: 46, Training with params: {'boosting_type': 'gbdt', 'colsample_bytree': 1.0, 'learning_rate': 0.1, 'min_child_samples': 120, 'n_estimators': 10000, 'n_jobs': -1, 'num_leaves': 16, 'objective': 'regression', 'subsample': 0.8, 'subsample_freq': 5}\n"
     ]
    },
    {
     "name": "stdout",
     "output_type": "stream",
     "text": [
      "[100]\tvalid_0's rmse: 0.843911\tvalid_0's l2: 0.712185\tvalid_1's rmse: 0.844144\tvalid_1's l2: 0.712579           \n",
      "[200]\tvalid_0's rmse: 0.838148\tvalid_0's l2: 0.702492\tvalid_1's rmse: 0.80878\tvalid_1's l2: 0.654124            \n",
      "[300]\tvalid_0's rmse: 0.838746\tvalid_0's l2: 0.703494\tvalid_1's rmse: 0.785427\tvalid_1's l2: 0.616896           \n",
      "[100]\tvalid_0's rmse: 0.925827\tvalid_0's l2: 0.857156\tvalid_1's rmse: 0.838191\tvalid_1's l2: 0.702564           \n",
      "[200]\tvalid_0's rmse: 0.922552\tvalid_0's l2: 0.851103\tvalid_1's rmse: 0.802439\tvalid_1's l2: 0.643908           \n",
      "[100]\tvalid_0's rmse: 0.849048\tvalid_0's l2: 0.720882\tvalid_1's rmse: 0.844124\tvalid_1's l2: 0.712544           \n",
      "[200]\tvalid_0's rmse: 0.828723\tvalid_0's l2: 0.686782\tvalid_1's rmse: 0.808638\tvalid_1's l2: 0.653895           \n",
      "[300]\tvalid_0's rmse: 0.828319\tvalid_0's l2: 0.686112\tvalid_1's rmse: 0.786189\tvalid_1's l2: 0.618093           \n",
      "[400]\tvalid_0's rmse: 0.827283\tvalid_0's l2: 0.684397\tvalid_1's rmse: 0.766449\tvalid_1's l2: 0.587444           \n",
      " 22%|█████████                               | 45/200 [01:35<05:02,  1.95s/trial, best loss: 0.8564908048053047]"
     ]
    },
    {
     "name": "stderr",
     "output_type": "stream",
     "text": [
      "Score - 0.8608636202815401, Std - 0.04193447972321531, Eval Score - 0.8608636202815401\n",
      "Score across folds - [0.836444950496827, 0.9198762382739527, 0.8262696720738407].\n"
     ]
    },
    {
     "name": "stdout",
     "output_type": "stream",
     "text": [
      "\r",
      " 23%|█████████▏                              | 46/200 [01:35<04:49,  1.88s/trial, best loss: 0.8564908048053047]"
     ]
    },
    {
     "name": "stderr",
     "output_type": "stream",
     "text": [
      "\n",
      "Iteration: 47, Training with params: {'boosting_type': 'gbdt', 'colsample_bytree': 0.6000000000000001, 'learning_rate': 0.1, 'min_child_samples': 140, 'n_estimators': 10000, 'n_jobs': -1, 'num_leaves': 32, 'objective': 'regression', 'subsample': 1.0, 'subsample_freq': 5}\n"
     ]
    },
    {
     "name": "stdout",
     "output_type": "stream",
     "text": [
      "[100]\tvalid_0's rmse: 0.841427\tvalid_0's l2: 0.708\tvalid_1's rmse: 0.810873\tvalid_1's l2: 0.657515              \n",
      "[200]\tvalid_0's rmse: 0.840206\tvalid_0's l2: 0.705946\tvalid_1's rmse: 0.77006\tvalid_1's l2: 0.592992            \n",
      "[100]\tvalid_0's rmse: 0.915575\tvalid_0's l2: 0.838278\tvalid_1's rmse: 0.803546\tvalid_1's l2: 0.645687           \n",
      "[200]\tvalid_0's rmse: 0.915856\tvalid_0's l2: 0.838791\tvalid_1's rmse: 0.763992\tvalid_1's l2: 0.583684           \n",
      "[100]\tvalid_0's rmse: 0.837809\tvalid_0's l2: 0.701924\tvalid_1's rmse: 0.809899\tvalid_1's l2: 0.655936           \n",
      "[200]\tvalid_0's rmse: 0.830268\tvalid_0's l2: 0.689345\tvalid_1's rmse: 0.770113\tvalid_1's l2: 0.593074           \n",
      "[300]\tvalid_0's rmse: 0.828895\tvalid_0's l2: 0.687067\tvalid_1's rmse: 0.740993\tvalid_1's l2: 0.549071           \n",
      "[400]\tvalid_0's rmse: 0.829515\tvalid_0's l2: 0.688095\tvalid_1's rmse: 0.716926\tvalid_1's l2: 0.513982           \n",
      " 23%|█████████▏                              | 46/200 [01:37<04:49,  1.88s/trial, best loss: 0.8564908048053047]"
     ]
    },
    {
     "name": "stderr",
     "output_type": "stream",
     "text": [
      "Score - 0.8607425567722385, Std - 0.03799489865026728, Eval Score - 0.8607425567722385\n",
      "Score across folds - [0.8397238027459217, 0.9140780644716031, 0.8284258030991906].\n"
     ]
    },
    {
     "name": "stdout",
     "output_type": "stream",
     "text": [
      "\r",
      " 24%|█████████▍                              | 47/200 [01:37<04:54,  1.92s/trial, best loss: 0.8564908048053047]"
     ]
    },
    {
     "name": "stderr",
     "output_type": "stream",
     "text": [
      "\n",
      "Iteration: 48, Training with params: {'boosting_type': 'gbdt', 'colsample_bytree': 0.4, 'learning_rate': 0.1, 'min_child_samples': 80, 'n_estimators': 10000, 'n_jobs': -1, 'num_leaves': 48, 'objective': 'regression', 'subsample': 0.4, 'subsample_freq': 5}\n"
     ]
    },
    {
     "name": "stdout",
     "output_type": "stream",
     "text": [
      "[100]\tvalid_0's rmse: 0.85719\tvalid_0's l2: 0.734775\tvalid_1's rmse: 0.819985\tvalid_1's l2: 0.672376            \n",
      "[200]\tvalid_0's rmse: 0.852373\tvalid_0's l2: 0.72654\tvalid_1's rmse: 0.775681\tvalid_1's l2: 0.601681            \n",
      "[300]\tvalid_0's rmse: 0.855476\tvalid_0's l2: 0.73184\tvalid_1's rmse: 0.743688\tvalid_1's l2: 0.553071            \n",
      "[100]\tvalid_0's rmse: 0.925105\tvalid_0's l2: 0.855819\tvalid_1's rmse: 0.817455\tvalid_1's l2: 0.668233           \n",
      "[200]\tvalid_0's rmse: 0.915777\tvalid_0's l2: 0.838648\tvalid_1's rmse: 0.772856\tvalid_1's l2: 0.597306           \n",
      "[300]\tvalid_0's rmse: 0.917102\tvalid_0's l2: 0.841075\tvalid_1's rmse: 0.741137\tvalid_1's l2: 0.549284           \n",
      "[100]\tvalid_0's rmse: 0.84142\tvalid_0's l2: 0.707988\tvalid_1's rmse: 0.819089\tvalid_1's l2: 0.670907            \n",
      "[200]\tvalid_0's rmse: 0.83313\tvalid_0's l2: 0.694105\tvalid_1's rmse: 0.776171\tvalid_1's l2: 0.602441            \n",
      "[300]\tvalid_0's rmse: 0.835494\tvalid_0's l2: 0.698051\tvalid_1's rmse: 0.74349\tvalid_1's l2: 0.552778            \n",
      " 24%|█████████▍                              | 47/200 [01:39<04:54,  1.92s/trial, best loss: 0.8564908048053047]"
     ]
    },
    {
     "name": "stderr",
     "output_type": "stream",
     "text": [
      "Score - 0.8656644367371046, Std - 0.03470302354986437, Eval Score - 0.8656644367371046\n",
      "Score across folds - [0.8513845156777433, 0.9134678041107459, 0.8321409904228245].\n"
     ]
    },
    {
     "name": "stdout",
     "output_type": "stream",
     "text": [
      "\r",
      " 24%|█████████▌                              | 48/200 [01:40<05:18,  2.09s/trial, best loss: 0.8564908048053047]"
     ]
    },
    {
     "name": "stderr",
     "output_type": "stream",
     "text": [
      "\n",
      "Iteration: 49, Training with params: {'boosting_type': 'gbdt', 'colsample_bytree': 0.6000000000000001, 'learning_rate': 0.1, 'min_child_samples': 200, 'n_estimators': 10000, 'n_jobs': -1, 'num_leaves': 32, 'objective': 'regression', 'subsample': 0.8, 'subsample_freq': 5}\n"
     ]
    },
    {
     "name": "stdout",
     "output_type": "stream",
     "text": [
      "[100]\tvalid_0's rmse: 0.841935\tvalid_0's l2: 0.708855\tvalid_1's rmse: 0.82232\tvalid_1's l2: 0.676211            \n",
      "[200]\tvalid_0's rmse: 0.842563\tvalid_0's l2: 0.709912\tvalid_1's rmse: 0.781124\tvalid_1's l2: 0.610155           \n",
      "[100]\tvalid_0's rmse: 0.921186\tvalid_0's l2: 0.848584\tvalid_1's rmse: 0.816437\tvalid_1's l2: 0.66657            \n",
      "[200]\tvalid_0's rmse: 0.918344\tvalid_0's l2: 0.843356\tvalid_1's rmse: 0.774475\tvalid_1's l2: 0.599811           \n",
      "[100]\tvalid_0's rmse: 0.84125\tvalid_0's l2: 0.707702\tvalid_1's rmse: 0.820491\tvalid_1's l2: 0.673205            \n",
      "[200]\tvalid_0's rmse: 0.831529\tvalid_0's l2: 0.69144\tvalid_1's rmse: 0.779827\tvalid_1's l2: 0.60813             \n",
      "[300]\tvalid_0's rmse: 0.831509\tvalid_0's l2: 0.691407\tvalid_1's rmse: 0.750785\tvalid_1's l2: 0.563678           \n",
      " 24%|█████████▌                              | 48/200 [01:42<05:18,  2.09s/trial, best loss: 0.8564908048053047]"
     ]
    },
    {
     "name": "stderr",
     "output_type": "stream",
     "text": [
      "Score - 0.8620129759231222, Std - 0.03926064048301367, Eval Score - 0.8620129759231222\n",
      "Score across folds - [0.8381128826783754, 0.9173644740635496, 0.8305615710274419].\n"
     ]
    },
    {
     "name": "stdout",
     "output_type": "stream",
     "text": [
      "\r",
      " 24%|█████████▊                              | 49/200 [01:42<05:26,  2.16s/trial, best loss: 0.8564908048053047]"
     ]
    },
    {
     "name": "stderr",
     "output_type": "stream",
     "text": [
      "\n",
      "Iteration: 50, Training with params: {'boosting_type': 'gbdt', 'colsample_bytree': 0.8, 'learning_rate': 0.1, 'min_child_samples': 100, 'n_estimators': 10000, 'n_jobs': -1, 'num_leaves': 48, 'objective': 'regression', 'subsample': 1.0, 'subsample_freq': 5}\n"
     ]
    },
    {
     "name": "stdout",
     "output_type": "stream",
     "text": [
      "[100]\tvalid_0's rmse: 0.841844\tvalid_0's l2: 0.708701\tvalid_1's rmse: 0.771918\tvalid_1's l2: 0.595857           \n",
      "[200]\tvalid_0's rmse: 0.842488\tvalid_0's l2: 0.709787\tvalid_1's rmse: 0.715385\tvalid_1's l2: 0.511776           \n",
      "[100]\tvalid_0's rmse: 0.921753\tvalid_0's l2: 0.849628\tvalid_1's rmse: 0.767561\tvalid_1's l2: 0.58915            \n",
      "[100]\tvalid_0's rmse: 0.833494\tvalid_0's l2: 0.694712\tvalid_1's rmse: 0.771033\tvalid_1's l2: 0.594492           \n",
      "[200]\tvalid_0's rmse: 0.828026\tvalid_0's l2: 0.685627\tvalid_1's rmse: 0.714591\tvalid_1's l2: 0.51064            \n",
      " 24%|█████████▊                              | 49/200 [01:44<05:26,  2.16s/trial, best loss: 0.8564908048053047]"
     ]
    },
    {
     "name": "stderr",
     "output_type": "stream",
     "text": [
      "Score - 0.8619282400005303, Std - 0.04043661229112854, Eval Score - 0.8619282400005303\n",
      "Score across folds - [0.8398915592187226, 0.9186463390939164, 0.8272468216889518].\n"
     ]
    },
    {
     "name": "stdout",
     "output_type": "stream",
     "text": [
      "\r",
      " 25%|██████████                              | 50/200 [01:44<05:08,  2.06s/trial, best loss: 0.8564908048053047]"
     ]
    },
    {
     "name": "stderr",
     "output_type": "stream",
     "text": [
      "\n",
      "Iteration: 51, Training with params: {'boosting_type': 'gbdt', 'colsample_bytree': 0.4, 'learning_rate': 0.1, 'min_child_samples': 180, 'n_estimators': 10000, 'n_jobs': -1, 'num_leaves': 32, 'objective': 'regression', 'subsample': 0.8, 'subsample_freq': 5}\n"
     ]
    },
    {
     "name": "stdout",
     "output_type": "stream",
     "text": [
      "[100]\tvalid_0's rmse: 0.850187\tvalid_0's l2: 0.722818\tvalid_1's rmse: 0.837378\tvalid_1's l2: 0.701201           \n",
      "[200]\tvalid_0's rmse: 0.844357\tvalid_0's l2: 0.712938\tvalid_1's rmse: 0.798446\tvalid_1's l2: 0.637517           \n",
      "[300]\tvalid_0's rmse: 0.844203\tvalid_0's l2: 0.712679\tvalid_1's rmse: 0.772468\tvalid_1's l2: 0.596707           \n",
      "[100]\tvalid_0's rmse: 0.91769\tvalid_0's l2: 0.842155\tvalid_1's rmse: 0.831105\tvalid_1's l2: 0.690735            \n",
      "[200]\tvalid_0's rmse: 0.911513\tvalid_0's l2: 0.830856\tvalid_1's rmse: 0.791544\tvalid_1's l2: 0.626541           \n",
      "[300]\tvalid_0's rmse: 0.914578\tvalid_0's l2: 0.836452\tvalid_1's rmse: 0.766146\tvalid_1's l2: 0.58698            \n",
      "[100]\tvalid_0's rmse: 0.845217\tvalid_0's l2: 0.714392\tvalid_1's rmse: 0.834281\tvalid_1's l2: 0.696024           \n",
      "[200]\tvalid_0's rmse: 0.829265\tvalid_0's l2: 0.68768\tvalid_1's rmse: 0.796823\tvalid_1's l2: 0.634927            \n",
      "[300]\tvalid_0's rmse: 0.827579\tvalid_0's l2: 0.684887\tvalid_1's rmse: 0.771259\tvalid_1's l2: 0.59484            \n",
      " 25%|██████████                              | 50/200 [01:46<05:08,  2.06s/trial, best loss: 0.8564908048053047]"
     ]
    },
    {
     "name": "stderr",
     "output_type": "stream",
     "text": [
      "Score - 0.8604876783340396, Std - 0.036565248528615195, Eval Score - 0.8604876783340396\n",
      "Score across folds - [0.843171817790253, 0.9113433198016861, 0.8269478974101798].\n"
     ]
    },
    {
     "name": "stdout",
     "output_type": "stream",
     "text": [
      "\r",
      " 26%|██████████▏                             | 51/200 [01:46<05:16,  2.13s/trial, best loss: 0.8564908048053047]"
     ]
    },
    {
     "name": "stderr",
     "output_type": "stream",
     "text": [
      "\n",
      "Iteration: 52, Training with params: {'boosting_type': 'gbdt', 'colsample_bytree': 0.6000000000000001, 'learning_rate': 0.1, 'min_child_samples': 200, 'n_estimators': 10000, 'n_jobs': -1, 'num_leaves': 48, 'objective': 'regression', 'subsample': 1.0, 'subsample_freq': 5}\n"
     ]
    },
    {
     "name": "stdout",
     "output_type": "stream",
     "text": [
      "[100]\tvalid_0's rmse: 0.843305\tvalid_0's l2: 0.711162\tvalid_1's rmse: 0.794902\tvalid_1's l2: 0.63187            \n",
      "[200]\tvalid_0's rmse: 0.844304\tvalid_0's l2: 0.712849\tvalid_1's rmse: 0.745871\tvalid_1's l2: 0.556323           \n",
      "[100]\tvalid_0's rmse: 0.914412\tvalid_0's l2: 0.83615\tvalid_1's rmse: 0.788861\tvalid_1's l2: 0.622302            \n",
      "[200]\tvalid_0's rmse: 0.912994\tvalid_0's l2: 0.833558\tvalid_1's rmse: 0.738825\tvalid_1's l2: 0.545862           \n",
      "[100]\tvalid_0's rmse: 0.83549\tvalid_0's l2: 0.698044\tvalid_1's rmse: 0.794576\tvalid_1's l2: 0.631351            \n",
      "[200]\tvalid_0's rmse: 0.826229\tvalid_0's l2: 0.682654\tvalid_1's rmse: 0.745136\tvalid_1's l2: 0.555228           \n",
      "[300]\tvalid_0's rmse: 0.827994\tvalid_0's l2: 0.685574\tvalid_1's rmse: 0.710148\tvalid_1's l2: 0.50431            \n",
      " 26%|██████████▏                             | 51/200 [01:49<05:16,  2.13s/trial, best loss: 0.8564908048053047]"
     ]
    },
    {
     "name": "stderr",
     "output_type": "stream",
     "text": [
      "Score - 0.8598048031119735, Std - 0.03738764516296402, Eval Score - 0.8598048031119735\n",
      "Score across folds - [0.8415314498771617, 0.9119102758192678, 0.8259726836394911].\n"
     ]
    },
    {
     "name": "stdout",
     "output_type": "stream",
     "text": [
      "\r",
      " 26%|██████████▍                             | 52/200 [01:49<05:48,  2.35s/trial, best loss: 0.8564908048053047]"
     ]
    },
    {
     "name": "stderr",
     "output_type": "stream",
     "text": [
      "\n",
      "Iteration: 53, Training with params: {'boosting_type': 'gbdt', 'colsample_bytree': 0.4, 'learning_rate': 0.1, 'min_child_samples': 220, 'n_estimators': 10000, 'n_jobs': -1, 'num_leaves': 16, 'objective': 'regression', 'subsample': 0.6000000000000001, 'subsample_freq': 5}\n"
     ]
    },
    {
     "name": "stdout",
     "output_type": "stream",
     "text": [
      "[100]\tvalid_0's rmse: 0.861708\tvalid_0's l2: 0.74254\tvalid_1's rmse: 0.873527\tvalid_1's l2: 0.76305             \n",
      "[200]\tvalid_0's rmse: 0.847207\tvalid_0's l2: 0.71776\tvalid_1's rmse: 0.844078\tvalid_1's l2: 0.712468            \n",
      "[300]\tvalid_0's rmse: 0.845447\tvalid_0's l2: 0.714781\tvalid_1's rmse: 0.826578\tvalid_1's l2: 0.683232           \n",
      "[400]\tvalid_0's rmse: 0.844967\tvalid_0's l2: 0.713969\tvalid_1's rmse: 0.812872\tvalid_1's l2: 0.660761           \n",
      "[100]\tvalid_0's rmse: 0.930098\tvalid_0's l2: 0.865082\tvalid_1's rmse: 0.867734\tvalid_1's l2: 0.752962           \n",
      "[200]\tvalid_0's rmse: 0.919278\tvalid_0's l2: 0.845071\tvalid_1's rmse: 0.838348\tvalid_1's l2: 0.702827           \n",
      "[300]\tvalid_0's rmse: 0.916807\tvalid_0's l2: 0.840535\tvalid_1's rmse: 0.821761\tvalid_1's l2: 0.675291           \n",
      "[100]\tvalid_0's rmse: 0.857929\tvalid_0's l2: 0.736042\tvalid_1's rmse: 0.871399\tvalid_1's l2: 0.759336           \n",
      "[200]\tvalid_0's rmse: 0.839461\tvalid_0's l2: 0.704694\tvalid_1's rmse: 0.844051\tvalid_1's l2: 0.712422           \n",
      "[300]\tvalid_0's rmse: 0.833246\tvalid_0's l2: 0.694299\tvalid_1's rmse: 0.826716\tvalid_1's l2: 0.683459           \n",
      "[400]\tvalid_0's rmse: 0.833289\tvalid_0's l2: 0.69437\tvalid_1's rmse: 0.813929\tvalid_1's l2: 0.66248             \n",
      " 26%|██████████▍                             | 52/200 [01:52<05:48,  2.35s/trial, best loss: 0.8564908048053047]"
     ]
    },
    {
     "name": "stderr",
     "output_type": "stream",
     "text": [
      "Score - 0.863997454850578, Std - 0.03735789019863374, Eval Score - 0.863997454850578\n",
      "Score across folds - [0.8434886359655126, 0.9164177177896836, 0.8320860107965378].\n"
     ]
    },
    {
     "name": "stdout",
     "output_type": "stream",
     "text": [
      "\r",
      " 26%|██████████▌                             | 53/200 [01:52<06:06,  2.49s/trial, best loss: 0.8564908048053047]"
     ]
    },
    {
     "name": "stderr",
     "output_type": "stream",
     "text": [
      "\n",
      "Iteration: 54, Training with params: {'boosting_type': 'gbdt', 'colsample_bytree': 0.8, 'learning_rate': 0.1, 'min_child_samples': 160, 'n_estimators': 10000, 'n_jobs': -1, 'num_leaves': 32, 'objective': 'regression', 'subsample': 1.0, 'subsample_freq': 5}\n"
     ]
    },
    {
     "name": "stdout",
     "output_type": "stream",
     "text": [
      "[100]\tvalid_0's rmse: 0.843571\tvalid_0's l2: 0.711612\tvalid_1's rmse: 0.809102\tvalid_1's l2: 0.654647           \n",
      "[200]\tvalid_0's rmse: 0.847212\tvalid_0's l2: 0.717768\tvalid_1's rmse: 0.766383\tvalid_1's l2: 0.587343           \n",
      "[100]\tvalid_0's rmse: 0.916792\tvalid_0's l2: 0.840508\tvalid_1's rmse: 0.803155\tvalid_1's l2: 0.645058           \n",
      "[200]\tvalid_0's rmse: 0.916528\tvalid_0's l2: 0.840023\tvalid_1's rmse: 0.762493\tvalid_1's l2: 0.581396           \n",
      "[100]\tvalid_0's rmse: 0.831665\tvalid_0's l2: 0.691667\tvalid_1's rmse: 0.807547\tvalid_1's l2: 0.652133           \n",
      "[200]\tvalid_0's rmse: 0.823911\tvalid_0's l2: 0.67883\tvalid_1's rmse: 0.76807\tvalid_1's l2: 0.589931             \n",
      "[300]\tvalid_0's rmse: 0.823801\tvalid_0's l2: 0.678649\tvalid_1's rmse: 0.738499\tvalid_1's l2: 0.545381           \n",
      " 26%|██████████▌                             | 53/200 [01:53<06:06,  2.49s/trial, best loss: 0.8564908048053047]"
     ]
    },
    {
     "name": "stderr",
     "output_type": "stream",
     "text": [
      "Score - 0.8598642008585676, Std - 0.03924111409713788, Eval Score - 0.8598642008585676\n",
      "Score across folds - [0.8431225218291646, 0.9140562657042687, 0.8224138150422698].\n"
     ]
    },
    {
     "name": "stdout",
     "output_type": "stream",
     "text": [
      "\r",
      " 27%|██████████▊                             | 54/200 [01:53<05:30,  2.27s/trial, best loss: 0.8564908048053047]"
     ]
    },
    {
     "name": "stderr",
     "output_type": "stream",
     "text": [
      "\n",
      "Iteration: 55, Training with params: {'boosting_type': 'gbdt', 'colsample_bytree': 0.6000000000000001, 'learning_rate': 0.1, 'min_child_samples': 60, 'n_estimators': 10000, 'n_jobs': -1, 'num_leaves': 48, 'objective': 'regression', 'subsample': 1.0, 'subsample_freq': 5}\n"
     ]
    },
    {
     "name": "stdout",
     "output_type": "stream",
     "text": [
      "[100]\tvalid_0's rmse: 0.842627\tvalid_0's l2: 0.710021\tvalid_1's rmse: 0.767035\tvalid_1's l2: 0.588342           \n",
      "[200]\tvalid_0's rmse: 0.843155\tvalid_0's l2: 0.71091\tvalid_1's rmse: 0.708632\tvalid_1's l2: 0.50216             \n",
      "[100]\tvalid_0's rmse: 0.922346\tvalid_0's l2: 0.850722\tvalid_1's rmse: 0.762522\tvalid_1's l2: 0.58144            \n",
      "[200]\tvalid_0's rmse: 0.922261\tvalid_0's l2: 0.850565\tvalid_1's rmse: 0.70314\tvalid_1's l2: 0.494405            \n",
      "[100]\tvalid_0's rmse: 0.834026\tvalid_0's l2: 0.6956\tvalid_1's rmse: 0.767974\tvalid_1's l2: 0.589785             \n",
      "[200]\tvalid_0's rmse: 0.831902\tvalid_0's l2: 0.692062\tvalid_1's rmse: 0.707646\tvalid_1's l2: 0.500763           \n",
      " 27%|██████████▊                             | 54/200 [01:55<05:30,  2.27s/trial, best loss: 0.8564908048053047]"
     ]
    },
    {
     "name": "stderr",
     "output_type": "stream",
     "text": [
      "Score - 0.8641657012009304, Std - 0.0405575291398564, Eval Score - 0.8641657012009304\n",
      "Score across folds - [0.8413790773294826, 0.9211435180072933, 0.8299745082660149].\n"
     ]
    },
    {
     "name": "stdout",
     "output_type": "stream",
     "text": [
      "\r",
      " 28%|███████████                             | 55/200 [01:55<05:09,  2.14s/trial, best loss: 0.8564908048053047]"
     ]
    },
    {
     "name": "stderr",
     "output_type": "stream",
     "text": [
      "\n",
      "Iteration: 56, Training with params: {'boosting_type': 'gbdt', 'colsample_bytree': 1.0, 'learning_rate': 0.1, 'min_child_samples': 120, 'n_estimators': 10000, 'n_jobs': -1, 'num_leaves': 32, 'objective': 'regression', 'subsample': 0.4, 'subsample_freq': 5}\n"
     ]
    },
    {
     "name": "stdout",
     "output_type": "stream",
     "text": [
      "[100]\tvalid_0's rmse: 0.851717\tvalid_0's l2: 0.725422\tvalid_1's rmse: 0.828552\tvalid_1's l2: 0.686499           \n",
      "[200]\tvalid_0's rmse: 0.849657\tvalid_0's l2: 0.721917\tvalid_1's rmse: 0.788797\tvalid_1's l2: 0.6222             \n",
      "[100]\tvalid_0's rmse: 0.935581\tvalid_0's l2: 0.875311\tvalid_1's rmse: 0.819368\tvalid_1's l2: 0.671364           \n",
      "[200]\tvalid_0's rmse: 0.928694\tvalid_0's l2: 0.862472\tvalid_1's rmse: 0.778948\tvalid_1's l2: 0.606761           \n",
      "[100]\tvalid_0's rmse: 0.857017\tvalid_0's l2: 0.734478\tvalid_1's rmse: 0.825327\tvalid_1's l2: 0.681165           \n",
      "[200]\tvalid_0's rmse: 0.844242\tvalid_0's l2: 0.712745\tvalid_1's rmse: 0.783898\tvalid_1's l2: 0.614496           \n",
      "[300]\tvalid_0's rmse: 0.85167\tvalid_0's l2: 0.725341\tvalid_1's rmse: 0.75422\tvalid_1's l2: 0.568847             \n",
      " 28%|███████████                             | 55/200 [01:57<05:09,  2.14s/trial, best loss: 0.8564908048053047]"
     ]
    },
    {
     "name": "stderr",
     "output_type": "stream",
     "text": [
      "Score - 0.8712131367849115, Std - 0.03791014160672902, Eval Score - 0.8712131367849115\n",
      "Score across folds - [0.8448010605915173, 0.9248242479335056, 0.8440141018297119].\n"
     ]
    },
    {
     "name": "stdout",
     "output_type": "stream",
     "text": [
      "\r",
      " 28%|███████████▏                            | 56/200 [01:57<04:51,  2.02s/trial, best loss: 0.8564908048053047]"
     ]
    },
    {
     "name": "stderr",
     "output_type": "stream",
     "text": [
      "\n",
      "Iteration: 57, Training with params: {'boosting_type': 'gbdt', 'colsample_bytree': 0.4, 'learning_rate': 0.1, 'min_child_samples': 140, 'n_estimators': 10000, 'n_jobs': -1, 'num_leaves': 48, 'objective': 'regression', 'subsample': 0.8, 'subsample_freq': 5}\n"
     ]
    },
    {
     "name": "stdout",
     "output_type": "stream",
     "text": [
      "[100]\tvalid_0's rmse: 0.844357\tvalid_0's l2: 0.712939\tvalid_1's rmse: 0.813817\tvalid_1's l2: 0.662299           \n",
      "[200]\tvalid_0's rmse: 0.841434\tvalid_0's l2: 0.708011\tvalid_1's rmse: 0.767328\tvalid_1's l2: 0.588793           \n",
      "[100]\tvalid_0's rmse: 0.913144\tvalid_0's l2: 0.833832\tvalid_1's rmse: 0.807415\tvalid_1's l2: 0.651919           \n",
      "[200]\tvalid_0's rmse: 0.914063\tvalid_0's l2: 0.835511\tvalid_1's rmse: 0.760782\tvalid_1's l2: 0.578789           \n",
      "[100]\tvalid_0's rmse: 0.839251\tvalid_0's l2: 0.704342\tvalid_1's rmse: 0.812731\tvalid_1's l2: 0.660532           \n",
      "[200]\tvalid_0's rmse: 0.826474\tvalid_0's l2: 0.683059\tvalid_1's rmse: 0.766513\tvalid_1's l2: 0.587541           \n",
      "[300]\tvalid_0's rmse: 0.82704\tvalid_0's l2: 0.683994\tvalid_1's rmse: 0.732628\tvalid_1's l2: 0.536743            \n",
      " 28%|███████████▏                            | 56/200 [01:59<04:51,  2.02s/trial, best loss: 0.8564908048053047]"
     ]
    },
    {
     "name": "stderr",
     "output_type": "stream",
     "text": [
      "Score - 0.8590098980057639, Std - 0.03680015624808505, Eval Score - 0.8590098980057639\n",
      "Score across folds - [0.8410527849176831, 0.910291336449051, 0.8256855726505575].\n"
     ]
    },
    {
     "name": "stdout",
     "output_type": "stream",
     "text": [
      "\r",
      " 28%|███████████▍                            | 57/200 [01:59<05:03,  2.12s/trial, best loss: 0.8564908048053047]"
     ]
    },
    {
     "name": "stderr",
     "output_type": "stream",
     "text": [
      "\n",
      "Iteration: 58, Training with params: {'boosting_type': 'gbdt', 'colsample_bytree': 0.6000000000000001, 'learning_rate': 0.1, 'min_child_samples': 180, 'n_estimators': 10000, 'n_jobs': -1, 'num_leaves': 48, 'objective': 'regression', 'subsample': 1.0, 'subsample_freq': 5}\n"
     ]
    },
    {
     "name": "stdout",
     "output_type": "stream",
     "text": [
      "[100]\tvalid_0's rmse: 0.842994\tvalid_0's l2: 0.710639\tvalid_1's rmse: 0.79144\tvalid_1's l2: 0.626378            \n",
      "[200]\tvalid_0's rmse: 0.848902\tvalid_0's l2: 0.720635\tvalid_1's rmse: 0.741194\tvalid_1's l2: 0.549368           \n",
      "[100]\tvalid_0's rmse: 0.920255\tvalid_0's l2: 0.846869\tvalid_1's rmse: 0.784857\tvalid_1's l2: 0.616              \n",
      "[200]\tvalid_0's rmse: 0.922027\tvalid_0's l2: 0.850133\tvalid_1's rmse: 0.736073\tvalid_1's l2: 0.541804           \n",
      "[100]\tvalid_0's rmse: 0.831794\tvalid_0's l2: 0.691882\tvalid_1's rmse: 0.791142\tvalid_1's l2: 0.625906           \n",
      "[200]\tvalid_0's rmse: 0.826088\tvalid_0's l2: 0.682422\tvalid_1's rmse: 0.741562\tvalid_1's l2: 0.549914           \n",
      "[300]\tvalid_0's rmse: 0.826099\tvalid_0's l2: 0.682439\tvalid_1's rmse: 0.706058\tvalid_1's l2: 0.498519           \n",
      " 28%|███████████▍                            | 57/200 [02:01<05:03,  2.12s/trial, best loss: 0.8564908048053047]"
     ]
    },
    {
     "name": "stderr",
     "output_type": "stream",
     "text": [
      "Score - 0.8618540856668281, Std - 0.04095200518168178, Eval Score - 0.8618540856668281\n",
      "Score across folds - [0.8428654584085393, 0.918731667637604, 0.8239651309543409].\n"
     ]
    },
    {
     "name": "stdout",
     "output_type": "stream",
     "text": [
      "\r",
      " 29%|███████████▌                            | 58/200 [02:02<05:03,  2.14s/trial, best loss: 0.8564908048053047]"
     ]
    },
    {
     "name": "stderr",
     "output_type": "stream",
     "text": [
      "\n",
      "Iteration: 59, Training with params: {'boosting_type': 'gbdt', 'colsample_bytree': 0.4, 'learning_rate': 0.1, 'min_child_samples': 160, 'n_estimators': 10000, 'n_jobs': -1, 'num_leaves': 32, 'objective': 'regression', 'subsample': 0.8, 'subsample_freq': 5}\n"
     ]
    },
    {
     "name": "stdout",
     "output_type": "stream",
     "text": [
      "[100]\tvalid_0's rmse: 0.848423\tvalid_0's l2: 0.719822\tvalid_1's rmse: 0.834551\tvalid_1's l2: 0.696476           \n",
      "[200]\tvalid_0's rmse: 0.840951\tvalid_0's l2: 0.707199\tvalid_1's rmse: 0.79509\tvalid_1's l2: 0.632168            \n",
      "[300]\tvalid_0's rmse: 0.841787\tvalid_0's l2: 0.708606\tvalid_1's rmse: 0.768635\tvalid_1's l2: 0.590799           \n",
      "[100]\tvalid_0's rmse: 0.918654\tvalid_0's l2: 0.843925\tvalid_1's rmse: 0.827588\tvalid_1's l2: 0.684902           \n",
      "[200]\tvalid_0's rmse: 0.914432\tvalid_0's l2: 0.836185\tvalid_1's rmse: 0.78851\tvalid_1's l2: 0.621748            \n",
      "[100]\tvalid_0's rmse: 0.842318\tvalid_0's l2: 0.709499\tvalid_1's rmse: 0.832\tvalid_1's l2: 0.692225              \n",
      "[200]\tvalid_0's rmse: 0.828148\tvalid_0's l2: 0.685828\tvalid_1's rmse: 0.794016\tvalid_1's l2: 0.630461           \n",
      "[300]\tvalid_0's rmse: 0.827602\tvalid_0's l2: 0.684925\tvalid_1's rmse: 0.768099\tvalid_1's l2: 0.589976           \n",
      " 29%|███████████▌                            | 58/200 [02:04<05:03,  2.14s/trial, best loss: 0.8564908048053047]"
     ]
    },
    {
     "name": "stderr",
     "output_type": "stream",
     "text": [
      "Score - 0.8595837353250165, Std - 0.037825827182517015, Eval Score - 0.8595837353250165\n",
      "Score across folds - [0.8400431229245053, 0.9124795925747625, 0.8262284904757816].\n"
     ]
    },
    {
     "name": "stdout",
     "output_type": "stream",
     "text": [
      "\r",
      " 30%|███████████▊                            | 59/200 [02:04<05:03,  2.15s/trial, best loss: 0.8564908048053047]"
     ]
    },
    {
     "name": "stderr",
     "output_type": "stream",
     "text": [
      "\n",
      "Iteration: 60, Training with params: {'boosting_type': 'gbdt', 'colsample_bytree': 0.4, 'learning_rate': 0.1, 'min_child_samples': 20, 'n_estimators': 10000, 'n_jobs': -1, 'num_leaves': 16, 'objective': 'regression', 'subsample': 1.0, 'subsample_freq': 5}\n"
     ]
    },
    {
     "name": "stdout",
     "output_type": "stream",
     "text": [
      "[100]\tvalid_0's rmse: 0.851948\tvalid_0's l2: 0.725815\tvalid_1's rmse: 0.854761\tvalid_1's l2: 0.730617           \n",
      "[200]\tvalid_0's rmse: 0.839736\tvalid_0's l2: 0.705157\tvalid_1's rmse: 0.813542\tvalid_1's l2: 0.66185            \n",
      "[300]\tvalid_0's rmse: 0.838815\tvalid_0's l2: 0.70361\tvalid_1's rmse: 0.787065\tvalid_1's l2: 0.619472            \n",
      "[100]\tvalid_0's rmse: 0.924596\tvalid_0's l2: 0.854878\tvalid_1's rmse: 0.847697\tvalid_1's l2: 0.718591           \n",
      "[200]\tvalid_0's rmse: 0.916362\tvalid_0's l2: 0.839719\tvalid_1's rmse: 0.806575\tvalid_1's l2: 0.650564           \n",
      "[300]\tvalid_0's rmse: 0.91709\tvalid_0's l2: 0.841054\tvalid_1's rmse: 0.782841\tvalid_1's l2: 0.61284             \n",
      "[100]\tvalid_0's rmse: 0.853407\tvalid_0's l2: 0.728304\tvalid_1's rmse: 0.851866\tvalid_1's l2: 0.725676           \n",
      "[200]\tvalid_0's rmse: 0.837742\tvalid_0's l2: 0.701811\tvalid_1's rmse: 0.810715\tvalid_1's l2: 0.657259           \n",
      "[300]\tvalid_0's rmse: 0.835813\tvalid_0's l2: 0.698584\tvalid_1's rmse: 0.785955\tvalid_1's l2: 0.617726           \n",
      " 30%|███████████▊                            | 59/200 [02:05<05:03,  2.15s/trial, best loss: 0.8564908048053047]"
     ]
    },
    {
     "name": "stderr",
     "output_type": "stream",
     "text": [
      "Score - 0.8625884343100861, Std - 0.03663887955404983, Eval Score - 0.8625884343100861\n",
      "Score across folds - [0.838095867617191, 0.9143783249156068, 0.8352911103974605].\n"
     ]
    },
    {
     "name": "stdout",
     "output_type": "stream",
     "text": [
      "\r",
      " 30%|████████████                            | 60/200 [02:05<04:30,  1.93s/trial, best loss: 0.8564908048053047]"
     ]
    },
    {
     "name": "stderr",
     "output_type": "stream",
     "text": [
      "\n",
      "Iteration: 61, Training with params: {'boosting_type': 'gbdt', 'colsample_bytree': 0.6000000000000001, 'learning_rate': 0.1, 'min_child_samples': 40, 'n_estimators': 10000, 'n_jobs': -1, 'num_leaves': 48, 'objective': 'regression', 'subsample': 0.6000000000000001, 'subsample_freq': 5}\n"
     ]
    },
    {
     "name": "stdout",
     "output_type": "stream",
     "text": [
      "[100]\tvalid_0's rmse: 0.846824\tvalid_0's l2: 0.717111\tvalid_1's rmse: 0.768976\tvalid_1's l2: 0.591324           \n",
      "[200]\tvalid_0's rmse: 0.854628\tvalid_0's l2: 0.73039\tvalid_1's rmse: 0.705771\tvalid_1's l2: 0.498112            \n",
      "[100]\tvalid_0's rmse: 0.923727\tvalid_0's l2: 0.853272\tvalid_1's rmse: 0.763675\tvalid_1's l2: 0.5832             \n",
      "[200]\tvalid_0's rmse: 0.921924\tvalid_0's l2: 0.849943\tvalid_1's rmse: 0.699681\tvalid_1's l2: 0.489553           \n",
      "[100]\tvalid_0's rmse: 0.831067\tvalid_0's l2: 0.690673\tvalid_1's rmse: 0.771205\tvalid_1's l2: 0.594758           \n",
      "[200]\tvalid_0's rmse: 0.828546\tvalid_0's l2: 0.686489\tvalid_1's rmse: 0.707068\tvalid_1's l2: 0.499945           \n",
      " 30%|████████████                            | 60/200 [02:07<04:30,  1.93s/trial, best loss: 0.8564908048053047]"
     ]
    },
    {
     "name": "stderr",
     "output_type": "stream",
     "text": [
      "Score - 0.8626213733759315, Std - 0.03906295848605251, Eval Score - 0.8626213733759315\n",
      "Score across folds - [0.8439273373082229, 0.9169880743290267, 0.8269487084905447].\n"
     ]
    },
    {
     "name": "stdout",
     "output_type": "stream",
     "text": [
      "\r",
      " 30%|████████████▏                           | 61/200 [02:07<04:27,  1.92s/trial, best loss: 0.8564908048053047]"
     ]
    },
    {
     "name": "stderr",
     "output_type": "stream",
     "text": [
      "\n",
      "Iteration: 62, Training with params: {'boosting_type': 'gbdt', 'colsample_bytree': 0.4, 'learning_rate': 0.1, 'min_child_samples': 200, 'n_estimators': 10000, 'n_jobs': -1, 'num_leaves': 48, 'objective': 'regression', 'subsample': 1.0, 'subsample_freq': 5}\n"
     ]
    },
    {
     "name": "stdout",
     "output_type": "stream",
     "text": [
      "[100]\tvalid_0's rmse: 0.84655\tvalid_0's l2: 0.716647\tvalid_1's rmse: 0.818479\tvalid_1's l2: 0.669908            \n",
      "[200]\tvalid_0's rmse: 0.842878\tvalid_0's l2: 0.710443\tvalid_1's rmse: 0.773927\tvalid_1's l2: 0.598963           \n",
      "[100]\tvalid_0's rmse: 0.912164\tvalid_0's l2: 0.832044\tvalid_1's rmse: 0.812231\tvalid_1's l2: 0.659718           \n",
      "[200]\tvalid_0's rmse: 0.910312\tvalid_0's l2: 0.828669\tvalid_1's rmse: 0.767632\tvalid_1's l2: 0.58926            \n",
      "[100]\tvalid_0's rmse: 0.836748\tvalid_0's l2: 0.700147\tvalid_1's rmse: 0.817043\tvalid_1's l2: 0.667559           \n",
      "[200]\tvalid_0's rmse: 0.825309\tvalid_0's l2: 0.681135\tvalid_1's rmse: 0.77336\tvalid_1's l2: 0.598085            \n",
      "[300]\tvalid_0's rmse: 0.823439\tvalid_0's l2: 0.678052\tvalid_1's rmse: 0.742397\tvalid_1's l2: 0.551153           \n",
      " 30%|████████████▏                           | 61/200 [02:09<04:27,  1.92s/trial, best loss: 0.8564908048053047]"
     ]
    },
    {
     "name": "stderr",
     "output_type": "stream",
     "text": [
      "Score - 0.8582816042902083, Std - 0.03710970997762563, Eval Score - 0.8582816042902083\n",
      "Score across folds - [0.8423637176053699, 0.9095494557757764, 0.8229316394894785].\n"
     ]
    },
    {
     "name": "stdout",
     "output_type": "stream",
     "text": [
      "\r",
      " 31%|████████████▍                           | 62/200 [02:10<04:47,  2.08s/trial, best loss: 0.8564908048053047]"
     ]
    },
    {
     "name": "stderr",
     "output_type": "stream",
     "text": [
      "\n",
      "Iteration: 63, Training with params: {'boosting_type': 'gbdt', 'colsample_bytree': 0.4, 'learning_rate': 0.1, 'min_child_samples': 220, 'n_estimators': 10000, 'n_jobs': -1, 'num_leaves': 48, 'objective': 'regression', 'subsample': 0.8, 'subsample_freq': 5}\n"
     ]
    },
    {
     "name": "stdout",
     "output_type": "stream",
     "text": [
      "[100]\tvalid_0's rmse: 0.852219\tvalid_0's l2: 0.726278\tvalid_1's rmse: 0.834941\tvalid_1's l2: 0.697126           \n",
      "[200]\tvalid_0's rmse: 0.842497\tvalid_0's l2: 0.709802\tvalid_1's rmse: 0.794071\tvalid_1's l2: 0.630549           \n",
      "[300]\tvalid_0's rmse: 0.844239\tvalid_0's l2: 0.712739\tvalid_1's rmse: 0.764348\tvalid_1's l2: 0.584228           \n",
      "[100]\tvalid_0's rmse: 0.919049\tvalid_0's l2: 0.844651\tvalid_1's rmse: 0.827294\tvalid_1's l2: 0.684415           \n",
      "[200]\tvalid_0's rmse: 0.91361\tvalid_0's l2: 0.834683\tvalid_1's rmse: 0.785309\tvalid_1's l2: 0.61671             \n",
      "[100]\tvalid_0's rmse: 0.845922\tvalid_0's l2: 0.715584\tvalid_1's rmse: 0.830739\tvalid_1's l2: 0.690127           \n",
      "[200]\tvalid_0's rmse: 0.831977\tvalid_0's l2: 0.692186\tvalid_1's rmse: 0.789352\tvalid_1's l2: 0.623077           \n",
      "[300]\tvalid_0's rmse: 0.830248\tvalid_0's l2: 0.689311\tvalid_1's rmse: 0.759868\tvalid_1's l2: 0.5774             \n",
      "[400]\tvalid_0's rmse: 0.830585\tvalid_0's l2: 0.689872\tvalid_1's rmse: 0.736408\tvalid_1's l2: 0.542297           \n",
      " 31%|████████████▍                           | 62/200 [02:12<04:47,  2.08s/trial, best loss: 0.8564908048053047]"
     ]
    },
    {
     "name": "stderr",
     "output_type": "stream",
     "text": [
      "Score - 0.8615532270258776, Std - 0.0368332476748396, Eval Score - 0.8615532270258776\n",
      "Score across folds - [0.8422585585744554, 0.9131030555499762, 0.8292980669532015].\n"
     ]
    },
    {
     "name": "stdout",
     "output_type": "stream",
     "text": [
      "\r",
      " 32%|████████████▌                           | 63/200 [02:13<05:20,  2.34s/trial, best loss: 0.8564908048053047]"
     ]
    },
    {
     "name": "stderr",
     "output_type": "stream",
     "text": [
      "\n",
      "Iteration: 64, Training with params: {'boosting_type': 'gbdt', 'colsample_bytree': 0.8, 'learning_rate': 0.1, 'min_child_samples': 140, 'n_estimators': 10000, 'n_jobs': -1, 'num_leaves': 48, 'objective': 'regression', 'subsample': 1.0, 'subsample_freq': 5}\n"
     ]
    },
    {
     "name": "stdout",
     "output_type": "stream",
     "text": [
      "[100]\tvalid_0's rmse: 0.843271\tvalid_0's l2: 0.711105\tvalid_1's rmse: 0.780944\tvalid_1's l2: 0.609873           \n",
      "[200]\tvalid_0's rmse: 0.845823\tvalid_0's l2: 0.715417\tvalid_1's rmse: 0.728704\tvalid_1's l2: 0.531009           \n",
      "[100]\tvalid_0's rmse: 0.918532\tvalid_0's l2: 0.843702\tvalid_1's rmse: 0.773711\tvalid_1's l2: 0.598629           \n",
      "[200]\tvalid_0's rmse: 0.921248\tvalid_0's l2: 0.848698\tvalid_1's rmse: 0.720156\tvalid_1's l2: 0.518625           \n",
      "[100]\tvalid_0's rmse: 0.835479\tvalid_0's l2: 0.698026\tvalid_1's rmse: 0.779641\tvalid_1's l2: 0.60784            \n",
      "[200]\tvalid_0's rmse: 0.83039\tvalid_0's l2: 0.689548\tvalid_1's rmse: 0.726662\tvalid_1's l2: 0.528038            \n",
      "[300]\tvalid_0's rmse: 0.831237\tvalid_0's l2: 0.690956\tvalid_1's rmse: 0.686791\tvalid_1's l2: 0.471682           \n",
      " 32%|████████████▌                           | 63/200 [02:15<05:20,  2.34s/trial, best loss: 0.8564908048053047]"
     ]
    },
    {
     "name": "stderr",
     "output_type": "stream",
     "text": [
      "Score - 0.8627094843894273, Std - 0.039646284595421744, Eval Score - 0.8627094843894273\n",
      "Score across folds - [0.8416953218096773, 0.9182337351997824, 0.8281993961588222].\n"
     ]
    },
    {
     "name": "stdout",
     "output_type": "stream",
     "text": [
      "\r",
      " 32%|████████████▊                           | 64/200 [02:15<05:13,  2.30s/trial, best loss: 0.8564908048053047]"
     ]
    },
    {
     "name": "stderr",
     "output_type": "stream",
     "text": [
      "\n",
      "Iteration: 65, Training with params: {'boosting_type': 'gbdt', 'colsample_bytree': 0.6000000000000001, 'learning_rate': 0.1, 'min_child_samples': 160, 'n_estimators': 10000, 'n_jobs': -1, 'num_leaves': 32, 'objective': 'regression', 'subsample': 1.0, 'subsample_freq': 5}\n"
     ]
    },
    {
     "name": "stdout",
     "output_type": "stream",
     "text": [
      "[100]\tvalid_0's rmse: 0.841895\tvalid_0's l2: 0.708786\tvalid_1's rmse: 0.813675\tvalid_1's l2: 0.662068           \n",
      "[200]\tvalid_0's rmse: 0.840283\tvalid_0's l2: 0.706076\tvalid_1's rmse: 0.772847\tvalid_1's l2: 0.597293           \n",
      "[100]\tvalid_0's rmse: 0.915914\tvalid_0's l2: 0.838898\tvalid_1's rmse: 0.805459\tvalid_1's l2: 0.648764           \n",
      "[200]\tvalid_0's rmse: 0.915006\tvalid_0's l2: 0.837237\tvalid_1's rmse: 0.765457\tvalid_1's l2: 0.585924           \n",
      "[100]\tvalid_0's rmse: 0.837119\tvalid_0's l2: 0.700769\tvalid_1's rmse: 0.812111\tvalid_1's l2: 0.659525           \n",
      "[200]\tvalid_0's rmse: 0.826921\tvalid_0's l2: 0.683798\tvalid_1's rmse: 0.772132\tvalid_1's l2: 0.596188           \n",
      "[300]\tvalid_0's rmse: 0.826327\tvalid_0's l2: 0.682816\tvalid_1's rmse: 0.744292\tvalid_1's l2: 0.553971           \n",
      "[400]\tvalid_0's rmse: 0.82621\tvalid_0's l2: 0.682624\tvalid_1's rmse: 0.721341\tvalid_1's l2: 0.520333            \n",
      " 32%|████████████▊                           | 64/200 [02:17<05:13,  2.30s/trial, best loss: 0.8564908048053047]"
     ]
    },
    {
     "name": "stderr",
     "output_type": "stream",
     "text": [
      "Score - 0.859212876910466, Std - 0.03837866971044202, Eval Score - 0.859212876910466\n",
      "Score across folds - [0.8397952231479164, 0.9128147496519121, 0.8250286579315693].\n"
     ]
    },
    {
     "name": "stdout",
     "output_type": "stream",
     "text": [
      "\r",
      " 32%|█████████████                           | 65/200 [02:17<05:02,  2.24s/trial, best loss: 0.8564908048053047]"
     ]
    },
    {
     "name": "stderr",
     "output_type": "stream",
     "text": [
      "\n",
      "Iteration: 66, Training with params: {'boosting_type': 'gbdt', 'colsample_bytree': 0.4, 'learning_rate': 0.1, 'min_child_samples': 180, 'n_estimators': 10000, 'n_jobs': -1, 'num_leaves': 48, 'objective': 'regression', 'subsample': 1.0, 'subsample_freq': 5}\n"
     ]
    },
    {
     "name": "stdout",
     "output_type": "stream",
     "text": [
      "[100]\tvalid_0's rmse: 0.845272\tvalid_0's l2: 0.714485\tvalid_1's rmse: 0.815737\tvalid_1's l2: 0.665427           \n",
      "[200]\tvalid_0's rmse: 0.842288\tvalid_0's l2: 0.709449\tvalid_1's rmse: 0.770403\tvalid_1's l2: 0.593521           \n",
      "[100]\tvalid_0's rmse: 0.911912\tvalid_0's l2: 0.831583\tvalid_1's rmse: 0.809187\tvalid_1's l2: 0.654783           \n",
      "[200]\tvalid_0's rmse: 0.911403\tvalid_0's l2: 0.830656\tvalid_1's rmse: 0.763862\tvalid_1's l2: 0.583485           \n",
      "[100]\tvalid_0's rmse: 0.833613\tvalid_0's l2: 0.694911\tvalid_1's rmse: 0.812105\tvalid_1's l2: 0.659515           \n",
      "[200]\tvalid_0's rmse: 0.82167\tvalid_0's l2: 0.675141\tvalid_1's rmse: 0.768031\tvalid_1's l2: 0.589872            \n",
      "[300]\tvalid_0's rmse: 0.818499\tvalid_0's l2: 0.66994\tvalid_1's rmse: 0.737479\tvalid_1's l2: 0.543875            \n",
      "[400]\tvalid_0's rmse: 0.819901\tvalid_0's l2: 0.672238\tvalid_1's rmse: 0.712649\tvalid_1's l2: 0.507869           \n",
      " 32%|█████████████                           | 65/200 [02:19<05:02,  2.24s/trial, best loss: 0.8564908048053047]"
     ]
    },
    {
     "name": "stderr",
     "output_type": "stream",
     "text": [
      "Score - 0.8564908048053047, Std - 0.03910467812659231, Eval Score - 0.8564908048053047\n",
      "Score across folds - [0.8409127467230744, 0.9102336895809126, 0.818325978111927].\n"
     ]
    },
    {
     "name": "stdout",
     "output_type": "stream",
     "text": [
      "\r",
      " 33%|█████████████▏                          | 66/200 [02:19<05:06,  2.29s/trial, best loss: 0.8564908048053047]"
     ]
    },
    {
     "name": "stderr",
     "output_type": "stream",
     "text": [
      "\n",
      "Iteration: 67, Training with params: {'boosting_type': 'gbdt', 'colsample_bytree': 0.4, 'learning_rate': 0.1, 'min_child_samples': 180, 'n_estimators': 10000, 'n_jobs': -1, 'num_leaves': 48, 'objective': 'regression', 'subsample': 1.0, 'subsample_freq': 5}\n"
     ]
    },
    {
     "name": "stdout",
     "output_type": "stream",
     "text": [
      "[100]\tvalid_0's rmse: 0.845272\tvalid_0's l2: 0.714485\tvalid_1's rmse: 0.815737\tvalid_1's l2: 0.665427           \n",
      "[200]\tvalid_0's rmse: 0.842288\tvalid_0's l2: 0.709449\tvalid_1's rmse: 0.770403\tvalid_1's l2: 0.593521           \n",
      "[100]\tvalid_0's rmse: 0.911912\tvalid_0's l2: 0.831583\tvalid_1's rmse: 0.809187\tvalid_1's l2: 0.654783           \n",
      "[200]\tvalid_0's rmse: 0.911403\tvalid_0's l2: 0.830656\tvalid_1's rmse: 0.763862\tvalid_1's l2: 0.583485           \n",
      "[100]\tvalid_0's rmse: 0.833613\tvalid_0's l2: 0.694911\tvalid_1's rmse: 0.812105\tvalid_1's l2: 0.659515           \n",
      "[200]\tvalid_0's rmse: 0.82167\tvalid_0's l2: 0.675141\tvalid_1's rmse: 0.768031\tvalid_1's l2: 0.589872            \n",
      "[300]\tvalid_0's rmse: 0.818499\tvalid_0's l2: 0.66994\tvalid_1's rmse: 0.737479\tvalid_1's l2: 0.543875            \n",
      "[400]\tvalid_0's rmse: 0.819901\tvalid_0's l2: 0.672238\tvalid_1's rmse: 0.712649\tvalid_1's l2: 0.507869           \n",
      " 33%|█████████████▏                          | 66/200 [02:22<05:06,  2.29s/trial, best loss: 0.8564908048053047]"
     ]
    },
    {
     "name": "stderr",
     "output_type": "stream",
     "text": [
      "Score - 0.8564908048053047, Std - 0.03910467812659231, Eval Score - 0.8564908048053047\n",
      "Score across folds - [0.8409127467230744, 0.9102336895809126, 0.818325978111927].\n"
     ]
    },
    {
     "name": "stdout",
     "output_type": "stream",
     "text": [
      "\r",
      " 34%|█████████████▍                          | 67/200 [02:22<05:08,  2.32s/trial, best loss: 0.8564908048053047]"
     ]
    },
    {
     "name": "stderr",
     "output_type": "stream",
     "text": [
      "\n",
      "Iteration: 68, Training with params: {'boosting_type': 'gbdt', 'colsample_bytree': 0.4, 'learning_rate': 0.1, 'min_child_samples': 200, 'n_estimators': 10000, 'n_jobs': -1, 'num_leaves': 48, 'objective': 'regression', 'subsample': 1.0, 'subsample_freq': 5}\n"
     ]
    },
    {
     "name": "stdout",
     "output_type": "stream",
     "text": [
      "[100]\tvalid_0's rmse: 0.84655\tvalid_0's l2: 0.716647\tvalid_1's rmse: 0.818479\tvalid_1's l2: 0.669908            \n",
      "[200]\tvalid_0's rmse: 0.842878\tvalid_0's l2: 0.710443\tvalid_1's rmse: 0.773927\tvalid_1's l2: 0.598963           \n",
      "[100]\tvalid_0's rmse: 0.912164\tvalid_0's l2: 0.832044\tvalid_1's rmse: 0.812231\tvalid_1's l2: 0.659718           \n",
      "[200]\tvalid_0's rmse: 0.910312\tvalid_0's l2: 0.828669\tvalid_1's rmse: 0.767632\tvalid_1's l2: 0.58926            \n",
      "[100]\tvalid_0's rmse: 0.836748\tvalid_0's l2: 0.700147\tvalid_1's rmse: 0.817043\tvalid_1's l2: 0.667559           \n",
      "[200]\tvalid_0's rmse: 0.825309\tvalid_0's l2: 0.681135\tvalid_1's rmse: 0.77336\tvalid_1's l2: 0.598085            \n",
      "[300]\tvalid_0's rmse: 0.823439\tvalid_0's l2: 0.678052\tvalid_1's rmse: 0.742397\tvalid_1's l2: 0.551153           \n",
      " 34%|█████████████▍                          | 67/200 [02:24<05:08,  2.32s/trial, best loss: 0.8564908048053047]"
     ]
    },
    {
     "name": "stderr",
     "output_type": "stream",
     "text": [
      "Score - 0.8582816042902083, Std - 0.03710970997762563, Eval Score - 0.8582816042902083\n",
      "Score across folds - [0.8423637176053699, 0.9095494557757764, 0.8229316394894785].\n"
     ]
    },
    {
     "name": "stdout",
     "output_type": "stream",
     "text": [
      "\r",
      " 34%|█████████████▌                          | 68/200 [02:24<05:19,  2.42s/trial, best loss: 0.8564908048053047]"
     ]
    },
    {
     "name": "stderr",
     "output_type": "stream",
     "text": [
      "\n",
      "Iteration: 69, Training with params: {'boosting_type': 'gbdt', 'colsample_bytree': 0.4, 'learning_rate': 0.1, 'min_child_samples': 180, 'n_estimators': 10000, 'n_jobs': -1, 'num_leaves': 48, 'objective': 'regression', 'subsample': 1.0, 'subsample_freq': 5}\n"
     ]
    },
    {
     "name": "stdout",
     "output_type": "stream",
     "text": [
      "[100]\tvalid_0's rmse: 0.845272\tvalid_0's l2: 0.714485\tvalid_1's rmse: 0.815737\tvalid_1's l2: 0.665427           \n",
      "[200]\tvalid_0's rmse: 0.842288\tvalid_0's l2: 0.709449\tvalid_1's rmse: 0.770403\tvalid_1's l2: 0.593521           \n",
      "[100]\tvalid_0's rmse: 0.911912\tvalid_0's l2: 0.831583\tvalid_1's rmse: 0.809187\tvalid_1's l2: 0.654783           \n",
      "[200]\tvalid_0's rmse: 0.911403\tvalid_0's l2: 0.830656\tvalid_1's rmse: 0.763862\tvalid_1's l2: 0.583485           \n",
      "[100]\tvalid_0's rmse: 0.833613\tvalid_0's l2: 0.694911\tvalid_1's rmse: 0.812105\tvalid_1's l2: 0.659515           \n",
      "[200]\tvalid_0's rmse: 0.82167\tvalid_0's l2: 0.675141\tvalid_1's rmse: 0.768031\tvalid_1's l2: 0.589872            \n",
      "[300]\tvalid_0's rmse: 0.818499\tvalid_0's l2: 0.66994\tvalid_1's rmse: 0.737479\tvalid_1's l2: 0.543875            \n",
      "[400]\tvalid_0's rmse: 0.819901\tvalid_0's l2: 0.672238\tvalid_1's rmse: 0.712649\tvalid_1's l2: 0.507869           \n",
      " 34%|█████████████▌                          | 68/200 [02:27<05:19,  2.42s/trial, best loss: 0.8564908048053047]"
     ]
    },
    {
     "name": "stderr",
     "output_type": "stream",
     "text": [
      "Score - 0.8564908048053047, Std - 0.03910467812659231, Eval Score - 0.8564908048053047\n",
      "Score across folds - [0.8409127467230744, 0.9102336895809126, 0.818325978111927].\n"
     ]
    },
    {
     "name": "stdout",
     "output_type": "stream",
     "text": [
      "\r",
      " 34%|█████████████▊                          | 69/200 [02:27<05:16,  2.41s/trial, best loss: 0.8564908048053047]"
     ]
    },
    {
     "name": "stderr",
     "output_type": "stream",
     "text": [
      "\n",
      "Iteration: 70, Training with params: {'boosting_type': 'gbdt', 'colsample_bytree': 0.4, 'learning_rate': 0.1, 'min_child_samples': 220, 'n_estimators': 10000, 'n_jobs': -1, 'num_leaves': 48, 'objective': 'regression', 'subsample': 1.0, 'subsample_freq': 5}\n"
     ]
    },
    {
     "name": "stdout",
     "output_type": "stream",
     "text": [
      "[100]\tvalid_0's rmse: 0.84618\tvalid_0's l2: 0.71602\tvalid_1's rmse: 0.823232\tvalid_1's l2: 0.677711             \n",
      "[200]\tvalid_0's rmse: 0.843492\tvalid_0's l2: 0.711478\tvalid_1's rmse: 0.778148\tvalid_1's l2: 0.605515           \n",
      "[300]\tvalid_0's rmse: 0.843258\tvalid_0's l2: 0.711085\tvalid_1's rmse: 0.747387\tvalid_1's l2: 0.558587           \n",
      "[100]\tvalid_0's rmse: 0.911734\tvalid_0's l2: 0.831259\tvalid_1's rmse: 0.816543\tvalid_1's l2: 0.666742           \n",
      "[200]\tvalid_0's rmse: 0.909943\tvalid_0's l2: 0.827996\tvalid_1's rmse: 0.772907\tvalid_1's l2: 0.597386           \n",
      "[100]\tvalid_0's rmse: 0.838681\tvalid_0's l2: 0.703386\tvalid_1's rmse: 0.819547\tvalid_1's l2: 0.671657           \n",
      "[200]\tvalid_0's rmse: 0.826095\tvalid_0's l2: 0.682432\tvalid_1's rmse: 0.777067\tvalid_1's l2: 0.603833           \n",
      "[300]\tvalid_0's rmse: 0.823352\tvalid_0's l2: 0.677909\tvalid_1's rmse: 0.746869\tvalid_1's l2: 0.557813           \n",
      "[400]\tvalid_0's rmse: 0.823415\tvalid_0's l2: 0.678012\tvalid_1's rmse: 0.723122\tvalid_1's l2: 0.522905           \n",
      " 34%|█████████████▊                          | 69/200 [02:29<05:16,  2.41s/trial, best loss: 0.8564908048053047]"
     ]
    },
    {
     "name": "stderr",
     "output_type": "stream",
     "text": [
      "Score - 0.8579775649814478, Std - 0.036895187259361306, Eval Score - 0.8579775649814478\n",
      "Score across folds - [0.8421717881881927, 0.9089445373614408, 0.8228163693947098].\n"
     ]
    },
    {
     "name": "stdout",
     "output_type": "stream",
     "text": [
      "\r",
      " 35%|██████████████                          | 70/200 [02:29<05:26,  2.51s/trial, best loss: 0.8564908048053047]"
     ]
    },
    {
     "name": "stderr",
     "output_type": "stream",
     "text": [
      "\n",
      "Iteration: 71, Training with params: {'boosting_type': 'gbdt', 'colsample_bytree': 0.4, 'learning_rate': 0.1, 'min_child_samples': 160, 'n_estimators': 10000, 'n_jobs': -1, 'num_leaves': 48, 'objective': 'regression', 'subsample': 1.0, 'subsample_freq': 5}\n"
     ]
    },
    {
     "name": "stdout",
     "output_type": "stream",
     "text": [
      "[100]\tvalid_0's rmse: 0.842323\tvalid_0's l2: 0.709508\tvalid_1's rmse: 0.811013\tvalid_1's l2: 0.657741           \n",
      "[200]\tvalid_0's rmse: 0.840467\tvalid_0's l2: 0.706385\tvalid_1's rmse: 0.764861\tvalid_1's l2: 0.585012           \n",
      "[100]\tvalid_0's rmse: 0.914559\tvalid_0's l2: 0.836419\tvalid_1's rmse: 0.80637\tvalid_1's l2: 0.650233            \n",
      "[200]\tvalid_0's rmse: 0.910893\tvalid_0's l2: 0.829726\tvalid_1's rmse: 0.759936\tvalid_1's l2: 0.577503           \n",
      "[100]\tvalid_0's rmse: 0.834514\tvalid_0's l2: 0.696414\tvalid_1's rmse: 0.808732\tvalid_1's l2: 0.654047           \n",
      "[200]\tvalid_0's rmse: 0.824088\tvalid_0's l2: 0.679122\tvalid_1's rmse: 0.764016\tvalid_1's l2: 0.58372            \n",
      "[300]\tvalid_0's rmse: 0.822125\tvalid_0's l2: 0.675889\tvalid_1's rmse: 0.733359\tvalid_1's l2: 0.537816           \n",
      "[400]\tvalid_0's rmse: 0.822577\tvalid_0's l2: 0.676633\tvalid_1's rmse: 0.708006\tvalid_1's l2: 0.501272           \n",
      " 35%|██████████████                          | 70/200 [02:32<05:26,  2.51s/trial, best loss: 0.8564908048053047]"
     ]
    },
    {
     "name": "stderr",
     "output_type": "stream",
     "text": [
      "Score - 0.8566557748922121, Std - 0.03788678722769249, Eval Score - 0.8566557748922121\n",
      "Score across folds - [0.8391958038785456, 0.90925459932608, 0.8215169214720107].\n"
     ]
    },
    {
     "name": "stdout",
     "output_type": "stream",
     "text": [
      "\r",
      " 36%|██████████████▏                         | 71/200 [02:32<05:20,  2.48s/trial, best loss: 0.8564908048053047]"
     ]
    },
    {
     "name": "stderr",
     "output_type": "stream",
     "text": [
      "\n",
      "Iteration: 72, Training with params: {'boosting_type': 'gbdt', 'colsample_bytree': 0.4, 'learning_rate': 0.1, 'min_child_samples': 180, 'n_estimators': 10000, 'n_jobs': -1, 'num_leaves': 48, 'objective': 'regression', 'subsample': 1.0, 'subsample_freq': 5}\n"
     ]
    },
    {
     "name": "stdout",
     "output_type": "stream",
     "text": [
      "[100]\tvalid_0's rmse: 0.845272\tvalid_0's l2: 0.714485\tvalid_1's rmse: 0.815737\tvalid_1's l2: 0.665427           \n",
      "[200]\tvalid_0's rmse: 0.842288\tvalid_0's l2: 0.709449\tvalid_1's rmse: 0.770403\tvalid_1's l2: 0.593521           \n",
      "[100]\tvalid_0's rmse: 0.911912\tvalid_0's l2: 0.831583\tvalid_1's rmse: 0.809187\tvalid_1's l2: 0.654783           \n",
      "[200]\tvalid_0's rmse: 0.911403\tvalid_0's l2: 0.830656\tvalid_1's rmse: 0.763862\tvalid_1's l2: 0.583485           \n",
      "[100]\tvalid_0's rmse: 0.833613\tvalid_0's l2: 0.694911\tvalid_1's rmse: 0.812105\tvalid_1's l2: 0.659515           \n",
      "[200]\tvalid_0's rmse: 0.82167\tvalid_0's l2: 0.675141\tvalid_1's rmse: 0.768031\tvalid_1's l2: 0.589872            \n",
      "[300]\tvalid_0's rmse: 0.818499\tvalid_0's l2: 0.66994\tvalid_1's rmse: 0.737479\tvalid_1's l2: 0.543875            \n",
      "[400]\tvalid_0's rmse: 0.819901\tvalid_0's l2: 0.672238\tvalid_1's rmse: 0.712649\tvalid_1's l2: 0.507869           \n",
      " 36%|██████████████▏                         | 71/200 [02:34<05:20,  2.48s/trial, best loss: 0.8564908048053047]"
     ]
    },
    {
     "name": "stderr",
     "output_type": "stream",
     "text": [
      "Score - 0.8564908048053047, Std - 0.03910467812659231, Eval Score - 0.8564908048053047\n",
      "Score across folds - [0.8409127467230744, 0.9102336895809126, 0.818325978111927].\n"
     ]
    },
    {
     "name": "stdout",
     "output_type": "stream",
     "text": [
      "\r",
      " 36%|██████████████▍                         | 72/200 [02:34<05:14,  2.45s/trial, best loss: 0.8564908048053047]"
     ]
    },
    {
     "name": "stderr",
     "output_type": "stream",
     "text": [
      "\n",
      "Iteration: 73, Training with params: {'boosting_type': 'gbdt', 'colsample_bytree': 0.4, 'learning_rate': 0.1, 'min_child_samples': 200, 'n_estimators': 10000, 'n_jobs': -1, 'num_leaves': 48, 'objective': 'regression', 'subsample': 1.0, 'subsample_freq': 5}\n"
     ]
    },
    {
     "name": "stdout",
     "output_type": "stream",
     "text": [
      "[100]\tvalid_0's rmse: 0.84655\tvalid_0's l2: 0.716647\tvalid_1's rmse: 0.818479\tvalid_1's l2: 0.669908            \n",
      "[200]\tvalid_0's rmse: 0.842878\tvalid_0's l2: 0.710443\tvalid_1's rmse: 0.773927\tvalid_1's l2: 0.598963           \n",
      "[100]\tvalid_0's rmse: 0.912164\tvalid_0's l2: 0.832044\tvalid_1's rmse: 0.812231\tvalid_1's l2: 0.659718           \n",
      "[200]\tvalid_0's rmse: 0.910312\tvalid_0's l2: 0.828669\tvalid_1's rmse: 0.767632\tvalid_1's l2: 0.58926            \n",
      "[100]\tvalid_0's rmse: 0.836748\tvalid_0's l2: 0.700147\tvalid_1's rmse: 0.817043\tvalid_1's l2: 0.667559           \n",
      "[200]\tvalid_0's rmse: 0.825309\tvalid_0's l2: 0.681135\tvalid_1's rmse: 0.77336\tvalid_1's l2: 0.598085            \n",
      "[300]\tvalid_0's rmse: 0.823439\tvalid_0's l2: 0.678052\tvalid_1's rmse: 0.742397\tvalid_1's l2: 0.551153           \n",
      " 36%|██████████████▍                         | 72/200 [02:36<05:14,  2.45s/trial, best loss: 0.8564908048053047]"
     ]
    },
    {
     "name": "stderr",
     "output_type": "stream",
     "text": [
      "Score - 0.8582816042902083, Std - 0.03710970997762563, Eval Score - 0.8582816042902083\n",
      "Score across folds - [0.8423637176053699, 0.9095494557757764, 0.8229316394894785].\n"
     ]
    },
    {
     "name": "stdout",
     "output_type": "stream",
     "text": [
      "\r",
      " 36%|██████████████▌                         | 73/200 [02:37<05:12,  2.46s/trial, best loss: 0.8564908048053047]"
     ]
    },
    {
     "name": "stderr",
     "output_type": "stream",
     "text": [
      "\n",
      "Iteration: 74, Training with params: {'boosting_type': 'gbdt', 'colsample_bytree': 0.4, 'learning_rate': 0.1, 'min_child_samples': 140, 'n_estimators': 10000, 'n_jobs': -1, 'num_leaves': 48, 'objective': 'regression', 'subsample': 1.0, 'subsample_freq': 5}\n"
     ]
    },
    {
     "name": "stdout",
     "output_type": "stream",
     "text": [
      "[100]\tvalid_0's rmse: 0.841924\tvalid_0's l2: 0.708836\tvalid_1's rmse: 0.808529\tvalid_1's l2: 0.65372            \n",
      "[200]\tvalid_0's rmse: 0.838729\tvalid_0's l2: 0.703466\tvalid_1's rmse: 0.761167\tvalid_1's l2: 0.579375           \n",
      "[300]\tvalid_0's rmse: 0.840681\tvalid_0's l2: 0.706745\tvalid_1's rmse: 0.729519\tvalid_1's l2: 0.532198           \n",
      "[100]\tvalid_0's rmse: 0.91165\tvalid_0's l2: 0.831106\tvalid_1's rmse: 0.802426\tvalid_1's l2: 0.643887            \n",
      "[200]\tvalid_0's rmse: 0.911332\tvalid_0's l2: 0.830525\tvalid_1's rmse: 0.756249\tvalid_1's l2: 0.571912           \n",
      "[100]\tvalid_0's rmse: 0.836024\tvalid_0's l2: 0.698936\tvalid_1's rmse: 0.806018\tvalid_1's l2: 0.649665           \n",
      "[200]\tvalid_0's rmse: 0.826374\tvalid_0's l2: 0.682894\tvalid_1's rmse: 0.759836\tvalid_1's l2: 0.577351           \n",
      "[300]\tvalid_0's rmse: 0.824005\tvalid_0's l2: 0.678984\tvalid_1's rmse: 0.728041\tvalid_1's l2: 0.530043           \n",
      " 36%|██████████████▌                         | 73/200 [02:39<05:12,  2.46s/trial, best loss: 0.8564908048053047]"
     ]
    },
    {
     "name": "stderr",
     "output_type": "stream",
     "text": [
      "Score - 0.8572653223427102, Std - 0.037669044061574744, Eval Score - 0.8572653223427102\n",
      "Score across folds - [0.838160568315972, 0.9098838299107583, 0.8237515688014002].\n"
     ]
    },
    {
     "name": "stdout",
     "output_type": "stream",
     "text": [
      "\r",
      " 37%|██████████████▊                         | 74/200 [02:39<05:08,  2.45s/trial, best loss: 0.8564908048053047]"
     ]
    },
    {
     "name": "stderr",
     "output_type": "stream",
     "text": [
      "\n",
      "Iteration: 75, Training with params: {'boosting_type': 'gbdt', 'colsample_bytree': 0.4, 'learning_rate': 0.1, 'min_child_samples': 160, 'n_estimators': 10000, 'n_jobs': -1, 'num_leaves': 48, 'objective': 'regression', 'subsample': 0.8, 'subsample_freq': 5}\n"
     ]
    },
    {
     "name": "stdout",
     "output_type": "stream",
     "text": [
      "[100]\tvalid_0's rmse: 0.848299\tvalid_0's l2: 0.719611\tvalid_1's rmse: 0.818832\tvalid_1's l2: 0.670485           \n",
      "[200]\tvalid_0's rmse: 0.842201\tvalid_0's l2: 0.709302\tvalid_1's rmse: 0.773467\tvalid_1's l2: 0.598251           \n",
      "[300]\tvalid_0's rmse: 0.845021\tvalid_0's l2: 0.714061\tvalid_1's rmse: 0.740549\tvalid_1's l2: 0.548413           \n",
      "[100]\tvalid_0's rmse: 0.915305\tvalid_0's l2: 0.837783\tvalid_1's rmse: 0.811288\tvalid_1's l2: 0.658187           \n",
      "[200]\tvalid_0's rmse: 0.91565\tvalid_0's l2: 0.838415\tvalid_1's rmse: 0.766451\tvalid_1's l2: 0.587447            \n",
      "[100]\tvalid_0's rmse: 0.838849\tvalid_0's l2: 0.703668\tvalid_1's rmse: 0.815732\tvalid_1's l2: 0.665419           \n",
      "[200]\tvalid_0's rmse: 0.825698\tvalid_0's l2: 0.681778\tvalid_1's rmse: 0.771553\tvalid_1's l2: 0.595295           \n",
      "[300]\tvalid_0's rmse: 0.826253\tvalid_0's l2: 0.682694\tvalid_1's rmse: 0.739244\tvalid_1's l2: 0.546482           \n",
      " 37%|██████████████▊                         | 74/200 [02:42<05:08,  2.45s/trial, best loss: 0.8564908048053047]"
     ]
    },
    {
     "name": "stderr",
     "output_type": "stream",
     "text": [
      "Score - 0.8592633018970567, Std - 0.03797606569746449, Eval Score - 0.8592633018970567\n",
      "Score across folds - [0.8414867515293054, 0.9120408473135794, 0.8242623068482855].\n"
     ]
    },
    {
     "name": "stdout",
     "output_type": "stream",
     "text": [
      "\r",
      " 38%|███████████████                         | 75/200 [02:42<05:27,  2.62s/trial, best loss: 0.8564908048053047]"
     ]
    },
    {
     "name": "stderr",
     "output_type": "stream",
     "text": [
      "\n",
      "Iteration: 76, Training with params: {'boosting_type': 'gbdt', 'colsample_bytree': 0.4, 'learning_rate': 0.1, 'min_child_samples': 100, 'n_estimators': 10000, 'n_jobs': -1, 'num_leaves': 48, 'objective': 'regression', 'subsample': 1.0, 'subsample_freq': 5}\n"
     ]
    },
    {
     "name": "stdout",
     "output_type": "stream",
     "text": [
      "[100]\tvalid_0's rmse: 0.840905\tvalid_0's l2: 0.707122\tvalid_1's rmse: 0.801734\tvalid_1's l2: 0.642777           \n",
      "[200]\tvalid_0's rmse: 0.838276\tvalid_0's l2: 0.702707\tvalid_1's rmse: 0.752039\tvalid_1's l2: 0.565562           \n",
      "[100]\tvalid_0's rmse: 0.911826\tvalid_0's l2: 0.831427\tvalid_1's rmse: 0.795544\tvalid_1's l2: 0.63289            \n",
      "[200]\tvalid_0's rmse: 0.91156\tvalid_0's l2: 0.830941\tvalid_1's rmse: 0.747053\tvalid_1's l2: 0.558089            \n",
      "[100]\tvalid_0's rmse: 0.834514\tvalid_0's l2: 0.696414\tvalid_1's rmse: 0.7986\tvalid_1's l2: 0.637763             \n",
      "[200]\tvalid_0's rmse: 0.825701\tvalid_0's l2: 0.681782\tvalid_1's rmse: 0.750554\tvalid_1's l2: 0.563331           \n",
      "[300]\tvalid_0's rmse: 0.823995\tvalid_0's l2: 0.678969\tvalid_1's rmse: 0.715974\tvalid_1's l2: 0.512619           \n",
      "[400]\tvalid_0's rmse: 0.825184\tvalid_0's l2: 0.680929\tvalid_1's rmse: 0.689266\tvalid_1's l2: 0.475088           \n",
      " 38%|███████████████                         | 75/200 [02:44<05:27,  2.62s/trial, best loss: 0.8564908048053047]"
     ]
    },
    {
     "name": "stderr",
     "output_type": "stream",
     "text": [
      "Score - 0.8567527000190487, Std - 0.0374832495456196, Eval Score - 0.8567527000190487\n",
      "Score across folds - [0.837180814038211, 0.9092024093002394, 0.8238748767186956].\n"
     ]
    },
    {
     "name": "stdout",
     "output_type": "stream",
     "text": [
      "\r",
      " 38%|███████████████▏                        | 76/200 [02:44<05:14,  2.54s/trial, best loss: 0.8564908048053047]"
     ]
    },
    {
     "name": "stderr",
     "output_type": "stream",
     "text": [
      "\n",
      "Iteration: 77, Training with params: {'boosting_type': 'gbdt', 'colsample_bytree': 0.6000000000000001, 'learning_rate': 0.1, 'min_child_samples': 180, 'n_estimators': 10000, 'n_jobs': -1, 'num_leaves': 48, 'objective': 'regression', 'subsample': 1.0, 'subsample_freq': 5}\n"
     ]
    },
    {
     "name": "stdout",
     "output_type": "stream",
     "text": [
      "[100]\tvalid_0's rmse: 0.842994\tvalid_0's l2: 0.710639\tvalid_1's rmse: 0.79144\tvalid_1's l2: 0.626378            \n",
      "[200]\tvalid_0's rmse: 0.848902\tvalid_0's l2: 0.720635\tvalid_1's rmse: 0.741194\tvalid_1's l2: 0.549368           \n",
      "[100]\tvalid_0's rmse: 0.920255\tvalid_0's l2: 0.846869\tvalid_1's rmse: 0.784857\tvalid_1's l2: 0.616              \n",
      "[200]\tvalid_0's rmse: 0.922027\tvalid_0's l2: 0.850133\tvalid_1's rmse: 0.736073\tvalid_1's l2: 0.541804           \n",
      "[100]\tvalid_0's rmse: 0.831794\tvalid_0's l2: 0.691882\tvalid_1's rmse: 0.791142\tvalid_1's l2: 0.625906           \n",
      "[200]\tvalid_0's rmse: 0.826088\tvalid_0's l2: 0.682422\tvalid_1's rmse: 0.741562\tvalid_1's l2: 0.549914           \n",
      "[300]\tvalid_0's rmse: 0.826099\tvalid_0's l2: 0.682439\tvalid_1's rmse: 0.706058\tvalid_1's l2: 0.498519           \n",
      " 38%|███████████████▏                        | 76/200 [02:46<05:14,  2.54s/trial, best loss: 0.8564908048053047]"
     ]
    },
    {
     "name": "stderr",
     "output_type": "stream",
     "text": [
      "Score - 0.8618540856668281, Std - 0.04095200518168178, Eval Score - 0.8618540856668281\n",
      "Score across folds - [0.8428654584085393, 0.918731667637604, 0.8239651309543409].\n"
     ]
    },
    {
     "name": "stdout",
     "output_type": "stream",
     "text": [
      "\r",
      " 38%|███████████████▍                        | 77/200 [02:47<04:56,  2.41s/trial, best loss: 0.8564908048053047]"
     ]
    },
    {
     "name": "stderr",
     "output_type": "stream",
     "text": [
      "\n",
      "Iteration: 78, Training with params: {'boosting_type': 'gbdt', 'colsample_bytree': 0.4, 'learning_rate': 0.1, 'min_child_samples': 220, 'n_estimators': 10000, 'n_jobs': -1, 'num_leaves': 48, 'objective': 'regression', 'subsample': 0.8, 'subsample_freq': 5}\n"
     ]
    },
    {
     "name": "stdout",
     "output_type": "stream",
     "text": [
      "[100]\tvalid_0's rmse: 0.852219\tvalid_0's l2: 0.726278\tvalid_1's rmse: 0.834941\tvalid_1's l2: 0.697126           \n",
      "[200]\tvalid_0's rmse: 0.842497\tvalid_0's l2: 0.709802\tvalid_1's rmse: 0.794071\tvalid_1's l2: 0.630549           \n",
      "[300]\tvalid_0's rmse: 0.844239\tvalid_0's l2: 0.712739\tvalid_1's rmse: 0.764348\tvalid_1's l2: 0.584228           \n",
      "[100]\tvalid_0's rmse: 0.919049\tvalid_0's l2: 0.844651\tvalid_1's rmse: 0.827294\tvalid_1's l2: 0.684415           \n",
      "[200]\tvalid_0's rmse: 0.91361\tvalid_0's l2: 0.834683\tvalid_1's rmse: 0.785309\tvalid_1's l2: 0.61671             \n",
      "[100]\tvalid_0's rmse: 0.845922\tvalid_0's l2: 0.715584\tvalid_1's rmse: 0.830739\tvalid_1's l2: 0.690127           \n",
      "[200]\tvalid_0's rmse: 0.831977\tvalid_0's l2: 0.692186\tvalid_1's rmse: 0.789352\tvalid_1's l2: 0.623077           \n",
      "[300]\tvalid_0's rmse: 0.830248\tvalid_0's l2: 0.689311\tvalid_1's rmse: 0.759868\tvalid_1's l2: 0.5774             \n",
      "[400]\tvalid_0's rmse: 0.830585\tvalid_0's l2: 0.689872\tvalid_1's rmse: 0.736408\tvalid_1's l2: 0.542297           \n",
      " 38%|███████████████▍                        | 77/200 [02:50<04:56,  2.41s/trial, best loss: 0.8564908048053047]"
     ]
    },
    {
     "name": "stderr",
     "output_type": "stream",
     "text": [
      "Score - 0.8615532270258776, Std - 0.0368332476748396, Eval Score - 0.8615532270258776\n",
      "Score across folds - [0.8422585585744554, 0.9131030555499762, 0.8292980669532015].\n"
     ]
    },
    {
     "name": "stdout",
     "output_type": "stream",
     "text": [
      "\r",
      " 39%|███████████████▌                        | 78/200 [02:50<05:20,  2.63s/trial, best loss: 0.8564908048053047]"
     ]
    },
    {
     "name": "stderr",
     "output_type": "stream",
     "text": [
      "\n",
      "Iteration: 79, Training with params: {'boosting_type': 'gbdt', 'colsample_bytree': 0.4, 'learning_rate': 0.1, 'min_child_samples': 120, 'n_estimators': 10000, 'n_jobs': -1, 'num_leaves': 48, 'objective': 'regression', 'subsample': 1.0, 'subsample_freq': 5}\n"
     ]
    },
    {
     "name": "stdout",
     "output_type": "stream",
     "text": [
      "[100]\tvalid_0's rmse: 0.842336\tvalid_0's l2: 0.70953\tvalid_1's rmse: 0.805403\tvalid_1's l2: 0.648674            \n",
      "[200]\tvalid_0's rmse: 0.841843\tvalid_0's l2: 0.708699\tvalid_1's rmse: 0.757218\tvalid_1's l2: 0.573379           \n",
      "[100]\tvalid_0's rmse: 0.913988\tvalid_0's l2: 0.835374\tvalid_1's rmse: 0.799594\tvalid_1's l2: 0.63935            \n",
      "[200]\tvalid_0's rmse: 0.914866\tvalid_0's l2: 0.836981\tvalid_1's rmse: 0.750487\tvalid_1's l2: 0.563231           \n",
      "[100]\tvalid_0's rmse: 0.834298\tvalid_0's l2: 0.696052\tvalid_1's rmse: 0.802862\tvalid_1's l2: 0.644587           \n",
      "[200]\tvalid_0's rmse: 0.824885\tvalid_0's l2: 0.680435\tvalid_1's rmse: 0.755267\tvalid_1's l2: 0.570428           \n",
      "[300]\tvalid_0's rmse: 0.824662\tvalid_0's l2: 0.680067\tvalid_1's rmse: 0.722333\tvalid_1's l2: 0.521765           \n",
      "[400]\tvalid_0's rmse: 0.825034\tvalid_0's l2: 0.680681\tvalid_1's rmse: 0.695251\tvalid_1's l2: 0.483373           \n",
      " 39%|███████████████▌                        | 78/200 [02:52<05:20,  2.63s/trial, best loss: 0.8564908048053047]"
     ]
    },
    {
     "name": "stderr",
     "output_type": "stream",
     "text": [
      "Score - 0.8587578425346248, Std - 0.03857153482183735, Eval Score - 0.8587578425346248\n",
      "Score across folds - [0.8406921069226646, 0.9123649949155409, 0.8232164257656688].\n"
     ]
    },
    {
     "name": "stdout",
     "output_type": "stream",
     "text": [
      "\r",
      " 40%|███████████████▊                        | 79/200 [02:52<05:08,  2.55s/trial, best loss: 0.8564908048053047]"
     ]
    },
    {
     "name": "stderr",
     "output_type": "stream",
     "text": [
      "\n",
      "Iteration: 80, Training with params: {'boosting_type': 'gbdt', 'colsample_bytree': 0.6000000000000001, 'learning_rate': 0.1, 'min_child_samples': 200, 'n_estimators': 10000, 'n_jobs': -1, 'num_leaves': 48, 'objective': 'regression', 'subsample': 0.8, 'subsample_freq': 5}\n"
     ]
    },
    {
     "name": "stdout",
     "output_type": "stream",
     "text": [
      "[100]\tvalid_0's rmse: 0.839561\tvalid_0's l2: 0.704863\tvalid_1's rmse: 0.805581\tvalid_1's l2: 0.648961           \n",
      "[200]\tvalid_0's rmse: 0.84044\tvalid_0's l2: 0.706339\tvalid_1's rmse: 0.755169\tvalid_1's l2: 0.57028             \n",
      "[100]\tvalid_0's rmse: 0.923041\tvalid_0's l2: 0.852004\tvalid_1's rmse: 0.799293\tvalid_1's l2: 0.63887            \n",
      "[100]\tvalid_0's rmse: 0.837018\tvalid_0's l2: 0.700599\tvalid_1's rmse: 0.80324\tvalid_1's l2: 0.645194            \n",
      "[200]\tvalid_0's rmse: 0.827274\tvalid_0's l2: 0.684382\tvalid_1's rmse: 0.753831\tvalid_1's l2: 0.568262           \n",
      "[300]\tvalid_0's rmse: 0.830196\tvalid_0's l2: 0.689226\tvalid_1's rmse: 0.71743\tvalid_1's l2: 0.514706            \n",
      " 40%|███████████████▊                        | 79/200 [02:54<05:08,  2.55s/trial, best loss: 0.8564908048053047]"
     ]
    },
    {
     "name": "stderr",
     "output_type": "stream",
     "text": [
      "Score - 0.8613414655157602, Std - 0.042995026465352644, Eval Score - 0.8613414655157602\n",
      "Score across folds - [0.835505681288016, 0.9219274039619254, 0.8265913112973391].\n"
     ]
    },
    {
     "name": "stdout",
     "output_type": "stream",
     "text": [
      "\r",
      " 40%|████████████████                        | 80/200 [02:54<04:54,  2.45s/trial, best loss: 0.8564908048053047]"
     ]
    },
    {
     "name": "stderr",
     "output_type": "stream",
     "text": [
      "\n",
      "Iteration: 81, Training with params: {'boosting_type': 'gbdt', 'colsample_bytree': 0.4, 'learning_rate': 0.1, 'min_child_samples': 140, 'n_estimators': 10000, 'n_jobs': -1, 'num_leaves': 48, 'objective': 'regression', 'subsample': 1.0, 'subsample_freq': 5}\n"
     ]
    },
    {
     "name": "stdout",
     "output_type": "stream",
     "text": [
      "[100]\tvalid_0's rmse: 0.841924\tvalid_0's l2: 0.708836\tvalid_1's rmse: 0.808529\tvalid_1's l2: 0.65372            \n",
      "[200]\tvalid_0's rmse: 0.838729\tvalid_0's l2: 0.703466\tvalid_1's rmse: 0.761167\tvalid_1's l2: 0.579375           \n",
      "[300]\tvalid_0's rmse: 0.840681\tvalid_0's l2: 0.706745\tvalid_1's rmse: 0.729519\tvalid_1's l2: 0.532198           \n",
      "[100]\tvalid_0's rmse: 0.91165\tvalid_0's l2: 0.831106\tvalid_1's rmse: 0.802426\tvalid_1's l2: 0.643887            \n",
      "[200]\tvalid_0's rmse: 0.911332\tvalid_0's l2: 0.830525\tvalid_1's rmse: 0.756249\tvalid_1's l2: 0.571912           \n",
      "[100]\tvalid_0's rmse: 0.836024\tvalid_0's l2: 0.698936\tvalid_1's rmse: 0.806018\tvalid_1's l2: 0.649665           \n",
      "[200]\tvalid_0's rmse: 0.826374\tvalid_0's l2: 0.682894\tvalid_1's rmse: 0.759836\tvalid_1's l2: 0.577351           \n",
      "[300]\tvalid_0's rmse: 0.824005\tvalid_0's l2: 0.678984\tvalid_1's rmse: 0.728041\tvalid_1's l2: 0.530043           \n",
      " 40%|████████████████                        | 80/200 [02:57<04:54,  2.45s/trial, best loss: 0.8564908048053047]"
     ]
    },
    {
     "name": "stderr",
     "output_type": "stream",
     "text": [
      "Score - 0.8572653223427102, Std - 0.037669044061574744, Eval Score - 0.8572653223427102\n",
      "Score across folds - [0.838160568315972, 0.9098838299107583, 0.8237515688014002].\n"
     ]
    },
    {
     "name": "stdout",
     "output_type": "stream",
     "text": [
      "\r",
      " 40%|████████████████▏                       | 81/200 [02:57<04:51,  2.45s/trial, best loss: 0.8564908048053047]"
     ]
    },
    {
     "name": "stderr",
     "output_type": "stream",
     "text": [
      "\n",
      "Iteration: 82, Training with params: {'boosting_type': 'gbdt', 'colsample_bytree': 0.4, 'learning_rate': 0.1, 'min_child_samples': 160, 'n_estimators': 10000, 'n_jobs': -1, 'num_leaves': 48, 'objective': 'regression', 'subsample': 1.0, 'subsample_freq': 5}\n"
     ]
    },
    {
     "name": "stdout",
     "output_type": "stream",
     "text": [
      "[100]\tvalid_0's rmse: 0.842323\tvalid_0's l2: 0.709508\tvalid_1's rmse: 0.811013\tvalid_1's l2: 0.657741           \n",
      "[200]\tvalid_0's rmse: 0.840467\tvalid_0's l2: 0.706385\tvalid_1's rmse: 0.764861\tvalid_1's l2: 0.585012           \n",
      "[100]\tvalid_0's rmse: 0.914559\tvalid_0's l2: 0.836419\tvalid_1's rmse: 0.80637\tvalid_1's l2: 0.650233            \n",
      "[200]\tvalid_0's rmse: 0.910893\tvalid_0's l2: 0.829726\tvalid_1's rmse: 0.759936\tvalid_1's l2: 0.577503           \n",
      "[100]\tvalid_0's rmse: 0.834514\tvalid_0's l2: 0.696414\tvalid_1's rmse: 0.808732\tvalid_1's l2: 0.654047           \n",
      "[200]\tvalid_0's rmse: 0.824088\tvalid_0's l2: 0.679122\tvalid_1's rmse: 0.764016\tvalid_1's l2: 0.58372            \n",
      "[300]\tvalid_0's rmse: 0.822125\tvalid_0's l2: 0.675889\tvalid_1's rmse: 0.733359\tvalid_1's l2: 0.537816           \n",
      "[400]\tvalid_0's rmse: 0.822577\tvalid_0's l2: 0.676633\tvalid_1's rmse: 0.708006\tvalid_1's l2: 0.501272           \n",
      " 40%|████████████████▏                       | 81/200 [02:59<04:51,  2.45s/trial, best loss: 0.8564908048053047]"
     ]
    },
    {
     "name": "stderr",
     "output_type": "stream",
     "text": [
      "Score - 0.8566557748922121, Std - 0.03788678722769249, Eval Score - 0.8566557748922121\n",
      "Score across folds - [0.8391958038785456, 0.90925459932608, 0.8215169214720107].\n"
     ]
    },
    {
     "name": "stdout",
     "output_type": "stream",
     "text": [
      "\r",
      " 41%|████████████████▍                       | 82/200 [02:59<04:48,  2.44s/trial, best loss: 0.8564908048053047]"
     ]
    },
    {
     "name": "stderr",
     "output_type": "stream",
     "text": [
      "\n",
      "Iteration: 83, Training with params: {'boosting_type': 'gbdt', 'colsample_bytree': 1.0, 'learning_rate': 0.1, 'min_child_samples': 180, 'n_estimators': 10000, 'n_jobs': -1, 'num_leaves': 48, 'objective': 'regression', 'subsample': 0.8, 'subsample_freq': 5}\n"
     ]
    },
    {
     "name": "stdout",
     "output_type": "stream",
     "text": [
      "[100]\tvalid_0's rmse: 0.840238\tvalid_0's l2: 0.705999\tvalid_1's rmse: 0.790967\tvalid_1's l2: 0.625629           \n",
      "[200]\tvalid_0's rmse: 0.849437\tvalid_0's l2: 0.721544\tvalid_1's rmse: 0.735441\tvalid_1's l2: 0.540874           \n",
      "[100]\tvalid_0's rmse: 0.934861\tvalid_0's l2: 0.873966\tvalid_1's rmse: 0.784271\tvalid_1's l2: 0.615081           \n",
      "[200]\tvalid_0's rmse: 0.936077\tvalid_0's l2: 0.876241\tvalid_1's rmse: 0.729023\tvalid_1's l2: 0.531475           \n",
      "[100]\tvalid_0's rmse: 0.833534\tvalid_0's l2: 0.694779\tvalid_1's rmse: 0.791426\tvalid_1's l2: 0.626355           \n",
      "[200]\tvalid_0's rmse: 0.827164\tvalid_0's l2: 0.684201\tvalid_1's rmse: 0.735727\tvalid_1's l2: 0.541294           \n",
      " 41%|████████████████▍                       | 82/200 [03:01<04:48,  2.44s/trial, best loss: 0.8564908048053047]"
     ]
    },
    {
     "name": "stderr",
     "output_type": "stream",
     "text": [
      "Score - 0.8654327900584399, Std - 0.046351824582714966, Eval Score - 0.8654327900584399\n",
      "Score across folds - [0.8391776086935241, 0.9305770756747525, 0.8265436858070431].\n"
     ]
    },
    {
     "name": "stdout",
     "output_type": "stream",
     "text": [
      "\r",
      " 42%|████████████████▌                       | 83/200 [03:02<04:44,  2.43s/trial, best loss: 0.8564908048053047]"
     ]
    },
    {
     "name": "stderr",
     "output_type": "stream",
     "text": [
      "\n",
      "Iteration: 84, Training with params: {'boosting_type': 'gbdt', 'colsample_bytree': 0.4, 'learning_rate': 0.1, 'min_child_samples': 200, 'n_estimators': 10000, 'n_jobs': -1, 'num_leaves': 32, 'objective': 'regression', 'subsample': 1.0, 'subsample_freq': 5}\n"
     ]
    },
    {
     "name": "stdout",
     "output_type": "stream",
     "text": [
      "[100]\tvalid_0's rmse: 0.846538\tvalid_0's l2: 0.716626\tvalid_1's rmse: 0.83432\tvalid_1's l2: 0.696091            \n",
      "[200]\tvalid_0's rmse: 0.841493\tvalid_0's l2: 0.70811\tvalid_1's rmse: 0.796739\tvalid_1's l2: 0.634793            \n",
      "[300]\tvalid_0's rmse: 0.841261\tvalid_0's l2: 0.70772\tvalid_1's rmse: 0.772262\tvalid_1's l2: 0.596389            \n",
      "[100]\tvalid_0's rmse: 0.91364\tvalid_0's l2: 0.834738\tvalid_1's rmse: 0.827896\tvalid_1's l2: 0.685412            \n",
      "[200]\tvalid_0's rmse: 0.910359\tvalid_0's l2: 0.828754\tvalid_1's rmse: 0.790516\tvalid_1's l2: 0.624916           \n",
      "[300]\tvalid_0's rmse: 0.91292\tvalid_0's l2: 0.833422\tvalid_1's rmse: 0.765591\tvalid_1's l2: 0.586129            \n",
      "[100]\tvalid_0's rmse: 0.841361\tvalid_0's l2: 0.707889\tvalid_1's rmse: 0.831898\tvalid_1's l2: 0.692054           \n",
      "[200]\tvalid_0's rmse: 0.825682\tvalid_0's l2: 0.681752\tvalid_1's rmse: 0.795644\tvalid_1's l2: 0.633049           \n",
      "[300]\tvalid_0's rmse: 0.821903\tvalid_0's l2: 0.675525\tvalid_1's rmse: 0.771374\tvalid_1's l2: 0.595017           \n",
      "[400]\tvalid_0's rmse: 0.821245\tvalid_0's l2: 0.674444\tvalid_1's rmse: 0.752329\tvalid_1's l2: 0.566              \n",
      " 42%|████████████████▌                       | 83/200 [03:04<04:44,  2.43s/trial, best loss: 0.8564908048053047]"
     ]
    },
    {
     "name": "stderr",
     "output_type": "stream",
     "text": [
      "Score - 0.8565336421482427, Std - 0.038443083763419685, Eval Score - 0.8565336421482427\n",
      "Score across folds - [0.839337892693661, 0.9097973392051782, 0.8204656945458887].\n"
     ]
    },
    {
     "name": "stdout",
     "output_type": "stream",
     "text": [
      "\r",
      " 42%|████████████████▊                       | 84/200 [03:04<04:40,  2.42s/trial, best loss: 0.8564908048053047]"
     ]
    },
    {
     "name": "stderr",
     "output_type": "stream",
     "text": [
      "\n",
      "Iteration: 85, Training with params: {'boosting_type': 'gbdt', 'colsample_bytree': 0.6000000000000001, 'learning_rate': 0.1, 'min_child_samples': 220, 'n_estimators': 10000, 'n_jobs': -1, 'num_leaves': 16, 'objective': 'regression', 'subsample': 0.8, 'subsample_freq': 5}\n"
     ]
    },
    {
     "name": "stdout",
     "output_type": "stream",
     "text": [
      "[100]\tvalid_0's rmse: 0.852556\tvalid_0's l2: 0.726851\tvalid_1's rmse: 0.856339\tvalid_1's l2: 0.733317           \n",
      "[200]\tvalid_0's rmse: 0.842091\tvalid_0's l2: 0.709117\tvalid_1's rmse: 0.826907\tvalid_1's l2: 0.683774           \n",
      "[300]\tvalid_0's rmse: 0.842037\tvalid_0's l2: 0.709026\tvalid_1's rmse: 0.807944\tvalid_1's l2: 0.652773           \n",
      "[100]\tvalid_0's rmse: 0.92315\tvalid_0's l2: 0.852206\tvalid_1's rmse: 0.84871\tvalid_1's l2: 0.720309             \n",
      "[200]\tvalid_0's rmse: 0.917437\tvalid_0's l2: 0.841691\tvalid_1's rmse: 0.817803\tvalid_1's l2: 0.668801           \n",
      "[300]\tvalid_0's rmse: 0.918579\tvalid_0's l2: 0.843788\tvalid_1's rmse: 0.798078\tvalid_1's l2: 0.636929           \n",
      "[400]\tvalid_0's rmse: 0.918609\tvalid_0's l2: 0.843842\tvalid_1's rmse: 0.78296\tvalid_1's l2: 0.613026            \n",
      "[100]\tvalid_0's rmse: 0.853058\tvalid_0's l2: 0.727709\tvalid_1's rmse: 0.853242\tvalid_1's l2: 0.728022           \n",
      "[200]\tvalid_0's rmse: 0.834766\tvalid_0's l2: 0.696834\tvalid_1's rmse: 0.822575\tvalid_1's l2: 0.676629           \n",
      "[300]\tvalid_0's rmse: 0.832035\tvalid_0's l2: 0.692281\tvalid_1's rmse: 0.804103\tvalid_1's l2: 0.646582           \n",
      " 42%|████████████████▊                       | 84/200 [03:06<04:40,  2.42s/trial, best loss: 0.8564908048053047]"
     ]
    },
    {
     "name": "stderr",
     "output_type": "stream",
     "text": [
      "Score - 0.8624951554793244, Std - 0.037392371085396094, Eval Score - 0.8624951554793244\n",
      "Score across folds - [0.8411820779973359, 0.9150634905223982, 0.8312398979182389].\n"
     ]
    },
    {
     "name": "stdout",
     "output_type": "stream",
     "text": [
      "\r",
      " 42%|█████████████████                       | 85/200 [03:06<04:25,  2.31s/trial, best loss: 0.8564908048053047]"
     ]
    },
    {
     "name": "stderr",
     "output_type": "stream",
     "text": [
      "\n",
      "Iteration: 86, Training with params: {'boosting_type': 'gbdt', 'colsample_bytree': 0.4, 'learning_rate': 0.1, 'min_child_samples': 120, 'n_estimators': 10000, 'n_jobs': -1, 'num_leaves': 48, 'objective': 'regression', 'subsample': 0.6000000000000001, 'subsample_freq': 5}\n"
     ]
    },
    {
     "name": "stdout",
     "output_type": "stream",
     "text": [
      "[100]\tvalid_0's rmse: 0.854828\tvalid_0's l2: 0.730731\tvalid_1's rmse: 0.818458\tvalid_1's l2: 0.669874           \n",
      "[200]\tvalid_0's rmse: 0.846195\tvalid_0's l2: 0.716045\tvalid_1's rmse: 0.773432\tvalid_1's l2: 0.598197           \n",
      "[100]\tvalid_0's rmse: 0.913178\tvalid_0's l2: 0.833894\tvalid_1's rmse: 0.813584\tvalid_1's l2: 0.661919           \n",
      "[200]\tvalid_0's rmse: 0.910407\tvalid_0's l2: 0.828841\tvalid_1's rmse: 0.767879\tvalid_1's l2: 0.589638           \n",
      "[100]\tvalid_0's rmse: 0.8409\tvalid_0's l2: 0.707112\tvalid_1's rmse: 0.818695\tvalid_1's l2: 0.670262             \n",
      "[200]\tvalid_0's rmse: 0.828414\tvalid_0's l2: 0.68627\tvalid_1's rmse: 0.77437\tvalid_1's l2: 0.599648             \n",
      "[300]\tvalid_0's rmse: 0.830468\tvalid_0's l2: 0.689676\tvalid_1's rmse: 0.741648\tvalid_1's l2: 0.550042           \n",
      " 42%|█████████████████                       | 85/200 [03:08<04:25,  2.31s/trial, best loss: 0.8564908048053047]"
     ]
    },
    {
     "name": "stderr",
     "output_type": "stream",
     "text": [
      "Score - 0.8602716372322851, Std - 0.03470264888843993, Eval Score - 0.8602716372322851\n",
      "Score across folds - [0.8452082903481082, 0.908253680824679, 0.8273529405240679].\n"
     ]
    },
    {
     "name": "stdout",
     "output_type": "stream",
     "text": [
      "\r",
      " 43%|█████████████████▏                      | 86/200 [03:08<04:27,  2.35s/trial, best loss: 0.8564908048053047]"
     ]
    },
    {
     "name": "stderr",
     "output_type": "stream",
     "text": [
      "\n",
      "Iteration: 87, Training with params: {'boosting_type': 'gbdt', 'colsample_bytree': 0.6000000000000001, 'learning_rate': 0.1, 'min_child_samples': 80, 'n_estimators': 10000, 'n_jobs': -1, 'num_leaves': 48, 'objective': 'regression', 'subsample': 1.0, 'subsample_freq': 5}\n"
     ]
    },
    {
     "name": "stdout",
     "output_type": "stream",
     "text": [
      "[100]\tvalid_0's rmse: 0.8417\tvalid_0's l2: 0.70846\tvalid_1's rmse: 0.773046\tvalid_1's l2: 0.5976                \n",
      "[200]\tvalid_0's rmse: 0.838742\tvalid_0's l2: 0.703488\tvalid_1's rmse: 0.716076\tvalid_1's l2: 0.512765           \n",
      "[300]\tvalid_0's rmse: 0.841158\tvalid_0's l2: 0.707546\tvalid_1's rmse: 0.675893\tvalid_1's l2: 0.456832           \n",
      "[100]\tvalid_0's rmse: 0.919322\tvalid_0's l2: 0.845153\tvalid_1's rmse: 0.767894\tvalid_1's l2: 0.589661           \n",
      "[200]\tvalid_0's rmse: 0.916075\tvalid_0's l2: 0.839193\tvalid_1's rmse: 0.712043\tvalid_1's l2: 0.507005           \n",
      "[100]\tvalid_0's rmse: 0.836041\tvalid_0's l2: 0.698964\tvalid_1's rmse: 0.77232\tvalid_1's l2: 0.596479            \n",
      "[200]\tvalid_0's rmse: 0.831282\tvalid_0's l2: 0.69103\tvalid_1's rmse: 0.717247\tvalid_1's l2: 0.514443            \n",
      " 43%|█████████████████▏                      | 86/200 [03:10<04:27,  2.35s/trial, best loss: 0.8564908048053047]"
     ]
    },
    {
     "name": "stderr",
     "output_type": "stream",
     "text": [
      "Score - 0.8613715038800848, Std - 0.03833117405562839, Eval Score - 0.8613715038800848\n",
      "Score across folds - [0.838505305487134, 0.9153695074581628, 0.8302396986949574].\n"
     ]
    },
    {
     "name": "stdout",
     "output_type": "stream",
     "text": [
      "\r",
      " 44%|█████████████████▍                      | 87/200 [03:11<04:17,  2.28s/trial, best loss: 0.8564908048053047]"
     ]
    },
    {
     "name": "stderr",
     "output_type": "stream",
     "text": [
      "\n",
      "Iteration: 88, Training with params: {'boosting_type': 'gbdt', 'colsample_bytree': 0.4, 'learning_rate': 0.1, 'min_child_samples': 140, 'n_estimators': 10000, 'n_jobs': -1, 'num_leaves': 32, 'objective': 'regression', 'subsample': 1.0, 'subsample_freq': 5}\n"
     ]
    },
    {
     "name": "stdout",
     "output_type": "stream",
     "text": [
      "[100]\tvalid_0's rmse: 0.844561\tvalid_0's l2: 0.713283\tvalid_1's rmse: 0.828513\tvalid_1's l2: 0.686434           \n",
      "[200]\tvalid_0's rmse: 0.837071\tvalid_0's l2: 0.700688\tvalid_1's rmse: 0.787438\tvalid_1's l2: 0.620059           \n",
      "[100]\tvalid_0's rmse: 0.912888\tvalid_0's l2: 0.833365\tvalid_1's rmse: 0.821998\tvalid_1's l2: 0.67568            \n",
      "[200]\tvalid_0's rmse: 0.91065\tvalid_0's l2: 0.829283\tvalid_1's rmse: 0.782259\tvalid_1's l2: 0.611929            \n",
      "[100]\tvalid_0's rmse: 0.838814\tvalid_0's l2: 0.703609\tvalid_1's rmse: 0.826725\tvalid_1's l2: 0.683474           \n",
      "[200]\tvalid_0's rmse: 0.825953\tvalid_0's l2: 0.682199\tvalid_1's rmse: 0.787548\tvalid_1's l2: 0.620231           \n",
      "[300]\tvalid_0's rmse: 0.821586\tvalid_0's l2: 0.675004\tvalid_1's rmse: 0.762009\tvalid_1's l2: 0.580658           \n",
      "[400]\tvalid_0's rmse: 0.821016\tvalid_0's l2: 0.674068\tvalid_1's rmse: 0.742189\tvalid_1's l2: 0.550844           \n",
      " 44%|█████████████████▍                      | 87/200 [03:12<04:17,  2.28s/trial, best loss: 0.8564908048053047]"
     ]
    },
    {
     "name": "stderr",
     "output_type": "stream",
     "text": [
      "Score - 0.8556835317803139, Std - 0.03887973282944099, Eval Score - 0.8556835317803139\n",
      "Score across folds - [0.8364953899342424, 0.9099017200246406, 0.8206534853820585].\n"
     ]
    },
    {
     "name": "stdout",
     "output_type": "stream",
     "text": [
      "\r",
      " 44%|█████████████████▌                      | 88/200 [03:13<04:05,  2.19s/trial, best loss: 0.8556835317803139]"
     ]
    },
    {
     "name": "stderr",
     "output_type": "stream",
     "text": [
      "\n",
      "Iteration: 89, Training with params: {'boosting_type': 'gbdt', 'colsample_bytree': 0.6000000000000001, 'learning_rate': 0.1, 'min_child_samples': 140, 'n_estimators': 10000, 'n_jobs': -1, 'num_leaves': 16, 'objective': 'regression', 'subsample': 0.4, 'subsample_freq': 5}\n"
     ]
    },
    {
     "name": "stdout",
     "output_type": "stream",
     "text": [
      "[100]\tvalid_0's rmse: 0.851024\tvalid_0's l2: 0.724241\tvalid_1's rmse: 0.861629\tvalid_1's l2: 0.742404           \n",
      "[200]\tvalid_0's rmse: 0.842869\tvalid_0's l2: 0.710428\tvalid_1's rmse: 0.833025\tvalid_1's l2: 0.693931           \n",
      "[300]\tvalid_0's rmse: 0.841054\tvalid_0's l2: 0.707372\tvalid_1's rmse: 0.813611\tvalid_1's l2: 0.661962           \n",
      "[400]\tvalid_0's rmse: 0.839392\tvalid_0's l2: 0.704579\tvalid_1's rmse: 0.799225\tvalid_1's l2: 0.638761           \n",
      "[100]\tvalid_0's rmse: 0.934764\tvalid_0's l2: 0.873783\tvalid_1's rmse: 0.853722\tvalid_1's l2: 0.728841           \n",
      "[200]\tvalid_0's rmse: 0.923132\tvalid_0's l2: 0.852173\tvalid_1's rmse: 0.825317\tvalid_1's l2: 0.681148           \n",
      "[300]\tvalid_0's rmse: 0.92407\tvalid_0's l2: 0.853906\tvalid_1's rmse: 0.80642\tvalid_1's l2: 0.650314             \n",
      "[100]\tvalid_0's rmse: 0.853962\tvalid_0's l2: 0.729251\tvalid_1's rmse: 0.859371\tvalid_1's l2: 0.738519           \n",
      "[200]\tvalid_0's rmse: 0.839238\tvalid_0's l2: 0.70432\tvalid_1's rmse: 0.831311\tvalid_1's l2: 0.691078            \n",
      "[300]\tvalid_0's rmse: 0.840177\tvalid_0's l2: 0.705898\tvalid_1's rmse: 0.812825\tvalid_1's l2: 0.660685           \n",
      " 44%|█████████████████▌                      | 88/200 [03:14<04:05,  2.19s/trial, best loss: 0.8556835317803139]"
     ]
    },
    {
     "name": "stderr",
     "output_type": "stream",
     "text": [
      "Score - 0.8636107249031775, Std - 0.03674890096611394, Eval Score - 0.8636107249031775\n",
      "Score across folds - [0.8373022893090338, 0.9155801748361966, 0.8379497105643021].\n"
     ]
    },
    {
     "name": "stdout",
     "output_type": "stream",
     "text": [
      "\r",
      " 44%|█████████████████▊                      | 89/200 [03:14<03:49,  2.07s/trial, best loss: 0.8556835317803139]"
     ]
    },
    {
     "name": "stderr",
     "output_type": "stream",
     "text": [
      "\n",
      "Iteration: 90, Training with params: {'boosting_type': 'gbdt', 'colsample_bytree': 0.4, 'learning_rate': 0.1, 'min_child_samples': 100, 'n_estimators': 10000, 'n_jobs': -1, 'num_leaves': 16, 'objective': 'regression', 'subsample': 1.0, 'subsample_freq': 5}\n"
     ]
    },
    {
     "name": "stdout",
     "output_type": "stream",
     "text": [
      "[100]\tvalid_0's rmse: 0.851631\tvalid_0's l2: 0.725275\tvalid_1's rmse: 0.861951\tvalid_1's l2: 0.742959           \n",
      "[200]\tvalid_0's rmse: 0.839813\tvalid_0's l2: 0.705287\tvalid_1's rmse: 0.826827\tvalid_1's l2: 0.683643           \n",
      "[300]\tvalid_0's rmse: 0.840157\tvalid_0's l2: 0.705864\tvalid_1's rmse: 0.807698\tvalid_1's l2: 0.652375           \n",
      "[100]\tvalid_0's rmse: 0.920268\tvalid_0's l2: 0.846893\tvalid_1's rmse: 0.854129\tvalid_1's l2: 0.729537           \n",
      "[200]\tvalid_0's rmse: 0.910268\tvalid_0's l2: 0.828588\tvalid_1's rmse: 0.819456\tvalid_1's l2: 0.671508           \n",
      "[300]\tvalid_0's rmse: 0.912703\tvalid_0's l2: 0.833026\tvalid_1's rmse: 0.800507\tvalid_1's l2: 0.640811           \n",
      "[100]\tvalid_0's rmse: 0.855033\tvalid_0's l2: 0.731081\tvalid_1's rmse: 0.859548\tvalid_1's l2: 0.738823           \n",
      "[200]\tvalid_0's rmse: 0.838013\tvalid_0's l2: 0.702266\tvalid_1's rmse: 0.825428\tvalid_1's l2: 0.681331           \n",
      "[300]\tvalid_0's rmse: 0.830909\tvalid_0's l2: 0.69041\tvalid_1's rmse: 0.805652\tvalid_1's l2: 0.649076            \n",
      "[400]\tvalid_0's rmse: 0.827761\tvalid_0's l2: 0.685188\tvalid_1's rmse: 0.790975\tvalid_1's l2: 0.625641           \n",
      "[500]\tvalid_0's rmse: 0.826417\tvalid_0's l2: 0.682965\tvalid_1's rmse: 0.778116\tvalid_1's l2: 0.605464           \n",
      "[600]\tvalid_0's rmse: 0.82569\tvalid_0's l2: 0.681763\tvalid_1's rmse: 0.766391\tvalid_1's l2: 0.587356            \n",
      "[700]\tvalid_0's rmse: 0.824485\tvalid_0's l2: 0.679775\tvalid_1's rmse: 0.756197\tvalid_1's l2: 0.571834           \n",
      " 44%|█████████████████▊                      | 89/200 [03:16<03:49,  2.07s/trial, best loss: 0.8556835317803139]"
     ]
    },
    {
     "name": "stderr",
     "output_type": "stream",
     "text": [
      "Score - 0.8575583056792316, Std - 0.03741807946595835, Eval Score - 0.8575583056792316\n",
      "Score across folds - [0.8384607102382885, 0.9098462001690747, 0.8243680066303314].\n"
     ]
    },
    {
     "name": "stdout",
     "output_type": "stream",
     "text": [
      "\r",
      " 45%|██████████████████                      | 90/200 [03:16<03:46,  2.06s/trial, best loss: 0.8556835317803139]"
     ]
    },
    {
     "name": "stderr",
     "output_type": "stream",
     "text": [
      "\n",
      "Iteration: 91, Training with params: {'boosting_type': 'gbdt', 'colsample_bytree': 0.4, 'learning_rate': 0.1, 'min_child_samples': 140, 'n_estimators': 10000, 'n_jobs': -1, 'num_leaves': 32, 'objective': 'regression', 'subsample': 1.0, 'subsample_freq': 5}\n"
     ]
    },
    {
     "name": "stdout",
     "output_type": "stream",
     "text": [
      "[100]\tvalid_0's rmse: 0.844561\tvalid_0's l2: 0.713283\tvalid_1's rmse: 0.828513\tvalid_1's l2: 0.686434           \n",
      "[200]\tvalid_0's rmse: 0.837071\tvalid_0's l2: 0.700688\tvalid_1's rmse: 0.787438\tvalid_1's l2: 0.620059           \n",
      "[100]\tvalid_0's rmse: 0.912888\tvalid_0's l2: 0.833365\tvalid_1's rmse: 0.821998\tvalid_1's l2: 0.67568            \n",
      "[200]\tvalid_0's rmse: 0.91065\tvalid_0's l2: 0.829283\tvalid_1's rmse: 0.782259\tvalid_1's l2: 0.611929            \n",
      "[100]\tvalid_0's rmse: 0.838814\tvalid_0's l2: 0.703609\tvalid_1's rmse: 0.826725\tvalid_1's l2: 0.683474           \n",
      "[200]\tvalid_0's rmse: 0.825953\tvalid_0's l2: 0.682199\tvalid_1's rmse: 0.787548\tvalid_1's l2: 0.620231           \n",
      "[300]\tvalid_0's rmse: 0.821586\tvalid_0's l2: 0.675004\tvalid_1's rmse: 0.762009\tvalid_1's l2: 0.580658           \n",
      "[400]\tvalid_0's rmse: 0.821016\tvalid_0's l2: 0.674068\tvalid_1's rmse: 0.742189\tvalid_1's l2: 0.550844           \n",
      " 45%|██████████████████                      | 90/200 [03:18<03:46,  2.06s/trial, best loss: 0.8556835317803139]"
     ]
    },
    {
     "name": "stderr",
     "output_type": "stream",
     "text": [
      "Score - 0.8556835317803139, Std - 0.03887973282944099, Eval Score - 0.8556835317803139\n",
      "Score across folds - [0.8364953899342424, 0.9099017200246406, 0.8206534853820585].\n"
     ]
    },
    {
     "name": "stdout",
     "output_type": "stream",
     "text": [
      "\r",
      " 46%|██████████████████▏                     | 91/200 [03:18<03:42,  2.04s/trial, best loss: 0.8556835317803139]"
     ]
    },
    {
     "name": "stderr",
     "output_type": "stream",
     "text": [
      "\n",
      "Iteration: 92, Training with params: {'boosting_type': 'gbdt', 'colsample_bytree': 0.8, 'learning_rate': 0.1, 'min_child_samples': 120, 'n_estimators': 10000, 'n_jobs': -1, 'num_leaves': 32, 'objective': 'regression', 'subsample': 0.8, 'subsample_freq': 5}\n"
     ]
    },
    {
     "name": "stdout",
     "output_type": "stream",
     "text": [
      "[100]\tvalid_0's rmse: 0.840045\tvalid_0's l2: 0.705676\tvalid_1's rmse: 0.807569\tvalid_1's l2: 0.652168           \n",
      "[200]\tvalid_0's rmse: 0.842605\tvalid_0's l2: 0.709983\tvalid_1's rmse: 0.762432\tvalid_1's l2: 0.581303           \n",
      "[100]\tvalid_0's rmse: 0.930802\tvalid_0's l2: 0.866393\tvalid_1's rmse: 0.800011\tvalid_1's l2: 0.640018           \n",
      "[100]\tvalid_0's rmse: 0.83921\tvalid_0's l2: 0.704273\tvalid_1's rmse: 0.805619\tvalid_1's l2: 0.649021            \n",
      "[200]\tvalid_0's rmse: 0.828384\tvalid_0's l2: 0.686221\tvalid_1's rmse: 0.75964\tvalid_1's l2: 0.577053            \n",
      " 46%|██████████████████▏                     | 91/200 [03:20<03:42,  2.04s/trial, best loss: 0.8556835317803139]"
     ]
    },
    {
     "name": "stderr",
     "output_type": "stream",
     "text": [
      "Score - 0.8654024319123991, Std - 0.04542742717076477, Eval Score - 0.8654024319123991\n",
      "Score across folds - [0.8388027077786263, 0.9293463234007098, 0.828058264557861].\n"
     ]
    },
    {
     "name": "stdout",
     "output_type": "stream",
     "text": [
      "\r",
      " 46%|██████████████████▍                     | 92/200 [03:20<03:27,  1.92s/trial, best loss: 0.8556835317803139]"
     ]
    },
    {
     "name": "stderr",
     "output_type": "stream",
     "text": [
      "\n",
      "Iteration: 93, Training with params: {'boosting_type': 'gbdt', 'colsample_bytree': 0.4, 'learning_rate': 0.1, 'min_child_samples': 100, 'n_estimators': 10000, 'n_jobs': -1, 'num_leaves': 32, 'objective': 'regression', 'subsample': 1.0, 'subsample_freq': 5}\n"
     ]
    },
    {
     "name": "stdout",
     "output_type": "stream",
     "text": [
      "[100]\tvalid_0's rmse: 0.843722\tvalid_0's l2: 0.711867\tvalid_1's rmse: 0.823887\tvalid_1's l2: 0.67879            \n",
      "[200]\tvalid_0's rmse: 0.838542\tvalid_0's l2: 0.703153\tvalid_1's rmse: 0.782118\tvalid_1's l2: 0.611709           \n",
      "[100]\tvalid_0's rmse: 0.912519\tvalid_0's l2: 0.832691\tvalid_1's rmse: 0.818736\tvalid_1's l2: 0.670329           \n",
      "[200]\tvalid_0's rmse: 0.908286\tvalid_0's l2: 0.824984\tvalid_1's rmse: 0.776919\tvalid_1's l2: 0.603603           \n",
      "[300]\tvalid_0's rmse: 0.912848\tvalid_0's l2: 0.833291\tvalid_1's rmse: 0.749963\tvalid_1's l2: 0.562445           \n",
      "[100]\tvalid_0's rmse: 0.837682\tvalid_0's l2: 0.701712\tvalid_1's rmse: 0.822228\tvalid_1's l2: 0.676058           \n",
      "[200]\tvalid_0's rmse: 0.827061\tvalid_0's l2: 0.68403\tvalid_1's rmse: 0.782108\tvalid_1's l2: 0.611693            \n",
      "[300]\tvalid_0's rmse: 0.823768\tvalid_0's l2: 0.678593\tvalid_1's rmse: 0.754798\tvalid_1's l2: 0.56972            \n",
      "[400]\tvalid_0's rmse: 0.822729\tvalid_0's l2: 0.676883\tvalid_1's rmse: 0.732564\tvalid_1's l2: 0.536649           \n",
      " 46%|██████████████████▍                     | 92/200 [03:22<03:27,  1.92s/trial, best loss: 0.8556835317803139]"
     ]
    },
    {
     "name": "stderr",
     "output_type": "stream",
     "text": [
      "Score - 0.8558334731436926, Std - 0.037637339599154614, Eval Score - 0.8558334731436926\n",
      "Score across folds - [0.8378578141428544, 0.9082092129506397, 0.8214333923375835].\n"
     ]
    },
    {
     "name": "stdout",
     "output_type": "stream",
     "text": [
      "\r",
      " 46%|██████████████████▌                     | 93/200 [03:22<03:31,  1.98s/trial, best loss: 0.8556835317803139]"
     ]
    },
    {
     "name": "stderr",
     "output_type": "stream",
     "text": [
      "\n",
      "Iteration: 94, Training with params: {'boosting_type': 'gbdt', 'colsample_bytree': 0.6000000000000001, 'learning_rate': 0.1, 'min_child_samples': 100, 'n_estimators': 10000, 'n_jobs': -1, 'num_leaves': 32, 'objective': 'regression', 'subsample': 1.0, 'subsample_freq': 5}\n"
     ]
    },
    {
     "name": "stdout",
     "output_type": "stream",
     "text": [
      "[100]\tvalid_0's rmse: 0.842268\tvalid_0's l2: 0.709415\tvalid_1's rmse: 0.806132\tvalid_1's l2: 0.649849           \n",
      "[200]\tvalid_0's rmse: 0.839987\tvalid_0's l2: 0.705578\tvalid_1's rmse: 0.761383\tvalid_1's l2: 0.579704           \n",
      "[300]\tvalid_0's rmse: 0.839331\tvalid_0's l2: 0.704476\tvalid_1's rmse: 0.729741\tvalid_1's l2: 0.532522           \n",
      "[100]\tvalid_0's rmse: 0.915706\tvalid_0's l2: 0.838518\tvalid_1's rmse: 0.79903\tvalid_1's l2: 0.638449            \n",
      "[200]\tvalid_0's rmse: 0.915767\tvalid_0's l2: 0.838629\tvalid_1's rmse: 0.754556\tvalid_1's l2: 0.569354           \n",
      "[100]\tvalid_0's rmse: 0.839669\tvalid_0's l2: 0.705044\tvalid_1's rmse: 0.806492\tvalid_1's l2: 0.65043            \n",
      "[200]\tvalid_0's rmse: 0.830258\tvalid_0's l2: 0.689328\tvalid_1's rmse: 0.76346\tvalid_1's l2: 0.582872            \n",
      "[300]\tvalid_0's rmse: 0.828796\tvalid_0's l2: 0.686902\tvalid_1's rmse: 0.732845\tvalid_1's l2: 0.537062           \n",
      " 46%|██████████████████▌                     | 93/200 [03:24<03:31,  1.98s/trial, best loss: 0.8556835317803139]"
     ]
    },
    {
     "name": "stderr",
     "output_type": "stream",
     "text": [
      "Score - 0.8601508037432577, Std - 0.03858564326451518, Eval Score - 0.8601508037432577\n",
      "Score across folds - [0.8377453755312241, 0.9144438345014088, 0.8282632011971404].\n"
     ]
    },
    {
     "name": "stdout",
     "output_type": "stream",
     "text": [
      "\r",
      " 47%|██████████████████▊                     | 94/200 [03:24<03:29,  1.97s/trial, best loss: 0.8556835317803139]"
     ]
    },
    {
     "name": "stderr",
     "output_type": "stream",
     "text": [
      "\n",
      "Iteration: 95, Training with params: {'boosting_type': 'gbdt', 'colsample_bytree': 0.4, 'learning_rate': 0.1, 'min_child_samples': 80, 'n_estimators': 10000, 'n_jobs': -1, 'num_leaves': 32, 'objective': 'regression', 'subsample': 0.6000000000000001, 'subsample_freq': 5}\n"
     ]
    },
    {
     "name": "stdout",
     "output_type": "stream",
     "text": [
      "[100]\tvalid_0's rmse: 0.853105\tvalid_0's l2: 0.727789\tvalid_1's rmse: 0.828408\tvalid_1's l2: 0.68626            \n",
      "[200]\tvalid_0's rmse: 0.844101\tvalid_0's l2: 0.712506\tvalid_1's rmse: 0.786926\tvalid_1's l2: 0.619253           \n",
      "[100]\tvalid_0's rmse: 0.916504\tvalid_0's l2: 0.839979\tvalid_1's rmse: 0.823475\tvalid_1's l2: 0.678111           \n",
      "[200]\tvalid_0's rmse: 0.914486\tvalid_0's l2: 0.836284\tvalid_1's rmse: 0.78116\tvalid_1's l2: 0.610211            \n",
      "[100]\tvalid_0's rmse: 0.838471\tvalid_0's l2: 0.703034\tvalid_1's rmse: 0.827383\tvalid_1's l2: 0.684563           \n",
      "[200]\tvalid_0's rmse: 0.825407\tvalid_0's l2: 0.681296\tvalid_1's rmse: 0.78608\tvalid_1's l2: 0.617921            \n",
      "[300]\tvalid_0's rmse: 0.824132\tvalid_0's l2: 0.679193\tvalid_1's rmse: 0.756507\tvalid_1's l2: 0.572303           \n",
      "[400]\tvalid_0's rmse: 0.826728\tvalid_0's l2: 0.68348\tvalid_1's rmse: 0.733101\tvalid_1's l2: 0.537438            \n",
      " 47%|██████████████████▊                     | 94/200 [03:26<03:29,  1.97s/trial, best loss: 0.8556835317803139]"
     ]
    },
    {
     "name": "stderr",
     "output_type": "stream",
     "text": [
      "Score - 0.8593618122446712, Std - 0.037352874755493495, Eval Score - 0.8593618122446712\n",
      "Score across folds - [0.8437162623119291, 0.9108797637666523, 0.8234894106554322].\n"
     ]
    },
    {
     "name": "stdout",
     "output_type": "stream",
     "text": [
      "\r",
      " 48%|███████████████████                     | 95/200 [03:26<03:29,  1.99s/trial, best loss: 0.8556835317803139]"
     ]
    },
    {
     "name": "stderr",
     "output_type": "stream",
     "text": [
      "\n",
      "Iteration: 96, Training with params: {'boosting_type': 'gbdt', 'colsample_bytree': 0.4, 'learning_rate': 0.1, 'min_child_samples': 40, 'n_estimators': 10000, 'n_jobs': -1, 'num_leaves': 32, 'objective': 'regression', 'subsample': 0.8, 'subsample_freq': 5}\n"
     ]
    },
    {
     "name": "stdout",
     "output_type": "stream",
     "text": [
      "[100]\tvalid_0's rmse: 0.845938\tvalid_0's l2: 0.715611\tvalid_1's rmse: 0.81852\tvalid_1's l2: 0.669974            \n",
      "[200]\tvalid_0's rmse: 0.841909\tvalid_0's l2: 0.70881\tvalid_1's rmse: 0.770534\tvalid_1's l2: 0.593723            \n",
      "[100]\tvalid_0's rmse: 0.917411\tvalid_0's l2: 0.841642\tvalid_1's rmse: 0.81218\tvalid_1's l2: 0.659636            \n",
      "[200]\tvalid_0's rmse: 0.916603\tvalid_0's l2: 0.840161\tvalid_1's rmse: 0.764333\tvalid_1's l2: 0.584205           \n",
      "[300]\tvalid_0's rmse: 0.92083\tvalid_0's l2: 0.847927\tvalid_1's rmse: 0.728673\tvalid_1's l2: 0.530965            \n",
      "[100]\tvalid_0's rmse: 0.846896\tvalid_0's l2: 0.717232\tvalid_1's rmse: 0.812614\tvalid_1's l2: 0.660341           \n",
      "[200]\tvalid_0's rmse: 0.835289\tvalid_0's l2: 0.697708\tvalid_1's rmse: 0.760978\tvalid_1's l2: 0.579087           \n",
      "[300]\tvalid_0's rmse: 0.835706\tvalid_0's l2: 0.698404\tvalid_1's rmse: 0.726095\tvalid_1's l2: 0.527213           \n",
      " 48%|███████████████████                     | 95/200 [03:28<03:29,  1.99s/trial, best loss: 0.8556835317803139]"
     ]
    },
    {
     "name": "stderr",
     "output_type": "stream",
     "text": [
      "Score - 0.8629705177512577, Std - 0.03712668589123259, Eval Score - 0.8629705177512577\n",
      "Score across folds - [0.8408815158000807, 0.9152659969273693, 0.8327640405263226].\n"
     ]
    },
    {
     "name": "stdout",
     "output_type": "stream",
     "text": [
      "\r",
      " 48%|███████████████████▏                    | 96/200 [03:28<03:27,  1.99s/trial, best loss: 0.8556835317803139]"
     ]
    },
    {
     "name": "stderr",
     "output_type": "stream",
     "text": [
      "\n",
      "Iteration: 97, Training with params: {'boosting_type': 'gbdt', 'colsample_bytree': 0.8, 'learning_rate': 0.1, 'min_child_samples': 80, 'n_estimators': 10000, 'n_jobs': -1, 'num_leaves': 32, 'objective': 'regression', 'subsample': 1.0, 'subsample_freq': 5}\n"
     ]
    },
    {
     "name": "stdout",
     "output_type": "stream",
     "text": [
      "[100]\tvalid_0's rmse: 0.842314\tvalid_0's l2: 0.709493\tvalid_1's rmse: 0.800625\tvalid_1's l2: 0.641              \n",
      "[200]\tvalid_0's rmse: 0.84302\tvalid_0's l2: 0.710683\tvalid_1's rmse: 0.751861\tvalid_1's l2: 0.565295            \n",
      "[100]\tvalid_0's rmse: 0.918872\tvalid_0's l2: 0.844325\tvalid_1's rmse: 0.794428\tvalid_1's l2: 0.631116           \n",
      "[200]\tvalid_0's rmse: 0.918435\tvalid_0's l2: 0.843522\tvalid_1's rmse: 0.746098\tvalid_1's l2: 0.556662           \n",
      "[100]\tvalid_0's rmse: 0.835617\tvalid_0's l2: 0.698255\tvalid_1's rmse: 0.799326\tvalid_1's l2: 0.638923           \n",
      "[200]\tvalid_0's rmse: 0.825488\tvalid_0's l2: 0.681431\tvalid_1's rmse: 0.750792\tvalid_1's l2: 0.563688           \n",
      " 48%|███████████████████▏                    | 96/200 [03:29<03:27,  1.99s/trial, best loss: 0.8556835317803139]"
     ]
    },
    {
     "name": "stderr",
     "output_type": "stream",
     "text": [
      "Score - 0.8610629220423514, Std - 0.03942008229911186, Eval Score - 0.8610629220423514\n",
      "Score across folds - [0.8417562883319302, 0.9160081228700999, 0.8254243549250238].\n"
     ]
    },
    {
     "name": "stdout",
     "output_type": "stream",
     "text": [
      "\r",
      " 48%|███████████████████▍                    | 97/200 [03:30<03:11,  1.85s/trial, best loss: 0.8556835317803139]"
     ]
    },
    {
     "name": "stderr",
     "output_type": "stream",
     "text": [
      "\n",
      "Iteration: 98, Training with params: {'boosting_type': 'gbdt', 'colsample_bytree': 0.6000000000000001, 'learning_rate': 0.1, 'min_child_samples': 60, 'n_estimators': 10000, 'n_jobs': -1, 'num_leaves': 32, 'objective': 'regression', 'subsample': 0.8, 'subsample_freq': 5}\n"
     ]
    },
    {
     "name": "stdout",
     "output_type": "stream",
     "text": [
      "[100]\tvalid_0's rmse: 0.845591\tvalid_0's l2: 0.715025\tvalid_1's rmse: 0.803063\tvalid_1's l2: 0.644911           \n",
      "[200]\tvalid_0's rmse: 0.845771\tvalid_0's l2: 0.715329\tvalid_1's rmse: 0.75212\tvalid_1's l2: 0.565685            \n",
      "[100]\tvalid_0's rmse: 0.923647\tvalid_0's l2: 0.853124\tvalid_1's rmse: 0.79632\tvalid_1's l2: 0.634126            \n",
      "[200]\tvalid_0's rmse: 0.92518\tvalid_0's l2: 0.855959\tvalid_1's rmse: 0.744657\tvalid_1's l2: 0.554514            \n",
      "[100]\tvalid_0's rmse: 0.841188\tvalid_0's l2: 0.707597\tvalid_1's rmse: 0.801521\tvalid_1's l2: 0.642436           \n",
      "[200]\tvalid_0's rmse: 0.830398\tvalid_0's l2: 0.689562\tvalid_1's rmse: 0.750156\tvalid_1's l2: 0.562733           \n",
      "[300]\tvalid_0's rmse: 0.832456\tvalid_0's l2: 0.692983\tvalid_1's rmse: 0.713334\tvalid_1's l2: 0.508846           \n",
      " 48%|███████████████████▍                    | 97/200 [03:31<03:11,  1.85s/trial, best loss: 0.8556835317803139]"
     ]
    },
    {
     "name": "stderr",
     "output_type": "stream",
     "text": [
      "Score - 0.8639516304539799, Std - 0.04018061137589312, Eval Score - 0.8639516304539799\n",
      "Score across folds - [0.8415363422633929, 0.9203797172418271, 0.8299388318567199].\n"
     ]
    },
    {
     "name": "stdout",
     "output_type": "stream",
     "text": [
      "\r",
      " 49%|███████████████████▌                    | 98/200 [03:31<03:06,  1.83s/trial, best loss: 0.8556835317803139]"
     ]
    },
    {
     "name": "stderr",
     "output_type": "stream",
     "text": [
      "\n",
      "Iteration: 99, Training with params: {'boosting_type': 'gbdt', 'colsample_bytree': 1.0, 'learning_rate': 0.1, 'min_child_samples': 100, 'n_estimators': 10000, 'n_jobs': -1, 'num_leaves': 32, 'objective': 'regression', 'subsample': 1.0, 'subsample_freq': 5}\n"
     ]
    },
    {
     "name": "stdout",
     "output_type": "stream",
     "text": [
      "[100]\tvalid_0's rmse: 0.840187\tvalid_0's l2: 0.705915\tvalid_1's rmse: 0.800506\tvalid_1's l2: 0.640811           \n",
      "[200]\tvalid_0's rmse: 0.843991\tvalid_0's l2: 0.712321\tvalid_1's rmse: 0.752636\tvalid_1's l2: 0.566462           \n",
      "[100]\tvalid_0's rmse: 0.920225\tvalid_0's l2: 0.846815\tvalid_1's rmse: 0.794748\tvalid_1's l2: 0.631625           \n",
      "[200]\tvalid_0's rmse: 0.923183\tvalid_0's l2: 0.852267\tvalid_1's rmse: 0.748768\tvalid_1's l2: 0.560654           \n",
      "[100]\tvalid_0's rmse: 0.832541\tvalid_0's l2: 0.693125\tvalid_1's rmse: 0.800004\tvalid_1's l2: 0.640007           \n",
      "[200]\tvalid_0's rmse: 0.826936\tvalid_0's l2: 0.683823\tvalid_1's rmse: 0.752877\tvalid_1's l2: 0.566823           \n",
      " 49%|███████████████████▌                    | 98/200 [03:33<03:06,  1.83s/trial, best loss: 0.8556835317803139]"
     ]
    },
    {
     "name": "stderr",
     "output_type": "stream",
     "text": [
      "Score - 0.861626791327914, Std - 0.040899021806495, Eval Score - 0.861626791327914\n",
      "Score across folds - [0.8394410157659019, 0.9189791484003661, 0.8264602098174737].\n"
     ]
    },
    {
     "name": "stdout",
     "output_type": "stream",
     "text": [
      "\r",
      " 50%|███████████████████▊                    | 99/200 [03:33<02:56,  1.75s/trial, best loss: 0.8556835317803139]"
     ]
    },
    {
     "name": "stderr",
     "output_type": "stream",
     "text": [
      "\n",
      "Iteration: 100, Training with params: {'boosting_type': 'gbdt', 'colsample_bytree': 0.4, 'learning_rate': 0.1, 'min_child_samples': 20, 'n_estimators': 10000, 'n_jobs': -1, 'num_leaves': 32, 'objective': 'regression', 'subsample': 0.6000000000000001, 'subsample_freq': 5}\n"
     ]
    },
    {
     "name": "stdout",
     "output_type": "stream",
     "text": [
      "[100]\tvalid_0's rmse: 0.854384\tvalid_0's l2: 0.729972\tvalid_1's rmse: 0.81262\tvalid_1's l2: 0.660352            \n",
      "[200]\tvalid_0's rmse: 0.84816\tvalid_0's l2: 0.719375\tvalid_1's rmse: 0.758795\tvalid_1's l2: 0.57577             \n",
      "[100]\tvalid_0's rmse: 0.922734\tvalid_0's l2: 0.851438\tvalid_1's rmse: 0.804804\tvalid_1's l2: 0.64771            \n",
      "[200]\tvalid_0's rmse: 0.928216\tvalid_0's l2: 0.861585\tvalid_1's rmse: 0.749907\tvalid_1's l2: 0.56236            \n",
      "[100]\tvalid_0's rmse: 0.844563\tvalid_0's l2: 0.713287\tvalid_1's rmse: 0.809587\tvalid_1's l2: 0.65543            \n",
      "[200]\tvalid_0's rmse: 0.835101\tvalid_0's l2: 0.697393\tvalid_1's rmse: 0.756111\tvalid_1's l2: 0.571705           \n",
      " 50%|███████████████████▊                    | 99/200 [03:35<02:56,  1.75s/trial, best loss: 0.8556835317803139]"
     ]
    },
    {
     "name": "stderr",
     "output_type": "stream",
     "text": [
      "Score - 0.8660602311606361, Std - 0.03815749751727439, Eval Score - 0.8660602311606361\n",
      "Score across folds - [0.8440083348485132, 0.919739166632368, 0.8344331920010273].\n"
     ]
    },
    {
     "name": "stdout",
     "output_type": "stream",
     "text": [
      "\r",
      " 50%|███████████████████▌                   | 100/200 [03:35<02:52,  1.72s/trial, best loss: 0.8556835317803139]"
     ]
    },
    {
     "name": "stderr",
     "output_type": "stream",
     "text": [
      "\n",
      "Iteration: 101, Training with params: {'boosting_type': 'gbdt', 'colsample_bytree': 0.6000000000000001, 'learning_rate': 0.1, 'min_child_samples': 120, 'n_estimators': 10000, 'n_jobs': -1, 'num_leaves': 32, 'objective': 'regression', 'subsample': 1.0, 'subsample_freq': 5}\n"
     ]
    },
    {
     "name": "stdout",
     "output_type": "stream",
     "text": [
      "[100]\tvalid_0's rmse: 0.841365\tvalid_0's l2: 0.707895\tvalid_1's rmse: 0.808297\tvalid_1's l2: 0.653344           \n",
      "[200]\tvalid_0's rmse: 0.840338\tvalid_0's l2: 0.706168\tvalid_1's rmse: 0.766915\tvalid_1's l2: 0.588159           \n",
      "[300]\tvalid_0's rmse: 0.83786\tvalid_0's l2: 0.70201\tvalid_1's rmse: 0.736492\tvalid_1's l2: 0.54242              \n",
      "[400]\tvalid_0's rmse: 0.84092\tvalid_0's l2: 0.707147\tvalid_1's rmse: 0.712367\tvalid_1's l2: 0.507467            \n",
      "[100]\tvalid_0's rmse: 0.918191\tvalid_0's l2: 0.843074\tvalid_1's rmse: 0.80115\tvalid_1's l2: 0.641841            \n",
      "[100]\tvalid_0's rmse: 0.835626\tvalid_0's l2: 0.698271\tvalid_1's rmse: 0.807007\tvalid_1's l2: 0.651261           \n",
      "[200]\tvalid_0's rmse: 0.826014\tvalid_0's l2: 0.682299\tvalid_1's rmse: 0.764986\tvalid_1's l2: 0.585204           \n",
      "[300]\tvalid_0's rmse: 0.824555\tvalid_0's l2: 0.67989\tvalid_1's rmse: 0.735239\tvalid_1's l2: 0.540576            \n",
      " 50%|███████████████████▌                   | 100/200 [03:37<02:52,  1.72s/trial, best loss: 0.8556835317803139]"
     ]
    },
    {
     "name": "stderr",
     "output_type": "stream",
     "text": [
      "Score - 0.8594565836122042, Std - 0.04098415939755265, Eval Score - 0.8594565836122042\n",
      "Score across folds - [0.8376303952900412, 0.9168698402437557, 0.8238695153028156].\n"
     ]
    },
    {
     "name": "stdout",
     "output_type": "stream",
     "text": [
      "\r",
      " 50%|███████████████████▋                   | 101/200 [03:37<02:57,  1.79s/trial, best loss: 0.8556835317803139]"
     ]
    },
    {
     "name": "stderr",
     "output_type": "stream",
     "text": [
      "\n",
      "Iteration: 102, Training with params: {'boosting_type': 'gbdt', 'colsample_bytree': 0.4, 'learning_rate': 0.1, 'min_child_samples': 80, 'n_estimators': 10000, 'n_jobs': -1, 'num_leaves': 32, 'objective': 'regression', 'subsample': 0.8, 'subsample_freq': 5}\n"
     ]
    },
    {
     "name": "stdout",
     "output_type": "stream",
     "text": [
      "[100]\tvalid_0's rmse: 0.844064\tvalid_0's l2: 0.712443\tvalid_1's rmse: 0.824649\tvalid_1's l2: 0.680045           \n",
      "[200]\tvalid_0's rmse: 0.838835\tvalid_0's l2: 0.703643\tvalid_1's rmse: 0.781263\tvalid_1's l2: 0.610372           \n",
      "[300]\tvalid_0's rmse: 0.837893\tvalid_0's l2: 0.702065\tvalid_1's rmse: 0.751118\tvalid_1's l2: 0.564179           \n",
      "[100]\tvalid_0's rmse: 0.916858\tvalid_0's l2: 0.840629\tvalid_1's rmse: 0.818554\tvalid_1's l2: 0.670031           \n",
      "[200]\tvalid_0's rmse: 0.914842\tvalid_0's l2: 0.836936\tvalid_1's rmse: 0.77458\tvalid_1's l2: 0.599974            \n",
      "[100]\tvalid_0's rmse: 0.840761\tvalid_0's l2: 0.70688\tvalid_1's rmse: 0.822909\tvalid_1's l2: 0.67718             \n",
      "[200]\tvalid_0's rmse: 0.825706\tvalid_0's l2: 0.68179\tvalid_1's rmse: 0.779803\tvalid_1's l2: 0.608092            \n",
      "[300]\tvalid_0's rmse: 0.824618\tvalid_0's l2: 0.679994\tvalid_1's rmse: 0.749818\tvalid_1's l2: 0.562227           \n",
      " 50%|███████████████████▋                   | 101/200 [03:39<02:57,  1.79s/trial, best loss: 0.8556835317803139]"
     ]
    },
    {
     "name": "stderr",
     "output_type": "stream",
     "text": [
      "Score - 0.8577370986256524, Std - 0.0397590360440768, Eval Score - 0.8577370986256524\n",
      "Score across folds - [0.8367515690402098, 0.913405930995634, 0.8230537958411137].\n"
     ]
    },
    {
     "name": "stdout",
     "output_type": "stream",
     "text": [
      "\r",
      " 51%|███████████████████▉                   | 102/200 [03:39<03:07,  1.91s/trial, best loss: 0.8556835317803139]"
     ]
    },
    {
     "name": "stderr",
     "output_type": "stream",
     "text": [
      "\n",
      "Iteration: 103, Training with params: {'boosting_type': 'gbdt', 'colsample_bytree': 0.4, 'learning_rate': 0.1, 'min_child_samples': 140, 'n_estimators': 10000, 'n_jobs': -1, 'num_leaves': 32, 'objective': 'regression', 'subsample': 0.4, 'subsample_freq': 5}\n"
     ]
    },
    {
     "name": "stdout",
     "output_type": "stream",
     "text": [
      "[100]\tvalid_0's rmse: 0.856902\tvalid_0's l2: 0.734281\tvalid_1's rmse: 0.852006\tvalid_1's l2: 0.725914           \n",
      "[200]\tvalid_0's rmse: 0.845765\tvalid_0's l2: 0.715318\tvalid_1's rmse: 0.81933\tvalid_1's l2: 0.671301            \n",
      "[300]\tvalid_0's rmse: 0.84703\tvalid_0's l2: 0.717459\tvalid_1's rmse: 0.795718\tvalid_1's l2: 0.633168            \n",
      "[100]\tvalid_0's rmse: 0.932894\tvalid_0's l2: 0.870291\tvalid_1's rmse: 0.847859\tvalid_1's l2: 0.718864           \n",
      "[200]\tvalid_0's rmse: 0.918443\tvalid_0's l2: 0.843538\tvalid_1's rmse: 0.813483\tvalid_1's l2: 0.661755           \n",
      "[300]\tvalid_0's rmse: 0.920113\tvalid_0's l2: 0.846608\tvalid_1's rmse: 0.789888\tvalid_1's l2: 0.623923           \n",
      "[100]\tvalid_0's rmse: 0.849748\tvalid_0's l2: 0.722071\tvalid_1's rmse: 0.850846\tvalid_1's l2: 0.723939           \n",
      "[200]\tvalid_0's rmse: 0.835862\tvalid_0's l2: 0.698665\tvalid_1's rmse: 0.81822\tvalid_1's l2: 0.669483            \n",
      "[300]\tvalid_0's rmse: 0.834055\tvalid_0's l2: 0.695648\tvalid_1's rmse: 0.794596\tvalid_1's l2: 0.631382           \n",
      " 51%|███████████████████▉                   | 102/200 [03:41<03:07,  1.91s/trial, best loss: 0.8556835317803139]"
     ]
    },
    {
     "name": "stderr",
     "output_type": "stream",
     "text": [
      "Score - 0.8639871973965176, Std - 0.03739767576778893, Eval Score - 0.8639871973965176\n",
      "Score across folds - [0.8443804205092176, 0.91632950865584, 0.8312516630244953].\n"
     ]
    },
    {
     "name": "stdout",
     "output_type": "stream",
     "text": [
      "\r",
      " 52%|████████████████████                   | 103/200 [03:41<03:14,  2.01s/trial, best loss: 0.8556835317803139]"
     ]
    },
    {
     "name": "stderr",
     "output_type": "stream",
     "text": [
      "\n",
      "Iteration: 104, Training with params: {'boosting_type': 'gbdt', 'colsample_bytree': 0.6000000000000001, 'learning_rate': 0.1, 'min_child_samples': 120, 'n_estimators': 10000, 'n_jobs': -1, 'num_leaves': 32, 'objective': 'regression', 'subsample': 1.0, 'subsample_freq': 5}\n"
     ]
    },
    {
     "name": "stdout",
     "output_type": "stream",
     "text": [
      "[100]\tvalid_0's rmse: 0.841365\tvalid_0's l2: 0.707895\tvalid_1's rmse: 0.808297\tvalid_1's l2: 0.653344           \n",
      "[200]\tvalid_0's rmse: 0.840338\tvalid_0's l2: 0.706168\tvalid_1's rmse: 0.766915\tvalid_1's l2: 0.588159           \n",
      "[300]\tvalid_0's rmse: 0.83786\tvalid_0's l2: 0.70201\tvalid_1's rmse: 0.736492\tvalid_1's l2: 0.54242              \n",
      "[400]\tvalid_0's rmse: 0.84092\tvalid_0's l2: 0.707147\tvalid_1's rmse: 0.712367\tvalid_1's l2: 0.507467            \n",
      "[100]\tvalid_0's rmse: 0.918191\tvalid_0's l2: 0.843074\tvalid_1's rmse: 0.80115\tvalid_1's l2: 0.641841            \n",
      "[100]\tvalid_0's rmse: 0.835626\tvalid_0's l2: 0.698271\tvalid_1's rmse: 0.807007\tvalid_1's l2: 0.651261           \n",
      "[200]\tvalid_0's rmse: 0.826014\tvalid_0's l2: 0.682299\tvalid_1's rmse: 0.764986\tvalid_1's l2: 0.585204           \n",
      "[300]\tvalid_0's rmse: 0.824555\tvalid_0's l2: 0.67989\tvalid_1's rmse: 0.735239\tvalid_1's l2: 0.540576            \n",
      " 52%|████████████████████                   | 103/200 [03:43<03:14,  2.01s/trial, best loss: 0.8556835317803139]"
     ]
    },
    {
     "name": "stderr",
     "output_type": "stream",
     "text": [
      "Score - 0.8594565836122042, Std - 0.04098415939755265, Eval Score - 0.8594565836122042\n",
      "Score across folds - [0.8376303952900412, 0.9168698402437557, 0.8238695153028156].\n"
     ]
    },
    {
     "name": "stdout",
     "output_type": "stream",
     "text": [
      "\r",
      " 52%|████████████████████▎                  | 104/200 [03:43<03:09,  1.97s/trial, best loss: 0.8556835317803139]"
     ]
    },
    {
     "name": "stderr",
     "output_type": "stream",
     "text": [
      "\n",
      "Iteration: 105, Training with params: {'boosting_type': 'gbdt', 'colsample_bytree': 0.4, 'learning_rate': 0.1, 'min_child_samples': 60, 'n_estimators': 10000, 'n_jobs': -1, 'num_leaves': 32, 'objective': 'regression', 'subsample': 1.0, 'subsample_freq': 5}\n"
     ]
    },
    {
     "name": "stdout",
     "output_type": "stream",
     "text": [
      "[100]\tvalid_0's rmse: 0.844282\tvalid_0's l2: 0.712812\tvalid_1's rmse: 0.820215\tvalid_1's l2: 0.672753           \n",
      "[200]\tvalid_0's rmse: 0.842579\tvalid_0's l2: 0.709939\tvalid_1's rmse: 0.774413\tvalid_1's l2: 0.599716           \n",
      "[100]\tvalid_0's rmse: 0.915936\tvalid_0's l2: 0.838938\tvalid_1's rmse: 0.813136\tvalid_1's l2: 0.661191           \n",
      "[200]\tvalid_0's rmse: 0.915327\tvalid_0's l2: 0.837824\tvalid_1's rmse: 0.768107\tvalid_1's l2: 0.589988           \n",
      "[100]\tvalid_0's rmse: 0.83942\tvalid_0's l2: 0.704626\tvalid_1's rmse: 0.81788\tvalid_1's l2: 0.668928             \n",
      "[200]\tvalid_0's rmse: 0.827317\tvalid_0's l2: 0.684453\tvalid_1's rmse: 0.77313\tvalid_1's l2: 0.59773             \n",
      "[300]\tvalid_0's rmse: 0.826599\tvalid_0's l2: 0.683265\tvalid_1's rmse: 0.742812\tvalid_1's l2: 0.55177            \n",
      " 52%|████████████████████▎                  | 104/200 [03:45<03:09,  1.97s/trial, best loss: 0.8556835317803139]"
     ]
    },
    {
     "name": "stderr",
     "output_type": "stream",
     "text": [
      "Score - 0.8600535489108404, Std - 0.03870086259244426, Eval Score - 0.8600535489108404\n",
      "Score across folds - [0.8412843666143699, 0.9139625546542196, 0.8249137254639316].\n"
     ]
    },
    {
     "name": "stdout",
     "output_type": "stream",
     "text": [
      "\r",
      " 52%|████████████████████▍                  | 105/200 [03:45<03:00,  1.90s/trial, best loss: 0.8556835317803139]"
     ]
    },
    {
     "name": "stderr",
     "output_type": "stream",
     "text": [
      "\n",
      "Iteration: 106, Training with params: {'boosting_type': 'gbdt', 'colsample_bytree': 0.4, 'learning_rate': 0.1, 'min_child_samples': 100, 'n_estimators': 10000, 'n_jobs': -1, 'num_leaves': 32, 'objective': 'regression', 'subsample': 1.0, 'subsample_freq': 5}\n"
     ]
    },
    {
     "name": "stdout",
     "output_type": "stream",
     "text": [
      "[100]\tvalid_0's rmse: 0.843722\tvalid_0's l2: 0.711867\tvalid_1's rmse: 0.823887\tvalid_1's l2: 0.67879            \n",
      "[200]\tvalid_0's rmse: 0.838542\tvalid_0's l2: 0.703153\tvalid_1's rmse: 0.782118\tvalid_1's l2: 0.611709           \n",
      "[100]\tvalid_0's rmse: 0.912519\tvalid_0's l2: 0.832691\tvalid_1's rmse: 0.818736\tvalid_1's l2: 0.670329           \n",
      "[200]\tvalid_0's rmse: 0.908286\tvalid_0's l2: 0.824984\tvalid_1's rmse: 0.776919\tvalid_1's l2: 0.603603           \n",
      "[300]\tvalid_0's rmse: 0.912848\tvalid_0's l2: 0.833291\tvalid_1's rmse: 0.749963\tvalid_1's l2: 0.562445           \n",
      "[100]\tvalid_0's rmse: 0.837682\tvalid_0's l2: 0.701712\tvalid_1's rmse: 0.822228\tvalid_1's l2: 0.676058           \n",
      "[200]\tvalid_0's rmse: 0.827061\tvalid_0's l2: 0.68403\tvalid_1's rmse: 0.782108\tvalid_1's l2: 0.611693            \n",
      "[300]\tvalid_0's rmse: 0.823768\tvalid_0's l2: 0.678593\tvalid_1's rmse: 0.754798\tvalid_1's l2: 0.56972            \n",
      "[400]\tvalid_0's rmse: 0.822729\tvalid_0's l2: 0.676883\tvalid_1's rmse: 0.732564\tvalid_1's l2: 0.536649           \n",
      " 52%|████████████████████▍                  | 105/200 [03:47<03:00,  1.90s/trial, best loss: 0.8556835317803139]"
     ]
    },
    {
     "name": "stderr",
     "output_type": "stream",
     "text": [
      "Score - 0.8558334731436926, Std - 0.037637339599154614, Eval Score - 0.8558334731436926\n",
      "Score across folds - [0.8378578141428544, 0.9082092129506397, 0.8214333923375835].\n"
     ]
    },
    {
     "name": "stdout",
     "output_type": "stream",
     "text": [
      "\r",
      " 53%|████████████████████▋                  | 106/200 [03:47<03:03,  1.96s/trial, best loss: 0.8556835317803139]"
     ]
    },
    {
     "name": "stderr",
     "output_type": "stream",
     "text": [
      "\n",
      "Iteration: 107, Training with params: {'boosting_type': 'gbdt', 'colsample_bytree': 0.4, 'learning_rate': 0.1, 'min_child_samples': 140, 'n_estimators': 10000, 'n_jobs': -1, 'num_leaves': 32, 'objective': 'regression', 'subsample': 0.8, 'subsample_freq': 5}\n"
     ]
    },
    {
     "name": "stdout",
     "output_type": "stream",
     "text": [
      "[100]\tvalid_0's rmse: 0.849484\tvalid_0's l2: 0.721623\tvalid_1's rmse: 0.832569\tvalid_1's l2: 0.69317            \n",
      "[200]\tvalid_0's rmse: 0.844283\tvalid_0's l2: 0.712814\tvalid_1's rmse: 0.792444\tvalid_1's l2: 0.627968           \n",
      "[300]\tvalid_0's rmse: 0.843235\tvalid_0's l2: 0.711046\tvalid_1's rmse: 0.76522\tvalid_1's l2: 0.585562            \n",
      "[100]\tvalid_0's rmse: 0.917434\tvalid_0's l2: 0.841684\tvalid_1's rmse: 0.825229\tvalid_1's l2: 0.681003           \n",
      "[200]\tvalid_0's rmse: 0.913621\tvalid_0's l2: 0.834703\tvalid_1's rmse: 0.785893\tvalid_1's l2: 0.617628           \n",
      "[100]\tvalid_0's rmse: 0.839341\tvalid_0's l2: 0.704494\tvalid_1's rmse: 0.829282\tvalid_1's l2: 0.687709           \n",
      "[200]\tvalid_0's rmse: 0.825763\tvalid_0's l2: 0.681885\tvalid_1's rmse: 0.791309\tvalid_1's l2: 0.62617            \n",
      "[300]\tvalid_0's rmse: 0.826434\tvalid_0's l2: 0.682993\tvalid_1's rmse: 0.764713\tvalid_1's l2: 0.584786           \n",
      " 53%|████████████████████▋                  | 106/200 [03:49<03:03,  1.96s/trial, best loss: 0.8556835317803139]"
     ]
    },
    {
     "name": "stderr",
     "output_type": "stream",
     "text": [
      "Score - 0.8595736525707597, Std - 0.03824510694419705, Eval Score - 0.8595736525707597\n",
      "Score across folds - [0.8420460518083546, 0.9126502018668614, 0.8240247040370628].\n"
     ]
    },
    {
     "name": "stdout",
     "output_type": "stream",
     "text": [
      "\r",
      " 54%|████████████████████▊                  | 107/200 [03:49<03:09,  2.04s/trial, best loss: 0.8556835317803139]"
     ]
    },
    {
     "name": "stderr",
     "output_type": "stream",
     "text": [
      "\n",
      "Iteration: 108, Training with params: {'boosting_type': 'gbdt', 'colsample_bytree': 0.8, 'learning_rate': 0.1, 'min_child_samples': 100, 'n_estimators': 10000, 'n_jobs': -1, 'num_leaves': 16, 'objective': 'regression', 'subsample': 1.0, 'subsample_freq': 5}\n"
     ]
    },
    {
     "name": "stdout",
     "output_type": "stream",
     "text": [
      "[100]\tvalid_0's rmse: 0.844055\tvalid_0's l2: 0.712429\tvalid_1's rmse: 0.845858\tvalid_1's l2: 0.715476           \n",
      "[200]\tvalid_0's rmse: 0.83845\tvalid_0's l2: 0.702999\tvalid_1's rmse: 0.810638\tvalid_1's l2: 0.657133            \n",
      "[300]\tvalid_0's rmse: 0.83579\tvalid_0's l2: 0.698546\tvalid_1's rmse: 0.787128\tvalid_1's l2: 0.619571            \n",
      "[400]\tvalid_0's rmse: 0.836504\tvalid_0's l2: 0.69974\tvalid_1's rmse: 0.767658\tvalid_1's l2: 0.589299            \n",
      "[100]\tvalid_0's rmse: 0.923715\tvalid_0's l2: 0.85325\tvalid_1's rmse: 0.837929\tvalid_1's l2: 0.702124            \n",
      " 54%|████████████████████▊                  | 107/200 [03:50<03:20,  2.15s/trial, best loss: 0.8556835317803139]\n"
     ]
    },
    {
     "ename": "KeyboardInterrupt",
     "evalue": "",
     "output_type": "error",
     "traceback": [
      "\u001b[0;31m---------------------------------------------------------------------------\u001b[0m",
      "\u001b[0;31mKeyboardInterrupt\u001b[0m                         Traceback (most recent call last)",
      "\u001b[0;32m/tmp/ipykernel_24723/1409517529.py\u001b[0m in \u001b[0;36m<module>\u001b[0;34m\u001b[0m\n\u001b[0;32m----> 1\u001b[0;31m \u001b[0mhyp\u001b[0m\u001b[0;34m.\u001b[0m\u001b[0mfit\u001b[0m\u001b[0;34m(\u001b[0m\u001b[0mtrain\u001b[0m\u001b[0;34m[\u001b[0m\u001b[0muse_cols\u001b[0m\u001b[0;34m]\u001b[0m\u001b[0;34m.\u001b[0m\u001b[0mvalues\u001b[0m\u001b[0;34m,\u001b[0m\u001b[0mtarget\u001b[0m\u001b[0;34m)\u001b[0m\u001b[0;34m\u001b[0m\u001b[0;34m\u001b[0m\u001b[0m\n\u001b[0m",
      "\u001b[0;32m~/Apna_Assignment/src/ml_auto/hyperopt_model_selection.py\u001b[0m in \u001b[0;36mfit\u001b[0;34m(self, X, y, use_oof, columns)\u001b[0m\n\u001b[1;32m    195\u001b[0m         \u001b[0;32mif\u001b[0m \u001b[0;32mnot\u001b[0m \u001b[0mself\u001b[0m\u001b[0;34m.\u001b[0m\u001b[0mwarm_start\u001b[0m\u001b[0;34m:\u001b[0m \u001b[0mself\u001b[0m\u001b[0;34m.\u001b[0m\u001b[0mtrials\u001b[0m \u001b[0;34m=\u001b[0m \u001b[0mTrials\u001b[0m\u001b[0;34m(\u001b[0m\u001b[0;34m)\u001b[0m\u001b[0;34m\u001b[0m\u001b[0;34m\u001b[0m\u001b[0m\n\u001b[1;32m    196\u001b[0m \u001b[0;34m\u001b[0m\u001b[0m\n\u001b[0;32m--> 197\u001b[0;31m         \u001b[0mbest\u001b[0m \u001b[0;34m=\u001b[0m \u001b[0mself\u001b[0m\u001b[0;34m(\u001b[0m\u001b[0;34m)\u001b[0m\u001b[0;34m\u001b[0m\u001b[0;34m\u001b[0m\u001b[0m\n\u001b[0m\u001b[1;32m    198\u001b[0m         \u001b[0mself\u001b[0m\u001b[0;34m.\u001b[0m\u001b[0msave_trails\u001b[0m\u001b[0;34m(\u001b[0m\u001b[0;34m)\u001b[0m\u001b[0;34m\u001b[0m\u001b[0;34m\u001b[0m\u001b[0m\n\u001b[1;32m    199\u001b[0m \u001b[0;34m\u001b[0m\u001b[0m\n",
      "\u001b[0;32m~/Apna_Assignment/src/ml_auto/hyperopt_model_selection.py\u001b[0m in \u001b[0;36m__call__\u001b[0;34m(self)\u001b[0m\n\u001b[1;32m    186\u001b[0m     \u001b[0;32mdef\u001b[0m \u001b[0m__call__\u001b[0m\u001b[0;34m(\u001b[0m\u001b[0mself\u001b[0m\u001b[0;34m)\u001b[0m\u001b[0;34m:\u001b[0m\u001b[0;34m\u001b[0m\u001b[0;34m\u001b[0m\u001b[0m\n\u001b[1;32m    187\u001b[0m         \u001b[0mself\u001b[0m\u001b[0;34m.\u001b[0m\u001b[0miteration\u001b[0m\u001b[0;34m=\u001b[0m\u001b[0;36m0\u001b[0m\u001b[0;34m\u001b[0m\u001b[0;34m\u001b[0m\u001b[0m\n\u001b[0;32m--> 188\u001b[0;31m         \u001b[0mbest\u001b[0m \u001b[0;34m=\u001b[0m \u001b[0mfmin\u001b[0m\u001b[0;34m(\u001b[0m\u001b[0mself\u001b[0m\u001b[0;34m.\u001b[0m\u001b[0mobjective\u001b[0m\u001b[0;34m,\u001b[0m \u001b[0mself\u001b[0m\u001b[0;34m.\u001b[0m\u001b[0mspace\u001b[0m\u001b[0;34m,\u001b[0m \u001b[0malgo\u001b[0m\u001b[0;34m=\u001b[0m\u001b[0mtpe\u001b[0m\u001b[0;34m.\u001b[0m\u001b[0msuggest\u001b[0m\u001b[0;34m,\u001b[0m \u001b[0mtrials\u001b[0m\u001b[0;34m=\u001b[0m\u001b[0mself\u001b[0m\u001b[0;34m.\u001b[0m\u001b[0mtrials\u001b[0m\u001b[0;34m,\u001b[0m \u001b[0mmax_evals\u001b[0m\u001b[0;34m=\u001b[0m\u001b[0mself\u001b[0m\u001b[0;34m.\u001b[0m\u001b[0mmax_evals\u001b[0m\u001b[0;34m,\u001b[0m \u001b[0mrstate\u001b[0m\u001b[0;34m=\u001b[0m\u001b[0mnp\u001b[0m\u001b[0;34m.\u001b[0m\u001b[0mrandom\u001b[0m\u001b[0;34m.\u001b[0m\u001b[0mdefault_rng\u001b[0m\u001b[0;34m(\u001b[0m\u001b[0mself\u001b[0m\u001b[0;34m.\u001b[0m\u001b[0mrandom_seed\u001b[0m\u001b[0;34m)\u001b[0m\u001b[0;34m)\u001b[0m\u001b[0;34m\u001b[0m\u001b[0;34m\u001b[0m\u001b[0m\n\u001b[0m\u001b[1;32m    189\u001b[0m         \u001b[0;32mreturn\u001b[0m \u001b[0mbest\u001b[0m\u001b[0;34m\u001b[0m\u001b[0;34m\u001b[0m\u001b[0m\n\u001b[1;32m    190\u001b[0m \u001b[0;34m\u001b[0m\u001b[0m\n",
      "\u001b[0;32m~/anaconda3/lib/python3.9/site-packages/hyperopt/fmin.py\u001b[0m in \u001b[0;36mfmin\u001b[0;34m(fn, space, algo, max_evals, timeout, loss_threshold, trials, rstate, allow_trials_fmin, pass_expr_memo_ctrl, catch_eval_exceptions, verbose, return_argmin, points_to_evaluate, max_queue_len, show_progressbar, early_stop_fn, trials_save_file)\u001b[0m\n\u001b[1;32m    538\u001b[0m \u001b[0;34m\u001b[0m\u001b[0m\n\u001b[1;32m    539\u001b[0m     \u001b[0;32mif\u001b[0m \u001b[0mallow_trials_fmin\u001b[0m \u001b[0;32mand\u001b[0m \u001b[0mhasattr\u001b[0m\u001b[0;34m(\u001b[0m\u001b[0mtrials\u001b[0m\u001b[0;34m,\u001b[0m \u001b[0;34m\"fmin\"\u001b[0m\u001b[0;34m)\u001b[0m\u001b[0;34m:\u001b[0m\u001b[0;34m\u001b[0m\u001b[0;34m\u001b[0m\u001b[0m\n\u001b[0;32m--> 540\u001b[0;31m         return trials.fmin(\n\u001b[0m\u001b[1;32m    541\u001b[0m             \u001b[0mfn\u001b[0m\u001b[0;34m,\u001b[0m\u001b[0;34m\u001b[0m\u001b[0;34m\u001b[0m\u001b[0m\n\u001b[1;32m    542\u001b[0m             \u001b[0mspace\u001b[0m\u001b[0;34m,\u001b[0m\u001b[0;34m\u001b[0m\u001b[0;34m\u001b[0m\u001b[0m\n",
      "\u001b[0;32m~/anaconda3/lib/python3.9/site-packages/hyperopt/base.py\u001b[0m in \u001b[0;36mfmin\u001b[0;34m(self, fn, space, algo, max_evals, timeout, loss_threshold, max_queue_len, rstate, verbose, pass_expr_memo_ctrl, catch_eval_exceptions, return_argmin, show_progressbar, early_stop_fn, trials_save_file)\u001b[0m\n\u001b[1;32m    669\u001b[0m         \u001b[0;32mfrom\u001b[0m \u001b[0;34m.\u001b[0m\u001b[0mfmin\u001b[0m \u001b[0;32mimport\u001b[0m \u001b[0mfmin\u001b[0m\u001b[0;34m\u001b[0m\u001b[0;34m\u001b[0m\u001b[0m\n\u001b[1;32m    670\u001b[0m \u001b[0;34m\u001b[0m\u001b[0m\n\u001b[0;32m--> 671\u001b[0;31m         return fmin(\n\u001b[0m\u001b[1;32m    672\u001b[0m             \u001b[0mfn\u001b[0m\u001b[0;34m,\u001b[0m\u001b[0;34m\u001b[0m\u001b[0;34m\u001b[0m\u001b[0m\n\u001b[1;32m    673\u001b[0m             \u001b[0mspace\u001b[0m\u001b[0;34m,\u001b[0m\u001b[0;34m\u001b[0m\u001b[0;34m\u001b[0m\u001b[0m\n",
      "\u001b[0;32m~/anaconda3/lib/python3.9/site-packages/hyperopt/fmin.py\u001b[0m in \u001b[0;36mfmin\u001b[0;34m(fn, space, algo, max_evals, timeout, loss_threshold, trials, rstate, allow_trials_fmin, pass_expr_memo_ctrl, catch_eval_exceptions, verbose, return_argmin, points_to_evaluate, max_queue_len, show_progressbar, early_stop_fn, trials_save_file)\u001b[0m\n\u001b[1;32m    584\u001b[0m \u001b[0;34m\u001b[0m\u001b[0m\n\u001b[1;32m    585\u001b[0m     \u001b[0;31m# next line is where the fmin is actually executed\u001b[0m\u001b[0;34m\u001b[0m\u001b[0;34m\u001b[0m\u001b[0m\n\u001b[0;32m--> 586\u001b[0;31m     \u001b[0mrval\u001b[0m\u001b[0;34m.\u001b[0m\u001b[0mexhaust\u001b[0m\u001b[0;34m(\u001b[0m\u001b[0;34m)\u001b[0m\u001b[0;34m\u001b[0m\u001b[0;34m\u001b[0m\u001b[0m\n\u001b[0m\u001b[1;32m    587\u001b[0m \u001b[0;34m\u001b[0m\u001b[0m\n\u001b[1;32m    588\u001b[0m     \u001b[0;32mif\u001b[0m \u001b[0mreturn_argmin\u001b[0m\u001b[0;34m:\u001b[0m\u001b[0;34m\u001b[0m\u001b[0;34m\u001b[0m\u001b[0m\n",
      "\u001b[0;32m~/anaconda3/lib/python3.9/site-packages/hyperopt/fmin.py\u001b[0m in \u001b[0;36mexhaust\u001b[0;34m(self)\u001b[0m\n\u001b[1;32m    362\u001b[0m     \u001b[0;32mdef\u001b[0m \u001b[0mexhaust\u001b[0m\u001b[0;34m(\u001b[0m\u001b[0mself\u001b[0m\u001b[0;34m)\u001b[0m\u001b[0;34m:\u001b[0m\u001b[0;34m\u001b[0m\u001b[0;34m\u001b[0m\u001b[0m\n\u001b[1;32m    363\u001b[0m         \u001b[0mn_done\u001b[0m \u001b[0;34m=\u001b[0m \u001b[0mlen\u001b[0m\u001b[0;34m(\u001b[0m\u001b[0mself\u001b[0m\u001b[0;34m.\u001b[0m\u001b[0mtrials\u001b[0m\u001b[0;34m)\u001b[0m\u001b[0;34m\u001b[0m\u001b[0;34m\u001b[0m\u001b[0m\n\u001b[0;32m--> 364\u001b[0;31m         \u001b[0mself\u001b[0m\u001b[0;34m.\u001b[0m\u001b[0mrun\u001b[0m\u001b[0;34m(\u001b[0m\u001b[0mself\u001b[0m\u001b[0;34m.\u001b[0m\u001b[0mmax_evals\u001b[0m \u001b[0;34m-\u001b[0m \u001b[0mn_done\u001b[0m\u001b[0;34m,\u001b[0m \u001b[0mblock_until_done\u001b[0m\u001b[0;34m=\u001b[0m\u001b[0mself\u001b[0m\u001b[0;34m.\u001b[0m\u001b[0masynchronous\u001b[0m\u001b[0;34m)\u001b[0m\u001b[0;34m\u001b[0m\u001b[0;34m\u001b[0m\u001b[0m\n\u001b[0m\u001b[1;32m    365\u001b[0m         \u001b[0mself\u001b[0m\u001b[0;34m.\u001b[0m\u001b[0mtrials\u001b[0m\u001b[0;34m.\u001b[0m\u001b[0mrefresh\u001b[0m\u001b[0;34m(\u001b[0m\u001b[0;34m)\u001b[0m\u001b[0;34m\u001b[0m\u001b[0;34m\u001b[0m\u001b[0m\n\u001b[1;32m    366\u001b[0m         \u001b[0;32mreturn\u001b[0m \u001b[0mself\u001b[0m\u001b[0;34m\u001b[0m\u001b[0;34m\u001b[0m\u001b[0m\n",
      "\u001b[0;32m~/anaconda3/lib/python3.9/site-packages/hyperopt/fmin.py\u001b[0m in \u001b[0;36mrun\u001b[0;34m(self, N, block_until_done)\u001b[0m\n\u001b[1;32m    298\u001b[0m                 \u001b[0;32melse\u001b[0m\u001b[0;34m:\u001b[0m\u001b[0;34m\u001b[0m\u001b[0;34m\u001b[0m\u001b[0m\n\u001b[1;32m    299\u001b[0m                     \u001b[0;31m# -- loop over trials and do the jobs directly\u001b[0m\u001b[0;34m\u001b[0m\u001b[0;34m\u001b[0m\u001b[0m\n\u001b[0;32m--> 300\u001b[0;31m                     \u001b[0mself\u001b[0m\u001b[0;34m.\u001b[0m\u001b[0mserial_evaluate\u001b[0m\u001b[0;34m(\u001b[0m\u001b[0;34m)\u001b[0m\u001b[0;34m\u001b[0m\u001b[0;34m\u001b[0m\u001b[0m\n\u001b[0m\u001b[1;32m    301\u001b[0m \u001b[0;34m\u001b[0m\u001b[0m\n\u001b[1;32m    302\u001b[0m                 \u001b[0mself\u001b[0m\u001b[0;34m.\u001b[0m\u001b[0mtrials\u001b[0m\u001b[0;34m.\u001b[0m\u001b[0mrefresh\u001b[0m\u001b[0;34m(\u001b[0m\u001b[0;34m)\u001b[0m\u001b[0;34m\u001b[0m\u001b[0;34m\u001b[0m\u001b[0m\n",
      "\u001b[0;32m~/anaconda3/lib/python3.9/site-packages/hyperopt/fmin.py\u001b[0m in \u001b[0;36mserial_evaluate\u001b[0;34m(self, N)\u001b[0m\n\u001b[1;32m    176\u001b[0m                 \u001b[0mctrl\u001b[0m \u001b[0;34m=\u001b[0m \u001b[0mbase\u001b[0m\u001b[0;34m.\u001b[0m\u001b[0mCtrl\u001b[0m\u001b[0;34m(\u001b[0m\u001b[0mself\u001b[0m\u001b[0;34m.\u001b[0m\u001b[0mtrials\u001b[0m\u001b[0;34m,\u001b[0m \u001b[0mcurrent_trial\u001b[0m\u001b[0;34m=\u001b[0m\u001b[0mtrial\u001b[0m\u001b[0;34m)\u001b[0m\u001b[0;34m\u001b[0m\u001b[0;34m\u001b[0m\u001b[0m\n\u001b[1;32m    177\u001b[0m                 \u001b[0;32mtry\u001b[0m\u001b[0;34m:\u001b[0m\u001b[0;34m\u001b[0m\u001b[0;34m\u001b[0m\u001b[0m\n\u001b[0;32m--> 178\u001b[0;31m                     \u001b[0mresult\u001b[0m \u001b[0;34m=\u001b[0m \u001b[0mself\u001b[0m\u001b[0;34m.\u001b[0m\u001b[0mdomain\u001b[0m\u001b[0;34m.\u001b[0m\u001b[0mevaluate\u001b[0m\u001b[0;34m(\u001b[0m\u001b[0mspec\u001b[0m\u001b[0;34m,\u001b[0m \u001b[0mctrl\u001b[0m\u001b[0;34m)\u001b[0m\u001b[0;34m\u001b[0m\u001b[0;34m\u001b[0m\u001b[0m\n\u001b[0m\u001b[1;32m    179\u001b[0m                 \u001b[0;32mexcept\u001b[0m \u001b[0mException\u001b[0m \u001b[0;32mas\u001b[0m \u001b[0me\u001b[0m\u001b[0;34m:\u001b[0m\u001b[0;34m\u001b[0m\u001b[0;34m\u001b[0m\u001b[0m\n\u001b[1;32m    180\u001b[0m                     \u001b[0mlogger\u001b[0m\u001b[0;34m.\u001b[0m\u001b[0merror\u001b[0m\u001b[0;34m(\u001b[0m\u001b[0;34m\"job exception: %s\"\u001b[0m \u001b[0;34m%\u001b[0m \u001b[0mstr\u001b[0m\u001b[0;34m(\u001b[0m\u001b[0me\u001b[0m\u001b[0;34m)\u001b[0m\u001b[0;34m)\u001b[0m\u001b[0;34m\u001b[0m\u001b[0;34m\u001b[0m\u001b[0m\n",
      "\u001b[0;32m~/anaconda3/lib/python3.9/site-packages/hyperopt/base.py\u001b[0m in \u001b[0;36mevaluate\u001b[0;34m(self, config, ctrl, attach_attachments)\u001b[0m\n\u001b[1;32m    890\u001b[0m                 \u001b[0mprint_node_on_error\u001b[0m\u001b[0;34m=\u001b[0m\u001b[0mself\u001b[0m\u001b[0;34m.\u001b[0m\u001b[0mrec_eval_print_node_on_error\u001b[0m\u001b[0;34m,\u001b[0m\u001b[0;34m\u001b[0m\u001b[0;34m\u001b[0m\u001b[0m\n\u001b[1;32m    891\u001b[0m             )\n\u001b[0;32m--> 892\u001b[0;31m             \u001b[0mrval\u001b[0m \u001b[0;34m=\u001b[0m \u001b[0mself\u001b[0m\u001b[0;34m.\u001b[0m\u001b[0mfn\u001b[0m\u001b[0;34m(\u001b[0m\u001b[0mpyll_rval\u001b[0m\u001b[0;34m)\u001b[0m\u001b[0;34m\u001b[0m\u001b[0;34m\u001b[0m\u001b[0m\n\u001b[0m\u001b[1;32m    893\u001b[0m \u001b[0;34m\u001b[0m\u001b[0m\n\u001b[1;32m    894\u001b[0m         \u001b[0;32mif\u001b[0m \u001b[0misinstance\u001b[0m\u001b[0;34m(\u001b[0m\u001b[0mrval\u001b[0m\u001b[0;34m,\u001b[0m \u001b[0;34m(\u001b[0m\u001b[0mfloat\u001b[0m\u001b[0;34m,\u001b[0m \u001b[0mint\u001b[0m\u001b[0;34m,\u001b[0m \u001b[0mnp\u001b[0m\u001b[0;34m.\u001b[0m\u001b[0mnumber\u001b[0m\u001b[0;34m)\u001b[0m\u001b[0;34m)\u001b[0m\u001b[0;34m:\u001b[0m\u001b[0;34m\u001b[0m\u001b[0;34m\u001b[0m\u001b[0m\n",
      "\u001b[0;32m~/Apna_Assignment/src/ml_auto/hyperopt_model_selection.py\u001b[0m in \u001b[0;36mobjective\u001b[0;34m(self, params)\u001b[0m\n\u001b[1;32m    171\u001b[0m         \u001b[0;32mif\u001b[0m \u001b[0;32mnot\u001b[0m \u001b[0mself\u001b[0m\u001b[0;34m.\u001b[0m\u001b[0muse_kafka\u001b[0m\u001b[0;34m:\u001b[0m\u001b[0;34m\u001b[0m\u001b[0;34m\u001b[0m\u001b[0m\n\u001b[1;32m    172\u001b[0m             \u001b[0mmodel_estimator\u001b[0m \u001b[0;34m=\u001b[0m \u001b[0mEstimator\u001b[0m\u001b[0;34m(\u001b[0m\u001b[0;34m**\u001b[0m\u001b[0mmodel_estimator_params\u001b[0m\u001b[0;34m)\u001b[0m\u001b[0;34m\u001b[0m\u001b[0;34m\u001b[0m\u001b[0m\n\u001b[0;32m--> 173\u001b[0;31m             \u001b[0mscore\u001b[0m \u001b[0;34m=\u001b[0m \u001b[0mevaluate_individual\u001b[0m\u001b[0;34m(\u001b[0m\u001b[0mself\u001b[0m\u001b[0;34m.\u001b[0m\u001b[0mx\u001b[0m\u001b[0;34m,\u001b[0m \u001b[0mself\u001b[0m\u001b[0;34m.\u001b[0m\u001b[0my\u001b[0m\u001b[0;34m,\u001b[0m \u001b[0mmodel_estimator\u001b[0m\u001b[0;34m,\u001b[0m \u001b[0mnum_repeats\u001b[0m\u001b[0;34m=\u001b[0m\u001b[0mself\u001b[0m\u001b[0;34m.\u001b[0m\u001b[0mnum_repeats\u001b[0m\u001b[0;34m,\u001b[0m \u001b[0mfs_individual\u001b[0m\u001b[0;34m=\u001b[0m\u001b[0mself\u001b[0m\u001b[0;34m.\u001b[0m\u001b[0mcolumns\u001b[0m\u001b[0;34m)\u001b[0m\u001b[0;34m\u001b[0m\u001b[0;34m\u001b[0m\u001b[0m\n\u001b[0m\u001b[1;32m    174\u001b[0m         \u001b[0;32melse\u001b[0m\u001b[0;34m:\u001b[0m\u001b[0;34m\u001b[0m\u001b[0;34m\u001b[0m\u001b[0m\n\u001b[1;32m    175\u001b[0m             \u001b[0;31m# distributing the task through kafka\u001b[0m\u001b[0;34m\u001b[0m\u001b[0;34m\u001b[0m\u001b[0m\n",
      "\u001b[0;32m~/Apna_Assignment/src/ml_auto/genetic_individual.py\u001b[0m in \u001b[0;36mevaluate_individual\u001b[0;34m(X, y, model_estimator, fc_individual, fs_individual, num_repeats, previous_transformations)\u001b[0m\n\u001b[1;32m    108\u001b[0m         \u001b[0mX_temp\u001b[0m \u001b[0;34m=\u001b[0m \u001b[0mX_temp\u001b[0m\u001b[0;34m[\u001b[0m\u001b[0;34m:\u001b[0m\u001b[0;34m,\u001b[0m \u001b[0mfs_individual\u001b[0m\u001b[0;34m]\u001b[0m\u001b[0;34m\u001b[0m\u001b[0;34m\u001b[0m\u001b[0m\n\u001b[1;32m    109\u001b[0m     \u001b[0;31m# build the model on final dataset and return it's fitness\u001b[0m\u001b[0;34m\u001b[0m\u001b[0;34m\u001b[0m\u001b[0m\n\u001b[0;32m--> 110\u001b[0;31m     \u001b[0;32mreturn\u001b[0m \u001b[0mmodel_estimator\u001b[0m\u001b[0;34m.\u001b[0m\u001b[0mget_repeated_out_of_folds\u001b[0m\u001b[0;34m(\u001b[0m\u001b[0mX_temp\u001b[0m\u001b[0;34m,\u001b[0m \u001b[0my\u001b[0m\u001b[0;34m,\u001b[0m \u001b[0mnum_repeats\u001b[0m\u001b[0;34m=\u001b[0m\u001b[0mnum_repeats\u001b[0m\u001b[0;34m)\u001b[0m\u001b[0;34m\u001b[0m\u001b[0;34m\u001b[0m\u001b[0m\n\u001b[0m",
      "\u001b[0;32m~/Apna_Assignment/src/ml_auto/custom_estimator.py\u001b[0m in \u001b[0;36mget_repeated_out_of_folds\u001b[0;34m(self, x, y, num_repeats)\u001b[0m\n\u001b[1;32m    197\u001b[0m         \u001b[0;32mfor\u001b[0m \u001b[0miteration\u001b[0m \u001b[0;32min\u001b[0m \u001b[0mrange\u001b[0m\u001b[0;34m(\u001b[0m\u001b[0mnum_repeats\u001b[0m\u001b[0;34m)\u001b[0m\u001b[0;34m:\u001b[0m\u001b[0;34m\u001b[0m\u001b[0;34m\u001b[0m\u001b[0m\n\u001b[1;32m    198\u001b[0m             \u001b[0mself\u001b[0m\u001b[0;34m.\u001b[0m\u001b[0mrandom_state\u001b[0m \u001b[0;34m=\u001b[0m \u001b[0mrandom\u001b[0m\u001b[0;34m.\u001b[0m\u001b[0mrandint\u001b[0m\u001b[0;34m(\u001b[0m\u001b[0;36m0\u001b[0m\u001b[0;34m,\u001b[0m\u001b[0;36m1000\u001b[0m\u001b[0;34m)\u001b[0m \u001b[0;32mif\u001b[0m \u001b[0mself\u001b[0m\u001b[0;34m.\u001b[0m\u001b[0mrandom_state\u001b[0m\u001b[0;34m==\u001b[0m\u001b[0;34m'random'\u001b[0m \u001b[0;32melse\u001b[0m \u001b[0mself\u001b[0m\u001b[0;34m.\u001b[0m\u001b[0mseed\u001b[0m\u001b[0;34m*\u001b[0m\u001b[0;34m(\u001b[0m\u001b[0miteration\u001b[0m\u001b[0;34m+\u001b[0m\u001b[0;36m1\u001b[0m\u001b[0;34m)\u001b[0m\u001b[0;34m\u001b[0m\u001b[0;34m\u001b[0m\u001b[0m\n\u001b[0;32m--> 199\u001b[0;31m             \u001b[0mpredictions\u001b[0m \u001b[0;34m=\u001b[0m \u001b[0mself\u001b[0m\u001b[0;34m.\u001b[0m\u001b[0mfit_transform\u001b[0m\u001b[0;34m(\u001b[0m\u001b[0mx\u001b[0m\u001b[0;34m,\u001b[0m \u001b[0my\u001b[0m\u001b[0;34m)\u001b[0m\u001b[0;34m\u001b[0m\u001b[0;34m\u001b[0m\u001b[0m\n\u001b[0m\u001b[1;32m    200\u001b[0m             \u001b[0mcv_scores\u001b[0m\u001b[0;34m+=\u001b[0m\u001b[0mself\u001b[0m\u001b[0;34m.\u001b[0m\u001b[0mcv_scores\u001b[0m\u001b[0;34m\u001b[0m\u001b[0;34m\u001b[0m\u001b[0m\n\u001b[1;32m    201\u001b[0m             \u001b[0mself\u001b[0m\u001b[0;34m.\u001b[0m\u001b[0mrandom_state\u001b[0m \u001b[0;34m=\u001b[0m \u001b[0;34m'random'\u001b[0m \u001b[0;32mif\u001b[0m \u001b[0mself\u001b[0m\u001b[0;34m.\u001b[0m\u001b[0mrandom_state\u001b[0m\u001b[0;34m==\u001b[0m\u001b[0;34m'random'\u001b[0m \u001b[0;32melse\u001b[0m \u001b[0mself\u001b[0m\u001b[0;34m.\u001b[0m\u001b[0mseed\u001b[0m\u001b[0;34m\u001b[0m\u001b[0;34m\u001b[0m\u001b[0m\n",
      "\u001b[0;32m~/Apna_Assignment/src/ml_auto/custom_estimator.py\u001b[0m in \u001b[0;36mfit_transform\u001b[0;34m(self, x, y)\u001b[0m\n\u001b[1;32m    145\u001b[0m \u001b[0;34m\u001b[0m\u001b[0m\n\u001b[1;32m    146\u001b[0m     \u001b[0;32mdef\u001b[0m \u001b[0mfit_transform\u001b[0m\u001b[0;34m(\u001b[0m\u001b[0mself\u001b[0m\u001b[0;34m,\u001b[0m \u001b[0mx\u001b[0m\u001b[0;34m,\u001b[0m \u001b[0my\u001b[0m\u001b[0;34m)\u001b[0m\u001b[0;34m:\u001b[0m\u001b[0;34m\u001b[0m\u001b[0;34m\u001b[0m\u001b[0m\n\u001b[0;32m--> 147\u001b[0;31m         \u001b[0mself\u001b[0m\u001b[0;34m.\u001b[0m\u001b[0mfit\u001b[0m\u001b[0;34m(\u001b[0m\u001b[0mx\u001b[0m\u001b[0;34m,\u001b[0m \u001b[0my\u001b[0m\u001b[0;34m,\u001b[0m \u001b[0muse_oof\u001b[0m\u001b[0;34m=\u001b[0m\u001b[0;32mTrue\u001b[0m\u001b[0;34m)\u001b[0m\u001b[0;34m\u001b[0m\u001b[0;34m\u001b[0m\u001b[0m\n\u001b[0m\u001b[1;32m    148\u001b[0m         \u001b[0mpredictions\u001b[0m \u001b[0;34m=\u001b[0m \u001b[0mnp\u001b[0m\u001b[0;34m.\u001b[0m\u001b[0mzeros\u001b[0m\u001b[0;34m(\u001b[0m\u001b[0;34m(\u001b[0m\u001b[0mx\u001b[0m\u001b[0;34m.\u001b[0m\u001b[0mshape\u001b[0m\u001b[0;34m[\u001b[0m\u001b[0;36m0\u001b[0m\u001b[0;34m]\u001b[0m\u001b[0;34m,\u001b[0m\u001b[0;34m)\u001b[0m\u001b[0;34m)\u001b[0m\u001b[0;34m\u001b[0m\u001b[0;34m\u001b[0m\u001b[0m\n\u001b[1;32m    149\u001b[0m         \u001b[0;32mfor\u001b[0m \u001b[0mi\u001b[0m\u001b[0;34m,\u001b[0m \u001b[0;34m(\u001b[0m\u001b[0mtrain_index\u001b[0m\u001b[0;34m,\u001b[0m \u001b[0mtest_index\u001b[0m\u001b[0;34m)\u001b[0m \u001b[0;32min\u001b[0m \u001b[0menumerate\u001b[0m\u001b[0;34m(\u001b[0m\u001b[0mself\u001b[0m\u001b[0;34m.\u001b[0m\u001b[0mindices\u001b[0m\u001b[0;34m)\u001b[0m\u001b[0;34m:\u001b[0m\u001b[0;34m\u001b[0m\u001b[0;34m\u001b[0m\u001b[0m\n",
      "\u001b[0;32m~/Apna_Assignment/src/ml_auto/custom_estimator.py\u001b[0m in \u001b[0;36mfit\u001b[0;34m(self, x, y, use_oof, n_jobs)\u001b[0m\n\u001b[1;32m     79\u001b[0m                 \u001b[0mmodel\u001b[0m\u001b[0;34m.\u001b[0m\u001b[0mn_jobs\u001b[0m \u001b[0;34m=\u001b[0m \u001b[0mn_jobs\u001b[0m\u001b[0;34m\u001b[0m\u001b[0;34m\u001b[0m\u001b[0m\n\u001b[1;32m     80\u001b[0m                 \u001b[0;32mif\u001b[0m \u001b[0;34m(\u001b[0m\u001b[0misinstance\u001b[0m\u001b[0;34m(\u001b[0m\u001b[0mmodel\u001b[0m\u001b[0;34m,\u001b[0m \u001b[0mLGBMRegressor\u001b[0m\u001b[0;34m)\u001b[0m \u001b[0;32mand\u001b[0m \u001b[0mself\u001b[0m\u001b[0;34m.\u001b[0m\u001b[0mearly_stopping_rounds\u001b[0m \u001b[0;32mis\u001b[0m \u001b[0;32mnot\u001b[0m \u001b[0;32mNone\u001b[0m\u001b[0;34m)\u001b[0m\u001b[0;34m:\u001b[0m\u001b[0;34m\u001b[0m\u001b[0;34m\u001b[0m\u001b[0m\n\u001b[0;32m---> 81\u001b[0;31m                     model.fit(X=x[train_index], y=y[train_index], eval_set=[(x[test_index],y[test_index]),(x[train_index],y[train_index])],\n\u001b[0m\u001b[1;32m     82\u001b[0m                         verbose=100, eval_metric='rmse', early_stopping_rounds=self.early_stopping_rounds)\n\u001b[1;32m     83\u001b[0m                 \u001b[0;32melif\u001b[0m \u001b[0;34m(\u001b[0m\u001b[0misinstance\u001b[0m\u001b[0;34m(\u001b[0m\u001b[0mmodel\u001b[0m\u001b[0;34m,\u001b[0m \u001b[0mXGBClassifier\u001b[0m\u001b[0;34m)\u001b[0m \u001b[0;32mand\u001b[0m \u001b[0mself\u001b[0m\u001b[0;34m.\u001b[0m\u001b[0mearly_stopping_rounds\u001b[0m \u001b[0;32mis\u001b[0m \u001b[0;32mnot\u001b[0m \u001b[0;32mNone\u001b[0m\u001b[0;34m)\u001b[0m\u001b[0;34m:\u001b[0m\u001b[0;34m\u001b[0m\u001b[0;34m\u001b[0m\u001b[0m\n",
      "\u001b[0;32m~/anaconda3/lib/python3.9/site-packages/lightgbm/sklearn.py\u001b[0m in \u001b[0;36mfit\u001b[0;34m(self, X, y, sample_weight, init_score, eval_set, eval_names, eval_sample_weight, eval_init_score, eval_metric, early_stopping_rounds, verbose, feature_name, categorical_feature, callbacks, init_model)\u001b[0m\n\u001b[1;32m    893\u001b[0m             callbacks=None, init_model=None):\n\u001b[1;32m    894\u001b[0m         \u001b[0;34m\"\"\"Docstring is inherited from the LGBMModel.\"\"\"\u001b[0m\u001b[0;34m\u001b[0m\u001b[0;34m\u001b[0m\u001b[0m\n\u001b[0;32m--> 895\u001b[0;31m         super().fit(X, y, sample_weight=sample_weight, init_score=init_score,\n\u001b[0m\u001b[1;32m    896\u001b[0m                     \u001b[0meval_set\u001b[0m\u001b[0;34m=\u001b[0m\u001b[0meval_set\u001b[0m\u001b[0;34m,\u001b[0m \u001b[0meval_names\u001b[0m\u001b[0;34m=\u001b[0m\u001b[0meval_names\u001b[0m\u001b[0;34m,\u001b[0m \u001b[0meval_sample_weight\u001b[0m\u001b[0;34m=\u001b[0m\u001b[0meval_sample_weight\u001b[0m\u001b[0;34m,\u001b[0m\u001b[0;34m\u001b[0m\u001b[0;34m\u001b[0m\u001b[0m\n\u001b[1;32m    897\u001b[0m                     \u001b[0meval_init_score\u001b[0m\u001b[0;34m=\u001b[0m\u001b[0meval_init_score\u001b[0m\u001b[0;34m,\u001b[0m \u001b[0meval_metric\u001b[0m\u001b[0;34m=\u001b[0m\u001b[0meval_metric\u001b[0m\u001b[0;34m,\u001b[0m\u001b[0;34m\u001b[0m\u001b[0;34m\u001b[0m\u001b[0m\n",
      "\u001b[0;32m~/anaconda3/lib/python3.9/site-packages/lightgbm/sklearn.py\u001b[0m in \u001b[0;36mfit\u001b[0;34m(self, X, y, sample_weight, init_score, group, eval_set, eval_names, eval_sample_weight, eval_class_weight, eval_init_score, eval_group, eval_metric, early_stopping_rounds, verbose, feature_name, categorical_feature, callbacks, init_model)\u001b[0m\n\u001b[1;32m    746\u001b[0m         \u001b[0mcallbacks\u001b[0m\u001b[0;34m.\u001b[0m\u001b[0mappend\u001b[0m\u001b[0;34m(\u001b[0m\u001b[0mrecord_evaluation\u001b[0m\u001b[0;34m(\u001b[0m\u001b[0mevals_result\u001b[0m\u001b[0;34m)\u001b[0m\u001b[0;34m)\u001b[0m\u001b[0;34m\u001b[0m\u001b[0;34m\u001b[0m\u001b[0m\n\u001b[1;32m    747\u001b[0m \u001b[0;34m\u001b[0m\u001b[0m\n\u001b[0;32m--> 748\u001b[0;31m         self._Booster = train(\n\u001b[0m\u001b[1;32m    749\u001b[0m             \u001b[0mparams\u001b[0m\u001b[0;34m=\u001b[0m\u001b[0mparams\u001b[0m\u001b[0;34m,\u001b[0m\u001b[0;34m\u001b[0m\u001b[0;34m\u001b[0m\u001b[0m\n\u001b[1;32m    750\u001b[0m             \u001b[0mtrain_set\u001b[0m\u001b[0;34m=\u001b[0m\u001b[0mtrain_set\u001b[0m\u001b[0;34m,\u001b[0m\u001b[0;34m\u001b[0m\u001b[0;34m\u001b[0m\u001b[0m\n",
      "\u001b[0;32m~/anaconda3/lib/python3.9/site-packages/lightgbm/engine.py\u001b[0m in \u001b[0;36mtrain\u001b[0;34m(params, train_set, num_boost_round, valid_sets, valid_names, fobj, feval, init_model, feature_name, categorical_feature, early_stopping_rounds, evals_result, verbose_eval, learning_rates, keep_training_booster, callbacks)\u001b[0m\n\u001b[1;32m    290\u001b[0m                                     evaluation_result_list=None))\n\u001b[1;32m    291\u001b[0m \u001b[0;34m\u001b[0m\u001b[0m\n\u001b[0;32m--> 292\u001b[0;31m         \u001b[0mbooster\u001b[0m\u001b[0;34m.\u001b[0m\u001b[0mupdate\u001b[0m\u001b[0;34m(\u001b[0m\u001b[0mfobj\u001b[0m\u001b[0;34m=\u001b[0m\u001b[0mfobj\u001b[0m\u001b[0;34m)\u001b[0m\u001b[0;34m\u001b[0m\u001b[0;34m\u001b[0m\u001b[0m\n\u001b[0m\u001b[1;32m    293\u001b[0m \u001b[0;34m\u001b[0m\u001b[0m\n\u001b[1;32m    294\u001b[0m         \u001b[0mevaluation_result_list\u001b[0m \u001b[0;34m=\u001b[0m \u001b[0;34m[\u001b[0m\u001b[0;34m]\u001b[0m\u001b[0;34m\u001b[0m\u001b[0;34m\u001b[0m\u001b[0m\n",
      "\u001b[0;32m~/anaconda3/lib/python3.9/site-packages/lightgbm/basic.py\u001b[0m in \u001b[0;36mupdate\u001b[0;34m(self, train_set, fobj)\u001b[0m\n\u001b[1;32m   3019\u001b[0m             \u001b[0;32mif\u001b[0m \u001b[0mself\u001b[0m\u001b[0;34m.\u001b[0m\u001b[0m__set_objective_to_none\u001b[0m\u001b[0;34m:\u001b[0m\u001b[0;34m\u001b[0m\u001b[0;34m\u001b[0m\u001b[0m\n\u001b[1;32m   3020\u001b[0m                 \u001b[0;32mraise\u001b[0m \u001b[0mLightGBMError\u001b[0m\u001b[0;34m(\u001b[0m\u001b[0;34m'Cannot update due to null objective function.'\u001b[0m\u001b[0;34m)\u001b[0m\u001b[0;34m\u001b[0m\u001b[0;34m\u001b[0m\u001b[0m\n\u001b[0;32m-> 3021\u001b[0;31m             _safe_call(_LIB.LGBM_BoosterUpdateOneIter(\n\u001b[0m\u001b[1;32m   3022\u001b[0m                 \u001b[0mself\u001b[0m\u001b[0;34m.\u001b[0m\u001b[0mhandle\u001b[0m\u001b[0;34m,\u001b[0m\u001b[0;34m\u001b[0m\u001b[0;34m\u001b[0m\u001b[0m\n\u001b[1;32m   3023\u001b[0m                 ctypes.byref(is_finished)))\n",
      "\u001b[0;31mKeyboardInterrupt\u001b[0m: "
     ]
    }
   ],
   "source": [
    "hyp.fit(df[use_cols].values,target)"
   ]
  },
  {
   "cell_type": "code",
   "execution_count": 34,
   "id": "783a001b",
   "metadata": {},
   "outputs": [],
   "source": [
    "params = {'boosting_type': 'gbdt',\n",
    " 'colsample_bytree': 0.8,\n",
    " 'learning_rate': 0.1,\n",
    " 'min_child_samples': 120,\n",
    " 'n_estimators': 10000,\n",
    " 'n_jobs': -1,\n",
    " 'num_leaves': 16,\n",
    " 'objective': 'regression',\n",
    " 'subsample': 0.8,\n",
    " 'subsample_freq': 10}"
   ]
  },
  {
   "cell_type": "code",
   "execution_count": 35,
   "id": "cdf595a2",
   "metadata": {},
   "outputs": [],
   "source": [
    "est = Estimator(model=LGBMRegressor(**params),\n",
    "               early_stopping_rounds=100,\n",
    "               validation_scheme=folds,\n",
    "               shuffle=True)"
   ]
  },
  {
   "cell_type": "code",
   "execution_count": 36,
   "id": "254b48a5",
   "metadata": {},
   "outputs": [
    {
     "name": "stdout",
     "output_type": "stream",
     "text": [
      "[100]\tvalid_0's rmse: 0.887463\tvalid_0's l2: 0.787591\tvalid_1's rmse: 0.825428\tvalid_1's l2: 0.681332\n",
      "[200]\tvalid_0's rmse: 0.885368\tvalid_0's l2: 0.783877\tvalid_1's rmse: 0.79482\tvalid_1's l2: 0.631739\n",
      "[100]\tvalid_0's rmse: 0.820393\tvalid_0's l2: 0.673045\tvalid_1's rmse: 0.829507\tvalid_1's l2: 0.688082\n",
      "[200]\tvalid_0's rmse: 0.811956\tvalid_0's l2: 0.659272\tvalid_1's rmse: 0.796531\tvalid_1's l2: 0.634462\n",
      "[300]\tvalid_0's rmse: 0.806785\tvalid_0's l2: 0.650902\tvalid_1's rmse: 0.775851\tvalid_1's l2: 0.601945\n",
      "[400]\tvalid_0's rmse: 0.811412\tvalid_0's l2: 0.658389\tvalid_1's rmse: 0.759897\tvalid_1's l2: 0.577444\n",
      "[100]\tvalid_0's rmse: 0.851669\tvalid_0's l2: 0.725341\tvalid_1's rmse: 0.821156\tvalid_1's l2: 0.674297\n",
      "[200]\tvalid_0's rmse: 0.84548\tvalid_0's l2: 0.714837\tvalid_1's rmse: 0.789253\tvalid_1's l2: 0.62292\n",
      "[300]\tvalid_0's rmse: 0.846345\tvalid_0's l2: 0.7163\tvalid_1's rmse: 0.770192\tvalid_1's l2: 0.593195\n"
     ]
    },
    {
     "data": {
      "text/plain": [
       "{'cv_scores': [0.8844605292813823, 0.8062414898240864, 0.8452273807822032],\n",
       " 'avg_cv_score': 0.8453097999625573,\n",
       " 'std_scores': 0.03193284232151878,\n",
       " 'overall_cv_score': 1.667842214568364,\n",
       " 'eval_score': 0.8453097999625573}"
      ]
     },
     "execution_count": 36,
     "metadata": {},
     "output_type": "execute_result"
    }
   ],
   "source": [
    "est.get_repeated_out_of_folds(df[use_cols].values,target)"
   ]
  }
 ],
 "metadata": {
  "kernelspec": {
   "display_name": "Python 3 (ipykernel)",
   "language": "python",
   "name": "python3"
  },
  "language_info": {
   "codemirror_mode": {
    "name": "ipython",
    "version": 3
   },
   "file_extension": ".py",
   "mimetype": "text/x-python",
   "name": "python",
   "nbconvert_exporter": "python",
   "pygments_lexer": "ipython3",
   "version": "3.9.7"
  }
 },
 "nbformat": 4,
 "nbformat_minor": 5
}
